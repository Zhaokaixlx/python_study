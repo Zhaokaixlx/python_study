{
 "cells": [
  {
   "cell_type": "markdown",
   "id": "5dce70dc",
   "metadata": {},
   "source": [
    "# 不同分类算法的差异"
   ]
  },
  {
   "cell_type": "code",
   "execution_count": 1,
   "id": "f88d4d4b",
   "metadata": {
    "ExecuteTime": {
     "end_time": "2022-05-01T04:00:04.924350Z",
     "start_time": "2022-05-01T04:00:04.811670Z"
    }
   },
   "outputs": [],
   "source": [
    "import numpy as np\n",
    "from sklearn.tree import DecisionTreeClassifier\n",
    "from sklearn.linear_model import LogisticRegression\n",
    "from sklearn.svm import SVC\n",
    "\n",
    "from sklearn import datasets"
   ]
  },
  {
   "cell_type": "markdown",
   "id": "e00cf76c",
   "metadata": {},
   "source": [
    "## 加载数据"
   ]
  },
  {
   "cell_type": "code",
   "execution_count": 2,
   "id": "cafae154",
   "metadata": {
    "ExecuteTime": {
     "end_time": "2022-05-01T04:00:27.211613Z",
     "start_time": "2022-05-01T04:00:27.186209Z"
    }
   },
   "outputs": [
    {
     "data": {
      "text/plain": [
       "{'data': array([[1.423e+01, 1.710e+00, 2.430e+00, ..., 1.040e+00, 3.920e+00,\n",
       "         1.065e+03],\n",
       "        [1.320e+01, 1.780e+00, 2.140e+00, ..., 1.050e+00, 3.400e+00,\n",
       "         1.050e+03],\n",
       "        [1.316e+01, 2.360e+00, 2.670e+00, ..., 1.030e+00, 3.170e+00,\n",
       "         1.185e+03],\n",
       "        ...,\n",
       "        [1.327e+01, 4.280e+00, 2.260e+00, ..., 5.900e-01, 1.560e+00,\n",
       "         8.350e+02],\n",
       "        [1.317e+01, 2.590e+00, 2.370e+00, ..., 6.000e-01, 1.620e+00,\n",
       "         8.400e+02],\n",
       "        [1.413e+01, 4.100e+00, 2.740e+00, ..., 6.100e-01, 1.600e+00,\n",
       "         5.600e+02]]),\n",
       " 'target': array([0, 0, 0, 0, 0, 0, 0, 0, 0, 0, 0, 0, 0, 0, 0, 0, 0, 0, 0, 0, 0, 0,\n",
       "        0, 0, 0, 0, 0, 0, 0, 0, 0, 0, 0, 0, 0, 0, 0, 0, 0, 0, 0, 0, 0, 0,\n",
       "        0, 0, 0, 0, 0, 0, 0, 0, 0, 0, 0, 0, 0, 0, 0, 1, 1, 1, 1, 1, 1, 1,\n",
       "        1, 1, 1, 1, 1, 1, 1, 1, 1, 1, 1, 1, 1, 1, 1, 1, 1, 1, 1, 1, 1, 1,\n",
       "        1, 1, 1, 1, 1, 1, 1, 1, 1, 1, 1, 1, 1, 1, 1, 1, 1, 1, 1, 1, 1, 1,\n",
       "        1, 1, 1, 1, 1, 1, 1, 1, 1, 1, 1, 1, 1, 1, 1, 1, 1, 1, 1, 1, 2, 2,\n",
       "        2, 2, 2, 2, 2, 2, 2, 2, 2, 2, 2, 2, 2, 2, 2, 2, 2, 2, 2, 2, 2, 2,\n",
       "        2, 2, 2, 2, 2, 2, 2, 2, 2, 2, 2, 2, 2, 2, 2, 2, 2, 2, 2, 2, 2, 2,\n",
       "        2, 2]),\n",
       " 'frame': None,\n",
       " 'target_names': array(['class_0', 'class_1', 'class_2'], dtype='<U7'),\n",
       " 'DESCR': '.. _wine_dataset:\\n\\nWine recognition dataset\\n------------------------\\n\\n**Data Set Characteristics:**\\n\\n    :Number of Instances: 178 (50 in each of three classes)\\n    :Number of Attributes: 13 numeric, predictive attributes and the class\\n    :Attribute Information:\\n \\t\\t- Alcohol\\n \\t\\t- Malic acid\\n \\t\\t- Ash\\n\\t\\t- Alcalinity of ash  \\n \\t\\t- Magnesium\\n\\t\\t- Total phenols\\n \\t\\t- Flavanoids\\n \\t\\t- Nonflavanoid phenols\\n \\t\\t- Proanthocyanins\\n\\t\\t- Color intensity\\n \\t\\t- Hue\\n \\t\\t- OD280/OD315 of diluted wines\\n \\t\\t- Proline\\n\\n    - class:\\n            - class_0\\n            - class_1\\n            - class_2\\n\\t\\t\\n    :Summary Statistics:\\n    \\n    ============================= ==== ===== ======= =====\\n                                   Min   Max   Mean     SD\\n    ============================= ==== ===== ======= =====\\n    Alcohol:                      11.0  14.8    13.0   0.8\\n    Malic Acid:                   0.74  5.80    2.34  1.12\\n    Ash:                          1.36  3.23    2.36  0.27\\n    Alcalinity of Ash:            10.6  30.0    19.5   3.3\\n    Magnesium:                    70.0 162.0    99.7  14.3\\n    Total Phenols:                0.98  3.88    2.29  0.63\\n    Flavanoids:                   0.34  5.08    2.03  1.00\\n    Nonflavanoid Phenols:         0.13  0.66    0.36  0.12\\n    Proanthocyanins:              0.41  3.58    1.59  0.57\\n    Colour Intensity:              1.3  13.0     5.1   2.3\\n    Hue:                          0.48  1.71    0.96  0.23\\n    OD280/OD315 of diluted wines: 1.27  4.00    2.61  0.71\\n    Proline:                       278  1680     746   315\\n    ============================= ==== ===== ======= =====\\n\\n    :Missing Attribute Values: None\\n    :Class Distribution: class_0 (59), class_1 (71), class_2 (48)\\n    :Creator: R.A. Fisher\\n    :Donor: Michael Marshall (MARSHALL%PLU@io.arc.nasa.gov)\\n    :Date: July, 1988\\n\\nThis is a copy of UCI ML Wine recognition datasets.\\nhttps://archive.ics.uci.edu/ml/machine-learning-databases/wine/wine.data\\n\\nThe data is the results of a chemical analysis of wines grown in the same\\nregion in Italy by three different cultivators. There are thirteen different\\nmeasurements taken for different constituents found in the three types of\\nwine.\\n\\nOriginal Owners: \\n\\nForina, M. et al, PARVUS - \\nAn Extendible Package for Data Exploration, Classification and Correlation. \\nInstitute of Pharmaceutical and Food Analysis and Technologies,\\nVia Brigata Salerno, 16147 Genoa, Italy.\\n\\nCitation:\\n\\nLichman, M. (2013). UCI Machine Learning Repository\\n[https://archive.ics.uci.edu/ml]. Irvine, CA: University of California,\\nSchool of Information and Computer Science. \\n\\n.. topic:: References\\n\\n  (1) S. Aeberhard, D. Coomans and O. de Vel, \\n  Comparison of Classifiers in High Dimensional Settings, \\n  Tech. Rep. no. 92-02, (1992), Dept. of Computer Science and Dept. of  \\n  Mathematics and Statistics, James Cook University of North Queensland. \\n  (Also submitted to Technometrics). \\n\\n  The data was used with many others for comparing various \\n  classifiers. The classes are separable, though only RDA \\n  has achieved 100% correct classification. \\n  (RDA : 100%, QDA 99.4%, LDA 98.9%, 1NN 96.1% (z-transformed data)) \\n  (All results using the leave-one-out technique) \\n\\n  (2) S. Aeberhard, D. Coomans and O. de Vel, \\n  \"THE CLASSIFICATION PERFORMANCE OF RDA\" \\n  Tech. Rep. no. 92-01, (1992), Dept. of Computer Science and Dept. of \\n  Mathematics and Statistics, James Cook University of North Queensland. \\n  (Also submitted to Journal of Chemometrics).\\n',\n",
       " 'feature_names': ['alcohol',\n",
       "  'malic_acid',\n",
       "  'ash',\n",
       "  'alcalinity_of_ash',\n",
       "  'magnesium',\n",
       "  'total_phenols',\n",
       "  'flavanoids',\n",
       "  'nonflavanoid_phenols',\n",
       "  'proanthocyanins',\n",
       "  'color_intensity',\n",
       "  'hue',\n",
       "  'od280/od315_of_diluted_wines',\n",
       "  'proline']}"
      ]
     },
     "execution_count": 2,
     "metadata": {},
     "output_type": "execute_result"
    }
   ],
   "source": [
    "wine =datasets.load_wine()\n",
    "wine"
   ]
  },
  {
   "cell_type": "code",
   "execution_count": 3,
   "id": "ff6f61bd",
   "metadata": {
    "ExecuteTime": {
     "end_time": "2022-05-01T04:00:50.256454Z",
     "start_time": "2022-05-01T04:00:50.248324Z"
    }
   },
   "outputs": [],
   "source": [
    "from sklearn.model_selection import train_test_split\n",
    "X = wine['data']\n",
    "y = wine['target']"
   ]
  },
  {
   "cell_type": "code",
   "execution_count": 4,
   "id": "161a190b",
   "metadata": {
    "ExecuteTime": {
     "end_time": "2022-05-01T04:01:04.958754Z",
     "start_time": "2022-05-01T04:01:04.944634Z"
    }
   },
   "outputs": [
    {
     "data": {
      "text/plain": [
       "array([[1.423e+01, 1.710e+00, 2.430e+00, ..., 1.040e+00, 3.920e+00,\n",
       "        1.065e+03],\n",
       "       [1.320e+01, 1.780e+00, 2.140e+00, ..., 1.050e+00, 3.400e+00,\n",
       "        1.050e+03],\n",
       "       [1.316e+01, 2.360e+00, 2.670e+00, ..., 1.030e+00, 3.170e+00,\n",
       "        1.185e+03],\n",
       "       ...,\n",
       "       [1.327e+01, 4.280e+00, 2.260e+00, ..., 5.900e-01, 1.560e+00,\n",
       "        8.350e+02],\n",
       "       [1.317e+01, 2.590e+00, 2.370e+00, ..., 6.000e-01, 1.620e+00,\n",
       "        8.400e+02],\n",
       "       [1.413e+01, 4.100e+00, 2.740e+00, ..., 6.100e-01, 1.600e+00,\n",
       "        5.600e+02]])"
      ]
     },
     "execution_count": 4,
     "metadata": {},
     "output_type": "execute_result"
    }
   ],
   "source": [
    "X"
   ]
  },
  {
   "cell_type": "markdown",
   "id": "1e4615dd",
   "metadata": {},
   "source": [
    "## 归一化处理"
   ]
  },
  {
   "cell_type": "code",
   "execution_count": 5,
   "id": "a5966cf1",
   "metadata": {
    "ExecuteTime": {
     "end_time": "2022-05-01T04:01:43.337421Z",
     "start_time": "2022-05-01T04:01:43.325002Z"
    }
   },
   "outputs": [
    {
     "data": {
      "text/plain": [
       "array([[ 1.51861254, -0.5622498 ,  0.23205254, ...,  0.36217728,\n",
       "         1.84791957,  1.01300893],\n",
       "       [ 0.24628963, -0.49941338, -0.82799632, ...,  0.40605066,\n",
       "         1.1134493 ,  0.96524152],\n",
       "       [ 0.19687903,  0.02123125,  1.10933436, ...,  0.31830389,\n",
       "         0.78858745,  1.39514818],\n",
       "       ...,\n",
       "       [ 0.33275817,  1.74474449, -0.38935541, ..., -1.61212515,\n",
       "        -1.48544548,  0.28057537],\n",
       "       [ 0.20923168,  0.22769377,  0.01273209, ..., -1.56825176,\n",
       "        -1.40069891,  0.29649784],\n",
       "       [ 1.39508604,  1.58316512,  1.36520822, ..., -1.52437837,\n",
       "        -1.42894777, -0.59516041]])"
      ]
     },
     "execution_count": 5,
     "metadata": {},
     "output_type": "execute_result"
    }
   ],
   "source": [
    "from sklearn.preprocessing import StandardScaler\n",
    "np.set_printoptions(suppress=True)\n",
    "\n",
    "standard = StandardScaler()\n",
    "X = standard.fit_transform(X)\n",
    "X"
   ]
  },
  {
   "cell_type": "markdown",
   "id": "a64df634",
   "metadata": {},
   "source": [
    "## LR逻辑斯蒂回归模型应用"
   ]
  },
  {
   "cell_type": "code",
   "execution_count": 6,
   "id": "619bf3aa",
   "metadata": {
    "ExecuteTime": {
     "end_time": "2022-05-01T04:02:20.856051Z",
     "start_time": "2022-05-01T04:02:20.841757Z"
    }
   },
   "outputs": [],
   "source": [
    "import warnings\n",
    "warnings.filterwarnings('ignore')"
   ]
  },
  {
   "cell_type": "code",
   "execution_count": 7,
   "id": "90aa056a",
   "metadata": {
    "ExecuteTime": {
     "end_time": "2022-05-01T04:02:30.249955Z",
     "start_time": "2022-05-01T04:02:29.782719Z"
    }
   },
   "outputs": [
    {
     "name": "stdout",
     "output_type": "stream",
     "text": [
      "LR逻辑回归算法多次运算平均得分是： 0.9830555555555557\n",
      "CPU times: user 454 ms, sys: 7.49 ms, total: 461 ms\n",
      "Wall time: 462 ms\n"
     ]
    }
   ],
   "source": [
    "%%time\n",
    "score = 0\n",
    "for i in range(100):\n",
    "    X_train,X_test,y_train,y_test = train_test_split(X,y,test_size=0.2)\n",
    "    lr = LogisticRegression()\n",
    "    lr.fit(X_train,y_train)\n",
    "    s = lr.score(X_test,y_test)\n",
    "    score += s/100\n",
    "print('LR逻辑回归算法多次运算平均得分是：',score)"
   ]
  },
  {
   "cell_type": "markdown",
   "id": "b9cb1e15",
   "metadata": {},
   "source": [
    "## SVC支持向量机模型应用"
   ]
  },
  {
   "cell_type": "code",
   "execution_count": 8,
   "id": "b02c9510",
   "metadata": {
    "ExecuteTime": {
     "end_time": "2022-05-01T04:03:47.020267Z",
     "start_time": "2022-05-01T04:03:45.749688Z"
    }
   },
   "outputs": [
    {
     "name": "stdout",
     "output_type": "stream",
     "text": [
      "SVC支持向量机多次运算平均得分是： 0.9822500000000058\n",
      "CPU times: user 1.26 s, sys: 10 ms, total: 1.27 s\n",
      "Wall time: 1.26 s\n"
     ]
    }
   ],
   "source": [
    "%%time\n",
    "score = 0\n",
    "for i in range(1000):\n",
    "    X_train,X_test,y_train,y_test = train_test_split(X,y,test_size=0.2)\n",
    "    model = SVC()\n",
    "    model.fit(X_train,y_train)\n",
    "    s = model.score(X_test,y_test)\n",
    "    score += s/1000\n",
    "print('SVC支持向量机多次运算平均得分是：',score)"
   ]
  },
  {
   "cell_type": "markdown",
   "id": "6c55f30d",
   "metadata": {},
   "source": [
    "## 决策树模型应用"
   ]
  },
  {
   "cell_type": "code",
   "execution_count": 9,
   "id": "e631e17f",
   "metadata": {
    "ExecuteTime": {
     "end_time": "2022-05-01T04:04:26.918605Z",
     "start_time": "2022-05-01T04:04:26.282196Z"
    }
   },
   "outputs": [
    {
     "name": "stdout",
     "output_type": "stream",
     "text": [
      "决策树多次运算平均得分是： 0.908500000000005\n",
      "CPU times: user 623 ms, sys: 6.81 ms, total: 630 ms\n",
      "Wall time: 628 ms\n"
     ]
    }
   ],
   "source": [
    "%%time\n",
    "score = 0\n",
    "for i in range(1000):\n",
    "    X_train,X_test,y_train,y_test = train_test_split(X,y,test_size=0.2)\n",
    "    model = DecisionTreeClassifier()\n",
    "    model.fit(X_train,y_train)\n",
    "    s = model.score(X_test,y_test)\n",
    "    score += s/1000\n",
    "print('决策树多次运算平均得分是：',score)"
   ]
  },
  {
   "cell_type": "markdown",
   "id": "ffe36044",
   "metadata": {},
   "source": [
    "## 不同算法总结对比"
   ]
  },
  {
   "cell_type": "markdown",
   "id": "987fd021",
   "metadata": {},
   "source": [
    "决策树对数据是否归一化不敏感\n",
    "\n",
    "逻辑回归，如果不进行归一化，准确率降低，运行时间会增加\n",
    "\n",
    "SVC支持向量机，如果不进行归一化，准确率，大大降低"
   ]
  },
  {
   "cell_type": "markdown",
   "id": "a701be2a",
   "metadata": {},
   "source": [
    "# 决策回归树示例"
   ]
  },
  {
   "cell_type": "code",
   "execution_count": 10,
   "id": "8e79a0b0",
   "metadata": {
    "ExecuteTime": {
     "end_time": "2022-05-01T04:05:54.966310Z",
     "start_time": "2022-05-01T04:05:54.735449Z"
    }
   },
   "outputs": [],
   "source": [
    "from sklearn.tree import DecisionTreeRegressor\n",
    "from sklearn import tree\n",
    "import numpy as np\n",
    "import matplotlib.pyplot as plt"
   ]
  },
  {
   "cell_type": "markdown",
   "id": "8f9c3d89",
   "metadata": {},
   "source": [
    "## 创建数据"
   ]
  },
  {
   "cell_type": "code",
   "execution_count": 11,
   "id": "368285b6",
   "metadata": {
    "ExecuteTime": {
     "end_time": "2022-05-01T04:06:23.095516Z",
     "start_time": "2022-05-01T04:06:22.993838Z"
    }
   },
   "outputs": [
    {
     "data": {
      "text/plain": [
       "<matplotlib.collections.PathCollection at 0x7ff5414b1fa0>"
      ]
     },
     "execution_count": 11,
     "metadata": {},
     "output_type": "execute_result"
    },
    {
     "data": {
      "image/png": "[encoded data removed]",
      "text/plain": [
       "<Figure size 288x288 with 1 Axes>"
      ]
     },
     "metadata": {
      "needs_background": "light"
     },
     "output_type": "display_data"
    }
   ],
   "source": [
    "X_train = np.linspace(0,2 * np.pi, 40).reshape(-1,1) # 训练数据就是符合要求的二维数据\n",
    "# 二维：[[样本一],[样本二],[样本三],……] 多个样本，每个样本，包含多个属性\n",
    "\n",
    "# shape = (40,2)\n",
    "# 形状：圆\n",
    "y_train = np.concatenate([np.sin(X_train),np.cos(X_train)],axis = 1)\n",
    "\n",
    "plt.figure(figsize=(4,4))\n",
    "plt.scatter(y_train[:,0],y_train[:,1])"
   ]
  },
  {
   "cell_type": "code",
   "execution_count": 12,
   "id": "2fc0e3bf",
   "metadata": {
    "ExecuteTime": {
     "end_time": "2022-05-01T04:06:46.244320Z",
     "start_time": "2022-05-01T04:06:46.234254Z"
    }
   },
   "outputs": [],
   "source": [
    "X_test = np.linspace(0,2 * np.pi, 256).reshape(-1,1)"
   ]
  },
  {
   "cell_type": "markdown",
   "id": "bdc79239",
   "metadata": {},
   "source": [
    "## 首先使用线性回归"
   ]
  },
  {
   "cell_type": "code",
   "execution_count": 13,
   "id": "010de11a",
   "metadata": {
    "ExecuteTime": {
     "end_time": "2022-05-01T04:07:17.880076Z",
     "start_time": "2022-05-01T04:07:17.786158Z"
    }
   },
   "outputs": [
    {
     "data": {
      "text/plain": [
       "(256, 2)"
      ]
     },
     "metadata": {},
     "output_type": "display_data"
    },
    {
     "data": {
      "text/plain": [
       "<matplotlib.collections.PathCollection at 0x7ff5416743d0>"
      ]
     },
     "execution_count": 13,
     "metadata": {},
     "output_type": "execute_result"
    },
    {
     "data": {
      "image/png": "[encoded data removed]",
      "text/plain": [
       "<Figure size 432x288 with 1 Axes>"
      ]
     },
     "metadata": {
      "needs_background": "light"
     },
     "output_type": "display_data"
    }
   ],
   "source": [
    "from sklearn.linear_model import LinearRegression\n",
    "\n",
    "model = LinearRegression()\n",
    "model.fit(X_train,y_train) # 建模\n",
    "\n",
    "# y_pred.shape = ?\n",
    "y_pred = model.predict(X_test) # 预测\n",
    "display(y_pred.shape)\n",
    "\n",
    "# 如果线性模型预测效果很好，绘制了测试数据，应该是：标准圆\n",
    "plt.scatter(y_pred[:,0],y_pred[:,1])"
   ]
  },
  {
   "cell_type": "markdown",
   "id": "21353e1f",
   "metadata": {},
   "source": [
    "## SVR支持向量机"
   ]
  },
  {
   "cell_type": "code",
   "execution_count": null,
   "id": "031722e7",
   "metadata": {},
   "outputs": [],
   "source": [
    "from sklearn.svm import SVR\n",
    "\n",
    "model = SVR(kernel='poly')\n",
    "model.fit(X_train,y_train) # 建模\n",
    "\n",
    "# y_pred.shape = ?\n",
    "y_pred = model.predict(X_test) # 预测\n",
    "display(y_pred.shape)\n",
    "\n",
    "# 如果线性模型预测效果很好，绘制了测试数据，应该是：标准圆\n",
    "plt.scatter(y_pred[:,0],y_pred[:,1])"
   ]
  },
  {
   "cell_type": "markdown",
   "id": "140fda9f",
   "metadata": {},
   "source": [
    "## 决策树算法"
   ]
  },
  {
   "cell_type": "markdown",
   "id": "8ae839dd",
   "metadata": {},
   "source": [
    "决策树深度是3"
   ]
  },
  {
   "cell_type": "code",
   "execution_count": 19,
   "id": "496e99b4",
   "metadata": {
    "ExecuteTime": {
     "end_time": "2022-05-01T04:12:19.948330Z",
     "start_time": "2022-05-01T04:12:19.852986Z"
    }
   },
   "outputs": [
    {
     "data": {
      "text/plain": [
       "(256, 2)"
      ]
     },
     "metadata": {},
     "output_type": "display_data"
    },
    {
     "data": {
      "image/png": "[encoded data removed]",
      "text/plain": [
       "<Figure size 432x288 with 1 Axes>"
      ]
     },
     "metadata": {
      "needs_background": "light"
     },
     "output_type": "display_data"
    }
   ],
   "source": [
    "model = DecisionTreeRegressor(max_depth=3)\n",
    "model.fit(X_train,y_train) # 建模\n",
    "\n",
    "# y_pred.shape = ?\n",
    "y_pred = model.predict(X_test) # 预测\n",
    "display(y_pred.shape)\n",
    "\n",
    "# 如果线性模型预测效果很好，绘制了测试数据，应该是：标准圆\n",
    "plt.scatter(y_pred[:,0],y_pred[:,1])\n",
    "_ = plt.axis('equal') # axis轴，equal 相等（横纵坐标刻度值相等）"
   ]
  },
  {
   "cell_type": "code",
   "execution_count": 20,
   "id": "3ba0f133",
   "metadata": {
    "ExecuteTime": {
     "end_time": "2022-05-01T04:12:23.039531Z",
     "start_time": "2022-05-01T04:12:22.614185Z"
    }
   },
   "outputs": [
    {
     "data": {
      "image/png": "[encoded data removed]",
      "text/plain": [
       "<Figure size 1440x1440 with 1 Axes>"
      ]
     },
     "metadata": {
      "needs_background": "light"
     },
     "output_type": "display_data"
    }
   ],
   "source": [
    "from sklearn import tree\n",
    "import matplotlib.pyplot as plt\n",
    "\n",
    "plt.rcParams['font.family'] = 'Songti SC'\n",
    "plt.figure(figsize=(20,20))\n",
    "\n",
    "_ = tree.plot_tree(model,filled=True)"
   ]
  },
  {
   "cell_type": "markdown",
   "id": "100ba28a",
   "metadata": {},
   "source": [
    "决策树深度是4"
   ]
  },
  {
   "cell_type": "code",
   "execution_count": 21,
   "id": "ca75991b",
   "metadata": {
    "ExecuteTime": {
     "end_time": "2022-05-01T04:12:38.220609Z",
     "start_time": "2022-05-01T04:12:38.126299Z"
    }
   },
   "outputs": [
    {
     "data": {
      "text/plain": [
       "(256, 2)"
      ]
     },
     "metadata": {},
     "output_type": "display_data"
    },
    {
     "data": {
      "image/png": "[encoded data removed]",
      "text/plain": [
       "<Figure size 432x288 with 1 Axes>"
      ]
     },
     "metadata": {
      "needs_background": "light"
     },
     "output_type": "display_data"
    }
   ],
   "source": [
    "model = DecisionTreeRegressor(max_depth=4)\n",
    "model.fit(X_train,y_train) # 建模\n",
    "# y_pred.shape = ?\n",
    "y_pred = model.predict(X_test) # 预测\n",
    "display(y_pred.shape)\n",
    "# 如果线性模型预测效果很好，绘制了测试数据，应该是：标准圆\n",
    "plt.scatter(y_pred[:,0],y_pred[:,1])\n",
    "_ = plt.axis('equal') # axis轴，equal 相等（横纵坐标刻度值相等）"
   ]
  },
  {
   "cell_type": "code",
   "execution_count": 22,
   "id": "7160d9b8",
   "metadata": {
    "ExecuteTime": {
     "end_time": "2022-05-01T04:12:41.919745Z",
     "start_time": "2022-05-01T04:12:41.164610Z"
    }
   },
   "outputs": [
    {
     "data": {
      "image/png": "[encoded data removed]",
      "text/plain": [
       "<Figure size 1440x1440 with 1 Axes>"
      ]
     },
     "metadata": {
      "needs_background": "light"
     },
     "output_type": "display_data"
    }
   ],
   "source": [
    "from sklearn import tree\n",
    "import matplotlib.pyplot as plt\n",
    "\n",
    "plt.rcParams['font.family'] = 'Songti SC'\n",
    "plt.figure(figsize=(20,20))\n",
    "\n",
    "_ = tree.plot_tree(model,filled=True)"
   ]
  },
  {
   "cell_type": "markdown",
   "id": "9c0c495c",
   "metadata": {},
   "source": [
    "## 不进行剪枝操作，默认展开"
   ]
  },
  {
   "cell_type": "code",
   "execution_count": 23,
   "id": "cf5c080d",
   "metadata": {
    "ExecuteTime": {
     "end_time": "2022-05-01T04:13:38.718141Z",
     "start_time": "2022-05-01T04:13:38.621383Z"
    }
   },
   "outputs": [
    {
     "data": {
      "text/plain": [
       "(256, 2)"
      ]
     },
     "metadata": {},
     "output_type": "display_data"
    },
    {
     "data": {
      "image/png": "[encoded data removed]",
      "text/plain": [
       "<Figure size 432x288 with 1 Axes>"
      ]
     },
     "metadata": {
      "needs_background": "light"
     },
     "output_type": "display_data"
    }
   ],
   "source": [
    "model = DecisionTreeRegressor(max_depth=None)\n",
    "model.fit(X_train,y_train) # 建模\n",
    "# y_pred.shape = ?\n",
    "y_pred = model.predict(X_test) # 预测\n",
    "display(y_pred.shape)\n",
    "# 如果线性模型预测效果很好，绘制了测试数据，应该是：标准圆\n",
    "plt.scatter(y_pred[:,0],y_pred[:,1])\n",
    "_ = plt.axis('equal') # axis轴，equal 相等（横纵坐标刻度值相等）"
   ]
  },
  {
   "cell_type": "code",
   "execution_count": 24,
   "id": "7122b075",
   "metadata": {
    "ExecuteTime": {
     "end_time": "2022-05-01T04:13:51.570342Z",
     "start_time": "2022-05-01T04:13:51.558252Z"
    }
   },
   "outputs": [
    {
     "data": {
      "text/plain": [
       "6"
      ]
     },
     "execution_count": 24,
     "metadata": {},
     "output_type": "execute_result"
    }
   ],
   "source": [
    "model.get_depth()"
   ]
  },
  {
   "cell_type": "code",
   "execution_count": 25,
   "id": "380408fe",
   "metadata": {
    "ExecuteTime": {
     "end_time": "2022-05-01T04:14:04.219743Z",
     "start_time": "2022-05-01T04:14:04.207574Z"
    }
   },
   "outputs": [
    {
     "data": {
      "text/plain": [
       "(40, 1)"
      ]
     },
     "execution_count": 25,
     "metadata": {},
     "output_type": "execute_result"
    }
   ],
   "source": [
    "X_train.shape"
   ]
  },
  {
   "cell_type": "code",
   "execution_count": 26,
   "id": "9caf19af",
   "metadata": {
    "ExecuteTime": {
     "end_time": "2022-05-01T04:14:12.739522Z",
     "start_time": "2022-05-01T04:14:12.724848Z"
    }
   },
   "outputs": [
    {
     "data": {
      "text/plain": [
       "1.0"
      ]
     },
     "execution_count": 26,
     "metadata": {},
     "output_type": "execute_result"
    }
   ],
   "source": [
    "# 训练数据，分纯了\n",
    "model.score(X_train,y_train)"
   ]
  },
  {
   "cell_type": "markdown",
   "id": "6b81285e",
   "metadata": {},
   "source": [
    "# 决策回归树原理"
   ]
  },
  {
   "cell_type": "markdown",
   "id": "00ccfabb",
   "metadata": {},
   "source": [
    "MSE(𝑦,𝑦̂)=1𝑛samples∑𝑖=0𝑛samples−1(𝑦𝑖−𝑦̂𝑖)2"
   ]
  },
  {
   "cell_type": "markdown",
   "id": "79aa729e",
   "metadata": {},
   "source": [
    "## 未裂分时mse"
   ]
  },
  {
   "cell_type": "code",
   "execution_count": 27,
   "id": "c473c095",
   "metadata": {
    "ExecuteTime": {
     "end_time": "2022-05-01T04:15:29.597592Z",
     "start_time": "2022-05-01T04:15:29.589267Z"
    }
   },
   "outputs": [
    {
     "data": {
      "text/plain": [
       "0.4996875"
      ]
     },
     "execution_count": 27,
     "metadata": {},
     "output_type": "execute_result"
    }
   ],
   "source": [
    "# 注意：y_train两个列数据，进行除法操作时\n",
    "((y_train - y_train.mean(axis = 0))**2).sum()/(40 * 2)"
   ]
  },
  {
   "cell_type": "code",
   "execution_count": 28,
   "id": "93df3a35",
   "metadata": {
    "ExecuteTime": {
     "end_time": "2022-05-01T04:15:44.589437Z",
     "start_time": "2022-05-01T04:15:44.576193Z"
    }
   },
   "outputs": [
    {
     "data": {
      "text/plain": [
       "0.5"
      ]
     },
     "execution_count": 28,
     "metadata": {},
     "output_type": "execute_result"
    }
   ],
   "source": [
    "np.round(((y_train - y_train.mean(axis = 0))**2).mean(),1)"
   ]
  },
  {
   "cell_type": "markdown",
   "id": "c1daa967",
   "metadata": {},
   "source": [
    "## 根节点裂分计算"
   ]
  },
  {
   "cell_type": "code",
   "execution_count": 29,
   "id": "7e30d019",
   "metadata": {
    "ExecuteTime": {
     "end_time": "2022-05-01T04:16:15.045786Z",
     "start_time": "2022-05-01T04:16:15.034403Z"
    }
   },
   "outputs": [
    {
     "name": "stdout",
     "output_type": "stream",
     "text": [
      "左侧分mse： 0.8630226070643552\n",
      "右侧分mse： 0.8630226070643554\n"
     ]
    }
   ],
   "source": [
    "cond = X_train[:,0] <= 3.142\n",
    "\n",
    "X_left = X_train.reshape(-1)[cond]\n",
    "X_right = X_train[:,0][~cond] # 取反操作\n",
    "\n",
    "print('左侧分mse：',((X_left - X_left.mean(axis = 0))**2).mean())\n",
    "\n",
    "print('右侧分mse：',((X_right - X_right.mean(axis = 0))**2).mean())"
   ]
  },
  {
   "cell_type": "code",
   "execution_count": 30,
   "id": "4b78758d",
   "metadata": {
    "ExecuteTime": {
     "end_time": "2022-05-01T04:16:32.989985Z",
     "start_time": "2022-05-01T04:16:32.976033Z"
    }
   },
   "outputs": [
    {
     "name": "stdout",
     "output_type": "stream",
     "text": [
      "左侧mse： 0.3072588991283228\n",
      "右侧mse： 0.3072588991283228\n"
     ]
    }
   ],
   "source": [
    "cond = X_train <= 3.142\n",
    "y_left = y_train[cond.reshape(-1)]\n",
    "\n",
    "y_right = y_train[(~cond).ravel()]\n",
    "\n",
    "print('左侧mse：',((y_left - y_left.mean(axis = 0))**2).mean())\n",
    "print('右侧mse：',((y_right - y_right.mean(axis = 0))**2).mean())"
   ]
  },
  {
   "cell_type": "markdown",
   "id": "9d6da621",
   "metadata": {},
   "source": [
    "## 最佳裂分条件如何计算"
   ]
  },
  {
   "cell_type": "code",
   "execution_count": 31,
   "id": "64fbf254",
   "metadata": {
    "ExecuteTime": {
     "end_time": "2022-05-01T04:17:38.799942Z",
     "start_time": "2022-05-01T04:17:38.777452Z"
    }
   },
   "outputs": [
    {
     "name": "stdout",
     "output_type": "stream",
     "text": [
      "最佳的分裂条件是： {3.142: 0.3072588991283228}\n"
     ]
    }
   ],
   "source": [
    "# 最佳裂分条件是：X[0] < 3.142\n",
    "# 初始值，用于记录\n",
    "lower_mse = 1 # 知道最开始，mse = 0.5\n",
    "\n",
    "best_split = {}\n",
    "for i in range(len(X_train) -1):\n",
    "    split = X_train[i: i +2].mean()\n",
    "    \n",
    "    cond = X_train <= split\n",
    "    # 根据条件，得到左侧和右侧数据划分\n",
    "    y_left = y_train[cond.reshape(-1)]\n",
    "    y_right = y_train[(~cond).ravel()] # 平铺，一维\n",
    "    \n",
    "    mse_left = ((y_left - y_left.mean(axis = 0))**2).mean()\n",
    "    mse_right = ((y_right - y_right.mean(axis = 0))**2).mean()\n",
    "    \n",
    "    # 计算划分整体的 mse\n",
    "    mse_p_left = cond.sum()/cond.size\n",
    "    mse_p_right = 1 - mse_p_left\n",
    "    \n",
    "    mse = mse_left * mse_p_left + mse_right * mse_p_right\n",
    "    \n",
    "    if mse < lower_mse:\n",
    "        lower_mse = mse\n",
    "        best_split.clear()\n",
    "        best_split[np.round(split,3)] = mse\n",
    "        \n",
    "print('最佳的分裂条件是：',best_split)"
   ]
  },
  {
   "cell_type": "markdown",
   "id": "c07f5c5e",
   "metadata": {},
   "source": [
    "## 继续进行裂分条件计算"
   ]
  },
  {
   "cell_type": "markdown",
   "id": "1fde1823",
   "metadata": {},
   "source": [
    "### 左裂分"
   ]
  },
  {
   "cell_type": "code",
   "execution_count": 32,
   "id": "17e8e207",
   "metadata": {
    "ExecuteTime": {
     "end_time": "2022-05-01T04:18:10.844217Z",
     "start_time": "2022-05-01T04:18:10.825324Z"
    }
   },
   "outputs": [
    {
     "name": "stdout",
     "output_type": "stream",
     "text": [
      "最佳的分裂条件是： {1.531: 0.09834477293918131}\n"
     ]
    }
   ],
   "source": [
    "# 最佳裂分条件是：X[0] < 3.142\n",
    "# 初始值，用于记录\n",
    "lower_mse = 1 # 知道最开始，mse = 0.5\n",
    "best_split = {}\n",
    "\n",
    "cond = X_train <= 3.142\n",
    "X_train_left = X_train[cond.ravel()]\n",
    "y_train_left = y_train[cond.ravel()]\n",
    "\n",
    "\n",
    "for i in range(len(X_train_left) -1):\n",
    "    split = X_train_left[i: i +2].mean()\n",
    "    \n",
    "    cond = X_train_left <= split\n",
    "    # 根据条件，得到左侧和右侧数据划分\n",
    "    y_left = y_train_left[cond.reshape(-1)]\n",
    "    y_right = y_train_left[(~cond).ravel()] # 平铺，一维\n",
    "    \n",
    "    mse_left = ((y_left - y_left.mean(axis = 0))**2).mean()\n",
    "    mse_right = ((y_right - y_right.mean(axis = 0))**2).mean()\n",
    "    \n",
    "    # 计算划分整体的mse\n",
    "    mse_p_left = cond.sum()/cond.size\n",
    "    mse_p_right = 1 - mse_p_left\n",
    "    \n",
    "    mse = mse_left * mse_p_left + mse_right * mse_p_right\n",
    "    \n",
    "    if mse < lower_mse:\n",
    "        lower_mse = mse\n",
    "        best_split.clear()\n",
    "        best_split[np.round(split,3)] = mse\n",
    "        \n",
    "print('最佳的分裂条件是：',best_split)"
   ]
  },
  {
   "cell_type": "markdown",
   "id": "52410184",
   "metadata": {},
   "source": [
    "### 右裂分"
   ]
  },
  {
   "cell_type": "code",
   "execution_count": 33,
   "id": "7ae7d940",
   "metadata": {
    "ExecuteTime": {
     "end_time": "2022-05-01T04:19:24.741116Z",
     "start_time": "2022-05-01T04:19:24.724287Z"
    }
   },
   "outputs": [
    {
     "name": "stdout",
     "output_type": "stream",
     "text": [
      "最佳的分裂条件是： {4.753: 0.09834477293918137}\n"
     ]
    }
   ],
   "source": [
    "# 最佳裂分条件是：X[0] < 3.142\n",
    "# 初始值，用于记录\n",
    "lower_mse = 1 # 知道最开始，mse = 0.5\n",
    "best_split = {}\n",
    "\n",
    "cond = X_train <= 3.142\n",
    "X_train_right = X_train[(~cond).ravel()]\n",
    "y_train_right = y_train[(~cond).ravel()]\n",
    "\n",
    "\n",
    "for i in range(len(X_train_right) -1):\n",
    "    split = X_train_right[i: i +2].mean()\n",
    "    \n",
    "    cond = X_train_right <= split\n",
    "    # 根据条件，得到左侧和右侧数据划分\n",
    "    y_left = y_train_right[cond.reshape(-1)]\n",
    "    y_right = y_train_right[(~cond).ravel()] # 平铺，一维\n",
    "    \n",
    "    mse_left = ((y_left - y_left.mean(axis = 0))**2).mean()\n",
    "    mse_right = ((y_right - y_right.mean(axis = 0))**2).mean()\n",
    "    \n",
    "    # 计算划分整体的mse\n",
    "    mse_p_left = cond.sum()/cond.size\n",
    "    mse_p_right = 1 - mse_p_left\n",
    "    \n",
    "    mse = mse_left * mse_p_left + mse_right * mse_p_right\n",
    "    \n",
    "    if mse < lower_mse:\n",
    "        lower_mse = mse\n",
    "        best_split.clear()\n",
    "        best_split[np.round(split,3)] = mse\n",
    "        \n",
    "print('最佳的分裂条件是：',best_split)"
   ]
  },
  {
   "cell_type": "code",
   "execution_count": null,
   "id": "e4e933f6",
   "metadata": {},
   "outputs": [],
   "source": []
  }
 ],
 "metadata": {
  "hide_input": false,
  "kernelspec": {
   "display_name": "Python 3 (ipykernel)",
   "language": "python",
   "name": "python3"
  },
  "language_info": {
   "codemirror_mode": {
    "name": "ipython",
    "version": 3
   },
   "file_extension": ".py",
   "mimetype": "text/x-python",
   "name": "python",
   "nbconvert_exporter": "python",
   "pygments_lexer": "ipython3",
   "version": "3.9.7"
  },
  "nbTranslate": {
   "displayLangs": [
    "*"
   ],
   "hotkey": "alt-t",
   "langInMainMenu": true,
   "sourceLang": "en",
   "targetLang": "fr",
   "useGoogleTranslate": true
  },
  "toc": {
   "base_numbering": 1,
   "nav_menu": {},
   "number_sections": true,
   "sideBar": true,
   "skip_h1_title": false,
   "title_cell": "Table of Contents",
   "title_sidebar": "Contents",
   "toc_cell": false,
   "toc_position": {},
   "toc_section_display": true,
   "toc_window_display": true
  },
  "varInspector": {
   "cols": {
    "lenName": 16,
    "lenType": 16,
    "lenVar": 40
   },
   "kernels_config": {
    "python": {
     "delete_cmd_postfix": "",
     "delete_cmd_prefix": "del ",
     "library": "var_list.py",
     "varRefreshCmd": "print(var_dic_list())"
    },
    "r": {
     "delete_cmd_postfix": ") ",
     "delete_cmd_prefix": "rm(",
     "library": "var_list.r",
     "varRefreshCmd": "cat(var_dic_list()) "
    }
   },
   "types_to_exclude": [
    "module",
    "function",
    "builtin_function_or_method",
    "instance",
    "_Feature"
   ],
   "window_display": false
  }
 },
 "nbformat": 4,
 "nbformat_minor": 5
}
