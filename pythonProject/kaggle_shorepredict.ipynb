{
 "cells": [
  {
   "cell_type": "markdown",
   "id": "3246ec73",
   "metadata": {},
   "source": [
    "# 数据加载"
   ]
  },
  {
   "cell_type": "code",
   "execution_count": 1,
   "id": "0026a0b8",
   "metadata": {
    "ExecuteTime": {
     "end_time": "2022-05-18T09:26:51.255164Z",
     "start_time": "2022-05-18T09:26:50.587815Z"
    }
   },
   "outputs": [],
   "source": [
    "import numpy as np\n",
    "import pandas as pd\n",
    "import matplotlib.pyplot as plt\n",
    "import seaborn as sns\n",
    "import xgboost as xgb\n",
    "import time"
   ]
  },
  {
   "cell_type": "code",
   "execution_count": 3,
   "id": "8daa8e40",
   "metadata": {
    "ExecuteTime": {
     "end_time": "2022-05-18T09:28:15.062685Z",
     "start_time": "2022-05-18T09:28:14.639587Z"
    }
   },
   "outputs": [
    {
     "data": {
      "text/html": [
       "<div>\n",
       "<style scoped>\n",
       "    .dataframe tbody tr th:only-of-type {\n",
       "        vertical-align: middle;\n",
       "    }\n",
       "\n",
       "    .dataframe tbody tr th {\n",
       "        vertical-align: top;\n",
       "    }\n",
       "\n",
       "    .dataframe thead th {\n",
       "        text-align: right;\n",
       "    }\n",
       "</style>\n",
       "<table border=\"1\" class=\"dataframe\">\n",
       "  <thead>\n",
       "    <tr style=\"text-align: right;\">\n",
       "      <th></th>\n",
       "      <th>Store</th>\n",
       "      <th>DayOfWeek</th>\n",
       "      <th>Date</th>\n",
       "      <th>Sales</th>\n",
       "      <th>Customers</th>\n",
       "      <th>Open</th>\n",
       "      <th>Promo</th>\n",
       "      <th>StateHoliday</th>\n",
       "      <th>SchoolHoliday</th>\n",
       "    </tr>\n",
       "  </thead>\n",
       "  <tbody>\n",
       "    <tr>\n",
       "      <th>0</th>\n",
       "      <td>1</td>\n",
       "      <td>5</td>\n",
       "      <td>2015-07-31</td>\n",
       "      <td>5263</td>\n",
       "      <td>555</td>\n",
       "      <td>1</td>\n",
       "      <td>1</td>\n",
       "      <td>0</td>\n",
       "      <td>1</td>\n",
       "    </tr>\n",
       "    <tr>\n",
       "      <th>1</th>\n",
       "      <td>2</td>\n",
       "      <td>5</td>\n",
       "      <td>2015-07-31</td>\n",
       "      <td>6064</td>\n",
       "      <td>625</td>\n",
       "      <td>1</td>\n",
       "      <td>1</td>\n",
       "      <td>0</td>\n",
       "      <td>1</td>\n",
       "    </tr>\n",
       "    <tr>\n",
       "      <th>2</th>\n",
       "      <td>3</td>\n",
       "      <td>5</td>\n",
       "      <td>2015-07-31</td>\n",
       "      <td>8314</td>\n",
       "      <td>821</td>\n",
       "      <td>1</td>\n",
       "      <td>1</td>\n",
       "      <td>0</td>\n",
       "      <td>1</td>\n",
       "    </tr>\n",
       "    <tr>\n",
       "      <th>3</th>\n",
       "      <td>4</td>\n",
       "      <td>5</td>\n",
       "      <td>2015-07-31</td>\n",
       "      <td>13995</td>\n",
       "      <td>1498</td>\n",
       "      <td>1</td>\n",
       "      <td>1</td>\n",
       "      <td>0</td>\n",
       "      <td>1</td>\n",
       "    </tr>\n",
       "    <tr>\n",
       "      <th>4</th>\n",
       "      <td>5</td>\n",
       "      <td>5</td>\n",
       "      <td>2015-07-31</td>\n",
       "      <td>4822</td>\n",
       "      <td>559</td>\n",
       "      <td>1</td>\n",
       "      <td>1</td>\n",
       "      <td>0</td>\n",
       "      <td>1</td>\n",
       "    </tr>\n",
       "  </tbody>\n",
       "</table>\n",
       "</div>"
      ],
      "text/plain": [
       "   Store  DayOfWeek        Date  Sales  Customers  Open  Promo StateHoliday  \\\n",
       "0      1          5  2015-07-31   5263        555     1      1            0   \n",
       "1      2          5  2015-07-31   6064        625     1      1            0   \n",
       "2      3          5  2015-07-31   8314        821     1      1            0   \n",
       "3      4          5  2015-07-31  13995       1498     1      1            0   \n",
       "4      5          5  2015-07-31   4822        559     1      1            0   \n",
       "\n",
       "   SchoolHoliday  \n",
       "0              1  \n",
       "1              1  \n",
       "2              1  \n",
       "3              1  \n",
       "4              1  "
      ]
     },
     "metadata": {},
     "output_type": "display_data"
    },
    {
     "data": {
      "text/html": [
       "<div>\n",
       "<style scoped>\n",
       "    .dataframe tbody tr th:only-of-type {\n",
       "        vertical-align: middle;\n",
       "    }\n",
       "\n",
       "    .dataframe tbody tr th {\n",
       "        vertical-align: top;\n",
       "    }\n",
       "\n",
       "    .dataframe thead th {\n",
       "        text-align: right;\n",
       "    }\n",
       "</style>\n",
       "<table border=\"1\" class=\"dataframe\">\n",
       "  <thead>\n",
       "    <tr style=\"text-align: right;\">\n",
       "      <th></th>\n",
       "      <th>Id</th>\n",
       "      <th>Store</th>\n",
       "      <th>DayOfWeek</th>\n",
       "      <th>Date</th>\n",
       "      <th>Open</th>\n",
       "      <th>Promo</th>\n",
       "      <th>StateHoliday</th>\n",
       "      <th>SchoolHoliday</th>\n",
       "    </tr>\n",
       "  </thead>\n",
       "  <tbody>\n",
       "    <tr>\n",
       "      <th>0</th>\n",
       "      <td>1</td>\n",
       "      <td>1</td>\n",
       "      <td>4</td>\n",
       "      <td>2015-09-17</td>\n",
       "      <td>1.0</td>\n",
       "      <td>1</td>\n",
       "      <td>0</td>\n",
       "      <td>0</td>\n",
       "    </tr>\n",
       "    <tr>\n",
       "      <th>1</th>\n",
       "      <td>2</td>\n",
       "      <td>3</td>\n",
       "      <td>4</td>\n",
       "      <td>2015-09-17</td>\n",
       "      <td>1.0</td>\n",
       "      <td>1</td>\n",
       "      <td>0</td>\n",
       "      <td>0</td>\n",
       "    </tr>\n",
       "    <tr>\n",
       "      <th>2</th>\n",
       "      <td>3</td>\n",
       "      <td>7</td>\n",
       "      <td>4</td>\n",
       "      <td>2015-09-17</td>\n",
       "      <td>1.0</td>\n",
       "      <td>1</td>\n",
       "      <td>0</td>\n",
       "      <td>0</td>\n",
       "    </tr>\n",
       "    <tr>\n",
       "      <th>3</th>\n",
       "      <td>4</td>\n",
       "      <td>8</td>\n",
       "      <td>4</td>\n",
       "      <td>2015-09-17</td>\n",
       "      <td>1.0</td>\n",
       "      <td>1</td>\n",
       "      <td>0</td>\n",
       "      <td>0</td>\n",
       "    </tr>\n",
       "    <tr>\n",
       "      <th>4</th>\n",
       "      <td>5</td>\n",
       "      <td>9</td>\n",
       "      <td>4</td>\n",
       "      <td>2015-09-17</td>\n",
       "      <td>1.0</td>\n",
       "      <td>1</td>\n",
       "      <td>0</td>\n",
       "      <td>0</td>\n",
       "    </tr>\n",
       "  </tbody>\n",
       "</table>\n",
       "</div>"
      ],
      "text/plain": [
       "   Id  Store  DayOfWeek        Date  Open  Promo StateHoliday  SchoolHoliday\n",
       "0   1      1          4  2015-09-17   1.0      1            0              0\n",
       "1   2      3          4  2015-09-17   1.0      1            0              0\n",
       "2   3      7          4  2015-09-17   1.0      1            0              0\n",
       "3   4      8          4  2015-09-17   1.0      1            0              0\n",
       "4   5      9          4  2015-09-17   1.0      1            0              0"
      ]
     },
     "metadata": {},
     "output_type": "display_data"
    },
    {
     "data": {
      "text/html": [
       "<div>\n",
       "<style scoped>\n",
       "    .dataframe tbody tr th:only-of-type {\n",
       "        vertical-align: middle;\n",
       "    }\n",
       "\n",
       "    .dataframe tbody tr th {\n",
       "        vertical-align: top;\n",
       "    }\n",
       "\n",
       "    .dataframe thead th {\n",
       "        text-align: right;\n",
       "    }\n",
       "</style>\n",
       "<table border=\"1\" class=\"dataframe\">\n",
       "  <thead>\n",
       "    <tr style=\"text-align: right;\">\n",
       "      <th></th>\n",
       "      <th>Store</th>\n",
       "      <th>StoreType</th>\n",
       "      <th>Assortment</th>\n",
       "      <th>CompetitionDistance</th>\n",
       "      <th>CompetitionOpenSinceMonth</th>\n",
       "      <th>CompetitionOpenSinceYear</th>\n",
       "      <th>Promo2</th>\n",
       "      <th>Promo2SinceWeek</th>\n",
       "      <th>Promo2SinceYear</th>\n",
       "      <th>PromoInterval</th>\n",
       "    </tr>\n",
       "  </thead>\n",
       "  <tbody>\n",
       "    <tr>\n",
       "      <th>0</th>\n",
       "      <td>1</td>\n",
       "      <td>c</td>\n",
       "      <td>a</td>\n",
       "      <td>1270.0</td>\n",
       "      <td>9.0</td>\n",
       "      <td>2008.0</td>\n",
       "      <td>0</td>\n",
       "      <td>NaN</td>\n",
       "      <td>NaN</td>\n",
       "      <td>NaN</td>\n",
       "    </tr>\n",
       "    <tr>\n",
       "      <th>1</th>\n",
       "      <td>2</td>\n",
       "      <td>a</td>\n",
       "      <td>a</td>\n",
       "      <td>570.0</td>\n",
       "      <td>11.0</td>\n",
       "      <td>2007.0</td>\n",
       "      <td>1</td>\n",
       "      <td>13.0</td>\n",
       "      <td>2010.0</td>\n",
       "      <td>Jan,Apr,Jul,Oct</td>\n",
       "    </tr>\n",
       "    <tr>\n",
       "      <th>2</th>\n",
       "      <td>3</td>\n",
       "      <td>a</td>\n",
       "      <td>a</td>\n",
       "      <td>14130.0</td>\n",
       "      <td>12.0</td>\n",
       "      <td>2006.0</td>\n",
       "      <td>1</td>\n",
       "      <td>14.0</td>\n",
       "      <td>2011.0</td>\n",
       "      <td>Jan,Apr,Jul,Oct</td>\n",
       "    </tr>\n",
       "    <tr>\n",
       "      <th>3</th>\n",
       "      <td>4</td>\n",
       "      <td>c</td>\n",
       "      <td>c</td>\n",
       "      <td>620.0</td>\n",
       "      <td>9.0</td>\n",
       "      <td>2009.0</td>\n",
       "      <td>0</td>\n",
       "      <td>NaN</td>\n",
       "      <td>NaN</td>\n",
       "      <td>NaN</td>\n",
       "    </tr>\n",
       "    <tr>\n",
       "      <th>4</th>\n",
       "      <td>5</td>\n",
       "      <td>a</td>\n",
       "      <td>a</td>\n",
       "      <td>29910.0</td>\n",
       "      <td>4.0</td>\n",
       "      <td>2015.0</td>\n",
       "      <td>0</td>\n",
       "      <td>NaN</td>\n",
       "      <td>NaN</td>\n",
       "      <td>NaN</td>\n",
       "    </tr>\n",
       "  </tbody>\n",
       "</table>\n",
       "</div>"
      ],
      "text/plain": [
       "   Store StoreType Assortment  CompetitionDistance  CompetitionOpenSinceMonth  \\\n",
       "0      1         c          a               1270.0                        9.0   \n",
       "1      2         a          a                570.0                       11.0   \n",
       "2      3         a          a              14130.0                       12.0   \n",
       "3      4         c          c                620.0                        9.0   \n",
       "4      5         a          a              29910.0                        4.0   \n",
       "\n",
       "   CompetitionOpenSinceYear  Promo2  Promo2SinceWeek  Promo2SinceYear  \\\n",
       "0                    2008.0       0              NaN              NaN   \n",
       "1                    2007.0       1             13.0           2010.0   \n",
       "2                    2006.0       1             14.0           2011.0   \n",
       "3                    2009.0       0              NaN              NaN   \n",
       "4                    2015.0       0              NaN              NaN   \n",
       "\n",
       "     PromoInterval  \n",
       "0              NaN  \n",
       "1  Jan,Apr,Jul,Oct  \n",
       "2  Jan,Apr,Jul,Oct  \n",
       "3              NaN  \n",
       "4              NaN  "
      ]
     },
     "metadata": {},
     "output_type": "display_data"
    },
    {
     "name": "stdout",
     "output_type": "stream",
     "text": [
      "(1017209, 9) (41088, 8) (1115, 10)\n"
     ]
    }
   ],
   "source": [
    "train = pd.read_csv('./train.csv',dtype={'StateHoliday':np.string_}) # 加载数据时，为特定字段指定了数据类型\n",
    "test = pd.read_csv('./test.csv',dtype={'StateHoliday':np.string_})\n",
    "store = pd.read_csv('./store.csv') # 每个店铺的详情\n",
    "display(train.head(),test.head(),store.head())\n",
    "\n",
    "print(train.shape,test.shape,store.shape)"
   ]
  },
  {
   "cell_type": "markdown",
   "id": "16996ac7",
   "metadata": {},
   "source": [
    "# 空数据处理"
   ]
  },
  {
   "cell_type": "markdown",
   "id": "98f2552d",
   "metadata": {},
   "source": [
    "## 训练数据"
   ]
  },
  {
   "cell_type": "code",
   "execution_count": 4,
   "id": "96d6822b",
   "metadata": {
    "ExecuteTime": {
     "end_time": "2022-05-18T09:29:24.569961Z",
     "start_time": "2022-05-18T09:29:24.460820Z"
    }
   },
   "outputs": [
    {
     "data": {
      "text/plain": [
       "Store            0\n",
       "DayOfWeek        0\n",
       "Date             0\n",
       "Sales            0\n",
       "Customers        0\n",
       "Open             0\n",
       "Promo            0\n",
       "StateHoliday     0\n",
       "SchoolHoliday    0\n",
       "dtype: int64"
      ]
     },
     "execution_count": 4,
     "metadata": {},
     "output_type": "execute_result"
    }
   ],
   "source": [
    "train.isnull().sum() # 表明train这个数据中没有空数据"
   ]
  },
  {
   "cell_type": "markdown",
   "id": "bd545575",
   "metadata": {},
   "source": [
    "## 测试数据"
   ]
  },
  {
   "cell_type": "code",
   "execution_count": 5,
   "id": "71bb623b",
   "metadata": {
    "ExecuteTime": {
     "end_time": "2022-05-18T09:30:00.370286Z",
     "start_time": "2022-05-18T09:30:00.348286Z"
    }
   },
   "outputs": [
    {
     "data": {
      "text/plain": [
       "Id                0\n",
       "Store             0\n",
       "DayOfWeek         0\n",
       "Date              0\n",
       "Open             11\n",
       "Promo             0\n",
       "StateHoliday      0\n",
       "SchoolHoliday     0\n",
       "dtype: int64"
      ]
     },
     "execution_count": 5,
     "metadata": {},
     "output_type": "execute_result"
    }
   ],
   "source": [
    "test.isnull().sum()"
   ]
  },
  {
   "cell_type": "code",
   "execution_count": 6,
   "id": "838eeda5",
   "metadata": {
    "ExecuteTime": {
     "end_time": "2022-05-18T09:30:15.880943Z",
     "start_time": "2022-05-18T09:30:15.858004Z"
    }
   },
   "outputs": [
    {
     "data": {
      "text/html": [
       "<div>\n",
       "<style scoped>\n",
       "    .dataframe tbody tr th:only-of-type {\n",
       "        vertical-align: middle;\n",
       "    }\n",
       "\n",
       "    .dataframe tbody tr th {\n",
       "        vertical-align: top;\n",
       "    }\n",
       "\n",
       "    .dataframe thead th {\n",
       "        text-align: right;\n",
       "    }\n",
       "</style>\n",
       "<table border=\"1\" class=\"dataframe\">\n",
       "  <thead>\n",
       "    <tr style=\"text-align: right;\">\n",
       "      <th></th>\n",
       "      <th>Id</th>\n",
       "      <th>Store</th>\n",
       "      <th>DayOfWeek</th>\n",
       "      <th>Date</th>\n",
       "      <th>Open</th>\n",
       "      <th>Promo</th>\n",
       "      <th>StateHoliday</th>\n",
       "      <th>SchoolHoliday</th>\n",
       "    </tr>\n",
       "  </thead>\n",
       "  <tbody>\n",
       "    <tr>\n",
       "      <th>479</th>\n",
       "      <td>480</td>\n",
       "      <td>622</td>\n",
       "      <td>4</td>\n",
       "      <td>2015-09-17</td>\n",
       "      <td>NaN</td>\n",
       "      <td>1</td>\n",
       "      <td>0</td>\n",
       "      <td>0</td>\n",
       "    </tr>\n",
       "    <tr>\n",
       "      <th>1335</th>\n",
       "      <td>1336</td>\n",
       "      <td>622</td>\n",
       "      <td>3</td>\n",
       "      <td>2015-09-16</td>\n",
       "      <td>NaN</td>\n",
       "      <td>1</td>\n",
       "      <td>0</td>\n",
       "      <td>0</td>\n",
       "    </tr>\n",
       "    <tr>\n",
       "      <th>2191</th>\n",
       "      <td>2192</td>\n",
       "      <td>622</td>\n",
       "      <td>2</td>\n",
       "      <td>2015-09-15</td>\n",
       "      <td>NaN</td>\n",
       "      <td>1</td>\n",
       "      <td>0</td>\n",
       "      <td>0</td>\n",
       "    </tr>\n",
       "    <tr>\n",
       "      <th>3047</th>\n",
       "      <td>3048</td>\n",
       "      <td>622</td>\n",
       "      <td>1</td>\n",
       "      <td>2015-09-14</td>\n",
       "      <td>NaN</td>\n",
       "      <td>1</td>\n",
       "      <td>0</td>\n",
       "      <td>0</td>\n",
       "    </tr>\n",
       "    <tr>\n",
       "      <th>4759</th>\n",
       "      <td>4760</td>\n",
       "      <td>622</td>\n",
       "      <td>6</td>\n",
       "      <td>2015-09-12</td>\n",
       "      <td>NaN</td>\n",
       "      <td>0</td>\n",
       "      <td>0</td>\n",
       "      <td>0</td>\n",
       "    </tr>\n",
       "    <tr>\n",
       "      <th>5615</th>\n",
       "      <td>5616</td>\n",
       "      <td>622</td>\n",
       "      <td>5</td>\n",
       "      <td>2015-09-11</td>\n",
       "      <td>NaN</td>\n",
       "      <td>0</td>\n",
       "      <td>0</td>\n",
       "      <td>0</td>\n",
       "    </tr>\n",
       "    <tr>\n",
       "      <th>6471</th>\n",
       "      <td>6472</td>\n",
       "      <td>622</td>\n",
       "      <td>4</td>\n",
       "      <td>2015-09-10</td>\n",
       "      <td>NaN</td>\n",
       "      <td>0</td>\n",
       "      <td>0</td>\n",
       "      <td>0</td>\n",
       "    </tr>\n",
       "    <tr>\n",
       "      <th>7327</th>\n",
       "      <td>7328</td>\n",
       "      <td>622</td>\n",
       "      <td>3</td>\n",
       "      <td>2015-09-09</td>\n",
       "      <td>NaN</td>\n",
       "      <td>0</td>\n",
       "      <td>0</td>\n",
       "      <td>0</td>\n",
       "    </tr>\n",
       "    <tr>\n",
       "      <th>8183</th>\n",
       "      <td>8184</td>\n",
       "      <td>622</td>\n",
       "      <td>2</td>\n",
       "      <td>2015-09-08</td>\n",
       "      <td>NaN</td>\n",
       "      <td>0</td>\n",
       "      <td>0</td>\n",
       "      <td>0</td>\n",
       "    </tr>\n",
       "    <tr>\n",
       "      <th>9039</th>\n",
       "      <td>9040</td>\n",
       "      <td>622</td>\n",
       "      <td>1</td>\n",
       "      <td>2015-09-07</td>\n",
       "      <td>NaN</td>\n",
       "      <td>0</td>\n",
       "      <td>0</td>\n",
       "      <td>0</td>\n",
       "    </tr>\n",
       "    <tr>\n",
       "      <th>10751</th>\n",
       "      <td>10752</td>\n",
       "      <td>622</td>\n",
       "      <td>6</td>\n",
       "      <td>2015-09-05</td>\n",
       "      <td>NaN</td>\n",
       "      <td>0</td>\n",
       "      <td>0</td>\n",
       "      <td>0</td>\n",
       "    </tr>\n",
       "  </tbody>\n",
       "</table>\n",
       "</div>"
      ],
      "text/plain": [
       "          Id  Store  DayOfWeek        Date  Open  Promo StateHoliday  \\\n",
       "479      480    622          4  2015-09-17   NaN      1            0   \n",
       "1335    1336    622          3  2015-09-16   NaN      1            0   \n",
       "2191    2192    622          2  2015-09-15   NaN      1            0   \n",
       "3047    3048    622          1  2015-09-14   NaN      1            0   \n",
       "4759    4760    622          6  2015-09-12   NaN      0            0   \n",
       "5615    5616    622          5  2015-09-11   NaN      0            0   \n",
       "6471    6472    622          4  2015-09-10   NaN      0            0   \n",
       "7327    7328    622          3  2015-09-09   NaN      0            0   \n",
       "8183    8184    622          2  2015-09-08   NaN      0            0   \n",
       "9039    9040    622          1  2015-09-07   NaN      0            0   \n",
       "10751  10752    622          6  2015-09-05   NaN      0            0   \n",
       "\n",
       "       SchoolHoliday  \n",
       "479                0  \n",
       "1335               0  \n",
       "2191               0  \n",
       "3047               0  \n",
       "4759               0  \n",
       "5615               0  \n",
       "6471               0  \n",
       "7327               0  \n",
       "8183               0  \n",
       "9039               0  \n",
       "10751              0  "
      ]
     },
     "execution_count": 6,
     "metadata": {},
     "output_type": "execute_result"
    }
   ],
   "source": [
    "cond = test['Open'].isnull()\n",
    "test[cond]"
   ]
  },
  {
   "cell_type": "code",
   "execution_count": 8,
   "id": "9849f082",
   "metadata": {
    "ExecuteTime": {
     "end_time": "2022-05-18T09:31:39.235624Z",
     "start_time": "2022-05-18T09:31:39.211180Z"
    }
   },
   "outputs": [
    {
     "data": {
      "text/html": [
       "<div>\n",
       "<style scoped>\n",
       "    .dataframe tbody tr th:only-of-type {\n",
       "        vertical-align: middle;\n",
       "    }\n",
       "\n",
       "    .dataframe tbody tr th {\n",
       "        vertical-align: top;\n",
       "    }\n",
       "\n",
       "    .dataframe thead th {\n",
       "        text-align: right;\n",
       "    }\n",
       "</style>\n",
       "<table border=\"1\" class=\"dataframe\">\n",
       "  <thead>\n",
       "    <tr style=\"text-align: right;\">\n",
       "      <th></th>\n",
       "      <th>Store</th>\n",
       "      <th>DayOfWeek</th>\n",
       "      <th>Date</th>\n",
       "      <th>Sales</th>\n",
       "      <th>Customers</th>\n",
       "      <th>Open</th>\n",
       "      <th>Promo</th>\n",
       "      <th>StateHoliday</th>\n",
       "      <th>SchoolHoliday</th>\n",
       "    </tr>\n",
       "  </thead>\n",
       "  <tbody>\n",
       "    <tr>\n",
       "      <th>10656</th>\n",
       "      <td>622</td>\n",
       "      <td>3</td>\n",
       "      <td>2015-07-22</td>\n",
       "      <td>3721</td>\n",
       "      <td>376</td>\n",
       "      <td>1</td>\n",
       "      <td>0</td>\n",
       "      <td>0</td>\n",
       "      <td>1</td>\n",
       "    </tr>\n",
       "    <tr>\n",
       "      <th>9541</th>\n",
       "      <td>622</td>\n",
       "      <td>4</td>\n",
       "      <td>2015-07-23</td>\n",
       "      <td>3970</td>\n",
       "      <td>399</td>\n",
       "      <td>1</td>\n",
       "      <td>0</td>\n",
       "      <td>0</td>\n",
       "      <td>1</td>\n",
       "    </tr>\n",
       "    <tr>\n",
       "      <th>8426</th>\n",
       "      <td>622</td>\n",
       "      <td>5</td>\n",
       "      <td>2015-07-24</td>\n",
       "      <td>4183</td>\n",
       "      <td>440</td>\n",
       "      <td>1</td>\n",
       "      <td>0</td>\n",
       "      <td>0</td>\n",
       "      <td>1</td>\n",
       "    </tr>\n",
       "    <tr>\n",
       "      <th>7311</th>\n",
       "      <td>622</td>\n",
       "      <td>6</td>\n",
       "      <td>2015-07-25</td>\n",
       "      <td>2644</td>\n",
       "      <td>257</td>\n",
       "      <td>1</td>\n",
       "      <td>0</td>\n",
       "      <td>0</td>\n",
       "      <td>0</td>\n",
       "    </tr>\n",
       "    <tr>\n",
       "      <th>6196</th>\n",
       "      <td>622</td>\n",
       "      <td>7</td>\n",
       "      <td>2015-07-26</td>\n",
       "      <td>0</td>\n",
       "      <td>0</td>\n",
       "      <td>0</td>\n",
       "      <td>0</td>\n",
       "      <td>0</td>\n",
       "      <td>0</td>\n",
       "    </tr>\n",
       "    <tr>\n",
       "      <th>5081</th>\n",
       "      <td>622</td>\n",
       "      <td>1</td>\n",
       "      <td>2015-07-27</td>\n",
       "      <td>5413</td>\n",
       "      <td>517</td>\n",
       "      <td>1</td>\n",
       "      <td>1</td>\n",
       "      <td>0</td>\n",
       "      <td>1</td>\n",
       "    </tr>\n",
       "    <tr>\n",
       "      <th>3966</th>\n",
       "      <td>622</td>\n",
       "      <td>2</td>\n",
       "      <td>2015-07-28</td>\n",
       "      <td>4966</td>\n",
       "      <td>417</td>\n",
       "      <td>1</td>\n",
       "      <td>1</td>\n",
       "      <td>0</td>\n",
       "      <td>1</td>\n",
       "    </tr>\n",
       "    <tr>\n",
       "      <th>2851</th>\n",
       "      <td>622</td>\n",
       "      <td>3</td>\n",
       "      <td>2015-07-29</td>\n",
       "      <td>5326</td>\n",
       "      <td>468</td>\n",
       "      <td>1</td>\n",
       "      <td>1</td>\n",
       "      <td>0</td>\n",
       "      <td>1</td>\n",
       "    </tr>\n",
       "    <tr>\n",
       "      <th>1736</th>\n",
       "      <td>622</td>\n",
       "      <td>4</td>\n",
       "      <td>2015-07-30</td>\n",
       "      <td>5412</td>\n",
       "      <td>406</td>\n",
       "      <td>1</td>\n",
       "      <td>1</td>\n",
       "      <td>0</td>\n",
       "      <td>1</td>\n",
       "    </tr>\n",
       "    <tr>\n",
       "      <th>621</th>\n",
       "      <td>622</td>\n",
       "      <td>5</td>\n",
       "      <td>2015-07-31</td>\n",
       "      <td>6306</td>\n",
       "      <td>540</td>\n",
       "      <td>1</td>\n",
       "      <td>1</td>\n",
       "      <td>0</td>\n",
       "      <td>1</td>\n",
       "    </tr>\n",
       "  </tbody>\n",
       "</table>\n",
       "</div>"
      ],
      "text/plain": [
       "       Store  DayOfWeek        Date  Sales  Customers  Open  Promo  \\\n",
       "10656    622          3  2015-07-22   3721        376     1      0   \n",
       "9541     622          4  2015-07-23   3970        399     1      0   \n",
       "8426     622          5  2015-07-24   4183        440     1      0   \n",
       "7311     622          6  2015-07-25   2644        257     1      0   \n",
       "6196     622          7  2015-07-26      0          0     0      0   \n",
       "5081     622          1  2015-07-27   5413        517     1      1   \n",
       "3966     622          2  2015-07-28   4966        417     1      1   \n",
       "2851     622          3  2015-07-29   5326        468     1      1   \n",
       "1736     622          4  2015-07-30   5412        406     1      1   \n",
       "621      622          5  2015-07-31   6306        540     1      1   \n",
       "\n",
       "      StateHoliday  SchoolHoliday  \n",
       "10656            0              1  \n",
       "9541             0              1  \n",
       "8426             0              1  \n",
       "7311             0              0  \n",
       "6196             0              0  \n",
       "5081             0              1  \n",
       "3966             0              1  \n",
       "2851             0              1  \n",
       "1736             0              1  \n",
       "621              0              1  "
      ]
     },
     "execution_count": 8,
     "metadata": {},
     "output_type": "execute_result"
    }
   ],
   "source": [
    "cond = train['Store'] == 622\n",
    "df = train[cond]\n",
    "df.sort_values(by = 'Date').iloc[-10:] # 根据过往的数据，对测试数据中622号店铺进行填充\n",
    "# 原来大部分情况，622都是营业！"
   ]
  },
  {
   "cell_type": "code",
   "execution_count": 9,
   "id": "a400c2c5",
   "metadata": {
    "ExecuteTime": {
     "end_time": "2022-05-18T09:32:47.859720Z",
     "start_time": "2022-05-18T09:32:47.834795Z"
    }
   },
   "outputs": [
    {
     "data": {
      "text/plain": [
       "Id               0\n",
       "Store            0\n",
       "DayOfWeek        0\n",
       "Date             0\n",
       "Open             0\n",
       "Promo            0\n",
       "StateHoliday     0\n",
       "SchoolHoliday    0\n",
       "dtype: int64"
      ]
     },
     "execution_count": 9,
     "metadata": {},
     "output_type": "execute_result"
    }
   ],
   "source": [
    "test.fillna(1,inplace=True) # 填充空数据\n",
    "test.isnull().sum()"
   ]
  },
  {
   "cell_type": "markdown",
   "id": "2c814f61",
   "metadata": {},
   "source": [
    "## 商店数据处理"
   ]
  },
  {
   "cell_type": "code",
   "execution_count": 10,
   "id": "9edf5cd8",
   "metadata": {
    "ExecuteTime": {
     "end_time": "2022-05-18T09:33:28.262072Z",
     "start_time": "2022-05-18T09:33:28.245899Z"
    }
   },
   "outputs": [
    {
     "data": {
      "text/plain": [
       "Store                          0\n",
       "StoreType                      0\n",
       "Assortment                     0\n",
       "CompetitionDistance            3\n",
       "CompetitionOpenSinceMonth    354\n",
       "CompetitionOpenSinceYear     354\n",
       "Promo2                         0\n",
       "Promo2SinceWeek              544\n",
       "Promo2SinceYear              544\n",
       "PromoInterval                544\n",
       "dtype: int64"
      ]
     },
     "execution_count": 10,
     "metadata": {},
     "output_type": "execute_result"
    }
   ],
   "source": [
    "store.isnull().sum()"
   ]
  },
  {
   "cell_type": "code",
   "execution_count": 11,
   "id": "4183f8f7",
   "metadata": {
    "ExecuteTime": {
     "end_time": "2022-05-18T09:34:06.571947Z",
     "start_time": "2022-05-18T09:34:06.558214Z"
    }
   },
   "outputs": [],
   "source": [
    "v1 = 'CompetitionDistance'\n",
    "v2 = 'CompetitionOpenSinceMonth'\n",
    "v3 = 'CompetitionOpenSinceYear'\n",
    "v4 = 'Promo2SinceWeek'\n",
    "v5 = 'Promo2SinceYear'\n",
    "v6 = 'PromoInterval'"
   ]
  },
  {
   "cell_type": "code",
   "execution_count": 12,
   "id": "e25ff56f",
   "metadata": {
    "ExecuteTime": {
     "end_time": "2022-05-18T09:34:43.828756Z",
     "start_time": "2022-05-18T09:34:43.812145Z"
    }
   },
   "outputs": [
    {
     "data": {
      "text/plain": [
       "(354, 10)"
      ]
     },
     "execution_count": 12,
     "metadata": {},
     "output_type": "execute_result"
    }
   ],
   "source": [
    "# v2和v3 同时缺失\n",
    "store[(store[v2].isnull()) & (store[v3].isnull())].shape"
   ]
  },
  {
   "cell_type": "code",
   "execution_count": 13,
   "id": "0da3b21c",
   "metadata": {
    "ExecuteTime": {
     "end_time": "2022-05-18T09:35:17.742933Z",
     "start_time": "2022-05-18T09:35:17.721846Z"
    }
   },
   "outputs": [
    {
     "data": {
      "text/plain": [
       "(544, 10)"
      ]
     },
     "execution_count": 13,
     "metadata": {},
     "output_type": "execute_result"
    }
   ],
   "source": [
    "# v4、v5、v6同时缺失\n",
    "store[(store[v4].isnull())&(store[v5].isnull())&(store[v6].isnull())].shape"
   ]
  },
  {
   "cell_type": "code",
   "execution_count": 14,
   "id": "724194e1",
   "metadata": {
    "ExecuteTime": {
     "end_time": "2022-05-18T09:35:37.333404Z",
     "start_time": "2022-05-18T09:35:37.311576Z"
    }
   },
   "outputs": [
    {
     "data": {
      "text/plain": [
       "Store                        0\n",
       "StoreType                    0\n",
       "Assortment                   0\n",
       "CompetitionDistance          0\n",
       "CompetitionOpenSinceMonth    0\n",
       "CompetitionOpenSinceYear     0\n",
       "Promo2                       0\n",
       "Promo2SinceWeek              0\n",
       "Promo2SinceYear              0\n",
       "PromoInterval                0\n",
       "dtype: int64"
      ]
     },
     "execution_count": 14,
     "metadata": {},
     "output_type": "execute_result"
    }
   ],
   "source": [
    "store.fillna(0,inplace=True) # 填充成，解释含义：刚开业\n",
    "store.isnull().sum()"
   ]
  },
  {
   "cell_type": "markdown",
   "id": "7a7997d7",
   "metadata": {},
   "source": [
    "## 销售时间关系"
   ]
  },
  {
   "cell_type": "code",
   "execution_count": 15,
   "id": "e7a65634",
   "metadata": {
    "ExecuteTime": {
     "end_time": "2022-05-18T09:36:45.370941Z",
     "start_time": "2022-05-18T09:36:45.317592Z"
    }
   },
   "outputs": [],
   "source": [
    "cond = train['Sales'] > 0\n",
    "sales_data = train[cond] # 获取销售额为正的数据"
   ]
  },
  {
   "cell_type": "code",
   "execution_count": 16,
   "id": "d62894e5",
   "metadata": {
    "ExecuteTime": {
     "end_time": "2022-05-18T09:37:35.467207Z",
     "start_time": "2022-05-18T09:37:35.326580Z"
    }
   },
   "outputs": [
    {
     "data": {
      "text/plain": [
       "<AxesSubplot:title={'center':'Store_1'}, xlabel='Date'>"
      ]
     },
     "execution_count": 16,
     "metadata": {},
     "output_type": "execute_result"
    },
    {
     "data": {
      "image/png": "[encoded data removed]",
      "text/plain": [
       "<Figure size 1152x288 with 1 Axes>"
      ]
     },
     "metadata": {
      "needs_background": "light"
     },
     "output_type": "display_data"
    }
   ],
   "source": [
    "sales_data.loc[train['Store'] == 1].plot(x = 'Date',y = 'Sales',title = 'Store_1',\n",
    "                                         figsize = (16,4),color = 'red')"
   ]
  },
  {
   "cell_type": "code",
   "execution_count": 17,
   "id": "dd8213b7",
   "metadata": {
    "ExecuteTime": {
     "end_time": "2022-05-18T09:38:39.243736Z",
     "start_time": "2022-05-18T09:38:39.225551Z"
    },
    "scrolled": true
   },
   "outputs": [
    {
     "data": {
      "text/plain": [
       "array(['2015-09-17', '2015-09-16', '2015-09-15', '2015-09-14',\n",
       "       '2015-09-13', '2015-09-12', '2015-09-11', '2015-09-10',\n",
       "       '2015-09-09', '2015-09-08', '2015-09-07', '2015-09-06',\n",
       "       '2015-09-05', '2015-09-04', '2015-09-03', '2015-09-02',\n",
       "       '2015-09-01', '2015-08-31', '2015-08-30', '2015-08-29',\n",
       "       '2015-08-28', '2015-08-27', '2015-08-26', '2015-08-25',\n",
       "       '2015-08-24', '2015-08-23', '2015-08-22', '2015-08-21',\n",
       "       '2015-08-20', '2015-08-19', '2015-08-18', '2015-08-17',\n",
       "       '2015-08-16', '2015-08-15', '2015-08-14', '2015-08-13',\n",
       "       '2015-08-12', '2015-08-11', '2015-08-10', '2015-08-09',\n",
       "       '2015-08-08', '2015-08-07', '2015-08-06', '2015-08-05',\n",
       "       '2015-08-04', '2015-08-03', '2015-08-02', '2015-08-01'],\n",
       "      dtype=object)"
      ]
     },
     "execution_count": 17,
     "metadata": {},
     "output_type": "execute_result"
    }
   ],
   "source": [
    "test['Date'].unique() # 测试数据，要预测8~9月份的销售情况"
   ]
  },
  {
   "cell_type": "markdown",
   "id": "9e4994f8",
   "metadata": {},
   "source": [
    "从图中可以看出店铺的销售额是有周期性变化的，一年中11,12月份销量相对较高，可能是季节（圣诞\n",
    "节）因素或者促销等原因。\n",
    "此外从2014年6-9月份的销量来看，6,7月份的销售趋势与8,9月份类似，而我们需要预测的6周在2015年\n",
    "8,9月份，因此我们可以把2015年6,7月份最近6周的1115家店的数据留出作为测试数据，用于模型的优化与验证。"
   ]
  },
  {
   "cell_type": "markdown",
   "id": "b9af1155",
   "metadata": {},
   "source": [
    "# 合并数据"
   ]
  },
  {
   "cell_type": "code",
   "execution_count": 18,
   "id": "a9aa8b28",
   "metadata": {
    "ExecuteTime": {
     "end_time": "2022-05-18T09:42:17.434875Z",
     "start_time": "2022-05-18T09:42:17.181509Z"
    }
   },
   "outputs": [
    {
     "data": {
      "text/plain": [
       "(1017209, 9)"
      ]
     },
     "metadata": {},
     "output_type": "display_data"
    },
    {
     "data": {
      "text/plain": [
       "(41088, 8)"
      ]
     },
     "metadata": {},
     "output_type": "display_data"
    },
    {
     "data": {
      "text/plain": [
       "(844338, 18)"
      ]
     },
     "metadata": {},
     "output_type": "display_data"
    },
    {
     "data": {
      "text/plain": [
       "(41088, 17)"
      ]
     },
     "metadata": {},
     "output_type": "display_data"
    }
   ],
   "source": [
    "display(train.shape,test.shape)\n",
    "cond = train['Sales'] > 0\n",
    "train = train[cond] # 过滤了销售额小于0的数据\n",
    "\n",
    "train = pd.merge(train,store,on = 'Store',how = 'left')\n",
    "test = pd.merge(test,store,on = 'Store',how = 'left')\n",
    "display(train.shape,test.shape)"
   ]
  },
  {
   "cell_type": "code",
   "execution_count": 19,
   "id": "f36d6240",
   "metadata": {
    "ExecuteTime": {
     "end_time": "2022-05-18T09:42:54.997112Z",
     "start_time": "2022-05-18T09:42:54.797821Z"
    }
   },
   "outputs": [
    {
     "name": "stdout",
     "output_type": "stream",
     "text": [
      "<class 'pandas.core.frame.DataFrame'>\n",
      "Int64Index: 844338 entries, 0 to 844337\n",
      "Data columns (total 18 columns):\n",
      " #   Column                     Non-Null Count   Dtype  \n",
      "---  ------                     --------------   -----  \n",
      " 0   Store                      844338 non-null  int64  \n",
      " 1   DayOfWeek                  844338 non-null  int64  \n",
      " 2   Date                       844338 non-null  object \n",
      " 3   Sales                      844338 non-null  int64  \n",
      " 4   Customers                  844338 non-null  int64  \n",
      " 5   Open                       844338 non-null  int64  \n",
      " 6   Promo                      844338 non-null  int64  \n",
      " 7   StateHoliday               844338 non-null  object \n",
      " 8   SchoolHoliday              844338 non-null  int64  \n",
      " 9   StoreType                  844338 non-null  object \n",
      " 10  Assortment                 844338 non-null  object \n",
      " 11  CompetitionDistance        844338 non-null  float64\n",
      " 12  CompetitionOpenSinceMonth  844338 non-null  float64\n",
      " 13  CompetitionOpenSinceYear   844338 non-null  float64\n",
      " 14  Promo2                     844338 non-null  int64  \n",
      " 15  Promo2SinceWeek            844338 non-null  float64\n",
      " 16  Promo2SinceYear            844338 non-null  float64\n",
      " 17  PromoInterval              844338 non-null  object \n",
      "dtypes: float64(5), int64(8), object(5)\n",
      "memory usage: 122.4+ MB\n"
     ]
    }
   ],
   "source": [
    "train.info()"
   ]
  },
  {
   "cell_type": "code",
   "execution_count": 20,
   "id": "d4bc05ea",
   "metadata": {
    "ExecuteTime": {
     "end_time": "2022-05-18T09:43:06.661677Z",
     "start_time": "2022-05-18T09:43:06.627754Z"
    }
   },
   "outputs": [
    {
     "name": "stdout",
     "output_type": "stream",
     "text": [
      "<class 'pandas.core.frame.DataFrame'>\n",
      "Int64Index: 41088 entries, 0 to 41087\n",
      "Data columns (total 17 columns):\n",
      " #   Column                     Non-Null Count  Dtype  \n",
      "---  ------                     --------------  -----  \n",
      " 0   Id                         41088 non-null  int64  \n",
      " 1   Store                      41088 non-null  int64  \n",
      " 2   DayOfWeek                  41088 non-null  int64  \n",
      " 3   Date                       41088 non-null  object \n",
      " 4   Open                       41088 non-null  float64\n",
      " 5   Promo                      41088 non-null  int64  \n",
      " 6   StateHoliday               41088 non-null  object \n",
      " 7   SchoolHoliday              41088 non-null  int64  \n",
      " 8   StoreType                  41088 non-null  object \n",
      " 9   Assortment                 41088 non-null  object \n",
      " 10  CompetitionDistance        41088 non-null  float64\n",
      " 11  CompetitionOpenSinceMonth  41088 non-null  float64\n",
      " 12  CompetitionOpenSinceYear   41088 non-null  float64\n",
      " 13  Promo2                     41088 non-null  int64  \n",
      " 14  Promo2SinceWeek            41088 non-null  float64\n",
      " 15  Promo2SinceYear            41088 non-null  float64\n",
      " 16  PromoInterval              41088 non-null  object \n",
      "dtypes: float64(6), int64(6), object(5)\n",
      "memory usage: 5.6+ MB\n"
     ]
    }
   ],
   "source": [
    "test.info()"
   ]
  },
  {
   "cell_type": "markdown",
   "id": "21028879",
   "metadata": {},
   "source": [
    "# 特征工程"
   ]
  },
  {
   "cell_type": "code",
   "execution_count": 21,
   "id": "cba233bc",
   "metadata": {
    "ExecuteTime": {
     "end_time": "2022-05-18T09:44:03.491277Z",
     "start_time": "2022-05-18T09:44:03.462668Z"
    }
   },
   "outputs": [
    {
     "data": {
      "text/html": [
       "<div>\n",
       "<style scoped>\n",
       "    .dataframe tbody tr th:only-of-type {\n",
       "        vertical-align: middle;\n",
       "    }\n",
       "\n",
       "    .dataframe tbody tr th {\n",
       "        vertical-align: top;\n",
       "    }\n",
       "\n",
       "    .dataframe thead th {\n",
       "        text-align: right;\n",
       "    }\n",
       "</style>\n",
       "<table border=\"1\" class=\"dataframe\">\n",
       "  <thead>\n",
       "    <tr style=\"text-align: right;\">\n",
       "      <th></th>\n",
       "      <th>Store</th>\n",
       "      <th>DayOfWeek</th>\n",
       "      <th>Date</th>\n",
       "      <th>Sales</th>\n",
       "      <th>Customers</th>\n",
       "      <th>Open</th>\n",
       "      <th>Promo</th>\n",
       "      <th>StateHoliday</th>\n",
       "      <th>SchoolHoliday</th>\n",
       "      <th>StoreType</th>\n",
       "      <th>Assortment</th>\n",
       "      <th>CompetitionDistance</th>\n",
       "      <th>CompetitionOpenSinceMonth</th>\n",
       "      <th>CompetitionOpenSinceYear</th>\n",
       "      <th>Promo2</th>\n",
       "      <th>Promo2SinceWeek</th>\n",
       "      <th>Promo2SinceYear</th>\n",
       "      <th>PromoInterval</th>\n",
       "    </tr>\n",
       "  </thead>\n",
       "  <tbody>\n",
       "    <tr>\n",
       "      <th>0</th>\n",
       "      <td>1</td>\n",
       "      <td>5</td>\n",
       "      <td>2015-07-31</td>\n",
       "      <td>5263</td>\n",
       "      <td>555</td>\n",
       "      <td>1</td>\n",
       "      <td>1</td>\n",
       "      <td>0</td>\n",
       "      <td>1</td>\n",
       "      <td>c</td>\n",
       "      <td>a</td>\n",
       "      <td>1270.0</td>\n",
       "      <td>9.0</td>\n",
       "      <td>2008.0</td>\n",
       "      <td>0</td>\n",
       "      <td>0.0</td>\n",
       "      <td>0.0</td>\n",
       "      <td>0</td>\n",
       "    </tr>\n",
       "    <tr>\n",
       "      <th>1</th>\n",
       "      <td>2</td>\n",
       "      <td>5</td>\n",
       "      <td>2015-07-31</td>\n",
       "      <td>6064</td>\n",
       "      <td>625</td>\n",
       "      <td>1</td>\n",
       "      <td>1</td>\n",
       "      <td>0</td>\n",
       "      <td>1</td>\n",
       "      <td>a</td>\n",
       "      <td>a</td>\n",
       "      <td>570.0</td>\n",
       "      <td>11.0</td>\n",
       "      <td>2007.0</td>\n",
       "      <td>1</td>\n",
       "      <td>13.0</td>\n",
       "      <td>2010.0</td>\n",
       "      <td>Jan,Apr,Jul,Oct</td>\n",
       "    </tr>\n",
       "    <tr>\n",
       "      <th>2</th>\n",
       "      <td>3</td>\n",
       "      <td>5</td>\n",
       "      <td>2015-07-31</td>\n",
       "      <td>8314</td>\n",
       "      <td>821</td>\n",
       "      <td>1</td>\n",
       "      <td>1</td>\n",
       "      <td>0</td>\n",
       "      <td>1</td>\n",
       "      <td>a</td>\n",
       "      <td>a</td>\n",
       "      <td>14130.0</td>\n",
       "      <td>12.0</td>\n",
       "      <td>2006.0</td>\n",
       "      <td>1</td>\n",
       "      <td>14.0</td>\n",
       "      <td>2011.0</td>\n",
       "      <td>Jan,Apr,Jul,Oct</td>\n",
       "    </tr>\n",
       "    <tr>\n",
       "      <th>3</th>\n",
       "      <td>4</td>\n",
       "      <td>5</td>\n",
       "      <td>2015-07-31</td>\n",
       "      <td>13995</td>\n",
       "      <td>1498</td>\n",
       "      <td>1</td>\n",
       "      <td>1</td>\n",
       "      <td>0</td>\n",
       "      <td>1</td>\n",
       "      <td>c</td>\n",
       "      <td>c</td>\n",
       "      <td>620.0</td>\n",
       "      <td>9.0</td>\n",
       "      <td>2009.0</td>\n",
       "      <td>0</td>\n",
       "      <td>0.0</td>\n",
       "      <td>0.0</td>\n",
       "      <td>0</td>\n",
       "    </tr>\n",
       "    <tr>\n",
       "      <th>4</th>\n",
       "      <td>5</td>\n",
       "      <td>5</td>\n",
       "      <td>2015-07-31</td>\n",
       "      <td>4822</td>\n",
       "      <td>559</td>\n",
       "      <td>1</td>\n",
       "      <td>1</td>\n",
       "      <td>0</td>\n",
       "      <td>1</td>\n",
       "      <td>a</td>\n",
       "      <td>a</td>\n",
       "      <td>29910.0</td>\n",
       "      <td>4.0</td>\n",
       "      <td>2015.0</td>\n",
       "      <td>0</td>\n",
       "      <td>0.0</td>\n",
       "      <td>0.0</td>\n",
       "      <td>0</td>\n",
       "    </tr>\n",
       "  </tbody>\n",
       "</table>\n",
       "</div>"
      ],
      "text/plain": [
       "   Store  DayOfWeek        Date  Sales  Customers  Open  Promo StateHoliday  \\\n",
       "0      1          5  2015-07-31   5263        555     1      1            0   \n",
       "1      2          5  2015-07-31   6064        625     1      1            0   \n",
       "2      3          5  2015-07-31   8314        821     1      1            0   \n",
       "3      4          5  2015-07-31  13995       1498     1      1            0   \n",
       "4      5          5  2015-07-31   4822        559     1      1            0   \n",
       "\n",
       "   SchoolHoliday StoreType Assortment  CompetitionDistance  \\\n",
       "0              1         c          a               1270.0   \n",
       "1              1         a          a                570.0   \n",
       "2              1         a          a              14130.0   \n",
       "3              1         c          c                620.0   \n",
       "4              1         a          a              29910.0   \n",
       "\n",
       "   CompetitionOpenSinceMonth  CompetitionOpenSinceYear  Promo2  \\\n",
       "0                        9.0                    2008.0       0   \n",
       "1                       11.0                    2007.0       1   \n",
       "2                       12.0                    2006.0       1   \n",
       "3                        9.0                    2009.0       0   \n",
       "4                        4.0                    2015.0       0   \n",
       "\n",
       "   Promo2SinceWeek  Promo2SinceYear    PromoInterval  \n",
       "0              0.0              0.0                0  \n",
       "1             13.0           2010.0  Jan,Apr,Jul,Oct  \n",
       "2             14.0           2011.0  Jan,Apr,Jul,Oct  \n",
       "3              0.0              0.0                0  \n",
       "4              0.0              0.0                0  "
      ]
     },
     "execution_count": 21,
     "metadata": {},
     "output_type": "execute_result"
    }
   ],
   "source": [
    "train.head()"
   ]
  },
  {
   "cell_type": "code",
   "execution_count": 22,
   "id": "0e98ee41",
   "metadata": {
    "ExecuteTime": {
     "end_time": "2022-05-18T09:44:26.511022Z",
     "start_time": "2022-05-18T09:44:26.457572Z"
    }
   },
   "outputs": [
    {
     "data": {
      "text/plain": [
       "array(['0', 'a', 'b', 'c'], dtype=object)"
      ]
     },
     "execution_count": 22,
     "metadata": {},
     "output_type": "execute_result"
    }
   ],
   "source": [
    "train['StateHoliday'].unique()"
   ]
  },
  {
   "cell_type": "code",
   "execution_count": 23,
   "id": "a9b38e7a",
   "metadata": {
    "ExecuteTime": {
     "end_time": "2022-05-18T09:45:33.065018Z",
     "start_time": "2022-05-18T09:45:25.435850Z"
    }
   },
   "outputs": [
    {
     "name": "stdout",
     "output_type": "stream",
     "text": [
      "CPU times: user 7.44 s, sys: 169 ms, total: 7.61 s\n",
      "Wall time: 7.62 s\n"
     ]
    }
   ],
   "source": [
    "%%time\n",
    "for data in [train,test]:\n",
    "    # 修改时间\n",
    "    data['year'] = data['Date'].apply(lambda x : x.split('-')[0]).astype(int)\n",
    "    data['month'] = data['Date'].apply(lambda x : x.split('-')[1]).astype(int)\n",
    "    data['day'] = data['Date'].apply(lambda x : x.split('-')[2]).astype(int)\n",
    "    \n",
    "    # 店铺有一个字段：PromoInterval，string类型，无法进行建模\n",
    "    # IsPromoMonth 是否进行了促销\n",
    "    month2str = {1:'Jan',2:'Feb',3:'Mar',4:'Apr',5:'May',6:'Jun',7:'Jul',8:'Aug',9:'Sep',\n",
    "                 10:'Oct',11:'Nov',12:'Dec'}\n",
    "    data['monthstr'] = data['month'].map(month2str)\n",
    "    \n",
    "    # convert是转换函数\n",
    "    convert = lambda x : 0 if x['PromoInterval'] == 0 else 1 if x['monthstr'] in x['PromoInterval'] else 0\n",
    "    \n",
    "    # 这个月是否为促销月\n",
    "    data['IsPromoMonth'] = data.apply(convert,axis = 1)\n",
    "    \n",
    "    # 将存在字符串类型转换成数字：StoreType、Assortment、StateHoliday\n",
    "    mappings = {'0':0,'a':1,'b':2,'c':3,'d':4}\n",
    "    data['StoreType'].replace(mappings,inplace = True)\n",
    "    data['Assortment'].replace(mappings,inplace = True)\n",
    "    data['StateHoliday'].replace(mappings,inplace = True)"
   ]
  },
  {
   "cell_type": "code",
   "execution_count": 24,
   "id": "2149f3f1",
   "metadata": {
    "ExecuteTime": {
     "end_time": "2022-05-18T09:46:28.465997Z",
     "start_time": "2022-05-18T09:46:28.444076Z"
    }
   },
   "outputs": [
    {
     "data": {
      "text/plain": [
       "array([3, 1, 4, 2])"
      ]
     },
     "execution_count": 24,
     "metadata": {},
     "output_type": "execute_result"
    }
   ],
   "source": [
    "train['StoreType'].unique()"
   ]
  },
  {
   "cell_type": "code",
   "execution_count": 25,
   "id": "8e41f9ac",
   "metadata": {
    "ExecuteTime": {
     "end_time": "2022-05-18T09:46:36.512692Z",
     "start_time": "2022-05-18T09:46:36.481989Z"
    }
   },
   "outputs": [
    {
     "data": {
      "text/html": [
       "<div>\n",
       "<style scoped>\n",
       "    .dataframe tbody tr th:only-of-type {\n",
       "        vertical-align: middle;\n",
       "    }\n",
       "\n",
       "    .dataframe tbody tr th {\n",
       "        vertical-align: top;\n",
       "    }\n",
       "\n",
       "    .dataframe thead th {\n",
       "        text-align: right;\n",
       "    }\n",
       "</style>\n",
       "<table border=\"1\" class=\"dataframe\">\n",
       "  <thead>\n",
       "    <tr style=\"text-align: right;\">\n",
       "      <th></th>\n",
       "      <th>Store</th>\n",
       "      <th>DayOfWeek</th>\n",
       "      <th>Date</th>\n",
       "      <th>Sales</th>\n",
       "      <th>Customers</th>\n",
       "      <th>Open</th>\n",
       "      <th>Promo</th>\n",
       "      <th>StateHoliday</th>\n",
       "      <th>SchoolHoliday</th>\n",
       "      <th>StoreType</th>\n",
       "      <th>...</th>\n",
       "      <th>CompetitionOpenSinceYear</th>\n",
       "      <th>Promo2</th>\n",
       "      <th>Promo2SinceWeek</th>\n",
       "      <th>Promo2SinceYear</th>\n",
       "      <th>PromoInterval</th>\n",
       "      <th>year</th>\n",
       "      <th>month</th>\n",
       "      <th>day</th>\n",
       "      <th>monthstr</th>\n",
       "      <th>IsPromoMonth</th>\n",
       "    </tr>\n",
       "  </thead>\n",
       "  <tbody>\n",
       "    <tr>\n",
       "      <th>0</th>\n",
       "      <td>1</td>\n",
       "      <td>5</td>\n",
       "      <td>2015-07-31</td>\n",
       "      <td>5263</td>\n",
       "      <td>555</td>\n",
       "      <td>1</td>\n",
       "      <td>1</td>\n",
       "      <td>0</td>\n",
       "      <td>1</td>\n",
       "      <td>3</td>\n",
       "      <td>...</td>\n",
       "      <td>2008.0</td>\n",
       "      <td>0</td>\n",
       "      <td>0.0</td>\n",
       "      <td>0.0</td>\n",
       "      <td>0</td>\n",
       "      <td>2015</td>\n",
       "      <td>7</td>\n",
       "      <td>31</td>\n",
       "      <td>Jul</td>\n",
       "      <td>0</td>\n",
       "    </tr>\n",
       "    <tr>\n",
       "      <th>1</th>\n",
       "      <td>2</td>\n",
       "      <td>5</td>\n",
       "      <td>2015-07-31</td>\n",
       "      <td>6064</td>\n",
       "      <td>625</td>\n",
       "      <td>1</td>\n",
       "      <td>1</td>\n",
       "      <td>0</td>\n",
       "      <td>1</td>\n",
       "      <td>1</td>\n",
       "      <td>...</td>\n",
       "      <td>2007.0</td>\n",
       "      <td>1</td>\n",
       "      <td>13.0</td>\n",
       "      <td>2010.0</td>\n",
       "      <td>Jan,Apr,Jul,Oct</td>\n",
       "      <td>2015</td>\n",
       "      <td>7</td>\n",
       "      <td>31</td>\n",
       "      <td>Jul</td>\n",
       "      <td>1</td>\n",
       "    </tr>\n",
       "    <tr>\n",
       "      <th>2</th>\n",
       "      <td>3</td>\n",
       "      <td>5</td>\n",
       "      <td>2015-07-31</td>\n",
       "      <td>8314</td>\n",
       "      <td>821</td>\n",
       "      <td>1</td>\n",
       "      <td>1</td>\n",
       "      <td>0</td>\n",
       "      <td>1</td>\n",
       "      <td>1</td>\n",
       "      <td>...</td>\n",
       "      <td>2006.0</td>\n",
       "      <td>1</td>\n",
       "      <td>14.0</td>\n",
       "      <td>2011.0</td>\n",
       "      <td>Jan,Apr,Jul,Oct</td>\n",
       "      <td>2015</td>\n",
       "      <td>7</td>\n",
       "      <td>31</td>\n",
       "      <td>Jul</td>\n",
       "      <td>1</td>\n",
       "    </tr>\n",
       "    <tr>\n",
       "      <th>3</th>\n",
       "      <td>4</td>\n",
       "      <td>5</td>\n",
       "      <td>2015-07-31</td>\n",
       "      <td>13995</td>\n",
       "      <td>1498</td>\n",
       "      <td>1</td>\n",
       "      <td>1</td>\n",
       "      <td>0</td>\n",
       "      <td>1</td>\n",
       "      <td>3</td>\n",
       "      <td>...</td>\n",
       "      <td>2009.0</td>\n",
       "      <td>0</td>\n",
       "      <td>0.0</td>\n",
       "      <td>0.0</td>\n",
       "      <td>0</td>\n",
       "      <td>2015</td>\n",
       "      <td>7</td>\n",
       "      <td>31</td>\n",
       "      <td>Jul</td>\n",
       "      <td>0</td>\n",
       "    </tr>\n",
       "    <tr>\n",
       "      <th>4</th>\n",
       "      <td>5</td>\n",
       "      <td>5</td>\n",
       "      <td>2015-07-31</td>\n",
       "      <td>4822</td>\n",
       "      <td>559</td>\n",
       "      <td>1</td>\n",
       "      <td>1</td>\n",
       "      <td>0</td>\n",
       "      <td>1</td>\n",
       "      <td>1</td>\n",
       "      <td>...</td>\n",
       "      <td>2015.0</td>\n",
       "      <td>0</td>\n",
       "      <td>0.0</td>\n",
       "      <td>0.0</td>\n",
       "      <td>0</td>\n",
       "      <td>2015</td>\n",
       "      <td>7</td>\n",
       "      <td>31</td>\n",
       "      <td>Jul</td>\n",
       "      <td>0</td>\n",
       "    </tr>\n",
       "  </tbody>\n",
       "</table>\n",
       "<p>5 rows × 23 columns</p>\n",
       "</div>"
      ],
      "text/plain": [
       "   Store  DayOfWeek        Date  Sales  Customers  Open  Promo  StateHoliday  \\\n",
       "0      1          5  2015-07-31   5263        555     1      1             0   \n",
       "1      2          5  2015-07-31   6064        625     1      1             0   \n",
       "2      3          5  2015-07-31   8314        821     1      1             0   \n",
       "3      4          5  2015-07-31  13995       1498     1      1             0   \n",
       "4      5          5  2015-07-31   4822        559     1      1             0   \n",
       "\n",
       "   SchoolHoliday  StoreType  ...  CompetitionOpenSinceYear  Promo2  \\\n",
       "0              1          3  ...                    2008.0       0   \n",
       "1              1          1  ...                    2007.0       1   \n",
       "2              1          1  ...                    2006.0       1   \n",
       "3              1          3  ...                    2009.0       0   \n",
       "4              1          1  ...                    2015.0       0   \n",
       "\n",
       "   Promo2SinceWeek  Promo2SinceYear    PromoInterval  year  month day  \\\n",
       "0              0.0              0.0                0  2015      7  31   \n",
       "1             13.0           2010.0  Jan,Apr,Jul,Oct  2015      7  31   \n",
       "2             14.0           2011.0  Jan,Apr,Jul,Oct  2015      7  31   \n",
       "3              0.0              0.0                0  2015      7  31   \n",
       "4              0.0              0.0                0  2015      7  31   \n",
       "\n",
       "   monthstr  IsPromoMonth  \n",
       "0       Jul             0  \n",
       "1       Jul             1  \n",
       "2       Jul             1  \n",
       "3       Jul             0  \n",
       "4       Jul             0  \n",
       "\n",
       "[5 rows x 23 columns]"
      ]
     },
     "execution_count": 25,
     "metadata": {},
     "output_type": "execute_result"
    }
   ],
   "source": [
    "train.head()"
   ]
  },
  {
   "cell_type": "markdown",
   "id": "5c3dd6c3",
   "metadata": {},
   "source": [
    "# 构建训练数据和测试数据"
   ]
  },
  {
   "cell_type": "code",
   "execution_count": 26,
   "id": "4d8024bd",
   "metadata": {
    "ExecuteTime": {
     "end_time": "2022-05-18T09:47:14.591628Z",
     "start_time": "2022-05-18T09:47:14.551694Z"
    }
   },
   "outputs": [
    {
     "data": {
      "text/html": [
       "<div>\n",
       "<style scoped>\n",
       "    .dataframe tbody tr th:only-of-type {\n",
       "        vertical-align: middle;\n",
       "    }\n",
       "\n",
       "    .dataframe tbody tr th {\n",
       "        vertical-align: top;\n",
       "    }\n",
       "\n",
       "    .dataframe thead th {\n",
       "        text-align: right;\n",
       "    }\n",
       "</style>\n",
       "<table border=\"1\" class=\"dataframe\">\n",
       "  <thead>\n",
       "    <tr style=\"text-align: right;\">\n",
       "      <th></th>\n",
       "      <th>Store</th>\n",
       "      <th>DayOfWeek</th>\n",
       "      <th>Date</th>\n",
       "      <th>Sales</th>\n",
       "      <th>Customers</th>\n",
       "      <th>Open</th>\n",
       "      <th>Promo</th>\n",
       "      <th>StateHoliday</th>\n",
       "      <th>SchoolHoliday</th>\n",
       "      <th>StoreType</th>\n",
       "      <th>...</th>\n",
       "      <th>CompetitionOpenSinceYear</th>\n",
       "      <th>Promo2</th>\n",
       "      <th>Promo2SinceWeek</th>\n",
       "      <th>Promo2SinceYear</th>\n",
       "      <th>PromoInterval</th>\n",
       "      <th>year</th>\n",
       "      <th>month</th>\n",
       "      <th>day</th>\n",
       "      <th>monthstr</th>\n",
       "      <th>IsPromoMonth</th>\n",
       "    </tr>\n",
       "  </thead>\n",
       "  <tbody>\n",
       "    <tr>\n",
       "      <th>0</th>\n",
       "      <td>1</td>\n",
       "      <td>5</td>\n",
       "      <td>2015-07-31</td>\n",
       "      <td>5263</td>\n",
       "      <td>555</td>\n",
       "      <td>1</td>\n",
       "      <td>1</td>\n",
       "      <td>0</td>\n",
       "      <td>1</td>\n",
       "      <td>3</td>\n",
       "      <td>...</td>\n",
       "      <td>2008.0</td>\n",
       "      <td>0</td>\n",
       "      <td>0.0</td>\n",
       "      <td>0.0</td>\n",
       "      <td>0</td>\n",
       "      <td>2015</td>\n",
       "      <td>7</td>\n",
       "      <td>31</td>\n",
       "      <td>Jul</td>\n",
       "      <td>0</td>\n",
       "    </tr>\n",
       "    <tr>\n",
       "      <th>1</th>\n",
       "      <td>2</td>\n",
       "      <td>5</td>\n",
       "      <td>2015-07-31</td>\n",
       "      <td>6064</td>\n",
       "      <td>625</td>\n",
       "      <td>1</td>\n",
       "      <td>1</td>\n",
       "      <td>0</td>\n",
       "      <td>1</td>\n",
       "      <td>1</td>\n",
       "      <td>...</td>\n",
       "      <td>2007.0</td>\n",
       "      <td>1</td>\n",
       "      <td>13.0</td>\n",
       "      <td>2010.0</td>\n",
       "      <td>Jan,Apr,Jul,Oct</td>\n",
       "      <td>2015</td>\n",
       "      <td>7</td>\n",
       "      <td>31</td>\n",
       "      <td>Jul</td>\n",
       "      <td>1</td>\n",
       "    </tr>\n",
       "    <tr>\n",
       "      <th>2</th>\n",
       "      <td>3</td>\n",
       "      <td>5</td>\n",
       "      <td>2015-07-31</td>\n",
       "      <td>8314</td>\n",
       "      <td>821</td>\n",
       "      <td>1</td>\n",
       "      <td>1</td>\n",
       "      <td>0</td>\n",
       "      <td>1</td>\n",
       "      <td>1</td>\n",
       "      <td>...</td>\n",
       "      <td>2006.0</td>\n",
       "      <td>1</td>\n",
       "      <td>14.0</td>\n",
       "      <td>2011.0</td>\n",
       "      <td>Jan,Apr,Jul,Oct</td>\n",
       "      <td>2015</td>\n",
       "      <td>7</td>\n",
       "      <td>31</td>\n",
       "      <td>Jul</td>\n",
       "      <td>1</td>\n",
       "    </tr>\n",
       "    <tr>\n",
       "      <th>3</th>\n",
       "      <td>4</td>\n",
       "      <td>5</td>\n",
       "      <td>2015-07-31</td>\n",
       "      <td>13995</td>\n",
       "      <td>1498</td>\n",
       "      <td>1</td>\n",
       "      <td>1</td>\n",
       "      <td>0</td>\n",
       "      <td>1</td>\n",
       "      <td>3</td>\n",
       "      <td>...</td>\n",
       "      <td>2009.0</td>\n",
       "      <td>0</td>\n",
       "      <td>0.0</td>\n",
       "      <td>0.0</td>\n",
       "      <td>0</td>\n",
       "      <td>2015</td>\n",
       "      <td>7</td>\n",
       "      <td>31</td>\n",
       "      <td>Jul</td>\n",
       "      <td>0</td>\n",
       "    </tr>\n",
       "    <tr>\n",
       "      <th>4</th>\n",
       "      <td>5</td>\n",
       "      <td>5</td>\n",
       "      <td>2015-07-31</td>\n",
       "      <td>4822</td>\n",
       "      <td>559</td>\n",
       "      <td>1</td>\n",
       "      <td>1</td>\n",
       "      <td>0</td>\n",
       "      <td>1</td>\n",
       "      <td>1</td>\n",
       "      <td>...</td>\n",
       "      <td>2015.0</td>\n",
       "      <td>0</td>\n",
       "      <td>0.0</td>\n",
       "      <td>0.0</td>\n",
       "      <td>0</td>\n",
       "      <td>2015</td>\n",
       "      <td>7</td>\n",
       "      <td>31</td>\n",
       "      <td>Jul</td>\n",
       "      <td>0</td>\n",
       "    </tr>\n",
       "  </tbody>\n",
       "</table>\n",
       "<p>5 rows × 23 columns</p>\n",
       "</div>"
      ],
      "text/plain": [
       "   Store  DayOfWeek        Date  Sales  Customers  Open  Promo  StateHoliday  \\\n",
       "0      1          5  2015-07-31   5263        555     1      1             0   \n",
       "1      2          5  2015-07-31   6064        625     1      1             0   \n",
       "2      3          5  2015-07-31   8314        821     1      1             0   \n",
       "3      4          5  2015-07-31  13995       1498     1      1             0   \n",
       "4      5          5  2015-07-31   4822        559     1      1             0   \n",
       "\n",
       "   SchoolHoliday  StoreType  ...  CompetitionOpenSinceYear  Promo2  \\\n",
       "0              1          3  ...                    2008.0       0   \n",
       "1              1          1  ...                    2007.0       1   \n",
       "2              1          1  ...                    2006.0       1   \n",
       "3              1          3  ...                    2009.0       0   \n",
       "4              1          1  ...                    2015.0       0   \n",
       "\n",
       "   Promo2SinceWeek  Promo2SinceYear    PromoInterval  year  month day  \\\n",
       "0              0.0              0.0                0  2015      7  31   \n",
       "1             13.0           2010.0  Jan,Apr,Jul,Oct  2015      7  31   \n",
       "2             14.0           2011.0  Jan,Apr,Jul,Oct  2015      7  31   \n",
       "3              0.0              0.0                0  2015      7  31   \n",
       "4              0.0              0.0                0  2015      7  31   \n",
       "\n",
       "   monthstr  IsPromoMonth  \n",
       "0       Jul             0  \n",
       "1       Jul             1  \n",
       "2       Jul             1  \n",
       "3       Jul             0  \n",
       "4       Jul             0  \n",
       "\n",
       "[5 rows x 23 columns]"
      ]
     },
     "metadata": {},
     "output_type": "display_data"
    },
    {
     "data": {
      "text/html": [
       "<div>\n",
       "<style scoped>\n",
       "    .dataframe tbody tr th:only-of-type {\n",
       "        vertical-align: middle;\n",
       "    }\n",
       "\n",
       "    .dataframe tbody tr th {\n",
       "        vertical-align: top;\n",
       "    }\n",
       "\n",
       "    .dataframe thead th {\n",
       "        text-align: right;\n",
       "    }\n",
       "</style>\n",
       "<table border=\"1\" class=\"dataframe\">\n",
       "  <thead>\n",
       "    <tr style=\"text-align: right;\">\n",
       "      <th></th>\n",
       "      <th>Id</th>\n",
       "      <th>Store</th>\n",
       "      <th>DayOfWeek</th>\n",
       "      <th>Date</th>\n",
       "      <th>Open</th>\n",
       "      <th>Promo</th>\n",
       "      <th>StateHoliday</th>\n",
       "      <th>SchoolHoliday</th>\n",
       "      <th>StoreType</th>\n",
       "      <th>Assortment</th>\n",
       "      <th>...</th>\n",
       "      <th>CompetitionOpenSinceYear</th>\n",
       "      <th>Promo2</th>\n",
       "      <th>Promo2SinceWeek</th>\n",
       "      <th>Promo2SinceYear</th>\n",
       "      <th>PromoInterval</th>\n",
       "      <th>year</th>\n",
       "      <th>month</th>\n",
       "      <th>day</th>\n",
       "      <th>monthstr</th>\n",
       "      <th>IsPromoMonth</th>\n",
       "    </tr>\n",
       "  </thead>\n",
       "  <tbody>\n",
       "    <tr>\n",
       "      <th>0</th>\n",
       "      <td>1</td>\n",
       "      <td>1</td>\n",
       "      <td>4</td>\n",
       "      <td>2015-09-17</td>\n",
       "      <td>1.0</td>\n",
       "      <td>1</td>\n",
       "      <td>0</td>\n",
       "      <td>0</td>\n",
       "      <td>3</td>\n",
       "      <td>1</td>\n",
       "      <td>...</td>\n",
       "      <td>2008.0</td>\n",
       "      <td>0</td>\n",
       "      <td>0.0</td>\n",
       "      <td>0.0</td>\n",
       "      <td>0</td>\n",
       "      <td>2015</td>\n",
       "      <td>9</td>\n",
       "      <td>17</td>\n",
       "      <td>Sep</td>\n",
       "      <td>0</td>\n",
       "    </tr>\n",
       "    <tr>\n",
       "      <th>1</th>\n",
       "      <td>2</td>\n",
       "      <td>3</td>\n",
       "      <td>4</td>\n",
       "      <td>2015-09-17</td>\n",
       "      <td>1.0</td>\n",
       "      <td>1</td>\n",
       "      <td>0</td>\n",
       "      <td>0</td>\n",
       "      <td>1</td>\n",
       "      <td>1</td>\n",
       "      <td>...</td>\n",
       "      <td>2006.0</td>\n",
       "      <td>1</td>\n",
       "      <td>14.0</td>\n",
       "      <td>2011.0</td>\n",
       "      <td>Jan,Apr,Jul,Oct</td>\n",
       "      <td>2015</td>\n",
       "      <td>9</td>\n",
       "      <td>17</td>\n",
       "      <td>Sep</td>\n",
       "      <td>0</td>\n",
       "    </tr>\n",
       "    <tr>\n",
       "      <th>2</th>\n",
       "      <td>3</td>\n",
       "      <td>7</td>\n",
       "      <td>4</td>\n",
       "      <td>2015-09-17</td>\n",
       "      <td>1.0</td>\n",
       "      <td>1</td>\n",
       "      <td>0</td>\n",
       "      <td>0</td>\n",
       "      <td>1</td>\n",
       "      <td>3</td>\n",
       "      <td>...</td>\n",
       "      <td>2013.0</td>\n",
       "      <td>0</td>\n",
       "      <td>0.0</td>\n",
       "      <td>0.0</td>\n",
       "      <td>0</td>\n",
       "      <td>2015</td>\n",
       "      <td>9</td>\n",
       "      <td>17</td>\n",
       "      <td>Sep</td>\n",
       "      <td>0</td>\n",
       "    </tr>\n",
       "    <tr>\n",
       "      <th>3</th>\n",
       "      <td>4</td>\n",
       "      <td>8</td>\n",
       "      <td>4</td>\n",
       "      <td>2015-09-17</td>\n",
       "      <td>1.0</td>\n",
       "      <td>1</td>\n",
       "      <td>0</td>\n",
       "      <td>0</td>\n",
       "      <td>1</td>\n",
       "      <td>1</td>\n",
       "      <td>...</td>\n",
       "      <td>2014.0</td>\n",
       "      <td>0</td>\n",
       "      <td>0.0</td>\n",
       "      <td>0.0</td>\n",
       "      <td>0</td>\n",
       "      <td>2015</td>\n",
       "      <td>9</td>\n",
       "      <td>17</td>\n",
       "      <td>Sep</td>\n",
       "      <td>0</td>\n",
       "    </tr>\n",
       "    <tr>\n",
       "      <th>4</th>\n",
       "      <td>5</td>\n",
       "      <td>9</td>\n",
       "      <td>4</td>\n",
       "      <td>2015-09-17</td>\n",
       "      <td>1.0</td>\n",
       "      <td>1</td>\n",
       "      <td>0</td>\n",
       "      <td>0</td>\n",
       "      <td>1</td>\n",
       "      <td>3</td>\n",
       "      <td>...</td>\n",
       "      <td>2000.0</td>\n",
       "      <td>0</td>\n",
       "      <td>0.0</td>\n",
       "      <td>0.0</td>\n",
       "      <td>0</td>\n",
       "      <td>2015</td>\n",
       "      <td>9</td>\n",
       "      <td>17</td>\n",
       "      <td>Sep</td>\n",
       "      <td>0</td>\n",
       "    </tr>\n",
       "  </tbody>\n",
       "</table>\n",
       "<p>5 rows × 22 columns</p>\n",
       "</div>"
      ],
      "text/plain": [
       "   Id  Store  DayOfWeek        Date  Open  Promo  StateHoliday  SchoolHoliday  \\\n",
       "0   1      1          4  2015-09-17   1.0      1             0              0   \n",
       "1   2      3          4  2015-09-17   1.0      1             0              0   \n",
       "2   3      7          4  2015-09-17   1.0      1             0              0   \n",
       "3   4      8          4  2015-09-17   1.0      1             0              0   \n",
       "4   5      9          4  2015-09-17   1.0      1             0              0   \n",
       "\n",
       "   StoreType  Assortment  ...  CompetitionOpenSinceYear  Promo2  \\\n",
       "0          3           1  ...                    2008.0       0   \n",
       "1          1           1  ...                    2006.0       1   \n",
       "2          1           3  ...                    2013.0       0   \n",
       "3          1           1  ...                    2014.0       0   \n",
       "4          1           3  ...                    2000.0       0   \n",
       "\n",
       "   Promo2SinceWeek  Promo2SinceYear    PromoInterval  year month  day  \\\n",
       "0              0.0              0.0                0  2015     9   17   \n",
       "1             14.0           2011.0  Jan,Apr,Jul,Oct  2015     9   17   \n",
       "2              0.0              0.0                0  2015     9   17   \n",
       "3              0.0              0.0                0  2015     9   17   \n",
       "4              0.0              0.0                0  2015     9   17   \n",
       "\n",
       "   monthstr  IsPromoMonth  \n",
       "0       Sep             0  \n",
       "1       Sep             0  \n",
       "2       Sep             0  \n",
       "3       Sep             0  \n",
       "4       Sep             0  \n",
       "\n",
       "[5 rows x 22 columns]"
      ]
     },
     "metadata": {},
     "output_type": "display_data"
    }
   ],
   "source": [
    "display(train.head(),test.head())"
   ]
  },
  {
   "cell_type": "code",
   "execution_count": 27,
   "id": "7250f615",
   "metadata": {
    "ExecuteTime": {
     "end_time": "2022-05-18T09:48:07.977199Z",
     "start_time": "2022-05-18T09:48:07.900283Z"
    }
   },
   "outputs": [
    {
     "data": {
      "text/plain": [
       "(844338, 23)"
      ]
     },
     "metadata": {},
     "output_type": "display_data"
    },
    {
     "data": {
      "text/plain": [
       "(41088, 22)"
      ]
     },
     "metadata": {},
     "output_type": "display_data"
    },
    {
     "data": {
      "text/plain": [
       "(844338, 18)"
      ]
     },
     "metadata": {},
     "output_type": "display_data"
    },
    {
     "data": {
      "text/plain": [
       "(41088, 17)"
      ]
     },
     "metadata": {},
     "output_type": "display_data"
    }
   ],
   "source": [
    "display(train.shape,test.shape)\n",
    "df_train = train.drop(['Date','monthstr','PromoInterval','Customers','Open'],axis = 1)\n",
    "df_test = test.drop(['Date','monthstr','PromoInterval','Open','Id'],axis = 1)\n",
    "display(df_train.shape,df_test.shape)"
   ]
  },
  {
   "cell_type": "code",
   "execution_count": 28,
   "id": "01755871",
   "metadata": {
    "ExecuteTime": {
     "end_time": "2022-05-18T09:52:05.158699Z",
     "start_time": "2022-05-18T09:52:05.139121Z"
    }
   },
   "outputs": [
    {
     "data": {
      "text/plain": [
       "array(['2015-07-31', '2015-07-30', '2015-07-29', '2015-07-28',\n",
       "       '2015-07-27', '2015-07-26', '2015-07-25', '2015-07-24',\n",
       "       '2015-07-23', '2015-07-22', '2015-07-21', '2015-07-20',\n",
       "       '2015-07-19', '2015-07-18', '2015-07-17', '2015-07-16',\n",
       "       '2015-07-15', '2015-07-14', '2015-07-13', '2015-07-12',\n",
       "       '2015-07-11', '2015-07-10', '2015-07-09', '2015-07-08',\n",
       "       '2015-07-07', '2015-07-06', '2015-07-05', '2015-07-04',\n",
       "       '2015-07-03', '2015-07-02', '2015-07-01', '2015-06-30',\n",
       "       '2015-06-29', '2015-06-28', '2015-06-27', '2015-06-26',\n",
       "       '2015-06-25', '2015-06-24', '2015-06-23', '2015-06-22',\n",
       "       '2015-06-21', '2015-06-20', '2015-06-19', '2015-06-18',\n",
       "       '2015-06-17', '2015-06-16', '2015-06-15', '2015-06-14',\n",
       "       '2015-06-13'], dtype=object)"
      ]
     },
     "execution_count": 28,
     "metadata": {},
     "output_type": "execute_result"
    }
   ],
   "source": [
    "train[:6*7*1115]['Date'].unique()"
   ]
  },
  {
   "cell_type": "code",
   "execution_count": 30,
   "id": "005ad5e1",
   "metadata": {
    "ExecuteTime": {
     "end_time": "2022-05-18T09:53:01.209747Z",
     "start_time": "2022-05-18T09:53:01.189202Z"
    }
   },
   "outputs": [
    {
     "data": {
      "text/plain": [
       "array(['2015-07-31', '2015-07-30', '2015-07-29', '2015-07-28',\n",
       "       '2015-07-27', '2015-07-26', '2015-07-25', '2015-07-24',\n",
       "       '2015-07-23', '2015-07-22', '2015-07-21', '2015-07-20',\n",
       "       '2015-07-19', '2015-07-18', '2015-07-17', '2015-07-16',\n",
       "       '2015-07-15', '2015-07-14', '2015-07-13', '2015-07-12',\n",
       "       '2015-07-11', '2015-07-10', '2015-07-09', '2015-07-08',\n",
       "       '2015-07-07', '2015-07-06', '2015-07-05', '2015-07-04',\n",
       "       '2015-07-03', '2015-07-02', '2015-07-01', '2015-06-30',\n",
       "       '2015-06-29', '2015-06-28', '2015-06-27', '2015-06-26',\n",
       "       '2015-06-25', '2015-06-24', '2015-06-23', '2015-06-22',\n",
       "       '2015-06-21', '2015-06-20', '2015-06-19', '2015-06-18',\n",
       "       '2015-06-17', '2015-06-16', '2015-06-15', '2015-06-14',\n",
       "       '2015-06-13', '2015-06-12', '2015-06-11', '2015-06-10',\n",
       "       '2015-06-09', '2015-06-08', '2015-06-07', '2015-06-06',\n",
       "       '2015-06-05', '2015-06-04', '2015-06-03', '2015-06-02',\n",
       "       '2015-06-01', '2015-05-31', '2015-05-30', '2015-05-29',\n",
       "       '2015-05-28', '2015-05-27'], dtype=object)"
      ]
     },
     "execution_count": 30,
     "metadata": {},
     "output_type": "execute_result"
    }
   ],
   "source": [
    "train[:8*7*1115]['Date'].unique()"
   ]
  },
  {
   "cell_type": "code",
   "execution_count": 31,
   "id": "1d763d70",
   "metadata": {
    "ExecuteTime": {
     "end_time": "2022-05-18T09:54:23.872996Z",
     "start_time": "2022-05-18T09:54:23.864412Z"
    }
   },
   "outputs": [],
   "source": [
    "# df_train训练数据，历史数据\n",
    "# 根据历史数据，进行建模，对df_test进行预测\n",
    "# df_train这个数据，进行拆分：建模训练数据、验证数据（评估）\n",
    "\n",
    "X_train = df_train[6*7*1115:] # 建模训练数据\n",
    "X_test = df_train[:6*7*1115] # 建模验证数据（评估） 2015年 6~7月份的销售数据"
   ]
  },
  {
   "cell_type": "markdown",
   "id": "a24b0154",
   "metadata": {},
   "source": [
    "# 数据属性间的相关性系数"
   ]
  },
  {
   "cell_type": "code",
   "execution_count": 32,
   "id": "c8ec981e",
   "metadata": {
    "ExecuteTime": {
     "end_time": "2022-05-18T09:55:39.859285Z",
     "start_time": "2022-05-18T09:55:38.651827Z"
    }
   },
   "outputs": [
    {
     "data": {
      "text/plain": [
       "<AxesSubplot:>"
      ]
     },
     "execution_count": 32,
     "metadata": {},
     "output_type": "execute_result"
    },
    {
     "data": {
      "image/png": "[encoded data removed]",
      "text/plain": [
       "<Figure size 1728x1440 with 2 Axes>"
      ]
     },
     "metadata": {
      "needs_background": "light"
     },
     "output_type": "display_data"
    }
   ],
   "source": [
    "plt.figure(figsize=(24,20))\n",
    "\n",
    "plt.rcParams['font.size'] = 12\n",
    "\n",
    "sns.heatmap(df_train.corr(),cmap = 'RdYlGn_r',annot=True,vmin = -1,vmax=1)"
   ]
  },
  {
   "cell_type": "markdown",
   "id": "ed3ed646",
   "metadata": {},
   "source": [
    "# 提取模型训练的数据"
   ]
  },
  {
   "cell_type": "code",
   "execution_count": 33,
   "id": "3011778d",
   "metadata": {
    "ExecuteTime": {
     "end_time": "2022-05-18T09:56:14.331894Z",
     "start_time": "2022-05-18T09:56:14.171123Z"
    }
   },
   "outputs": [
    {
     "data": {
      "image/png": "[encoded data removed]",
      "text/plain": [
       "<Figure size 432x288 with 1 Axes>"
      ]
     },
     "metadata": {
      "needs_background": "light"
     },
     "output_type": "display_data"
    }
   ],
   "source": [
    "_ = plt.hist(X_train['Sales'],bins = 100) # 目标值，销售额，正态分布，不够正！！！"
   ]
  },
  {
   "cell_type": "code",
   "execution_count": 34,
   "id": "7cecbf1a",
   "metadata": {
    "ExecuteTime": {
     "end_time": "2022-05-18T09:56:51.440719Z",
     "start_time": "2022-05-18T09:56:51.400736Z"
    }
   },
   "outputs": [],
   "source": [
    "# 目标值\n",
    "y_train = np.log1p(X_train['Sales']) # 对数化\n",
    "y_test = np.log1p(X_test['Sales']) # 对数化，正态化，更加规整,正态化\n",
    "\n",
    "# 特征\n",
    "X_train = X_train.drop('Sales',axis = 1) # X_train,y_train 数据--->目标值（建模）\n",
    "X_test = X_test.drop('Sales',axis = 1) # X_test，y_test 数据 --->目标值（验证，评估）"
   ]
  },
  {
   "cell_type": "code",
   "execution_count": 35,
   "id": "5ee6ef04",
   "metadata": {
    "ExecuteTime": {
     "end_time": "2022-05-18T09:57:08.722577Z",
     "start_time": "2022-05-18T09:57:08.711173Z"
    }
   },
   "outputs": [
    {
     "data": {
      "text/plain": [
       "2.302585092994046"
      ]
     },
     "execution_count": 35,
     "metadata": {},
     "output_type": "execute_result"
    }
   ],
   "source": [
    "np.log(10)"
   ]
  },
  {
   "cell_type": "code",
   "execution_count": 36,
   "id": "29ae6759",
   "metadata": {
    "ExecuteTime": {
     "end_time": "2022-05-18T09:57:31.728239Z",
     "start_time": "2022-05-18T09:57:31.715208Z"
    }
   },
   "outputs": [
    {
     "data": {
      "text/plain": [
       "2.302585092994046"
      ]
     },
     "execution_count": 36,
     "metadata": {},
     "output_type": "execute_result"
    }
   ],
   "source": [
    "np.log1p(9)"
   ]
  },
  {
   "cell_type": "code",
   "execution_count": 37,
   "id": "61375089",
   "metadata": {
    "ExecuteTime": {
     "end_time": "2022-05-18T09:58:15.781613Z",
     "start_time": "2022-05-18T09:58:15.616108Z"
    }
   },
   "outputs": [
    {
     "data": {
      "image/png": "[encoded data removed]",
      "text/plain": [
       "<Figure size 432x288 with 1 Axes>"
      ]
     },
     "metadata": {
      "needs_background": "light"
     },
     "output_type": "display_data"
    }
   ],
   "source": [
    "_ = plt.hist(y_train,bins = 100) # 目标值，销售额，正态分布"
   ]
  },
  {
   "cell_type": "markdown",
   "id": "4a1270ff",
   "metadata": {},
   "source": [
    "# 构建模型"
   ]
  },
  {
   "cell_type": "markdown",
   "id": "eb23f18b",
   "metadata": {},
   "source": [
    "## 定义评价函数(均方根百分比误差)"
   ]
  },
  {
   "cell_type": "markdown",
   "id": "1af003f9",
   "metadata": {
    "ExecuteTime": {
     "end_time": "2022-05-18T10:00:25.809785Z",
     "start_time": "2022-05-18T10:00:25.797099Z"
    }
   },
   "source": [
    "<font size = 5 color = 'green'>$RMSPE = \\sqrt{\\frac{1}{N}\\sum\\limits_{i=1}^N(1-\\frac{\\hat{y}}{y})^2}$</font>"
   ]
  },
  {
   "cell_type": "code",
   "execution_count": 39,
   "id": "806847bb",
   "metadata": {
    "ExecuteTime": {
     "end_time": "2022-05-18T10:00:46.813297Z",
     "start_time": "2022-05-18T10:00:46.805385Z"
    }
   },
   "outputs": [],
   "source": [
    "def rmspe(y,yhat):\n",
    "    return np.sqrt(np.mean(1 - yhat/y)**2)"
   ]
  },
  {
   "cell_type": "code",
   "execution_count": 40,
   "id": "c671c3aa",
   "metadata": {
    "ExecuteTime": {
     "end_time": "2022-05-18T10:01:18.463482Z",
     "start_time": "2022-05-18T10:01:18.453295Z"
    }
   },
   "outputs": [],
   "source": [
    "def rmspe_xg(y,yhat): # 放大镜\n",
    "    y = np.expm1(y) \n",
    "    yhat = np.expm1(yhat.get_label())# DMaxtrix数据类型，get_label获取数据\n",
    "    return 'rmspe',rmspe(y,yhat)"
   ]
  },
  {
   "cell_type": "code",
   "execution_count": 41,
   "id": "379d38bc",
   "metadata": {
    "ExecuteTime": {
     "end_time": "2022-05-18T10:01:50.220509Z",
     "start_time": "2022-05-18T10:01:50.207146Z"
    }
   },
   "outputs": [
    {
     "data": {
      "text/plain": [
       "6.38905609893065"
      ]
     },
     "execution_count": 41,
     "metadata": {},
     "output_type": "execute_result"
    }
   ],
   "source": [
    "np.expm1(2)"
   ]
  },
  {
   "cell_type": "code",
   "execution_count": 42,
   "id": "d392c6a2",
   "metadata": {
    "ExecuteTime": {
     "end_time": "2022-05-18T10:02:05.109524Z",
     "start_time": "2022-05-18T10:02:05.097843Z"
    }
   },
   "outputs": [
    {
     "data": {
      "text/plain": [
       "6.38905609893065"
      ]
     },
     "execution_count": 42,
     "metadata": {},
     "output_type": "execute_result"
    }
   ],
   "source": [
    "np.exp(2) -1 "
   ]
  },
  {
   "cell_type": "markdown",
   "id": "d94ac2b1",
   "metadata": {},
   "source": [
    "## 模型训练"
   ]
  },
  {
   "cell_type": "code",
   "execution_count": 43,
   "id": "74988a5f",
   "metadata": {
    "ExecuteTime": {
     "end_time": "2022-05-18T10:07:35.580493Z",
     "start_time": "2022-05-18T10:04:29.287694Z"
    }
   },
   "outputs": [
    {
     "name": "stdout",
     "output_type": "stream",
     "text": [
      "模型训练开始……\n",
      "[18:04:29] WARNING: /Users/runner/work/xgboost/xgboost/python-package/build/temp.macosx-10.9-x86_64-3.7/xgboost/src/objective/regression_obj.cu:203: reg:linear is now deprecated in favor of reg:squarederror.\n",
      "[18:04:29] WARNING: /Users/runner/work/xgboost/xgboost/python-package/build/temp.macosx-10.9-x86_64-3.7/xgboost/src/learner.cc:627: \n",
      "Parameters: { \"silent\" } might not be used.\n",
      "\n",
      "  This could be a false alarm, with some parameters getting used by language bindings but\n",
      "  then being mistakenly passed down to XGBoost core, or some parameter actually being used\n",
      "  but getting flagged wrongly here. Please open an issue if you find any such cases.\n",
      "\n",
      "\n"
     ]
    },
    {
     "name": "stderr",
     "output_type": "stream",
     "text": [
      "/opt/anaconda3/lib/python3.9/site-packages/xgboost/training.py:35: UserWarning: `feval` is deprecated, use `custom_metric` instead.  They have different behavior when custom objective is also used.See https://xgboost.readthedocs.io/en/latest/tutorials/custom_metric_obj.html for details on the `custom_metric`.\n",
      "  warnings.warn(\n"
     ]
    },
    {
     "name": "stdout",
     "output_type": "stream",
     "text": [
      "[0]\ttrain-rmse:8.01963\ttrain-rmspe:6230.14990\tvalidation-rmse:8.04835\tvalidation-rmspe:6389.62988\n",
      "[1]\ttrain-rmse:7.77952\ttrain-rmspe:4099.54590\tvalidation-rmse:7.80812\tvalidation-rmspe:4203.94971\n",
      "[2]\ttrain-rmse:7.54664\ttrain-rmspe:2886.26587\tvalidation-rmse:7.57534\tvalidation-rmspe:2960.11475\n",
      "[3]\ttrain-rmse:7.32074\ttrain-rmspe:2119.10596\tvalidation-rmse:7.34938\tvalidation-rmspe:2173.20752\n",
      "[4]\ttrain-rmse:7.10161\ttrain-rmspe:1601.73682\tvalidation-rmse:7.12995\tvalidation-rmspe:1642.05420\n",
      "[5]\ttrain-rmse:6.88914\ttrain-rmspe:1238.32751\tvalidation-rmse:6.91729\tvalidation-rmspe:1269.35584\n",
      "[6]\ttrain-rmse:6.68297\ttrain-rmspe:972.97821\tvalidation-rmse:6.71100\tvalidation-rmspe:997.33624\n",
      "[7]\ttrain-rmse:6.48301\ttrain-rmspe:775.21509\tvalidation-rmse:6.51066\tvalidation-rmspe:794.29376\n",
      "[8]\ttrain-rmse:6.28905\ttrain-rmspe:624.86865\tvalidation-rmse:6.31626\tvalidation-rmspe:639.95154\n",
      "[9]\ttrain-rmse:6.10094\ttrain-rmspe:508.87351\tvalidation-rmse:6.12810\tvalidation-rmspe:521.16620\n",
      "[10]\ttrain-rmse:5.91848\ttrain-rmspe:417.97055\tvalidation-rmse:5.94566\tvalidation-rmspe:428.11957\n",
      "[11]\ttrain-rmse:5.74145\ttrain-rmspe:345.99237\tvalidation-rmse:5.76831\tvalidation-rmspe:354.27295\n",
      "[12]\ttrain-rmse:5.56984\ttrain-rmspe:288.66254\tvalidation-rmse:5.59688\tvalidation-rmspe:295.64862\n",
      "[13]\ttrain-rmse:5.40332\ttrain-rmspe:242.28482\tvalidation-rmse:5.43015\tvalidation-rmspe:248.11420\n",
      "[14]\ttrain-rmse:5.24185\ttrain-rmspe:204.68953\tvalidation-rmse:5.26828\tvalidation-rmspe:209.54184\n",
      "[15]\ttrain-rmse:5.08527\ttrain-rmspe:173.93663\tvalidation-rmse:5.11156\tvalidation-rmspe:178.05631\n",
      "[16]\ttrain-rmse:4.93335\ttrain-rmspe:148.55522\tvalidation-rmse:4.95871\tvalidation-rmspe:151.95218\n",
      "[17]\ttrain-rmse:4.78601\ttrain-rmspe:127.53842\tvalidation-rmse:4.81095\tvalidation-rmspe:130.40720\n",
      "[18]\ttrain-rmse:4.64312\ttrain-rmspe:110.02422\tvalidation-rmse:4.66721\tvalidation-rmspe:112.41441\n",
      "[19]\ttrain-rmse:4.50447\ttrain-rmspe:95.32143\tvalidation-rmse:4.52843\tvalidation-rmspe:97.38566\n",
      "[20]\ttrain-rmse:4.37001\ttrain-rmspe:82.95345\tvalidation-rmse:4.39408\tvalidation-rmspe:84.76708\n",
      "[21]\ttrain-rmse:4.23960\ttrain-rmspe:72.49365\tvalidation-rmse:4.26367\tvalidation-rmspe:74.08657\n",
      "[22]\ttrain-rmse:4.11313\ttrain-rmspe:63.61004\tvalidation-rmse:4.13723\tvalidation-rmspe:65.01650\n",
      "[23]\ttrain-rmse:3.99045\ttrain-rmspe:56.02255\tvalidation-rmse:4.01451\tvalidation-rmspe:57.26379\n",
      "[24]\ttrain-rmse:3.87146\ttrain-rmspe:49.51887\tvalidation-rmse:3.89538\tvalidation-rmspe:50.61374\n",
      "[25]\ttrain-rmse:3.75606\ttrain-rmspe:43.92681\tvalidation-rmse:3.77989\tvalidation-rmspe:44.89790\n",
      "[26]\ttrain-rmse:3.64414\ttrain-rmspe:39.10082\tvalidation-rmse:3.66787\tvalidation-rmspe:39.96691\n",
      "[27]\ttrain-rmse:3.53562\ttrain-rmspe:34.92126\tvalidation-rmse:3.55900\tvalidation-rmspe:35.68657\n",
      "[28]\ttrain-rmse:3.43033\ttrain-rmspe:31.28013\tvalidation-rmse:3.45324\tvalidation-rmspe:31.95402\n",
      "[29]\ttrain-rmse:3.32815\ttrain-rmspe:28.09488\tvalidation-rmse:3.35082\tvalidation-rmspe:28.69680\n",
      "[30]\ttrain-rmse:3.22913\ttrain-rmspe:25.31456\tvalidation-rmse:3.25147\tvalidation-rmspe:25.85115\n",
      "[31]\ttrain-rmse:3.13310\ttrain-rmspe:22.87277\tvalidation-rmse:3.15496\tvalidation-rmspe:23.34996\n",
      "[32]\ttrain-rmse:3.04000\ttrain-rmspe:20.72426\tvalidation-rmse:3.06085\tvalidation-rmspe:21.13921\n",
      "[33]\ttrain-rmse:2.94964\ttrain-rmspe:18.82110\tvalidation-rmse:2.97028\tvalidation-rmspe:19.19662\n",
      "[34]\ttrain-rmse:2.86208\ttrain-rmspe:17.13867\tvalidation-rmse:2.88211\tvalidation-rmspe:17.47161\n",
      "[35]\ttrain-rmse:2.77707\ttrain-rmspe:15.63884\tvalidation-rmse:2.79666\tvalidation-rmspe:15.93745\n",
      "[36]\ttrain-rmse:2.69473\ttrain-rmspe:14.30737\tvalidation-rmse:2.71458\tvalidation-rmspe:14.58744\n",
      "[37]\ttrain-rmse:2.61472\ttrain-rmspe:13.11203\tvalidation-rmse:2.63443\tvalidation-rmspe:13.36890\n",
      "[38]\ttrain-rmse:2.53720\ttrain-rmspe:12.04389\tvalidation-rmse:2.55676\tvalidation-rmspe:12.28020\n",
      "[39]\ttrain-rmse:2.46209\ttrain-rmspe:11.08776\tvalidation-rmse:2.48033\tvalidation-rmspe:11.29270\n",
      "[40]\ttrain-rmse:2.38920\ttrain-rmspe:10.22545\tvalidation-rmse:2.40723\tvalidation-rmspe:10.41393\n",
      "[41]\ttrain-rmse:2.31861\ttrain-rmspe:9.45051\tvalidation-rmse:2.33647\tvalidation-rmspe:9.62533\n",
      "[42]\ttrain-rmse:2.25005\ttrain-rmspe:8.74762\tvalidation-rmse:2.26784\tvalidation-rmspe:8.91044\n",
      "[43]\ttrain-rmse:2.18360\ttrain-rmspe:8.11141\tvalidation-rmse:2.20148\tvalidation-rmspe:8.26524\n",
      "[44]\ttrain-rmse:2.11927\ttrain-rmspe:7.53602\tvalidation-rmse:2.13676\tvalidation-rmspe:7.67819\n",
      "[45]\ttrain-rmse:2.05684\ttrain-rmspe:7.01174\tvalidation-rmse:2.07418\tvalidation-rmspe:7.14446\n",
      "[46]\ttrain-rmse:1.99628\ttrain-rmspe:6.53353\tvalidation-rmse:2.01318\tvalidation-rmspe:6.65603\n",
      "[47]\ttrain-rmse:1.93757\ttrain-rmspe:6.09704\tvalidation-rmse:1.95452\tvalidation-rmspe:6.21312\n",
      "[48]\ttrain-rmse:1.88068\ttrain-rmspe:5.69819\tvalidation-rmse:1.89743\tvalidation-rmspe:5.80681\n",
      "[49]\ttrain-rmse:1.82551\ttrain-rmspe:5.33277\tvalidation-rmse:1.84127\tvalidation-rmspe:5.42950\n",
      "[50]\ttrain-rmse:1.77207\ttrain-rmspe:4.99766\tvalidation-rmse:1.78765\tvalidation-rmspe:5.08881\n",
      "[51]\ttrain-rmse:1.72016\ttrain-rmspe:4.68852\tvalidation-rmse:1.73551\tvalidation-rmspe:4.77387\n",
      "[52]\ttrain-rmse:1.66989\ttrain-rmspe:4.40449\tvalidation-rmse:1.68544\tvalidation-rmspe:4.48703\n",
      "[53]\ttrain-rmse:1.62116\ttrain-rmspe:4.14254\tvalidation-rmse:1.63669\tvalidation-rmspe:4.22138\n",
      "[54]\ttrain-rmse:1.57393\ttrain-rmspe:3.90054\tvalidation-rmse:1.58819\tvalidation-rmspe:3.96986\n",
      "[55]\ttrain-rmse:1.52817\ttrain-rmspe:3.67686\tvalidation-rmse:1.54187\tvalidation-rmspe:3.74072\n",
      "[56]\ttrain-rmse:1.48381\ttrain-rmspe:3.46963\tvalidation-rmse:1.49724\tvalidation-rmspe:3.52961\n",
      "[57]\ttrain-rmse:1.44077\ttrain-rmspe:3.27710\tvalidation-rmse:1.45424\tvalidation-rmspe:3.33496\n",
      "[58]\ttrain-rmse:1.39910\ttrain-rmspe:3.09847\tvalidation-rmse:1.41198\tvalidation-rmspe:3.15173\n",
      "[59]\ttrain-rmse:1.35857\ttrain-rmspe:2.93153\tvalidation-rmse:1.37116\tvalidation-rmspe:2.98165\n",
      "[60]\ttrain-rmse:1.31950\ttrain-rmspe:2.77717\tvalidation-rmse:1.33163\tvalidation-rmspe:2.82377\n",
      "[61]\ttrain-rmse:1.28159\ttrain-rmspe:2.63300\tvalidation-rmse:1.29338\tvalidation-rmspe:2.67675\n",
      "[62]\ttrain-rmse:1.24473\ttrain-rmspe:2.49786\tvalidation-rmse:1.25653\tvalidation-rmspe:2.54016\n",
      "[63]\ttrain-rmse:1.20897\ttrain-rmspe:2.37133\tvalidation-rmse:1.22066\tvalidation-rmspe:2.41191\n",
      "[64]\ttrain-rmse:1.17451\ttrain-rmspe:2.25373\tvalidation-rmse:1.18522\tvalidation-rmspe:2.28983\n",
      "[65]\ttrain-rmse:1.14112\ttrain-rmspe:2.14359\tvalidation-rmse:1.15184\tvalidation-rmspe:2.17865\n",
      "[66]\ttrain-rmse:1.10870\ttrain-rmspe:2.04002\tvalidation-rmse:1.11896\tvalidation-rmspe:2.07264\n",
      "[67]\ttrain-rmse:1.07733\ttrain-rmspe:1.94292\tvalidation-rmse:1.08774\tvalidation-rmspe:1.97511\n",
      "[68]\ttrain-rmse:1.04697\ttrain-rmspe:1.85178\tvalidation-rmse:1.05711\tvalidation-rmspe:1.88231\n",
      "[69]\ttrain-rmse:1.01749\ttrain-rmspe:1.76586\tvalidation-rmse:1.02742\tvalidation-rmspe:1.79502\n",
      "[70]\ttrain-rmse:0.98898\ttrain-rmspe:1.68511\tvalidation-rmse:0.99858\tvalidation-rmspe:1.71256\n",
      "[71]\ttrain-rmse:0.96148\ttrain-rmspe:1.60926\tvalidation-rmse:0.97109\tvalidation-rmspe:1.63607\n",
      "[72]\ttrain-rmse:0.93480\ttrain-rmspe:1.53761\tvalidation-rmse:0.94447\tvalidation-rmspe:1.56396\n",
      "[73]\ttrain-rmse:0.90889\ttrain-rmspe:1.46978\tvalidation-rmse:0.91869\tvalidation-rmspe:1.49583\n",
      "[74]\ttrain-rmse:0.88390\ttrain-rmspe:1.40591\tvalidation-rmse:0.89304\tvalidation-rmspe:1.42965\n",
      "[75]\ttrain-rmse:0.85974\ttrain-rmspe:1.34559\tvalidation-rmse:0.86895\tvalidation-rmspe:1.36898\n",
      "[76]\ttrain-rmse:0.83632\ttrain-rmspe:1.28843\tvalidation-rmse:0.84511\tvalidation-rmspe:1.31023\n",
      "[77]\ttrain-rmse:0.81348\ttrain-rmspe:1.23401\tvalidation-rmse:0.82221\tvalidation-rmspe:1.25520\n",
      "[78]\ttrain-rmse:0.79130\ttrain-rmspe:1.18231\tvalidation-rmse:0.79998\tvalidation-rmspe:1.20294\n",
      "[79]\ttrain-rmse:0.77008\ttrain-rmspe:1.13371\tvalidation-rmse:0.77858\tvalidation-rmspe:1.15351\n",
      "[80]\ttrain-rmse:0.74959\ttrain-rmspe:1.08766\tvalidation-rmse:0.75774\tvalidation-rmspe:1.10627\n",
      "[81]\ttrain-rmse:0.72979\ttrain-rmspe:1.04395\tvalidation-rmse:0.73810\tvalidation-rmspe:1.06253\n",
      "[82]\ttrain-rmse:0.71044\ttrain-rmspe:1.00215\tvalidation-rmse:0.71833\tvalidation-rmspe:1.01937\n",
      "[83]\ttrain-rmse:0.69194\ttrain-rmspe:0.96269\tvalidation-rmse:0.69929\tvalidation-rmspe:0.97839\n",
      "[84]\ttrain-rmse:0.67383\ttrain-rmspe:0.92485\tvalidation-rmse:0.68100\tvalidation-rmspe:0.93987\n",
      "[85]\ttrain-rmse:0.65651\ttrain-rmspe:0.88909\tvalidation-rmse:0.66369\tvalidation-rmspe:0.90384\n",
      "[86]\ttrain-rmse:0.63958\ttrain-rmspe:0.85477\tvalidation-rmse:0.64673\tvalidation-rmspe:0.86916\n"
     ]
    },
    {
     "name": "stdout",
     "output_type": "stream",
     "text": [
      "[87]\ttrain-rmse:0.62330\ttrain-rmspe:0.82219\tvalidation-rmse:0.62973\tvalidation-rmspe:0.83471\n",
      "[88]\ttrain-rmse:0.60771\ttrain-rmspe:0.79129\tvalidation-rmse:0.61406\tvalidation-rmspe:0.80339\n",
      "[89]\ttrain-rmse:0.59250\ttrain-rmspe:0.76165\tvalidation-rmse:0.59883\tvalidation-rmspe:0.77351\n",
      "[90]\ttrain-rmse:0.57775\ttrain-rmspe:0.73330\tvalidation-rmse:0.58410\tvalidation-rmspe:0.74500\n",
      "[91]\ttrain-rmse:0.56334\ttrain-rmspe:0.70608\tvalidation-rmse:0.56951\tvalidation-rmspe:0.71722\n",
      "[92]\ttrain-rmse:0.54951\ttrain-rmspe:0.68017\tvalidation-rmse:0.55565\tvalidation-rmspe:0.69109\n",
      "[93]\ttrain-rmse:0.53640\ttrain-rmspe:0.65563\tvalidation-rmse:0.54253\tvalidation-rmspe:0.66627\n",
      "[94]\ttrain-rmse:0.52355\ttrain-rmspe:0.63197\tvalidation-rmse:0.52968\tvalidation-rmspe:0.64236\n",
      "[95]\ttrain-rmse:0.51116\ttrain-rmspe:0.60937\tvalidation-rmse:0.51733\tvalidation-rmspe:0.61968\n",
      "[96]\ttrain-rmse:0.49939\ttrain-rmspe:0.58789\tvalidation-rmse:0.50567\tvalidation-rmspe:0.59822\n",
      "[97]\ttrain-rmse:0.48786\ttrain-rmspe:0.56719\tvalidation-rmse:0.49417\tvalidation-rmspe:0.57740\n",
      "[98]\ttrain-rmse:0.47665\ttrain-rmspe:0.54729\tvalidation-rmse:0.48289\tvalidation-rmspe:0.55719\n",
      "[99]\ttrain-rmse:0.46609\ttrain-rmspe:0.52841\tvalidation-rmse:0.47253\tvalidation-rmspe:0.53848\n",
      "[100]\ttrain-rmse:0.45587\ttrain-rmspe:0.51028\tvalidation-rmse:0.46166\tvalidation-rmspe:0.51901\n",
      "[101]\ttrain-rmse:0.44607\ttrain-rmspe:0.49292\tvalidation-rmse:0.45199\tvalidation-rmspe:0.50158\n",
      "[102]\ttrain-rmse:0.43665\ttrain-rmspe:0.47629\tvalidation-rmse:0.44258\tvalidation-rmspe:0.48474\n",
      "[103]\ttrain-rmse:0.42751\ttrain-rmspe:0.46027\tvalidation-rmse:0.43359\tvalidation-rmspe:0.46880\n",
      "[104]\ttrain-rmse:0.41848\ttrain-rmspe:0.44477\tvalidation-rmse:0.42447\tvalidation-rmspe:0.45295\n",
      "[105]\ttrain-rmse:0.40992\ttrain-rmspe:0.42997\tvalidation-rmse:0.41566\tvalidation-rmspe:0.43750\n",
      "[106]\ttrain-rmse:0.40156\ttrain-rmspe:0.41567\tvalidation-rmse:0.40734\tvalidation-rmspe:0.42300\n",
      "[107]\ttrain-rmse:0.39386\ttrain-rmspe:0.40214\tvalidation-rmse:0.39958\tvalidation-rmspe:0.40905\n",
      "[108]\ttrain-rmse:0.38648\ttrain-rmspe:0.38914\tvalidation-rmse:0.39201\tvalidation-rmspe:0.39532\n",
      "[109]\ttrain-rmse:0.37930\ttrain-rmspe:0.37660\tvalidation-rmse:0.38495\tvalidation-rmspe:0.38263\n",
      "[110]\ttrain-rmse:0.37253\ttrain-rmspe:0.36460\tvalidation-rmse:0.37810\tvalidation-rmspe:0.37026\n",
      "[111]\ttrain-rmse:0.36583\ttrain-rmspe:0.35295\tvalidation-rmse:0.37156\tvalidation-rmspe:0.35867\n",
      "[112]\ttrain-rmse:0.35921\ttrain-rmspe:0.34166\tvalidation-rmse:0.36490\tvalidation-rmspe:0.34715\n",
      "[113]\ttrain-rmse:0.35299\ttrain-rmspe:0.33086\tvalidation-rmse:0.35892\tvalidation-rmspe:0.33660\n",
      "[114]\ttrain-rmse:0.34654\ttrain-rmspe:0.32024\tvalidation-rmse:0.35245\tvalidation-rmspe:0.32579\n",
      "[115]\ttrain-rmse:0.34062\ttrain-rmspe:0.31015\tvalidation-rmse:0.34656\tvalidation-rmspe:0.31564\n",
      "[116]\ttrain-rmse:0.33504\ttrain-rmspe:0.30049\tvalidation-rmse:0.34105\tvalidation-rmspe:0.30597\n",
      "[117]\ttrain-rmse:0.32960\ttrain-rmspe:0.29115\tvalidation-rmse:0.33555\tvalidation-rmspe:0.29642\n",
      "[118]\ttrain-rmse:0.32476\ttrain-rmspe:0.28231\tvalidation-rmse:0.33073\tvalidation-rmspe:0.28745\n",
      "[119]\ttrain-rmse:0.31990\ttrain-rmspe:0.27370\tvalidation-rmse:0.32556\tvalidation-rmspe:0.27793\n",
      "[120]\ttrain-rmse:0.31520\ttrain-rmspe:0.26538\tvalidation-rmse:0.32077\tvalidation-rmspe:0.26938\n",
      "[121]\ttrain-rmse:0.31046\ttrain-rmspe:0.25726\tvalidation-rmse:0.31609\tvalidation-rmspe:0.26123\n",
      "[122]\ttrain-rmse:0.30620\ttrain-rmspe:0.24955\tvalidation-rmse:0.31179\tvalidation-rmspe:0.25333\n",
      "[123]\ttrain-rmse:0.30187\ttrain-rmspe:0.24203\tvalidation-rmse:0.30744\tvalidation-rmspe:0.24562\n",
      "[124]\ttrain-rmse:0.29809\ttrain-rmspe:0.23490\tvalidation-rmse:0.30345\tvalidation-rmspe:0.23766\n",
      "[125]\ttrain-rmse:0.29406\ttrain-rmspe:0.22788\tvalidation-rmse:0.29946\tvalidation-rmspe:0.23047\n",
      "[126]\ttrain-rmse:0.29062\ttrain-rmspe:0.22125\tvalidation-rmse:0.29558\tvalidation-rmspe:0.22240\n",
      "[127]\ttrain-rmse:0.28698\ttrain-rmspe:0.21473\tvalidation-rmse:0.29204\tvalidation-rmspe:0.21588\n",
      "[128]\ttrain-rmse:0.28376\ttrain-rmspe:0.20854\tvalidation-rmse:0.28889\tvalidation-rmspe:0.20964\n",
      "[129]\ttrain-rmse:0.28012\ttrain-rmspe:0.20236\tvalidation-rmse:0.28526\tvalidation-rmspe:0.20324\n",
      "[130]\ttrain-rmse:0.27719\ttrain-rmspe:0.19659\tvalidation-rmse:0.28235\tvalidation-rmspe:0.19729\n",
      "[131]\ttrain-rmse:0.27447\ttrain-rmspe:0.19104\tvalidation-rmse:0.27996\tvalidation-rmspe:0.19212\n",
      "[132]\ttrain-rmse:0.27172\ttrain-rmspe:0.18564\tvalidation-rmse:0.27734\tvalidation-rmspe:0.18683\n",
      "[133]\ttrain-rmse:0.26924\ttrain-rmspe:0.18046\tvalidation-rmse:0.27470\tvalidation-rmspe:0.18081\n",
      "[134]\ttrain-rmse:0.26682\ttrain-rmspe:0.17545\tvalidation-rmse:0.27239\tvalidation-rmspe:0.17554\n",
      "[135]\ttrain-rmse:0.26454\ttrain-rmspe:0.17061\tvalidation-rmse:0.27019\tvalidation-rmspe:0.17028\n",
      "[136]\ttrain-rmse:0.26203\ttrain-rmspe:0.16583\tvalidation-rmse:0.26775\tvalidation-rmspe:0.16548\n",
      "[137]\ttrain-rmse:0.25987\ttrain-rmspe:0.16129\tvalidation-rmse:0.26558\tvalidation-rmspe:0.16078\n",
      "[138]\ttrain-rmse:0.25792\ttrain-rmspe:0.15693\tvalidation-rmse:0.26361\tvalidation-rmspe:0.15596\n",
      "[139]\ttrain-rmse:0.25585\ttrain-rmspe:0.15265\tvalidation-rmse:0.26162\tvalidation-rmspe:0.15169\n",
      "[140]\ttrain-rmse:0.25391\ttrain-rmspe:0.14854\tvalidation-rmse:0.25973\tvalidation-rmspe:0.14749\n",
      "[141]\ttrain-rmse:0.25200\ttrain-rmspe:0.14453\tvalidation-rmse:0.25794\tvalidation-rmspe:0.14347\n",
      "[142]\ttrain-rmse:0.24965\ttrain-rmspe:0.14050\tvalidation-rmse:0.25571\tvalidation-rmspe:0.13944\n",
      "[143]\ttrain-rmse:0.24771\ttrain-rmspe:0.13671\tvalidation-rmse:0.25381\tvalidation-rmspe:0.13545\n",
      "[144]\ttrain-rmse:0.24622\ttrain-rmspe:0.13315\tvalidation-rmse:0.25246\tvalidation-rmspe:0.13198\n",
      "[145]\ttrain-rmse:0.24434\ttrain-rmspe:0.12957\tvalidation-rmse:0.25066\tvalidation-rmspe:0.12837\n",
      "[146]\ttrain-rmse:0.24273\ttrain-rmspe:0.12616\tvalidation-rmse:0.24914\tvalidation-rmspe:0.12498\n",
      "[147]\ttrain-rmse:0.24122\ttrain-rmspe:0.12287\tvalidation-rmse:0.24776\tvalidation-rmspe:0.12172\n",
      "[148]\ttrain-rmse:0.23937\ttrain-rmspe:0.11958\tvalidation-rmse:0.24597\tvalidation-rmspe:0.11843\n",
      "[149]\ttrain-rmse:0.23790\ttrain-rmspe:0.11648\tvalidation-rmse:0.24461\tvalidation-rmspe:0.11531\n",
      "[150]\ttrain-rmse:0.23642\ttrain-rmspe:0.11347\tvalidation-rmse:0.24316\tvalidation-rmspe:0.11221\n",
      "[151]\ttrain-rmse:0.23521\ttrain-rmspe:0.11060\tvalidation-rmse:0.24209\tvalidation-rmspe:0.10939\n",
      "[152]\ttrain-rmse:0.23327\ttrain-rmspe:0.10762\tvalidation-rmse:0.24021\tvalidation-rmspe:0.10644\n",
      "[153]\ttrain-rmse:0.23231\ttrain-rmspe:0.10498\tvalidation-rmse:0.23939\tvalidation-rmspe:0.10334\n",
      "[154]\ttrain-rmse:0.23083\ttrain-rmspe:0.10228\tvalidation-rmse:0.23799\tvalidation-rmspe:0.10064\n",
      "[155]\ttrain-rmse:0.22970\ttrain-rmspe:0.09974\tvalidation-rmse:0.23694\tvalidation-rmspe:0.09811\n",
      "[156]\ttrain-rmse:0.22826\ttrain-rmspe:0.09719\tvalidation-rmse:0.23556\tvalidation-rmspe:0.09558\n",
      "[157]\ttrain-rmse:0.22713\ttrain-rmspe:0.09479\tvalidation-rmse:0.23443\tvalidation-rmspe:0.09264\n",
      "[158]\ttrain-rmse:0.22630\ttrain-rmspe:0.09252\tvalidation-rmse:0.23369\tvalidation-rmspe:0.09035\n",
      "[159]\ttrain-rmse:0.22553\ttrain-rmspe:0.09034\tvalidation-rmse:0.23299\tvalidation-rmspe:0.08768\n",
      "[160]\ttrain-rmse:0.22450\ttrain-rmspe:0.08814\tvalidation-rmse:0.23206\tvalidation-rmspe:0.08526\n",
      "[161]\ttrain-rmse:0.22348\ttrain-rmspe:0.08602\tvalidation-rmse:0.23116\tvalidation-rmspe:0.08317\n",
      "[162]\ttrain-rmse:0.22287\ttrain-rmspe:0.08405\tvalidation-rmse:0.23071\tvalidation-rmspe:0.08120\n",
      "[163]\ttrain-rmse:0.22201\ttrain-rmspe:0.08207\tvalidation-rmse:0.22993\tvalidation-rmspe:0.07924\n",
      "[164]\ttrain-rmse:0.22094\ttrain-rmspe:0.08009\tvalidation-rmse:0.22896\tvalidation-rmspe:0.07726\n",
      "[165]\ttrain-rmse:0.21981\ttrain-rmspe:0.07816\tvalidation-rmse:0.22786\tvalidation-rmspe:0.07528\n",
      "[166]\ttrain-rmse:0.21915\ttrain-rmspe:0.07639\tvalidation-rmse:0.22739\tvalidation-rmspe:0.07344\n",
      "[167]\ttrain-rmse:0.21843\ttrain-rmspe:0.07465\tvalidation-rmse:0.22673\tvalidation-rmspe:0.07170\n",
      "[168]\ttrain-rmse:0.21747\ttrain-rmspe:0.07290\tvalidation-rmse:0.22581\tvalidation-rmspe:0.06987\n",
      "[169]\ttrain-rmse:0.21679\ttrain-rmspe:0.07127\tvalidation-rmse:0.22533\tvalidation-rmspe:0.06818\n",
      "[170]\ttrain-rmse:0.21621\ttrain-rmspe:0.06971\tvalidation-rmse:0.22480\tvalidation-rmspe:0.06662\n",
      "[171]\ttrain-rmse:0.21574\ttrain-rmspe:0.06821\tvalidation-rmse:0.22459\tvalidation-rmspe:0.06520\n",
      "[172]\ttrain-rmse:0.21522\ttrain-rmspe:0.06674\tvalidation-rmse:0.22417\tvalidation-rmspe:0.06377\n",
      "[173]\ttrain-rmse:0.21492\ttrain-rmspe:0.06537\tvalidation-rmse:0.22392\tvalidation-rmspe:0.06239\n",
      "[174]\ttrain-rmse:0.21420\ttrain-rmspe:0.06394\tvalidation-rmse:0.22327\tvalidation-rmspe:0.06098\n"
     ]
    },
    {
     "name": "stdout",
     "output_type": "stream",
     "text": [
      "[175]\ttrain-rmse:0.21362\ttrain-rmspe:0.06258\tvalidation-rmse:0.22274\tvalidation-rmspe:0.05964\n",
      "[176]\ttrain-rmse:0.21308\ttrain-rmspe:0.06127\tvalidation-rmse:0.22225\tvalidation-rmspe:0.05826\n",
      "[177]\ttrain-rmse:0.21279\ttrain-rmspe:0.06005\tvalidation-rmse:0.22199\tvalidation-rmspe:0.05705\n",
      "[178]\ttrain-rmse:0.21228\ttrain-rmspe:0.05882\tvalidation-rmse:0.22153\tvalidation-rmspe:0.05582\n",
      "[179]\ttrain-rmse:0.21147\ttrain-rmspe:0.05755\tvalidation-rmse:0.22081\tvalidation-rmspe:0.05459\n",
      "[180]\ttrain-rmse:0.21079\ttrain-rmspe:0.05634\tvalidation-rmse:0.22023\tvalidation-rmspe:0.05340\n",
      "[181]\ttrain-rmse:0.20911\ttrain-rmspe:0.05494\tvalidation-rmse:0.21866\tvalidation-rmspe:0.05200\n",
      "[182]\ttrain-rmse:0.20850\ttrain-rmspe:0.05382\tvalidation-rmse:0.21810\tvalidation-rmspe:0.05080\n",
      "[183]\ttrain-rmse:0.20783\ttrain-rmspe:0.05271\tvalidation-rmse:0.21751\tvalidation-rmspe:0.04970\n",
      "[184]\ttrain-rmse:0.20761\ttrain-rmspe:0.05172\tvalidation-rmse:0.21735\tvalidation-rmspe:0.04874\n",
      "[185]\ttrain-rmse:0.20742\ttrain-rmspe:0.05078\tvalidation-rmse:0.21720\tvalidation-rmspe:0.04768\n",
      "[186]\ttrain-rmse:0.20681\ttrain-rmspe:0.04977\tvalidation-rmse:0.21663\tvalidation-rmspe:0.04667\n",
      "[187]\ttrain-rmse:0.20664\ttrain-rmspe:0.04889\tvalidation-rmse:0.21651\tvalidation-rmspe:0.04547\n",
      "[188]\ttrain-rmse:0.20635\ttrain-rmspe:0.04800\tvalidation-rmse:0.21630\tvalidation-rmspe:0.04420\n",
      "[189]\ttrain-rmse:0.20597\ttrain-rmspe:0.04711\tvalidation-rmse:0.21597\tvalidation-rmspe:0.04332\n",
      "[190]\ttrain-rmse:0.20521\ttrain-rmspe:0.04618\tvalidation-rmse:0.21527\tvalidation-rmspe:0.04239\n",
      "[191]\ttrain-rmse:0.20496\ttrain-rmspe:0.04537\tvalidation-rmse:0.21508\tvalidation-rmspe:0.04158\n",
      "[192]\ttrain-rmse:0.20459\ttrain-rmspe:0.04457\tvalidation-rmse:0.21465\tvalidation-rmspe:0.04056\n",
      "[193]\ttrain-rmse:0.20320\ttrain-rmspe:0.04356\tvalidation-rmse:0.21330\tvalidation-rmspe:0.03959\n",
      "[194]\ttrain-rmse:0.20298\ttrain-rmspe:0.04282\tvalidation-rmse:0.21320\tvalidation-rmspe:0.03906\n",
      "[195]\ttrain-rmse:0.20244\ttrain-rmspe:0.04204\tvalidation-rmse:0.21270\tvalidation-rmspe:0.03831\n",
      "[196]\ttrain-rmse:0.20135\ttrain-rmspe:0.04116\tvalidation-rmse:0.21160\tvalidation-rmspe:0.03739\n",
      "[197]\ttrain-rmse:0.20083\ttrain-rmspe:0.04043\tvalidation-rmse:0.21113\tvalidation-rmspe:0.03665\n",
      "[198]\ttrain-rmse:0.20038\ttrain-rmspe:0.03972\tvalidation-rmse:0.21071\tvalidation-rmspe:0.03594\n",
      "[199]\ttrain-rmse:0.19971\ttrain-rmspe:0.03899\tvalidation-rmse:0.21006\tvalidation-rmspe:0.03523\n",
      "[200]\ttrain-rmse:0.19904\ttrain-rmspe:0.03828\tvalidation-rmse:0.20947\tvalidation-rmspe:0.03452\n",
      "[201]\ttrain-rmse:0.19853\ttrain-rmspe:0.03762\tvalidation-rmse:0.20902\tvalidation-rmspe:0.03384\n",
      "[202]\ttrain-rmse:0.19829\ttrain-rmspe:0.03703\tvalidation-rmse:0.20888\tvalidation-rmspe:0.03329\n",
      "[203]\ttrain-rmse:0.19720\ttrain-rmspe:0.03628\tvalidation-rmse:0.20789\tvalidation-rmspe:0.03254\n",
      "[204]\ttrain-rmse:0.19659\ttrain-rmspe:0.03565\tvalidation-rmse:0.20733\tvalidation-rmspe:0.03192\n",
      "[205]\ttrain-rmse:0.19568\ttrain-rmspe:0.03497\tvalidation-rmse:0.20651\tvalidation-rmspe:0.03121\n",
      "[206]\ttrain-rmse:0.19485\ttrain-rmspe:0.03433\tvalidation-rmse:0.20560\tvalidation-rmspe:0.03050\n",
      "[207]\ttrain-rmse:0.19380\ttrain-rmspe:0.03365\tvalidation-rmse:0.20460\tvalidation-rmspe:0.02982\n",
      "[208]\ttrain-rmse:0.19315\ttrain-rmspe:0.03308\tvalidation-rmse:0.20397\tvalidation-rmspe:0.02925\n",
      "[209]\ttrain-rmse:0.19272\ttrain-rmspe:0.03256\tvalidation-rmse:0.20371\tvalidation-rmspe:0.02865\n",
      "[210]\ttrain-rmse:0.19258\ttrain-rmspe:0.03211\tvalidation-rmse:0.20372\tvalidation-rmspe:0.02801\n",
      "[211]\ttrain-rmse:0.19218\ttrain-rmspe:0.03162\tvalidation-rmse:0.20336\tvalidation-rmspe:0.02754\n",
      "[212]\ttrain-rmse:0.19182\ttrain-rmspe:0.03115\tvalidation-rmse:0.20309\tvalidation-rmspe:0.02696\n",
      "[213]\ttrain-rmse:0.19098\ttrain-rmspe:0.03060\tvalidation-rmse:0.20228\tvalidation-rmspe:0.02640\n",
      "[214]\ttrain-rmse:0.19057\ttrain-rmspe:0.03015\tvalidation-rmse:0.20193\tvalidation-rmspe:0.02593\n",
      "[215]\ttrain-rmse:0.19001\ttrain-rmspe:0.02968\tvalidation-rmse:0.20142\tvalidation-rmspe:0.02546\n",
      "[216]\ttrain-rmse:0.18945\ttrain-rmspe:0.02921\tvalidation-rmse:0.20089\tvalidation-rmspe:0.02499\n",
      "[217]\ttrain-rmse:0.18911\ttrain-rmspe:0.02880\tvalidation-rmse:0.20063\tvalidation-rmspe:0.02447\n",
      "[218]\ttrain-rmse:0.18862\ttrain-rmspe:0.02838\tvalidation-rmse:0.20017\tvalidation-rmspe:0.02405\n",
      "[219]\ttrain-rmse:0.18841\ttrain-rmspe:0.02802\tvalidation-rmse:0.19997\tvalidation-rmspe:0.02369\n",
      "[220]\ttrain-rmse:0.18805\ttrain-rmspe:0.02764\tvalidation-rmse:0.19979\tvalidation-rmspe:0.02327\n",
      "[221]\ttrain-rmse:0.18796\ttrain-rmspe:0.02732\tvalidation-rmse:0.19971\tvalidation-rmspe:0.02296\n",
      "[222]\ttrain-rmse:0.18740\ttrain-rmspe:0.02693\tvalidation-rmse:0.19924\tvalidation-rmspe:0.02256\n",
      "[223]\ttrain-rmse:0.18720\ttrain-rmspe:0.02660\tvalidation-rmse:0.19910\tvalidation-rmspe:0.02218\n",
      "[224]\ttrain-rmse:0.18705\ttrain-rmspe:0.02629\tvalidation-rmse:0.19902\tvalidation-rmspe:0.02173\n",
      "[225]\ttrain-rmse:0.18698\ttrain-rmspe:0.02602\tvalidation-rmse:0.19897\tvalidation-rmspe:0.02146\n",
      "[226]\ttrain-rmse:0.18656\ttrain-rmspe:0.02568\tvalidation-rmse:0.19855\tvalidation-rmspe:0.02111\n",
      "[227]\ttrain-rmse:0.18640\ttrain-rmspe:0.02540\tvalidation-rmse:0.19849\tvalidation-rmspe:0.02087\n",
      "[228]\ttrain-rmse:0.18585\ttrain-rmspe:0.02505\tvalidation-rmse:0.19802\tvalidation-rmspe:0.02052\n",
      "[229]\ttrain-rmse:0.18516\ttrain-rmspe:0.02468\tvalidation-rmse:0.19742\tvalidation-rmspe:0.02014\n",
      "[230]\ttrain-rmse:0.18444\ttrain-rmspe:0.02431\tvalidation-rmse:0.19670\tvalidation-rmspe:0.01976\n",
      "[231]\ttrain-rmse:0.18408\ttrain-rmspe:0.02403\tvalidation-rmse:0.19639\tvalidation-rmspe:0.01948\n",
      "[232]\ttrain-rmse:0.18345\ttrain-rmspe:0.02370\tvalidation-rmse:0.19581\tvalidation-rmspe:0.01918\n",
      "[233]\ttrain-rmse:0.18298\ttrain-rmspe:0.02340\tvalidation-rmse:0.19537\tvalidation-rmspe:0.01888\n",
      "[234]\ttrain-rmse:0.18264\ttrain-rmspe:0.02313\tvalidation-rmse:0.19514\tvalidation-rmspe:0.01858\n",
      "[235]\ttrain-rmse:0.18152\ttrain-rmspe:0.02272\tvalidation-rmse:0.19410\tvalidation-rmspe:0.01817\n",
      "[236]\ttrain-rmse:0.18093\ttrain-rmspe:0.02243\tvalidation-rmse:0.19355\tvalidation-rmspe:0.01786\n",
      "[237]\ttrain-rmse:0.18081\ttrain-rmspe:0.02222\tvalidation-rmse:0.19345\tvalidation-rmspe:0.01757\n",
      "[238]\ttrain-rmse:0.18008\ttrain-rmspe:0.02190\tvalidation-rmse:0.19276\tvalidation-rmspe:0.01726\n",
      "[239]\ttrain-rmse:0.17938\ttrain-rmspe:0.02160\tvalidation-rmse:0.19210\tvalidation-rmspe:0.01695\n",
      "[240]\ttrain-rmse:0.17896\ttrain-rmspe:0.02135\tvalidation-rmse:0.19170\tvalidation-rmspe:0.01670\n",
      "[241]\ttrain-rmse:0.17836\ttrain-rmspe:0.02108\tvalidation-rmse:0.19113\tvalidation-rmspe:0.01642\n",
      "[242]\ttrain-rmse:0.17817\ttrain-rmspe:0.02089\tvalidation-rmse:0.19100\tvalidation-rmspe:0.01619\n",
      "[243]\ttrain-rmse:0.17786\ttrain-rmspe:0.02068\tvalidation-rmse:0.19071\tvalidation-rmspe:0.01598\n",
      "[244]\ttrain-rmse:0.17762\ttrain-rmspe:0.02048\tvalidation-rmse:0.19043\tvalidation-rmspe:0.01571\n",
      "[245]\ttrain-rmse:0.17687\ttrain-rmspe:0.02020\tvalidation-rmse:0.18980\tvalidation-rmspe:0.01543\n",
      "[246]\ttrain-rmse:0.17650\ttrain-rmspe:0.02000\tvalidation-rmse:0.18949\tvalidation-rmspe:0.01523\n",
      "[247]\ttrain-rmse:0.17612\ttrain-rmspe:0.01979\tvalidation-rmse:0.18916\tvalidation-rmspe:0.01501\n",
      "[248]\ttrain-rmse:0.17532\ttrain-rmspe:0.01952\tvalidation-rmse:0.18841\tvalidation-rmspe:0.01473\n",
      "[249]\ttrain-rmse:0.17501\ttrain-rmspe:0.01933\tvalidation-rmse:0.18813\tvalidation-rmspe:0.01456\n",
      "[250]\ttrain-rmse:0.17418\ttrain-rmspe:0.01906\tvalidation-rmse:0.18729\tvalidation-rmspe:0.01432\n",
      "[251]\ttrain-rmse:0.17375\ttrain-rmspe:0.01886\tvalidation-rmse:0.18689\tvalidation-rmspe:0.01413\n",
      "[252]\ttrain-rmse:0.17311\ttrain-rmspe:0.01863\tvalidation-rmse:0.18629\tvalidation-rmspe:0.01388\n",
      "[253]\ttrain-rmse:0.17275\ttrain-rmspe:0.01845\tvalidation-rmse:0.18596\tvalidation-rmspe:0.01370\n",
      "[254]\ttrain-rmse:0.17218\ttrain-rmspe:0.01825\tvalidation-rmse:0.18536\tvalidation-rmspe:0.01345\n",
      "[255]\ttrain-rmse:0.17189\ttrain-rmspe:0.01809\tvalidation-rmse:0.18510\tvalidation-rmspe:0.01329\n",
      "[256]\ttrain-rmse:0.17130\ttrain-rmspe:0.01788\tvalidation-rmse:0.18455\tvalidation-rmspe:0.01302\n",
      "[257]\ttrain-rmse:0.17097\ttrain-rmspe:0.01773\tvalidation-rmse:0.18424\tvalidation-rmspe:0.01286\n",
      "[258]\ttrain-rmse:0.17052\ttrain-rmspe:0.01756\tvalidation-rmse:0.18378\tvalidation-rmspe:0.01266\n",
      "[259]\ttrain-rmse:0.17010\ttrain-rmspe:0.01740\tvalidation-rmse:0.18336\tvalidation-rmspe:0.01246\n",
      "[260]\ttrain-rmse:0.16958\ttrain-rmspe:0.01722\tvalidation-rmse:0.18290\tvalidation-rmspe:0.01228\n",
      "[261]\ttrain-rmse:0.16913\ttrain-rmspe:0.01705\tvalidation-rmse:0.18271\tvalidation-rmspe:0.01205\n",
      "[262]\ttrain-rmse:0.16882\ttrain-rmspe:0.01691\tvalidation-rmse:0.18245\tvalidation-rmspe:0.01192\n"
     ]
    },
    {
     "name": "stdout",
     "output_type": "stream",
     "text": [
      "[263]\ttrain-rmse:0.16846\ttrain-rmspe:0.01676\tvalidation-rmse:0.18211\tvalidation-rmspe:0.01177\n",
      "[264]\ttrain-rmse:0.16822\ttrain-rmspe:0.01665\tvalidation-rmse:0.18189\tvalidation-rmspe:0.01166\n",
      "[265]\ttrain-rmse:0.16782\ttrain-rmspe:0.01650\tvalidation-rmse:0.18156\tvalidation-rmspe:0.01152\n",
      "[266]\ttrain-rmse:0.16763\ttrain-rmspe:0.01639\tvalidation-rmse:0.18141\tvalidation-rmspe:0.01130\n",
      "[267]\ttrain-rmse:0.16746\ttrain-rmspe:0.01629\tvalidation-rmse:0.18131\tvalidation-rmspe:0.01111\n",
      "[268]\ttrain-rmse:0.16729\ttrain-rmspe:0.01619\tvalidation-rmse:0.18120\tvalidation-rmspe:0.01104\n",
      "[269]\ttrain-rmse:0.16701\ttrain-rmspe:0.01607\tvalidation-rmse:0.18094\tvalidation-rmspe:0.01092\n",
      "[270]\ttrain-rmse:0.16664\ttrain-rmspe:0.01594\tvalidation-rmse:0.18052\tvalidation-rmspe:0.01070\n",
      "[271]\ttrain-rmse:0.16638\ttrain-rmspe:0.01584\tvalidation-rmse:0.18029\tvalidation-rmspe:0.01057\n",
      "[272]\ttrain-rmse:0.16626\ttrain-rmspe:0.01575\tvalidation-rmse:0.18021\tvalidation-rmspe:0.01044\n",
      "[273]\ttrain-rmse:0.16566\ttrain-rmspe:0.01559\tvalidation-rmse:0.17966\tvalidation-rmspe:0.01027\n",
      "[274]\ttrain-rmse:0.16529\ttrain-rmspe:0.01547\tvalidation-rmse:0.17932\tvalidation-rmspe:0.01012\n",
      "[275]\ttrain-rmse:0.16517\ttrain-rmspe:0.01539\tvalidation-rmse:0.17928\tvalidation-rmspe:0.01013\n",
      "[276]\ttrain-rmse:0.16491\ttrain-rmspe:0.01529\tvalidation-rmse:0.17905\tvalidation-rmspe:0.01004\n",
      "[277]\ttrain-rmse:0.16482\ttrain-rmspe:0.01522\tvalidation-rmse:0.17897\tvalidation-rmspe:0.00997\n",
      "[278]\ttrain-rmse:0.16425\ttrain-rmspe:0.01507\tvalidation-rmse:0.17842\tvalidation-rmspe:0.00983\n",
      "[279]\ttrain-rmse:0.16417\ttrain-rmspe:0.01501\tvalidation-rmse:0.17835\tvalidation-rmspe:0.00976\n",
      "[280]\ttrain-rmse:0.16369\ttrain-rmspe:0.01488\tvalidation-rmse:0.17790\tvalidation-rmspe:0.00956\n",
      "[281]\ttrain-rmse:0.16340\ttrain-rmspe:0.01478\tvalidation-rmse:0.17765\tvalidation-rmspe:0.00945\n",
      "[282]\ttrain-rmse:0.16330\ttrain-rmspe:0.01472\tvalidation-rmse:0.17762\tvalidation-rmspe:0.00933\n",
      "[283]\ttrain-rmse:0.16300\ttrain-rmspe:0.01463\tvalidation-rmse:0.17733\tvalidation-rmspe:0.00924\n",
      "[284]\ttrain-rmse:0.16272\ttrain-rmspe:0.01454\tvalidation-rmse:0.17707\tvalidation-rmspe:0.00914\n",
      "[285]\ttrain-rmse:0.16241\ttrain-rmspe:0.01445\tvalidation-rmse:0.17679\tvalidation-rmspe:0.00906\n",
      "[286]\ttrain-rmse:0.16199\ttrain-rmspe:0.01434\tvalidation-rmse:0.17642\tvalidation-rmspe:0.00895\n",
      "[287]\ttrain-rmse:0.16182\ttrain-rmspe:0.01427\tvalidation-rmse:0.17640\tvalidation-rmspe:0.00858\n",
      "[288]\ttrain-rmse:0.16169\ttrain-rmspe:0.01421\tvalidation-rmse:0.17635\tvalidation-rmspe:0.00855\n",
      "[289]\ttrain-rmse:0.16116\ttrain-rmspe:0.01409\tvalidation-rmse:0.17592\tvalidation-rmspe:0.00841\n",
      "[290]\ttrain-rmse:0.16077\ttrain-rmspe:0.01399\tvalidation-rmse:0.17555\tvalidation-rmspe:0.00831\n",
      "[291]\ttrain-rmse:0.16053\ttrain-rmspe:0.01391\tvalidation-rmse:0.17533\tvalidation-rmspe:0.00825\n",
      "[292]\ttrain-rmse:0.16040\ttrain-rmspe:0.01385\tvalidation-rmse:0.17525\tvalidation-rmspe:0.00822\n",
      "[293]\ttrain-rmse:0.16025\ttrain-rmspe:0.01380\tvalidation-rmse:0.17511\tvalidation-rmspe:0.00816\n",
      "[294]\ttrain-rmse:0.16004\ttrain-rmspe:0.01373\tvalidation-rmse:0.17493\tvalidation-rmspe:0.00804\n",
      "[295]\ttrain-rmse:0.15973\ttrain-rmspe:0.01365\tvalidation-rmse:0.17463\tvalidation-rmspe:0.00795\n",
      "[296]\ttrain-rmse:0.15951\ttrain-rmspe:0.01358\tvalidation-rmse:0.17446\tvalidation-rmspe:0.00786\n",
      "[297]\ttrain-rmse:0.15928\ttrain-rmspe:0.01351\tvalidation-rmse:0.17422\tvalidation-rmspe:0.00779\n",
      "[298]\ttrain-rmse:0.15911\ttrain-rmspe:0.01345\tvalidation-rmse:0.17429\tvalidation-rmspe:0.00771\n",
      "[299]\ttrain-rmse:0.15897\ttrain-rmspe:0.01340\tvalidation-rmse:0.17420\tvalidation-rmspe:0.00777\n",
      "[300]\ttrain-rmse:0.15843\ttrain-rmspe:0.01329\tvalidation-rmse:0.17373\tvalidation-rmspe:0.00764\n",
      "[301]\ttrain-rmse:0.15814\ttrain-rmspe:0.01322\tvalidation-rmse:0.17344\tvalidation-rmspe:0.00758\n",
      "[302]\ttrain-rmse:0.15804\ttrain-rmspe:0.01318\tvalidation-rmse:0.17340\tvalidation-rmspe:0.00749\n",
      "[303]\ttrain-rmse:0.15774\ttrain-rmspe:0.01311\tvalidation-rmse:0.17316\tvalidation-rmspe:0.00742\n",
      "[304]\ttrain-rmse:0.15763\ttrain-rmspe:0.01306\tvalidation-rmse:0.17327\tvalidation-rmspe:0.00736\n",
      "[305]\ttrain-rmse:0.15743\ttrain-rmspe:0.01301\tvalidation-rmse:0.17310\tvalidation-rmspe:0.00731\n",
      "[306]\ttrain-rmse:0.15714\ttrain-rmspe:0.01294\tvalidation-rmse:0.17283\tvalidation-rmspe:0.00725\n",
      "[307]\ttrain-rmse:0.15707\ttrain-rmspe:0.01291\tvalidation-rmse:0.17277\tvalidation-rmspe:0.00722\n",
      "[308]\ttrain-rmse:0.15655\ttrain-rmspe:0.01281\tvalidation-rmse:0.17233\tvalidation-rmspe:0.00710\n",
      "[309]\ttrain-rmse:0.15629\ttrain-rmspe:0.01275\tvalidation-rmse:0.17208\tvalidation-rmspe:0.00705\n",
      "[310]\ttrain-rmse:0.15610\ttrain-rmspe:0.01270\tvalidation-rmse:0.17189\tvalidation-rmspe:0.00696\n",
      "[311]\ttrain-rmse:0.15587\ttrain-rmspe:0.01264\tvalidation-rmse:0.17168\tvalidation-rmspe:0.00691\n",
      "[312]\ttrain-rmse:0.15525\ttrain-rmspe:0.01253\tvalidation-rmse:0.17111\tvalidation-rmspe:0.00678\n",
      "[313]\ttrain-rmse:0.15509\ttrain-rmspe:0.01248\tvalidation-rmse:0.17096\tvalidation-rmspe:0.00673\n",
      "[314]\ttrain-rmse:0.15475\ttrain-rmspe:0.01241\tvalidation-rmse:0.17063\tvalidation-rmspe:0.00666\n",
      "[315]\ttrain-rmse:0.15430\ttrain-rmspe:0.01233\tvalidation-rmse:0.17024\tvalidation-rmspe:0.00656\n",
      "[316]\ttrain-rmse:0.15398\ttrain-rmspe:0.01226\tvalidation-rmse:0.16993\tvalidation-rmspe:0.00651\n",
      "[317]\ttrain-rmse:0.15386\ttrain-rmspe:0.01222\tvalidation-rmse:0.16985\tvalidation-rmspe:0.00653\n",
      "[318]\ttrain-rmse:0.15369\ttrain-rmspe:0.01218\tvalidation-rmse:0.16969\tvalidation-rmspe:0.00646\n",
      "[319]\ttrain-rmse:0.15344\ttrain-rmspe:0.01213\tvalidation-rmse:0.16945\tvalidation-rmspe:0.00641\n",
      "[320]\ttrain-rmse:0.15321\ttrain-rmspe:0.01208\tvalidation-rmse:0.16924\tvalidation-rmspe:0.00629\n",
      "[321]\ttrain-rmse:0.15299\ttrain-rmspe:0.01203\tvalidation-rmse:0.16903\tvalidation-rmspe:0.00622\n",
      "[322]\ttrain-rmse:0.15259\ttrain-rmspe:0.01196\tvalidation-rmse:0.16867\tvalidation-rmspe:0.00614\n",
      "[323]\ttrain-rmse:0.15197\ttrain-rmspe:0.01185\tvalidation-rmse:0.16813\tvalidation-rmspe:0.00605\n",
      "[324]\ttrain-rmse:0.15168\ttrain-rmspe:0.01179\tvalidation-rmse:0.16788\tvalidation-rmspe:0.00600\n",
      "[325]\ttrain-rmse:0.15153\ttrain-rmspe:0.01175\tvalidation-rmse:0.16771\tvalidation-rmspe:0.00595\n",
      "[326]\ttrain-rmse:0.15143\ttrain-rmspe:0.01173\tvalidation-rmse:0.16767\tvalidation-rmspe:0.00594\n",
      "[327]\ttrain-rmse:0.15120\ttrain-rmspe:0.01168\tvalidation-rmse:0.16742\tvalidation-rmspe:0.00584\n",
      "[328]\ttrain-rmse:0.15095\ttrain-rmspe:0.01163\tvalidation-rmse:0.16719\tvalidation-rmspe:0.00581\n",
      "[329]\ttrain-rmse:0.15050\ttrain-rmspe:0.01155\tvalidation-rmse:0.16679\tvalidation-rmspe:0.00573\n",
      "[330]\ttrain-rmse:0.15026\ttrain-rmspe:0.01150\tvalidation-rmse:0.16657\tvalidation-rmspe:0.00568\n",
      "[331]\ttrain-rmse:0.15009\ttrain-rmspe:0.01147\tvalidation-rmse:0.16643\tvalidation-rmspe:0.00564\n",
      "[332]\ttrain-rmse:0.14975\ttrain-rmspe:0.01141\tvalidation-rmse:0.16612\tvalidation-rmspe:0.00557\n",
      "[333]\ttrain-rmse:0.14956\ttrain-rmspe:0.01137\tvalidation-rmse:0.16595\tvalidation-rmspe:0.00554\n",
      "[334]\ttrain-rmse:0.14936\ttrain-rmspe:0.01133\tvalidation-rmse:0.16577\tvalidation-rmspe:0.00547\n",
      "[335]\ttrain-rmse:0.14896\ttrain-rmspe:0.01126\tvalidation-rmse:0.16543\tvalidation-rmspe:0.00541\n",
      "[336]\ttrain-rmse:0.14879\ttrain-rmspe:0.01123\tvalidation-rmse:0.16526\tvalidation-rmspe:0.00536\n",
      "[337]\ttrain-rmse:0.14868\ttrain-rmspe:0.01120\tvalidation-rmse:0.16514\tvalidation-rmspe:0.00533\n",
      "[338]\ttrain-rmse:0.14840\ttrain-rmspe:0.01115\tvalidation-rmse:0.16484\tvalidation-rmspe:0.00524\n",
      "[339]\ttrain-rmse:0.14820\ttrain-rmspe:0.01112\tvalidation-rmse:0.16464\tvalidation-rmspe:0.00518\n",
      "[340]\ttrain-rmse:0.14783\ttrain-rmspe:0.01106\tvalidation-rmse:0.16434\tvalidation-rmspe:0.00511\n",
      "[341]\ttrain-rmse:0.14747\ttrain-rmspe:0.01100\tvalidation-rmse:0.16402\tvalidation-rmspe:0.00505\n",
      "[342]\ttrain-rmse:0.14736\ttrain-rmspe:0.01098\tvalidation-rmse:0.16391\tvalidation-rmspe:0.00500\n",
      "[343]\ttrain-rmse:0.14721\ttrain-rmspe:0.01095\tvalidation-rmse:0.16378\tvalidation-rmspe:0.00498\n",
      "[344]\ttrain-rmse:0.14679\ttrain-rmspe:0.01089\tvalidation-rmse:0.16341\tvalidation-rmspe:0.00489\n",
      "[345]\ttrain-rmse:0.14662\ttrain-rmspe:0.01085\tvalidation-rmse:0.16325\tvalidation-rmspe:0.00486\n",
      "[346]\ttrain-rmse:0.14623\ttrain-rmspe:0.01079\tvalidation-rmse:0.16292\tvalidation-rmspe:0.00480\n",
      "[347]\ttrain-rmse:0.14608\ttrain-rmspe:0.01076\tvalidation-rmse:0.16276\tvalidation-rmspe:0.00476\n",
      "[348]\ttrain-rmse:0.14588\ttrain-rmspe:0.01073\tvalidation-rmse:0.16259\tvalidation-rmspe:0.00471\n",
      "[349]\ttrain-rmse:0.14581\ttrain-rmspe:0.01071\tvalidation-rmse:0.16250\tvalidation-rmspe:0.00467\n",
      "[350]\ttrain-rmse:0.14568\ttrain-rmspe:0.01069\tvalidation-rmse:0.16239\tvalidation-rmspe:0.00466\n"
     ]
    },
    {
     "name": "stdout",
     "output_type": "stream",
     "text": [
      "[351]\ttrain-rmse:0.14552\ttrain-rmspe:0.01066\tvalidation-rmse:0.16223\tvalidation-rmspe:0.00462\n",
      "[352]\ttrain-rmse:0.14514\ttrain-rmspe:0.01060\tvalidation-rmse:0.16189\tvalidation-rmspe:0.00454\n",
      "[353]\ttrain-rmse:0.14507\ttrain-rmspe:0.01059\tvalidation-rmse:0.16183\tvalidation-rmspe:0.00453\n",
      "[354]\ttrain-rmse:0.14484\ttrain-rmspe:0.01055\tvalidation-rmse:0.16161\tvalidation-rmspe:0.00447\n",
      "[355]\ttrain-rmse:0.14459\ttrain-rmspe:0.01051\tvalidation-rmse:0.16140\tvalidation-rmspe:0.00444\n",
      "[356]\ttrain-rmse:0.14445\ttrain-rmspe:0.01048\tvalidation-rmse:0.16127\tvalidation-rmspe:0.00441\n",
      "[357]\ttrain-rmse:0.14433\ttrain-rmspe:0.01046\tvalidation-rmse:0.16116\tvalidation-rmspe:0.00438\n",
      "[358]\ttrain-rmse:0.14387\ttrain-rmspe:0.01039\tvalidation-rmse:0.16070\tvalidation-rmspe:0.00428\n",
      "[359]\ttrain-rmse:0.14356\ttrain-rmspe:0.01034\tvalidation-rmse:0.16044\tvalidation-rmspe:0.00421\n",
      "[360]\ttrain-rmse:0.14319\ttrain-rmspe:0.01028\tvalidation-rmse:0.16011\tvalidation-rmspe:0.00414\n",
      "[361]\ttrain-rmse:0.14313\ttrain-rmspe:0.01027\tvalidation-rmse:0.16006\tvalidation-rmspe:0.00412\n",
      "[362]\ttrain-rmse:0.14300\ttrain-rmspe:0.01024\tvalidation-rmse:0.15996\tvalidation-rmspe:0.00408\n",
      "[363]\ttrain-rmse:0.14285\ttrain-rmspe:0.01022\tvalidation-rmse:0.15983\tvalidation-rmspe:0.00404\n",
      "[364]\ttrain-rmse:0.14266\ttrain-rmspe:0.01018\tvalidation-rmse:0.15967\tvalidation-rmspe:0.00407\n",
      "[365]\ttrain-rmse:0.14229\ttrain-rmspe:0.01013\tvalidation-rmse:0.15935\tvalidation-rmspe:0.00400\n",
      "[366]\ttrain-rmse:0.14215\ttrain-rmspe:0.01011\tvalidation-rmse:0.15923\tvalidation-rmspe:0.00398\n",
      "[367]\ttrain-rmse:0.14209\ttrain-rmspe:0.01010\tvalidation-rmse:0.15917\tvalidation-rmspe:0.00397\n",
      "[368]\ttrain-rmse:0.14179\ttrain-rmspe:0.01005\tvalidation-rmse:0.15890\tvalidation-rmspe:0.00388\n",
      "[369]\ttrain-rmse:0.14163\ttrain-rmspe:0.01003\tvalidation-rmse:0.15875\tvalidation-rmspe:0.00385\n",
      "[370]\ttrain-rmse:0.14149\ttrain-rmspe:0.01000\tvalidation-rmse:0.15865\tvalidation-rmspe:0.00383\n",
      "[371]\ttrain-rmse:0.14139\ttrain-rmspe:0.00999\tvalidation-rmse:0.15857\tvalidation-rmspe:0.00389\n",
      "[372]\ttrain-rmse:0.14118\ttrain-rmspe:0.00995\tvalidation-rmse:0.15837\tvalidation-rmspe:0.00382\n",
      "[373]\ttrain-rmse:0.14108\ttrain-rmspe:0.00993\tvalidation-rmse:0.15845\tvalidation-rmspe:0.00350\n",
      "[374]\ttrain-rmse:0.14099\ttrain-rmspe:0.00992\tvalidation-rmse:0.15838\tvalidation-rmspe:0.00348\n",
      "[375]\ttrain-rmse:0.14084\ttrain-rmspe:0.00989\tvalidation-rmse:0.15823\tvalidation-rmspe:0.00346\n",
      "[376]\ttrain-rmse:0.14078\ttrain-rmspe:0.00988\tvalidation-rmse:0.15818\tvalidation-rmspe:0.00344\n",
      "[377]\ttrain-rmse:0.14069\ttrain-rmspe:0.00986\tvalidation-rmse:0.15831\tvalidation-rmspe:0.00315\n",
      "[378]\ttrain-rmse:0.14053\ttrain-rmspe:0.00984\tvalidation-rmse:0.15813\tvalidation-rmspe:0.00312\n",
      "[379]\ttrain-rmse:0.14035\ttrain-rmspe:0.00981\tvalidation-rmse:0.15798\tvalidation-rmspe:0.00309\n",
      "[380]\ttrain-rmse:0.13994\ttrain-rmspe:0.00975\tvalidation-rmse:0.15764\tvalidation-rmspe:0.00301\n",
      "[381]\ttrain-rmse:0.13971\ttrain-rmspe:0.00972\tvalidation-rmse:0.15744\tvalidation-rmspe:0.00298\n",
      "[382]\ttrain-rmse:0.13961\ttrain-rmspe:0.00970\tvalidation-rmse:0.15734\tvalidation-rmspe:0.00295\n",
      "[383]\ttrain-rmse:0.13921\ttrain-rmspe:0.00965\tvalidation-rmse:0.15701\tvalidation-rmspe:0.00288\n",
      "[384]\ttrain-rmse:0.13911\ttrain-rmspe:0.00963\tvalidation-rmse:0.15690\tvalidation-rmspe:0.00285\n",
      "[385]\ttrain-rmse:0.13901\ttrain-rmspe:0.00962\tvalidation-rmse:0.15681\tvalidation-rmspe:0.00281\n",
      "[386]\ttrain-rmse:0.13893\ttrain-rmspe:0.00960\tvalidation-rmse:0.15674\tvalidation-rmspe:0.00274\n",
      "[387]\ttrain-rmse:0.13872\ttrain-rmspe:0.00957\tvalidation-rmse:0.15656\tvalidation-rmspe:0.00271\n",
      "[388]\ttrain-rmse:0.13863\ttrain-rmspe:0.00956\tvalidation-rmse:0.15646\tvalidation-rmspe:0.00267\n",
      "[389]\ttrain-rmse:0.13835\ttrain-rmspe:0.00951\tvalidation-rmse:0.15622\tvalidation-rmspe:0.00262\n",
      "[390]\ttrain-rmse:0.13815\ttrain-rmspe:0.00948\tvalidation-rmse:0.15605\tvalidation-rmspe:0.00255\n",
      "[391]\ttrain-rmse:0.13797\ttrain-rmspe:0.00945\tvalidation-rmse:0.15590\tvalidation-rmspe:0.00252\n",
      "[392]\ttrain-rmse:0.13751\ttrain-rmspe:0.00939\tvalidation-rmse:0.15551\tvalidation-rmspe:0.00243\n",
      "[393]\ttrain-rmse:0.13742\ttrain-rmspe:0.00937\tvalidation-rmse:0.15543\tvalidation-rmspe:0.00242\n",
      "[394]\ttrain-rmse:0.13727\ttrain-rmspe:0.00935\tvalidation-rmse:0.15533\tvalidation-rmspe:0.00231\n",
      "[395]\ttrain-rmse:0.13700\ttrain-rmspe:0.00932\tvalidation-rmse:0.15512\tvalidation-rmspe:0.00227\n",
      "[396]\ttrain-rmse:0.13679\ttrain-rmspe:0.00928\tvalidation-rmse:0.15492\tvalidation-rmspe:0.00222\n",
      "[397]\ttrain-rmse:0.13665\ttrain-rmspe:0.00927\tvalidation-rmse:0.15478\tvalidation-rmspe:0.00219\n",
      "[398]\ttrain-rmse:0.13643\ttrain-rmspe:0.00924\tvalidation-rmse:0.15460\tvalidation-rmspe:0.00216\n",
      "[399]\ttrain-rmse:0.13615\ttrain-rmspe:0.00920\tvalidation-rmse:0.15438\tvalidation-rmspe:0.00213\n",
      "[400]\ttrain-rmse:0.13605\ttrain-rmspe:0.00918\tvalidation-rmse:0.15429\tvalidation-rmspe:0.00212\n",
      "[401]\ttrain-rmse:0.13597\ttrain-rmspe:0.00917\tvalidation-rmse:0.15425\tvalidation-rmspe:0.00209\n",
      "[402]\ttrain-rmse:0.13583\ttrain-rmspe:0.00915\tvalidation-rmse:0.15412\tvalidation-rmspe:0.00211\n",
      "[403]\ttrain-rmse:0.13555\ttrain-rmspe:0.00911\tvalidation-rmse:0.15388\tvalidation-rmspe:0.00207\n",
      "[404]\ttrain-rmse:0.13547\ttrain-rmspe:0.00910\tvalidation-rmse:0.15379\tvalidation-rmspe:0.00205\n",
      "[405]\ttrain-rmse:0.13538\ttrain-rmspe:0.00908\tvalidation-rmse:0.15376\tvalidation-rmspe:0.00204\n",
      "[406]\ttrain-rmse:0.13509\ttrain-rmspe:0.00905\tvalidation-rmse:0.15352\tvalidation-rmspe:0.00198\n",
      "[407]\ttrain-rmse:0.13504\ttrain-rmspe:0.00904\tvalidation-rmse:0.15348\tvalidation-rmspe:0.00198\n",
      "[408]\ttrain-rmse:0.13495\ttrain-rmspe:0.00903\tvalidation-rmse:0.15342\tvalidation-rmspe:0.00197\n",
      "[409]\ttrain-rmse:0.13488\ttrain-rmspe:0.00902\tvalidation-rmse:0.15335\tvalidation-rmspe:0.00194\n",
      "[410]\ttrain-rmse:0.13453\ttrain-rmspe:0.00897\tvalidation-rmse:0.15305\tvalidation-rmspe:0.00188\n",
      "[411]\ttrain-rmse:0.13426\ttrain-rmspe:0.00894\tvalidation-rmse:0.15282\tvalidation-rmspe:0.00184\n",
      "[412]\ttrain-rmse:0.13411\ttrain-rmspe:0.00891\tvalidation-rmse:0.15270\tvalidation-rmspe:0.00180\n",
      "[413]\ttrain-rmse:0.13387\ttrain-rmspe:0.00888\tvalidation-rmse:0.15249\tvalidation-rmspe:0.00177\n",
      "[414]\ttrain-rmse:0.13368\ttrain-rmspe:0.00885\tvalidation-rmse:0.15233\tvalidation-rmspe:0.00174\n",
      "[415]\ttrain-rmse:0.13350\ttrain-rmspe:0.00882\tvalidation-rmse:0.15216\tvalidation-rmspe:0.00170\n",
      "[416]\ttrain-rmse:0.13343\ttrain-rmspe:0.00881\tvalidation-rmse:0.15209\tvalidation-rmspe:0.00168\n",
      "[417]\ttrain-rmse:0.13337\ttrain-rmspe:0.00881\tvalidation-rmse:0.15201\tvalidation-rmspe:0.00168\n",
      "[418]\ttrain-rmse:0.13329\ttrain-rmspe:0.00880\tvalidation-rmse:0.15194\tvalidation-rmspe:0.00169\n",
      "[419]\ttrain-rmse:0.13313\ttrain-rmspe:0.00877\tvalidation-rmse:0.15179\tvalidation-rmspe:0.00167\n",
      "[420]\ttrain-rmse:0.13308\ttrain-rmspe:0.00876\tvalidation-rmse:0.15177\tvalidation-rmspe:0.00160\n",
      "[421]\ttrain-rmse:0.13284\ttrain-rmspe:0.00873\tvalidation-rmse:0.15158\tvalidation-rmspe:0.00156\n",
      "[422]\ttrain-rmse:0.13249\ttrain-rmspe:0.00869\tvalidation-rmse:0.15127\tvalidation-rmspe:0.00149\n",
      "[423]\ttrain-rmse:0.13224\ttrain-rmspe:0.00865\tvalidation-rmse:0.15106\tvalidation-rmspe:0.00145\n",
      "[424]\ttrain-rmse:0.13210\ttrain-rmspe:0.00864\tvalidation-rmse:0.15097\tvalidation-rmspe:0.00143\n",
      "[425]\ttrain-rmse:0.13193\ttrain-rmspe:0.00861\tvalidation-rmse:0.15081\tvalidation-rmspe:0.00140\n",
      "[426]\ttrain-rmse:0.13171\ttrain-rmspe:0.00859\tvalidation-rmse:0.15063\tvalidation-rmspe:0.00137\n",
      "[427]\ttrain-rmse:0.13164\ttrain-rmspe:0.00858\tvalidation-rmse:0.15057\tvalidation-rmspe:0.00136\n",
      "[428]\ttrain-rmse:0.13146\ttrain-rmspe:0.00855\tvalidation-rmse:0.15043\tvalidation-rmspe:0.00132\n",
      "[429]\ttrain-rmse:0.13125\ttrain-rmspe:0.00852\tvalidation-rmse:0.15022\tvalidation-rmspe:0.00130\n",
      "[430]\ttrain-rmse:0.13108\ttrain-rmspe:0.00850\tvalidation-rmse:0.15009\tvalidation-rmspe:0.00125\n",
      "[431]\ttrain-rmse:0.13093\ttrain-rmspe:0.00848\tvalidation-rmse:0.14996\tvalidation-rmspe:0.00122\n",
      "[432]\ttrain-rmse:0.13076\ttrain-rmspe:0.00846\tvalidation-rmse:0.14982\tvalidation-rmspe:0.00118\n",
      "[433]\ttrain-rmse:0.13066\ttrain-rmspe:0.00844\tvalidation-rmse:0.14992\tvalidation-rmspe:0.00092\n",
      "[434]\ttrain-rmse:0.13061\ttrain-rmspe:0.00843\tvalidation-rmse:0.14990\tvalidation-rmspe:0.00088\n",
      "[435]\ttrain-rmse:0.13048\ttrain-rmspe:0.00842\tvalidation-rmse:0.14978\tvalidation-rmspe:0.00086\n",
      "[436]\ttrain-rmse:0.13025\ttrain-rmspe:0.00839\tvalidation-rmse:0.14958\tvalidation-rmspe:0.00086\n",
      "[437]\ttrain-rmse:0.13020\ttrain-rmspe:0.00838\tvalidation-rmse:0.14953\tvalidation-rmspe:0.00087\n",
      "[438]\ttrain-rmse:0.13000\ttrain-rmspe:0.00836\tvalidation-rmse:0.14936\tvalidation-rmspe:0.00083\n"
     ]
    },
    {
     "name": "stdout",
     "output_type": "stream",
     "text": [
      "[439]\ttrain-rmse:0.12995\ttrain-rmspe:0.00835\tvalidation-rmse:0.14932\tvalidation-rmspe:0.00084\n",
      "[440]\ttrain-rmse:0.12985\ttrain-rmspe:0.00834\tvalidation-rmse:0.14923\tvalidation-rmspe:0.00078\n",
      "[441]\ttrain-rmse:0.12975\ttrain-rmspe:0.00833\tvalidation-rmse:0.14916\tvalidation-rmspe:0.00077\n",
      "[442]\ttrain-rmse:0.12957\ttrain-rmspe:0.00830\tvalidation-rmse:0.14901\tvalidation-rmspe:0.00074\n",
      "[443]\ttrain-rmse:0.12931\ttrain-rmspe:0.00827\tvalidation-rmse:0.14878\tvalidation-rmspe:0.00069\n",
      "[444]\ttrain-rmse:0.12926\ttrain-rmspe:0.00826\tvalidation-rmse:0.14874\tvalidation-rmspe:0.00075\n",
      "[445]\ttrain-rmse:0.12913\ttrain-rmspe:0.00824\tvalidation-rmse:0.14863\tvalidation-rmspe:0.00072\n",
      "[446]\ttrain-rmse:0.12894\ttrain-rmspe:0.00822\tvalidation-rmse:0.14847\tvalidation-rmspe:0.00069\n",
      "[447]\ttrain-rmse:0.12888\ttrain-rmspe:0.00821\tvalidation-rmse:0.14841\tvalidation-rmspe:0.00066\n",
      "[448]\ttrain-rmse:0.12883\ttrain-rmspe:0.00820\tvalidation-rmse:0.14837\tvalidation-rmspe:0.00065\n",
      "[449]\ttrain-rmse:0.12852\ttrain-rmspe:0.00816\tvalidation-rmse:0.14808\tvalidation-rmspe:0.00061\n",
      "[450]\ttrain-rmse:0.12838\ttrain-rmspe:0.00814\tvalidation-rmse:0.14797\tvalidation-rmspe:0.00056\n",
      "[451]\ttrain-rmse:0.12828\ttrain-rmspe:0.00813\tvalidation-rmse:0.14793\tvalidation-rmspe:0.00052\n",
      "[452]\ttrain-rmse:0.12809\ttrain-rmspe:0.00811\tvalidation-rmse:0.14775\tvalidation-rmspe:0.00048\n",
      "[453]\ttrain-rmse:0.12805\ttrain-rmspe:0.00810\tvalidation-rmse:0.14771\tvalidation-rmspe:0.00048\n",
      "[454]\ttrain-rmse:0.12786\ttrain-rmspe:0.00808\tvalidation-rmse:0.14757\tvalidation-rmspe:0.00045\n",
      "[455]\ttrain-rmse:0.12761\ttrain-rmspe:0.00804\tvalidation-rmse:0.14736\tvalidation-rmspe:0.00041\n",
      "[456]\ttrain-rmse:0.12754\ttrain-rmspe:0.00803\tvalidation-rmse:0.14730\tvalidation-rmspe:0.00038\n",
      "[457]\ttrain-rmse:0.12743\ttrain-rmspe:0.00802\tvalidation-rmse:0.14720\tvalidation-rmspe:0.00034\n",
      "[458]\ttrain-rmse:0.12735\ttrain-rmspe:0.00801\tvalidation-rmse:0.14713\tvalidation-rmspe:0.00030\n",
      "[459]\ttrain-rmse:0.12721\ttrain-rmspe:0.00799\tvalidation-rmse:0.14702\tvalidation-rmspe:0.00028\n",
      "[460]\ttrain-rmse:0.12718\ttrain-rmspe:0.00799\tvalidation-rmse:0.14699\tvalidation-rmspe:0.00027\n",
      "[461]\ttrain-rmse:0.12709\ttrain-rmspe:0.00798\tvalidation-rmse:0.14691\tvalidation-rmspe:0.00028\n",
      "[462]\ttrain-rmse:0.12699\ttrain-rmspe:0.00797\tvalidation-rmse:0.14683\tvalidation-rmspe:0.00024\n",
      "[463]\ttrain-rmse:0.12694\ttrain-rmspe:0.00796\tvalidation-rmse:0.14679\tvalidation-rmspe:0.00027\n",
      "[464]\ttrain-rmse:0.12685\ttrain-rmspe:0.00795\tvalidation-rmse:0.14676\tvalidation-rmspe:0.00028\n",
      "[465]\ttrain-rmse:0.12667\ttrain-rmspe:0.00793\tvalidation-rmse:0.14662\tvalidation-rmspe:0.00026\n",
      "[466]\ttrain-rmse:0.12632\ttrain-rmspe:0.00788\tvalidation-rmse:0.14635\tvalidation-rmspe:0.00022\n",
      "[467]\ttrain-rmse:0.12628\ttrain-rmspe:0.00788\tvalidation-rmse:0.14632\tvalidation-rmspe:0.00021\n",
      "[468]\ttrain-rmse:0.12625\ttrain-rmspe:0.00788\tvalidation-rmse:0.14629\tvalidation-rmspe:0.00021\n",
      "[469]\ttrain-rmse:0.12613\ttrain-rmspe:0.00786\tvalidation-rmse:0.14619\tvalidation-rmspe:0.00019\n",
      "[470]\ttrain-rmse:0.12603\ttrain-rmspe:0.00785\tvalidation-rmse:0.14609\tvalidation-rmspe:0.00017\n",
      "[471]\ttrain-rmse:0.12592\ttrain-rmspe:0.00783\tvalidation-rmse:0.14600\tvalidation-rmspe:0.00013\n",
      "[472]\ttrain-rmse:0.12584\ttrain-rmspe:0.00782\tvalidation-rmse:0.14592\tvalidation-rmspe:0.00003\n",
      "[473]\ttrain-rmse:0.12578\ttrain-rmspe:0.00781\tvalidation-rmse:0.14590\tvalidation-rmspe:0.00001\n",
      "[474]\ttrain-rmse:0.12565\ttrain-rmspe:0.00779\tvalidation-rmse:0.14579\tvalidation-rmspe:0.00002\n",
      "[475]\ttrain-rmse:0.12553\ttrain-rmspe:0.00778\tvalidation-rmse:0.14568\tvalidation-rmspe:0.00006\n",
      "[476]\ttrain-rmse:0.12530\ttrain-rmspe:0.00775\tvalidation-rmse:0.14548\tvalidation-rmspe:0.00015\n",
      "[477]\ttrain-rmse:0.12515\ttrain-rmspe:0.00773\tvalidation-rmse:0.14536\tvalidation-rmspe:0.00017\n",
      "[478]\ttrain-rmse:0.12502\ttrain-rmspe:0.00772\tvalidation-rmse:0.14525\tvalidation-rmspe:0.00019\n",
      "[479]\ttrain-rmse:0.12493\ttrain-rmspe:0.00771\tvalidation-rmse:0.14516\tvalidation-rmspe:0.00023\n",
      "[480]\ttrain-rmse:0.12489\ttrain-rmspe:0.00770\tvalidation-rmse:0.14513\tvalidation-rmspe:0.00016\n",
      "[481]\ttrain-rmse:0.12480\ttrain-rmspe:0.00769\tvalidation-rmse:0.14505\tvalidation-rmspe:0.00017\n",
      "[482]\ttrain-rmse:0.12472\ttrain-rmspe:0.00768\tvalidation-rmse:0.14498\tvalidation-rmspe:0.00020\n",
      "[483]\ttrain-rmse:0.12459\ttrain-rmspe:0.00766\tvalidation-rmse:0.14487\tvalidation-rmspe:0.00024\n",
      "[484]\ttrain-rmse:0.12454\ttrain-rmspe:0.00766\tvalidation-rmse:0.14484\tvalidation-rmspe:0.00025\n",
      "[485]\ttrain-rmse:0.12452\ttrain-rmspe:0.00766\tvalidation-rmse:0.14482\tvalidation-rmspe:0.00024\n",
      "[486]\ttrain-rmse:0.12438\ttrain-rmspe:0.00764\tvalidation-rmse:0.14470\tvalidation-rmspe:0.00028\n",
      "[487]\ttrain-rmse:0.12415\ttrain-rmspe:0.00761\tvalidation-rmse:0.14450\tvalidation-rmspe:0.00029\n",
      "[488]\ttrain-rmse:0.12406\ttrain-rmspe:0.00760\tvalidation-rmse:0.14442\tvalidation-rmspe:0.00030\n",
      "[489]\ttrain-rmse:0.12394\ttrain-rmspe:0.00758\tvalidation-rmse:0.14430\tvalidation-rmspe:0.00033\n",
      "[490]\ttrain-rmse:0.12384\ttrain-rmspe:0.00757\tvalidation-rmse:0.14420\tvalidation-rmspe:0.00034\n",
      "[491]\ttrain-rmse:0.12370\ttrain-rmspe:0.00755\tvalidation-rmse:0.14410\tvalidation-rmspe:0.00036\n",
      "[492]\ttrain-rmse:0.12356\ttrain-rmspe:0.00753\tvalidation-rmse:0.14399\tvalidation-rmspe:0.00038\n",
      "[493]\ttrain-rmse:0.12350\ttrain-rmspe:0.00753\tvalidation-rmse:0.14393\tvalidation-rmspe:0.00038\n",
      "[494]\ttrain-rmse:0.12343\ttrain-rmspe:0.00752\tvalidation-rmse:0.14385\tvalidation-rmspe:0.00038\n",
      "[495]\ttrain-rmse:0.12334\ttrain-rmspe:0.00751\tvalidation-rmse:0.14377\tvalidation-rmspe:0.00049\n",
      "[496]\ttrain-rmse:0.12315\ttrain-rmspe:0.00748\tvalidation-rmse:0.14359\tvalidation-rmspe:0.00052\n",
      "[497]\ttrain-rmse:0.12309\ttrain-rmspe:0.00747\tvalidation-rmse:0.14354\tvalidation-rmspe:0.00053\n",
      "[498]\ttrain-rmse:0.12297\ttrain-rmspe:0.00746\tvalidation-rmse:0.14344\tvalidation-rmspe:0.00056\n",
      "[499]\ttrain-rmse:0.12288\ttrain-rmspe:0.00745\tvalidation-rmse:0.14336\tvalidation-rmspe:0.00057\n",
      "[500]\ttrain-rmse:0.12281\ttrain-rmspe:0.00744\tvalidation-rmse:0.14326\tvalidation-rmspe:0.00060\n",
      "[501]\ttrain-rmse:0.12269\ttrain-rmspe:0.00742\tvalidation-rmse:0.14317\tvalidation-rmspe:0.00062\n",
      "[502]\ttrain-rmse:0.12249\ttrain-rmspe:0.00740\tvalidation-rmse:0.14301\tvalidation-rmspe:0.00064\n",
      "[503]\ttrain-rmse:0.12237\ttrain-rmspe:0.00739\tvalidation-rmse:0.14290\tvalidation-rmspe:0.00065\n",
      "[504]\ttrain-rmse:0.12226\ttrain-rmspe:0.00737\tvalidation-rmse:0.14280\tvalidation-rmspe:0.00066\n",
      "[505]\ttrain-rmse:0.12223\ttrain-rmspe:0.00737\tvalidation-rmse:0.14278\tvalidation-rmspe:0.00066\n",
      "[506]\ttrain-rmse:0.12210\ttrain-rmspe:0.00735\tvalidation-rmse:0.14267\tvalidation-rmspe:0.00067\n",
      "[507]\ttrain-rmse:0.12201\ttrain-rmspe:0.00734\tvalidation-rmse:0.14259\tvalidation-rmspe:0.00059\n",
      "[508]\ttrain-rmse:0.12199\ttrain-rmspe:0.00734\tvalidation-rmse:0.14257\tvalidation-rmspe:0.00059\n",
      "[509]\ttrain-rmse:0.12190\ttrain-rmspe:0.00733\tvalidation-rmse:0.14250\tvalidation-rmspe:0.00061\n",
      "[510]\ttrain-rmse:0.12178\ttrain-rmspe:0.00731\tvalidation-rmse:0.14241\tvalidation-rmspe:0.00067\n",
      "[511]\ttrain-rmse:0.12169\ttrain-rmspe:0.00730\tvalidation-rmse:0.14233\tvalidation-rmspe:0.00073\n",
      "[512]\ttrain-rmse:0.12164\ttrain-rmspe:0.00730\tvalidation-rmse:0.14231\tvalidation-rmspe:0.00078\n",
      "[513]\ttrain-rmse:0.12148\ttrain-rmspe:0.00728\tvalidation-rmse:0.14218\tvalidation-rmspe:0.00081\n",
      "[514]\ttrain-rmse:0.12141\ttrain-rmspe:0.00727\tvalidation-rmse:0.14214\tvalidation-rmspe:0.00083\n",
      "[515]\ttrain-rmse:0.12132\ttrain-rmspe:0.00726\tvalidation-rmse:0.14206\tvalidation-rmspe:0.00085\n",
      "[516]\ttrain-rmse:0.12126\ttrain-rmspe:0.00725\tvalidation-rmse:0.14202\tvalidation-rmspe:0.00085\n",
      "[517]\ttrain-rmse:0.12104\ttrain-rmspe:0.00723\tvalidation-rmse:0.14184\tvalidation-rmspe:0.00088\n",
      "[518]\ttrain-rmse:0.12099\ttrain-rmspe:0.00722\tvalidation-rmse:0.14186\tvalidation-rmspe:0.00082\n",
      "[519]\ttrain-rmse:0.12095\ttrain-rmspe:0.00721\tvalidation-rmse:0.14184\tvalidation-rmspe:0.00083\n",
      "[520]\ttrain-rmse:0.12082\ttrain-rmspe:0.00720\tvalidation-rmse:0.14172\tvalidation-rmspe:0.00085\n",
      "[521]\ttrain-rmse:0.12077\ttrain-rmspe:0.00719\tvalidation-rmse:0.14167\tvalidation-rmspe:0.00086\n",
      "[522]\ttrain-rmse:0.12066\ttrain-rmspe:0.00718\tvalidation-rmse:0.14159\tvalidation-rmspe:0.00088\n",
      "[523]\ttrain-rmse:0.12061\ttrain-rmspe:0.00717\tvalidation-rmse:0.14153\tvalidation-rmspe:0.00092\n",
      "[524]\ttrain-rmse:0.12059\ttrain-rmspe:0.00717\tvalidation-rmse:0.14151\tvalidation-rmspe:0.00092\n",
      "[525]\ttrain-rmse:0.12051\ttrain-rmspe:0.00716\tvalidation-rmse:0.14146\tvalidation-rmspe:0.00094\n",
      "[526]\ttrain-rmse:0.12031\ttrain-rmspe:0.00713\tvalidation-rmse:0.14129\tvalidation-rmspe:0.00097\n"
     ]
    },
    {
     "name": "stdout",
     "output_type": "stream",
     "text": [
      "[527]\ttrain-rmse:0.12025\ttrain-rmspe:0.00713\tvalidation-rmse:0.14125\tvalidation-rmspe:0.00098\n",
      "[528]\ttrain-rmse:0.12006\ttrain-rmspe:0.00711\tvalidation-rmse:0.14109\tvalidation-rmspe:0.00099\n",
      "[529]\ttrain-rmse:0.11992\ttrain-rmspe:0.00709\tvalidation-rmse:0.14096\tvalidation-rmspe:0.00106\n",
      "[530]\ttrain-rmse:0.11980\ttrain-rmspe:0.00708\tvalidation-rmse:0.14086\tvalidation-rmspe:0.00108\n",
      "[531]\ttrain-rmse:0.11968\ttrain-rmspe:0.00706\tvalidation-rmse:0.14077\tvalidation-rmspe:0.00109\n",
      "[532]\ttrain-rmse:0.11956\ttrain-rmspe:0.00705\tvalidation-rmse:0.14069\tvalidation-rmspe:0.00105\n",
      "[533]\ttrain-rmse:0.11951\ttrain-rmspe:0.00704\tvalidation-rmse:0.14064\tvalidation-rmspe:0.00107\n",
      "[534]\ttrain-rmse:0.11944\ttrain-rmspe:0.00703\tvalidation-rmse:0.14057\tvalidation-rmspe:0.00111\n",
      "[535]\ttrain-rmse:0.11930\ttrain-rmspe:0.00701\tvalidation-rmse:0.14045\tvalidation-rmspe:0.00112\n",
      "[536]\ttrain-rmse:0.11916\ttrain-rmspe:0.00700\tvalidation-rmse:0.14034\tvalidation-rmspe:0.00113\n",
      "[537]\ttrain-rmse:0.11902\ttrain-rmspe:0.00698\tvalidation-rmse:0.14022\tvalidation-rmspe:0.00115\n",
      "[538]\ttrain-rmse:0.11890\ttrain-rmspe:0.00697\tvalidation-rmse:0.14013\tvalidation-rmspe:0.00117\n",
      "[539]\ttrain-rmse:0.11873\ttrain-rmspe:0.00695\tvalidation-rmse:0.13999\tvalidation-rmspe:0.00119\n",
      "[540]\ttrain-rmse:0.11864\ttrain-rmspe:0.00694\tvalidation-rmse:0.13994\tvalidation-rmspe:0.00119\n",
      "[541]\ttrain-rmse:0.11857\ttrain-rmspe:0.00693\tvalidation-rmse:0.13988\tvalidation-rmspe:0.00122\n",
      "[542]\ttrain-rmse:0.11848\ttrain-rmspe:0.00692\tvalidation-rmse:0.13983\tvalidation-rmspe:0.00123\n",
      "[543]\ttrain-rmse:0.11840\ttrain-rmspe:0.00691\tvalidation-rmse:0.13975\tvalidation-rmspe:0.00124\n",
      "[544]\ttrain-rmse:0.11828\ttrain-rmspe:0.00690\tvalidation-rmse:0.13965\tvalidation-rmspe:0.00128\n",
      "[545]\ttrain-rmse:0.11810\ttrain-rmspe:0.00688\tvalidation-rmse:0.13950\tvalidation-rmspe:0.00129\n",
      "[546]\ttrain-rmse:0.11800\ttrain-rmspe:0.00687\tvalidation-rmse:0.13941\tvalidation-rmspe:0.00128\n",
      "[547]\ttrain-rmse:0.11791\ttrain-rmspe:0.00686\tvalidation-rmse:0.13933\tvalidation-rmspe:0.00128\n",
      "[548]\ttrain-rmse:0.11783\ttrain-rmspe:0.00685\tvalidation-rmse:0.13934\tvalidation-rmspe:0.00128\n",
      "[549]\ttrain-rmse:0.11765\ttrain-rmspe:0.00683\tvalidation-rmse:0.13920\tvalidation-rmspe:0.00132\n",
      "[550]\ttrain-rmse:0.11748\ttrain-rmspe:0.00681\tvalidation-rmse:0.13906\tvalidation-rmspe:0.00135\n",
      "[551]\ttrain-rmse:0.11746\ttrain-rmspe:0.00680\tvalidation-rmse:0.13904\tvalidation-rmspe:0.00136\n",
      "[552]\ttrain-rmse:0.11739\ttrain-rmspe:0.00680\tvalidation-rmse:0.13900\tvalidation-rmspe:0.00137\n",
      "[553]\ttrain-rmse:0.11734\ttrain-rmspe:0.00679\tvalidation-rmse:0.13895\tvalidation-rmspe:0.00138\n",
      "[554]\ttrain-rmse:0.11727\ttrain-rmspe:0.00678\tvalidation-rmse:0.13899\tvalidation-rmspe:0.00141\n",
      "[555]\ttrain-rmse:0.11720\ttrain-rmspe:0.00677\tvalidation-rmse:0.13892\tvalidation-rmspe:0.00141\n",
      "[556]\ttrain-rmse:0.11711\ttrain-rmspe:0.00676\tvalidation-rmse:0.13884\tvalidation-rmspe:0.00142\n",
      "[557]\ttrain-rmse:0.11703\ttrain-rmspe:0.00675\tvalidation-rmse:0.13877\tvalidation-rmspe:0.00142\n",
      "[558]\ttrain-rmse:0.11690\ttrain-rmspe:0.00673\tvalidation-rmse:0.13865\tvalidation-rmspe:0.00144\n",
      "[559]\ttrain-rmse:0.11687\ttrain-rmspe:0.00673\tvalidation-rmse:0.13862\tvalidation-rmspe:0.00145\n",
      "[560]\ttrain-rmse:0.11677\ttrain-rmspe:0.00672\tvalidation-rmse:0.13854\tvalidation-rmspe:0.00146\n",
      "[561]\ttrain-rmse:0.11671\ttrain-rmspe:0.00671\tvalidation-rmse:0.13850\tvalidation-rmspe:0.00147\n",
      "[562]\ttrain-rmse:0.11662\ttrain-rmspe:0.00670\tvalidation-rmse:0.13844\tvalidation-rmspe:0.00149\n",
      "[563]\ttrain-rmse:0.11658\ttrain-rmspe:0.00669\tvalidation-rmse:0.13842\tvalidation-rmspe:0.00148\n",
      "[564]\ttrain-rmse:0.11651\ttrain-rmspe:0.00668\tvalidation-rmse:0.13837\tvalidation-rmspe:0.00153\n",
      "[565]\ttrain-rmse:0.11636\ttrain-rmspe:0.00667\tvalidation-rmse:0.13824\tvalidation-rmspe:0.00156\n",
      "[566]\ttrain-rmse:0.11617\ttrain-rmspe:0.00665\tvalidation-rmse:0.13809\tvalidation-rmspe:0.00158\n",
      "[567]\ttrain-rmse:0.11605\ttrain-rmspe:0.00663\tvalidation-rmse:0.13801\tvalidation-rmspe:0.00155\n",
      "[568]\ttrain-rmse:0.11598\ttrain-rmspe:0.00662\tvalidation-rmse:0.13794\tvalidation-rmspe:0.00157\n",
      "[569]\ttrain-rmse:0.11594\ttrain-rmspe:0.00662\tvalidation-rmse:0.13791\tvalidation-rmspe:0.00157\n",
      "[570]\ttrain-rmse:0.11587\ttrain-rmspe:0.00661\tvalidation-rmse:0.13787\tvalidation-rmspe:0.00158\n",
      "[571]\ttrain-rmse:0.11584\ttrain-rmspe:0.00661\tvalidation-rmse:0.13784\tvalidation-rmspe:0.00159\n",
      "[572]\ttrain-rmse:0.11578\ttrain-rmspe:0.00660\tvalidation-rmse:0.13778\tvalidation-rmspe:0.00160\n",
      "[573]\ttrain-rmse:0.11573\ttrain-rmspe:0.00660\tvalidation-rmse:0.13773\tvalidation-rmspe:0.00160\n",
      "CPU times: user 21min 51s, sys: 2min 33s, total: 24min 24s\n",
      "Wall time: 3min 6s\n"
     ]
    }
   ],
   "source": [
    "%%time\n",
    "params = {'objective':'reg:linear',\n",
    "          'booster':'gbtree',\n",
    "          'eta':0.03,\n",
    "          'max_depth':10,\n",
    "          'subsample':0.9,\n",
    "          'colsample_bytree':0.7,\n",
    "          'silent':1,\n",
    "          'seed':10}\n",
    "\n",
    "num_boost_round = 6000\n",
    "\n",
    "dtrain = xgb.DMatrix(X_train,y_train)\n",
    "dtest = xgb.DMatrix(X_test,y_test) # 保留的验证数据\n",
    "\n",
    "print('模型训练开始……')\n",
    "\n",
    "evals = [(dtrain,'train'),(dtest,'validation')]\n",
    "\n",
    "gbm = xgb.train(params,# 模型参数\n",
    "          dtrain, # 训练数据\n",
    "          num_boost_round, # 轮次，决策树的个数\n",
    "          evals = evals,# 验证，评估的数据\n",
    "          early_stopping_rounds=100, # 在验证集上，当连续n次迭代，分数没有提高后，提前终止训练\n",
    "          feval=rmspe_xg,# 模型评估的函数\n",
    "          verbose_eval=True)# 打印输出log日志，每次训练详情"
   ]
  },
  {
   "cell_type": "markdown",
   "id": "430662ef",
   "metadata": {},
   "source": [
    "## 模型保存"
   ]
  },
  {
   "cell_type": "code",
   "execution_count": null,
   "id": "6131c53c",
   "metadata": {},
   "outputs": [],
   "source": [
    "# gbm.save_model('./train_model.json')"
   ]
  },
  {
   "cell_type": "markdown",
   "id": "18074dd5",
   "metadata": {},
   "source": [
    "## 模型评估"
   ]
  },
  {
   "cell_type": "code",
   "execution_count": 44,
   "id": "4b7c0a4d",
   "metadata": {
    "ExecuteTime": {
     "end_time": "2022-05-18T10:10:52.874330Z",
     "start_time": "2022-05-18T10:10:52.677935Z"
    }
   },
   "outputs": [
    {
     "name": "stdout",
     "output_type": "stream",
     "text": [
      "验证数据表现：\n",
      "RMSPE： 0.02076607222713522\n"
     ]
    }
   ],
   "source": [
    "print('验证数据表现：') # X_test就是验证数据\n",
    "X_test.sort_index(inplace=True)\n",
    "y_test.sort_index(inplace=True)\n",
    "\n",
    "# 使用算法进行了预测\n",
    "yhat = gbm.predict(xgb.DMatrix(X_test))\n",
    "\n",
    "error = rmspe(np.expm1(y_test),np.expm1(yhat))\n",
    "print('RMSPE：',error)"
   ]
  },
  {
   "cell_type": "code",
   "execution_count": 45,
   "id": "c48f3801",
   "metadata": {
    "ExecuteTime": {
     "end_time": "2022-05-18T10:11:11.285898Z",
     "start_time": "2022-05-18T10:11:11.246558Z"
    }
   },
   "outputs": [
    {
     "data": {
      "text/html": [
       "<div>\n",
       "<style scoped>\n",
       "    .dataframe tbody tr th:only-of-type {\n",
       "        vertical-align: middle;\n",
       "    }\n",
       "\n",
       "    .dataframe tbody tr th {\n",
       "        vertical-align: top;\n",
       "    }\n",
       "\n",
       "    .dataframe thead th {\n",
       "        text-align: right;\n",
       "    }\n",
       "</style>\n",
       "<table border=\"1\" class=\"dataframe\">\n",
       "  <thead>\n",
       "    <tr style=\"text-align: right;\">\n",
       "      <th></th>\n",
       "      <th>Store</th>\n",
       "      <th>DayOfWeek</th>\n",
       "      <th>Promo</th>\n",
       "      <th>StateHoliday</th>\n",
       "      <th>SchoolHoliday</th>\n",
       "      <th>StoreType</th>\n",
       "      <th>Assortment</th>\n",
       "      <th>CompetitionDistance</th>\n",
       "      <th>CompetitionOpenSinceMonth</th>\n",
       "      <th>CompetitionOpenSinceYear</th>\n",
       "      <th>...</th>\n",
       "      <th>Promo2SinceYear</th>\n",
       "      <th>year</th>\n",
       "      <th>month</th>\n",
       "      <th>day</th>\n",
       "      <th>IsPromoMonth</th>\n",
       "      <th>Sales</th>\n",
       "      <th>Prediction</th>\n",
       "      <th>Ratio</th>\n",
       "      <th>Error</th>\n",
       "      <th>weight</th>\n",
       "    </tr>\n",
       "  </thead>\n",
       "  <tbody>\n",
       "    <tr>\n",
       "      <th>0</th>\n",
       "      <td>1</td>\n",
       "      <td>5</td>\n",
       "      <td>1</td>\n",
       "      <td>0</td>\n",
       "      <td>1</td>\n",
       "      <td>3</td>\n",
       "      <td>1</td>\n",
       "      <td>1270.0</td>\n",
       "      <td>9.0</td>\n",
       "      <td>2008.0</td>\n",
       "      <td>...</td>\n",
       "      <td>0.0</td>\n",
       "      <td>2015</td>\n",
       "      <td>7</td>\n",
       "      <td>31</td>\n",
       "      <td>0</td>\n",
       "      <td>8.568646</td>\n",
       "      <td>8.698814</td>\n",
       "      <td>1.015191</td>\n",
       "      <td>0.015191</td>\n",
       "      <td>0.985036</td>\n",
       "    </tr>\n",
       "    <tr>\n",
       "      <th>1</th>\n",
       "      <td>2</td>\n",
       "      <td>5</td>\n",
       "      <td>1</td>\n",
       "      <td>0</td>\n",
       "      <td>1</td>\n",
       "      <td>1</td>\n",
       "      <td>1</td>\n",
       "      <td>570.0</td>\n",
       "      <td>11.0</td>\n",
       "      <td>2007.0</td>\n",
       "      <td>...</td>\n",
       "      <td>2010.0</td>\n",
       "      <td>2015</td>\n",
       "      <td>7</td>\n",
       "      <td>31</td>\n",
       "      <td>1</td>\n",
       "      <td>8.710290</td>\n",
       "      <td>8.779842</td>\n",
       "      <td>1.007985</td>\n",
       "      <td>0.007985</td>\n",
       "      <td>0.992078</td>\n",
       "    </tr>\n",
       "    <tr>\n",
       "      <th>2</th>\n",
       "      <td>3</td>\n",
       "      <td>5</td>\n",
       "      <td>1</td>\n",
       "      <td>0</td>\n",
       "      <td>1</td>\n",
       "      <td>1</td>\n",
       "      <td>1</td>\n",
       "      <td>14130.0</td>\n",
       "      <td>12.0</td>\n",
       "      <td>2006.0</td>\n",
       "      <td>...</td>\n",
       "      <td>2011.0</td>\n",
       "      <td>2015</td>\n",
       "      <td>7</td>\n",
       "      <td>31</td>\n",
       "      <td>1</td>\n",
       "      <td>9.025816</td>\n",
       "      <td>9.115033</td>\n",
       "      <td>1.009885</td>\n",
       "      <td>0.009885</td>\n",
       "      <td>0.990212</td>\n",
       "    </tr>\n",
       "    <tr>\n",
       "      <th>3</th>\n",
       "      <td>4</td>\n",
       "      <td>5</td>\n",
       "      <td>1</td>\n",
       "      <td>0</td>\n",
       "      <td>1</td>\n",
       "      <td>3</td>\n",
       "      <td>3</td>\n",
       "      <td>620.0</td>\n",
       "      <td>9.0</td>\n",
       "      <td>2009.0</td>\n",
       "      <td>...</td>\n",
       "      <td>0.0</td>\n",
       "      <td>2015</td>\n",
       "      <td>7</td>\n",
       "      <td>31</td>\n",
       "      <td>0</td>\n",
       "      <td>9.546527</td>\n",
       "      <td>9.404050</td>\n",
       "      <td>0.985076</td>\n",
       "      <td>0.014924</td>\n",
       "      <td>1.015151</td>\n",
       "    </tr>\n",
       "    <tr>\n",
       "      <th>4</th>\n",
       "      <td>5</td>\n",
       "      <td>5</td>\n",
       "      <td>1</td>\n",
       "      <td>0</td>\n",
       "      <td>1</td>\n",
       "      <td>1</td>\n",
       "      <td>1</td>\n",
       "      <td>29910.0</td>\n",
       "      <td>4.0</td>\n",
       "      <td>2015.0</td>\n",
       "      <td>...</td>\n",
       "      <td>0.0</td>\n",
       "      <td>2015</td>\n",
       "      <td>7</td>\n",
       "      <td>31</td>\n",
       "      <td>0</td>\n",
       "      <td>8.481151</td>\n",
       "      <td>8.775042</td>\n",
       "      <td>1.034652</td>\n",
       "      <td>0.034652</td>\n",
       "      <td>0.966508</td>\n",
       "    </tr>\n",
       "  </tbody>\n",
       "</table>\n",
       "<p>5 rows × 22 columns</p>\n",
       "</div>"
      ],
      "text/plain": [
       "   Store  DayOfWeek  Promo  StateHoliday  SchoolHoliday  StoreType  \\\n",
       "0      1          5      1             0              1          3   \n",
       "1      2          5      1             0              1          1   \n",
       "2      3          5      1             0              1          1   \n",
       "3      4          5      1             0              1          3   \n",
       "4      5          5      1             0              1          1   \n",
       "\n",
       "   Assortment  CompetitionDistance  CompetitionOpenSinceMonth  \\\n",
       "0           1               1270.0                        9.0   \n",
       "1           1                570.0                       11.0   \n",
       "2           1              14130.0                       12.0   \n",
       "3           3                620.0                        9.0   \n",
       "4           1              29910.0                        4.0   \n",
       "\n",
       "   CompetitionOpenSinceYear  ...  Promo2SinceYear  year  month  day  \\\n",
       "0                    2008.0  ...              0.0  2015      7   31   \n",
       "1                    2007.0  ...           2010.0  2015      7   31   \n",
       "2                    2006.0  ...           2011.0  2015      7   31   \n",
       "3                    2009.0  ...              0.0  2015      7   31   \n",
       "4                    2015.0  ...              0.0  2015      7   31   \n",
       "\n",
       "   IsPromoMonth     Sales  Prediction     Ratio     Error    weight  \n",
       "0             0  8.568646    8.698814  1.015191  0.015191  0.985036  \n",
       "1             1  8.710290    8.779842  1.007985  0.007985  0.992078  \n",
       "2             1  9.025816    9.115033  1.009885  0.009885  0.990212  \n",
       "3             0  9.546527    9.404050  0.985076  0.014924  1.015151  \n",
       "4             0  8.481151    8.775042  1.034652  0.034652  0.966508  \n",
       "\n",
       "[5 rows x 22 columns]"
      ]
     },
     "metadata": {},
     "output_type": "display_data"
    }
   ],
   "source": [
    "# 画图查看，模型评估结果\n",
    "res = pd.DataFrame(data = y_test) # 真实\n",
    "res['Prediction'] = yhat # 预测\n",
    "\n",
    "res = pd.merge(X_test,res,left_index=True,right_index=True)\n",
    "\n",
    "res['Ratio'] = res['Prediction']/res['Sales'] # 预测和真实销量的比率\n",
    "res['Error'] = abs(1 - res['Ratio']) # 误差率\n",
    "res['weight'] = res['Sales']/res['Prediction'] # 真实销量占预测值的百分比\n",
    "display(res.head())"
   ]
  },
  {
   "cell_type": "code",
   "execution_count": 46,
   "id": "c407216d",
   "metadata": {
    "ExecuteTime": {
     "end_time": "2022-05-18T10:12:29.219295Z",
     "start_time": "2022-05-18T10:12:28.668865Z"
    }
   },
   "outputs": [
    {
     "name": "stdout",
     "output_type": "stream",
     "text": [
      "cmb10\n",
      "cmr10\n",
      "DejaVu Serif Display\n",
      "STIXSizeOneSym\n",
      "cmss10\n",
      "DejaVu Sans\n",
      "STIXNonUnicode\n",
      "DejaVu Sans Mono\n",
      "DejaVu Sans Mono\n",
      "DejaVu Sans\n",
      "DejaVu Sans Mono\n",
      "STIXSizeTwoSym\n",
      "STIXSizeThreeSym\n",
      "DejaVu Serif\n",
      "DejaVu Serif\n",
      "DejaVu Sans\n",
      "cmmi10\n",
      "STIXNonUnicode\n",
      "STIXGeneral\n",
      "STIXSizeFiveSym\n",
      "STIXSizeOneSym\n",
      "DejaVu Sans Display\n",
      "STIXSizeFourSym\n",
      "STIXSizeThreeSym\n",
      "cmsy10\n",
      "DejaVu Serif\n",
      "STIXSizeFourSym\n",
      "STIXGeneral\n",
      "STIXNonUnicode\n",
      "STIXGeneral\n",
      "DejaVu Serif\n",
      "cmex10\n",
      "STIXSizeTwoSym\n",
      "DejaVu Sans\n",
      "STIXGeneral\n",
      "DejaVu Sans Mono\n",
      "cmtt10\n",
      "STIXNonUnicode\n",
      "Comic Sans MS\n",
      "Party LET\n",
      "Academy Engraved LET\n",
      "System Font\n",
      "Noto Sans Javanese\n",
      "STIXSizeFourSym\n",
      "Georgia\n",
      "Noto Sans Tai Tham\n",
      "Beirut\n",
      "Noto Sans Batak\n",
      "Noto Sans Lydian\n",
      "Noto Sans Cypriot\n",
      "Noto Nastaliq Urdu\n",
      "Apple Braille\n",
      "Noto Sans Old Hungarian\n",
      "Noto Sans Syloti Nagri\n",
      "Mukta Mahee\n",
      "STIXSizeOneSym\n",
      "Arial Unicode MS\n",
      "Papyrus\n",
      "Noto Sans Armenian\n",
      "Apple Braille\n",
      "Arial Hebrew\n",
      "Noto Sans Mende Kikakui\n",
      "PT Serif\n",
      "Noto Sans Osage\n",
      "Noto Sans Kaithi\n",
      "Sathu\n",
      "Al Tarikh\n",
      "Apple Chancery\n",
      "Heiti TC\n",
      "Trebuchet MS\n",
      "Avenir Next Condensed\n",
      "Noto Sans Bamum\n",
      "Noto Sans Modi\n",
      "STIXNonUnicode\n",
      ".New York\n",
      ".New York\n",
      "Noto Sans Sundanese\n",
      "Noto Sans Multani\n",
      "Noto Serif Yezidi\n",
      "Trebuchet MS\n",
      "Hiragino Sans\n",
      "Noto Sans Imperial Aramaic\n",
      "Zapf Dingbats\n",
      "Gurmukhi Sangam MN\n",
      "Noto Sans Egyptian Hieroglyphs\n",
      "PT Sans\n",
      "Noto Sans PhagsPa\n",
      "Noto Sans Cham\n",
      "DIN Condensed\n",
      "STIXGeneral\n",
      "Noto Sans Tagalog\n",
      "Noto Sans Nabataean\n",
      "Hiragino Sans\n",
      "Hiragino Sans\n",
      "Nadeem\n",
      "Seravek\n",
      "Verdana\n",
      "Noto Sans Old South Arabian\n",
      "Kefa\n",
      "Hoefler Text\n",
      "Kannada Sangam MN\n",
      "Chalkboard SE\n",
      "Didot\n",
      "Tahoma\n",
      "Times New Roman\n",
      "Noto Sans Khojki\n",
      "Noto Sans Mandaic\n",
      "STIXSizeOneSym\n",
      "Noto Sans Old Persian\n",
      "Hiragino Mincho ProN\n",
      "Noto Sans Kannada\n",
      "Courier New\n",
      "Noto Sans Gothic\n",
      "Noto Sans Chakma\n",
      "Apple Braille\n",
      "Gurmukhi MN\n",
      "Hiragino Sans\n",
      "Baskerville\n",
      "Snell Roundhand\n",
      "Gill Sans\n",
      "Noto Sans Tai Viet\n",
      "Hiragino Sans GB\n",
      "Geneva\n",
      "Noto Sans Oriya\n",
      "Bodoni 72\n",
      "Savoye LET\n",
      "Andale Mono\n",
      "Krungthep\n",
      "Helvetica Neue\n",
      "Bangla MN\n",
      "Noto Sans Lepcha\n",
      "Lao MN\n",
      "Verdana\n",
      "Wingdings 3\n",
      "Copperplate\n",
      "PT Serif Caption\n",
      "Farah\n",
      "Hiragino Maru Gothic Pro\n",
      "Noto Sans Coptic\n",
      "Noto Sans NKo\n",
      "STIXIntegralsUpD\n",
      "STIXSizeFiveSym\n",
      "Trebuchet MS\n",
      "Apple Braille\n",
      "Verdana\n",
      "Noto Sans Buhid\n",
      "Bodoni 72 Oldstyle\n",
      "Verdana\n",
      "Noto Serif Myanmar\n",
      "Telugu MN\n",
      "Kannada MN\n",
      "STIXIntegralsUpSm\n",
      "Lao Sangam MN\n",
      "Georgia\n",
      "STIXIntegralsSm\n",
      "Sana\n",
      "PingFang HK\n",
      "Noto Sans Buginese\n",
      "Noto Sans Samaritan\n",
      "Hiragino Sans\n",
      "AppleMyungjo\n",
      "STIXIntegralsUp\n",
      "Webdings\n",
      "Noto Sans Avestan\n",
      "Arial Black\n",
      "Lucida Grande\n",
      "Noto Sans Psalter Pahlavi\n",
      "Noto Sans Inscriptional Parthian\n",
      "STIXIntegralsUpD\n",
      "STIXGeneral\n",
      "Phosphate\n",
      "Raanana\n",
      "Sinhala MN\n",
      "Times New Roman\n",
      "Noto Sans Takri\n",
      ".SF Compact Rounded\n",
      "Mishafi Gold\n",
      "Noto Sans Gunjala Gondi\n",
      "Noto Sans Lisu\n",
      "Noto Sans Brahmi\n",
      "Times New Roman\n",
      "Kailasa\n",
      "Arial Narrow\n",
      "Shree Devanagari 714\n",
      "Times New Roman\n",
      "PT Mono\n",
      "Noteworthy\n",
      "Noto Sans Thaana\n",
      "Damascus\n",
      "Monaco\n",
      "Noto Sans Adlam\n",
      "Malayalam Sangam MN\n",
      "Microsoft Sans Serif\n",
      "Noto Sans Manichaean\n",
      "Arial\n",
      "Songti SC\n",
      "Noto Sans Kharoshthi\n",
      "STIXIntegralsD\n",
      "Devanagari Sangam MN\n",
      "Myanmar Sangam MN\n",
      "Noto Sans Glagolitic\n",
      "Noto Sans Meroitic\n",
      "Gurmukhi MT\n",
      "Menlo\n",
      "Noto Sans Kayah Li\n",
      "New Peninim MT\n",
      "Times\n",
      "Tamil MN\n",
      "Noto Sans Linear A\n",
      "Marker Felt\n",
      "Noto Sans Meetei Mayek\n",
      "Diwan Thuluth\n",
      ".SF Compact\n",
      "Herculanum\n",
      "Baghdad\n",
      "Noto Serif Balinese\n",
      "Noto Sans Elbasan\n",
      "Noto Sans Khudawadi\n",
      ".Aqua Kana\n",
      "Hiragino Sans\n",
      "STIXGeneral\n",
      ".SF NS Mono\n",
      "Trattatello\n",
      "Avenir Next\n",
      "Arial Narrow\n",
      "Tahoma\n",
      "Futura\n",
      "Kohinoor Gujarati\n",
      "Charter\n",
      "Galvji\n",
      "Al Bayan\n",
      "Noto Sans Tagbanwa\n",
      "Wingdings\n",
      "Bangla Sangam MN\n",
      "Superclarendon\n",
      "Apple SD Gothic Neo\n",
      "Athelas\n",
      "Noto Sans Palmyrene\n",
      "Wingdings 2\n",
      "Noto Sans Sora Sompeng\n",
      "System Font\n",
      "Noto Sans Tai Le\n",
      "Bradley Hand\n",
      "Noto Sans Old Permic\n",
      "Skia\n",
      "Arial Rounded MT Bold\n",
      "Corsiva Hebrew\n",
      ".SF Compact\n",
      "Mshtakan\n",
      "Impact\n",
      "Noto Sans Osmanya\n",
      "Thonburi\n",
      "Noto Serif Ahom\n",
      "Kohinoor Devanagari\n",
      "STIXIntegralsUpSm\n",
      "STIXIntegralsSm\n",
      "Noto Sans Tirhuta\n",
      "Oriya MN\n",
      "Arial Narrow\n",
      "Noto Sans Miao\n",
      "Luminari\n",
      ".SF NS Mono\n",
      "STIXVariants\n",
      "Noto Sans Old North Arabian\n",
      "Khmer MN\n",
      "Kokonor\n",
      "Telugu Sangam MN\n",
      "Hiragino Sans\n",
      "STIXVariants\n",
      "Courier New\n",
      "Hiragino Sans\n",
      "Courier\n",
      "Noto Sans Duployan\n",
      "Geeza Pro\n",
      "Noto Sans Old Italic\n",
      "STIXSizeTwoSym\n",
      "STIXIntegralsD\n",
      "Big Caslon\n",
      "Palatino\n",
      "Marion\n",
      "Noto Sans Tifinagh\n",
      "Kohinoor Telugu\n",
      "KufiStandardGK\n",
      "Symbol\n",
      ".SF NS Rounded\n",
      "Noto Sans Mahajani\n",
      "SignPainter\n",
      "STIXNonUnicode\n",
      "Apple Braille\n",
      "Silom\n",
      "STIXSizeThreeSym\n",
      "American Typewriter\n",
      "Diwan Kufi\n",
      "Noto Sans Sharada\n",
      "Kohinoor Bangla\n",
      "Ayuthaya\n",
      "Plantagenet Cherokee\n",
      "Brush Script MT\n",
      "Malayalam MN\n",
      "AppleGothic\n",
      "Arial Unicode MS\n",
      "Noto Sans Syriac\n",
      "Bodoni 72 Smallcaps\n",
      "Noto Sans Hanifi Rohingya\n",
      "Optima\n",
      "Noto Sans Hatran\n",
      "Arial\n",
      "STIXNonUnicode\n",
      "Noto Sans Bassa Vah\n",
      "Tamil Sangam MN\n",
      "Heiti TC\n",
      "Helvetica\n",
      "STIXSizeFourSym\n",
      "Noto Sans Linear B\n",
      "Noto Sans Siddham\n",
      "Noto Sans Limbu\n",
      "Farisi\n",
      "Noto Sans Myanmar\n",
      "Sukhumvit Set\n",
      "Noto Sans Masaram Gondi\n",
      "Noto Sans Old Turkic\n",
      "Georgia\n",
      "Noto Sans Phoenician\n",
      "Noto Sans Wancho\n",
      "Noto Sans Carian\n",
      "Chalkboard\n",
      "Noto Sans Inscriptional Pahlavi\n",
      "Courier New\n",
      "Noto Sans Mro\n",
      "Sinhala Sangam MN\n",
      "Noto Sans Yi\n",
      "Khmer Sangam MN\n",
      "STIXGeneral\n",
      "Avenir\n",
      "Myanmar MN\n",
      "STIXSizeTwoSym\n",
      "Courier New\n",
      "Oriya Sangam MN\n",
      "Noto Sans Bhaiksuki\n",
      "Hiragino Sans\n",
      "Arial\n",
      "Bodoni Ornaments\n",
      "Arial\n",
      "Noto Sans Newa\n",
      "Noto Sans Saurashtra\n",
      "Euphemia UCAS\n",
      ".Keyboard\n",
      "Waseem\n",
      ".SF Arabic\n",
      "Devanagari MT\n",
      "STIXSizeThreeSym\n",
      "Noto Sans Vai\n",
      "Gujarati Sangam MN\n",
      "Noto Sans Caucasian Albanian\n",
      "Iowan Old Style\n",
      "Hiragino Sans\n",
      "Noto Sans Mongolian\n",
      "Comic Sans MS\n",
      "Mishafi\n",
      "Hoefler Text\n",
      "Cochin\n",
      "Georgia\n",
      "Noto Sans Warang Citi\n",
      "Noto Sans Pahawh Hmong\n",
      "Al Nile\n",
      "STIXNonUnicode\n",
      "Noto Sans Ugaritic\n",
      "Gujarati MT\n",
      "Noto Sans Pau Cin Hau\n",
      "Arial Narrow\n",
      "ITF Devanagari\n",
      "InaiMathi\n",
      "Noto Sans Ol Chiki\n",
      "DIN Alternate\n",
      "Noto Sans Cuneiform\n",
      "DecoType Naskh\n",
      "Rockwell\n",
      "Chalkduster\n",
      "Noto Sans Hanunoo\n",
      "Apple Symbols\n",
      "STIXIntegralsUp\n",
      "Noto Sans Marchen\n",
      "Trebuchet MS\n",
      "Zapfino\n",
      "Muna\n",
      "Noto Sans Lycian\n",
      "Noto Sans Rejang\n",
      "Noto Sans New Tai Lue\n"
     ]
    }
   ],
   "source": [
    "from matplotlib import font_manager\n",
    "fm = font_manager.FontManager()\n",
    "for font in fm.ttflist:\n",
    "    print(font.name)"
   ]
  },
  {
   "cell_type": "code",
   "execution_count": 47,
   "id": "989fe013",
   "metadata": {
    "ExecuteTime": {
     "end_time": "2022-05-18T10:13:56.219146Z",
     "start_time": "2022-05-18T10:13:55.742302Z"
    }
   },
   "outputs": [
    {
     "name": "stdout",
     "output_type": "stream",
     "text": [
      "全部商店预测值和真实销量的比率是1.002\n"
     ]
    },
    {
     "data": {
      "image/png": "[encoded data removed]",
      "text/plain": [
       "<Figure size 864x288 with 1 Axes>"
      ]
     },
     "metadata": {
      "needs_background": "light"
     },
     "output_type": "display_data"
    },
    {
     "data": {
      "image/png": "[encoded data removed]",
      "text/plain": [
       "<Figure size 864x288 with 1 Axes>"
      ]
     },
     "metadata": {
      "needs_background": "light"
     },
     "output_type": "display_data"
    },
    {
     "data": {
      "image/png": "[encoded data removed]",
      "text/plain": [
       "<Figure size 864x288 with 1 Axes>"
      ]
     },
     "metadata": {
      "needs_background": "light"
     },
     "output_type": "display_data"
    },
    {
     "data": {
      "image/png": "[encoded data removed]",
      "text/plain": [
       "<Figure size 864x288 with 1 Axes>"
      ]
     },
     "metadata": {
      "needs_background": "light"
     },
     "output_type": "display_data"
    },
    {
     "data": {
      "image/png": "[encoded data removed]",
      "text/plain": [
       "<Figure size 864x288 with 1 Axes>"
      ]
     },
     "metadata": {
      "needs_background": "light"
     },
     "output_type": "display_data"
    },
    {
     "data": {
      "image/png": "[encoded data removed]",
      "text/plain": [
       "<Figure size 864x288 with 1 Axes>"
      ]
     },
     "metadata": {
      "needs_background": "light"
     },
     "output_type": "display_data"
    }
   ],
   "source": [
    "plt.rcParams['font.family'] = 'Songti SC'\n",
    "\n",
    "col_1 = ['Sales','Prediction']\n",
    "col_2 = ['Ratio']\n",
    "\n",
    "# 随机选择三个店铺，进行可视化\n",
    "shops = np.random.randint(1,1116,size = 3)\n",
    "\n",
    "print('全部商店预测值和真实销量的比率是%0.3f' %(res['Ratio'].mean()))\n",
    "\n",
    "for shop in shops:\n",
    "    cond = res['Store'] == shop\n",
    "    df1 = pd.DataFrame(data = res[cond],columns = col_1)\n",
    "    df2 = pd.DataFrame(data = res[cond],columns = col_2)\n",
    "    df1.plot(title = '%d商店的预测数据和真实销量的对比' % (shop),figsize = (12,4))\n",
    "    df2.plot(title = '%d商店的预测数据和真实销量的比率' % (shop),figsize = (12,4))"
   ]
  },
  {
   "cell_type": "code",
   "execution_count": 48,
   "id": "1bf58d8c",
   "metadata": {
    "ExecuteTime": {
     "end_time": "2022-05-18T10:17:06.779035Z",
     "start_time": "2022-05-18T10:17:06.729020Z"
    }
   },
   "outputs": [
    {
     "data": {
      "text/html": [
       "<div>\n",
       "<style scoped>\n",
       "    .dataframe tbody tr th:only-of-type {\n",
       "        vertical-align: middle;\n",
       "    }\n",
       "\n",
       "    .dataframe tbody tr th {\n",
       "        vertical-align: top;\n",
       "    }\n",
       "\n",
       "    .dataframe thead th {\n",
       "        text-align: right;\n",
       "    }\n",
       "</style>\n",
       "<table border=\"1\" class=\"dataframe\">\n",
       "  <thead>\n",
       "    <tr style=\"text-align: right;\">\n",
       "      <th></th>\n",
       "      <th>Store</th>\n",
       "      <th>DayOfWeek</th>\n",
       "      <th>Promo</th>\n",
       "      <th>StateHoliday</th>\n",
       "      <th>SchoolHoliday</th>\n",
       "      <th>StoreType</th>\n",
       "      <th>Assortment</th>\n",
       "      <th>CompetitionDistance</th>\n",
       "      <th>CompetitionOpenSinceMonth</th>\n",
       "      <th>CompetitionOpenSinceYear</th>\n",
       "      <th>...</th>\n",
       "      <th>Promo2SinceYear</th>\n",
       "      <th>year</th>\n",
       "      <th>month</th>\n",
       "      <th>day</th>\n",
       "      <th>IsPromoMonth</th>\n",
       "      <th>Sales</th>\n",
       "      <th>Prediction</th>\n",
       "      <th>Ratio</th>\n",
       "      <th>Error</th>\n",
       "      <th>weight</th>\n",
       "    </tr>\n",
       "  </thead>\n",
       "  <tbody>\n",
       "    <tr>\n",
       "      <th>20419</th>\n",
       "      <td>292</td>\n",
       "      <td>5</td>\n",
       "      <td>0</td>\n",
       "      <td>0</td>\n",
       "      <td>0</td>\n",
       "      <td>1</td>\n",
       "      <td>1</td>\n",
       "      <td>1100.0</td>\n",
       "      <td>6.0</td>\n",
       "      <td>2009.0</td>\n",
       "      <td>...</td>\n",
       "      <td>0.0</td>\n",
       "      <td>2015</td>\n",
       "      <td>7</td>\n",
       "      <td>10</td>\n",
       "      <td>0</td>\n",
       "      <td>6.920672</td>\n",
       "      <td>8.590510</td>\n",
       "      <td>1.241283</td>\n",
       "      <td>2.412828e-01</td>\n",
       "      <td>0.805618</td>\n",
       "    </tr>\n",
       "    <tr>\n",
       "      <th>34346</th>\n",
       "      <td>782</td>\n",
       "      <td>5</td>\n",
       "      <td>0</td>\n",
       "      <td>0</td>\n",
       "      <td>0</td>\n",
       "      <td>3</td>\n",
       "      <td>3</td>\n",
       "      <td>5390.0</td>\n",
       "      <td>8.0</td>\n",
       "      <td>2003.0</td>\n",
       "      <td>...</td>\n",
       "      <td>2012.0</td>\n",
       "      <td>2015</td>\n",
       "      <td>6</td>\n",
       "      <td>26</td>\n",
       "      <td>0</td>\n",
       "      <td>7.260523</td>\n",
       "      <td>8.558833</td>\n",
       "      <td>1.178818</td>\n",
       "      <td>1.788178e-01</td>\n",
       "      <td>0.848308</td>\n",
       "    </tr>\n",
       "    <tr>\n",
       "      <th>29981</th>\n",
       "      <td>909</td>\n",
       "      <td>3</td>\n",
       "      <td>1</td>\n",
       "      <td>0</td>\n",
       "      <td>0</td>\n",
       "      <td>1</td>\n",
       "      <td>3</td>\n",
       "      <td>1680.0</td>\n",
       "      <td>0.0</td>\n",
       "      <td>0.0</td>\n",
       "      <td>...</td>\n",
       "      <td>2009.0</td>\n",
       "      <td>2015</td>\n",
       "      <td>7</td>\n",
       "      <td>1</td>\n",
       "      <td>0</td>\n",
       "      <td>8.174139</td>\n",
       "      <td>9.468882</td>\n",
       "      <td>1.158395</td>\n",
       "      <td>1.583949e-01</td>\n",
       "      <td>0.863263</td>\n",
       "    </tr>\n",
       "    <tr>\n",
       "      <th>38929</th>\n",
       "      <td>909</td>\n",
       "      <td>1</td>\n",
       "      <td>0</td>\n",
       "      <td>0</td>\n",
       "      <td>0</td>\n",
       "      <td>1</td>\n",
       "      <td>3</td>\n",
       "      <td>1680.0</td>\n",
       "      <td>0.0</td>\n",
       "      <td>0.0</td>\n",
       "      <td>...</td>\n",
       "      <td>2009.0</td>\n",
       "      <td>2015</td>\n",
       "      <td>6</td>\n",
       "      <td>22</td>\n",
       "      <td>0</td>\n",
       "      <td>10.634701</td>\n",
       "      <td>9.085303</td>\n",
       "      <td>0.854307</td>\n",
       "      <td>1.456926e-01</td>\n",
       "      <td>1.170539</td>\n",
       "    </tr>\n",
       "    <tr>\n",
       "      <th>26022</th>\n",
       "      <td>292</td>\n",
       "      <td>6</td>\n",
       "      <td>0</td>\n",
       "      <td>0</td>\n",
       "      <td>0</td>\n",
       "      <td>1</td>\n",
       "      <td>1</td>\n",
       "      <td>1100.0</td>\n",
       "      <td>6.0</td>\n",
       "      <td>2009.0</td>\n",
       "      <td>...</td>\n",
       "      <td>0.0</td>\n",
       "      <td>2015</td>\n",
       "      <td>7</td>\n",
       "      <td>4</td>\n",
       "      <td>0</td>\n",
       "      <td>7.406711</td>\n",
       "      <td>8.452643</td>\n",
       "      <td>1.141214</td>\n",
       "      <td>1.412142e-01</td>\n",
       "      <td>0.876260</td>\n",
       "    </tr>\n",
       "    <tr>\n",
       "      <th>...</th>\n",
       "      <td>...</td>\n",
       "      <td>...</td>\n",
       "      <td>...</td>\n",
       "      <td>...</td>\n",
       "      <td>...</td>\n",
       "      <td>...</td>\n",
       "      <td>...</td>\n",
       "      <td>...</td>\n",
       "      <td>...</td>\n",
       "      <td>...</td>\n",
       "      <td>...</td>\n",
       "      <td>...</td>\n",
       "      <td>...</td>\n",
       "      <td>...</td>\n",
       "      <td>...</td>\n",
       "      <td>...</td>\n",
       "      <td>...</td>\n",
       "      <td>...</td>\n",
       "      <td>...</td>\n",
       "      <td>...</td>\n",
       "      <td>...</td>\n",
       "    </tr>\n",
       "    <tr>\n",
       "      <th>1161</th>\n",
       "      <td>49</td>\n",
       "      <td>4</td>\n",
       "      <td>1</td>\n",
       "      <td>0</td>\n",
       "      <td>1</td>\n",
       "      <td>4</td>\n",
       "      <td>3</td>\n",
       "      <td>18010.0</td>\n",
       "      <td>9.0</td>\n",
       "      <td>2007.0</td>\n",
       "      <td>...</td>\n",
       "      <td>0.0</td>\n",
       "      <td>2015</td>\n",
       "      <td>7</td>\n",
       "      <td>30</td>\n",
       "      <td>0</td>\n",
       "      <td>9.104646</td>\n",
       "      <td>9.104661</td>\n",
       "      <td>1.000002</td>\n",
       "      <td>1.594838e-06</td>\n",
       "      <td>0.999998</td>\n",
       "    </tr>\n",
       "    <tr>\n",
       "      <th>5601</th>\n",
       "      <td>5</td>\n",
       "      <td>6</td>\n",
       "      <td>0</td>\n",
       "      <td>0</td>\n",
       "      <td>0</td>\n",
       "      <td>1</td>\n",
       "      <td>1</td>\n",
       "      <td>29910.0</td>\n",
       "      <td>4.0</td>\n",
       "      <td>2015.0</td>\n",
       "      <td>...</td>\n",
       "      <td>0.0</td>\n",
       "      <td>2015</td>\n",
       "      <td>7</td>\n",
       "      <td>25</td>\n",
       "      <td>0</td>\n",
       "      <td>7.616284</td>\n",
       "      <td>7.616275</td>\n",
       "      <td>0.999999</td>\n",
       "      <td>1.145953e-06</td>\n",
       "      <td>1.000001</td>\n",
       "    </tr>\n",
       "    <tr>\n",
       "      <th>8214</th>\n",
       "      <td>393</td>\n",
       "      <td>4</td>\n",
       "      <td>0</td>\n",
       "      <td>0</td>\n",
       "      <td>1</td>\n",
       "      <td>4</td>\n",
       "      <td>3</td>\n",
       "      <td>4820.0</td>\n",
       "      <td>3.0</td>\n",
       "      <td>2008.0</td>\n",
       "      <td>...</td>\n",
       "      <td>0.0</td>\n",
       "      <td>2015</td>\n",
       "      <td>7</td>\n",
       "      <td>23</td>\n",
       "      <td>0</td>\n",
       "      <td>8.492491</td>\n",
       "      <td>8.492496</td>\n",
       "      <td>1.000001</td>\n",
       "      <td>6.961094e-07</td>\n",
       "      <td>0.999999</td>\n",
       "    </tr>\n",
       "    <tr>\n",
       "      <th>18159</th>\n",
       "      <td>290</td>\n",
       "      <td>1</td>\n",
       "      <td>1</td>\n",
       "      <td>0</td>\n",
       "      <td>1</td>\n",
       "      <td>1</td>\n",
       "      <td>1</td>\n",
       "      <td>4150.0</td>\n",
       "      <td>5.0</td>\n",
       "      <td>2001.0</td>\n",
       "      <td>...</td>\n",
       "      <td>0.0</td>\n",
       "      <td>2015</td>\n",
       "      <td>7</td>\n",
       "      <td>13</td>\n",
       "      <td>0</td>\n",
       "      <td>9.206734</td>\n",
       "      <td>9.206731</td>\n",
       "      <td>1.000000</td>\n",
       "      <td>3.295188e-07</td>\n",
       "      <td>1.000000</td>\n",
       "    </tr>\n",
       "    <tr>\n",
       "      <th>9438</th>\n",
       "      <td>504</td>\n",
       "      <td>3</td>\n",
       "      <td>0</td>\n",
       "      <td>0</td>\n",
       "      <td>0</td>\n",
       "      <td>3</td>\n",
       "      <td>3</td>\n",
       "      <td>820.0</td>\n",
       "      <td>0.0</td>\n",
       "      <td>0.0</td>\n",
       "      <td>...</td>\n",
       "      <td>0.0</td>\n",
       "      <td>2015</td>\n",
       "      <td>7</td>\n",
       "      <td>22</td>\n",
       "      <td>0</td>\n",
       "      <td>8.621193</td>\n",
       "      <td>8.621190</td>\n",
       "      <td>1.000000</td>\n",
       "      <td>3.143798e-07</td>\n",
       "      <td>1.000000</td>\n",
       "    </tr>\n",
       "  </tbody>\n",
       "</table>\n",
       "<p>46830 rows × 22 columns</p>\n",
       "</div>"
      ],
      "text/plain": [
       "       Store  DayOfWeek  Promo  StateHoliday  SchoolHoliday  StoreType  \\\n",
       "20419    292          5      0             0              0          1   \n",
       "34346    782          5      0             0              0          3   \n",
       "29981    909          3      1             0              0          1   \n",
       "38929    909          1      0             0              0          1   \n",
       "26022    292          6      0             0              0          1   \n",
       "...      ...        ...    ...           ...            ...        ...   \n",
       "1161      49          4      1             0              1          4   \n",
       "5601       5          6      0             0              0          1   \n",
       "8214     393          4      0             0              1          4   \n",
       "18159    290          1      1             0              1          1   \n",
       "9438     504          3      0             0              0          3   \n",
       "\n",
       "       Assortment  CompetitionDistance  CompetitionOpenSinceMonth  \\\n",
       "20419           1               1100.0                        6.0   \n",
       "34346           3               5390.0                        8.0   \n",
       "29981           3               1680.0                        0.0   \n",
       "38929           3               1680.0                        0.0   \n",
       "26022           1               1100.0                        6.0   \n",
       "...           ...                  ...                        ...   \n",
       "1161            3              18010.0                        9.0   \n",
       "5601            1              29910.0                        4.0   \n",
       "8214            3               4820.0                        3.0   \n",
       "18159           1               4150.0                        5.0   \n",
       "9438            3                820.0                        0.0   \n",
       "\n",
       "       CompetitionOpenSinceYear  ...  Promo2SinceYear  year  month  day  \\\n",
       "20419                    2009.0  ...              0.0  2015      7   10   \n",
       "34346                    2003.0  ...           2012.0  2015      6   26   \n",
       "29981                       0.0  ...           2009.0  2015      7    1   \n",
       "38929                       0.0  ...           2009.0  2015      6   22   \n",
       "26022                    2009.0  ...              0.0  2015      7    4   \n",
       "...                         ...  ...              ...   ...    ...  ...   \n",
       "1161                     2007.0  ...              0.0  2015      7   30   \n",
       "5601                     2015.0  ...              0.0  2015      7   25   \n",
       "8214                     2008.0  ...              0.0  2015      7   23   \n",
       "18159                    2001.0  ...              0.0  2015      7   13   \n",
       "9438                        0.0  ...              0.0  2015      7   22   \n",
       "\n",
       "       IsPromoMonth      Sales  Prediction     Ratio         Error    weight  \n",
       "20419             0   6.920672    8.590510  1.241283  2.412828e-01  0.805618  \n",
       "34346             0   7.260523    8.558833  1.178818  1.788178e-01  0.848308  \n",
       "29981             0   8.174139    9.468882  1.158395  1.583949e-01  0.863263  \n",
       "38929             0  10.634701    9.085303  0.854307  1.456926e-01  1.170539  \n",
       "26022             0   7.406711    8.452643  1.141214  1.412142e-01  0.876260  \n",
       "...             ...        ...         ...       ...           ...       ...  \n",
       "1161              0   9.104646    9.104661  1.000002  1.594838e-06  0.999998  \n",
       "5601              0   7.616284    7.616275  0.999999  1.145953e-06  1.000001  \n",
       "8214              0   8.492491    8.492496  1.000001  6.961094e-07  0.999999  \n",
       "18159             0   9.206734    9.206731  1.000000  3.295188e-07  1.000000  \n",
       "9438              0   8.621193    8.621190  1.000000  3.143798e-07  1.000000  \n",
       "\n",
       "[46830 rows x 22 columns]"
      ]
     },
     "execution_count": 48,
     "metadata": {},
     "output_type": "execute_result"
    }
   ],
   "source": [
    "# 偏差数据\n",
    "res.sort_values(by = ['Error'],ascending=False)"
   ]
  },
  {
   "cell_type": "markdown",
   "id": "844ac894",
   "metadata": {},
   "source": [
    "## 模型优化"
   ]
  },
  {
   "cell_type": "markdown",
   "id": "11b76d71",
   "metadata": {},
   "source": [
    "### 整体模型优化"
   ]
  },
  {
   "cell_type": "code",
   "execution_count": 49,
   "id": "db6b2499",
   "metadata": {
    "ExecuteTime": {
     "end_time": "2022-05-18T10:19:09.016954Z",
     "start_time": "2022-05-18T10:19:08.894879Z"
    }
   },
   "outputs": [
    {
     "name": "stdout",
     "output_type": "stream",
     "text": [
      "最佳的偏差校正权重： 8 0.005786011512281074 0.998\n"
     ]
    },
    {
     "data": {
      "image/png": "[encoded data removed]",
      "text/plain": [
       "<Figure size 648x432 with 1 Axes>"
      ]
     },
     "metadata": {
      "needs_background": "light"
     },
     "output_type": "display_data"
    }
   ],
   "source": [
    "weights = [(0.99 + (i/1000)) for i in range(40)]\n",
    "\n",
    "errors = []\n",
    "\n",
    "for w in weights:\n",
    "    # 偏差校正\n",
    "    error = rmspe(np.expm1(y_test),np.expm1(yhat * w)) # 这就是对预测值，进行权重乘法，微小改变\n",
    "    errors.append(error)\n",
    "    \n",
    "errors = pd.Series(errors,index=weights)\n",
    "\n",
    "plt.figure(figsize=(9,6))\n",
    "errors.plot()\n",
    "\n",
    "plt.xlabel('权重系数',fontsize = 18)\n",
    "plt.ylabel('均方根百分比误差',fontsize = 18)\n",
    "\n",
    "index = errors.argmin()\n",
    "print('最佳的偏差校正权重：',index,errors.iloc[7],weights[index])"
   ]
  },
  {
   "cell_type": "markdown",
   "id": "3330da89",
   "metadata": {},
   "source": [
    "### 更加细致的优化（考虑不同店铺）"
   ]
  },
  {
   "cell_type": "code",
   "execution_count": 50,
   "id": "77b347e1",
   "metadata": {
    "ExecuteTime": {
     "end_time": "2022-05-18T10:19:43.548300Z",
     "start_time": "2022-05-18T10:19:43.536800Z"
    }
   },
   "outputs": [
    {
     "data": {
      "text/plain": [
       "(46830,)"
      ]
     },
     "execution_count": 50,
     "metadata": {},
     "output_type": "execute_result"
    }
   ],
   "source": [
    "y_test.shape"
   ]
  },
  {
   "cell_type": "code",
   "execution_count": 51,
   "id": "cf11b0c7",
   "metadata": {
    "ExecuteTime": {
     "end_time": "2022-05-18T10:19:50.057321Z",
     "start_time": "2022-05-18T10:19:50.042481Z"
    }
   },
   "outputs": [
    {
     "data": {
      "text/plain": [
       "(41088, 17)"
      ]
     },
     "execution_count": 51,
     "metadata": {},
     "output_type": "execute_result"
    }
   ],
   "source": [
    "df_test.shape"
   ]
  },
  {
   "cell_type": "code",
   "execution_count": 52,
   "id": "e09db629",
   "metadata": {
    "ExecuteTime": {
     "end_time": "2022-05-18T10:21:43.192922Z",
     "start_time": "2022-05-18T10:21:32.704573Z"
    }
   },
   "outputs": [],
   "source": [
    "shops = np.arange(1,1116)\n",
    "weights1 = [] # 验证数据每个店铺的权重系数 46830\n",
    "weights2 = [] # 测试数据每个店铺的权重系数 41088，提交到Kaggle官网\n",
    "\n",
    "for shop in shops:\n",
    "    cond = res['Store'] == shop\n",
    "    df1 = pd.DataFrame(res[cond], columns=col_1) # 验证数据的预测数据和真实销量\n",
    "    \n",
    "    cond2 = df_test['Store'] == shop\n",
    "    df2 = pd.DataFrame(df_test[cond2])\n",
    "    weights = [(0.98 + (i/1000)) for i in range(40)]\n",
    "    errors = []\n",
    "    for w in weights:\n",
    "        error = rmspe(np.expm1(df1['Sales']),np.expm1(df1['Prediction'] * w))\n",
    "        errors.append(error)\n",
    "    errors = pd.Series(errors,index = weights)\n",
    "    index = errors.argmin() # 最小的索引\n",
    "    \n",
    "    best_weight = np.array(weights[index]) # 只是一个数值\n",
    "    \n",
    "    weights1.extend(best_weight.repeat(len(df1)).tolist())\n",
    "    weights2.extend(best_weight.repeat(len(df2)).tolist())\n",
    "    \n",
    "# for循环结束，每个店铺的权重，是多少，计算得到了\n",
    "# 验证数据调整校正系数的排序\n",
    "X_test = X_test.sort_values(by = 'Store') # 1,2,3,……1115\n",
    "X_test['weights1'] = weights1 # 权重和店铺，进行一一对应！\n",
    "X_test = X_test.sort_index() # 根据索引大小进行排序\n",
    "weights1 = X_test['weights1']\n",
    "X_test = X_test.drop('weights1',axis = 1)\n",
    "\n",
    "\n",
    "# 测试数据调整校正系数\n",
    "df_test = df_test.sort_values(by = 'Store') # 1,2,3,……1115\n",
    "df_test['weights2'] = weights2 # 权重和店铺，进行一一对应！\n",
    "df_test = df_test.sort_index() # 根据索引大小进行排序\n",
    "weights2 = df_test['weights2']\n",
    "df_test = df_test.drop('weights2',axis = 1)"
   ]
  },
  {
   "cell_type": "code",
   "execution_count": 53,
   "id": "5238fda0",
   "metadata": {
    "ExecuteTime": {
     "end_time": "2022-05-18T10:22:13.836489Z",
     "start_time": "2022-05-18T10:22:13.820536Z"
    }
   },
   "outputs": [
    {
     "data": {
      "text/plain": [
       "0.00043480184686555204"
      ]
     },
     "execution_count": 53,
     "metadata": {},
     "output_type": "execute_result"
    }
   ],
   "source": [
    "yhat_new = yhat * weights1 # 预测销售额，校正\n",
    "\n",
    "rmspe(np.expm1(y_test),np.expm1(yhat_new))"
   ]
  },
  {
   "cell_type": "markdown",
   "id": "fdffb15c",
   "metadata": {},
   "source": [
    "# 模型的预测"
   ]
  },
  {
   "cell_type": "code",
   "execution_count": 54,
   "id": "aa9684a0",
   "metadata": {
    "ExecuteTime": {
     "end_time": "2022-05-18T10:23:10.969951Z",
     "start_time": "2022-05-18T10:23:10.791302Z"
    }
   },
   "outputs": [],
   "source": [
    "# 使用算法，对测试数据，进行预测\n",
    "test = xgb.DMatrix(df_test)\n",
    "\n",
    "y_pred = gbm.predict(test) # 算法预测的结果，结果提交Kaggle\n",
    "# y_pred 是对数运算的结果\n",
    "# 真实数据，数据转换，幂运算"
   ]
  },
  {
   "cell_type": "code",
   "execution_count": 55,
   "id": "12117589",
   "metadata": {
    "ExecuteTime": {
     "end_time": "2022-05-18T10:24:09.378826Z",
     "start_time": "2022-05-18T10:24:09.369045Z"
    }
   },
   "outputs": [
    {
     "data": {
      "text/plain": [
       "2.3978952727983707"
      ]
     },
     "execution_count": 55,
     "metadata": {},
     "output_type": "execute_result"
    }
   ],
   "source": [
    "num = np.log1p(10)\n",
    "num"
   ]
  },
  {
   "cell_type": "code",
   "execution_count": null,
   "id": "9fbad54e",
   "metadata": {},
   "outputs": [],
   "source": [
    "# 保存数据，不经任何调整校正\n",
    "result = pd.DataFrame({'ID':np.arange(1,41089),'Sales':np.expm1(y_pred)})\n",
    "\n",
    "result.to_csv('./result_1.csv',index=False)"
   ]
  },
  {
   "cell_type": "code",
   "execution_count": null,
   "id": "36fdd56b",
   "metadata": {},
   "outputs": [],
   "source": [
    "# 对整体模型进行优化\n",
    "w = 0.997\n",
    "result = pd.DataFrame({'ID':np.arange(1,41089),'Sales':np.expm1(y_pred * w)})\n",
    "\n",
    "result.to_csv('./result_2.csv',index=False)"
   ]
  },
  {
   "cell_type": "code",
   "execution_count": null,
   "id": "80ecb11c",
   "metadata": {},
   "outputs": [],
   "source": [
    "# 进行更加细致的模型优化\n",
    "\n",
    "weights2\n",
    "\n",
    "# 每个店铺的，权重校正，都不同，细致！！！\n",
    "result = pd.DataFrame({'ID':np.arange(1,41089),'Sales':np.expm1(y_pred * weights2)})\n",
    "\n",
    "result.to_csv('./result_3.csv',index=False)"
   ]
  }
 ],
 "metadata": {
  "hide_input": false,
  "kernelspec": {
   "display_name": "Python 3 (ipykernel)",
   "language": "python",
   "name": "python3"
  },
  "language_info": {
   "codemirror_mode": {
    "name": "ipython",
    "version": 3
   },
   "file_extension": ".py",
   "mimetype": "text/x-python",
   "name": "python",
   "nbconvert_exporter": "python",
   "pygments_lexer": "ipython3",
   "version": "3.9.7"
  },
  "nbTranslate": {
   "displayLangs": [
    "*"
   ],
   "hotkey": "alt-t",
   "langInMainMenu": true,
   "sourceLang": "en",
   "targetLang": "fr",
   "useGoogleTranslate": true
  },
  "toc": {
   "base_numbering": 1,
   "nav_menu": {},
   "number_sections": true,
   "sideBar": true,
   "skip_h1_title": false,
   "title_cell": "Table of Contents",
   "title_sidebar": "Contents",
   "toc_cell": false,
   "toc_position": {},
   "toc_section_display": true,
   "toc_window_display": true
  },
  "varInspector": {
   "cols": {
    "lenName": 16,
    "lenType": 16,
    "lenVar": 40
   },
   "kernels_config": {
    "python": {
     "delete_cmd_postfix": "",
     "delete_cmd_prefix": "del ",
     "library": "var_list.py",
     "varRefreshCmd": "print(var_dic_list())"
    },
    "r": {
     "delete_cmd_postfix": ") ",
     "delete_cmd_prefix": "rm(",
     "library": "var_list.r",
     "varRefreshCmd": "cat(var_dic_list()) "
    }
   },
   "position": {
    "height": "387px",
    "left": "1358px",
    "right": "20px",
    "top": "120px",
    "width": "350px"
   },
   "types_to_exclude": [
    "module",
    "function",
    "builtin_function_or_method",
    "instance",
    "_Feature"
   ],
   "window_display": true
  }
 },
 "nbformat": 4,
 "nbformat_minor": 5
}
