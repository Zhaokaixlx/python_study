{
 "cells": [
  {
   "cell_type": "markdown",
   "id": "6ddf1d51",
   "metadata": {},
   "source": [
    "### 1 线性回归举例"
   ]
  },
  {
   "cell_type": "code",
   "execution_count": 1,
   "id": "85380cf9",
   "metadata": {
    "ExecuteTime": {
     "end_time": "2022-04-13T11:55:31.305931Z",
     "start_time": "2022-04-13T11:55:31.081830Z"
    }
   },
   "outputs": [],
   "source": [
    "import numpy as np\n",
    "import matplotlib.pyplot as plt\n"
   ]
  },
  {
   "cell_type": "code",
   "execution_count": 7,
   "id": "934b1fad",
   "metadata": {
    "ExecuteTime": {
     "end_time": "2022-04-13T12:00:59.963485Z",
     "start_time": "2022-04-13T12:00:59.860590Z"
    }
   },
   "outputs": [
    {
     "data": {
      "text/plain": [
       "[<matplotlib.lines.Line2D at 0x7f9ae080f2b0>]"
      ]
     },
     "execution_count": 7,
     "metadata": {},
     "output_type": "execute_result"
    },
    {
     "data": {
      "image/png": "[encoded data removed]",
      "text/plain": [
       "<Figure size 432x288 with 1 Axes>"
      ]
     },
     "metadata": {
      "needs_background": "light"
     },
     "output_type": "display_data"
    }
   ],
   "source": [
    "x = np.linspace(0,10,50)\n",
    "y = x*2 + 10\n",
    "plt.plot(x,y,color = \"red\")"
   ]
  },
  {
   "cell_type": "code",
   "execution_count": 6,
   "id": "a9f2b1c4",
   "metadata": {
    "ExecuteTime": {
     "end_time": "2022-04-13T12:00:44.454724Z",
     "start_time": "2022-04-13T12:00:44.364576Z"
    }
   },
   "outputs": [
    {
     "data": {
      "text/plain": [
       "[<matplotlib.lines.Line2D at 0x7f9a90144f40>]"
      ]
     },
     "execution_count": 6,
     "metadata": {},
     "output_type": "execute_result"
    },
    {
     "data": {
      "image/png": "[encoded data removed]",
      "text/plain": [
       "<Figure size 432x288 with 1 Axes>"
      ]
     },
     "metadata": {
      "needs_background": "light"
     },
     "output_type": "display_data"
    }
   ],
   "source": [
    "x = np.linspace(0,10,50)\n",
    "y = x**2 + 10\n",
    "plt.plot(x,y,color = \"blue\")"
   ]
  },
  {
   "cell_type": "markdown",
   "id": "703a6682",
   "metadata": {
    "heading_collapsed": true
   },
   "source": [
    "### 2  正规方程"
   ]
  },
  {
   "cell_type": "markdown",
   "id": "c186a24d",
   "metadata": {},
   "source": [
    "##2.1  二元一次方程"
   ]
  },
  {
   "cell_type": "code",
   "execution_count": 8,
   "id": "f7f37b04",
   "metadata": {
    "ExecuteTime": {
     "end_time": "2022-04-13T12:03:26.805230Z",
     "start_time": "2022-04-13T12:03:26.790009Z"
    }
   },
   "outputs": [
    {
     "data": {
      "text/plain": [
       "array([[ 1,  1],\n",
       "       [ 2, -1]])"
      ]
     },
     "execution_count": 8,
     "metadata": {},
     "output_type": "execute_result"
    }
   ],
   "source": [
    "X = np.array([[1,1],[2,-1]])\n",
    "X"
   ]
  },
  {
   "cell_type": "code",
   "execution_count": 9,
   "id": "56cfc746",
   "metadata": {
    "ExecuteTime": {
     "end_time": "2022-04-13T12:04:03.567259Z",
     "start_time": "2022-04-13T12:04:03.554162Z"
    }
   },
   "outputs": [
    {
     "data": {
      "text/plain": [
       "array([14, 10])"
      ]
     },
     "execution_count": 9,
     "metadata": {},
     "output_type": "execute_result"
    }
   ],
   "source": [
    "y = np.array([14,10])\n",
    "y"
   ]
  },
  {
   "cell_type": "code",
   "execution_count": 10,
   "id": "ecadbd06",
   "metadata": {
    "ExecuteTime": {
     "end_time": "2022-04-13T12:04:50.818573Z",
     "start_time": "2022-04-13T12:04:50.805443Z"
    }
   },
   "outputs": [
    {
     "data": {
      "text/plain": [
       "array([8., 6.])"
      ]
     },
     "execution_count": 10,
     "metadata": {},
     "output_type": "execute_result"
    }
   ],
   "source": [
    "# linalg 线性代数，slove计算线性回归问题\n",
    "np.linalg.solve(X,y)"
   ]
  },
  {
   "cell_type": "markdown",
   "id": "18800a04",
   "metadata": {},
   "source": [
    "𝑓(𝑥,𝑦)=8𝑥+6𝑦\n",
    "\n"
   ]
  },
  {
   "cell_type": "markdown",
   "id": "e9d481b5",
   "metadata": {},
   "source": [
    "𝑊=(𝑋𝑇𝑋)−1𝑋𝑇𝑦\n"
   ]
  },
  {
   "cell_type": "code",
   "execution_count": 11,
   "id": "4cf96a46",
   "metadata": {
    "ExecuteTime": {
     "end_time": "2022-04-13T12:07:19.237677Z",
     "start_time": "2022-04-13T12:07:19.225498Z"
    }
   },
   "outputs": [],
   "source": [
    "A = X.T.dot(X)"
   ]
  },
  {
   "cell_type": "code",
   "execution_count": 12,
   "id": "cb6df0ba",
   "metadata": {
    "ExecuteTime": {
     "end_time": "2022-04-13T12:07:37.371838Z",
     "start_time": "2022-04-13T12:07:37.358622Z"
    }
   },
   "outputs": [
    {
     "data": {
      "text/plain": [
       "array([[0.22222222, 0.11111111],\n",
       "       [0.11111111, 0.55555556]])"
      ]
     },
     "execution_count": 12,
     "metadata": {},
     "output_type": "execute_result"
    }
   ],
   "source": [
    "# 逆矩阵\n",
    "B = np.linalg.inv(A)\n",
    "B"
   ]
  },
  {
   "cell_type": "code",
   "execution_count": 13,
   "id": "9ecc07e7",
   "metadata": {
    "ExecuteTime": {
     "end_time": "2022-04-13T12:08:03.412746Z",
     "start_time": "2022-04-13T12:08:03.405240Z"
    }
   },
   "outputs": [
    {
     "data": {
      "text/plain": [
       "array([[ 0.33333333,  0.33333333],\n",
       "       [ 0.66666667, -0.33333333]])"
      ]
     },
     "execution_count": 13,
     "metadata": {},
     "output_type": "execute_result"
    }
   ],
   "source": [
    "C = B.dot(X.T)\n",
    "C"
   ]
  },
  {
   "cell_type": "code",
   "execution_count": 14,
   "id": "8bab5653",
   "metadata": {
    "ExecuteTime": {
     "end_time": "2022-04-13T12:08:17.091396Z",
     "start_time": "2022-04-13T12:08:17.073677Z"
    }
   },
   "outputs": [
    {
     "data": {
      "text/plain": [
       "array([8., 6.])"
      ]
     },
     "execution_count": 14,
     "metadata": {},
     "output_type": "execute_result"
    }
   ],
   "source": [
    "C.dot(y)"
   ]
  },
  {
   "cell_type": "markdown",
   "id": "ed0c64f0",
   "metadata": {},
   "source": [
    "##2.2  三元一次方程"
   ]
  },
  {
   "cell_type": "code",
   "execution_count": 15,
   "id": "5c75c667",
   "metadata": {
    "ExecuteTime": {
     "end_time": "2022-04-13T12:09:42.368008Z",
     "start_time": "2022-04-13T12:09:42.355983Z"
    }
   },
   "outputs": [],
   "source": [
    "X = np.array([[1,-1,1],[2,1,-1],[3,-2,6]])\n",
    "y = np.array([100,80,256])"
   ]
  },
  {
   "cell_type": "code",
   "execution_count": 16,
   "id": "993babd1",
   "metadata": {
    "ExecuteTime": {
     "end_time": "2022-04-13T12:10:16.402970Z",
     "start_time": "2022-04-13T12:10:16.388399Z"
    }
   },
   "outputs": [
    {
     "data": {
      "text/plain": [
       "array([ 60., -41.,  -1.])"
      ]
     },
     "execution_count": 16,
     "metadata": {},
     "output_type": "execute_result"
    }
   ],
   "source": [
    "w = np.linalg.inv(X.T.dot(X)).dot(X.T).dot(y)\n",
    "w"
   ]
  },
  {
   "cell_type": "markdown",
   "id": "63476ef2",
   "metadata": {},
   "source": [
    "##2.3  八元一次方程"
   ]
  },
  {
   "cell_type": "code",
   "execution_count": 3,
   "id": "394f36b1",
   "metadata": {
    "ExecuteTime": {
     "end_time": "2022-04-14T07:05:33.923071Z",
     "start_time": "2022-04-14T07:05:33.899599Z"
    }
   },
   "outputs": [
    {
     "data": {
      "text/plain": [
       "array([[  0,  14,   8,   0,   5,  -2,   9,  -3],\n",
       "       [ -4,  10,   6,   4, -14,  -2, -14,   8],\n",
       "       [ -1,  -6,   5, -12,   3,  -3,   2,  -2],\n",
       "       [  5,  -2,   3,  10,   5,  11,   4,  -8],\n",
       "       [-15, -15,  -8, -15,   7,  -4, -12,   2],\n",
       "       [ 11, -10,  -2,   4,   3,  -9,  -6,   7],\n",
       "       [-14,   0,   4,  -3,   5,  10,  13,   7],\n",
       "       [ -3,  -7,  -2,  -8,   0,  -6,  -5,  -9]])"
      ]
     },
     "metadata": {},
     "output_type": "display_data"
    },
    {
     "data": {
      "text/plain": [
       "array([ 339, -114,   30,  126, -395,  -87,  422, -309])"
      ]
     },
     "metadata": {},
     "output_type": "display_data"
    }
   ],
   "source": [
    "# 上面八元一次方程对应的X数据\n",
    "X = np.array([[  0 ,14 , 8 ,  0 ,  5,  -2,   9,  -3],\n",
    " [ -4 , 10 ,  6 ,  4 ,-14 , -2 ,-14  , 8],\n",
    " [ -1 , -6  , 5 ,-12 ,  3 , -3 ,  2 , -2],\n",
    " [  5 , -2  , 3 , 10  , 5 , 11 ,  4  ,-8],\n",
    " [-15 ,-15  ,-8 ,-15 ,  7 , -4, -12 ,  2],\n",
    " [ 11 ,-10 , -2 ,  4  , 3 , -9 , -6 ,  7],\n",
    " [-14 ,  0 ,  4 , -3  , 5 , 10 , 13 ,  7],\n",
    " [ -3 , -7 , -2 , -8  , 0 , -6 , -5 , -9]])\n",
    "# 对应的y\n",
    "y = np.array([ 339 ,-114  , 30 , 126, -395 , -87 , 422, -309])\n",
    "display(X,y)"
   ]
  },
  {
   "cell_type": "code",
   "execution_count": 18,
   "id": "d35fb6d4",
   "metadata": {
    "ExecuteTime": {
     "end_time": "2022-04-13T12:12:27.383579Z",
     "start_time": "2022-04-13T12:12:27.369757Z"
    }
   },
   "outputs": [
    {
     "data": {
      "text/plain": [
       "array([ 1.,  5., 15.,  3.,  8.,  4., 17., 12.])"
      ]
     },
     "execution_count": 18,
     "metadata": {},
     "output_type": "execute_result"
    }
   ],
   "source": [
    "# 正规方程\n",
    "w = np.linalg.inv(X.T.dot(X)).dot(X.T).dot(y)\n",
    "w"
   ]
  },
  {
   "cell_type": "code",
   "execution_count": 1,
   "id": "7ee1a7aa",
   "metadata": {
    "ExecuteTime": {
     "end_time": "2022-04-14T06:54:51.858794Z",
     "start_time": "2022-04-14T06:54:51.848898Z"
    }
   },
   "outputs": [],
   "source": [
    "# linear线性，model模型、算法\n",
    "# LinearRegression：线性回归\n",
    "# 站在巨人的肩膀上\n",
    "from sklearn.linear_model import LinearRegression"
   ]
  },
  {
   "cell_type": "code",
   "execution_count": 5,
   "id": "b5573b84",
   "metadata": {
    "ExecuteTime": {
     "end_time": "2022-04-14T07:06:37.477070Z",
     "start_time": "2022-04-14T07:06:37.458538Z"
    }
   },
   "outputs": [
    {
     "data": {
      "text/plain": [
       "array([[  0,  14,   8,   0,   5,  -2,   9,  -3],\n",
       "       [ -4,  10,   6,   4, -14,  -2, -14,   8],\n",
       "       [ -1,  -6,   5, -12,   3,  -3,   2,  -2],\n",
       "       [  5,  -2,   3,  10,   5,  11,   4,  -8],\n",
       "       [-15, -15,  -8, -15,   7,  -4, -12,   2],\n",
       "       [ 11, -10,  -2,   4,   3,  -9,  -6,   7],\n",
       "       [-14,   0,   4,  -3,   5,  10,  13,   7],\n",
       "       [ -3,  -7,  -2,  -8,   0,  -6,  -5,  -9]])"
      ]
     },
     "metadata": {},
     "output_type": "display_data"
    },
    {
     "data": {
      "text/plain": [
       "array([ 339, -114,   30,  126, -395,  -87,  422, -309])"
      ]
     },
     "metadata": {},
     "output_type": "display_data"
    },
    {
     "name": "stdout",
     "output_type": "stream",
     "text": [
      "LinearRegression(fit_intercept=False)\n",
      "[ 1.  5. 15.  3.  8.  4. 17. 12.]\n"
     ]
    }
   ],
   "source": [
    "# fit_intercept = False 不计算截距！！！\n",
    "model = LinearRegression(fit_intercept = False)\n",
    "# X 数据；y 目标值\n",
    "# X ---> y\n",
    "display(X,y)\n",
    "print(model.fit(X,y))\n",
    "# coef_ 结果，返回值\n",
    "# 系数，斜率，W，方程的解\n",
    "print(model.coef_)"
   ]
  },
  {
   "cell_type": "code",
   "execution_count": 6,
   "id": "e8f559fd",
   "metadata": {
    "ExecuteTime": {
     "end_time": "2022-04-14T07:07:33.037697Z",
     "start_time": "2022-04-14T07:07:33.025730Z"
    }
   },
   "outputs": [
    {
     "data": {
      "text/plain": [
       "0.0"
      ]
     },
     "execution_count": 6,
     "metadata": {},
     "output_type": "execute_result"
    }
   ],
   "source": [
    "# 默认计算截距\n",
    "model.intercept_"
   ]
  },
  {
   "cell_type": "markdown",
   "id": "9dbb00d1",
   "metadata": {},
   "source": [
    "### 带截距的线性方程"
   ]
  },
  {
   "cell_type": "markdown",
   "id": "6ad3d195",
   "metadata": {},
   "source": [
    "#### 4.1  增加了截距12"
   ]
  },
  {
   "cell_type": "code",
   "execution_count": null,
   "id": "1897be6a",
   "metadata": {},
   "outputs": [],
   "source": [
    "# array([ 1.,  5., 15.,  3.,  8.,  4., 17., 12.])"
   ]
  },
  {
   "cell_type": "markdown",
   "id": "8517ae1f",
   "metadata": {},
   "source": [
    "$ 𝑓(𝑋)=𝑥_1+5𝑥_2+15𝑥_3+3𝑥_4+8𝑥_5+4𝑥_6+17𝑥_7+12𝑥_8+12 $"
   ]
  },
  {
   "cell_type": "code",
   "execution_count": 7,
   "id": "adf358b3",
   "metadata": {
    "ExecuteTime": {
     "end_time": "2022-04-14T07:26:59.561510Z",
     "start_time": "2022-04-14T07:26:59.551828Z"
    }
   },
   "outputs": [
    {
     "data": {
      "text/plain": [
       "array([ 351, -102,   42,  138, -383,  -75,  434, -297])"
      ]
     },
     "execution_count": 7,
     "metadata": {},
     "output_type": "execute_result"
    }
   ],
   "source": [
    "y = y + 12\n",
    "y"
   ]
  },
  {
   "cell_type": "code",
   "execution_count": 8,
   "id": "a88d2ef4",
   "metadata": {
    "ExecuteTime": {
     "end_time": "2022-04-14T07:27:32.035458Z",
     "start_time": "2022-04-14T07:27:32.020892Z"
    }
   },
   "outputs": [
    {
     "data": {
      "text/plain": [
       "LinearRegression()"
      ]
     },
     "execution_count": 8,
     "metadata": {},
     "output_type": "execute_result"
    }
   ],
   "source": [
    "# 指定了fit_intercept = True 没有使用正规方程\n",
    "model = LinearRegression(fit_intercept = True)\n",
    "# fit健身，训练，特指算法、模型训练，拟合\n",
    "# 数据X和y之间存在规律，拟合出来，找到\n",
    "model.fit(X,y)"
   ]
  },
  {
   "cell_type": "code",
   "execution_count": 9,
   "id": "5c61e590",
   "metadata": {
    "ExecuteTime": {
     "end_time": "2022-04-14T07:29:43.183513Z",
     "start_time": "2022-04-14T07:29:43.171703Z"
    }
   },
   "outputs": [
    {
     "data": {
      "text/plain": [
       "26.92820500839804"
      ]
     },
     "execution_count": 9,
     "metadata": {},
     "output_type": "execute_result"
    }
   ],
   "source": [
    "b_ = model.intercept_\n",
    "b_"
   ]
  },
  {
   "cell_type": "code",
   "execution_count": 10,
   "id": "01f8a3c3",
   "metadata": {
    "ExecuteTime": {
     "end_time": "2022-04-14T07:30:09.961380Z",
     "start_time": "2022-04-14T07:30:09.949532Z"
    }
   },
   "outputs": [
    {
     "data": {
      "text/plain": [
       "array([ 3.45714358,  6.90856568, 10.8264159 ,  0.44734523,  6.86091921,\n",
       "        6.24871714, 17.47728367, 12.78738885])"
      ]
     },
     "execution_count": 10,
     "metadata": {},
     "output_type": "execute_result"
    }
   ],
   "source": [
    "w_ = model.coef_\n",
    "w_"
   ]
  },
  {
   "cell_type": "code",
   "execution_count": 11,
   "id": "b7e4486b",
   "metadata": {
    "ExecuteTime": {
     "end_time": "2022-04-14T07:30:40.373957Z",
     "start_time": "2022-04-14T07:30:40.360278Z"
    }
   },
   "outputs": [
    {
     "data": {
      "text/plain": [
       "array([ 351., -102.,   42.,  138., -383.,  -75.,  434., -297.])"
      ]
     },
     "execution_count": 11,
     "metadata": {},
     "output_type": "execute_result"
    }
   ],
   "source": [
    "X.dot(w_) + b_"
   ]
  },
  {
   "cell_type": "markdown",
   "id": "fe4ac1b6",
   "metadata": {},
   "source": [
    "#### 修改数据X"
   ]
  },
  {
   "cell_type": "code",
   "execution_count": 12,
   "id": "9d42c196",
   "metadata": {
    "ExecuteTime": {
     "end_time": "2022-04-14T07:32:25.431027Z",
     "start_time": "2022-04-14T07:32:25.416318Z"
    }
   },
   "outputs": [
    {
     "data": {
      "text/plain": [
       "array([[  0,  14,   8,   0,   5,  -2,   9,  -3,   1],\n",
       "       [ -4,  10,   6,   4, -14,  -2, -14,   8,   1],\n",
       "       [ -1,  -6,   5, -12,   3,  -3,   2,  -2,   1],\n",
       "       [  5,  -2,   3,  10,   5,  11,   4,  -8,   1],\n",
       "       [-15, -15,  -8, -15,   7,  -4, -12,   2,   1],\n",
       "       [ 11, -10,  -2,   4,   3,  -9,  -6,   7,   1],\n",
       "       [-14,   0,   4,  -3,   5,  10,  13,   7,   1],\n",
       "       [ -3,  -7,  -2,  -8,   0,  -6,  -5,  -9,   1]])"
      ]
     },
     "metadata": {},
     "output_type": "display_data"
    },
    {
     "data": {
      "text/plain": [
       "array([ 351, -102,   42,  138, -383,  -75,  434, -297])"
      ]
     },
     "metadata": {},
     "output_type": "display_data"
    }
   ],
   "source": [
    "X = np.concatenate([X,np.full(shape =(8,1),fill_value=1)],axis = 1)\n",
    "display(X,y)"
   ]
  },
  {
   "cell_type": "code",
   "execution_count": 13,
   "id": "c2b91742",
   "metadata": {
    "ExecuteTime": {
     "end_time": "2022-04-14T07:32:49.011588Z",
     "start_time": "2022-04-14T07:32:48.995560Z"
    }
   },
   "outputs": [
    {
     "data": {
      "text/plain": [
       "array([-0.28902686,  3.99875919, 17.18947808,  4.3391324 ,  8.59756611,\n",
       "        2.82031444, 16.74961517, 11.58693282,  4.16860692])"
      ]
     },
     "metadata": {},
     "output_type": "display_data"
    },
    {
     "data": {
      "text/plain": [
       "0.0"
      ]
     },
     "metadata": {},
     "output_type": "display_data"
    }
   ],
   "source": [
    "model = LinearRegression(fit_intercept=False)\n",
    "model.fit(X,y)\n",
    "display(model.coef_,model.intercept_)"
   ]
  },
  {
   "cell_type": "code",
   "execution_count": 14,
   "id": "dc9561cc",
   "metadata": {
    "ExecuteTime": {
     "end_time": "2022-04-14T07:33:51.863336Z",
     "start_time": "2022-04-14T07:33:51.843941Z"
    }
   },
   "outputs": [
    {
     "data": {
      "text/plain": [
       "array([  8.7578125 ,   6.72265625,  25.25      , -24.66015625,\n",
       "        20.97460938,  50.53125   ,   2.09277344,  17.50976562,\n",
       "       -14.46875   ])"
      ]
     },
     "execution_count": 14,
     "metadata": {},
     "output_type": "execute_result"
    }
   ],
   "source": [
    "np.linalg.inv(X.T.dot(X)).dot(X.T).dot(y)"
   ]
  },
  {
   "cell_type": "markdown",
   "id": "41625a7a",
   "metadata": {},
   "source": [
    "### 线性回归作业"
   ]
  },
  {
   "cell_type": "code",
   "execution_count": 15,
   "id": "5baa7e4c",
   "metadata": {
    "ExecuteTime": {
     "end_time": "2022-04-14T07:51:58.109313Z",
     "start_time": "2022-04-14T07:51:57.976171Z"
    }
   },
   "outputs": [],
   "source": [
    "import numpy as np\n",
    "import matplotlib.pyplot as plt\n",
    "from sklearn.linear_model import LinearRegression\n"
   ]
  },
  {
   "cell_type": "markdown",
   "id": "cda80408",
   "metadata": {},
   "source": [
    "####声明数据"
   ]
  },
  {
   "cell_type": "code",
   "execution_count": 16,
   "id": "7ff9f508",
   "metadata": {
    "ExecuteTime": {
     "end_time": "2022-04-14T07:53:14.124401Z",
     "start_time": "2022-04-14T07:53:14.106085Z"
    }
   },
   "outputs": [
    {
     "data": {
      "text/plain": [
       "array([[   0],\n",
       "       [ 500],\n",
       "       [1000],\n",
       "       [1500],\n",
       "       [2000],\n",
       "       [2500],\n",
       "       [3000],\n",
       "       [3500],\n",
       "       [4000]])"
      ]
     },
     "metadata": {},
     "output_type": "display_data"
    },
    {
     "data": {
      "text/plain": [
       "array([ 12.834044,  10.190649,   5.500229,   2.854665,  -0.706488,\n",
       "        -4.065323,  -7.12748 , -10.058879, -13.206465])"
      ]
     },
     "metadata": {},
     "output_type": "display_data"
    }
   ],
   "source": [
    "X = np.arange(0,4001,500,)\n",
    "# X必须是二维数组，reshape\n",
    "X = X.reshape(-1,1)\n",
    "\n",
    "# 温度\n",
    "y = np.array([12.834044,10.190649,5.500229,2.854665,-0.706488,-4.065323,-7.127480,-10.058879,-13.206465])\n",
    "display(X,y)"
   ]
  },
  {
   "cell_type": "markdown",
   "id": "7f33ea58",
   "metadata": {},
   "source": [
    "####线性模型"
   ]
  },
  {
   "cell_type": "code",
   "execution_count": 19,
   "id": "b657f230",
   "metadata": {
    "ExecuteTime": {
     "end_time": "2022-04-14T07:58:16.962393Z",
     "start_time": "2022-04-14T07:58:16.949215Z"
    }
   },
   "outputs": [
    {
     "name": "stdout",
     "output_type": "stream",
     "text": [
      "[-0.00656953] 12.718507511111111\n"
     ]
    }
   ],
   "source": [
    "model = LinearRegression()\n",
    "model.fit(X,y)\n",
    "print(model.coef_,model.intercept_)"
   ]
  },
  {
   "cell_type": "code",
   "execution_count": 20,
   "id": "04310633",
   "metadata": {
    "ExecuteTime": {
     "end_time": "2022-04-14T07:58:37.190338Z",
     "start_time": "2022-04-14T07:58:37.173811Z"
    }
   },
   "outputs": [
    {
     "name": "stdout",
     "output_type": "stream",
     "text": [
      "[-0.00208065] 0.0\n"
     ]
    }
   ],
   "source": [
    "# fit_intercept=True，拟合，训练，计算截距\n",
    "model = LinearRegression(fit_intercept=False)\n",
    "model.fit(X,y)\n",
    "print(model.coef_,model.intercept_)"
   ]
  },
  {
   "cell_type": "markdown",
   "id": "b7f8a78b",
   "metadata": {},
   "source": [
    "####正规方程"
   ]
  },
  {
   "cell_type": "code",
   "execution_count": 21,
   "id": "ba27c4eb",
   "metadata": {
    "ExecuteTime": {
     "end_time": "2022-04-14T07:59:50.862389Z",
     "start_time": "2022-04-14T07:59:50.847977Z"
    }
   },
   "outputs": [
    {
     "data": {
      "text/plain": [
       "array([-0.00208065])"
      ]
     },
     "execution_count": 21,
     "metadata": {},
     "output_type": "execute_result"
    }
   ],
   "source": [
    "np.set_printoptions(suppress=True) # 取消科学记数法\n",
    "np.linalg.inv(X.T.dot(X)).dot(X.T).dot(y)"
   ]
  },
  {
   "cell_type": "code",
   "execution_count": 22,
   "id": "a9f946c0",
   "metadata": {
    "ExecuteTime": {
     "end_time": "2022-04-14T08:01:13.046203Z",
     "start_time": "2022-04-14T08:01:13.034219Z"
    }
   },
   "outputs": [
    {
     "data": {
      "text/plain": [
       "(9, 1)"
      ]
     },
     "execution_count": 22,
     "metadata": {},
     "output_type": "execute_result"
    }
   ],
   "source": [
    "# X数据进行扩充，增加一列（表示截距）\n",
    "X.shape"
   ]
  },
  {
   "cell_type": "code",
   "execution_count": 24,
   "id": "0d219d14",
   "metadata": {
    "ExecuteTime": {
     "end_time": "2022-04-14T08:04:18.653730Z",
     "start_time": "2022-04-14T08:04:18.639320Z"
    }
   },
   "outputs": [
    {
     "data": {
      "text/plain": [
       "array([[   0,    1],\n",
       "       [ 500,    1],\n",
       "       [1000,    1],\n",
       "       [1500,    1],\n",
       "       [2000,    1],\n",
       "       [2500,    1],\n",
       "       [3000,    1],\n",
       "       [3500,    1],\n",
       "       [4000,    1]])"
      ]
     },
     "execution_count": 24,
     "metadata": {},
     "output_type": "execute_result"
    }
   ],
   "source": [
    "X = np.concatenate([X,np.full(shape=(9,1),fill_value=1)],axis=1)\n",
    "X"
   ]
  },
  {
   "cell_type": "code",
   "execution_count": 25,
   "id": "5271349b",
   "metadata": {
    "ExecuteTime": {
     "end_time": "2022-04-14T08:04:46.946894Z",
     "start_time": "2022-04-14T08:04:46.934260Z"
    }
   },
   "outputs": [
    {
     "data": {
      "text/plain": [
       "array([-0.00656953, 12.71850751])"
      ]
     },
     "execution_count": 25,
     "metadata": {},
     "output_type": "execute_result"
    }
   ],
   "source": [
    "np.set_printoptions(suppress=True)\n",
    "\n",
    "np.linalg.inv(X.T.dot(X)).dot(X.T).dot(y)"
   ]
  },
  {
   "cell_type": "markdown",
   "id": "60a43975",
   "metadata": {},
   "source": [
    "#### 计算不同海拔的温度，对应的函数"
   ]
  },
  {
   "cell_type": "code",
   "execution_count": 26,
   "id": "05b99f41",
   "metadata": {
    "ExecuteTime": {
     "end_time": "2022-04-14T08:06:29.280208Z",
     "start_time": "2022-04-14T08:06:29.268185Z"
    }
   },
   "outputs": [],
   "source": [
    "def fun(high):\n",
    "    return high*-0.00656953 + 12.71850751\n"
   ]
  },
  {
   "cell_type": "code",
   "execution_count": 27,
   "id": "5090bf4c",
   "metadata": {
    "ExecuteTime": {
     "end_time": "2022-04-14T08:07:00.661636Z",
     "start_time": "2022-04-14T08:07:00.648951Z"
    }
   },
   "outputs": [
    {
     "data": {
      "text/plain": [
       "-26.698672489999993"
      ]
     },
     "execution_count": 27,
     "metadata": {},
     "output_type": "execute_result"
    }
   ],
   "source": [
    "fun(6000)"
   ]
  },
  {
   "cell_type": "code",
   "execution_count": 28,
   "id": "fd4eec1a",
   "metadata": {
    "ExecuteTime": {
     "end_time": "2022-04-14T08:07:18.690675Z",
     "start_time": "2022-04-14T08:07:18.679784Z"
    }
   },
   "outputs": [
    {
     "data": {
      "text/plain": [
       "array([ 12.834044,  10.190649,   5.500229,   2.854665,  -0.706488,\n",
       "        -4.065323,  -7.12748 , -10.058879, -13.206465])"
      ]
     },
     "execution_count": 28,
     "metadata": {},
     "output_type": "execute_result"
    }
   ],
   "source": [
    "y"
   ]
  },
  {
   "cell_type": "markdown",
   "id": "7d0128f7",
   "metadata": {},
   "source": [
    "##### 画个散点图"
   ]
  },
  {
   "cell_type": "code",
   "execution_count": 30,
   "id": "1a8c331e",
   "metadata": {
    "ExecuteTime": {
     "end_time": "2022-04-14T08:13:35.290363Z",
     "start_time": "2022-04-14T08:13:35.196344Z"
    }
   },
   "outputs": [
    {
     "data": {
      "text/plain": [
       "[<matplotlib.lines.Line2D at 0x7f8a4a12b760>]"
      ]
     },
     "execution_count": 30,
     "metadata": {},
     "output_type": "execute_result"
    },
    {
     "data": {
      "image/png": "[encoded data removed]",
      "text/plain": [
       "<Figure size 432x288 with 1 Axes>"
      ]
     },
     "metadata": {
      "needs_background": "light"
     },
     "output_type": "display_data"
    }
   ],
   "source": [
    "plt.scatter(X[:,0],y)\n",
    "\n",
    "\n",
    "\n",
    "# 画个拟合线\n",
    "x = np.linspace(0,4001,100)\n",
    "y = fun(x)\n",
    "plt.plot(x,y,color=\"m\")"
   ]
  }
 ],
 "metadata": {
  "hide_input": false,
  "kernelspec": {
   "display_name": "Python 3 (ipykernel)",
   "language": "python",
   "name": "python3"
  },
  "language_info": {
   "codemirror_mode": {
    "name": "ipython",
    "version": 3
   },
   "file_extension": ".py",
   "mimetype": "text/x-python",
   "name": "python",
   "nbconvert_exporter": "python",
   "pygments_lexer": "ipython3",
   "version": "3.9.7"
  },
  "nbTranslate": {
   "displayLangs": [
    "*"
   ],
   "hotkey": "alt-t",
   "langInMainMenu": true,
   "sourceLang": "en",
   "targetLang": "fr",
   "useGoogleTranslate": true
  },
  "toc": {
   "base_numbering": 1,
   "nav_menu": {},
   "number_sections": true,
   "sideBar": true,
   "skip_h1_title": false,
   "title_cell": "Table of Contents",
   "title_sidebar": "Contents",
   "toc_cell": false,
   "toc_position": {},
   "toc_section_display": true,
   "toc_window_display": true
  },
  "varInspector": {
   "cols": {
    "lenName": 16,
    "lenType": 16,
    "lenVar": 40
   },
   "kernels_config": {
    "python": {
     "delete_cmd_postfix": "",
     "delete_cmd_prefix": "del ",
     "library": "var_list.py",
     "varRefreshCmd": "print(var_dic_list())"
    },
    "r": {
     "delete_cmd_postfix": ") ",
     "delete_cmd_prefix": "rm(",
     "library": "var_list.r",
     "varRefreshCmd": "cat(var_dic_list()) "
    }
   },
   "types_to_exclude": [
    "module",
    "function",
    "builtin_function_or_method",
    "instance",
    "_Feature"
   ],
   "window_display": false
  }
 },
 "nbformat": 4,
 "nbformat_minor": 5
}
