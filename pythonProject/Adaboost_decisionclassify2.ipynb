{
 "cells": [
  {
   "cell_type": "code",
   "execution_count": 1,
   "id": "89c9b420",
   "metadata": {
    "ExecuteTime": {
     "end_time": "2022-05-04T11:01:52.002405Z",
     "start_time": "2022-05-04T11:01:51.128157Z"
    }
   },
   "outputs": [],
   "source": [
    "import numpy as np\n",
    "import matplotlib.pyplot as plt"
   ]
  },
  {
   "cell_type": "code",
   "execution_count": 2,
   "id": "2cfa748d",
   "metadata": {
    "ExecuteTime": {
     "end_time": "2022-05-04T11:01:52.008009Z",
     "start_time": "2022-05-04T11:01:52.003417Z"
    }
   },
   "outputs": [
    {
     "data": {
      "text/plain": [
       "array([ 1., nan,  3.])"
      ]
     },
     "metadata": {},
     "output_type": "display_data"
    },
    {
     "data": {
      "text/plain": [
       "array([False,  True, False])"
      ]
     },
     "execution_count": 2,
     "metadata": {},
     "output_type": "execute_result"
    }
   ],
   "source": [
    "A = np.array([1,np.nan,3])\n",
    "display(A)\n",
    "np.isnan(A)"
   ]
  },
  {
   "cell_type": "code",
   "execution_count": 3,
   "id": "0ae8e9b5",
   "metadata": {
    "ExecuteTime": {
     "end_time": "2022-05-04T11:01:52.280403Z",
     "start_time": "2022-05-04T11:01:52.008908Z"
    }
   },
   "outputs": [
    {
     "data": {
      "text/html": [
       "<div>\n",
       "<style scoped>\n",
       "    .dataframe tbody tr th:only-of-type {\n",
       "        vertical-align: middle;\n",
       "    }\n",
       "\n",
       "    .dataframe tbody tr th {\n",
       "        vertical-align: top;\n",
       "    }\n",
       "\n",
       "    .dataframe thead th {\n",
       "        text-align: right;\n",
       "    }\n",
       "</style>\n",
       "<table border=\"1\" class=\"dataframe\">\n",
       "  <thead>\n",
       "    <tr style=\"text-align: right;\">\n",
       "      <th></th>\n",
       "      <th>0</th>\n",
       "    </tr>\n",
       "  </thead>\n",
       "  <tbody>\n",
       "    <tr>\n",
       "      <th>0</th>\n",
       "      <td>1.0</td>\n",
       "    </tr>\n",
       "    <tr>\n",
       "      <th>1</th>\n",
       "      <td>NaN</td>\n",
       "    </tr>\n",
       "    <tr>\n",
       "      <th>2</th>\n",
       "      <td>3.0</td>\n",
       "    </tr>\n",
       "  </tbody>\n",
       "</table>\n",
       "</div>"
      ],
      "text/plain": [
       "     0\n",
       "0  1.0\n",
       "1  NaN\n",
       "2  3.0"
      ]
     },
     "metadata": {},
     "output_type": "display_data"
    },
    {
     "data": {
      "text/html": [
       "<div>\n",
       "<style scoped>\n",
       "    .dataframe tbody tr th:only-of-type {\n",
       "        vertical-align: middle;\n",
       "    }\n",
       "\n",
       "    .dataframe tbody tr th {\n",
       "        vertical-align: top;\n",
       "    }\n",
       "\n",
       "    .dataframe thead th {\n",
       "        text-align: right;\n",
       "    }\n",
       "</style>\n",
       "<table border=\"1\" class=\"dataframe\">\n",
       "  <thead>\n",
       "    <tr style=\"text-align: right;\">\n",
       "      <th></th>\n",
       "      <th>0</th>\n",
       "    </tr>\n",
       "  </thead>\n",
       "  <tbody>\n",
       "    <tr>\n",
       "      <th>0</th>\n",
       "      <td>False</td>\n",
       "    </tr>\n",
       "    <tr>\n",
       "      <th>1</th>\n",
       "      <td>True</td>\n",
       "    </tr>\n",
       "    <tr>\n",
       "      <th>2</th>\n",
       "      <td>False</td>\n",
       "    </tr>\n",
       "  </tbody>\n",
       "</table>\n",
       "</div>"
      ],
      "text/plain": [
       "       0\n",
       "0  False\n",
       "1   True\n",
       "2  False"
      ]
     },
     "execution_count": 3,
     "metadata": {},
     "output_type": "execute_result"
    }
   ],
   "source": [
    "import pandas as pd\n",
    "df = pd.DataFrame(A)\n",
    "display(df)\n",
    "df.isnull()"
   ]
  },
  {
   "cell_type": "code",
   "execution_count": 4,
   "id": "e5aa4402",
   "metadata": {
    "ExecuteTime": {
     "end_time": "2022-05-04T11:01:52.358960Z",
     "start_time": "2022-05-04T11:01:52.281514Z"
    }
   },
   "outputs": [
    {
     "name": "stdout",
     "output_type": "stream",
     "text": [
      "----------------- 1.0\n",
      "***************** 0.8187307530779818\n",
      "+++++++++++++++++ 1.3498588075760032\n"
     ]
    },
    {
     "data": {
      "text/plain": [
       "[<matplotlib.lines.Line2D at 0x7fc7f068c340>]"
      ]
     },
     "execution_count": 4,
     "metadata": {},
     "output_type": "execute_result"
    },
    {
     "data": {
      "image/png": "[encoded data removed]",
      "text/plain": [
       "<Figure size 432x288 with 1 Axes>"
      ]
     },
     "metadata": {
      "needs_background": "light"
     },
     "output_type": "display_data"
    }
   ],
   "source": [
    "x = np.linspace(-1,1,50)\n",
    "\n",
    "y = np.exp(x)\n",
    "print('-----------------',np.exp(0))\n",
    "print('*****************',np.exp(-0.2))\n",
    "print('+++++++++++++++++',np.exp(0.3))\n",
    "plt.plot(x,np.full(50,fill_value=1))\n",
    "plt.plot(x,y)"
   ]
  },
  {
   "cell_type": "markdown",
   "id": "8c34fe03",
   "metadata": {},
   "source": [
    "# 手撕代码"
   ]
  },
  {
   "cell_type": "code",
   "execution_count": 5,
   "id": "5161524d",
   "metadata": {
    "ExecuteTime": {
     "end_time": "2022-05-04T11:01:52.840282Z",
     "start_time": "2022-05-04T11:01:52.361049Z"
    }
   },
   "outputs": [
    {
     "data": {
      "text/plain": [
       "array([[0],\n",
       "       [1],\n",
       "       [2],\n",
       "       [3],\n",
       "       [4],\n",
       "       [5],\n",
       "       [6],\n",
       "       [7],\n",
       "       [8],\n",
       "       [9]])"
      ]
     },
     "metadata": {},
     "output_type": "display_data"
    },
    {
     "data": {
      "text/plain": [
       "array([ 1,  1,  1, -1, -1, -1,  1,  1,  1, -1])"
      ]
     },
     "metadata": {},
     "output_type": "display_data"
    }
   ],
   "source": [
    "import numpy as np\n",
    "from sklearn.ensemble import AdaBoostClassifier\n",
    "\n",
    "import graphviz\n",
    "from sklearn import tree\n",
    "\n",
    "X = np.arange(10).reshape(-1,1) # 二维，机器学习要求数据必须是二维的\n",
    "\n",
    "y = np.array([1,1,1,-1,-1,-1,1,1,1,-1])\n",
    "display(X,y)"
   ]
  },
  {
   "cell_type": "markdown",
   "id": "7ff8844a",
   "metadata": {},
   "source": [
    "## 使用Adaboost建模"
   ]
  },
  {
   "cell_type": "code",
   "execution_count": 6,
   "id": "8c987242",
   "metadata": {
    "ExecuteTime": {
     "end_time": "2022-05-04T11:01:52.849602Z",
     "start_time": "2022-05-04T11:01:52.841422Z"
    }
   },
   "outputs": [
    {
     "data": {
      "text/plain": [
       "array([ 1,  1,  1, -1, -1, -1,  1,  1,  1, -1])"
      ]
     },
     "metadata": {},
     "output_type": "display_data"
    },
    {
     "data": {
      "text/plain": [
       "array([ 1,  1,  1, -1, -1, -1,  1,  1,  1, -1])"
      ]
     },
     "metadata": {},
     "output_type": "display_data"
    }
   ],
   "source": [
    "# SAMMER表示构建树时候，采用相同的裂分方式\n",
    "model = AdaBoostClassifier(n_estimators=3,algorithm = 'SAMME')\n",
    "\n",
    "model.fit(X,y)\n",
    "\n",
    "y_ = model.predict(X)\n",
    "display(y,y_) # 准确率是100%"
   ]
  },
  {
   "cell_type": "markdown",
   "id": "0f75e2bd",
   "metadata": {},
   "source": [
    "## 第一课可视化"
   ]
  },
  {
   "cell_type": "code",
   "execution_count": 7,
   "id": "e61358a2",
   "metadata": {
    "ExecuteTime": {
     "end_time": "2022-05-04T11:01:52.965493Z",
     "start_time": "2022-05-04T11:01:52.850594Z"
    }
   },
   "outputs": [
    {
     "name": "stdout",
     "output_type": "stream",
     "text": [
      "第一棵树是什么： DecisionTreeClassifier(max_depth=1, random_state=1977272916)\n"
     ]
    },
    {
     "data": {
      "image/png": "[encoded data removed]",
      "text/plain": [
       "<Figure size 864x648 with 1 Axes>"
      ]
     },
     "metadata": {
      "needs_background": "light"
     },
     "output_type": "display_data"
    }
   ],
   "source": [
    "print('第一棵树是什么：',model[0])\n",
    "# dot_data = tree.export_graphviz(model[0],filled=True,rounded=True)\n",
    "# graphviz.Source(dot_data)\n",
    "plt.figure(figsize=(12,9))\n",
    "_ = tree.plot_tree(model[0],filled=True,rounded=True)"
   ]
  },
  {
   "cell_type": "markdown",
   "id": "5413e4c5",
   "metadata": {},
   "source": [
    "## 第二棵树可视化"
   ]
  },
  {
   "cell_type": "code",
   "execution_count": 8,
   "id": "f933b751",
   "metadata": {
    "ExecuteTime": {
     "end_time": "2022-05-04T11:01:53.077525Z",
     "start_time": "2022-05-04T11:01:52.966351Z"
    }
   },
   "outputs": [
    {
     "data": {
      "image/png": "[encoded data removed]",
      "text/plain": [
       "<Figure size 864x648 with 1 Axes>"
      ]
     },
     "metadata": {
      "needs_background": "light"
     },
     "output_type": "display_data"
    }
   ],
   "source": [
    "# dot_data = tree.export_graphviz(model[1],filled=True,rounded=True)\n",
    "# graphviz.Source(dot_data)\n",
    "plt.figure(figsize=(12,9))\n",
    "_ = tree.plot_tree(model[1],filled=True,rounded=True)"
   ]
  },
  {
   "cell_type": "markdown",
   "id": "f0b5969b",
   "metadata": {},
   "source": [
    "## 第三棵树可视化"
   ]
  },
  {
   "cell_type": "code",
   "execution_count": 9,
   "id": "9da85f09",
   "metadata": {
    "ExecuteTime": {
     "end_time": "2022-05-04T11:01:53.188492Z",
     "start_time": "2022-05-04T11:01:53.078651Z"
    }
   },
   "outputs": [
    {
     "data": {
      "image/png": "[encoded data removed]",
      "text/plain": [
       "<Figure size 864x648 with 1 Axes>"
      ]
     },
     "metadata": {
      "needs_background": "light"
     },
     "output_type": "display_data"
    }
   ],
   "source": [
    "# graphviSourceSource(tree.export_graphviz(model[2],filled=True,rounded=True))\n",
    "plt.figure(figsize=(12,9))\n",
    "_ = tree.plot_tree(model[2],filled=True,rounded=True)"
   ]
  },
  {
   "cell_type": "markdown",
   "id": "9017a4a1",
   "metadata": {},
   "source": [
    "# 第一棵树代码构建"
   ]
  },
  {
   "cell_type": "markdown",
   "id": "a0d76082",
   "metadata": {},
   "source": [
    "## gini系数计算"
   ]
  },
  {
   "cell_type": "markdown",
   "id": "fdaeb399",
   "metadata": {},
   "source": [
    "𝑔𝑖𝑛𝑖=∑𝑖=1𝑁𝑝𝑖(1−𝑝𝑖)"
   ]
  },
  {
   "cell_type": "code",
   "execution_count": 10,
   "id": "294af183",
   "metadata": {
    "ExecuteTime": {
     "end_time": "2022-05-04T11:01:53.192267Z",
     "start_time": "2022-05-04T11:01:53.189677Z"
    }
   },
   "outputs": [
    {
     "data": {
      "text/plain": [
       "array([ 1,  1,  1, -1, -1, -1,  1,  1,  1, -1])"
      ]
     },
     "execution_count": 10,
     "metadata": {},
     "output_type": "execute_result"
    }
   ],
   "source": [
    "y # 6个正1,4个-1\n",
    "# 正1比例是0.6\n",
    "# 负1比例0.4"
   ]
  },
  {
   "cell_type": "code",
   "execution_count": 11,
   "id": "1142b10a",
   "metadata": {
    "ExecuteTime": {
     "end_time": "2022-05-04T11:01:53.197631Z",
     "start_time": "2022-05-04T11:01:53.193287Z"
    }
   },
   "outputs": [
    {
     "data": {
      "text/plain": [
       "0.6"
      ]
     },
     "metadata": {},
     "output_type": "display_data"
    },
    {
     "data": {
      "text/plain": [
       "0.4"
      ]
     },
     "metadata": {},
     "output_type": "display_data"
    },
    {
     "name": "stdout",
     "output_type": "stream",
     "text": [
      "方式一计算gini系数： 0.48\n",
      "方式二计算gini系数： 0.48\n"
     ]
    }
   ],
   "source": [
    "w1 = np.full(shape = 10,fill_value=0.1) # 初始的样本权重\n",
    "\n",
    "cond = y == 1 # 类别1条件\n",
    "p1 = w1[cond].sum()\n",
    "p2 = 1- p1\n",
    "display(p1,p2)\n",
    "\n",
    "gini1 = p1 * (1-p1) + p2 * (1 - p2)\n",
    "print('方式一计算gini系数：',gini1)\n",
    "\n",
    "gini2 = 1 - p1**2 - p2**2\n",
    "print('方式二计算gini系数：',gini2)"
   ]
  },
  {
   "cell_type": "markdown",
   "id": "740d158a",
   "metadata": {},
   "source": [
    "## 拆分条件计算"
   ]
  },
  {
   "cell_type": "code",
   "execution_count": 12,
   "id": "8a9c7e6c",
   "metadata": {
    "ExecuteTime": {
     "end_time": "2022-05-04T11:01:53.201144Z",
     "start_time": "2022-05-04T11:01:53.198431Z"
    }
   },
   "outputs": [
    {
     "data": {
      "text/plain": [
       "array([0, 1, 2, 3, 4, 5, 6, 7, 8, 9])"
      ]
     },
     "execution_count": 12,
     "metadata": {},
     "output_type": "execute_result"
    }
   ],
   "source": [
    "X.ravel()"
   ]
  },
  {
   "cell_type": "code",
   "execution_count": 13,
   "id": "022a3ac2",
   "metadata": {
    "ExecuteTime": {
     "end_time": "2022-05-04T11:01:53.207259Z",
     "start_time": "2022-05-04T11:01:53.202151Z"
    }
   },
   "outputs": [
    {
     "name": "stdout",
     "output_type": "stream",
     "text": [
      "[0.4444444444444444, 0.4, 0.3428571428571428, 0.45, 0.48, 0.45, 0.47619047619047616, 0.475, 0.4]\n",
      "最佳裂分条件是：\n",
      "{'X[0] <=': 2.5}\n"
     ]
    }
   ],
   "source": [
    "gini_result = []\n",
    "best_split = {} # 最佳裂分条件，X[0] <=2.5\n",
    "lower_gini = 1 # 比较\n",
    "\n",
    "for i in range(len(X) - 1):\n",
    "    split = X[i:i+2].mean() # 裂分条件\n",
    "    cond = (X <= split).ravel() # 变成一维的，左边数据\n",
    "    left = y[cond]\n",
    "    right = y[~cond] # 取反\n",
    "    \n",
    "    # 左右两个边的gini系数\n",
    "    gini_left = 0\n",
    "    gini_right = 0\n",
    "    for j in np.unique(y): # y表示类别\n",
    "        p_left = (left == j).sum()/left.size # 计算左边某个类别的概率\n",
    "        gini_left += p_left * (1 - p_left)\n",
    "        p_right = (right == j).sum()/right.size # 计算右边某个类别的概率\n",
    "        gini_right += p_right * (1 - p_right)\n",
    "    # 左右两边的gini系数合并\n",
    "    left_p = cond.sum()/cond.size\n",
    "    right_p = 1 - left_p\n",
    "    gini = gini_left * left_p + gini_right * right_p\n",
    "    gini_result.append(gini)\n",
    "    if gini < lower_gini:\n",
    "        lower_gini = gini\n",
    "        best_split.clear()\n",
    "        best_split['X[0] <='] = split\n",
    "print(gini_result)\n",
    "print('最佳裂分条件是：')\n",
    "print(best_split)"
   ]
  },
  {
   "cell_type": "code",
   "execution_count": 14,
   "id": "22cabc14",
   "metadata": {
    "ExecuteTime": {
     "end_time": "2022-05-04T11:01:53.210813Z",
     "start_time": "2022-05-04T11:01:53.208289Z"
    }
   },
   "outputs": [
    {
     "data": {
      "text/plain": [
       "0.34299999999999997"
      ]
     },
     "execution_count": 14,
     "metadata": {},
     "output_type": "execute_result"
    }
   ],
   "source": [
    "0.7*0.49"
   ]
  },
  {
   "cell_type": "code",
   "execution_count": 15,
   "id": "e32c05e6",
   "metadata": {
    "ExecuteTime": {
     "end_time": "2022-05-04T11:01:53.214228Z",
     "start_time": "2022-05-04T11:01:53.211756Z"
    }
   },
   "outputs": [
    {
     "data": {
      "text/plain": [
       "array([-1,  1])"
      ]
     },
     "execution_count": 15,
     "metadata": {},
     "output_type": "execute_result"
    }
   ],
   "source": [
    "np.unique(y)"
   ]
  },
  {
   "cell_type": "code",
   "execution_count": 16,
   "id": "bd7f2892",
   "metadata": {
    "ExecuteTime": {
     "end_time": "2022-05-04T11:01:53.219944Z",
     "start_time": "2022-05-04T11:01:53.217490Z"
    }
   },
   "outputs": [
    {
     "data": {
      "text/plain": [
       "array([0, 1, 2, 3, 4, 5, 6, 7, 8, 9])"
      ]
     },
     "execution_count": 16,
     "metadata": {},
     "output_type": "execute_result"
    }
   ],
   "source": [
    "X.ravel()"
   ]
  },
  {
   "cell_type": "markdown",
   "id": "bb0b8b93",
   "metadata": {},
   "source": [
    "## 计算误差"
   ]
  },
  {
   "cell_type": "code",
   "execution_count": 17,
   "id": "3d80c010",
   "metadata": {
    "ExecuteTime": {
     "end_time": "2022-05-04T11:01:53.223794Z",
     "start_time": "2022-05-04T11:01:53.221074Z"
    }
   },
   "outputs": [
    {
     "data": {
      "text/plain": [
       "0.3"
      ]
     },
     "execution_count": 17,
     "metadata": {},
     "output_type": "execute_result"
    }
   ],
   "source": [
    "y1_ = model[0].predict(X) # 扁鹊医院某个大夫问诊情况\n",
    "\n",
    "error1 = (y != y1_).mean()\n",
    "error1"
   ]
  },
  {
   "cell_type": "code",
   "execution_count": 18,
   "id": "5a5fcebe",
   "metadata": {
    "ExecuteTime": {
     "end_time": "2022-05-04T11:01:53.227587Z",
     "start_time": "2022-05-04T11:01:53.224647Z"
    }
   },
   "outputs": [
    {
     "data": {
      "text/plain": [
       "0.7"
      ]
     },
     "execution_count": 18,
     "metadata": {},
     "output_type": "execute_result"
    }
   ],
   "source": [
    "from sklearn.metrics import accuracy_score\n",
    "\n",
    "accuracy_score(y,y1_)"
   ]
  },
  {
   "cell_type": "code",
   "execution_count": 19,
   "id": "1988101c",
   "metadata": {
    "ExecuteTime": {
     "end_time": "2022-05-04T11:01:53.230692Z",
     "start_time": "2022-05-04T11:01:53.228337Z"
    }
   },
   "outputs": [
    {
     "data": {
      "text/plain": [
       "0.7"
      ]
     },
     "execution_count": 19,
     "metadata": {},
     "output_type": "execute_result"
    }
   ],
   "source": [
    "accuracy = (y == y1_).mean()\n",
    "accuracy"
   ]
  },
  {
   "cell_type": "markdown",
   "id": "69f51135",
   "metadata": {},
   "source": [
    "## 计算第一个弱学习器（决策树、大夫）的权重"
   ]
  },
  {
   "cell_type": "markdown",
   "id": "b914c684",
   "metadata": {},
   "source": [
    "𝛼𝑡=12𝑙𝑛1−𝑒𝑡𝑒𝑡=12𝑙𝑛𝑝𝑡1−𝑝𝑡"
   ]
  },
  {
   "cell_type": "code",
   "execution_count": 20,
   "id": "e0feb02f",
   "metadata": {
    "ExecuteTime": {
     "end_time": "2022-05-04T11:01:53.234015Z",
     "start_time": "2022-05-04T11:01:53.231497Z"
    }
   },
   "outputs": [
    {
     "data": {
      "text/plain": [
       "0.42364893019360184"
      ]
     },
     "execution_count": 20,
     "metadata": {},
     "output_type": "execute_result"
    }
   ],
   "source": [
    "alpha_1 = 1/2 * np.log((1 - error1)/error1)\n",
    "alpha_1"
   ]
  },
  {
   "cell_type": "code",
   "execution_count": 21,
   "id": "dd0dd421",
   "metadata": {
    "ExecuteTime": {
     "end_time": "2022-05-04T11:01:53.237322Z",
     "start_time": "2022-05-04T11:01:53.234954Z"
    }
   },
   "outputs": [
    {
     "data": {
      "text/plain": [
       "0.4236489301936017"
      ]
     },
     "execution_count": 21,
     "metadata": {},
     "output_type": "execute_result"
    }
   ],
   "source": [
    "alpha_1 = 1/2 * np.log(accuracy/(1 - accuracy))\n",
    "alpha_1"
   ]
  },
  {
   "cell_type": "markdown",
   "id": "f9ec6837",
   "metadata": {},
   "source": [
    "## 更新一下样本权重"
   ]
  },
  {
   "cell_type": "code",
   "execution_count": 22,
   "id": "ec5963ff",
   "metadata": {
    "ExecuteTime": {
     "end_time": "2022-05-04T11:01:53.240668Z",
     "start_time": "2022-05-04T11:01:53.238305Z"
    }
   },
   "outputs": [
    {
     "data": {
      "text/plain": [
       "array([0.1, 0.1, 0.1, 0.1, 0.1, 0.1, 0.1, 0.1, 0.1, 0.1])"
      ]
     },
     "execution_count": 22,
     "metadata": {},
     "output_type": "execute_result"
    }
   ],
   "source": [
    "w1 # 没有进行训练和学习，所以都一样"
   ]
  },
  {
   "cell_type": "markdown",
   "id": "48e741f6",
   "metadata": {},
   "source": [
    "𝑤𝑡+1=[𝑤𝑡∗𝑒𝑥𝑝(−𝑦ℎ𝑡(𝑥)𝛼𝑡)]"
   ]
  },
  {
   "cell_type": "code",
   "execution_count": 23,
   "id": "6ec20141",
   "metadata": {
    "ExecuteTime": {
     "end_time": "2022-05-04T11:01:53.246581Z",
     "start_time": "2022-05-04T11:01:53.241641Z"
    }
   },
   "outputs": [
    {
     "data": {
      "text/plain": [
       "array([0.1, 0.1, 0.1, 0.1, 0.1, 0.1, 0.1, 0.1, 0.1, 0.1])"
      ]
     },
     "metadata": {},
     "output_type": "display_data"
    },
    {
     "data": {
      "text/plain": [
       "array([0.07142857, 0.07142857, 0.07142857, 0.07142857, 0.07142857,\n",
       "       0.07142857, 0.16666667, 0.16666667, 0.16666667, 0.07142857])"
      ]
     },
     "metadata": {},
     "output_type": "display_data"
    },
    {
     "data": {
      "text/plain": [
       "array([ 1,  1,  1, -1, -1, -1,  1,  1,  1, -1])"
      ]
     },
     "metadata": {},
     "output_type": "display_data"
    },
    {
     "data": {
      "text/plain": [
       "array([ 1,  1,  1, -1, -1, -1, -1, -1, -1, -1])"
      ]
     },
     "metadata": {},
     "output_type": "display_data"
    }
   ],
   "source": [
    "# 上一次权重的基础上进行更新\n",
    "\n",
    "# y 表示真实的目标值\n",
    "# ht(x)表示当前弱学习器预测的结果\n",
    "w2 = w1 * np.exp(-alpha_1 * y * y1_)\n",
    "w2 = w2/w2.sum()# 权重归一化，和正好是1\n",
    "display(w1,w2)\n",
    "display(y,y1_)"
   ]
  },
  {
   "cell_type": "markdown",
   "id": "e36bc612",
   "metadata": {},
   "source": [
    "# 第二棵树代码构建"
   ]
  },
  {
   "cell_type": "code",
   "execution_count": 24,
   "id": "a7a9f39a",
   "metadata": {
    "ExecuteTime": {
     "end_time": "2022-05-04T11:01:53.249885Z",
     "start_time": "2022-05-04T11:01:53.247556Z"
    }
   },
   "outputs": [
    {
     "data": {
      "text/plain": [
       "array([ 1,  1,  1, -1, -1, -1,  1,  1,  1, -1])"
      ]
     },
     "execution_count": 24,
     "metadata": {},
     "output_type": "execute_result"
    }
   ],
   "source": [
    "y"
   ]
  },
  {
   "cell_type": "code",
   "execution_count": 25,
   "id": "26a00fa3",
   "metadata": {
    "ExecuteTime": {
     "end_time": "2022-05-04T11:01:53.253557Z",
     "start_time": "2022-05-04T11:01:53.250823Z"
    }
   },
   "outputs": [
    {
     "data": {
      "text/plain": [
       "0.286"
      ]
     },
     "execution_count": 25,
     "metadata": {},
     "output_type": "execute_result"
    }
   ],
   "source": [
    "cond = y == -1\n",
    "np.round(w2[cond].sum(),3)"
   ]
  },
  {
   "cell_type": "code",
   "execution_count": 26,
   "id": "fcfd5c40",
   "metadata": {
    "ExecuteTime": {
     "end_time": "2022-05-04T11:01:53.256990Z",
     "start_time": "2022-05-04T11:01:53.254350Z"
    }
   },
   "outputs": [
    {
     "data": {
      "text/plain": [
       "0.714"
      ]
     },
     "execution_count": 26,
     "metadata": {},
     "output_type": "execute_result"
    }
   ],
   "source": [
    "cond2 = y == 1\n",
    "np.round(w2[cond2].sum(),3)"
   ]
  },
  {
   "cell_type": "markdown",
   "id": "3901255d",
   "metadata": {},
   "source": [
    "## gini系数计算"
   ]
  },
  {
   "cell_type": "code",
   "execution_count": 27,
   "id": "ce1dd031",
   "metadata": {
    "ExecuteTime": {
     "end_time": "2022-05-04T11:01:53.262569Z",
     "start_time": "2022-05-04T11:01:53.257913Z"
    }
   },
   "outputs": [
    {
     "name": "stdout",
     "output_type": "stream",
     "text": [
      "[0.07142857 0.07142857 0.07142857 0.07142857 0.07142857 0.07142857\n",
      " 0.16666667 0.16666667 0.16666667 0.07142857]\n"
     ]
    },
    {
     "data": {
      "text/plain": [
       "0.7142857142857142"
      ]
     },
     "metadata": {},
     "output_type": "display_data"
    },
    {
     "data": {
      "text/plain": [
       "0.2857142857142858"
      ]
     },
     "metadata": {},
     "output_type": "display_data"
    },
    {
     "name": "stdout",
     "output_type": "stream",
     "text": [
      "方式一计算gini系数： 0.4081632653061225\n",
      "方式二计算gini系数： 0.4081632653061225\n"
     ]
    }
   ],
   "source": [
    "print(w2)\n",
    "\n",
    "cond = y == 1 # 类别1条件\n",
    "p1 = w2[cond].sum() # !!!注意使用新的样本权重分布\n",
    "p2 = 1- p1\n",
    "display(p1,p2)\n",
    "\n",
    "gini1 = p1 * (1-p1) + p2 * (1 - p2)\n",
    "print('方式一计算gini系数：',gini1)\n",
    "\n",
    "gini2 = 1 - p1**2 - p2**2\n",
    "print('方式二计算gini系数：',gini2)"
   ]
  },
  {
   "cell_type": "markdown",
   "id": "45d5c4c5",
   "metadata": {},
   "source": [
    "## 拆分条件计算"
   ]
  },
  {
   "cell_type": "code",
   "execution_count": 28,
   "id": "6991da70",
   "metadata": {
    "ExecuteTime": {
     "end_time": "2022-05-04T11:01:53.269152Z",
     "start_time": "2022-05-04T11:01:53.263483Z"
    }
   },
   "outputs": [
    {
     "name": "stdout",
     "output_type": "stream",
     "text": [
      "[0.3834319526627219, 0.3555555555555556, 0.3239669421487603, 0.402, 0.41283950617283954, 0.3875, 0.40975723183391, 0.4074375, 0.31952662721893493]\n",
      "最佳裂分条件是：\n",
      "{'X[0] <=': 8.5}\n"
     ]
    }
   ],
   "source": [
    "gini_result = []\n",
    "best_split = {} # 最佳裂分条件，X[0] <=2.5\n",
    "lower_gini = 1 # 比较\n",
    "\n",
    "for i in range(len(X) - 1):\n",
    "    split = X[i:i+2].mean() # 裂分条件\n",
    "    cond = (X <= split).ravel() # 变成一维的，左边数据\n",
    "    left = y[cond]\n",
    "    right = y[~cond] # 取反\n",
    "    \n",
    "    # left_p = cond.sum()/cond.size # 这种方式计算概率适用于 每个样本的权重一样\n",
    "    left_p = w2[cond]/w2[cond].sum() # 归一化，左侧每个样本在自己组内的概率\n",
    "    right_p = w2[~cond]/w2[~cond].sum() # 归一化右侧每个样本在自己组内概率\n",
    "    \n",
    "    # 左右两个边的gini系数\n",
    "    gini_left = 0\n",
    "    gini_right = 0\n",
    "    for j in np.unique(y): # y表示类别{-1,1}\n",
    "        cond_left = left == j # 左侧某个类别\n",
    "        p1 = left_p[cond_left].sum() # 左侧某个类别的概率\n",
    "        gini_left += p1 * (1 - p1)\n",
    "        cond_right = right == j # 右侧某个类别的判断条件\n",
    "        p2 = right_p[cond_right].sum() # 右侧某个类别的概率\n",
    "        gini_right += p2 * (1 - p2)\n",
    "    \n",
    "    # 左右两边的gini系数合并\n",
    "    p1 = cond.sum()/cond.size # 左侧划分数据所占的比例\n",
    "    p2 = 1 - p1 # 右侧划分数据所占的比例\n",
    "    gini = gini_left * p1 + gini_right * p2\n",
    "    gini_result.append(gini)\n",
    "    if gini < lower_gini:\n",
    "        lower_gini = gini\n",
    "        best_split.clear()\n",
    "        best_split['X[0] <='] = split\n",
    "print(gini_result)\n",
    "print('最佳裂分条件是：')\n",
    "print(best_split)"
   ]
  },
  {
   "cell_type": "markdown",
   "id": "6ddb66b8",
   "metadata": {},
   "source": [
    "## 计算误差"
   ]
  },
  {
   "cell_type": "code",
   "execution_count": 29,
   "id": "2effbec3",
   "metadata": {
    "ExecuteTime": {
     "end_time": "2022-05-04T11:01:53.273065Z",
     "start_time": "2022-05-04T11:01:53.270191Z"
    }
   },
   "outputs": [
    {
     "data": {
      "text/plain": [
       "0.3"
      ]
     },
     "execution_count": 29,
     "metadata": {},
     "output_type": "execute_result"
    }
   ],
   "source": [
    "y2_ = model[1].predict(X) # 扁鹊医院某个大夫问诊情况\n",
    "\n",
    "error2 = (y != y2_).mean()\n",
    "error2"
   ]
  },
  {
   "cell_type": "code",
   "execution_count": 30,
   "id": "600b4139",
   "metadata": {
    "ExecuteTime": {
     "end_time": "2022-05-04T11:01:53.276507Z",
     "start_time": "2022-05-04T11:01:53.274025Z"
    }
   },
   "outputs": [
    {
     "data": {
      "text/plain": [
       "0.21428571428571427"
      ]
     },
     "execution_count": 30,
     "metadata": {},
     "output_type": "execute_result"
    }
   ],
   "source": [
    "error2 = ((y != y2_) * w2).sum()\n",
    "error2"
   ]
  },
  {
   "cell_type": "markdown",
   "id": "eeafbd4f",
   "metadata": {},
   "source": [
    "## 计算第二个弱学习器权重"
   ]
  },
  {
   "cell_type": "code",
   "execution_count": 31,
   "id": "b4dfbb9c",
   "metadata": {
    "ExecuteTime": {
     "end_time": "2022-05-04T11:01:53.279939Z",
     "start_time": "2022-05-04T11:01:53.277451Z"
    }
   },
   "outputs": [
    {
     "data": {
      "text/plain": [
       "0.6496414920651304"
      ]
     },
     "execution_count": 31,
     "metadata": {},
     "output_type": "execute_result"
    }
   ],
   "source": [
    "alpha_2 = 1/2 * np.log((1 - error2)/error2)\n",
    "alpha_2"
   ]
  },
  {
   "cell_type": "markdown",
   "id": "165f95cd",
   "metadata": {},
   "source": [
    "## 更新样本权重"
   ]
  },
  {
   "cell_type": "code",
   "execution_count": 32,
   "id": "8bece7ae",
   "metadata": {
    "ExecuteTime": {
     "end_time": "2022-05-04T11:01:53.283609Z",
     "start_time": "2022-05-04T11:01:53.280761Z"
    }
   },
   "outputs": [
    {
     "data": {
      "text/plain": [
       "array([0.04545455, 0.04545455, 0.04545455, 0.16666667, 0.16666667,\n",
       "       0.16666667, 0.10606061, 0.10606061, 0.10606061, 0.04545455])"
      ]
     },
     "execution_count": 32,
     "metadata": {},
     "output_type": "execute_result"
    }
   ],
   "source": [
    "# 上一次权重的基础上进行更新\n",
    "\n",
    "# y 表示真实的目标值\n",
    "# ht(x)表示当前弱学习器预测的结果\n",
    "w3 = w2 * np.exp(-alpha_2 * y * y2_)\n",
    "w3 = w3/w3.sum()# 权重归一化，和正好是1\n",
    "w3"
   ]
  },
  {
   "cell_type": "markdown",
   "id": "1d7b3c5c",
   "metadata": {},
   "source": [
    "# 第三棵树代码构建"
   ]
  },
  {
   "cell_type": "markdown",
   "id": "9a7a3808",
   "metadata": {},
   "source": [
    "## gini系数"
   ]
  },
  {
   "cell_type": "code",
   "execution_count": 33,
   "id": "bee71544",
   "metadata": {
    "ExecuteTime": {
     "end_time": "2022-05-04T11:01:53.288744Z",
     "start_time": "2022-05-04T11:01:53.284411Z"
    }
   },
   "outputs": [
    {
     "data": {
      "text/plain": [
       "0.4545454545454546"
      ]
     },
     "metadata": {},
     "output_type": "display_data"
    },
    {
     "data": {
      "text/plain": [
       "0.5454545454545454"
      ]
     },
     "metadata": {},
     "output_type": "display_data"
    },
    {
     "name": "stdout",
     "output_type": "stream",
     "text": [
      "方式一计算gini系数： 0.496\n",
      "方式二计算gini系数： 0.4958677685950414\n"
     ]
    }
   ],
   "source": [
    "cond = y == 1 # 类别1条件\n",
    "p1 = w3[cond].sum() # !!!注意使用新的样本权重分布\n",
    "p2 = 1- p1\n",
    "display(p1,p2)\n",
    "\n",
    "gini1 = p1 * (1-p1) + p2 * (1 - p2)\n",
    "print('方式一计算gini系数：',np.round(gini1,3))\n",
    "\n",
    "gini2 = 1 - p1**2 - p2**2\n",
    "print('方式二计算gini系数：',gini2)"
   ]
  },
  {
   "cell_type": "markdown",
   "id": "df2324df",
   "metadata": {},
   "source": [
    "## 拆分条件计算"
   ]
  },
  {
   "cell_type": "code",
   "execution_count": 34,
   "id": "04e36538",
   "metadata": {
    "ExecuteTime": {
     "end_time": "2022-05-04T11:01:53.295297Z",
     "start_time": "2022-05-04T11:01:53.289587Z"
    }
   },
   "outputs": [
    {
     "name": "stdout",
     "output_type": "stream",
     "text": [
      "[0.44081632653061226, 0.384, 0.3257617728531856, 0.4957315689981096, 0.44603537981269514, 0.2895408163265306, 0.3950689519505281, 0.4712448979591837, 0.44897959183673475]\n",
      "最佳裂分条件是：\n",
      "{'X[0] <=': 5.5}\n"
     ]
    }
   ],
   "source": [
    "gini_result = []\n",
    "best_split = {} # 最佳裂分条件，X[0] <=2.5\n",
    "lower_gini = 1 # 比较\n",
    "\n",
    "for i in range(len(X) - 1):\n",
    "    split = X[i:i+2].mean() # 裂分条件\n",
    "    cond = (X <= split).ravel() # 变成一维的，左边数据\n",
    "    left = y[cond]\n",
    "    right = y[~cond] # 取反\n",
    "    \n",
    "    # left_p = cond.sum()/cond.size # 这种方式计算概率适用于 每个样本的权重一样\n",
    "    left_p = w3[cond]/w3[cond].sum() # 归一化，左侧每个样本在自己组内的概率\n",
    "    right_p = w3[~cond]/w3[~cond].sum() # 归一化右侧每个样本在自己组内概率\n",
    "    \n",
    "    # 左右两个边的gini系数\n",
    "    gini_left = 0\n",
    "    gini_right = 0\n",
    "    for j in np.unique(y): # y表示类别{-1,1}\n",
    "        cond_left = left == j # 左侧某个类别\n",
    "        p1 = left_p[cond_left].sum() # 左侧某个类别的概率\n",
    "        gini_left += p1 * (1 - p1)\n",
    "        cond_right = right == j # 右侧某个类别的判断条件\n",
    "        p2 = right_p[cond_right].sum() # 右侧某个类别的概率\n",
    "        gini_right += p2 * (1 - p2)\n",
    "    \n",
    "    # 左右两边的gini系数合并\n",
    "    p1 = cond.sum()/cond.size # 左侧划分数据所占的比例\n",
    "    p2 = 1 - p1 # 右侧划分数据所占的比例\n",
    "    gini = gini_left * p1 + gini_right * p2\n",
    "    gini_result.append(gini)\n",
    "    if gini < lower_gini:\n",
    "        lower_gini = gini\n",
    "        best_split.clear()\n",
    "        best_split['X[0] <='] = split\n",
    "print(gini_result)\n",
    "print('最佳裂分条件是：')\n",
    "print(best_split)"
   ]
  },
  {
   "cell_type": "markdown",
   "id": "8c9abc07",
   "metadata": {},
   "source": [
    "## 计算误差"
   ]
  },
  {
   "cell_type": "code",
   "execution_count": 35,
   "id": "4a02604c",
   "metadata": {
    "ExecuteTime": {
     "end_time": "2022-05-04T11:01:53.302177Z",
     "start_time": "2022-05-04T11:01:53.299066Z"
    }
   },
   "outputs": [
    {
     "data": {
      "text/plain": [
       "0.18181818181818185"
      ]
     },
     "execution_count": 35,
     "metadata": {},
     "output_type": "execute_result"
    }
   ],
   "source": [
    "y3_ = model[2].predict(X) # 扁鹊医院某个大夫问诊情况\n",
    "\n",
    "error3 = ((y != y3_) * w3).sum()\n",
    "error3"
   ]
  },
  {
   "cell_type": "markdown",
   "id": "d0dcbd13",
   "metadata": {},
   "source": [
    "## 计算第三个弱学习器权重"
   ]
  },
  {
   "cell_type": "code",
   "execution_count": 36,
   "id": "61f4d9e1",
   "metadata": {
    "ExecuteTime": {
     "end_time": "2022-05-04T11:01:53.341580Z",
     "start_time": "2022-05-04T11:01:53.338872Z"
    }
   },
   "outputs": [
    {
     "data": {
      "text/plain": [
       "0.752038698388137"
      ]
     },
     "execution_count": 36,
     "metadata": {},
     "output_type": "execute_result"
    }
   ],
   "source": [
    "alpha_3 = 1/2 * np.log((1 - error3)/error3)\n",
    "alpha_3"
   ]
  },
  {
   "cell_type": "markdown",
   "id": "e801c72b",
   "metadata": {},
   "source": [
    "## 更新权重"
   ]
  },
  {
   "cell_type": "code",
   "execution_count": 37,
   "id": "8e1f1d29",
   "metadata": {
    "ExecuteTime": {
     "end_time": "2022-05-04T11:01:53.415860Z",
     "start_time": "2022-05-04T11:01:53.412259Z"
    }
   },
   "outputs": [
    {
     "data": {
      "text/plain": [
       "array([0.125     , 0.125     , 0.125     , 0.10185185, 0.10185185,\n",
       "       0.10185185, 0.06481481, 0.06481481, 0.06481481, 0.125     ])"
      ]
     },
     "execution_count": 37,
     "metadata": {},
     "output_type": "execute_result"
    }
   ],
   "source": [
    "# 上一次权重的基础上进行更新\n",
    "\n",
    "# y 表示真实的目标值\n",
    "# ht(x)表示当前弱学习器预测的结果\n",
    "w4 = w3 * np.exp(-alpha_3 * y * y3_)\n",
    "w4 = w4/w4.sum()# 权重归一化，和正好是1\n",
    "w4"
   ]
  },
  {
   "cell_type": "markdown",
   "id": "82e11e18",
   "metadata": {},
   "source": [
    "# 弱学习器聚合"
   ]
  },
  {
   "cell_type": "code",
   "execution_count": 38,
   "id": "db6ee19e",
   "metadata": {
    "ExecuteTime": {
     "end_time": "2022-05-04T11:01:53.495251Z",
     "start_time": "2022-05-04T11:01:53.489001Z"
    }
   },
   "outputs": [
    {
     "name": "stdout",
     "output_type": "stream",
     "text": [
      "每一个弱分类器的预测结果：\n"
     ]
    },
    {
     "data": {
      "text/plain": [
       "array([ 1,  1,  1, -1, -1, -1, -1, -1, -1, -1])"
      ]
     },
     "metadata": {},
     "output_type": "display_data"
    },
    {
     "data": {
      "text/plain": [
       "array([ 1,  1,  1,  1,  1,  1,  1,  1,  1, -1])"
      ]
     },
     "metadata": {},
     "output_type": "display_data"
    },
    {
     "data": {
      "text/plain": [
       "array([-1, -1, -1, -1, -1, -1,  1,  1,  1,  1])"
      ]
     },
     "metadata": {},
     "output_type": "display_data"
    },
    {
     "name": "stdout",
     "output_type": "stream",
     "text": [
      "强分类器合并结果：\n",
      " [ 0.32125172  0.32125172  0.32125172 -0.52604614 -0.52604614 -0.52604614\n",
      "  0.97803126  0.97803126  0.97803126 -0.32125172]\n",
      "强分类器最终结果如下：\n",
      " [ 1  1  1 -1 -1 -1  1  1  1 -1]\n",
      "算法预测结果：\n",
      " [ 1  1  1 -1 -1 -1  1  1  1 -1]\n"
     ]
    }
   ],
   "source": [
    "print('每一个弱分类器的预测结果：')\n",
    "display(y1_,y2_,y3_)\n",
    "\n",
    "# 聚合各个弱学习器的评分\n",
    "F =  alpha_1* y1_ + alpha_2*y2_ + alpha_3*y3_\n",
    "# 将多个弱分类器，整合，变成了强分类器F(X)\n",
    "print('强分类器合并结果：\\n',F)\n",
    "print('强分类器最终结果如下：\\n',np.array([1 if i > 0 else -1 for i in F]))\n",
    "\n",
    "print('算法预测结果：\\n',model.predict(X))"
   ]
  },
  {
   "cell_type": "markdown",
   "id": "defb1892",
   "metadata": {},
   "source": [
    "# 算法VS自己代码"
   ]
  },
  {
   "cell_type": "code",
   "execution_count": 39,
   "id": "19b64087",
   "metadata": {
    "ExecuteTime": {
     "end_time": "2022-05-04T11:01:53.577952Z",
     "start_time": "2022-05-04T11:01:53.566294Z"
    }
   },
   "outputs": [
    {
     "data": {
      "text/plain": [
       "array([0.3       , 0.21428571, 0.18181818])"
      ]
     },
     "execution_count": 39,
     "metadata": {},
     "output_type": "execute_result"
    }
   ],
   "source": [
    "model.estimator_errors_ # 三棵树的误差情况"
   ]
  },
  {
   "cell_type": "code",
   "execution_count": 40,
   "id": "0e00e3c6",
   "metadata": {
    "ExecuteTime": {
     "end_time": "2022-05-04T11:02:19.174725Z",
     "start_time": "2022-05-04T11:02:19.163355Z"
    }
   },
   "outputs": [
    {
     "data": {
      "text/plain": [
       "array([0.84729786, 1.29928298, 1.5040774 ])"
      ]
     },
     "execution_count": 40,
     "metadata": {},
     "output_type": "execute_result"
    }
   ],
   "source": [
    "model.estimator_weights_ # 权重 == 话语权"
   ]
  },
  {
   "cell_type": "code",
   "execution_count": 41,
   "id": "05030f2b",
   "metadata": {
    "ExecuteTime": {
     "end_time": "2022-05-04T11:02:39.369779Z",
     "start_time": "2022-05-04T11:02:39.357257Z"
    }
   },
   "outputs": [
    {
     "name": "stdout",
     "output_type": "stream",
     "text": [
      "自己计算的误差是： 0.3 0.21428571 0.18181818\n"
     ]
    }
   ],
   "source": [
    "print('自己计算的误差是：',error1,np.round(error2,8),np.round(error3,8))"
   ]
  },
  {
   "cell_type": "code",
   "execution_count": 42,
   "id": "fd8ce016",
   "metadata": {
    "ExecuteTime": {
     "end_time": "2022-05-04T11:03:07.625449Z",
     "start_time": "2022-05-04T11:03:07.613876Z"
    }
   },
   "outputs": [
    {
     "name": "stdout",
     "output_type": "stream",
     "text": [
      "自己计算的弱学习器的权重 0.84729786 1.29928298 1.5040774\n"
     ]
    }
   ],
   "source": [
    "print('自己计算的弱学习器的权重',np.round(2*alpha_1,8),np.round(2 * alpha_2,8),np.round(2*alpha_3,8))"
   ]
  },
  {
   "cell_type": "markdown",
   "id": "8c070959",
   "metadata": {},
   "source": [
    "## 计算概率"
   ]
  },
  {
   "cell_type": "code",
   "execution_count": 43,
   "id": "93663238",
   "metadata": {
    "ExecuteTime": {
     "end_time": "2022-05-04T11:04:55.724518Z",
     "start_time": "2022-05-04T11:04:55.711123Z"
    }
   },
   "outputs": [
    {
     "data": {
      "text/plain": [
       "array([[0.45611407, 0.54388593],\n",
       "       [0.45611407, 0.54388593],\n",
       "       [0.45611407, 0.54388593],\n",
       "       [0.57155357, 0.42844643],\n",
       "       [0.57155357, 0.42844643],\n",
       "       [0.57155357, 0.42844643],\n",
       "       [0.36916261, 0.63083739],\n",
       "       [0.36916261, 0.63083739],\n",
       "       [0.36916261, 0.63083739],\n",
       "       [0.54388593, 0.45611407]])"
      ]
     },
     "execution_count": 43,
     "metadata": {},
     "output_type": "execute_result"
    }
   ],
   "source": [
    "model.predict_proba(X) # 类别大，划分到对应哪个类别"
   ]
  },
  {
   "cell_type": "code",
   "execution_count": 44,
   "id": "102a3458",
   "metadata": {
    "ExecuteTime": {
     "end_time": "2022-05-04T11:05:59.108340Z",
     "start_time": "2022-05-04T11:05:59.091276Z"
    }
   },
   "outputs": [
    {
     "data": {
      "text/plain": [
       "array([ 1,  1,  1, -1, -1, -1,  1,  1,  1, -1])"
      ]
     },
     "execution_count": 44,
     "metadata": {},
     "output_type": "execute_result"
    }
   ],
   "source": [
    "model.predict(X)"
   ]
  },
  {
   "cell_type": "code",
   "execution_count": 45,
   "id": "734beebb",
   "metadata": {
    "ExecuteTime": {
     "end_time": "2022-05-04T11:06:14.290723Z",
     "start_time": "2022-05-04T11:06:14.279251Z"
    }
   },
   "outputs": [
    {
     "data": {
      "text/plain": [
       "array([ 1,  1,  1, -1, -1, -1, -1, -1, -1, -1])"
      ]
     },
     "execution_count": 45,
     "metadata": {},
     "output_type": "execute_result"
    }
   ],
   "source": [
    "y1_"
   ]
  },
  {
   "cell_type": "code",
   "execution_count": 46,
   "id": "47d416c7",
   "metadata": {
    "ExecuteTime": {
     "end_time": "2022-05-04T11:06:30.970902Z",
     "start_time": "2022-05-04T11:06:30.956418Z"
    }
   },
   "outputs": [
    {
     "data": {
      "text/plain": [
       "array([[0, 1],\n",
       "       [0, 1],\n",
       "       [0, 1],\n",
       "       [1, 0],\n",
       "       [1, 0],\n",
       "       [1, 0],\n",
       "       [1, 0],\n",
       "       [1, 0],\n",
       "       [1, 0],\n",
       "       [1, 0]], dtype=int8)"
      ]
     },
     "execution_count": 46,
     "metadata": {},
     "output_type": "execute_result"
    }
   ],
   "source": [
    "# 计算类别概率\n",
    "y1_proba = (y1_ == np.array([[-1],[1]])).T.astype(np.int8)\n",
    "y1_proba"
   ]
  },
  {
   "cell_type": "code",
   "execution_count": 47,
   "id": "73292a3b",
   "metadata": {
    "ExecuteTime": {
     "end_time": "2022-05-04T11:06:49.982711Z",
     "start_time": "2022-05-04T11:06:49.968071Z"
    }
   },
   "outputs": [
    {
     "data": {
      "text/plain": [
       "array([[0, 1],\n",
       "       [0, 1],\n",
       "       [0, 1],\n",
       "       [0, 1],\n",
       "       [0, 1],\n",
       "       [0, 1],\n",
       "       [0, 1],\n",
       "       [0, 1],\n",
       "       [0, 1],\n",
       "       [1, 0]], dtype=int8)"
      ]
     },
     "execution_count": 47,
     "metadata": {},
     "output_type": "execute_result"
    }
   ],
   "source": [
    "y2_proba = (y2_ == np.array([[-1],[1]])).T.astype(np.int8)\n",
    "y2_proba"
   ]
  },
  {
   "cell_type": "code",
   "execution_count": 48,
   "id": "3899e857",
   "metadata": {
    "ExecuteTime": {
     "end_time": "2022-05-04T11:08:32.750268Z",
     "start_time": "2022-05-04T11:08:32.736409Z"
    }
   },
   "outputs": [
    {
     "data": {
      "text/plain": [
       "array([[1, 0],\n",
       "       [1, 0],\n",
       "       [1, 0],\n",
       "       [1, 0],\n",
       "       [1, 0],\n",
       "       [1, 0],\n",
       "       [0, 1],\n",
       "       [0, 1],\n",
       "       [0, 1],\n",
       "       [0, 1]], dtype=int8)"
      ]
     },
     "execution_count": 48,
     "metadata": {},
     "output_type": "execute_result"
    }
   ],
   "source": [
    "y3_proba = (y3_ == np.array([[-1],[1]])).T.astype(np.int8)\n",
    "y3_proba"
   ]
  },
  {
   "cell_type": "markdown",
   "id": "cd9dc38d",
   "metadata": {},
   "source": [
    "## 计算的弱学习器的概率之和"
   ]
  },
  {
   "cell_type": "code",
   "execution_count": 49,
   "id": "db40b357",
   "metadata": {
    "ExecuteTime": {
     "end_time": "2022-05-04T11:09:20.743279Z",
     "start_time": "2022-05-04T11:09:20.726764Z"
    }
   },
   "outputs": [
    {
     "data": {
      "text/plain": [
       "array([[0.4120017 , 0.5879983 ],\n",
       "       [0.4120017 , 0.5879983 ],\n",
       "       [0.4120017 , 0.5879983 ],\n",
       "       [0.64409624, 0.35590376],\n",
       "       [0.64409624, 0.35590376],\n",
       "       [0.64409624, 0.35590376],\n",
       "       [0.23209454, 0.76790546],\n",
       "       [0.23209454, 0.76790546],\n",
       "       [0.23209454, 0.76790546],\n",
       "       [0.5879983 , 0.4120017 ]])"
      ]
     },
     "execution_count": 49,
     "metadata": {},
     "output_type": "execute_result"
    }
   ],
   "source": [
    "proba = y1_proba * alpha_1 * 2 + y2_proba * alpha_2 * 2 + y3_proba * alpha_3 *2\n",
    "proba /= (alpha_1  + alpha_2 + alpha_3)*2\n",
    "proba"
   ]
  },
  {
   "cell_type": "markdown",
   "id": "37ce1cdc",
   "metadata": {},
   "source": [
    "第一列符号翻转（第一列和第二列差异增大，源码中查到）"
   ]
  },
  {
   "cell_type": "code",
   "execution_count": 50,
   "id": "cfc4dd1c",
   "metadata": {
    "ExecuteTime": {
     "end_time": "2022-05-04T11:10:06.369877Z",
     "start_time": "2022-05-04T11:10:06.359831Z"
    }
   },
   "outputs": [
    {
     "data": {
      "text/plain": [
       "array([[-0.4120017 ,  0.5879983 ],\n",
       "       [-0.4120017 ,  0.5879983 ],\n",
       "       [-0.4120017 ,  0.5879983 ],\n",
       "       [-0.64409624,  0.35590376],\n",
       "       [-0.64409624,  0.35590376],\n",
       "       [-0.64409624,  0.35590376],\n",
       "       [-0.23209454,  0.76790546],\n",
       "       [-0.23209454,  0.76790546],\n",
       "       [-0.23209454,  0.76790546],\n",
       "       [-0.5879983 ,  0.4120017 ]])"
      ]
     },
     "execution_count": 50,
     "metadata": {},
     "output_type": "execute_result"
    }
   ],
   "source": [
    "proba[:,0] *= -1\n",
    "proba"
   ]
  },
  {
   "cell_type": "code",
   "execution_count": 51,
   "id": "2d18d521",
   "metadata": {
    "ExecuteTime": {
     "end_time": "2022-05-04T11:10:28.680772Z",
     "start_time": "2022-05-04T11:10:28.670658Z"
    }
   },
   "outputs": [
    {
     "data": {
      "text/plain": [
       "array([ 0.1759966 ,  0.1759966 ,  0.1759966 , -0.28819249, -0.28819249,\n",
       "       -0.28819249,  0.53581091,  0.53581091,  0.53581091, -0.1759966 ])"
      ]
     },
     "execution_count": 51,
     "metadata": {},
     "output_type": "execute_result"
    }
   ],
   "source": [
    "# 求和，融合\n",
    "proba = proba.sum(axis = 1)\n",
    "proba"
   ]
  },
  {
   "cell_type": "code",
   "execution_count": 52,
   "id": "7d4223c2",
   "metadata": {
    "ExecuteTime": {
     "end_time": "2022-05-04T11:10:59.204578Z",
     "start_time": "2022-05-04T11:10:59.190899Z"
    }
   },
   "outputs": [
    {
     "data": {
      "text/plain": [
       "array([[-0.0879983 ,  0.0879983 ],\n",
       "       [-0.0879983 ,  0.0879983 ],\n",
       "       [-0.0879983 ,  0.0879983 ],\n",
       "       [ 0.14409624, -0.14409624],\n",
       "       [ 0.14409624, -0.14409624],\n",
       "       [ 0.14409624, -0.14409624],\n",
       "       [-0.26790546,  0.26790546],\n",
       "       [-0.26790546,  0.26790546],\n",
       "       [-0.26790546,  0.26790546],\n",
       "       [ 0.0879983 , -0.0879983 ]])"
      ]
     },
     "execution_count": 52,
     "metadata": {},
     "output_type": "execute_result"
    }
   ],
   "source": [
    "# 拆分，\n",
    "proba = np.vstack([-proba,proba]).T/2\n",
    "proba"
   ]
  },
  {
   "cell_type": "code",
   "execution_count": 53,
   "id": "96954de0",
   "metadata": {
    "ExecuteTime": {
     "end_time": "2022-05-04T11:11:08.815331Z",
     "start_time": "2022-05-04T11:11:08.799153Z"
    }
   },
   "outputs": [
    {
     "data": {
      "text/plain": [
       "array([[0.45611407, 0.54388593],\n",
       "       [0.45611407, 0.54388593],\n",
       "       [0.45611407, 0.54388593],\n",
       "       [0.57155357, 0.42844643],\n",
       "       [0.57155357, 0.42844643],\n",
       "       [0.57155357, 0.42844643],\n",
       "       [0.36916261, 0.63083739],\n",
       "       [0.36916261, 0.63083739],\n",
       "       [0.36916261, 0.63083739],\n",
       "       [0.54388593, 0.45611407]])"
      ]
     },
     "execution_count": 53,
     "metadata": {},
     "output_type": "execute_result"
    }
   ],
   "source": [
    "# softmax归一化\n",
    "np.exp(proba)/(np.exp(proba)).sum(axis = 1).reshape(-1,1)"
   ]
  },
  {
   "cell_type": "code",
   "execution_count": 54,
   "id": "032479f2",
   "metadata": {
    "ExecuteTime": {
     "end_time": "2022-05-04T11:11:20.252112Z",
     "start_time": "2022-05-04T11:11:20.240462Z"
    }
   },
   "outputs": [
    {
     "data": {
      "text/plain": [
       "array([[0.45611407, 0.54388593],\n",
       "       [0.45611407, 0.54388593],\n",
       "       [0.45611407, 0.54388593],\n",
       "       [0.57155357, 0.42844643],\n",
       "       [0.57155357, 0.42844643],\n",
       "       [0.57155357, 0.42844643],\n",
       "       [0.36916261, 0.63083739],\n",
       "       [0.36916261, 0.63083739],\n",
       "       [0.36916261, 0.63083739],\n",
       "       [0.54388593, 0.45611407]])"
      ]
     },
     "execution_count": 54,
     "metadata": {},
     "output_type": "execute_result"
    }
   ],
   "source": [
    "model.predict_proba(X)"
   ]
  },
  {
   "cell_type": "code",
   "execution_count": null,
   "id": "2efaa7c9",
   "metadata": {},
   "outputs": [],
   "source": []
  }
 ],
 "metadata": {
  "hide_input": false,
  "kernelspec": {
   "display_name": "Python 3 (ipykernel)",
   "language": "python",
   "name": "python3"
  },
  "language_info": {
   "codemirror_mode": {
    "name": "ipython",
    "version": 3
   },
   "file_extension": ".py",
   "mimetype": "text/x-python",
   "name": "python",
   "nbconvert_exporter": "python",
   "pygments_lexer": "ipython3",
   "version": "3.9.7"
  },
  "nbTranslate": {
   "displayLangs": [
    "*"
   ],
   "hotkey": "alt-t",
   "langInMainMenu": true,
   "sourceLang": "en",
   "targetLang": "fr",
   "useGoogleTranslate": true
  },
  "toc": {
   "base_numbering": 1,
   "nav_menu": {},
   "number_sections": true,
   "sideBar": true,
   "skip_h1_title": false,
   "title_cell": "Table of Contents",
   "title_sidebar": "Contents",
   "toc_cell": false,
   "toc_position": {},
   "toc_section_display": true,
   "toc_window_display": true
  },
  "varInspector": {
   "cols": {
    "lenName": 16,
    "lenType": 16,
    "lenVar": 40
   },
   "kernels_config": {
    "python": {
     "delete_cmd_postfix": "",
     "delete_cmd_prefix": "del ",
     "library": "var_list.py",
     "varRefreshCmd": "print(var_dic_list())"
    },
    "r": {
     "delete_cmd_postfix": ") ",
     "delete_cmd_prefix": "rm(",
     "library": "var_list.r",
     "varRefreshCmd": "cat(var_dic_list()) "
    }
   },
   "position": {
    "height": "298px",
    "left": "1377px",
    "right": "20px",
    "top": "230px",
    "width": "350px"
   },
   "types_to_exclude": [
    "module",
    "function",
    "builtin_function_or_method",
    "instance",
    "_Feature"
   ],
   "window_display": true
  }
 },
 "nbformat": 4,
 "nbformat_minor": 5
}
