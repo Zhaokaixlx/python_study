{
 "cells": [
  {
   "cell_type": "code",
   "execution_count": 1,
   "id": "4dff5a7f",
   "metadata": {
    "ExecuteTime": {
     "end_time": "2022-04-19T10:00:10.847282Z",
     "start_time": "2022-04-19T10:00:10.610608Z"
    }
   },
   "outputs": [],
   "source": [
    "import numpy as np\n",
    "import matplotlib.pyplot as plt"
   ]
  },
  {
   "cell_type": "markdown",
   "id": "e4612577",
   "metadata": {
    "heading_collapsed": true
   },
   "source": [
    "### L1可视化"
   ]
  },
  {
   "cell_type": "markdown",
   "id": "02b21e3c",
   "metadata": {
    "hidden": true
   },
   "source": [
    "$ f(x,y) = alpha(|x| + |y|) $ "
   ]
  },
  {
   "cell_type": "code",
   "execution_count": 4,
   "id": "0a0e0bfc",
   "metadata": {
    "ExecuteTime": {
     "end_time": "2022-04-19T10:08:32.306268Z",
     "start_time": "2022-04-19T10:08:32.200814Z"
    },
    "hidden": true
   },
   "outputs": [
    {
     "data": {
      "text/plain": [
       "[<matplotlib.lines.Line2D at 0x7ff7394e0820>]"
      ]
     },
     "execution_count": 4,
     "metadata": {},
     "output_type": "execute_result"
    },
    {
     "data": {
      "image/png": "[encoded data removed]",
      "text/plain": [
       "<Figure size 432x432 with 1 Axes>"
      ]
     },
     "metadata": {
      "needs_background": "light"
     },
     "output_type": "display_data"
    }
   ],
   "source": [
    "# 令 f(x,y) = 1绘制图形，在平面中\n",
    "# 1 = |x| + |y|\n",
    "\n",
    "# 假设x，y都是大于零,alpha = 1,令 alpha = 0.5\n",
    "# 1 = 0.5(x + y)\n",
    "# y = 2 - x\n",
    "fun1 = lambda x :1 - x\n",
    "\n",
    "x1 = np.linspace(0,1,50)\n",
    "y1 = fun1(x1)\n",
    "plt.figure(figsize=(6,6))\n",
    "plt.plot(x1,y1,color ='g')\n",
    "\n",
    "plt.xlim(-2,2)\n",
    "plt.ylim(-2,2)\n",
    "ax = plt.gca() # 获取当前视图\n",
    "\n",
    "ax.spines['right'].set_color('None')\n",
    "ax.spines['top'].set_color('None')\n",
    "ax.spines['bottom'].set_position(('data',0))\n",
    "ax.spines['left'].set_position(('data',0))\n",
    "# 假设x，y小于0\n",
    "# 1 = -x -y\n",
    "fun2 = lambda x : - x -1\n",
    "x2 = np.linspace(-1,0,50)\n",
    "y2 = fun2(x2)\n",
    "plt.plot(x2,y2,color ='k')\n",
    "\n",
    "# 假设x大于0，y小于0\n",
    "# 1 = x -y\n",
    "fun3 = lambda x : x -1\n",
    "x3 = np.linspace(0,1,50)\n",
    "y3 = fun3(x3)\n",
    "plt.plot(x3,y3,color ='k')\n",
    "\n",
    "# 假设x小于0，y大于0\n",
    "# 1 = -x + y\n",
    "fun4 = lambda x : 1 + x\n",
    "x4 = np.linspace(-1,0,50)\n",
    "y4 = fun4(x4)\n",
    "plt.plot(x4,y4,color ='k')"
   ]
  },
  {
   "cell_type": "markdown",
   "id": "b5a38661",
   "metadata": {
    "hidden": true
   },
   "source": [
    "$ y = x**2 + 3x $ "
   ]
  },
  {
   "cell_type": "code",
   "execution_count": 5,
   "id": "903726ac",
   "metadata": {
    "ExecuteTime": {
     "end_time": "2022-04-19T10:10:42.606665Z",
     "start_time": "2022-04-19T10:10:42.591268Z"
    },
    "hidden": true
   },
   "outputs": [
    {
     "data": {
      "text/plain": [
       "array([2, 8, 7, 9, 5, 3, 4, 3, 9, 9])"
      ]
     },
     "execution_count": 5,
     "metadata": {},
     "output_type": "execute_result"
    }
   ],
   "source": [
    "np.random.randint(0,10,size = 10)"
   ]
  },
  {
   "cell_type": "code",
   "execution_count": 6,
   "id": "6ab56576",
   "metadata": {
    "ExecuteTime": {
     "end_time": "2022-04-19T10:11:18.154115Z",
     "start_time": "2022-04-19T10:11:18.142712Z"
    },
    "hidden": true
   },
   "outputs": [
    {
     "data": {
      "text/plain": [
       "array([[2, 1, 1],\n",
       "       [6, 6, 5],\n",
       "       [8, 5, 1],\n",
       "       [7, 3, 9],\n",
       "       [4, 7, 6]])"
      ]
     },
     "execution_count": 6,
     "metadata": {},
     "output_type": "execute_result"
    }
   ],
   "source": [
    "np.random.randint(0,10,size =(5,3))"
   ]
  },
  {
   "cell_type": "code",
   "execution_count": 7,
   "id": "40d4a3f9",
   "metadata": {
    "ExecuteTime": {
     "end_time": "2022-04-19T10:11:33.760916Z",
     "start_time": "2022-04-19T10:11:33.712549Z"
    },
    "hidden": true
   },
   "outputs": [
    {
     "data": {
      "text/plain": [
       "array([[[[[[3, 3, 1, ..., 4, 6, 4],\n",
       "           [0, 7, 2, ..., 2, 7, 8],\n",
       "           [3, 3, 6, ..., 5, 7, 6],\n",
       "           ...,\n",
       "           [8, 1, 0, ..., 2, 2, 1],\n",
       "           [2, 5, 1, ..., 5, 7, 4],\n",
       "           [3, 2, 0, ..., 0, 7, 1]],\n",
       "\n",
       "          [[4, 3, 9, ..., 1, 0, 1],\n",
       "           [1, 4, 9, ..., 1, 5, 6],\n",
       "           [9, 6, 9, ..., 0, 6, 5],\n",
       "           ...,\n",
       "           [8, 2, 0, ..., 5, 4, 1],\n",
       "           [2, 3, 0, ..., 6, 3, 7],\n",
       "           [3, 7, 0, ..., 5, 9, 3]],\n",
       "\n",
       "          [[7, 7, 0, ..., 9, 9, 2],\n",
       "           [3, 7, 6, ..., 1, 4, 6],\n",
       "           [8, 5, 3, ..., 7, 9, 4],\n",
       "           ...,\n",
       "           [2, 0, 9, ..., 0, 9, 4],\n",
       "           [2, 9, 2, ..., 8, 4, 6],\n",
       "           [8, 4, 3, ..., 1, 4, 9]],\n",
       "\n",
       "          [[0, 3, 5, ..., 8, 8, 9],\n",
       "           [4, 2, 4, ..., 3, 4, 5],\n",
       "           [8, 7, 9, ..., 8, 8, 6],\n",
       "           ...,\n",
       "           [9, 6, 7, ..., 3, 0, 0],\n",
       "           [1, 1, 2, ..., 8, 6, 3],\n",
       "           [6, 8, 8, ..., 8, 0, 7]],\n",
       "\n",
       "          [[9, 2, 7, ..., 2, 9, 6],\n",
       "           [6, 6, 5, ..., 9, 7, 1],\n",
       "           [5, 8, 4, ..., 5, 2, 9],\n",
       "           ...,\n",
       "           [4, 7, 4, ..., 9, 0, 2],\n",
       "           [2, 3, 7, ..., 6, 9, 0],\n",
       "           [4, 5, 9, ..., 2, 4, 7]],\n",
       "\n",
       "          [[4, 8, 7, ..., 3, 1, 6],\n",
       "           [6, 0, 8, ..., 9, 6, 0],\n",
       "           [6, 3, 0, ..., 7, 0, 3],\n",
       "           ...,\n",
       "           [3, 2, 9, ..., 2, 2, 3],\n",
       "           [0, 7, 6, ..., 1, 7, 3],\n",
       "           [5, 0, 9, ..., 2, 4, 3]]],\n",
       "\n",
       "\n",
       "         [[[5, 0, 3, ..., 9, 6, 5],\n",
       "           [8, 8, 1, ..., 0, 0, 1],\n",
       "           [7, 2, 7, ..., 9, 7, 7],\n",
       "           ...,\n",
       "           [7, 4, 5, ..., 3, 4, 2],\n",
       "           [7, 3, 7, ..., 8, 0, 5],\n",
       "           [1, 8, 7, ..., 8, 6, 2]],\n",
       "\n",
       "          [[8, 0, 5, ..., 2, 6, 6],\n",
       "           [5, 9, 8, ..., 2, 6, 2],\n",
       "           [0, 3, 2, ..., 2, 6, 6],\n",
       "           ...,\n",
       "           [4, 8, 1, ..., 9, 7, 9],\n",
       "           [5, 4, 7, ..., 7, 4, 4],\n",
       "           [0, 1, 0, ..., 5, 5, 3]],\n",
       "\n",
       "          [[2, 7, 8, ..., 5, 2, 7],\n",
       "           [0, 2, 5, ..., 8, 6, 4],\n",
       "           [0, 8, 8, ..., 9, 6, 6],\n",
       "           ...,\n",
       "           [3, 3, 9, ..., 0, 4, 7],\n",
       "           [4, 4, 7, ..., 4, 0, 0],\n",
       "           [8, 7, 2, ..., 4, 3, 7]],\n",
       "\n",
       "          [[9, 7, 8, ..., 3, 0, 4],\n",
       "           [4, 9, 7, ..., 7, 6, 9],\n",
       "           [5, 1, 5, ..., 7, 8, 6],\n",
       "           ...,\n",
       "           [8, 1, 9, ..., 0, 7, 0],\n",
       "           [4, 2, 4, ..., 3, 2, 2],\n",
       "           [2, 4, 0, ..., 3, 6, 0]],\n",
       "\n",
       "          [[5, 2, 2, ..., 6, 4, 1],\n",
       "           [8, 0, 8, ..., 2, 8, 7],\n",
       "           [5, 7, 3, ..., 4, 0, 3],\n",
       "           ...,\n",
       "           [3, 3, 4, ..., 5, 9, 3],\n",
       "           [2, 2, 2, ..., 8, 6, 4],\n",
       "           [3, 7, 0, ..., 2, 9, 1]],\n",
       "\n",
       "          [[4, 8, 2, ..., 8, 7, 0],\n",
       "           [4, 0, 5, ..., 7, 7, 6],\n",
       "           [8, 1, 7, ..., 5, 2, 4],\n",
       "           ...,\n",
       "           [2, 4, 2, ..., 7, 8, 7],\n",
       "           [6, 5, 7, ..., 7, 3, 1],\n",
       "           [3, 2, 3, ..., 2, 8, 9]]],\n",
       "\n",
       "\n",
       "         [[[9, 9, 1, ..., 5, 8, 3],\n",
       "           [0, 7, 4, ..., 6, 4, 5],\n",
       "           [2, 5, 1, ..., 1, 1, 1],\n",
       "           ...,\n",
       "           [9, 1, 9, ..., 2, 5, 2],\n",
       "           [0, 6, 0, ..., 1, 2, 4],\n",
       "           [5, 8, 7, ..., 2, 8, 3]],\n",
       "\n",
       "          [[8, 6, 2, ..., 6, 6, 0],\n",
       "           [0, 2, 9, ..., 4, 5, 0],\n",
       "           [6, 4, 0, ..., 0, 4, 7],\n",
       "           ...,\n",
       "           [6, 2, 0, ..., 7, 9, 9],\n",
       "           [9, 3, 7, ..., 8, 0, 1],\n",
       "           [8, 5, 7, ..., 7, 0, 1]],\n",
       "\n",
       "          [[7, 0, 0, ..., 6, 2, 8],\n",
       "           [7, 9, 0, ..., 0, 8, 0],\n",
       "           [9, 3, 4, ..., 9, 1, 0],\n",
       "           ...,\n",
       "           [5, 6, 7, ..., 3, 4, 8],\n",
       "           [3, 5, 9, ..., 5, 8, 9],\n",
       "           [2, 6, 3, ..., 7, 2, 6]],\n",
       "\n",
       "          [[9, 2, 1, ..., 6, 7, 0],\n",
       "           [0, 2, 2, ..., 5, 3, 9],\n",
       "           [0, 6, 8, ..., 4, 8, 8],\n",
       "           ...,\n",
       "           [0, 9, 2, ..., 0, 8, 7],\n",
       "           [2, 0, 6, ..., 4, 9, 5],\n",
       "           [5, 9, 5, ..., 9, 0, 1]],\n",
       "\n",
       "          [[9, 8, 7, ..., 9, 0, 1],\n",
       "           [9, 2, 6, ..., 2, 4, 1],\n",
       "           [2, 5, 3, ..., 4, 7, 2],\n",
       "           ...,\n",
       "           [0, 4, 5, ..., 2, 2, 3],\n",
       "           [7, 6, 9, ..., 5, 2, 5],\n",
       "           [5, 5, 3, ..., 9, 7, 4]],\n",
       "\n",
       "          [[2, 5, 4, ..., 3, 5, 1],\n",
       "           [5, 8, 2, ..., 2, 1, 5],\n",
       "           [3, 9, 1, ..., 5, 5, 4],\n",
       "           ...,\n",
       "           [1, 7, 9, ..., 9, 7, 5],\n",
       "           [4, 1, 1, ..., 1, 3, 2],\n",
       "           [2, 1, 9, ..., 7, 8, 4]]],\n",
       "\n",
       "\n",
       "         [[[2, 9, 9, ..., 3, 6, 7],\n",
       "           [7, 9, 0, ..., 1, 9, 8],\n",
       "           [8, 3, 9, ..., 5, 5, 0],\n",
       "           ...,\n",
       "           [4, 3, 6, ..., 6, 3, 6],\n",
       "           [5, 6, 4, ..., 8, 3, 1],\n",
       "           [7, 4, 4, ..., 5, 5, 9]],\n",
       "\n",
       "          [[2, 4, 7, ..., 9, 7, 9],\n",
       "           [2, 0, 0, ..., 7, 1, 2],\n",
       "           [8, 4, 7, ..., 5, 9, 1],\n",
       "           ...,\n",
       "           [7, 8, 0, ..., 5, 6, 8],\n",
       "           [0, 2, 5, ..., 4, 0, 8],\n",
       "           [6, 2, 3, ..., 1, 2, 0]],\n",
       "\n",
       "          [[6, 0, 7, ..., 6, 4, 9],\n",
       "           [9, 1, 8, ..., 8, 8, 8],\n",
       "           [1, 8, 5, ..., 7, 6, 7],\n",
       "           ...,\n",
       "           [8, 0, 2, ..., 5, 5, 7],\n",
       "           [0, 8, 3, ..., 9, 1, 0],\n",
       "           [6, 6, 1, ..., 8, 8, 8]],\n",
       "\n",
       "          [[6, 5, 0, ..., 2, 6, 4],\n",
       "           [6, 8, 0, ..., 7, 3, 7],\n",
       "           [8, 0, 1, ..., 2, 1, 1],\n",
       "           ...,\n",
       "           [9, 0, 5, ..., 3, 9, 8],\n",
       "           [8, 7, 5, ..., 1, 3, 5],\n",
       "           [2, 3, 2, ..., 9, 3, 6]],\n",
       "\n",
       "          [[7, 9, 4, ..., 7, 3, 0],\n",
       "           [3, 9, 4, ..., 3, 1, 7],\n",
       "           [5, 6, 2, ..., 9, 1, 9],\n",
       "           ...,\n",
       "           [3, 9, 2, ..., 4, 0, 9],\n",
       "           [8, 3, 1, ..., 3, 4, 7],\n",
       "           [2, 6, 5, ..., 2, 0, 5]],\n",
       "\n",
       "          [[9, 3, 4, ..., 4, 9, 7],\n",
       "           [0, 4, 8, ..., 1, 4, 3],\n",
       "           [0, 9, 0, ..., 2, 3, 0],\n",
       "           ...,\n",
       "           [7, 2, 7, ..., 0, 7, 7],\n",
       "           [9, 7, 2, ..., 8, 6, 0],\n",
       "           [1, 7, 7, ..., 8, 6, 5]]],\n",
       "\n",
       "\n",
       "         [[[6, 2, 8, ..., 1, 4, 4],\n",
       "           [8, 8, 6, ..., 7, 9, 8],\n",
       "           [4, 8, 8, ..., 3, 7, 0],\n",
       "           ...,\n",
       "           [4, 1, 6, ..., 0, 3, 5],\n",
       "           [9, 0, 4, ..., 5, 4, 2],\n",
       "           [8, 3, 9, ..., 6, 9, 1]],\n",
       "\n",
       "          [[9, 5, 6, ..., 4, 7, 5],\n",
       "           [9, 5, 2, ..., 4, 3, 3],\n",
       "           [9, 3, 4, ..., 9, 5, 3],\n",
       "           ...,\n",
       "           [9, 3, 5, ..., 5, 7, 2],\n",
       "           [5, 3, 2, ..., 0, 6, 3],\n",
       "           [2, 3, 8, ..., 1, 2, 9]],\n",
       "\n",
       "          [[2, 3, 1, ..., 8, 9, 7],\n",
       "           [4, 2, 8, ..., 4, 1, 2],\n",
       "           [5, 3, 9, ..., 7, 1, 7],\n",
       "           ...,\n",
       "           [1, 2, 2, ..., 8, 8, 1],\n",
       "           [8, 2, 8, ..., 3, 9, 8],\n",
       "           [8, 6, 0, ..., 0, 5, 2]],\n",
       "\n",
       "          [[6, 2, 7, ..., 1, 2, 0],\n",
       "           [4, 2, 0, ..., 3, 0, 1],\n",
       "           [1, 2, 7, ..., 1, 6, 7],\n",
       "           ...,\n",
       "           [1, 4, 5, ..., 7, 9, 5],\n",
       "           [9, 4, 9, ..., 7, 3, 9],\n",
       "           [7, 8, 5, ..., 9, 7, 0]],\n",
       "\n",
       "          [[4, 0, 4, ..., 9, 7, 5],\n",
       "           [0, 4, 2, ..., 8, 8, 5],\n",
       "           [0, 2, 0, ..., 6, 6, 1],\n",
       "           ...,\n",
       "           [5, 8, 6, ..., 8, 9, 9],\n",
       "           [7, 1, 4, ..., 0, 6, 5],\n",
       "           [9, 6, 2, ..., 2, 4, 1]],\n",
       "\n",
       "          [[1, 3, 2, ..., 5, 2, 8],\n",
       "           [1, 0, 0, ..., 4, 7, 2],\n",
       "           [0, 1, 0, ..., 8, 4, 6],\n",
       "           ...,\n",
       "           [4, 7, 8, ..., 6, 2, 5],\n",
       "           [7, 5, 9, ..., 1, 4, 6],\n",
       "           [7, 0, 0, ..., 3, 5, 1]]]],\n",
       "\n",
       "\n",
       "\n",
       "        [[[[9, 5, 2, ..., 6, 4, 6],\n",
       "           [4, 0, 3, ..., 1, 9, 6],\n",
       "           [8, 4, 9, ..., 7, 5, 0],\n",
       "           ...,\n",
       "           [8, 7, 8, ..., 1, 2, 0],\n",
       "           [2, 7, 2, ..., 6, 6, 8],\n",
       "           [3, 0, 8, ..., 1, 1, 9]],\n",
       "\n",
       "          [[6, 5, 9, ..., 4, 1, 5],\n",
       "           [5, 7, 5, ..., 1, 0, 4],\n",
       "           [9, 8, 5, ..., 8, 9, 2],\n",
       "           ...,\n",
       "           [6, 0, 1, ..., 1, 7, 7],\n",
       "           [4, 2, 7, ..., 3, 7, 3],\n",
       "           [9, 0, 4, ..., 4, 2, 8]],\n",
       "\n",
       "          [[5, 1, 1, ..., 6, 3, 7],\n",
       "           [4, 1, 5, ..., 1, 1, 6],\n",
       "           [0, 3, 9, ..., 9, 5, 4],\n",
       "           ...,\n",
       "           [4, 4, 2, ..., 5, 8, 6],\n",
       "           [7, 4, 4, ..., 6, 2, 8],\n",
       "           [3, 8, 5, ..., 3, 3, 9]],\n",
       "\n",
       "          [[0, 3, 3, ..., 9, 8, 0],\n",
       "           [6, 7, 4, ..., 7, 4, 6],\n",
       "           [3, 1, 7, ..., 5, 1, 5],\n",
       "           ...,\n",
       "           [9, 1, 2, ..., 5, 0, 4],\n",
       "           [4, 4, 1, ..., 6, 0, 4],\n",
       "           [8, 6, 1, ..., 2, 1, 0]],\n",
       "\n",
       "          [[5, 9, 1, ..., 2, 6, 4],\n",
       "           [9, 8, 0, ..., 4, 7, 6],\n",
       "           [9, 7, 9, ..., 2, 2, 2],\n",
       "           ...,\n",
       "           [9, 9, 1, ..., 3, 8, 3],\n",
       "           [3, 9, 5, ..., 5, 0, 4],\n",
       "           [3, 5, 0, ..., 7, 2, 3]],\n",
       "\n",
       "          [[5, 6, 3, ..., 2, 7, 9],\n",
       "           [2, 7, 0, ..., 8, 9, 9],\n",
       "           [0, 1, 7, ..., 5, 1, 5],\n",
       "           ...,\n",
       "           [1, 4, 4, ..., 7, 2, 1],\n",
       "           [8, 5, 2, ..., 7, 8, 8],\n",
       "           [8, 0, 2, ..., 2, 2, 4]]],\n",
       "\n",
       "\n",
       "         [[[4, 5, 0, ..., 3, 3, 3],\n",
       "           [0, 4, 7, ..., 8, 4, 4],\n",
       "           [3, 6, 1, ..., 1, 2, 3],\n",
       "           ...,\n",
       "           [7, 5, 1, ..., 9, 3, 0],\n",
       "           [9, 3, 7, ..., 9, 3, 6],\n",
       "           [3, 6, 9, ..., 1, 9, 6]],\n",
       "\n",
       "          [[8, 3, 5, ..., 7, 9, 7],\n",
       "           [9, 4, 3, ..., 8, 8, 2],\n",
       "           [6, 0, 9, ..., 1, 5, 4],\n",
       "           ...,\n",
       "           [0, 6, 5, ..., 3, 6, 8],\n",
       "           [8, 2, 7, ..., 2, 5, 5],\n",
       "           [1, 9, 9, ..., 1, 9, 7]],\n",
       "\n",
       "          [[9, 2, 0, ..., 8, 9, 9],\n",
       "           [6, 4, 5, ..., 2, 3, 9],\n",
       "           [0, 4, 1, ..., 5, 6, 1],\n",
       "           ...,\n",
       "           [9, 9, 0, ..., 0, 6, 0],\n",
       "           [2, 4, 2, ..., 3, 8, 2],\n",
       "           [7, 8, 5, ..., 0, 3, 5]],\n",
       "\n",
       "          [[6, 6, 6, ..., 7, 0, 4],\n",
       "           [8, 1, 5, ..., 3, 2, 7],\n",
       "           [9, 9, 6, ..., 1, 6, 0],\n",
       "           ...,\n",
       "           [7, 3, 2, ..., 0, 6, 4],\n",
       "           [2, 0, 3, ..., 8, 7, 4],\n",
       "           [8, 4, 3, ..., 3, 9, 9]],\n",
       "\n",
       "          [[6, 9, 3, ..., 0, 0, 7],\n",
       "           [9, 9, 9, ..., 8, 1, 4],\n",
       "           [1, 7, 0, ..., 7, 2, 1],\n",
       "           ...,\n",
       "           [1, 0, 0, ..., 8, 0, 5],\n",
       "           [8, 1, 0, ..., 8, 6, 9],\n",
       "           [2, 1, 2, ..., 1, 0, 2]],\n",
       "\n",
       "          [[1, 5, 6, ..., 4, 9, 4],\n",
       "           [3, 4, 4, ..., 6, 3, 7],\n",
       "           [8, 4, 3, ..., 8, 3, 2],\n",
       "           ...,\n",
       "           [2, 2, 5, ..., 0, 0, 6],\n",
       "           [7, 1, 2, ..., 0, 6, 8],\n",
       "           [9, 2, 4, ..., 5, 8, 4]]],\n",
       "\n",
       "\n",
       "         [[[5, 5, 2, ..., 3, 1, 3],\n",
       "           [5, 0, 9, ..., 4, 4, 7],\n",
       "           [0, 0, 3, ..., 2, 0, 6],\n",
       "           ...,\n",
       "           [0, 9, 5, ..., 6, 0, 2],\n",
       "           [5, 8, 1, ..., 5, 4, 8],\n",
       "           [6, 2, 9, ..., 5, 6, 9]],\n",
       "\n",
       "          [[2, 4, 7, ..., 3, 2, 4],\n",
       "           [9, 5, 4, ..., 7, 6, 9],\n",
       "           [4, 6, 2, ..., 9, 0, 6],\n",
       "           ...,\n",
       "           [1, 5, 0, ..., 4, 3, 2],\n",
       "           [3, 7, 0, ..., 4, 3, 4],\n",
       "           [7, 7, 3, ..., 6, 1, 8]],\n",
       "\n",
       "          [[9, 2, 9, ..., 3, 9, 3],\n",
       "           [3, 6, 3, ..., 1, 3, 6],\n",
       "           [2, 7, 0, ..., 8, 3, 6],\n",
       "           ...,\n",
       "           [8, 2, 3, ..., 7, 8, 7],\n",
       "           [7, 6, 0, ..., 9, 6, 8],\n",
       "           [9, 6, 2, ..., 6, 0, 0]],\n",
       "\n",
       "          [[7, 7, 0, ..., 6, 2, 0],\n",
       "           [0, 6, 6, ..., 6, 9, 4],\n",
       "           [3, 3, 9, ..., 8, 1, 4],\n",
       "           ...,\n",
       "           [4, 6, 2, ..., 8, 6, 1],\n",
       "           [3, 4, 0, ..., 4, 3, 0],\n",
       "           [8, 2, 5, ..., 4, 2, 3]],\n",
       "\n",
       "          [[4, 3, 0, ..., 2, 5, 6],\n",
       "           [7, 6, 6, ..., 5, 3, 6],\n",
       "           [3, 6, 0, ..., 8, 3, 0],\n",
       "           ...,\n",
       "           [2, 1, 4, ..., 8, 1, 4],\n",
       "           [2, 3, 1, ..., 0, 2, 9],\n",
       "           [8, 7, 2, ..., 3, 8, 6]],\n",
       "\n",
       "          [[8, 7, 1, ..., 0, 1, 0],\n",
       "           [4, 5, 9, ..., 2, 1, 5],\n",
       "           [4, 5, 3, ..., 4, 1, 9],\n",
       "           ...,\n",
       "           [8, 9, 5, ..., 4, 5, 8],\n",
       "           [6, 1, 1, ..., 6, 6, 7],\n",
       "           [7, 2, 7, ..., 8, 0, 3]]],\n",
       "\n",
       "\n",
       "         [[[6, 3, 1, ..., 9, 9, 3],\n",
       "           [3, 7, 2, ..., 4, 7, 2],\n",
       "           [2, 9, 6, ..., 6, 2, 3],\n",
       "           ...,\n",
       "           [9, 5, 7, ..., 6, 4, 7],\n",
       "           [3, 1, 3, ..., 2, 8, 6],\n",
       "           [1, 8, 8, ..., 7, 7, 5]],\n",
       "\n",
       "          [[5, 5, 6, ..., 9, 1, 6],\n",
       "           [4, 9, 3, ..., 1, 7, 6],\n",
       "           [5, 8, 0, ..., 2, 2, 7],\n",
       "           ...,\n",
       "           [0, 0, 7, ..., 4, 0, 2],\n",
       "           [8, 8, 0, ..., 9, 8, 6],\n",
       "           [0, 5, 7, ..., 1, 0, 4]],\n",
       "\n",
       "          [[2, 1, 7, ..., 7, 1, 5],\n",
       "           [2, 6, 2, ..., 0, 4, 4],\n",
       "           [3, 0, 0, ..., 8, 8, 6],\n",
       "           ...,\n",
       "           [0, 3, 7, ..., 4, 6, 7],\n",
       "           [7, 3, 4, ..., 1, 3, 4],\n",
       "           [1, 7, 8, ..., 0, 9, 7]],\n",
       "\n",
       "          [[6, 7, 9, ..., 0, 2, 9],\n",
       "           [5, 1, 5, ..., 3, 7, 4],\n",
       "           [6, 3, 9, ..., 1, 6, 0],\n",
       "           ...,\n",
       "           [1, 9, 0, ..., 4, 3, 4],\n",
       "           [9, 8, 4, ..., 1, 1, 6],\n",
       "           [2, 3, 0, ..., 5, 6, 5]],\n",
       "\n",
       "          [[5, 1, 0, ..., 0, 4, 1],\n",
       "           [4, 0, 0, ..., 5, 1, 6],\n",
       "           [9, 4, 5, ..., 1, 3, 9],\n",
       "           ...,\n",
       "           [8, 7, 9, ..., 5, 5, 5],\n",
       "           [5, 4, 6, ..., 5, 5, 6],\n",
       "           [8, 7, 0, ..., 3, 7, 7]],\n",
       "\n",
       "          [[4, 3, 8, ..., 9, 8, 0],\n",
       "           [9, 0, 9, ..., 0, 3, 5],\n",
       "           [1, 2, 5, ..., 9, 7, 1],\n",
       "           ...,\n",
       "           [9, 7, 7, ..., 0, 2, 6],\n",
       "           [8, 1, 5, ..., 9, 2, 7],\n",
       "           [5, 0, 1, ..., 9, 7, 9]]],\n",
       "\n",
       "\n",
       "         [[[6, 4, 2, ..., 0, 4, 4],\n",
       "           [0, 4, 6, ..., 3, 8, 9],\n",
       "           [1, 9, 9, ..., 5, 3, 4],\n",
       "           ...,\n",
       "           [2, 5, 8, ..., 7, 3, 3],\n",
       "           [6, 0, 2, ..., 1, 3, 6],\n",
       "           [4, 4, 6, ..., 1, 7, 9]],\n",
       "\n",
       "          [[0, 0, 5, ..., 5, 4, 2],\n",
       "           [4, 6, 9, ..., 2, 5, 4],\n",
       "           [5, 3, 5, ..., 6, 3, 7],\n",
       "           ...,\n",
       "           [9, 9, 5, ..., 6, 0, 0],\n",
       "           [7, 2, 8, ..., 6, 9, 0],\n",
       "           [7, 7, 5, ..., 3, 0, 9]],\n",
       "\n",
       "          [[9, 5, 7, ..., 8, 9, 4],\n",
       "           [4, 6, 8, ..., 1, 7, 5],\n",
       "           [8, 8, 9, ..., 7, 1, 5],\n",
       "           ...,\n",
       "           [4, 2, 6, ..., 8, 1, 3],\n",
       "           [6, 1, 1, ..., 0, 6, 7],\n",
       "           [5, 3, 4, ..., 3, 8, 2]],\n",
       "\n",
       "          [[4, 7, 4, ..., 7, 8, 3],\n",
       "           [9, 4, 2, ..., 1, 4, 9],\n",
       "           [6, 3, 8, ..., 0, 8, 6],\n",
       "           ...,\n",
       "           [0, 8, 0, ..., 0, 0, 1],\n",
       "           [5, 3, 3, ..., 7, 8, 1],\n",
       "           [1, 0, 9, ..., 6, 1, 6]],\n",
       "\n",
       "          [[8, 5, 9, ..., 6, 9, 3],\n",
       "           [4, 4, 5, ..., 6, 6, 7],\n",
       "           [4, 6, 4, ..., 4, 5, 9],\n",
       "           ...,\n",
       "           [5, 3, 1, ..., 8, 3, 8],\n",
       "           [4, 2, 0, ..., 7, 0, 2],\n",
       "           [1, 2, 9, ..., 7, 9, 4]],\n",
       "\n",
       "          [[2, 8, 0, ..., 2, 9, 7],\n",
       "           [8, 1, 4, ..., 5, 9, 4],\n",
       "           [5, 9, 3, ..., 1, 5, 8],\n",
       "           ...,\n",
       "           [6, 7, 0, ..., 6, 7, 7],\n",
       "           [9, 5, 3, ..., 7, 3, 3],\n",
       "           [2, 2, 9, ..., 8, 2, 8]]]],\n",
       "\n",
       "\n",
       "\n",
       "        [[[[5, 3, 8, ..., 5, 5, 4],\n",
       "           [5, 8, 7, ..., 2, 9, 8],\n",
       "           [3, 4, 0, ..., 1, 1, 1],\n",
       "           ...,\n",
       "           [6, 0, 7, ..., 7, 8, 8],\n",
       "           [3, 2, 6, ..., 9, 0, 8],\n",
       "           [1, 0, 4, ..., 2, 3, 5]],\n",
       "\n",
       "          [[4, 9, 6, ..., 9, 0, 0],\n",
       "           [6, 4, 3, ..., 1, 1, 1],\n",
       "           [2, 2, 6, ..., 6, 9, 3],\n",
       "           ...,\n",
       "           [4, 0, 9, ..., 4, 8, 0],\n",
       "           [2, 3, 2, ..., 6, 9, 2],\n",
       "           [4, 8, 3, ..., 7, 3, 1]],\n",
       "\n",
       "          [[3, 1, 7, ..., 6, 0, 6],\n",
       "           [4, 1, 3, ..., 1, 2, 7],\n",
       "           [0, 1, 0, ..., 6, 0, 7],\n",
       "           ...,\n",
       "           [6, 0, 6, ..., 5, 4, 8],\n",
       "           [8, 0, 8, ..., 7, 7, 1],\n",
       "           [8, 1, 6, ..., 9, 8, 3]],\n",
       "\n",
       "          [[8, 1, 9, ..., 0, 7, 3],\n",
       "           [9, 0, 6, ..., 4, 7, 0],\n",
       "           [0, 9, 6, ..., 0, 1, 3],\n",
       "           ...,\n",
       "           [9, 9, 8, ..., 6, 8, 8],\n",
       "           [3, 2, 9, ..., 1, 7, 5],\n",
       "           [2, 9, 6, ..., 6, 3, 5]],\n",
       "\n",
       "          [[4, 7, 8, ..., 0, 5, 7],\n",
       "           [6, 5, 4, ..., 2, 5, 3],\n",
       "           [2, 1, 1, ..., 0, 4, 8],\n",
       "           ...,\n",
       "           [5, 5, 7, ..., 7, 7, 0],\n",
       "           [5, 7, 9, ..., 3, 2, 7],\n",
       "           [8, 7, 4, ..., 8, 3, 2]],\n",
       "\n",
       "          [[3, 7, 1, ..., 5, 5, 9],\n",
       "           [6, 9, 3, ..., 6, 5, 6],\n",
       "           [9, 5, 3, ..., 7, 2, 4],\n",
       "           ...,\n",
       "           [6, 3, 0, ..., 1, 4, 9],\n",
       "           [6, 3, 9, ..., 8, 9, 2],\n",
       "           [2, 7, 7, ..., 0, 8, 9]]],\n",
       "\n",
       "\n",
       "         [[[2, 6, 8, ..., 8, 6, 6],\n",
       "           [7, 4, 8, ..., 0, 9, 1],\n",
       "           [3, 1, 5, ..., 8, 8, 6],\n",
       "           ...,\n",
       "           [6, 7, 0, ..., 5, 4, 0],\n",
       "           [8, 5, 8, ..., 6, 0, 0],\n",
       "           [0, 0, 5, ..., 0, 8, 3]],\n",
       "\n",
       "          [[2, 0, 1, ..., 8, 7, 0],\n",
       "           [6, 0, 5, ..., 9, 9, 9],\n",
       "           [8, 7, 3, ..., 6, 2, 0],\n",
       "           ...,\n",
       "           [2, 0, 2, ..., 1, 0, 8],\n",
       "           [1, 6, 0, ..., 4, 5, 0],\n",
       "           [1, 5, 8, ..., 4, 7, 9]],\n",
       "\n",
       "          [[7, 1, 7, ..., 7, 4, 9],\n",
       "           [6, 7, 2, ..., 5, 0, 6],\n",
       "           [6, 8, 0, ..., 5, 2, 8],\n",
       "           ...,\n",
       "           [2, 5, 0, ..., 8, 6, 7],\n",
       "           [1, 5, 6, ..., 5, 7, 7],\n",
       "           [8, 6, 0, ..., 1, 7, 5]],\n",
       "\n",
       "          [[8, 8, 9, ..., 7, 4, 9],\n",
       "           [5, 3, 8, ..., 1, 4, 7],\n",
       "           [5, 5, 6, ..., 0, 1, 6],\n",
       "           ...,\n",
       "           [8, 3, 7, ..., 2, 8, 3],\n",
       "           [1, 3, 9, ..., 3, 8, 9],\n",
       "           [0, 4, 7, ..., 0, 7, 0]],\n",
       "\n",
       "          [[5, 5, 8, ..., 5, 9, 4],\n",
       "           [0, 3, 9, ..., 9, 5, 7],\n",
       "           [7, 6, 4, ..., 3, 6, 0],\n",
       "           ...,\n",
       "           [8, 2, 9, ..., 7, 7, 3],\n",
       "           [8, 8, 1, ..., 7, 9, 9],\n",
       "           [6, 7, 3, ..., 9, 0, 1]],\n",
       "\n",
       "          [[3, 2, 3, ..., 6, 7, 7],\n",
       "           [9, 2, 1, ..., 7, 9, 2],\n",
       "           [8, 5, 5, ..., 6, 3, 2],\n",
       "           ...,\n",
       "           [5, 3, 2, ..., 5, 2, 3],\n",
       "           [5, 5, 9, ..., 0, 6, 2],\n",
       "           [7, 9, 1, ..., 3, 5, 4]]],\n",
       "\n",
       "\n",
       "         [[[5, 3, 4, ..., 0, 0, 8],\n",
       "           [7, 3, 9, ..., 6, 6, 8],\n",
       "           [2, 1, 0, ..., 8, 3, 1],\n",
       "           ...,\n",
       "           [4, 0, 4, ..., 2, 8, 8],\n",
       "           [2, 9, 4, ..., 5, 7, 3],\n",
       "           [1, 1, 6, ..., 3, 6, 4]],\n",
       "\n",
       "          [[4, 3, 2, ..., 9, 8, 7],\n",
       "           [3, 7, 8, ..., 6, 4, 8],\n",
       "           [7, 0, 6, ..., 2, 1, 3],\n",
       "           ...,\n",
       "           [3, 7, 6, ..., 0, 9, 3],\n",
       "           [7, 8, 4, ..., 5, 1, 8],\n",
       "           [8, 4, 3, ..., 8, 4, 4]],\n",
       "\n",
       "          [[7, 3, 8, ..., 3, 4, 8],\n",
       "           [1, 7, 0, ..., 8, 1, 1],\n",
       "           [9, 8, 8, ..., 3, 9, 7],\n",
       "           ...,\n",
       "           [7, 6, 4, ..., 6, 1, 5],\n",
       "           [3, 1, 9, ..., 1, 6, 5],\n",
       "           [3, 5, 1, ..., 1, 7, 3]],\n",
       "\n",
       "          [[2, 2, 9, ..., 0, 5, 1],\n",
       "           [3, 6, 7, ..., 1, 4, 5],\n",
       "           [8, 5, 2, ..., 0, 1, 9],\n",
       "           ...,\n",
       "           [9, 7, 5, ..., 2, 4, 1],\n",
       "           [8, 1, 2, ..., 2, 8, 7],\n",
       "           [3, 0, 5, ..., 8, 8, 9]],\n",
       "\n",
       "          [[7, 6, 2, ..., 3, 9, 0],\n",
       "           [0, 5, 4, ..., 9, 8, 5],\n",
       "           [5, 9, 5, ..., 7, 0, 2],\n",
       "           ...,\n",
       "           [0, 7, 6, ..., 4, 0, 0],\n",
       "           [1, 0, 3, ..., 6, 9, 5],\n",
       "           [1, 7, 0, ..., 0, 4, 2]],\n",
       "\n",
       "          [[6, 7, 8, ..., 4, 3, 2],\n",
       "           [8, 0, 4, ..., 5, 4, 5],\n",
       "           [1, 4, 2, ..., 5, 1, 1],\n",
       "           ...,\n",
       "           [4, 8, 7, ..., 7, 1, 6],\n",
       "           [2, 7, 7, ..., 3, 0, 7],\n",
       "           [8, 4, 7, ..., 6, 3, 3]]],\n",
       "\n",
       "\n",
       "         [[[8, 0, 4, ..., 8, 9, 5],\n",
       "           [7, 3, 2, ..., 0, 5, 6],\n",
       "           [8, 0, 8, ..., 7, 9, 3],\n",
       "           ...,\n",
       "           [4, 2, 3, ..., 5, 4, 1],\n",
       "           [3, 1, 3, ..., 4, 3, 9],\n",
       "           [2, 9, 3, ..., 9, 2, 5]],\n",
       "\n",
       "          [[1, 6, 8, ..., 0, 4, 2],\n",
       "           [2, 8, 4, ..., 6, 2, 1],\n",
       "           [2, 4, 6, ..., 3, 8, 7],\n",
       "           ...,\n",
       "           [8, 2, 2, ..., 9, 1, 1],\n",
       "           [5, 7, 1, ..., 0, 4, 3],\n",
       "           [4, 7, 8, ..., 0, 2, 5]],\n",
       "\n",
       "          [[0, 5, 0, ..., 5, 0, 0],\n",
       "           [0, 6, 0, ..., 2, 4, 9],\n",
       "           [3, 0, 1, ..., 9, 4, 7],\n",
       "           ...,\n",
       "           [5, 2, 0, ..., 1, 3, 4],\n",
       "           [9, 7, 6, ..., 7, 3, 3],\n",
       "           [7, 6, 1, ..., 0, 1, 8]],\n",
       "\n",
       "          [[8, 0, 9, ..., 9, 4, 1],\n",
       "           [8, 1, 2, ..., 6, 1, 2],\n",
       "           [2, 9, 3, ..., 7, 5, 3],\n",
       "           ...,\n",
       "           [4, 7, 0, ..., 1, 4, 8],\n",
       "           [6, 9, 9, ..., 5, 6, 5],\n",
       "           [3, 3, 7, ..., 0, 5, 9]],\n",
       "\n",
       "          [[0, 4, 4, ..., 5, 6, 2],\n",
       "           [1, 4, 5, ..., 3, 9, 4],\n",
       "           [8, 9, 8, ..., 7, 5, 6],\n",
       "           ...,\n",
       "           [1, 7, 7, ..., 6, 3, 0],\n",
       "           [1, 0, 1, ..., 8, 4, 0],\n",
       "           [6, 9, 0, ..., 0, 0, 0]],\n",
       "\n",
       "          [[3, 0, 3, ..., 7, 9, 8],\n",
       "           [0, 4, 7, ..., 4, 0, 6],\n",
       "           [0, 9, 3, ..., 3, 4, 7],\n",
       "           ...,\n",
       "           [8, 5, 4, ..., 4, 9, 2],\n",
       "           [6, 0, 1, ..., 9, 6, 4],\n",
       "           [6, 0, 3, ..., 1, 2, 4]]],\n",
       "\n",
       "\n",
       "         [[[4, 5, 0, ..., 8, 3, 7],\n",
       "           [6, 7, 8, ..., 5, 1, 8],\n",
       "           [1, 2, 1, ..., 3, 7, 1],\n",
       "           ...,\n",
       "           [8, 2, 0, ..., 6, 0, 6],\n",
       "           [0, 3, 8, ..., 5, 2, 5],\n",
       "           [8, 0, 8, ..., 4, 6, 5]],\n",
       "\n",
       "          [[2, 7, 3, ..., 0, 4, 7],\n",
       "           [1, 7, 3, ..., 7, 3, 8],\n",
       "           [0, 8, 5, ..., 7, 9, 7],\n",
       "           ...,\n",
       "           [0, 9, 4, ..., 2, 1, 5],\n",
       "           [4, 6, 3, ..., 8, 6, 0],\n",
       "           [8, 7, 4, ..., 3, 3, 1]],\n",
       "\n",
       "          [[0, 1, 5, ..., 9, 5, 4],\n",
       "           [3, 4, 5, ..., 1, 4, 4],\n",
       "           [4, 2, 0, ..., 1, 9, 7],\n",
       "           ...,\n",
       "           [4, 6, 6, ..., 1, 5, 1],\n",
       "           [0, 1, 5, ..., 2, 1, 4],\n",
       "           [5, 7, 9, ..., 1, 8, 9]],\n",
       "\n",
       "          [[6, 2, 4, ..., 4, 8, 2],\n",
       "           [1, 1, 0, ..., 9, 4, 9],\n",
       "           [0, 9, 5, ..., 3, 6, 0],\n",
       "           ...,\n",
       "           [3, 0, 1, ..., 3, 7, 9],\n",
       "           [5, 7, 7, ..., 6, 8, 6],\n",
       "           [1, 7, 0, ..., 8, 9, 7]],\n",
       "\n",
       "          [[4, 7, 4, ..., 6, 3, 2],\n",
       "           [7, 1, 4, ..., 7, 6, 4],\n",
       "           [2, 1, 3, ..., 0, 5, 5],\n",
       "           ...,\n",
       "           [5, 3, 5, ..., 9, 5, 6],\n",
       "           [3, 7, 2, ..., 0, 5, 4],\n",
       "           [5, 7, 4, ..., 1, 2, 0]],\n",
       "\n",
       "          [[1, 3, 9, ..., 7, 0, 4],\n",
       "           [9, 4, 3, ..., 8, 2, 3],\n",
       "           [7, 3, 9, ..., 3, 1, 9],\n",
       "           ...,\n",
       "           [1, 9, 4, ..., 5, 4, 7],\n",
       "           [1, 8, 2, ..., 1, 0, 4],\n",
       "           [8, 8, 2, ..., 2, 1, 6]]]],\n",
       "\n",
       "\n",
       "\n",
       "        [[[[8, 7, 4, ..., 3, 4, 1],\n",
       "           [0, 2, 8, ..., 0, 7, 4],\n",
       "           [6, 3, 0, ..., 3, 6, 6],\n",
       "           ...,\n",
       "           [1, 8, 5, ..., 2, 9, 5],\n",
       "           [2, 3, 9, ..., 3, 3, 8],\n",
       "           [9, 1, 6, ..., 9, 2, 3]],\n",
       "\n",
       "          [[0, 1, 0, ..., 8, 3, 2],\n",
       "           [9, 9, 2, ..., 2, 4, 1],\n",
       "           [3, 3, 2, ..., 3, 7, 1],\n",
       "           ...,\n",
       "           [3, 1, 7, ..., 5, 4, 3],\n",
       "           [7, 8, 9, ..., 9, 1, 6],\n",
       "           [3, 0, 3, ..., 9, 4, 2]],\n",
       "\n",
       "          [[8, 0, 3, ..., 0, 9, 0],\n",
       "           [3, 6, 2, ..., 9, 4, 9],\n",
       "           [7, 8, 2, ..., 6, 9, 9],\n",
       "           ...,\n",
       "           [0, 8, 1, ..., 7, 7, 4],\n",
       "           [3, 0, 8, ..., 6, 7, 3],\n",
       "           [9, 7, 4, ..., 7, 9, 1]],\n",
       "\n",
       "          [[9, 1, 5, ..., 9, 0, 9],\n",
       "           [6, 0, 0, ..., 5, 8, 5],\n",
       "           [1, 5, 8, ..., 7, 0, 9],\n",
       "           ...,\n",
       "           [1, 8, 4, ..., 4, 6, 6],\n",
       "           [9, 6, 7, ..., 0, 2, 9],\n",
       "           [3, 2, 7, ..., 8, 4, 9]],\n",
       "\n",
       "          [[4, 6, 6, ..., 5, 0, 2],\n",
       "           [8, 1, 6, ..., 8, 7, 4],\n",
       "           [3, 7, 7, ..., 4, 7, 4],\n",
       "           ...,\n",
       "           [0, 8, 2, ..., 9, 9, 2],\n",
       "           [8, 3, 8, ..., 5, 8, 1],\n",
       "           [2, 3, 1, ..., 4, 3, 1]],\n",
       "\n",
       "          [[1, 5, 9, ..., 6, 9, 8],\n",
       "           [0, 5, 4, ..., 1, 9, 0],\n",
       "           [0, 7, 1, ..., 9, 3, 7],\n",
       "           ...,\n",
       "           [3, 0, 9, ..., 8, 8, 9],\n",
       "           [3, 6, 1, ..., 9, 8, 2],\n",
       "           [0, 8, 0, ..., 3, 1, 3]]],\n",
       "\n",
       "\n",
       "         [[[9, 6, 2, ..., 6, 4, 7],\n",
       "           [8, 8, 2, ..., 7, 3, 3],\n",
       "           [5, 9, 8, ..., 7, 2, 7],\n",
       "           ...,\n",
       "           [6, 5, 0, ..., 1, 8, 3],\n",
       "           [7, 4, 9, ..., 4, 2, 7],\n",
       "           [5, 9, 4, ..., 9, 4, 7]],\n",
       "\n",
       "          [[4, 2, 9, ..., 1, 6, 8],\n",
       "           [8, 8, 6, ..., 0, 8, 6],\n",
       "           [8, 7, 4, ..., 5, 6, 3],\n",
       "           ...,\n",
       "           [4, 5, 0, ..., 9, 0, 7],\n",
       "           [6, 6, 3, ..., 3, 1, 7],\n",
       "           [5, 1, 2, ..., 8, 2, 6]],\n",
       "\n",
       "          [[3, 7, 7, ..., 6, 4, 5],\n",
       "           [0, 7, 4, ..., 7, 1, 8],\n",
       "           [3, 1, 4, ..., 6, 2, 7],\n",
       "           ...,\n",
       "           [5, 1, 4, ..., 9, 1, 5],\n",
       "           [0, 4, 5, ..., 7, 9, 7],\n",
       "           [9, 7, 7, ..., 2, 7, 3]],\n",
       "\n",
       "          [[8, 7, 6, ..., 0, 4, 7],\n",
       "           [7, 6, 7, ..., 4, 4, 3],\n",
       "           [9, 5, 6, ..., 9, 2, 2],\n",
       "           ...,\n",
       "           [1, 7, 7, ..., 4, 0, 9],\n",
       "           [9, 4, 5, ..., 3, 1, 2],\n",
       "           [0, 5, 5, ..., 1, 5, 1]],\n",
       "\n",
       "          [[4, 9, 1, ..., 5, 0, 3],\n",
       "           [7, 0, 3, ..., 8, 1, 0],\n",
       "           [9, 7, 9, ..., 5, 3, 2],\n",
       "           ...,\n",
       "           [8, 5, 5, ..., 6, 8, 3],\n",
       "           [7, 4, 5, ..., 4, 9, 5],\n",
       "           [2, 9, 8, ..., 8, 7, 0]],\n",
       "\n",
       "          [[8, 3, 5, ..., 1, 8, 4],\n",
       "           [1, 3, 5, ..., 9, 4, 6],\n",
       "           [9, 2, 5, ..., 0, 4, 3],\n",
       "           ...,\n",
       "           [2, 5, 9, ..., 1, 6, 3],\n",
       "           [6, 8, 6, ..., 9, 8, 0],\n",
       "           [0, 3, 0, ..., 3, 6, 3]]],\n",
       "\n",
       "\n",
       "         [[[2, 1, 2, ..., 3, 8, 6],\n",
       "           [3, 2, 4, ..., 2, 4, 9],\n",
       "           [1, 6, 9, ..., 6, 0, 1],\n",
       "           ...,\n",
       "           [8, 4, 9, ..., 9, 7, 0],\n",
       "           [4, 3, 6, ..., 0, 8, 1],\n",
       "           [1, 2, 0, ..., 7, 9, 1]],\n",
       "\n",
       "          [[7, 1, 0, ..., 2, 9, 7],\n",
       "           [3, 4, 1, ..., 6, 6, 4],\n",
       "           [2, 3, 6, ..., 3, 7, 6],\n",
       "           ...,\n",
       "           [7, 3, 0, ..., 7, 6, 5],\n",
       "           [2, 5, 4, ..., 8, 8, 0],\n",
       "           [6, 3, 4, ..., 8, 9, 4]],\n",
       "\n",
       "          [[1, 2, 0, ..., 9, 9, 3],\n",
       "           [2, 0, 6, ..., 2, 3, 3],\n",
       "           [0, 7, 4, ..., 8, 5, 0],\n",
       "           ...,\n",
       "           [8, 9, 8, ..., 8, 9, 8],\n",
       "           [0, 4, 3, ..., 0, 7, 4],\n",
       "           [9, 2, 1, ..., 4, 2, 5]],\n",
       "\n",
       "          [[9, 9, 2, ..., 0, 7, 0],\n",
       "           [3, 4, 6, ..., 2, 2, 1],\n",
       "           [5, 2, 2, ..., 9, 6, 5],\n",
       "           ...,\n",
       "           [5, 2, 1, ..., 3, 1, 9],\n",
       "           [6, 7, 3, ..., 7, 6, 8],\n",
       "           [8, 7, 8, ..., 4, 5, 0]],\n",
       "\n",
       "          [[8, 7, 1, ..., 2, 5, 6],\n",
       "           [1, 1, 8, ..., 2, 5, 6],\n",
       "           [4, 9, 1, ..., 2, 5, 6],\n",
       "           ...,\n",
       "           [3, 8, 1, ..., 5, 0, 5],\n",
       "           [2, 8, 3, ..., 2, 3, 4],\n",
       "           [3, 7, 0, ..., 9, 6, 6]],\n",
       "\n",
       "          [[7, 4, 7, ..., 2, 5, 5],\n",
       "           [4, 7, 5, ..., 1, 8, 4],\n",
       "           [2, 5, 0, ..., 4, 0, 2],\n",
       "           ...,\n",
       "           [3, 4, 5, ..., 2, 2, 8],\n",
       "           [2, 7, 1, ..., 5, 5, 2],\n",
       "           [9, 4, 2, ..., 4, 0, 1]]],\n",
       "\n",
       "\n",
       "         [[[9, 4, 3, ..., 2, 7, 5],\n",
       "           [0, 9, 1, ..., 3, 2, 7],\n",
       "           [3, 7, 1, ..., 2, 2, 6],\n",
       "           ...,\n",
       "           [2, 0, 1, ..., 4, 9, 0],\n",
       "           [1, 7, 8, ..., 0, 8, 2],\n",
       "           [3, 4, 3, ..., 2, 9, 3]],\n",
       "\n",
       "          [[3, 3, 7, ..., 6, 2, 5],\n",
       "           [5, 4, 2, ..., 4, 6, 7],\n",
       "           [8, 1, 5, ..., 1, 0, 3],\n",
       "           ...,\n",
       "           [5, 6, 5, ..., 2, 7, 7],\n",
       "           [7, 3, 0, ..., 2, 2, 0],\n",
       "           [1, 1, 0, ..., 1, 7, 1]],\n",
       "\n",
       "          [[7, 2, 2, ..., 3, 9, 4],\n",
       "           [0, 8, 0, ..., 5, 9, 5],\n",
       "           [5, 1, 6, ..., 7, 9, 7],\n",
       "           ...,\n",
       "           [8, 0, 0, ..., 9, 4, 7],\n",
       "           [2, 8, 7, ..., 5, 3, 3],\n",
       "           [3, 4, 6, ..., 1, 7, 1]],\n",
       "\n",
       "          [[6, 5, 2, ..., 7, 9, 8],\n",
       "           [3, 6, 3, ..., 7, 7, 0],\n",
       "           [1, 1, 9, ..., 1, 4, 3],\n",
       "           ...,\n",
       "           [3, 7, 7, ..., 2, 0, 1],\n",
       "           [0, 9, 2, ..., 2, 5, 9],\n",
       "           [4, 6, 1, ..., 9, 8, 1]],\n",
       "\n",
       "          [[5, 2, 5, ..., 4, 1, 0],\n",
       "           [4, 4, 8, ..., 2, 3, 3],\n",
       "           [7, 3, 7, ..., 8, 2, 2],\n",
       "           ...,\n",
       "           [8, 8, 5, ..., 8, 7, 6],\n",
       "           [6, 3, 9, ..., 8, 5, 4],\n",
       "           [5, 7, 6, ..., 9, 1, 7]],\n",
       "\n",
       "          [[0, 2, 9, ..., 2, 9, 6],\n",
       "           [1, 7, 7, ..., 8, 9, 3],\n",
       "           [4, 4, 6, ..., 1, 8, 7],\n",
       "           ...,\n",
       "           [6, 1, 9, ..., 3, 9, 2],\n",
       "           [6, 0, 3, ..., 5, 9, 5],\n",
       "           [6, 6, 3, ..., 1, 9, 3]]],\n",
       "\n",
       "\n",
       "         [[[0, 1, 8, ..., 5, 5, 4],\n",
       "           [7, 2, 4, ..., 0, 6, 2],\n",
       "           [9, 9, 6, ..., 1, 7, 0],\n",
       "           ...,\n",
       "           [9, 9, 5, ..., 8, 0, 6],\n",
       "           [3, 6, 9, ..., 2, 9, 1],\n",
       "           [1, 5, 9, ..., 7, 4, 2]],\n",
       "\n",
       "          [[2, 7, 7, ..., 7, 1, 2],\n",
       "           [8, 2, 8, ..., 1, 6, 1],\n",
       "           [5, 2, 6, ..., 6, 9, 5],\n",
       "           ...,\n",
       "           [1, 8, 9, ..., 4, 1, 1],\n",
       "           [3, 2, 6, ..., 7, 1, 3],\n",
       "           [5, 3, 5, ..., 9, 9, 5]],\n",
       "\n",
       "          [[9, 0, 7, ..., 8, 4, 6],\n",
       "           [1, 3, 6, ..., 2, 3, 0],\n",
       "           [0, 0, 5, ..., 4, 6, 1],\n",
       "           ...,\n",
       "           [8, 3, 9, ..., 6, 2, 6],\n",
       "           [3, 2, 3, ..., 3, 7, 5],\n",
       "           [6, 6, 1, ..., 8, 4, 4]],\n",
       "\n",
       "          [[3, 8, 7, ..., 1, 5, 7],\n",
       "           [4, 1, 2, ..., 0, 3, 0],\n",
       "           [5, 6, 8, ..., 0, 9, 3],\n",
       "           ...,\n",
       "           [2, 6, 4, ..., 0, 3, 6],\n",
       "           [6, 4, 6, ..., 3, 8, 9],\n",
       "           [2, 8, 4, ..., 2, 0, 4]],\n",
       "\n",
       "          [[6, 4, 8, ..., 0, 6, 7],\n",
       "           [8, 2, 4, ..., 8, 5, 1],\n",
       "           [3, 9, 2, ..., 1, 3, 9],\n",
       "           ...,\n",
       "           [3, 3, 3, ..., 6, 2, 7],\n",
       "           [9, 4, 7, ..., 9, 8, 2],\n",
       "           [2, 3, 9, ..., 5, 3, 9]],\n",
       "\n",
       "          [[6, 1, 2, ..., 2, 1, 1],\n",
       "           [6, 0, 7, ..., 0, 2, 4],\n",
       "           [2, 8, 8, ..., 4, 0, 3],\n",
       "           ...,\n",
       "           [4, 8, 0, ..., 6, 9, 8],\n",
       "           [8, 9, 4, ..., 2, 1, 2],\n",
       "           [0, 7, 0, ..., 2, 2, 3]]]]],\n",
       "\n",
       "\n",
       "\n",
       "\n",
       "       [[[[[2, 2, 2, ..., 9, 0, 2],\n",
       "           [4, 0, 2, ..., 6, 5, 2],\n",
       "           [5, 5, 8, ..., 7, 0, 8],\n",
       "           ...,\n",
       "           [3, 3, 2, ..., 9, 5, 1],\n",
       "           [6, 5, 3, ..., 5, 3, 6],\n",
       "           [9, 9, 6, ..., 8, 9, 1]],\n",
       "\n",
       "          [[3, 5, 3, ..., 0, 3, 6],\n",
       "           [7, 4, 8, ..., 7, 1, 5],\n",
       "           [9, 3, 7, ..., 0, 1, 4],\n",
       "           ...,\n",
       "           [2, 6, 8, ..., 1, 5, 3],\n",
       "           [7, 6, 0, ..., 1, 2, 9],\n",
       "           [2, 0, 6, ..., 0, 0, 3]],\n",
       "\n",
       "          [[5, 6, 2, ..., 1, 9, 8],\n",
       "           [5, 8, 0, ..., 4, 3, 7],\n",
       "           [4, 4, 7, ..., 6, 9, 2],\n",
       "           ...,\n",
       "           [9, 8, 1, ..., 6, 6, 8],\n",
       "           [3, 6, 3, ..., 4, 9, 3],\n",
       "           [3, 2, 7, ..., 7, 8, 5]],\n",
       "\n",
       "          [[9, 3, 2, ..., 4, 8, 8],\n",
       "           [6, 1, 9, ..., 0, 2, 2],\n",
       "           [4, 5, 3, ..., 5, 3, 7],\n",
       "           ...,\n",
       "           [8, 4, 2, ..., 4, 0, 7],\n",
       "           [6, 0, 4, ..., 6, 0, 8],\n",
       "           [7, 1, 5, ..., 2, 9, 6]],\n",
       "\n",
       "          [[8, 8, 3, ..., 8, 3, 5],\n",
       "           [4, 1, 2, ..., 5, 1, 6],\n",
       "           [2, 0, 5, ..., 6, 0, 3],\n",
       "           ...,\n",
       "           [7, 7, 7, ..., 0, 2, 0],\n",
       "           [7, 0, 8, ..., 5, 5, 2],\n",
       "           [0, 2, 4, ..., 7, 7, 7]],\n",
       "\n",
       "          [[2, 0, 5, ..., 9, 4, 7],\n",
       "           [4, 0, 0, ..., 0, 1, 3],\n",
       "           [0, 6, 0, ..., 7, 4, 0],\n",
       "           ...,\n",
       "           [9, 1, 2, ..., 2, 5, 8],\n",
       "           [5, 3, 5, ..., 1, 1, 8],\n",
       "           [8, 3, 4, ..., 6, 0, 0]]],\n",
       "\n",
       "\n",
       "         [[[5, 5, 2, ..., 1, 1, 3],\n",
       "           [2, 7, 1, ..., 9, 3, 6],\n",
       "           [4, 6, 3, ..., 0, 0, 4],\n",
       "           ...,\n",
       "           [9, 9, 5, ..., 5, 7, 2],\n",
       "           [8, 3, 9, ..., 2, 7, 9],\n",
       "           [8, 1, 2, ..., 1, 9, 9]],\n",
       "\n",
       "          [[7, 9, 9, ..., 3, 5, 5],\n",
       "           [0, 9, 5, ..., 2, 0, 0],\n",
       "           [4, 7, 2, ..., 7, 3, 5],\n",
       "           ...,\n",
       "           [5, 9, 8, ..., 7, 8, 4],\n",
       "           [2, 7, 2, ..., 7, 4, 5],\n",
       "           [9, 7, 3, ..., 9, 6, 3]],\n",
       "\n",
       "          [[7, 6, 0, ..., 2, 1, 1],\n",
       "           [1, 1, 1, ..., 0, 3, 3],\n",
       "           [0, 3, 6, ..., 2, 1, 9],\n",
       "           ...,\n",
       "           [3, 7, 0, ..., 1, 2, 7],\n",
       "           [2, 3, 5, ..., 4, 1, 4],\n",
       "           [6, 4, 9, ..., 8, 1, 0]],\n",
       "\n",
       "          [[8, 0, 9, ..., 9, 9, 9],\n",
       "           [6, 2, 8, ..., 9, 8, 4],\n",
       "           [6, 3, 9, ..., 2, 9, 3],\n",
       "           ...,\n",
       "           [3, 9, 0, ..., 9, 9, 8],\n",
       "           [8, 2, 5, ..., 9, 7, 4],\n",
       "           [0, 3, 0, ..., 8, 4, 8]],\n",
       "\n",
       "          [[0, 7, 3, ..., 7, 7, 4],\n",
       "           [2, 9, 8, ..., 3, 7, 7],\n",
       "           [6, 4, 9, ..., 3, 1, 0],\n",
       "           ...,\n",
       "           [5, 6, 3, ..., 6, 6, 0],\n",
       "           [5, 3, 5, ..., 3, 6, 9],\n",
       "           [2, 9, 2, ..., 3, 2, 1]],\n",
       "\n",
       "          [[1, 7, 5, ..., 4, 5, 2],\n",
       "           [9, 0, 5, ..., 7, 9, 0],\n",
       "           [0, 8, 8, ..., 9, 8, 7],\n",
       "           ...,\n",
       "           [8, 9, 9, ..., 2, 0, 0],\n",
       "           [8, 5, 8, ..., 0, 7, 7],\n",
       "           [5, 8, 1, ..., 3, 8, 6]]],\n",
       "\n",
       "\n",
       "         [[[0, 5, 6, ..., 2, 2, 4],\n",
       "           [3, 2, 0, ..., 5, 9, 3],\n",
       "           [6, 1, 2, ..., 1, 3, 7],\n",
       "           ...,\n",
       "           [6, 4, 9, ..., 1, 5, 5],\n",
       "           [5, 1, 1, ..., 7, 2, 8],\n",
       "           [4, 9, 1, ..., 0, 0, 7]],\n",
       "\n",
       "          [[8, 4, 5, ..., 7, 2, 1],\n",
       "           [5, 9, 8, ..., 7, 8, 1],\n",
       "           [4, 7, 7, ..., 4, 7, 8],\n",
       "           ...,\n",
       "           [0, 0, 3, ..., 8, 7, 6],\n",
       "           [8, 9, 2, ..., 7, 0, 7],\n",
       "           [6, 3, 0, ..., 6, 2, 5]],\n",
       "\n",
       "          [[3, 3, 1, ..., 3, 4, 6],\n",
       "           [2, 3, 6, ..., 4, 7, 2],\n",
       "           [9, 3, 0, ..., 2, 6, 9],\n",
       "           ...,\n",
       "           [3, 8, 0, ..., 0, 8, 9],\n",
       "           [2, 4, 3, ..., 1, 2, 8],\n",
       "           [6, 1, 1, ..., 6, 5, 2]],\n",
       "\n",
       "          [[3, 9, 9, ..., 7, 8, 1],\n",
       "           [8, 1, 4, ..., 8, 9, 0],\n",
       "           [6, 7, 4, ..., 9, 7, 4],\n",
       "           ...,\n",
       "           [1, 3, 6, ..., 6, 9, 5],\n",
       "           [4, 6, 6, ..., 8, 7, 4],\n",
       "           [8, 3, 7, ..., 7, 5, 7]],\n",
       "\n",
       "          [[9, 0, 4, ..., 5, 4, 7],\n",
       "           [7, 9, 2, ..., 9, 2, 1],\n",
       "           [8, 4, 1, ..., 0, 3, 2],\n",
       "           ...,\n",
       "           [1, 2, 7, ..., 1, 9, 1],\n",
       "           [7, 7, 3, ..., 3, 4, 4],\n",
       "           [8, 2, 7, ..., 2, 4, 7]],\n",
       "\n",
       "          [[6, 6, 5, ..., 5, 8, 3],\n",
       "           [5, 2, 4, ..., 9, 9, 9],\n",
       "           [6, 5, 7, ..., 8, 7, 4],\n",
       "           ...,\n",
       "           [6, 5, 2, ..., 6, 8, 6],\n",
       "           [9, 3, 1, ..., 5, 4, 0],\n",
       "           [4, 0, 4, ..., 4, 7, 3]]],\n",
       "\n",
       "\n",
       "         [[[6, 6, 8, ..., 0, 5, 4],\n",
       "           [6, 6, 0, ..., 6, 9, 1],\n",
       "           [2, 5, 3, ..., 3, 7, 8],\n",
       "           ...,\n",
       "           [4, 2, 9, ..., 8, 6, 4],\n",
       "           [8, 7, 7, ..., 7, 2, 5],\n",
       "           [3, 9, 2, ..., 8, 3, 3]],\n",
       "\n",
       "          [[2, 2, 9, ..., 3, 1, 9],\n",
       "           [7, 5, 2, ..., 7, 4, 3],\n",
       "           [3, 9, 4, ..., 2, 6, 2],\n",
       "           ...,\n",
       "           [5, 5, 9, ..., 2, 8, 4],\n",
       "           [8, 7, 5, ..., 1, 0, 7],\n",
       "           [5, 4, 5, ..., 8, 1, 4]],\n",
       "\n",
       "          [[1, 6, 3, ..., 2, 9, 4],\n",
       "           [3, 7, 6, ..., 6, 9, 0],\n",
       "           [5, 6, 0, ..., 2, 2, 1],\n",
       "           ...,\n",
       "           [5, 1, 5, ..., 0, 0, 9],\n",
       "           [7, 4, 4, ..., 4, 6, 2],\n",
       "           [6, 0, 8, ..., 7, 1, 5]],\n",
       "\n",
       "          [[3, 0, 1, ..., 2, 0, 7],\n",
       "           [9, 6, 1, ..., 4, 2, 9],\n",
       "           [0, 9, 2, ..., 6, 6, 8],\n",
       "           ...,\n",
       "           [2, 4, 8, ..., 7, 1, 7],\n",
       "           [8, 1, 3, ..., 4, 1, 5],\n",
       "           [6, 4, 9, ..., 9, 0, 4]],\n",
       "\n",
       "          [[9, 4, 9, ..., 4, 6, 8],\n",
       "           [6, 6, 0, ..., 8, 5, 2],\n",
       "           [9, 9, 3, ..., 7, 2, 9],\n",
       "           ...,\n",
       "           [4, 4, 0, ..., 0, 9, 9],\n",
       "           [8, 7, 1, ..., 4, 1, 1],\n",
       "           [8, 9, 4, ..., 2, 0, 6]],\n",
       "\n",
       "          [[5, 8, 6, ..., 2, 9, 6],\n",
       "           [0, 3, 4, ..., 0, 0, 0],\n",
       "           [8, 1, 8, ..., 3, 6, 6],\n",
       "           ...,\n",
       "           [0, 6, 6, ..., 0, 9, 8],\n",
       "           [1, 7, 0, ..., 2, 7, 0],\n",
       "           [7, 3, 1, ..., 7, 0, 6]]],\n",
       "\n",
       "\n",
       "         [[[2, 1, 0, ..., 2, 1, 7],\n",
       "           [8, 6, 8, ..., 2, 5, 4],\n",
       "           [6, 6, 5, ..., 9, 3, 7],\n",
       "           ...,\n",
       "           [3, 2, 0, ..., 3, 5, 5],\n",
       "           [3, 7, 5, ..., 8, 6, 6],\n",
       "           [9, 9, 8, ..., 5, 2, 1]],\n",
       "\n",
       "          [[2, 5, 0, ..., 5, 5, 3],\n",
       "           [6, 0, 1, ..., 4, 6, 8],\n",
       "           [7, 2, 8, ..., 7, 1, 9],\n",
       "           ...,\n",
       "           [6, 8, 1, ..., 9, 6, 4],\n",
       "           [0, 6, 0, ..., 7, 7, 7],\n",
       "           [7, 2, 7, ..., 9, 3, 1]],\n",
       "\n",
       "          [[8, 4, 6, ..., 8, 1, 8],\n",
       "           [0, 1, 9, ..., 9, 5, 3],\n",
       "           [2, 6, 6, ..., 9, 1, 5],\n",
       "           ...,\n",
       "           [7, 2, 2, ..., 3, 4, 9],\n",
       "           [0, 1, 6, ..., 5, 7, 9],\n",
       "           [5, 1, 6, ..., 6, 5, 6]],\n",
       "\n",
       "          [[5, 9, 2, ..., 4, 4, 7],\n",
       "           [1, 6, 4, ..., 5, 5, 4],\n",
       "           [8, 2, 3, ..., 9, 2, 0],\n",
       "           ...,\n",
       "           [4, 5, 6, ..., 4, 1, 7],\n",
       "           [5, 9, 5, ..., 2, 5, 9],\n",
       "           [5, 4, 6, ..., 4, 7, 6]],\n",
       "\n",
       "          [[0, 2, 6, ..., 9, 1, 8],\n",
       "           [5, 8, 6, ..., 9, 7, 2],\n",
       "           [4, 6, 1, ..., 5, 2, 7],\n",
       "           ...,\n",
       "           [8, 4, 8, ..., 5, 9, 1],\n",
       "           [1, 8, 3, ..., 8, 5, 3],\n",
       "           [9, 0, 2, ..., 0, 6, 1]],\n",
       "\n",
       "          [[0, 4, 8, ..., 5, 8, 5],\n",
       "           [7, 1, 6, ..., 9, 2, 7],\n",
       "           [9, 1, 6, ..., 2, 9, 9],\n",
       "           ...,\n",
       "           [0, 2, 1, ..., 7, 8, 6],\n",
       "           [2, 8, 0, ..., 2, 0, 6],\n",
       "           [3, 9, 5, ..., 5, 9, 0]]]],\n",
       "\n",
       "\n",
       "\n",
       "        [[[[4, 7, 2, ..., 0, 0, 3],\n",
       "           [8, 6, 5, ..., 7, 6, 2],\n",
       "           [6, 7, 8, ..., 8, 1, 3],\n",
       "           ...,\n",
       "           [9, 4, 9, ..., 4, 4, 5],\n",
       "           [1, 2, 0, ..., 1, 6, 1],\n",
       "           [9, 1, 5, ..., 5, 0, 2]],\n",
       "\n",
       "          [[3, 4, 0, ..., 7, 6, 5],\n",
       "           [0, 8, 8, ..., 6, 2, 6],\n",
       "           [4, 1, 2, ..., 3, 0, 2],\n",
       "           ...,\n",
       "           [2, 7, 6, ..., 8, 1, 6],\n",
       "           [0, 5, 9, ..., 0, 3, 1],\n",
       "           [8, 2, 5, ..., 1, 7, 3]],\n",
       "\n",
       "          [[7, 3, 5, ..., 2, 6, 0],\n",
       "           [2, 5, 1, ..., 9, 7, 7],\n",
       "           [0, 6, 5, ..., 6, 1, 7],\n",
       "           ...,\n",
       "           [0, 8, 5, ..., 1, 8, 6],\n",
       "           [2, 3, 5, ..., 8, 9, 9],\n",
       "           [4, 1, 1, ..., 7, 3, 9]],\n",
       "\n",
       "          [[8, 0, 8, ..., 4, 0, 2],\n",
       "           [4, 7, 4, ..., 2, 7, 9],\n",
       "           [2, 4, 1, ..., 7, 5, 6],\n",
       "           ...,\n",
       "           [6, 4, 0, ..., 6, 9, 7],\n",
       "           [5, 6, 8, ..., 8, 8, 3],\n",
       "           [7, 9, 2, ..., 2, 4, 1]],\n",
       "\n",
       "          [[2, 8, 6, ..., 2, 4, 8],\n",
       "           [6, 4, 5, ..., 8, 6, 7],\n",
       "           [4, 2, 8, ..., 0, 1, 4],\n",
       "           ...,\n",
       "           [3, 2, 0, ..., 9, 9, 1],\n",
       "           [5, 5, 8, ..., 9, 3, 1],\n",
       "           [8, 3, 7, ..., 5, 2, 7]],\n",
       "\n",
       "          [[8, 6, 9, ..., 2, 3, 4],\n",
       "           [0, 3, 8, ..., 8, 9, 0],\n",
       "           [1, 3, 2, ..., 4, 3, 5],\n",
       "           ...,\n",
       "           [8, 1, 1, ..., 8, 3, 4],\n",
       "           [7, 1, 8, ..., 6, 4, 7],\n",
       "           [8, 0, 9, ..., 3, 1, 1]]],\n",
       "\n",
       "\n",
       "         [[[8, 4, 0, ..., 1, 8, 7],\n",
       "           [2, 1, 0, ..., 5, 5, 8],\n",
       "           [7, 8, 1, ..., 6, 8, 9],\n",
       "           ...,\n",
       "           [9, 3, 7, ..., 1, 3, 2],\n",
       "           [2, 7, 8, ..., 7, 6, 0],\n",
       "           [5, 6, 3, ..., 0, 2, 1]],\n",
       "\n",
       "          [[3, 6, 0, ..., 2, 1, 7],\n",
       "           [8, 9, 4, ..., 0, 0, 9],\n",
       "           [5, 1, 4, ..., 0, 4, 0],\n",
       "           ...,\n",
       "           [1, 0, 6, ..., 6, 2, 1],\n",
       "           [8, 7, 1, ..., 4, 0, 2],\n",
       "           [4, 4, 4, ..., 9, 9, 1]],\n",
       "\n",
       "          [[4, 9, 7, ..., 6, 9, 7],\n",
       "           [8, 8, 0, ..., 4, 5, 8],\n",
       "           [2, 2, 4, ..., 5, 7, 9],\n",
       "           ...,\n",
       "           [7, 6, 4, ..., 4, 8, 1],\n",
       "           [3, 3, 1, ..., 9, 7, 1],\n",
       "           [6, 1, 1, ..., 4, 8, 3]],\n",
       "\n",
       "          [[0, 1, 1, ..., 8, 7, 6],\n",
       "           [0, 4, 8, ..., 2, 8, 8],\n",
       "           [7, 7, 6, ..., 1, 0, 3],\n",
       "           ...,\n",
       "           [4, 4, 6, ..., 1, 6, 5],\n",
       "           [0, 0, 4, ..., 3, 6, 3],\n",
       "           [4, 1, 1, ..., 5, 3, 7]],\n",
       "\n",
       "          [[0, 0, 3, ..., 6, 8, 7],\n",
       "           [5, 3, 9, ..., 0, 1, 8],\n",
       "           [9, 8, 6, ..., 4, 3, 3],\n",
       "           ...,\n",
       "           [4, 6, 5, ..., 5, 6, 8],\n",
       "           [7, 9, 8, ..., 7, 2, 2],\n",
       "           [0, 4, 4, ..., 3, 6, 2]],\n",
       "\n",
       "          [[7, 4, 5, ..., 3, 4, 7],\n",
       "           [5, 4, 0, ..., 0, 6, 1],\n",
       "           [3, 1, 3, ..., 2, 2, 9],\n",
       "           ...,\n",
       "           [4, 8, 7, ..., 2, 1, 6],\n",
       "           [8, 8, 5, ..., 3, 7, 7],\n",
       "           [3, 8, 4, ..., 4, 4, 1]]],\n",
       "\n",
       "\n",
       "         [[[4, 9, 6, ..., 9, 8, 0],\n",
       "           [8, 8, 6, ..., 5, 0, 0],\n",
       "           [3, 4, 9, ..., 1, 7, 9],\n",
       "           ...,\n",
       "           [9, 1, 4, ..., 4, 3, 2],\n",
       "           [0, 8, 4, ..., 9, 3, 6],\n",
       "           [3, 2, 0, ..., 8, 9, 1]],\n",
       "\n",
       "          [[2, 2, 0, ..., 3, 9, 9],\n",
       "           [7, 9, 4, ..., 8, 6, 4],\n",
       "           [8, 2, 8, ..., 5, 6, 2],\n",
       "           ...,\n",
       "           [8, 0, 1, ..., 7, 2, 9],\n",
       "           [5, 9, 9, ..., 3, 3, 3],\n",
       "           [6, 7, 0, ..., 8, 5, 7]],\n",
       "\n",
       "          [[8, 7, 4, ..., 5, 0, 2],\n",
       "           [3, 4, 0, ..., 1, 4, 5],\n",
       "           [2, 1, 2, ..., 5, 7, 6],\n",
       "           ...,\n",
       "           [1, 1, 5, ..., 1, 3, 4],\n",
       "           [5, 5, 4, ..., 3, 0, 0],\n",
       "           [1, 9, 4, ..., 3, 7, 8]],\n",
       "\n",
       "          [[4, 9, 5, ..., 3, 3, 3],\n",
       "           [2, 2, 7, ..., 7, 1, 8],\n",
       "           [9, 0, 1, ..., 2, 8, 7],\n",
       "           ...,\n",
       "           [7, 1, 7, ..., 6, 7, 8],\n",
       "           [9, 9, 8, ..., 1, 7, 9],\n",
       "           [4, 0, 9, ..., 1, 6, 8]],\n",
       "\n",
       "          [[7, 2, 6, ..., 8, 6, 9],\n",
       "           [6, 9, 8, ..., 0, 0, 3],\n",
       "           [8, 2, 8, ..., 3, 4, 1],\n",
       "           ...,\n",
       "           [3, 4, 8, ..., 8, 9, 4],\n",
       "           [0, 6, 1, ..., 8, 2, 5],\n",
       "           [0, 6, 9, ..., 2, 6, 0]],\n",
       "\n",
       "          [[8, 2, 6, ..., 1, 7, 7],\n",
       "           [1, 8, 7, ..., 5, 3, 7],\n",
       "           [1, 9, 5, ..., 6, 3, 5],\n",
       "           ...,\n",
       "           [3, 7, 4, ..., 6, 0, 1],\n",
       "           [0, 6, 6, ..., 4, 8, 2],\n",
       "           [0, 0, 9, ..., 1, 9, 4]]],\n",
       "\n",
       "\n",
       "         [[[0, 3, 2, ..., 6, 5, 9],\n",
       "           [3, 5, 8, ..., 9, 5, 4],\n",
       "           [2, 9, 2, ..., 4, 2, 1],\n",
       "           ...,\n",
       "           [4, 2, 4, ..., 4, 1, 0],\n",
       "           [9, 9, 5, ..., 2, 2, 2],\n",
       "           [3, 4, 6, ..., 7, 0, 5]],\n",
       "\n",
       "          [[5, 2, 3, ..., 9, 0, 6],\n",
       "           [1, 9, 4, ..., 6, 5, 8],\n",
       "           [4, 7, 1, ..., 9, 9, 2],\n",
       "           ...,\n",
       "           [8, 7, 6, ..., 7, 8, 9],\n",
       "           [8, 6, 0, ..., 5, 0, 7],\n",
       "           [9, 3, 1, ..., 9, 0, 8]],\n",
       "\n",
       "          [[0, 2, 9, ..., 9, 8, 5],\n",
       "           [4, 0, 3, ..., 1, 0, 5],\n",
       "           [2, 9, 6, ..., 9, 1, 9],\n",
       "           ...,\n",
       "           [8, 3, 8, ..., 1, 0, 4],\n",
       "           [3, 5, 8, ..., 2, 2, 1],\n",
       "           [8, 9, 7, ..., 9, 7, 2]],\n",
       "\n",
       "          [[5, 3, 0, ..., 8, 8, 6],\n",
       "           [2, 3, 6, ..., 3, 2, 0],\n",
       "           [7, 3, 2, ..., 8, 6, 7],\n",
       "           ...,\n",
       "           [3, 4, 3, ..., 9, 7, 1],\n",
       "           [7, 0, 2, ..., 9, 0, 5],\n",
       "           [8, 3, 1, ..., 2, 1, 4]],\n",
       "\n",
       "          [[1, 1, 0, ..., 0, 8, 8],\n",
       "           [7, 1, 2, ..., 5, 4, 3],\n",
       "           [0, 8, 5, ..., 7, 2, 2],\n",
       "           ...,\n",
       "           [3, 6, 5, ..., 3, 4, 6],\n",
       "           [4, 1, 9, ..., 8, 2, 4],\n",
       "           [0, 1, 6, ..., 5, 5, 3]],\n",
       "\n",
       "          [[8, 4, 3, ..., 1, 4, 4],\n",
       "           [8, 0, 2, ..., 1, 9, 2],\n",
       "           [9, 0, 6, ..., 2, 1, 7],\n",
       "           ...,\n",
       "           [3, 7, 4, ..., 2, 7, 3],\n",
       "           [6, 5, 1, ..., 5, 7, 8],\n",
       "           [7, 4, 5, ..., 8, 3, 2]]],\n",
       "\n",
       "\n",
       "         [[[3, 9, 0, ..., 8, 0, 6],\n",
       "           [3, 1, 0, ..., 6, 1, 1],\n",
       "           [9, 7, 6, ..., 3, 2, 9],\n",
       "           ...,\n",
       "           [7, 5, 7, ..., 1, 5, 4],\n",
       "           [4, 5, 1, ..., 7, 1, 1],\n",
       "           [5, 8, 3, ..., 6, 0, 2]],\n",
       "\n",
       "          [[8, 8, 4, ..., 8, 7, 3],\n",
       "           [1, 7, 9, ..., 0, 7, 9],\n",
       "           [2, 1, 7, ..., 7, 7, 4],\n",
       "           ...,\n",
       "           [2, 8, 3, ..., 2, 8, 1],\n",
       "           [1, 3, 2, ..., 6, 3, 9],\n",
       "           [5, 3, 5, ..., 4, 0, 1]],\n",
       "\n",
       "          [[5, 1, 3, ..., 6, 4, 9],\n",
       "           [9, 0, 1, ..., 9, 6, 7],\n",
       "           [7, 1, 8, ..., 9, 5, 0],\n",
       "           ...,\n",
       "           [2, 3, 0, ..., 8, 8, 8],\n",
       "           [1, 5, 9, ..., 9, 9, 7],\n",
       "           [7, 9, 2, ..., 7, 4, 7]],\n",
       "\n",
       "          [[6, 7, 1, ..., 1, 6, 9],\n",
       "           [8, 9, 7, ..., 2, 9, 5],\n",
       "           [9, 0, 5, ..., 4, 6, 7],\n",
       "           ...,\n",
       "           [4, 9, 9, ..., 3, 4, 2],\n",
       "           [0, 2, 0, ..., 1, 3, 3],\n",
       "           [5, 0, 0, ..., 4, 3, 4]],\n",
       "\n",
       "          [[6, 3, 5, ..., 3, 9, 8],\n",
       "           [0, 2, 5, ..., 7, 3, 4],\n",
       "           [2, 5, 3, ..., 5, 9, 7],\n",
       "           ...,\n",
       "           [3, 4, 9, ..., 8, 4, 6],\n",
       "           [6, 1, 8, ..., 0, 1, 7],\n",
       "           [0, 1, 5, ..., 6, 3, 3]],\n",
       "\n",
       "          [[1, 1, 1, ..., 7, 1, 0],\n",
       "           [3, 2, 4, ..., 7, 8, 3],\n",
       "           [8, 0, 9, ..., 1, 0, 1],\n",
       "           ...,\n",
       "           [2, 5, 1, ..., 4, 7, 0],\n",
       "           [9, 1, 9, ..., 9, 0, 8],\n",
       "           [9, 6, 3, ..., 5, 0, 9]]]],\n",
       "\n",
       "\n",
       "\n",
       "        [[[[0, 8, 4, ..., 4, 8, 2],\n",
       "           [1, 4, 3, ..., 6, 5, 6],\n",
       "           [4, 3, 5, ..., 8, 8, 6],\n",
       "           ...,\n",
       "           [6, 3, 2, ..., 3, 1, 2],\n",
       "           [8, 6, 7, ..., 3, 4, 2],\n",
       "           [7, 2, 7, ..., 2, 5, 1]],\n",
       "\n",
       "          [[4, 4, 7, ..., 6, 3, 6],\n",
       "           [6, 4, 4, ..., 8, 9, 5],\n",
       "           [2, 5, 8, ..., 3, 9, 7],\n",
       "           ...,\n",
       "           [9, 1, 3, ..., 8, 9, 1],\n",
       "           [3, 2, 1, ..., 3, 0, 7],\n",
       "           [6, 4, 5, ..., 5, 4, 9]],\n",
       "\n",
       "          [[9, 8, 9, ..., 2, 2, 2],\n",
       "           [7, 5, 1, ..., 2, 5, 6],\n",
       "           [8, 6, 4, ..., 1, 5, 1],\n",
       "           ...,\n",
       "           [3, 3, 2, ..., 1, 5, 4],\n",
       "           [9, 5, 5, ..., 2, 4, 3],\n",
       "           [2, 8, 4, ..., 3, 1, 6]],\n",
       "\n",
       "          [[3, 7, 6, ..., 8, 4, 4],\n",
       "           [2, 2, 5, ..., 0, 3, 8],\n",
       "           [5, 4, 0, ..., 4, 4, 9],\n",
       "           ...,\n",
       "           [0, 0, 7, ..., 2, 7, 5],\n",
       "           [3, 5, 1, ..., 4, 5, 1],\n",
       "           [5, 5, 7, ..., 6, 7, 1]],\n",
       "\n",
       "          [[8, 7, 7, ..., 8, 5, 0],\n",
       "           [2, 1, 1, ..., 4, 1, 9],\n",
       "           [9, 0, 3, ..., 9, 3, 5],\n",
       "           ...,\n",
       "           [9, 3, 9, ..., 4, 7, 8],\n",
       "           [3, 7, 8, ..., 8, 7, 0],\n",
       "           [1, 8, 2, ..., 9, 2, 2]],\n",
       "\n",
       "          [[6, 6, 4, ..., 6, 1, 2],\n",
       "           [1, 1, 5, ..., 5, 0, 8],\n",
       "           [4, 5, 3, ..., 7, 2, 9],\n",
       "           ...,\n",
       "           [1, 9, 6, ..., 4, 3, 9],\n",
       "           [4, 9, 2, ..., 4, 2, 0],\n",
       "           [2, 2, 6, ..., 8, 5, 3]]],\n",
       "\n",
       "\n",
       "         [[[7, 5, 2, ..., 9, 3, 5],\n",
       "           [7, 9, 0, ..., 2, 4, 2],\n",
       "           [5, 8, 7, ..., 7, 5, 1],\n",
       "           ...,\n",
       "           [4, 0, 0, ..., 6, 2, 4],\n",
       "           [4, 1, 8, ..., 6, 7, 1],\n",
       "           [0, 7, 9, ..., 7, 5, 4]],\n",
       "\n",
       "          [[1, 4, 6, ..., 0, 2, 7],\n",
       "           [7, 9, 3, ..., 1, 7, 1],\n",
       "           [0, 2, 6, ..., 6, 8, 7],\n",
       "           ...,\n",
       "           [7, 9, 9, ..., 7, 4, 6],\n",
       "           [8, 0, 3, ..., 4, 1, 0],\n",
       "           [5, 2, 0, ..., 2, 1, 3]],\n",
       "\n",
       "          [[3, 5, 8, ..., 0, 7, 8],\n",
       "           [4, 6, 9, ..., 1, 7, 4],\n",
       "           [8, 5, 2, ..., 9, 5, 2],\n",
       "           ...,\n",
       "           [0, 5, 5, ..., 8, 3, 0],\n",
       "           [6, 8, 9, ..., 8, 3, 7],\n",
       "           [5, 7, 5, ..., 0, 8, 3]],\n",
       "\n",
       "          [[2, 2, 9, ..., 6, 2, 9],\n",
       "           [5, 0, 2, ..., 7, 7, 3],\n",
       "           [2, 1, 4, ..., 7, 3, 3],\n",
       "           ...,\n",
       "           [9, 7, 2, ..., 7, 9, 6],\n",
       "           [9, 5, 4, ..., 2, 0, 3],\n",
       "           [7, 3, 5, ..., 9, 1, 0]],\n",
       "\n",
       "          [[1, 3, 5, ..., 8, 2, 4],\n",
       "           [4, 8, 6, ..., 3, 2, 3],\n",
       "           [8, 6, 8, ..., 4, 9, 1],\n",
       "           ...,\n",
       "           [1, 4, 0, ..., 9, 4, 6],\n",
       "           [2, 9, 8, ..., 6, 9, 1],\n",
       "           [6, 5, 4, ..., 6, 1, 4]],\n",
       "\n",
       "          [[2, 9, 1, ..., 4, 7, 3],\n",
       "           [4, 3, 1, ..., 4, 8, 8],\n",
       "           [2, 8, 2, ..., 0, 1, 8],\n",
       "           ...,\n",
       "           [5, 3, 9, ..., 3, 0, 2],\n",
       "           [8, 4, 7, ..., 0, 6, 9],\n",
       "           [0, 4, 2, ..., 1, 2, 5]]],\n",
       "\n",
       "\n",
       "         [[[2, 9, 8, ..., 8, 5, 7],\n",
       "           [2, 7, 5, ..., 3, 0, 6],\n",
       "           [7, 6, 9, ..., 6, 5, 1],\n",
       "           ...,\n",
       "           [9, 7, 8, ..., 0, 2, 8],\n",
       "           [6, 5, 2, ..., 6, 6, 2],\n",
       "           [5, 8, 8, ..., 5, 3, 8]],\n",
       "\n",
       "          [[1, 7, 9, ..., 4, 7, 7],\n",
       "           [7, 6, 1, ..., 1, 6, 1],\n",
       "           [8, 6, 6, ..., 0, 6, 3],\n",
       "           ...,\n",
       "           [0, 9, 9, ..., 2, 6, 8],\n",
       "           [2, 1, 0, ..., 7, 7, 5],\n",
       "           [5, 5, 7, ..., 4, 7, 2]],\n",
       "\n",
       "          [[5, 5, 7, ..., 1, 9, 3],\n",
       "           [9, 0, 6, ..., 4, 0, 2],\n",
       "           [6, 0, 8, ..., 4, 9, 9],\n",
       "           ...,\n",
       "           [1, 0, 3, ..., 6, 8, 0],\n",
       "           [4, 3, 3, ..., 1, 7, 7],\n",
       "           [8, 9, 8, ..., 2, 9, 3]],\n",
       "\n",
       "          [[0, 8, 9, ..., 5, 0, 0],\n",
       "           [6, 8, 1, ..., 3, 2, 5],\n",
       "           [2, 3, 4, ..., 1, 4, 3],\n",
       "           ...,\n",
       "           [7, 7, 2, ..., 4, 2, 4],\n",
       "           [7, 3, 6, ..., 0, 4, 6],\n",
       "           [9, 7, 2, ..., 8, 9, 6]],\n",
       "\n",
       "          [[2, 0, 0, ..., 4, 2, 1],\n",
       "           [0, 5, 7, ..., 3, 2, 2],\n",
       "           [0, 5, 7, ..., 7, 5, 7],\n",
       "           ...,\n",
       "           [0, 6, 0, ..., 1, 8, 2],\n",
       "           [6, 5, 7, ..., 4, 9, 1],\n",
       "           [9, 5, 9, ..., 6, 4, 3]],\n",
       "\n",
       "          [[9, 5, 8, ..., 1, 7, 7],\n",
       "           [0, 8, 9, ..., 9, 7, 5],\n",
       "           [3, 4, 5, ..., 6, 3, 8],\n",
       "           ...,\n",
       "           [1, 4, 0, ..., 2, 9, 2],\n",
       "           [1, 2, 1, ..., 1, 1, 7],\n",
       "           [9, 3, 1, ..., 2, 8, 6]]],\n",
       "\n",
       "\n",
       "         [[[6, 9, 9, ..., 7, 9, 5],\n",
       "           [0, 8, 4, ..., 9, 1, 6],\n",
       "           [7, 7, 9, ..., 9, 7, 3],\n",
       "           ...,\n",
       "           [1, 1, 5, ..., 2, 8, 3],\n",
       "           [9, 5, 7, ..., 6, 8, 5],\n",
       "           [0, 4, 5, ..., 2, 0, 5]],\n",
       "\n",
       "          [[5, 0, 3, ..., 5, 5, 6],\n",
       "           [8, 6, 7, ..., 3, 1, 7],\n",
       "           [6, 6, 9, ..., 6, 0, 4],\n",
       "           ...,\n",
       "           [7, 9, 0, ..., 6, 4, 3],\n",
       "           [4, 3, 0, ..., 9, 8, 7],\n",
       "           [9, 8, 2, ..., 1, 9, 8]],\n",
       "\n",
       "          [[8, 4, 7, ..., 1, 6, 6],\n",
       "           [7, 7, 8, ..., 3, 7, 7],\n",
       "           [2, 5, 5, ..., 4, 4, 3],\n",
       "           ...,\n",
       "           [5, 7, 5, ..., 7, 8, 5],\n",
       "           [8, 8, 0, ..., 7, 7, 4],\n",
       "           [0, 9, 0, ..., 2, 9, 3]],\n",
       "\n",
       "          [[8, 9, 8, ..., 1, 0, 0],\n",
       "           [6, 9, 6, ..., 9, 9, 4],\n",
       "           [9, 5, 2, ..., 9, 5, 6],\n",
       "           ...,\n",
       "           [9, 7, 2, ..., 0, 4, 4],\n",
       "           [6, 2, 4, ..., 9, 2, 5],\n",
       "           [2, 8, 2, ..., 7, 7, 2]],\n",
       "\n",
       "          [[2, 2, 9, ..., 9, 6, 7],\n",
       "           [3, 4, 5, ..., 8, 2, 4],\n",
       "           [7, 5, 9, ..., 4, 4, 9],\n",
       "           ...,\n",
       "           [9, 7, 1, ..., 8, 6, 0],\n",
       "           [0, 2, 7, ..., 2, 9, 3],\n",
       "           [6, 6, 4, ..., 6, 6, 7]],\n",
       "\n",
       "          [[7, 2, 4, ..., 6, 5, 3],\n",
       "           [5, 7, 1, ..., 6, 0, 9],\n",
       "           [6, 2, 8, ..., 2, 2, 4],\n",
       "           ...,\n",
       "           [7, 9, 4, ..., 6, 8, 3],\n",
       "           [2, 4, 2, ..., 7, 7, 5],\n",
       "           [2, 4, 3, ..., 9, 0, 3]]],\n",
       "\n",
       "\n",
       "         [[[2, 1, 2, ..., 1, 3, 0],\n",
       "           [1, 5, 1, ..., 1, 1, 4],\n",
       "           [2, 6, 6, ..., 9, 7, 0],\n",
       "           ...,\n",
       "           [7, 4, 1, ..., 5, 9, 0],\n",
       "           [7, 4, 6, ..., 8, 8, 2],\n",
       "           [5, 1, 7, ..., 4, 1, 1]],\n",
       "\n",
       "          [[7, 4, 8, ..., 7, 7, 7],\n",
       "           [5, 4, 1, ..., 5, 7, 7],\n",
       "           [1, 9, 5, ..., 1, 0, 1],\n",
       "           ...,\n",
       "           [0, 1, 7, ..., 4, 5, 3],\n",
       "           [6, 9, 3, ..., 5, 6, 8],\n",
       "           [4, 7, 0, ..., 0, 3, 0]],\n",
       "\n",
       "          [[8, 0, 3, ..., 9, 8, 6],\n",
       "           [1, 6, 6, ..., 2, 1, 6],\n",
       "           [1, 5, 7, ..., 7, 6, 9],\n",
       "           ...,\n",
       "           [7, 0, 4, ..., 0, 5, 5],\n",
       "           [0, 4, 5, ..., 6, 1, 0],\n",
       "           [6, 9, 3, ..., 4, 0, 8]],\n",
       "\n",
       "          [[1, 5, 2, ..., 5, 0, 7],\n",
       "           [1, 2, 1, ..., 8, 9, 5],\n",
       "           [5, 1, 4, ..., 6, 1, 4],\n",
       "           ...,\n",
       "           [7, 9, 7, ..., 3, 9, 8],\n",
       "           [6, 1, 2, ..., 8, 8, 1],\n",
       "           [7, 8, 0, ..., 1, 6, 7]],\n",
       "\n",
       "          [[8, 5, 4, ..., 8, 8, 3],\n",
       "           [6, 1, 4, ..., 1, 9, 6],\n",
       "           [9, 4, 7, ..., 0, 6, 8],\n",
       "           ...,\n",
       "           [3, 3, 4, ..., 9, 2, 3],\n",
       "           [5, 8, 4, ..., 4, 6, 9],\n",
       "           [4, 1, 4, ..., 2, 3, 2]],\n",
       "\n",
       "          [[5, 7, 6, ..., 9, 3, 4],\n",
       "           [9, 4, 8, ..., 3, 8, 6],\n",
       "           [0, 4, 9, ..., 8, 2, 3],\n",
       "           ...,\n",
       "           [4, 1, 6, ..., 5, 9, 0],\n",
       "           [7, 3, 3, ..., 5, 7, 0],\n",
       "           [9, 5, 3, ..., 4, 1, 7]]]],\n",
       "\n",
       "\n",
       "\n",
       "        [[[[0, 4, 3, ..., 8, 4, 4],\n",
       "           [5, 2, 7, ..., 9, 6, 1],\n",
       "           [5, 5, 9, ..., 4, 8, 1],\n",
       "           ...,\n",
       "           [0, 9, 7, ..., 0, 3, 9],\n",
       "           [3, 2, 2, ..., 5, 4, 7],\n",
       "           [7, 9, 7, ..., 2, 4, 9]],\n",
       "\n",
       "          [[2, 9, 5, ..., 2, 2, 8],\n",
       "           [6, 4, 8, ..., 9, 7, 9],\n",
       "           [1, 4, 2, ..., 3, 3, 8],\n",
       "           ...,\n",
       "           [7, 8, 3, ..., 7, 2, 8],\n",
       "           [4, 5, 6, ..., 6, 3, 5],\n",
       "           [9, 5, 8, ..., 6, 1, 9]],\n",
       "\n",
       "          [[5, 3, 8, ..., 8, 0, 3],\n",
       "           [7, 9, 9, ..., 7, 4, 6],\n",
       "           [8, 0, 8, ..., 1, 0, 8],\n",
       "           ...,\n",
       "           [2, 2, 1, ..., 4, 9, 5],\n",
       "           [8, 0, 1, ..., 3, 9, 9],\n",
       "           [2, 3, 5, ..., 3, 8, 3]],\n",
       "\n",
       "          [[3, 6, 4, ..., 9, 2, 0],\n",
       "           [2, 0, 5, ..., 6, 3, 3],\n",
       "           [2, 8, 0, ..., 5, 9, 9],\n",
       "           ...,\n",
       "           [6, 1, 4, ..., 8, 8, 5],\n",
       "           [3, 8, 3, ..., 3, 6, 9],\n",
       "           [1, 1, 6, ..., 6, 7, 6]],\n",
       "\n",
       "          [[3, 7, 0, ..., 0, 0, 3],\n",
       "           [1, 4, 4, ..., 6, 7, 2],\n",
       "           [5, 1, 0, ..., 2, 1, 1],\n",
       "           ...,\n",
       "           [1, 1, 3, ..., 2, 5, 8],\n",
       "           [7, 3, 0, ..., 6, 9, 9],\n",
       "           [8, 7, 8, ..., 3, 8, 7]],\n",
       "\n",
       "          [[8, 3, 7, ..., 1, 7, 8],\n",
       "           [4, 9, 2, ..., 3, 0, 5],\n",
       "           [4, 8, 8, ..., 5, 6, 0],\n",
       "           ...,\n",
       "           [9, 7, 4, ..., 8, 9, 4],\n",
       "           [6, 0, 5, ..., 4, 3, 8],\n",
       "           [3, 9, 4, ..., 2, 2, 9]]],\n",
       "\n",
       "\n",
       "         [[[7, 8, 0, ..., 4, 6, 1],\n",
       "           [0, 9, 8, ..., 0, 6, 5],\n",
       "           [7, 3, 6, ..., 5, 9, 9],\n",
       "           ...,\n",
       "           [1, 9, 3, ..., 2, 3, 9],\n",
       "           [6, 7, 6, ..., 1, 9, 0],\n",
       "           [1, 5, 4, ..., 6, 5, 8]],\n",
       "\n",
       "          [[2, 1, 3, ..., 8, 2, 9],\n",
       "           [4, 6, 1, ..., 2, 8, 5],\n",
       "           [5, 3, 4, ..., 9, 9, 5],\n",
       "           ...,\n",
       "           [4, 5, 2, ..., 8, 7, 2],\n",
       "           [4, 6, 7, ..., 1, 3, 4],\n",
       "           [4, 1, 0, ..., 1, 2, 9]],\n",
       "\n",
       "          [[6, 7, 9, ..., 6, 0, 9],\n",
       "           [9, 1, 4, ..., 3, 9, 7],\n",
       "           [5, 0, 6, ..., 0, 0, 8],\n",
       "           ...,\n",
       "           [6, 5, 1, ..., 4, 4, 2],\n",
       "           [2, 0, 2, ..., 7, 9, 3],\n",
       "           [1, 9, 7, ..., 0, 7, 4]],\n",
       "\n",
       "          [[8, 8, 1, ..., 4, 8, 7],\n",
       "           [5, 7, 8, ..., 3, 7, 1],\n",
       "           [0, 2, 1, ..., 1, 7, 4],\n",
       "           ...,\n",
       "           [1, 0, 1, ..., 0, 5, 4],\n",
       "           [7, 5, 2, ..., 1, 4, 8],\n",
       "           [0, 2, 2, ..., 3, 5, 7]],\n",
       "\n",
       "          [[5, 3, 2, ..., 9, 4, 1],\n",
       "           [3, 2, 6, ..., 4, 5, 9],\n",
       "           [3, 6, 3, ..., 9, 6, 9],\n",
       "           ...,\n",
       "           [5, 2, 8, ..., 8, 5, 1],\n",
       "           [1, 6, 0, ..., 2, 0, 6],\n",
       "           [7, 7, 8, ..., 4, 6, 4]],\n",
       "\n",
       "          [[3, 5, 8, ..., 3, 6, 2],\n",
       "           [1, 7, 6, ..., 8, 0, 8],\n",
       "           [6, 6, 5, ..., 7, 4, 5],\n",
       "           ...,\n",
       "           [4, 5, 4, ..., 1, 0, 5],\n",
       "           [2, 1, 2, ..., 6, 4, 1],\n",
       "           [8, 3, 5, ..., 6, 4, 1]]],\n",
       "\n",
       "\n",
       "         [[[8, 2, 9, ..., 9, 5, 1],\n",
       "           [1, 5, 0, ..., 6, 3, 4],\n",
       "           [5, 0, 9, ..., 3, 5, 9],\n",
       "           ...,\n",
       "           [8, 4, 4, ..., 1, 2, 7],\n",
       "           [6, 7, 0, ..., 0, 7, 1],\n",
       "           [1, 1, 3, ..., 7, 8, 7]],\n",
       "\n",
       "          [[3, 1, 5, ..., 7, 3, 0],\n",
       "           [5, 0, 9, ..., 6, 3, 0],\n",
       "           [9, 8, 1, ..., 7, 2, 4],\n",
       "           ...,\n",
       "           [7, 0, 2, ..., 0, 3, 7],\n",
       "           [1, 9, 0, ..., 5, 5, 6],\n",
       "           [7, 7, 7, ..., 4, 6, 1]],\n",
       "\n",
       "          [[4, 7, 7, ..., 5, 0, 2],\n",
       "           [2, 5, 7, ..., 9, 8, 1],\n",
       "           [9, 9, 0, ..., 3, 7, 7],\n",
       "           ...,\n",
       "           [6, 3, 9, ..., 2, 6, 3],\n",
       "           [3, 9, 5, ..., 8, 8, 2],\n",
       "           [5, 0, 4, ..., 3, 3, 2]],\n",
       "\n",
       "          [[8, 3, 3, ..., 2, 9, 9],\n",
       "           [7, 0, 4, ..., 7, 9, 2],\n",
       "           [7, 3, 2, ..., 0, 2, 8],\n",
       "           ...,\n",
       "           [9, 1, 6, ..., 1, 6, 1],\n",
       "           [7, 5, 5, ..., 2, 8, 4],\n",
       "           [8, 7, 8, ..., 1, 4, 8]],\n",
       "\n",
       "          [[4, 2, 0, ..., 6, 1, 4],\n",
       "           [2, 9, 8, ..., 3, 0, 5],\n",
       "           [3, 1, 0, ..., 1, 1, 9],\n",
       "           ...,\n",
       "           [5, 3, 8, ..., 9, 3, 3],\n",
       "           [9, 4, 9, ..., 2, 6, 0],\n",
       "           [3, 0, 4, ..., 3, 3, 0]],\n",
       "\n",
       "          [[7, 6, 6, ..., 0, 0, 0],\n",
       "           [6, 9, 5, ..., 7, 8, 7],\n",
       "           [1, 4, 5, ..., 5, 4, 9],\n",
       "           ...,\n",
       "           [0, 7, 7, ..., 5, 2, 2],\n",
       "           [0, 6, 4, ..., 2, 7, 8],\n",
       "           [5, 7, 9, ..., 3, 0, 3]]],\n",
       "\n",
       "\n",
       "         [[[7, 3, 3, ..., 8, 7, 2],\n",
       "           [9, 4, 3, ..., 0, 3, 0],\n",
       "           [5, 4, 1, ..., 1, 8, 4],\n",
       "           ...,\n",
       "           [9, 6, 5, ..., 4, 7, 6],\n",
       "           [3, 5, 2, ..., 0, 5, 1],\n",
       "           [2, 6, 9, ..., 2, 8, 6]],\n",
       "\n",
       "          [[9, 4, 5, ..., 7, 7, 1],\n",
       "           [2, 6, 8, ..., 6, 0, 6],\n",
       "           [7, 8, 8, ..., 8, 7, 2],\n",
       "           ...,\n",
       "           [9, 8, 6, ..., 6, 1, 7],\n",
       "           [0, 2, 1, ..., 3, 1, 4],\n",
       "           [3, 7, 9, ..., 9, 2, 3]],\n",
       "\n",
       "          [[6, 2, 0, ..., 3, 1, 5],\n",
       "           [8, 4, 1, ..., 5, 9, 0],\n",
       "           [4, 3, 5, ..., 7, 2, 5],\n",
       "           ...,\n",
       "           [0, 0, 4, ..., 7, 4, 0],\n",
       "           [5, 3, 2, ..., 2, 8, 2],\n",
       "           [8, 0, 2, ..., 8, 2, 8]],\n",
       "\n",
       "          [[8, 7, 6, ..., 1, 8, 7],\n",
       "           [9, 7, 9, ..., 0, 3, 7],\n",
       "           [6, 6, 9, ..., 4, 3, 2],\n",
       "           ...,\n",
       "           [2, 5, 4, ..., 3, 6, 3],\n",
       "           [2, 7, 0, ..., 1, 3, 1],\n",
       "           [8, 5, 8, ..., 1, 9, 7]],\n",
       "\n",
       "          [[3, 4, 4, ..., 1, 0, 3],\n",
       "           [6, 5, 8, ..., 2, 6, 8],\n",
       "           [5, 7, 4, ..., 5, 2, 8],\n",
       "           ...,\n",
       "           [8, 5, 2, ..., 1, 9, 0],\n",
       "           [8, 1, 7, ..., 2, 7, 3],\n",
       "           [1, 7, 9, ..., 9, 7, 8]],\n",
       "\n",
       "          [[6, 6, 5, ..., 4, 1, 6],\n",
       "           [3, 3, 0, ..., 1, 7, 6],\n",
       "           [9, 7, 8, ..., 3, 8, 5],\n",
       "           ...,\n",
       "           [1, 0, 3, ..., 6, 2, 9],\n",
       "           [2, 4, 1, ..., 9, 1, 9],\n",
       "           [2, 5, 0, ..., 1, 9, 1]]],\n",
       "\n",
       "\n",
       "         [[[8, 1, 0, ..., 9, 5, 9],\n",
       "           [0, 1, 8, ..., 1, 0, 0],\n",
       "           [1, 5, 8, ..., 0, 5, 1],\n",
       "           ...,\n",
       "           [6, 4, 8, ..., 1, 0, 5],\n",
       "           [5, 4, 3, ..., 9, 0, 4],\n",
       "           [8, 4, 8, ..., 5, 3, 7]],\n",
       "\n",
       "          [[1, 2, 3, ..., 1, 5, 6],\n",
       "           [4, 7, 8, ..., 7, 4, 6],\n",
       "           [0, 6, 5, ..., 6, 9, 6],\n",
       "           ...,\n",
       "           [3, 3, 6, ..., 1, 8, 7],\n",
       "           [0, 0, 1, ..., 3, 1, 4],\n",
       "           [3, 7, 6, ..., 2, 4, 9]],\n",
       "\n",
       "          [[7, 6, 6, ..., 8, 6, 1],\n",
       "           [5, 3, 4, ..., 6, 8, 2],\n",
       "           [7, 0, 3, ..., 6, 2, 1],\n",
       "           ...,\n",
       "           [7, 5, 3, ..., 1, 3, 4],\n",
       "           [0, 1, 4, ..., 1, 9, 3],\n",
       "           [4, 1, 1, ..., 0, 5, 0]],\n",
       "\n",
       "          [[6, 1, 9, ..., 0, 9, 5],\n",
       "           [2, 9, 0, ..., 7, 1, 4],\n",
       "           [9, 1, 8, ..., 4, 4, 1],\n",
       "           ...,\n",
       "           [4, 7, 9, ..., 7, 4, 0],\n",
       "           [5, 1, 5, ..., 8, 1, 1],\n",
       "           [7, 6, 3, ..., 1, 6, 3]],\n",
       "\n",
       "          [[0, 8, 3, ..., 2, 5, 4],\n",
       "           [9, 7, 4, ..., 2, 3, 8],\n",
       "           [9, 0, 8, ..., 2, 5, 4],\n",
       "           ...,\n",
       "           [9, 9, 5, ..., 9, 5, 5],\n",
       "           [8, 2, 2, ..., 3, 1, 2],\n",
       "           [3, 9, 0, ..., 2, 3, 5]],\n",
       "\n",
       "          [[9, 2, 8, ..., 0, 8, 7],\n",
       "           [5, 9, 2, ..., 9, 5, 2],\n",
       "           [0, 4, 6, ..., 3, 0, 2],\n",
       "           ...,\n",
       "           [6, 3, 7, ..., 0, 7, 4],\n",
       "           [1, 1, 3, ..., 1, 2, 9],\n",
       "           [4, 4, 8, ..., 3, 6, 9]]]]],\n",
       "\n",
       "\n",
       "\n",
       "\n",
       "       [[[[[1, 7, 6, ..., 0, 3, 7],\n",
       "           [1, 3, 4, ..., 9, 6, 2],\n",
       "           [4, 9, 7, ..., 7, 9, 4],\n",
       "           ...,\n",
       "           [8, 0, 9, ..., 2, 4, 7],\n",
       "           [2, 2, 1, ..., 3, 8, 0],\n",
       "           [1, 5, 6, ..., 0, 6, 2]],\n",
       "\n",
       "          [[9, 8, 9, ..., 8, 9, 3],\n",
       "           [5, 6, 2, ..., 1, 4, 6],\n",
       "           [4, 8, 4, ..., 6, 6, 5],\n",
       "           ...,\n",
       "           [2, 9, 3, ..., 5, 4, 4],\n",
       "           [3, 3, 9, ..., 2, 4, 9],\n",
       "           [9, 6, 8, ..., 6, 9, 9]],\n",
       "\n",
       "          [[2, 7, 0, ..., 7, 4, 4],\n",
       "           [4, 4, 1, ..., 4, 2, 3],\n",
       "           [5, 5, 6, ..., 5, 2, 4],\n",
       "           ...,\n",
       "           [5, 8, 2, ..., 3, 0, 1],\n",
       "           [5, 6, 9, ..., 6, 3, 4],\n",
       "           [5, 8, 4, ..., 0, 2, 8]],\n",
       "\n",
       "          [[9, 9, 0, ..., 1, 4, 2],\n",
       "           [4, 0, 5, ..., 0, 6, 3],\n",
       "           [2, 7, 6, ..., 3, 1, 0],\n",
       "           ...,\n",
       "           [5, 2, 4, ..., 5, 1, 8],\n",
       "           [2, 4, 7, ..., 2, 5, 4],\n",
       "           [6, 4, 7, ..., 4, 2, 5]],\n",
       "\n",
       "          [[2, 4, 1, ..., 3, 3, 3],\n",
       "           [8, 6, 8, ..., 7, 2, 4],\n",
       "           [7, 3, 8, ..., 0, 6, 9],\n",
       "           ...,\n",
       "           [5, 3, 6, ..., 0, 9, 4],\n",
       "           [8, 9, 8, ..., 5, 6, 2],\n",
       "           [2, 4, 1, ..., 2, 6, 4]],\n",
       "\n",
       "          [[2, 9, 1, ..., 8, 0, 7],\n",
       "           [1, 6, 4, ..., 1, 1, 3],\n",
       "           [4, 0, 0, ..., 5, 7, 9],\n",
       "           ...,\n",
       "           [5, 4, 5, ..., 2, 7, 9],\n",
       "           [8, 2, 0, ..., 3, 8, 6],\n",
       "           [5, 6, 4, ..., 1, 9, 2]]],\n",
       "\n",
       "\n",
       "         [[[4, 9, 2, ..., 3, 8, 3],\n",
       "           [4, 5, 3, ..., 1, 1, 3],\n",
       "           [2, 9, 7, ..., 4, 0, 9],\n",
       "           ...,\n",
       "           [3, 0, 9, ..., 0, 0, 4],\n",
       "           [6, 2, 5, ..., 8, 1, 0],\n",
       "           [1, 2, 2, ..., 1, 0, 9]],\n",
       "\n",
       "          [[0, 8, 1, ..., 4, 1, 2],\n",
       "           [9, 4, 2, ..., 9, 1, 3],\n",
       "           [7, 1, 6, ..., 1, 1, 1],\n",
       "           ...,\n",
       "           [9, 5, 3, ..., 6, 7, 9],\n",
       "           [6, 3, 6, ..., 3, 6, 1],\n",
       "           [2, 1, 0, ..., 6, 4, 6]],\n",
       "\n",
       "          [[1, 2, 1, ..., 9, 7, 2],\n",
       "           [8, 4, 2, ..., 4, 7, 1],\n",
       "           [2, 6, 8, ..., 0, 0, 8],\n",
       "           ...,\n",
       "           [3, 4, 3, ..., 8, 4, 2],\n",
       "           [0, 2, 7, ..., 7, 6, 5],\n",
       "           [9, 6, 7, ..., 2, 8, 2]],\n",
       "\n",
       "          [[0, 5, 5, ..., 0, 9, 3],\n",
       "           [5, 1, 8, ..., 5, 9, 3],\n",
       "           [0, 1, 7, ..., 6, 2, 3],\n",
       "           ...,\n",
       "           [8, 1, 3, ..., 2, 3, 0],\n",
       "           [4, 9, 6, ..., 2, 5, 7],\n",
       "           [8, 3, 0, ..., 1, 6, 4]],\n",
       "\n",
       "          [[9, 3, 6, ..., 6, 6, 9],\n",
       "           [8, 9, 5, ..., 2, 8, 4],\n",
       "           [8, 0, 1, ..., 4, 0, 9],\n",
       "           ...,\n",
       "           [1, 6, 4, ..., 6, 0, 0],\n",
       "           [7, 4, 0, ..., 8, 6, 5],\n",
       "           [7, 0, 8, ..., 2, 8, 0]],\n",
       "\n",
       "          [[7, 8, 6, ..., 9, 7, 0],\n",
       "           [3, 2, 8, ..., 0, 8, 2],\n",
       "           [9, 1, 9, ..., 1, 9, 9],\n",
       "           ...,\n",
       "           [6, 0, 4, ..., 9, 2, 0],\n",
       "           [8, 2, 3, ..., 1, 9, 7],\n",
       "           [9, 5, 8, ..., 7, 6, 2]]],\n",
       "\n",
       "\n",
       "         [[[3, 2, 8, ..., 2, 6, 0],\n",
       "           [0, 6, 9, ..., 2, 2, 2],\n",
       "           [3, 9, 6, ..., 7, 5, 8],\n",
       "           ...,\n",
       "           [4, 3, 3, ..., 5, 5, 5],\n",
       "           [3, 2, 7, ..., 0, 8, 6],\n",
       "           [1, 4, 7, ..., 5, 4, 9]],\n",
       "\n",
       "          [[8, 2, 3, ..., 4, 5, 3],\n",
       "           [9, 1, 7, ..., 1, 6, 1],\n",
       "           [3, 0, 7, ..., 8, 2, 4],\n",
       "           ...,\n",
       "           [9, 9, 3, ..., 2, 3, 8],\n",
       "           [4, 4, 8, ..., 6, 9, 1],\n",
       "           [4, 4, 5, ..., 7, 9, 2]],\n",
       "\n",
       "          [[4, 1, 0, ..., 3, 5, 3],\n",
       "           [2, 6, 0, ..., 5, 8, 9],\n",
       "           [0, 9, 3, ..., 7, 6, 1],\n",
       "           ...,\n",
       "           [3, 4, 0, ..., 4, 2, 9],\n",
       "           [0, 1, 0, ..., 7, 8, 3],\n",
       "           [4, 4, 1, ..., 5, 7, 5]],\n",
       "\n",
       "          [[4, 5, 1, ..., 1, 3, 8],\n",
       "           [3, 4, 8, ..., 7, 3, 9],\n",
       "           [0, 1, 6, ..., 1, 1, 5],\n",
       "           ...,\n",
       "           [2, 6, 7, ..., 5, 7, 5],\n",
       "           [4, 2, 2, ..., 3, 4, 5],\n",
       "           [5, 7, 0, ..., 0, 7, 8]],\n",
       "\n",
       "          [[4, 9, 7, ..., 9, 0, 4],\n",
       "           [1, 9, 4, ..., 7, 0, 2],\n",
       "           [9, 8, 2, ..., 8, 6, 1],\n",
       "           ...,\n",
       "           [9, 3, 1, ..., 3, 4, 3],\n",
       "           [1, 2, 4, ..., 4, 4, 3],\n",
       "           [4, 1, 7, ..., 8, 9, 6]],\n",
       "\n",
       "          [[3, 0, 8, ..., 6, 7, 1],\n",
       "           [7, 4, 4, ..., 9, 4, 2],\n",
       "           [6, 6, 5, ..., 0, 6, 8],\n",
       "           ...,\n",
       "           [0, 5, 0, ..., 8, 5, 7],\n",
       "           [0, 5, 6, ..., 6, 0, 8],\n",
       "           [0, 3, 6, ..., 4, 6, 6]]],\n",
       "\n",
       "\n",
       "         [[[1, 7, 7, ..., 4, 5, 5],\n",
       "           [2, 7, 4, ..., 4, 0, 4],\n",
       "           [6, 8, 9, ..., 4, 0, 7],\n",
       "           ...,\n",
       "           [2, 1, 8, ..., 3, 6, 0],\n",
       "           [5, 6, 6, ..., 5, 3, 6],\n",
       "           [8, 7, 2, ..., 6, 4, 1]],\n",
       "\n",
       "          [[3, 2, 3, ..., 3, 2, 0],\n",
       "           [9, 0, 0, ..., 4, 2, 3],\n",
       "           [8, 8, 5, ..., 1, 0, 0],\n",
       "           ...,\n",
       "           [1, 1, 7, ..., 5, 7, 5],\n",
       "           [7, 3, 1, ..., 9, 0, 7],\n",
       "           [3, 1, 0, ..., 4, 1, 8]],\n",
       "\n",
       "          [[3, 4, 4, ..., 2, 8, 5],\n",
       "           [5, 2, 2, ..., 2, 3, 6],\n",
       "           [1, 3, 1, ..., 0, 6, 0],\n",
       "           ...,\n",
       "           [8, 6, 9, ..., 5, 0, 3],\n",
       "           [3, 5, 8, ..., 5, 9, 7],\n",
       "           [4, 7, 6, ..., 9, 0, 4]],\n",
       "\n",
       "          [[6, 9, 3, ..., 9, 5, 2],\n",
       "           [0, 3, 8, ..., 5, 0, 8],\n",
       "           [7, 4, 3, ..., 3, 4, 1],\n",
       "           ...,\n",
       "           [4, 6, 7, ..., 6, 0, 2],\n",
       "           [4, 2, 5, ..., 6, 4, 6],\n",
       "           [0, 4, 1, ..., 8, 3, 1]],\n",
       "\n",
       "          [[2, 6, 9, ..., 8, 9, 2],\n",
       "           [5, 1, 0, ..., 5, 2, 1],\n",
       "           [4, 2, 4, ..., 9, 3, 1],\n",
       "           ...,\n",
       "           [0, 4, 7, ..., 3, 3, 1],\n",
       "           [0, 9, 5, ..., 8, 1, 7],\n",
       "           [2, 1, 7, ..., 7, 0, 6]],\n",
       "\n",
       "          [[1, 7, 5, ..., 3, 4, 0],\n",
       "           [6, 8, 9, ..., 4, 9, 6],\n",
       "           [5, 9, 2, ..., 8, 9, 7],\n",
       "           ...,\n",
       "           [8, 5, 7, ..., 8, 2, 9],\n",
       "           [0, 8, 9, ..., 0, 6, 1],\n",
       "           [6, 0, 6, ..., 1, 6, 7]]],\n",
       "\n",
       "\n",
       "         [[[1, 6, 6, ..., 1, 3, 5],\n",
       "           [8, 0, 8, ..., 2, 9, 6],\n",
       "           [4, 1, 0, ..., 8, 8, 9],\n",
       "           ...,\n",
       "           [2, 7, 4, ..., 2, 2, 2],\n",
       "           [1, 4, 6, ..., 5, 2, 5],\n",
       "           [2, 2, 2, ..., 5, 2, 3]],\n",
       "\n",
       "          [[3, 2, 7, ..., 1, 0, 8],\n",
       "           [1, 6, 8, ..., 3, 3, 1],\n",
       "           [4, 9, 2, ..., 6, 9, 6],\n",
       "           ...,\n",
       "           [5, 3, 1, ..., 4, 6, 8],\n",
       "           [5, 3, 9, ..., 8, 0, 0],\n",
       "           [7, 2, 1, ..., 7, 5, 6]],\n",
       "\n",
       "          [[5, 6, 9, ..., 1, 1, 0],\n",
       "           [2, 2, 4, ..., 2, 5, 0],\n",
       "           [0, 4, 4, ..., 2, 5, 6],\n",
       "           ...,\n",
       "           [9, 7, 3, ..., 4, 6, 8],\n",
       "           [4, 1, 5, ..., 6, 6, 4],\n",
       "           [7, 9, 9, ..., 6, 8, 8]],\n",
       "\n",
       "          [[6, 5, 8, ..., 7, 4, 1],\n",
       "           [2, 5, 3, ..., 4, 1, 6],\n",
       "           [4, 4, 8, ..., 5, 2, 6],\n",
       "           ...,\n",
       "           [0, 9, 6, ..., 8, 5, 3],\n",
       "           [7, 4, 1, ..., 8, 3, 0],\n",
       "           [9, 7, 3, ..., 8, 6, 1]],\n",
       "\n",
       "          [[5, 7, 4, ..., 1, 5, 9],\n",
       "           [8, 1, 1, ..., 7, 0, 3],\n",
       "           [5, 7, 6, ..., 5, 3, 3],\n",
       "           ...,\n",
       "           [4, 8, 0, ..., 8, 8, 9],\n",
       "           [9, 5, 5, ..., 2, 2, 2],\n",
       "           [2, 3, 1, ..., 2, 1, 7]],\n",
       "\n",
       "          [[6, 2, 7, ..., 9, 3, 1],\n",
       "           [4, 0, 0, ..., 2, 1, 8],\n",
       "           [8, 8, 5, ..., 9, 0, 1],\n",
       "           ...,\n",
       "           [2, 7, 2, ..., 0, 8, 2],\n",
       "           [5, 7, 8, ..., 8, 2, 9],\n",
       "           [7, 2, 8, ..., 5, 1, 0]]]],\n",
       "\n",
       "\n",
       "\n",
       "        [[[[8, 4, 0, ..., 0, 0, 6],\n",
       "           [6, 6, 9, ..., 5, 7, 5],\n",
       "           [5, 7, 8, ..., 0, 9, 1],\n",
       "           ...,\n",
       "           [9, 6, 6, ..., 9, 9, 3],\n",
       "           [4, 3, 9, ..., 0, 8, 0],\n",
       "           [3, 0, 6, ..., 4, 8, 7]],\n",
       "\n",
       "          [[4, 4, 0, ..., 5, 9, 0],\n",
       "           [3, 0, 2, ..., 4, 5, 1],\n",
       "           [4, 2, 4, ..., 3, 6, 6],\n",
       "           ...,\n",
       "           [8, 4, 6, ..., 0, 8, 2],\n",
       "           [8, 4, 9, ..., 6, 5, 9],\n",
       "           [7, 2, 7, ..., 9, 2, 5]],\n",
       "\n",
       "          [[5, 8, 2, ..., 4, 2, 5],\n",
       "           [0, 9, 7, ..., 5, 6, 7],\n",
       "           [9, 5, 7, ..., 4, 7, 5],\n",
       "           ...,\n",
       "           [1, 8, 0, ..., 5, 0, 2],\n",
       "           [1, 6, 3, ..., 1, 4, 3],\n",
       "           [3, 4, 8, ..., 8, 5, 7]],\n",
       "\n",
       "          [[5, 4, 5, ..., 3, 1, 2],\n",
       "           [6, 2, 3, ..., 6, 2, 6],\n",
       "           [1, 6, 3, ..., 7, 3, 7],\n",
       "           ...,\n",
       "           [2, 7, 4, ..., 9, 4, 3],\n",
       "           [0, 2, 3, ..., 8, 9, 0],\n",
       "           [1, 6, 1, ..., 6, 2, 7]],\n",
       "\n",
       "          [[2, 4, 5, ..., 3, 9, 4],\n",
       "           [6, 6, 5, ..., 6, 0, 1],\n",
       "           [5, 6, 9, ..., 2, 9, 0],\n",
       "           ...,\n",
       "           [9, 0, 4, ..., 2, 0, 4],\n",
       "           [3, 3, 7, ..., 1, 8, 6],\n",
       "           [5, 7, 6, ..., 9, 5, 6]],\n",
       "\n",
       "          [[7, 9, 5, ..., 5, 1, 1],\n",
       "           [6, 4, 9, ..., 7, 5, 8],\n",
       "           [4, 2, 7, ..., 1, 5, 7],\n",
       "           ...,\n",
       "           [6, 3, 1, ..., 5, 0, 6],\n",
       "           [8, 3, 6, ..., 7, 0, 8],\n",
       "           [0, 0, 2, ..., 5, 5, 0]]],\n",
       "\n",
       "\n",
       "         [[[1, 2, 4, ..., 8, 8, 5],\n",
       "           [0, 3, 8, ..., 7, 5, 6],\n",
       "           [1, 7, 7, ..., 3, 3, 2],\n",
       "           ...,\n",
       "           [0, 9, 3, ..., 8, 0, 3],\n",
       "           [7, 9, 8, ..., 7, 5, 5],\n",
       "           [0, 6, 1, ..., 4, 0, 3]],\n",
       "\n",
       "          [[5, 7, 2, ..., 6, 3, 2],\n",
       "           [0, 8, 4, ..., 2, 8, 7],\n",
       "           [9, 7, 9, ..., 4, 9, 1],\n",
       "           ...,\n",
       "           [1, 8, 2, ..., 5, 7, 2],\n",
       "           [8, 0, 1, ..., 9, 4, 6],\n",
       "           [9, 2, 4, ..., 8, 1, 3]],\n",
       "\n",
       "          [[8, 5, 1, ..., 7, 4, 6],\n",
       "           [6, 7, 4, ..., 2, 5, 1],\n",
       "           [1, 8, 3, ..., 4, 7, 2],\n",
       "           ...,\n",
       "           [8, 4, 5, ..., 6, 3, 6],\n",
       "           [8, 8, 6, ..., 1, 2, 3],\n",
       "           [7, 1, 7, ..., 0, 7, 1]],\n",
       "\n",
       "          [[8, 2, 4, ..., 0, 4, 4],\n",
       "           [6, 8, 5, ..., 9, 9, 4],\n",
       "           [8, 3, 9, ..., 2, 1, 0],\n",
       "           ...,\n",
       "           [6, 5, 0, ..., 3, 7, 3],\n",
       "           [1, 2, 6, ..., 4, 6, 7],\n",
       "           [8, 6, 6, ..., 8, 3, 9]],\n",
       "\n",
       "          [[4, 4, 1, ..., 1, 5, 8],\n",
       "           [6, 6, 8, ..., 5, 8, 7],\n",
       "           [6, 5, 9, ..., 0, 0, 7],\n",
       "           ...,\n",
       "           [4, 7, 7, ..., 1, 5, 6],\n",
       "           [3, 3, 4, ..., 8, 1, 5],\n",
       "           [3, 2, 3, ..., 4, 7, 3]],\n",
       "\n",
       "          [[5, 7, 1, ..., 6, 1, 3],\n",
       "           [6, 1, 9, ..., 7, 0, 5],\n",
       "           [5, 8, 1, ..., 5, 2, 6],\n",
       "           ...,\n",
       "           [8, 2, 4, ..., 9, 5, 4],\n",
       "           [2, 7, 9, ..., 2, 7, 4],\n",
       "           [7, 0, 8, ..., 9, 5, 0]]],\n",
       "\n",
       "\n",
       "         [[[1, 9, 1, ..., 9, 3, 8],\n",
       "           [8, 6, 1, ..., 3, 9, 0],\n",
       "           [0, 8, 8, ..., 1, 0, 1],\n",
       "           ...,\n",
       "           [2, 9, 0, ..., 2, 7, 5],\n",
       "           [7, 4, 2, ..., 2, 5, 9],\n",
       "           [8, 1, 3, ..., 1, 1, 3]],\n",
       "\n",
       "          [[1, 4, 0, ..., 0, 5, 7],\n",
       "           [2, 9, 7, ..., 2, 2, 5],\n",
       "           [5, 5, 2, ..., 4, 2, 5],\n",
       "           ...,\n",
       "           [6, 3, 9, ..., 6, 1, 3],\n",
       "           [6, 5, 8, ..., 9, 1, 8],\n",
       "           [9, 0, 0, ..., 6, 8, 4]],\n",
       "\n",
       "          [[4, 4, 9, ..., 8, 7, 1],\n",
       "           [6, 3, 8, ..., 3, 6, 9],\n",
       "           [0, 6, 7, ..., 8, 2, 6],\n",
       "           ...,\n",
       "           [8, 8, 1, ..., 4, 7, 7],\n",
       "           [0, 6, 1, ..., 6, 1, 0],\n",
       "           [3, 5, 8, ..., 5, 0, 4]],\n",
       "\n",
       "          [[8, 6, 0, ..., 8, 5, 7],\n",
       "           [5, 5, 3, ..., 8, 9, 2],\n",
       "           [7, 0, 5, ..., 4, 0, 0],\n",
       "           ...,\n",
       "           [1, 0, 6, ..., 1, 8, 8],\n",
       "           [4, 7, 6, ..., 3, 7, 5],\n",
       "           [2, 2, 0, ..., 1, 2, 6]],\n",
       "\n",
       "          [[5, 7, 2, ..., 3, 7, 7],\n",
       "           [4, 8, 0, ..., 6, 4, 9],\n",
       "           [3, 1, 3, ..., 3, 4, 7],\n",
       "           ...,\n",
       "           [9, 6, 2, ..., 3, 2, 7],\n",
       "           [4, 0, 6, ..., 0, 5, 2],\n",
       "           [4, 9, 2, ..., 1, 2, 4]],\n",
       "\n",
       "          [[7, 9, 5, ..., 6, 9, 3],\n",
       "           [6, 8, 5, ..., 5, 1, 7],\n",
       "           [4, 4, 7, ..., 1, 8, 4],\n",
       "           ...,\n",
       "           [8, 2, 9, ..., 8, 4, 2],\n",
       "           [1, 1, 3, ..., 1, 8, 0],\n",
       "           [4, 8, 9, ..., 2, 9, 6]]],\n",
       "\n",
       "\n",
       "         [[[1, 0, 8, ..., 0, 9, 9],\n",
       "           [8, 2, 9, ..., 5, 1, 8],\n",
       "           [9, 9, 4, ..., 6, 2, 6],\n",
       "           ...,\n",
       "           [5, 8, 0, ..., 9, 8, 2],\n",
       "           [9, 9, 6, ..., 6, 6, 2],\n",
       "           [0, 1, 3, ..., 5, 8, 4]],\n",
       "\n",
       "          [[2, 4, 8, ..., 6, 6, 5],\n",
       "           [7, 7, 7, ..., 1, 9, 9],\n",
       "           [2, 1, 4, ..., 5, 3, 6],\n",
       "           ...,\n",
       "           [7, 8, 0, ..., 8, 7, 2],\n",
       "           [1, 7, 5, ..., 9, 9, 1],\n",
       "           [3, 9, 6, ..., 1, 1, 2]],\n",
       "\n",
       "          [[1, 1, 5, ..., 7, 3, 8],\n",
       "           [6, 9, 5, ..., 8, 3, 8],\n",
       "           [7, 5, 7, ..., 4, 0, 6],\n",
       "           ...,\n",
       "           [6, 7, 4, ..., 2, 6, 1],\n",
       "           [9, 0, 4, ..., 5, 2, 9],\n",
       "           [6, 2, 8, ..., 7, 9, 6]],\n",
       "\n",
       "          [[6, 3, 1, ..., 2, 6, 3],\n",
       "           [3, 2, 6, ..., 4, 8, 1],\n",
       "           [8, 7, 9, ..., 3, 3, 4],\n",
       "           ...,\n",
       "           [3, 7, 5, ..., 1, 7, 6],\n",
       "           [1, 9, 8, ..., 7, 9, 5],\n",
       "           [4, 7, 8, ..., 4, 0, 0]],\n",
       "\n",
       "          [[9, 6, 5, ..., 2, 0, 0],\n",
       "           [8, 6, 1, ..., 2, 1, 1],\n",
       "           [0, 4, 4, ..., 1, 4, 3],\n",
       "           ...,\n",
       "           [0, 9, 8, ..., 9, 0, 0],\n",
       "           [7, 5, 3, ..., 9, 8, 1],\n",
       "           [6, 1, 3, ..., 6, 3, 5]],\n",
       "\n",
       "          [[3, 2, 7, ..., 7, 7, 3],\n",
       "           [6, 1, 5, ..., 9, 4, 8],\n",
       "           [7, 1, 9, ..., 4, 6, 4],\n",
       "           ...,\n",
       "           [4, 6, 7, ..., 9, 6, 2],\n",
       "           [7, 8, 9, ..., 1, 4, 8],\n",
       "           [5, 3, 7, ..., 8, 3, 5]]],\n",
       "\n",
       "\n",
       "         [[[2, 5, 7, ..., 0, 1, 4],\n",
       "           [2, 0, 4, ..., 1, 1, 0],\n",
       "           [2, 8, 8, ..., 4, 2, 1],\n",
       "           ...,\n",
       "           [6, 6, 1, ..., 4, 5, 2],\n",
       "           [4, 8, 1, ..., 3, 5, 4],\n",
       "           [9, 4, 2, ..., 8, 2, 3]],\n",
       "\n",
       "          [[3, 0, 1, ..., 5, 2, 7],\n",
       "           [7, 7, 0, ..., 7, 5, 7],\n",
       "           [1, 8, 2, ..., 6, 2, 0],\n",
       "           ...,\n",
       "           [3, 9, 2, ..., 9, 4, 5],\n",
       "           [3, 8, 2, ..., 3, 0, 6],\n",
       "           [1, 1, 1, ..., 6, 4, 4]],\n",
       "\n",
       "          [[4, 9, 7, ..., 8, 0, 2],\n",
       "           [3, 3, 5, ..., 6, 3, 8],\n",
       "           [3, 3, 5, ..., 5, 1, 0],\n",
       "           ...,\n",
       "           [0, 6, 5, ..., 8, 6, 8],\n",
       "           [7, 9, 6, ..., 0, 8, 2],\n",
       "           [0, 8, 3, ..., 5, 8, 8]],\n",
       "\n",
       "          [[7, 9, 7, ..., 3, 0, 7],\n",
       "           [0, 5, 3, ..., 2, 2, 3],\n",
       "           [5, 8, 6, ..., 9, 2, 4],\n",
       "           ...,\n",
       "           [2, 9, 2, ..., 6, 2, 9],\n",
       "           [8, 3, 9, ..., 6, 6, 1],\n",
       "           [8, 1, 3, ..., 4, 1, 3]],\n",
       "\n",
       "          [[0, 0, 4, ..., 0, 6, 8],\n",
       "           [1, 6, 9, ..., 9, 6, 7],\n",
       "           [8, 2, 6, ..., 0, 1, 9],\n",
       "           ...,\n",
       "           [0, 5, 9, ..., 5, 0, 7],\n",
       "           [8, 3, 3, ..., 8, 7, 4],\n",
       "           [0, 3, 4, ..., 2, 4, 7]],\n",
       "\n",
       "          [[6, 1, 1, ..., 8, 9, 9],\n",
       "           [5, 3, 3, ..., 9, 7, 0],\n",
       "           [7, 9, 8, ..., 2, 2, 3],\n",
       "           ...,\n",
       "           [7, 8, 7, ..., 2, 1, 0],\n",
       "           [2, 9, 4, ..., 6, 4, 1],\n",
       "           [0, 9, 6, ..., 4, 9, 8]]]],\n",
       "\n",
       "\n",
       "\n",
       "        [[[[7, 9, 7, ..., 8, 4, 4],\n",
       "           [4, 4, 9, ..., 3, 4, 4],\n",
       "           [4, 5, 7, ..., 0, 5, 9],\n",
       "           ...,\n",
       "           [4, 1, 4, ..., 0, 1, 4],\n",
       "           [9, 4, 5, ..., 6, 0, 0],\n",
       "           [4, 6, 4, ..., 7, 9, 6]],\n",
       "\n",
       "          [[4, 5, 7, ..., 8, 1, 8],\n",
       "           [4, 4, 1, ..., 4, 8, 0],\n",
       "           [1, 1, 7, ..., 1, 8, 8],\n",
       "           ...,\n",
       "           [3, 2, 7, ..., 2, 3, 8],\n",
       "           [4, 7, 5, ..., 9, 2, 4],\n",
       "           [3, 4, 9, ..., 2, 8, 9]],\n",
       "\n",
       "          [[1, 4, 6, ..., 5, 9, 2],\n",
       "           [2, 7, 8, ..., 2, 7, 8],\n",
       "           [5, 0, 8, ..., 7, 9, 4],\n",
       "           ...,\n",
       "           [1, 5, 9, ..., 9, 1, 1],\n",
       "           [9, 3, 3, ..., 8, 2, 8],\n",
       "           [6, 7, 7, ..., 8, 8, 5]],\n",
       "\n",
       "          [[8, 9, 1, ..., 0, 4, 0],\n",
       "           [2, 0, 9, ..., 6, 3, 1],\n",
       "           [4, 5, 8, ..., 9, 3, 1],\n",
       "           ...,\n",
       "           [5, 8, 6, ..., 9, 3, 9],\n",
       "           [2, 7, 7, ..., 5, 4, 3],\n",
       "           [8, 3, 7, ..., 0, 0, 0]],\n",
       "\n",
       "          [[6, 9, 9, ..., 7, 1, 3],\n",
       "           [1, 3, 8, ..., 1, 4, 9],\n",
       "           [1, 5, 6, ..., 8, 4, 9],\n",
       "           ...,\n",
       "           [1, 7, 5, ..., 2, 5, 7],\n",
       "           [4, 4, 1, ..., 5, 6, 1],\n",
       "           [6, 6, 5, ..., 4, 9, 5]],\n",
       "\n",
       "          [[7, 3, 6, ..., 4, 5, 5],\n",
       "           [1, 5, 9, ..., 9, 7, 1],\n",
       "           [2, 8, 8, ..., 3, 6, 2],\n",
       "           ...,\n",
       "           [4, 6, 5, ..., 9, 4, 0],\n",
       "           [0, 9, 2, ..., 2, 9, 4],\n",
       "           [6, 9, 7, ..., 1, 3, 6]]],\n",
       "\n",
       "\n",
       "         [[[1, 4, 9, ..., 0, 1, 8],\n",
       "           [4, 4, 4, ..., 8, 4, 4],\n",
       "           [1, 3, 7, ..., 2, 9, 9],\n",
       "           ...,\n",
       "           [7, 4, 8, ..., 2, 4, 1],\n",
       "           [4, 2, 4, ..., 8, 1, 5],\n",
       "           [0, 4, 8, ..., 7, 0, 0]],\n",
       "\n",
       "          [[4, 4, 1, ..., 0, 6, 0],\n",
       "           [3, 7, 2, ..., 1, 1, 1],\n",
       "           [4, 7, 0, ..., 9, 2, 7],\n",
       "           ...,\n",
       "           [1, 4, 2, ..., 5, 0, 6],\n",
       "           [8, 7, 6, ..., 9, 1, 8],\n",
       "           [1, 5, 0, ..., 1, 2, 7]],\n",
       "\n",
       "          [[4, 5, 4, ..., 8, 2, 2],\n",
       "           [3, 8, 4, ..., 2, 2, 9],\n",
       "           [3, 7, 1, ..., 0, 3, 2],\n",
       "           ...,\n",
       "           [5, 7, 7, ..., 9, 0, 2],\n",
       "           [4, 3, 7, ..., 5, 0, 4],\n",
       "           [4, 6, 5, ..., 5, 9, 9]],\n",
       "\n",
       "          [[7, 6, 5, ..., 1, 8, 2],\n",
       "           [9, 6, 4, ..., 8, 2, 5],\n",
       "           [5, 8, 1, ..., 9, 4, 8],\n",
       "           ...,\n",
       "           [9, 5, 2, ..., 7, 1, 5],\n",
       "           [1, 4, 0, ..., 1, 5, 0],\n",
       "           [7, 8, 6, ..., 1, 9, 4]],\n",
       "\n",
       "          [[5, 9, 1, ..., 2, 2, 0],\n",
       "           [7, 4, 6, ..., 3, 5, 9],\n",
       "           [4, 0, 8, ..., 9, 4, 3],\n",
       "           ...,\n",
       "           [7, 1, 2, ..., 1, 0, 2],\n",
       "           [2, 4, 1, ..., 4, 0, 9],\n",
       "           [0, 8, 6, ..., 0, 8, 2]],\n",
       "\n",
       "          [[5, 4, 7, ..., 4, 1, 8],\n",
       "           [5, 8, 1, ..., 7, 7, 6],\n",
       "           [3, 0, 2, ..., 1, 5, 1],\n",
       "           ...,\n",
       "           [7, 6, 3, ..., 8, 4, 0],\n",
       "           [4, 5, 9, ..., 1, 1, 2],\n",
       "           [8, 2, 8, ..., 8, 3, 3]]],\n",
       "\n",
       "\n",
       "         [[[7, 3, 3, ..., 4, 5, 9],\n",
       "           [1, 0, 4, ..., 5, 7, 7],\n",
       "           [3, 7, 1, ..., 9, 7, 7],\n",
       "           ...,\n",
       "           [9, 3, 9, ..., 8, 4, 3],\n",
       "           [5, 3, 8, ..., 4, 4, 8],\n",
       "           [1, 9, 2, ..., 7, 0, 5]],\n",
       "\n",
       "          [[7, 1, 2, ..., 1, 5, 2],\n",
       "           [9, 9, 8, ..., 7, 8, 0],\n",
       "           [8, 8, 5, ..., 5, 7, 0],\n",
       "           ...,\n",
       "           [7, 5, 5, ..., 1, 3, 1],\n",
       "           [4, 9, 5, ..., 6, 0, 1],\n",
       "           [0, 6, 7, ..., 2, 1, 3]],\n",
       "\n",
       "          [[1, 6, 8, ..., 7, 3, 6],\n",
       "           [0, 9, 1, ..., 5, 6, 5],\n",
       "           [8, 4, 4, ..., 8, 4, 7],\n",
       "           ...,\n",
       "           [9, 6, 3, ..., 8, 8, 7],\n",
       "           [7, 5, 4, ..., 8, 7, 7],\n",
       "           [2, 8, 8, ..., 7, 9, 3]],\n",
       "\n",
       "          [[7, 6, 5, ..., 9, 4, 6],\n",
       "           [1, 0, 4, ..., 6, 1, 8],\n",
       "           [8, 5, 6, ..., 3, 5, 0],\n",
       "           ...,\n",
       "           [6, 6, 2, ..., 9, 2, 9],\n",
       "           [7, 5, 3, ..., 4, 6, 0],\n",
       "           [3, 3, 6, ..., 4, 0, 3]],\n",
       "\n",
       "          [[0, 6, 9, ..., 1, 3, 4],\n",
       "           [6, 6, 9, ..., 1, 9, 4],\n",
       "           [7, 6, 2, ..., 8, 4, 0],\n",
       "           ...,\n",
       "           [9, 7, 5, ..., 6, 3, 0],\n",
       "           [8, 0, 2, ..., 4, 5, 8],\n",
       "           [8, 1, 2, ..., 8, 3, 7]],\n",
       "\n",
       "          [[9, 8, 6, ..., 0, 6, 4],\n",
       "           [6, 8, 3, ..., 5, 1, 5],\n",
       "           [5, 0, 0, ..., 0, 9, 3],\n",
       "           ...,\n",
       "           [0, 2, 5, ..., 5, 4, 9],\n",
       "           [4, 5, 5, ..., 4, 5, 1],\n",
       "           [1, 5, 8, ..., 3, 1, 4]]],\n",
       "\n",
       "\n",
       "         [[[5, 0, 8, ..., 8, 6, 9],\n",
       "           [9, 0, 1, ..., 3, 4, 3],\n",
       "           [5, 9, 8, ..., 0, 7, 9],\n",
       "           ...,\n",
       "           [7, 3, 3, ..., 7, 4, 8],\n",
       "           [0, 8, 2, ..., 9, 7, 2],\n",
       "           [4, 5, 1, ..., 6, 4, 4]],\n",
       "\n",
       "          [[4, 5, 9, ..., 3, 6, 7],\n",
       "           [5, 4, 5, ..., 9, 9, 3],\n",
       "           [3, 3, 7, ..., 4, 7, 9],\n",
       "           ...,\n",
       "           [9, 8, 1, ..., 8, 1, 8],\n",
       "           [1, 9, 4, ..., 0, 0, 1],\n",
       "           [4, 2, 9, ..., 8, 8, 8]],\n",
       "\n",
       "          [[2, 2, 7, ..., 3, 7, 0],\n",
       "           [6, 5, 0, ..., 3, 0, 2],\n",
       "           [9, 2, 6, ..., 6, 4, 1],\n",
       "           ...,\n",
       "           [0, 3, 1, ..., 2, 5, 8],\n",
       "           [3, 0, 1, ..., 7, 1, 2],\n",
       "           [5, 7, 5, ..., 1, 4, 1]],\n",
       "\n",
       "          [[5, 7, 2, ..., 7, 4, 1],\n",
       "           [0, 1, 0, ..., 5, 4, 8],\n",
       "           [7, 3, 5, ..., 9, 1, 1],\n",
       "           ...,\n",
       "           [7, 6, 6, ..., 4, 5, 7],\n",
       "           [3, 1, 5, ..., 4, 1, 0],\n",
       "           [9, 3, 7, ..., 4, 9, 5]],\n",
       "\n",
       "          [[4, 5, 2, ..., 9, 5, 5],\n",
       "           [2, 5, 8, ..., 5, 7, 2],\n",
       "           [3, 7, 5, ..., 4, 3, 1],\n",
       "           ...,\n",
       "           [7, 0, 7, ..., 9, 7, 5],\n",
       "           [3, 0, 9, ..., 1, 9, 5],\n",
       "           [1, 9, 3, ..., 9, 1, 0]],\n",
       "\n",
       "          [[3, 8, 7, ..., 9, 7, 3],\n",
       "           [4, 2, 8, ..., 9, 0, 9],\n",
       "           [9, 7, 3, ..., 1, 2, 9],\n",
       "           ...,\n",
       "           [7, 5, 3, ..., 1, 6, 6],\n",
       "           [7, 7, 6, ..., 6, 7, 8],\n",
       "           [7, 7, 7, ..., 0, 8, 7]]],\n",
       "\n",
       "\n",
       "         [[[0, 9, 4, ..., 2, 4, 0],\n",
       "           [2, 0, 6, ..., 4, 8, 2],\n",
       "           [4, 2, 8, ..., 7, 7, 6],\n",
       "           ...,\n",
       "           [3, 0, 8, ..., 6, 7, 2],\n",
       "           [6, 3, 5, ..., 4, 0, 6],\n",
       "           [0, 4, 8, ..., 4, 4, 3]],\n",
       "\n",
       "          [[7, 7, 7, ..., 9, 5, 1],\n",
       "           [9, 8, 6, ..., 0, 9, 2],\n",
       "           [0, 6, 4, ..., 5, 1, 8],\n",
       "           ...,\n",
       "           [4, 9, 7, ..., 3, 1, 1],\n",
       "           [2, 4, 6, ..., 4, 2, 3],\n",
       "           [7, 4, 0, ..., 1, 6, 0]],\n",
       "\n",
       "          [[4, 3, 0, ..., 1, 6, 1],\n",
       "           [2, 6, 1, ..., 8, 1, 9],\n",
       "           [2, 8, 6, ..., 1, 5, 6],\n",
       "           ...,\n",
       "           [0, 2, 4, ..., 5, 0, 8],\n",
       "           [3, 9, 1, ..., 9, 1, 2],\n",
       "           [4, 2, 2, ..., 1, 6, 2]],\n",
       "\n",
       "          [[8, 4, 2, ..., 4, 5, 8],\n",
       "           [4, 4, 8, ..., 1, 6, 4],\n",
       "           [1, 8, 3, ..., 8, 1, 8],\n",
       "           ...,\n",
       "           [0, 2, 2, ..., 1, 1, 9],\n",
       "           [0, 7, 4, ..., 6, 0, 8],\n",
       "           [9, 0, 1, ..., 8, 7, 2]],\n",
       "\n",
       "          [[2, 7, 3, ..., 1, 7, 4],\n",
       "           [2, 1, 2, ..., 7, 0, 2],\n",
       "           [3, 6, 2, ..., 2, 3, 7],\n",
       "           ...,\n",
       "           [9, 1, 7, ..., 1, 3, 9],\n",
       "           [1, 5, 0, ..., 4, 0, 3],\n",
       "           [5, 1, 2, ..., 6, 9, 0]],\n",
       "\n",
       "          [[9, 3, 5, ..., 3, 3, 0],\n",
       "           [4, 5, 5, ..., 9, 7, 4],\n",
       "           [3, 7, 7, ..., 1, 2, 7],\n",
       "           ...,\n",
       "           [9, 9, 0, ..., 0, 4, 1],\n",
       "           [3, 8, 0, ..., 2, 5, 6],\n",
       "           [8, 6, 1, ..., 7, 8, 4]]]],\n",
       "\n",
       "\n",
       "\n",
       "        [[[[2, 8, 6, ..., 1, 7, 1],\n",
       "           [2, 9, 5, ..., 4, 6, 0],\n",
       "           [0, 3, 9, ..., 8, 1, 3],\n",
       "           ...,\n",
       "           [4, 9, 1, ..., 0, 2, 7],\n",
       "           [3, 8, 0, ..., 1, 9, 8],\n",
       "           [9, 7, 8, ..., 9, 7, 7]],\n",
       "\n",
       "          [[7, 7, 7, ..., 0, 7, 8],\n",
       "           [5, 6, 4, ..., 0, 2, 8],\n",
       "           [7, 4, 1, ..., 9, 4, 1],\n",
       "           ...,\n",
       "           [1, 8, 7, ..., 6, 0, 0],\n",
       "           [9, 0, 7, ..., 1, 7, 3],\n",
       "           [3, 0, 5, ..., 9, 7, 8]],\n",
       "\n",
       "          [[4, 4, 4, ..., 6, 9, 5],\n",
       "           [7, 9, 1, ..., 1, 7, 1],\n",
       "           [2, 5, 2, ..., 4, 1, 0],\n",
       "           ...,\n",
       "           [2, 4, 0, ..., 0, 7, 0],\n",
       "           [2, 1, 4, ..., 6, 4, 9],\n",
       "           [4, 7, 2, ..., 4, 5, 2]],\n",
       "\n",
       "          [[2, 3, 1, ..., 8, 7, 6],\n",
       "           [1, 9, 6, ..., 1, 0, 4],\n",
       "           [1, 6, 4, ..., 2, 5, 3],\n",
       "           ...,\n",
       "           [7, 8, 4, ..., 7, 6, 3],\n",
       "           [6, 6, 3, ..., 9, 8, 5],\n",
       "           [1, 9, 2, ..., 3, 0, 8]],\n",
       "\n",
       "          [[4, 3, 8, ..., 6, 1, 4],\n",
       "           [1, 3, 0, ..., 4, 8, 2],\n",
       "           [6, 3, 8, ..., 4, 4, 1],\n",
       "           ...,\n",
       "           [9, 7, 6, ..., 5, 2, 8],\n",
       "           [4, 0, 4, ..., 1, 2, 6],\n",
       "           [8, 4, 2, ..., 5, 6, 3]],\n",
       "\n",
       "          [[7, 3, 5, ..., 1, 0, 2],\n",
       "           [7, 4, 6, ..., 0, 0, 2],\n",
       "           [3, 2, 7, ..., 2, 9, 0],\n",
       "           ...,\n",
       "           [4, 3, 7, ..., 7, 5, 4],\n",
       "           [0, 3, 1, ..., 1, 2, 3],\n",
       "           [5, 9, 5, ..., 4, 6, 8]]],\n",
       "\n",
       "\n",
       "         [[[6, 2, 9, ..., 5, 1, 7],\n",
       "           [5, 8, 3, ..., 8, 5, 1],\n",
       "           [7, 5, 8, ..., 5, 6, 8],\n",
       "           ...,\n",
       "           [8, 1, 6, ..., 0, 8, 6],\n",
       "           [3, 4, 6, ..., 6, 8, 9],\n",
       "           [6, 3, 5, ..., 5, 7, 7]],\n",
       "\n",
       "          [[2, 9, 4, ..., 6, 0, 5],\n",
       "           [9, 1, 0, ..., 6, 2, 2],\n",
       "           [8, 5, 5, ..., 8, 8, 5],\n",
       "           ...,\n",
       "           [4, 9, 3, ..., 7, 1, 4],\n",
       "           [3, 8, 4, ..., 5, 6, 3],\n",
       "           [8, 2, 0, ..., 5, 3, 2]],\n",
       "\n",
       "          [[9, 6, 5, ..., 1, 3, 4],\n",
       "           [1, 6, 9, ..., 3, 2, 7],\n",
       "           [4, 1, 4, ..., 0, 8, 2],\n",
       "           ...,\n",
       "           [1, 6, 0, ..., 3, 8, 0],\n",
       "           [0, 9, 6, ..., 1, 3, 6],\n",
       "           [3, 1, 5, ..., 0, 9, 0]],\n",
       "\n",
       "          [[9, 7, 3, ..., 3, 8, 6],\n",
       "           [2, 5, 2, ..., 7, 3, 1],\n",
       "           [3, 6, 5, ..., 9, 2, 9],\n",
       "           ...,\n",
       "           [0, 8, 4, ..., 8, 5, 8],\n",
       "           [6, 5, 3, ..., 9, 6, 4],\n",
       "           [3, 4, 8, ..., 5, 0, 8]],\n",
       "\n",
       "          [[8, 6, 0, ..., 2, 0, 4],\n",
       "           [8, 8, 8, ..., 9, 4, 5],\n",
       "           [7, 2, 0, ..., 8, 1, 8],\n",
       "           ...,\n",
       "           [5, 0, 6, ..., 0, 2, 1],\n",
       "           [4, 5, 4, ..., 0, 4, 4],\n",
       "           [7, 7, 0, ..., 8, 6, 5]],\n",
       "\n",
       "          [[4, 6, 7, ..., 8, 7, 9],\n",
       "           [3, 2, 2, ..., 0, 4, 0],\n",
       "           [7, 2, 9, ..., 2, 2, 0],\n",
       "           ...,\n",
       "           [3, 0, 9, ..., 1, 6, 1],\n",
       "           [6, 1, 2, ..., 3, 4, 6],\n",
       "           [5, 8, 2, ..., 6, 8, 9]]],\n",
       "\n",
       "\n",
       "         [[[0, 6, 4, ..., 4, 0, 9],\n",
       "           [2, 5, 8, ..., 9, 4, 0],\n",
       "           [0, 8, 0, ..., 4, 1, 9],\n",
       "           ...,\n",
       "           [0, 0, 6, ..., 8, 5, 9],\n",
       "           [4, 0, 9, ..., 4, 0, 7],\n",
       "           [0, 7, 7, ..., 5, 6, 2]],\n",
       "\n",
       "          [[5, 4, 4, ..., 2, 4, 4],\n",
       "           [9, 3, 4, ..., 0, 5, 5],\n",
       "           [0, 1, 2, ..., 5, 5, 4],\n",
       "           ...,\n",
       "           [1, 6, 5, ..., 9, 3, 2],\n",
       "           [0, 3, 8, ..., 8, 9, 9],\n",
       "           [3, 1, 5, ..., 4, 3, 4]],\n",
       "\n",
       "          [[2, 9, 8, ..., 4, 6, 7],\n",
       "           [5, 5, 1, ..., 3, 8, 1],\n",
       "           [6, 4, 8, ..., 5, 3, 8],\n",
       "           ...,\n",
       "           [6, 2, 0, ..., 0, 9, 1],\n",
       "           [2, 0, 4, ..., 0, 7, 7],\n",
       "           [2, 1, 2, ..., 3, 8, 9]],\n",
       "\n",
       "          [[9, 5, 1, ..., 7, 6, 9],\n",
       "           [2, 7, 0, ..., 9, 3, 6],\n",
       "           [1, 6, 0, ..., 5, 2, 9],\n",
       "           ...,\n",
       "           [3, 6, 4, ..., 6, 3, 9],\n",
       "           [6, 1, 9, ..., 3, 7, 3],\n",
       "           [2, 1, 6, ..., 6, 9, 2]],\n",
       "\n",
       "          [[8, 3, 3, ..., 8, 9, 3],\n",
       "           [7, 5, 2, ..., 2, 2, 7],\n",
       "           [5, 4, 9, ..., 5, 2, 4],\n",
       "           ...,\n",
       "           [3, 7, 4, ..., 3, 7, 6],\n",
       "           [0, 9, 9, ..., 0, 2, 5],\n",
       "           [3, 1, 8, ..., 0, 3, 9]],\n",
       "\n",
       "          [[0, 5, 1, ..., 3, 0, 8],\n",
       "           [5, 7, 3, ..., 2, 0, 0],\n",
       "           [0, 1, 1, ..., 2, 4, 1],\n",
       "           ...,\n",
       "           [7, 4, 2, ..., 3, 2, 5],\n",
       "           [1, 8, 3, ..., 4, 8, 9],\n",
       "           [0, 7, 4, ..., 0, 2, 9]]],\n",
       "\n",
       "\n",
       "         [[[3, 7, 1, ..., 6, 0, 7],\n",
       "           [7, 6, 8, ..., 6, 3, 8],\n",
       "           [1, 6, 6, ..., 3, 0, 6],\n",
       "           ...,\n",
       "           [5, 9, 5, ..., 8, 4, 8],\n",
       "           [2, 4, 2, ..., 9, 3, 2],\n",
       "           [0, 5, 2, ..., 6, 1, 7]],\n",
       "\n",
       "          [[4, 9, 9, ..., 8, 6, 4],\n",
       "           [0, 6, 9, ..., 5, 5, 8],\n",
       "           [8, 9, 4, ..., 2, 3, 8],\n",
       "           ...,\n",
       "           [4, 3, 8, ..., 8, 8, 9],\n",
       "           [5, 3, 9, ..., 5, 4, 7],\n",
       "           [5, 0, 1, ..., 5, 4, 3]],\n",
       "\n",
       "          [[0, 8, 6, ..., 4, 5, 3],\n",
       "           [3, 2, 8, ..., 4, 5, 4],\n",
       "           [5, 1, 5, ..., 4, 4, 1],\n",
       "           ...,\n",
       "           [6, 4, 0, ..., 0, 2, 7],\n",
       "           [2, 8, 6, ..., 6, 6, 6],\n",
       "           [4, 2, 9, ..., 5, 9, 8]],\n",
       "\n",
       "          [[2, 7, 6, ..., 0, 1, 9],\n",
       "           [9, 2, 3, ..., 2, 6, 2],\n",
       "           [6, 4, 6, ..., 0, 9, 1],\n",
       "           ...,\n",
       "           [2, 8, 8, ..., 5, 8, 9],\n",
       "           [1, 5, 9, ..., 1, 5, 2],\n",
       "           [8, 6, 1, ..., 6, 1, 1]],\n",
       "\n",
       "          [[2, 7, 7, ..., 2, 5, 9],\n",
       "           [7, 2, 7, ..., 6, 1, 6],\n",
       "           [0, 1, 2, ..., 6, 1, 9],\n",
       "           ...,\n",
       "           [7, 5, 2, ..., 4, 4, 6],\n",
       "           [7, 6, 7, ..., 6, 3, 4],\n",
       "           [8, 1, 0, ..., 6, 6, 9]],\n",
       "\n",
       "          [[7, 0, 7, ..., 6, 8, 6],\n",
       "           [4, 7, 4, ..., 7, 9, 3],\n",
       "           [1, 1, 8, ..., 1, 4, 1],\n",
       "           ...,\n",
       "           [9, 4, 3, ..., 1, 0, 2],\n",
       "           [6, 4, 7, ..., 2, 2, 4],\n",
       "           [3, 8, 8, ..., 0, 4, 4]]],\n",
       "\n",
       "\n",
       "         [[[6, 4, 1, ..., 4, 8, 9],\n",
       "           [2, 2, 2, ..., 8, 8, 0],\n",
       "           [9, 8, 8, ..., 9, 2, 7],\n",
       "           ...,\n",
       "           [6, 3, 1, ..., 0, 5, 3],\n",
       "           [6, 2, 5, ..., 3, 8, 1],\n",
       "           [9, 3, 5, ..., 0, 4, 3]],\n",
       "\n",
       "          [[8, 4, 0, ..., 5, 7, 7],\n",
       "           [5, 4, 3, ..., 7, 0, 8],\n",
       "           [7, 2, 0, ..., 2, 4, 6],\n",
       "           ...,\n",
       "           [8, 8, 6, ..., 6, 3, 1],\n",
       "           [9, 0, 3, ..., 7, 5, 2],\n",
       "           [2, 0, 5, ..., 3, 8, 1]],\n",
       "\n",
       "          [[2, 3, 9, ..., 1, 0, 7],\n",
       "           [4, 9, 9, ..., 9, 6, 3],\n",
       "           [5, 9, 8, ..., 5, 7, 4],\n",
       "           ...,\n",
       "           [7, 6, 1, ..., 3, 5, 9],\n",
       "           [3, 8, 6, ..., 4, 8, 1],\n",
       "           [3, 5, 0, ..., 0, 3, 2]],\n",
       "\n",
       "          [[1, 3, 9, ..., 5, 3, 4],\n",
       "           [6, 0, 9, ..., 2, 4, 7],\n",
       "           [9, 9, 2, ..., 9, 8, 4],\n",
       "           ...,\n",
       "           [2, 1, 3, ..., 6, 3, 5],\n",
       "           [3, 7, 9, ..., 7, 1, 5],\n",
       "           [4, 4, 9, ..., 4, 5, 7]],\n",
       "\n",
       "          [[8, 8, 3, ..., 6, 7, 5],\n",
       "           [5, 8, 4, ..., 5, 2, 2],\n",
       "           [6, 9, 6, ..., 4, 4, 0],\n",
       "           ...,\n",
       "           [6, 7, 4, ..., 0, 7, 3],\n",
       "           [1, 5, 6, ..., 6, 6, 5],\n",
       "           [4, 4, 5, ..., 3, 1, 7]],\n",
       "\n",
       "          [[8, 2, 6, ..., 0, 8, 2],\n",
       "           [3, 2, 3, ..., 6, 2, 5],\n",
       "           [4, 4, 3, ..., 0, 2, 3],\n",
       "           ...,\n",
       "           [0, 2, 1, ..., 4, 0, 6],\n",
       "           [7, 9, 3, ..., 1, 2, 8],\n",
       "           [7, 4, 4, ..., 4, 6, 2]]]]]])"
      ]
     },
     "execution_count": 7,
     "metadata": {},
     "output_type": "execute_result"
    }
   ],
   "source": [
    "np.random.randint(0,10,size = (3,4,5,6,7,8))"
   ]
  },
  {
   "cell_type": "code",
   "execution_count": 8,
   "id": "5697ba2b",
   "metadata": {
    "ExecuteTime": {
     "end_time": "2022-04-19T10:12:21.432226Z",
     "start_time": "2022-04-19T10:12:21.288470Z"
    },
    "hidden": true
   },
   "outputs": [],
   "source": [
    "from sklearn import datasets"
   ]
  },
  {
   "cell_type": "code",
   "execution_count": 9,
   "id": "f9847b0e",
   "metadata": {
    "ExecuteTime": {
     "end_time": "2022-04-19T10:12:37.933209Z",
     "start_time": "2022-04-19T10:12:37.914107Z"
    },
    "hidden": true
   },
   "outputs": [
    {
     "data": {
      "text/plain": [
       "(506, 13)"
      ]
     },
     "execution_count": 9,
     "metadata": {},
     "output_type": "execute_result"
    }
   ],
   "source": [
    "X,y = datasets.load_boston(return_X_y=True)\n",
    "X.shape"
   ]
  },
  {
   "cell_type": "code",
   "execution_count": 10,
   "id": "9b65ab71",
   "metadata": {
    "ExecuteTime": {
     "end_time": "2022-04-19T10:12:50.207413Z",
     "start_time": "2022-04-19T10:12:50.191549Z"
    },
    "hidden": true
   },
   "outputs": [
    {
     "data": {
      "text/plain": [
       "array([[  0.00632,  18.     ,   2.31   ,   0.     ,   0.538  ,   6.575  ,\n",
       "         65.2    ,   4.09   ,   1.     , 296.     ,  15.3    , 396.9    ,\n",
       "          4.98   ],\n",
       "       [  0.02731,   0.     ,   7.07   ,   0.     ,   0.469  ,   6.421  ,\n",
       "         78.9    ,   4.9671 ,   2.     , 242.     ,  17.8    , 396.9    ,\n",
       "          9.14   ],\n",
       "       [  0.02729,   0.     ,   7.07   ,   0.     ,   0.469  ,   7.185  ,\n",
       "         61.1    ,   4.9671 ,   2.     , 242.     ,  17.8    , 392.83   ,\n",
       "          4.03   ],\n",
       "       [  0.03237,   0.     ,   2.18   ,   0.     ,   0.458  ,   6.998  ,\n",
       "         45.8    ,   6.0622 ,   3.     , 222.     ,  18.7    , 394.63   ,\n",
       "          2.94   ],\n",
       "       [  0.06905,   0.     ,   2.18   ,   0.     ,   0.458  ,   7.147  ,\n",
       "         54.2    ,   6.0622 ,   3.     , 222.     ,  18.7    , 396.9    ,\n",
       "          5.33   ]])"
      ]
     },
     "execution_count": 10,
     "metadata": {},
     "output_type": "execute_result"
    }
   ],
   "source": [
    "np.set_printoptions(suppress=True)\n",
    "X[:5]"
   ]
  },
  {
   "cell_type": "markdown",
   "id": "e7a2ace5",
   "metadata": {
    "heading_collapsed": true
   },
   "source": [
    "### L2可视化"
   ]
  },
  {
   "cell_type": "markdown",
   "id": "33d4e7e8",
   "metadata": {
    "hidden": true
   },
   "source": [
    "$ 1=𝛼(𝑥2+𝑦2) $"
   ]
  },
  {
   "cell_type": "markdown",
   "id": "3b3fe20a",
   "metadata": {
    "hidden": true
   },
   "source": [
    "令 a = 1\n",
    "$ 1=𝑥2+𝑦2 $"
   ]
  },
  {
   "cell_type": "code",
   "execution_count": 11,
   "id": "e37221c0",
   "metadata": {
    "ExecuteTime": {
     "end_time": "2022-04-19T10:18:29.754640Z",
     "start_time": "2022-04-19T10:18:29.669319Z"
    },
    "hidden": true
   },
   "outputs": [
    {
     "data": {
      "text/plain": [
       "[<matplotlib.lines.Line2D at 0x7ff73a336fa0>]"
      ]
     },
     "execution_count": 11,
     "metadata": {},
     "output_type": "execute_result"
    },
    {
     "data": {
      "image/png": "[encoded data removed]",
      "text/plain": [
       "<Figure size 288x288 with 1 Axes>"
      ]
     },
     "metadata": {
      "needs_background": "light"
     },
     "output_type": "display_data"
    }
   ],
   "source": [
    "fun = lambda x : (1 - x**2)**0.5\n",
    "\n",
    "x = np.linspace(-1,1,100)\n",
    "\n",
    "y1 = fun(x)\n",
    "y2 = -fun(x)\n",
    "plt.figure(figsize=(4,4))\n",
    "plt.plot(x,y1,color = 'k')\n",
    "plt.plot(x,y2,color = 'k')"
   ]
  },
  {
   "cell_type": "markdown",
   "id": "4a69795f",
   "metadata": {
    "heading_collapsed": true
   },
   "source": [
    "### Ridge岭回归"
   ]
  },
  {
   "cell_type": "code",
   "execution_count": 12,
   "id": "d8952e04",
   "metadata": {
    "ExecuteTime": {
     "end_time": "2022-04-19T10:19:58.367271Z",
     "start_time": "2022-04-19T10:19:58.358300Z"
    },
    "hidden": true
   },
   "outputs": [],
   "source": [
    "# 同根同源 LinearRegression\n",
    "from sklearn.linear_model import Ridge\n",
    "\n",
    "# 随机梯度下降\n",
    "from sklearn.linear_model import SGDRegressor,LinearRegression"
   ]
  },
  {
   "cell_type": "markdown",
   "id": "43e6fb8a",
   "metadata": {
    "hidden": true
   },
   "source": [
    "#### 创建数据"
   ]
  },
  {
   "cell_type": "code",
   "execution_count": 13,
   "id": "4093ec79",
   "metadata": {
    "ExecuteTime": {
     "end_time": "2022-04-19T10:21:44.830107Z",
     "start_time": "2022-04-19T10:21:44.812159Z"
    },
    "hidden": true
   },
   "outputs": [
    {
     "data": {
      "text/plain": [
       "(100, 5)"
      ]
     },
     "metadata": {},
     "output_type": "display_data"
    },
    {
     "data": {
      "text/plain": [
       "(100, 1)"
      ]
     },
     "metadata": {},
     "output_type": "display_data"
    }
   ],
   "source": [
    "X = 2 * np.random.rand(100,5)\n",
    "\n",
    "w = np.random.randint(1,10,size = (5,1))\n",
    "b = np.random.randint(1,10,size = 1)\n",
    "\n",
    "y = X.dot(w) + b + np.random.randn(100,1)\n",
    "# X 数据特征，5维\n",
    "display(X.shape,y.shape)"
   ]
  },
  {
   "cell_type": "code",
   "execution_count": 14,
   "id": "33a6f136",
   "metadata": {
    "ExecuteTime": {
     "end_time": "2022-04-19T10:24:08.872293Z",
     "start_time": "2022-04-19T10:24:08.854972Z"
    },
    "hidden": true
   },
   "outputs": [
    {
     "name": "stdout",
     "output_type": "stream",
     "text": [
      "[[8.71049121 6.85430163 4.06574169 3.78863507 8.75251707]]\n",
      "[1.97726158]\n"
     ]
    }
   ],
   "source": [
    "ridge = Ridge(alpha=1,solver='sag')\n",
    "ridge.fit(X,y)\n",
    "print(ridge.coef_)\n",
    "print(ridge.intercept_)"
   ]
  },
  {
   "cell_type": "code",
   "execution_count": 15,
   "id": "ecc00563",
   "metadata": {
    "ExecuteTime": {
     "end_time": "2022-04-19T10:24:21.679963Z",
     "start_time": "2022-04-19T10:24:21.668840Z"
    },
    "hidden": true
   },
   "outputs": [
    {
     "name": "stdout",
     "output_type": "stream",
     "text": [
      "真实答案是：\n",
      " [[9]\n",
      " [7]\n",
      " [4]\n",
      " [4]\n",
      " [9]] [1]\n"
     ]
    }
   ],
   "source": [
    "print('真实答案是：\\n',w,b)"
   ]
  },
  {
   "cell_type": "code",
   "execution_count": 17,
   "id": "11ba4f0f",
   "metadata": {
    "ExecuteTime": {
     "end_time": "2022-04-19T10:27:18.420864Z",
     "start_time": "2022-04-19T10:27:18.403169Z"
    },
    "hidden": true
   },
   "outputs": [
    {
     "name": "stdout",
     "output_type": "stream",
     "text": [
      "[8.63149807 6.70393224 3.8547033  3.60484828 8.78546407]\n",
      "[2.6443205]\n"
     ]
    }
   ],
   "source": [
    "sgd = SGDRegressor(penalty='l2',alpha=0.0001)\n",
    "sgd.fit(X,y.ravel())\n",
    "print(sgd.coef_)\n",
    "print(sgd.intercept_)"
   ]
  },
  {
   "cell_type": "code",
   "execution_count": 18,
   "id": "81c3823c",
   "metadata": {
    "ExecuteTime": {
     "end_time": "2022-04-19T10:27:39.309150Z",
     "start_time": "2022-04-19T10:27:39.288831Z"
    },
    "hidden": true
   },
   "outputs": [
    {
     "name": "stdout",
     "output_type": "stream",
     "text": [
      "[[9.02110344 7.08764147 4.21330191 3.87906007 8.97639928]]\n",
      "[0.98205076]\n"
     ]
    }
   ],
   "source": [
    "model = LinearRegression()\n",
    "model.fit(X,y)\n",
    "print(model.coef_)\n",
    "print(model.intercept_)"
   ]
  },
  {
   "cell_type": "markdown",
   "id": "b317a617",
   "metadata": {
    "heading_collapsed": true
   },
   "source": [
    "### Lasso(套索回归)"
   ]
  },
  {
   "cell_type": "code",
   "execution_count": 19,
   "id": "abf23179",
   "metadata": {
    "ExecuteTime": {
     "end_time": "2022-04-19T10:30:06.578645Z",
     "start_time": "2022-04-19T10:30:06.568813Z"
    },
    "hidden": true
   },
   "outputs": [],
   "source": [
    "from sklearn.linear_model import Lasso"
   ]
  },
  {
   "cell_type": "markdown",
   "id": "9449903e",
   "metadata": {
    "hidden": true
   },
   "source": [
    "#### 创建数据"
   ]
  },
  {
   "cell_type": "code",
   "execution_count": 20,
   "id": "69b00ff8",
   "metadata": {
    "ExecuteTime": {
     "end_time": "2022-04-19T10:31:53.616673Z",
     "start_time": "2022-04-19T10:31:53.600133Z"
    },
    "hidden": true
   },
   "outputs": [
    {
     "data": {
      "text/plain": [
       "(100, 20)"
      ]
     },
     "metadata": {},
     "output_type": "display_data"
    },
    {
     "data": {
      "text/plain": [
       "(100, 1)"
      ]
     },
     "metadata": {},
     "output_type": "display_data"
    }
   ],
   "source": [
    "X = 2 * np.random.rand(100,20)\n",
    "\n",
    "w = np.random.randn(20,1)\n",
    "b = np.random.randint(1,10,size = 1)\n",
    "\n",
    "y = X.dot(w) + b + np.random.randn(100,1)\n",
    "display(X.shape,y.shape)"
   ]
  },
  {
   "cell_type": "markdown",
   "id": "abd12eef",
   "metadata": {
    "hidden": true
   },
   "source": [
    "#### 套索回归，进行训练"
   ]
  },
  {
   "cell_type": "code",
   "execution_count": 21,
   "id": "5cd3d519",
   "metadata": {
    "ExecuteTime": {
     "end_time": "2022-04-19T10:32:34.904010Z",
     "start_time": "2022-04-19T10:32:34.888353Z"
    },
    "hidden": true
   },
   "outputs": [
    {
     "name": "stdout",
     "output_type": "stream",
     "text": [
      "[-0.31207121 -0.          0.         -0.          0.          0.\n",
      "  0.         -0.          0.         -0.         -0.          0.\n",
      "  0.          0.          0.08975353  0.         -0.          0.515838\n",
      " -0.07336249  0.        ]\n",
      "[7.20484548]\n"
     ]
    }
   ],
   "source": [
    "# 稀松性质，将一部分系数变成0\n",
    "lasso = Lasso(alpha = 0.5)\n",
    "lasso.fit(X,y)\n",
    "print(lasso.coef_)\n",
    "print(lasso.intercept_)"
   ]
  },
  {
   "cell_type": "markdown",
   "id": "291a81d9",
   "metadata": {
    "hidden": true
   },
   "source": [
    "#### 随机梯度下降"
   ]
  },
  {
   "cell_type": "code",
   "execution_count": 22,
   "id": "504de5cb",
   "metadata": {
    "ExecuteTime": {
     "end_time": "2022-04-19T10:33:36.039721Z",
     "start_time": "2022-04-19T10:33:36.031409Z"
    },
    "hidden": true
   },
   "outputs": [
    {
     "data": {
      "text/plain": [
       "(100, 1)"
      ]
     },
     "execution_count": 22,
     "metadata": {},
     "output_type": "execute_result"
    }
   ],
   "source": [
    "y.shape"
   ]
  },
  {
   "cell_type": "code",
   "execution_count": 25,
   "id": "061805d1",
   "metadata": {
    "ExecuteTime": {
     "end_time": "2022-04-19T10:34:11.806194Z",
     "start_time": "2022-04-19T10:34:11.790308Z"
    },
    "hidden": true
   },
   "outputs": [
    {
     "name": "stdout",
     "output_type": "stream",
     "text": [
      "[-1.25767607  0.22005189  0.56913297 -0.63459827  0.64915024  1.03063308\n",
      "  0.4629278  -0.5888647   0.7941729   0.12487451 -0.00181751  1.03756451\n",
      "  0.78959867  0.18005337  1.53175516  0.31842904 -0.4485172   2.47658169\n",
      " -1.1798025   0.41081194]\n",
      "[0.82207055]\n"
     ]
    }
   ],
   "source": [
    "sgd = SGDRegressor(penalty='l1',alpha=0)\n",
    "\n",
    "sgd.fit(X,y.ravel())\n",
    "print(sgd.coef_)\n",
    "print(sgd.intercept_)"
   ]
  },
  {
   "cell_type": "markdown",
   "id": "9b808478",
   "metadata": {
    "heading_collapsed": true
   },
   "source": [
    "### ElasticNet(弹性网络算法)"
   ]
  },
  {
   "cell_type": "code",
   "execution_count": 26,
   "id": "0464e244",
   "metadata": {
    "ExecuteTime": {
     "end_time": "2022-04-19T10:35:23.812299Z",
     "start_time": "2022-04-19T10:35:23.802065Z"
    },
    "hidden": true
   },
   "outputs": [],
   "source": [
    "import numpy as np\n",
    "from sklearn.linear_model import ElasticNet\n",
    "from sklearn.linear_model import SGDRegressor"
   ]
  },
  {
   "cell_type": "code",
   "execution_count": 27,
   "id": "c127f202",
   "metadata": {
    "ExecuteTime": {
     "end_time": "2022-04-19T10:36:18.792974Z",
     "start_time": "2022-04-19T10:36:18.769703Z"
    },
    "hidden": true
   },
   "outputs": [
    {
     "name": "stdout",
     "output_type": "stream",
     "text": [
      "原始方程的斜率： [-1.67662521  1.35473222  0.40372693  2.85569489 -0.6851148   0.67936366\n",
      " -0.09111852 -0.15092938 -0.57242984 -0.04408392 -1.5997415  -0.97136617\n",
      " -0.97600784 -0.10924014 -1.45918945  0.42976542  0.61946758  0.40516041\n",
      "  0.09972514  0.45067712]\n",
      "原始方程的截距： [1]\n",
      "弹性网络回归求解的斜率： [-0.61154804  0.35061026 -0.          0.96609571 -0.          0.02193634\n",
      " -0.         -0.08195126 -0.         -0.         -0.58549383 -0.11698832\n",
      " -0.0541239  -0.         -0.37687999  0.          0.10357966  0.\n",
      " -0.         -0.        ]\n",
      "弹性网络回归求解的截距： [0.23297383]\n",
      "随机梯度下降求解的斜率是： [-1.67860612  1.26573807  0.08648735  2.77476977 -0.50790606  0.76608193\n",
      " -0.23533015 -0.35858423 -0.24835967  0.35236969 -1.52249205 -0.83941165\n",
      " -0.82690089 -0.03250751 -1.34331645  0.40801021  0.86701335  0.63719444\n",
      " -0.13786296  0.34137592]\n",
      "随机梯度下降求解的截距是： [0.34450416]\n"
     ]
    }
   ],
   "source": [
    "# 1、创建数据集X，y\n",
    "X = 2*np.random.rand(100, 20)\n",
    "w = np.random.randn(20,1)\n",
    "b = np.random.randint(1,10,size = 1)\n",
    "y = X.dot(w) + b + np.random.randn(100, 1)\n",
    "\n",
    "print('原始方程的斜率：',w.ravel())\n",
    "print('原始方程的截距：',b)\n",
    "\n",
    "model = ElasticNet(alpha= 0.5, l1_ratio = 0.4)\n",
    "model.fit(X, y)\n",
    "print('弹性网络回归求解的斜率：',model.coef_)\n",
    "print('弹性网络回归求解的截距：',model.intercept_)\n",
    "\n",
    "# 线性回归梯度下降方法\n",
    "sgd = SGDRegressor(penalty='l2',alpha=0, l1_ratio=0)\n",
    "sgd.fit(X, y.reshape(-1,))\n",
    "print('随机梯度下降求解的斜率是：',sgd.coef_)\n",
    "print('随机梯度下降求解的截距是：',sgd.intercept_)"
   ]
  },
  {
   "cell_type": "markdown",
   "id": "c11dd340",
   "metadata": {
    "heading_collapsed": true
   },
   "source": [
    "### 多项式回归升维实战（一）"
   ]
  },
  {
   "cell_type": "code",
   "execution_count": 28,
   "id": "06be9120",
   "metadata": {
    "ExecuteTime": {
     "end_time": "2022-04-19T11:02:52.571205Z",
     "start_time": "2022-04-19T11:02:52.559933Z"
    },
    "hidden": true
   },
   "outputs": [],
   "source": [
    "import numpy as np\n",
    "import matplotlib.pyplot as plt\n",
    "\n",
    "from sklearn.linear_model import LinearRegression"
   ]
  },
  {
   "cell_type": "markdown",
   "id": "1fbb6f13",
   "metadata": {
    "hidden": true
   },
   "source": [
    "#### 创建数据"
   ]
  },
  {
   "cell_type": "code",
   "execution_count": 29,
   "id": "4625cb12",
   "metadata": {
    "ExecuteTime": {
     "end_time": "2022-04-19T11:06:29.746038Z",
     "start_time": "2022-04-19T11:06:29.659616Z"
    },
    "hidden": true
   },
   "outputs": [
    {
     "data": {
      "text/plain": [
       "<matplotlib.collections.PathCollection at 0x7ff7205a30d0>"
      ]
     },
     "execution_count": 29,
     "metadata": {},
     "output_type": "execute_result"
    },
    {
     "data": {
      "image/png": "[encoded data removed]",
      "text/plain": [
       "<Figure size 432x288 with 1 Axes>"
      ]
     },
     "metadata": {
      "needs_background": "light"
     },
     "output_type": "display_data"
    }
   ],
   "source": [
    "X = np.linspace(-1,11,num = 100)\n",
    "y = (X - 5)**2 + 3 * X -12 + np.random.randn(100)\n",
    "X = X.reshape(-1,1) # 数据就是二维数据，机器学习，算法要求\n",
    "\n",
    "plt.scatter(X,y)"
   ]
  },
  {
   "cell_type": "markdown",
   "id": "8f40648a",
   "metadata": {
    "hidden": true
   },
   "source": [
    "#### 使用线性回归进行预测(一维，规律，自然无法获取)"
   ]
  },
  {
   "cell_type": "code",
   "execution_count": 30,
   "id": "7db30ca9",
   "metadata": {
    "ExecuteTime": {
     "end_time": "2022-04-19T11:08:40.300611Z",
     "start_time": "2022-04-19T11:08:40.210143Z"
    },
    "hidden": true
   },
   "outputs": [
    {
     "data": {
      "text/plain": [
       "[<matplotlib.lines.Line2D at 0x7ff7205df160>]"
      ]
     },
     "execution_count": 30,
     "metadata": {},
     "output_type": "execute_result"
    },
    {
     "data": {
      "image/png": "[encoded data removed]",
      "text/plain": [
       "<Figure size 432x288 with 1 Axes>"
      ]
     },
     "metadata": {
      "needs_background": "light"
     },
     "output_type": "display_data"
    }
   ],
   "source": [
    "model = LinearRegression()\n",
    "model.fit(X,y) # 训练\n",
    "\n",
    "X_test = np.linspace(-2,12,300).reshape(-1,1)\n",
    "\n",
    "# 算法预测，数据范围-2 到 12,等差数列300份\n",
    "model.fit(X,y)\n",
    "\n",
    "y_pred = model.predict(X_test)\n",
    "\n",
    "plt.scatter(X,y)\n",
    "plt.plot(X_test,y_pred,color = 'red') # 预测数据"
   ]
  },
  {
   "cell_type": "markdown",
   "id": "89c77e45",
   "metadata": {
    "hidden": true
   },
   "source": [
    "#### 升维(二维，直线就可以拐弯~)"
   ]
  },
  {
   "cell_type": "code",
   "execution_count": 32,
   "id": "66bd442b",
   "metadata": {
    "ExecuteTime": {
     "end_time": "2022-04-19T11:10:09.848712Z",
     "start_time": "2022-04-19T11:10:09.831527Z"
    },
    "hidden": true
   },
   "outputs": [
    {
     "data": {
      "text/plain": [
       "array([[-1.        ],\n",
       "       [-0.87878788],\n",
       "       [-0.75757576],\n",
       "       [-0.63636364],\n",
       "       [-0.51515152]])"
      ]
     },
     "metadata": {},
     "output_type": "display_data"
    },
    {
     "data": {
      "text/plain": [
       "array([[-1.        ,  1.        ],\n",
       "       [-0.87878788,  0.77226814],\n",
       "       [-0.75757576,  0.57392103],\n",
       "       [-0.63636364,  0.40495868],\n",
       "       [-0.51515152,  0.26538108]])"
      ]
     },
     "metadata": {},
     "output_type": "display_data"
    }
   ],
   "source": [
    "np.set_printoptions(suppress=True)\n",
    "X2 = np.concatenate([X, X**2],axis = 1)\n",
    "display(X[:5],X2[:5])"
   ]
  },
  {
   "cell_type": "code",
   "execution_count": 33,
   "id": "d9425c64",
   "metadata": {
    "ExecuteTime": {
     "end_time": "2022-04-19T11:11:22.706629Z",
     "start_time": "2022-04-19T11:11:22.611895Z"
    },
    "hidden": true
   },
   "outputs": [
    {
     "data": {
      "text/plain": [
       "[<matplotlib.lines.Line2D at 0x7ff7208459a0>]"
      ]
     },
     "execution_count": 33,
     "metadata": {},
     "output_type": "execute_result"
    },
    {
     "data": {
      "image/png": "[encoded data removed]",
      "text/plain": [
       "<Figure size 432x288 with 1 Axes>"
      ]
     },
     "metadata": {
      "needs_background": "light"
     },
     "output_type": "display_data"
    }
   ],
   "source": [
    "# 目标值，需要修改吗？\n",
    "# 目标值，不需要处理\n",
    "\n",
    "model2 = LinearRegression()\n",
    "model2.fit(X2, y)\n",
    "\n",
    "X_test2 = np.concatenate([X_test,X_test**2],axis = 1)\n",
    "y_pred = model2.predict(X_test2)\n",
    "\n",
    "# 可视化\n",
    "plt.scatter(X,y)\n",
    "\n",
    "# 算法预测结果，依然使用原数据（升维，是不是在一次幂的基础上，进行了平方）\n",
    "plt.plot(X_test,y_pred,color = 'red')"
   ]
  },
  {
   "cell_type": "code",
   "execution_count": 34,
   "id": "fa3e54f6",
   "metadata": {
    "ExecuteTime": {
     "end_time": "2022-04-19T11:12:32.673055Z",
     "start_time": "2022-04-19T11:12:32.660827Z"
    },
    "hidden": true
   },
   "outputs": [
    {
     "name": "stdout",
     "output_type": "stream",
     "text": [
      "[-6.9380976   0.99390774] 12.830328820160325\n"
     ]
    }
   ],
   "source": [
    "print(model2.coef_,model2.intercept_)"
   ]
  },
  {
   "cell_type": "markdown",
   "id": "14b5e964",
   "metadata": {
    "heading_collapsed": true
   },
   "source": [
    "### 多项式升维实战（二）"
   ]
  },
  {
   "cell_type": "code",
   "execution_count": 35,
   "id": "3160e95e",
   "metadata": {
    "ExecuteTime": {
     "end_time": "2022-04-19T11:14:27.029171Z",
     "start_time": "2022-04-19T11:14:27.017657Z"
    },
    "hidden": true
   },
   "outputs": [],
   "source": [
    "from sklearn.linear_model import LinearRegression\n",
    "# PolynomialFeatures，多项式，升维\n",
    "from sklearn.preprocessing import PolynomialFeatures,StandardScaler\n",
    "import numpy as np"
   ]
  },
  {
   "cell_type": "markdown",
   "id": "f35c86f3",
   "metadata": {
    "hidden": true
   },
   "source": [
    "$ 𝑋2−7𝑋+12$\n",
    " "
   ]
  },
  {
   "cell_type": "code",
   "execution_count": 38,
   "id": "eb10bab7",
   "metadata": {
    "ExecuteTime": {
     "end_time": "2022-04-19T11:16:55.367928Z",
     "start_time": "2022-04-19T11:16:55.283274Z"
    },
    "hidden": true
   },
   "outputs": [
    {
     "data": {
      "text/plain": [
       "<matplotlib.collections.PathCollection at 0x7ff720671850>"
      ]
     },
     "execution_count": 38,
     "metadata": {},
     "output_type": "execute_result"
    },
    {
     "data": {
      "image/png": "[encoded data removed]",
      "text/plain": [
       "<Figure size 432x288 with 1 Axes>"
      ]
     },
     "metadata": {
      "needs_background": "light"
     },
     "output_type": "display_data"
    }
   ],
   "source": [
    "X = np.linspace(-1,11,num = 100)\n",
    "y = (X - 5)**2 + 3 * X -12 + np.random.randn(100)\n",
    "X = X.reshape(-1,1) # 数据就是二维数据，机器学习，算法要求\n",
    "\n",
    "plt.scatter(X,y)"
   ]
  },
  {
   "cell_type": "code",
   "execution_count": 39,
   "id": "16d9839f",
   "metadata": {
    "ExecuteTime": {
     "end_time": "2022-04-19T11:17:30.055351Z",
     "start_time": "2022-04-19T11:17:30.037289Z"
    },
    "hidden": true
   },
   "outputs": [
    {
     "data": {
      "text/plain": [
       "(300, 1)"
      ]
     },
     "execution_count": 39,
     "metadata": {},
     "output_type": "execute_result"
    }
   ],
   "source": [
    "X_test = np.linspace(-2,12,300).reshape(-1,1)\n",
    "X_test.shape"
   ]
  },
  {
   "cell_type": "code",
   "execution_count": 40,
   "id": "f563873d",
   "metadata": {
    "ExecuteTime": {
     "end_time": "2022-04-19T11:18:15.254258Z",
     "start_time": "2022-04-19T11:18:15.239085Z"
    },
    "hidden": true
   },
   "outputs": [
    {
     "data": {
      "text/plain": [
       "array([[1., 3., 2., 6.]])"
      ]
     },
     "execution_count": 40,
     "metadata": {},
     "output_type": "execute_result"
    }
   ],
   "source": [
    "poly = PolynomialFeatures(interaction_only=True) # 特征和特征之间进行相乘\n",
    "\n",
    "A = [[3,2]]\n",
    "\n",
    "poly.fit_transform(A) # (3**0 ,2**0),3**1,2**1, 2*3"
   ]
  },
  {
   "cell_type": "code",
   "execution_count": 41,
   "id": "bee44173",
   "metadata": {
    "ExecuteTime": {
     "end_time": "2022-04-19T11:18:43.954650Z",
     "start_time": "2022-04-19T11:18:43.941581Z"
    },
    "hidden": true
   },
   "outputs": [
    {
     "data": {
      "text/plain": [
       "array([[1., 3., 2., 9., 6., 4.]])"
      ]
     },
     "execution_count": 41,
     "metadata": {},
     "output_type": "execute_result"
    }
   ],
   "source": [
    "poly = PolynomialFeatures(degree=2,interaction_only=False) # 特征之间乘法，并且，自己和自己进行运算\n",
    "\n",
    "A = [[3,2]]\n",
    "\n",
    "poly.fit_transform(A) # 3**0,3**1,3**2"
   ]
  },
  {
   "cell_type": "code",
   "execution_count": 42,
   "id": "6aeddf38",
   "metadata": {
    "ExecuteTime": {
     "end_time": "2022-04-19T11:20:05.727387Z",
     "start_time": "2022-04-19T11:20:05.715820Z"
    },
    "hidden": true
   },
   "outputs": [],
   "source": [
    "poly = PolynomialFeatures(degree = 2)\n",
    "X2 = poly.fit_transform(X)\n",
    "X2.shape\n",
    "\n",
    "X_test2 = poly.fit_transform(X_test)"
   ]
  },
  {
   "cell_type": "code",
   "execution_count": 43,
   "id": "cb10e1d6",
   "metadata": {
    "ExecuteTime": {
     "end_time": "2022-04-19T11:21:14.959101Z",
     "start_time": "2022-04-19T11:21:14.864010Z"
    },
    "hidden": true
   },
   "outputs": [
    {
     "data": {
      "text/plain": [
       "[<matplotlib.lines.Line2D at 0x7ff771e4a400>]"
      ]
     },
     "execution_count": 43,
     "metadata": {},
     "output_type": "execute_result"
    },
    {
     "data": {
      "image/png": "[encoded data removed]",
      "text/plain": [
       "<Figure size 432x288 with 1 Axes>"
      ]
     },
     "metadata": {
      "needs_background": "light"
     },
     "output_type": "display_data"
    }
   ],
   "source": [
    "model = LinearRegression()\n",
    "\n",
    "model.fit(X2,y)\n",
    "\n",
    "y_pred = model.predict(X_test2)\n",
    "\n",
    "plt.scatter(X,y)\n",
    "\n",
    "plt.plot(X_test,y_pred,'red')"
   ]
  },
  {
   "cell_type": "code",
   "execution_count": 44,
   "id": "ba186867",
   "metadata": {
    "ExecuteTime": {
     "end_time": "2022-04-19T11:22:56.507353Z",
     "start_time": "2022-04-19T11:22:56.493868Z"
    },
    "hidden": true
   },
   "outputs": [
    {
     "data": {
      "text/plain": [
       "array([ 0.        , -6.93084812,  0.999363  ])"
      ]
     },
     "execution_count": 44,
     "metadata": {},
     "output_type": "execute_result"
    }
   ],
   "source": [
    "model.coef_"
   ]
  },
  {
   "cell_type": "markdown",
   "id": "1abbb46a",
   "metadata": {
    "heading_collapsed": true
   },
   "source": [
    "### 天猫双十一线性拟合"
   ]
  },
  {
   "cell_type": "code",
   "execution_count": 46,
   "id": "28d8f333",
   "metadata": {
    "ExecuteTime": {
     "end_time": "2022-04-19T11:26:05.644872Z",
     "start_time": "2022-04-19T11:26:05.624901Z"
    },
    "hidden": true
   },
   "outputs": [
    {
     "data": {
      "text/plain": [
       "<Figure size 648x432 with 0 Axes>"
      ]
     },
     "execution_count": 46,
     "metadata": {},
     "output_type": "execute_result"
    },
    {
     "data": {
      "text/plain": [
       "<Figure size 648x432 with 0 Axes>"
      ]
     },
     "metadata": {},
     "output_type": "display_data"
    }
   ],
   "source": [
    "import numpy as np \n",
    "from sklearn.linear_model import SGDRegressor \n",
    "import matplotlib.pyplot as plt "
   ]
  },
  {
   "cell_type": "markdown",
   "id": "1a9f98b0",
   "metadata": {
    "hidden": true
   },
   "source": [
    "#### 数据可视化，历年天猫双十一销量数据"
   ]
  },
  {
   "cell_type": "code",
   "execution_count": 49,
   "id": "6ebf087a",
   "metadata": {
    "ExecuteTime": {
     "end_time": "2022-04-19T11:28:46.660388Z",
     "start_time": "2022-04-19T11:28:46.553930Z"
    },
    "hidden": true
   },
   "outputs": [
    {
     "data": {
      "image/png": "[encoded data removed]",
      "text/plain": [
       "<Figure size 648x432 with 1 Axes>"
      ]
     },
     "metadata": {
      "needs_background": "light"
     },
     "output_type": "display_data"
    }
   ],
   "source": [
    "plt.rcParams['font.size'] = 18 \n",
    "plt.figure(figsize=(9,6))\n",
    "# 创建数据，年份数据2009 ~ 2019 \n",
    "X = np.arange(2009,2020) \n",
    "y = np.array([0.5,9.36,52,191,350,571,912,1207,1682,2135,2684]) \n",
    "plt.bar(X,y,width = 0.5,color = 'green') \n",
    "plt.plot(X,y,color = 'red') \n",
    "_ = plt.xticks(ticks = X,size = 10)"
   ]
  },
  {
   "cell_type": "markdown",
   "id": "d3a0011a",
   "metadata": {
    "hidden": true
   },
   "source": [
    "有图可知，在一定时间内，随着经济的发展，天猫双十一销量与年份的关系是多项式关系！假定，销量和年份之间关系是三次幂关系："
   ]
  },
  {
   "cell_type": "code",
   "execution_count": 50,
   "id": "e15b9cd6",
   "metadata": {
    "ExecuteTime": {
     "end_time": "2022-04-19T11:31:41.119083Z",
     "start_time": "2022-04-19T11:31:41.104745Z"
    },
    "hidden": true
   },
   "outputs": [],
   "source": [
    "import numpy as np \n",
    "from sklearn.linear_model import SGDRegressor \n",
    "import matplotlib.pyplot as plt \n",
    "from sklearn.preprocessing import PolynomialFeatures \n",
    "from sklearn.preprocessing import StandardScaler"
   ]
  },
  {
   "cell_type": "markdown",
   "id": "a368c8e4",
   "metadata": {
    "hidden": true
   },
   "source": [
    "#### 创建数据，年份数据2009 ~ 2019"
   ]
  },
  {
   "cell_type": "code",
   "execution_count": 51,
   "id": "57f4ca91",
   "metadata": {
    "ExecuteTime": {
     "end_time": "2022-04-19T11:33:34.170264Z",
     "start_time": "2022-04-19T11:33:34.158766Z"
    },
    "hidden": true
   },
   "outputs": [],
   "source": [
    "X = np.arange(2009,2020) \n",
    "y = np.array([0.5,9.36,52,191,350,571,912,1207,1682,2135,2684])"
   ]
  },
  {
   "cell_type": "markdown",
   "id": "76c3afc9",
   "metadata": {
    "hidden": true
   },
   "source": [
    "#### 年份数据，均值移除，防止某一个特征列数据天然的数值太大而影响结果"
   ]
  },
  {
   "cell_type": "code",
   "execution_count": 53,
   "id": "c6b08270",
   "metadata": {
    "ExecuteTime": {
     "end_time": "2022-04-19T11:37:03.656560Z",
     "start_time": "2022-04-19T11:37:03.639929Z"
    },
    "hidden": true
   },
   "outputs": [
    {
     "data": {
      "text/plain": [
       "array([[-5.],\n",
       "       [-4.],\n",
       "       [-3.],\n",
       "       [-2.],\n",
       "       [-1.],\n",
       "       [ 0.],\n",
       "       [ 1.],\n",
       "       [ 2.],\n",
       "       [ 3.],\n",
       "       [ 4.],\n",
       "       [ 5.]])"
      ]
     },
     "execution_count": 53,
     "metadata": {},
     "output_type": "execute_result"
    }
   ],
   "source": [
    "X = X - X.mean() \n",
    "X = X.reshape(-1,1)\n",
    "X "
   ]
  },
  {
   "cell_type": "markdown",
   "id": "08c40877",
   "metadata": {
    "hidden": true
   },
   "source": [
    "#### 构建多项式特征，3次幂"
   ]
  },
  {
   "cell_type": "code",
   "execution_count": 54,
   "id": "3ea8053f",
   "metadata": {
    "ExecuteTime": {
     "end_time": "2022-04-19T11:37:10.195380Z",
     "start_time": "2022-04-19T11:37:10.182657Z"
    },
    "hidden": true
   },
   "outputs": [],
   "source": [
    "poly = PolynomialFeatures(degree=3) \n",
    "X = poly.fit_transform(X) \n",
    "s = StandardScaler() \n",
    "X_norm = s.fit_transform(X)"
   ]
  },
  {
   "cell_type": "markdown",
   "id": "69dfa711",
   "metadata": {
    "hidden": true
   },
   "source": [
    "#### 创建模型"
   ]
  },
  {
   "cell_type": "code",
   "execution_count": 55,
   "id": "e15707be",
   "metadata": {
    "ExecuteTime": {
     "end_time": "2022-04-19T11:39:09.851832Z",
     "start_time": "2022-04-19T11:39:09.833844Z"
    },
    "hidden": true
   },
   "outputs": [
    {
     "data": {
      "text/plain": [
       "SGDRegressor(eta0=0.5, max_iter=5000)"
      ]
     },
     "execution_count": 55,
     "metadata": {},
     "output_type": "execute_result"
    }
   ],
   "source": [
    "model = SGDRegressor(penalty='l2',eta0 = 0.5,max_iter = 5000) \n",
    "model.fit(X_norm,y)"
   ]
  },
  {
   "cell_type": "markdown",
   "id": "933e4bb5",
   "metadata": {
    "hidden": true
   },
   "source": [
    "#### 数据预测"
   ]
  },
  {
   "cell_type": "code",
   "execution_count": 62,
   "id": "f8fa3a22",
   "metadata": {
    "ExecuteTime": {
     "end_time": "2022-04-19T11:46:40.373017Z",
     "start_time": "2022-04-19T11:46:40.351572Z"
    },
    "hidden": true
   },
   "outputs": [
    {
     "name": "stdout",
     "output_type": "stream",
     "text": [
      "[[   1.           -5.           25.         -125.        ]\n",
      " [   1.           -4.88888889   23.90123457 -116.85048011]\n",
      " [   1.           -4.77777778   22.82716049 -109.06310014]\n",
      " [   1.           -4.66666667   21.77777778 -101.62962963]\n",
      " [   1.           -4.55555556   20.75308642  -94.54183813]\n",
      " [   1.           -4.44444444   19.75308642  -87.7914952 ]\n",
      " [   1.           -4.33333333   18.77777778  -81.37037037]\n",
      " [   1.           -4.22222222   17.82716049  -75.2702332 ]\n",
      " [   1.           -4.11111111   16.90123457  -69.48285322]\n",
      " [   1.           -4.           16.          -64.        ]\n",
      " [   1.           -3.88888889   15.12345679  -58.81344307]\n",
      " [   1.           -3.77777778   14.27160494  -53.91495199]\n",
      " [   1.           -3.66666667   13.44444444  -49.2962963 ]\n",
      " [   1.           -3.55555556   12.64197531  -44.94924554]\n",
      " [   1.           -3.44444444   11.86419753  -40.86556927]\n",
      " [   1.           -3.33333333   11.11111111  -37.03703704]\n",
      " [   1.           -3.22222222   10.38271605  -33.45541838]\n",
      " [   1.           -3.11111111    9.67901235  -30.11248285]\n",
      " [   1.           -3.            9.          -27.        ]\n",
      " [   1.           -2.88888889    8.34567901  -24.10973937]\n",
      " [   1.           -2.77777778    7.71604938  -21.43347051]\n",
      " [   1.           -2.66666667    7.11111111  -18.96296296]\n",
      " [   1.           -2.55555556    6.5308642   -16.68998628]\n",
      " [   1.           -2.44444444    5.97530864  -14.60631001]\n",
      " [   1.           -2.33333333    5.44444444  -12.7037037 ]\n",
      " [   1.           -2.22222222    4.9382716   -10.9739369 ]\n",
      " [   1.           -2.11111111    4.45679012   -9.40877915]\n",
      " [   1.           -2.            4.           -8.        ]\n",
      " [   1.           -1.88888889    3.56790123   -6.739369  ]\n",
      " [   1.           -1.77777778    3.16049383   -5.61865569]\n",
      " [   1.           -1.66666667    2.77777778   -4.62962963]\n",
      " [   1.           -1.55555556    2.41975309   -3.76406036]\n",
      " [   1.           -1.44444444    2.08641975   -3.01371742]\n",
      " [   1.           -1.33333333    1.77777778   -2.37037037]\n",
      " [   1.           -1.22222222    1.49382716   -1.82578875]\n",
      " [   1.           -1.11111111    1.2345679    -1.37174211]\n",
      " [   1.           -1.            1.           -1.        ]\n",
      " [   1.           -0.88888889    0.79012346   -0.70233196]\n",
      " [   1.           -0.77777778    0.60493827   -0.47050754]\n",
      " [   1.           -0.66666667    0.44444444   -0.2962963 ]\n",
      " [   1.           -0.55555556    0.30864198   -0.17146776]\n",
      " [   1.           -0.44444444    0.19753086   -0.0877915 ]\n",
      " [   1.           -0.33333333    0.11111111   -0.03703704]\n",
      " [   1.           -0.22222222    0.04938272   -0.01097394]\n",
      " [   1.           -0.11111111    0.01234568   -0.00137174]\n",
      " [   1.            0.            0.            0.        ]\n",
      " [   1.            0.11111111    0.01234568    0.00137174]\n",
      " [   1.            0.22222222    0.04938272    0.01097394]\n",
      " [   1.            0.33333333    0.11111111    0.03703704]\n",
      " [   1.            0.44444444    0.19753086    0.0877915 ]\n",
      " [   1.            0.55555556    0.30864198    0.17146776]\n",
      " [   1.            0.66666667    0.44444444    0.2962963 ]\n",
      " [   1.            0.77777778    0.60493827    0.47050754]\n",
      " [   1.            0.88888889    0.79012346    0.70233196]\n",
      " [   1.            1.            1.            1.        ]\n",
      " [   1.            1.11111111    1.2345679     1.37174211]\n",
      " [   1.            1.22222222    1.49382716    1.82578875]\n",
      " [   1.            1.33333333    1.77777778    2.37037037]\n",
      " [   1.            1.44444444    2.08641975    3.01371742]\n",
      " [   1.            1.55555556    2.41975309    3.76406036]\n",
      " [   1.            1.66666667    2.77777778    4.62962963]\n",
      " [   1.            1.77777778    3.16049383    5.61865569]\n",
      " [   1.            1.88888889    3.56790123    6.739369  ]\n",
      " [   1.            2.            4.            8.        ]\n",
      " [   1.            2.11111111    4.45679012    9.40877915]\n",
      " [   1.            2.22222222    4.9382716    10.9739369 ]\n",
      " [   1.            2.33333333    5.44444444   12.7037037 ]\n",
      " [   1.            2.44444444    5.97530864   14.60631001]\n",
      " [   1.            2.55555556    6.5308642    16.68998628]\n",
      " [   1.            2.66666667    7.11111111   18.96296296]\n",
      " [   1.            2.77777778    7.71604938   21.43347051]\n",
      " [   1.            2.88888889    8.34567901   24.10973937]\n",
      " [   1.            3.            9.           27.        ]\n",
      " [   1.            3.11111111    9.67901235   30.11248285]\n",
      " [   1.            3.22222222   10.38271605   33.45541838]\n",
      " [   1.            3.33333333   11.11111111   37.03703704]\n",
      " [   1.            3.44444444   11.86419753   40.86556927]\n",
      " [   1.            3.55555556   12.64197531   44.94924554]\n",
      " [   1.            3.66666667   13.44444444   49.2962963 ]\n",
      " [   1.            3.77777778   14.27160494   53.91495199]\n",
      " [   1.            3.88888889   15.12345679   58.81344307]\n",
      " [   1.            4.           16.           64.        ]\n",
      " [   1.            4.11111111   16.90123457   69.48285322]\n",
      " [   1.            4.22222222   17.82716049   75.2702332 ]\n",
      " [   1.            4.33333333   18.77777778   81.37037037]\n",
      " [   1.            4.44444444   19.75308642   87.7914952 ]\n",
      " [   1.            4.55555556   20.75308642   94.54183813]\n",
      " [   1.            4.66666667   21.77777778  101.62962963]\n",
      " [   1.            4.77777778   22.82716049  109.06310014]\n",
      " [   1.            4.88888889   23.90123457  116.85048011]\n",
      " [   1.            5.           25.          125.        ]\n",
      " [   1.            5.11111111   26.12345679  133.51989026]\n",
      " [   1.            5.22222222   27.27160494  142.41838134]\n",
      " [   1.            5.33333333   28.44444444  151.7037037 ]\n",
      " [   1.            5.44444444   29.64197531  161.38408779]\n",
      " [   1.            5.55555556   30.86419753  171.46776406]\n",
      " [   1.            5.66666667   32.11111111  181.96296296]\n",
      " [   1.            5.77777778   33.38271605  192.87791495]\n",
      " [   1.            5.88888889   34.67901235  204.22085048]\n",
      " [   1.            6.           36.          216.        ]] [  -0.26607097   -3.21844522   -5.4582516    -6.98457251   -7.79649033\n",
      "   -7.89308744   -7.27344623   -5.93664909   -3.8817784    -1.10791654\n",
      "    2.3858541     6.60045113   11.53679216   17.19579482   23.57837672\n",
      "   30.68545546   38.51794868   47.07677397   56.36284896   66.37709126\n",
      "   77.12041848   88.59374824  100.79799816  113.73408584  127.40292891\n",
      "  141.80544497  156.94255165  172.81516655  189.42420729  206.77059149\n",
      "  224.85523676  243.67906071  263.24298096  283.54791513  304.59478082\n",
      "  326.38449566  348.91797725  372.19614322  396.21991118  420.99019873\n",
      "  446.5079235   472.7740031   499.78935515  527.55489726  556.07154704\n",
      "  585.34022211  615.36184008  646.13731857  677.66757519  709.95352756\n",
      "  742.99609329  776.79619     811.3547353   846.6726468   882.75084212\n",
      "  919.59023888  957.19175469  995.55630716 1034.68481391 1074.57819255\n",
      " 1115.2373607  1156.66323597 1198.85673598 1241.81877834 1285.55028067\n",
      " 1330.05216057 1375.32533567 1421.37072358 1468.18924191 1515.78180828\n",
      " 1564.14934031 1613.2927556  1663.21297178 1713.91090645 1765.38747723\n",
      " 1817.64360174 1870.68019759 1924.4981824  1979.09847377 2034.48198933\n",
      " 2090.64964669 2147.60236346 2205.34105726 2263.8666457  2323.1800464\n",
      " 2383.28217698 2444.17395503 2505.85629819 2568.33012407 2631.59635027\n",
      " 2695.65589442 2760.50967413 2826.15860701 2892.60361068 2959.84560276\n",
      " 3027.88550085 3096.72422257 3166.36268554 3236.80180737 3308.04250568]\n"
     ]
    }
   ],
   "source": [
    "X_test = np.linspace(-5,6,100).reshape(-1,1) \n",
    "X_test = poly.transform(X_test)\n",
    "X_test_norm = s.transform(X_test) \n",
    "y_test = model.predict(X_test_norm)\n",
    "print(X_test,y_test)"
   ]
  },
  {
   "cell_type": "markdown",
   "id": "61aa4ed5",
   "metadata": {
    "hidden": true
   },
   "source": [
    "#### 数据可视化"
   ]
  },
  {
   "cell_type": "code",
   "execution_count": 66,
   "id": "84f542c6",
   "metadata": {
    "ExecuteTime": {
     "end_time": "2022-04-19T11:51:45.599030Z",
     "start_time": "2022-04-19T11:51:45.505503Z"
    },
    "hidden": true
   },
   "outputs": [
    {
     "data": {
      "image/png": "[encoded data removed]",
      "text/plain": [
       "<Figure size 864x648 with 1 Axes>"
      ]
     },
     "metadata": {
      "needs_background": "light"
     },
     "output_type": "display_data"
    }
   ],
   "source": [
    "plt.figure(figsize=(12,9))\n",
    "plt.plot(X_test[:,1],y_test,color = 'green') \n",
    "plt.bar(X[:,1],y) \n",
    "plt.bar(6,y_test[-1],color = 'red') \n",
    "plt.ylim(0,4096) \n",
    "plt.text(6,y_test[-1] + 100,round(y_test[-1],2),ha = 'center')\n",
    "_ = plt.xticks(np.arange(-5,7),np.arange(2009,2021))"
   ]
  },
  {
   "cell_type": "markdown",
   "id": "c365f242",
   "metadata": {
    "heading_collapsed": true
   },
   "source": [
    "### 代码实战中国人寿保费预测"
   ]
  },
  {
   "cell_type": "markdown",
   "id": "162ae270",
   "metadata": {
    "ExecuteTime": {
     "end_time": "2022-04-19T11:54:19.545267Z",
     "start_time": "2022-04-19T11:54:19.536840Z"
    },
    "hidden": true
   },
   "source": [
    "#### 数据加载"
   ]
  },
  {
   "cell_type": "markdown",
   "id": "7997cc87",
   "metadata": {
    "hidden": true
   },
   "source": [
    "数据介绍：\n",
    "共计1338条保险数据，每条数据7个属性\n",
    "最后一列charges是保费\n",
    "前面6列是特征，分别为：年龄、性别、体重指数、小孩数量、是否抽烟、所在地区"
   ]
  },
  {
   "cell_type": "code",
   "execution_count": 69,
   "id": "f3b9c54f",
   "metadata": {
    "ExecuteTime": {
     "end_time": "2022-04-19T11:56:43.151638Z",
     "start_time": "2022-04-19T11:56:42.669364Z"
    },
    "hidden": true
   },
   "outputs": [
    {
     "name": "stdout",
     "output_type": "stream",
     "text": [
      "(1338, 7)\n"
     ]
    },
    {
     "data": {
      "text/html": [
       "<div>\n",
       "<style scoped>\n",
       "    .dataframe tbody tr th:only-of-type {\n",
       "        vertical-align: middle;\n",
       "    }\n",
       "\n",
       "    .dataframe tbody tr th {\n",
       "        vertical-align: top;\n",
       "    }\n",
       "\n",
       "    .dataframe thead th {\n",
       "        text-align: right;\n",
       "    }\n",
       "</style>\n",
       "<table border=\"1\" class=\"dataframe\">\n",
       "  <thead>\n",
       "    <tr style=\"text-align: right;\">\n",
       "      <th></th>\n",
       "      <th>age</th>\n",
       "      <th>sex</th>\n",
       "      <th>bmi</th>\n",
       "      <th>children</th>\n",
       "      <th>smoker</th>\n",
       "      <th>region</th>\n",
       "      <th>charges</th>\n",
       "    </tr>\n",
       "  </thead>\n",
       "  <tbody>\n",
       "    <tr>\n",
       "      <th>0</th>\n",
       "      <td>19</td>\n",
       "      <td>female</td>\n",
       "      <td>27.900</td>\n",
       "      <td>0</td>\n",
       "      <td>yes</td>\n",
       "      <td>southwest</td>\n",
       "      <td>16884.92400</td>\n",
       "    </tr>\n",
       "    <tr>\n",
       "      <th>1</th>\n",
       "      <td>18</td>\n",
       "      <td>male</td>\n",
       "      <td>33.770</td>\n",
       "      <td>1</td>\n",
       "      <td>no</td>\n",
       "      <td>southeast</td>\n",
       "      <td>1725.55230</td>\n",
       "    </tr>\n",
       "    <tr>\n",
       "      <th>2</th>\n",
       "      <td>28</td>\n",
       "      <td>male</td>\n",
       "      <td>33.000</td>\n",
       "      <td>3</td>\n",
       "      <td>no</td>\n",
       "      <td>southeast</td>\n",
       "      <td>4449.46200</td>\n",
       "    </tr>\n",
       "    <tr>\n",
       "      <th>3</th>\n",
       "      <td>33</td>\n",
       "      <td>male</td>\n",
       "      <td>22.705</td>\n",
       "      <td>0</td>\n",
       "      <td>no</td>\n",
       "      <td>northwest</td>\n",
       "      <td>21984.47061</td>\n",
       "    </tr>\n",
       "    <tr>\n",
       "      <th>4</th>\n",
       "      <td>32</td>\n",
       "      <td>male</td>\n",
       "      <td>28.880</td>\n",
       "      <td>0</td>\n",
       "      <td>no</td>\n",
       "      <td>northwest</td>\n",
       "      <td>3866.85520</td>\n",
       "    </tr>\n",
       "  </tbody>\n",
       "</table>\n",
       "</div>"
      ],
      "text/plain": [
       "   age     sex     bmi  children smoker     region      charges\n",
       "0   19  female  27.900         0    yes  southwest  16884.92400\n",
       "1   18    male  33.770         1     no  southeast   1725.55230\n",
       "2   28    male  33.000         3     no  southeast   4449.46200\n",
       "3   33    male  22.705         0     no  northwest  21984.47061\n",
       "4   32    male  28.880         0     no  northwest   3866.85520"
      ]
     },
     "execution_count": 69,
     "metadata": {},
     "output_type": "execute_result"
    }
   ],
   "source": [
    "import numpy as np \n",
    "import pandas as pd \n",
    "data = pd.read_excel('./中国人寿.xlsx') \n",
    "print(data.shape) \n",
    "data.head()"
   ]
  },
  {
   "cell_type": "markdown",
   "id": "3eea94a0",
   "metadata": {
    "hidden": true
   },
   "source": [
    "#### EDA数据探索"
   ]
  },
  {
   "cell_type": "code",
   "execution_count": 71,
   "id": "41b33b8a",
   "metadata": {
    "ExecuteTime": {
     "end_time": "2022-04-19T12:09:46.683148Z",
     "start_time": "2022-04-19T12:09:46.573143Z"
    },
    "hidden": true
   },
   "outputs": [
    {
     "data": {
      "text/plain": [
       "<AxesSubplot:xlabel='charges', ylabel='Density'>"
      ]
     },
     "execution_count": 71,
     "metadata": {},
     "output_type": "execute_result"
    },
    {
     "data": {
      "image/png": "[encoded data removed]",
      "text/plain": [
       "<Figure size 432x288 with 1 Axes>"
      ]
     },
     "metadata": {
      "needs_background": "light"
     },
     "output_type": "display_data"
    }
   ],
   "source": [
    "import seaborn as sns \n",
    "# 性别对保费影响 \n",
    "sns.kdeplot(data['charges'],shade = True,hue = data['sex']) "
   ]
  },
  {
   "cell_type": "code",
   "execution_count": 72,
   "id": "322fabb7",
   "metadata": {
    "ExecuteTime": {
     "end_time": "2022-04-19T12:11:30.612730Z",
     "start_time": "2022-04-19T12:11:30.495359Z"
    },
    "hidden": true
   },
   "outputs": [
    {
     "data": {
      "text/plain": [
       "<AxesSubplot:xlabel='charges', ylabel='Density'>"
      ]
     },
     "execution_count": 72,
     "metadata": {},
     "output_type": "execute_result"
    },
    {
     "data": {
      "image/png": "[encoded data removed]",
      "text/plain": [
       "<Figure size 432x288 with 1 Axes>"
      ]
     },
     "metadata": {
      "needs_background": "light"
     },
     "output_type": "display_data"
    }
   ],
   "source": [
    "# 地区对保费影响 \n",
    "sns.kdeplot(data['charges'],shade = True,hue = data['region']) "
   ]
  },
  {
   "cell_type": "code",
   "execution_count": 73,
   "id": "1df8f775",
   "metadata": {
    "ExecuteTime": {
     "end_time": "2022-04-19T12:11:37.954255Z",
     "start_time": "2022-04-19T12:11:37.744922Z"
    },
    "hidden": true
   },
   "outputs": [
    {
     "data": {
      "text/plain": [
       "<AxesSubplot:xlabel='charges', ylabel='Density'>"
      ]
     },
     "execution_count": 73,
     "metadata": {},
     "output_type": "execute_result"
    },
    {
     "data": {
      "image/png": "[encoded data removed]",
      "text/plain": [
       "<Figure size 432x288 with 1 Axes>"
      ]
     },
     "metadata": {
      "needs_background": "light"
     },
     "output_type": "display_data"
    }
   ],
   "source": [
    "# 吸烟对保费影响 \n",
    "sns.kdeplot(data['charges'],shade = True,hue = data['smoker']) "
   ]
  },
  {
   "cell_type": "code",
   "execution_count": 74,
   "id": "4ef545e0",
   "metadata": {
    "ExecuteTime": {
     "end_time": "2022-04-19T12:12:43.078205Z",
     "start_time": "2022-04-19T12:12:42.962128Z"
    },
    "hidden": true
   },
   "outputs": [
    {
     "data": {
      "text/plain": [
       "<AxesSubplot:xlabel='charges', ylabel='Density'>"
      ]
     },
     "execution_count": 74,
     "metadata": {},
     "output_type": "execute_result"
    },
    {
     "data": {
      "image/png": "[encoded data removed]",
      "text/plain": [
       "<Figure size 432x288 with 1 Axes>"
      ]
     },
     "metadata": {
      "needs_background": "light"
     },
     "output_type": "display_data"
    }
   ],
   "source": [
    "# 孩子数量对保费影响 \n",
    "sns.kdeplot(data['charges'],shade = True,hue = data['children'],palette='Set1')"
   ]
  },
  {
   "cell_type": "markdown",
   "id": "5a51d183",
   "metadata": {
    "hidden": true
   },
   "source": [
    "总结：\n",
    "\n",
    "不同性别对保费影响不大，不同性别的保费的概率分布曲线基本重合，因此这个特征无足轻重，可以删除\n",
    "地区同理\n",
    "\n",
    "吸烟与否对保费的概率分布曲线差别很大，整体来说不吸烟更加健康，那么保费就低，这个特征很重要\n",
    "家庭孩子数量对保费有一定影响"
   ]
  },
  {
   "cell_type": "markdown",
   "id": "b0cb3a3c",
   "metadata": {
    "hidden": true
   },
   "source": [
    "#### 特征工程"
   ]
  },
  {
   "cell_type": "code",
   "execution_count": 75,
   "id": "43705ac3",
   "metadata": {
    "ExecuteTime": {
     "end_time": "2022-04-19T12:17:19.989509Z",
     "start_time": "2022-04-19T12:17:19.970123Z"
    },
    "hidden": true
   },
   "outputs": [
    {
     "data": {
      "text/html": [
       "<div>\n",
       "<style scoped>\n",
       "    .dataframe tbody tr th:only-of-type {\n",
       "        vertical-align: middle;\n",
       "    }\n",
       "\n",
       "    .dataframe tbody tr th {\n",
       "        vertical-align: top;\n",
       "    }\n",
       "\n",
       "    .dataframe thead th {\n",
       "        text-align: right;\n",
       "    }\n",
       "</style>\n",
       "<table border=\"1\" class=\"dataframe\">\n",
       "  <thead>\n",
       "    <tr style=\"text-align: right;\">\n",
       "      <th></th>\n",
       "      <th>age</th>\n",
       "      <th>bmi</th>\n",
       "      <th>children</th>\n",
       "      <th>smoker</th>\n",
       "      <th>charges</th>\n",
       "    </tr>\n",
       "  </thead>\n",
       "  <tbody>\n",
       "    <tr>\n",
       "      <th>0</th>\n",
       "      <td>19</td>\n",
       "      <td>27.900</td>\n",
       "      <td>0</td>\n",
       "      <td>yes</td>\n",
       "      <td>16884.92400</td>\n",
       "    </tr>\n",
       "    <tr>\n",
       "      <th>1</th>\n",
       "      <td>18</td>\n",
       "      <td>33.770</td>\n",
       "      <td>1</td>\n",
       "      <td>no</td>\n",
       "      <td>1725.55230</td>\n",
       "    </tr>\n",
       "    <tr>\n",
       "      <th>2</th>\n",
       "      <td>28</td>\n",
       "      <td>33.000</td>\n",
       "      <td>3</td>\n",
       "      <td>no</td>\n",
       "      <td>4449.46200</td>\n",
       "    </tr>\n",
       "    <tr>\n",
       "      <th>3</th>\n",
       "      <td>33</td>\n",
       "      <td>22.705</td>\n",
       "      <td>0</td>\n",
       "      <td>no</td>\n",
       "      <td>21984.47061</td>\n",
       "    </tr>\n",
       "    <tr>\n",
       "      <th>4</th>\n",
       "      <td>32</td>\n",
       "      <td>28.880</td>\n",
       "      <td>0</td>\n",
       "      <td>no</td>\n",
       "      <td>3866.85520</td>\n",
       "    </tr>\n",
       "  </tbody>\n",
       "</table>\n",
       "</div>"
      ],
      "text/plain": [
       "   age     bmi  children smoker      charges\n",
       "0   19  27.900         0    yes  16884.92400\n",
       "1   18  33.770         1     no   1725.55230\n",
       "2   28  33.000         3     no   4449.46200\n",
       "3   33  22.705         0     no  21984.47061\n",
       "4   32  28.880         0     no   3866.85520"
      ]
     },
     "execution_count": 75,
     "metadata": {},
     "output_type": "execute_result"
    }
   ],
   "source": [
    " # 删除不重要特征\n",
    "data = data.drop(['region', 'sex'], axis=1) # 删除'region', 'sex'两列\n",
    "data.head()"
   ]
  },
  {
   "cell_type": "code",
   "execution_count": 78,
   "id": "0e3046b9",
   "metadata": {
    "ExecuteTime": {
     "end_time": "2022-04-19T12:23:50.598149Z",
     "start_time": "2022-04-19T12:23:50.525349Z"
    },
    "hidden": true
   },
   "outputs": [
    {
     "data": {
      "text/html": [
       "<div>\n",
       "<style scoped>\n",
       "    .dataframe tbody tr th:only-of-type {\n",
       "        vertical-align: middle;\n",
       "    }\n",
       "\n",
       "    .dataframe tbody tr th {\n",
       "        vertical-align: top;\n",
       "    }\n",
       "\n",
       "    .dataframe thead th {\n",
       "        text-align: right;\n",
       "    }\n",
       "</style>\n",
       "<table border=\"1\" class=\"dataframe\">\n",
       "  <thead>\n",
       "    <tr style=\"text-align: right;\">\n",
       "      <th></th>\n",
       "      <th>age</th>\n",
       "      <th>bmi</th>\n",
       "      <th>children</th>\n",
       "      <th>smoker</th>\n",
       "      <th>charges</th>\n",
       "    </tr>\n",
       "  </thead>\n",
       "  <tbody>\n",
       "    <tr>\n",
       "      <th>0</th>\n",
       "      <td>19</td>\n",
       "      <td>standard</td>\n",
       "      <td>0</td>\n",
       "      <td>yes</td>\n",
       "      <td>16884.92400</td>\n",
       "    </tr>\n",
       "    <tr>\n",
       "      <th>1</th>\n",
       "      <td>18</td>\n",
       "      <td>fat</td>\n",
       "      <td>1</td>\n",
       "      <td>no</td>\n",
       "      <td>1725.55230</td>\n",
       "    </tr>\n",
       "    <tr>\n",
       "      <th>2</th>\n",
       "      <td>28</td>\n",
       "      <td>fat</td>\n",
       "      <td>3</td>\n",
       "      <td>no</td>\n",
       "      <td>4449.46200</td>\n",
       "    </tr>\n",
       "    <tr>\n",
       "      <th>3</th>\n",
       "      <td>33</td>\n",
       "      <td>standard</td>\n",
       "      <td>0</td>\n",
       "      <td>no</td>\n",
       "      <td>21984.47061</td>\n",
       "    </tr>\n",
       "    <tr>\n",
       "      <th>4</th>\n",
       "      <td>32</td>\n",
       "      <td>standard</td>\n",
       "      <td>0</td>\n",
       "      <td>no</td>\n",
       "      <td>3866.85520</td>\n",
       "    </tr>\n",
       "  </tbody>\n",
       "</table>\n",
       "</div>"
      ],
      "text/plain": [
       "   age       bmi  children smoker      charges\n",
       "0   19  standard         0    yes  16884.92400\n",
       "1   18       fat         1     no   1725.55230\n",
       "2   28       fat         3     no   4449.46200\n",
       "3   33  standard         0     no  21984.47061\n",
       "4   32  standard         0     no   3866.85520"
      ]
     },
     "execution_count": 78,
     "metadata": {},
     "output_type": "execute_result"
    }
   ],
   "source": [
    "# 体重指数，离散化转换，体重两种情况：标准、肥胖\n",
    "def convert(df,bmi): \n",
    "    df['bmi'] = 'fat' if df['bmi'] >= bmi else 'standard' \n",
    "    return df \n",
    "data = data.apply(convert, axis = 1, args=(30,)) \n",
    "data.head()"
   ]
  },
  {
   "cell_type": "code",
   "execution_count": 79,
   "id": "ac382de8",
   "metadata": {
    "ExecuteTime": {
     "end_time": "2022-04-19T12:26:37.884388Z",
     "start_time": "2022-04-19T12:26:37.857994Z"
    },
    "hidden": true
   },
   "outputs": [
    {
     "data": {
      "text/html": [
       "<div>\n",
       "<style scoped>\n",
       "    .dataframe tbody tr th:only-of-type {\n",
       "        vertical-align: middle;\n",
       "    }\n",
       "\n",
       "    .dataframe tbody tr th {\n",
       "        vertical-align: top;\n",
       "    }\n",
       "\n",
       "    .dataframe thead th {\n",
       "        text-align: right;\n",
       "    }\n",
       "</style>\n",
       "<table border=\"1\" class=\"dataframe\">\n",
       "  <thead>\n",
       "    <tr style=\"text-align: right;\">\n",
       "      <th></th>\n",
       "      <th>age</th>\n",
       "      <th>children</th>\n",
       "      <th>charges</th>\n",
       "      <th>bmi_fat</th>\n",
       "      <th>bmi_standard</th>\n",
       "      <th>smoker_no</th>\n",
       "      <th>smoker_yes</th>\n",
       "    </tr>\n",
       "  </thead>\n",
       "  <tbody>\n",
       "    <tr>\n",
       "      <th>0</th>\n",
       "      <td>19</td>\n",
       "      <td>0</td>\n",
       "      <td>16884.92400</td>\n",
       "      <td>0</td>\n",
       "      <td>1</td>\n",
       "      <td>0</td>\n",
       "      <td>1</td>\n",
       "    </tr>\n",
       "    <tr>\n",
       "      <th>1</th>\n",
       "      <td>18</td>\n",
       "      <td>1</td>\n",
       "      <td>1725.55230</td>\n",
       "      <td>1</td>\n",
       "      <td>0</td>\n",
       "      <td>1</td>\n",
       "      <td>0</td>\n",
       "    </tr>\n",
       "    <tr>\n",
       "      <th>2</th>\n",
       "      <td>28</td>\n",
       "      <td>3</td>\n",
       "      <td>4449.46200</td>\n",
       "      <td>1</td>\n",
       "      <td>0</td>\n",
       "      <td>1</td>\n",
       "      <td>0</td>\n",
       "    </tr>\n",
       "    <tr>\n",
       "      <th>3</th>\n",
       "      <td>33</td>\n",
       "      <td>0</td>\n",
       "      <td>21984.47061</td>\n",
       "      <td>0</td>\n",
       "      <td>1</td>\n",
       "      <td>1</td>\n",
       "      <td>0</td>\n",
       "    </tr>\n",
       "    <tr>\n",
       "      <th>4</th>\n",
       "      <td>32</td>\n",
       "      <td>0</td>\n",
       "      <td>3866.85520</td>\n",
       "      <td>0</td>\n",
       "      <td>1</td>\n",
       "      <td>1</td>\n",
       "      <td>0</td>\n",
       "    </tr>\n",
       "  </tbody>\n",
       "</table>\n",
       "</div>"
      ],
      "text/plain": [
       "   age  children      charges  bmi_fat  bmi_standard  smoker_no  smoker_yes\n",
       "0   19         0  16884.92400        0             1          0           1\n",
       "1   18         1   1725.55230        1             0          1           0\n",
       "2   28         3   4449.46200        1             0          1           0\n",
       "3   33         0  21984.47061        0             1          1           0\n",
       "4   32         0   3866.85520        0             1          1           0"
      ]
     },
     "execution_count": 79,
     "metadata": {},
     "output_type": "execute_result"
    }
   ],
   "source": [
    "# 特征提取，离散型数据转换为数值型数据\n",
    "data = pd.get_dummies(data) \n",
    "data.head()"
   ]
  },
  {
   "cell_type": "code",
   "execution_count": 80,
   "id": "d9d4e64c",
   "metadata": {
    "ExecuteTime": {
     "end_time": "2022-04-19T12:30:10.908791Z",
     "start_time": "2022-04-19T12:30:10.888903Z"
    },
    "hidden": true
   },
   "outputs": [
    {
     "data": {
      "text/html": [
       "<div>\n",
       "<style scoped>\n",
       "    .dataframe tbody tr th:only-of-type {\n",
       "        vertical-align: middle;\n",
       "    }\n",
       "\n",
       "    .dataframe tbody tr th {\n",
       "        vertical-align: top;\n",
       "    }\n",
       "\n",
       "    .dataframe thead th {\n",
       "        text-align: right;\n",
       "    }\n",
       "</style>\n",
       "<table border=\"1\" class=\"dataframe\">\n",
       "  <thead>\n",
       "    <tr style=\"text-align: right;\">\n",
       "      <th></th>\n",
       "      <th>age</th>\n",
       "      <th>children</th>\n",
       "      <th>bmi_fat</th>\n",
       "      <th>bmi_standard</th>\n",
       "      <th>smoker_no</th>\n",
       "      <th>smoker_yes</th>\n",
       "    </tr>\n",
       "  </thead>\n",
       "  <tbody>\n",
       "    <tr>\n",
       "      <th>0</th>\n",
       "      <td>19</td>\n",
       "      <td>0</td>\n",
       "      <td>0</td>\n",
       "      <td>1</td>\n",
       "      <td>0</td>\n",
       "      <td>1</td>\n",
       "    </tr>\n",
       "    <tr>\n",
       "      <th>1</th>\n",
       "      <td>18</td>\n",
       "      <td>1</td>\n",
       "      <td>1</td>\n",
       "      <td>0</td>\n",
       "      <td>1</td>\n",
       "      <td>0</td>\n",
       "    </tr>\n",
       "    <tr>\n",
       "      <th>2</th>\n",
       "      <td>28</td>\n",
       "      <td>3</td>\n",
       "      <td>1</td>\n",
       "      <td>0</td>\n",
       "      <td>1</td>\n",
       "      <td>0</td>\n",
       "    </tr>\n",
       "    <tr>\n",
       "      <th>3</th>\n",
       "      <td>33</td>\n",
       "      <td>0</td>\n",
       "      <td>0</td>\n",
       "      <td>1</td>\n",
       "      <td>1</td>\n",
       "      <td>0</td>\n",
       "    </tr>\n",
       "    <tr>\n",
       "      <th>4</th>\n",
       "      <td>32</td>\n",
       "      <td>0</td>\n",
       "      <td>0</td>\n",
       "      <td>1</td>\n",
       "      <td>1</td>\n",
       "      <td>0</td>\n",
       "    </tr>\n",
       "  </tbody>\n",
       "</table>\n",
       "</div>"
      ],
      "text/plain": [
       "   age  children  bmi_fat  bmi_standard  smoker_no  smoker_yes\n",
       "0   19         0        0             1          0           1\n",
       "1   18         1        1             0          1           0\n",
       "2   28         3        1             0          1           0\n",
       "3   33         0        0             1          1           0\n",
       "4   32         0        0             1          1           0"
      ]
     },
     "execution_count": 80,
     "metadata": {},
     "output_type": "execute_result"
    }
   ],
   "source": [
    "# 特征和目标值抽取\n",
    "X = data.drop('charges', axis=1) # 训练数据\n",
    "y = data['charges'] # 目标值 \n",
    "X.head()"
   ]
  },
  {
   "cell_type": "markdown",
   "id": "5ff994a5",
   "metadata": {
    "hidden": true
   },
   "source": [
    "#### 特征升维"
   ]
  },
  {
   "cell_type": "code",
   "execution_count": 81,
   "id": "300453ff",
   "metadata": {
    "ExecuteTime": {
     "end_time": "2022-04-19T12:33:22.921782Z",
     "start_time": "2022-04-19T12:33:22.910679Z"
    },
    "hidden": true
   },
   "outputs": [],
   "source": [
    "from sklearn.linear_model import LinearRegression \n",
    "from sklearn.linear_model import ElasticNet \n",
    "from sklearn.metrics import mean_squared_error,mean_squared_log_error"
   ]
  },
  {
   "cell_type": "code",
   "execution_count": 82,
   "id": "187903ec",
   "metadata": {
    "ExecuteTime": {
     "end_time": "2022-04-19T12:34:59.655855Z",
     "start_time": "2022-04-19T12:34:59.643012Z"
    },
    "hidden": true
   },
   "outputs": [],
   "source": [
    "# 数据拆分 \n",
    "from sklearn.model_selection import train_test_split \n",
    "from sklearn.preprocessing import PolynomialFeatures \n",
    "X_train, X_test, y_train, y_test = train_test_split(X, y, test_size=0.2)"
   ]
  },
  {
   "cell_type": "code",
   "execution_count": 83,
   "id": "96847fa5",
   "metadata": {
    "ExecuteTime": {
     "end_time": "2022-04-19T12:38:55.540185Z",
     "start_time": "2022-04-19T12:38:55.520376Z"
    },
    "hidden": true
   },
   "outputs": [],
   "source": [
    "# 特征升维\n",
    "poly = PolynomialFeatures(degree= 2, include_bias = False) \n",
    "X_train_poly = poly.fit_transform(X_train) \n",
    "X_test_poly = poly.fit_transform(X_test)"
   ]
  },
  {
   "cell_type": "markdown",
   "id": "707ab688",
   "metadata": {
    "hidden": true
   },
   "source": [
    "#### 模型训练与评估"
   ]
  },
  {
   "cell_type": "markdown",
   "id": "60c1c380",
   "metadata": {
    "hidden": true
   },
   "source": [
    "##### 普通线性回归"
   ]
  },
  {
   "cell_type": "code",
   "execution_count": 84,
   "id": "7932c242",
   "metadata": {
    "ExecuteTime": {
     "end_time": "2022-04-19T12:44:08.477338Z",
     "start_time": "2022-04-19T12:44:08.448348Z"
    },
    "hidden": true,
    "scrolled": true
   },
   "outputs": [
    {
     "name": "stdout",
     "output_type": "stream",
     "text": [
      "测试数据得分： 0.858435149322293\n",
      "预测数据得分： 0.881215839692925\n",
      "训练数据均方误差： 4445.555888517278\n",
      "测试数据均方误差： 4543.26292132536\n",
      "训练数据对数误差： 0.4126937412875989\n",
      "测试数据对数误差： 0.39528606433879204\n"
     ]
    }
   ],
   "source": [
    "model_1 = LinearRegression() \n",
    "model_1.fit(X_train_poly, y_train)\n",
    "\n",
    "print('测试数据得分：',model_1.score(X_train_poly,y_train)) \n",
    "print('预测数据得分：',model_1.score(X_test_poly,y_test)) \n",
    "print('训练数据均方误差：',np.sqrt(mean_squared_error(y_train,model_1.predict(X_train_poly)))) \n",
    "print('测试数据均方误差：',np.sqrt(mean_squared_error(y_test,model_1.predict(X_test_poly)))) \n",
    "print('训练数据对数误差：',np.sqrt(mean_squared_log_error(y_train,model_1.predict(X_train_poly)))) \n",
    "print('测试数据对数误差：',np.sqrt(mean_squared_log_error(y_test,model_1.predict(X_test_poly))))"
   ]
  },
  {
   "cell_type": "markdown",
   "id": "31b5c9f1",
   "metadata": {
    "hidden": true
   },
   "source": [
    "##### 弹性网络回归"
   ]
  },
  {
   "cell_type": "code",
   "execution_count": 85,
   "id": "eef66674",
   "metadata": {
    "ExecuteTime": {
     "end_time": "2022-04-19T12:46:16.948525Z",
     "start_time": "2022-04-19T12:46:15.270435Z"
    },
    "hidden": true,
    "scrolled": true
   },
   "outputs": [
    {
     "name": "stdout",
     "output_type": "stream",
     "text": [
      "测试数据得分： 0.801798721750921\n",
      "预测数据得分： 0.8222781990794026\n",
      "训练数据均方误差为： 5260.191829800628\n",
      "测试数据均方误差为： 5557.237493733993\n",
      "训练数据对数误差为： 0.528126099114695\n",
      "测试数据对数误差为： 0.5291901123247598\n"
     ]
    }
   ],
   "source": [
    "model_2 = ElasticNet(alpha = 0.3,l1_ratio = 0.5,max_iter = 50000) \n",
    "model_2.fit(X_train_poly,y_train)\n",
    "\n",
    "print('测试数据得分：',model_2.score(X_train_poly,y_train)) \n",
    "print('预测数据得分：',model_2.score(X_test_poly,y_test)) \n",
    "print('训练数据均方误差为：',np.sqrt(mean_squared_error(y_train,model_2.predict(X_train_poly)))) \n",
    "print('测试数据均方误差为：',np.sqrt(mean_squared_error(y_test,model_2.predict(X_test_poly)))) \n",
    "print('训练数据对数误差为：',np.sqrt(mean_squared_log_error(y_train,model_2.predict(X_train_poly)))) \n",
    "print('测试数据对数误差为：',np.sqrt(mean_squared_log_error(y_test,model_2.predict(X_test_poly))))"
   ]
  },
  {
   "cell_type": "markdown",
   "id": "34137ec2",
   "metadata": {
    "hidden": true
   },
   "source": [
    "结论：\n",
    "\n",
    "1.进行EDA数据探索，可以查看无关紧要特征\n",
    "\n",
    "2.进行特征工程：删除无用特征、特征离散化、特征提取。这对机器学习都至关重要\n",
    "\n",
    "3.对于简单的数据（特征比较少）进行线性回归，一般需要进行特征升维\n",
    "\n",
    "4.选择不同的算法，进行训练和评估，从中筛选优秀算法"
   ]
  }
 ],
 "metadata": {
  "hide_input": false,
  "kernelspec": {
   "display_name": "Python 3 (ipykernel)",
   "language": "python",
   "name": "python3"
  },
  "language_info": {
   "codemirror_mode": {
    "name": "ipython",
    "version": 3
   },
   "file_extension": ".py",
   "mimetype": "text/x-python",
   "name": "python",
   "nbconvert_exporter": "python",
   "pygments_lexer": "ipython3",
   "version": "3.9.7"
  },
  "nbTranslate": {
   "displayLangs": [
    "*"
   ],
   "hotkey": "alt-t",
   "langInMainMenu": true,
   "sourceLang": "en",
   "targetLang": "fr",
   "useGoogleTranslate": true
  },
  "toc": {
   "base_numbering": 1,
   "nav_menu": {},
   "number_sections": true,
   "sideBar": true,
   "skip_h1_title": false,
   "title_cell": "Table of Contents",
   "title_sidebar": "Contents",
   "toc_cell": false,
   "toc_position": {},
   "toc_section_display": true,
   "toc_window_display": true
  },
  "varInspector": {
   "cols": {
    "lenName": 16,
    "lenType": 16,
    "lenVar": 40
   },
   "kernels_config": {
    "python": {
     "delete_cmd_postfix": "",
     "delete_cmd_prefix": "del ",
     "library": "var_list.py",
     "varRefreshCmd": "print(var_dic_list())"
    },
    "r": {
     "delete_cmd_postfix": ") ",
     "delete_cmd_prefix": "rm(",
     "library": "var_list.r",
     "varRefreshCmd": "cat(var_dic_list()) "
    }
   },
   "position": {
    "height": "376px",
    "left": "1280.0001220703125px",
    "right": "20px",
    "top": "80.859375px",
    "width": "350px"
   },
   "types_to_exclude": [
    "module",
    "function",
    "builtin_function_or_method",
    "instance",
    "_Feature"
   ],
   "window_display": true
  }
 },
 "nbformat": 4,
 "nbformat_minor": 5
}
