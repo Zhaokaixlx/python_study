{
 "cells": [
  {
   "cell_type": "markdown",
   "id": "d27cbdf4",
   "metadata": {},
   "source": [
    "# 数据处理"
   ]
  },
  {
   "cell_type": "markdown",
   "id": "78ea282b",
   "metadata": {},
   "source": [
    "## 导入相应模型"
   ]
  },
  {
   "cell_type": "code",
   "execution_count": 2,
   "id": "1a301ab8",
   "metadata": {
    "ExecuteTime": {
     "end_time": "2022-05-15T08:41:54.549583Z",
     "start_time": "2022-05-15T08:41:54.483103Z"
    }
   },
   "outputs": [],
   "source": [
    "import gc # 垃圾回收\n",
    "import pandas as pd \n",
    "import numpy as np\n",
    "import warnings\n",
    "warnings.filterwarnings('ignore')\n",
    "\n",
    "#导入分析库\n",
    "from sklearn.model_selection import train_test_split # 数据拆分\n",
    "from sklearn.model_selection import StratifiedKFold # 同分布数据拆分，交叉验证\n",
    "# import lightgbm as lgb # 微软\n",
    "import xgboost as xgb"
   ]
  },
  {
   "cell_type": "markdown",
   "id": "f0207121",
   "metadata": {},
   "source": [
    "## 数据加载"
   ]
  },
  {
   "cell_type": "code",
   "execution_count": 3,
   "id": "49e9ddaa",
   "metadata": {
    "ExecuteTime": {
     "end_time": "2022-05-15T08:42:53.468954Z",
     "start_time": "2022-05-15T08:42:34.605194Z"
    }
   },
   "outputs": [
    {
     "name": "stdout",
     "output_type": "stream",
     "text": [
      "CPU times: user 15.5 s, sys: 3.18 s, total: 18.7 s\n",
      "Wall time: 18.9 s\n"
     ]
    }
   ],
   "source": [
    "%%time\n",
    "# 加载数据\n",
    "# 用户行为日志\n",
    "user_log = pd.read_csv('./data_format1/user_log_format1.csv', dtype={'time_stamp':'str'})\n",
    "# 用户画像\n",
    "user_info = pd.read_csv('./data_format1/user_info_format1.csv')\n",
    "# 训练数据和测试数据\n",
    "train_data = pd.read_csv('./data_format1/train_format1.csv')\n",
    "test_data = pd.read_csv('./data_format1/test_format1.csv')"
   ]
  },
  {
   "cell_type": "markdown",
   "id": "70cbf271",
   "metadata": {},
   "source": [
    "## 查看数据"
   ]
  },
  {
   "cell_type": "code",
   "execution_count": 4,
   "id": "df7b82d0",
   "metadata": {
    "ExecuteTime": {
     "end_time": "2022-05-15T08:45:09.669944Z",
     "start_time": "2022-05-15T08:45:09.658269Z"
    }
   },
   "outputs": [
    {
     "name": "stdout",
     "output_type": "stream",
     "text": [
      "---data shape---\n",
      "(54925330, 7)\n",
      "(424170, 3)\n",
      "(260864, 3)\n",
      "(261477, 3)\n"
     ]
    }
   ],
   "source": [
    "print('---data shape---')     \n",
    "for data in [user_log, user_info, train_data, test_data]:\n",
    "    print(data.shape)"
   ]
  },
  {
   "cell_type": "code",
   "execution_count": 5,
   "id": "b0fa063e",
   "metadata": {
    "ExecuteTime": {
     "end_time": "2022-05-15T08:46:44.061964Z",
     "start_time": "2022-05-15T08:46:44.024351Z"
    }
   },
   "outputs": [
    {
     "name": "stdout",
     "output_type": "stream",
     "text": [
      "---data info ---\n",
      "<class 'pandas.core.frame.DataFrame'>\n",
      "RangeIndex: 54925330 entries, 0 to 54925329\n",
      "Data columns (total 7 columns):\n",
      " #   Column       Dtype  \n",
      "---  ------       -----  \n",
      " 0   user_id      int64  \n",
      " 1   item_id      int64  \n",
      " 2   cat_id       int64  \n",
      " 3   seller_id    int64  \n",
      " 4   brand_id     float64\n",
      " 5   time_stamp   object \n",
      " 6   action_type  int64  \n",
      "dtypes: float64(1), int64(5), object(1)\n",
      "memory usage: 2.9+ GB\n",
      "None\n",
      "<class 'pandas.core.frame.DataFrame'>\n",
      "RangeIndex: 424170 entries, 0 to 424169\n",
      "Data columns (total 3 columns):\n",
      " #   Column     Non-Null Count   Dtype  \n",
      "---  ------     --------------   -----  \n",
      " 0   user_id    424170 non-null  int64  \n",
      " 1   age_range  421953 non-null  float64\n",
      " 2   gender     417734 non-null  float64\n",
      "dtypes: float64(2), int64(1)\n",
      "memory usage: 9.7 MB\n",
      "None\n",
      "<class 'pandas.core.frame.DataFrame'>\n",
      "RangeIndex: 260864 entries, 0 to 260863\n",
      "Data columns (total 3 columns):\n",
      " #   Column       Non-Null Count   Dtype\n",
      "---  ------       --------------   -----\n",
      " 0   user_id      260864 non-null  int64\n",
      " 1   merchant_id  260864 non-null  int64\n",
      " 2   label        260864 non-null  int64\n",
      "dtypes: int64(3)\n",
      "memory usage: 6.0 MB\n",
      "None\n",
      "<class 'pandas.core.frame.DataFrame'>\n",
      "RangeIndex: 261477 entries, 0 to 261476\n",
      "Data columns (total 3 columns):\n",
      " #   Column       Non-Null Count   Dtype  \n",
      "---  ------       --------------   -----  \n",
      " 0   user_id      261477 non-null  int64  \n",
      " 1   merchant_id  261477 non-null  int64  \n",
      " 2   prob         0 non-null       float64\n",
      "dtypes: float64(1), int64(2)\n",
      "memory usage: 6.0 MB\n",
      "None\n"
     ]
    }
   ],
   "source": [
    "print('---data info ---')\n",
    "for data in [user_log, user_info, train_data, test_data]:\n",
    "    print(data.info())"
   ]
  },
  {
   "cell_type": "code",
   "execution_count": 6,
   "id": "62811316",
   "metadata": {
    "ExecuteTime": {
     "end_time": "2022-05-15T08:46:58.945442Z",
     "start_time": "2022-05-15T08:46:58.919978Z"
    }
   },
   "outputs": [
    {
     "data": {
      "text/html": [
       "<div>\n",
       "<style scoped>\n",
       "    .dataframe tbody tr th:only-of-type {\n",
       "        vertical-align: middle;\n",
       "    }\n",
       "\n",
       "    .dataframe tbody tr th {\n",
       "        vertical-align: top;\n",
       "    }\n",
       "\n",
       "    .dataframe thead th {\n",
       "        text-align: right;\n",
       "    }\n",
       "</style>\n",
       "<table border=\"1\" class=\"dataframe\">\n",
       "  <thead>\n",
       "    <tr style=\"text-align: right;\">\n",
       "      <th></th>\n",
       "      <th>user_id</th>\n",
       "      <th>age_range</th>\n",
       "      <th>gender</th>\n",
       "    </tr>\n",
       "  </thead>\n",
       "  <tbody>\n",
       "    <tr>\n",
       "      <th>0</th>\n",
       "      <td>376517</td>\n",
       "      <td>6.0</td>\n",
       "      <td>1.0</td>\n",
       "    </tr>\n",
       "    <tr>\n",
       "      <th>1</th>\n",
       "      <td>234512</td>\n",
       "      <td>5.0</td>\n",
       "      <td>0.0</td>\n",
       "    </tr>\n",
       "    <tr>\n",
       "      <th>2</th>\n",
       "      <td>344532</td>\n",
       "      <td>5.0</td>\n",
       "      <td>0.0</td>\n",
       "    </tr>\n",
       "    <tr>\n",
       "      <th>3</th>\n",
       "      <td>186135</td>\n",
       "      <td>5.0</td>\n",
       "      <td>0.0</td>\n",
       "    </tr>\n",
       "    <tr>\n",
       "      <th>4</th>\n",
       "      <td>30230</td>\n",
       "      <td>5.0</td>\n",
       "      <td>0.0</td>\n",
       "    </tr>\n",
       "  </tbody>\n",
       "</table>\n",
       "</div>"
      ],
      "text/plain": [
       "   user_id  age_range  gender\n",
       "0   376517        6.0     1.0\n",
       "1   234512        5.0     0.0\n",
       "2   344532        5.0     0.0\n",
       "3   186135        5.0     0.0\n",
       "4    30230        5.0     0.0"
      ]
     },
     "metadata": {},
     "output_type": "display_data"
    }
   ],
   "source": [
    "display(user_info.head())"
   ]
  },
  {
   "cell_type": "code",
   "execution_count": 7,
   "id": "be0cf459",
   "metadata": {
    "ExecuteTime": {
     "end_time": "2022-05-15T08:49:14.856040Z",
     "start_time": "2022-05-15T08:49:14.834520Z"
    }
   },
   "outputs": [
    {
     "data": {
      "text/html": [
       "<div>\n",
       "<style scoped>\n",
       "    .dataframe tbody tr th:only-of-type {\n",
       "        vertical-align: middle;\n",
       "    }\n",
       "\n",
       "    .dataframe tbody tr th {\n",
       "        vertical-align: top;\n",
       "    }\n",
       "\n",
       "    .dataframe thead th {\n",
       "        text-align: right;\n",
       "    }\n",
       "</style>\n",
       "<table border=\"1\" class=\"dataframe\">\n",
       "  <thead>\n",
       "    <tr style=\"text-align: right;\">\n",
       "      <th></th>\n",
       "      <th>user_id</th>\n",
       "      <th>merchant_id</th>\n",
       "      <th>label</th>\n",
       "    </tr>\n",
       "  </thead>\n",
       "  <tbody>\n",
       "    <tr>\n",
       "      <th>0</th>\n",
       "      <td>34176</td>\n",
       "      <td>3906</td>\n",
       "      <td>0</td>\n",
       "    </tr>\n",
       "    <tr>\n",
       "      <th>1</th>\n",
       "      <td>34176</td>\n",
       "      <td>121</td>\n",
       "      <td>0</td>\n",
       "    </tr>\n",
       "    <tr>\n",
       "      <th>2</th>\n",
       "      <td>34176</td>\n",
       "      <td>4356</td>\n",
       "      <td>1</td>\n",
       "    </tr>\n",
       "    <tr>\n",
       "      <th>3</th>\n",
       "      <td>34176</td>\n",
       "      <td>2217</td>\n",
       "      <td>0</td>\n",
       "    </tr>\n",
       "    <tr>\n",
       "      <th>4</th>\n",
       "      <td>230784</td>\n",
       "      <td>4818</td>\n",
       "      <td>0</td>\n",
       "    </tr>\n",
       "  </tbody>\n",
       "</table>\n",
       "</div>"
      ],
      "text/plain": [
       "   user_id  merchant_id  label\n",
       "0    34176         3906      0\n",
       "1    34176          121      0\n",
       "2    34176         4356      1\n",
       "3    34176         2217      0\n",
       "4   230784         4818      0"
      ]
     },
     "metadata": {},
     "output_type": "display_data"
    },
    {
     "data": {
      "text/html": [
       "<div>\n",
       "<style scoped>\n",
       "    .dataframe tbody tr th:only-of-type {\n",
       "        vertical-align: middle;\n",
       "    }\n",
       "\n",
       "    .dataframe tbody tr th {\n",
       "        vertical-align: top;\n",
       "    }\n",
       "\n",
       "    .dataframe thead th {\n",
       "        text-align: right;\n",
       "    }\n",
       "</style>\n",
       "<table border=\"1\" class=\"dataframe\">\n",
       "  <thead>\n",
       "    <tr style=\"text-align: right;\">\n",
       "      <th></th>\n",
       "      <th>user_id</th>\n",
       "      <th>merchant_id</th>\n",
       "      <th>prob</th>\n",
       "    </tr>\n",
       "  </thead>\n",
       "  <tbody>\n",
       "    <tr>\n",
       "      <th>0</th>\n",
       "      <td>163968</td>\n",
       "      <td>4605</td>\n",
       "      <td>NaN</td>\n",
       "    </tr>\n",
       "    <tr>\n",
       "      <th>1</th>\n",
       "      <td>360576</td>\n",
       "      <td>1581</td>\n",
       "      <td>NaN</td>\n",
       "    </tr>\n",
       "    <tr>\n",
       "      <th>2</th>\n",
       "      <td>98688</td>\n",
       "      <td>1964</td>\n",
       "      <td>NaN</td>\n",
       "    </tr>\n",
       "    <tr>\n",
       "      <th>3</th>\n",
       "      <td>98688</td>\n",
       "      <td>3645</td>\n",
       "      <td>NaN</td>\n",
       "    </tr>\n",
       "    <tr>\n",
       "      <th>4</th>\n",
       "      <td>295296</td>\n",
       "      <td>3361</td>\n",
       "      <td>NaN</td>\n",
       "    </tr>\n",
       "  </tbody>\n",
       "</table>\n",
       "</div>"
      ],
      "text/plain": [
       "   user_id  merchant_id  prob\n",
       "0   163968         4605   NaN\n",
       "1   360576         1581   NaN\n",
       "2    98688         1964   NaN\n",
       "3    98688         3645   NaN\n",
       "4   295296         3361   NaN"
      ]
     },
     "metadata": {},
     "output_type": "display_data"
    }
   ],
   "source": [
    "display(train_data.head(),test_data.head())"
   ]
  },
  {
   "cell_type": "markdown",
   "id": "daba93e4",
   "metadata": {
    "ExecuteTime": {
     "end_time": "2022-05-15T08:49:30.846929Z",
     "start_time": "2022-05-15T08:49:30.838926Z"
    }
   },
   "source": [
    "## 数据集成"
   ]
  },
  {
   "cell_type": "code",
   "execution_count": 9,
   "id": "3ae7fd90",
   "metadata": {
    "ExecuteTime": {
     "end_time": "2022-05-15T08:49:57.662459Z",
     "start_time": "2022-05-15T08:49:57.614244Z"
    }
   },
   "outputs": [
    {
     "data": {
      "text/html": [
       "<div>\n",
       "<style scoped>\n",
       "    .dataframe tbody tr th:only-of-type {\n",
       "        vertical-align: middle;\n",
       "    }\n",
       "\n",
       "    .dataframe tbody tr th {\n",
       "        vertical-align: top;\n",
       "    }\n",
       "\n",
       "    .dataframe thead th {\n",
       "        text-align: right;\n",
       "    }\n",
       "</style>\n",
       "<table border=\"1\" class=\"dataframe\">\n",
       "  <thead>\n",
       "    <tr style=\"text-align: right;\">\n",
       "      <th></th>\n",
       "      <th>user_id</th>\n",
       "      <th>merchant_id</th>\n",
       "      <th>label</th>\n",
       "      <th>origin</th>\n",
       "    </tr>\n",
       "  </thead>\n",
       "  <tbody>\n",
       "    <tr>\n",
       "      <th>0</th>\n",
       "      <td>34176</td>\n",
       "      <td>3906</td>\n",
       "      <td>0.0</td>\n",
       "      <td>train</td>\n",
       "    </tr>\n",
       "    <tr>\n",
       "      <th>1</th>\n",
       "      <td>34176</td>\n",
       "      <td>121</td>\n",
       "      <td>0.0</td>\n",
       "      <td>train</td>\n",
       "    </tr>\n",
       "    <tr>\n",
       "      <th>2</th>\n",
       "      <td>34176</td>\n",
       "      <td>4356</td>\n",
       "      <td>1.0</td>\n",
       "      <td>train</td>\n",
       "    </tr>\n",
       "    <tr>\n",
       "      <th>3</th>\n",
       "      <td>34176</td>\n",
       "      <td>2217</td>\n",
       "      <td>0.0</td>\n",
       "      <td>train</td>\n",
       "    </tr>\n",
       "    <tr>\n",
       "      <th>4</th>\n",
       "      <td>230784</td>\n",
       "      <td>4818</td>\n",
       "      <td>0.0</td>\n",
       "      <td>train</td>\n",
       "    </tr>\n",
       "  </tbody>\n",
       "</table>\n",
       "</div>"
      ],
      "text/plain": [
       "   user_id  merchant_id  label origin\n",
       "0    34176         3906    0.0  train\n",
       "1    34176          121    0.0  train\n",
       "2    34176         4356    1.0  train\n",
       "3    34176         2217    0.0  train\n",
       "4   230784         4818    0.0  train"
      ]
     },
     "metadata": {},
     "output_type": "display_data"
    },
    {
     "data": {
      "text/plain": [
       "(522341, 4)"
      ]
     },
     "metadata": {},
     "output_type": "display_data"
    }
   ],
   "source": [
    "train_data['origin'] = 'train'\n",
    "test_data['origin'] = 'test'\n",
    "# 集成\n",
    "all_data = pd.concat([train_data, test_data], ignore_index=True, sort=False)\n",
    "# prob测试数据中特有的一列\n",
    "all_data.drop(['prob'], axis=1, inplace=True) # 删除概率这一列\n",
    "display(all_data.head(),all_data.shape)"
   ]
  },
  {
   "cell_type": "code",
   "execution_count": 10,
   "id": "50c17db8",
   "metadata": {
    "ExecuteTime": {
     "end_time": "2022-05-15T08:50:50.436902Z",
     "start_time": "2022-05-15T08:50:50.418246Z"
    }
   },
   "outputs": [
    {
     "data": {
      "text/html": [
       "<div>\n",
       "<style scoped>\n",
       "    .dataframe tbody tr th:only-of-type {\n",
       "        vertical-align: middle;\n",
       "    }\n",
       "\n",
       "    .dataframe tbody tr th {\n",
       "        vertical-align: top;\n",
       "    }\n",
       "\n",
       "    .dataframe thead th {\n",
       "        text-align: right;\n",
       "    }\n",
       "</style>\n",
       "<table border=\"1\" class=\"dataframe\">\n",
       "  <thead>\n",
       "    <tr style=\"text-align: right;\">\n",
       "      <th></th>\n",
       "      <th>user_id</th>\n",
       "      <th>merchant_id</th>\n",
       "      <th>label</th>\n",
       "      <th>origin</th>\n",
       "    </tr>\n",
       "  </thead>\n",
       "  <tbody>\n",
       "    <tr>\n",
       "      <th>522336</th>\n",
       "      <td>228479</td>\n",
       "      <td>3111</td>\n",
       "      <td>NaN</td>\n",
       "      <td>test</td>\n",
       "    </tr>\n",
       "    <tr>\n",
       "      <th>522337</th>\n",
       "      <td>97919</td>\n",
       "      <td>2341</td>\n",
       "      <td>NaN</td>\n",
       "      <td>test</td>\n",
       "    </tr>\n",
       "    <tr>\n",
       "      <th>522338</th>\n",
       "      <td>97919</td>\n",
       "      <td>3971</td>\n",
       "      <td>NaN</td>\n",
       "      <td>test</td>\n",
       "    </tr>\n",
       "    <tr>\n",
       "      <th>522339</th>\n",
       "      <td>32639</td>\n",
       "      <td>3536</td>\n",
       "      <td>NaN</td>\n",
       "      <td>test</td>\n",
       "    </tr>\n",
       "    <tr>\n",
       "      <th>522340</th>\n",
       "      <td>32639</td>\n",
       "      <td>3319</td>\n",
       "      <td>NaN</td>\n",
       "      <td>test</td>\n",
       "    </tr>\n",
       "  </tbody>\n",
       "</table>\n",
       "</div>"
      ],
      "text/plain": [
       "        user_id  merchant_id  label origin\n",
       "522336   228479         3111    NaN   test\n",
       "522337    97919         2341    NaN   test\n",
       "522338    97919         3971    NaN   test\n",
       "522339    32639         3536    NaN   test\n",
       "522340    32639         3319    NaN   test"
      ]
     },
     "execution_count": 10,
     "metadata": {},
     "output_type": "execute_result"
    }
   ],
   "source": [
    "all_data.tail()"
   ]
  },
  {
   "cell_type": "code",
   "execution_count": 11,
   "id": "db9d53b6",
   "metadata": {
    "ExecuteTime": {
     "end_time": "2022-05-15T08:51:12.552095Z",
     "start_time": "2022-05-15T08:51:12.442595Z"
    }
   },
   "outputs": [
    {
     "data": {
      "text/plain": [
       "(522341, 6)"
      ]
     },
     "metadata": {},
     "output_type": "display_data"
    },
    {
     "data": {
      "text/html": [
       "<div>\n",
       "<style scoped>\n",
       "    .dataframe tbody tr th:only-of-type {\n",
       "        vertical-align: middle;\n",
       "    }\n",
       "\n",
       "    .dataframe tbody tr th {\n",
       "        vertical-align: top;\n",
       "    }\n",
       "\n",
       "    .dataframe thead th {\n",
       "        text-align: right;\n",
       "    }\n",
       "</style>\n",
       "<table border=\"1\" class=\"dataframe\">\n",
       "  <thead>\n",
       "    <tr style=\"text-align: right;\">\n",
       "      <th></th>\n",
       "      <th>user_id</th>\n",
       "      <th>merchant_id</th>\n",
       "      <th>label</th>\n",
       "      <th>origin</th>\n",
       "      <th>age_range</th>\n",
       "      <th>gender</th>\n",
       "    </tr>\n",
       "  </thead>\n",
       "  <tbody>\n",
       "    <tr>\n",
       "      <th>0</th>\n",
       "      <td>34176</td>\n",
       "      <td>3906</td>\n",
       "      <td>0.0</td>\n",
       "      <td>train</td>\n",
       "      <td>6.0</td>\n",
       "      <td>0.0</td>\n",
       "    </tr>\n",
       "    <tr>\n",
       "      <th>1</th>\n",
       "      <td>34176</td>\n",
       "      <td>121</td>\n",
       "      <td>0.0</td>\n",
       "      <td>train</td>\n",
       "      <td>6.0</td>\n",
       "      <td>0.0</td>\n",
       "    </tr>\n",
       "    <tr>\n",
       "      <th>2</th>\n",
       "      <td>34176</td>\n",
       "      <td>4356</td>\n",
       "      <td>1.0</td>\n",
       "      <td>train</td>\n",
       "      <td>6.0</td>\n",
       "      <td>0.0</td>\n",
       "    </tr>\n",
       "    <tr>\n",
       "      <th>3</th>\n",
       "      <td>34176</td>\n",
       "      <td>2217</td>\n",
       "      <td>0.0</td>\n",
       "      <td>train</td>\n",
       "      <td>6.0</td>\n",
       "      <td>0.0</td>\n",
       "    </tr>\n",
       "    <tr>\n",
       "      <th>4</th>\n",
       "      <td>230784</td>\n",
       "      <td>4818</td>\n",
       "      <td>0.0</td>\n",
       "      <td>train</td>\n",
       "      <td>0.0</td>\n",
       "      <td>0.0</td>\n",
       "    </tr>\n",
       "  </tbody>\n",
       "</table>\n",
       "</div>"
      ],
      "text/plain": [
       "   user_id  merchant_id  label origin  age_range  gender\n",
       "0    34176         3906    0.0  train        6.0     0.0\n",
       "1    34176          121    0.0  train        6.0     0.0\n",
       "2    34176         4356    1.0  train        6.0     0.0\n",
       "3    34176         2217    0.0  train        6.0     0.0\n",
       "4   230784         4818    0.0  train        0.0     0.0"
      ]
     },
     "metadata": {},
     "output_type": "display_data"
    }
   ],
   "source": [
    "# 连接user_info表，通过user_id关联\n",
    "all_data = all_data.merge(user_info, on='user_id', how='left')\n",
    "display(all_data.shape,all_data.head())"
   ]
  },
  {
   "cell_type": "code",
   "execution_count": 12,
   "id": "dc7e55aa",
   "metadata": {
    "ExecuteTime": {
     "end_time": "2022-05-15T08:53:02.158564Z",
     "start_time": "2022-05-15T08:53:02.147771Z"
    }
   },
   "outputs": [],
   "source": [
    "# 使用 merchant_id（原列名seller_id）\n",
    "user_log.rename(columns={'seller_id':'merchant_id'}, inplace=True)"
   ]
  },
  {
   "cell_type": "code",
   "execution_count": 13,
   "id": "9a1f1771",
   "metadata": {
    "ExecuteTime": {
     "end_time": "2022-05-15T08:54:22.975222Z",
     "start_time": "2022-05-15T08:54:22.845295Z"
    }
   },
   "outputs": [
    {
     "data": {
      "text/plain": [
       "9363"
      ]
     },
     "execution_count": 13,
     "metadata": {},
     "output_type": "execute_result"
    }
   ],
   "source": [
    "del train_data,test_data,user_info\n",
    "gc.collect()"
   ]
  },
  {
   "cell_type": "markdown",
   "id": "981ce8c1",
   "metadata": {},
   "source": [
    "## 数据类型转换"
   ]
  },
  {
   "cell_type": "code",
   "execution_count": 14,
   "id": "236ce3e1",
   "metadata": {
    "ExecuteTime": {
     "end_time": "2022-05-15T08:57:08.477893Z",
     "start_time": "2022-05-15T08:57:08.454990Z"
    }
   },
   "outputs": [
    {
     "name": "stdout",
     "output_type": "stream",
     "text": [
      "<class 'pandas.core.frame.DataFrame'>\n",
      "RangeIndex: 54925330 entries, 0 to 54925329\n",
      "Data columns (total 7 columns):\n",
      " #   Column       Dtype  \n",
      "---  ------       -----  \n",
      " 0   user_id      int64  \n",
      " 1   item_id      int64  \n",
      " 2   cat_id       int64  \n",
      " 3   merchant_id  int64  \n",
      " 4   brand_id     float64\n",
      " 5   time_stamp   object \n",
      " 6   action_type  int64  \n",
      "dtypes: float64(1), int64(5), object(1)\n",
      "memory usage: 2.9+ GB\n"
     ]
    },
    {
     "data": {
      "text/plain": [
       "None"
      ]
     },
     "metadata": {},
     "output_type": "display_data"
    },
    {
     "name": "stdout",
     "output_type": "stream",
     "text": [
      "CPU times: user 14.8 ms, sys: 3.42 ms, total: 18.2 ms\n",
      "Wall time: 16.7 ms\n"
     ]
    }
   ],
   "source": [
    "%%time\n",
    "display(user_log.info())"
   ]
  },
  {
   "cell_type": "code",
   "execution_count": 15,
   "id": "54345eea",
   "metadata": {
    "ExecuteTime": {
     "end_time": "2022-05-15T08:57:19.237206Z",
     "start_time": "2022-05-15T08:57:19.215869Z"
    }
   },
   "outputs": [
    {
     "data": {
      "text/html": [
       "<div>\n",
       "<style scoped>\n",
       "    .dataframe tbody tr th:only-of-type {\n",
       "        vertical-align: middle;\n",
       "    }\n",
       "\n",
       "    .dataframe tbody tr th {\n",
       "        vertical-align: top;\n",
       "    }\n",
       "\n",
       "    .dataframe thead th {\n",
       "        text-align: right;\n",
       "    }\n",
       "</style>\n",
       "<table border=\"1\" class=\"dataframe\">\n",
       "  <thead>\n",
       "    <tr style=\"text-align: right;\">\n",
       "      <th></th>\n",
       "      <th>user_id</th>\n",
       "      <th>item_id</th>\n",
       "      <th>cat_id</th>\n",
       "      <th>merchant_id</th>\n",
       "      <th>brand_id</th>\n",
       "      <th>time_stamp</th>\n",
       "      <th>action_type</th>\n",
       "    </tr>\n",
       "  </thead>\n",
       "  <tbody>\n",
       "    <tr>\n",
       "      <th>0</th>\n",
       "      <td>328862</td>\n",
       "      <td>323294</td>\n",
       "      <td>833</td>\n",
       "      <td>2882</td>\n",
       "      <td>2661.0</td>\n",
       "      <td>0829</td>\n",
       "      <td>0</td>\n",
       "    </tr>\n",
       "    <tr>\n",
       "      <th>1</th>\n",
       "      <td>328862</td>\n",
       "      <td>844400</td>\n",
       "      <td>1271</td>\n",
       "      <td>2882</td>\n",
       "      <td>2661.0</td>\n",
       "      <td>0829</td>\n",
       "      <td>0</td>\n",
       "    </tr>\n",
       "    <tr>\n",
       "      <th>2</th>\n",
       "      <td>328862</td>\n",
       "      <td>575153</td>\n",
       "      <td>1271</td>\n",
       "      <td>2882</td>\n",
       "      <td>2661.0</td>\n",
       "      <td>0829</td>\n",
       "      <td>0</td>\n",
       "    </tr>\n",
       "    <tr>\n",
       "      <th>3</th>\n",
       "      <td>328862</td>\n",
       "      <td>996875</td>\n",
       "      <td>1271</td>\n",
       "      <td>2882</td>\n",
       "      <td>2661.0</td>\n",
       "      <td>0829</td>\n",
       "      <td>0</td>\n",
       "    </tr>\n",
       "    <tr>\n",
       "      <th>4</th>\n",
       "      <td>328862</td>\n",
       "      <td>1086186</td>\n",
       "      <td>1271</td>\n",
       "      <td>1253</td>\n",
       "      <td>1049.0</td>\n",
       "      <td>0829</td>\n",
       "      <td>0</td>\n",
       "    </tr>\n",
       "  </tbody>\n",
       "</table>\n",
       "</div>"
      ],
      "text/plain": [
       "   user_id  item_id  cat_id  merchant_id  brand_id time_stamp  action_type\n",
       "0   328862   323294     833         2882    2661.0       0829            0\n",
       "1   328862   844400    1271         2882    2661.0       0829            0\n",
       "2   328862   575153    1271         2882    2661.0       0829            0\n",
       "3   328862   996875    1271         2882    2661.0       0829            0\n",
       "4   328862  1086186    1271         1253    1049.0       0829            0"
      ]
     },
     "metadata": {},
     "output_type": "display_data"
    },
    {
     "name": "stdout",
     "output_type": "stream",
     "text": [
      "CPU times: user 14.2 ms, sys: 1.88 ms, total: 16.1 ms\n",
      "Wall time: 14.4 ms\n"
     ]
    }
   ],
   "source": [
    "%%time\n",
    "display(user_log.head())"
   ]
  },
  {
   "cell_type": "code",
   "execution_count": 16,
   "id": "707d38f3",
   "metadata": {
    "ExecuteTime": {
     "end_time": "2022-05-15T08:58:33.917298Z",
     "start_time": "2022-05-15T08:58:26.001483Z"
    }
   },
   "outputs": [
    {
     "name": "stdout",
     "output_type": "stream",
     "text": [
      "<class 'pandas.core.frame.DataFrame'>\n",
      "RangeIndex: 54925330 entries, 0 to 54925329\n",
      "Data columns (total 7 columns):\n",
      " #   Column       Dtype         \n",
      "---  ------       -----         \n",
      " 0   user_id      int32         \n",
      " 1   item_id      int32         \n",
      " 2   cat_id       int32         \n",
      " 3   merchant_id  int32         \n",
      " 4   brand_id     int32         \n",
      " 5   time_stamp   datetime64[ns]\n",
      " 6   action_type  int32         \n",
      "dtypes: datetime64[ns](1), int32(6)\n",
      "memory usage: 1.6 GB\n"
     ]
    },
    {
     "data": {
      "text/plain": [
       "None"
      ]
     },
     "metadata": {},
     "output_type": "display_data"
    },
    {
     "data": {
      "text/html": [
       "<div>\n",
       "<style scoped>\n",
       "    .dataframe tbody tr th:only-of-type {\n",
       "        vertical-align: middle;\n",
       "    }\n",
       "\n",
       "    .dataframe tbody tr th {\n",
       "        vertical-align: top;\n",
       "    }\n",
       "\n",
       "    .dataframe thead th {\n",
       "        text-align: right;\n",
       "    }\n",
       "</style>\n",
       "<table border=\"1\" class=\"dataframe\">\n",
       "  <thead>\n",
       "    <tr style=\"text-align: right;\">\n",
       "      <th></th>\n",
       "      <th>user_id</th>\n",
       "      <th>item_id</th>\n",
       "      <th>cat_id</th>\n",
       "      <th>merchant_id</th>\n",
       "      <th>brand_id</th>\n",
       "      <th>time_stamp</th>\n",
       "      <th>action_type</th>\n",
       "    </tr>\n",
       "  </thead>\n",
       "  <tbody>\n",
       "    <tr>\n",
       "      <th>0</th>\n",
       "      <td>328862</td>\n",
       "      <td>323294</td>\n",
       "      <td>833</td>\n",
       "      <td>2882</td>\n",
       "      <td>2661</td>\n",
       "      <td>1900-01-01 08:29:00</td>\n",
       "      <td>0</td>\n",
       "    </tr>\n",
       "    <tr>\n",
       "      <th>1</th>\n",
       "      <td>328862</td>\n",
       "      <td>844400</td>\n",
       "      <td>1271</td>\n",
       "      <td>2882</td>\n",
       "      <td>2661</td>\n",
       "      <td>1900-01-01 08:29:00</td>\n",
       "      <td>0</td>\n",
       "    </tr>\n",
       "    <tr>\n",
       "      <th>2</th>\n",
       "      <td>328862</td>\n",
       "      <td>575153</td>\n",
       "      <td>1271</td>\n",
       "      <td>2882</td>\n",
       "      <td>2661</td>\n",
       "      <td>1900-01-01 08:29:00</td>\n",
       "      <td>0</td>\n",
       "    </tr>\n",
       "    <tr>\n",
       "      <th>3</th>\n",
       "      <td>328862</td>\n",
       "      <td>996875</td>\n",
       "      <td>1271</td>\n",
       "      <td>2882</td>\n",
       "      <td>2661</td>\n",
       "      <td>1900-01-01 08:29:00</td>\n",
       "      <td>0</td>\n",
       "    </tr>\n",
       "    <tr>\n",
       "      <th>4</th>\n",
       "      <td>328862</td>\n",
       "      <td>1086186</td>\n",
       "      <td>1271</td>\n",
       "      <td>1253</td>\n",
       "      <td>1049</td>\n",
       "      <td>1900-01-01 08:29:00</td>\n",
       "      <td>0</td>\n",
       "    </tr>\n",
       "  </tbody>\n",
       "</table>\n",
       "</div>"
      ],
      "text/plain": [
       "   user_id  item_id  cat_id  merchant_id  brand_id          time_stamp  \\\n",
       "0   328862   323294     833         2882      2661 1900-01-01 08:29:00   \n",
       "1   328862   844400    1271         2882      2661 1900-01-01 08:29:00   \n",
       "2   328862   575153    1271         2882      2661 1900-01-01 08:29:00   \n",
       "3   328862   996875    1271         2882      2661 1900-01-01 08:29:00   \n",
       "4   328862  1086186    1271         1253      1049 1900-01-01 08:29:00   \n",
       "\n",
       "   action_type  \n",
       "0            0  \n",
       "1            0  \n",
       "2            0  \n",
       "3            0  \n",
       "4            0  "
      ]
     },
     "metadata": {},
     "output_type": "display_data"
    },
    {
     "name": "stdout",
     "output_type": "stream",
     "text": [
      "CPU times: user 6.22 s, sys: 1.68 s, total: 7.91 s\n",
      "Wall time: 7.91 s\n"
     ]
    }
   ],
   "source": [
    "%%time\n",
    "# 用户行为数据类型转换\n",
    "user_log['user_id'] = user_log['user_id'].astype('int32')\n",
    "user_log['merchant_id'] = user_log['merchant_id'].astype('int32')\n",
    "user_log['item_id'] = user_log['item_id'].astype('int32')\n",
    "user_log['cat_id'] = user_log['cat_id'].astype('int32')\n",
    "user_log['brand_id'].fillna(0, inplace=True)\n",
    "user_log['brand_id'] = user_log['brand_id'].astype('int32')\n",
    "user_log['time_stamp'] = pd.to_datetime(user_log['time_stamp'], format='%H%M')\n",
    "user_log['action_type'] = user_log['action_type'].astype('int32')\n",
    "display(user_log.info(),user_log.head())"
   ]
  },
  {
   "cell_type": "code",
   "execution_count": 17,
   "id": "690503c9",
   "metadata": {
    "ExecuteTime": {
     "end_time": "2022-05-15T09:01:10.332507Z",
     "start_time": "2022-05-15T09:01:10.286214Z"
    }
   },
   "outputs": [
    {
     "data": {
      "text/plain": [
       "user_id             0\n",
       "merchant_id         0\n",
       "label          261477\n",
       "origin              0\n",
       "age_range        2578\n",
       "gender           7545\n",
       "dtype: int64"
      ]
     },
     "metadata": {},
     "output_type": "display_data"
    }
   ],
   "source": [
    "display(all_data.isnull().sum())"
   ]
  },
  {
   "cell_type": "code",
   "execution_count": 18,
   "id": "2d65c477",
   "metadata": {
    "ExecuteTime": {
     "end_time": "2022-05-15T09:01:26.875032Z",
     "start_time": "2022-05-15T09:01:26.823432Z"
    }
   },
   "outputs": [
    {
     "data": {
      "text/plain": [
       "user_id             0\n",
       "merchant_id         0\n",
       "label          261477\n",
       "origin              0\n",
       "age_range           0\n",
       "gender              0\n",
       "dtype: int64"
      ]
     },
     "execution_count": 18,
     "metadata": {},
     "output_type": "execute_result"
    }
   ],
   "source": [
    "# 缺失值填充\n",
    "all_data['age_range'].fillna(0, inplace=True)\n",
    "all_data['gender'].fillna(2, inplace=True)\n",
    "all_data.isnull().sum()"
   ]
  },
  {
   "cell_type": "code",
   "execution_count": 19,
   "id": "aeef9d67",
   "metadata": {
    "ExecuteTime": {
     "end_time": "2022-05-15T09:02:02.764936Z",
     "start_time": "2022-05-15T09:02:02.718429Z"
    }
   },
   "outputs": [
    {
     "name": "stdout",
     "output_type": "stream",
     "text": [
      "<class 'pandas.core.frame.DataFrame'>\n",
      "Int64Index: 522341 entries, 0 to 522340\n",
      "Data columns (total 6 columns):\n",
      " #   Column       Non-Null Count   Dtype  \n",
      "---  ------       --------------   -----  \n",
      " 0   user_id      522341 non-null  int64  \n",
      " 1   merchant_id  522341 non-null  int64  \n",
      " 2   label        260864 non-null  float64\n",
      " 3   origin       522341 non-null  object \n",
      " 4   age_range    522341 non-null  float64\n",
      " 5   gender       522341 non-null  float64\n",
      "dtypes: float64(3), int64(2), object(1)\n",
      "memory usage: 27.9+ MB\n"
     ]
    }
   ],
   "source": [
    "all_data.info()"
   ]
  },
  {
   "cell_type": "code",
   "execution_count": 20,
   "id": "239d2fcb",
   "metadata": {
    "ExecuteTime": {
     "end_time": "2022-05-15T09:03:08.111715Z",
     "start_time": "2022-05-15T09:03:07.870622Z"
    }
   },
   "outputs": [
    {
     "name": "stdout",
     "output_type": "stream",
     "text": [
      "<class 'pandas.core.frame.DataFrame'>\n",
      "Int64Index: 522341 entries, 0 to 522340\n",
      "Data columns (total 6 columns):\n",
      " #   Column       Non-Null Count   Dtype \n",
      "---  ------       --------------   ----- \n",
      " 0   user_id      522341 non-null  int32 \n",
      " 1   merchant_id  522341 non-null  int32 \n",
      " 2   label        522341 non-null  object\n",
      " 3   origin       522341 non-null  object\n",
      " 4   age_range    522341 non-null  int8  \n",
      " 5   gender       522341 non-null  int8  \n",
      "dtypes: int32(2), int8(2), object(2)\n",
      "memory usage: 16.9+ MB\n"
     ]
    }
   ],
   "source": [
    "all_data['age_range'] = all_data['age_range'].astype('int8')\n",
    "all_data['gender'] = all_data['gender'].astype('int8')\n",
    "all_data['label'] = all_data['label'].astype('str')\n",
    "all_data['user_id'] = all_data['user_id'].astype('int32')\n",
    "all_data['merchant_id'] = all_data['merchant_id'].astype('int32')\n",
    "all_data.info()"
   ]
  },
  {
   "cell_type": "markdown",
   "id": "5ef94aef",
   "metadata": {},
   "source": [
    "## 用户特征工程(5min)"
   ]
  },
  {
   "cell_type": "code",
   "execution_count": 21,
   "id": "1728f59b",
   "metadata": {
    "ExecuteTime": {
     "end_time": "2022-05-15T09:05:13.753112Z",
     "start_time": "2022-05-15T09:04:30.486988Z"
    }
   },
   "outputs": [
    {
     "name": "stdout",
     "output_type": "stream",
     "text": [
      "CPU times: user 41.9 s, sys: 1.31 s, total: 43.2 s\n",
      "Wall time: 43.2 s\n"
     ]
    },
    {
     "data": {
      "text/plain": [
       "19"
      ]
     },
     "execution_count": 21,
     "metadata": {},
     "output_type": "execute_result"
    }
   ],
   "source": [
    "%%time\n",
    "##### 特征处理\n",
    "##### User特征处理\n",
    "groups = user_log.groupby(['user_id'])\n",
    "\n",
    "# 用户交互行为数量 u1\n",
    "temp = groups.size().reset_index().rename(columns={0:'u1'})\n",
    "all_data = all_data.merge(temp, on='user_id', how='left')\n",
    "\n",
    "# 细分\n",
    "# 使用 agg 基于列的聚合操作，统计唯一值个数 item_id, cat_id, merchant_id, brand_id\n",
    "# 用户，交互行为：点了多少商品呢？\n",
    "temp = groups['item_id'].agg([('u2', 'nunique')]).reset_index()\n",
    "all_data = all_data.merge(temp, on='user_id', how='left')\n",
    "\n",
    "# 用户，交互行为，具体统计：类目多少\n",
    "temp = groups['cat_id'].agg([('u3', 'nunique')]).reset_index()\n",
    "all_data = all_data.merge(temp, on='user_id', how='left')\n",
    "\n",
    "temp = groups['merchant_id'].agg([('u4', 'nunique')]).reset_index()\n",
    "all_data = all_data.merge(temp, on='user_id', how='left')\n",
    "\n",
    "temp = groups['brand_id'].agg([('u5', 'nunique')]).reset_index()\n",
    "all_data = all_data.merge(temp, on='user_id', how='left')\n",
    "\n",
    "\n",
    "# 购物时间间隔特征 u6 按照小时\n",
    "temp = groups['time_stamp'].agg([('F_time', 'min'), ('B_time', 'max')]).reset_index()\n",
    "temp['u6'] = (temp['B_time'] - temp['F_time']).dt.seconds/3600\n",
    "all_data = all_data.merge(temp[['user_id', 'u6']], on='user_id', how='left')\n",
    "\n",
    "\n",
    "# 统计操作类型为0，1，2，3的个数\n",
    "temp = groups['action_type'].value_counts().unstack().reset_index().rename(\n",
    "    columns={0:'u7', 1:'u8', 2:'u9', 3:'u10'})\n",
    "all_data = all_data.merge(temp, on='user_id', how='left')\n",
    "\n",
    "del temp,groups\n",
    "gc.collect()"
   ]
  },
  {
   "cell_type": "code",
   "execution_count": 22,
   "id": "397ee3d9",
   "metadata": {
    "ExecuteTime": {
     "end_time": "2022-05-15T09:05:39.565823Z",
     "start_time": "2022-05-15T09:05:39.542028Z"
    }
   },
   "outputs": [
    {
     "data": {
      "text/html": [
       "<div>\n",
       "<style scoped>\n",
       "    .dataframe tbody tr th:only-of-type {\n",
       "        vertical-align: middle;\n",
       "    }\n",
       "\n",
       "    .dataframe tbody tr th {\n",
       "        vertical-align: top;\n",
       "    }\n",
       "\n",
       "    .dataframe thead th {\n",
       "        text-align: right;\n",
       "    }\n",
       "</style>\n",
       "<table border=\"1\" class=\"dataframe\">\n",
       "  <thead>\n",
       "    <tr style=\"text-align: right;\">\n",
       "      <th></th>\n",
       "      <th>user_id</th>\n",
       "      <th>merchant_id</th>\n",
       "      <th>label</th>\n",
       "      <th>origin</th>\n",
       "      <th>age_range</th>\n",
       "      <th>gender</th>\n",
       "      <th>u1</th>\n",
       "      <th>u2</th>\n",
       "      <th>u3</th>\n",
       "      <th>u4</th>\n",
       "      <th>u5</th>\n",
       "      <th>u6</th>\n",
       "      <th>u7</th>\n",
       "      <th>u8</th>\n",
       "      <th>u9</th>\n",
       "      <th>u10</th>\n",
       "    </tr>\n",
       "  </thead>\n",
       "  <tbody>\n",
       "    <tr>\n",
       "      <th>0</th>\n",
       "      <td>34176</td>\n",
       "      <td>3906</td>\n",
       "      <td>0.0</td>\n",
       "      <td>train</td>\n",
       "      <td>6</td>\n",
       "      <td>0</td>\n",
       "      <td>451</td>\n",
       "      <td>256</td>\n",
       "      <td>45</td>\n",
       "      <td>109</td>\n",
       "      <td>108</td>\n",
       "      <td>5.833333</td>\n",
       "      <td>410.0</td>\n",
       "      <td>NaN</td>\n",
       "      <td>34.0</td>\n",
       "      <td>7.0</td>\n",
       "    </tr>\n",
       "    <tr>\n",
       "      <th>1</th>\n",
       "      <td>34176</td>\n",
       "      <td>121</td>\n",
       "      <td>0.0</td>\n",
       "      <td>train</td>\n",
       "      <td>6</td>\n",
       "      <td>0</td>\n",
       "      <td>451</td>\n",
       "      <td>256</td>\n",
       "      <td>45</td>\n",
       "      <td>109</td>\n",
       "      <td>108</td>\n",
       "      <td>5.833333</td>\n",
       "      <td>410.0</td>\n",
       "      <td>NaN</td>\n",
       "      <td>34.0</td>\n",
       "      <td>7.0</td>\n",
       "    </tr>\n",
       "    <tr>\n",
       "      <th>2</th>\n",
       "      <td>34176</td>\n",
       "      <td>4356</td>\n",
       "      <td>1.0</td>\n",
       "      <td>train</td>\n",
       "      <td>6</td>\n",
       "      <td>0</td>\n",
       "      <td>451</td>\n",
       "      <td>256</td>\n",
       "      <td>45</td>\n",
       "      <td>109</td>\n",
       "      <td>108</td>\n",
       "      <td>5.833333</td>\n",
       "      <td>410.0</td>\n",
       "      <td>NaN</td>\n",
       "      <td>34.0</td>\n",
       "      <td>7.0</td>\n",
       "    </tr>\n",
       "    <tr>\n",
       "      <th>3</th>\n",
       "      <td>34176</td>\n",
       "      <td>2217</td>\n",
       "      <td>0.0</td>\n",
       "      <td>train</td>\n",
       "      <td>6</td>\n",
       "      <td>0</td>\n",
       "      <td>451</td>\n",
       "      <td>256</td>\n",
       "      <td>45</td>\n",
       "      <td>109</td>\n",
       "      <td>108</td>\n",
       "      <td>5.833333</td>\n",
       "      <td>410.0</td>\n",
       "      <td>NaN</td>\n",
       "      <td>34.0</td>\n",
       "      <td>7.0</td>\n",
       "    </tr>\n",
       "    <tr>\n",
       "      <th>4</th>\n",
       "      <td>230784</td>\n",
       "      <td>4818</td>\n",
       "      <td>0.0</td>\n",
       "      <td>train</td>\n",
       "      <td>0</td>\n",
       "      <td>0</td>\n",
       "      <td>54</td>\n",
       "      <td>31</td>\n",
       "      <td>17</td>\n",
       "      <td>20</td>\n",
       "      <td>19</td>\n",
       "      <td>5.166667</td>\n",
       "      <td>47.0</td>\n",
       "      <td>NaN</td>\n",
       "      <td>7.0</td>\n",
       "      <td>NaN</td>\n",
       "    </tr>\n",
       "  </tbody>\n",
       "</table>\n",
       "</div>"
      ],
      "text/plain": [
       "   user_id  merchant_id label origin  age_range  gender   u1   u2  u3   u4  \\\n",
       "0    34176         3906   0.0  train          6       0  451  256  45  109   \n",
       "1    34176          121   0.0  train          6       0  451  256  45  109   \n",
       "2    34176         4356   1.0  train          6       0  451  256  45  109   \n",
       "3    34176         2217   0.0  train          6       0  451  256  45  109   \n",
       "4   230784         4818   0.0  train          0       0   54   31  17   20   \n",
       "\n",
       "    u5        u6     u7  u8    u9  u10  \n",
       "0  108  5.833333  410.0 NaN  34.0  7.0  \n",
       "1  108  5.833333  410.0 NaN  34.0  7.0  \n",
       "2  108  5.833333  410.0 NaN  34.0  7.0  \n",
       "3  108  5.833333  410.0 NaN  34.0  7.0  \n",
       "4   19  5.166667   47.0 NaN   7.0  NaN  "
      ]
     },
     "execution_count": 22,
     "metadata": {},
     "output_type": "execute_result"
    }
   ],
   "source": [
    "all_data.head()"
   ]
  },
  {
   "cell_type": "markdown",
   "id": "4ed45f57",
   "metadata": {},
   "source": [
    "## 店铺特征工程(5min)"
   ]
  },
  {
   "cell_type": "code",
   "execution_count": 23,
   "id": "b27ac528",
   "metadata": {
    "ExecuteTime": {
     "end_time": "2022-05-15T09:06:44.374477Z",
     "start_time": "2022-05-15T09:06:04.653501Z"
    }
   },
   "outputs": [
    {
     "name": "stdout",
     "output_type": "stream",
     "text": [
      "CPU times: user 37.6 s, sys: 1.99 s, total: 39.6 s\n",
      "Wall time: 39.7 s\n"
     ]
    },
    {
     "data": {
      "text/plain": [
       "0"
      ]
     },
     "execution_count": 23,
     "metadata": {},
     "output_type": "execute_result"
    }
   ],
   "source": [
    "%%time\n",
    "##### 商家特征处理\n",
    "groups = user_log.groupby(['merchant_id'])\n",
    "\n",
    "# 商家被交互行为数量 m1\n",
    "temp = groups.size().reset_index().rename(columns={0:'m1'})\n",
    "all_data = all_data.merge(temp, on='merchant_id', how='left')\n",
    "\n",
    "# 统计商家被交互的 user_id, item_id, cat_id, brand_id 唯一值\n",
    "temp = groups['user_id', 'item_id', 'cat_id', 'brand_id'].nunique().reset_index().rename(\n",
    "    columns={\n",
    "    'user_id':'m2',\n",
    "    'item_id':'m3', \n",
    "    'cat_id':'m4', \n",
    "    'brand_id':'m5'})\n",
    "all_data = all_data.merge(temp, on='merchant_id', how='left')\n",
    "\n",
    "# 统计商家被交互的 action_type 唯一值\n",
    "temp = groups['action_type'].value_counts().unstack().reset_index().rename(  \n",
    "    columns={0:'m6', 1:'m7', 2:'m8', 3:'m9'})\n",
    "all_data = all_data.merge(temp, on='merchant_id', how='left')\n",
    "\n",
    "del temp\n",
    "gc.collect()"
   ]
  },
  {
   "cell_type": "code",
   "execution_count": 24,
   "id": "ce2ca558",
   "metadata": {
    "ExecuteTime": {
     "end_time": "2022-05-15T09:09:02.453112Z",
     "start_time": "2022-05-15T09:09:02.424226Z"
    }
   },
   "outputs": [
    {
     "data": {
      "text/html": [
       "<div>\n",
       "<style scoped>\n",
       "    .dataframe tbody tr th:only-of-type {\n",
       "        vertical-align: middle;\n",
       "    }\n",
       "\n",
       "    .dataframe tbody tr th {\n",
       "        vertical-align: top;\n",
       "    }\n",
       "\n",
       "    .dataframe thead th {\n",
       "        text-align: right;\n",
       "    }\n",
       "</style>\n",
       "<table border=\"1\" class=\"dataframe\">\n",
       "  <thead>\n",
       "    <tr style=\"text-align: right;\">\n",
       "      <th></th>\n",
       "      <th>user_id</th>\n",
       "      <th>merchant_id</th>\n",
       "      <th>label</th>\n",
       "      <th>origin</th>\n",
       "      <th>age_range</th>\n",
       "      <th>gender</th>\n",
       "      <th>u1</th>\n",
       "      <th>u2</th>\n",
       "      <th>u3</th>\n",
       "      <th>u4</th>\n",
       "      <th>...</th>\n",
       "      <th>u10</th>\n",
       "      <th>m1</th>\n",
       "      <th>m2</th>\n",
       "      <th>m3</th>\n",
       "      <th>m4</th>\n",
       "      <th>m5</th>\n",
       "      <th>m6</th>\n",
       "      <th>m7</th>\n",
       "      <th>m8</th>\n",
       "      <th>m9</th>\n",
       "    </tr>\n",
       "  </thead>\n",
       "  <tbody>\n",
       "    <tr>\n",
       "      <th>522336</th>\n",
       "      <td>228479</td>\n",
       "      <td>3111</td>\n",
       "      <td>nan</td>\n",
       "      <td>test</td>\n",
       "      <td>6</td>\n",
       "      <td>0</td>\n",
       "      <td>2004</td>\n",
       "      <td>1173</td>\n",
       "      <td>71</td>\n",
       "      <td>278</td>\n",
       "      <td>...</td>\n",
       "      <td>208.0</td>\n",
       "      <td>10105</td>\n",
       "      <td>4154</td>\n",
       "      <td>542</td>\n",
       "      <td>50</td>\n",
       "      <td>18</td>\n",
       "      <td>8997.0</td>\n",
       "      <td>9.0</td>\n",
       "      <td>687.0</td>\n",
       "      <td>412.0</td>\n",
       "    </tr>\n",
       "    <tr>\n",
       "      <th>522337</th>\n",
       "      <td>97919</td>\n",
       "      <td>2341</td>\n",
       "      <td>nan</td>\n",
       "      <td>test</td>\n",
       "      <td>8</td>\n",
       "      <td>1</td>\n",
       "      <td>55</td>\n",
       "      <td>29</td>\n",
       "      <td>14</td>\n",
       "      <td>17</td>\n",
       "      <td>...</td>\n",
       "      <td>1.0</td>\n",
       "      <td>5543</td>\n",
       "      <td>1592</td>\n",
       "      <td>352</td>\n",
       "      <td>93</td>\n",
       "      <td>19</td>\n",
       "      <td>4548.0</td>\n",
       "      <td>6.0</td>\n",
       "      <td>815.0</td>\n",
       "      <td>174.0</td>\n",
       "    </tr>\n",
       "    <tr>\n",
       "      <th>522338</th>\n",
       "      <td>97919</td>\n",
       "      <td>3971</td>\n",
       "      <td>nan</td>\n",
       "      <td>test</td>\n",
       "      <td>8</td>\n",
       "      <td>1</td>\n",
       "      <td>55</td>\n",
       "      <td>29</td>\n",
       "      <td>14</td>\n",
       "      <td>17</td>\n",
       "      <td>...</td>\n",
       "      <td>1.0</td>\n",
       "      <td>28892</td>\n",
       "      <td>7587</td>\n",
       "      <td>272</td>\n",
       "      <td>7</td>\n",
       "      <td>2</td>\n",
       "      <td>24602.0</td>\n",
       "      <td>94.0</td>\n",
       "      <td>2608.0</td>\n",
       "      <td>1588.0</td>\n",
       "    </tr>\n",
       "    <tr>\n",
       "      <th>522339</th>\n",
       "      <td>32639</td>\n",
       "      <td>3536</td>\n",
       "      <td>nan</td>\n",
       "      <td>test</td>\n",
       "      <td>0</td>\n",
       "      <td>0</td>\n",
       "      <td>72</td>\n",
       "      <td>46</td>\n",
       "      <td>24</td>\n",
       "      <td>33</td>\n",
       "      <td>...</td>\n",
       "      <td>1.0</td>\n",
       "      <td>14027</td>\n",
       "      <td>4956</td>\n",
       "      <td>322</td>\n",
       "      <td>19</td>\n",
       "      <td>3</td>\n",
       "      <td>12807.0</td>\n",
       "      <td>29.0</td>\n",
       "      <td>793.0</td>\n",
       "      <td>398.0</td>\n",
       "    </tr>\n",
       "    <tr>\n",
       "      <th>522340</th>\n",
       "      <td>32639</td>\n",
       "      <td>3319</td>\n",
       "      <td>nan</td>\n",
       "      <td>test</td>\n",
       "      <td>0</td>\n",
       "      <td>0</td>\n",
       "      <td>72</td>\n",
       "      <td>46</td>\n",
       "      <td>24</td>\n",
       "      <td>33</td>\n",
       "      <td>...</td>\n",
       "      <td>1.0</td>\n",
       "      <td>25959</td>\n",
       "      <td>7927</td>\n",
       "      <td>952</td>\n",
       "      <td>175</td>\n",
       "      <td>85</td>\n",
       "      <td>21737.0</td>\n",
       "      <td>34.0</td>\n",
       "      <td>2700.0</td>\n",
       "      <td>1488.0</td>\n",
       "    </tr>\n",
       "  </tbody>\n",
       "</table>\n",
       "<p>5 rows × 25 columns</p>\n",
       "</div>"
      ],
      "text/plain": [
       "        user_id  merchant_id label origin  age_range  gender    u1    u2  u3  \\\n",
       "522336   228479         3111   nan   test          6       0  2004  1173  71   \n",
       "522337    97919         2341   nan   test          8       1    55    29  14   \n",
       "522338    97919         3971   nan   test          8       1    55    29  14   \n",
       "522339    32639         3536   nan   test          0       0    72    46  24   \n",
       "522340    32639         3319   nan   test          0       0    72    46  24   \n",
       "\n",
       "         u4  ...    u10     m1    m2   m3   m4  m5       m6    m7      m8  \\\n",
       "522336  278  ...  208.0  10105  4154  542   50  18   8997.0   9.0   687.0   \n",
       "522337   17  ...    1.0   5543  1592  352   93  19   4548.0   6.0   815.0   \n",
       "522338   17  ...    1.0  28892  7587  272    7   2  24602.0  94.0  2608.0   \n",
       "522339   33  ...    1.0  14027  4956  322   19   3  12807.0  29.0   793.0   \n",
       "522340   33  ...    1.0  25959  7927  952  175  85  21737.0  34.0  2700.0   \n",
       "\n",
       "            m9  \n",
       "522336   412.0  \n",
       "522337   174.0  \n",
       "522338  1588.0  \n",
       "522339   398.0  \n",
       "522340  1488.0  \n",
       "\n",
       "[5 rows x 25 columns]"
      ]
     },
     "metadata": {},
     "output_type": "display_data"
    }
   ],
   "source": [
    "display(all_data.tail())"
   ]
  },
  {
   "cell_type": "markdown",
   "id": "8936d1d7",
   "metadata": {},
   "source": [
    "## 用户和店铺联合特征工程(4min)"
   ]
  },
  {
   "cell_type": "code",
   "execution_count": 25,
   "id": "9d7e4482",
   "metadata": {
    "ExecuteTime": {
     "end_time": "2022-05-15T09:11:09.990378Z",
     "start_time": "2022-05-15T09:10:07.468063Z"
    }
   },
   "outputs": [
    {
     "name": "stdout",
     "output_type": "stream",
     "text": [
      "CPU times: user 57.6 s, sys: 4.9 s, total: 1min 2s\n",
      "Wall time: 1min 2s\n"
     ]
    },
    {
     "data": {
      "text/plain": [
       "19"
      ]
     },
     "execution_count": 25,
     "metadata": {},
     "output_type": "execute_result"
    }
   ],
   "source": [
    "%%time\n",
    "##### 用户+商户特征\n",
    "groups = user_log.groupby(['user_id', 'merchant_id'])\n",
    "\n",
    "# 用户在不同商家交互统计\n",
    "temp = groups.size().reset_index().rename(columns={0:'um1'})\n",
    "all_data = all_data.merge(temp, on=['user_id', 'merchant_id'], how='left')\n",
    "\n",
    "# 统计用户在不同商家交互的 item_id, cat_id, brand_id 唯一值\n",
    "temp = groups['item_id', 'cat_id', 'brand_id'].nunique().reset_index().rename(\n",
    "    columns={\n",
    "    'item_id':'um2',\n",
    "    'cat_id':'um3',\n",
    "    'brand_id':'um4'})\n",
    "all_data = all_data.merge(temp, on=['user_id', 'merchant_id'], how='left')\n",
    "\n",
    "# 统计用户在不同商家交互的 action_type 唯一值\n",
    "temp = groups['action_type'].value_counts().unstack().reset_index().rename(\n",
    "    columns={\n",
    "    0:'um5',\n",
    "    1:'um6',\n",
    "    2:'um7',\n",
    "    3:'um8'})\n",
    "all_data = all_data.merge(temp, on=['user_id', 'merchant_id'], how='left')\n",
    "\n",
    "# 统计用户在不同商家购物时间间隔特征 um9 按照小时\n",
    "temp = groups['time_stamp'].agg([('F_time', 'min'), ('B_time', 'max')]).reset_index()\n",
    "temp['um9'] = (temp['B_time'] - temp['F_time']).dt.seconds/3600\n",
    "all_data = all_data.merge(temp[['user_id','merchant_id','um9']], on=['user_id', 'merchant_id'], how='left')\n",
    "\n",
    "del temp,groups\n",
    "gc.collect()"
   ]
  },
  {
   "cell_type": "code",
   "execution_count": 26,
   "id": "c05da7d1",
   "metadata": {
    "ExecuteTime": {
     "end_time": "2022-05-15T09:14:05.889467Z",
     "start_time": "2022-05-15T09:14:05.855442Z"
    }
   },
   "outputs": [
    {
     "data": {
      "text/html": [
       "<div>\n",
       "<style scoped>\n",
       "    .dataframe tbody tr th:only-of-type {\n",
       "        vertical-align: middle;\n",
       "    }\n",
       "\n",
       "    .dataframe tbody tr th {\n",
       "        vertical-align: top;\n",
       "    }\n",
       "\n",
       "    .dataframe thead th {\n",
       "        text-align: right;\n",
       "    }\n",
       "</style>\n",
       "<table border=\"1\" class=\"dataframe\">\n",
       "  <thead>\n",
       "    <tr style=\"text-align: right;\">\n",
       "      <th></th>\n",
       "      <th>user_id</th>\n",
       "      <th>merchant_id</th>\n",
       "      <th>label</th>\n",
       "      <th>origin</th>\n",
       "      <th>age_range</th>\n",
       "      <th>gender</th>\n",
       "      <th>u1</th>\n",
       "      <th>u2</th>\n",
       "      <th>u3</th>\n",
       "      <th>u4</th>\n",
       "      <th>...</th>\n",
       "      <th>m9</th>\n",
       "      <th>um1</th>\n",
       "      <th>um2</th>\n",
       "      <th>um3</th>\n",
       "      <th>um4</th>\n",
       "      <th>um5</th>\n",
       "      <th>um6</th>\n",
       "      <th>um7</th>\n",
       "      <th>um8</th>\n",
       "      <th>um9</th>\n",
       "    </tr>\n",
       "  </thead>\n",
       "  <tbody>\n",
       "    <tr>\n",
       "      <th>0</th>\n",
       "      <td>34176</td>\n",
       "      <td>3906</td>\n",
       "      <td>0.0</td>\n",
       "      <td>train</td>\n",
       "      <td>6</td>\n",
       "      <td>0</td>\n",
       "      <td>451</td>\n",
       "      <td>256</td>\n",
       "      <td>45</td>\n",
       "      <td>109</td>\n",
       "      <td>...</td>\n",
       "      <td>961.0</td>\n",
       "      <td>39</td>\n",
       "      <td>20</td>\n",
       "      <td>6</td>\n",
       "      <td>1</td>\n",
       "      <td>36.0</td>\n",
       "      <td>NaN</td>\n",
       "      <td>1.0</td>\n",
       "      <td>2.0</td>\n",
       "      <td>0.850000</td>\n",
       "    </tr>\n",
       "    <tr>\n",
       "      <th>1</th>\n",
       "      <td>34176</td>\n",
       "      <td>121</td>\n",
       "      <td>0.0</td>\n",
       "      <td>train</td>\n",
       "      <td>6</td>\n",
       "      <td>0</td>\n",
       "      <td>451</td>\n",
       "      <td>256</td>\n",
       "      <td>45</td>\n",
       "      <td>109</td>\n",
       "      <td>...</td>\n",
       "      <td>2699.0</td>\n",
       "      <td>14</td>\n",
       "      <td>1</td>\n",
       "      <td>1</td>\n",
       "      <td>1</td>\n",
       "      <td>13.0</td>\n",
       "      <td>NaN</td>\n",
       "      <td>1.0</td>\n",
       "      <td>NaN</td>\n",
       "      <td>0.050000</td>\n",
       "    </tr>\n",
       "    <tr>\n",
       "      <th>2</th>\n",
       "      <td>34176</td>\n",
       "      <td>4356</td>\n",
       "      <td>1.0</td>\n",
       "      <td>train</td>\n",
       "      <td>6</td>\n",
       "      <td>0</td>\n",
       "      <td>451</td>\n",
       "      <td>256</td>\n",
       "      <td>45</td>\n",
       "      <td>109</td>\n",
       "      <td>...</td>\n",
       "      <td>196.0</td>\n",
       "      <td>18</td>\n",
       "      <td>2</td>\n",
       "      <td>1</td>\n",
       "      <td>1</td>\n",
       "      <td>12.0</td>\n",
       "      <td>NaN</td>\n",
       "      <td>6.0</td>\n",
       "      <td>NaN</td>\n",
       "      <td>0.016667</td>\n",
       "    </tr>\n",
       "    <tr>\n",
       "      <th>3</th>\n",
       "      <td>34176</td>\n",
       "      <td>2217</td>\n",
       "      <td>0.0</td>\n",
       "      <td>train</td>\n",
       "      <td>6</td>\n",
       "      <td>0</td>\n",
       "      <td>451</td>\n",
       "      <td>256</td>\n",
       "      <td>45</td>\n",
       "      <td>109</td>\n",
       "      <td>...</td>\n",
       "      <td>4150.0</td>\n",
       "      <td>2</td>\n",
       "      <td>1</td>\n",
       "      <td>1</td>\n",
       "      <td>1</td>\n",
       "      <td>1.0</td>\n",
       "      <td>NaN</td>\n",
       "      <td>1.0</td>\n",
       "      <td>NaN</td>\n",
       "      <td>0.000000</td>\n",
       "    </tr>\n",
       "    <tr>\n",
       "      <th>4</th>\n",
       "      <td>230784</td>\n",
       "      <td>4818</td>\n",
       "      <td>0.0</td>\n",
       "      <td>train</td>\n",
       "      <td>0</td>\n",
       "      <td>0</td>\n",
       "      <td>54</td>\n",
       "      <td>31</td>\n",
       "      <td>17</td>\n",
       "      <td>20</td>\n",
       "      <td>...</td>\n",
       "      <td>1959.0</td>\n",
       "      <td>8</td>\n",
       "      <td>1</td>\n",
       "      <td>1</td>\n",
       "      <td>1</td>\n",
       "      <td>7.0</td>\n",
       "      <td>NaN</td>\n",
       "      <td>1.0</td>\n",
       "      <td>NaN</td>\n",
       "      <td>0.050000</td>\n",
       "    </tr>\n",
       "  </tbody>\n",
       "</table>\n",
       "<p>5 rows × 34 columns</p>\n",
       "</div>"
      ],
      "text/plain": [
       "   user_id  merchant_id label origin  age_range  gender   u1   u2  u3   u4  \\\n",
       "0    34176         3906   0.0  train          6       0  451  256  45  109   \n",
       "1    34176          121   0.0  train          6       0  451  256  45  109   \n",
       "2    34176         4356   1.0  train          6       0  451  256  45  109   \n",
       "3    34176         2217   0.0  train          6       0  451  256  45  109   \n",
       "4   230784         4818   0.0  train          0       0   54   31  17   20   \n",
       "\n",
       "   ...      m9  um1  um2  um3  um4   um5  um6  um7  um8       um9  \n",
       "0  ...   961.0   39   20    6    1  36.0  NaN  1.0  2.0  0.850000  \n",
       "1  ...  2699.0   14    1    1    1  13.0  NaN  1.0  NaN  0.050000  \n",
       "2  ...   196.0   18    2    1    1  12.0  NaN  6.0  NaN  0.016667  \n",
       "3  ...  4150.0    2    1    1    1   1.0  NaN  1.0  NaN  0.000000  \n",
       "4  ...  1959.0    8    1    1    1   7.0  NaN  1.0  NaN  0.050000  \n",
       "\n",
       "[5 rows x 34 columns]"
      ]
     },
     "metadata": {},
     "output_type": "display_data"
    }
   ],
   "source": [
    "display(all_data.head())"
   ]
  },
  {
   "cell_type": "markdown",
   "id": "17d68886",
   "metadata": {},
   "source": [
    "## 购买点击比"
   ]
  },
  {
   "cell_type": "code",
   "execution_count": 27,
   "id": "e17843a5",
   "metadata": {
    "ExecuteTime": {
     "end_time": "2022-05-15T09:15:02.767691Z",
     "start_time": "2022-05-15T09:15:02.723881Z"
    }
   },
   "outputs": [
    {
     "data": {
      "text/html": [
       "<div>\n",
       "<style scoped>\n",
       "    .dataframe tbody tr th:only-of-type {\n",
       "        vertical-align: middle;\n",
       "    }\n",
       "\n",
       "    .dataframe tbody tr th {\n",
       "        vertical-align: top;\n",
       "    }\n",
       "\n",
       "    .dataframe thead th {\n",
       "        text-align: right;\n",
       "    }\n",
       "</style>\n",
       "<table border=\"1\" class=\"dataframe\">\n",
       "  <thead>\n",
       "    <tr style=\"text-align: right;\">\n",
       "      <th></th>\n",
       "      <th>user_id</th>\n",
       "      <th>merchant_id</th>\n",
       "      <th>label</th>\n",
       "      <th>origin</th>\n",
       "      <th>age_range</th>\n",
       "      <th>gender</th>\n",
       "      <th>u1</th>\n",
       "      <th>u2</th>\n",
       "      <th>u3</th>\n",
       "      <th>u4</th>\n",
       "      <th>...</th>\n",
       "      <th>um3</th>\n",
       "      <th>um4</th>\n",
       "      <th>um5</th>\n",
       "      <th>um6</th>\n",
       "      <th>um7</th>\n",
       "      <th>um8</th>\n",
       "      <th>um9</th>\n",
       "      <th>r1</th>\n",
       "      <th>r2</th>\n",
       "      <th>r3</th>\n",
       "    </tr>\n",
       "  </thead>\n",
       "  <tbody>\n",
       "    <tr>\n",
       "      <th>0</th>\n",
       "      <td>34176</td>\n",
       "      <td>3906</td>\n",
       "      <td>0.0</td>\n",
       "      <td>train</td>\n",
       "      <td>6</td>\n",
       "      <td>0</td>\n",
       "      <td>451</td>\n",
       "      <td>256</td>\n",
       "      <td>45</td>\n",
       "      <td>109</td>\n",
       "      <td>...</td>\n",
       "      <td>6</td>\n",
       "      <td>1</td>\n",
       "      <td>36.0</td>\n",
       "      <td>NaN</td>\n",
       "      <td>1.0</td>\n",
       "      <td>2.0</td>\n",
       "      <td>0.850000</td>\n",
       "      <td>0.082927</td>\n",
       "      <td>0.027572</td>\n",
       "      <td>0.027778</td>\n",
       "    </tr>\n",
       "    <tr>\n",
       "      <th>1</th>\n",
       "      <td>34176</td>\n",
       "      <td>121</td>\n",
       "      <td>0.0</td>\n",
       "      <td>train</td>\n",
       "      <td>6</td>\n",
       "      <td>0</td>\n",
       "      <td>451</td>\n",
       "      <td>256</td>\n",
       "      <td>45</td>\n",
       "      <td>109</td>\n",
       "      <td>...</td>\n",
       "      <td>1</td>\n",
       "      <td>1</td>\n",
       "      <td>13.0</td>\n",
       "      <td>NaN</td>\n",
       "      <td>1.0</td>\n",
       "      <td>NaN</td>\n",
       "      <td>0.050000</td>\n",
       "      <td>0.082927</td>\n",
       "      <td>0.066145</td>\n",
       "      <td>0.076923</td>\n",
       "    </tr>\n",
       "    <tr>\n",
       "      <th>2</th>\n",
       "      <td>34176</td>\n",
       "      <td>4356</td>\n",
       "      <td>1.0</td>\n",
       "      <td>train</td>\n",
       "      <td>6</td>\n",
       "      <td>0</td>\n",
       "      <td>451</td>\n",
       "      <td>256</td>\n",
       "      <td>45</td>\n",
       "      <td>109</td>\n",
       "      <td>...</td>\n",
       "      <td>1</td>\n",
       "      <td>1</td>\n",
       "      <td>12.0</td>\n",
       "      <td>NaN</td>\n",
       "      <td>6.0</td>\n",
       "      <td>NaN</td>\n",
       "      <td>0.016667</td>\n",
       "      <td>0.082927</td>\n",
       "      <td>0.158024</td>\n",
       "      <td>0.500000</td>\n",
       "    </tr>\n",
       "    <tr>\n",
       "      <th>3</th>\n",
       "      <td>34176</td>\n",
       "      <td>2217</td>\n",
       "      <td>0.0</td>\n",
       "      <td>train</td>\n",
       "      <td>6</td>\n",
       "      <td>0</td>\n",
       "      <td>451</td>\n",
       "      <td>256</td>\n",
       "      <td>45</td>\n",
       "      <td>109</td>\n",
       "      <td>...</td>\n",
       "      <td>1</td>\n",
       "      <td>1</td>\n",
       "      <td>1.0</td>\n",
       "      <td>NaN</td>\n",
       "      <td>1.0</td>\n",
       "      <td>NaN</td>\n",
       "      <td>0.000000</td>\n",
       "      <td>0.082927</td>\n",
       "      <td>0.071243</td>\n",
       "      <td>1.000000</td>\n",
       "    </tr>\n",
       "    <tr>\n",
       "      <th>4</th>\n",
       "      <td>230784</td>\n",
       "      <td>4818</td>\n",
       "      <td>0.0</td>\n",
       "      <td>train</td>\n",
       "      <td>0</td>\n",
       "      <td>0</td>\n",
       "      <td>54</td>\n",
       "      <td>31</td>\n",
       "      <td>17</td>\n",
       "      <td>20</td>\n",
       "      <td>...</td>\n",
       "      <td>1</td>\n",
       "      <td>1</td>\n",
       "      <td>7.0</td>\n",
       "      <td>NaN</td>\n",
       "      <td>1.0</td>\n",
       "      <td>NaN</td>\n",
       "      <td>0.050000</td>\n",
       "      <td>0.148936</td>\n",
       "      <td>0.063164</td>\n",
       "      <td>0.142857</td>\n",
       "    </tr>\n",
       "  </tbody>\n",
       "</table>\n",
       "<p>5 rows × 37 columns</p>\n",
       "</div>"
      ],
      "text/plain": [
       "   user_id  merchant_id label origin  age_range  gender   u1   u2  u3   u4  \\\n",
       "0    34176         3906   0.0  train          6       0  451  256  45  109   \n",
       "1    34176          121   0.0  train          6       0  451  256  45  109   \n",
       "2    34176         4356   1.0  train          6       0  451  256  45  109   \n",
       "3    34176         2217   0.0  train          6       0  451  256  45  109   \n",
       "4   230784         4818   0.0  train          0       0   54   31  17   20   \n",
       "\n",
       "   ...  um3  um4   um5  um6  um7  um8       um9        r1        r2        r3  \n",
       "0  ...    6    1  36.0  NaN  1.0  2.0  0.850000  0.082927  0.027572  0.027778  \n",
       "1  ...    1    1  13.0  NaN  1.0  NaN  0.050000  0.082927  0.066145  0.076923  \n",
       "2  ...    1    1  12.0  NaN  6.0  NaN  0.016667  0.082927  0.158024  0.500000  \n",
       "3  ...    1    1   1.0  NaN  1.0  NaN  0.000000  0.082927  0.071243  1.000000  \n",
       "4  ...    1    1   7.0  NaN  1.0  NaN  0.050000  0.148936  0.063164  0.142857  \n",
       "\n",
       "[5 rows x 37 columns]"
      ]
     },
     "metadata": {},
     "output_type": "display_data"
    }
   ],
   "source": [
    "all_data['r1'] = all_data['u9']/all_data['u7'] # 用户购买点击比\n",
    "all_data['r2'] = all_data['m8']/all_data['m6'] # 商家购买点击比\n",
    "all_data['r3'] = all_data['um7']/all_data['um5'] #不同用户不同商家购买点击比\n",
    "display(all_data.head())"
   ]
  },
  {
   "cell_type": "markdown",
   "id": "1e8d942e",
   "metadata": {},
   "source": [
    "## 空数据填充"
   ]
  },
  {
   "cell_type": "code",
   "execution_count": 28,
   "id": "dcb7a598",
   "metadata": {
    "ExecuteTime": {
     "end_time": "2022-05-15T09:16:13.319713Z",
     "start_time": "2022-05-15T09:16:13.223259Z"
    }
   },
   "outputs": [
    {
     "data": {
      "text/plain": [
       "user_id             0\n",
       "merchant_id         0\n",
       "label               0\n",
       "origin              0\n",
       "age_range           0\n",
       "gender              0\n",
       "u1                  0\n",
       "u2                  0\n",
       "u3                  0\n",
       "u4                  0\n",
       "u5                  0\n",
       "u6                  0\n",
       "u7                360\n",
       "u8             484162\n",
       "u9                  0\n",
       "u10            227482\n",
       "m1                  0\n",
       "m2                  0\n",
       "m3                  0\n",
       "m4                  0\n",
       "m5                  0\n",
       "m6                  0\n",
       "m7               4052\n",
       "m8                  0\n",
       "m9                  0\n",
       "um1                 0\n",
       "um2                 0\n",
       "um3                 0\n",
       "um4                 0\n",
       "um5             59408\n",
       "um6            512947\n",
       "um7                 0\n",
       "um8            425790\n",
       "um9                 0\n",
       "r1                360\n",
       "r2                  0\n",
       "r3              59408\n",
       "dtype: int64"
      ]
     },
     "metadata": {},
     "output_type": "display_data"
    }
   ],
   "source": [
    "display(all_data.isnull().sum())"
   ]
  },
  {
   "cell_type": "code",
   "execution_count": 29,
   "id": "46b81f0f",
   "metadata": {
    "ExecuteTime": {
     "end_time": "2022-05-15T09:16:31.412835Z",
     "start_time": "2022-05-15T09:16:31.277585Z"
    }
   },
   "outputs": [],
   "source": [
    "all_data.fillna(0, inplace=True)"
   ]
  },
  {
   "cell_type": "code",
   "execution_count": 30,
   "id": "f54f3c12",
   "metadata": {
    "ExecuteTime": {
     "end_time": "2022-05-15T09:16:57.533477Z",
     "start_time": "2022-05-15T09:16:57.437838Z"
    }
   },
   "outputs": [
    {
     "data": {
      "text/plain": [
       "user_id        0\n",
       "merchant_id    0\n",
       "label          0\n",
       "origin         0\n",
       "age_range      0\n",
       "gender         0\n",
       "u1             0\n",
       "u2             0\n",
       "u3             0\n",
       "u4             0\n",
       "u5             0\n",
       "u6             0\n",
       "u7             0\n",
       "u8             0\n",
       "u9             0\n",
       "u10            0\n",
       "m1             0\n",
       "m2             0\n",
       "m3             0\n",
       "m4             0\n",
       "m5             0\n",
       "m6             0\n",
       "m7             0\n",
       "m8             0\n",
       "m9             0\n",
       "um1            0\n",
       "um2            0\n",
       "um3            0\n",
       "um4            0\n",
       "um5            0\n",
       "um6            0\n",
       "um7            0\n",
       "um8            0\n",
       "um9            0\n",
       "r1             0\n",
       "r2             0\n",
       "r3             0\n",
       "dtype: int64"
      ]
     },
     "execution_count": 30,
     "metadata": {},
     "output_type": "execute_result"
    }
   ],
   "source": [
    "all_data.isnull().sum()"
   ]
  },
  {
   "cell_type": "markdown",
   "id": "c55f1b84",
   "metadata": {},
   "source": [
    "## 年龄性别类别型转换"
   ]
  },
  {
   "cell_type": "code",
   "execution_count": 31,
   "id": "fae34ba9",
   "metadata": {
    "ExecuteTime": {
     "end_time": "2022-05-15T09:17:25.248106Z",
     "start_time": "2022-05-15T09:17:25.231909Z"
    }
   },
   "outputs": [
    {
     "data": {
      "text/plain": [
       "0         6\n",
       "1         6\n",
       "2         6\n",
       "3         6\n",
       "4         0\n",
       "         ..\n",
       "522336    6\n",
       "522337    8\n",
       "522338    8\n",
       "522339    0\n",
       "522340    0\n",
       "Name: age_range, Length: 522341, dtype: int8"
      ]
     },
     "execution_count": 31,
     "metadata": {},
     "output_type": "execute_result"
    }
   ],
   "source": [
    "all_data['age_range']"
   ]
  },
  {
   "cell_type": "code",
   "execution_count": 32,
   "id": "e30a45aa",
   "metadata": {
    "ExecuteTime": {
     "end_time": "2022-05-15T09:17:42.115150Z",
     "start_time": "2022-05-15T09:17:42.037314Z"
    }
   },
   "outputs": [
    {
     "data": {
      "text/html": [
       "<div>\n",
       "<style scoped>\n",
       "    .dataframe tbody tr th:only-of-type {\n",
       "        vertical-align: middle;\n",
       "    }\n",
       "\n",
       "    .dataframe tbody tr th {\n",
       "        vertical-align: top;\n",
       "    }\n",
       "\n",
       "    .dataframe thead th {\n",
       "        text-align: right;\n",
       "    }\n",
       "</style>\n",
       "<table border=\"1\" class=\"dataframe\">\n",
       "  <thead>\n",
       "    <tr style=\"text-align: right;\">\n",
       "      <th></th>\n",
       "      <th>age_0</th>\n",
       "      <th>age_1</th>\n",
       "      <th>age_2</th>\n",
       "      <th>age_3</th>\n",
       "      <th>age_4</th>\n",
       "      <th>age_5</th>\n",
       "      <th>age_6</th>\n",
       "      <th>age_7</th>\n",
       "      <th>age_8</th>\n",
       "    </tr>\n",
       "  </thead>\n",
       "  <tbody>\n",
       "    <tr>\n",
       "      <th>0</th>\n",
       "      <td>0</td>\n",
       "      <td>0</td>\n",
       "      <td>0</td>\n",
       "      <td>0</td>\n",
       "      <td>0</td>\n",
       "      <td>0</td>\n",
       "      <td>1</td>\n",
       "      <td>0</td>\n",
       "      <td>0</td>\n",
       "    </tr>\n",
       "    <tr>\n",
       "      <th>1</th>\n",
       "      <td>0</td>\n",
       "      <td>0</td>\n",
       "      <td>0</td>\n",
       "      <td>0</td>\n",
       "      <td>0</td>\n",
       "      <td>0</td>\n",
       "      <td>1</td>\n",
       "      <td>0</td>\n",
       "      <td>0</td>\n",
       "    </tr>\n",
       "    <tr>\n",
       "      <th>2</th>\n",
       "      <td>0</td>\n",
       "      <td>0</td>\n",
       "      <td>0</td>\n",
       "      <td>0</td>\n",
       "      <td>0</td>\n",
       "      <td>0</td>\n",
       "      <td>1</td>\n",
       "      <td>0</td>\n",
       "      <td>0</td>\n",
       "    </tr>\n",
       "    <tr>\n",
       "      <th>3</th>\n",
       "      <td>0</td>\n",
       "      <td>0</td>\n",
       "      <td>0</td>\n",
       "      <td>0</td>\n",
       "      <td>0</td>\n",
       "      <td>0</td>\n",
       "      <td>1</td>\n",
       "      <td>0</td>\n",
       "      <td>0</td>\n",
       "    </tr>\n",
       "    <tr>\n",
       "      <th>4</th>\n",
       "      <td>1</td>\n",
       "      <td>0</td>\n",
       "      <td>0</td>\n",
       "      <td>0</td>\n",
       "      <td>0</td>\n",
       "      <td>0</td>\n",
       "      <td>0</td>\n",
       "      <td>0</td>\n",
       "      <td>0</td>\n",
       "    </tr>\n",
       "    <tr>\n",
       "      <th>5</th>\n",
       "      <td>0</td>\n",
       "      <td>0</td>\n",
       "      <td>0</td>\n",
       "      <td>0</td>\n",
       "      <td>1</td>\n",
       "      <td>0</td>\n",
       "      <td>0</td>\n",
       "      <td>0</td>\n",
       "      <td>0</td>\n",
       "    </tr>\n",
       "    <tr>\n",
       "      <th>6</th>\n",
       "      <td>0</td>\n",
       "      <td>0</td>\n",
       "      <td>0</td>\n",
       "      <td>0</td>\n",
       "      <td>0</td>\n",
       "      <td>1</td>\n",
       "      <td>0</td>\n",
       "      <td>0</td>\n",
       "      <td>0</td>\n",
       "    </tr>\n",
       "    <tr>\n",
       "      <th>7</th>\n",
       "      <td>0</td>\n",
       "      <td>0</td>\n",
       "      <td>0</td>\n",
       "      <td>0</td>\n",
       "      <td>0</td>\n",
       "      <td>1</td>\n",
       "      <td>0</td>\n",
       "      <td>0</td>\n",
       "      <td>0</td>\n",
       "    </tr>\n",
       "    <tr>\n",
       "      <th>8</th>\n",
       "      <td>0</td>\n",
       "      <td>0</td>\n",
       "      <td>0</td>\n",
       "      <td>0</td>\n",
       "      <td>0</td>\n",
       "      <td>1</td>\n",
       "      <td>0</td>\n",
       "      <td>0</td>\n",
       "      <td>0</td>\n",
       "    </tr>\n",
       "    <tr>\n",
       "      <th>9</th>\n",
       "      <td>0</td>\n",
       "      <td>0</td>\n",
       "      <td>0</td>\n",
       "      <td>0</td>\n",
       "      <td>1</td>\n",
       "      <td>0</td>\n",
       "      <td>0</td>\n",
       "      <td>0</td>\n",
       "      <td>0</td>\n",
       "    </tr>\n",
       "  </tbody>\n",
       "</table>\n",
       "</div>"
      ],
      "text/plain": [
       "   age_0  age_1  age_2  age_3  age_4  age_5  age_6  age_7  age_8\n",
       "0      0      0      0      0      0      0      1      0      0\n",
       "1      0      0      0      0      0      0      1      0      0\n",
       "2      0      0      0      0      0      0      1      0      0\n",
       "3      0      0      0      0      0      0      1      0      0\n",
       "4      1      0      0      0      0      0      0      0      0\n",
       "5      0      0      0      0      1      0      0      0      0\n",
       "6      0      0      0      0      0      1      0      0      0\n",
       "7      0      0      0      0      0      1      0      0      0\n",
       "8      0      0      0      0      0      1      0      0      0\n",
       "9      0      0      0      0      1      0      0      0      0"
      ]
     },
     "metadata": {},
     "output_type": "display_data"
    },
    {
     "name": "stdout",
     "output_type": "stream",
     "text": [
      "CPU times: user 68.3 ms, sys: 4.9 ms, total: 73.2 ms\n",
      "Wall time: 69.6 ms\n"
     ]
    }
   ],
   "source": [
    "%%time\n",
    "# 修改age_range字段名称为 age_0, age_1, age_2... age_8\n",
    "# 独立编码\n",
    "temp = pd.get_dummies(all_data['age_range'], prefix='age')\n",
    "display(temp.head(10))\n",
    "all_data = pd.concat([all_data, temp], axis=1)"
   ]
  },
  {
   "cell_type": "code",
   "execution_count": 33,
   "id": "39c51e67",
   "metadata": {
    "ExecuteTime": {
     "end_time": "2022-05-15T09:18:13.290037Z",
     "start_time": "2022-05-15T09:18:13.074296Z"
    }
   },
   "outputs": [
    {
     "data": {
      "text/plain": [
       "0"
      ]
     },
     "execution_count": 33,
     "metadata": {},
     "output_type": "execute_result"
    }
   ],
   "source": [
    "# 性别转换\n",
    "temp = pd.get_dummies(all_data['gender'], prefix='g')\n",
    "all_data = pd.concat([all_data, temp], axis=1) # 列进行合并\n",
    "\n",
    "# 删除原数据\n",
    "all_data.drop(['age_range', 'gender'], axis=1, inplace=True)\n",
    "\n",
    "del temp\n",
    "gc.collect()"
   ]
  },
  {
   "cell_type": "code",
   "execution_count": 34,
   "id": "60025373",
   "metadata": {
    "ExecuteTime": {
     "end_time": "2022-05-15T09:18:39.838089Z",
     "start_time": "2022-05-15T09:18:39.808142Z"
    }
   },
   "outputs": [
    {
     "data": {
      "text/html": [
       "<div>\n",
       "<style scoped>\n",
       "    .dataframe tbody tr th:only-of-type {\n",
       "        vertical-align: middle;\n",
       "    }\n",
       "\n",
       "    .dataframe tbody tr th {\n",
       "        vertical-align: top;\n",
       "    }\n",
       "\n",
       "    .dataframe thead th {\n",
       "        text-align: right;\n",
       "    }\n",
       "</style>\n",
       "<table border=\"1\" class=\"dataframe\">\n",
       "  <thead>\n",
       "    <tr style=\"text-align: right;\">\n",
       "      <th></th>\n",
       "      <th>user_id</th>\n",
       "      <th>merchant_id</th>\n",
       "      <th>label</th>\n",
       "      <th>origin</th>\n",
       "      <th>u1</th>\n",
       "      <th>u2</th>\n",
       "      <th>u3</th>\n",
       "      <th>u4</th>\n",
       "      <th>u5</th>\n",
       "      <th>u6</th>\n",
       "      <th>...</th>\n",
       "      <th>age_2</th>\n",
       "      <th>age_3</th>\n",
       "      <th>age_4</th>\n",
       "      <th>age_5</th>\n",
       "      <th>age_6</th>\n",
       "      <th>age_7</th>\n",
       "      <th>age_8</th>\n",
       "      <th>g_0</th>\n",
       "      <th>g_1</th>\n",
       "      <th>g_2</th>\n",
       "    </tr>\n",
       "  </thead>\n",
       "  <tbody>\n",
       "    <tr>\n",
       "      <th>0</th>\n",
       "      <td>34176</td>\n",
       "      <td>3906</td>\n",
       "      <td>0.0</td>\n",
       "      <td>train</td>\n",
       "      <td>451</td>\n",
       "      <td>256</td>\n",
       "      <td>45</td>\n",
       "      <td>109</td>\n",
       "      <td>108</td>\n",
       "      <td>5.833333</td>\n",
       "      <td>...</td>\n",
       "      <td>0</td>\n",
       "      <td>0</td>\n",
       "      <td>0</td>\n",
       "      <td>0</td>\n",
       "      <td>1</td>\n",
       "      <td>0</td>\n",
       "      <td>0</td>\n",
       "      <td>1</td>\n",
       "      <td>0</td>\n",
       "      <td>0</td>\n",
       "    </tr>\n",
       "    <tr>\n",
       "      <th>1</th>\n",
       "      <td>34176</td>\n",
       "      <td>121</td>\n",
       "      <td>0.0</td>\n",
       "      <td>train</td>\n",
       "      <td>451</td>\n",
       "      <td>256</td>\n",
       "      <td>45</td>\n",
       "      <td>109</td>\n",
       "      <td>108</td>\n",
       "      <td>5.833333</td>\n",
       "      <td>...</td>\n",
       "      <td>0</td>\n",
       "      <td>0</td>\n",
       "      <td>0</td>\n",
       "      <td>0</td>\n",
       "      <td>1</td>\n",
       "      <td>0</td>\n",
       "      <td>0</td>\n",
       "      <td>1</td>\n",
       "      <td>0</td>\n",
       "      <td>0</td>\n",
       "    </tr>\n",
       "    <tr>\n",
       "      <th>2</th>\n",
       "      <td>34176</td>\n",
       "      <td>4356</td>\n",
       "      <td>1.0</td>\n",
       "      <td>train</td>\n",
       "      <td>451</td>\n",
       "      <td>256</td>\n",
       "      <td>45</td>\n",
       "      <td>109</td>\n",
       "      <td>108</td>\n",
       "      <td>5.833333</td>\n",
       "      <td>...</td>\n",
       "      <td>0</td>\n",
       "      <td>0</td>\n",
       "      <td>0</td>\n",
       "      <td>0</td>\n",
       "      <td>1</td>\n",
       "      <td>0</td>\n",
       "      <td>0</td>\n",
       "      <td>1</td>\n",
       "      <td>0</td>\n",
       "      <td>0</td>\n",
       "    </tr>\n",
       "    <tr>\n",
       "      <th>3</th>\n",
       "      <td>34176</td>\n",
       "      <td>2217</td>\n",
       "      <td>0.0</td>\n",
       "      <td>train</td>\n",
       "      <td>451</td>\n",
       "      <td>256</td>\n",
       "      <td>45</td>\n",
       "      <td>109</td>\n",
       "      <td>108</td>\n",
       "      <td>5.833333</td>\n",
       "      <td>...</td>\n",
       "      <td>0</td>\n",
       "      <td>0</td>\n",
       "      <td>0</td>\n",
       "      <td>0</td>\n",
       "      <td>1</td>\n",
       "      <td>0</td>\n",
       "      <td>0</td>\n",
       "      <td>1</td>\n",
       "      <td>0</td>\n",
       "      <td>0</td>\n",
       "    </tr>\n",
       "    <tr>\n",
       "      <th>4</th>\n",
       "      <td>230784</td>\n",
       "      <td>4818</td>\n",
       "      <td>0.0</td>\n",
       "      <td>train</td>\n",
       "      <td>54</td>\n",
       "      <td>31</td>\n",
       "      <td>17</td>\n",
       "      <td>20</td>\n",
       "      <td>19</td>\n",
       "      <td>5.166667</td>\n",
       "      <td>...</td>\n",
       "      <td>0</td>\n",
       "      <td>0</td>\n",
       "      <td>0</td>\n",
       "      <td>0</td>\n",
       "      <td>0</td>\n",
       "      <td>0</td>\n",
       "      <td>0</td>\n",
       "      <td>1</td>\n",
       "      <td>0</td>\n",
       "      <td>0</td>\n",
       "    </tr>\n",
       "  </tbody>\n",
       "</table>\n",
       "<p>5 rows × 47 columns</p>\n",
       "</div>"
      ],
      "text/plain": [
       "   user_id  merchant_id label origin   u1   u2  u3   u4   u5        u6  ...  \\\n",
       "0    34176         3906   0.0  train  451  256  45  109  108  5.833333  ...   \n",
       "1    34176          121   0.0  train  451  256  45  109  108  5.833333  ...   \n",
       "2    34176         4356   1.0  train  451  256  45  109  108  5.833333  ...   \n",
       "3    34176         2217   0.0  train  451  256  45  109  108  5.833333  ...   \n",
       "4   230784         4818   0.0  train   54   31  17   20   19  5.166667  ...   \n",
       "\n",
       "   age_2  age_3  age_4  age_5  age_6  age_7  age_8  g_0  g_1  g_2  \n",
       "0      0      0      0      0      1      0      0    1    0    0  \n",
       "1      0      0      0      0      1      0      0    1    0    0  \n",
       "2      0      0      0      0      1      0      0    1    0    0  \n",
       "3      0      0      0      0      1      0      0    1    0    0  \n",
       "4      0      0      0      0      0      0      0    1    0    0  \n",
       "\n",
       "[5 rows x 47 columns]"
      ]
     },
     "execution_count": 34,
     "metadata": {},
     "output_type": "execute_result"
    }
   ],
   "source": [
    "all_data.head()"
   ]
  },
  {
   "cell_type": "markdown",
   "id": "8f7c37e2",
   "metadata": {},
   "source": [
    "# 数据存储"
   ]
  },
  {
   "cell_type": "code",
   "execution_count": 35,
   "id": "c72dd483",
   "metadata": {
    "ExecuteTime": {
     "end_time": "2022-05-15T09:19:14.813878Z",
     "start_time": "2022-05-15T09:19:07.366056Z"
    }
   },
   "outputs": [
    {
     "name": "stdout",
     "output_type": "stream",
     "text": [
      "CPU times: user 7.33 s, sys: 99.6 ms, total: 7.43 s\n",
      "Wall time: 7.44 s\n"
     ]
    }
   ],
   "source": [
    "%%time\n",
    "# train_data、test-data\n",
    "train_data = all_data[all_data['origin'] == 'train'].drop(['origin'], axis=1)\n",
    "test_data = all_data[all_data['origin'] == 'test'].drop(['label', 'origin'], axis=1)\n",
    "\n",
    "train_data.to_csv('train_data.csv')\n",
    "test_data.to_csv('test_data.csv')"
   ]
  },
  {
   "cell_type": "markdown",
   "id": "c5e523db",
   "metadata": {},
   "source": [
    "# 算法建模预测"
   ]
  },
  {
   "cell_type": "code",
   "execution_count": 116,
   "id": "2be131e2",
   "metadata": {
    "ExecuteTime": {
     "end_time": "2022-05-16T04:08:25.339781Z",
     "start_time": "2022-05-16T04:08:25.136322Z"
    }
   },
   "outputs": [],
   "source": [
    "# 训练数据和目标值\n",
    "train_X, train_y = train_data.drop(['label'], axis=1), train_data['label']\n",
    "\n",
    "# 数据拆分保留20%作为测试数据\n",
    "X_train, X_valid, y_train, y_valid = train_test_split(train_X, train_y, test_size=.2)"
   ]
  },
  {
   "cell_type": "markdown",
   "id": "166e320a",
   "metadata": {},
   "source": [
    "## LGB 模型"
   ]
  },
  {
   "cell_type": "code",
   "execution_count": null,
   "id": "aa60fa5b",
   "metadata": {},
   "outputs": [],
   "source": [
    "# def lgb_train(X_train, y_train, X_valid, y_valid, verbose=True):\n",
    "#     model_lgb = lgb.LGBMClassifier(\n",
    "#         max_depth=10, # 8 # 树最大的深度\n",
    "#         n_estimators=5000, # 集成算法，树数量\n",
    "#         min_child_weight=100, \n",
    "#         colsample_bytree=0.7, # 特征筛选\n",
    "#         subsample=0.9,  # 样本采样比例\n",
    "#         learning_rate=0.1) # 学习率\n",
    "\n",
    "#     model_lgb.fit(\n",
    "#         X_train, \n",
    "#         y_train,\n",
    "#         eval_metric='auc',\n",
    "#         eval_set=[(X_train, y_train), (X_valid, y_valid)],\n",
    "#         verbose=verbose, # 是否打印输出训练过程\n",
    "#         early_stopping_rounds=10) # 早停，等10轮决策，评价指标不在变化，停止\n",
    "\n",
    "#     print(model_lgb.best_score_['valid_1']['auc'])\n",
    "#     return model_lgb"
   ]
  },
  {
   "cell_type": "code",
   "execution_count": null,
   "id": "0ae4831c",
   "metadata": {},
   "outputs": [],
   "source": [
    "# model_lgb = lgb_train(X_train.values, y_train, X_valid.values, y_valid, verbose=True)"
   ]
  },
  {
   "cell_type": "code",
   "execution_count": null,
   "id": "f4197aec",
   "metadata": {},
   "outputs": [],
   "source": [
    "# %%time\n",
    "# prob = model_lgb.predict_proba(test_data.values) # 预测\n",
    "\n",
    "# submission = pd.read_csv('./data_format1/test_format1.csv')\n",
    "\n",
    "# # 复购的概率\n",
    "# submission['prob'] = pd.Series(prob[:,1]) # 预测数据赋值给提交数据\n",
    "\n",
    "# display(submission.head())\n",
    "\n",
    "# submission.to_csv('submission_lgb.csv', index=False)\n",
    "\n",
    "# del submission\n",
    "# gc.collect()"
   ]
  },
  {
   "cell_type": "markdown",
   "id": "6ad07bff",
   "metadata": {},
   "source": [
    "## XGB 模型"
   ]
  },
  {
   "cell_type": "code",
   "execution_count": 91,
   "id": "be1b8a8f",
   "metadata": {
    "ExecuteTime": {
     "end_time": "2022-05-16T03:25:43.223678Z",
     "start_time": "2022-05-16T03:25:43.211493Z"
    }
   },
   "outputs": [],
   "source": [
    "def xgb_train(X_train, y_train, X_valid, y_valid, verbose=True):\n",
    "    model_xgb = xgb.XGBClassifier(\n",
    "        max_depth=10, # raw8\n",
    "        n_estimators=5000,\n",
    "        min_child_weight=300, \n",
    "        colsample_bytree=0.7, \n",
    "        subsample=0.9, \n",
    "        learing_rate=0.1)\n",
    "    \n",
    "    model_xgb.fit(\n",
    "        X_train, \n",
    "        y_train,\n",
    "        eval_metric='auc',\n",
    "        eval_set=[(X_train, y_train), (X_valid, y_valid)],\n",
    "        verbose=verbose,\n",
    "        early_stopping_rounds=10)# 早停法，如果auc在10epoch没有进步就stop\n",
    "    print(model_xgb.best_score)\n",
    "    return model_xgb"
   ]
  },
  {
   "cell_type": "code",
   "execution_count": 104,
   "id": "48f0bb8d",
   "metadata": {
    "ExecuteTime": {
     "end_time": "2022-05-16T03:43:25.620229Z",
     "start_time": "2022-05-16T03:43:25.604289Z"
    }
   },
   "outputs": [
    {
     "data": {
      "text/plain": [
       "185218    0.0\n",
       "66391     0.0\n",
       "120761    1.0\n",
       "156057    0.0\n",
       "173632    0.0\n",
       "         ... \n",
       "40556     0.0\n",
       "39727     0.0\n",
       "57854     0.0\n",
       "62709     0.0\n",
       "132381    0.0\n",
       "Name: label, Length: 208691, dtype: object"
      ]
     },
     "execution_count": 104,
     "metadata": {},
     "output_type": "execute_result"
    }
   ],
   "source": [
    "y_train"
   ]
  },
  {
   "cell_type": "code",
   "execution_count": 101,
   "id": "68462099",
   "metadata": {
    "ExecuteTime": {
     "end_time": "2022-05-16T03:42:39.416838Z",
     "start_time": "2022-05-16T03:42:39.381501Z"
    }
   },
   "outputs": [
    {
     "ename": "ValueError",
     "evalue": "invalid literal for int() with base 10: '0.0'",
     "output_type": "error",
     "traceback": [
      "\u001b[0;31m---------------------------------------------------------------------------\u001b[0m",
      "\u001b[0;31mValueError\u001b[0m                                Traceback (most recent call last)",
      "\u001b[0;32m/var/folders/jt/qjpzhhld5znczz2yp8zyt7xw0000gn/T/ipykernel_53325/1536816167.py\u001b[0m in \u001b[0;36m<module>\u001b[0;34m\u001b[0m\n\u001b[0;32m----> 1\u001b[0;31m \u001b[0my_train\u001b[0m\u001b[0;34m.\u001b[0m\u001b[0mastype\u001b[0m\u001b[0;34m(\u001b[0m\u001b[0mint\u001b[0m\u001b[0;34m)\u001b[0m\u001b[0;34m\u001b[0m\u001b[0;34m\u001b[0m\u001b[0m\n\u001b[0m",
      "\u001b[0;32m/opt/anaconda3/lib/python3.9/site-packages/pandas/core/generic.py\u001b[0m in \u001b[0;36mastype\u001b[0;34m(self, dtype, copy, errors)\u001b[0m\n\u001b[1;32m   5813\u001b[0m         \u001b[0;32melse\u001b[0m\u001b[0;34m:\u001b[0m\u001b[0;34m\u001b[0m\u001b[0;34m\u001b[0m\u001b[0m\n\u001b[1;32m   5814\u001b[0m             \u001b[0;31m# else, only a single dtype is given\u001b[0m\u001b[0;34m\u001b[0m\u001b[0;34m\u001b[0m\u001b[0m\n\u001b[0;32m-> 5815\u001b[0;31m             \u001b[0mnew_data\u001b[0m \u001b[0;34m=\u001b[0m \u001b[0mself\u001b[0m\u001b[0;34m.\u001b[0m\u001b[0m_mgr\u001b[0m\u001b[0;34m.\u001b[0m\u001b[0mastype\u001b[0m\u001b[0;34m(\u001b[0m\u001b[0mdtype\u001b[0m\u001b[0;34m=\u001b[0m\u001b[0mdtype\u001b[0m\u001b[0;34m,\u001b[0m \u001b[0mcopy\u001b[0m\u001b[0;34m=\u001b[0m\u001b[0mcopy\u001b[0m\u001b[0;34m,\u001b[0m \u001b[0merrors\u001b[0m\u001b[0;34m=\u001b[0m\u001b[0merrors\u001b[0m\u001b[0;34m)\u001b[0m\u001b[0;34m\u001b[0m\u001b[0;34m\u001b[0m\u001b[0m\n\u001b[0m\u001b[1;32m   5816\u001b[0m             \u001b[0;32mreturn\u001b[0m \u001b[0mself\u001b[0m\u001b[0;34m.\u001b[0m\u001b[0m_constructor\u001b[0m\u001b[0;34m(\u001b[0m\u001b[0mnew_data\u001b[0m\u001b[0;34m)\u001b[0m\u001b[0;34m.\u001b[0m\u001b[0m__finalize__\u001b[0m\u001b[0;34m(\u001b[0m\u001b[0mself\u001b[0m\u001b[0;34m,\u001b[0m \u001b[0mmethod\u001b[0m\u001b[0;34m=\u001b[0m\u001b[0;34m\"astype\"\u001b[0m\u001b[0;34m)\u001b[0m\u001b[0;34m\u001b[0m\u001b[0;34m\u001b[0m\u001b[0m\n\u001b[1;32m   5817\u001b[0m \u001b[0;34m\u001b[0m\u001b[0m\n",
      "\u001b[0;32m/opt/anaconda3/lib/python3.9/site-packages/pandas/core/internals/managers.py\u001b[0m in \u001b[0;36mastype\u001b[0;34m(self, dtype, copy, errors)\u001b[0m\n\u001b[1;32m    416\u001b[0m \u001b[0;34m\u001b[0m\u001b[0m\n\u001b[1;32m    417\u001b[0m     \u001b[0;32mdef\u001b[0m \u001b[0mastype\u001b[0m\u001b[0;34m(\u001b[0m\u001b[0mself\u001b[0m\u001b[0;34m:\u001b[0m \u001b[0mT\u001b[0m\u001b[0;34m,\u001b[0m \u001b[0mdtype\u001b[0m\u001b[0;34m,\u001b[0m \u001b[0mcopy\u001b[0m\u001b[0;34m:\u001b[0m \u001b[0mbool\u001b[0m \u001b[0;34m=\u001b[0m \u001b[0;32mFalse\u001b[0m\u001b[0;34m,\u001b[0m \u001b[0merrors\u001b[0m\u001b[0;34m:\u001b[0m \u001b[0mstr\u001b[0m \u001b[0;34m=\u001b[0m \u001b[0;34m\"raise\"\u001b[0m\u001b[0;34m)\u001b[0m \u001b[0;34m->\u001b[0m \u001b[0mT\u001b[0m\u001b[0;34m:\u001b[0m\u001b[0;34m\u001b[0m\u001b[0;34m\u001b[0m\u001b[0m\n\u001b[0;32m--> 418\u001b[0;31m         \u001b[0;32mreturn\u001b[0m \u001b[0mself\u001b[0m\u001b[0;34m.\u001b[0m\u001b[0mapply\u001b[0m\u001b[0;34m(\u001b[0m\u001b[0;34m\"astype\"\u001b[0m\u001b[0;34m,\u001b[0m \u001b[0mdtype\u001b[0m\u001b[0;34m=\u001b[0m\u001b[0mdtype\u001b[0m\u001b[0;34m,\u001b[0m \u001b[0mcopy\u001b[0m\u001b[0;34m=\u001b[0m\u001b[0mcopy\u001b[0m\u001b[0;34m,\u001b[0m \u001b[0merrors\u001b[0m\u001b[0;34m=\u001b[0m\u001b[0merrors\u001b[0m\u001b[0;34m)\u001b[0m\u001b[0;34m\u001b[0m\u001b[0;34m\u001b[0m\u001b[0m\n\u001b[0m\u001b[1;32m    419\u001b[0m \u001b[0;34m\u001b[0m\u001b[0m\n\u001b[1;32m    420\u001b[0m     def convert(\n",
      "\u001b[0;32m/opt/anaconda3/lib/python3.9/site-packages/pandas/core/internals/managers.py\u001b[0m in \u001b[0;36mapply\u001b[0;34m(self, f, align_keys, ignore_failures, **kwargs)\u001b[0m\n\u001b[1;32m    325\u001b[0m                     \u001b[0mapplied\u001b[0m \u001b[0;34m=\u001b[0m \u001b[0mb\u001b[0m\u001b[0;34m.\u001b[0m\u001b[0mapply\u001b[0m\u001b[0;34m(\u001b[0m\u001b[0mf\u001b[0m\u001b[0;34m,\u001b[0m \u001b[0;34m**\u001b[0m\u001b[0mkwargs\u001b[0m\u001b[0;34m)\u001b[0m\u001b[0;34m\u001b[0m\u001b[0;34m\u001b[0m\u001b[0m\n\u001b[1;32m    326\u001b[0m                 \u001b[0;32melse\u001b[0m\u001b[0;34m:\u001b[0m\u001b[0;34m\u001b[0m\u001b[0;34m\u001b[0m\u001b[0m\n\u001b[0;32m--> 327\u001b[0;31m                     \u001b[0mapplied\u001b[0m \u001b[0;34m=\u001b[0m \u001b[0mgetattr\u001b[0m\u001b[0;34m(\u001b[0m\u001b[0mb\u001b[0m\u001b[0;34m,\u001b[0m \u001b[0mf\u001b[0m\u001b[0;34m)\u001b[0m\u001b[0;34m(\u001b[0m\u001b[0;34m**\u001b[0m\u001b[0mkwargs\u001b[0m\u001b[0;34m)\u001b[0m\u001b[0;34m\u001b[0m\u001b[0;34m\u001b[0m\u001b[0m\n\u001b[0m\u001b[1;32m    328\u001b[0m             \u001b[0;32mexcept\u001b[0m \u001b[0;34m(\u001b[0m\u001b[0mTypeError\u001b[0m\u001b[0;34m,\u001b[0m \u001b[0mNotImplementedError\u001b[0m\u001b[0;34m)\u001b[0m\u001b[0;34m:\u001b[0m\u001b[0;34m\u001b[0m\u001b[0;34m\u001b[0m\u001b[0m\n\u001b[1;32m    329\u001b[0m                 \u001b[0;32mif\u001b[0m \u001b[0;32mnot\u001b[0m \u001b[0mignore_failures\u001b[0m\u001b[0;34m:\u001b[0m\u001b[0;34m\u001b[0m\u001b[0;34m\u001b[0m\u001b[0m\n",
      "\u001b[0;32m/opt/anaconda3/lib/python3.9/site-packages/pandas/core/internals/blocks.py\u001b[0m in \u001b[0;36mastype\u001b[0;34m(self, dtype, copy, errors)\u001b[0m\n\u001b[1;32m    589\u001b[0m         \u001b[0mvalues\u001b[0m \u001b[0;34m=\u001b[0m \u001b[0mself\u001b[0m\u001b[0;34m.\u001b[0m\u001b[0mvalues\u001b[0m\u001b[0;34m\u001b[0m\u001b[0;34m\u001b[0m\u001b[0m\n\u001b[1;32m    590\u001b[0m \u001b[0;34m\u001b[0m\u001b[0m\n\u001b[0;32m--> 591\u001b[0;31m         \u001b[0mnew_values\u001b[0m \u001b[0;34m=\u001b[0m \u001b[0mastype_array_safe\u001b[0m\u001b[0;34m(\u001b[0m\u001b[0mvalues\u001b[0m\u001b[0;34m,\u001b[0m \u001b[0mdtype\u001b[0m\u001b[0;34m,\u001b[0m \u001b[0mcopy\u001b[0m\u001b[0;34m=\u001b[0m\u001b[0mcopy\u001b[0m\u001b[0;34m,\u001b[0m \u001b[0merrors\u001b[0m\u001b[0;34m=\u001b[0m\u001b[0merrors\u001b[0m\u001b[0;34m)\u001b[0m\u001b[0;34m\u001b[0m\u001b[0;34m\u001b[0m\u001b[0m\n\u001b[0m\u001b[1;32m    592\u001b[0m \u001b[0;34m\u001b[0m\u001b[0m\n\u001b[1;32m    593\u001b[0m         \u001b[0mnew_values\u001b[0m \u001b[0;34m=\u001b[0m \u001b[0mmaybe_coerce_values\u001b[0m\u001b[0;34m(\u001b[0m\u001b[0mnew_values\u001b[0m\u001b[0;34m)\u001b[0m\u001b[0;34m\u001b[0m\u001b[0;34m\u001b[0m\u001b[0m\n",
      "\u001b[0;32m/opt/anaconda3/lib/python3.9/site-packages/pandas/core/dtypes/cast.py\u001b[0m in \u001b[0;36mastype_array_safe\u001b[0;34m(values, dtype, copy, errors)\u001b[0m\n\u001b[1;32m   1307\u001b[0m \u001b[0;34m\u001b[0m\u001b[0m\n\u001b[1;32m   1308\u001b[0m     \u001b[0;32mtry\u001b[0m\u001b[0;34m:\u001b[0m\u001b[0;34m\u001b[0m\u001b[0;34m\u001b[0m\u001b[0m\n\u001b[0;32m-> 1309\u001b[0;31m         \u001b[0mnew_values\u001b[0m \u001b[0;34m=\u001b[0m \u001b[0mastype_array\u001b[0m\u001b[0;34m(\u001b[0m\u001b[0mvalues\u001b[0m\u001b[0;34m,\u001b[0m \u001b[0mdtype\u001b[0m\u001b[0;34m,\u001b[0m \u001b[0mcopy\u001b[0m\u001b[0;34m=\u001b[0m\u001b[0mcopy\u001b[0m\u001b[0;34m)\u001b[0m\u001b[0;34m\u001b[0m\u001b[0;34m\u001b[0m\u001b[0m\n\u001b[0m\u001b[1;32m   1310\u001b[0m     \u001b[0;32mexcept\u001b[0m \u001b[0;34m(\u001b[0m\u001b[0mValueError\u001b[0m\u001b[0;34m,\u001b[0m \u001b[0mTypeError\u001b[0m\u001b[0;34m)\u001b[0m\u001b[0;34m:\u001b[0m\u001b[0;34m\u001b[0m\u001b[0;34m\u001b[0m\u001b[0m\n\u001b[1;32m   1311\u001b[0m         \u001b[0;31m# e.g. astype_nansafe can fail on object-dtype of strings\u001b[0m\u001b[0;34m\u001b[0m\u001b[0;34m\u001b[0m\u001b[0m\n",
      "\u001b[0;32m/opt/anaconda3/lib/python3.9/site-packages/pandas/core/dtypes/cast.py\u001b[0m in \u001b[0;36mastype_array\u001b[0;34m(values, dtype, copy)\u001b[0m\n\u001b[1;32m   1255\u001b[0m \u001b[0;34m\u001b[0m\u001b[0m\n\u001b[1;32m   1256\u001b[0m     \u001b[0;32melse\u001b[0m\u001b[0;34m:\u001b[0m\u001b[0;34m\u001b[0m\u001b[0;34m\u001b[0m\u001b[0m\n\u001b[0;32m-> 1257\u001b[0;31m         \u001b[0mvalues\u001b[0m \u001b[0;34m=\u001b[0m \u001b[0mastype_nansafe\u001b[0m\u001b[0;34m(\u001b[0m\u001b[0mvalues\u001b[0m\u001b[0;34m,\u001b[0m \u001b[0mdtype\u001b[0m\u001b[0;34m,\u001b[0m \u001b[0mcopy\u001b[0m\u001b[0;34m=\u001b[0m\u001b[0mcopy\u001b[0m\u001b[0;34m)\u001b[0m\u001b[0;34m\u001b[0m\u001b[0;34m\u001b[0m\u001b[0m\n\u001b[0m\u001b[1;32m   1258\u001b[0m \u001b[0;34m\u001b[0m\u001b[0m\n\u001b[1;32m   1259\u001b[0m     \u001b[0;31m# in pandas we don't store numpy str dtypes, so convert to object\u001b[0m\u001b[0;34m\u001b[0m\u001b[0;34m\u001b[0m\u001b[0m\n",
      "\u001b[0;32m/opt/anaconda3/lib/python3.9/site-packages/pandas/core/dtypes/cast.py\u001b[0m in \u001b[0;36mastype_nansafe\u001b[0;34m(arr, dtype, copy, skipna)\u001b[0m\n\u001b[1;32m   1172\u001b[0m         \u001b[0;31m# work around NumPy brokenness, #1987\u001b[0m\u001b[0;34m\u001b[0m\u001b[0;34m\u001b[0m\u001b[0m\n\u001b[1;32m   1173\u001b[0m         \u001b[0;32mif\u001b[0m \u001b[0mnp\u001b[0m\u001b[0;34m.\u001b[0m\u001b[0missubdtype\u001b[0m\u001b[0;34m(\u001b[0m\u001b[0mdtype\u001b[0m\u001b[0;34m.\u001b[0m\u001b[0mtype\u001b[0m\u001b[0;34m,\u001b[0m \u001b[0mnp\u001b[0m\u001b[0;34m.\u001b[0m\u001b[0minteger\u001b[0m\u001b[0;34m)\u001b[0m\u001b[0;34m:\u001b[0m\u001b[0;34m\u001b[0m\u001b[0;34m\u001b[0m\u001b[0m\n\u001b[0;32m-> 1174\u001b[0;31m             \u001b[0;32mreturn\u001b[0m \u001b[0mlib\u001b[0m\u001b[0;34m.\u001b[0m\u001b[0mastype_intsafe\u001b[0m\u001b[0;34m(\u001b[0m\u001b[0marr\u001b[0m\u001b[0;34m,\u001b[0m \u001b[0mdtype\u001b[0m\u001b[0;34m)\u001b[0m\u001b[0;34m\u001b[0m\u001b[0;34m\u001b[0m\u001b[0m\n\u001b[0m\u001b[1;32m   1175\u001b[0m \u001b[0;34m\u001b[0m\u001b[0m\n\u001b[1;32m   1176\u001b[0m         \u001b[0;31m# if we have a datetime/timedelta array of objects\u001b[0m\u001b[0;34m\u001b[0m\u001b[0;34m\u001b[0m\u001b[0m\n",
      "\u001b[0;32m/opt/anaconda3/lib/python3.9/site-packages/pandas/_libs/lib.pyx\u001b[0m in \u001b[0;36mpandas._libs.lib.astype_intsafe\u001b[0;34m()\u001b[0m\n",
      "\u001b[0;31mValueError\u001b[0m: invalid literal for int() with base 10: '0.0'"
     ]
    }
   ],
   "source": [
    "y_train.astype(int)"
   ]
  },
  {
   "cell_type": "code",
   "execution_count": 108,
   "id": "9c091571",
   "metadata": {
    "ExecuteTime": {
     "end_time": "2022-05-16T03:57:33.482551Z",
     "start_time": "2022-05-16T03:57:33.425565Z"
    },
    "scrolled": true
   },
   "outputs": [
    {
     "data": {
      "text/plain": [
       "185218    0.0\n",
       "66391     0.0\n",
       "120761    1.0\n",
       "156057    0.0\n",
       "173632    0.0\n",
       "         ... \n",
       "40556     0.0\n",
       "39727     0.0\n",
       "57854     0.0\n",
       "62709     0.0\n",
       "132381    0.0\n",
       "Name: label, Length: 208691, dtype: float64"
      ]
     },
     "execution_count": 108,
     "metadata": {},
     "output_type": "execute_result"
    }
   ],
   "source": [
    "y_train = y_train.astype(float)\n",
    "y_train"
   ]
  },
  {
   "cell_type": "code",
   "execution_count": 109,
   "id": "98687119",
   "metadata": {
    "ExecuteTime": {
     "end_time": "2022-05-16T03:58:30.236957Z",
     "start_time": "2022-05-16T03:58:30.204423Z"
    }
   },
   "outputs": [
    {
     "data": {
      "text/plain": [
       "73713     0.0\n",
       "205864    0.0\n",
       "41950     0.0\n",
       "57755     0.0\n",
       "41947     0.0\n",
       "         ... \n",
       "82266     0.0\n",
       "160245    0.0\n",
       "48738     0.0\n",
       "84190     0.0\n",
       "121841    0.0\n",
       "Name: label, Length: 52173, dtype: float64"
      ]
     },
     "execution_count": 109,
     "metadata": {},
     "output_type": "execute_result"
    }
   ],
   "source": [
    "y_valid = y_valid.astype(float)\n",
    "y_valid"
   ]
  },
  {
   "cell_type": "code",
   "execution_count": 110,
   "id": "f61a8466",
   "metadata": {
    "ExecuteTime": {
     "end_time": "2022-05-16T03:58:45.993562Z",
     "start_time": "2022-05-16T03:58:38.635031Z"
    }
   },
   "outputs": [
    {
     "name": "stdout",
     "output_type": "stream",
     "text": [
      "[11:58:38] WARNING: /Users/runner/work/xgboost/xgboost/python-package/build/temp.macosx-10.9-x86_64-3.7/xgboost/src/learner.cc:627: \n",
      "Parameters: { \"learing_rate\" } might not be used.\n",
      "\n",
      "  This could be a false alarm, with some parameters getting used by language bindings but\n",
      "  then being mistakenly passed down to XGBoost core, or some parameter actually being used\n",
      "  but getting flagged wrongly here. Please open an issue if you find any such cases.\n",
      "\n",
      "\n",
      "0.6796199966978188\n"
     ]
    }
   ],
   "source": [
    "model_xgb = xgb_train(X_train,y_train, X_valid, y_valid,verbose=False)"
   ]
  },
  {
   "cell_type": "code",
   "execution_count": 87,
   "id": "9742805d",
   "metadata": {
    "ExecuteTime": {
     "end_time": "2022-05-15T11:36:43.772487Z",
     "start_time": "2022-05-15T11:36:11.996397Z"
    },
    "scrolled": false
   },
   "outputs": [
    {
     "name": "stdout",
     "output_type": "stream",
     "text": [
      "[19:36:12] WARNING: /Users/runner/work/xgboost/xgboost/python-package/build/temp.macosx-10.9-x86_64-3.7/xgboost/src/learner.cc:627: \n",
      "Parameters: { \"n_estimators\" } might not be used.\n",
      "\n",
      "  This could be a false alarm, with some parameters getting used by language bindings but\n",
      "  then being mistakenly passed down to XGBoost core, or some parameter actually being used\n",
      "  but getting flagged wrongly here. Please open an issue if you find any such cases.\n",
      "\n",
      "\n",
      "[0]\ttrain-auc:0.64299\teval-auc:0.62560\n",
      "[1]\ttrain-auc:0.65554\teval-auc:0.63511\n",
      "[2]\ttrain-auc:0.65845\teval-auc:0.63673\n",
      "[3]\ttrain-auc:0.66186\teval-auc:0.63862\n",
      "[4]\ttrain-auc:0.66333\teval-auc:0.63968\n",
      "[5]\ttrain-auc:0.66593\teval-auc:0.64067\n",
      "[6]\ttrain-auc:0.66888\teval-auc:0.64192\n",
      "[7]\ttrain-auc:0.66946\teval-auc:0.64217\n",
      "[8]\ttrain-auc:0.67077\teval-auc:0.64231\n",
      "[9]\ttrain-auc:0.67171\teval-auc:0.64358\n",
      "[10]\ttrain-auc:0.67270\teval-auc:0.64402\n",
      "[11]\ttrain-auc:0.67388\teval-auc:0.64426\n",
      "[12]\ttrain-auc:0.67531\teval-auc:0.64425\n",
      "[13]\ttrain-auc:0.67578\teval-auc:0.64515\n",
      "[14]\ttrain-auc:0.67639\teval-auc:0.64519\n",
      "[15]\ttrain-auc:0.67685\teval-auc:0.64554\n",
      "[16]\ttrain-auc:0.67704\teval-auc:0.64543\n",
      "[17]\ttrain-auc:0.67710\teval-auc:0.64553\n",
      "[18]\ttrain-auc:0.67723\teval-auc:0.64573\n",
      "[19]\ttrain-auc:0.67739\teval-auc:0.64606\n",
      "[20]\ttrain-auc:0.67842\teval-auc:0.64691\n",
      "[21]\ttrain-auc:0.67860\teval-auc:0.64697\n",
      "[22]\ttrain-auc:0.67935\teval-auc:0.64771\n",
      "[23]\ttrain-auc:0.67939\teval-auc:0.64769\n",
      "[24]\ttrain-auc:0.67934\teval-auc:0.64793\n",
      "[25]\ttrain-auc:0.67933\teval-auc:0.64784\n",
      "[26]\ttrain-auc:0.67952\teval-auc:0.64775\n",
      "[27]\ttrain-auc:0.68017\teval-auc:0.64843\n",
      "[28]\ttrain-auc:0.68045\teval-auc:0.64856\n",
      "[29]\ttrain-auc:0.68131\teval-auc:0.64922\n",
      "[30]\ttrain-auc:0.68152\teval-auc:0.64940\n",
      "[31]\ttrain-auc:0.68223\teval-auc:0.65000\n",
      "[32]\ttrain-auc:0.68257\teval-auc:0.64976\n",
      "[33]\ttrain-auc:0.68332\teval-auc:0.65067\n",
      "[34]\ttrain-auc:0.68406\teval-auc:0.65183\n",
      "[35]\ttrain-auc:0.68413\teval-auc:0.65204\n",
      "[36]\ttrain-auc:0.68464\teval-auc:0.65241\n",
      "[37]\ttrain-auc:0.68509\teval-auc:0.65271\n",
      "[38]\ttrain-auc:0.68653\teval-auc:0.65418\n",
      "[39]\ttrain-auc:0.68703\teval-auc:0.65418\n",
      "[40]\ttrain-auc:0.68761\teval-auc:0.65446\n",
      "[41]\ttrain-auc:0.68775\teval-auc:0.65442\n",
      "[42]\ttrain-auc:0.68860\teval-auc:0.65563\n",
      "[43]\ttrain-auc:0.68987\teval-auc:0.65666\n",
      "[44]\ttrain-auc:0.69028\teval-auc:0.65698\n",
      "[45]\ttrain-auc:0.69079\teval-auc:0.65744\n",
      "[46]\ttrain-auc:0.69114\teval-auc:0.65731\n",
      "[47]\ttrain-auc:0.69187\teval-auc:0.65812\n",
      "[48]\ttrain-auc:0.69252\teval-auc:0.65847\n",
      "[49]\ttrain-auc:0.69330\teval-auc:0.65934\n",
      "[50]\ttrain-auc:0.69405\teval-auc:0.66023\n",
      "[51]\ttrain-auc:0.69481\teval-auc:0.66072\n",
      "[52]\ttrain-auc:0.69542\teval-auc:0.66099\n",
      "[53]\ttrain-auc:0.69592\teval-auc:0.66158\n",
      "[54]\ttrain-auc:0.69631\teval-auc:0.66185\n",
      "[55]\ttrain-auc:0.69693\teval-auc:0.66248\n",
      "[56]\ttrain-auc:0.69757\teval-auc:0.66270\n",
      "[57]\ttrain-auc:0.69802\teval-auc:0.66277\n",
      "[58]\ttrain-auc:0.69844\teval-auc:0.66301\n",
      "[59]\ttrain-auc:0.69919\teval-auc:0.66358\n",
      "[60]\ttrain-auc:0.70007\teval-auc:0.66460\n",
      "[61]\ttrain-auc:0.70055\teval-auc:0.66472\n",
      "[62]\ttrain-auc:0.70101\teval-auc:0.66483\n",
      "[63]\ttrain-auc:0.70163\teval-auc:0.66523\n",
      "[64]\ttrain-auc:0.70197\teval-auc:0.66540\n",
      "[65]\ttrain-auc:0.70229\teval-auc:0.66543\n",
      "[66]\ttrain-auc:0.70281\teval-auc:0.66577\n",
      "[67]\ttrain-auc:0.70328\teval-auc:0.66609\n",
      "[68]\ttrain-auc:0.70366\teval-auc:0.66628\n",
      "[69]\ttrain-auc:0.70416\teval-auc:0.66615\n",
      "[70]\ttrain-auc:0.70454\teval-auc:0.66606\n",
      "[71]\ttrain-auc:0.70486\teval-auc:0.66650\n",
      "[72]\ttrain-auc:0.70539\teval-auc:0.66640\n",
      "[73]\ttrain-auc:0.70567\teval-auc:0.66642\n",
      "[74]\ttrain-auc:0.70629\teval-auc:0.66665\n",
      "[75]\ttrain-auc:0.70670\teval-auc:0.66684\n",
      "[76]\ttrain-auc:0.70724\teval-auc:0.66755\n",
      "[77]\ttrain-auc:0.70763\teval-auc:0.66746\n",
      "[78]\ttrain-auc:0.70813\teval-auc:0.66809\n",
      "[79]\ttrain-auc:0.70847\teval-auc:0.66814\n",
      "[80]\ttrain-auc:0.70896\teval-auc:0.66866\n",
      "[81]\ttrain-auc:0.70941\teval-auc:0.66918\n",
      "[82]\ttrain-auc:0.70961\teval-auc:0.66939\n",
      "[83]\ttrain-auc:0.70992\teval-auc:0.66957\n",
      "[84]\ttrain-auc:0.71026\teval-auc:0.66949\n",
      "[85]\ttrain-auc:0.71044\teval-auc:0.66944\n",
      "[86]\ttrain-auc:0.71088\teval-auc:0.66971\n",
      "[87]\ttrain-auc:0.71118\teval-auc:0.66994\n",
      "[88]\ttrain-auc:0.71147\teval-auc:0.66987\n",
      "[89]\ttrain-auc:0.71200\teval-auc:0.67012\n",
      "[90]\ttrain-auc:0.71233\teval-auc:0.67034\n",
      "[91]\ttrain-auc:0.71266\teval-auc:0.67059\n",
      "[92]\ttrain-auc:0.71288\teval-auc:0.67082\n",
      "[93]\ttrain-auc:0.71312\teval-auc:0.67083\n",
      "[94]\ttrain-auc:0.71345\teval-auc:0.67095\n",
      "[95]\ttrain-auc:0.71375\teval-auc:0.67099\n",
      "[96]\ttrain-auc:0.71397\teval-auc:0.67107\n",
      "[97]\ttrain-auc:0.71439\teval-auc:0.67102\n",
      "[98]\ttrain-auc:0.71472\teval-auc:0.67098\n",
      "[99]\ttrain-auc:0.71490\teval-auc:0.67100\n",
      "[100]\ttrain-auc:0.71530\teval-auc:0.67122\n",
      "[101]\ttrain-auc:0.71559\teval-auc:0.67114\n",
      "[102]\ttrain-auc:0.71595\teval-auc:0.67130\n",
      "[103]\ttrain-auc:0.71620\teval-auc:0.67141\n",
      "[104]\ttrain-auc:0.71646\teval-auc:0.67168\n",
      "[105]\ttrain-auc:0.71674\teval-auc:0.67187\n",
      "[106]\ttrain-auc:0.71696\teval-auc:0.67191\n",
      "[107]\ttrain-auc:0.71731\teval-auc:0.67205\n",
      "[108]\ttrain-auc:0.71753\teval-auc:0.67213\n",
      "[109]\ttrain-auc:0.71772\teval-auc:0.67242\n",
      "[110]\ttrain-auc:0.71802\teval-auc:0.67264\n",
      "[111]\ttrain-auc:0.71829\teval-auc:0.67272\n",
      "[112]\ttrain-auc:0.71850\teval-auc:0.67293\n",
      "[113]\ttrain-auc:0.71883\teval-auc:0.67270\n",
      "[114]\ttrain-auc:0.71908\teval-auc:0.67264\n",
      "[115]\ttrain-auc:0.71947\teval-auc:0.67301\n",
      "[116]\ttrain-auc:0.71973\teval-auc:0.67292\n",
      "[117]\ttrain-auc:0.71990\teval-auc:0.67309\n",
      "[118]\ttrain-auc:0.72013\teval-auc:0.67309\n",
      "[119]\ttrain-auc:0.72036\teval-auc:0.67307\n",
      "[120]\ttrain-auc:0.72061\teval-auc:0.67320\n",
      "[121]\ttrain-auc:0.72069\teval-auc:0.67313\n",
      "[122]\ttrain-auc:0.72094\teval-auc:0.67304\n",
      "[123]\ttrain-auc:0.72104\teval-auc:0.67305\n",
      "[124]\ttrain-auc:0.72139\teval-auc:0.67320\n",
      "[125]\ttrain-auc:0.72159\teval-auc:0.67316\n",
      "[126]\ttrain-auc:0.72185\teval-auc:0.67334\n",
      "[127]\ttrain-auc:0.72224\teval-auc:0.67355\n",
      "[128]\ttrain-auc:0.72240\teval-auc:0.67369\n",
      "[129]\ttrain-auc:0.72270\teval-auc:0.67366\n",
      "[130]\ttrain-auc:0.72307\teval-auc:0.67399\n",
      "[131]\ttrain-auc:0.72329\teval-auc:0.67403\n",
      "[132]\ttrain-auc:0.72356\teval-auc:0.67411\n",
      "[133]\ttrain-auc:0.72379\teval-auc:0.67422\n",
      "[134]\ttrain-auc:0.72402\teval-auc:0.67429\n",
      "[135]\ttrain-auc:0.72425\teval-auc:0.67444\n",
      "[136]\ttrain-auc:0.72442\teval-auc:0.67435\n",
      "[137]\ttrain-auc:0.72467\teval-auc:0.67434\n",
      "[138]\ttrain-auc:0.72485\teval-auc:0.67428\n",
      "[139]\ttrain-auc:0.72513\teval-auc:0.67453\n",
      "[140]\ttrain-auc:0.72549\teval-auc:0.67439\n",
      "[141]\ttrain-auc:0.72573\teval-auc:0.67462\n",
      "[142]\ttrain-auc:0.72608\teval-auc:0.67454\n",
      "[143]\ttrain-auc:0.72636\teval-auc:0.67447\n",
      "[144]\ttrain-auc:0.72653\teval-auc:0.67459\n",
      "[145]\ttrain-auc:0.72692\teval-auc:0.67486\n",
      "[146]\ttrain-auc:0.72706\teval-auc:0.67494\n",
      "[147]\ttrain-auc:0.72733\teval-auc:0.67489\n",
      "[148]\ttrain-auc:0.72765\teval-auc:0.67493\n",
      "[149]\ttrain-auc:0.72795\teval-auc:0.67476\n",
      "[150]\ttrain-auc:0.72807\teval-auc:0.67488\n",
      "[151]\ttrain-auc:0.72827\teval-auc:0.67502\n",
      "[152]\ttrain-auc:0.72854\teval-auc:0.67495\n",
      "[153]\ttrain-auc:0.72893\teval-auc:0.67480\n",
      "[154]\ttrain-auc:0.72918\teval-auc:0.67473\n",
      "[155]\ttrain-auc:0.72928\teval-auc:0.67480\n",
      "[156]\ttrain-auc:0.72952\teval-auc:0.67488\n",
      "[157]\ttrain-auc:0.72974\teval-auc:0.67499\n",
      "[158]\ttrain-auc:0.72994\teval-auc:0.67511\n",
      "[159]\ttrain-auc:0.73011\teval-auc:0.67517\n",
      "[160]\ttrain-auc:0.73029\teval-auc:0.67513\n",
      "[161]\ttrain-auc:0.73057\teval-auc:0.67508\n",
      "[162]\ttrain-auc:0.73080\teval-auc:0.67499\n",
      "[163]\ttrain-auc:0.73092\teval-auc:0.67521\n",
      "[164]\ttrain-auc:0.73107\teval-auc:0.67519\n",
      "[165]\ttrain-auc:0.73132\teval-auc:0.67510\n",
      "[166]\ttrain-auc:0.73150\teval-auc:0.67526\n",
      "[167]\ttrain-auc:0.73174\teval-auc:0.67523\n",
      "[168]\ttrain-auc:0.73191\teval-auc:0.67526\n",
      "[169]\ttrain-auc:0.73207\teval-auc:0.67533\n",
      "[170]\ttrain-auc:0.73221\teval-auc:0.67539\n",
      "[171]\ttrain-auc:0.73255\teval-auc:0.67546\n",
      "[172]\ttrain-auc:0.73266\teval-auc:0.67553\n",
      "[173]\ttrain-auc:0.73294\teval-auc:0.67555\n",
      "[174]\ttrain-auc:0.73312\teval-auc:0.67569\n",
      "[175]\ttrain-auc:0.73340\teval-auc:0.67587\n",
      "[176]\ttrain-auc:0.73361\teval-auc:0.67579\n",
      "[177]\ttrain-auc:0.73384\teval-auc:0.67575\n",
      "[178]\ttrain-auc:0.73392\teval-auc:0.67579\n",
      "[179]\ttrain-auc:0.73401\teval-auc:0.67590\n",
      "[180]\ttrain-auc:0.73407\teval-auc:0.67598\n",
      "[181]\ttrain-auc:0.73441\teval-auc:0.67604\n",
      "[182]\ttrain-auc:0.73449\teval-auc:0.67602\n",
      "[183]\ttrain-auc:0.73470\teval-auc:0.67613\n",
      "[184]\ttrain-auc:0.73483\teval-auc:0.67608\n",
      "[185]\ttrain-auc:0.73505\teval-auc:0.67603\n",
      "[186]\ttrain-auc:0.73539\teval-auc:0.67599\n",
      "[187]\ttrain-auc:0.73559\teval-auc:0.67595\n",
      "[188]\ttrain-auc:0.73575\teval-auc:0.67599\n",
      "[189]\ttrain-auc:0.73604\teval-auc:0.67602\n",
      "[190]\ttrain-auc:0.73623\teval-auc:0.67586\n",
      "[191]\ttrain-auc:0.73645\teval-auc:0.67576\n"
     ]
    },
    {
     "name": "stdout",
     "output_type": "stream",
     "text": [
      "[192]\ttrain-auc:0.73677\teval-auc:0.67587\n",
      "[193]\ttrain-auc:0.73691\teval-auc:0.67587\n"
     ]
    }
   ],
   "source": [
    "dtrain = xgb.DMatrix(X_train, label=y_train)\n",
    "dvalid = xgb.DMatrix(X_valid, label=y_valid)\n",
    "'''\n",
    "https://blog.csdn.net/Soft_Po/article/details/120372703\n",
    "'min_child_weight': 5,孩子节点中最小的样本权重和。\n",
    "如果一个叶子节点的样本权重和小于min_child_weight则拆分过程结束。即调大这个参数能够控制过拟合。\n",
    "gamma = 0.1,# 树的叶子节点上做进一步分区所需的最小损失减少，越大越保守，一般0.1 0.2这样子\n",
    "scale_pos_weight =10 # 如果取值大于0的话，在类别样本不平衡的情况下有助于快速收敛，平衡正负权重\n",
    "'eta': 0.1, # 如同学习率'''\n",
    "param = {'n_estimators': 5000, 'max_depth': 10, 'min_child_weight': 300, 'gamma': 0.1, \n",
    "         'subsample': 0.9,'colsample_bytree': 0.9, 'eta': 0.1,\n",
    "         'objective': 'binary:logistic','eval_metric':'auc'}\n",
    "\n",
    "num_round = param['n_estimators']\n",
    "evallist = [(dtrain, 'train'), (dvalid, 'eval')]\n",
    "bst = xgb.train(param, dtrain, num_round, evallist, early_stopping_rounds=10)"
   ]
  },
  {
   "cell_type": "code",
   "execution_count": 88,
   "id": "ece849a8",
   "metadata": {
    "ExecuteTime": {
     "end_time": "2022-05-15T11:37:00.853956Z",
     "start_time": "2022-05-15T11:36:59.693067Z"
    }
   },
   "outputs": [
    {
     "name": "stdout",
     "output_type": "stream",
     "text": [
      "[0.06208067 0.10710361 0.04364111 ... 0.12833077 0.0376034  0.05607484]\n"
     ]
    },
    {
     "data": {
      "text/html": [
       "<div>\n",
       "<style scoped>\n",
       "    .dataframe tbody tr th:only-of-type {\n",
       "        vertical-align: middle;\n",
       "    }\n",
       "\n",
       "    .dataframe tbody tr th {\n",
       "        vertical-align: top;\n",
       "    }\n",
       "\n",
       "    .dataframe thead th {\n",
       "        text-align: right;\n",
       "    }\n",
       "</style>\n",
       "<table border=\"1\" class=\"dataframe\">\n",
       "  <thead>\n",
       "    <tr style=\"text-align: right;\">\n",
       "      <th></th>\n",
       "      <th>user_id</th>\n",
       "      <th>merchant_id</th>\n",
       "      <th>prob</th>\n",
       "    </tr>\n",
       "  </thead>\n",
       "  <tbody>\n",
       "    <tr>\n",
       "      <th>0</th>\n",
       "      <td>163968</td>\n",
       "      <td>4605</td>\n",
       "      <td>0.062081</td>\n",
       "    </tr>\n",
       "    <tr>\n",
       "      <th>1</th>\n",
       "      <td>360576</td>\n",
       "      <td>1581</td>\n",
       "      <td>0.107104</td>\n",
       "    </tr>\n",
       "    <tr>\n",
       "      <th>2</th>\n",
       "      <td>98688</td>\n",
       "      <td>1964</td>\n",
       "      <td>0.043641</td>\n",
       "    </tr>\n",
       "    <tr>\n",
       "      <th>3</th>\n",
       "      <td>98688</td>\n",
       "      <td>3645</td>\n",
       "      <td>0.039762</td>\n",
       "    </tr>\n",
       "    <tr>\n",
       "      <th>4</th>\n",
       "      <td>295296</td>\n",
       "      <td>3361</td>\n",
       "      <td>0.064959</td>\n",
       "    </tr>\n",
       "  </tbody>\n",
       "</table>\n",
       "</div>"
      ],
      "text/plain": [
       "   user_id  merchant_id      prob\n",
       "0   163968         4605  0.062081\n",
       "1   360576         1581  0.107104\n",
       "2    98688         1964  0.043641\n",
       "3    98688         3645  0.039762\n",
       "4   295296         3361  0.064959"
      ]
     },
     "metadata": {},
     "output_type": "display_data"
    },
    {
     "data": {
      "text/plain": [
       "9165"
      ]
     },
     "execution_count": 88,
     "metadata": {},
     "output_type": "execute_result"
    }
   ],
   "source": [
    "X_test_DMatrix = xgb.DMatrix(test_data)\n",
    "prob = bst.predict(X_test_DMatrix)\n",
    "print(prob)\n",
    "# prob = bst.predict(test_data)\n",
    "submission = pd.read_csv('./data_format1/test_format1.csv')\n",
    "submission['prob'] = pd.Series(prob) \n",
    "submission.to_csv('submission_xgb.csv', index=False) \n",
    "display(submission.head()) \n",
    "del submission \n",
    "gc.collect()"
   ]
  },
  {
   "cell_type": "code",
   "execution_count": 52,
   "id": "2f1c9d41",
   "metadata": {
    "ExecuteTime": {
     "end_time": "2022-05-15T09:38:27.261488Z",
     "start_time": "2022-05-15T09:38:27.220834Z"
    },
    "scrolled": true
   },
   "outputs": [
    {
     "data": {
      "text/html": [
       "<div>\n",
       "<style scoped>\n",
       "    .dataframe tbody tr th:only-of-type {\n",
       "        vertical-align: middle;\n",
       "    }\n",
       "\n",
       "    .dataframe tbody tr th {\n",
       "        vertical-align: top;\n",
       "    }\n",
       "\n",
       "    .dataframe thead th {\n",
       "        text-align: right;\n",
       "    }\n",
       "</style>\n",
       "<table border=\"1\" class=\"dataframe\">\n",
       "  <thead>\n",
       "    <tr style=\"text-align: right;\">\n",
       "      <th></th>\n",
       "      <th>user_id</th>\n",
       "      <th>merchant_id</th>\n",
       "      <th>u1</th>\n",
       "      <th>u2</th>\n",
       "      <th>u3</th>\n",
       "      <th>u4</th>\n",
       "      <th>u5</th>\n",
       "      <th>u6</th>\n",
       "      <th>u7</th>\n",
       "      <th>u8</th>\n",
       "      <th>...</th>\n",
       "      <th>age_2</th>\n",
       "      <th>age_3</th>\n",
       "      <th>age_4</th>\n",
       "      <th>age_5</th>\n",
       "      <th>age_6</th>\n",
       "      <th>age_7</th>\n",
       "      <th>age_8</th>\n",
       "      <th>g_0</th>\n",
       "      <th>g_1</th>\n",
       "      <th>g_2</th>\n",
       "    </tr>\n",
       "  </thead>\n",
       "  <tbody>\n",
       "    <tr>\n",
       "      <th>76383</th>\n",
       "      <td>117345</td>\n",
       "      <td>1150</td>\n",
       "      <td>310</td>\n",
       "      <td>169</td>\n",
       "      <td>40</td>\n",
       "      <td>56</td>\n",
       "      <td>54</td>\n",
       "      <td>5.916667</td>\n",
       "      <td>292.0</td>\n",
       "      <td>0.0</td>\n",
       "      <td>...</td>\n",
       "      <td>0</td>\n",
       "      <td>0</td>\n",
       "      <td>1</td>\n",
       "      <td>0</td>\n",
       "      <td>0</td>\n",
       "      <td>0</td>\n",
       "      <td>0</td>\n",
       "      <td>1</td>\n",
       "      <td>0</td>\n",
       "      <td>0</td>\n",
       "    </tr>\n",
       "    <tr>\n",
       "      <th>59155</th>\n",
       "      <td>5166</td>\n",
       "      <td>1760</td>\n",
       "      <td>202</td>\n",
       "      <td>128</td>\n",
       "      <td>29</td>\n",
       "      <td>66</td>\n",
       "      <td>66</td>\n",
       "      <td>5.816667</td>\n",
       "      <td>195.0</td>\n",
       "      <td>0.0</td>\n",
       "      <td>...</td>\n",
       "      <td>0</td>\n",
       "      <td>1</td>\n",
       "      <td>0</td>\n",
       "      <td>0</td>\n",
       "      <td>0</td>\n",
       "      <td>0</td>\n",
       "      <td>0</td>\n",
       "      <td>1</td>\n",
       "      <td>0</td>\n",
       "      <td>0</td>\n",
       "    </tr>\n",
       "    <tr>\n",
       "      <th>7249</th>\n",
       "      <td>326037</td>\n",
       "      <td>4368</td>\n",
       "      <td>192</td>\n",
       "      <td>106</td>\n",
       "      <td>31</td>\n",
       "      <td>45</td>\n",
       "      <td>48</td>\n",
       "      <td>4.783333</td>\n",
       "      <td>170.0</td>\n",
       "      <td>0.0</td>\n",
       "      <td>...</td>\n",
       "      <td>0</td>\n",
       "      <td>0</td>\n",
       "      <td>0</td>\n",
       "      <td>0</td>\n",
       "      <td>0</td>\n",
       "      <td>0</td>\n",
       "      <td>0</td>\n",
       "      <td>1</td>\n",
       "      <td>0</td>\n",
       "      <td>0</td>\n",
       "    </tr>\n",
       "    <tr>\n",
       "      <th>6420</th>\n",
       "      <td>421266</td>\n",
       "      <td>3476</td>\n",
       "      <td>69</td>\n",
       "      <td>47</td>\n",
       "      <td>27</td>\n",
       "      <td>22</td>\n",
       "      <td>21</td>\n",
       "      <td>5.833333</td>\n",
       "      <td>55.0</td>\n",
       "      <td>0.0</td>\n",
       "      <td>...</td>\n",
       "      <td>0</td>\n",
       "      <td>0</td>\n",
       "      <td>1</td>\n",
       "      <td>0</td>\n",
       "      <td>0</td>\n",
       "      <td>0</td>\n",
       "      <td>0</td>\n",
       "      <td>1</td>\n",
       "      <td>0</td>\n",
       "      <td>0</td>\n",
       "    </tr>\n",
       "    <tr>\n",
       "      <th>251866</th>\n",
       "      <td>248165</td>\n",
       "      <td>4976</td>\n",
       "      <td>94</td>\n",
       "      <td>78</td>\n",
       "      <td>17</td>\n",
       "      <td>50</td>\n",
       "      <td>51</td>\n",
       "      <td>5.150000</td>\n",
       "      <td>92.0</td>\n",
       "      <td>0.0</td>\n",
       "      <td>...</td>\n",
       "      <td>0</td>\n",
       "      <td>0</td>\n",
       "      <td>0</td>\n",
       "      <td>0</td>\n",
       "      <td>1</td>\n",
       "      <td>0</td>\n",
       "      <td>0</td>\n",
       "      <td>1</td>\n",
       "      <td>0</td>\n",
       "      <td>0</td>\n",
       "    </tr>\n",
       "    <tr>\n",
       "      <th>...</th>\n",
       "      <td>...</td>\n",
       "      <td>...</td>\n",
       "      <td>...</td>\n",
       "      <td>...</td>\n",
       "      <td>...</td>\n",
       "      <td>...</td>\n",
       "      <td>...</td>\n",
       "      <td>...</td>\n",
       "      <td>...</td>\n",
       "      <td>...</td>\n",
       "      <td>...</td>\n",
       "      <td>...</td>\n",
       "      <td>...</td>\n",
       "      <td>...</td>\n",
       "      <td>...</td>\n",
       "      <td>...</td>\n",
       "      <td>...</td>\n",
       "      <td>...</td>\n",
       "      <td>...</td>\n",
       "      <td>...</td>\n",
       "      <td>...</td>\n",
       "    </tr>\n",
       "    <tr>\n",
       "      <th>189410</th>\n",
       "      <td>308399</td>\n",
       "      <td>361</td>\n",
       "      <td>32</td>\n",
       "      <td>19</td>\n",
       "      <td>10</td>\n",
       "      <td>8</td>\n",
       "      <td>9</td>\n",
       "      <td>4.983333</td>\n",
       "      <td>30.0</td>\n",
       "      <td>0.0</td>\n",
       "      <td>...</td>\n",
       "      <td>0</td>\n",
       "      <td>0</td>\n",
       "      <td>0</td>\n",
       "      <td>0</td>\n",
       "      <td>0</td>\n",
       "      <td>0</td>\n",
       "      <td>0</td>\n",
       "      <td>0</td>\n",
       "      <td>1</td>\n",
       "      <td>0</td>\n",
       "    </tr>\n",
       "    <tr>\n",
       "      <th>27695</th>\n",
       "      <td>315090</td>\n",
       "      <td>4318</td>\n",
       "      <td>22</td>\n",
       "      <td>12</td>\n",
       "      <td>10</td>\n",
       "      <td>12</td>\n",
       "      <td>12</td>\n",
       "      <td>5.833333</td>\n",
       "      <td>15.0</td>\n",
       "      <td>0.0</td>\n",
       "      <td>...</td>\n",
       "      <td>1</td>\n",
       "      <td>0</td>\n",
       "      <td>0</td>\n",
       "      <td>0</td>\n",
       "      <td>0</td>\n",
       "      <td>0</td>\n",
       "      <td>0</td>\n",
       "      <td>1</td>\n",
       "      <td>0</td>\n",
       "      <td>0</td>\n",
       "    </tr>\n",
       "    <tr>\n",
       "      <th>131147</th>\n",
       "      <td>160258</td>\n",
       "      <td>524</td>\n",
       "      <td>71</td>\n",
       "      <td>51</td>\n",
       "      <td>26</td>\n",
       "      <td>24</td>\n",
       "      <td>23</td>\n",
       "      <td>5.716667</td>\n",
       "      <td>63.0</td>\n",
       "      <td>0.0</td>\n",
       "      <td>...</td>\n",
       "      <td>0</td>\n",
       "      <td>0</td>\n",
       "      <td>0</td>\n",
       "      <td>1</td>\n",
       "      <td>0</td>\n",
       "      <td>0</td>\n",
       "      <td>0</td>\n",
       "      <td>1</td>\n",
       "      <td>0</td>\n",
       "      <td>0</td>\n",
       "    </tr>\n",
       "    <tr>\n",
       "      <th>9241</th>\n",
       "      <td>322203</td>\n",
       "      <td>1346</td>\n",
       "      <td>238</td>\n",
       "      <td>193</td>\n",
       "      <td>25</td>\n",
       "      <td>58</td>\n",
       "      <td>61</td>\n",
       "      <td>5.750000</td>\n",
       "      <td>235.0</td>\n",
       "      <td>0.0</td>\n",
       "      <td>...</td>\n",
       "      <td>0</td>\n",
       "      <td>0</td>\n",
       "      <td>0</td>\n",
       "      <td>0</td>\n",
       "      <td>0</td>\n",
       "      <td>0</td>\n",
       "      <td>0</td>\n",
       "      <td>1</td>\n",
       "      <td>0</td>\n",
       "      <td>0</td>\n",
       "    </tr>\n",
       "    <tr>\n",
       "      <th>151170</th>\n",
       "      <td>423229</td>\n",
       "      <td>437</td>\n",
       "      <td>253</td>\n",
       "      <td>138</td>\n",
       "      <td>39</td>\n",
       "      <td>45</td>\n",
       "      <td>41</td>\n",
       "      <td>5.950000</td>\n",
       "      <td>224.0</td>\n",
       "      <td>0.0</td>\n",
       "      <td>...</td>\n",
       "      <td>0</td>\n",
       "      <td>1</td>\n",
       "      <td>0</td>\n",
       "      <td>0</td>\n",
       "      <td>0</td>\n",
       "      <td>0</td>\n",
       "      <td>0</td>\n",
       "      <td>1</td>\n",
       "      <td>0</td>\n",
       "      <td>0</td>\n",
       "    </tr>\n",
       "  </tbody>\n",
       "</table>\n",
       "<p>208691 rows × 45 columns</p>\n",
       "</div>"
      ],
      "text/plain": [
       "        user_id  merchant_id   u1   u2  u3  u4  u5        u6     u7   u8  ...  \\\n",
       "76383    117345         1150  310  169  40  56  54  5.916667  292.0  0.0  ...   \n",
       "59155      5166         1760  202  128  29  66  66  5.816667  195.0  0.0  ...   \n",
       "7249     326037         4368  192  106  31  45  48  4.783333  170.0  0.0  ...   \n",
       "6420     421266         3476   69   47  27  22  21  5.833333   55.0  0.0  ...   \n",
       "251866   248165         4976   94   78  17  50  51  5.150000   92.0  0.0  ...   \n",
       "...         ...          ...  ...  ...  ..  ..  ..       ...    ...  ...  ...   \n",
       "189410   308399          361   32   19  10   8   9  4.983333   30.0  0.0  ...   \n",
       "27695    315090         4318   22   12  10  12  12  5.833333   15.0  0.0  ...   \n",
       "131147   160258          524   71   51  26  24  23  5.716667   63.0  0.0  ...   \n",
       "9241     322203         1346  238  193  25  58  61  5.750000  235.0  0.0  ...   \n",
       "151170   423229          437  253  138  39  45  41  5.950000  224.0  0.0  ...   \n",
       "\n",
       "        age_2  age_3  age_4  age_5  age_6  age_7  age_8  g_0  g_1  g_2  \n",
       "76383       0      0      1      0      0      0      0    1    0    0  \n",
       "59155       0      1      0      0      0      0      0    1    0    0  \n",
       "7249        0      0      0      0      0      0      0    1    0    0  \n",
       "6420        0      0      1      0      0      0      0    1    0    0  \n",
       "251866      0      0      0      0      1      0      0    1    0    0  \n",
       "...       ...    ...    ...    ...    ...    ...    ...  ...  ...  ...  \n",
       "189410      0      0      0      0      0      0      0    0    1    0  \n",
       "27695       1      0      0      0      0      0      0    1    0    0  \n",
       "131147      0      0      0      1      0      0      0    1    0    0  \n",
       "9241        0      0      0      0      0      0      0    1    0    0  \n",
       "151170      0      1      0      0      0      0      0    1    0    0  \n",
       "\n",
       "[208691 rows x 45 columns]"
      ]
     },
     "execution_count": 52,
     "metadata": {},
     "output_type": "execute_result"
    }
   ],
   "source": [
    "X_train"
   ]
  },
  {
   "cell_type": "code",
   "execution_count": 53,
   "id": "f91832b9",
   "metadata": {
    "ExecuteTime": {
     "end_time": "2022-05-15T09:39:08.649379Z",
     "start_time": "2022-05-15T09:39:08.626781Z"
    }
   },
   "outputs": [
    {
     "data": {
      "text/plain": [
       "array([[1.17345e+05, 1.15000e+03, 3.10000e+02, ..., 1.00000e+00,\n",
       "        0.00000e+00, 0.00000e+00],\n",
       "       [5.16600e+03, 1.76000e+03, 2.02000e+02, ..., 1.00000e+00,\n",
       "        0.00000e+00, 0.00000e+00],\n",
       "       [3.26037e+05, 4.36800e+03, 1.92000e+02, ..., 1.00000e+00,\n",
       "        0.00000e+00, 0.00000e+00],\n",
       "       ...,\n",
       "       [1.60258e+05, 5.24000e+02, 7.10000e+01, ..., 1.00000e+00,\n",
       "        0.00000e+00, 0.00000e+00],\n",
       "       [3.22203e+05, 1.34600e+03, 2.38000e+02, ..., 1.00000e+00,\n",
       "        0.00000e+00, 0.00000e+00],\n",
       "       [4.23229e+05, 4.37000e+02, 2.53000e+02, ..., 1.00000e+00,\n",
       "        0.00000e+00, 0.00000e+00]])"
      ]
     },
     "execution_count": 53,
     "metadata": {},
     "output_type": "execute_result"
    }
   ],
   "source": [
    "X_train.values"
   ]
  },
  {
   "cell_type": "code",
   "execution_count": 47,
   "id": "84c5b874",
   "metadata": {
    "ExecuteTime": {
     "end_time": "2022-05-15T09:34:13.309446Z",
     "start_time": "2022-05-15T09:34:13.257011Z"
    }
   },
   "outputs": [
    {
     "data": {
      "text/plain": [
       "array(['0.0', '1.0'], dtype=object)"
      ]
     },
     "execution_count": 47,
     "metadata": {},
     "output_type": "execute_result"
    }
   ],
   "source": [
    "y_train.unique()"
   ]
  },
  {
   "cell_type": "code",
   "execution_count": 48,
   "id": "5f5016dd",
   "metadata": {
    "ExecuteTime": {
     "end_time": "2022-05-15T09:34:21.485332Z",
     "start_time": "2022-05-15T09:34:21.462747Z"
    }
   },
   "outputs": [
    {
     "data": {
      "text/plain": [
       "array(['0.0', '1.0'], dtype=object)"
      ]
     },
     "execution_count": 48,
     "metadata": {},
     "output_type": "execute_result"
    }
   ],
   "source": [
    "y_valid.unique()"
   ]
  },
  {
   "cell_type": "code",
   "execution_count": 63,
   "id": "82b08302",
   "metadata": {
    "ExecuteTime": {
     "end_time": "2022-05-15T10:10:30.420094Z",
     "start_time": "2022-05-15T10:10:30.388263Z"
    }
   },
   "outputs": [
    {
     "name": "stdout",
     "output_type": "stream",
     "text": [
      "[0         0.0\n",
      " 1         0.0\n",
      " 2         1.0\n",
      " 3         0.0\n",
      " 4         0.0\n",
      "          ...\n",
      " 260859    0.0\n",
      " 260860    0.0\n",
      " 260861    0.0\n",
      " 260862    0.0\n",
      " 260863    0.0\n",
      " Name: label, Length: 247820, dtype: object\n",
      " 0         0.0\n",
      " 1         0.0\n",
      " 2         1.0\n",
      " 3         0.0\n",
      " 4         0.0\n",
      "          ...\n",
      " 260858    0.0\n",
      " 260859    0.0\n",
      " 260860    0.0\n",
      " 260862    0.0\n",
      " 260863    0.0\n",
      " Name: label, Length: 247820, dtype: object\n",
      " 0         0.0\n",
      " 1         0.0\n",
      " 2         1.0\n",
      " 3         0.0\n",
      " 4         0.0\n",
      "          ...\n",
      " 260859    0.0\n",
      " 260860    0.0\n",
      " 260861    0.0\n",
      " 260862    0.0\n",
      " 260863    0.0\n",
      " Name: label, Length: 247820, dtype: object\n",
      " 0         0.0\n",
      " 1         0.0\n",
      " 2         1.0\n",
      " 3         0.0\n",
      " 4         0.0\n",
      "          ...\n",
      " 260859    0.0\n",
      " 260860    0.0\n",
      " 260861    0.0\n",
      " 260862    0.0\n",
      " 260863    0.0\n",
      " Name: label, Length: 247820, dtype: object\n",
      " 1         0.0\n",
      " 2         1.0\n",
      " 4         0.0\n",
      " 5         0.0\n",
      " 6         0.0\n",
      "          ...\n",
      " 260859    0.0\n",
      " 260860    0.0\n",
      " 260861    0.0\n",
      " 260862    0.0\n",
      " 260863    0.0\n",
      " Name: label, Length: 247821, dtype: object\n",
      " 0         0.0\n",
      " 1         0.0\n",
      " 2         1.0\n",
      " 3         0.0\n",
      " 4         0.0\n",
      "          ...\n",
      " 260859    0.0\n",
      " 260860    0.0\n",
      " 260861    0.0\n",
      " 260862    0.0\n",
      " 260863    0.0\n",
      " Name: label, Length: 247821, dtype: object\n",
      " 0         0.0\n",
      " 1         0.0\n",
      " 2         1.0\n",
      " 3         0.0\n",
      " 4         0.0\n",
      "          ...\n",
      " 260859    0.0\n",
      " 260860    0.0\n",
      " 260861    0.0\n",
      " 260862    0.0\n",
      " 260863    0.0\n",
      " Name: label, Length: 247821, dtype: object\n",
      " 0         0.0\n",
      " 1         0.0\n",
      " 2         1.0\n",
      " 3         0.0\n",
      " 4         0.0\n",
      "          ...\n",
      " 260859    0.0\n",
      " 260860    0.0\n",
      " 260861    0.0\n",
      " 260862    0.0\n",
      " 260863    0.0\n",
      " Name: label, Length: 247821, dtype: object\n",
      " 0         0.0\n",
      " 1         0.0\n",
      " 2         1.0\n",
      " 3         0.0\n",
      " 4         0.0\n",
      "          ...\n",
      " 260858    0.0\n",
      " 260859    0.0\n",
      " 260860    0.0\n",
      " 260861    0.0\n",
      " 260862    0.0\n",
      " Name: label, Length: 247821, dtype: object\n",
      " 0         0.0\n",
      " 1         0.0\n",
      " 2         1.0\n",
      " 3         0.0\n",
      " 4         0.0\n",
      "          ...\n",
      " 260859    0.0\n",
      " 260860    0.0\n",
      " 260861    0.0\n",
      " 260862    0.0\n",
      " 260863    0.0\n",
      " Name: label, Length: 247821, dtype: object\n",
      " 0         0.0\n",
      " 2         1.0\n",
      " 3         0.0\n",
      " 4         0.0\n",
      " 6         0.0\n",
      "          ...\n",
      " 260858    0.0\n",
      " 260859    0.0\n",
      " 260860    0.0\n",
      " 260861    0.0\n",
      " 260863    0.0\n",
      " Name: label, Length: 247821, dtype: object\n",
      " 0         0.0\n",
      " 1         0.0\n",
      " 2         1.0\n",
      " 3         0.0\n",
      " 4         0.0\n",
      "          ...\n",
      " 260859    0.0\n",
      " 260860    0.0\n",
      " 260861    0.0\n",
      " 260862    0.0\n",
      " 260863    0.0\n",
      " Name: label, Length: 247821, dtype: object\n",
      " 0         0.0\n",
      " 1         0.0\n",
      " 3         0.0\n",
      " 4         0.0\n",
      " 5         0.0\n",
      "          ...\n",
      " 260859    0.0\n",
      " 260860    0.0\n",
      " 260861    0.0\n",
      " 260862    0.0\n",
      " 260863    0.0\n",
      " Name: label, Length: 247821, dtype: object\n",
      " 0         0.0\n",
      " 1         0.0\n",
      " 2         1.0\n",
      " 3         0.0\n",
      " 4         0.0\n",
      "          ...\n",
      " 260858    0.0\n",
      " 260859    0.0\n",
      " 260861    0.0\n",
      " 260862    0.0\n",
      " 260863    0.0\n",
      " Name: label, Length: 247821, dtype: object\n",
      " 0         0.0\n",
      " 1         0.0\n",
      " 2         1.0\n",
      " 3         0.0\n",
      " 4         0.0\n",
      "          ...\n",
      " 260859    0.0\n",
      " 260860    0.0\n",
      " 260861    0.0\n",
      " 260862    0.0\n",
      " 260863    0.0\n",
      " Name: label, Length: 247821, dtype: object\n",
      " 0         0.0\n",
      " 1         0.0\n",
      " 2         1.0\n",
      " 3         0.0\n",
      " 4         0.0\n",
      "          ...\n",
      " 260858    0.0\n",
      " 260860    0.0\n",
      " 260861    0.0\n",
      " 260862    0.0\n",
      " 260863    0.0\n",
      " Name: label, Length: 247821, dtype: object\n",
      " 0         0.0\n",
      " 1         0.0\n",
      " 2         1.0\n",
      " 3         0.0\n",
      " 4         0.0\n",
      "          ...\n",
      " 260859    0.0\n",
      " 260860    0.0\n",
      " 260861    0.0\n",
      " 260862    0.0\n",
      " 260863    0.0\n",
      " Name: label, Length: 247821, dtype: object\n",
      " 0         0.0\n",
      " 1         0.0\n",
      " 2         1.0\n",
      " 3         0.0\n",
      " 4         0.0\n",
      "          ...\n",
      " 260859    0.0\n",
      " 260860    0.0\n",
      " 260861    0.0\n",
      " 260862    0.0\n",
      " 260863    0.0\n",
      " Name: label, Length: 247821, dtype: object\n",
      " 0         0.0\n",
      " 1         0.0\n",
      " 2         1.0\n",
      " 3         0.0\n",
      " 5         0.0\n",
      "          ...\n",
      " 260859    0.0\n",
      " 260860    0.0\n",
      " 260861    0.0\n",
      " 260862    0.0\n",
      " 260863    0.0\n",
      " Name: label, Length: 247821, dtype: object\n",
      " 0         0.0\n",
      " 1         0.0\n",
      " 2         1.0\n",
      " 3         0.0\n",
      " 4         0.0\n",
      "          ...\n",
      " 260859    0.0\n",
      " 260860    0.0\n",
      " 260861    0.0\n",
      " 260862    0.0\n",
      " 260863    0.0\n",
      " Name: label, Length: 247821, dtype: object]\n"
     ]
    }
   ],
   "source": [
    "print(np.array(y_train))"
   ]
  },
  {
   "cell_type": "markdown",
   "id": "79cb86d5",
   "metadata": {},
   "source": [
    "# 交叉验证多轮建模"
   ]
  },
  {
   "cell_type": "code",
   "execution_count": 111,
   "id": "f730bdd9",
   "metadata": {
    "ExecuteTime": {
     "end_time": "2022-05-16T04:04:14.307024Z",
     "start_time": "2022-05-16T04:04:14.295272Z"
    }
   },
   "outputs": [],
   "source": [
    "# 构造训练集和测试集\n",
    "def get_train_test_datas(train_df,label_df):\n",
    "    skv = StratifiedKFold(n_splits=50, shuffle=True)\n",
    "    trainX = []\n",
    "    trainY = []\n",
    "    testX = []\n",
    "    testY = []\n",
    "    # 索引：训练数据索引train_index,目标值的索引test_index\n",
    "    for train_index, test_index in skv.split(X=train_df, y=label_df):# 10轮for循环\n",
    "        \n",
    "        train_x, train_y, test_x, test_y = train_df.iloc[train_index, :], label_df.iloc[train_index], \\\n",
    "                                            train_df.iloc[test_index, :], label_df.iloc[test_index]\n",
    "\n",
    "        trainX.append(train_x)\n",
    "        trainY.append(train_y)\n",
    "        testX.append(test_x)\n",
    "        testY.append(test_y)\n",
    "    return trainX, testX, trainY, testY"
   ]
  },
  {
   "cell_type": "markdown",
   "id": "af58ab39",
   "metadata": {},
   "source": [
    "## LGB 模型（1min）"
   ]
  },
  {
   "cell_type": "code",
   "execution_count": 121,
   "id": "dceb0e71",
   "metadata": {
    "ExecuteTime": {
     "end_time": "2022-05-16T07:20:00.332306Z",
     "start_time": "2022-05-16T07:19:57.691572Z"
    }
   },
   "outputs": [
    {
     "ename": "AttributeError",
     "evalue": "'list' object has no attribute 'astype'",
     "output_type": "error",
     "traceback": [
      "\u001b[0;31m---------------------------------------------------------------------------\u001b[0m",
      "\u001b[0;31mAttributeError\u001b[0m                            Traceback (most recent call last)",
      "\u001b[0;32m<timed exec>\u001b[0m in \u001b[0;36m<module>\u001b[0;34m\u001b[0m\n",
      "\u001b[0;31mAttributeError\u001b[0m: 'list' object has no attribute 'astype'"
     ]
    }
   ],
   "source": [
    "%%time\n",
    "train_X, train_y = train_data.drop(['label'], axis=1), train_data['label']\n",
    "\n",
    "# 拆分为10份训练数据和验证数据\n",
    "X_train, X_valid, y_train, y_valid = get_train_test_datas(train_X, train_y)\n",
    "y_valid = y_valid.astype(float)\n",
    "y_valid = y_valid.astype(float)\n",
    "y_valid = y_valid.astype(float)\n",
    "print('----训练数据，长度',len(X_train))\n",
    "print('----验证数据，长度',len(X_valid))\n",
    "\n",
    "pred_lgbms = [] # 列表，接受目标值，10轮，平均值\n",
    "\n",
    "for i in range(10):\n",
    "    print('\\n============================LGB training use Data {}/10============================\\n'.format(i+1))\n",
    "    model_lgb = lgb.LGBMClassifier(\n",
    "        max_depth=10, # 8\n",
    "        n_estimators=1000,\n",
    "        min_child_weight=100,\n",
    "        colsample_bytree=0.7,\n",
    "        subsample=0.9,\n",
    "        learning_rate=0.05)\n",
    "\n",
    "    model_lgb.fit(\n",
    "        X_train[i].values, \n",
    "        y_train[i],\n",
    "        eval_metric='auc',\n",
    "        eval_set=[(X_train[i].values, y_train[i]), (X_valid[i].values, y_valid[i])],\n",
    "        verbose=False,\n",
    "        early_stopping_rounds=10)\n",
    "\n",
    "    print(model_lgb.best_score_['valid_1']['auc'])\n",
    "\n",
    "    pred = model_lgb.predict_proba(test_data.values)\n",
    "    \n",
    "    pred = pd.DataFrame(pred[:,1]) # 将预测概率（复购）去处理，转换成DataFrame\n",
    "    \n",
    "    pred_lgbms.append(pred)\n",
    "\n",
    "# 求10轮平均值生成预测结果，保存\n",
    "# 每一轮的结果，作为一列，进行了添加\n",
    "pred_lgbms = pd.concat(pred_lgbms, axis=1) # 级联，列进行级联\n",
    "\n",
    "# 加载提交数据\n",
    "submission = pd.read_csv('./data_format1/test_format1.csv')\n",
    "\n",
    "submission['prob'] = pred_lgbms.mean(axis=1) # 10轮训练的平均值\n",
    "\n",
    "submission.to_csv('submission_KFold_lgb.csv', index=False)"
   ]
  },
  {
   "cell_type": "code",
   "execution_count": null,
   "id": "af8a8a5c",
   "metadata": {},
   "outputs": [],
   "source": [
    "pred_lgbms"
   ]
  },
  {
   "cell_type": "markdown",
   "id": "f0c47149",
   "metadata": {},
   "source": [
    "## XGB 模型"
   ]
  },
  {
   "cell_type": "code",
   "execution_count": 112,
   "id": "96709f67",
   "metadata": {
    "ExecuteTime": {
     "end_time": "2022-05-16T04:04:30.240436Z",
     "start_time": "2022-05-16T04:04:30.226101Z"
    }
   },
   "outputs": [],
   "source": [
    "# 构造训练集和测试集\n",
    "def get_train_test_datas(train_df,label_df):\n",
    "    skv = StratifiedKFold(n_splits=50, shuffle=True)\n",
    "    trainX = []\n",
    "    trainY = []\n",
    "    testX = []\n",
    "    testY = []\n",
    "    # 索引：训练数据索引train_index,目标值的索引test_index\n",
    "    for train_index, test_index in skv.split(X=train_df, y=label_df):# 10轮for循环\n",
    "        \n",
    "        train_x, train_y, test_x, test_y = train_df.iloc[train_index, :], label_df.iloc[train_index], \\\n",
    "                                            train_df.iloc[test_index, :], label_df.iloc[test_index]\n",
    "\n",
    "        trainX.append(train_x)\n",
    "        trainY.append(train_y)\n",
    "        testX.append(test_x)\n",
    "        testY.append(test_y)\n",
    "    return trainX, testX, trainY, testY"
   ]
  },
  {
   "cell_type": "code",
   "execution_count": 125,
   "id": "f5aef8fb",
   "metadata": {
    "ExecuteTime": {
     "end_time": "2022-05-16T07:25:16.166306Z",
     "start_time": "2022-05-16T07:25:11.994043Z"
    }
   },
   "outputs": [
    {
     "ename": "ValueError",
     "evalue": "setting an array element with a sequence.",
     "output_type": "error",
     "traceback": [
      "\u001b[0;31m---------------------------------------------------------------------------\u001b[0m",
      "\u001b[0;31mTypeError\u001b[0m                                 Traceback (most recent call last)",
      "\u001b[0;32m/opt/anaconda3/lib/python3.9/site-packages/pandas/core/series.py\u001b[0m in \u001b[0;36mwrapper\u001b[0;34m(self)\u001b[0m\n\u001b[1;32m    184\u001b[0m             \u001b[0;32mreturn\u001b[0m \u001b[0mconverter\u001b[0m\u001b[0;34m(\u001b[0m\u001b[0mself\u001b[0m\u001b[0;34m.\u001b[0m\u001b[0miloc\u001b[0m\u001b[0;34m[\u001b[0m\u001b[0;36m0\u001b[0m\u001b[0;34m]\u001b[0m\u001b[0;34m)\u001b[0m\u001b[0;34m\u001b[0m\u001b[0;34m\u001b[0m\u001b[0m\n\u001b[0;32m--> 185\u001b[0;31m         \u001b[0;32mraise\u001b[0m \u001b[0mTypeError\u001b[0m\u001b[0;34m(\u001b[0m\u001b[0;34mf\"cannot convert the series to {converter}\"\u001b[0m\u001b[0;34m)\u001b[0m\u001b[0;34m\u001b[0m\u001b[0;34m\u001b[0m\u001b[0m\n\u001b[0m\u001b[1;32m    186\u001b[0m \u001b[0;34m\u001b[0m\u001b[0m\n",
      "\u001b[0;31mTypeError\u001b[0m: cannot convert the series to <class 'float'>",
      "\nThe above exception was the direct cause of the following exception:\n",
      "\u001b[0;31mValueError\u001b[0m                                Traceback (most recent call last)",
      "\u001b[0;32m<timed exec>\u001b[0m in \u001b[0;36m<module>\u001b[0;34m\u001b[0m\n",
      "\u001b[0;31mValueError\u001b[0m: setting an array element with a sequence."
     ]
    }
   ],
   "source": [
    "%%time\n",
    "\n",
    "train_X, train_y = train_data.drop(['label'], axis=1), train_data['label']\n",
    "\n",
    "# 拆分为20份训练数据和验证数据\n",
    "X_train, X_valid, y_train, y_valid = get_train_test_datas(train_X, train_y)\n",
    "X_train = np.array(X_train)\n",
    "X_valid= np.array(X_valid)\n",
    "y_train = np.array(y_train).astype(np.float32)\n",
    "y_valid = np.array(y_valid).astype(np.float32)\n",
    "print('------数据长度',len(X_train),len(y_train))\n",
    "\n",
    "pred_xgbs = []\n",
    "for i in range(50):\n",
    "    print('\\n============================XGB training use Data {}/50============================\\n'.format(i+1))\n",
    "    model_xgb = xgb.XGBClassifier(\n",
    "        max_depth=10, # raw8\n",
    "        n_estimators=5000,\n",
    "        min_child_weight=200, \n",
    "        colsample_bytree=0.7, \n",
    "        subsample=0.9,\n",
    "        learning_rate = 0.1)\n",
    "\n",
    "    model_xgb.fit(\n",
    "        X_train[i], \n",
    "        y_train[i],\n",
    "        eval_metric='auc',\n",
    "        eval_set=[(X_train[i], y_train[i]), (X_valid[i], y_valid[i])],\n",
    "        verbose=False,\n",
    "        early_stopping_rounds=10 # 早停法，如果auc在10epoch没有进步就stop\n",
    "    )    \n",
    "\n",
    "    print(model_xgb.best_score)\n",
    "\n",
    "    pred = model_xgb.predict_proba(test_data)\n",
    "    pred = pd.DataFrame(pred[:,1])\n",
    "    pred_xgbs.append(pred)\n",
    "\n",
    "# 求20轮平均值生成预测结果，保存\n",
    "pred_xgbs = pd.concat(pred_xgbs, axis=1)\n",
    "submission = pd.read_csv('./data_format1/test_format1.csv')\n",
    "submission['prob'] = pred_xgbs.mean(axis=1)\n",
    "submission.to_csv('submission_KFold_xgb.csv', index=False)"
   ]
  },
  {
   "cell_type": "code",
   "execution_count": 120,
   "id": "d558709b",
   "metadata": {
    "ExecuteTime": {
     "end_time": "2022-05-16T07:17:35.091755Z",
     "start_time": "2022-05-16T07:17:33.717449Z"
    }
   },
   "outputs": [
    {
     "ename": "ValueError",
     "evalue": "setting an array element with a sequence.",
     "output_type": "error",
     "traceback": [
      "\u001b[0;31m---------------------------------------------------------------------------\u001b[0m",
      "\u001b[0;31mTypeError\u001b[0m                                 Traceback (most recent call last)",
      "\u001b[0;31mTypeError\u001b[0m: int() argument must be a string, a bytes-like object or a number, not 'DataFrame'",
      "\nThe above exception was the direct cause of the following exception:\n",
      "\u001b[0;31mValueError\u001b[0m                                Traceback (most recent call last)",
      "\u001b[0;32m/var/folders/jt/qjpzhhld5znczz2yp8zyt7xw0000gn/T/ipykernel_53325/981792132.py\u001b[0m in \u001b[0;36m<module>\u001b[0;34m\u001b[0m\n\u001b[0;32m----> 1\u001b[0;31m \u001b[0mX_train\u001b[0m \u001b[0;34m=\u001b[0m \u001b[0mnp\u001b[0m\u001b[0;34m.\u001b[0m\u001b[0marray\u001b[0m\u001b[0;34m(\u001b[0m\u001b[0mX_train\u001b[0m\u001b[0;34m)\u001b[0m\u001b[0;34m.\u001b[0m\u001b[0mastype\u001b[0m\u001b[0;34m(\u001b[0m\u001b[0mdtype\u001b[0m\u001b[0;34m=\u001b[0m\u001b[0mint\u001b[0m\u001b[0;34m)\u001b[0m\u001b[0;34m\u001b[0m\u001b[0;34m\u001b[0m\u001b[0m\n\u001b[0m\u001b[1;32m      2\u001b[0m \u001b[0mX_valid\u001b[0m\u001b[0;34m=\u001b[0m \u001b[0mnp\u001b[0m\u001b[0;34m.\u001b[0m\u001b[0marray\u001b[0m\u001b[0;34m(\u001b[0m\u001b[0mX_valid\u001b[0m\u001b[0;34m)\u001b[0m\u001b[0;34m.\u001b[0m\u001b[0mastype\u001b[0m\u001b[0;34m(\u001b[0m\u001b[0mdtype\u001b[0m\u001b[0;34m=\u001b[0m\u001b[0mint\u001b[0m\u001b[0;34m)\u001b[0m\u001b[0;34m\u001b[0m\u001b[0;34m\u001b[0m\u001b[0m\n\u001b[1;32m      3\u001b[0m \u001b[0my_train\u001b[0m \u001b[0;34m=\u001b[0m \u001b[0mnp\u001b[0m\u001b[0;34m.\u001b[0m\u001b[0marray\u001b[0m\u001b[0;34m(\u001b[0m\u001b[0my_train\u001b[0m\u001b[0;34m)\u001b[0m\u001b[0;34m.\u001b[0m\u001b[0mastype\u001b[0m\u001b[0;34m(\u001b[0m\u001b[0mdtype\u001b[0m\u001b[0;34m=\u001b[0m\u001b[0mint\u001b[0m\u001b[0;34m)\u001b[0m\u001b[0;34m\u001b[0m\u001b[0;34m\u001b[0m\u001b[0m\n\u001b[1;32m      4\u001b[0m \u001b[0my_valid\u001b[0m \u001b[0;34m=\u001b[0m \u001b[0mnp\u001b[0m\u001b[0;34m.\u001b[0m\u001b[0marray\u001b[0m\u001b[0;34m(\u001b[0m\u001b[0my_valid\u001b[0m\u001b[0;34m)\u001b[0m\u001b[0;34m.\u001b[0m\u001b[0mastype\u001b[0m\u001b[0;34m(\u001b[0m\u001b[0mdtype\u001b[0m\u001b[0;34m=\u001b[0m\u001b[0mint\u001b[0m\u001b[0;34m)\u001b[0m\u001b[0;34m\u001b[0m\u001b[0;34m\u001b[0m\u001b[0m\n",
      "\u001b[0;31mValueError\u001b[0m: setting an array element with a sequence."
     ]
    }
   ],
   "source": [
    "X_train = np.array(X_train).astype(dtype=int)\n",
    "X_valid= np.array(X_valid).astype(dtype=int)\n",
    "y_train = np.array(y_train).astype(dtype=int)\n",
    "y_valid = np.array(y_valid).astype(dtype=int)"
   ]
  },
  {
   "cell_type": "code",
   "execution_count": 123,
   "id": "8fe1a063",
   "metadata": {
    "ExecuteTime": {
     "end_time": "2022-05-16T07:20:37.286583Z",
     "start_time": "2022-05-16T07:20:36.825076Z"
    }
   },
   "outputs": [],
   "source": [
    "X_train = np.array(X_train)\n",
    "X_valid= np.array(X_valid)\n",
    "y_train = np.array(y_train)\n",
    "y_valid = np.array(y_valid)"
   ]
  },
  {
   "cell_type": "code",
   "execution_count": null,
   "id": "352f5d9f",
   "metadata": {},
   "outputs": [],
   "source": []
  }
 ],
 "metadata": {
  "hide_input": false,
  "kernelspec": {
   "display_name": "Python 3 (ipykernel)",
   "language": "python",
   "name": "python3"
  },
  "language_info": {
   "codemirror_mode": {
    "name": "ipython",
    "version": 3
   },
   "file_extension": ".py",
   "mimetype": "text/x-python",
   "name": "python",
   "nbconvert_exporter": "python",
   "pygments_lexer": "ipython3",
   "version": "3.9.7"
  },
  "nbTranslate": {
   "displayLangs": [
    "*"
   ],
   "hotkey": "alt-t",
   "langInMainMenu": true,
   "sourceLang": "en",
   "targetLang": "fr",
   "useGoogleTranslate": true
  },
  "toc": {
   "base_numbering": 1,
   "nav_menu": {},
   "number_sections": true,
   "sideBar": true,
   "skip_h1_title": false,
   "title_cell": "Table of Contents",
   "title_sidebar": "Contents",
   "toc_cell": false,
   "toc_position": {},
   "toc_section_display": true,
   "toc_window_display": true
  },
  "varInspector": {
   "cols": {
    "lenName": 16,
    "lenType": 16,
    "lenVar": 40
   },
   "kernels_config": {
    "python": {
     "delete_cmd_postfix": "",
     "delete_cmd_prefix": "del ",
     "library": "var_list.py",
     "varRefreshCmd": "print(var_dic_list())"
    },
    "r": {
     "delete_cmd_postfix": ") ",
     "delete_cmd_prefix": "rm(",
     "library": "var_list.r",
     "varRefreshCmd": "cat(var_dic_list()) "
    }
   },
   "position": {
    "height": "295px",
    "left": "1161px",
    "right": "20px",
    "top": "51px",
    "width": "350px"
   },
   "types_to_exclude": [
    "module",
    "function",
    "builtin_function_or_method",
    "instance",
    "_Feature"
   ],
   "window_display": true
  }
 },
 "nbformat": 4,
 "nbformat_minor": 5
}
