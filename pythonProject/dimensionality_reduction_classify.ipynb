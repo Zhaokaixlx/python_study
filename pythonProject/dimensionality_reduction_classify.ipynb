{
 "cells": [
  {
   "cell_type": "markdown",
   "id": "af94d76a",
   "metadata": {},
   "source": [
    "# 相关性"
   ]
  },
  {
   "cell_type": "code",
   "execution_count": 1,
   "id": "1419809e",
   "metadata": {
    "ExecuteTime": {
     "end_time": "2022-04-27T11:07:03.155352Z",
     "start_time": "2022-04-27T11:07:02.928643Z"
    }
   },
   "outputs": [],
   "source": [
    "import numpy as np\n",
    "import pandas as pd"
   ]
  },
  {
   "cell_type": "code",
   "execution_count": 11,
   "id": "3f760272",
   "metadata": {
    "ExecuteTime": {
     "end_time": "2022-04-27T11:12:58.086880Z",
     "start_time": "2022-04-27T11:12:58.065823Z"
    }
   },
   "outputs": [
    {
     "data": {
      "text/html": [
       "<div>\n",
       "<style scoped>\n",
       "    .dataframe tbody tr th:only-of-type {\n",
       "        vertical-align: middle;\n",
       "    }\n",
       "\n",
       "    .dataframe tbody tr th {\n",
       "        vertical-align: top;\n",
       "    }\n",
       "\n",
       "    .dataframe thead th {\n",
       "        text-align: right;\n",
       "    }\n",
       "</style>\n",
       "<table border=\"1\" class=\"dataframe\">\n",
       "  <thead>\n",
       "    <tr style=\"text-align: right;\">\n",
       "      <th></th>\n",
       "      <th>Python</th>\n",
       "      <th>En</th>\n",
       "      <th>Chinese</th>\n",
       "    </tr>\n",
       "  </thead>\n",
       "  <tbody>\n",
       "    <tr>\n",
       "      <th>0</th>\n",
       "      <td>29</td>\n",
       "      <td>0</td>\n",
       "      <td>74</td>\n",
       "    </tr>\n",
       "    <tr>\n",
       "      <th>1</th>\n",
       "      <td>137</td>\n",
       "      <td>136</td>\n",
       "      <td>44</td>\n",
       "    </tr>\n",
       "    <tr>\n",
       "      <th>2</th>\n",
       "      <td>12</td>\n",
       "      <td>12</td>\n",
       "      <td>96</td>\n",
       "    </tr>\n",
       "    <tr>\n",
       "      <th>3</th>\n",
       "      <td>66</td>\n",
       "      <td>127</td>\n",
       "      <td>62</td>\n",
       "    </tr>\n",
       "    <tr>\n",
       "      <th>4</th>\n",
       "      <td>123</td>\n",
       "      <td>111</td>\n",
       "      <td>21</td>\n",
       "    </tr>\n",
       "  </tbody>\n",
       "</table>\n",
       "</div>"
      ],
      "text/plain": [
       "   Python   En  Chinese\n",
       "0      29    0       74\n",
       "1     137  136       44\n",
       "2      12   12       96\n",
       "3      66  127       62\n",
       "4     123  111       21"
      ]
     },
     "execution_count": 11,
     "metadata": {},
     "output_type": "execute_result"
    }
   ],
   "source": [
    "df = pd.DataFrame(np.random.randint(0,150,size = (50,3)),columns=['Python','En','Chinese'])\n",
    "df.iloc[0:8,[0]]\n",
    "df[:5]"
   ]
  },
  {
   "cell_type": "code",
   "execution_count": 12,
   "id": "a0bb036a",
   "metadata": {
    "ExecuteTime": {
     "end_time": "2022-04-27T11:13:12.800385Z",
     "start_time": "2022-04-27T11:13:12.781230Z"
    }
   },
   "outputs": [
    {
     "data": {
      "text/html": [
       "<div>\n",
       "<style scoped>\n",
       "    .dataframe tbody tr th:only-of-type {\n",
       "        vertical-align: middle;\n",
       "    }\n",
       "\n",
       "    .dataframe tbody tr th {\n",
       "        vertical-align: top;\n",
       "    }\n",
       "\n",
       "    .dataframe thead th {\n",
       "        text-align: right;\n",
       "    }\n",
       "</style>\n",
       "<table border=\"1\" class=\"dataframe\">\n",
       "  <thead>\n",
       "    <tr style=\"text-align: right;\">\n",
       "      <th></th>\n",
       "      <th>Python</th>\n",
       "      <th>En</th>\n",
       "      <th>Chinese</th>\n",
       "    </tr>\n",
       "  </thead>\n",
       "  <tbody>\n",
       "    <tr>\n",
       "      <th>Python</th>\n",
       "      <td>1.000000</td>\n",
       "      <td>0.114598</td>\n",
       "      <td>0.059771</td>\n",
       "    </tr>\n",
       "    <tr>\n",
       "      <th>En</th>\n",
       "      <td>0.114598</td>\n",
       "      <td>1.000000</td>\n",
       "      <td>-0.275301</td>\n",
       "    </tr>\n",
       "    <tr>\n",
       "      <th>Chinese</th>\n",
       "      <td>0.059771</td>\n",
       "      <td>-0.275301</td>\n",
       "      <td>1.000000</td>\n",
       "    </tr>\n",
       "  </tbody>\n",
       "</table>\n",
       "</div>"
      ],
      "text/plain": [
       "           Python        En   Chinese\n",
       "Python   1.000000  0.114598  0.059771\n",
       "En       0.114598  1.000000 -0.275301\n",
       "Chinese  0.059771 -0.275301  1.000000"
      ]
     },
     "execution_count": 12,
     "metadata": {},
     "output_type": "execute_result"
    }
   ],
   "source": [
    "# 相关性系数\n",
    "df.corr()"
   ]
  },
  {
   "cell_type": "code",
   "execution_count": 14,
   "id": "25b711f0",
   "metadata": {
    "ExecuteTime": {
     "end_time": "2022-04-27T11:14:02.416960Z",
     "start_time": "2022-04-27T11:14:02.397822Z"
    }
   },
   "outputs": [
    {
     "data": {
      "text/html": [
       "<div>\n",
       "<style scoped>\n",
       "    .dataframe tbody tr th:only-of-type {\n",
       "        vertical-align: middle;\n",
       "    }\n",
       "\n",
       "    .dataframe tbody tr th {\n",
       "        vertical-align: top;\n",
       "    }\n",
       "\n",
       "    .dataframe thead th {\n",
       "        text-align: right;\n",
       "    }\n",
       "</style>\n",
       "<table border=\"1\" class=\"dataframe\">\n",
       "  <thead>\n",
       "    <tr style=\"text-align: right;\">\n",
       "      <th></th>\n",
       "      <th>Python</th>\n",
       "      <th>En</th>\n",
       "      <th>Chinese</th>\n",
       "      <th>Physic</th>\n",
       "    </tr>\n",
       "  </thead>\n",
       "  <tbody>\n",
       "    <tr>\n",
       "      <th>0</th>\n",
       "      <td>29</td>\n",
       "      <td>0</td>\n",
       "      <td>74</td>\n",
       "      <td>-20</td>\n",
       "    </tr>\n",
       "    <tr>\n",
       "      <th>1</th>\n",
       "      <td>137</td>\n",
       "      <td>136</td>\n",
       "      <td>44</td>\n",
       "      <td>-146</td>\n",
       "    </tr>\n",
       "    <tr>\n",
       "      <th>2</th>\n",
       "      <td>12</td>\n",
       "      <td>12</td>\n",
       "      <td>96</td>\n",
       "      <td>-84</td>\n",
       "    </tr>\n",
       "    <tr>\n",
       "      <th>3</th>\n",
       "      <td>66</td>\n",
       "      <td>127</td>\n",
       "      <td>62</td>\n",
       "      <td>-30</td>\n",
       "    </tr>\n",
       "    <tr>\n",
       "      <th>4</th>\n",
       "      <td>123</td>\n",
       "      <td>111</td>\n",
       "      <td>21</td>\n",
       "      <td>-137</td>\n",
       "    </tr>\n",
       "  </tbody>\n",
       "</table>\n",
       "</div>"
      ],
      "text/plain": [
       "   Python   En  Chinese  Physic\n",
       "0      29    0       74     -20\n",
       "1     137  136       44    -146\n",
       "2      12   12       96     -84\n",
       "3      66  127       62     -30\n",
       "4     123  111       21    -137"
      ]
     },
     "execution_count": 14,
     "metadata": {},
     "output_type": "execute_result"
    }
   ],
   "source": [
    "df['Physic'] = np.random.randint(-150,0,size = 50)\n",
    "df[:5]"
   ]
  },
  {
   "cell_type": "code",
   "execution_count": 15,
   "id": "c942f1c4",
   "metadata": {
    "ExecuteTime": {
     "end_time": "2022-04-27T11:17:14.714484Z",
     "start_time": "2022-04-27T11:17:14.695128Z"
    }
   },
   "outputs": [
    {
     "data": {
      "text/html": [
       "<div>\n",
       "<style scoped>\n",
       "    .dataframe tbody tr th:only-of-type {\n",
       "        vertical-align: middle;\n",
       "    }\n",
       "\n",
       "    .dataframe tbody tr th {\n",
       "        vertical-align: top;\n",
       "    }\n",
       "\n",
       "    .dataframe thead th {\n",
       "        text-align: right;\n",
       "    }\n",
       "</style>\n",
       "<table border=\"1\" class=\"dataframe\">\n",
       "  <thead>\n",
       "    <tr style=\"text-align: right;\">\n",
       "      <th></th>\n",
       "      <th>Python</th>\n",
       "      <th>En</th>\n",
       "      <th>Chinese</th>\n",
       "      <th>Physic</th>\n",
       "    </tr>\n",
       "  </thead>\n",
       "  <tbody>\n",
       "    <tr>\n",
       "      <th>Python</th>\n",
       "      <td>1.000000</td>\n",
       "      <td>0.114598</td>\n",
       "      <td>0.059771</td>\n",
       "      <td>0.088730</td>\n",
       "    </tr>\n",
       "    <tr>\n",
       "      <th>En</th>\n",
       "      <td>0.114598</td>\n",
       "      <td>1.000000</td>\n",
       "      <td>-0.275301</td>\n",
       "      <td>-0.034560</td>\n",
       "    </tr>\n",
       "    <tr>\n",
       "      <th>Chinese</th>\n",
       "      <td>0.059771</td>\n",
       "      <td>-0.275301</td>\n",
       "      <td>1.000000</td>\n",
       "      <td>0.170226</td>\n",
       "    </tr>\n",
       "    <tr>\n",
       "      <th>Physic</th>\n",
       "      <td>0.088730</td>\n",
       "      <td>-0.034560</td>\n",
       "      <td>0.170226</td>\n",
       "      <td>1.000000</td>\n",
       "    </tr>\n",
       "  </tbody>\n",
       "</table>\n",
       "</div>"
      ],
      "text/plain": [
       "           Python        En   Chinese    Physic\n",
       "Python   1.000000  0.114598  0.059771  0.088730\n",
       "En       0.114598  1.000000 -0.275301 -0.034560\n",
       "Chinese  0.059771 -0.275301  1.000000  0.170226\n",
       "Physic   0.088730 -0.034560  0.170226  1.000000"
      ]
     },
     "execution_count": 15,
     "metadata": {},
     "output_type": "execute_result"
    }
   ],
   "source": [
    "# 相关性系数范围-1 - 1\n",
    "# -1 表示完全负相关\n",
    "# 1 表示完全正相关\n",
    "# 0 表示不相关\n",
    "df.corr()"
   ]
  },
  {
   "cell_type": "code",
   "execution_count": 17,
   "id": "76bdd076",
   "metadata": {
    "ExecuteTime": {
     "end_time": "2022-04-27T11:18:11.628503Z",
     "start_time": "2022-04-27T11:18:11.608068Z"
    }
   },
   "outputs": [
    {
     "data": {
      "text/html": [
       "<div>\n",
       "<style scoped>\n",
       "    .dataframe tbody tr th:only-of-type {\n",
       "        vertical-align: middle;\n",
       "    }\n",
       "\n",
       "    .dataframe tbody tr th {\n",
       "        vertical-align: top;\n",
       "    }\n",
       "\n",
       "    .dataframe thead th {\n",
       "        text-align: right;\n",
       "    }\n",
       "</style>\n",
       "<table border=\"1\" class=\"dataframe\">\n",
       "  <thead>\n",
       "    <tr style=\"text-align: right;\">\n",
       "      <th></th>\n",
       "      <th>Python</th>\n",
       "      <th>En</th>\n",
       "      <th>Chinese</th>\n",
       "      <th>Physic</th>\n",
       "      <th>Math</th>\n",
       "    </tr>\n",
       "  </thead>\n",
       "  <tbody>\n",
       "    <tr>\n",
       "      <th>0</th>\n",
       "      <td>29</td>\n",
       "      <td>0</td>\n",
       "      <td>74</td>\n",
       "      <td>-20</td>\n",
       "      <td>37</td>\n",
       "    </tr>\n",
       "    <tr>\n",
       "      <th>1</th>\n",
       "      <td>137</td>\n",
       "      <td>136</td>\n",
       "      <td>44</td>\n",
       "      <td>-146</td>\n",
       "      <td>144</td>\n",
       "    </tr>\n",
       "    <tr>\n",
       "      <th>2</th>\n",
       "      <td>12</td>\n",
       "      <td>12</td>\n",
       "      <td>96</td>\n",
       "      <td>-84</td>\n",
       "      <td>8</td>\n",
       "    </tr>\n",
       "    <tr>\n",
       "      <th>3</th>\n",
       "      <td>66</td>\n",
       "      <td>127</td>\n",
       "      <td>62</td>\n",
       "      <td>-30</td>\n",
       "      <td>70</td>\n",
       "    </tr>\n",
       "    <tr>\n",
       "      <th>4</th>\n",
       "      <td>123</td>\n",
       "      <td>111</td>\n",
       "      <td>21</td>\n",
       "      <td>-137</td>\n",
       "      <td>114</td>\n",
       "    </tr>\n",
       "  </tbody>\n",
       "</table>\n",
       "</div>"
      ],
      "text/plain": [
       "   Python   En  Chinese  Physic  Math\n",
       "0      29    0       74     -20    37\n",
       "1     137  136       44    -146   144\n",
       "2      12   12       96     -84     8\n",
       "3      66  127       62     -30    70\n",
       "4     123  111       21    -137   114"
      ]
     },
     "execution_count": 17,
     "metadata": {},
     "output_type": "execute_result"
    }
   ],
   "source": [
    "df['Math'] = df['Python'].map(lambda x : x + np.random.randint(-10,10,size = 1)[0])\n",
    "df[:5]"
   ]
  },
  {
   "cell_type": "code",
   "execution_count": 21,
   "id": "117bf30c",
   "metadata": {
    "ExecuteTime": {
     "end_time": "2022-04-27T11:27:29.586324Z",
     "start_time": "2022-04-27T11:27:29.574275Z"
    }
   },
   "outputs": [],
   "source": [
    "new_df = df.corr()"
   ]
  },
  {
   "cell_type": "code",
   "execution_count": 20,
   "id": "5b020000",
   "metadata": {
    "ExecuteTime": {
     "end_time": "2022-04-27T11:24:41.346492Z",
     "start_time": "2022-04-27T11:24:41.314992Z"
    }
   },
   "outputs": [
    {
     "ename": "ValueError",
     "evalue": "Index contains duplicate entries, cannot reshape",
     "output_type": "error",
     "traceback": [
      "\u001b[0;31m---------------------------------------------------------------------------\u001b[0m",
      "\u001b[0;31mValueError\u001b[0m                                Traceback (most recent call last)",
      "\u001b[0;32m/var/folders/jt/qjpzhhld5znczz2yp8zyt7xw0000gn/T/ipykernel_80307/2038583277.py\u001b[0m in \u001b[0;36m<module>\u001b[0;34m\u001b[0m\n\u001b[1;32m      2\u001b[0m \u001b[0;32mimport\u001b[0m \u001b[0mseaborn\u001b[0m \u001b[0;32mas\u001b[0m \u001b[0msns\u001b[0m\u001b[0;34m\u001b[0m\u001b[0;34m\u001b[0m\u001b[0m\n\u001b[1;32m      3\u001b[0m \u001b[0msns\u001b[0m\u001b[0;34m.\u001b[0m\u001b[0mset\u001b[0m\u001b[0;34m(\u001b[0m\u001b[0;34m)\u001b[0m\u001b[0;34m\u001b[0m\u001b[0;34m\u001b[0m\u001b[0m\n\u001b[0;32m----> 4\u001b[0;31m \u001b[0mdfs\u001b[0m \u001b[0;34m=\u001b[0m \u001b[0mdf\u001b[0m\u001b[0;34m.\u001b[0m\u001b[0mpivot\u001b[0m\u001b[0;34m(\u001b[0m\u001b[0;34m\"Python\"\u001b[0m\u001b[0;34m,\u001b[0m \u001b[0;34m'En'\u001b[0m\u001b[0;34m,\u001b[0m\u001b[0;34m'Chinese'\u001b[0m\u001b[0;34m)\u001b[0m\u001b[0;34m\u001b[0m\u001b[0;34m\u001b[0m\u001b[0m\n\u001b[0m\u001b[1;32m      5\u001b[0m \u001b[0;31m# 绘制x-y-z的热力图，比如 年-月-销量 的热力图\u001b[0m\u001b[0;34m\u001b[0m\u001b[0;34m\u001b[0m\u001b[0m\n\u001b[1;32m      6\u001b[0m \u001b[0mf\u001b[0m\u001b[0;34m,\u001b[0m \u001b[0max\u001b[0m \u001b[0;34m=\u001b[0m \u001b[0mplt\u001b[0m\u001b[0;34m.\u001b[0m\u001b[0msubplots\u001b[0m\u001b[0;34m(\u001b[0m\u001b[0mfigsize\u001b[0m\u001b[0;34m=\u001b[0m\u001b[0;34m(\u001b[0m\u001b[0;36m9\u001b[0m\u001b[0;34m,\u001b[0m \u001b[0;36m6\u001b[0m\u001b[0;34m)\u001b[0m\u001b[0;34m)\u001b[0m\u001b[0;34m\u001b[0m\u001b[0;34m\u001b[0m\u001b[0m\n",
      "\u001b[0;32m/opt/anaconda3/lib/python3.9/site-packages/pandas/core/frame.py\u001b[0m in \u001b[0;36mpivot\u001b[0;34m(self, index, columns, values)\u001b[0m\n\u001b[1;32m   7791\u001b[0m         \u001b[0;32mfrom\u001b[0m \u001b[0mpandas\u001b[0m\u001b[0;34m.\u001b[0m\u001b[0mcore\u001b[0m\u001b[0;34m.\u001b[0m\u001b[0mreshape\u001b[0m\u001b[0;34m.\u001b[0m\u001b[0mpivot\u001b[0m \u001b[0;32mimport\u001b[0m \u001b[0mpivot\u001b[0m\u001b[0;34m\u001b[0m\u001b[0;34m\u001b[0m\u001b[0m\n\u001b[1;32m   7792\u001b[0m \u001b[0;34m\u001b[0m\u001b[0m\n\u001b[0;32m-> 7793\u001b[0;31m         \u001b[0;32mreturn\u001b[0m \u001b[0mpivot\u001b[0m\u001b[0;34m(\u001b[0m\u001b[0mself\u001b[0m\u001b[0;34m,\u001b[0m \u001b[0mindex\u001b[0m\u001b[0;34m=\u001b[0m\u001b[0mindex\u001b[0m\u001b[0;34m,\u001b[0m \u001b[0mcolumns\u001b[0m\u001b[0;34m=\u001b[0m\u001b[0mcolumns\u001b[0m\u001b[0;34m,\u001b[0m \u001b[0mvalues\u001b[0m\u001b[0;34m=\u001b[0m\u001b[0mvalues\u001b[0m\u001b[0;34m)\u001b[0m\u001b[0;34m\u001b[0m\u001b[0;34m\u001b[0m\u001b[0m\n\u001b[0m\u001b[1;32m   7794\u001b[0m \u001b[0;34m\u001b[0m\u001b[0m\n\u001b[1;32m   7795\u001b[0m     _shared_docs[\n",
      "\u001b[0;32m/opt/anaconda3/lib/python3.9/site-packages/pandas/core/reshape/pivot.py\u001b[0m in \u001b[0;36mpivot\u001b[0;34m(data, index, columns, values)\u001b[0m\n\u001b[1;32m    515\u001b[0m         \u001b[0;32melse\u001b[0m\u001b[0;34m:\u001b[0m\u001b[0;34m\u001b[0m\u001b[0;34m\u001b[0m\u001b[0m\n\u001b[1;32m    516\u001b[0m             \u001b[0mindexed\u001b[0m \u001b[0;34m=\u001b[0m \u001b[0mdata\u001b[0m\u001b[0;34m.\u001b[0m\u001b[0m_constructor_sliced\u001b[0m\u001b[0;34m(\u001b[0m\u001b[0mdata\u001b[0m\u001b[0;34m[\u001b[0m\u001b[0mvalues\u001b[0m\u001b[0;34m]\u001b[0m\u001b[0;34m.\u001b[0m\u001b[0m_values\u001b[0m\u001b[0;34m,\u001b[0m \u001b[0mindex\u001b[0m\u001b[0;34m=\u001b[0m\u001b[0mmultiindex\u001b[0m\u001b[0;34m)\u001b[0m\u001b[0;34m\u001b[0m\u001b[0;34m\u001b[0m\u001b[0m\n\u001b[0;32m--> 517\u001b[0;31m     \u001b[0;32mreturn\u001b[0m \u001b[0mindexed\u001b[0m\u001b[0;34m.\u001b[0m\u001b[0munstack\u001b[0m\u001b[0;34m(\u001b[0m\u001b[0mcolumns_listlike\u001b[0m\u001b[0;34m)\u001b[0m\u001b[0;34m\u001b[0m\u001b[0;34m\u001b[0m\u001b[0m\n\u001b[0m\u001b[1;32m    518\u001b[0m \u001b[0;34m\u001b[0m\u001b[0m\n\u001b[1;32m    519\u001b[0m \u001b[0;34m\u001b[0m\u001b[0m\n",
      "\u001b[0;32m/opt/anaconda3/lib/python3.9/site-packages/pandas/core/series.py\u001b[0m in \u001b[0;36munstack\u001b[0;34m(self, level, fill_value)\u001b[0m\n\u001b[1;32m   4079\u001b[0m         \u001b[0;32mfrom\u001b[0m \u001b[0mpandas\u001b[0m\u001b[0;34m.\u001b[0m\u001b[0mcore\u001b[0m\u001b[0;34m.\u001b[0m\u001b[0mreshape\u001b[0m\u001b[0;34m.\u001b[0m\u001b[0mreshape\u001b[0m \u001b[0;32mimport\u001b[0m \u001b[0munstack\u001b[0m\u001b[0;34m\u001b[0m\u001b[0;34m\u001b[0m\u001b[0m\n\u001b[1;32m   4080\u001b[0m \u001b[0;34m\u001b[0m\u001b[0m\n\u001b[0;32m-> 4081\u001b[0;31m         \u001b[0;32mreturn\u001b[0m \u001b[0munstack\u001b[0m\u001b[0;34m(\u001b[0m\u001b[0mself\u001b[0m\u001b[0;34m,\u001b[0m \u001b[0mlevel\u001b[0m\u001b[0;34m,\u001b[0m \u001b[0mfill_value\u001b[0m\u001b[0;34m)\u001b[0m\u001b[0;34m\u001b[0m\u001b[0;34m\u001b[0m\u001b[0m\n\u001b[0m\u001b[1;32m   4082\u001b[0m \u001b[0;34m\u001b[0m\u001b[0m\n\u001b[1;32m   4083\u001b[0m     \u001b[0;31m# ----------------------------------------------------------------------\u001b[0m\u001b[0;34m\u001b[0m\u001b[0;34m\u001b[0m\u001b[0m\n",
      "\u001b[0;32m/opt/anaconda3/lib/python3.9/site-packages/pandas/core/reshape/reshape.py\u001b[0m in \u001b[0;36munstack\u001b[0;34m(obj, level, fill_value)\u001b[0m\n\u001b[1;32m    458\u001b[0m         \u001b[0;32mif\u001b[0m \u001b[0mis_1d_only_ea_dtype\u001b[0m\u001b[0;34m(\u001b[0m\u001b[0mobj\u001b[0m\u001b[0;34m.\u001b[0m\u001b[0mdtype\u001b[0m\u001b[0;34m)\u001b[0m\u001b[0;34m:\u001b[0m\u001b[0;34m\u001b[0m\u001b[0;34m\u001b[0m\u001b[0m\n\u001b[1;32m    459\u001b[0m             \u001b[0;32mreturn\u001b[0m \u001b[0m_unstack_extension_series\u001b[0m\u001b[0;34m(\u001b[0m\u001b[0mobj\u001b[0m\u001b[0;34m,\u001b[0m \u001b[0mlevel\u001b[0m\u001b[0;34m,\u001b[0m \u001b[0mfill_value\u001b[0m\u001b[0;34m)\u001b[0m\u001b[0;34m\u001b[0m\u001b[0;34m\u001b[0m\u001b[0m\n\u001b[0;32m--> 460\u001b[0;31m         unstacker = _Unstacker(\n\u001b[0m\u001b[1;32m    461\u001b[0m             \u001b[0mobj\u001b[0m\u001b[0;34m.\u001b[0m\u001b[0mindex\u001b[0m\u001b[0;34m,\u001b[0m \u001b[0mlevel\u001b[0m\u001b[0;34m=\u001b[0m\u001b[0mlevel\u001b[0m\u001b[0;34m,\u001b[0m \u001b[0mconstructor\u001b[0m\u001b[0;34m=\u001b[0m\u001b[0mobj\u001b[0m\u001b[0;34m.\u001b[0m\u001b[0m_constructor_expanddim\u001b[0m\u001b[0;34m\u001b[0m\u001b[0;34m\u001b[0m\u001b[0m\n\u001b[1;32m    462\u001b[0m         )\n",
      "\u001b[0;32m/opt/anaconda3/lib/python3.9/site-packages/pandas/core/reshape/reshape.py\u001b[0m in \u001b[0;36m__init__\u001b[0;34m(self, index, level, constructor)\u001b[0m\n\u001b[1;32m    131\u001b[0m             \u001b[0;32mraise\u001b[0m \u001b[0mValueError\u001b[0m\u001b[0;34m(\u001b[0m\u001b[0;34m\"Unstacked DataFrame is too big, causing int32 overflow\"\u001b[0m\u001b[0;34m)\u001b[0m\u001b[0;34m\u001b[0m\u001b[0;34m\u001b[0m\u001b[0m\n\u001b[1;32m    132\u001b[0m \u001b[0;34m\u001b[0m\u001b[0m\n\u001b[0;32m--> 133\u001b[0;31m         \u001b[0mself\u001b[0m\u001b[0;34m.\u001b[0m\u001b[0m_make_selectors\u001b[0m\u001b[0;34m(\u001b[0m\u001b[0;34m)\u001b[0m\u001b[0;34m\u001b[0m\u001b[0;34m\u001b[0m\u001b[0m\n\u001b[0m\u001b[1;32m    134\u001b[0m \u001b[0;34m\u001b[0m\u001b[0m\n\u001b[1;32m    135\u001b[0m     \u001b[0;34m@\u001b[0m\u001b[0mcache_readonly\u001b[0m\u001b[0;34m\u001b[0m\u001b[0;34m\u001b[0m\u001b[0m\n",
      "\u001b[0;32m/opt/anaconda3/lib/python3.9/site-packages/pandas/core/reshape/reshape.py\u001b[0m in \u001b[0;36m_make_selectors\u001b[0;34m(self)\u001b[0m\n\u001b[1;32m    183\u001b[0m \u001b[0;34m\u001b[0m\u001b[0m\n\u001b[1;32m    184\u001b[0m         \u001b[0;32mif\u001b[0m \u001b[0mmask\u001b[0m\u001b[0;34m.\u001b[0m\u001b[0msum\u001b[0m\u001b[0;34m(\u001b[0m\u001b[0;34m)\u001b[0m \u001b[0;34m<\u001b[0m \u001b[0mlen\u001b[0m\u001b[0;34m(\u001b[0m\u001b[0mself\u001b[0m\u001b[0;34m.\u001b[0m\u001b[0mindex\u001b[0m\u001b[0;34m)\u001b[0m\u001b[0;34m:\u001b[0m\u001b[0;34m\u001b[0m\u001b[0;34m\u001b[0m\u001b[0m\n\u001b[0;32m--> 185\u001b[0;31m             \u001b[0;32mraise\u001b[0m \u001b[0mValueError\u001b[0m\u001b[0;34m(\u001b[0m\u001b[0;34m\"Index contains duplicate entries, cannot reshape\"\u001b[0m\u001b[0;34m)\u001b[0m\u001b[0;34m\u001b[0m\u001b[0;34m\u001b[0m\u001b[0m\n\u001b[0m\u001b[1;32m    186\u001b[0m \u001b[0;34m\u001b[0m\u001b[0m\n\u001b[1;32m    187\u001b[0m         \u001b[0mself\u001b[0m\u001b[0;34m.\u001b[0m\u001b[0mgroup_index\u001b[0m \u001b[0;34m=\u001b[0m \u001b[0mcomp_index\u001b[0m\u001b[0;34m\u001b[0m\u001b[0;34m\u001b[0m\u001b[0m\n",
      "\u001b[0;31mValueError\u001b[0m: Index contains duplicate entries, cannot reshape"
     ]
    }
   ],
   "source": [
    "# import matplotlib.pyplot as plt\n",
    "# import seaborn as sns\n",
    "# sns.set()\n",
    "# dfs = df.pivot(\"Python\", 'En','Chinese')\n",
    "# # 绘制x-y-z的热力图，比如 年-月-销量 的热力图\n",
    "# f, ax = plt.subplots(figsize=(9, 6))\n",
    "# #绘制热力图，还要将数值写到热力图上\n",
    "# sns.heatmap(dfs, annot=True, fmt=\"d\", ax=ax)\n",
    "# #设置坐标字体方向\n",
    "# label_y = ax.get_yticklabels()\n",
    "# plt.setp(label_y, rotation=360, horizontalalignment='right')\n",
    "# label_x = ax.get_xticklabels()\n",
    "# plt.setp(label_x, rotation=45, horizontalalignment='right')\n",
    "# plt.show()"
   ]
  },
  {
   "cell_type": "code",
   "execution_count": 26,
   "id": "df451df6",
   "metadata": {
    "ExecuteTime": {
     "end_time": "2022-04-27T11:29:39.188459Z",
     "start_time": "2022-04-27T11:29:39.171626Z"
    }
   },
   "outputs": [
    {
     "data": {
      "text/plain": [
       "['Accent',\n",
       " 'Accent_r',\n",
       " 'Blues',\n",
       " 'Blues_r',\n",
       " 'BrBG',\n",
       " 'BrBG_r',\n",
       " 'BuGn',\n",
       " 'BuGn_r',\n",
       " 'BuPu',\n",
       " 'BuPu_r',\n",
       " 'CMRmap',\n",
       " 'CMRmap_r',\n",
       " 'Dark2',\n",
       " 'Dark2_r',\n",
       " 'GnBu',\n",
       " 'GnBu_r',\n",
       " 'Greens',\n",
       " 'Greens_r',\n",
       " 'Greys',\n",
       " 'Greys_r',\n",
       " 'OrRd',\n",
       " 'OrRd_r',\n",
       " 'Oranges',\n",
       " 'Oranges_r',\n",
       " 'PRGn',\n",
       " 'PRGn_r',\n",
       " 'Paired',\n",
       " 'Paired_r',\n",
       " 'Pastel1',\n",
       " 'Pastel1_r',\n",
       " 'Pastel2',\n",
       " 'Pastel2_r',\n",
       " 'PiYG',\n",
       " 'PiYG_r',\n",
       " 'PuBu',\n",
       " 'PuBuGn',\n",
       " 'PuBuGn_r',\n",
       " 'PuBu_r',\n",
       " 'PuOr',\n",
       " 'PuOr_r',\n",
       " 'PuRd',\n",
       " 'PuRd_r',\n",
       " 'Purples',\n",
       " 'Purples_r',\n",
       " 'RdBu',\n",
       " 'RdBu_r',\n",
       " 'RdGy',\n",
       " 'RdGy_r',\n",
       " 'RdPu',\n",
       " 'RdPu_r',\n",
       " 'RdYlBu',\n",
       " 'RdYlBu_r',\n",
       " 'RdYlGn',\n",
       " 'RdYlGn_r',\n",
       " 'Reds',\n",
       " 'Reds_r',\n",
       " 'Set1',\n",
       " 'Set1_r',\n",
       " 'Set2',\n",
       " 'Set2_r',\n",
       " 'Set3',\n",
       " 'Set3_r',\n",
       " 'Spectral',\n",
       " 'Spectral_r',\n",
       " 'Wistia',\n",
       " 'Wistia_r',\n",
       " 'YlGn',\n",
       " 'YlGnBu',\n",
       " 'YlGnBu_r',\n",
       " 'YlGn_r',\n",
       " 'YlOrBr',\n",
       " 'YlOrBr_r',\n",
       " 'YlOrRd',\n",
       " 'YlOrRd_r',\n",
       " 'afmhot',\n",
       " 'afmhot_r',\n",
       " 'autumn',\n",
       " 'autumn_r',\n",
       " 'binary',\n",
       " 'binary_r',\n",
       " 'bone',\n",
       " 'bone_r',\n",
       " 'brg',\n",
       " 'brg_r',\n",
       " 'bwr',\n",
       " 'bwr_r',\n",
       " 'cividis',\n",
       " 'cividis_r',\n",
       " 'cool',\n",
       " 'cool_r',\n",
       " 'coolwarm',\n",
       " 'coolwarm_r',\n",
       " 'copper',\n",
       " 'copper_r',\n",
       " 'crest',\n",
       " 'crest_r',\n",
       " 'cubehelix',\n",
       " 'cubehelix_r',\n",
       " 'flag',\n",
       " 'flag_r',\n",
       " 'flare',\n",
       " 'flare_r',\n",
       " 'gist_earth',\n",
       " 'gist_earth_r',\n",
       " 'gist_gray',\n",
       " 'gist_gray_r',\n",
       " 'gist_heat',\n",
       " 'gist_heat_r',\n",
       " 'gist_ncar',\n",
       " 'gist_ncar_r',\n",
       " 'gist_rainbow',\n",
       " 'gist_rainbow_r',\n",
       " 'gist_stern',\n",
       " 'gist_stern_r',\n",
       " 'gist_yarg',\n",
       " 'gist_yarg_r',\n",
       " 'gnuplot',\n",
       " 'gnuplot2',\n",
       " 'gnuplot2_r',\n",
       " 'gnuplot_r',\n",
       " 'gray',\n",
       " 'gray_r',\n",
       " 'hot',\n",
       " 'hot_r',\n",
       " 'hsv',\n",
       " 'hsv_r',\n",
       " 'icefire',\n",
       " 'icefire_r',\n",
       " 'inferno',\n",
       " 'inferno_r',\n",
       " 'jet',\n",
       " 'jet_r',\n",
       " 'magma',\n",
       " 'magma_r',\n",
       " 'mako',\n",
       " 'mako_r',\n",
       " 'nipy_spectral',\n",
       " 'nipy_spectral_r',\n",
       " 'ocean',\n",
       " 'ocean_r',\n",
       " 'pink',\n",
       " 'pink_r',\n",
       " 'plasma',\n",
       " 'plasma_r',\n",
       " 'prism',\n",
       " 'prism_r',\n",
       " 'rainbow',\n",
       " 'rainbow_r',\n",
       " 'rocket',\n",
       " 'rocket_r',\n",
       " 'seismic',\n",
       " 'seismic_r',\n",
       " 'spring',\n",
       " 'spring_r',\n",
       " 'summer',\n",
       " 'summer_r',\n",
       " 'tab10',\n",
       " 'tab10_r',\n",
       " 'tab20',\n",
       " 'tab20_r',\n",
       " 'tab20b',\n",
       " 'tab20b_r',\n",
       " 'tab20c',\n",
       " 'tab20c_r',\n",
       " 'terrain',\n",
       " 'terrain_r',\n",
       " 'turbo',\n",
       " 'turbo_r',\n",
       " 'twilight',\n",
       " 'twilight_r',\n",
       " 'twilight_shifted',\n",
       " 'twilight_shifted_r',\n",
       " 'viridis',\n",
       " 'viridis_r',\n",
       " 'vlag',\n",
       " 'vlag_r',\n",
       " 'winter',\n",
       " 'winter_r']"
      ]
     },
     "execution_count": 26,
     "metadata": {},
     "output_type": "execute_result"
    }
   ],
   "source": [
    "plt.colormaps()"
   ]
  },
  {
   "cell_type": "code",
   "execution_count": 28,
   "id": "68aad389",
   "metadata": {
    "ExecuteTime": {
     "end_time": "2022-04-27T11:30:30.917859Z",
     "start_time": "2022-04-27T11:30:30.767394Z"
    }
   },
   "outputs": [
    {
     "data": {
      "image/png": "[encoded data removed]",
      "text/plain": [
       "<Figure size 864x648 with 2 Axes>"
      ]
     },
     "metadata": {},
     "output_type": "display_data"
    }
   ],
   "source": [
    "import seaborn as sns  \n",
    "#引入seaborn库\n",
    "plt.figure(figsize=(12,9))\n",
    "sns.heatmap(new_df,annot=True, vmax=1, square=True,cmap='winter_r')#绘制new_df的矩阵热力图\n",
    "plt.show()#显示图片"
   ]
  },
  {
   "cell_type": "code",
   "execution_count": 30,
   "id": "bd1b039b",
   "metadata": {
    "ExecuteTime": {
     "end_time": "2022-04-27T11:31:13.500842Z",
     "start_time": "2022-04-27T11:31:13.480899Z"
    }
   },
   "outputs": [
    {
     "data": {
      "text/html": [
       "<div>\n",
       "<style scoped>\n",
       "    .dataframe tbody tr th:only-of-type {\n",
       "        vertical-align: middle;\n",
       "    }\n",
       "\n",
       "    .dataframe tbody tr th {\n",
       "        vertical-align: top;\n",
       "    }\n",
       "\n",
       "    .dataframe thead th {\n",
       "        text-align: right;\n",
       "    }\n",
       "</style>\n",
       "<table border=\"1\" class=\"dataframe\">\n",
       "  <thead>\n",
       "    <tr style=\"text-align: right;\">\n",
       "      <th></th>\n",
       "      <th>Python</th>\n",
       "      <th>En</th>\n",
       "      <th>Chinese</th>\n",
       "      <th>Physic</th>\n",
       "      <th>Math</th>\n",
       "      <th>Chem</th>\n",
       "    </tr>\n",
       "  </thead>\n",
       "  <tbody>\n",
       "    <tr>\n",
       "      <th>0</th>\n",
       "      <td>29</td>\n",
       "      <td>0</td>\n",
       "      <td>74</td>\n",
       "      <td>-20</td>\n",
       "      <td>37</td>\n",
       "      <td>-39</td>\n",
       "    </tr>\n",
       "    <tr>\n",
       "      <th>1</th>\n",
       "      <td>137</td>\n",
       "      <td>136</td>\n",
       "      <td>44</td>\n",
       "      <td>-146</td>\n",
       "      <td>144</td>\n",
       "      <td>-130</td>\n",
       "    </tr>\n",
       "    <tr>\n",
       "      <th>2</th>\n",
       "      <td>12</td>\n",
       "      <td>12</td>\n",
       "      <td>96</td>\n",
       "      <td>-84</td>\n",
       "      <td>8</td>\n",
       "      <td>-14</td>\n",
       "    </tr>\n",
       "    <tr>\n",
       "      <th>3</th>\n",
       "      <td>66</td>\n",
       "      <td>127</td>\n",
       "      <td>62</td>\n",
       "      <td>-30</td>\n",
       "      <td>70</td>\n",
       "      <td>-57</td>\n",
       "    </tr>\n",
       "    <tr>\n",
       "      <th>4</th>\n",
       "      <td>123</td>\n",
       "      <td>111</td>\n",
       "      <td>21</td>\n",
       "      <td>-137</td>\n",
       "      <td>114</td>\n",
       "      <td>-122</td>\n",
       "    </tr>\n",
       "  </tbody>\n",
       "</table>\n",
       "</div>"
      ],
      "text/plain": [
       "   Python   En  Chinese  Physic  Math  Chem\n",
       "0      29    0       74     -20    37   -39\n",
       "1     137  136       44    -146   144  -130\n",
       "2      12   12       96     -84     8   -14\n",
       "3      66  127       62     -30    70   -57\n",
       "4     123  111       21    -137   114  -122"
      ]
     },
     "execution_count": 30,
     "metadata": {},
     "output_type": "execute_result"
    }
   ],
   "source": [
    "df['Chem'] = df['Python'].map(lambda x : x * -1 + np.random.randint(-10,10,size = 1)[0])\n",
    "df[:5]"
   ]
  },
  {
   "cell_type": "code",
   "execution_count": 32,
   "id": "30276b5b",
   "metadata": {
    "ExecuteTime": {
     "end_time": "2022-04-27T11:32:36.418638Z",
     "start_time": "2022-04-27T11:32:36.230818Z"
    }
   },
   "outputs": [
    {
     "data": {
      "image/png": "[encoded data removed]",
      "text/plain": [
       "<Figure size 864x648 with 2 Axes>"
      ]
     },
     "metadata": {},
     "output_type": "display_data"
    }
   ],
   "source": [
    "new_df = df.corr()\n",
    "plt.figure(figsize=(12,9))\n",
    "sns.heatmap(new_df,annot=True, vmax=1, square=True,cmap='autumn')#绘制new_df的矩阵热力图\n",
    "plt.show()#显示图片"
   ]
  },
  {
   "cell_type": "markdown",
   "id": "f9a9ca1f",
   "metadata": {},
   "source": [
    "# PCA降维"
   ]
  },
  {
   "cell_type": "code",
   "execution_count": 33,
   "id": "9378bc7d",
   "metadata": {
    "ExecuteTime": {
     "end_time": "2022-04-27T11:33:28.392721Z",
     "start_time": "2022-04-27T11:33:28.293529Z"
    }
   },
   "outputs": [],
   "source": [
    "from sklearn.decomposition import PCA\n",
    "from sklearn import datasets"
   ]
  },
  {
   "cell_type": "code",
   "execution_count": 34,
   "id": "81903b6f",
   "metadata": {
    "ExecuteTime": {
     "end_time": "2022-04-27T11:33:40.130683Z",
     "start_time": "2022-04-27T11:33:40.117424Z"
    }
   },
   "outputs": [
    {
     "data": {
      "text/plain": [
       "array([[5.1, 3.5, 1.4, 0.2],\n",
       "       [4.9, 3. , 1.4, 0.2],\n",
       "       [4.7, 3.2, 1.3, 0.2],\n",
       "       [4.6, 3.1, 1.5, 0.2],\n",
       "       [5. , 3.6, 1.4, 0.2]])"
      ]
     },
     "metadata": {},
     "output_type": "display_data"
    }
   ],
   "source": [
    "# 物理意义的特征\n",
    "X,y = datasets.load_iris(return_X_y=1)\n",
    "display(X[:5])"
   ]
  },
  {
   "cell_type": "code",
   "execution_count": 35,
   "id": "6447e7b0",
   "metadata": {
    "ExecuteTime": {
     "end_time": "2022-04-27T11:33:51.453507Z",
     "start_time": "2022-04-27T11:33:51.445291Z"
    }
   },
   "outputs": [
    {
     "data": {
      "text/plain": [
       "(150, 4)"
      ]
     },
     "execution_count": 35,
     "metadata": {},
     "output_type": "execute_result"
    }
   ],
   "source": [
    "X.shape"
   ]
  },
  {
   "cell_type": "code",
   "execution_count": 36,
   "id": "dc270349",
   "metadata": {
    "ExecuteTime": {
     "end_time": "2022-04-27T11:34:14.451673Z",
     "start_time": "2022-04-27T11:34:14.432775Z"
    }
   },
   "outputs": [
    {
     "data": {
      "text/plain": [
       "array([[-1.30533786,  0.64836932, -0.09981716],\n",
       "       [-1.31993521, -0.35930856, -0.75257299],\n",
       "       [-1.40496732, -0.29424412,  0.0640073 ],\n",
       "       [-1.33510889, -0.64613986,  0.11284924],\n",
       "       [-1.32702321,  0.6633044 ,  0.32210314]])"
      ]
     },
     "execution_count": 36,
     "metadata": {},
     "output_type": "execute_result"
    }
   ],
   "source": [
    "# 特征，还有物理意义吗？\n",
    "# 足够了，95% 降维保留95%重要性的特征\n",
    "pca = PCA(n_components = 0.98,whiten = True)\n",
    "X_pca = pca.fit_transform(X)\n",
    "X_pca[:5]"
   ]
  },
  {
   "cell_type": "markdown",
   "id": "a0fcc516",
   "metadata": {},
   "source": [
    "# PCA代码实现（特征值特征向量）"
   ]
  },
  {
   "cell_type": "code",
   "execution_count": 37,
   "id": "5888a4c4",
   "metadata": {
    "ExecuteTime": {
     "end_time": "2022-04-27T11:34:59.261719Z",
     "start_time": "2022-04-27T11:34:59.248472Z"
    }
   },
   "outputs": [
    {
     "data": {
      "text/plain": [
       "array([4.22824171, 0.24267075, 0.0782095 ])"
      ]
     },
     "execution_count": 37,
     "metadata": {},
     "output_type": "execute_result"
    }
   ],
   "source": [
    "pca.explained_variance_"
   ]
  },
  {
   "cell_type": "code",
   "execution_count": 38,
   "id": "0adc35cc",
   "metadata": {
    "ExecuteTime": {
     "end_time": "2022-04-27T11:36:59.573840Z",
     "start_time": "2022-04-27T11:36:59.553567Z"
    }
   },
   "outputs": [
    {
     "data": {
      "text/plain": [
       "array([[-1.30533786, -0.64836932, -0.09981716],\n",
       "       [-1.31993521,  0.35930856, -0.75257299],\n",
       "       [-1.40496732,  0.29424412,  0.0640073 ],\n",
       "       [-1.33510889,  0.64613986,  0.11284924],\n",
       "       [-1.32702321, -0.6633044 ,  0.32210314]])"
      ]
     },
     "execution_count": 38,
     "metadata": {},
     "output_type": "execute_result"
    }
   ],
   "source": [
    "# 1、去中心化(每一列都减去平均值)\n",
    "B = X - X.mean(axis = 0)\n",
    "\n",
    "# 2、协方差\n",
    "V = np.cov(B,rowvar = False, bias = False)\n",
    "\n",
    "# 3 特征值和特征向量（线性代数）\n",
    "eigen,ev = np.linalg.eig(V)\n",
    "\n",
    "# 4、特征值和特征向量计算\n",
    "cond = (eigen/eigen.sum()).cumsum() >= 0.98\n",
    "# print((eigen/eigen.sum()).cumsum())\n",
    "# print(cond)\n",
    "index = cond.argmax() + 1\n",
    "ev = ev[:,:index] # 切片，保留特征值对应的特征向量\n",
    "\n",
    "# 5、进行矩阵乘法(空间转换)\n",
    "pca_result = B.dot(ev)\n",
    "pca_result[:5]\n",
    "\n",
    "# 6、进行标准化\n",
    "pca_result = (pca_result - pca_result.mean(axis = 0))/pca_result.std(axis=0,ddof = 1)\n",
    "pca_result[:5]"
   ]
  },
  {
   "cell_type": "code",
   "execution_count": 39,
   "id": "43c58c08",
   "metadata": {
    "ExecuteTime": {
     "end_time": "2022-04-27T11:37:12.028188Z",
     "start_time": "2022-04-27T11:37:12.014573Z"
    }
   },
   "outputs": [
    {
     "data": {
      "text/plain": [
       "array([[-1.30533786,  0.64836932, -0.09981716],\n",
       "       [-1.31993521, -0.35930856, -0.75257299],\n",
       "       [-1.40496732, -0.29424412,  0.0640073 ],\n",
       "       [-1.33510889, -0.64613986,  0.11284924],\n",
       "       [-1.32702321,  0.6633044 ,  0.32210314]])"
      ]
     },
     "execution_count": 39,
     "metadata": {},
     "output_type": "execute_result"
    }
   ],
   "source": [
    "X_pca[:5]"
   ]
  },
  {
   "cell_type": "code",
   "execution_count": 40,
   "id": "f5738d76",
   "metadata": {
    "ExecuteTime": {
     "end_time": "2022-04-27T11:37:35.366288Z",
     "start_time": "2022-04-27T11:37:35.356110Z"
    }
   },
   "outputs": [
    {
     "data": {
      "text/plain": [
       "array([ 8, 76,  4, 92, 79, 81, 40, 54, 27, 41, 53, 39, 26, 83, 70, 66, 85,\n",
       "       82, 40, 49])"
      ]
     },
     "execution_count": 40,
     "metadata": {},
     "output_type": "execute_result"
    }
   ],
   "source": [
    "C = np.random.randint(0,100,size = 20)\n",
    "C"
   ]
  },
  {
   "cell_type": "code",
   "execution_count": 41,
   "id": "3b0846f2",
   "metadata": {
    "ExecuteTime": {
     "end_time": "2022-04-27T11:37:52.487810Z",
     "start_time": "2022-04-27T11:37:52.475097Z"
    }
   },
   "outputs": [
    {
     "data": {
      "text/plain": [
       "659.8875"
      ]
     },
     "execution_count": 41,
     "metadata": {},
     "output_type": "execute_result"
    }
   ],
   "source": [
    "np.var(C)"
   ]
  },
  {
   "cell_type": "code",
   "execution_count": 42,
   "id": "a3e77657",
   "metadata": {
    "ExecuteTime": {
     "end_time": "2022-04-27T11:38:19.153134Z",
     "start_time": "2022-04-27T11:38:19.139588Z"
    }
   },
   "outputs": [
    {
     "data": {
      "text/plain": [
       "659.8875"
      ]
     },
     "execution_count": 42,
     "metadata": {},
     "output_type": "execute_result"
    }
   ],
   "source": [
    "((C - C.mean())**2).mean()"
   ]
  },
  {
   "cell_type": "markdown",
   "id": "6b80ebd1",
   "metadata": {},
   "source": [
    "# PCA代码实现（奇异值分解）"
   ]
  },
  {
   "cell_type": "code",
   "execution_count": 43,
   "id": "3d78e24d",
   "metadata": {
    "ExecuteTime": {
     "end_time": "2022-04-27T11:48:09.030553Z",
     "start_time": "2022-04-27T11:48:09.007109Z"
    }
   },
   "outputs": [
    {
     "data": {
      "text/plain": [
       "array([[-1.30533786, -0.64836932,  0.09981716],\n",
       "       [-1.31993521,  0.35930856,  0.75257299],\n",
       "       [-1.40496732,  0.29424412, -0.0640073 ],\n",
       "       [-1.33510889,  0.64613986, -0.11284924],\n",
       "       [-1.32702321, -0.6633044 , -0.32210314]])"
      ]
     },
     "execution_count": 43,
     "metadata": {},
     "output_type": "execute_result"
    }
   ],
   "source": [
    "# pip install scipy\n",
    "# scipy  # 高级数据计算库\n",
    "# Numpy 基本数据计算库\n",
    "from scipy import linalg\n",
    "n_components_ = 3\n",
    "X,y = datasets.load_iris(return_X_y = True)\n",
    "\n",
    "# 1、去中心化\n",
    "mean_ = np.mean(X, axis=0)\n",
    "X -= mean_\n",
    "\n",
    "# 2、奇异值分解\n",
    "U, S, Vt = linalg.svd(X, full_matrices=False)\n",
    "\n",
    "# 3、符号翻转（如果为负数，那么变成正直）\n",
    "# max_abs_cols = np.argmax(np.abs(U), axis=0)\n",
    "# signs = np.sign(U[max_abs_cols, range(U.shape[1])])\n",
    "# U *= signs\n",
    "\n",
    "# 4、降维特征筛选\n",
    "U = U[:, :n_components_]\n",
    "\n",
    "# 5、归一化\n",
    "U = (U - U.mean(axis = 0))/U.std(axis = 0,ddof = 1)\n",
    "# U *= np.sqrt(X.shape[0] - 1)\n",
    "U[:5]"
   ]
  },
  {
   "cell_type": "code",
   "execution_count": 44,
   "id": "15c369cb",
   "metadata": {
    "ExecuteTime": {
     "end_time": "2022-04-27T11:48:25.978832Z",
     "start_time": "2022-04-27T11:48:25.965302Z"
    }
   },
   "outputs": [
    {
     "data": {
      "text/plain": [
       "array([ 1.,  1., -1., -1.])"
      ]
     },
     "execution_count": 44,
     "metadata": {},
     "output_type": "execute_result"
    }
   ],
   "source": [
    "np.sign([1,2,-2,-0.5])"
   ]
  },
  {
   "cell_type": "code",
   "execution_count": 45,
   "id": "c0c837ca",
   "metadata": {
    "ExecuteTime": {
     "end_time": "2022-04-27T11:48:37.983562Z",
     "start_time": "2022-04-27T11:48:37.971050Z"
    }
   },
   "outputs": [
    {
     "data": {
      "text/plain": [
       "array([[-1.30533786,  0.64836932, -0.09981716],\n",
       "       [-1.31993521, -0.35930856, -0.75257299],\n",
       "       [-1.40496732, -0.29424412,  0.0640073 ],\n",
       "       [-1.33510889, -0.64613986,  0.11284924],\n",
       "       [-1.32702321,  0.6633044 ,  0.32210314]])"
      ]
     },
     "execution_count": 45,
     "metadata": {},
     "output_type": "execute_result"
    }
   ],
   "source": [
    "X_pca[:5]"
   ]
  },
  {
   "cell_type": "code",
   "execution_count": 46,
   "id": "0296d707",
   "metadata": {
    "ExecuteTime": {
     "end_time": "2022-04-27T11:48:52.594217Z",
     "start_time": "2022-04-27T11:48:52.581072Z"
    }
   },
   "outputs": [
    {
     "data": {
      "text/plain": [
       "array([[-0.74333333,  0.44266667, -2.358     , -0.99933333],\n",
       "       [-0.94333333, -0.05733333, -2.358     , -0.99933333],\n",
       "       [-1.14333333,  0.14266667, -2.458     , -0.99933333],\n",
       "       [-1.24333333,  0.04266667, -2.258     , -0.99933333],\n",
       "       [-0.84333333,  0.54266667, -2.358     , -0.99933333]])"
      ]
     },
     "execution_count": 46,
     "metadata": {},
     "output_type": "execute_result"
    }
   ],
   "source": [
    "X[:5]"
   ]
  },
  {
   "cell_type": "code",
   "execution_count": 49,
   "id": "70312e3e",
   "metadata": {
    "ExecuteTime": {
     "end_time": "2022-04-27T11:52:15.102835Z",
     "start_time": "2022-04-27T11:52:15.078937Z"
    }
   },
   "outputs": [
    {
     "data": {
      "text/plain": [
       "(150, 4)"
      ]
     },
     "metadata": {},
     "output_type": "display_data"
    },
    {
     "data": {
      "text/plain": [
       "(4,)"
      ]
     },
     "metadata": {},
     "output_type": "display_data"
    },
    {
     "data": {
      "text/plain": [
       "(4, 4)"
      ]
     },
     "metadata": {},
     "output_type": "display_data"
    },
    {
     "name": "stdout",
     "output_type": "stream",
     "text": [
      "[25.09996044  6.01314738  3.41368064  1.88452351]\n"
     ]
    },
    {
     "data": {
      "text/plain": [
       "array([[-0.74333333,  0.44266667, -2.358     , -0.99933333],\n",
       "       [-0.94333333, -0.05733333, -2.358     , -0.99933333],\n",
       "       [-1.14333333,  0.14266667, -2.458     , -0.99933333],\n",
       "       [-1.24333333,  0.04266667, -2.258     , -0.99933333],\n",
       "       [-0.84333333,  0.54266667, -2.358     , -0.99933333]])"
      ]
     },
     "execution_count": 49,
     "metadata": {},
     "output_type": "execute_result"
    }
   ],
   "source": [
    "U, S, Vt = linalg.svd(X, full_matrices=False)\n",
    "display(U.shape,S.shape,Vt.shape)\n",
    "print(S)\n",
    "# 反向矩阵乘法 ---> X\n",
    "U.dot(sigma).dot(Vt)[:5]"
   ]
  },
  {
   "cell_type": "code",
   "execution_count": 48,
   "id": "e317dabd",
   "metadata": {
    "ExecuteTime": {
     "end_time": "2022-04-27T11:51:15.324630Z",
     "start_time": "2022-04-27T11:51:15.309130Z"
    }
   },
   "outputs": [
    {
     "data": {
      "text/plain": [
       "array([[25.09996044,  0.        ,  0.        ,  0.        ],\n",
       "       [ 0.        ,  6.01314738,  0.        ,  0.        ],\n",
       "       [ 0.        ,  0.        ,  3.41368064,  0.        ],\n",
       "       [ 0.        ,  0.        ,  0.        ,  1.88452351]])"
      ]
     },
     "execution_count": 48,
     "metadata": {},
     "output_type": "execute_result"
    }
   ],
   "source": [
    "sigma = np.zeros(shape = (4,4))\n",
    "for i in range(4):\n",
    "    for j in range(4):\n",
    "        if i == j:\n",
    "            sigma[i,i] = S[i]\n",
    "sigma"
   ]
  },
  {
   "cell_type": "markdown",
   "id": "40d2a1c8",
   "metadata": {},
   "source": [
    "# 协方差和散度矩阵"
   ]
  },
  {
   "cell_type": "markdown",
   "id": "2a6c172e",
   "metadata": {},
   "source": [
    "## 协方差"
   ]
  },
  {
   "cell_type": "code",
   "execution_count": 50,
   "id": "456c2ddb",
   "metadata": {
    "ExecuteTime": {
     "end_time": "2022-04-27T11:54:01.961216Z",
     "start_time": "2022-04-27T11:54:01.952526Z"
    }
   },
   "outputs": [],
   "source": [
    "import numpy as np"
   ]
  },
  {
   "cell_type": "code",
   "execution_count": 51,
   "id": "7b135f01",
   "metadata": {
    "ExecuteTime": {
     "end_time": "2022-04-27T11:54:10.406809Z",
     "start_time": "2022-04-27T11:54:10.393990Z"
    }
   },
   "outputs": [
    {
     "data": {
      "text/plain": [
       "array([[47, 97, 12, 13,  9],\n",
       "       [79, 59, 23, 54, 60],\n",
       "       [25, 36,  0, 24, 92],\n",
       "       [57, 76, 25,  6, 15],\n",
       "       [89, 42, 94, 57, 93]])"
      ]
     },
     "execution_count": 51,
     "metadata": {},
     "output_type": "execute_result"
    }
   ],
   "source": [
    "X = np.random.randint(0,100,size = (5,5))\n",
    "X"
   ]
  },
  {
   "cell_type": "code",
   "execution_count": 52,
   "id": "068f3a35",
   "metadata": {
    "ExecuteTime": {
     "end_time": "2022-04-27T11:54:25.663693Z",
     "start_time": "2022-04-27T11:54:25.650529Z"
    }
   },
   "outputs": [
    {
     "data": {
      "text/plain": [
       "array([[ 650.8 ,  -56.  ,  756.1 ,  436.1 ,  154.1 ],\n",
       "       [ -56.  ,  626.5 , -294.75, -346.75, -976.75],\n",
       "       [ 756.1 , -294.75, 1347.7 ,  540.7 ,  579.95],\n",
       "       [ 436.1 , -346.75,  540.7 ,  550.7 ,  667.7 ],\n",
       "       [ 154.1 , -976.75,  579.95,  667.7 , 1636.7 ]])"
      ]
     },
     "execution_count": 52,
     "metadata": {},
     "output_type": "execute_result"
    }
   ],
   "source": [
    "# 计算协方差时，根据列来进行计算\n",
    "# 协方差矩阵\n",
    "# 样本，分母：n - 1\n",
    "np.cov(X,rowvar = False)"
   ]
  },
  {
   "cell_type": "code",
   "execution_count": 58,
   "id": "8d3bb122",
   "metadata": {
    "ExecuteTime": {
     "end_time": "2022-04-27T11:57:54.137964Z",
     "start_time": "2022-04-27T11:57:53.992847Z"
    }
   },
   "outputs": [
    {
     "data": {
      "image/png": "[encoded data removed]",
      "text/plain": [
       "<Figure size 864x648 with 2 Axes>"
      ]
     },
     "metadata": {},
     "output_type": "display_data"
    }
   ],
   "source": [
    "new_df = np.cov(X,rowvar = False)\n",
    "plt.figure(figsize=(12,9))\n",
    "sns.heatmap(new_df,annot=True, vmax=1, square=True,cmap='spring')#绘制new_df的矩阵热力图\n",
    "plt.show()#显示图片"
   ]
  },
  {
   "cell_type": "code",
   "execution_count": 53,
   "id": "3c998cc9",
   "metadata": {
    "ExecuteTime": {
     "end_time": "2022-04-27T11:54:54.169708Z",
     "start_time": "2022-04-27T11:54:54.157568Z"
    }
   },
   "outputs": [
    {
     "data": {
      "text/plain": [
       "650.8"
      ]
     },
     "execution_count": 53,
     "metadata": {},
     "output_type": "execute_result"
    }
   ],
   "source": [
    "np.var(X[:,0],ddof=1)"
   ]
  },
  {
   "cell_type": "code",
   "execution_count": 55,
   "id": "d273e659",
   "metadata": {
    "ExecuteTime": {
     "end_time": "2022-04-27T11:55:47.765107Z",
     "start_time": "2022-04-27T11:55:47.752139Z"
    }
   },
   "outputs": [
    {
     "data": {
      "text/plain": [
       "array([47, 79, 25, 57, 89])"
      ]
     },
     "execution_count": 55,
     "metadata": {},
     "output_type": "execute_result"
    }
   ],
   "source": [
    "X[:,0]"
   ]
  },
  {
   "cell_type": "code",
   "execution_count": 54,
   "id": "386325a2",
   "metadata": {
    "ExecuteTime": {
     "end_time": "2022-04-27T11:55:07.581669Z",
     "start_time": "2022-04-27T11:55:07.567698Z"
    }
   },
   "outputs": [
    {
     "data": {
      "text/plain": [
       "650.8"
      ]
     },
     "execution_count": 54,
     "metadata": {},
     "output_type": "execute_result"
    }
   ],
   "source": [
    "(((X[:,0] - X[:,0].mean())**2).sum())/(5 - 1)"
   ]
  },
  {
   "cell_type": "code",
   "execution_count": 56,
   "id": "13b6855e",
   "metadata": {
    "ExecuteTime": {
     "end_time": "2022-04-27T11:56:06.823969Z",
     "start_time": "2022-04-27T11:56:06.810027Z"
    }
   },
   "outputs": [
    {
     "data": {
      "text/plain": [
       "array([[650.8, -56. ],\n",
       "       [-56. , 626.5]])"
      ]
     },
     "execution_count": 56,
     "metadata": {},
     "output_type": "execute_result"
    }
   ],
   "source": [
    "np.cov(X[:,0],X[:,1])"
   ]
  },
  {
   "cell_type": "code",
   "execution_count": 57,
   "id": "b66996e4",
   "metadata": {
    "ExecuteTime": {
     "end_time": "2022-04-27T11:56:29.945522Z",
     "start_time": "2022-04-27T11:56:29.930518Z"
    }
   },
   "outputs": [
    {
     "data": {
      "text/plain": [
       "-55.999999999999986"
      ]
     },
     "execution_count": 57,
     "metadata": {},
     "output_type": "execute_result"
    }
   ],
   "source": [
    "# 协方差公式\n",
    "((X[:,0] - X[:,0].mean()) * (X[:,1] - X[:,1].mean())).sum()/(5 - 1)"
   ]
  },
  {
   "cell_type": "markdown",
   "id": "7f781c10",
   "metadata": {},
   "source": [
    "## 散度矩阵"
   ]
  },
  {
   "cell_type": "code",
   "execution_count": 59,
   "id": "0cabd2cd",
   "metadata": {
    "ExecuteTime": {
     "end_time": "2022-04-27T11:59:52.037518Z",
     "start_time": "2022-04-27T11:59:52.024095Z"
    }
   },
   "outputs": [
    {
     "data": {
      "text/plain": [
       "array([[47, 97, 12, 13,  9],\n",
       "       [79, 59, 23, 54, 60],\n",
       "       [25, 36,  0, 24, 92],\n",
       "       [57, 76, 25,  6, 15],\n",
       "       [89, 42, 94, 57, 93]])"
      ]
     },
     "execution_count": 59,
     "metadata": {},
     "output_type": "execute_result"
    }
   ],
   "source": [
    "X"
   ]
  },
  {
   "cell_type": "code",
   "execution_count": 60,
   "id": "2e7f18c3",
   "metadata": {
    "ExecuteTime": {
     "end_time": "2022-04-27T12:00:03.530760Z",
     "start_time": "2022-04-27T12:00:03.516808Z"
    }
   },
   "outputs": [
    {
     "data": {
      "text/plain": [
       "array([35.6, 55. , 35.4, 35.8, 75. ])"
      ]
     },
     "execution_count": 60,
     "metadata": {},
     "output_type": "execute_result"
    }
   ],
   "source": [
    "m = X.mean(axis = 1)\n",
    "m"
   ]
  },
  {
   "cell_type": "code",
   "execution_count": 61,
   "id": "cbaf6a81",
   "metadata": {
    "ExecuteTime": {
     "end_time": "2022-04-27T12:00:30.443632Z",
     "start_time": "2022-04-27T12:00:30.428720Z"
    }
   },
   "outputs": [
    {
     "data": {
      "text/plain": [
       "array([[ 11.4,  61.4, -23.6, -22.6, -26.6],\n",
       "       [ 24. ,   4. , -32. ,  -1. ,   5. ],\n",
       "       [-10.4,   0.6, -35.4, -11.4,  56.6],\n",
       "       [ 21.2,  40.2, -10.8, -29.8, -20.8],\n",
       "       [ 14. , -33. ,  19. , -18. ,  18. ]])"
      ]
     },
     "execution_count": 61,
     "metadata": {},
     "output_type": "execute_result"
    }
   ],
   "source": [
    "B = X - m.reshape(-1,1)\n",
    "B"
   ]
  },
  {
   "cell_type": "code",
   "execution_count": 62,
   "id": "d4a16c77",
   "metadata": {
    "ExecuteTime": {
     "end_time": "2022-04-27T12:00:44.666690Z",
     "start_time": "2022-04-27T12:00:44.655437Z"
    }
   },
   "outputs": [
    {
     "data": {
      "text/plain": [
       "array([[1418.8 ,  291.  , -123.55, 1047.9 , -596.75],\n",
       "       [ 291.  ,  410.5 ,  295.  ,  235.25,  -74.  ],\n",
       "       [-123.55,  295.  , 1173.8 , -162.9 ,   96.5 ],\n",
       "       [1047.9 ,  235.25, -162.9 ,  875.7 , -268.25],\n",
       "       [-596.75,  -74.  ,   96.5 , -268.25,  573.5 ]])"
      ]
     },
     "execution_count": 62,
     "metadata": {},
     "output_type": "execute_result"
    }
   ],
   "source": [
    "# 散度矩阵\n",
    "B.dot(B.T)/(5 - 1)"
   ]
  },
  {
   "cell_type": "code",
   "execution_count": 63,
   "id": "13e3a13c",
   "metadata": {
    "ExecuteTime": {
     "end_time": "2022-04-27T12:01:16.087334Z",
     "start_time": "2022-04-27T12:01:16.076546Z"
    }
   },
   "outputs": [
    {
     "data": {
      "text/plain": [
       "array([[1418.8 ,  291.  , -123.55, 1047.9 , -596.75],\n",
       "       [ 291.  ,  410.5 ,  295.  ,  235.25,  -74.  ],\n",
       "       [-123.55,  295.  , 1173.8 , -162.9 ,   96.5 ],\n",
       "       [1047.9 ,  235.25, -162.9 ,  875.7 , -268.25],\n",
       "       [-596.75,  -74.  ,   96.5 , -268.25,  573.5 ]])"
      ]
     },
     "execution_count": 63,
     "metadata": {},
     "output_type": "execute_result"
    }
   ],
   "source": [
    "# 上面根据行，进行计算\n",
    "np.cov(X,rowvar = True)"
   ]
  },
  {
   "cell_type": "code",
   "execution_count": 64,
   "id": "0592c094",
   "metadata": {
    "ExecuteTime": {
     "end_time": "2022-04-27T12:01:28.671356Z",
     "start_time": "2022-04-27T12:01:28.658119Z"
    }
   },
   "outputs": [
    {
     "data": {
      "text/plain": [
       "array([[ 650.8 ,  -56.  ,  756.1 ,  436.1 ,  154.1 ],\n",
       "       [ -56.  ,  626.5 , -294.75, -346.75, -976.75],\n",
       "       [ 756.1 , -294.75, 1347.7 ,  540.7 ,  579.95],\n",
       "       [ 436.1 , -346.75,  540.7 ,  550.7 ,  667.7 ],\n",
       "       [ 154.1 , -976.75,  579.95,  667.7 , 1636.7 ]])"
      ]
     },
     "execution_count": 64,
     "metadata": {},
     "output_type": "execute_result"
    }
   ],
   "source": [
    "np.cov(X,rowvar=False)"
   ]
  },
  {
   "cell_type": "code",
   "execution_count": 65,
   "id": "669cff32",
   "metadata": {
    "ExecuteTime": {
     "end_time": "2022-04-27T12:01:52.637630Z",
     "start_time": "2022-04-27T12:01:52.622340Z"
    }
   },
   "outputs": [
    {
     "data": {
      "text/plain": [
       "array([[-12.4,  19.6, -34.4,  -2.4,  29.6],\n",
       "       [ 35. ,  -3. , -26. ,  14. , -20. ],\n",
       "       [-18.8,  -7.8, -30.8,  -5.8,  63.2],\n",
       "       [-17.8,  23.2,  -6.8, -24.8,  26.2],\n",
       "       [-44.8,   6.2,  38.2, -38.8,  39.2]])"
      ]
     },
     "execution_count": 65,
     "metadata": {},
     "output_type": "execute_result"
    }
   ],
   "source": [
    "# 转置：行变列，列变成行\n",
    "B = X.T - X.T.mean(axis = 1).reshape(-1,1)\n",
    "B"
   ]
  },
  {
   "cell_type": "code",
   "execution_count": 66,
   "id": "65eae6fa",
   "metadata": {
    "ExecuteTime": {
     "end_time": "2022-04-27T12:02:12.624217Z",
     "start_time": "2022-04-27T12:02:12.610682Z"
    }
   },
   "outputs": [
    {
     "data": {
      "text/plain": [
       "array([[ 650.8 ,  -56.  ,  756.1 ,  436.1 ,  154.1 ],\n",
       "       [ -56.  ,  626.5 , -294.75, -346.75, -976.75],\n",
       "       [ 756.1 , -294.75, 1347.7 ,  540.7 ,  579.95],\n",
       "       [ 436.1 , -346.75,  540.7 ,  550.7 ,  667.7 ],\n",
       "       [ 154.1 , -976.75,  579.95,  667.7 , 1636.7 ]])"
      ]
     },
     "execution_count": 66,
     "metadata": {},
     "output_type": "execute_result"
    }
   ],
   "source": [
    "B.dot(B.T)/(5 -1)"
   ]
  },
  {
   "cell_type": "markdown",
   "id": "522a0660",
   "metadata": {},
   "source": [
    "# SVD奇异值和特征值特征向量"
   ]
  },
  {
   "cell_type": "code",
   "execution_count": 67,
   "id": "d0c50fbf",
   "metadata": {
    "ExecuteTime": {
     "end_time": "2022-04-27T12:03:04.456146Z",
     "start_time": "2022-04-27T12:03:04.446481Z"
    }
   },
   "outputs": [],
   "source": [
    "from sklearn import datasets"
   ]
  },
  {
   "cell_type": "code",
   "execution_count": 68,
   "id": "615b8c7a",
   "metadata": {
    "ExecuteTime": {
     "end_time": "2022-04-27T12:03:17.549034Z",
     "start_time": "2022-04-27T12:03:17.534124Z"
    }
   },
   "outputs": [
    {
     "data": {
      "text/plain": [
       "array([[ 0.68569351, -0.042434  ,  1.27431544,  0.51627069],\n",
       "       [-0.042434  ,  0.18997942, -0.32965638, -0.12163937],\n",
       "       [ 1.27431544, -0.32965638,  3.11627785,  1.2956094 ],\n",
       "       [ 0.51627069, -0.12163937,  1.2956094 ,  0.58100626]])"
      ]
     },
     "execution_count": 68,
     "metadata": {},
     "output_type": "execute_result"
    }
   ],
   "source": [
    "X,y = datasets.load_iris(return_X_y=True)\n",
    "\n",
    "A = X - X.mean(axis = 0)\n",
    "\n",
    "# 一般情况下，rowvar = False计算列，属性\n",
    "# 行:样本\n",
    "B = np.cov(A,rowvar=False) # 表示计算列（因为列，是属性）\n",
    "B"
   ]
  },
  {
   "cell_type": "markdown",
   "id": "e83bf2fe",
   "metadata": {},
   "source": [
    "## 特征值和特征向量"
   ]
  },
  {
   "cell_type": "code",
   "execution_count": 69,
   "id": "bf5496ff",
   "metadata": {
    "ExecuteTime": {
     "end_time": "2022-04-27T12:03:59.836865Z",
     "start_time": "2022-04-27T12:03:59.821634Z"
    }
   },
   "outputs": [
    {
     "data": {
      "text/plain": [
       "array([4.22824171, 0.24267075, 0.0782095 , 0.02383509])"
      ]
     },
     "metadata": {},
     "output_type": "display_data"
    },
    {
     "data": {
      "text/plain": [
       "array([[ 0.36138659, -0.65658877, -0.58202985,  0.31548719],\n",
       "       [-0.08452251, -0.73016143,  0.59791083, -0.3197231 ],\n",
       "       [ 0.85667061,  0.17337266,  0.07623608, -0.47983899],\n",
       "       [ 0.3582892 ,  0.07548102,  0.54583143,  0.75365743]])"
      ]
     },
     "metadata": {},
     "output_type": "display_data"
    }
   ],
   "source": [
    "eigen,ev = np.linalg.eig(B)\n",
    "display(eigen,ev)"
   ]
  },
  {
   "cell_type": "code",
   "execution_count": 70,
   "id": "df15a716",
   "metadata": {
    "ExecuteTime": {
     "end_time": "2022-04-27T12:04:10.807294Z",
     "start_time": "2022-04-27T12:04:10.794465Z"
    }
   },
   "outputs": [
    {
     "data": {
      "text/plain": [
       "array([[ 1.52802986, -0.15933489, -0.04552026,  0.00751967],\n",
       "       [-0.35738162, -0.17718882,  0.04676231, -0.00762063],\n",
       "       [ 3.62221038,  0.04207247,  0.00596239, -0.01143701],\n",
       "       [ 1.51493333,  0.01831704,  0.0426892 ,  0.01796349]])"
      ]
     },
     "execution_count": 70,
     "metadata": {},
     "output_type": "execute_result"
    }
   ],
   "source": [
    "# B表示矩阵，ev表示矩阵的特征向量\n",
    "B.dot(ev)"
   ]
  },
  {
   "cell_type": "code",
   "execution_count": 71,
   "id": "59326245",
   "metadata": {
    "ExecuteTime": {
     "end_time": "2022-04-27T12:04:34.030443Z",
     "start_time": "2022-04-27T12:04:34.018260Z"
    }
   },
   "outputs": [
    {
     "data": {
      "text/plain": [
       "array([ 1.52802986, -0.35738162,  3.62221038,  1.51493333])"
      ]
     },
     "execution_count": 71,
     "metadata": {},
     "output_type": "execute_result"
    }
   ],
   "source": [
    "# 第一个特征值 和 第一个特征向量进行乘法\n",
    "eigen[0] * ev[:,0]"
   ]
  },
  {
   "cell_type": "code",
   "execution_count": 72,
   "id": "543a6355",
   "metadata": {
    "ExecuteTime": {
     "end_time": "2022-04-27T12:05:11.438636Z",
     "start_time": "2022-04-27T12:05:11.425793Z"
    }
   },
   "outputs": [
    {
     "data": {
      "text/plain": [
       "array([-0.15933489, -0.17718882,  0.04207247,  0.01831704])"
      ]
     },
     "execution_count": 72,
     "metadata": {},
     "output_type": "execute_result"
    }
   ],
   "source": [
    "eigen[1] * ev[:,1]"
   ]
  },
  {
   "cell_type": "code",
   "execution_count": 73,
   "id": "9532276f",
   "metadata": {
    "ExecuteTime": {
     "end_time": "2022-04-27T12:05:19.759768Z",
     "start_time": "2022-04-27T12:05:19.746061Z"
    }
   },
   "outputs": [
    {
     "data": {
      "text/plain": [
       "array([[4.22824171, 0.        , 0.        , 0.        ],\n",
       "       [0.        , 0.24267075, 0.        , 0.        ],\n",
       "       [0.        , 0.        , 0.0782095 , 0.        ],\n",
       "       [0.        , 0.        , 0.        , 0.02383509]])"
      ]
     },
     "execution_count": 73,
     "metadata": {},
     "output_type": "execute_result"
    }
   ],
   "source": [
    "eigen_eye = np.eye(4) * eigen\n",
    "eigen_eye"
   ]
  },
  {
   "cell_type": "code",
   "execution_count": 74,
   "id": "f00fdfd5",
   "metadata": {
    "ExecuteTime": {
     "end_time": "2022-04-27T12:05:31.822074Z",
     "start_time": "2022-04-27T12:05:31.808425Z"
    }
   },
   "outputs": [
    {
     "data": {
      "text/plain": [
       "array([[ 0.68569351, -0.042434  ,  1.27431544,  0.51627069],\n",
       "       [-0.042434  ,  0.18997942, -0.32965638, -0.12163937],\n",
       "       [ 1.27431544, -0.32965638,  3.11627785,  1.2956094 ],\n",
       "       [ 0.51627069, -0.12163937,  1.2956094 ,  0.58100626]])"
      ]
     },
     "execution_count": 74,
     "metadata": {},
     "output_type": "execute_result"
    }
   ],
   "source": [
    "ev.dot(eigen_eye).dot(np.linalg.inv(ev))"
   ]
  },
  {
   "cell_type": "code",
   "execution_count": 75,
   "id": "fb41a292",
   "metadata": {
    "ExecuteTime": {
     "end_time": "2022-04-27T12:05:41.602282Z",
     "start_time": "2022-04-27T12:05:41.589499Z"
    }
   },
   "outputs": [
    {
     "data": {
      "text/plain": [
       "array([[ 0.68569351, -0.042434  ,  1.27431544,  0.51627069],\n",
       "       [-0.042434  ,  0.18997942, -0.32965638, -0.12163937],\n",
       "       [ 1.27431544, -0.32965638,  3.11627785,  1.2956094 ],\n",
       "       [ 0.51627069, -0.12163937,  1.2956094 ,  0.58100626]])"
      ]
     },
     "execution_count": 75,
     "metadata": {},
     "output_type": "execute_result"
    }
   ],
   "source": [
    "B"
   ]
  },
  {
   "cell_type": "markdown",
   "id": "a2c2bb10",
   "metadata": {},
   "source": [
    "## SVD奇异值分解"
   ]
  },
  {
   "cell_type": "code",
   "execution_count": 76,
   "id": "dce4fc38",
   "metadata": {
    "ExecuteTime": {
     "end_time": "2022-04-27T12:06:18.609028Z",
     "start_time": "2022-04-27T12:06:18.595462Z"
    }
   },
   "outputs": [
    {
     "data": {
      "text/plain": [
       "array([[5, 6, 2, 1, 0],\n",
       "       [0, 8, 0, 5, 2],\n",
       "       [2, 2, 1, 8, 2]])"
      ]
     },
     "execution_count": 76,
     "metadata": {},
     "output_type": "execute_result"
    }
   ],
   "source": [
    "X = np.random.randint(0,10,size = (3,5))\n",
    "X"
   ]
  },
  {
   "cell_type": "code",
   "execution_count": 77,
   "id": "cb65d31f",
   "metadata": {
    "ExecuteTime": {
     "end_time": "2022-04-27T12:06:34.496514Z",
     "start_time": "2022-04-27T12:06:34.484713Z"
    }
   },
   "outputs": [],
   "source": [
    "from scipy import linalg"
   ]
  },
  {
   "cell_type": "code",
   "execution_count": 78,
   "id": "88154177",
   "metadata": {
    "ExecuteTime": {
     "end_time": "2022-04-27T12:06:52.655352Z",
     "start_time": "2022-04-27T12:06:52.636178Z"
    }
   },
   "outputs": [
    {
     "data": {
      "text/plain": [
       "array([[ 0.4779051 ,  0.73010244,  0.48842312],\n",
       "       [ 0.68253538,  0.04137193, -0.72968063],\n",
       "       [ 0.55294861, -0.68208415,  0.47854889]])"
      ]
     },
     "metadata": {},
     "output_type": "display_data"
    },
    {
     "data": {
      "text/plain": [
       "array([13.36856268,  6.25363175,  4.26305311])"
      ]
     },
     "metadata": {},
     "output_type": "display_data"
    },
    {
     "data": {
      "text/plain": [
       "array([[ 0.26146586,  0.70565633,  0.11285872,  0.62191958,  0.18483423],\n",
       "       [ 0.36560258,  0.53527645,  0.12442701, -0.72273381, -0.20490884],\n",
       "       [ 0.79736595, -0.45737374,  0.34139737,  0.15679164, -0.11781779]])"
      ]
     },
     "metadata": {},
     "output_type": "display_data"
    }
   ],
   "source": [
    "U,sigma,V = linalg.svd(X,full_matrices = False)\n",
    "display(U,sigma,V)"
   ]
  },
  {
   "cell_type": "code",
   "execution_count": 79,
   "id": "eaffd359",
   "metadata": {
    "ExecuteTime": {
     "end_time": "2022-04-27T12:07:12.093604Z",
     "start_time": "2022-04-27T12:07:12.078375Z"
    }
   },
   "outputs": [
    {
     "data": {
      "text/plain": [
       "array([[13.36856268,  0.        ,  0.        ],\n",
       "       [ 0.        ,  6.25363175,  0.        ],\n",
       "       [ 0.        ,  0.        ,  4.26305311]])"
      ]
     },
     "execution_count": 79,
     "metadata": {},
     "output_type": "execute_result"
    }
   ],
   "source": [
    "sigma_eye = np.eye(3) * sigma\n",
    "sigma_eye"
   ]
  },
  {
   "cell_type": "code",
   "execution_count": 81,
   "id": "9d7bf526",
   "metadata": {
    "ExecuteTime": {
     "end_time": "2022-04-27T12:07:56.884507Z",
     "start_time": "2022-04-27T12:07:56.869370Z"
    }
   },
   "outputs": [
    {
     "data": {
      "text/plain": [
       "array([[5., 6., 2., 1., 0.],\n",
       "       [0., 8., 0., 5., 2.],\n",
       "       [2., 2., 1., 8., 2.]])"
      ]
     },
     "execution_count": 81,
     "metadata": {},
     "output_type": "execute_result"
    }
   ],
   "source": [
    "np.set_printoptions(suppress=1)\n",
    "U.dot(sigma_eye).dot(V)"
   ]
  },
  {
   "cell_type": "markdown",
   "id": "40ea8289",
   "metadata": {},
   "source": [
    "# LDA算法降维"
   ]
  },
  {
   "cell_type": "code",
   "execution_count": 82,
   "id": "74f97f27",
   "metadata": {
    "ExecuteTime": {
     "end_time": "2022-04-27T12:08:54.401635Z",
     "start_time": "2022-04-27T12:08:54.381588Z"
    }
   },
   "outputs": [],
   "source": [
    "from sklearn.discriminant_analysis import LinearDiscriminantAnalysis\n",
    "from sklearn import datasets\n",
    "import numpy as np\n",
    "from scipy import linalg"
   ]
  },
  {
   "cell_type": "code",
   "execution_count": 83,
   "id": "94021014",
   "metadata": {
    "ExecuteTime": {
     "end_time": "2022-04-27T12:09:04.989871Z",
     "start_time": "2022-04-27T12:09:04.972042Z"
    }
   },
   "outputs": [
    {
     "data": {
      "text/plain": [
       "array([[5.1, 3.5, 1.4, 0.2],\n",
       "       [4.9, 3. , 1.4, 0.2],\n",
       "       [4.7, 3.2, 1.3, 0.2],\n",
       "       [4.6, 3.1, 1.5, 0.2],\n",
       "       [5. , 3.6, 1.4, 0.2]])"
      ]
     },
     "metadata": {},
     "output_type": "display_data"
    },
    {
     "data": {
      "text/plain": [
       "array([0, 0, 0, 0, 0, 0, 0, 0, 0, 0, 0, 0, 0, 0, 0, 0, 0, 0, 0, 0, 0, 0,\n",
       "       0, 0, 0, 0, 0, 0, 0, 0, 0, 0, 0, 0, 0, 0, 0, 0, 0, 0, 0, 0, 0, 0,\n",
       "       0, 0, 0, 0, 0, 0, 1, 1, 1, 1, 1, 1, 1, 1, 1, 1, 1, 1, 1, 1, 1, 1,\n",
       "       1, 1, 1, 1, 1, 1, 1, 1, 1, 1, 1, 1, 1, 1, 1, 1, 1, 1, 1, 1, 1, 1,\n",
       "       1, 1, 1, 1, 1, 1, 1, 1, 1, 1, 1, 1, 2, 2, 2, 2, 2, 2, 2, 2, 2, 2,\n",
       "       2, 2, 2, 2, 2, 2, 2, 2, 2, 2, 2, 2, 2, 2, 2, 2, 2, 2, 2, 2, 2, 2,\n",
       "       2, 2, 2, 2, 2, 2, 2, 2, 2, 2, 2, 2, 2, 2, 2, 2, 2, 2])"
      ]
     },
     "metadata": {},
     "output_type": "display_data"
    }
   ],
   "source": [
    "X,y = datasets.load_iris(return_X_y=1)\n",
    "display(X[:5],y)"
   ]
  },
  {
   "cell_type": "code",
   "execution_count": 84,
   "id": "885ccc3c",
   "metadata": {
    "ExecuteTime": {
     "end_time": "2022-04-27T12:09:23.811610Z",
     "start_time": "2022-04-27T12:09:23.802115Z"
    }
   },
   "outputs": [],
   "source": [
    "from sklearn.decomposition import PCA"
   ]
  },
  {
   "cell_type": "code",
   "execution_count": 85,
   "id": "c3630bcd",
   "metadata": {
    "ExecuteTime": {
     "end_time": "2022-04-27T12:09:33.839489Z",
     "start_time": "2022-04-27T12:09:33.824396Z"
    }
   },
   "outputs": [
    {
     "data": {
      "text/plain": [
       "array([[-2.68412563,  0.31939725],\n",
       "       [-2.71414169, -0.17700123],\n",
       "       [-2.88899057, -0.14494943],\n",
       "       [-2.74534286, -0.31829898],\n",
       "       [-2.72871654,  0.32675451]])"
      ]
     },
     "execution_count": 85,
     "metadata": {},
     "output_type": "execute_result"
    }
   ],
   "source": [
    "pca = PCA(n_components=2)\n",
    "pca.fit(X)\n",
    "pca.transform(X)[:5]"
   ]
  },
  {
   "cell_type": "code",
   "execution_count": 86,
   "id": "7dfce095",
   "metadata": {
    "ExecuteTime": {
     "end_time": "2022-04-27T12:09:48.663559Z",
     "start_time": "2022-04-27T12:09:48.646268Z"
    }
   },
   "outputs": [
    {
     "data": {
      "text/plain": [
       "array([[6.01716893, 7.03257409],\n",
       "       [5.0745834 , 5.9344564 ],\n",
       "       [5.43939015, 6.46102462],\n",
       "       [4.75589325, 6.05166375],\n",
       "       [6.08839432, 7.24878907]])"
      ]
     },
     "metadata": {},
     "output_type": "display_data"
    }
   ],
   "source": [
    "lda = LinearDiscriminantAnalysis(n_components=2,solver = 'eigen') # 特征值特征向量矩阵分解\n",
    "lda.fit(X,y) # 有监督的降维算法\n",
    "X_lda = lda.transform(X)\n",
    "display(X_lda[:5])"
   ]
  },
  {
   "cell_type": "code",
   "execution_count": 87,
   "id": "00c2132d",
   "metadata": {
    "ExecuteTime": {
     "end_time": "2022-04-27T12:09:59.855924Z",
     "start_time": "2022-04-27T12:09:59.843884Z"
    }
   },
   "outputs": [
    {
     "data": {
      "text/plain": [
       "-11.39106730641631"
      ]
     },
     "execution_count": 87,
     "metadata": {},
     "output_type": "execute_result"
    }
   ],
   "source": [
    "X_lda.min()"
   ]
  },
  {
   "cell_type": "markdown",
   "id": "77a6321e",
   "metadata": {},
   "source": [
    "## 计算总的散度矩阵"
   ]
  },
  {
   "cell_type": "code",
   "execution_count": 88,
   "id": "56f97fca",
   "metadata": {
    "ExecuteTime": {
     "end_time": "2022-04-27T12:10:57.274648Z",
     "start_time": "2022-04-27T12:10:57.265026Z"
    }
   },
   "outputs": [],
   "source": [
    "# 去中心化\n",
    "B = X - X.mean(axis = 0)"
   ]
  },
  {
   "cell_type": "code",
   "execution_count": 89,
   "id": "3910b886",
   "metadata": {
    "ExecuteTime": {
     "end_time": "2022-04-27T12:11:44.974248Z",
     "start_time": "2022-04-27T12:11:44.963309Z"
    }
   },
   "outputs": [],
   "source": [
    "# scatter total\n",
    "St = np.cov(B,rowvar=False,bias=1)"
   ]
  },
  {
   "cell_type": "markdown",
   "id": "5852db1a",
   "metadata": {},
   "source": [
    "## 类内的散度矩阵"
   ]
  },
  {
   "cell_type": "code",
   "execution_count": 90,
   "id": "2eb1a1ca",
   "metadata": {
    "ExecuteTime": {
     "end_time": "2022-04-27T12:12:10.792270Z",
     "start_time": "2022-04-27T12:12:10.778522Z"
    }
   },
   "outputs": [
    {
     "data": {
      "text/plain": [
       "array([[0.259708  , 0.09086667, 0.164164  , 0.03763333],\n",
       "       [0.09086667, 0.11308   , 0.05413867, 0.032056  ],\n",
       "       [0.164164  , 0.05413867, 0.181484  , 0.041812  ],\n",
       "       [0.03763333, 0.032056  , 0.041812  , 0.041044  ]])"
      ]
     },
     "execution_count": 90,
     "metadata": {},
     "output_type": "execute_result"
    }
   ],
   "source": [
    "# scatter within\n",
    "Sw = np.full(shape = (4,4),fill_value=0,dtype = np.float64)\n",
    "\n",
    "for i in range(3):\n",
    "    Xw = B[y == i] # 这就是一类点，类内\n",
    "    Sw += np.cov(Xw,rowvar=False,bias = 1)\n",
    "    \n",
    "# 求三类的类内散度矩阵的平均值    \n",
    "Sw/=3\n",
    "Sw"
   ]
  },
  {
   "cell_type": "markdown",
   "id": "2ae00350",
   "metadata": {},
   "source": [
    "## 计算类间散度矩阵"
   ]
  },
  {
   "cell_type": "code",
   "execution_count": 91,
   "id": "1eee4d2e",
   "metadata": {
    "ExecuteTime": {
     "end_time": "2022-04-27T12:13:32.401088Z",
     "start_time": "2022-04-27T12:13:32.388531Z"
    }
   },
   "outputs": [
    {
     "data": {
      "text/plain": [
       "array([[ 0.42141422, -0.13301778,  1.101656  ,  0.47519556],\n",
       "       [-0.13301778,  0.07563289, -0.38159733, -0.15288444],\n",
       "       [ 1.101656  , -0.38159733,  2.91401867,  1.24516   ],\n",
       "       [ 0.47519556, -0.15288444,  1.24516   ,  0.53608889]])"
      ]
     },
     "execution_count": 91,
     "metadata": {},
     "output_type": "execute_result"
    }
   ],
   "source": [
    "# scatter between\n",
    "Sb = St - Sw\n",
    "Sb"
   ]
  },
  {
   "cell_type": "markdown",
   "id": "23d3b4d9",
   "metadata": {},
   "source": [
    "## 特征值，特征向量"
   ]
  },
  {
   "cell_type": "code",
   "execution_count": 92,
   "id": "3d14d20c",
   "metadata": {
    "ExecuteTime": {
     "end_time": "2022-04-27T12:14:00.693238Z",
     "start_time": "2022-04-27T12:14:00.676670Z"
    }
   },
   "outputs": [
    {
     "data": {
      "text/plain": [
       "array([-0.        ,  0.        ,  0.28539104, 32.1919292 ])"
      ]
     },
     "metadata": {},
     "output_type": "display_data"
    },
    {
     "data": {
      "text/plain": [
       "array([[ 0.15258729, -3.21543683,  0.02434685,  0.83779794],\n",
       "       [ 1.57894485,  2.2017882 ,  2.18649663,  1.55005187],\n",
       "       [ 1.92324172,  2.3583357 , -0.94138258, -2.22355955],\n",
       "       [-4.15202852, -1.99952814,  2.86801283, -2.83899363]])"
      ]
     },
     "metadata": {},
     "output_type": "display_data"
    }
   ],
   "source": [
    "eigen,ev = linalg.eigh(Sb,Sw)\n",
    "display(eigen,ev)"
   ]
  },
  {
   "cell_type": "code",
   "execution_count": 93,
   "id": "a27f9137",
   "metadata": {
    "ExecuteTime": {
     "end_time": "2022-04-27T12:14:16.797999Z",
     "start_time": "2022-04-27T12:14:16.783637Z"
    }
   },
   "outputs": [
    {
     "data": {
      "text/plain": [
       "array([[ 0.83779794,  0.02434685],\n",
       "       [ 1.55005187,  2.18649663],\n",
       "       [-2.22355955, -0.94138258],\n",
       "       [-2.83899363,  2.86801283]])"
      ]
     },
     "execution_count": 93,
     "metadata": {},
     "output_type": "execute_result"
    }
   ],
   "source": [
    "# 筛选特征向量\n",
    "# ev = ev[:,np.argsort(eigen)[::-1]][:,:2]\n",
    "# ev\n",
    "ev = ev[:,::-1][:,:2]\n",
    "ev"
   ]
  },
  {
   "cell_type": "markdown",
   "id": "d408c74f",
   "metadata": {},
   "source": [
    "## 进行矩阵运算"
   ]
  },
  {
   "cell_type": "code",
   "execution_count": 94,
   "id": "ddc68d2d",
   "metadata": {
    "ExecuteTime": {
     "end_time": "2022-04-27T12:14:48.491973Z",
     "start_time": "2022-04-27T12:14:48.479122Z"
    }
   },
   "outputs": [
    {
     "data": {
      "text/plain": [
       "array([[6.01716893, 7.03257409],\n",
       "       [5.0745834 , 5.9344564 ],\n",
       "       [5.43939015, 6.46102462],\n",
       "       [4.75589325, 6.05166375],\n",
       "       [6.08839432, 7.24878907]])"
      ]
     },
     "execution_count": 94,
     "metadata": {},
     "output_type": "execute_result"
    }
   ],
   "source": [
    "X.dot(ev)[:5]"
   ]
  },
  {
   "cell_type": "code",
   "execution_count": 95,
   "id": "3dfcb033",
   "metadata": {
    "ExecuteTime": {
     "end_time": "2022-04-27T12:14:57.372143Z",
     "start_time": "2022-04-27T12:14:57.358757Z"
    }
   },
   "outputs": [
    {
     "data": {
      "text/plain": [
       "array([[6.01716893, 7.03257409],\n",
       "       [5.0745834 , 5.9344564 ],\n",
       "       [5.43939015, 6.46102462],\n",
       "       [4.75589325, 6.05166375],\n",
       "       [6.08839432, 7.24878907]])"
      ]
     },
     "execution_count": 95,
     "metadata": {},
     "output_type": "execute_result"
    }
   ],
   "source": [
    "X_lda[:5]"
   ]
  },
  {
   "cell_type": "code",
   "execution_count": 96,
   "id": "3a4a61e4",
   "metadata": {
    "ExecuteTime": {
     "end_time": "2022-04-27T12:15:09.335238Z",
     "start_time": "2022-04-27T12:15:09.322056Z"
    }
   },
   "outputs": [
    {
     "data": {
      "text/plain": [
       "array([-0.       ,  0.       ,  0.0087874,  0.9912126])"
      ]
     },
     "execution_count": 96,
     "metadata": {},
     "output_type": "execute_result"
    }
   ],
   "source": [
    "np.set_printoptions(suppress=True)\n",
    "eigen/eigen.sum()"
   ]
  },
  {
   "cell_type": "code",
   "execution_count": 97,
   "id": "55ad1080",
   "metadata": {
    "ExecuteTime": {
     "end_time": "2022-04-27T12:15:20.153070Z",
     "start_time": "2022-04-27T12:15:20.140024Z"
    }
   },
   "outputs": [
    {
     "data": {
      "text/plain": [
       "array([0.9912126, 0.0087874])"
      ]
     },
     "execution_count": 97,
     "metadata": {},
     "output_type": "execute_result"
    }
   ],
   "source": [
    "lda.explained_variance_ratio_"
   ]
  },
  {
   "cell_type": "markdown",
   "id": "feda1812",
   "metadata": {},
   "source": [
    "# NMF非负矩阵"
   ]
  },
  {
   "cell_type": "code",
   "execution_count": 98,
   "id": "ef844463",
   "metadata": {
    "ExecuteTime": {
     "end_time": "2022-04-27T12:16:01.565788Z",
     "start_time": "2022-04-27T12:16:01.557112Z"
    }
   },
   "outputs": [],
   "source": [
    "import numpy as np\n",
    "from sklearn import datasets\n",
    "from sklearn.decomposition import NMF"
   ]
  },
  {
   "cell_type": "code",
   "execution_count": 99,
   "id": "a4967dad",
   "metadata": {
    "ExecuteTime": {
     "end_time": "2022-04-27T12:17:02.402104Z",
     "start_time": "2022-04-27T12:17:02.383086Z"
    }
   },
   "outputs": [
    {
     "data": {
      "text/plain": [
       "array([[5.1, 3.5, 1.4, 0.2],\n",
       "       [4.9, 3. , 1.4, 0.2],\n",
       "       [4.7, 3.2, 1.3, 0.2],\n",
       "       [4.6, 3.1, 1.5, 0.2],\n",
       "       [5. , 3.6, 1.4, 0.2]])"
      ]
     },
     "metadata": {},
     "output_type": "display_data"
    },
    {
     "data": {
      "text/plain": [
       "array([0, 0, 0, 0, 0, 0, 0, 0, 0, 0, 0, 0, 0, 0, 0, 0, 0, 0, 0, 0, 0, 0,\n",
       "       0, 0, 0, 0, 0, 0, 0, 0, 0, 0, 0, 0, 0, 0, 0, 0, 0, 0, 0, 0, 0, 0,\n",
       "       0, 0, 0, 0, 0, 0, 1, 1, 1, 1, 1, 1, 1, 1, 1, 1, 1, 1, 1, 1, 1, 1,\n",
       "       1, 1, 1, 1, 1, 1, 1, 1, 1, 1, 1, 1, 1, 1, 1, 1, 1, 1, 1, 1, 1, 1,\n",
       "       1, 1, 1, 1, 1, 1, 1, 1, 1, 1, 1, 1, 2, 2, 2, 2, 2, 2, 2, 2, 2, 2,\n",
       "       2, 2, 2, 2, 2, 2, 2, 2, 2, 2, 2, 2, 2, 2, 2, 2, 2, 2, 2, 2, 2, 2,\n",
       "       2, 2, 2, 2, 2, 2, 2, 2, 2, 2, 2, 2, 2, 2, 2, 2, 2, 2])"
      ]
     },
     "metadata": {},
     "output_type": "display_data"
    }
   ],
   "source": [
    "X,y = datasets.load_iris(return_X_y= -2)\n",
    "display(X[:5],y)"
   ]
  },
  {
   "cell_type": "code",
   "execution_count": 100,
   "id": "ba25048d",
   "metadata": {
    "ExecuteTime": {
     "end_time": "2022-04-27T12:17:20.094071Z",
     "start_time": "2022-04-27T12:17:20.065021Z"
    }
   },
   "outputs": [
    {
     "data": {
      "text/plain": [
       "NMF(init='nndsvda', max_iter=1000, n_components=2)"
      ]
     },
     "execution_count": 100,
     "metadata": {},
     "output_type": "execute_result"
    }
   ],
   "source": [
    "nmf = NMF(n_components = 2,max_iter = 1000,init = 'nndsvda')\n",
    "\n",
    "nmf.fit(X)"
   ]
  },
  {
   "cell_type": "code",
   "execution_count": 101,
   "id": "078d25cd",
   "metadata": {
    "ExecuteTime": {
     "end_time": "2022-04-27T12:18:12.287476Z",
     "start_time": "2022-04-27T12:18:12.268250Z"
    }
   },
   "outputs": [
    {
     "data": {
      "text/plain": [
       "(150, 4)"
      ]
     },
     "metadata": {},
     "output_type": "display_data"
    },
    {
     "data": {
      "text/plain": [
       "(150, 2)"
      ]
     },
     "metadata": {},
     "output_type": "display_data"
    },
    {
     "data": {
      "text/plain": [
       "array([[0.41319146, 0.10514931],\n",
       "       [0.36523447, 0.14130968],\n",
       "       [0.37752569, 0.1023081 ],\n",
       "       [0.34979287, 0.14925397],\n",
       "       [0.41557409, 0.09580345]])"
      ]
     },
     "execution_count": 101,
     "metadata": {},
     "output_type": "execute_result"
    }
   ],
   "source": [
    "W = nmf.transform(X)\n",
    "display(X.shape,W.shape)\n",
    "W[:5]"
   ]
  },
  {
   "cell_type": "code",
   "execution_count": 102,
   "id": "cf732e57",
   "metadata": {
    "ExecuteTime": {
     "end_time": "2022-04-27T12:18:33.147637Z",
     "start_time": "2022-04-27T12:18:33.134996Z"
    }
   },
   "outputs": [
    {
     "data": {
      "text/plain": [
       "array([[11.05890917,  7.97350461,  2.22400134,  0.06796582],\n",
       "       [ 5.0036085 ,  2.0079157 ,  4.5922802 ,  1.64852844]])"
      ]
     },
     "execution_count": 102,
     "metadata": {},
     "output_type": "execute_result"
    }
   ],
   "source": [
    "H = nmf.components_\n",
    "H"
   ]
  },
  {
   "cell_type": "markdown",
   "id": "f7d1c754",
   "metadata": {},
   "source": [
    "<font = 20>$ X≈W⋅H $ </font>"
   ]
  },
  {
   "cell_type": "code",
   "execution_count": 103,
   "id": "9da3c5b1",
   "metadata": {
    "ExecuteTime": {
     "end_time": "2022-04-27T12:21:26.321547Z",
     "start_time": "2022-04-27T12:21:26.307508Z"
    }
   },
   "outputs": [
    {
     "data": {
      "text/plain": [
       "array([[5.09557287, 3.505715  , 1.40181349, 0.20142453],\n",
       "       [4.74615313, 3.19593665, 1.46121558, 0.25777648],\n",
       "       [4.68693203, 3.2156289 , 1.30944512, 0.19431666],\n",
       "       [4.61513597, 3.08876443, 1.46335585, 0.26982337],\n",
       "       [5.07515905, 3.50594715, 1.36419363, 0.18617955]])"
      ]
     },
     "execution_count": 103,
     "metadata": {},
     "output_type": "execute_result"
    }
   ],
   "source": [
    "W.dot(H)[:5]"
   ]
  },
  {
   "cell_type": "code",
   "execution_count": 104,
   "id": "136d9342",
   "metadata": {
    "ExecuteTime": {
     "end_time": "2022-04-27T12:21:58.300917Z",
     "start_time": "2022-04-27T12:21:58.287952Z"
    }
   },
   "outputs": [
    {
     "data": {
      "text/plain": [
       "array([[5.1, 3.5, 1.4, 0.2],\n",
       "       [4.9, 3. , 1.4, 0.2],\n",
       "       [4.7, 3.2, 1.3, 0.2],\n",
       "       [4.6, 3.1, 1.5, 0.2],\n",
       "       [5. , 3.6, 1.4, 0.2]])"
      ]
     },
     "execution_count": 104,
     "metadata": {},
     "output_type": "execute_result"
    }
   ],
   "source": [
    "X[:5]"
   ]
  },
  {
   "cell_type": "code",
   "execution_count": null,
   "id": "5c5eb173",
   "metadata": {},
   "outputs": [],
   "source": []
  }
 ],
 "metadata": {
  "hide_input": false,
  "kernelspec": {
   "display_name": "Python 3 (ipykernel)",
   "language": "python",
   "name": "python3"
  },
  "language_info": {
   "codemirror_mode": {
    "name": "ipython",
    "version": 3
   },
   "file_extension": ".py",
   "mimetype": "text/x-python",
   "name": "python",
   "nbconvert_exporter": "python",
   "pygments_lexer": "ipython3",
   "version": "3.9.7"
  },
  "nbTranslate": {
   "displayLangs": [
    "*"
   ],
   "hotkey": "alt-t",
   "langInMainMenu": true,
   "sourceLang": "en",
   "targetLang": "fr",
   "useGoogleTranslate": true
  },
  "toc": {
   "base_numbering": 1,
   "nav_menu": {},
   "number_sections": true,
   "sideBar": true,
   "skip_h1_title": false,
   "title_cell": "Table of Contents",
   "title_sidebar": "Contents",
   "toc_cell": false,
   "toc_position": {},
   "toc_section_display": true,
   "toc_window_display": true
  },
  "varInspector": {
   "cols": {
    "lenName": 16,
    "lenType": 16,
    "lenVar": 40
   },
   "kernels_config": {
    "python": {
     "delete_cmd_postfix": "",
     "delete_cmd_prefix": "del ",
     "library": "var_list.py",
     "varRefreshCmd": "print(var_dic_list())"
    },
    "r": {
     "delete_cmd_postfix": ") ",
     "delete_cmd_prefix": "rm(",
     "library": "var_list.r",
     "varRefreshCmd": "cat(var_dic_list()) "
    }
   },
   "types_to_exclude": [
    "module",
    "function",
    "builtin_function_or_method",
    "instance",
    "_Feature"
   ],
   "window_display": false
  }
 },
 "nbformat": 4,
 "nbformat_minor": 5
}
