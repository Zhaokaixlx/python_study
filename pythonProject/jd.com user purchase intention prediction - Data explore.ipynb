{
 "cells": [
  {
   "cell_type": "markdown",
   "id": "8e7f3ae6",
   "metadata": {},
   "source": [
    "# 导包定义文件变量"
   ]
  },
  {
   "cell_type": "code",
   "execution_count": 1,
   "id": "3e1a717c",
   "metadata": {
    "ExecuteTime": {
     "end_time": "2022-05-12T11:20:59.764012Z",
     "start_time": "2022-05-12T11:20:58.848507Z"
    }
   },
   "outputs": [],
   "source": [
    "# 导入相关包\n",
    "%matplotlib inline\n",
    "# 绘图包\n",
    "import matplotlib\n",
    "import matplotlib.pyplot as plt\n",
    "import numpy as np\n",
    "import pandas as pd\n",
    "\n",
    "#定义文件名\n",
    "ACTION_201602_FILE = \"data/JData_Action_201602.csv\"\n",
    "ACTION_201603_FILE = \"data/JData_Action_201603.csv\"\n",
    "ACTION_201604_FILE = \"data/JData_Action_201604.csv\"\n",
    "COMMENT_FILE = \"data/JData_Comment.csv\"\n",
    "PRODUCT_FILE = \"data/JData_Product.csv\"\n",
    "USER_FILE = \"data/JData_User.csv\"\n",
    "USER_TABLE_FILE = \"data/User_table.csv\""
   ]
  },
  {
   "cell_type": "markdown",
   "id": "eeeec13a",
   "metadata": {},
   "source": [
    "# 周一到周日各天购买情况"
   ]
  },
  {
   "cell_type": "markdown",
   "id": "abc01547",
   "metadata": {},
   "source": [
    "## 定义提取购买数据函数"
   ]
  },
  {
   "cell_type": "code",
   "execution_count": 2,
   "id": "e8ebff3a",
   "metadata": {
    "ExecuteTime": {
     "end_time": "2022-05-12T11:20:59.767674Z",
     "start_time": "2022-05-12T11:20:59.764744Z"
    }
   },
   "outputs": [],
   "source": [
    "# 提取购买(type=4)的行为数据\n",
    "def get_from_action_data(fname, chunk_size=50000):\n",
    "    reader = pd.read_csv(fname, header=0, iterator=True)\n",
    "    chunks = []\n",
    "    loop = True\n",
    "    while loop:\n",
    "        try:\n",
    "            chunk = reader.get_chunk(chunk_size)[\n",
    "                [\"user_id\", \"sku_id\", \"type\", \"time\"]]\n",
    "            chunks.append(chunk)\n",
    "        except StopIteration:\n",
    "            loop = False\n",
    "            print(\"Iteration is stopped\")\n",
    "\n",
    "    df_ac = pd.concat(chunks, ignore_index=True)\n",
    "    # type=4,为购买\n",
    "    df_ac = df_ac[df_ac['type'] == 4]\n",
    "\n",
    "    return df_ac[[\"user_id\", \"sku_id\", \"time\"]]"
   ]
  },
  {
   "cell_type": "markdown",
   "id": "e5c73f55",
   "metadata": {},
   "source": [
    "## 提取全部购买数据"
   ]
  },
  {
   "cell_type": "code",
   "execution_count": 3,
   "id": "8da5cc27",
   "metadata": {
    "ExecuteTime": {
     "end_time": "2022-05-12T11:21:27.679337Z",
     "start_time": "2022-05-12T11:20:59.768435Z"
    }
   },
   "outputs": [
    {
     "name": "stdout",
     "output_type": "stream",
     "text": [
      "Iteration is stopped\n",
      "Iteration is stopped\n",
      "Iteration is stopped\n"
     ]
    },
    {
     "data": {
      "text/html": [
       "<div>\n",
       "<style scoped>\n",
       "    .dataframe tbody tr th:only-of-type {\n",
       "        vertical-align: middle;\n",
       "    }\n",
       "\n",
       "    .dataframe tbody tr th {\n",
       "        vertical-align: top;\n",
       "    }\n",
       "\n",
       "    .dataframe thead th {\n",
       "        text-align: right;\n",
       "    }\n",
       "</style>\n",
       "<table border=\"1\" class=\"dataframe\">\n",
       "  <thead>\n",
       "    <tr style=\"text-align: right;\">\n",
       "      <th></th>\n",
       "      <th>user_id</th>\n",
       "      <th>sku_id</th>\n",
       "      <th>time</th>\n",
       "    </tr>\n",
       "  </thead>\n",
       "  <tbody>\n",
       "    <tr>\n",
       "      <th>0</th>\n",
       "      <td>269365</td>\n",
       "      <td>166345</td>\n",
       "      <td>2016-02-01 00:01:00</td>\n",
       "    </tr>\n",
       "    <tr>\n",
       "      <th>1</th>\n",
       "      <td>235443</td>\n",
       "      <td>36692</td>\n",
       "      <td>2016-02-01 00:02:00</td>\n",
       "    </tr>\n",
       "    <tr>\n",
       "      <th>2</th>\n",
       "      <td>247689</td>\n",
       "      <td>9112</td>\n",
       "      <td>2016-02-01 00:03:00</td>\n",
       "    </tr>\n",
       "    <tr>\n",
       "      <th>3</th>\n",
       "      <td>273959</td>\n",
       "      <td>102034</td>\n",
       "      <td>2016-02-01 00:05:00</td>\n",
       "    </tr>\n",
       "    <tr>\n",
       "      <th>4</th>\n",
       "      <td>226791</td>\n",
       "      <td>163550</td>\n",
       "      <td>2016-02-01 00:06:00</td>\n",
       "    </tr>\n",
       "  </tbody>\n",
       "</table>\n",
       "</div>"
      ],
      "text/plain": [
       "   user_id  sku_id                 time\n",
       "0   269365  166345  2016-02-01 00:01:00\n",
       "1   235443   36692  2016-02-01 00:02:00\n",
       "2   247689    9112  2016-02-01 00:03:00\n",
       "3   273959  102034  2016-02-01 00:05:00\n",
       "4   226791  163550  2016-02-01 00:06:00"
      ]
     },
     "metadata": {},
     "output_type": "display_data"
    },
    {
     "data": {
      "text/plain": [
       "(48252, 3)"
      ]
     },
     "metadata": {},
     "output_type": "display_data"
    }
   ],
   "source": [
    "df_ac = []\n",
    "df_ac.append(get_from_action_data(fname=ACTION_201602_FILE))\n",
    "df_ac.append(get_from_action_data(fname=ACTION_201603_FILE))\n",
    "df_ac.append(get_from_action_data(fname=ACTION_201604_FILE))\n",
    "df_ac = pd.concat(df_ac, ignore_index=True)\n",
    "display(df_ac.head(),df_ac.shape)"
   ]
  },
  {
   "cell_type": "code",
   "execution_count": 4,
   "id": "02a7eb6c",
   "metadata": {
    "ExecuteTime": {
     "end_time": "2022-05-12T11:23:24.245825Z",
     "start_time": "2022-05-12T11:23:24.229673Z"
    }
   },
   "outputs": [
    {
     "data": {
      "text/plain": [
       "user_id     int64\n",
       "sku_id      int64\n",
       "time       object\n",
       "dtype: object"
      ]
     },
     "execution_count": 4,
     "metadata": {},
     "output_type": "execute_result"
    }
   ],
   "source": [
    "df_ac.dtypes"
   ]
  },
  {
   "cell_type": "markdown",
   "id": "65393e1f",
   "metadata": {},
   "source": [
    "## 日期转换"
   ]
  },
  {
   "cell_type": "code",
   "execution_count": 5,
   "id": "89d8d806",
   "metadata": {
    "ExecuteTime": {
     "end_time": "2022-05-12T11:26:11.894168Z",
     "start_time": "2022-05-12T11:26:11.640402Z"
    }
   },
   "outputs": [
    {
     "data": {
      "text/html": [
       "<div>\n",
       "<style scoped>\n",
       "    .dataframe tbody tr th:only-of-type {\n",
       "        vertical-align: middle;\n",
       "    }\n",
       "\n",
       "    .dataframe tbody tr th {\n",
       "        vertical-align: top;\n",
       "    }\n",
       "\n",
       "    .dataframe thead th {\n",
       "        text-align: right;\n",
       "    }\n",
       "</style>\n",
       "<table border=\"1\" class=\"dataframe\">\n",
       "  <thead>\n",
       "    <tr style=\"text-align: right;\">\n",
       "      <th></th>\n",
       "      <th>user_id</th>\n",
       "      <th>sku_id</th>\n",
       "      <th>time</th>\n",
       "    </tr>\n",
       "  </thead>\n",
       "  <tbody>\n",
       "    <tr>\n",
       "      <th>0</th>\n",
       "      <td>269365</td>\n",
       "      <td>166345</td>\n",
       "      <td>2016-02-01 00:01:00</td>\n",
       "    </tr>\n",
       "    <tr>\n",
       "      <th>1</th>\n",
       "      <td>235443</td>\n",
       "      <td>36692</td>\n",
       "      <td>2016-02-01 00:02:00</td>\n",
       "    </tr>\n",
       "    <tr>\n",
       "      <th>2</th>\n",
       "      <td>247689</td>\n",
       "      <td>9112</td>\n",
       "      <td>2016-02-01 00:03:00</td>\n",
       "    </tr>\n",
       "    <tr>\n",
       "      <th>3</th>\n",
       "      <td>273959</td>\n",
       "      <td>102034</td>\n",
       "      <td>2016-02-01 00:05:00</td>\n",
       "    </tr>\n",
       "    <tr>\n",
       "      <th>4</th>\n",
       "      <td>226791</td>\n",
       "      <td>163550</td>\n",
       "      <td>2016-02-01 00:06:00</td>\n",
       "    </tr>\n",
       "  </tbody>\n",
       "</table>\n",
       "</div>"
      ],
      "text/plain": [
       "   user_id  sku_id                time\n",
       "0   269365  166345 2016-02-01 00:01:00\n",
       "1   235443   36692 2016-02-01 00:02:00\n",
       "2   247689    9112 2016-02-01 00:03:00\n",
       "3   273959  102034 2016-02-01 00:05:00\n",
       "4   226791  163550 2016-02-01 00:06:00"
      ]
     },
     "metadata": {},
     "output_type": "display_data"
    },
    {
     "data": {
      "text/plain": [
       "user_id             int64\n",
       "sku_id              int64\n",
       "time       datetime64[ns]\n",
       "dtype: object"
      ]
     },
     "metadata": {},
     "output_type": "display_data"
    },
    {
     "data": {
      "text/html": [
       "<div>\n",
       "<style scoped>\n",
       "    .dataframe tbody tr th:only-of-type {\n",
       "        vertical-align: middle;\n",
       "    }\n",
       "\n",
       "    .dataframe tbody tr th {\n",
       "        vertical-align: top;\n",
       "    }\n",
       "\n",
       "    .dataframe thead th {\n",
       "        text-align: right;\n",
       "    }\n",
       "</style>\n",
       "<table border=\"1\" class=\"dataframe\">\n",
       "  <thead>\n",
       "    <tr style=\"text-align: right;\">\n",
       "      <th></th>\n",
       "      <th>user_id</th>\n",
       "      <th>sku_id</th>\n",
       "      <th>time</th>\n",
       "    </tr>\n",
       "  </thead>\n",
       "  <tbody>\n",
       "    <tr>\n",
       "      <th>0</th>\n",
       "      <td>269365</td>\n",
       "      <td>166345</td>\n",
       "      <td>1</td>\n",
       "    </tr>\n",
       "    <tr>\n",
       "      <th>1</th>\n",
       "      <td>235443</td>\n",
       "      <td>36692</td>\n",
       "      <td>1</td>\n",
       "    </tr>\n",
       "    <tr>\n",
       "      <th>2</th>\n",
       "      <td>247689</td>\n",
       "      <td>9112</td>\n",
       "      <td>1</td>\n",
       "    </tr>\n",
       "    <tr>\n",
       "      <th>3</th>\n",
       "      <td>273959</td>\n",
       "      <td>102034</td>\n",
       "      <td>1</td>\n",
       "    </tr>\n",
       "    <tr>\n",
       "      <th>4</th>\n",
       "      <td>226791</td>\n",
       "      <td>163550</td>\n",
       "      <td>1</td>\n",
       "    </tr>\n",
       "  </tbody>\n",
       "</table>\n",
       "</div>"
      ],
      "text/plain": [
       "   user_id  sku_id  time\n",
       "0   269365  166345     1\n",
       "1   235443   36692     1\n",
       "2   247689    9112     1\n",
       "3   273959  102034     1\n",
       "4   226791  163550     1"
      ]
     },
     "execution_count": 5,
     "metadata": {},
     "output_type": "execute_result"
    }
   ],
   "source": [
    "# 将time字段转换为datetime类型\n",
    "df_ac['time'] = pd.to_datetime(df_ac['time'])\n",
    "\n",
    "display(df_ac.head(),df_ac.dtypes)\n",
    "\n",
    "# 使用lambda匿名函数将时间time转换为星期(周一为1, 周日为７)\n",
    "df_ac['time'] = df_ac['time'].apply(lambda x: x.weekday() + 1)\n",
    "df_ac.head()"
   ]
  },
  {
   "cell_type": "code",
   "execution_count": 6,
   "id": "52fd8e4d",
   "metadata": {
    "ExecuteTime": {
     "end_time": "2022-05-12T11:27:11.745308Z",
     "start_time": "2022-05-12T11:27:11.730967Z"
    }
   },
   "outputs": [
    {
     "data": {
      "text/plain": [
       "array([1, 2, 3, 4, 5, 6, 7])"
      ]
     },
     "execution_count": 6,
     "metadata": {},
     "output_type": "execute_result"
    }
   ],
   "source": [
    "df_ac['time'].unique()"
   ]
  },
  {
   "cell_type": "markdown",
   "id": "e7757c62",
   "metadata": {},
   "source": [
    "## 分组聚合数据汇总"
   ]
  },
  {
   "cell_type": "code",
   "execution_count": 7,
   "id": "d3e1f09d",
   "metadata": {
    "ExecuteTime": {
     "end_time": "2022-05-12T11:29:18.969686Z",
     "start_time": "2022-05-12T11:29:18.947349Z"
    },
    "scrolled": true
   },
   "outputs": [
    {
     "data": {
      "text/html": [
       "<div>\n",
       "<style scoped>\n",
       "    .dataframe tbody tr th:only-of-type {\n",
       "        vertical-align: middle;\n",
       "    }\n",
       "\n",
       "    .dataframe tbody tr th {\n",
       "        vertical-align: top;\n",
       "    }\n",
       "\n",
       "    .dataframe thead th {\n",
       "        text-align: right;\n",
       "    }\n",
       "</style>\n",
       "<table border=\"1\" class=\"dataframe\">\n",
       "  <thead>\n",
       "    <tr style=\"text-align: right;\">\n",
       "      <th></th>\n",
       "      <th>weekday</th>\n",
       "      <th>user_num</th>\n",
       "    </tr>\n",
       "  </thead>\n",
       "  <tbody>\n",
       "    <tr>\n",
       "      <th>0</th>\n",
       "      <td>1</td>\n",
       "      <td>6162</td>\n",
       "    </tr>\n",
       "    <tr>\n",
       "      <th>1</th>\n",
       "      <td>2</td>\n",
       "      <td>6946</td>\n",
       "    </tr>\n",
       "    <tr>\n",
       "      <th>2</th>\n",
       "      <td>3</td>\n",
       "      <td>5001</td>\n",
       "    </tr>\n",
       "    <tr>\n",
       "      <th>3</th>\n",
       "      <td>4</td>\n",
       "      <td>6409</td>\n",
       "    </tr>\n",
       "    <tr>\n",
       "      <th>4</th>\n",
       "      <td>5</td>\n",
       "      <td>6049</td>\n",
       "    </tr>\n",
       "    <tr>\n",
       "      <th>5</th>\n",
       "      <td>6</td>\n",
       "      <td>4174</td>\n",
       "    </tr>\n",
       "    <tr>\n",
       "      <th>6</th>\n",
       "      <td>7</td>\n",
       "      <td>3710</td>\n",
       "    </tr>\n",
       "  </tbody>\n",
       "</table>\n",
       "</div>"
      ],
      "text/plain": [
       "   weekday  user_num\n",
       "0        1      6162\n",
       "1        2      6946\n",
       "2        3      5001\n",
       "3        4      6409\n",
       "4        5      6049\n",
       "5        6      4174\n",
       "6        7      3710"
      ]
     },
     "execution_count": 7,
     "metadata": {},
     "output_type": "execute_result"
    }
   ],
   "source": [
    "# 周一到周日每天购买用户个数\n",
    "df_user = df_ac.groupby('time')['user_id'].nunique()\n",
    "df_user = df_user.to_frame().reset_index()\n",
    "df_user.columns = ['weekday', 'user_num']\n",
    "df_user"
   ]
  },
  {
   "cell_type": "code",
   "execution_count": 10,
   "id": "27d7e334",
   "metadata": {
    "ExecuteTime": {
     "end_time": "2022-05-12T11:34:16.535330Z",
     "start_time": "2022-05-12T11:34:16.511519Z"
    }
   },
   "outputs": [
    {
     "data": {
      "text/html": [
       "<div>\n",
       "<style scoped>\n",
       "    .dataframe tbody tr th:only-of-type {\n",
       "        vertical-align: middle;\n",
       "    }\n",
       "\n",
       "    .dataframe tbody tr th {\n",
       "        vertical-align: top;\n",
       "    }\n",
       "\n",
       "    .dataframe thead th {\n",
       "        text-align: right;\n",
       "    }\n",
       "</style>\n",
       "<table border=\"1\" class=\"dataframe\">\n",
       "  <thead>\n",
       "    <tr style=\"text-align: right;\">\n",
       "      <th></th>\n",
       "      <th>weekday</th>\n",
       "      <th>item_num</th>\n",
       "    </tr>\n",
       "  </thead>\n",
       "  <tbody>\n",
       "    <tr>\n",
       "      <th>0</th>\n",
       "      <td>1</td>\n",
       "      <td>1844</td>\n",
       "    </tr>\n",
       "    <tr>\n",
       "      <th>1</th>\n",
       "      <td>2</td>\n",
       "      <td>1996</td>\n",
       "    </tr>\n",
       "    <tr>\n",
       "      <th>2</th>\n",
       "      <td>3</td>\n",
       "      <td>1800</td>\n",
       "    </tr>\n",
       "    <tr>\n",
       "      <th>3</th>\n",
       "      <td>4</td>\n",
       "      <td>1805</td>\n",
       "    </tr>\n",
       "    <tr>\n",
       "      <th>4</th>\n",
       "      <td>5</td>\n",
       "      <td>1855</td>\n",
       "    </tr>\n",
       "    <tr>\n",
       "      <th>5</th>\n",
       "      <td>6</td>\n",
       "      <td>1643</td>\n",
       "    </tr>\n",
       "    <tr>\n",
       "      <th>6</th>\n",
       "      <td>7</td>\n",
       "      <td>1578</td>\n",
       "    </tr>\n",
       "  </tbody>\n",
       "</table>\n",
       "</div>"
      ],
      "text/plain": [
       "   weekday  item_num\n",
       "0        1      1844\n",
       "1        2      1996\n",
       "2        3      1800\n",
       "3        4      1805\n",
       "4        5      1855\n",
       "5        6      1643\n",
       "6        7      1578"
      ]
     },
     "execution_count": 10,
     "metadata": {},
     "output_type": "execute_result"
    }
   ],
   "source": [
    "# 周一到周日每天购买商品个数\n",
    "df_item = df_ac.groupby('time')['sku_id'].nunique()\n",
    "df_item = df_item.to_frame().reset_index()\n",
    "df_item.columns = ['weekday', 'item_num']\n",
    "df_item"
   ]
  },
  {
   "cell_type": "code",
   "execution_count": 8,
   "id": "657391e1",
   "metadata": {
    "ExecuteTime": {
     "end_time": "2022-05-12T11:30:58.148700Z",
     "start_time": "2022-05-12T11:30:58.129064Z"
    }
   },
   "outputs": [
    {
     "data": {
      "text/html": [
       "<div>\n",
       "<style scoped>\n",
       "    .dataframe tbody tr th:only-of-type {\n",
       "        vertical-align: middle;\n",
       "    }\n",
       "\n",
       "    .dataframe tbody tr th {\n",
       "        vertical-align: top;\n",
       "    }\n",
       "\n",
       "    .dataframe thead th {\n",
       "        text-align: right;\n",
       "    }\n",
       "</style>\n",
       "<table border=\"1\" class=\"dataframe\">\n",
       "  <thead>\n",
       "    <tr style=\"text-align: right;\">\n",
       "      <th></th>\n",
       "      <th>weekday</th>\n",
       "      <th>user_item_num</th>\n",
       "    </tr>\n",
       "  </thead>\n",
       "  <tbody>\n",
       "    <tr>\n",
       "      <th>0</th>\n",
       "      <td>1</td>\n",
       "      <td>7759</td>\n",
       "    </tr>\n",
       "    <tr>\n",
       "      <th>1</th>\n",
       "      <td>2</td>\n",
       "      <td>8869</td>\n",
       "    </tr>\n",
       "    <tr>\n",
       "      <th>2</th>\n",
       "      <td>3</td>\n",
       "      <td>6262</td>\n",
       "    </tr>\n",
       "    <tr>\n",
       "      <th>3</th>\n",
       "      <td>4</td>\n",
       "      <td>8078</td>\n",
       "    </tr>\n",
       "    <tr>\n",
       "      <th>4</th>\n",
       "      <td>5</td>\n",
       "      <td>7505</td>\n",
       "    </tr>\n",
       "    <tr>\n",
       "      <th>5</th>\n",
       "      <td>6</td>\n",
       "      <td>5143</td>\n",
       "    </tr>\n",
       "    <tr>\n",
       "      <th>6</th>\n",
       "      <td>7</td>\n",
       "      <td>4636</td>\n",
       "    </tr>\n",
       "  </tbody>\n",
       "</table>\n",
       "</div>"
      ],
      "text/plain": [
       "   weekday  user_item_num\n",
       "0        1           7759\n",
       "1        2           8869\n",
       "2        3           6262\n",
       "3        4           8078\n",
       "4        5           7505\n",
       "5        6           5143\n",
       "6        7           4636"
      ]
     },
     "execution_count": 8,
     "metadata": {},
     "output_type": "execute_result"
    }
   ],
   "source": [
    "# 周一到周日每天购买记录个数\n",
    "df_ui = df_ac.groupby('time', as_index=False).size()\n",
    "df_ui.columns = ['weekday', 'user_item_num']\n",
    "df_ui"
   ]
  },
  {
   "cell_type": "markdown",
   "id": "599eb4c9",
   "metadata": {},
   "source": [
    "## 周购买情况数据可视化"
   ]
  },
  {
   "cell_type": "code",
   "execution_count": 11,
   "id": "6814d957",
   "metadata": {
    "ExecuteTime": {
     "end_time": "2022-05-12T11:34:21.047827Z",
     "start_time": "2022-05-12T11:34:20.890359Z"
    }
   },
   "outputs": [
    {
     "data": {
      "text/plain": [
       "<matplotlib.legend.Legend at 0x7f770913e6d0>"
      ]
     },
     "execution_count": 11,
     "metadata": {},
     "output_type": "execute_result"
    },
    {
     "data": {
      "image/png": "[encoded data removed]",
      "text/plain": [
       "<Figure size 648x432 with 1 Axes>"
      ]
     },
     "metadata": {
      "needs_background": "light"
     },
     "output_type": "display_data"
    }
   ],
   "source": [
    "# 条形宽度\n",
    "bar_width = 0.2\n",
    "# 透明度\n",
    "opacity = 0.4\n",
    "\n",
    "plt.figure(figsize=(9,6))\n",
    "\n",
    "plt.bar(df_user['weekday'], df_user['user_num'], bar_width, \n",
    "        alpha=opacity, color='c', label='user')\n",
    "plt.bar(df_item['weekday']+bar_width, df_item['item_num'], \n",
    "        bar_width, alpha=opacity, color='g', label='item')\n",
    "plt.bar(df_ui['weekday']+bar_width*2, df_ui['user_item_num'], \n",
    "        bar_width, alpha=opacity, color='m', label='user_item')\n",
    "\n",
    "plt.xlabel('weekday')\n",
    "plt.ylabel('number')\n",
    "plt.title('A Week Purchase Table')\n",
    "plt.xticks(df_user['weekday'] + bar_width * 3 / 2., (1,2,3,4,5,6,7))\n",
    "\n",
    "plt.tight_layout() \n",
    "plt.legend(prop={'size':10})\n",
    "\n",
    "# plt.savefig('./10-周购买情况数据可视化.png',dpi = 200)"
   ]
  },
  {
   "cell_type": "markdown",
   "id": "10ff40ea",
   "metadata": {},
   "source": [
    "## 结论"
   ]
  },
  {
   "cell_type": "markdown",
   "id": "780612cd",
   "metadata": {},
   "source": [
    "周六，周日购买量较少（在玩，逛街，线下购物）"
   ]
  },
  {
   "cell_type": "markdown",
   "id": "26ad74f1",
   "metadata": {},
   "source": [
    "# 一个月中各天购买量"
   ]
  },
  {
   "cell_type": "markdown",
   "id": "eae7e812",
   "metadata": {},
   "source": [
    "## 2016年2月"
   ]
  },
  {
   "cell_type": "markdown",
   "id": "d1231f14",
   "metadata": {},
   "source": [
    "获取数据"
   ]
  },
  {
   "cell_type": "code",
   "execution_count": 12,
   "id": "a0db54a3",
   "metadata": {
    "ExecuteTime": {
     "end_time": "2022-05-12T11:48:49.424800Z",
     "start_time": "2022-05-12T11:48:42.982729Z"
    }
   },
   "outputs": [
    {
     "name": "stdout",
     "output_type": "stream",
     "text": [
      "Iteration is stopped\n"
     ]
    },
    {
     "data": {
      "text/html": [
       "<div>\n",
       "<style scoped>\n",
       "    .dataframe tbody tr th:only-of-type {\n",
       "        vertical-align: middle;\n",
       "    }\n",
       "\n",
       "    .dataframe tbody tr th {\n",
       "        vertical-align: top;\n",
       "    }\n",
       "\n",
       "    .dataframe thead th {\n",
       "        text-align: right;\n",
       "    }\n",
       "</style>\n",
       "<table border=\"1\" class=\"dataframe\">\n",
       "  <thead>\n",
       "    <tr style=\"text-align: right;\">\n",
       "      <th></th>\n",
       "      <th>user_id</th>\n",
       "      <th>sku_id</th>\n",
       "      <th>time</th>\n",
       "    </tr>\n",
       "  </thead>\n",
       "  <tbody>\n",
       "    <tr>\n",
       "      <th>351</th>\n",
       "      <td>269365</td>\n",
       "      <td>166345</td>\n",
       "      <td>1</td>\n",
       "    </tr>\n",
       "    <tr>\n",
       "      <th>649</th>\n",
       "      <td>235443</td>\n",
       "      <td>36692</td>\n",
       "      <td>1</td>\n",
       "    </tr>\n",
       "    <tr>\n",
       "      <th>980</th>\n",
       "      <td>247689</td>\n",
       "      <td>9112</td>\n",
       "      <td>1</td>\n",
       "    </tr>\n",
       "    <tr>\n",
       "      <th>1719</th>\n",
       "      <td>273959</td>\n",
       "      <td>102034</td>\n",
       "      <td>1</td>\n",
       "    </tr>\n",
       "    <tr>\n",
       "      <th>2153</th>\n",
       "      <td>226791</td>\n",
       "      <td>163550</td>\n",
       "      <td>1</td>\n",
       "    </tr>\n",
       "  </tbody>\n",
       "</table>\n",
       "</div>"
      ],
      "text/plain": [
       "      user_id  sku_id  time\n",
       "351    269365  166345     1\n",
       "649    235443   36692     1\n",
       "980    247689    9112     1\n",
       "1719   273959  102034     1\n",
       "2153   226791  163550     1"
      ]
     },
     "execution_count": 12,
     "metadata": {},
     "output_type": "execute_result"
    }
   ],
   "source": [
    "df_ac = get_from_action_data(fname=ACTION_201602_FILE)\n",
    "# 将time字段转换为datetime类型并使用lambda匿名函数将时间time转换为天\n",
    "df_ac['time'] = pd.to_datetime(df_ac['time']).apply(lambda x: x.day)\n",
    "df_ac.head()"
   ]
  },
  {
   "cell_type": "code",
   "execution_count": 13,
   "id": "15a51c25",
   "metadata": {
    "ExecuteTime": {
     "end_time": "2022-05-12T11:49:10.590330Z",
     "start_time": "2022-05-12T11:49:10.576724Z"
    }
   },
   "outputs": [
    {
     "data": {
      "text/plain": [
       "array([ 1,  2,  3,  4,  5,  6,  7,  8,  9, 10, 11, 12, 13, 14, 15, 16, 17,\n",
       "       18, 19, 20, 21, 22, 23, 24, 25, 26, 27, 28, 29])"
      ]
     },
     "execution_count": 13,
     "metadata": {},
     "output_type": "execute_result"
    }
   ],
   "source": [
    "df_ac['time'].unique()"
   ]
  },
  {
   "cell_type": "markdown",
   "id": "9a4dbd5d",
   "metadata": {},
   "source": [
    "分组聚合数据汇总"
   ]
  },
  {
   "cell_type": "code",
   "execution_count": 14,
   "id": "b07acc63",
   "metadata": {
    "ExecuteTime": {
     "end_time": "2022-05-12T11:49:32.042751Z",
     "start_time": "2022-05-12T11:49:32.017214Z"
    }
   },
   "outputs": [
    {
     "data": {
      "text/html": [
       "<div>\n",
       "<style scoped>\n",
       "    .dataframe tbody tr th:only-of-type {\n",
       "        vertical-align: middle;\n",
       "    }\n",
       "\n",
       "    .dataframe tbody tr th {\n",
       "        vertical-align: top;\n",
       "    }\n",
       "\n",
       "    .dataframe thead th {\n",
       "        text-align: right;\n",
       "    }\n",
       "</style>\n",
       "<table border=\"1\" class=\"dataframe\">\n",
       "  <thead>\n",
       "    <tr style=\"text-align: right;\">\n",
       "      <th></th>\n",
       "      <th>day</th>\n",
       "      <th>user_item_num</th>\n",
       "    </tr>\n",
       "  </thead>\n",
       "  <tbody>\n",
       "    <tr>\n",
       "      <th>0</th>\n",
       "      <td>1</td>\n",
       "      <td>539</td>\n",
       "    </tr>\n",
       "    <tr>\n",
       "      <th>1</th>\n",
       "      <td>2</td>\n",
       "      <td>462</td>\n",
       "    </tr>\n",
       "    <tr>\n",
       "      <th>2</th>\n",
       "      <td>3</td>\n",
       "      <td>357</td>\n",
       "    </tr>\n",
       "    <tr>\n",
       "      <th>3</th>\n",
       "      <td>4</td>\n",
       "      <td>297</td>\n",
       "    </tr>\n",
       "    <tr>\n",
       "      <th>4</th>\n",
       "      <td>5</td>\n",
       "      <td>179</td>\n",
       "    </tr>\n",
       "    <tr>\n",
       "      <th>5</th>\n",
       "      <td>6</td>\n",
       "      <td>134</td>\n",
       "    </tr>\n",
       "    <tr>\n",
       "      <th>6</th>\n",
       "      <td>7</td>\n",
       "      <td>107</td>\n",
       "    </tr>\n",
       "    <tr>\n",
       "      <th>7</th>\n",
       "      <td>8</td>\n",
       "      <td>109</td>\n",
       "    </tr>\n",
       "    <tr>\n",
       "      <th>8</th>\n",
       "      <td>9</td>\n",
       "      <td>127</td>\n",
       "    </tr>\n",
       "    <tr>\n",
       "      <th>9</th>\n",
       "      <td>10</td>\n",
       "      <td>150</td>\n",
       "    </tr>\n",
       "    <tr>\n",
       "      <th>10</th>\n",
       "      <td>11</td>\n",
       "      <td>219</td>\n",
       "    </tr>\n",
       "    <tr>\n",
       "      <th>11</th>\n",
       "      <td>12</td>\n",
       "      <td>243</td>\n",
       "    </tr>\n",
       "    <tr>\n",
       "      <th>12</th>\n",
       "      <td>13</td>\n",
       "      <td>328</td>\n",
       "    </tr>\n",
       "    <tr>\n",
       "      <th>13</th>\n",
       "      <td>14</td>\n",
       "      <td>412</td>\n",
       "    </tr>\n",
       "    <tr>\n",
       "      <th>14</th>\n",
       "      <td>15</td>\n",
       "      <td>489</td>\n",
       "    </tr>\n",
       "    <tr>\n",
       "      <th>15</th>\n",
       "      <td>16</td>\n",
       "      <td>566</td>\n",
       "    </tr>\n",
       "    <tr>\n",
       "      <th>16</th>\n",
       "      <td>17</td>\n",
       "      <td>633</td>\n",
       "    </tr>\n",
       "    <tr>\n",
       "      <th>17</th>\n",
       "      <td>18</td>\n",
       "      <td>497</td>\n",
       "    </tr>\n",
       "    <tr>\n",
       "      <th>18</th>\n",
       "      <td>19</td>\n",
       "      <td>514</td>\n",
       "    </tr>\n",
       "    <tr>\n",
       "      <th>19</th>\n",
       "      <td>20</td>\n",
       "      <td>450</td>\n",
       "    </tr>\n",
       "    <tr>\n",
       "      <th>20</th>\n",
       "      <td>21</td>\n",
       "      <td>401</td>\n",
       "    </tr>\n",
       "    <tr>\n",
       "      <th>21</th>\n",
       "      <td>22</td>\n",
       "      <td>608</td>\n",
       "    </tr>\n",
       "    <tr>\n",
       "      <th>22</th>\n",
       "      <td>23</td>\n",
       "      <td>523</td>\n",
       "    </tr>\n",
       "    <tr>\n",
       "      <th>23</th>\n",
       "      <td>24</td>\n",
       "      <td>497</td>\n",
       "    </tr>\n",
       "    <tr>\n",
       "      <th>24</th>\n",
       "      <td>25</td>\n",
       "      <td>556</td>\n",
       "    </tr>\n",
       "    <tr>\n",
       "      <th>25</th>\n",
       "      <td>26</td>\n",
       "      <td>571</td>\n",
       "    </tr>\n",
       "    <tr>\n",
       "      <th>26</th>\n",
       "      <td>27</td>\n",
       "      <td>515</td>\n",
       "    </tr>\n",
       "    <tr>\n",
       "      <th>27</th>\n",
       "      <td>28</td>\n",
       "      <td>502</td>\n",
       "    </tr>\n",
       "    <tr>\n",
       "      <th>28</th>\n",
       "      <td>29</td>\n",
       "      <td>500</td>\n",
       "    </tr>\n",
       "  </tbody>\n",
       "</table>\n",
       "</div>"
      ],
      "text/plain": [
       "    day  user_item_num\n",
       "0     1            539\n",
       "1     2            462\n",
       "2     3            357\n",
       "3     4            297\n",
       "4     5            179\n",
       "5     6            134\n",
       "6     7            107\n",
       "7     8            109\n",
       "8     9            127\n",
       "9    10            150\n",
       "10   11            219\n",
       "11   12            243\n",
       "12   13            328\n",
       "13   14            412\n",
       "14   15            489\n",
       "15   16            566\n",
       "16   17            633\n",
       "17   18            497\n",
       "18   19            514\n",
       "19   20            450\n",
       "20   21            401\n",
       "21   22            608\n",
       "22   23            523\n",
       "23   24            497\n",
       "24   25            556\n",
       "25   26            571\n",
       "26   27            515\n",
       "27   28            502\n",
       "28   29            500"
      ]
     },
     "execution_count": 14,
     "metadata": {},
     "output_type": "execute_result"
    }
   ],
   "source": [
    "# 每天购买用户个数\n",
    "df_user = df_ac.groupby('time')['user_id'].nunique()\n",
    "df_user = df_user.to_frame().reset_index()\n",
    "df_user.columns = ['day', 'user_num']\n",
    "\n",
    "# 每天购买用商品数\n",
    "df_item = df_ac.groupby('time')['sku_id'].nunique()\n",
    "df_item = df_item.to_frame().reset_index()\n",
    "df_item.columns = ['day', 'item_num']\n",
    "\n",
    "# 每天购买记录个数\n",
    "df_ui = df_ac.groupby('time', as_index=False).size()\n",
    "df_ui.columns = ['day', 'user_item_num']\n",
    "df_ui"
   ]
  },
  {
   "cell_type": "markdown",
   "id": "aee64e73",
   "metadata": {},
   "source": [
    "2月购买情况可视化"
   ]
  },
  {
   "cell_type": "code",
   "execution_count": 15,
   "id": "4f02bb54",
   "metadata": {
    "ExecuteTime": {
     "end_time": "2022-05-12T11:50:48.397301Z",
     "start_time": "2022-05-12T11:50:48.380236Z"
    }
   },
   "outputs": [
    {
     "data": {
      "text/html": [
       "<div>\n",
       "<style scoped>\n",
       "    .dataframe tbody tr th:only-of-type {\n",
       "        vertical-align: middle;\n",
       "    }\n",
       "\n",
       "    .dataframe tbody tr th {\n",
       "        vertical-align: top;\n",
       "    }\n",
       "\n",
       "    .dataframe thead th {\n",
       "        text-align: right;\n",
       "    }\n",
       "</style>\n",
       "<table border=\"1\" class=\"dataframe\">\n",
       "  <thead>\n",
       "    <tr style=\"text-align: right;\">\n",
       "      <th></th>\n",
       "      <th>day</th>\n",
       "      <th>user_num</th>\n",
       "    </tr>\n",
       "  </thead>\n",
       "  <tbody>\n",
       "    <tr>\n",
       "      <th>0</th>\n",
       "      <td>1</td>\n",
       "      <td>454</td>\n",
       "    </tr>\n",
       "    <tr>\n",
       "      <th>1</th>\n",
       "      <td>2</td>\n",
       "      <td>383</td>\n",
       "    </tr>\n",
       "    <tr>\n",
       "      <th>2</th>\n",
       "      <td>3</td>\n",
       "      <td>302</td>\n",
       "    </tr>\n",
       "    <tr>\n",
       "      <th>3</th>\n",
       "      <td>4</td>\n",
       "      <td>256</td>\n",
       "    </tr>\n",
       "    <tr>\n",
       "      <th>4</th>\n",
       "      <td>5</td>\n",
       "      <td>160</td>\n",
       "    </tr>\n",
       "    <tr>\n",
       "      <th>5</th>\n",
       "      <td>6</td>\n",
       "      <td>120</td>\n",
       "    </tr>\n",
       "    <tr>\n",
       "      <th>6</th>\n",
       "      <td>7</td>\n",
       "      <td>82</td>\n",
       "    </tr>\n",
       "    <tr>\n",
       "      <th>7</th>\n",
       "      <td>8</td>\n",
       "      <td>100</td>\n",
       "    </tr>\n",
       "    <tr>\n",
       "      <th>8</th>\n",
       "      <td>9</td>\n",
       "      <td>113</td>\n",
       "    </tr>\n",
       "    <tr>\n",
       "      <th>9</th>\n",
       "      <td>10</td>\n",
       "      <td>121</td>\n",
       "    </tr>\n",
       "    <tr>\n",
       "      <th>10</th>\n",
       "      <td>11</td>\n",
       "      <td>190</td>\n",
       "    </tr>\n",
       "    <tr>\n",
       "      <th>11</th>\n",
       "      <td>12</td>\n",
       "      <td>216</td>\n",
       "    </tr>\n",
       "    <tr>\n",
       "      <th>12</th>\n",
       "      <td>13</td>\n",
       "      <td>271</td>\n",
       "    </tr>\n",
       "    <tr>\n",
       "      <th>13</th>\n",
       "      <td>14</td>\n",
       "      <td>354</td>\n",
       "    </tr>\n",
       "    <tr>\n",
       "      <th>14</th>\n",
       "      <td>15</td>\n",
       "      <td>409</td>\n",
       "    </tr>\n",
       "    <tr>\n",
       "      <th>15</th>\n",
       "      <td>16</td>\n",
       "      <td>458</td>\n",
       "    </tr>\n",
       "    <tr>\n",
       "      <th>16</th>\n",
       "      <td>17</td>\n",
       "      <td>533</td>\n",
       "    </tr>\n",
       "    <tr>\n",
       "      <th>17</th>\n",
       "      <td>18</td>\n",
       "      <td>419</td>\n",
       "    </tr>\n",
       "    <tr>\n",
       "      <th>18</th>\n",
       "      <td>19</td>\n",
       "      <td>429</td>\n",
       "    </tr>\n",
       "    <tr>\n",
       "      <th>19</th>\n",
       "      <td>20</td>\n",
       "      <td>386</td>\n",
       "    </tr>\n",
       "    <tr>\n",
       "      <th>20</th>\n",
       "      <td>21</td>\n",
       "      <td>337</td>\n",
       "    </tr>\n",
       "    <tr>\n",
       "      <th>21</th>\n",
       "      <td>22</td>\n",
       "      <td>501</td>\n",
       "    </tr>\n",
       "    <tr>\n",
       "      <th>22</th>\n",
       "      <td>23</td>\n",
       "      <td>423</td>\n",
       "    </tr>\n",
       "    <tr>\n",
       "      <th>23</th>\n",
       "      <td>24</td>\n",
       "      <td>421</td>\n",
       "    </tr>\n",
       "    <tr>\n",
       "      <th>24</th>\n",
       "      <td>25</td>\n",
       "      <td>448</td>\n",
       "    </tr>\n",
       "    <tr>\n",
       "      <th>25</th>\n",
       "      <td>26</td>\n",
       "      <td>487</td>\n",
       "    </tr>\n",
       "    <tr>\n",
       "      <th>26</th>\n",
       "      <td>27</td>\n",
       "      <td>425</td>\n",
       "    </tr>\n",
       "    <tr>\n",
       "      <th>27</th>\n",
       "      <td>28</td>\n",
       "      <td>405</td>\n",
       "    </tr>\n",
       "    <tr>\n",
       "      <th>28</th>\n",
       "      <td>29</td>\n",
       "      <td>431</td>\n",
       "    </tr>\n",
       "  </tbody>\n",
       "</table>\n",
       "</div>"
      ],
      "text/plain": [
       "    day  user_num\n",
       "0     1       454\n",
       "1     2       383\n",
       "2     3       302\n",
       "3     4       256\n",
       "4     5       160\n",
       "5     6       120\n",
       "6     7        82\n",
       "7     8       100\n",
       "8     9       113\n",
       "9    10       121\n",
       "10   11       190\n",
       "11   12       216\n",
       "12   13       271\n",
       "13   14       354\n",
       "14   15       409\n",
       "15   16       458\n",
       "16   17       533\n",
       "17   18       419\n",
       "18   19       429\n",
       "19   20       386\n",
       "20   21       337\n",
       "21   22       501\n",
       "22   23       423\n",
       "23   24       421\n",
       "24   25       448\n",
       "25   26       487\n",
       "26   27       425\n",
       "27   28       405\n",
       "28   29       431"
      ]
     },
     "execution_count": 15,
     "metadata": {},
     "output_type": "execute_result"
    }
   ],
   "source": [
    "df_user"
   ]
  },
  {
   "cell_type": "code",
   "execution_count": 16,
   "id": "72317dbe",
   "metadata": {
    "ExecuteTime": {
     "end_time": "2022-05-12T11:51:17.358339Z",
     "start_time": "2022-05-12T11:51:17.084083Z"
    }
   },
   "outputs": [
    {
     "data": {
      "text/plain": [
       "<matplotlib.legend.Legend at 0x7f7793d022b0>"
      ]
     },
     "execution_count": 16,
     "metadata": {},
     "output_type": "execute_result"
    },
    {
     "data": {
      "image/png": "[encoded data removed]",
      "text/plain": [
       "<Figure size 1008x720 with 1 Axes>"
      ]
     },
     "metadata": {
      "needs_background": "light"
     },
     "output_type": "display_data"
    }
   ],
   "source": [
    "# 条形宽度\n",
    "bar_width = 0.2\n",
    "# 透明度\n",
    "opacity = 0.4\n",
    "# 天数\n",
    "day_range = range(1,len(df_user['day']) + 1)\n",
    "# 设置图片大小\n",
    "plt.figure(figsize=(14,10))\n",
    "\n",
    "plt.bar(df_user['day'], df_user['user_num'], bar_width, \n",
    "        alpha=opacity, color='c', label='user')\n",
    "plt.bar(df_item['day']+bar_width, df_item['item_num'], \n",
    "        bar_width, alpha=opacity, color='g', label='item')\n",
    "plt.bar(df_ui['day']+bar_width*2, df_ui['user_item_num'], \n",
    "        bar_width, alpha=opacity, color='m', label='user_item')\n",
    "\n",
    "plt.xlabel('day')\n",
    "plt.ylabel('number')\n",
    "plt.title('February Purchase Table')\n",
    "plt.xticks(df_user['day'] + bar_width * 3 / 2., day_range)\n",
    "plt.tight_layout() \n",
    "plt.legend(prop={'size':15})\n",
    "\n",
    "# plt.savefig('./11-2月购买情况可视化.png',dpi = 200)"
   ]
  },
  {
   "cell_type": "markdown",
   "id": "d29c7e05",
   "metadata": {},
   "source": [
    "分析： 2月份5,6,7,8,9,10 这几天购买量非常少，原因可能是中国农历春节，快递不营业"
   ]
  },
  {
   "cell_type": "markdown",
   "id": "0625c49d",
   "metadata": {},
   "source": [
    "## 2016年3月"
   ]
  },
  {
   "cell_type": "markdown",
   "id": "ee28be29",
   "metadata": {},
   "source": [
    "加载数据分组聚合"
   ]
  },
  {
   "cell_type": "code",
   "execution_count": 17,
   "id": "68f34433",
   "metadata": {
    "ExecuteTime": {
     "end_time": "2022-05-12T11:56:20.109612Z",
     "start_time": "2022-05-12T11:56:05.814550Z"
    }
   },
   "outputs": [
    {
     "name": "stdout",
     "output_type": "stream",
     "text": [
      "Iteration is stopped\n"
     ]
    },
    {
     "data": {
      "text/html": [
       "<div>\n",
       "<style scoped>\n",
       "    .dataframe tbody tr th:only-of-type {\n",
       "        vertical-align: middle;\n",
       "    }\n",
       "\n",
       "    .dataframe tbody tr th {\n",
       "        vertical-align: top;\n",
       "    }\n",
       "\n",
       "    .dataframe thead th {\n",
       "        text-align: right;\n",
       "    }\n",
       "</style>\n",
       "<table border=\"1\" class=\"dataframe\">\n",
       "  <thead>\n",
       "    <tr style=\"text-align: right;\">\n",
       "      <th></th>\n",
       "      <th>day</th>\n",
       "      <th>user_item_num</th>\n",
       "    </tr>\n",
       "  </thead>\n",
       "  <tbody>\n",
       "    <tr>\n",
       "      <th>0</th>\n",
       "      <td>1</td>\n",
       "      <td>1140</td>\n",
       "    </tr>\n",
       "    <tr>\n",
       "      <th>1</th>\n",
       "      <td>2</td>\n",
       "      <td>685</td>\n",
       "    </tr>\n",
       "    <tr>\n",
       "      <th>2</th>\n",
       "      <td>3</td>\n",
       "      <td>634</td>\n",
       "    </tr>\n",
       "    <tr>\n",
       "      <th>3</th>\n",
       "      <td>4</td>\n",
       "      <td>700</td>\n",
       "    </tr>\n",
       "    <tr>\n",
       "      <th>4</th>\n",
       "      <td>5</td>\n",
       "      <td>563</td>\n",
       "    </tr>\n",
       "    <tr>\n",
       "      <th>5</th>\n",
       "      <td>6</td>\n",
       "      <td>587</td>\n",
       "    </tr>\n",
       "    <tr>\n",
       "      <th>6</th>\n",
       "      <td>7</td>\n",
       "      <td>1416</td>\n",
       "    </tr>\n",
       "    <tr>\n",
       "      <th>7</th>\n",
       "      <td>8</td>\n",
       "      <td>757</td>\n",
       "    </tr>\n",
       "    <tr>\n",
       "      <th>8</th>\n",
       "      <td>9</td>\n",
       "      <td>601</td>\n",
       "    </tr>\n",
       "    <tr>\n",
       "      <th>9</th>\n",
       "      <td>10</td>\n",
       "      <td>929</td>\n",
       "    </tr>\n",
       "    <tr>\n",
       "      <th>10</th>\n",
       "      <td>11</td>\n",
       "      <td>814</td>\n",
       "    </tr>\n",
       "    <tr>\n",
       "      <th>11</th>\n",
       "      <td>12</td>\n",
       "      <td>703</td>\n",
       "    </tr>\n",
       "    <tr>\n",
       "      <th>12</th>\n",
       "      <td>13</td>\n",
       "      <td>542</td>\n",
       "    </tr>\n",
       "    <tr>\n",
       "      <th>13</th>\n",
       "      <td>14</td>\n",
       "      <td>1548</td>\n",
       "    </tr>\n",
       "    <tr>\n",
       "      <th>14</th>\n",
       "      <td>15</td>\n",
       "      <td>2829</td>\n",
       "    </tr>\n",
       "    <tr>\n",
       "      <th>15</th>\n",
       "      <td>16</td>\n",
       "      <td>1014</td>\n",
       "    </tr>\n",
       "    <tr>\n",
       "      <th>16</th>\n",
       "      <td>17</td>\n",
       "      <td>552</td>\n",
       "    </tr>\n",
       "    <tr>\n",
       "      <th>17</th>\n",
       "      <td>18</td>\n",
       "      <td>640</td>\n",
       "    </tr>\n",
       "    <tr>\n",
       "      <th>18</th>\n",
       "      <td>19</td>\n",
       "      <td>531</td>\n",
       "    </tr>\n",
       "    <tr>\n",
       "      <th>19</th>\n",
       "      <td>20</td>\n",
       "      <td>453</td>\n",
       "    </tr>\n",
       "    <tr>\n",
       "      <th>20</th>\n",
       "      <td>21</td>\n",
       "      <td>655</td>\n",
       "    </tr>\n",
       "    <tr>\n",
       "      <th>21</th>\n",
       "      <td>22</td>\n",
       "      <td>557</td>\n",
       "    </tr>\n",
       "    <tr>\n",
       "      <th>22</th>\n",
       "      <td>23</td>\n",
       "      <td>495</td>\n",
       "    </tr>\n",
       "    <tr>\n",
       "      <th>23</th>\n",
       "      <td>24</td>\n",
       "      <td>609</td>\n",
       "    </tr>\n",
       "    <tr>\n",
       "      <th>24</th>\n",
       "      <td>25</td>\n",
       "      <td>846</td>\n",
       "    </tr>\n",
       "    <tr>\n",
       "      <th>25</th>\n",
       "      <td>26</td>\n",
       "      <td>501</td>\n",
       "    </tr>\n",
       "    <tr>\n",
       "      <th>26</th>\n",
       "      <td>27</td>\n",
       "      <td>507</td>\n",
       "    </tr>\n",
       "    <tr>\n",
       "      <th>27</th>\n",
       "      <td>28</td>\n",
       "      <td>685</td>\n",
       "    </tr>\n",
       "    <tr>\n",
       "      <th>28</th>\n",
       "      <td>29</td>\n",
       "      <td>737</td>\n",
       "    </tr>\n",
       "    <tr>\n",
       "      <th>29</th>\n",
       "      <td>30</td>\n",
       "      <td>584</td>\n",
       "    </tr>\n",
       "    <tr>\n",
       "      <th>30</th>\n",
       "      <td>31</td>\n",
       "      <td>674</td>\n",
       "    </tr>\n",
       "  </tbody>\n",
       "</table>\n",
       "</div>"
      ],
      "text/plain": [
       "    day  user_item_num\n",
       "0     1           1140\n",
       "1     2            685\n",
       "2     3            634\n",
       "3     4            700\n",
       "4     5            563\n",
       "5     6            587\n",
       "6     7           1416\n",
       "7     8            757\n",
       "8     9            601\n",
       "9    10            929\n",
       "10   11            814\n",
       "11   12            703\n",
       "12   13            542\n",
       "13   14           1548\n",
       "14   15           2829\n",
       "15   16           1014\n",
       "16   17            552\n",
       "17   18            640\n",
       "18   19            531\n",
       "19   20            453\n",
       "20   21            655\n",
       "21   22            557\n",
       "22   23            495\n",
       "23   24            609\n",
       "24   25            846\n",
       "25   26            501\n",
       "26   27            507\n",
       "27   28            685\n",
       "28   29            737\n",
       "29   30            584\n",
       "30   31            674"
      ]
     },
     "execution_count": 17,
     "metadata": {},
     "output_type": "execute_result"
    }
   ],
   "source": [
    "df_ac = get_from_action_data(fname=ACTION_201603_FILE)\n",
    "# 将time字段转换为datetime类型并使用lambda匿名函数将时间time转换为天\n",
    "df_ac['time'] = pd.to_datetime(df_ac['time']).apply(lambda x: x.day)\n",
    "\n",
    "df_user = df_ac.groupby('time')['user_id'].nunique()\n",
    "df_user = df_user.to_frame().reset_index()\n",
    "df_user.columns = ['day', 'user_num']\n",
    "\n",
    "df_item = df_ac.groupby('time')['sku_id'].nunique()\n",
    "df_item = df_item.to_frame().reset_index()\n",
    "df_item.columns = ['day', 'item_num']\n",
    "\n",
    "df_ui = df_ac.groupby('time', as_index=False).size()\n",
    "df_ui.columns = ['day', 'user_item_num']\n",
    "df_ui"
   ]
  },
  {
   "cell_type": "markdown",
   "id": "f71648a9",
   "metadata": {},
   "source": [
    "3月购买情况可视化"
   ]
  },
  {
   "cell_type": "code",
   "execution_count": 18,
   "id": "83117799",
   "metadata": {
    "ExecuteTime": {
     "end_time": "2022-05-12T11:58:23.538817Z",
     "start_time": "2022-05-12T11:58:23.261304Z"
    }
   },
   "outputs": [
    {
     "data": {
      "text/plain": [
       "<matplotlib.legend.Legend at 0x7f77941df4c0>"
      ]
     },
     "execution_count": 18,
     "metadata": {},
     "output_type": "execute_result"
    },
    {
     "data": {
      "image/png": "[encoded data removed]",
      "text/plain": [
       "<Figure size 1008x720 with 1 Axes>"
      ]
     },
     "metadata": {
      "needs_background": "light"
     },
     "output_type": "display_data"
    }
   ],
   "source": [
    "# 条形宽度\n",
    "bar_width = 0.2\n",
    "# 透明度\n",
    "opacity = 0.4\n",
    "# 天数\n",
    "day_range = range(1,len(df_user['day']) + 1, 1)\n",
    "# 设置图片大小\n",
    "plt.figure(figsize=(14,10))\n",
    "\n",
    "plt.bar(df_user['day'], df_user['user_num'], bar_width, \n",
    "        alpha=opacity, color='c', label='user')\n",
    "plt.bar(df_item['day']+bar_width, df_item['item_num'], \n",
    "        bar_width, alpha=opacity, color='g', label='item')\n",
    "plt.bar(df_ui['day']+bar_width*2, df_ui['user_item_num'], \n",
    "        bar_width, alpha=opacity, color='m', label='user_item')\n",
    "\n",
    "plt.xlabel('day')\n",
    "plt.ylabel('number')\n",
    "plt.title('March Purchase Table')\n",
    "plt.xticks(df_user['day'] + bar_width * 3 / 2., day_range)\n",
    "plt.tight_layout() \n",
    "plt.legend(prop={'size':9})\n",
    "# plt.savefig('./12-3月购买情况可视化.png',dpi = 200)"
   ]
  },
  {
   "cell_type": "markdown",
   "id": "5f092991",
   "metadata": {},
   "source": [
    "分析：总体来看，购物记录多于2月份"
   ]
  },
  {
   "cell_type": "markdown",
   "id": "f77de3c8",
   "metadata": {},
   "source": [
    "## 2016年4月"
   ]
  },
  {
   "cell_type": "markdown",
   "id": "05cd249b",
   "metadata": {},
   "source": [
    "加载数据分组聚合"
   ]
  },
  {
   "cell_type": "code",
   "execution_count": 19,
   "id": "39d2bada",
   "metadata": {
    "ExecuteTime": {
     "end_time": "2022-05-12T12:01:42.050153Z",
     "start_time": "2022-05-12T12:01:34.821194Z"
    }
   },
   "outputs": [
    {
     "name": "stdout",
     "output_type": "stream",
     "text": [
      "Iteration is stopped\n"
     ]
    }
   ],
   "source": [
    "df_ac = get_from_action_data(fname=ACTION_201604_FILE)\n",
    "\n",
    "# 将time字段转换为datetime类型并使用lambda匿名函数将时间time转换为天\n",
    "df_ac['time'] = pd.to_datetime(df_ac['time']).apply(lambda x: x.day)\n",
    "\n",
    "df_user = df_ac.groupby('time')['user_id'].nunique()\n",
    "df_user = df_user.to_frame().reset_index()\n",
    "df_user.columns = ['day', 'user_num']\n",
    "\n",
    "df_item = df_ac.groupby('time')['sku_id'].nunique()\n",
    "df_item = df_item.to_frame().reset_index()\n",
    "df_item.columns = ['day', 'item_num']\n",
    "\n",
    "df_ui = df_ac.groupby('time', as_index=False).size()\n",
    "df_ui.columns = ['day', 'user_item_num']"
   ]
  },
  {
   "cell_type": "markdown",
   "id": "16387311",
   "metadata": {},
   "source": [
    "4月购买情况可视化"
   ]
  },
  {
   "cell_type": "code",
   "execution_count": 20,
   "id": "75d59f90",
   "metadata": {
    "ExecuteTime": {
     "end_time": "2022-05-12T12:02:04.510402Z",
     "start_time": "2022-05-12T12:02:04.322013Z"
    }
   },
   "outputs": [
    {
     "data": {
      "text/plain": [
       "<matplotlib.legend.Legend at 0x7f77551eb5e0>"
      ]
     },
     "execution_count": 20,
     "metadata": {},
     "output_type": "execute_result"
    },
    {
     "data": {
      "image/png": "[encoded data removed]",
      "text/plain": [
       "<Figure size 1008x720 with 1 Axes>"
      ]
     },
     "metadata": {
      "needs_background": "light"
     },
     "output_type": "display_data"
    }
   ],
   "source": [
    "# 条形宽度\n",
    "bar_width = 0.2\n",
    "# 透明度\n",
    "opacity = 0.4\n",
    "# 天数\n",
    "day_range = range(1,len(df_user['day']) + 1, 1)\n",
    "# 设置图片大小\n",
    "plt.figure(figsize=(14,10))\n",
    "\n",
    "plt.bar(df_user['day'], df_user['user_num'], bar_width, \n",
    "        alpha=opacity, color='c', label='user')\n",
    "plt.bar(df_item['day']+bar_width, df_item['item_num'], \n",
    "        bar_width, alpha=opacity, color='g', label='item')\n",
    "plt.bar(df_ui['day']+bar_width*2, df_ui['user_item_num'], \n",
    "        bar_width, alpha=opacity, color='m', label='user_item')\n",
    "\n",
    "plt.xlabel('day')\n",
    "plt.ylabel('number')\n",
    "plt.title('April Purchase Table')\n",
    "plt.xticks(df_user['day'] + bar_width * 3 / 2., day_range)\n",
    "\n",
    "plt.tight_layout() \n",
    "plt.legend(prop={'size':9})\n",
    "# plt.savefig('./14-4月购买情况可视化.png',dpi = 200)"
   ]
  },
  {
   "cell_type": "markdown",
   "id": "dda565c6",
   "metadata": {},
   "source": [
    "分析：一脸懵逼中...可能又有啥节日？ 还是说每个月中旬都有较强的购物欲望？"
   ]
  },
  {
   "cell_type": "markdown",
   "id": "4b1639ad",
   "metadata": {},
   "source": [
    "# 周一到周日各商品类别销售情况"
   ]
  },
  {
   "cell_type": "markdown",
   "id": "5247cf86",
   "metadata": {},
   "source": [
    "## 定义函数提取行为记录中商品类别数据"
   ]
  },
  {
   "cell_type": "code",
   "execution_count": 21,
   "id": "2bdcc385",
   "metadata": {
    "ExecuteTime": {
     "end_time": "2022-05-12T12:04:34.732505Z",
     "start_time": "2022-05-12T12:04:34.719214Z"
    }
   },
   "outputs": [],
   "source": [
    "# 从行为记录中提取商品类别数据\n",
    "def get_from_action_data(fname, chunk_size=50000):\n",
    "    reader = pd.read_csv(fname, header=0, iterator=True)\n",
    "    chunks = []\n",
    "    loop = True\n",
    "    while loop:\n",
    "        try:\n",
    "            chunk = reader.get_chunk(chunk_size)[\n",
    "                [\"cate\", \"brand\", \"type\", \"time\"]]\n",
    "            chunks.append(chunk)\n",
    "        except StopIteration:\n",
    "            loop = False\n",
    "            print(\"Iteration is stopped\")\n",
    "\n",
    "    df_ac = pd.concat(chunks, ignore_index=True)\n",
    "    # type=4,为购买\n",
    "    df_ac = df_ac[df_ac['type'] == 4]\n",
    "\n",
    "    return df_ac[[\"cate\", \"brand\", \"type\", \"time\"]]"
   ]
  },
  {
   "cell_type": "markdown",
   "id": "3e41e0d9",
   "metadata": {},
   "source": [
    "## 提取全部商品类别数据"
   ]
  },
  {
   "cell_type": "code",
   "execution_count": 22,
   "id": "4e702c3b",
   "metadata": {
    "ExecuteTime": {
     "end_time": "2022-05-12T12:06:10.289609Z",
     "start_time": "2022-05-12T12:05:42.421927Z"
    }
   },
   "outputs": [
    {
     "name": "stdout",
     "output_type": "stream",
     "text": [
      "Iteration is stopped\n",
      "Iteration is stopped\n",
      "Iteration is stopped\n"
     ]
    },
    {
     "data": {
      "text/html": [
       "<div>\n",
       "<style scoped>\n",
       "    .dataframe tbody tr th:only-of-type {\n",
       "        vertical-align: middle;\n",
       "    }\n",
       "\n",
       "    .dataframe tbody tr th {\n",
       "        vertical-align: top;\n",
       "    }\n",
       "\n",
       "    .dataframe thead th {\n",
       "        text-align: right;\n",
       "    }\n",
       "</style>\n",
       "<table border=\"1\" class=\"dataframe\">\n",
       "  <thead>\n",
       "    <tr style=\"text-align: right;\">\n",
       "      <th></th>\n",
       "      <th>brand</th>\n",
       "      <th>type</th>\n",
       "      <th>time</th>\n",
       "    </tr>\n",
       "    <tr>\n",
       "      <th>cate</th>\n",
       "      <th></th>\n",
       "      <th></th>\n",
       "      <th></th>\n",
       "    </tr>\n",
       "  </thead>\n",
       "  <tbody>\n",
       "    <tr>\n",
       "      <th>4</th>\n",
       "      <td>9326</td>\n",
       "      <td>9326</td>\n",
       "      <td>9326</td>\n",
       "    </tr>\n",
       "    <tr>\n",
       "      <th>5</th>\n",
       "      <td>8138</td>\n",
       "      <td>8138</td>\n",
       "      <td>8138</td>\n",
       "    </tr>\n",
       "    <tr>\n",
       "      <th>6</th>\n",
       "      <td>6982</td>\n",
       "      <td>6982</td>\n",
       "      <td>6982</td>\n",
       "    </tr>\n",
       "    <tr>\n",
       "      <th>7</th>\n",
       "      <td>6214</td>\n",
       "      <td>6214</td>\n",
       "      <td>6214</td>\n",
       "    </tr>\n",
       "    <tr>\n",
       "      <th>8</th>\n",
       "      <td>13281</td>\n",
       "      <td>13281</td>\n",
       "      <td>13281</td>\n",
       "    </tr>\n",
       "    <tr>\n",
       "      <th>9</th>\n",
       "      <td>4104</td>\n",
       "      <td>4104</td>\n",
       "      <td>4104</td>\n",
       "    </tr>\n",
       "    <tr>\n",
       "      <th>10</th>\n",
       "      <td>189</td>\n",
       "      <td>189</td>\n",
       "      <td>189</td>\n",
       "    </tr>\n",
       "    <tr>\n",
       "      <th>11</th>\n",
       "      <td>18</td>\n",
       "      <td>18</td>\n",
       "      <td>18</td>\n",
       "    </tr>\n",
       "  </tbody>\n",
       "</table>\n",
       "</div>"
      ],
      "text/plain": [
       "      brand   type   time\n",
       "cate                     \n",
       "4      9326   9326   9326\n",
       "5      8138   8138   8138\n",
       "6      6982   6982   6982\n",
       "7      6214   6214   6214\n",
       "8     13281  13281  13281\n",
       "9      4104   4104   4104\n",
       "10      189    189    189\n",
       "11       18     18     18"
      ]
     },
     "execution_count": 22,
     "metadata": {},
     "output_type": "execute_result"
    }
   ],
   "source": [
    "df_ac = []\n",
    "df_ac.append(get_from_action_data(fname=ACTION_201602_FILE))\n",
    "df_ac.append(get_from_action_data(fname=ACTION_201603_FILE))\n",
    "df_ac.append(get_from_action_data(fname=ACTION_201604_FILE))\n",
    "df_ac = pd.concat(df_ac, ignore_index=True)\n",
    "# 将time字段转换为datetime类型\n",
    "df_ac['time'] = pd.to_datetime(df_ac['time'])\n",
    "# 使用lambda匿名函数将时间time转换为星期(周一为1, 周日为７)\n",
    "df_ac['time'] = df_ac['time'].apply(lambda x: x.weekday() + 1)\n",
    "# 观察有几个类别商品\n",
    "df_ac.groupby(df_ac['cate']).count()"
   ]
  },
  {
   "cell_type": "markdown",
   "id": "b1041840",
   "metadata": {},
   "source": [
    "## 商品不同类别销量可视化"
   ]
  },
  {
   "cell_type": "code",
   "execution_count": 23,
   "id": "e0ef4336",
   "metadata": {
    "ExecuteTime": {
     "end_time": "2022-05-12T12:07:48.555891Z",
     "start_time": "2022-05-12T12:07:48.193933Z"
    }
   },
   "outputs": [
    {
     "data": {
      "text/plain": [
       "['STIXSizeTwoSym',\n",
       " 'cmmi10',\n",
       " 'cmtt10',\n",
       " 'STIXSizeFourSym',\n",
       " 'cmex10',\n",
       " 'STIXSizeFourSym',\n",
       " 'STIXSizeOneSym',\n",
       " 'DejaVu Sans',\n",
       " 'DejaVu Serif',\n",
       " 'STIXSizeThreeSym',\n",
       " 'DejaVu Sans Mono',\n",
       " 'STIXSizeTwoSym',\n",
       " 'DejaVu Sans Mono',\n",
       " 'DejaVu Serif',\n",
       " 'STIXGeneral',\n",
       " 'DejaVu Sans Mono',\n",
       " 'STIXNonUnicode',\n",
       " 'cmsy10',\n",
       " 'DejaVu Serif',\n",
       " 'DejaVu Serif',\n",
       " 'STIXSizeFiveSym',\n",
       " 'STIXSizeOneSym',\n",
       " 'STIXSizeThreeSym',\n",
       " 'DejaVu Serif Display',\n",
       " 'DejaVu Sans',\n",
       " 'STIXGeneral',\n",
       " 'DejaVu Sans Mono',\n",
       " 'STIXNonUnicode',\n",
       " 'cmss10',\n",
       " 'STIXNonUnicode',\n",
       " 'STIXNonUnicode',\n",
       " 'cmr10',\n",
       " 'STIXGeneral',\n",
       " 'STIXGeneral',\n",
       " 'cmb10',\n",
       " 'DejaVu Sans',\n",
       " 'DejaVu Sans Display',\n",
       " 'DejaVu Sans',\n",
       " 'Noto Sans Elbasan',\n",
       " 'Noto Sans Miao',\n",
       " 'Noto Sans Javanese',\n",
       " 'Noto Sans Bhaiksuki',\n",
       " 'Noto Sans Caucasian Albanian',\n",
       " 'Lucida Grande',\n",
       " 'STIXIntegralsUp',\n",
       " 'Apple SD Gothic Neo',\n",
       " 'Farisi',\n",
       " 'Lao Sangam MN',\n",
       " 'Noto Sans Sharada',\n",
       " 'Avenir Next',\n",
       " 'Noto Sans Ol Chiki',\n",
       " 'Cochin',\n",
       " 'Noto Sans Kharoshthi',\n",
       " 'Arial Unicode MS',\n",
       " '.SF Arabic',\n",
       " 'Noto Sans Kayah Li',\n",
       " 'Luminari',\n",
       " 'Courier New',\n",
       " 'Noto Sans NKo',\n",
       " 'Noto Sans Adlam',\n",
       " 'Al Bayan',\n",
       " 'STIXSizeFiveSym',\n",
       " 'PT Serif',\n",
       " 'Arial',\n",
       " 'Hoefler Text',\n",
       " 'Heiti TC',\n",
       " 'AppleMyungjo',\n",
       " 'Arial Black',\n",
       " 'Zapfino',\n",
       " 'Hiragino Sans',\n",
       " 'Kannada MN',\n",
       " 'Chalkboard',\n",
       " 'STIXSizeFourSym',\n",
       " 'STIXSizeThreeSym',\n",
       " 'Times New Roman',\n",
       " 'Noto Sans Siddham',\n",
       " 'Lao MN',\n",
       " 'Noto Sans Oriya',\n",
       " '.SF NS Mono',\n",
       " 'Avenir',\n",
       " 'Noto Sans Meetei Mayek',\n",
       " 'Rockwell',\n",
       " 'Hiragino Sans',\n",
       " 'Microsoft Sans Serif',\n",
       " 'Verdana',\n",
       " 'Malayalam MN',\n",
       " 'Bodoni Ornaments',\n",
       " 'Waseem',\n",
       " 'Bodoni 72 Smallcaps',\n",
       " 'Bodoni 72',\n",
       " 'Skia',\n",
       " 'Georgia',\n",
       " 'Noto Sans Mongolian',\n",
       " 'Brush Script MT',\n",
       " 'Hiragino Sans',\n",
       " 'Helvetica',\n",
       " 'Georgia',\n",
       " 'Sukhumvit Set',\n",
       " 'Farah',\n",
       " 'Muna',\n",
       " 'Charter',\n",
       " 'Noto Sans Old North Arabian',\n",
       " 'Mishafi',\n",
       " 'Noto Sans Marchen',\n",
       " 'Noto Sans Lycian',\n",
       " '.SF Compact Rounded',\n",
       " 'Futura',\n",
       " 'Arial Hebrew',\n",
       " 'Kokonor',\n",
       " 'Noto Sans Gothic',\n",
       " 'Noto Sans Tirhuta',\n",
       " 'Noto Sans Rejang',\n",
       " 'Verdana',\n",
       " 'Noto Nastaliq Urdu',\n",
       " 'Noto Sans Old Turkic',\n",
       " 'New Peninim MT',\n",
       " 'Noto Sans Hanifi Rohingya',\n",
       " 'Symbol',\n",
       " 'Telugu MN',\n",
       " 'Noto Sans Gunjala Gondi',\n",
       " 'STIXSizeOneSym',\n",
       " 'InaiMathi',\n",
       " 'Wingdings',\n",
       " 'Oriya Sangam MN',\n",
       " 'STIXIntegralsSm',\n",
       " 'Beirut',\n",
       " 'Arial Rounded MT Bold',\n",
       " 'Noto Sans Sora Sompeng',\n",
       " 'Songti SC',\n",
       " 'Times New Roman',\n",
       " 'Times New Roman',\n",
       " 'Courier New',\n",
       " 'Noto Sans Old South Arabian',\n",
       " 'Party LET',\n",
       " 'Noto Sans Lisu',\n",
       " 'Noto Sans Lepcha',\n",
       " 'Apple Braille',\n",
       " 'Gujarati Sangam MN',\n",
       " 'Thonburi',\n",
       " 'Savoye LET',\n",
       " '.Aqua Kana',\n",
       " 'Verdana',\n",
       " 'Noto Sans Linear B',\n",
       " 'Noto Sans Warang Citi',\n",
       " 'Menlo',\n",
       " 'Geneva',\n",
       " 'Seravek',\n",
       " 'Noto Sans Cuneiform',\n",
       " 'Noto Serif Balinese',\n",
       " 'PingFang HK',\n",
       " 'Telugu Sangam MN',\n",
       " 'Georgia',\n",
       " 'Noto Sans Sundanese',\n",
       " 'Devanagari MT',\n",
       " 'Kailasa',\n",
       " 'Noto Sans Thaana',\n",
       " '.SF NS Mono',\n",
       " 'Tamil MN',\n",
       " 'Optima',\n",
       " 'Noto Sans Tagalog',\n",
       " 'Noto Sans Imperial Aramaic',\n",
       " 'Noto Sans Palmyrene',\n",
       " '.SF Compact',\n",
       " 'Noto Sans Brahmi',\n",
       " 'Trebuchet MS',\n",
       " 'Hiragino Sans',\n",
       " 'Noto Sans New Tai Lue',\n",
       " 'Arial Narrow',\n",
       " 'Noto Sans Wancho',\n",
       " 'Noto Sans Armenian',\n",
       " 'Noto Sans Egyptian Hieroglyphs',\n",
       " 'Arial Narrow',\n",
       " 'Trebuchet MS',\n",
       " 'STIXNonUnicode',\n",
       " 'Hiragino Sans',\n",
       " 'Sana',\n",
       " 'Noto Sans Meroitic',\n",
       " 'Times',\n",
       " 'Euphemia UCAS',\n",
       " 'Arial',\n",
       " 'System Font',\n",
       " 'Papyrus',\n",
       " 'Sathu',\n",
       " 'Diwan Kufi',\n",
       " 'STIXSizeTwoSym',\n",
       " 'Wingdings 2',\n",
       " 'Chalkboard SE',\n",
       " 'STIXIntegralsD',\n",
       " 'DIN Condensed',\n",
       " 'Noto Sans Chakma',\n",
       " 'Gujarati MT',\n",
       " 'Bangla MN',\n",
       " 'Noto Sans Ugaritic',\n",
       " 'Chalkduster',\n",
       " 'Noto Sans Tai Tham',\n",
       " 'STIXNonUnicode',\n",
       " 'Andale Mono',\n",
       " 'Hiragino Sans GB',\n",
       " 'Noto Sans PhagsPa',\n",
       " 'Noto Sans Inscriptional Parthian',\n",
       " 'Hiragino Sans',\n",
       " 'Sinhala Sangam MN',\n",
       " 'Kohinoor Telugu',\n",
       " 'Hiragino Sans',\n",
       " '.New York',\n",
       " 'Myanmar MN',\n",
       " 'Noto Sans Bamum',\n",
       " 'SignPainter',\n",
       " 'STIXNonUnicode',\n",
       " 'Plantagenet Cherokee',\n",
       " 'ITF Devanagari',\n",
       " 'Phosphate',\n",
       " 'Noto Sans Osage',\n",
       " 'Noto Sans Tagbanwa',\n",
       " 'Malayalam Sangam MN',\n",
       " 'Snell Roundhand',\n",
       " 'STIXVariants',\n",
       " 'Gill Sans',\n",
       " 'Courier',\n",
       " 'Noto Sans Psalter Pahlavi',\n",
       " 'Noto Sans Tai Le',\n",
       " 'Geeza Pro',\n",
       " 'Mshtakan',\n",
       " 'Apple Braille',\n",
       " 'Kohinoor Gujarati',\n",
       " 'Trebuchet MS',\n",
       " 'Krungthep',\n",
       " 'Verdana',\n",
       " 'Noto Sans Tai Viet',\n",
       " 'STIXIntegralsD',\n",
       " 'Diwan Thuluth',\n",
       " 'Big Caslon',\n",
       " 'Tahoma',\n",
       " 'Herculanum',\n",
       " 'Al Tarikh',\n",
       " 'Sinhala MN',\n",
       " 'Baskerville',\n",
       " 'System Font',\n",
       " 'Noto Sans Kaithi',\n",
       " 'Noto Sans Myanmar',\n",
       " 'Times New Roman',\n",
       " 'Webdings',\n",
       " 'STIXGeneral',\n",
       " 'Noto Sans Coptic',\n",
       " 'STIXSizeFourSym',\n",
       " 'Kohinoor Devanagari',\n",
       " 'Courier New',\n",
       " 'Wingdings 3',\n",
       " 'AppleGothic',\n",
       " 'Noto Sans Newa',\n",
       " 'Noto Sans Mende Kikakui',\n",
       " 'Athelas',\n",
       " '.SF Compact',\n",
       " 'STIXIntegralsSm',\n",
       " 'Monaco',\n",
       " 'STIXSizeOneSym',\n",
       " 'Ayuthaya',\n",
       " 'Myanmar Sangam MN',\n",
       " 'Silom',\n",
       " 'Noto Sans Syloti Nagri',\n",
       " 'Georgia',\n",
       " 'Impact',\n",
       " 'Noto Sans Duployan',\n",
       " 'Iowan Old Style',\n",
       " 'STIXIntegralsUpD',\n",
       " 'Noto Sans Carian',\n",
       " 'Noto Sans Vai',\n",
       " '.SF NS Rounded',\n",
       " 'Raanana',\n",
       " 'PT Sans',\n",
       " 'Noto Sans Phoenician',\n",
       " 'Noto Sans Bassa Vah',\n",
       " 'Mukta Mahee',\n",
       " 'Courier New',\n",
       " 'Noto Sans Modi',\n",
       " 'STIXIntegralsUpSm',\n",
       " 'Trattatello',\n",
       " 'Noto Sans Cypriot',\n",
       " 'Gurmukhi MN',\n",
       " 'Apple Symbols',\n",
       " 'Academy Engraved LET',\n",
       " 'Heiti TC',\n",
       " 'Noto Sans Khudawadi',\n",
       " 'Gurmukhi MT',\n",
       " 'STIXNonUnicode',\n",
       " 'Noto Sans Masaram Gondi',\n",
       " 'STIXIntegralsUp',\n",
       " 'Tamil Sangam MN',\n",
       " 'Trebuchet MS',\n",
       " 'Apple Chancery',\n",
       " 'Bradley Hand',\n",
       " 'KufiStandardGK',\n",
       " 'Copperplate',\n",
       " 'Noto Sans Yi',\n",
       " 'Noto Sans Pahawh Hmong',\n",
       " 'Noto Sans Cham',\n",
       " 'Marker Felt',\n",
       " 'Khmer Sangam MN',\n",
       " 'Bodoni 72 Oldstyle',\n",
       " 'Baghdad',\n",
       " '.New York',\n",
       " 'Noto Serif Yezidi',\n",
       " 'Noto Sans Pau Cin Hau',\n",
       " 'Superclarendon',\n",
       " 'Hoefler Text',\n",
       " 'Galvji',\n",
       " 'Mishafi Gold',\n",
       " 'DIN Alternate',\n",
       " 'Marion',\n",
       " 'Al Nile',\n",
       " 'Comic Sans MS',\n",
       " 'Noto Sans Buginese',\n",
       " 'Corsiva Hebrew',\n",
       " 'Arial',\n",
       " 'Noto Sans Old Permic',\n",
       " 'Noto Sans Batak',\n",
       " 'Avenir Next Condensed',\n",
       " 'Noto Sans Multani',\n",
       " 'Noto Sans Nabataean',\n",
       " 'Noto Sans Inscriptional Pahlavi',\n",
       " 'Noto Sans Hatran',\n",
       " 'Kannada Sangam MN',\n",
       " 'Hiragino Sans',\n",
       " 'Noto Sans Old Italic',\n",
       " 'STIXGeneral',\n",
       " 'Arial Unicode MS',\n",
       " 'Apple Braille',\n",
       " 'Kefa',\n",
       " 'Hiragino Mincho ProN',\n",
       " 'Noto Sans Lydian',\n",
       " 'American Typewriter',\n",
       " 'Hiragino Sans',\n",
       " 'STIXGeneral',\n",
       " 'STIXVariants',\n",
       " 'Noto Serif Myanmar',\n",
       " 'Zapf Dingbats',\n",
       " 'Helvetica Neue',\n",
       " 'Noto Sans Mro',\n",
       " 'Noto Sans Saurashtra',\n",
       " 'Noto Sans Takri',\n",
       " 'Noto Serif Ahom',\n",
       " 'Noto Sans Mahajani',\n",
       " 'Comic Sans MS',\n",
       " 'Hiragino Sans',\n",
       " 'DecoType Naskh',\n",
       " 'STIXIntegralsUpSm',\n",
       " 'STIXSizeThreeSym',\n",
       " 'Noto Sans Buhid',\n",
       " 'Shree Devanagari 714',\n",
       " 'Kohinoor Bangla',\n",
       " 'Bangla Sangam MN',\n",
       " 'Noto Sans Mandaic',\n",
       " 'STIXIntegralsUpD',\n",
       " 'Noto Sans Old Persian',\n",
       " 'Noto Sans Osmanya',\n",
       " 'Noto Sans Manichaean',\n",
       " 'Devanagari Sangam MN',\n",
       " 'Noto Sans Linear A',\n",
       " 'Arial',\n",
       " 'Noto Sans Samaritan',\n",
       " 'Gurmukhi Sangam MN',\n",
       " 'PT Mono',\n",
       " 'Hiragino Maru Gothic Pro',\n",
       " 'Noto Sans Syriac',\n",
       " 'Didot',\n",
       " 'Arial Narrow',\n",
       " 'Noto Sans Khojki',\n",
       " 'STIXSizeTwoSym',\n",
       " 'Damascus',\n",
       " 'Apple Braille',\n",
       " 'Noto Sans Hanunoo',\n",
       " 'STIXGeneral',\n",
       " 'Noteworthy',\n",
       " 'Palatino',\n",
       " 'Noto Sans Avestan',\n",
       " 'Arial Narrow',\n",
       " 'Noto Sans Glagolitic',\n",
       " 'Oriya MN',\n",
       " 'Noto Sans Limbu',\n",
       " 'Noto Sans Tifinagh',\n",
       " 'Nadeem',\n",
       " 'Noto Sans Old Hungarian',\n",
       " '.Keyboard',\n",
       " 'Tahoma',\n",
       " 'Khmer MN',\n",
       " 'PT Serif Caption',\n",
       " 'Noto Sans Kannada',\n",
       " 'Apple Braille']"
      ]
     },
     "execution_count": 23,
     "metadata": {},
     "output_type": "execute_result"
    }
   ],
   "source": [
    "# 查找自己电脑上的中文字体\n",
    "from matplotlib.font_manager import FontManager\n",
    "fm = FontManager()\n",
    "[font.name for font in fm.ttflist]  # Songti SC"
   ]
  },
  {
   "cell_type": "code",
   "execution_count": 30,
   "id": "373e4a2a",
   "metadata": {
    "ExecuteTime": {
     "end_time": "2022-05-12T12:23:02.311630Z",
     "start_time": "2022-05-12T12:23:02.105606Z"
    }
   },
   "outputs": [
    {
     "data": {
      "text/plain": [
       "Text(0.5, 1.0, '不同商品周销量表')"
      ]
     },
     "execution_count": 30,
     "metadata": {},
     "output_type": "execute_result"
    },
    {
     "data": {
      "image/png": "[encoded data removed]",
      "text/plain": [
       "<Figure size 1008x720 with 1 Axes>"
      ]
     },
     "metadata": {
      "needs_background": "light"
     },
     "output_type": "display_data"
    }
   ],
   "source": [
    "# 周一到周日每天购买商品类别数量统计\n",
    "plt.rcParams['font.family'] = 'Songti SC'\n",
    "plt.rcParams['font.size'] = 25\n",
    "\n",
    "df_product = df_ac['brand'].groupby([df_ac['time'],df_ac['cate']]).count()\n",
    "\n",
    "df_product = df_product.unstack()\n",
    "\n",
    "df_product.plot(kind='bar',figsize=(14,10),rot = 0)\n",
    "\n",
    "plt.title(label='不同商品周销量表',pad = 20)\n",
    "# plt.savefig('./16-不同商品周销量表.png',dpi = 200)"
   ]
  },
  {
   "cell_type": "code",
   "execution_count": 31,
   "id": "7d892b69",
   "metadata": {
    "ExecuteTime": {
     "end_time": "2022-05-12T12:23:27.132787Z",
     "start_time": "2022-05-12T12:23:27.115792Z"
    }
   },
   "outputs": [
    {
     "data": {
      "text/html": [
       "<div>\n",
       "<style scoped>\n",
       "    .dataframe tbody tr th:only-of-type {\n",
       "        vertical-align: middle;\n",
       "    }\n",
       "\n",
       "    .dataframe tbody tr th {\n",
       "        vertical-align: top;\n",
       "    }\n",
       "\n",
       "    .dataframe thead th {\n",
       "        text-align: right;\n",
       "    }\n",
       "</style>\n",
       "<table border=\"1\" class=\"dataframe\">\n",
       "  <thead>\n",
       "    <tr style=\"text-align: right;\">\n",
       "      <th></th>\n",
       "      <th>cate</th>\n",
       "      <th>brand</th>\n",
       "      <th>type</th>\n",
       "      <th>time</th>\n",
       "    </tr>\n",
       "  </thead>\n",
       "  <tbody>\n",
       "    <tr>\n",
       "      <th>0</th>\n",
       "      <td>9</td>\n",
       "      <td>306</td>\n",
       "      <td>4</td>\n",
       "      <td>1</td>\n",
       "    </tr>\n",
       "    <tr>\n",
       "      <th>1</th>\n",
       "      <td>4</td>\n",
       "      <td>174</td>\n",
       "      <td>4</td>\n",
       "      <td>1</td>\n",
       "    </tr>\n",
       "    <tr>\n",
       "      <th>2</th>\n",
       "      <td>5</td>\n",
       "      <td>78</td>\n",
       "      <td>4</td>\n",
       "      <td>1</td>\n",
       "    </tr>\n",
       "    <tr>\n",
       "      <th>3</th>\n",
       "      <td>5</td>\n",
       "      <td>78</td>\n",
       "      <td>4</td>\n",
       "      <td>1</td>\n",
       "    </tr>\n",
       "    <tr>\n",
       "      <th>4</th>\n",
       "      <td>4</td>\n",
       "      <td>306</td>\n",
       "      <td>4</td>\n",
       "      <td>1</td>\n",
       "    </tr>\n",
       "    <tr>\n",
       "      <th>...</th>\n",
       "      <td>...</td>\n",
       "      <td>...</td>\n",
       "      <td>...</td>\n",
       "      <td>...</td>\n",
       "    </tr>\n",
       "    <tr>\n",
       "      <th>48247</th>\n",
       "      <td>8</td>\n",
       "      <td>214</td>\n",
       "      <td>4</td>\n",
       "      <td>5</td>\n",
       "    </tr>\n",
       "    <tr>\n",
       "      <th>48248</th>\n",
       "      <td>5</td>\n",
       "      <td>306</td>\n",
       "      <td>4</td>\n",
       "      <td>5</td>\n",
       "    </tr>\n",
       "    <tr>\n",
       "      <th>48249</th>\n",
       "      <td>8</td>\n",
       "      <td>214</td>\n",
       "      <td>4</td>\n",
       "      <td>5</td>\n",
       "    </tr>\n",
       "    <tr>\n",
       "      <th>48250</th>\n",
       "      <td>6</td>\n",
       "      <td>306</td>\n",
       "      <td>4</td>\n",
       "      <td>5</td>\n",
       "    </tr>\n",
       "    <tr>\n",
       "      <th>48251</th>\n",
       "      <td>5</td>\n",
       "      <td>489</td>\n",
       "      <td>4</td>\n",
       "      <td>5</td>\n",
       "    </tr>\n",
       "  </tbody>\n",
       "</table>\n",
       "<p>48252 rows × 4 columns</p>\n",
       "</div>"
      ],
      "text/plain": [
       "       cate  brand  type  time\n",
       "0         9    306     4     1\n",
       "1         4    174     4     1\n",
       "2         5     78     4     1\n",
       "3         5     78     4     1\n",
       "4         4    306     4     1\n",
       "...     ...    ...   ...   ...\n",
       "48247     8    214     4     5\n",
       "48248     5    306     4     5\n",
       "48249     8    214     4     5\n",
       "48250     6    306     4     5\n",
       "48251     5    489     4     5\n",
       "\n",
       "[48252 rows x 4 columns]"
      ]
     },
     "execution_count": 31,
     "metadata": {},
     "output_type": "execute_result"
    }
   ],
   "source": [
    "df_ac"
   ]
  },
  {
   "cell_type": "code",
   "execution_count": 32,
   "id": "dfada829",
   "metadata": {
    "ExecuteTime": {
     "end_time": "2022-05-12T12:24:10.159697Z",
     "start_time": "2022-05-12T12:24:10.143062Z"
    }
   },
   "outputs": [
    {
     "data": {
      "text/plain": [
       "time  cate\n",
       "1     4       1466\n",
       "      5       1417\n",
       "      6       1162\n",
       "      7       1089\n",
       "      8       1892\n",
       "      9        691\n",
       "      10        39\n",
       "      11         3\n",
       "2     4       1421\n",
       "      5       1320\n",
       "Name: brand, dtype: int64"
      ]
     },
     "execution_count": 32,
     "metadata": {},
     "output_type": "execute_result"
    }
   ],
   "source": [
    "df_product = df_ac['brand'].groupby([df_ac['time'],df_ac['cate']]).count()\n",
    "df_product.head(10)"
   ]
  },
  {
   "cell_type": "code",
   "execution_count": 34,
   "id": "ff730c63",
   "metadata": {
    "ExecuteTime": {
     "end_time": "2022-05-12T12:25:32.987095Z",
     "start_time": "2022-05-12T12:25:32.965523Z"
    }
   },
   "outputs": [
    {
     "data": {
      "text/plain": [
       "time  cate\n",
       "1     4       1466\n",
       "      5       1417\n",
       "      6       1162\n",
       "      7       1089\n",
       "      8       1892\n",
       "      9        691\n",
       "      10        39\n",
       "      11         3\n",
       "2     4       1421\n",
       "      5       1320\n",
       "Name: type, dtype: int64"
      ]
     },
     "execution_count": 34,
     "metadata": {},
     "output_type": "execute_result"
    }
   ],
   "source": [
    "df_product = df_ac['type'].groupby([df_ac['time'],df_ac['cate']]).count()\n",
    "df_product.head(10)"
   ]
  },
  {
   "cell_type": "code",
   "execution_count": 35,
   "id": "e041f0d7",
   "metadata": {
    "ExecuteTime": {
     "end_time": "2022-05-12T12:26:07.412568Z",
     "start_time": "2022-05-12T12:26:07.387703Z"
    }
   },
   "outputs": [
    {
     "data": {
      "text/html": [
       "<div>\n",
       "<style scoped>\n",
       "    .dataframe tbody tr th:only-of-type {\n",
       "        vertical-align: middle;\n",
       "    }\n",
       "\n",
       "    .dataframe tbody tr th {\n",
       "        vertical-align: top;\n",
       "    }\n",
       "\n",
       "    .dataframe thead th {\n",
       "        text-align: right;\n",
       "    }\n",
       "</style>\n",
       "<table border=\"1\" class=\"dataframe\">\n",
       "  <thead>\n",
       "    <tr style=\"text-align: right;\">\n",
       "      <th>cate</th>\n",
       "      <th>4</th>\n",
       "      <th>5</th>\n",
       "      <th>6</th>\n",
       "      <th>7</th>\n",
       "      <th>8</th>\n",
       "      <th>9</th>\n",
       "      <th>10</th>\n",
       "      <th>11</th>\n",
       "    </tr>\n",
       "    <tr>\n",
       "      <th>time</th>\n",
       "      <th></th>\n",
       "      <th></th>\n",
       "      <th></th>\n",
       "      <th></th>\n",
       "      <th></th>\n",
       "      <th></th>\n",
       "      <th></th>\n",
       "      <th></th>\n",
       "    </tr>\n",
       "  </thead>\n",
       "  <tbody>\n",
       "    <tr>\n",
       "      <th>1</th>\n",
       "      <td>1466.0</td>\n",
       "      <td>1417.0</td>\n",
       "      <td>1162.0</td>\n",
       "      <td>1089.0</td>\n",
       "      <td>1892.0</td>\n",
       "      <td>691.0</td>\n",
       "      <td>39.0</td>\n",
       "      <td>3.0</td>\n",
       "    </tr>\n",
       "    <tr>\n",
       "      <th>2</th>\n",
       "      <td>1421.0</td>\n",
       "      <td>1320.0</td>\n",
       "      <td>1103.0</td>\n",
       "      <td>1255.0</td>\n",
       "      <td>2866.0</td>\n",
       "      <td>872.0</td>\n",
       "      <td>32.0</td>\n",
       "      <td>NaN</td>\n",
       "    </tr>\n",
       "    <tr>\n",
       "      <th>3</th>\n",
       "      <td>1270.0</td>\n",
       "      <td>1048.0</td>\n",
       "      <td>929.0</td>\n",
       "      <td>846.0</td>\n",
       "      <td>1567.0</td>\n",
       "      <td>566.0</td>\n",
       "      <td>32.0</td>\n",
       "      <td>4.0</td>\n",
       "    </tr>\n",
       "    <tr>\n",
       "      <th>4</th>\n",
       "      <td>2155.0</td>\n",
       "      <td>1321.0</td>\n",
       "      <td>1149.0</td>\n",
       "      <td>827.0</td>\n",
       "      <td>2034.0</td>\n",
       "      <td>566.0</td>\n",
       "      <td>20.0</td>\n",
       "      <td>6.0</td>\n",
       "    </tr>\n",
       "    <tr>\n",
       "      <th>5</th>\n",
       "      <td>1373.0</td>\n",
       "      <td>1253.0</td>\n",
       "      <td>1141.0</td>\n",
       "      <td>1012.0</td>\n",
       "      <td>2135.0</td>\n",
       "      <td>566.0</td>\n",
       "      <td>25.0</td>\n",
       "      <td>NaN</td>\n",
       "    </tr>\n",
       "    <tr>\n",
       "      <th>6</th>\n",
       "      <td>811.0</td>\n",
       "      <td>937.0</td>\n",
       "      <td>820.0</td>\n",
       "      <td>601.0</td>\n",
       "      <td>1501.0</td>\n",
       "      <td>453.0</td>\n",
       "      <td>20.0</td>\n",
       "      <td>NaN</td>\n",
       "    </tr>\n",
       "    <tr>\n",
       "      <th>7</th>\n",
       "      <td>830.0</td>\n",
       "      <td>842.0</td>\n",
       "      <td>678.0</td>\n",
       "      <td>584.0</td>\n",
       "      <td>1286.0</td>\n",
       "      <td>390.0</td>\n",
       "      <td>21.0</td>\n",
       "      <td>5.0</td>\n",
       "    </tr>\n",
       "  </tbody>\n",
       "</table>\n",
       "</div>"
      ],
      "text/plain": [
       "cate      4       5       6       7       8      9     10   11\n",
       "time                                                          \n",
       "1     1466.0  1417.0  1162.0  1089.0  1892.0  691.0  39.0  3.0\n",
       "2     1421.0  1320.0  1103.0  1255.0  2866.0  872.0  32.0  NaN\n",
       "3     1270.0  1048.0   929.0   846.0  1567.0  566.0  32.0  4.0\n",
       "4     2155.0  1321.0  1149.0   827.0  2034.0  566.0  20.0  6.0\n",
       "5     1373.0  1253.0  1141.0  1012.0  2135.0  566.0  25.0  NaN\n",
       "6      811.0   937.0   820.0   601.0  1501.0  453.0  20.0  NaN\n",
       "7      830.0   842.0   678.0   584.0  1286.0  390.0  21.0  5.0"
      ]
     },
     "execution_count": 35,
     "metadata": {},
     "output_type": "execute_result"
    }
   ],
   "source": [
    "df_product.unstack()"
   ]
  },
  {
   "cell_type": "markdown",
   "id": "39efcef8",
   "metadata": {},
   "source": [
    "分析：星期二买类别8的最多，星期天最少。"
   ]
  },
  {
   "cell_type": "markdown",
   "id": "1f99d2ed",
   "metadata": {},
   "source": [
    "# 每月各类商品销售情况（只关注商品8）"
   ]
  },
  {
   "cell_type": "markdown",
   "id": "ae1ffc08",
   "metadata": {},
   "source": [
    "## 加载全部数据"
   ]
  },
  {
   "cell_type": "code",
   "execution_count": 36,
   "id": "94527ac7",
   "metadata": {
    "ExecuteTime": {
     "end_time": "2022-05-12T12:31:02.901730Z",
     "start_time": "2022-05-12T12:30:34.427315Z"
    }
   },
   "outputs": [
    {
     "name": "stdout",
     "output_type": "stream",
     "text": [
      "Iteration is stopped\n",
      "Iteration is stopped\n",
      "Iteration is stopped\n"
     ]
    }
   ],
   "source": [
    "df_ac2 = get_from_action_data(fname=ACTION_201602_FILE)\n",
    "# 将time字段转换为datetime类型并使用lambda匿名函数将时间time转换为天\n",
    "df_ac2['time'] = pd.to_datetime(df_ac2['time']).apply(lambda x: x.day)\n",
    "\n",
    "df_ac3 = get_from_action_data(fname=ACTION_201603_FILE)\n",
    "# 将time字段转换为datetime类型并使用lambda匿名函数将时间time转换为天\n",
    "df_ac3['time'] = pd.to_datetime(df_ac3['time']).apply(lambda x: x.day)\n",
    "\n",
    "df_ac4 = get_from_action_data(fname=ACTION_201604_FILE)\n",
    "# 将time字段转换为datetime类型并使用lambda匿名函数将时间time转换为天\n",
    "df_ac4['time'] = pd.to_datetime(df_ac4['time']).apply(lambda x: x.day)"
   ]
  },
  {
   "cell_type": "markdown",
   "id": "e75e1944",
   "metadata": {},
   "source": [
    "## 商品8每月销售数据按天分组聚合统计销量"
   ]
  },
  {
   "cell_type": "code",
   "execution_count": 38,
   "id": "c5d7c101",
   "metadata": {
    "ExecuteTime": {
     "end_time": "2022-05-12T12:32:07.888410Z",
     "start_time": "2022-05-12T12:32:07.855161Z"
    }
   },
   "outputs": [
    {
     "data": {
      "text/plain": [
       "time\n",
       "1    90\n",
       "2    84\n",
       "3    78\n",
       "4    47\n",
       "5    26\n",
       "Name: brand, dtype: int64"
      ]
     },
     "metadata": {},
     "output_type": "display_data"
    },
    {
     "data": {
      "text/html": [
       "<div>\n",
       "<style scoped>\n",
       "    .dataframe tbody tr th:only-of-type {\n",
       "        vertical-align: middle;\n",
       "    }\n",
       "\n",
       "    .dataframe tbody tr th {\n",
       "        vertical-align: top;\n",
       "    }\n",
       "\n",
       "    .dataframe thead th {\n",
       "        text-align: right;\n",
       "    }\n",
       "</style>\n",
       "<table border=\"1\" class=\"dataframe\">\n",
       "  <thead>\n",
       "    <tr style=\"text-align: right;\">\n",
       "      <th></th>\n",
       "      <th>time</th>\n",
       "      <th>brand</th>\n",
       "    </tr>\n",
       "  </thead>\n",
       "  <tbody>\n",
       "    <tr>\n",
       "      <th>0</th>\n",
       "      <td>1</td>\n",
       "      <td>90</td>\n",
       "    </tr>\n",
       "    <tr>\n",
       "      <th>1</th>\n",
       "      <td>2</td>\n",
       "      <td>84</td>\n",
       "    </tr>\n",
       "    <tr>\n",
       "      <th>2</th>\n",
       "      <td>3</td>\n",
       "      <td>78</td>\n",
       "    </tr>\n",
       "    <tr>\n",
       "      <th>3</th>\n",
       "      <td>4</td>\n",
       "      <td>47</td>\n",
       "    </tr>\n",
       "    <tr>\n",
       "      <th>4</th>\n",
       "      <td>5</td>\n",
       "      <td>26</td>\n",
       "    </tr>\n",
       "  </tbody>\n",
       "</table>\n",
       "</div>"
      ],
      "text/plain": [
       "   time  brand\n",
       "0     1     90\n",
       "1     2     84\n",
       "2     3     78\n",
       "3     4     47\n",
       "4     5     26"
      ]
     },
     "metadata": {},
     "output_type": "display_data"
    }
   ],
   "source": [
    "dc_cate2 = df_ac2[df_ac2['cate']==8]\n",
    "dc_cate2 = dc_cate2['brand'].groupby(dc_cate2['time']).count()\n",
    "display(dc_cate2.head())\n",
    "dc_cate2 = dc_cate2.to_frame().reset_index()\n",
    "display(dc_cate2.head())\n",
    "dc_cate2.columns = ['day', 'product_num']\n",
    "\n",
    "dc_cate3 = df_ac3[df_ac3['cate']==8]\n",
    "dc_cate3 = dc_cate3['brand'].groupby(dc_cate3['time']).count()\n",
    "dc_cate3 = dc_cate3.to_frame().reset_index()\n",
    "dc_cate3.columns = ['day', 'product_num']\n",
    "\n",
    "dc_cate4 = df_ac4[df_ac4['cate']==8]\n",
    "dc_cate4 = dc_cate4['brand'].groupby(dc_cate4['time']).count()\n",
    "dc_cate4 = dc_cate4.to_frame().reset_index()\n",
    "dc_cate4.columns = ['day', 'product_num']"
   ]
  },
  {
   "cell_type": "code",
   "execution_count": 39,
   "id": "12b4fa84",
   "metadata": {
    "ExecuteTime": {
     "end_time": "2022-05-12T12:33:56.729542Z",
     "start_time": "2022-05-12T12:33:56.711647Z"
    },
    "scrolled": true
   },
   "outputs": [
    {
     "data": {
      "text/html": [
       "<div>\n",
       "<style scoped>\n",
       "    .dataframe tbody tr th:only-of-type {\n",
       "        vertical-align: middle;\n",
       "    }\n",
       "\n",
       "    .dataframe tbody tr th {\n",
       "        vertical-align: top;\n",
       "    }\n",
       "\n",
       "    .dataframe thead th {\n",
       "        text-align: right;\n",
       "    }\n",
       "</style>\n",
       "<table border=\"1\" class=\"dataframe\">\n",
       "  <thead>\n",
       "    <tr style=\"text-align: right;\">\n",
       "      <th></th>\n",
       "      <th>day</th>\n",
       "      <th>product_num</th>\n",
       "    </tr>\n",
       "  </thead>\n",
       "  <tbody>\n",
       "    <tr>\n",
       "      <th>0</th>\n",
       "      <td>1</td>\n",
       "      <td>90</td>\n",
       "    </tr>\n",
       "    <tr>\n",
       "      <th>1</th>\n",
       "      <td>2</td>\n",
       "      <td>84</td>\n",
       "    </tr>\n",
       "    <tr>\n",
       "      <th>2</th>\n",
       "      <td>3</td>\n",
       "      <td>78</td>\n",
       "    </tr>\n",
       "    <tr>\n",
       "      <th>3</th>\n",
       "      <td>4</td>\n",
       "      <td>47</td>\n",
       "    </tr>\n",
       "    <tr>\n",
       "      <th>4</th>\n",
       "      <td>5</td>\n",
       "      <td>26</td>\n",
       "    </tr>\n",
       "  </tbody>\n",
       "</table>\n",
       "</div>"
      ],
      "text/plain": [
       "   day  product_num\n",
       "0    1           90\n",
       "1    2           84\n",
       "2    3           78\n",
       "3    4           47\n",
       "4    5           26"
      ]
     },
     "execution_count": 39,
     "metadata": {},
     "output_type": "execute_result"
    }
   ],
   "source": [
    "dc_cate2.head()"
   ]
  },
  {
   "cell_type": "markdown",
   "id": "dcf26407",
   "metadata": {},
   "source": [
    "## 商品8按天统计销量可视化"
   ]
  },
  {
   "cell_type": "code",
   "execution_count": 41,
   "id": "c7ce2bcd",
   "metadata": {
    "ExecuteTime": {
     "end_time": "2022-05-12T12:35:56.016544Z",
     "start_time": "2022-05-12T12:35:55.739257Z"
    }
   },
   "outputs": [
    {
     "data": {
      "text/plain": [
       "<matplotlib.legend.Legend at 0x7f779622c400>"
      ]
     },
     "execution_count": 41,
     "metadata": {},
     "output_type": "execute_result"
    },
    {
     "data": {
      "image/png": "[encoded data removed]",
      "text/plain": [
       "<Figure size 1008x720 with 1 Axes>"
      ]
     },
     "metadata": {
      "needs_background": "light"
     },
     "output_type": "display_data"
    }
   ],
   "source": [
    "# 条形宽度\n",
    "bar_width = 0.2\n",
    "# 透明度\n",
    "opacity = 0.4\n",
    "# 天数\n",
    "day_range = range(1,len(dc_cate3['day']) + 1, 1)\n",
    "plt.rcParams['font.family'] = 'Songti SC'\n",
    "plt.rcParams['font.size'] = 25\n",
    "# 设置图片大小\n",
    "plt.figure(figsize=(14,10))\n",
    "\n",
    "plt.bar(dc_cate2['day'], dc_cate2['product_num'], bar_width, \n",
    "        alpha=opacity, color='c', label='February')\n",
    "plt.bar(dc_cate3['day']+bar_width, dc_cate3['product_num'], \n",
    "        bar_width, alpha=opacity, color='g', label='March')\n",
    "plt.bar(dc_cate4['day']+bar_width*2, dc_cate4['product_num'], \n",
    "        bar_width, alpha=opacity, color='m', label='April')\n",
    "\n",
    "plt.xlabel('day')\n",
    "plt.ylabel('number')\n",
    "plt.title('商品8销量统计表',pad = 20)\n",
    "plt.xticks(dc_cate3['day'] + bar_width * 3 / 2., day_range)\n",
    "plt.tight_layout() \n",
    "\n",
    "plt.legend(prop={'size':9})\n",
    "# plt.savefig('./17-商品8每月按天统计销量可视化.png',dpi = 200)"
   ]
  },
  {
   "cell_type": "markdown",
   "id": "815e8f22",
   "metadata": {},
   "source": [
    "分析：2月份对类别8商品的购买普遍偏低，3，4月份普遍偏高，3月15日购买极其多！可以对比3月份的销售记录，发现类别8将近占了3月15日总销售的一半！同时发现，3,4月份类别8销售记录在前半个月特别相似，除了4月8号，9号和3月15号。"
   ]
  },
  {
   "cell_type": "markdown",
   "id": "b25f8a50",
   "metadata": {},
   "source": [
    "# 查看特定用户对特定商品的的轨迹"
   ]
  },
  {
   "cell_type": "markdown",
   "id": "7d6d9849",
   "metadata": {},
   "source": [
    "## 定义函数筛选用户--商品数据"
   ]
  },
  {
   "cell_type": "code",
   "execution_count": 42,
   "id": "3421629f",
   "metadata": {
    "ExecuteTime": {
     "end_time": "2022-05-12T12:41:49.293531Z",
     "start_time": "2022-05-12T12:41:49.279699Z"
    }
   },
   "outputs": [],
   "source": [
    "def spec_ui_action_data(fname, user_id, item_id, chunk_size=100000):\n",
    "    reader = pd.read_csv(fname, header=0, iterator=True)\n",
    "    chunks = []\n",
    "    loop = True\n",
    "    while loop:\n",
    "        try:\n",
    "            chunk = reader.get_chunk(chunk_size)[\n",
    "                [\"user_id\", \"sku_id\", \"type\", \"time\"]]\n",
    "            chunks.append(chunk)\n",
    "        except StopIteration:\n",
    "            loop = False\n",
    "            print(\"Iteration is stopped\")\n",
    "\n",
    "    df_ac = pd.concat(chunks, ignore_index=True)\n",
    "    df_ac = df_ac[(df_ac['user_id'] == user_id) & (df_ac['sku_id'] == item_id)]\n",
    "\n",
    "    return df_ac"
   ]
  },
  {
   "cell_type": "markdown",
   "id": "0d5a08e2",
   "metadata": {},
   "source": [
    "## 筛选全部数据"
   ]
  },
  {
   "cell_type": "code",
   "execution_count": 43,
   "id": "74b89543",
   "metadata": {
    "ExecuteTime": {
     "end_time": "2022-05-12T12:44:05.569485Z",
     "start_time": "2022-05-12T12:44:05.558253Z"
    }
   },
   "outputs": [],
   "source": [
    "def explore_user_item_via_time():\n",
    "    user_id = 266079\n",
    "    item_id = 138778\n",
    "    df_ac = []\n",
    "    \n",
    "    df_ac.append(spec_ui_action_data(ACTION_201602_FILE, user_id, item_id))\n",
    "    df_ac.append(spec_ui_action_data(ACTION_201603_FILE, user_id, item_id))\n",
    "    df_ac.append(spec_ui_action_data(ACTION_201604_FILE, user_id, item_id))\n",
    "    \n",
    "    df_ac = pd.concat(df_ac, ignore_index=False)\n",
    "    print(df_ac.sort_values(by='time'))"
   ]
  },
  {
   "cell_type": "markdown",
   "id": "25636b8f",
   "metadata": {},
   "source": [
    "## 进行用户和商品数据筛选"
   ]
  },
  {
   "cell_type": "code",
   "execution_count": 44,
   "id": "32784a32",
   "metadata": {
    "ExecuteTime": {
     "end_time": "2022-05-12T12:47:55.221147Z",
     "start_time": "2022-05-12T12:47:28.564535Z"
    }
   },
   "outputs": [
    {
     "name": "stdout",
     "output_type": "stream",
     "text": [
      "Iteration is stopped\n",
      "Iteration is stopped\n",
      "Iteration is stopped\n",
      "    user_id  sku_id  type                 time\n",
      "0    266079  138778     1  2016-01-31 23:59:02\n",
      "1    266079  138778     6  2016-01-31 23:59:03\n",
      "15   266079  138778     6  2016-01-31 23:59:40\n"
     ]
    }
   ],
   "source": [
    "explore_user_item_via_time()"
   ]
  },
  {
   "cell_type": "code",
   "execution_count": null,
   "id": "4c354562",
   "metadata": {},
   "outputs": [],
   "source": []
  }
 ],
 "metadata": {
  "hide_input": false,
  "kernelspec": {
   "display_name": "Python 3 (ipykernel)",
   "language": "python",
   "name": "python3"
  },
  "language_info": {
   "codemirror_mode": {
    "name": "ipython",
    "version": 3
   },
   "file_extension": ".py",
   "mimetype": "text/x-python",
   "name": "python",
   "nbconvert_exporter": "python",
   "pygments_lexer": "ipython3",
   "version": "3.9.7"
  },
  "nbTranslate": {
   "displayLangs": [
    "*"
   ],
   "hotkey": "alt-t",
   "langInMainMenu": true,
   "sourceLang": "en",
   "targetLang": "fr",
   "useGoogleTranslate": true
  },
  "toc": {
   "base_numbering": 1,
   "nav_menu": {},
   "number_sections": true,
   "sideBar": true,
   "skip_h1_title": false,
   "title_cell": "Table of Contents",
   "title_sidebar": "Contents",
   "toc_cell": false,
   "toc_position": {},
   "toc_section_display": true,
   "toc_window_display": true
  },
  "varInspector": {
   "cols": {
    "lenName": 16,
    "lenType": 16,
    "lenVar": 40
   },
   "kernels_config": {
    "python": {
     "delete_cmd_postfix": "",
     "delete_cmd_prefix": "del ",
     "library": "var_list.py",
     "varRefreshCmd": "print(var_dic_list())"
    },
    "r": {
     "delete_cmd_postfix": ") ",
     "delete_cmd_prefix": "rm(",
     "library": "var_list.r",
     "varRefreshCmd": "cat(var_dic_list()) "
    }
   },
   "position": {
    "height": "352px",
    "left": "1358px",
    "right": "20px",
    "top": "120px",
    "width": "350px"
   },
   "types_to_exclude": [
    "module",
    "function",
    "builtin_function_or_method",
    "instance",
    "_Feature"
   ],
   "window_display": true
  }
 },
 "nbformat": 4,
 "nbformat_minor": 5
}
