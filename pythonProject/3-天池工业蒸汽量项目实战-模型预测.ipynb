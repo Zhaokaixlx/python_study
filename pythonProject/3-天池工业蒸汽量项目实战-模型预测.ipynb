{
 "cells": [
  {
   "cell_type": "markdown",
   "id": "90e788e2",
   "metadata": {},
   "source": [
    "### 导入相应库"
   ]
  },
  {
   "cell_type": "code",
   "execution_count": 1,
   "id": "586845ae",
   "metadata": {},
   "outputs": [],
   "source": [
    "import numpy as np\n",
    "import pandas as pd\n",
    "import matplotlib.pyplot as plt\n",
    "from sklearn.linear_model import LinearRegression  #线性回归\n",
    "from sklearn.ensemble import RandomForestRegressor #随机森林回归\n",
    "from sklearn.ensemble import GradientBoostingRegressor\n",
    "from sklearn.svm import SVR  #支持向量回归\n",
    "import lightgbm as lgb #lightGbm模型\n",
    "from xgboost import XGBRFRegressor\n",
    "\n",
    "from sklearn.model_selection import train_test_split # 切分数据\n",
    "from sklearn.metrics import mean_squared_error #评价指标\n",
    "\n",
    "from sklearn.model_selection import learning_curve\n",
    "from sklearn.model_selection import ShuffleSplit\n",
    "import warnings\n",
    "warnings.filterwarnings('ignore')"
   ]
  },
  {
   "cell_type": "markdown",
   "id": "f2e3a9a6",
   "metadata": {},
   "source": [
    "### 加载数据"
   ]
  },
  {
   "cell_type": "markdown",
   "id": "89fb5095",
   "metadata": {},
   "source": [
    "#### 未降维数据"
   ]
  },
  {
   "cell_type": "code",
   "execution_count": 2,
   "id": "1ed43ee3",
   "metadata": {},
   "outputs": [],
   "source": [
    "all_data = pd.read_csv('./processed_zhengqi_data2.csv')\n",
    "\n",
    "# 训练数据\n",
    "cond = all_data['label'] == 'train'\n",
    "train_data = all_data[cond]\n",
    "train_data.drop(labels = 'label',axis = 1,inplace = True)\n",
    "# 切分数据 训练数据80% 验证数据20%\n",
    "X_train,X_valid,y_train,y_valid=train_test_split(train_data.drop(labels='target',axis = 1),\n",
    "                                                 train_data['target'],\n",
    "                                                 test_size=0.2)\n",
    "# 测试数据\n",
    "cond2 = all_data['label'] == 'test'\n",
    "test_data = all_data[cond2]\n",
    "test_data.drop(labels = ['label','target'],axis = 1,inplace = True)"
   ]
  },
  {
   "cell_type": "code",
   "execution_count": 3,
   "id": "266491b9",
   "metadata": {},
   "outputs": [
    {
     "data": {
      "text/html": [
       "<div>\n",
       "<style scoped>\n",
       "    .dataframe tbody tr th:only-of-type {\n",
       "        vertical-align: middle;\n",
       "    }\n",
       "\n",
       "    .dataframe tbody tr th {\n",
       "        vertical-align: top;\n",
       "    }\n",
       "\n",
       "    .dataframe thead th {\n",
       "        text-align: right;\n",
       "    }\n",
       "</style>\n",
       "<table border=\"1\" class=\"dataframe\">\n",
       "  <thead>\n",
       "    <tr style=\"text-align: right;\">\n",
       "      <th></th>\n",
       "      <th>V0</th>\n",
       "      <th>V1</th>\n",
       "      <th>V2</th>\n",
       "      <th>V3</th>\n",
       "      <th>V4</th>\n",
       "      <th>V6</th>\n",
       "      <th>V7</th>\n",
       "      <th>V8</th>\n",
       "      <th>V10</th>\n",
       "      <th>V12</th>\n",
       "      <th>...</th>\n",
       "      <th>V24</th>\n",
       "      <th>V27</th>\n",
       "      <th>V29</th>\n",
       "      <th>V30</th>\n",
       "      <th>V31</th>\n",
       "      <th>V35</th>\n",
       "      <th>V36</th>\n",
       "      <th>V37</th>\n",
       "      <th>target</th>\n",
       "      <th>label</th>\n",
       "    </tr>\n",
       "  </thead>\n",
       "  <tbody>\n",
       "    <tr>\n",
       "      <th>0</th>\n",
       "      <td>4.147084</td>\n",
       "      <td>5.841184</td>\n",
       "      <td>0.918479</td>\n",
       "      <td>0.921088</td>\n",
       "      <td>1.205738</td>\n",
       "      <td>1.864357</td>\n",
       "      <td>1.568184</td>\n",
       "      <td>3.799373</td>\n",
       "      <td>0.262782</td>\n",
       "      <td>1.495579</td>\n",
       "      <td>...</td>\n",
       "      <td>0.531587</td>\n",
       "      <td>8923.054505</td>\n",
       "      <td>0.300080</td>\n",
       "      <td>1.788352</td>\n",
       "      <td>15.555187</td>\n",
       "      <td>0.519843</td>\n",
       "      <td>0.000000</td>\n",
       "      <td>0.018284</td>\n",
       "      <td>0.175</td>\n",
       "      <td>train</td>\n",
       "    </tr>\n",
       "    <tr>\n",
       "      <th>1</th>\n",
       "      <td>4.988271</td>\n",
       "      <td>7.279840</td>\n",
       "      <td>0.984897</td>\n",
       "      <td>0.964538</td>\n",
       "      <td>1.110508</td>\n",
       "      <td>2.148236</td>\n",
       "      <td>1.568184</td>\n",
       "      <td>5.377114</td>\n",
       "      <td>0.493786</td>\n",
       "      <td>1.463960</td>\n",
       "      <td>...</td>\n",
       "      <td>0.531820</td>\n",
       "      <td>11039.701316</td>\n",
       "      <td>0.280397</td>\n",
       "      <td>1.800049</td>\n",
       "      <td>21.939731</td>\n",
       "      <td>9.178637</td>\n",
       "      <td>0.369734</td>\n",
       "      <td>0.407834</td>\n",
       "      <td>0.676</td>\n",
       "      <td>train</td>\n",
       "    </tr>\n",
       "    <tr>\n",
       "      <th>2</th>\n",
       "      <td>5.090224</td>\n",
       "      <td>7.783637</td>\n",
       "      <td>1.040170</td>\n",
       "      <td>0.911078</td>\n",
       "      <td>1.081218</td>\n",
       "      <td>2.401542</td>\n",
       "      <td>1.568184</td>\n",
       "      <td>5.529584</td>\n",
       "      <td>0.655989</td>\n",
       "      <td>1.496101</td>\n",
       "      <td>...</td>\n",
       "      <td>0.569035</td>\n",
       "      <td>10875.927640</td>\n",
       "      <td>0.289379</td>\n",
       "      <td>1.992162</td>\n",
       "      <td>24.904398</td>\n",
       "      <td>9.178637</td>\n",
       "      <td>0.611879</td>\n",
       "      <td>0.426451</td>\n",
       "      <td>0.633</td>\n",
       "      <td>train</td>\n",
       "    </tr>\n",
       "    <tr>\n",
       "      <th>3</th>\n",
       "      <td>4.481728</td>\n",
       "      <td>7.025646</td>\n",
       "      <td>1.056127</td>\n",
       "      <td>0.856314</td>\n",
       "      <td>1.262126</td>\n",
       "      <td>2.631664</td>\n",
       "      <td>1.888754</td>\n",
       "      <td>5.546472</td>\n",
       "      <td>0.454651</td>\n",
       "      <td>1.526601</td>\n",
       "      <td>...</td>\n",
       "      <td>0.677685</td>\n",
       "      <td>10230.746478</td>\n",
       "      <td>0.291168</td>\n",
       "      <td>2.039607</td>\n",
       "      <td>24.929990</td>\n",
       "      <td>9.178637</td>\n",
       "      <td>0.511483</td>\n",
       "      <td>0.488736</td>\n",
       "      <td>0.206</td>\n",
       "      <td>train</td>\n",
       "    </tr>\n",
       "    <tr>\n",
       "      <th>4</th>\n",
       "      <td>4.381416</td>\n",
       "      <td>8.064594</td>\n",
       "      <td>1.048467</td>\n",
       "      <td>0.867969</td>\n",
       "      <td>1.162709</td>\n",
       "      <td>2.818014</td>\n",
       "      <td>1.888754</td>\n",
       "      <td>5.334858</td>\n",
       "      <td>0.398723</td>\n",
       "      <td>1.642254</td>\n",
       "      <td>...</td>\n",
       "      <td>0.550463</td>\n",
       "      <td>10957.524880</td>\n",
       "      <td>0.303493</td>\n",
       "      <td>2.663214</td>\n",
       "      <td>25.564331</td>\n",
       "      <td>9.178637</td>\n",
       "      <td>0.380802</td>\n",
       "      <td>0.499597</td>\n",
       "      <td>0.384</td>\n",
       "      <td>train</td>\n",
       "    </tr>\n",
       "    <tr>\n",
       "      <th>...</th>\n",
       "      <td>...</td>\n",
       "      <td>...</td>\n",
       "      <td>...</td>\n",
       "      <td>...</td>\n",
       "      <td>...</td>\n",
       "      <td>...</td>\n",
       "      <td>...</td>\n",
       "      <td>...</td>\n",
       "      <td>...</td>\n",
       "      <td>...</td>\n",
       "      <td>...</td>\n",
       "      <td>...</td>\n",
       "      <td>...</td>\n",
       "      <td>...</td>\n",
       "      <td>...</td>\n",
       "      <td>...</td>\n",
       "      <td>...</td>\n",
       "      <td>...</td>\n",
       "      <td>...</td>\n",
       "      <td>...</td>\n",
       "      <td>...</td>\n",
       "    </tr>\n",
       "    <tr>\n",
       "      <th>4704</th>\n",
       "      <td>1.507318</td>\n",
       "      <td>2.366075</td>\n",
       "      <td>0.192182</td>\n",
       "      <td>0.700533</td>\n",
       "      <td>1.179061</td>\n",
       "      <td>0.138338</td>\n",
       "      <td>0.043709</td>\n",
       "      <td>0.440800</td>\n",
       "      <td>0.004467</td>\n",
       "      <td>1.754458</td>\n",
       "      <td>...</td>\n",
       "      <td>0.184800</td>\n",
       "      <td>749.697250</td>\n",
       "      <td>0.302625</td>\n",
       "      <td>0.002497</td>\n",
       "      <td>0.448108</td>\n",
       "      <td>2.996210</td>\n",
       "      <td>0.005636</td>\n",
       "      <td>0.579449</td>\n",
       "      <td>NaN</td>\n",
       "      <td>test</td>\n",
       "    </tr>\n",
       "    <tr>\n",
       "      <th>4705</th>\n",
       "      <td>0.607637</td>\n",
       "      <td>0.591671</td>\n",
       "      <td>0.100980</td>\n",
       "      <td>0.552034</td>\n",
       "      <td>0.623189</td>\n",
       "      <td>0.122522</td>\n",
       "      <td>0.084880</td>\n",
       "      <td>0.334212</td>\n",
       "      <td>0.008009</td>\n",
       "      <td>0.766166</td>\n",
       "      <td>...</td>\n",
       "      <td>0.291031</td>\n",
       "      <td>649.875342</td>\n",
       "      <td>0.377223</td>\n",
       "      <td>1.285751</td>\n",
       "      <td>0.000000</td>\n",
       "      <td>2.996210</td>\n",
       "      <td>0.005636</td>\n",
       "      <td>0.656833</td>\n",
       "      <td>NaN</td>\n",
       "      <td>test</td>\n",
       "    </tr>\n",
       "    <tr>\n",
       "      <th>4706</th>\n",
       "      <td>0.648457</td>\n",
       "      <td>0.535177</td>\n",
       "      <td>0.137667</td>\n",
       "      <td>0.705981</td>\n",
       "      <td>0.653005</td>\n",
       "      <td>0.308269</td>\n",
       "      <td>0.291171</td>\n",
       "      <td>0.133988</td>\n",
       "      <td>0.007462</td>\n",
       "      <td>1.000486</td>\n",
       "      <td>...</td>\n",
       "      <td>0.591230</td>\n",
       "      <td>851.669065</td>\n",
       "      <td>0.329385</td>\n",
       "      <td>1.800831</td>\n",
       "      <td>0.324084</td>\n",
       "      <td>3.987778</td>\n",
       "      <td>0.008216</td>\n",
       "      <td>0.705772</td>\n",
       "      <td>NaN</td>\n",
       "      <td>test</td>\n",
       "    </tr>\n",
       "    <tr>\n",
       "      <th>4707</th>\n",
       "      <td>0.625626</td>\n",
       "      <td>0.496193</td>\n",
       "      <td>0.160569</td>\n",
       "      <td>0.638362</td>\n",
       "      <td>0.653539</td>\n",
       "      <td>0.497144</td>\n",
       "      <td>0.493672</td>\n",
       "      <td>0.238140</td>\n",
       "      <td>0.003246</td>\n",
       "      <td>0.862510</td>\n",
       "      <td>...</td>\n",
       "      <td>0.531587</td>\n",
       "      <td>1091.648345</td>\n",
       "      <td>0.313149</td>\n",
       "      <td>2.671518</td>\n",
       "      <td>0.722675</td>\n",
       "      <td>3.987778</td>\n",
       "      <td>0.007570</td>\n",
       "      <td>0.683533</td>\n",
       "      <td>NaN</td>\n",
       "      <td>test</td>\n",
       "    </tr>\n",
       "    <tr>\n",
       "      <th>4708</th>\n",
       "      <td>0.807229</td>\n",
       "      <td>0.837199</td>\n",
       "      <td>0.170737</td>\n",
       "      <td>0.434325</td>\n",
       "      <td>0.753515</td>\n",
       "      <td>0.541012</td>\n",
       "      <td>0.523259</td>\n",
       "      <td>0.341943</td>\n",
       "      <td>0.464497</td>\n",
       "      <td>0.999285</td>\n",
       "      <td>...</td>\n",
       "      <td>0.531353</td>\n",
       "      <td>1381.181968</td>\n",
       "      <td>0.313502</td>\n",
       "      <td>1.188729</td>\n",
       "      <td>0.758727</td>\n",
       "      <td>3.987778</td>\n",
       "      <td>0.222622</td>\n",
       "      <td>0.751595</td>\n",
       "      <td>NaN</td>\n",
       "      <td>test</td>\n",
       "    </tr>\n",
       "  </tbody>\n",
       "</table>\n",
       "<p>4709 rows × 27 columns</p>\n",
       "</div>"
      ],
      "text/plain": [
       "            V0        V1        V2        V3        V4        V6        V7  \\\n",
       "0     4.147084  5.841184  0.918479  0.921088  1.205738  1.864357  1.568184   \n",
       "1     4.988271  7.279840  0.984897  0.964538  1.110508  2.148236  1.568184   \n",
       "2     5.090224  7.783637  1.040170  0.911078  1.081218  2.401542  1.568184   \n",
       "3     4.481728  7.025646  1.056127  0.856314  1.262126  2.631664  1.888754   \n",
       "4     4.381416  8.064594  1.048467  0.867969  1.162709  2.818014  1.888754   \n",
       "...        ...       ...       ...       ...       ...       ...       ...   \n",
       "4704  1.507318  2.366075  0.192182  0.700533  1.179061  0.138338  0.043709   \n",
       "4705  0.607637  0.591671  0.100980  0.552034  0.623189  0.122522  0.084880   \n",
       "4706  0.648457  0.535177  0.137667  0.705981  0.653005  0.308269  0.291171   \n",
       "4707  0.625626  0.496193  0.160569  0.638362  0.653539  0.497144  0.493672   \n",
       "4708  0.807229  0.837199  0.170737  0.434325  0.753515  0.541012  0.523259   \n",
       "\n",
       "            V8       V10       V12  ...       V24           V27       V29  \\\n",
       "0     3.799373  0.262782  1.495579  ...  0.531587   8923.054505  0.300080   \n",
       "1     5.377114  0.493786  1.463960  ...  0.531820  11039.701316  0.280397   \n",
       "2     5.529584  0.655989  1.496101  ...  0.569035  10875.927640  0.289379   \n",
       "3     5.546472  0.454651  1.526601  ...  0.677685  10230.746478  0.291168   \n",
       "4     5.334858  0.398723  1.642254  ...  0.550463  10957.524880  0.303493   \n",
       "...        ...       ...       ...  ...       ...           ...       ...   \n",
       "4704  0.440800  0.004467  1.754458  ...  0.184800    749.697250  0.302625   \n",
       "4705  0.334212  0.008009  0.766166  ...  0.291031    649.875342  0.377223   \n",
       "4706  0.133988  0.007462  1.000486  ...  0.591230    851.669065  0.329385   \n",
       "4707  0.238140  0.003246  0.862510  ...  0.531587   1091.648345  0.313149   \n",
       "4708  0.341943  0.464497  0.999285  ...  0.531353   1381.181968  0.313502   \n",
       "\n",
       "           V30        V31       V35       V36       V37  target  label  \n",
       "0     1.788352  15.555187  0.519843  0.000000  0.018284   0.175  train  \n",
       "1     1.800049  21.939731  9.178637  0.369734  0.407834   0.676  train  \n",
       "2     1.992162  24.904398  9.178637  0.611879  0.426451   0.633  train  \n",
       "3     2.039607  24.929990  9.178637  0.511483  0.488736   0.206  train  \n",
       "4     2.663214  25.564331  9.178637  0.380802  0.499597   0.384  train  \n",
       "...        ...        ...       ...       ...       ...     ...    ...  \n",
       "4704  0.002497   0.448108  2.996210  0.005636  0.579449     NaN   test  \n",
       "4705  1.285751   0.000000  2.996210  0.005636  0.656833     NaN   test  \n",
       "4706  1.800831   0.324084  3.987778  0.008216  0.705772     NaN   test  \n",
       "4707  2.671518   0.722675  3.987778  0.007570  0.683533     NaN   test  \n",
       "4708  1.188729   0.758727  3.987778  0.222622  0.751595     NaN   test  \n",
       "\n",
       "[4709 rows x 27 columns]"
      ]
     },
     "execution_count": 3,
     "metadata": {},
     "output_type": "execute_result"
    }
   ],
   "source": [
    "all_data"
   ]
  },
  {
   "cell_type": "markdown",
   "id": "5908055b",
   "metadata": {},
   "source": [
    "#### 降维数据"
   ]
  },
  {
   "cell_type": "code",
   "execution_count": 4,
   "id": "a900be08",
   "metadata": {},
   "outputs": [],
   "source": [
    "#采用 pca 保留特征的数据\n",
    "train_data_pca = np.load('./train_data_pca.npz')['X_train']\n",
    "target_data_pca = np.load('./train_data_pca.npz')['y_train']\n",
    "\n",
    "# 切分数据 训练数据80% 验证数据20%\n",
    "X_train_pca,X_valid_pca,y_train_pca,y_valid_pca=train_test_split(train_data_pca,target_data_pca,\n",
    "                                                               test_size=0.2)\n",
    "test_data_pca = np.load('./test_data_pca.npz')['X_test']"
   ]
  },
  {
   "cell_type": "code",
   "execution_count": 21,
   "id": "f9cbcf1c",
   "metadata": {},
   "outputs": [
    {
     "data": {
      "text/plain": [
       "(2784, 22)"
      ]
     },
     "execution_count": 21,
     "metadata": {},
     "output_type": "execute_result"
    }
   ],
   "source": [
    "train_data_pca.shape"
   ]
  },
  {
   "cell_type": "markdown",
   "id": "555064db",
   "metadata": {},
   "source": [
    "### 定义绘制模型学习曲线函数"
   ]
  },
  {
   "cell_type": "code",
   "execution_count": 12,
   "id": "076953df",
   "metadata": {},
   "outputs": [
    {
     "data": {
      "text/plain": [
       "array([0.1  , 0.325, 0.55 , 0.775, 1.   ])"
      ]
     },
     "execution_count": 12,
     "metadata": {},
     "output_type": "execute_result"
    }
   ],
   "source": [
    "train_sizes=np.array([0.1  , 0.325, 0.55 , 0.775, 1.   ])\n",
    "train_sizes"
   ]
  },
  {
   "cell_type": "code",
   "execution_count": 19,
   "id": "95c838bb",
   "metadata": {},
   "outputs": [
    {
     "data": {
      "text/plain": [
       "array([ 167.,  542.,  918., 1294., 1670.])"
      ]
     },
     "execution_count": 19,
     "metadata": {},
     "output_type": "execute_result"
    }
   ],
   "source": [
    "np.floor(X_train_pca.shape[0] * train_sizes * 0.75)"
   ]
  },
  {
   "cell_type": "code",
   "execution_count": null,
   "id": "c280a197",
   "metadata": {},
   "outputs": [],
   "source": [
    "[ 167  542  918 1294 1670]"
   ]
  },
  {
   "cell_type": "code",
   "execution_count": 10,
   "id": "811dd013",
   "metadata": {},
   "outputs": [],
   "source": [
    "def plot_learning_curve(model,title,X,y,cv=None):\n",
    "    \n",
    "    # 学习曲线计算\n",
    "    train_sizes, train_scores, test_scores = learning_curve(model, X, y, cv=cv)\n",
    "    print(train_sizes,train_scores.shape,test_scores.shape)\n",
    "    \n",
    "    # 训练数据得分和测试数据得分平均值与方差计算\n",
    "    train_scores_mean = np.mean(train_scores, axis=1)\n",
    "    train_scores_std = np.std(train_scores, axis=1)\n",
    "    test_scores_mean = np.mean(test_scores, axis=1)\n",
    "    test_scores_std = np.std(test_scores, axis=1)\n",
    "    \n",
    "    # 训练数据得分可视化\n",
    "    plt.plot(train_sizes, train_scores_mean, 'o-', color=\"r\",\n",
    "             label=\"Training score\")\n",
    "    plt.fill_between(train_sizes, train_scores_mean - train_scores_std,\n",
    "                     train_scores_mean + train_scores_std, alpha=0.1,color=\"r\")\n",
    "    \n",
    "    # 测试数据得分可视化\n",
    "    plt.plot(train_sizes, test_scores_mean, 'o-', color=\"g\",\n",
    "             label=\"Cross-validation score\")\n",
    "    plt.fill_between(train_sizes, test_scores_mean - test_scores_std,\n",
    "                     test_scores_mean + test_scores_std, alpha=0.1, color=\"g\")\n",
    "    # 画图设置\n",
    "    plt.grid() # 网格线设置\n",
    "    plt.legend(loc=\"best\") # 图例设置\n",
    "    # 标题标签设置\n",
    "    plt.title(title)\n",
    "    plt.xlabel(\"Training examples\")\n",
    "    plt.ylabel(\"Score\")"
   ]
  },
  {
   "cell_type": "markdown",
   "id": "ab47a49d",
   "metadata": {},
   "source": [
    "### 多元线性回归模型"
   ]
  },
  {
   "cell_type": "markdown",
   "id": "01c3d4bf",
   "metadata": {},
   "source": [
    "#### 模型训练"
   ]
  },
  {
   "cell_type": "markdown",
   "id": "8e4e4dcf",
   "metadata": {},
   "source": [
    "降维数据建模验证"
   ]
  },
  {
   "cell_type": "code",
   "execution_count": 6,
   "id": "4066242a",
   "metadata": {},
   "outputs": [
    {
     "name": "stdout",
     "output_type": "stream",
     "text": [
      "LinearRegression:    0.09376599064253983\n"
     ]
    }
   ],
   "source": [
    "clf = LinearRegression()\n",
    "clf.fit(X_train_pca, y_train_pca)\n",
    "score = mean_squared_error(y_valid_pca, clf.predict(X_valid_pca))\n",
    "print(\"LinearRegression:   \", score)"
   ]
  },
  {
   "cell_type": "markdown",
   "id": "e790630a",
   "metadata": {},
   "source": [
    "未降维数据建模验证"
   ]
  },
  {
   "cell_type": "code",
   "execution_count": 7,
   "id": "3ed71195",
   "metadata": {},
   "outputs": [
    {
     "name": "stdout",
     "output_type": "stream",
     "text": [
      "LinearRegression:    0.09754908135995455\n"
     ]
    }
   ],
   "source": [
    "clf = LinearRegression()\n",
    "clf.fit(X_train, y_train)\n",
    "score = mean_squared_error(y_valid, clf.predict(X_valid))\n",
    "print(\"LinearRegression:   \", score)"
   ]
  },
  {
   "cell_type": "markdown",
   "id": "25e4002b",
   "metadata": {},
   "source": [
    "#### 绘制线性回归模型学习曲线"
   ]
  },
  {
   "cell_type": "markdown",
   "id": "3455e35f",
   "metadata": {},
   "source": [
    "学习曲线是不同训练集大小，模型在训练集和验证集上的得分变化曲线。也就是以样本数为横坐标，训练和交叉验证集上的得分（如准确率）为纵坐标。  \n",
    "learning curve可以帮助我们判断模型现在所处的状态：\n",
    "* 过拟合（overfiting / high variance 高方差） 说明模型能够很好的拟合已知数据，但是泛化能力很差，属于高方差\n",
    "* 欠拟合（underfitting / high bias 高偏差）这说明模拟对已知数据和未知都不能进行准确的预测，属于高偏差"
   ]
  },
  {
   "cell_type": "markdown",
   "id": "73ed6dd7",
   "metadata": {},
   "source": [
    "降维数据学习曲线"
   ]
  },
  {
   "cell_type": "code",
   "execution_count": 11,
   "id": "ea625cb4",
   "metadata": {
    "scrolled": false
   },
   "outputs": [
    {
     "name": "stdout",
     "output_type": "stream",
     "text": [
      "[ 167  542  918 1294 1670] (5, 100) (5, 100)\n"
     ]
    },
    {
     "data": {
      "image/png": "[encoded data removed]",
      "text/plain": [
       "<Figure size 432x288 with 1 Axes>"
      ]
     },
     "metadata": {
      "needs_background": "light"
     },
     "output_type": "display_data"
    }
   ],
   "source": [
    "X = X_train_pca\n",
    "y = y_train_pca\n",
    "# 多元线性回归模型学习曲线图\n",
    "title = \"LinearRegression\"\n",
    "\n",
    "cv = ShuffleSplit(n_splits=100, test_size=0.25)\n",
    "\n",
    "estimator = LinearRegression()    #建模\n",
    "\n",
    "plot_learning_curve(estimator, title, X, y, cv = cv)\n",
    "\n",
    "plt.savefig('./10-多元线性回归降维数据学习曲线.png',dpi = 200)"
   ]
  },
  {
   "cell_type": "markdown",
   "id": "2ef411ac",
   "metadata": {},
   "source": [
    "非降维数据学习曲线"
   ]
  },
  {
   "cell_type": "code",
   "execution_count": 20,
   "id": "9c46fa8a",
   "metadata": {
    "scrolled": true
   },
   "outputs": [
    {
     "name": "stdout",
     "output_type": "stream",
     "text": [
      "[ 111  361  612  862 1113] (5, 100) (5, 100)\n"
     ]
    },
    {
     "data": {
      "image/png": "[encoded data removed]",
      "text/plain": [
       "<Figure size 432x288 with 1 Axes>"
      ]
     },
     "metadata": {
      "needs_background": "light"
     },
     "output_type": "display_data"
    }
   ],
   "source": [
    "X = X_train\n",
    "y = y_train\n",
    "# 多元线性回归模型学习曲线图\n",
    "title = \"LinearRegression\"\n",
    "cv = ShuffleSplit(n_splits=100, test_size=0.5)\n",
    "estimator = LinearRegression()    #建模\n",
    "plot_learning_curve(estimator, title, X, y, cv = cv)\n",
    "plt.savefig('./11-多元线性回归非降维数据学习曲线.png',dpi = 200)"
   ]
  },
  {
   "cell_type": "markdown",
   "id": "38f99ba8",
   "metadata": {},
   "source": [
    "#### 模型预测"
   ]
  },
  {
   "cell_type": "markdown",
   "id": "98c100f2",
   "metadata": {},
   "source": [
    "降维数据建模预测"
   ]
  },
  {
   "cell_type": "code",
   "execution_count": 22,
   "id": "e38fe4ae",
   "metadata": {},
   "outputs": [
    {
     "data": {
      "text/plain": [
       "array([ 0.18802274,  0.24611291, -0.1557421 , ..., -2.46741335,\n",
       "       -2.51810503, -2.23076209])"
      ]
     },
     "metadata": {},
     "output_type": "display_data"
    }
   ],
   "source": [
    "# 得分是：0.1598\n",
    "model = LinearRegression()\n",
    "model.fit(train_data_pca,target_data_pca)\n",
    "y_ = model.predict(test_data_pca)\n",
    "display(y_)\n",
    "np.savetxt('./多元线性回归模型预测(降维数据).txt',y_)"
   ]
  },
  {
   "cell_type": "markdown",
   "id": "de952f9c",
   "metadata": {},
   "source": [
    "非降维数据建模预测"
   ]
  },
  {
   "cell_type": "code",
   "execution_count": 23,
   "id": "e80ff733",
   "metadata": {},
   "outputs": [
    {
     "data": {
      "text/plain": [
       "array([ 0.180302  ,  0.21599399, -0.17268982, ..., -2.44517796,\n",
       "       -2.44884392, -2.06587572])"
      ]
     },
     "metadata": {},
     "output_type": "display_data"
    }
   ],
   "source": [
    "# 得分是：0.1620\n",
    "model = LinearRegression()\n",
    "model.fit(train_data.drop('target',axis = 1),train_data['target'])\n",
    "y_ = model.predict(test_data)\n",
    "display(y_)\n",
    "np.savetxt('./多元线性回归模型预测(非降维数据).txt',y_)"
   ]
  },
  {
   "cell_type": "markdown",
   "id": "f194f70e",
   "metadata": {},
   "source": [
    "### 随机森林模型建模"
   ]
  },
  {
   "cell_type": "markdown",
   "id": "562dcfeb",
   "metadata": {},
   "source": [
    "#### 模型训练"
   ]
  },
  {
   "cell_type": "markdown",
   "id": "eb0d5478",
   "metadata": {},
   "source": [
    "降维数据建模验证"
   ]
  },
  {
   "cell_type": "code",
   "execution_count": 24,
   "id": "69e3044d",
   "metadata": {},
   "outputs": [
    {
     "name": "stdout",
     "output_type": "stream",
     "text": [
      "随机森林得分:    0.1535330953946485\n"
     ]
    }
   ],
   "source": [
    "model = RandomForestRegressor(n_estimators=200, # 200棵树模型\n",
    "                            max_depth= 10,\n",
    "                            max_features = 'auto',# 构建树时，特征筛选量\n",
    "                            min_samples_leaf=10,# 是叶节点所需的最小样本数\n",
    "                            min_samples_split=40,# 是分割所需的最小样本数\n",
    "                            criterion='squared_error')\n",
    "model.fit(X_train_pca, y_train_pca)\n",
    "score = mean_squared_error(y_valid_pca, model.predict(X_valid_pca))\n",
    "print(\"随机森林得分:   \", score)"
   ]
  },
  {
   "cell_type": "markdown",
   "id": "538dfcad",
   "metadata": {},
   "source": [
    "非降维数据建模验证"
   ]
  },
  {
   "cell_type": "code",
   "execution_count": 25,
   "id": "38cda3ae",
   "metadata": {
    "scrolled": true
   },
   "outputs": [
    {
     "name": "stdout",
     "output_type": "stream",
     "text": [
      "随机森林得分:    0.10046589910006855\n"
     ]
    }
   ],
   "source": [
    "model = RandomForestRegressor(n_estimators=200, # 200棵树模型\n",
    "                            max_depth= 10,\n",
    "                            max_features = 'auto',# 构建树时，特征筛选量\n",
    "                            min_samples_leaf=10,# 是叶节点所需的最小样本数\n",
    "                            min_samples_split=40,# 是分割所需的最小样本数\n",
    "                            criterion='squared_error')\n",
    "model.fit(X_train, y_train)\n",
    "score = mean_squared_error(y_valid, model.predict(X_valid))\n",
    "print(\"随机森林得分:   \", score)"
   ]
  },
  {
   "cell_type": "markdown",
   "id": "402d6ab4",
   "metadata": {},
   "source": [
    "#### 绘制学习曲线"
   ]
  },
  {
   "cell_type": "markdown",
   "id": "e6b5aa34",
   "metadata": {},
   "source": [
    "绘制学习曲线比较耗时间，这里绘制非降维数据的学习曲线"
   ]
  },
  {
   "cell_type": "code",
   "execution_count": 26,
   "id": "4177d0e3",
   "metadata": {},
   "outputs": [
    {
     "name": "stdout",
     "output_type": "stream",
     "text": [
      "[ 111  361  612  862 1113] (5, 100) (5, 100)\n",
      "Wall time: 4min 53s\n"
     ]
    },
    {
     "data": {
      "image/png": "[encoded data removed]",
      "text/plain": [
       "<Figure size 432x288 with 1 Axes>"
      ]
     },
     "metadata": {
      "needs_background": "light"
     },
     "output_type": "display_data"
    }
   ],
   "source": [
    "%%time\n",
    "X = X_train\n",
    "y = y_train\n",
    "# 随机森林模型学习曲线图\n",
    "title = \"RandomForestRegressor\"\n",
    "cv = ShuffleSplit(n_splits=100, test_size=0.5)\n",
    "model = RandomForestRegressor(n_estimators=200, # 200棵树模型\n",
    "                            max_depth= 10,\n",
    "                            max_features = 'auto',# 构建树时，特征筛选量\n",
    "                            min_samples_leaf=10,# 是叶节点所需的最小样本数\n",
    "                            min_samples_split=40,# 是分割所需的最小样本数\n",
    "                            criterion='squared_error')\n",
    "plot_learning_curve(model, title, X, y, cv = cv)\n",
    "plt.savefig('./12-随机森林非降维数据学习曲线.png',dpi = 200)"
   ]
  },
  {
   "cell_type": "markdown",
   "id": "21272ce4",
   "metadata": {},
   "source": [
    "#### 模型预测"
   ]
  },
  {
   "cell_type": "markdown",
   "id": "3bc5e8c4",
   "metadata": {},
   "source": [
    "降维数据建模预测"
   ]
  },
  {
   "cell_type": "code",
   "execution_count": 27,
   "id": "9d42498f",
   "metadata": {},
   "outputs": [
    {
     "data": {
      "text/plain": [
       "array([ 0.31543138,  0.23577324, -0.18489794, ..., -2.39873726,\n",
       "       -2.41017305, -2.31572213])"
      ]
     },
     "metadata": {},
     "output_type": "display_data"
    }
   ],
   "source": [
    "# 得分是：1.0579\n",
    "model =  RandomForestRegressor(n_estimators=200, # 200棵树模型\n",
    "                            max_depth= 10,\n",
    "                            max_features = 'auto',# 构建树时，特征筛选量\n",
    "                            min_samples_leaf=10,# 是叶节点所需的最小样本数\n",
    "                            min_samples_split=40,# 是分割所需的最小样本数\n",
    "                            criterion='squared_error')\n",
    "model.fit(train_data_pca,target_data_pca)\n",
    "y_ = model.predict(test_data_pca)\n",
    "display(y_)\n",
    "np.savetxt('./随机森林模型预测(降维数据).txt',y_)"
   ]
  },
  {
   "cell_type": "code",
   "execution_count": 28,
   "id": "0ad03c35",
   "metadata": {},
   "outputs": [
    {
     "data": {
      "text/plain": [
       "array([ 0.31188585,  0.18338938, -0.085748  , ..., -2.65705188,\n",
       "       -2.65935435, -2.65767658])"
      ]
     },
     "metadata": {},
     "output_type": "display_data"
    }
   ],
   "source": [
    "# 得分是：0.1461\n",
    "model = RandomForestRegressor(n_estimators=200, # 200棵树模型\n",
    "                            max_depth= 10,\n",
    "                            max_features = 'auto',# 构建树时，特征筛选量\n",
    "                            min_samples_leaf=10,# 是叶节点所需的最小样本数\n",
    "                            min_samples_split=40,# 是分割所需的最小样本数\n",
    "                            criterion='squared_error')\n",
    "model.fit(train_data.drop('target',axis = 1),train_data['target'])\n",
    "y_ = model.predict(test_data)\n",
    "display(y_)\n",
    "np.savetxt('./随机森林模型预测(非降维数据).txt',y_)"
   ]
  },
  {
   "cell_type": "markdown",
   "id": "e21bd6c8",
   "metadata": {},
   "source": [
    "### SVR支持向量机"
   ]
  },
  {
   "cell_type": "markdown",
   "id": "810818a8",
   "metadata": {},
   "source": [
    "#### 模型训练"
   ]
  },
  {
   "cell_type": "markdown",
   "id": "fc3c2381",
   "metadata": {},
   "source": [
    "降维数据"
   ]
  },
  {
   "cell_type": "code",
   "execution_count": 30,
   "id": "312ef9f2",
   "metadata": {},
   "outputs": [
    {
     "name": "stdout",
     "output_type": "stream",
     "text": [
      "SVR支持向量机得分:    0.09631380213015923\n"
     ]
    }
   ],
   "source": [
    "model = SVR(kernel='rbf',C = 1,gamma=0.01,tol = 0.0001,epsilon=0.3)\n",
    "model.fit(X_train_pca, y_train_pca)\n",
    "score = mean_squared_error(y_valid_pca, model.predict(X_valid_pca))\n",
    "print(\"SVR支持向量机得分:   \", score)"
   ]
  },
  {
   "cell_type": "markdown",
   "id": "4af752c2",
   "metadata": {},
   "source": [
    "非降维数据"
   ]
  },
  {
   "cell_type": "code",
   "execution_count": 31,
   "id": "32d2870d",
   "metadata": {},
   "outputs": [
    {
     "name": "stdout",
     "output_type": "stream",
     "text": [
      "SVR支持向量机得分:    0.25202455384213157\n"
     ]
    }
   ],
   "source": [
    "model = SVR(kernel='rbf')\n",
    "model.fit(X_train, y_train)\n",
    "score = mean_squared_error(y_valid, model.predict(X_valid))\n",
    "print(\"SVR支持向量机得分:   \", score)"
   ]
  },
  {
   "cell_type": "markdown",
   "id": "3c3e97dd",
   "metadata": {},
   "source": [
    "#### 绘制学习曲线"
   ]
  },
  {
   "cell_type": "markdown",
   "id": "53ad36db",
   "metadata": {},
   "source": [
    "降维数据"
   ]
  },
  {
   "cell_type": "code",
   "execution_count": 32,
   "id": "42f283a8",
   "metadata": {},
   "outputs": [
    {
     "name": "stdout",
     "output_type": "stream",
     "text": [
      "[ 111  361  612  862 1113] (5, 100) (5, 100)\n",
      "Wall time: 22.5 s\n"
     ]
    },
    {
     "data": {
      "image/png": "[encoded data removed]",
      "text/plain": [
       "<Figure size 432x288 with 1 Axes>"
      ]
     },
     "metadata": {
      "needs_background": "light"
     },
     "output_type": "display_data"
    }
   ],
   "source": [
    "%%time\n",
    "X = X_train_pca\n",
    "y = y_train_pca\n",
    "# 随机森林模型学习曲线图\n",
    "title = \"SVR\"\n",
    "cv = ShuffleSplit(n_splits=100, test_size=0.5)\n",
    "model = SVR(kernel='rbf',C = 1,gamma=0.01,tol = 0.0001,epsilon=0.3)\n",
    "plot_learning_curve(model, title, X, y, cv = cv)\n",
    "plt.savefig('./15-SVR降维数据学习曲线.png',dpi = 200)"
   ]
  },
  {
   "cell_type": "markdown",
   "id": "8c310b3b",
   "metadata": {},
   "source": [
    "非降维数据"
   ]
  },
  {
   "cell_type": "code",
   "execution_count": 33,
   "id": "7bb9346e",
   "metadata": {},
   "outputs": [
    {
     "name": "stdout",
     "output_type": "stream",
     "text": [
      "[ 111  361  612  862 1113] (5, 100) (5, 100)\n",
      "Wall time: 53.6 s\n"
     ]
    },
    {
     "data": {
      "image/png": "[encoded data removed]",
      "text/plain": [
       "<Figure size 432x288 with 1 Axes>"
      ]
     },
     "metadata": {
      "needs_background": "light"
     },
     "output_type": "display_data"
    }
   ],
   "source": [
    "%%time\n",
    "X = X_train\n",
    "y = y_train\n",
    "# 随机森林模型学习曲线图\n",
    "title = \"SVR\"\n",
    "cv = ShuffleSplit(n_splits=100, test_size=0.5)\n",
    "model = SVR(kernel='rbf')\n",
    "plot_learning_curve(model, title, X, y, cv = cv)\n",
    "plt.savefig('./16-SVR非降维数据学习曲线.png',dpi = 200)"
   ]
  },
  {
   "cell_type": "markdown",
   "id": "d4ef8d84",
   "metadata": {},
   "source": [
    "#### 模型预测"
   ]
  },
  {
   "cell_type": "markdown",
   "id": "90d81210",
   "metadata": {},
   "source": [
    "降维数据"
   ]
  },
  {
   "cell_type": "code",
   "execution_count": 34,
   "id": "37bfcb34",
   "metadata": {},
   "outputs": [
    {
     "data": {
      "text/plain": [
       "array([ 0.26958642,  0.25920386, -0.10122391, ..., -2.22155225,\n",
       "       -2.3239961 , -2.18865886])"
      ]
     },
     "metadata": {},
     "output_type": "display_data"
    }
   ],
   "source": [
    "# 得分是：0.2654\n",
    "model =  SVR(kernel='rbf',C = 1,gamma=0.01,tol = 0.0001,epsilon=0.3)\n",
    "model.fit(train_data_pca,target_data_pca)\n",
    "y_ = model.predict(test_data_pca)\n",
    "display(y_)\n",
    "np.savetxt('./SVR模型预测(降维数据).txt',y_)"
   ]
  },
  {
   "cell_type": "markdown",
   "id": "9c45865a",
   "metadata": {},
   "source": [
    "非降维数据"
   ]
  },
  {
   "cell_type": "code",
   "execution_count": 35,
   "id": "5b792b20",
   "metadata": {},
   "outputs": [
    {
     "data": {
      "text/plain": [
       "array([ 0.02366046,  0.0795185 , -0.3815812 , ..., -3.27797957,\n",
       "       -3.20270896, -3.10625782])"
      ]
     },
     "metadata": {},
     "output_type": "display_data"
    }
   ],
   "source": [
    "# 得分是：1.9934\n",
    "model =SVR(kernel='rbf')\n",
    "model.fit(train_data.drop('target',axis = 1),train_data['target'])\n",
    "y_ = model.predict(test_data)\n",
    "display(y_)\n",
    "np.savetxt('./SVR模型预测(非降维数据).txt',y_)"
   ]
  },
  {
   "cell_type": "markdown",
   "id": "6463c049",
   "metadata": {},
   "source": [
    "poly多项式核函数建模预测--降维数据"
   ]
  },
  {
   "cell_type": "code",
   "execution_count": 36,
   "id": "0e554b9b",
   "metadata": {},
   "outputs": [
    {
     "data": {
      "text/plain": [
       "array([ 0.20042313,  0.26680596,  0.14459824, ..., -4.66039099,\n",
       "       -3.79414397, -2.76923448])"
      ]
     },
     "metadata": {},
     "output_type": "display_data"
    }
   ],
   "source": [
    "# 得分是：4.7068\n",
    "model =  SVR(kernel='poly')\n",
    "model.fit(train_data_pca,target_data_pca)\n",
    "y_ = model.predict(test_data_pca)\n",
    "display(y_)\n",
    "np.savetxt('./SVR-poly模型预测(降维数据).txt',y_)"
   ]
  },
  {
   "cell_type": "markdown",
   "id": "b05ef2f3",
   "metadata": {},
   "source": [
    "poly多项式核函数建模预测--非降维数据"
   ]
  },
  {
   "cell_type": "code",
   "execution_count": 37,
   "id": "0b57d453",
   "metadata": {},
   "outputs": [
    {
     "data": {
      "text/plain": [
       "array([-0.07224459, -0.04512705, -0.21601474, ..., -0.45687101,\n",
       "       -0.45655309, -0.45593334])"
      ]
     },
     "metadata": {},
     "output_type": "display_data"
    }
   ],
   "source": [
    "# 得分是：0.7423\n",
    "model =SVR(kernel='poly')\n",
    "model.fit(train_data.drop('target',axis = 1),train_data['target'])\n",
    "y_ = model.predict(test_data)\n",
    "display(y_)\n",
    "np.savetxt('./SVR--poly模型预测(非降维数据).txt',y_)"
   ]
  },
  {
   "cell_type": "markdown",
   "id": "ca3ac604",
   "metadata": {},
   "source": [
    "### GBDT梯度提升树"
   ]
  },
  {
   "cell_type": "markdown",
   "id": "b219db51",
   "metadata": {},
   "source": [
    "#### 模型训练"
   ]
  },
  {
   "cell_type": "markdown",
   "id": "977331c7",
   "metadata": {},
   "source": [
    "降维数据"
   ]
  },
  {
   "cell_type": "code",
   "execution_count": 38,
   "id": "213dc471",
   "metadata": {},
   "outputs": [
    {
     "name": "stdout",
     "output_type": "stream",
     "text": [
      "GBDT得分:    0.1052596997571393\n"
     ]
    }
   ],
   "source": [
    "model = GradientBoostingRegressor(learning_rate=0.03, # 学习率\n",
    "                                loss='huber',  # 损失函数\n",
    "                                max_depth=14, # 决策树深度\n",
    "                                max_features='sqrt',# 节点分裂时参与判断的最大特征数\n",
    "                                min_samples_leaf=10,# 是叶节点所需的最小样本数\n",
    "                                min_samples_split=40,# 是分割所需的最小样本数\n",
    "                                n_estimators=300,# 集成树数量\n",
    "                                subsample=0.8)# 抽样比例\n",
    "model.fit(X_train_pca, y_train_pca)\n",
    "score = mean_squared_error(y_valid_pca, model.predict(X_valid_pca))\n",
    "print(\"GBDT得分:   \", score)"
   ]
  },
  {
   "cell_type": "markdown",
   "id": "b5708609",
   "metadata": {},
   "source": [
    "非降维数据"
   ]
  },
  {
   "cell_type": "code",
   "execution_count": 39,
   "id": "3d71b095",
   "metadata": {},
   "outputs": [
    {
     "name": "stdout",
     "output_type": "stream",
     "text": [
      "GBDT得分:    0.08101773034345927\n"
     ]
    }
   ],
   "source": [
    "model = GradientBoostingRegressor(learning_rate=0.03, # 学习率\n",
    "                                loss='huber',  # 损失函数\n",
    "                                max_depth=14, # 决策树深度\n",
    "                                max_features='sqrt',# 节点分裂时参与判断的最大特征数\n",
    "                                min_samples_leaf=10,# 是叶节点所需的最小样本数\n",
    "                                min_samples_split=40,# 是分割所需的最小样本数\n",
    "                                n_estimators=300,# 集成树数量\n",
    "                                subsample=0.8)# 抽样比例\n",
    "model.fit(X_train, y_train)\n",
    "score = mean_squared_error(y_valid, model.predict(X_valid))\n",
    "print(\"GBDT得分:   \", score)"
   ]
  },
  {
   "cell_type": "markdown",
   "id": "4c945a18",
   "metadata": {},
   "source": [
    "#### 绘制学习曲线"
   ]
  },
  {
   "cell_type": "markdown",
   "id": "b4a60ac9",
   "metadata": {},
   "source": [
    "降维数据学习曲线"
   ]
  },
  {
   "cell_type": "code",
   "execution_count": 41,
   "id": "87626b51",
   "metadata": {},
   "outputs": [
    {
     "name": "stdout",
     "output_type": "stream",
     "text": [
      "[ 111  361  612  862 1113] (5, 100) (5, 100)\n",
      "Wall time: 11min 40s\n"
     ]
    },
    {
     "data": {
      "image/png": "[encoded data removed]",
      "text/plain": [
       "<Figure size 432x288 with 1 Axes>"
      ]
     },
     "metadata": {
      "needs_background": "light"
     },
     "output_type": "display_data"
    }
   ],
   "source": [
    "%%time\n",
    "X = X_train_pca\n",
    "y = y_train_pca\n",
    "# 随机森林模型学习曲线图\n",
    "title = \"GBDT\"\n",
    "cv = ShuffleSplit(n_splits=100, test_size=0.5)\n",
    "model = GradientBoostingRegressor(learning_rate=0.03, # 学习率\n",
    "                                loss='huber',  # 损失函数\n",
    "                                max_depth=14, # 决策树深度\n",
    "                                max_features='sqrt',# 节点分裂时参与判断的最大特征数\n",
    "                                min_samples_leaf=10,# 是叶节点所需的最小样本数\n",
    "                                min_samples_split=40,# 是分割所需的最小样本数\n",
    "                                n_estimators=300,# 集成树数量\n",
    "                                subsample=0.8)# 抽样比例\n",
    "plot_learning_curve(model, title, X, y, cv = cv)\n",
    "plt.savefig('./17-GBDT降维数据学习曲线.png',dpi = 200)"
   ]
  },
  {
   "cell_type": "markdown",
   "id": "86b63fb4",
   "metadata": {},
   "source": [
    "#### 模型预测"
   ]
  },
  {
   "cell_type": "markdown",
   "id": "0b6a84b7",
   "metadata": {},
   "source": [
    "降维数据"
   ]
  },
  {
   "cell_type": "code",
   "execution_count": 42,
   "id": "bdbc2e9a",
   "metadata": {},
   "outputs": [
    {
     "data": {
      "text/plain": [
       "array([ 0.39815808,  0.20234983,  0.08249647, ..., -1.77946695,\n",
       "       -1.92080868, -1.89811382])"
      ]
     },
     "metadata": {},
     "output_type": "display_data"
    }
   ],
   "source": [
    "# 得分是：0.3765\n",
    "model =  GradientBoostingRegressor(learning_rate=0.03, # 学习率\n",
    "                                loss='huber',  # 损失函数\n",
    "                                max_depth=14, # 决策树深度\n",
    "                                max_features='sqrt',# 节点分裂时参与判断的最大特征数\n",
    "                                min_samples_leaf=10,# 是叶节点所需的最小样本数\n",
    "                                min_samples_split=40,# 是分割所需的最小样本数\n",
    "                                n_estimators=300,# 集成树数量\n",
    "                                subsample=0.8)# 抽样比例\n",
    "model.fit(train_data_pca,target_data_pca)\n",
    "y_ = model.predict(test_data_pca)\n",
    "display(y_)\n",
    "np.savetxt('./GBDT模型预测(降维数据).txt',y_)"
   ]
  },
  {
   "cell_type": "markdown",
   "id": "c263af90",
   "metadata": {},
   "source": [
    "非降维数据"
   ]
  },
  {
   "cell_type": "code",
   "execution_count": 43,
   "id": "445b78ab",
   "metadata": {},
   "outputs": [
    {
     "data": {
      "text/plain": [
       "array([ 4.45480904e-01,  3.03493216e-01, -2.65851462e-04, ...,\n",
       "       -2.59291666e+00, -2.72350856e+00, -2.61891111e+00])"
      ]
     },
     "metadata": {},
     "output_type": "display_data"
    }
   ],
   "source": [
    "# 得分是：0.1392\n",
    "model = GradientBoostingRegressor(learning_rate=0.03, # 学习率\n",
    "                                loss='huber',  # 损失函数\n",
    "                                max_depth=14, # 决策树深度\n",
    "                                max_features='sqrt',# 节点分裂时参与判断的最大特征数\n",
    "                                min_samples_leaf=10,# 是叶节点所需的最小样本数\n",
    "                                min_samples_split=40,# 是分割所需的最小样本数\n",
    "                                n_estimators=300,# 集成树数量\n",
    "                                subsample=0.8)# 抽样比例\n",
    "model.fit(train_data.drop('target',axis = 1),train_data['target'])\n",
    "y_ = model.predict(test_data)\n",
    "display(y_)\n",
    "np.savetxt('./GBDT模型预测(非降维数据).txt',y_)"
   ]
  },
  {
   "cell_type": "markdown",
   "id": "93630188",
   "metadata": {},
   "source": [
    "### lightGBM"
   ]
  },
  {
   "cell_type": "markdown",
   "id": "23659c30",
   "metadata": {},
   "source": [
    "#### 模型训练"
   ]
  },
  {
   "cell_type": "markdown",
   "id": "bbc6a414",
   "metadata": {},
   "source": [
    "降维数据"
   ]
  },
  {
   "cell_type": "code",
   "execution_count": 44,
   "id": "4aee9f50",
   "metadata": {},
   "outputs": [
    {
     "name": "stdout",
     "output_type": "stream",
     "text": [
      "LGB得分:    0.10182794462374979\n"
     ]
    }
   ],
   "source": [
    "model = lgb.LGBMRegressor(learning_rate=0.05, # 学习率\n",
    "                        n_estimators=300,# 集成树数量\n",
    "                        min_child_samples=10,# 是叶节点所需的最小样本数\n",
    "                        max_depth=5, # 决策树深度\n",
    "                        num_leaves = 25,\n",
    "                        colsample_bytree =0.8,#构建树时特征选择比例\n",
    "                        subsample=0.8,# 抽样比例\n",
    "                        reg_alpha = 0.5,\n",
    "                        reg_lambda = 0.1 )\n",
    "model.fit(X_train_pca, y_train_pca)\n",
    "score = mean_squared_error(y_valid_pca, model.predict(X_valid_pca))\n",
    "print(\"LGB得分:   \", score)"
   ]
  },
  {
   "cell_type": "markdown",
   "id": "a302eda7",
   "metadata": {},
   "source": [
    "非降维数据"
   ]
  },
  {
   "cell_type": "code",
   "execution_count": 45,
   "id": "703c8089",
   "metadata": {},
   "outputs": [
    {
     "name": "stdout",
     "output_type": "stream",
     "text": [
      "LGB得分:    0.08322484041916056\n"
     ]
    }
   ],
   "source": [
    "model = lgb.LGBMRegressor(learning_rate=0.05, # 学习率\n",
    "                        n_estimators=300,# 集成树数量\n",
    "                        min_child_samples=10,# 是叶节点所需的最小样本数\n",
    "                        max_depth=5, # 决策树深度\n",
    "                        num_leaves = 25,\n",
    "                        colsample_bytree =0.8,#构建树时特征选择比例\n",
    "                        subsample=0.8,# 抽样比例\n",
    "                        reg_alpha = 0.5,\n",
    "                        reg_lambda = 0.1 )\n",
    "model.fit(X_train, y_train)\n",
    "score = mean_squared_error(y_valid, model.predict(X_valid))\n",
    "print(\"LGB得分:   \", score)"
   ]
  },
  {
   "cell_type": "markdown",
   "id": "2c5dfd2c",
   "metadata": {},
   "source": [
    "#### 绘制学习曲线"
   ]
  },
  {
   "cell_type": "markdown",
   "id": "3621ef2a",
   "metadata": {},
   "source": [
    "降维数据"
   ]
  },
  {
   "cell_type": "code",
   "execution_count": 46,
   "id": "3b3acd4f",
   "metadata": {},
   "outputs": [
    {
     "name": "stdout",
     "output_type": "stream",
     "text": [
      "[ 111  361  612  862 1113] (5, 100) (5, 100)\n",
      "Wall time: 1min 17s\n"
     ]
    },
    {
     "data": {
      "image/png": "[encoded data removed]",
      "text/plain": [
       "<Figure size 432x288 with 1 Axes>"
      ]
     },
     "metadata": {
      "needs_background": "light"
     },
     "output_type": "display_data"
    }
   ],
   "source": [
    "%%time\n",
    "X = X_train\n",
    "y = y_train\n",
    "# lightGBM模型学习曲线图\n",
    "title = \"lightGBM\"\n",
    "cv = ShuffleSplit(n_splits=100, test_size=0.5)\n",
    "model = lgb.LGBMRegressor(learning_rate=0.05, # 学习率\n",
    "                        n_estimators=300,# 集成树数量\n",
    "                        min_child_samples=10,# 是叶节点所需的最小样本数\n",
    "                        max_depth=5, # 决策树深度\n",
    "                        num_leaves = 25,\n",
    "                        colsample_bytree =0.8,#构建树时特征选择比例\n",
    "                        subsample=0.8,# 抽样比例\n",
    "                        reg_alpha = 0.5,\n",
    "                        reg_lambda = 0.1 )\n",
    "plot_learning_curve(model, title, X, y, cv = cv)\n",
    "plt.savefig('./22-lightGBM非降维数据学习曲线.png',dpi = 200)"
   ]
  },
  {
   "cell_type": "markdown",
   "id": "dfd0f2b2",
   "metadata": {},
   "source": [
    "#### 模型预测"
   ]
  },
  {
   "cell_type": "markdown",
   "id": "4b80e2c9",
   "metadata": {},
   "source": [
    "降维数据"
   ]
  },
  {
   "cell_type": "code",
   "execution_count": 47,
   "id": "666def5d",
   "metadata": {},
   "outputs": [
    {
     "data": {
      "text/plain": [
       "array([ 0.27629405,  0.26720862,  0.04551531, ..., -1.88494216,\n",
       "       -2.03600739, -1.76903934])"
      ]
     },
     "metadata": {},
     "output_type": "display_data"
    }
   ],
   "source": [
    "# 得分是：0.6383\n",
    "model =  lgb.LGBMRegressor(learning_rate=0.05, # 学习率\n",
    "                        n_estimators=100,# 集成树数量\n",
    "                        min_child_samples=10,# 是叶节点所需的最小样本数\n",
    "                        max_depth=5, # 决策树深度\n",
    "                        num_leaves = 25,\n",
    "                        colsample_bytree =0.8,#构建树时特征选择比例\n",
    "                        subsample=0.8,# 抽样比例\n",
    "                        reg_alpha = 0.5,\n",
    "                        reg_lambda = 0.1 )\n",
    "model.fit(train_data_pca,target_data_pca)\n",
    "y_ = model.predict(test_data_pca)\n",
    "display(y_)\n",
    "np.savetxt('./lightGBM模型预测(降维数据).txt',y_)"
   ]
  },
  {
   "cell_type": "markdown",
   "id": "1aaac240",
   "metadata": {},
   "source": [
    "非降维数据"
   ]
  },
  {
   "cell_type": "code",
   "execution_count": 48,
   "id": "ff0daa79",
   "metadata": {},
   "outputs": [
    {
     "data": {
      "text/plain": [
       "array([ 0.31735247,  0.21516006, -0.02321356, ..., -2.63261151,\n",
       "       -2.64385024, -2.71366543])"
      ]
     },
     "metadata": {},
     "output_type": "display_data"
    }
   ],
   "source": [
    "# 得分是：0.1378\n",
    "model = lgb.LGBMRegressor(learning_rate=0.05, # 学习率\n",
    "                        n_estimators=100,# 集成树数量\n",
    "                        min_child_samples=10,# 是叶节点所需的最小样本数\n",
    "                        max_depth=5, # 决策树深度\n",
    "                        num_leaves = 25,\n",
    "                        colsample_bytree =0.8,#构建树时特征选择比例\n",
    "                        subsample=0.8,# 抽样比例\n",
    "                        reg_alpha = 0.5,\n",
    "                        reg_lambda = 0.1 )\n",
    "model.fit(train_data.drop('target',axis = 1),train_data['target'])\n",
    "y_ = model.predict(test_data)\n",
    "display(y_)\n",
    "np.savetxt('./lightGBM模型预测(非降维数据).txt',y_)"
   ]
  },
  {
   "cell_type": "markdown",
   "id": "02771a8e",
   "metadata": {},
   "source": [
    "### Xgboost"
   ]
  },
  {
   "cell_type": "markdown",
   "id": "472a8ba1",
   "metadata": {},
   "source": [
    "#### 模型训练"
   ]
  },
  {
   "cell_type": "markdown",
   "id": "b2219832",
   "metadata": {},
   "source": [
    "降维数据"
   ]
  },
  {
   "cell_type": "code",
   "execution_count": 49,
   "id": "86338f00",
   "metadata": {},
   "outputs": [
    {
     "name": "stdout",
     "output_type": "stream",
     "text": [
      "Xgboost得分:    0.13430091438485942\n"
     ]
    }
   ],
   "source": [
    "model = XGBRFRegressor(n_estimators = 300, \n",
    "                       max_depth=15,\n",
    "                       subsample = 0.8,\n",
    "                       colsample_bytree = 0.8,\n",
    "                       learning_rate =1,\n",
    "                       gamma = 0,\n",
    "                       reg_lambda= 0 ,# L2正则化\n",
    "                       reg_alpha = 0,verbosity=1)# L1正则化\n",
    "model.fit(X_train_pca, y_train_pca)\n",
    "score = mean_squared_error(y_valid_pca, model.predict(X_valid_pca))\n",
    "print(\"Xgboost得分:   \", score)"
   ]
  },
  {
   "cell_type": "markdown",
   "id": "373753f8",
   "metadata": {},
   "source": [
    "非降维数据"
   ]
  },
  {
   "cell_type": "code",
   "execution_count": 50,
   "id": "b000e263",
   "metadata": {},
   "outputs": [
    {
     "name": "stdout",
     "output_type": "stream",
     "text": [
      "Xgboost得分:    0.08908612728637443\n"
     ]
    }
   ],
   "source": [
    "model = XGBRFRegressor(n_estimators = 300, \n",
    "                       max_depth=15,\n",
    "                       subsample = 0.8,\n",
    "                       colsample_bytree = 0.8,\n",
    "                       learning_rate =1,\n",
    "                       gamma = 0,\n",
    "                       reg_lambda= 0 ,# L2正则化\n",
    "                       reg_alpha = 0,verbosity=1)# L1正则化\n",
    "model.fit(X_train, y_train)\n",
    "score = mean_squared_error(y_valid, model.predict(X_valid))\n",
    "print(\"Xgboost得分:   \", score)"
   ]
  },
  {
   "cell_type": "markdown",
   "id": "487a3887",
   "metadata": {},
   "source": [
    "#### 模型预测"
   ]
  },
  {
   "cell_type": "markdown",
   "id": "dde01f97",
   "metadata": {},
   "source": [
    "降维数据"
   ]
  },
  {
   "cell_type": "code",
   "execution_count": 51,
   "id": "5cd042b3",
   "metadata": {},
   "outputs": [
    {
     "data": {
      "text/plain": [
       "array([ 0.39872065,  0.29756796,  0.06591171, ..., -1.8471452 ,\n",
       "       -1.8405936 , -1.7466732 ], dtype=float32)"
      ]
     },
     "metadata": {},
     "output_type": "display_data"
    }
   ],
   "source": [
    "# 得分是：0.6798\n",
    "model = XGBRFRegressor(n_estimators = 300, \n",
    "                       max_depth=15,\n",
    "                       subsample = 0.8,\n",
    "                       colsample_bytree = 0.8,\n",
    "                       learning_rate =1,\n",
    "                       gamma = 0,\n",
    "                       reg_lambda= 0 ,# L2正则化\n",
    "                       reg_alpha = 0,verbosity=1)# L1正则化\n",
    "model.fit(train_data_pca,target_data_pca)\n",
    "y_ = model.predict(test_data_pca)\n",
    "display(y_)\n",
    "np.savetxt('./Xgboost模型预测(降维数据).txt',y_)"
   ]
  },
  {
   "cell_type": "markdown",
   "id": "2a5872b7",
   "metadata": {},
   "source": [
    "非降维数据"
   ]
  },
  {
   "cell_type": "code",
   "execution_count": 52,
   "id": "35bf7287",
   "metadata": {},
   "outputs": [
    {
     "data": {
      "text/plain": [
       "array([ 0.38381824,  0.21534394, -0.04474839, ..., -2.7662156 ,\n",
       "       -2.7820516 , -2.8380976 ], dtype=float32)"
      ]
     },
     "metadata": {},
     "output_type": "display_data"
    }
   ],
   "source": [
    "# 得分是：0.1329\n",
    "model = XGBRFRegressor(n_estimators = 300, \n",
    "                       max_depth=15,\n",
    "                       subsample = 0.8,\n",
    "                       colsample_bytree = 0.8,\n",
    "                       learning_rate =1,\n",
    "                       gamma = 0,\n",
    "                       reg_lambda= 0 ,# L2正则化\n",
    "                       reg_alpha = 0,verbosity=1)# L1正则化\n",
    "model.fit(train_data.drop('target',axis = 1),train_data['target'])\n",
    "y_ = model.predict(test_data)\n",
    "display(y_)\n",
    "np.savetxt('./Xgboost模型预测(非降维数据).txt',y_)"
   ]
  },
  {
   "cell_type": "code",
   "execution_count": null,
   "id": "04e5b85a",
   "metadata": {},
   "outputs": [],
   "source": []
  }
 ],
 "metadata": {
  "hide_input": false,
  "kernelspec": {
   "display_name": "Python 3 (ipykernel)",
   "language": "python",
   "name": "python3"
  },
  "language_info": {
   "codemirror_mode": {
    "name": "ipython",
    "version": 3
   },
   "file_extension": ".py",
   "mimetype": "text/x-python",
   "name": "python",
   "nbconvert_exporter": "python",
   "pygments_lexer": "ipython3",
   "version": "3.9.7"
  },
  "nbTranslate": {
   "displayLangs": [
    "*"
   ],
   "hotkey": "alt-t",
   "langInMainMenu": true,
   "sourceLang": "en",
   "targetLang": "fr",
   "useGoogleTranslate": true
  },
  "toc": {
   "base_numbering": 1,
   "nav_menu": {},
   "number_sections": true,
   "sideBar": true,
   "skip_h1_title": false,
   "title_cell": "Table of Contents",
   "title_sidebar": "Contents",
   "toc_cell": false,
   "toc_position": {
    "height": "calc(100% - 180px)",
    "left": "10px",
    "top": "150px",
    "width": "245.76px"
   },
   "toc_section_display": true,
   "toc_window_display": true
  },
  "varInspector": {
   "cols": {
    "lenName": 16,
    "lenType": 16,
    "lenVar": 40
   },
   "kernels_config": {
    "python": {
     "delete_cmd_postfix": "",
     "delete_cmd_prefix": "del ",
     "library": "var_list.py",
     "varRefreshCmd": "print(var_dic_list())"
    },
    "r": {
     "delete_cmd_postfix": ") ",
     "delete_cmd_prefix": "rm(",
     "library": "var_list.r",
     "varRefreshCmd": "cat(var_dic_list()) "
    }
   },
   "types_to_exclude": [
    "module",
    "function",
    "builtin_function_or_method",
    "instance",
    "_Feature"
   ],
   "window_display": false
  }
 },
 "nbformat": 4,
 "nbformat_minor": 5
}
