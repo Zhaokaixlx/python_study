{
 "cells": [
  {
   "cell_type": "markdown",
   "id": "02956af1",
   "metadata": {
    "heading_collapsed": true
   },
   "source": [
    "# Sigmoid函数"
   ]
  },
  {
   "cell_type": "code",
   "execution_count": 1,
   "id": "5fa9f73d",
   "metadata": {
    "ExecuteTime": {
     "end_time": "2022-04-21T07:30:13.223199Z",
     "start_time": "2022-04-21T07:30:12.929429Z"
    },
    "hidden": true
   },
   "outputs": [
    {
     "data": {
      "text/plain": [
       "[<matplotlib.lines.Line2D at 0x7f7988a52a00>]"
      ]
     },
     "execution_count": 1,
     "metadata": {},
     "output_type": "execute_result"
    },
    {
     "data": {
      "image/png": "[encoded data removed]",
      "text/plain": [
       "<Figure size 432x288 with 1 Axes>"
      ]
     },
     "metadata": {
      "needs_background": "light"
     },
     "output_type": "display_data"
    }
   ],
   "source": [
    "import numpy as np \n",
    "import matplotlib.pyplot as plt \n",
    "def sigmoid(x): \n",
    "    return 1/(1 + np.exp(-x)) \n",
    "x = np.linspace(-5,5,100) \n",
    "y = sigmoid(x) \n",
    "plt.plot(x,y,color = 'green')"
   ]
  },
  {
   "cell_type": "markdown",
   "id": "d7b46498",
   "metadata": {
    "hidden": true
   },
   "source": [
    "逻辑回归就是在多元线性回归基础上把结果缩放到 0 ~ 1 之间。 越接近 1 越是正例， 越接近 0 越是负例，根据中间 0.5 将\n",
    "数据分为二类。其中 就是概率函数~"
   ]
  },
  {
   "cell_type": "markdown",
   "id": "70363f41",
   "metadata": {
    "hidden": true
   },
   "source": [
    "得到了逻辑回归的表达式，下一步跟线性回归类似，构建似然函数，然后最大似然估计，最终推导出 的迭代更新表达式。只不\n",
    "过这里用的不是梯度下降，而是梯度上升，因为这里是最大化似然函数。通常我们一提到损失函数，往往是求最小，这样我们就可以用梯度\n",
    "下降来求解。最终损失函数就是上面公式加负号的形式"
   ]
  },
  {
   "cell_type": "markdown",
   "id": "56da091f",
   "metadata": {},
   "source": [
    "# 立体化呈现"
   ]
  },
  {
   "cell_type": "code",
   "execution_count": 2,
   "id": "ab1c5867",
   "metadata": {
    "ExecuteTime": {
     "end_time": "2022-04-21T07:38:35.269639Z",
     "start_time": "2022-04-21T07:38:34.911106Z"
    }
   },
   "outputs": [],
   "source": [
    "from sklearn import datasets \n",
    "from sklearn.linear_model import LogisticRegression \n",
    "import numpy as np \n",
    "import matplotlib.pyplot as plt \n",
    "from mpl_toolkits.mplot3d import Axes3D \n",
    "from sklearn.preprocessing import scale # 数据标准化Z-score"
   ]
  },
  {
   "cell_type": "markdown",
   "id": "ed2c7697",
   "metadata": {},
   "source": [
    "## 加载乳腺癌数据"
   ]
  },
  {
   "cell_type": "code",
   "execution_count": 8,
   "id": "90f14bc3",
   "metadata": {
    "ExecuteTime": {
     "end_time": "2022-04-21T07:43:52.925465Z",
     "start_time": "2022-04-21T07:43:52.901815Z"
    }
   },
   "outputs": [],
   "source": [
    "data = datasets.load_breast_cancer()\n",
    "X, y = scale(data['data'][:, :2]), data['target']"
   ]
  },
  {
   "cell_type": "markdown",
   "id": "899411b8",
   "metadata": {},
   "source": [
    "## 求出两个维度对应的数据在逻辑回归算法下的最优解"
   ]
  },
  {
   "cell_type": "code",
   "execution_count": 9,
   "id": "f683a05d",
   "metadata": {
    "ExecuteTime": {
     "end_time": "2022-04-21T07:44:38.903711Z",
     "start_time": "2022-04-21T07:44:38.877689Z"
    }
   },
   "outputs": [
    {
     "data": {
      "text/plain": [
       "LogisticRegression()"
      ]
     },
     "execution_count": 9,
     "metadata": {},
     "output_type": "execute_result"
    }
   ],
   "source": [
    "lr = LogisticRegression() \n",
    "lr.fit(X, y)"
   ]
  },
  {
   "cell_type": "markdown",
   "id": "dcf44053",
   "metadata": {},
   "source": [
    "## 分别把两个维度所对应的参数W1和W2取出来"
   ]
  },
  {
   "cell_type": "code",
   "execution_count": 14,
   "id": "cbd1442c",
   "metadata": {
    "ExecuteTime": {
     "end_time": "2022-04-21T07:46:41.190248Z",
     "start_time": "2022-04-21T07:46:41.179024Z"
    }
   },
   "outputs": [
    {
     "name": "stdout",
     "output_type": "stream",
     "text": [
      "-3.3373102846154525 -0.8771414036339871\n"
     ]
    }
   ],
   "source": [
    "w1 = lr.coef_[0,0]\n",
    "w2 = lr.coef_[0,1]\n",
    "print(w1,w2)"
   ]
  },
  {
   "cell_type": "markdown",
   "id": "84dfc257",
   "metadata": {},
   "source": [
    "## 已知w1和w2的情况下，传进来数据的X，返回数据的y_predict"
   ]
  },
  {
   "cell_type": "code",
   "execution_count": 15,
   "id": "bcdaeb9d",
   "metadata": {
    "ExecuteTime": {
     "end_time": "2022-04-21T07:48:06.573711Z",
     "start_time": "2022-04-21T07:48:06.562826Z"
    }
   },
   "outputs": [],
   "source": [
    "def sigmoid(X, w1, w2): \n",
    "    z = w1*X[0] + w2*X[1] \n",
    "    return 1 / (1 + np.exp(-z))"
   ]
  },
  {
   "cell_type": "markdown",
   "id": "c3b6f4af",
   "metadata": {},
   "source": [
    "## 传入一份已知数据的X，y，如果已知w1和w2的情况下，计算对应这份数据的Loss损失"
   ]
  },
  {
   "cell_type": "code",
   "execution_count": 16,
   "id": "64860394",
   "metadata": {
    "ExecuteTime": {
     "end_time": "2022-04-21T07:51:08.506589Z",
     "start_time": "2022-04-21T07:51:08.491614Z"
    }
   },
   "outputs": [],
   "source": [
    "def loss_function(X, y, w1, w2): \n",
    "    loss = 0\n",
    "    # 遍历数据集中的每一条样本，并且计算每条样本的损失，加到loss身上得到整体的数据集损失\n",
    "    for x_i, y_i in zip(X, y): \n",
    "        # 这是计算一条样本的y_predict，即概率 \n",
    "        p = sigmoid(x_i, w1, w2) \n",
    "        loss += -1*y_i*np.log(p)-(1-y_i)*np.log(1-p) \n",
    "        return loss"
   ]
  },
  {
   "cell_type": "markdown",
   "id": "6084016f",
   "metadata": {},
   "source": [
    "## 参数w1和w2取值空间"
   ]
  },
  {
   "cell_type": "code",
   "execution_count": 17,
   "id": "0ad3309c",
   "metadata": {
    "ExecuteTime": {
     "end_time": "2022-04-21T07:53:30.836326Z",
     "start_time": "2022-04-21T07:53:30.819626Z"
    }
   },
   "outputs": [],
   "source": [
    "w1_space = np.linspace(w1-2, w1+2, 100) \n",
    "w2_space = np.linspace(w2-2, w2+2, 100) \n",
    "loss1_ = np.array([loss_function(X, y, i, w2) for i in w1_space]) \n",
    "loss2_ = np.array([loss_function(X, y, w1, i) for i in w2_space])"
   ]
  },
  {
   "cell_type": "markdown",
   "id": "17157a6b",
   "metadata": {},
   "source": [
    "## 数据可视化"
   ]
  },
  {
   "cell_type": "code",
   "execution_count": 18,
   "id": "89bfa972",
   "metadata": {
    "ExecuteTime": {
     "end_time": "2022-04-21T07:57:52.327099Z",
     "start_time": "2022-04-21T07:57:52.047759Z"
    }
   },
   "outputs": [
    {
     "data": {
      "text/plain": [
       "<matplotlib.contour.QuadContourSet at 0x7f797af9d130>"
      ]
     },
     "execution_count": 18,
     "metadata": {},
     "output_type": "execute_result"
    },
    {
     "data": {
      "image/png": "[encoded data removed]",
      "text/plain": [
       "<Figure size 864x648 with 4 Axes>"
      ]
     },
     "metadata": {
      "needs_background": "light"
     },
     "output_type": "display_data"
    }
   ],
   "source": [
    "fig1 = plt.figure(figsize=(12, 9)) \n",
    "plt.subplot(2, 2, 1) \n",
    "plt.plot(w1_space, loss1_)\n",
    "\n",
    "plt.subplot(2, 2, 2) \n",
    "plt.plot(w2_space, loss2_)\n",
    "\n",
    "plt.subplot(2, 2, 3) \n",
    "w1_grid, w2_grid = np.meshgrid(w1_space, w2_space) \n",
    "loss_grid = loss_function(X, y, w1_grid, w2_grid) \n",
    "plt.contour(w1_grid, w2_grid, loss_grid,20)\n",
    "\n",
    "plt.subplot(2, 2, 4) \n",
    "plt.contourf(w1_grid, w2_grid, loss_grid,20) \n",
    "# plt.savefig('./图片/4-损失函数可视化.png',dpi = 200)"
   ]
  },
  {
   "cell_type": "markdown",
   "id": "f93d5e23",
   "metadata": {},
   "source": [
    "## 3D立体可视化"
   ]
  },
  {
   "cell_type": "code",
   "execution_count": 20,
   "id": "a7a4f7f1",
   "metadata": {
    "ExecuteTime": {
     "end_time": "2022-04-21T08:01:22.730043Z",
     "start_time": "2022-04-21T08:01:22.472980Z"
    }
   },
   "outputs": [
    {
     "name": "stderr",
     "output_type": "stream",
     "text": [
      "/var/folders/jt/qjpzhhld5znczz2yp8zyt7xw0000gn/T/ipykernel_43483/3806792980.py:2: MatplotlibDeprecationWarning: Axes3D(fig) adding itself to the figure is deprecated since 3.4. Pass the keyword argument auto_add_to_figure=False and use fig.add_axes(ax) to suppress this warning. The default value of auto_add_to_figure will change to False in mpl3.5 and True values will no longer work in 3.6.  This is consistent with other Axes classes.\n",
      "  ax = Axes3D(fig2)\n"
     ]
    },
    {
     "data": {
      "image/png": "[encoded data removed]",
      "text/plain": [
       "<Figure size 864x432 with 1 Axes>"
      ]
     },
     "metadata": {
      "needs_background": "light"
     },
     "output_type": "display_data"
    }
   ],
   "source": [
    "fig2 = plt.figure(figsize=(12,6)) \n",
    "ax = Axes3D(fig2) \n",
    "ax.plot_surface(w1_grid, w2_grid, loss_grid,cmap = 'viridis') \n",
    "plt.xlabel('w1',fontsize = 20) \n",
    "plt.ylabel('w2',fontsize = 20) \n",
    "ax.view_init(30,-30) \n",
    "# plt.savefig('./图片/5-损失函数可视化.png',dpi = 200)"
   ]
  },
  {
   "cell_type": "markdown",
   "id": "a9f80e24",
   "metadata": {},
   "source": [
    "# 逻辑回归迭代公式"
   ]
  },
  {
   "cell_type": "markdown",
   "id": "ff4b6ac0",
   "metadata": {},
   "source": [
    "函数特性\n",
    "\n",
    "逻辑回归参数更新规则和，线性回归一模一样！"
   ]
  },
  {
   "cell_type": "code",
   "execution_count": 21,
   "id": "0f4908c4",
   "metadata": {
    "ExecuteTime": {
     "end_time": "2022-04-21T08:24:27.310694Z",
     "start_time": "2022-04-21T08:24:27.307533Z"
    }
   },
   "outputs": [],
   "source": [
    "import numpy as np \n",
    "from sklearn import datasets \n",
    "from sklearn.linear_model import LogisticRegression \n",
    "from sklearn.model_selection import train_test_split"
   ]
  },
  {
   "cell_type": "markdown",
   "id": "ef9fb1f1",
   "metadata": {},
   "source": [
    "## 数据加载"
   ]
  },
  {
   "cell_type": "code",
   "execution_count": 22,
   "id": "adaf78cd",
   "metadata": {
    "ExecuteTime": {
     "end_time": "2022-04-21T08:25:14.582719Z",
     "start_time": "2022-04-21T08:25:14.569450Z"
    }
   },
   "outputs": [],
   "source": [
    "iris = datasets.load_iris()"
   ]
  },
  {
   "cell_type": "markdown",
   "id": "2dcf3a04",
   "metadata": {},
   "source": [
    "## 数据提取与筛选"
   ]
  },
  {
   "cell_type": "code",
   "execution_count": 23,
   "id": "d5147e0c",
   "metadata": {
    "ExecuteTime": {
     "end_time": "2022-04-21T08:26:02.650367Z",
     "start_time": "2022-04-21T08:26:02.639264Z"
    }
   },
   "outputs": [],
   "source": [
    "X = iris['data'] \n",
    "y = iris['target'] \n",
    "cond = y != 2 \n",
    "X = X[cond] \n",
    "y = y[cond]"
   ]
  },
  {
   "cell_type": "markdown",
   "id": "a8e3221a",
   "metadata": {},
   "source": [
    "## 数据拆分"
   ]
  },
  {
   "cell_type": "code",
   "execution_count": 24,
   "id": "875bbdfd",
   "metadata": {
    "ExecuteTime": {
     "end_time": "2022-04-21T08:27:41.271974Z",
     "start_time": "2022-04-21T08:27:41.261370Z"
    }
   },
   "outputs": [],
   "source": [
    "X_train,X_test,y_train,y_test = train_test_split(X,y)"
   ]
  },
  {
   "cell_type": "markdown",
   "id": "7907e28d",
   "metadata": {},
   "source": [
    "## 模型训练"
   ]
  },
  {
   "cell_type": "code",
   "execution_count": 25,
   "id": "69e0c7ed",
   "metadata": {
    "ExecuteTime": {
     "end_time": "2022-04-21T08:28:22.551636Z",
     "start_time": "2022-04-21T08:28:22.529671Z"
    }
   },
   "outputs": [
    {
     "data": {
      "text/plain": [
       "LogisticRegression()"
      ]
     },
     "execution_count": 25,
     "metadata": {},
     "output_type": "execute_result"
    }
   ],
   "source": [
    "lr = LogisticRegression() \n",
    "lr.fit(X_train, y_train)"
   ]
  },
  {
   "cell_type": "markdown",
   "id": "c90e4859",
   "metadata": {},
   "source": [
    "## 模型预测"
   ]
  },
  {
   "cell_type": "code",
   "execution_count": 28,
   "id": "2a032866",
   "metadata": {
    "ExecuteTime": {
     "end_time": "2022-04-21T08:30:19.430559Z",
     "start_time": "2022-04-21T08:30:19.416524Z"
    }
   },
   "outputs": [
    {
     "name": "stdout",
     "output_type": "stream",
     "text": [
      "测试数据保留类别是：    [1 0 1 1 1 1 1 1 1 1 0 1 1 0 0 0 0 1 1 0 0 1 0 1 1]\n",
      "测试数据算法预测类别是： [1 0 1 1 1 1 1 1 1 1 0 1 1 0 0 0 0 1 1 0 0 1 0 1 1]\n",
      "测试数据算法预测概率是：\n",
      " [[0.00464573 0.99535427]\n",
      " [0.98625063 0.01374937]\n",
      " [0.152348   0.847652  ]\n",
      " [0.07969297 0.92030703]\n",
      " [0.02616964 0.97383036]\n",
      " [0.001946   0.998054  ]\n",
      " [0.0112884  0.9887116 ]\n",
      " [0.0090268  0.9909732 ]\n",
      " [0.01400291 0.98599709]\n",
      " [0.02014198 0.97985802]\n",
      " [0.95542407 0.04457593]\n",
      " [0.00317523 0.99682477]\n",
      " [0.01101092 0.98898908]\n",
      " [0.97069718 0.02930282]\n",
      " [0.94833128 0.05166872]\n",
      " [0.97430437 0.02569563]\n",
      " [0.97333871 0.02666129]\n",
      " [0.00980122 0.99019878]\n",
      " [0.00236651 0.99763349]\n",
      " [0.94620784 0.05379216]\n",
      " [0.9809562  0.0190438 ]\n",
      " [0.16906036 0.83093964]\n",
      " [0.94887475 0.05112525]\n",
      " [0.0078764  0.9921236 ]\n",
      " [0.09565654 0.90434346]]\n"
     ]
    }
   ],
   "source": [
    "y_predict = lr.predict(X_test) \n",
    "print('测试数据保留类别是：   ',y_test) \n",
    "print('测试数据算法预测类别是：',y_predict) \n",
    "print('测试数据算法预测概率是：\\n',lr.predict_proba(X_test))"
   ]
  },
  {
   "cell_type": "markdown",
   "id": "e40deede",
   "metadata": {},
   "source": [
    "结论：\n",
    "\n",
    "通过数据提取与筛选，创建二分类问题\n",
    "\n",
    "类别的划分，通过概率比较大小完成了"
   ]
  },
  {
   "cell_type": "code",
   "execution_count": 29,
   "id": "3f1eb946",
   "metadata": {
    "ExecuteTime": {
     "end_time": "2022-04-21T08:34:19.915660Z",
     "start_time": "2022-04-21T08:34:19.899781Z"
    }
   },
   "outputs": [
    {
     "data": {
      "text/plain": [
       "array([[0.00464573, 0.99535427],\n",
       "       [0.98625063, 0.01374937],\n",
       "       [0.152348  , 0.847652  ],\n",
       "       [0.07969297, 0.92030703],\n",
       "       [0.02616964, 0.97383036],\n",
       "       [0.001946  , 0.998054  ],\n",
       "       [0.0112884 , 0.9887116 ],\n",
       "       [0.0090268 , 0.9909732 ],\n",
       "       [0.01400291, 0.98599709],\n",
       "       [0.02014198, 0.97985802],\n",
       "       [0.95542407, 0.04457593],\n",
       "       [0.00317523, 0.99682477],\n",
       "       [0.01101092, 0.98898908],\n",
       "       [0.97069718, 0.02930282],\n",
       "       [0.94833128, 0.05166872],\n",
       "       [0.97430437, 0.02569563],\n",
       "       [0.97333871, 0.02666129],\n",
       "       [0.00980122, 0.99019878],\n",
       "       [0.00236651, 0.99763349],\n",
       "       [0.94620784, 0.05379216],\n",
       "       [0.9809562 , 0.0190438 ],\n",
       "       [0.16906036, 0.83093964],\n",
       "       [0.94887475, 0.05112525],\n",
       "       [0.0078764 , 0.9921236 ],\n",
       "       [0.09565654, 0.90434346]])"
      ]
     },
     "execution_count": 29,
     "metadata": {},
     "output_type": "execute_result"
    }
   ],
   "source": [
    "#线性回归方程\n",
    "b = lr.intercept_ \n",
    "w = lr.coef_\n",
    "\n",
    "# 逻辑回归函数 \n",
    "def sigmoid(z): \n",
    "    return 1/(1 + np.exp(-z))\n",
    "\n",
    "# y = 1 概率 \n",
    "z = X_test.dot(w.T) + b \n",
    "p_1 = sigmoid(z)\n",
    "\n",
    "# y = 0 概率 \n",
    "p_0 = 1 - p_1\n",
    "\n",
    "# 最终结果 \n",
    "p = np.concatenate([p_0,p_1],axis = 1) \n",
    "p"
   ]
  },
  {
   "cell_type": "markdown",
   "id": "4fdbbe97",
   "metadata": {},
   "source": [
    "结论：\n",
    "\n",
    "1.线性方程，对应方程\n",
    "\n",
    "2.sigmoid函数，将线性方程转变为概率\n",
    "\n",
    "3.自己求解概率和直接使用LogisticRegression结果一样，可知计算流程正确"
   ]
  },
  {
   "cell_type": "markdown",
   "id": "f872f438",
   "metadata": {},
   "source": [
    "# 逻辑回归做多分类"
   ]
  },
  {
   "cell_type": "markdown",
   "id": "0da6df7d",
   "metadata": {},
   "source": [
    "## One-Vs-Rest思想"
   ]
  },
  {
   "cell_type": "markdown",
   "id": "55175063",
   "metadata": {},
   "source": [
    "One-Vs-Rest（ovr）的思想是把一个多分类的问题变成多个二分类的问题。转变的思路就如同方法名称描述的那样，选择其中一个类别\n",
    "为正类（Positive），使其他所有类别为负类（Negative）。\n",
    "\n",
    "对于一个三分类问题，我们最终得到 3 个二元分类器。在预测阶段，每个分类器可以根据测试样本，得到当前类别的概率。即 P(y = i |\n",
    "x; θ)，i = 1, 2, 3。选择计算结果最高的分类器，其所对应类别就可以作为预测结果。\n",
    "One-Vs-Rest 作为一种常用的二分类拓展方法，其优缺点也十分明显：\n",
    "优点：普适性还比较广，可以应用于能输出值或者概率的分类器，同时效率相对较好，有多少个类别就训练多少个分类器。\n",
    "缺点：很容易造成训练集样本数量的不平衡（Unbalance），尤其在类别较多的情况下，经常容易出现正类样本的数量远远不及负类样\n",
    "本的数量，这样就会造成分类器的偏向性。"
   ]
  },
  {
   "cell_type": "code",
   "execution_count": 30,
   "id": "60137034",
   "metadata": {
    "ExecuteTime": {
     "end_time": "2022-04-21T11:22:49.862247Z",
     "start_time": "2022-04-21T11:22:49.851942Z"
    }
   },
   "outputs": [],
   "source": [
    "import numpy as np \n",
    "from sklearn import datasets \n",
    "from sklearn.linear_model import LogisticRegression \n",
    "from sklearn.model_selection import train_test_split"
   ]
  },
  {
   "cell_type": "markdown",
   "id": "882d0723",
   "metadata": {},
   "source": [
    "### 数据加载"
   ]
  },
  {
   "cell_type": "code",
   "execution_count": 36,
   "id": "6306433f",
   "metadata": {
    "ExecuteTime": {
     "end_time": "2022-04-21T11:24:38.045606Z",
     "start_time": "2022-04-21T11:24:38.031941Z"
    }
   },
   "outputs": [],
   "source": [
    "iris = datasets.load_iris()"
   ]
  },
  {
   "cell_type": "markdown",
   "id": "0616b9b9",
   "metadata": {},
   "source": [
    "### 数据提取"
   ]
  },
  {
   "cell_type": "code",
   "execution_count": 37,
   "id": "ab4bf5cf",
   "metadata": {
    "ExecuteTime": {
     "end_time": "2022-04-21T11:25:14.496854Z",
     "start_time": "2022-04-21T11:25:14.487659Z"
    }
   },
   "outputs": [],
   "source": [
    "X = iris['data'] \n",
    "y = iris['target']"
   ]
  },
  {
   "cell_type": "markdown",
   "id": "6e180f7a",
   "metadata": {},
   "source": [
    "### 数据拆分"
   ]
  },
  {
   "cell_type": "code",
   "execution_count": 38,
   "id": "219c7f09",
   "metadata": {
    "ExecuteTime": {
     "end_time": "2022-04-21T11:25:42.631894Z",
     "start_time": "2022-04-21T11:25:42.621458Z"
    }
   },
   "outputs": [],
   "source": [
    "X_train,X_test,y_train,y_test = train_test_split(X,y)"
   ]
  },
  {
   "cell_type": "markdown",
   "id": "51d86094",
   "metadata": {},
   "source": [
    "### 模型训练"
   ]
  },
  {
   "cell_type": "code",
   "execution_count": 39,
   "id": "7301f2d2",
   "metadata": {
    "ExecuteTime": {
     "end_time": "2022-04-21T11:27:35.934647Z",
     "start_time": "2022-04-21T11:27:35.903091Z"
    }
   },
   "outputs": [
    {
     "data": {
      "text/plain": [
       "LogisticRegression(multi_class='ovr')"
      ]
     },
     "execution_count": 39,
     "metadata": {},
     "output_type": "execute_result"
    }
   ],
   "source": [
    "lr = LogisticRegression(multi_class = 'ovr') # 注意这里的\"ovr\"，这个是one-vs-rest思想的实现\n",
    "lr.fit(X_train, y_train)"
   ]
  },
  {
   "cell_type": "markdown",
   "id": "452877f0",
   "metadata": {},
   "source": [
    "### 模型预测"
   ]
  },
  {
   "cell_type": "code",
   "execution_count": 45,
   "id": "3b4362f3",
   "metadata": {
    "ExecuteTime": {
     "end_time": "2022-04-21T11:34:25.909665Z",
     "start_time": "2022-04-21T11:34:25.891937Z"
    }
   },
   "outputs": [
    {
     "name": "stdout",
     "output_type": "stream",
     "text": [
      "测试数据保留类别是： [2 0 0 0 0 1 0 2 1 1 2 2 1 2 2 0 0 2 2 2 2 2 1 0 1 2 1 2 0 0 0 2 1 0 2 1 1\n",
      " 0]\n",
      "测试数据算法预测类别是： [2 0 0 0 0 1 0 2 1 1 2 2 1 2 2 0 0 2 2 2 1 2 1 0 2 2 1 2 0 0 0 2 1 0 2 1 1\n",
      " 0]\n",
      "测试数据算法预测概率是：\n",
      " [[0.000013 0.354091 0.645896]\n",
      " [0.843148 0.156851 0.000001]\n",
      " [0.80476  0.195238 0.000002]\n",
      " [0.956787 0.043212 0.000002]\n",
      " [0.979182 0.020815 0.000002]\n",
      " [0.05428  0.92435  0.021371]\n",
      " [0.920881 0.07911  0.000009]\n",
      " [0.003754 0.430614 0.565632]\n",
      " [0.196545 0.799406 0.00405 ]\n",
      " [0.055996 0.905491 0.038513]\n",
      " [0.002563 0.472083 0.525354]\n",
      " [0.000551 0.190631 0.808818]\n",
      " [0.037572 0.9151   0.047328]\n",
      " [0.000004 0.413878 0.586119]\n",
      " [0.000022 0.173229 0.826748]\n",
      " [0.925397 0.074599 0.000004]\n",
      " [0.925386 0.074614 0.000001]\n",
      " [0.000456 0.328011 0.671533]\n",
      " [0.000086 0.304611 0.695303]\n",
      " [0.000047 0.177    0.822953]\n",
      " [0.008726 0.674802 0.316473]\n",
      " [0.002598 0.406629 0.590773]\n",
      " [0.007708 0.764352 0.227941]\n",
      " [0.833967 0.166031 0.000002]\n",
      " [0.001602 0.422889 0.575509]\n",
      " [0.000096 0.432692 0.567211]\n",
      " [0.006572 0.686883 0.306545]\n",
      " [0.000101 0.318416 0.681484]\n",
      " [0.907023 0.092976 0.000002]\n",
      " [0.891015 0.108984 0.000002]\n",
      " [0.884495 0.115502 0.000002]\n",
      " [0.001002 0.406829 0.592169]\n",
      " [0.165007 0.809413 0.02558 ]\n",
      " [0.874919 0.125079 0.000002]\n",
      " [0.000386 0.348693 0.650921]\n",
      " [0.01809  0.698642 0.283268]\n",
      " [0.01337  0.807271 0.179359]\n",
      " [0.905516 0.094483 0.000002]]\n"
     ]
    }
   ],
   "source": [
    "np.set_printoptions(suppress=True)\n",
    "y_predict = lr.predict(X_test) \n",
    "print('测试数据保留类别是：',y_test) \n",
    "print('测试数据算法预测类别是：',y_predict) \n",
    "print('测试数据算法预测概率是：\\n',lr.predict_proba(X_test).round(6))"
   ]
  },
  {
   "cell_type": "markdown",
   "id": "41ac5522",
   "metadata": {},
   "source": [
    "结论：\n",
    "\n",
    "通过数据提取，创建三分类问题\n",
    "\n",
    "类别的划分，通过概率比较大小完成了"
   ]
  },
  {
   "cell_type": "code",
   "execution_count": 44,
   "id": "ce5220d9",
   "metadata": {
    "ExecuteTime": {
     "end_time": "2022-04-21T11:34:06.959396Z",
     "start_time": "2022-04-21T11:34:06.945603Z"
    }
   },
   "outputs": [
    {
     "data": {
      "text/plain": [
       "array([[0.00001319, 0.3540907 , 0.64589612],\n",
       "       [0.84314794, 0.15685074, 0.00000131],\n",
       "       [0.80475979, 0.19523789, 0.00000233],\n",
       "       [0.95678672, 0.04321163, 0.00000166],\n",
       "       [0.9791822 , 0.02081544, 0.00000236],\n",
       "       [0.05427968, 0.92434977, 0.02137055],\n",
       "       [0.92088108, 0.0791098 , 0.00000912],\n",
       "       [0.00375371, 0.43061421, 0.56563208],\n",
       "       [0.19654457, 0.79940587, 0.00404956],\n",
       "       [0.05599562, 0.90549122, 0.03851316],\n",
       "       [0.00256319, 0.4720828 , 0.52535401],\n",
       "       [0.00055092, 0.19063118, 0.8088179 ],\n",
       "       [0.0375724 , 0.91510001, 0.04732759],\n",
       "       [0.00000359, 0.41387782, 0.58611859],\n",
       "       [0.0000222 , 0.17322933, 0.82674848],\n",
       "       [0.92539697, 0.07459876, 0.00000427],\n",
       "       [0.92538556, 0.07461393, 0.00000051],\n",
       "       [0.00045619, 0.32801087, 0.67153293],\n",
       "       [0.00008572, 0.30461149, 0.6953028 ],\n",
       "       [0.0000467 , 0.17699993, 0.82295337],\n",
       "       [0.00872594, 0.67480152, 0.31647254],\n",
       "       [0.00259813, 0.40662882, 0.59077305],\n",
       "       [0.00770763, 0.76435185, 0.22794052],\n",
       "       [0.83396717, 0.16603111, 0.00000172],\n",
       "       [0.00160166, 0.42288949, 0.57550885],\n",
       "       [0.00009633, 0.4326922 , 0.56721148],\n",
       "       [0.006572  , 0.68688299, 0.30654502],\n",
       "       [0.00010062, 0.31841575, 0.68148363],\n",
       "       [0.90702253, 0.09297594, 0.00000152],\n",
       "       [0.89101455, 0.10898384, 0.00000161],\n",
       "       [0.88449541, 0.11550246, 0.00000213],\n",
       "       [0.00100209, 0.4068286 , 0.5921693 ],\n",
       "       [0.16500692, 0.80941259, 0.0255805 ],\n",
       "       [0.87491931, 0.12507903, 0.00000166],\n",
       "       [0.00038624, 0.34869252, 0.65092124],\n",
       "       [0.01809025, 0.69864192, 0.28326784],\n",
       "       [0.01336971, 0.80727094, 0.17935935],\n",
       "       [0.90551581, 0.09448264, 0.00000155]])"
      ]
     },
     "execution_count": 44,
     "metadata": {},
     "output_type": "execute_result"
    }
   ],
   "source": [
    "#线性回归方程，3个方程\n",
    "b = lr.intercept_ \n",
    "w = lr.coef_\n",
    "\n",
    "# 逻辑回归函数 \n",
    "def sigmoid(z): \n",
    "    return 1/(1 + np.exp(-z))\n",
    "\n",
    "#计算三个方程的概率\n",
    "z = X_test.dot(w.T) + b \n",
    "p = sigmoid(z)\n",
    "\n",
    "# 标准化处理，概率求和为1 \n",
    "p = p/p.sum(axis = 1).reshape(-1,1) \n",
    "p"
   ]
  },
  {
   "cell_type": "markdown",
   "id": "044c9959",
   "metadata": {},
   "source": [
    "结论：\n",
    "\n",
    "1.线性方程，对应方程 ，此时对应三个方程\n",
    "\n",
    "2.sigmoid函数，将线性方程转变为概率，并进行标准化处理\n",
    "\n",
    "3.自己求解概率和直接使用LogisticRegression结果一样"
   ]
  },
  {
   "cell_type": "markdown",
   "id": "e80a5f15",
   "metadata": {},
   "source": [
    "## 多分类Softmax回归"
   ]
  },
  {
   "cell_type": "markdown",
   "id": "56efe263",
   "metadata": {},
   "source": [
    "Softmax 回归是另一种做多分类的算法。从名字中大家是不是可以联想到广义线性回归，Softmax 回归是假设多项分布的，多项分布可\n",
    "以理解为二项分布的扩展。投硬币是二项分布，掷骰子是多项分布。"
   ]
  },
  {
   "cell_type": "code",
   "execution_count": 46,
   "id": "c2d32404",
   "metadata": {
    "ExecuteTime": {
     "end_time": "2022-04-21T11:39:44.599428Z",
     "start_time": "2022-04-21T11:39:44.588002Z"
    }
   },
   "outputs": [],
   "source": [
    "import numpy as np \n",
    "from sklearn import datasets \n",
    "from sklearn.linear_model import LogisticRegression \n",
    "from sklearn.model_selection import train_test_split"
   ]
  },
  {
   "cell_type": "markdown",
   "id": "3db3bf4f",
   "metadata": {},
   "source": [
    "### 数据加载"
   ]
  },
  {
   "cell_type": "code",
   "execution_count": 47,
   "id": "467e342c",
   "metadata": {
    "ExecuteTime": {
     "end_time": "2022-04-21T11:40:25.233138Z",
     "start_time": "2022-04-21T11:40:25.221144Z"
    }
   },
   "outputs": [],
   "source": [
    "iris = datasets.load_iris()"
   ]
  },
  {
   "cell_type": "markdown",
   "id": "a983b243",
   "metadata": {},
   "source": [
    "### 数据提取"
   ]
  },
  {
   "cell_type": "code",
   "execution_count": 48,
   "id": "e48aa4d8",
   "metadata": {
    "ExecuteTime": {
     "end_time": "2022-04-21T11:40:58.218933Z",
     "start_time": "2022-04-21T11:40:58.210948Z"
    }
   },
   "outputs": [],
   "source": [
    "X = iris['data'] \n",
    "y = iris['target']"
   ]
  },
  {
   "cell_type": "markdown",
   "id": "3bfd6dac",
   "metadata": {},
   "source": [
    "### 数据拆分"
   ]
  },
  {
   "cell_type": "code",
   "execution_count": 49,
   "id": "5a15ce7d",
   "metadata": {
    "ExecuteTime": {
     "end_time": "2022-04-21T11:43:07.343446Z",
     "start_time": "2022-04-21T11:43:07.332485Z"
    }
   },
   "outputs": [],
   "source": [
    "X_train,X_test,y_train,y_test = train_test_split(X,y)"
   ]
  },
  {
   "cell_type": "markdown",
   "id": "4f410337",
   "metadata": {},
   "source": [
    "### 模型训练，使用multinomial分类器，表示多分类"
   ]
  },
  {
   "cell_type": "code",
   "execution_count": 50,
   "id": "946e440c",
   "metadata": {
    "ExecuteTime": {
     "end_time": "2022-04-21T11:43:52.086443Z",
     "start_time": "2022-04-21T11:43:52.046109Z"
    }
   },
   "outputs": [
    {
     "data": {
      "text/plain": [
       "LogisticRegression(max_iter=5000, multi_class='multinomial')"
      ]
     },
     "execution_count": 50,
     "metadata": {},
     "output_type": "execute_result"
    }
   ],
   "source": [
    "lr = LogisticRegression(multi_class = 'multinomial',max_iter=5000) \n",
    "lr.fit(X_train, y_train)"
   ]
  },
  {
   "cell_type": "markdown",
   "id": "30667d82",
   "metadata": {},
   "source": [
    "### 模型预测"
   ]
  },
  {
   "cell_type": "code",
   "execution_count": 51,
   "id": "d14536f5",
   "metadata": {
    "ExecuteTime": {
     "end_time": "2022-04-21T11:45:30.028258Z",
     "start_time": "2022-04-21T11:45:30.010886Z"
    }
   },
   "outputs": [
    {
     "name": "stdout",
     "output_type": "stream",
     "text": [
      "测试数据保留类别是： [2 2 1 0 1 2 0 2 2 0 0 2 0 1 2 0 0 1 1 2 2 1 2 2 2 1 0 0 1 0 2 2 0 0 1 1 0\n",
      " 1]\n",
      "测试数据算法预测类别是： [2 2 1 0 1 2 0 2 2 0 0 1 0 1 2 0 0 1 1 2 2 2 2 2 2 1 0 0 2 0 2 2 0 0 1 1 0\n",
      " 1]\n",
      "测试数据算法预测概率是：\n",
      " [[0.00042806 0.31860221 0.68096973]\n",
      " [0.00014606 0.05677952 0.94307442]\n",
      " [0.02104734 0.94694599 0.03200667]\n",
      " [0.97709392 0.02290601 0.00000007]\n",
      " [0.00455942 0.74263497 0.25280561]\n",
      " [0.00000019 0.00273263 0.99726717]\n",
      " [0.98016321 0.01983673 0.00000006]\n",
      " [0.00001011 0.04763683 0.95235307]\n",
      " [0.00001904 0.03566643 0.96431454]\n",
      " [0.97818578 0.02181408 0.00000014]\n",
      " [0.97067287 0.029327   0.00000013]\n",
      " [0.00067575 0.53937272 0.45995153]\n",
      " [0.98550113 0.01449882 0.00000005]\n",
      " [0.02323046 0.90117268 0.07559686]\n",
      " [0.00000138 0.01239281 0.98760581]\n",
      " [0.96767625 0.03232362 0.00000013]\n",
      " [0.96285582 0.03714383 0.00000036]\n",
      " [0.00558462 0.63219708 0.3622183 ]\n",
      " [0.02493752 0.91944814 0.05561434]\n",
      " [0.00002484 0.04557439 0.95440076]\n",
      " [0.00045001 0.18332432 0.81622567]\n",
      " [0.00076702 0.35866327 0.64056971]\n",
      " [0.00000146 0.00533442 0.99466412]\n",
      " [0.00168221 0.46938139 0.5289364 ]\n",
      " [0.00245378 0.41360912 0.58393711]\n",
      " [0.15025204 0.84608813 0.00365983]\n",
      " [0.93804918 0.06195064 0.00000018]\n",
      " [0.96924127 0.03075861 0.00000012]\n",
      " [0.00334905 0.37703393 0.61961702]\n",
      " [0.95871052 0.04128931 0.00000017]\n",
      " [0.00001225 0.02583952 0.97414823]\n",
      " [0.00000478 0.01366822 0.986327  ]\n",
      " [0.97062451 0.02937529 0.0000002 ]\n",
      " [0.96067649 0.03932339 0.00000012]\n",
      " [0.00780993 0.78373047 0.2084596 ]\n",
      " [0.02789449 0.9105764  0.0615291 ]\n",
      " [0.96911537 0.03088447 0.00000016]\n",
      " [0.00165291 0.67940589 0.3189412 ]]\n"
     ]
    }
   ],
   "source": [
    "y_predict = lr.predict(X_test) \n",
    "print('测试数据保留类别是：',y_test) \n",
    "print('测试数据算法预测类别是：',y_predict) \n",
    "print('测试数据算法预测概率是：\\n',lr.predict_proba(X_test))"
   ]
  },
  {
   "cell_type": "markdown",
   "id": "13cf0411",
   "metadata": {},
   "source": [
    "结论：\n",
    "\n",
    "1.通过数据提取，创建三分类问题\n",
    "\n",
    "2.参数multi_class设置成multinomial表示多分类，使用交叉熵作为损失函数\n",
    "\n",
    "3.类别的划分，通过概率比较大小完成了"
   ]
  },
  {
   "cell_type": "code",
   "execution_count": 52,
   "id": "ceeb8ff0",
   "metadata": {
    "ExecuteTime": {
     "end_time": "2022-04-21T11:49:05.731592Z",
     "start_time": "2022-04-21T11:49:05.714506Z"
    }
   },
   "outputs": [
    {
     "data": {
      "text/plain": [
       "array([[0.00042806, 0.31860221, 0.68096973],\n",
       "       [0.00014606, 0.05677952, 0.94307442],\n",
       "       [0.02104734, 0.94694599, 0.03200667],\n",
       "       [0.97709392, 0.02290601, 0.00000007],\n",
       "       [0.00455942, 0.74263497, 0.25280561],\n",
       "       [0.00000019, 0.00273263, 0.99726717],\n",
       "       [0.98016321, 0.01983673, 0.00000006],\n",
       "       [0.00001011, 0.04763683, 0.95235307],\n",
       "       [0.00001904, 0.03566643, 0.96431454],\n",
       "       [0.97818578, 0.02181408, 0.00000014],\n",
       "       [0.97067287, 0.029327  , 0.00000013],\n",
       "       [0.00067575, 0.53937272, 0.45995153],\n",
       "       [0.98550113, 0.01449882, 0.00000005],\n",
       "       [0.02323046, 0.90117268, 0.07559686],\n",
       "       [0.00000138, 0.01239281, 0.98760581],\n",
       "       [0.96767625, 0.03232362, 0.00000013],\n",
       "       [0.96285582, 0.03714383, 0.00000036],\n",
       "       [0.00558462, 0.63219708, 0.3622183 ],\n",
       "       [0.02493752, 0.91944814, 0.05561434],\n",
       "       [0.00002484, 0.04557439, 0.95440076],\n",
       "       [0.00045001, 0.18332432, 0.81622567],\n",
       "       [0.00076702, 0.35866327, 0.64056971],\n",
       "       [0.00000146, 0.00533442, 0.99466412],\n",
       "       [0.00168221, 0.46938139, 0.5289364 ],\n",
       "       [0.00245378, 0.41360912, 0.58393711],\n",
       "       [0.15025204, 0.84608813, 0.00365983],\n",
       "       [0.93804918, 0.06195064, 0.00000018],\n",
       "       [0.96924127, 0.03075861, 0.00000012],\n",
       "       [0.00334905, 0.37703393, 0.61961702],\n",
       "       [0.95871052, 0.04128931, 0.00000017],\n",
       "       [0.00001225, 0.02583952, 0.97414823],\n",
       "       [0.00000478, 0.01366822, 0.986327  ],\n",
       "       [0.97062451, 0.02937529, 0.0000002 ],\n",
       "       [0.96067649, 0.03932339, 0.00000012],\n",
       "       [0.00780993, 0.78373047, 0.2084596 ],\n",
       "       [0.02789449, 0.9105764 , 0.0615291 ],\n",
       "       [0.96911537, 0.03088447, 0.00000016],\n",
       "       [0.00165291, 0.67940589, 0.3189412 ]])"
      ]
     },
     "execution_count": 52,
     "metadata": {},
     "output_type": "execute_result"
    }
   ],
   "source": [
    "# 线性回归方程，3个方程\n",
    "b = lr.intercept_ \n",
    "w = lr.coef_\n",
    "\n",
    "# softmax函数 \n",
    "def softmax(z): \n",
    "    return np.exp(z)/np.exp(z).sum(axis = 1).reshape(-1,1)\n",
    "\n",
    "# 计算三个方程的概率 \n",
    "z = X_test.dot(w.T) + b \n",
    "p = softmax(z) \n",
    "p"
   ]
  },
  {
   "cell_type": "markdown",
   "id": "3de78ce4",
   "metadata": {},
   "source": [
    "结论：\n",
    "\n",
    "1.线性方程，对应方程 ，多分类，此时对应三个方程\n",
    "\n",
    "2.softmax函数，将线性方程转变为概率\n",
    "\n",
    "3.自己求解概率和直接使用LogisticRegression结果一样"
   ]
  },
  {
   "cell_type": "markdown",
   "id": "25519aa8",
   "metadata": {},
   "source": [
    "# 逻辑回归与Softmax回归对比"
   ]
  },
  {
   "cell_type": "markdown",
   "id": "e0a9de63",
   "metadata": {},
   "source": [
    "逻辑回归是Softmax回归特例证明\n",
    "\n",
    "逻辑回归可以看成是 Softmax 回归的特例，当k = 2 时，softmax 回归退化为逻辑回归"
   ]
  },
  {
   "cell_type": "markdown",
   "id": "eca14c3d",
   "metadata": {},
   "source": [
    "# 葡萄酒预测作业"
   ]
  },
  {
   "cell_type": "markdown",
   "id": "76b7a383",
   "metadata": {},
   "source": [
    "## 加载数据"
   ]
  },
  {
   "cell_type": "code",
   "execution_count": 1,
   "id": "d1e2a56d",
   "metadata": {
    "ExecuteTime": {
     "end_time": "2022-04-21T12:04:18.506375Z",
     "start_time": "2022-04-21T12:04:18.141648Z"
    }
   },
   "outputs": [
    {
     "data": {
      "text/plain": [
       "(178, 13)"
      ]
     },
     "metadata": {},
     "output_type": "display_data"
    },
    {
     "data": {
      "text/plain": [
       "array([0, 1, 2])"
      ]
     },
     "metadata": {},
     "output_type": "display_data"
    }
   ],
   "source": [
    "import numpy as np\n",
    "from sklearn import datasets\n",
    "from sklearn.linear_model import LogisticRegression\n",
    "from sklearn.model_selection import train_test_split\n",
    "\n",
    "X,y = datasets.load_wine(return_X_y=True)\n",
    "display(X.shape,np.unique(y)) # 查看数据"
   ]
  },
  {
   "cell_type": "markdown",
   "id": "3e09e189",
   "metadata": {},
   "source": [
    "## 数据处理（删除类别0）"
   ]
  },
  {
   "cell_type": "code",
   "execution_count": 2,
   "id": "bb95bb8b",
   "metadata": {
    "ExecuteTime": {
     "end_time": "2022-04-21T12:06:17.130042Z",
     "start_time": "2022-04-21T12:06:17.109472Z"
    }
   },
   "outputs": [
    {
     "data": {
      "text/plain": [
       "(119, 13)"
      ]
     },
     "metadata": {},
     "output_type": "display_data"
    },
    {
     "data": {
      "text/plain": [
       "(119,)"
      ]
     },
     "metadata": {},
     "output_type": "display_data"
    },
    {
     "data": {
      "text/plain": [
       "(95, 13)"
      ]
     },
     "metadata": {},
     "output_type": "display_data"
    },
    {
     "data": {
      "text/plain": [
       "(24, 13)"
      ]
     },
     "metadata": {},
     "output_type": "display_data"
    },
    {
     "data": {
      "text/plain": [
       "(95,)"
      ]
     },
     "metadata": {},
     "output_type": "display_data"
    },
    {
     "data": {
      "text/plain": [
       "(24,)"
      ]
     },
     "metadata": {},
     "output_type": "display_data"
    }
   ],
   "source": [
    "cond = y != 0\n",
    "X = X[cond]\n",
    "y = y[cond]\n",
    "display(X.shape,y.shape)\n",
    "\n",
    "X_train,X_test,y_train,y_test = train_test_split(X,y,test_size=0.2)\n",
    "display(X_train.shape,X_test.shape,y_train.shape,y_test.shape)"
   ]
  },
  {
   "cell_type": "markdown",
   "id": "2d921083",
   "metadata": {},
   "source": [
    "## 建模"
   ]
  },
  {
   "cell_type": "code",
   "execution_count": 3,
   "id": "ea9047fc",
   "metadata": {
    "ExecuteTime": {
     "end_time": "2022-04-21T12:07:00.202830Z",
     "start_time": "2022-04-21T12:07:00.112506Z"
    }
   },
   "outputs": [
    {
     "data": {
      "text/plain": [
       "array([[0.25250565, 0.74749435],\n",
       "       [0.3500487 , 0.6499513 ],\n",
       "       [0.99966088, 0.00033912],\n",
       "       [0.99792078, 0.00207922],\n",
       "       [0.96812805, 0.03187195],\n",
       "       [0.99064776, 0.00935224],\n",
       "       [0.00022347, 0.99977653],\n",
       "       [0.84801229, 0.15198771],\n",
       "       [0.18997292, 0.81002708],\n",
       "       [0.00004141, 0.99995859]])"
      ]
     },
     "metadata": {},
     "output_type": "display_data"
    }
   ],
   "source": [
    "model = LogisticRegression(max_iter=5000)\n",
    "model.fit(X_train,y_train)\n",
    "\n",
    "y_pred = model.predict(X_test)\n",
    "proba_ = model.predict_proba(X_test)\n",
    "np.set_printoptions(suppress=True)\n",
    "display(proba_[:10])"
   ]
  },
  {
   "cell_type": "markdown",
   "id": "8b440beb",
   "metadata": {},
   "source": [
    "## 手动计算概率"
   ]
  },
  {
   "cell_type": "code",
   "execution_count": 4,
   "id": "7158e6a6",
   "metadata": {
    "ExecuteTime": {
     "end_time": "2022-04-21T12:07:56.148907Z",
     "start_time": "2022-04-21T12:07:56.132843Z"
    }
   },
   "outputs": [
    {
     "data": {
      "text/plain": [
       "array([[ 0.26105324,  0.41557197,  0.1652562 ,  0.10457278,  0.03779976,\n",
       "        -0.54011906, -1.26941355, -0.09792213, -0.61229003,  1.45882921,\n",
       "        -0.38366167, -0.92263754,  0.00452835]])"
      ]
     },
     "metadata": {},
     "output_type": "display_data"
    },
    {
     "data": {
      "text/plain": [
       "array([-14.38729507])"
      ]
     },
     "metadata": {},
     "output_type": "display_data"
    }
   ],
   "source": [
    "w_ = model.coef_\n",
    "b_ = model.intercept_\n",
    "\n",
    "display(w_,b_)"
   ]
  },
  {
   "cell_type": "code",
   "execution_count": 5,
   "id": "b62bc063",
   "metadata": {
    "ExecuteTime": {
     "end_time": "2022-04-21T12:08:55.313542Z",
     "start_time": "2022-04-21T12:08:55.297773Z"
    }
   },
   "outputs": [
    {
     "data": {
      "text/plain": [
       "array([[0.25250565, 0.74749435],\n",
       "       [0.3500487 , 0.6499513 ],\n",
       "       [0.99966088, 0.00033912],\n",
       "       [0.99792078, 0.00207922],\n",
       "       [0.96812805, 0.03187195],\n",
       "       [0.99064776, 0.00935224],\n",
       "       [0.00022347, 0.99977653],\n",
       "       [0.84801229, 0.15198771],\n",
       "       [0.18997292, 0.81002708],\n",
       "       [0.00004141, 0.99995859]])"
      ]
     },
     "execution_count": 5,
     "metadata": {},
     "output_type": "execute_result"
    }
   ],
   "source": [
    "z = X_test.dot(w_.reshape(-1)) + b_\n",
    "\n",
    "def sigmoid(z):\n",
    "    return 1/(1 + np.exp(-z))\n",
    "\n",
    "p = sigmoid(z)\n",
    "\n",
    "p = np.column_stack([1-p,p])\n",
    "\n",
    "# 和上面proba_对比，可知一致\n",
    "p[:10]"
   ]
  },
  {
   "cell_type": "markdown",
   "id": "3df5d27d",
   "metadata": {},
   "source": [
    "结论：自己手算和代码计算概率的结果一致！！！"
   ]
  },
  {
   "cell_type": "markdown",
   "id": "b1595b80",
   "metadata": {},
   "source": [
    "# 手写数字多分类作业"
   ]
  },
  {
   "cell_type": "markdown",
   "id": "4a1338ff",
   "metadata": {},
   "source": [
    "## 加载数据"
   ]
  },
  {
   "cell_type": "code",
   "execution_count": 1,
   "id": "26997cb8",
   "metadata": {
    "ExecuteTime": {
     "end_time": "2022-04-22T03:01:36.164545Z",
     "start_time": "2022-04-22T03:01:35.632613Z"
    }
   },
   "outputs": [],
   "source": [
    "import numpy as np\n",
    "from sklearn.linear_model import LogisticRegression\n",
    "import pandas as pd\n",
    "from sklearn.model_selection import train_test_split"
   ]
  },
  {
   "cell_type": "code",
   "execution_count": 2,
   "id": "a5dcf410",
   "metadata": {
    "ExecuteTime": {
     "end_time": "2022-04-22T03:02:30.691739Z",
     "start_time": "2022-04-22T03:02:29.236228Z"
    }
   },
   "outputs": [
    {
     "data": {
      "text/plain": [
       "(42000, 785)"
      ]
     },
     "metadata": {},
     "output_type": "display_data"
    },
    {
     "data": {
      "text/html": [
       "<div>\n",
       "<style scoped>\n",
       "    .dataframe tbody tr th:only-of-type {\n",
       "        vertical-align: middle;\n",
       "    }\n",
       "\n",
       "    .dataframe tbody tr th {\n",
       "        vertical-align: top;\n",
       "    }\n",
       "\n",
       "    .dataframe thead th {\n",
       "        text-align: right;\n",
       "    }\n",
       "</style>\n",
       "<table border=\"1\" class=\"dataframe\">\n",
       "  <thead>\n",
       "    <tr style=\"text-align: right;\">\n",
       "      <th></th>\n",
       "      <th>label</th>\n",
       "      <th>pixel0</th>\n",
       "      <th>pixel1</th>\n",
       "      <th>pixel2</th>\n",
       "      <th>pixel3</th>\n",
       "      <th>pixel4</th>\n",
       "      <th>pixel5</th>\n",
       "      <th>pixel6</th>\n",
       "      <th>pixel7</th>\n",
       "      <th>pixel8</th>\n",
       "      <th>...</th>\n",
       "      <th>pixel774</th>\n",
       "      <th>pixel775</th>\n",
       "      <th>pixel776</th>\n",
       "      <th>pixel777</th>\n",
       "      <th>pixel778</th>\n",
       "      <th>pixel779</th>\n",
       "      <th>pixel780</th>\n",
       "      <th>pixel781</th>\n",
       "      <th>pixel782</th>\n",
       "      <th>pixel783</th>\n",
       "    </tr>\n",
       "  </thead>\n",
       "  <tbody>\n",
       "    <tr>\n",
       "      <th>0</th>\n",
       "      <td>1</td>\n",
       "      <td>0</td>\n",
       "      <td>0</td>\n",
       "      <td>0</td>\n",
       "      <td>0</td>\n",
       "      <td>0</td>\n",
       "      <td>0</td>\n",
       "      <td>0</td>\n",
       "      <td>0</td>\n",
       "      <td>0</td>\n",
       "      <td>...</td>\n",
       "      <td>0</td>\n",
       "      <td>0</td>\n",
       "      <td>0</td>\n",
       "      <td>0</td>\n",
       "      <td>0</td>\n",
       "      <td>0</td>\n",
       "      <td>0</td>\n",
       "      <td>0</td>\n",
       "      <td>0</td>\n",
       "      <td>0</td>\n",
       "    </tr>\n",
       "    <tr>\n",
       "      <th>1</th>\n",
       "      <td>0</td>\n",
       "      <td>0</td>\n",
       "      <td>0</td>\n",
       "      <td>0</td>\n",
       "      <td>0</td>\n",
       "      <td>0</td>\n",
       "      <td>0</td>\n",
       "      <td>0</td>\n",
       "      <td>0</td>\n",
       "      <td>0</td>\n",
       "      <td>...</td>\n",
       "      <td>0</td>\n",
       "      <td>0</td>\n",
       "      <td>0</td>\n",
       "      <td>0</td>\n",
       "      <td>0</td>\n",
       "      <td>0</td>\n",
       "      <td>0</td>\n",
       "      <td>0</td>\n",
       "      <td>0</td>\n",
       "      <td>0</td>\n",
       "    </tr>\n",
       "    <tr>\n",
       "      <th>2</th>\n",
       "      <td>1</td>\n",
       "      <td>0</td>\n",
       "      <td>0</td>\n",
       "      <td>0</td>\n",
       "      <td>0</td>\n",
       "      <td>0</td>\n",
       "      <td>0</td>\n",
       "      <td>0</td>\n",
       "      <td>0</td>\n",
       "      <td>0</td>\n",
       "      <td>...</td>\n",
       "      <td>0</td>\n",
       "      <td>0</td>\n",
       "      <td>0</td>\n",
       "      <td>0</td>\n",
       "      <td>0</td>\n",
       "      <td>0</td>\n",
       "      <td>0</td>\n",
       "      <td>0</td>\n",
       "      <td>0</td>\n",
       "      <td>0</td>\n",
       "    </tr>\n",
       "    <tr>\n",
       "      <th>3</th>\n",
       "      <td>4</td>\n",
       "      <td>0</td>\n",
       "      <td>0</td>\n",
       "      <td>0</td>\n",
       "      <td>0</td>\n",
       "      <td>0</td>\n",
       "      <td>0</td>\n",
       "      <td>0</td>\n",
       "      <td>0</td>\n",
       "      <td>0</td>\n",
       "      <td>...</td>\n",
       "      <td>0</td>\n",
       "      <td>0</td>\n",
       "      <td>0</td>\n",
       "      <td>0</td>\n",
       "      <td>0</td>\n",
       "      <td>0</td>\n",
       "      <td>0</td>\n",
       "      <td>0</td>\n",
       "      <td>0</td>\n",
       "      <td>0</td>\n",
       "    </tr>\n",
       "    <tr>\n",
       "      <th>4</th>\n",
       "      <td>0</td>\n",
       "      <td>0</td>\n",
       "      <td>0</td>\n",
       "      <td>0</td>\n",
       "      <td>0</td>\n",
       "      <td>0</td>\n",
       "      <td>0</td>\n",
       "      <td>0</td>\n",
       "      <td>0</td>\n",
       "      <td>0</td>\n",
       "      <td>...</td>\n",
       "      <td>0</td>\n",
       "      <td>0</td>\n",
       "      <td>0</td>\n",
       "      <td>0</td>\n",
       "      <td>0</td>\n",
       "      <td>0</td>\n",
       "      <td>0</td>\n",
       "      <td>0</td>\n",
       "      <td>0</td>\n",
       "      <td>0</td>\n",
       "    </tr>\n",
       "  </tbody>\n",
       "</table>\n",
       "<p>5 rows × 785 columns</p>\n",
       "</div>"
      ],
      "text/plain": [
       "   label  pixel0  pixel1  pixel2  pixel3  pixel4  pixel5  pixel6  pixel7  \\\n",
       "0      1       0       0       0       0       0       0       0       0   \n",
       "1      0       0       0       0       0       0       0       0       0   \n",
       "2      1       0       0       0       0       0       0       0       0   \n",
       "3      4       0       0       0       0       0       0       0       0   \n",
       "4      0       0       0       0       0       0       0       0       0   \n",
       "\n",
       "   pixel8  ...  pixel774  pixel775  pixel776  pixel777  pixel778  pixel779  \\\n",
       "0       0  ...         0         0         0         0         0         0   \n",
       "1       0  ...         0         0         0         0         0         0   \n",
       "2       0  ...         0         0         0         0         0         0   \n",
       "3       0  ...         0         0         0         0         0         0   \n",
       "4       0  ...         0         0         0         0         0         0   \n",
       "\n",
       "   pixel780  pixel781  pixel782  pixel783  \n",
       "0         0         0         0         0  \n",
       "1         0         0         0         0  \n",
       "2         0         0         0         0  \n",
       "3         0         0         0         0  \n",
       "4         0         0         0         0  \n",
       "\n",
       "[5 rows x 785 columns]"
      ]
     },
     "metadata": {},
     "output_type": "display_data"
    }
   ],
   "source": [
    "# 42000个样本\n",
    "# 第一列是目标值，y\n",
    "# 第二列一直到最后是特征，相当于X，这些特征都是像素\n",
    "# 手写数字图片，是由像素组成的，因此像素作为特征，决定着，这张图片是数字几\n",
    "data = pd.read_csv('./digits.csv')\n",
    "display(data.shape,data.head())"
   ]
  },
  {
   "cell_type": "code",
   "execution_count": 3,
   "id": "9f11a024",
   "metadata": {
    "ExecuteTime": {
     "end_time": "2022-04-22T03:03:26.258608Z",
     "start_time": "2022-04-22T03:03:26.194012Z"
    }
   },
   "outputs": [
    {
     "data": {
      "text/plain": [
       "(5000, 785)"
      ]
     },
     "metadata": {},
     "output_type": "display_data"
    },
    {
     "data": {
      "text/html": [
       "<div>\n",
       "<style scoped>\n",
       "    .dataframe tbody tr th:only-of-type {\n",
       "        vertical-align: middle;\n",
       "    }\n",
       "\n",
       "    .dataframe tbody tr th {\n",
       "        vertical-align: top;\n",
       "    }\n",
       "\n",
       "    .dataframe thead th {\n",
       "        text-align: right;\n",
       "    }\n",
       "</style>\n",
       "<table border=\"1\" class=\"dataframe\">\n",
       "  <thead>\n",
       "    <tr style=\"text-align: right;\">\n",
       "      <th></th>\n",
       "      <th>label</th>\n",
       "      <th>pixel0</th>\n",
       "      <th>pixel1</th>\n",
       "      <th>pixel2</th>\n",
       "      <th>pixel3</th>\n",
       "      <th>pixel4</th>\n",
       "      <th>pixel5</th>\n",
       "      <th>pixel6</th>\n",
       "      <th>pixel7</th>\n",
       "      <th>pixel8</th>\n",
       "      <th>...</th>\n",
       "      <th>pixel774</th>\n",
       "      <th>pixel775</th>\n",
       "      <th>pixel776</th>\n",
       "      <th>pixel777</th>\n",
       "      <th>pixel778</th>\n",
       "      <th>pixel779</th>\n",
       "      <th>pixel780</th>\n",
       "      <th>pixel781</th>\n",
       "      <th>pixel782</th>\n",
       "      <th>pixel783</th>\n",
       "    </tr>\n",
       "  </thead>\n",
       "  <tbody>\n",
       "    <tr>\n",
       "      <th>39495</th>\n",
       "      <td>8</td>\n",
       "      <td>0</td>\n",
       "      <td>0</td>\n",
       "      <td>0</td>\n",
       "      <td>0</td>\n",
       "      <td>0</td>\n",
       "      <td>0</td>\n",
       "      <td>0</td>\n",
       "      <td>0</td>\n",
       "      <td>0</td>\n",
       "      <td>...</td>\n",
       "      <td>0</td>\n",
       "      <td>0</td>\n",
       "      <td>0</td>\n",
       "      <td>0</td>\n",
       "      <td>0</td>\n",
       "      <td>0</td>\n",
       "      <td>0</td>\n",
       "      <td>0</td>\n",
       "      <td>0</td>\n",
       "      <td>0</td>\n",
       "    </tr>\n",
       "    <tr>\n",
       "      <th>21039</th>\n",
       "      <td>9</td>\n",
       "      <td>0</td>\n",
       "      <td>0</td>\n",
       "      <td>0</td>\n",
       "      <td>0</td>\n",
       "      <td>0</td>\n",
       "      <td>0</td>\n",
       "      <td>0</td>\n",
       "      <td>0</td>\n",
       "      <td>0</td>\n",
       "      <td>...</td>\n",
       "      <td>0</td>\n",
       "      <td>0</td>\n",
       "      <td>0</td>\n",
       "      <td>0</td>\n",
       "      <td>0</td>\n",
       "      <td>0</td>\n",
       "      <td>0</td>\n",
       "      <td>0</td>\n",
       "      <td>0</td>\n",
       "      <td>0</td>\n",
       "    </tr>\n",
       "    <tr>\n",
       "      <th>38972</th>\n",
       "      <td>4</td>\n",
       "      <td>0</td>\n",
       "      <td>0</td>\n",
       "      <td>0</td>\n",
       "      <td>0</td>\n",
       "      <td>0</td>\n",
       "      <td>0</td>\n",
       "      <td>0</td>\n",
       "      <td>0</td>\n",
       "      <td>0</td>\n",
       "      <td>...</td>\n",
       "      <td>0</td>\n",
       "      <td>0</td>\n",
       "      <td>0</td>\n",
       "      <td>0</td>\n",
       "      <td>0</td>\n",
       "      <td>0</td>\n",
       "      <td>0</td>\n",
       "      <td>0</td>\n",
       "      <td>0</td>\n",
       "      <td>0</td>\n",
       "    </tr>\n",
       "    <tr>\n",
       "      <th>25738</th>\n",
       "      <td>1</td>\n",
       "      <td>0</td>\n",
       "      <td>0</td>\n",
       "      <td>0</td>\n",
       "      <td>0</td>\n",
       "      <td>0</td>\n",
       "      <td>0</td>\n",
       "      <td>0</td>\n",
       "      <td>0</td>\n",
       "      <td>0</td>\n",
       "      <td>...</td>\n",
       "      <td>0</td>\n",
       "      <td>0</td>\n",
       "      <td>0</td>\n",
       "      <td>0</td>\n",
       "      <td>0</td>\n",
       "      <td>0</td>\n",
       "      <td>0</td>\n",
       "      <td>0</td>\n",
       "      <td>0</td>\n",
       "      <td>0</td>\n",
       "    </tr>\n",
       "    <tr>\n",
       "      <th>40775</th>\n",
       "      <td>7</td>\n",
       "      <td>0</td>\n",
       "      <td>0</td>\n",
       "      <td>0</td>\n",
       "      <td>0</td>\n",
       "      <td>0</td>\n",
       "      <td>0</td>\n",
       "      <td>0</td>\n",
       "      <td>0</td>\n",
       "      <td>0</td>\n",
       "      <td>...</td>\n",
       "      <td>0</td>\n",
       "      <td>0</td>\n",
       "      <td>0</td>\n",
       "      <td>0</td>\n",
       "      <td>0</td>\n",
       "      <td>0</td>\n",
       "      <td>0</td>\n",
       "      <td>0</td>\n",
       "      <td>0</td>\n",
       "      <td>0</td>\n",
       "    </tr>\n",
       "  </tbody>\n",
       "</table>\n",
       "<p>5 rows × 785 columns</p>\n",
       "</div>"
      ],
      "text/plain": [
       "       label  pixel0  pixel1  pixel2  pixel3  pixel4  pixel5  pixel6  pixel7  \\\n",
       "39495      8       0       0       0       0       0       0       0       0   \n",
       "21039      9       0       0       0       0       0       0       0       0   \n",
       "38972      4       0       0       0       0       0       0       0       0   \n",
       "25738      1       0       0       0       0       0       0       0       0   \n",
       "40775      7       0       0       0       0       0       0       0       0   \n",
       "\n",
       "       pixel8  ...  pixel774  pixel775  pixel776  pixel777  pixel778  \\\n",
       "39495       0  ...         0         0         0         0         0   \n",
       "21039       0  ...         0         0         0         0         0   \n",
       "38972       0  ...         0         0         0         0         0   \n",
       "25738       0  ...         0         0         0         0         0   \n",
       "40775       0  ...         0         0         0         0         0   \n",
       "\n",
       "       pixel779  pixel780  pixel781  pixel782  pixel783  \n",
       "39495         0         0         0         0         0  \n",
       "21039         0         0         0         0         0  \n",
       "38972         0         0         0         0         0  \n",
       "25738         0         0         0         0         0  \n",
       "40775         0         0         0         0         0  \n",
       "\n",
       "[5 rows x 785 columns]"
      ]
     },
     "metadata": {},
     "output_type": "display_data"
    }
   ],
   "source": [
    "# 42000个样本有点多，取出其中5000个即可\n",
    "index = np.random.randint(0,42000,size = 5000)\n",
    "data = data.take(index)\n",
    "display(data.shape,data.head())"
   ]
  },
  {
   "cell_type": "markdown",
   "id": "f448d69d",
   "metadata": {},
   "source": [
    "## 数据抽取与拆分"
   ]
  },
  {
   "cell_type": "code",
   "execution_count": 4,
   "id": "33bb9276",
   "metadata": {
    "ExecuteTime": {
     "end_time": "2022-04-22T03:06:49.933067Z",
     "start_time": "2022-04-22T03:06:49.886955Z"
    }
   },
   "outputs": [
    {
     "data": {
      "text/plain": [
       "(4500, 784)"
      ]
     },
     "metadata": {},
     "output_type": "display_data"
    },
    {
     "data": {
      "text/plain": [
       "(4500,)"
      ]
     },
     "metadata": {},
     "output_type": "display_data"
    },
    {
     "data": {
      "text/plain": [
       "(500, 784)"
      ]
     },
     "metadata": {},
     "output_type": "display_data"
    },
    {
     "data": {
      "text/plain": [
       "(500,)"
      ]
     },
     "metadata": {},
     "output_type": "display_data"
    },
    {
     "data": {
      "text/html": [
       "<div>\n",
       "<style scoped>\n",
       "    .dataframe tbody tr th:only-of-type {\n",
       "        vertical-align: middle;\n",
       "    }\n",
       "\n",
       "    .dataframe tbody tr th {\n",
       "        vertical-align: top;\n",
       "    }\n",
       "\n",
       "    .dataframe thead th {\n",
       "        text-align: right;\n",
       "    }\n",
       "</style>\n",
       "<table border=\"1\" class=\"dataframe\">\n",
       "  <thead>\n",
       "    <tr style=\"text-align: right;\">\n",
       "      <th></th>\n",
       "      <th>pixel0</th>\n",
       "      <th>pixel1</th>\n",
       "      <th>pixel2</th>\n",
       "      <th>pixel3</th>\n",
       "      <th>pixel4</th>\n",
       "      <th>pixel5</th>\n",
       "      <th>pixel6</th>\n",
       "      <th>pixel7</th>\n",
       "      <th>pixel8</th>\n",
       "      <th>pixel9</th>\n",
       "      <th>...</th>\n",
       "      <th>pixel774</th>\n",
       "      <th>pixel775</th>\n",
       "      <th>pixel776</th>\n",
       "      <th>pixel777</th>\n",
       "      <th>pixel778</th>\n",
       "      <th>pixel779</th>\n",
       "      <th>pixel780</th>\n",
       "      <th>pixel781</th>\n",
       "      <th>pixel782</th>\n",
       "      <th>pixel783</th>\n",
       "    </tr>\n",
       "  </thead>\n",
       "  <tbody>\n",
       "    <tr>\n",
       "      <th>1421</th>\n",
       "      <td>0</td>\n",
       "      <td>0</td>\n",
       "      <td>0</td>\n",
       "      <td>0</td>\n",
       "      <td>0</td>\n",
       "      <td>0</td>\n",
       "      <td>0</td>\n",
       "      <td>0</td>\n",
       "      <td>0</td>\n",
       "      <td>0</td>\n",
       "      <td>...</td>\n",
       "      <td>0</td>\n",
       "      <td>0</td>\n",
       "      <td>0</td>\n",
       "      <td>0</td>\n",
       "      <td>0</td>\n",
       "      <td>0</td>\n",
       "      <td>0</td>\n",
       "      <td>0</td>\n",
       "      <td>0</td>\n",
       "      <td>0</td>\n",
       "    </tr>\n",
       "    <tr>\n",
       "      <th>979</th>\n",
       "      <td>0</td>\n",
       "      <td>0</td>\n",
       "      <td>0</td>\n",
       "      <td>0</td>\n",
       "      <td>0</td>\n",
       "      <td>0</td>\n",
       "      <td>0</td>\n",
       "      <td>0</td>\n",
       "      <td>0</td>\n",
       "      <td>0</td>\n",
       "      <td>...</td>\n",
       "      <td>0</td>\n",
       "      <td>0</td>\n",
       "      <td>0</td>\n",
       "      <td>0</td>\n",
       "      <td>0</td>\n",
       "      <td>0</td>\n",
       "      <td>0</td>\n",
       "      <td>0</td>\n",
       "      <td>0</td>\n",
       "      <td>0</td>\n",
       "    </tr>\n",
       "    <tr>\n",
       "      <th>6393</th>\n",
       "      <td>0</td>\n",
       "      <td>0</td>\n",
       "      <td>0</td>\n",
       "      <td>0</td>\n",
       "      <td>0</td>\n",
       "      <td>0</td>\n",
       "      <td>0</td>\n",
       "      <td>0</td>\n",
       "      <td>0</td>\n",
       "      <td>0</td>\n",
       "      <td>...</td>\n",
       "      <td>0</td>\n",
       "      <td>0</td>\n",
       "      <td>0</td>\n",
       "      <td>0</td>\n",
       "      <td>0</td>\n",
       "      <td>0</td>\n",
       "      <td>0</td>\n",
       "      <td>0</td>\n",
       "      <td>0</td>\n",
       "      <td>0</td>\n",
       "    </tr>\n",
       "    <tr>\n",
       "      <th>26490</th>\n",
       "      <td>0</td>\n",
       "      <td>0</td>\n",
       "      <td>0</td>\n",
       "      <td>0</td>\n",
       "      <td>0</td>\n",
       "      <td>0</td>\n",
       "      <td>0</td>\n",
       "      <td>0</td>\n",
       "      <td>0</td>\n",
       "      <td>0</td>\n",
       "      <td>...</td>\n",
       "      <td>0</td>\n",
       "      <td>0</td>\n",
       "      <td>0</td>\n",
       "      <td>0</td>\n",
       "      <td>0</td>\n",
       "      <td>0</td>\n",
       "      <td>0</td>\n",
       "      <td>0</td>\n",
       "      <td>0</td>\n",
       "      <td>0</td>\n",
       "    </tr>\n",
       "    <tr>\n",
       "      <th>5799</th>\n",
       "      <td>0</td>\n",
       "      <td>0</td>\n",
       "      <td>0</td>\n",
       "      <td>0</td>\n",
       "      <td>0</td>\n",
       "      <td>0</td>\n",
       "      <td>0</td>\n",
       "      <td>0</td>\n",
       "      <td>0</td>\n",
       "      <td>0</td>\n",
       "      <td>...</td>\n",
       "      <td>0</td>\n",
       "      <td>0</td>\n",
       "      <td>0</td>\n",
       "      <td>0</td>\n",
       "      <td>0</td>\n",
       "      <td>0</td>\n",
       "      <td>0</td>\n",
       "      <td>0</td>\n",
       "      <td>0</td>\n",
       "      <td>0</td>\n",
       "    </tr>\n",
       "  </tbody>\n",
       "</table>\n",
       "<p>5 rows × 784 columns</p>\n",
       "</div>"
      ],
      "text/plain": [
       "       pixel0  pixel1  pixel2  pixel3  pixel4  pixel5  pixel6  pixel7  pixel8  \\\n",
       "1421        0       0       0       0       0       0       0       0       0   \n",
       "979         0       0       0       0       0       0       0       0       0   \n",
       "6393        0       0       0       0       0       0       0       0       0   \n",
       "26490       0       0       0       0       0       0       0       0       0   \n",
       "5799        0       0       0       0       0       0       0       0       0   \n",
       "\n",
       "       pixel9  ...  pixel774  pixel775  pixel776  pixel777  pixel778  \\\n",
       "1421        0  ...         0         0         0         0         0   \n",
       "979         0  ...         0         0         0         0         0   \n",
       "6393        0  ...         0         0         0         0         0   \n",
       "26490       0  ...         0         0         0         0         0   \n",
       "5799        0  ...         0         0         0         0         0   \n",
       "\n",
       "       pixel779  pixel780  pixel781  pixel782  pixel783  \n",
       "1421          0         0         0         0         0  \n",
       "979           0         0         0         0         0  \n",
       "6393          0         0         0         0         0  \n",
       "26490         0         0         0         0         0  \n",
       "5799          0         0         0         0         0  \n",
       "\n",
       "[5 rows x 784 columns]"
      ]
     },
     "metadata": {},
     "output_type": "display_data"
    }
   ],
   "source": [
    "X = data.iloc[:,1:]\n",
    "y = data['label']\n",
    "\n",
    "X_train,X_test,y_train,y_test = train_test_split(X,y,test_size=0.1,random_state=1024)\n",
    "\n",
    "display(X_train.shape,y_train.shape)\n",
    "display(X_test.shape,y_test.shape)\n",
    "display(X_train.head())"
   ]
  },
  {
   "cell_type": "code",
   "execution_count": 5,
   "id": "717e15d5",
   "metadata": {
    "ExecuteTime": {
     "end_time": "2022-04-22T03:07:25.444580Z",
     "start_time": "2022-04-22T03:07:25.428838Z"
    }
   },
   "outputs": [
    {
     "data": {
      "text/plain": [
       "8230     6\n",
       "21200    1\n",
       "10004    3\n",
       "15092    3\n",
       "6079     0\n",
       "Name: label, dtype: int64"
      ]
     },
     "execution_count": 5,
     "metadata": {},
     "output_type": "execute_result"
    }
   ],
   "source": [
    "y_test.head()"
   ]
  },
  {
   "cell_type": "code",
   "execution_count": 9,
   "id": "dedb27a2",
   "metadata": {
    "ExecuteTime": {
     "end_time": "2022-04-22T03:10:16.977677Z",
     "start_time": "2022-04-22T03:10:16.891362Z"
    }
   },
   "outputs": [
    {
     "data": {
      "text/plain": [
       "<matplotlib.image.AxesImage at 0x7fe05b8d3100>"
      ]
     },
     "execution_count": 9,
     "metadata": {},
     "output_type": "execute_result"
    },
    {
     "data": {
      "image/png": "[encoded data removed]",
      "text/plain": [
       "<Figure size 432x288 with 1 Axes>"
      ]
     },
     "metadata": {
      "needs_background": "light"
     },
     "output_type": "display_data"
    }
   ],
   "source": [
    "import matplotlib.pyplot as plt\n",
    "plt.imshow(X_test.iloc[0].values.reshape(28,28),cmap = 'Accent')"
   ]
  },
  {
   "cell_type": "code",
   "execution_count": 8,
   "id": "9bc21030",
   "metadata": {
    "ExecuteTime": {
     "end_time": "2022-04-22T03:09:57.108207Z",
     "start_time": "2022-04-22T03:09:57.090017Z"
    }
   },
   "outputs": [
    {
     "data": {
      "text/plain": [
       "['Accent',\n",
       " 'Accent_r',\n",
       " 'Blues',\n",
       " 'Blues_r',\n",
       " 'BrBG',\n",
       " 'BrBG_r',\n",
       " 'BuGn',\n",
       " 'BuGn_r',\n",
       " 'BuPu',\n",
       " 'BuPu_r',\n",
       " 'CMRmap',\n",
       " 'CMRmap_r',\n",
       " 'Dark2',\n",
       " 'Dark2_r',\n",
       " 'GnBu',\n",
       " 'GnBu_r',\n",
       " 'Greens',\n",
       " 'Greens_r',\n",
       " 'Greys',\n",
       " 'Greys_r',\n",
       " 'OrRd',\n",
       " 'OrRd_r',\n",
       " 'Oranges',\n",
       " 'Oranges_r',\n",
       " 'PRGn',\n",
       " 'PRGn_r',\n",
       " 'Paired',\n",
       " 'Paired_r',\n",
       " 'Pastel1',\n",
       " 'Pastel1_r',\n",
       " 'Pastel2',\n",
       " 'Pastel2_r',\n",
       " 'PiYG',\n",
       " 'PiYG_r',\n",
       " 'PuBu',\n",
       " 'PuBuGn',\n",
       " 'PuBuGn_r',\n",
       " 'PuBu_r',\n",
       " 'PuOr',\n",
       " 'PuOr_r',\n",
       " 'PuRd',\n",
       " 'PuRd_r',\n",
       " 'Purples',\n",
       " 'Purples_r',\n",
       " 'RdBu',\n",
       " 'RdBu_r',\n",
       " 'RdGy',\n",
       " 'RdGy_r',\n",
       " 'RdPu',\n",
       " 'RdPu_r',\n",
       " 'RdYlBu',\n",
       " 'RdYlBu_r',\n",
       " 'RdYlGn',\n",
       " 'RdYlGn_r',\n",
       " 'Reds',\n",
       " 'Reds_r',\n",
       " 'Set1',\n",
       " 'Set1_r',\n",
       " 'Set2',\n",
       " 'Set2_r',\n",
       " 'Set3',\n",
       " 'Set3_r',\n",
       " 'Spectral',\n",
       " 'Spectral_r',\n",
       " 'Wistia',\n",
       " 'Wistia_r',\n",
       " 'YlGn',\n",
       " 'YlGnBu',\n",
       " 'YlGnBu_r',\n",
       " 'YlGn_r',\n",
       " 'YlOrBr',\n",
       " 'YlOrBr_r',\n",
       " 'YlOrRd',\n",
       " 'YlOrRd_r',\n",
       " 'afmhot',\n",
       " 'afmhot_r',\n",
       " 'autumn',\n",
       " 'autumn_r',\n",
       " 'binary',\n",
       " 'binary_r',\n",
       " 'bone',\n",
       " 'bone_r',\n",
       " 'brg',\n",
       " 'brg_r',\n",
       " 'bwr',\n",
       " 'bwr_r',\n",
       " 'cividis',\n",
       " 'cividis_r',\n",
       " 'cool',\n",
       " 'cool_r',\n",
       " 'coolwarm',\n",
       " 'coolwarm_r',\n",
       " 'copper',\n",
       " 'copper_r',\n",
       " 'cubehelix',\n",
       " 'cubehelix_r',\n",
       " 'flag',\n",
       " 'flag_r',\n",
       " 'gist_earth',\n",
       " 'gist_earth_r',\n",
       " 'gist_gray',\n",
       " 'gist_gray_r',\n",
       " 'gist_heat',\n",
       " 'gist_heat_r',\n",
       " 'gist_ncar',\n",
       " 'gist_ncar_r',\n",
       " 'gist_rainbow',\n",
       " 'gist_rainbow_r',\n",
       " 'gist_stern',\n",
       " 'gist_stern_r',\n",
       " 'gist_yarg',\n",
       " 'gist_yarg_r',\n",
       " 'gnuplot',\n",
       " 'gnuplot2',\n",
       " 'gnuplot2_r',\n",
       " 'gnuplot_r',\n",
       " 'gray',\n",
       " 'gray_r',\n",
       " 'hot',\n",
       " 'hot_r',\n",
       " 'hsv',\n",
       " 'hsv_r',\n",
       " 'inferno',\n",
       " 'inferno_r',\n",
       " 'jet',\n",
       " 'jet_r',\n",
       " 'magma',\n",
       " 'magma_r',\n",
       " 'nipy_spectral',\n",
       " 'nipy_spectral_r',\n",
       " 'ocean',\n",
       " 'ocean_r',\n",
       " 'pink',\n",
       " 'pink_r',\n",
       " 'plasma',\n",
       " 'plasma_r',\n",
       " 'prism',\n",
       " 'prism_r',\n",
       " 'rainbow',\n",
       " 'rainbow_r',\n",
       " 'seismic',\n",
       " 'seismic_r',\n",
       " 'spring',\n",
       " 'spring_r',\n",
       " 'summer',\n",
       " 'summer_r',\n",
       " 'tab10',\n",
       " 'tab10_r',\n",
       " 'tab20',\n",
       " 'tab20_r',\n",
       " 'tab20b',\n",
       " 'tab20b_r',\n",
       " 'tab20c',\n",
       " 'tab20c_r',\n",
       " 'terrain',\n",
       " 'terrain_r',\n",
       " 'turbo',\n",
       " 'turbo_r',\n",
       " 'twilight',\n",
       " 'twilight_r',\n",
       " 'twilight_shifted',\n",
       " 'twilight_shifted_r',\n",
       " 'viridis',\n",
       " 'viridis_r',\n",
       " 'winter',\n",
       " 'winter_r']"
      ]
     },
     "execution_count": 8,
     "metadata": {},
     "output_type": "execute_result"
    }
   ],
   "source": [
    "plt.colormaps()"
   ]
  },
  {
   "cell_type": "markdown",
   "id": "cc41bc4f",
   "metadata": {},
   "source": [
    "## 模型训练与预测"
   ]
  },
  {
   "cell_type": "code",
   "execution_count": 10,
   "id": "4977b0d3",
   "metadata": {
    "ExecuteTime": {
     "end_time": "2022-04-22T03:12:37.514459Z",
     "start_time": "2022-04-22T03:12:18.942189Z"
    }
   },
   "outputs": [
    {
     "data": {
      "text/plain": [
       "'预测值类别是：'"
      ]
     },
     "metadata": {},
     "output_type": "display_data"
    },
    {
     "data": {
      "text/plain": [
       "array([6, 1, 3, 3, 0, 4, 0, 9, 4, 0, 2, 3, 0, 8, 1, 3, 6, 7, 0, 0])"
      ]
     },
     "metadata": {},
     "output_type": "display_data"
    },
    {
     "data": {
      "text/plain": [
       "'预测值概率是：'"
      ]
     },
     "metadata": {},
     "output_type": "display_data"
    },
    {
     "data": {
      "text/plain": [
       "array([[2.90304157e-42, 2.29374058e-58, 5.23623860e-20, 1.46792334e-56,\n",
       "        2.49752508e-15, 6.35987886e-40, 1.00000000e+00, 7.32584491e-35,\n",
       "        1.20405352e-36, 1.18052728e-32],\n",
       "       [7.23899350e-25, 1.00000000e+00, 6.73802615e-12, 2.64368250e-11,\n",
       "        2.61132718e-23, 1.06589145e-16, 5.91692603e-21, 2.27017870e-18,\n",
       "        4.54782771e-12, 1.46758442e-20],\n",
       "       [5.92663745e-32, 1.43157957e-27, 4.24942105e-04, 9.99575027e-01,\n",
       "        1.56585899e-51, 4.08170065e-21, 3.04916554e-08, 2.19614403e-20,\n",
       "        3.02028448e-14, 5.49606457e-26],\n",
       "       [1.22022936e-20, 3.52438993e-18, 1.89619141e-16, 9.99999266e-01,\n",
       "        1.07918046e-11, 6.42047107e-07, 5.38923682e-20, 8.34902083e-29,\n",
       "        9.23533716e-08, 3.19712513e-25],\n",
       "       [1.00000000e+00, 3.17384101e-65, 2.78567291e-19, 1.82299183e-20,\n",
       "        8.57435203e-60, 1.66618928e-15, 2.47818823e-32, 2.25094356e-70,\n",
       "        3.74558584e-21, 6.99211736e-60],\n",
       "       [3.08538929e-21, 5.51815700e-23, 5.49185732e-16, 1.18345881e-15,\n",
       "        9.99999978e-01, 2.20699394e-08, 1.55663833e-11, 2.38663042e-13,\n",
       "        2.79130076e-20, 5.12203400e-12],\n",
       "       [9.99993651e-01, 1.79382310e-52, 2.89975498e-07, 7.72702069e-23,\n",
       "        4.12256173e-36, 9.81826283e-20, 6.05939901e-06, 1.83932236e-33,\n",
       "        1.63771614e-16, 3.10372515e-19],\n",
       "       [7.17535819e-39, 3.06226460e-37, 2.12876156e-33, 2.10055072e-03,\n",
       "        1.49906121e-14, 4.07945729e-12, 1.28830546e-29, 1.54184850e-03,\n",
       "        1.36611249e-14, 9.96357601e-01],\n",
       "       [4.06683643e-48, 4.14817282e-41, 2.54619680e-31, 2.54680700e-40,\n",
       "        1.00000000e+00, 7.81773848e-38, 2.33732308e-27, 2.69465104e-19,\n",
       "        1.11537973e-22, 2.13499085e-10],\n",
       "       [1.00000000e+00, 1.83679659e-64, 1.81972844e-34, 7.87203369e-40,\n",
       "        2.70562206e-82, 1.66278849e-19, 4.56901214e-51, 4.60370277e-78,\n",
       "        3.43554664e-39, 3.83000403e-75],\n",
       "       [2.79680558e-36, 1.33219909e-41, 9.99999999e-01, 1.16974142e-09,\n",
       "        3.20378039e-44, 2.04814777e-41, 2.54136883e-34, 3.35218143e-43,\n",
       "        4.04443076e-34, 4.32031311e-30],\n",
       "       [4.43908802e-09, 2.39124607e-31, 2.95508090e-25, 9.97658942e-01,\n",
       "        5.91110821e-34, 2.34105370e-03, 8.76075863e-46, 4.24230816e-51,\n",
       "        1.86764890e-24, 9.05873171e-45],\n",
       "       [9.99996681e-01, 4.96952670e-57, 6.51410881e-43, 5.61864577e-41,\n",
       "        2.61496826e-67, 3.31858944e-06, 3.07262801e-60, 8.37626534e-58,\n",
       "        4.64985343e-40, 1.20551608e-59],\n",
       "       [4.60685845e-49, 8.43982940e-71, 2.18168784e-36, 1.36755392e-35,\n",
       "        2.03654564e-69, 1.02301037e-20, 8.14086995e-69, 8.78453246e-69,\n",
       "        1.00000000e+00, 2.55428779e-62],\n",
       "       [2.01587997e-33, 1.00000000e+00, 1.32740814e-13, 2.70787043e-14,\n",
       "        1.02503632e-33, 1.88666100e-18, 2.76561157e-17, 4.79264030e-22,\n",
       "        1.25207876e-14, 2.04823532e-25],\n",
       "       [2.52829583e-23, 3.16712481e-42, 6.51391330e-13, 9.99999999e-01,\n",
       "        1.26320452e-18, 1.29778650e-09, 6.81367930e-34, 3.38935969e-47,\n",
       "        1.10461998e-13, 5.33048525e-28],\n",
       "       [1.35407115e-13, 1.04325862e-34, 1.38684462e-14, 5.71924032e-35,\n",
       "        4.45503068e-23, 4.87532206e-15, 1.00000000e+00, 4.38947672e-58,\n",
       "        9.04562100e-21, 7.86154575e-22],\n",
       "       [5.17292309e-29, 4.30250666e-38, 4.46560696e-23, 5.46535406e-10,\n",
       "        1.41818117e-34, 1.00451886e-23, 3.47509676e-40, 9.99999999e-01,\n",
       "        2.50973335e-22, 7.86101115e-13],\n",
       "       [1.00000000e+00, 8.79628093e-58, 2.13373750e-30, 6.63582010e-22,\n",
       "        1.36081259e-25, 3.02435623e-20, 2.14612242e-27, 3.11302164e-49,\n",
       "        1.07962881e-25, 1.69249100e-34],\n",
       "       [1.00000000e+00, 3.91191402e-59, 8.85895758e-25, 9.38083159e-32,\n",
       "        2.23560351e-32, 1.98175776e-24, 8.18272189e-24, 3.44502552e-41,\n",
       "        4.77424948e-21, 1.96772683e-26]])"
      ]
     },
     "metadata": {},
     "output_type": "display_data"
    },
    {
     "name": "stdout",
     "output_type": "stream",
     "text": [
      "CPU times: user 1min 39s, sys: 21.4 s, total: 2min 1s\n",
      "Wall time: 18.6 s\n"
     ]
    }
   ],
   "source": [
    "%%time\n",
    "model = LogisticRegression(max_iter=5000)\n",
    "model.fit(X_train,y_train)\n",
    "y_pred = model.predict(X_test)\n",
    "proba_ = model.predict_proba(X_test)\n",
    "display('预测值类别是：',y_pred[:20])\n",
    "display('预测值概率是：', proba_[:20])"
   ]
  },
  {
   "cell_type": "code",
   "execution_count": 11,
   "id": "7afe88c8",
   "metadata": {
    "ExecuteTime": {
     "end_time": "2022-04-22T03:13:18.367587Z",
     "start_time": "2022-04-22T03:13:18.344843Z"
    }
   },
   "outputs": [
    {
     "data": {
      "text/plain": [
       "0.89"
      ]
     },
     "execution_count": 11,
     "metadata": {},
     "output_type": "execute_result"
    }
   ],
   "source": [
    "model.score(X_test,y_test)"
   ]
  },
  {
   "cell_type": "markdown",
   "id": "02566cb0",
   "metadata": {},
   "source": [
    "## 手动计算概率"
   ]
  },
  {
   "cell_type": "code",
   "execution_count": 12,
   "id": "69b976bd",
   "metadata": {
    "ExecuteTime": {
     "end_time": "2022-04-22T03:14:08.917542Z",
     "start_time": "2022-04-22T03:14:08.897144Z"
    }
   },
   "outputs": [
    {
     "data": {
      "text/plain": [
       "array([[0., 0., 0., ..., 0., 0., 0.],\n",
       "       [0., 0., 0., ..., 0., 0., 0.],\n",
       "       [0., 0., 0., ..., 0., 0., 0.],\n",
       "       ...,\n",
       "       [0., 0., 0., ..., 0., 0., 0.],\n",
       "       [0., 0., 0., ..., 0., 0., 0.],\n",
       "       [0., 0., 0., ..., 0., 0., 0.]])"
      ]
     },
     "metadata": {},
     "output_type": "display_data"
    },
    {
     "data": {
      "text/plain": [
       "(10, 784)"
      ]
     },
     "metadata": {},
     "output_type": "display_data"
    },
    {
     "data": {
      "text/plain": [
       "array([ -0.47116633,   1.82932508,   0.70312888,  -1.44718654,\n",
       "         1.59367031,  11.55574812,  -0.10716723,   2.43526481,\n",
       "       -13.9588814 ,  -2.13273571])"
      ]
     },
     "metadata": {},
     "output_type": "display_data"
    }
   ],
   "source": [
    "w_ = model.coef_\n",
    "b_ = model.intercept_\n",
    "display(w_,w_.shape)\n",
    "display(b_)"
   ]
  },
  {
   "cell_type": "code",
   "execution_count": 13,
   "id": "4a970d3c",
   "metadata": {
    "ExecuteTime": {
     "end_time": "2022-04-22T03:19:33.118720Z",
     "start_time": "2022-04-22T03:19:33.086656Z"
    }
   },
   "outputs": [
    {
     "data": {
      "text/html": [
       "<div>\n",
       "<style scoped>\n",
       "    .dataframe tbody tr th:only-of-type {\n",
       "        vertical-align: middle;\n",
       "    }\n",
       "\n",
       "    .dataframe tbody tr th {\n",
       "        vertical-align: top;\n",
       "    }\n",
       "\n",
       "    .dataframe thead th {\n",
       "        text-align: right;\n",
       "    }\n",
       "</style>\n",
       "<table border=\"1\" class=\"dataframe\">\n",
       "  <thead>\n",
       "    <tr style=\"text-align: right;\">\n",
       "      <th></th>\n",
       "      <th>0</th>\n",
       "      <th>1</th>\n",
       "      <th>2</th>\n",
       "      <th>3</th>\n",
       "      <th>4</th>\n",
       "      <th>5</th>\n",
       "      <th>6</th>\n",
       "      <th>7</th>\n",
       "      <th>8</th>\n",
       "      <th>9</th>\n",
       "    </tr>\n",
       "  </thead>\n",
       "  <tbody>\n",
       "    <tr>\n",
       "      <th>8230</th>\n",
       "      <td>2.903042e-42</td>\n",
       "      <td>2.293741e-58</td>\n",
       "      <td>5.236239e-20</td>\n",
       "      <td>1.467923e-56</td>\n",
       "      <td>2.497525e-15</td>\n",
       "      <td>6.359879e-40</td>\n",
       "      <td>1.000000e+00</td>\n",
       "      <td>7.325845e-35</td>\n",
       "      <td>1.204054e-36</td>\n",
       "      <td>1.180527e-32</td>\n",
       "    </tr>\n",
       "    <tr>\n",
       "      <th>21200</th>\n",
       "      <td>7.238993e-25</td>\n",
       "      <td>1.000000e+00</td>\n",
       "      <td>6.738026e-12</td>\n",
       "      <td>2.643682e-11</td>\n",
       "      <td>2.611327e-23</td>\n",
       "      <td>1.065891e-16</td>\n",
       "      <td>5.916926e-21</td>\n",
       "      <td>2.270179e-18</td>\n",
       "      <td>4.547828e-12</td>\n",
       "      <td>1.467584e-20</td>\n",
       "    </tr>\n",
       "    <tr>\n",
       "      <th>10004</th>\n",
       "      <td>5.926637e-32</td>\n",
       "      <td>1.431580e-27</td>\n",
       "      <td>4.249421e-04</td>\n",
       "      <td>9.995750e-01</td>\n",
       "      <td>1.565859e-51</td>\n",
       "      <td>4.081701e-21</td>\n",
       "      <td>3.049166e-08</td>\n",
       "      <td>2.196144e-20</td>\n",
       "      <td>3.020284e-14</td>\n",
       "      <td>5.496065e-26</td>\n",
       "    </tr>\n",
       "    <tr>\n",
       "      <th>15092</th>\n",
       "      <td>1.220229e-20</td>\n",
       "      <td>3.524390e-18</td>\n",
       "      <td>1.896191e-16</td>\n",
       "      <td>9.999993e-01</td>\n",
       "      <td>1.079180e-11</td>\n",
       "      <td>6.420471e-07</td>\n",
       "      <td>5.389237e-20</td>\n",
       "      <td>8.349021e-29</td>\n",
       "      <td>9.235337e-08</td>\n",
       "      <td>3.197125e-25</td>\n",
       "    </tr>\n",
       "    <tr>\n",
       "      <th>6079</th>\n",
       "      <td>1.000000e+00</td>\n",
       "      <td>3.173841e-65</td>\n",
       "      <td>2.785673e-19</td>\n",
       "      <td>1.822992e-20</td>\n",
       "      <td>8.574352e-60</td>\n",
       "      <td>1.666189e-15</td>\n",
       "      <td>2.478188e-32</td>\n",
       "      <td>2.250944e-70</td>\n",
       "      <td>3.745586e-21</td>\n",
       "      <td>6.992117e-60</td>\n",
       "    </tr>\n",
       "    <tr>\n",
       "      <th>28719</th>\n",
       "      <td>3.085389e-21</td>\n",
       "      <td>5.518157e-23</td>\n",
       "      <td>5.491857e-16</td>\n",
       "      <td>1.183459e-15</td>\n",
       "      <td>1.000000e+00</td>\n",
       "      <td>2.206994e-08</td>\n",
       "      <td>1.556638e-11</td>\n",
       "      <td>2.386630e-13</td>\n",
       "      <td>2.791301e-20</td>\n",
       "      <td>5.122034e-12</td>\n",
       "    </tr>\n",
       "    <tr>\n",
       "      <th>31836</th>\n",
       "      <td>9.999937e-01</td>\n",
       "      <td>1.793823e-52</td>\n",
       "      <td>2.899755e-07</td>\n",
       "      <td>7.727021e-23</td>\n",
       "      <td>4.122562e-36</td>\n",
       "      <td>9.818263e-20</td>\n",
       "      <td>6.059399e-06</td>\n",
       "      <td>1.839322e-33</td>\n",
       "      <td>1.637716e-16</td>\n",
       "      <td>3.103725e-19</td>\n",
       "    </tr>\n",
       "    <tr>\n",
       "      <th>12937</th>\n",
       "      <td>7.175358e-39</td>\n",
       "      <td>3.062265e-37</td>\n",
       "      <td>2.128762e-33</td>\n",
       "      <td>2.100551e-03</td>\n",
       "      <td>1.499061e-14</td>\n",
       "      <td>4.079457e-12</td>\n",
       "      <td>1.288305e-29</td>\n",
       "      <td>1.541849e-03</td>\n",
       "      <td>1.366112e-14</td>\n",
       "      <td>9.963576e-01</td>\n",
       "    </tr>\n",
       "    <tr>\n",
       "      <th>35320</th>\n",
       "      <td>4.066836e-48</td>\n",
       "      <td>4.148173e-41</td>\n",
       "      <td>2.546197e-31</td>\n",
       "      <td>2.546807e-40</td>\n",
       "      <td>1.000000e+00</td>\n",
       "      <td>7.817738e-38</td>\n",
       "      <td>2.337323e-27</td>\n",
       "      <td>2.694651e-19</td>\n",
       "      <td>1.115380e-22</td>\n",
       "      <td>2.134991e-10</td>\n",
       "    </tr>\n",
       "    <tr>\n",
       "      <th>32385</th>\n",
       "      <td>1.000000e+00</td>\n",
       "      <td>1.836797e-64</td>\n",
       "      <td>1.819728e-34</td>\n",
       "      <td>7.872034e-40</td>\n",
       "      <td>2.705622e-82</td>\n",
       "      <td>1.662788e-19</td>\n",
       "      <td>4.569012e-51</td>\n",
       "      <td>4.603703e-78</td>\n",
       "      <td>3.435547e-39</td>\n",
       "      <td>3.830004e-75</td>\n",
       "    </tr>\n",
       "  </tbody>\n",
       "</table>\n",
       "</div>"
      ],
      "text/plain": [
       "                  0             1             2             3             4  \\\n",
       "8230   2.903042e-42  2.293741e-58  5.236239e-20  1.467923e-56  2.497525e-15   \n",
       "21200  7.238993e-25  1.000000e+00  6.738026e-12  2.643682e-11  2.611327e-23   \n",
       "10004  5.926637e-32  1.431580e-27  4.249421e-04  9.995750e-01  1.565859e-51   \n",
       "15092  1.220229e-20  3.524390e-18  1.896191e-16  9.999993e-01  1.079180e-11   \n",
       "6079   1.000000e+00  3.173841e-65  2.785673e-19  1.822992e-20  8.574352e-60   \n",
       "28719  3.085389e-21  5.518157e-23  5.491857e-16  1.183459e-15  1.000000e+00   \n",
       "31836  9.999937e-01  1.793823e-52  2.899755e-07  7.727021e-23  4.122562e-36   \n",
       "12937  7.175358e-39  3.062265e-37  2.128762e-33  2.100551e-03  1.499061e-14   \n",
       "35320  4.066836e-48  4.148173e-41  2.546197e-31  2.546807e-40  1.000000e+00   \n",
       "32385  1.000000e+00  1.836797e-64  1.819728e-34  7.872034e-40  2.705622e-82   \n",
       "\n",
       "                  5             6             7             8             9  \n",
       "8230   6.359879e-40  1.000000e+00  7.325845e-35  1.204054e-36  1.180527e-32  \n",
       "21200  1.065891e-16  5.916926e-21  2.270179e-18  4.547828e-12  1.467584e-20  \n",
       "10004  4.081701e-21  3.049166e-08  2.196144e-20  3.020284e-14  5.496065e-26  \n",
       "15092  6.420471e-07  5.389237e-20  8.349021e-29  9.235337e-08  3.197125e-25  \n",
       "6079   1.666189e-15  2.478188e-32  2.250944e-70  3.745586e-21  6.992117e-60  \n",
       "28719  2.206994e-08  1.556638e-11  2.386630e-13  2.791301e-20  5.122034e-12  \n",
       "31836  9.818263e-20  6.059399e-06  1.839322e-33  1.637716e-16  3.103725e-19  \n",
       "12937  4.079457e-12  1.288305e-29  1.541849e-03  1.366112e-14  9.963576e-01  \n",
       "35320  7.817738e-38  2.337323e-27  2.694651e-19  1.115380e-22  2.134991e-10  \n",
       "32385  1.662788e-19  4.569012e-51  4.603703e-78  3.435547e-39  3.830004e-75  "
      ]
     },
     "execution_count": 13,
     "metadata": {},
     "output_type": "execute_result"
    }
   ],
   "source": [
    "z = X_test.dot(w_.T) + b_\n",
    "\n",
    "def softmax(z):\n",
    "    return np.exp(z)/np.exp(z).sum(axis=1).values.reshape(-1,1)\n",
    "softmax(z)[:10]"
   ]
  }
 ],
 "metadata": {
  "hide_input": false,
  "kernelspec": {
   "display_name": "Python 3 (ipykernel)",
   "language": "python",
   "name": "python3"
  },
  "language_info": {
   "codemirror_mode": {
    "name": "ipython",
    "version": 3
   },
   "file_extension": ".py",
   "mimetype": "text/x-python",
   "name": "python",
   "nbconvert_exporter": "python",
   "pygments_lexer": "ipython3",
   "version": "3.9.7"
  },
  "nbTranslate": {
   "displayLangs": [
    "*"
   ],
   "hotkey": "alt-t",
   "langInMainMenu": true,
   "sourceLang": "en",
   "targetLang": "fr",
   "useGoogleTranslate": true
  },
  "toc": {
   "base_numbering": 1,
   "nav_menu": {},
   "number_sections": true,
   "sideBar": true,
   "skip_h1_title": false,
   "title_cell": "Table of Contents",
   "title_sidebar": "Contents",
   "toc_cell": false,
   "toc_position": {
    "height": "calc(100% - 180px)",
    "left": "10px",
    "top": "150px",
    "width": "273.59375px"
   },
   "toc_section_display": true,
   "toc_window_display": true
  },
  "varInspector": {
   "cols": {
    "lenName": 16,
    "lenType": 16,
    "lenVar": 40
   },
   "kernels_config": {
    "python": {
     "delete_cmd_postfix": "",
     "delete_cmd_prefix": "del ",
     "library": "var_list.py",
     "varRefreshCmd": "print(var_dic_list())"
    },
    "r": {
     "delete_cmd_postfix": ") ",
     "delete_cmd_prefix": "rm(",
     "library": "var_list.r",
     "varRefreshCmd": "cat(var_dic_list()) "
    }
   },
   "types_to_exclude": [
    "module",
    "function",
    "builtin_function_or_method",
    "instance",
    "_Feature"
   ],
   "window_display": false
  }
 },
 "nbformat": 4,
 "nbformat_minor": 5
}
