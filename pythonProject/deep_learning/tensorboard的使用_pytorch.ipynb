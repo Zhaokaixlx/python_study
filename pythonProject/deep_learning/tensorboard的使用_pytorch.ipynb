{
 "cells": [
  {
   "cell_type": "code",
   "execution_count": 1,
   "id": "e3b512ed",
   "metadata": {
    "ExecuteTime": {
     "end_time": "2022-06-19T02:50:14.212184Z",
     "start_time": "2022-06-19T02:50:13.119202Z"
    }
   },
   "outputs": [],
   "source": [
    "import matplotlib.pyplot as plt\n",
    "import numpy as np\n",
    "\n",
    "import torch\n",
    "import torchvision\n",
    "import torchvision.transforms as transforms\n",
    "\n",
    "import torch.nn as nn\n",
    "import torch.nn.functional as F\n",
    "import torch.optim as optim\n",
    "\n",
    "# transforms\n",
    "transform = transforms.Compose(\n",
    "    [transforms.ToTensor(),\n",
    "    transforms.Normalize((0.5,), (0.5,))])\n",
    "\n",
    "# datasets\n",
    "trainset = torchvision.datasets.FashionMNIST('./data',\n",
    "    download=True,\n",
    "    train=True,\n",
    "    transform=transform)\n",
    "testset = torchvision.datasets.FashionMNIST('./data',\n",
    "    download=True,\n",
    "    train=False,\n",
    "    transform=transform)\n",
    "\n",
    "# dataloaders\n",
    "trainloader = torch.utils.data.DataLoader(trainset, batch_size=4,\n",
    "                                        shuffle=True, num_workers=2)\n",
    "\n",
    "\n",
    "testloader = torch.utils.data.DataLoader(testset, batch_size=4,\n",
    "                                        shuffle=False, num_workers=2)\n",
    "\n",
    "# constant for classes\n",
    "classes = ('T-shirt/top', 'Trouser', 'Pullover', 'Dress', 'Coat',\n",
    "        'Sandal', 'Shirt', 'Sneaker', 'Bag', 'Ankle Boot')\n",
    "\n",
    "\n",
    "def matplotlib_imshow(img, one_channel=False):\n",
    "    if one_channel:\n",
    "        img = img.mean(dim=0)\n",
    "    img = img / 2 + 0.5 # 反正则    \n",
    "    npimg = img.numpy()\n",
    "    if one_channel:\n",
    "        plt.imshow(npimg, cmap=\"Greys\")\n",
    "    else:\n",
    "        plt.imshow(np.transpose(npimg, (1, 2, 0)))"
   ]
  },
  {
   "cell_type": "code",
   "execution_count": 2,
   "id": "52ed1519",
   "metadata": {
    "ExecuteTime": {
     "end_time": "2022-06-19T02:50:45.568348Z",
     "start_time": "2022-06-19T02:50:45.559370Z"
    }
   },
   "outputs": [],
   "source": [
    "# 定义模型\n",
    "class Net(nn.Module):\n",
    "    def __init__(self):\n",
    "        super(Net, self).__init__()\n",
    "        self.conv1 = nn.Conv2d(1, 6, 5)\n",
    "        self.pool = nn.MaxPool2d(2, 2)\n",
    "        self.conv2 = nn.Conv2d(6, 16, 5)\n",
    "        self.fc1 = nn.Linear(16 * 4 * 4, 120)\n",
    "        self.fc2 = nn.Linear(120, 84)\n",
    "        self.fc3 = nn.Linear(84, 10)\n",
    "\n",
    "    def forward(self, x):\n",
    "        x = self.pool(F.relu(self.conv1(x)))\n",
    "        x = self.pool(F.relu(self.conv2(x)))\n",
    "        x = x.view(-1, 16 * 4 * 4)\n",
    "        x = F.relu(self.fc1(x))\n",
    "        x = F.relu(self.fc2(x))\n",
    "        x = self.fc3(x)\n",
    "        return x\n",
    "\n",
    "\n",
    "net = Net()"
   ]
  },
  {
   "cell_type": "code",
   "execution_count": 3,
   "id": "af679702",
   "metadata": {
    "ExecuteTime": {
     "end_time": "2022-06-19T02:50:52.564648Z",
     "start_time": "2022-06-19T02:50:52.554558Z"
    }
   },
   "outputs": [],
   "source": [
    "# 定义损失和优化器\n",
    "criterion = nn.CrossEntropyLoss()\n",
    "optimizer = optim.SGD(net.parameters(), lr=0.001, momentum=0.9)"
   ]
  },
  {
   "cell_type": "markdown",
   "id": "aa2576f3",
   "metadata": {},
   "source": [
    "# tensorboard的安装"
   ]
  },
  {
   "cell_type": "code",
   "execution_count": null,
   "id": "c41b302a",
   "metadata": {},
   "outputs": [],
   "source": [
    "# 进入虚拟环境\n",
    "pip install tensorboard -i https://pypi.douban.com/simple"
   ]
  },
  {
   "cell_type": "markdown",
   "id": "54f42a96",
   "metadata": {},
   "source": [
    "# tensorboard的使用"
   ]
  },
  {
   "cell_type": "markdown",
   "id": "1ba0c241",
   "metadata": {},
   "source": [
    "## 添加图片"
   ]
  },
  {
   "cell_type": "code",
   "execution_count": 4,
   "id": "e76a36f9",
   "metadata": {
    "ExecuteTime": {
     "end_time": "2022-06-19T03:02:27.737504Z",
     "start_time": "2022-06-19T03:02:26.695879Z"
    }
   },
   "outputs": [],
   "source": [
    "dataiter = iter(trainloader)\n",
    "images, lables = next(dataiter)"
   ]
  },
  {
   "cell_type": "code",
   "execution_count": 5,
   "id": "bfecdbec",
   "metadata": {
    "ExecuteTime": {
     "end_time": "2022-06-19T03:02:38.972394Z",
     "start_time": "2022-06-19T03:02:38.960426Z"
    }
   },
   "outputs": [
    {
     "data": {
      "text/plain": [
       "torch.Size([4, 1, 28, 28])"
      ]
     },
     "execution_count": 5,
     "metadata": {},
     "output_type": "execute_result"
    }
   ],
   "source": [
    "images.shape"
   ]
  },
  {
   "cell_type": "code",
   "execution_count": 6,
   "id": "0a7303da",
   "metadata": {
    "ExecuteTime": {
     "end_time": "2022-06-19T03:02:46.243684Z",
     "start_time": "2022-06-19T03:02:46.230693Z"
    }
   },
   "outputs": [],
   "source": [
    "# torchvision中make_grid可以把多张图合并成一张图. \n",
    "img_grid = torchvision.utils.make_grid(images)"
   ]
  },
  {
   "cell_type": "code",
   "execution_count": 7,
   "id": "8904b78d",
   "metadata": {
    "ExecuteTime": {
     "end_time": "2022-06-19T03:03:13.434319Z",
     "start_time": "2022-06-19T03:03:13.426340Z"
    }
   },
   "outputs": [
    {
     "data": {
      "text/plain": [
       "torch.Size([3, 32, 122])"
      ]
     },
     "execution_count": 7,
     "metadata": {},
     "output_type": "execute_result"
    }
   ],
   "source": [
    "img_grid.shape"
   ]
  },
  {
   "cell_type": "code",
   "execution_count": 8,
   "id": "37b51bda",
   "metadata": {
    "ExecuteTime": {
     "end_time": "2022-06-19T03:05:59.025317Z",
     "start_time": "2022-06-19T03:05:59.018310Z"
    }
   },
   "outputs": [
    {
     "data": {
      "text/plain": [
       "torch.Size([3, 32, 122])"
      ]
     },
     "execution_count": 8,
     "metadata": {},
     "output_type": "execute_result"
    }
   ],
   "source": [
    "img_grid.shape"
   ]
  },
  {
   "cell_type": "code",
   "execution_count": 10,
   "id": "5946f71e",
   "metadata": {
    "ExecuteTime": {
     "end_time": "2022-06-19T03:21:00.207967Z",
     "start_time": "2022-06-19T03:21:00.090225Z"
    }
   },
   "outputs": [
    {
     "data": {
      "image/png": "[encoded data removed]",
      "text/plain": [
       "<Figure size 432x288 with 1 Axes>"
      ]
     },
     "metadata": {
      "needs_background": "light"
     },
     "output_type": "display_data"
    }
   ],
   "source": [
    "matplotlib_imshow(img_grid, one_channel=True)"
   ]
  },
  {
   "cell_type": "code",
   "execution_count": 9,
   "id": "c4dd7fd8",
   "metadata": {
    "ExecuteTime": {
     "end_time": "2022-06-19T03:06:15.824949Z",
     "start_time": "2022-06-19T03:06:15.816889Z"
    }
   },
   "outputs": [],
   "source": [
    "from torch.utils.tensorboard import SummaryWriter"
   ]
  },
  {
   "cell_type": "code",
   "execution_count": null,
   "id": "d62a2df4",
   "metadata": {},
   "outputs": [],
   "source": [
    "writer = SummaryWriter(r'C:\\Users\\Administrator\\Desktop\\data\\deep_learning\\fashion_mnist_experiment_1')\n",
    "writer.add_image('four_fashion_mnist_images', img_grid)"
   ]
  },
  {
   "cell_type": "code",
   "execution_count": null,
   "id": "ee6b7860",
   "metadata": {},
   "outputs": [],
   "source": [
    "images, lables = next(dataiter)\n",
    "img_grid2 = torchvision.utils.make_grid(images)\n",
    "matplotlib_imshow(img_grid2, one_channel=True)\n",
    "writer.add_image('img_grid2', img_grid2)"
   ]
  },
  {
   "cell_type": "markdown",
   "id": "674794ba",
   "metadata": {},
   "source": [
    "## 添加模型结构图"
   ]
  },
  {
   "cell_type": "code",
   "execution_count": null,
   "id": "84b347d7",
   "metadata": {},
   "outputs": [],
   "source": [
    "writer.add_graph(net, images)"
   ]
  },
  {
   "cell_type": "markdown",
   "id": "ebeea022",
   "metadata": {},
   "source": [
    "## 添加损失的变化"
   ]
  },
  {
   "cell_type": "code",
   "execution_count": null,
   "id": "71c644cc",
   "metadata": {},
   "outputs": [],
   "source": [
    "# writer.add_scalar()\n",
    "running_loss = 0.0\n",
    "for epoch in range(1):  # loop over the dataset multiple times\n",
    "\n",
    "    for i, data in enumerate(trainloader, 0):\n",
    "\n",
    "        # get the inputs; data is a list of [inputs, labels]\n",
    "        inputs, labels = data\n",
    "\n",
    "        # zero the parameter gradients\n",
    "        optimizer.zero_grad()\n",
    "\n",
    "        # forward + backward + optimize\n",
    "        outputs = net(inputs)\n",
    "        loss = criterion(outputs, labels)\n",
    "        loss.backward()\n",
    "        optimizer.step()\n",
    "\n",
    "        running_loss += loss.item()\n",
    "        if i % 1000 == 999:    # every 1000 mini-batches...\n",
    "\n",
    "            # ...log the running loss\n",
    "            writer.add_scalar('training loss',\n",
    "                            running_loss / 1000,\n",
    "                            epoch * len(trainloader) + i)\n",
    "\n",
    "            running_loss = 0.0\n",
    "print('Finished Training')"
   ]
  }
 ],
 "metadata": {
  "hide_input": false,
  "kernelspec": {
   "display_name": "Python 3 (ipykernel)",
   "language": "python",
   "name": "python3"
  },
  "language_info": {
   "codemirror_mode": {
    "name": "ipython",
    "version": 3
   },
   "file_extension": ".py",
   "mimetype": "text/x-python",
   "name": "python",
   "nbconvert_exporter": "python",
   "pygments_lexer": "ipython3",
   "version": "3.9.7"
  },
  "latex_envs": {
   "LaTeX_envs_menu_present": true,
   "autoclose": false,
   "autocomplete": true,
   "bibliofile": "biblio.bib",
   "cite_by": "apalike",
   "current_citInitial": 1,
   "eqLabelWithNumbers": true,
   "eqNumInitial": 1,
   "hotkeys": {
    "equation": "Ctrl-E",
    "itemize": "Ctrl-I"
   },
   "labels_anchors": false,
   "latex_user_defs": false,
   "report_style_numbering": false,
   "user_envs_cfg": false
  },
  "nbTranslate": {
   "displayLangs": [
    "*"
   ],
   "hotkey": "alt-t",
   "langInMainMenu": true,
   "sourceLang": "en",
   "targetLang": "fr",
   "useGoogleTranslate": true
  },
  "toc": {
   "base_numbering": 1,
   "nav_menu": {},
   "number_sections": true,
   "sideBar": true,
   "skip_h1_title": false,
   "title_cell": "Table of Contents",
   "title_sidebar": "Contents",
   "toc_cell": false,
   "toc_position": {},
   "toc_section_display": true,
   "toc_window_display": false
  },
  "varInspector": {
   "cols": {
    "lenName": 16,
    "lenType": 16,
    "lenVar": 40
   },
   "kernels_config": {
    "python": {
     "delete_cmd_postfix": "",
     "delete_cmd_prefix": "del ",
     "library": "var_list.py",
     "varRefreshCmd": "print(var_dic_list())"
    },
    "r": {
     "delete_cmd_postfix": ") ",
     "delete_cmd_prefix": "rm(",
     "library": "var_list.r",
     "varRefreshCmd": "cat(var_dic_list()) "
    }
   },
   "types_to_exclude": [
    "module",
    "function",
    "builtin_function_or_method",
    "instance",
    "_Feature"
   ],
   "window_display": false
  }
 },
 "nbformat": 4,
 "nbformat_minor": 5
}
