{
 "cells": [
  {
   "cell_type": "code",
   "execution_count": 2,
   "id": "93b06aab",
   "metadata": {
    "ExecuteTime": {
     "end_time": "2022-06-07T06:56:32.579612Z",
     "start_time": "2022-06-07T06:56:32.308189Z"
    }
   },
   "outputs": [],
   "source": [
    "from tensorflow import keras\n",
    "import tensorflow as tf\n",
    "import numpy as np\n",
    "import pandas as pd\n",
    "import matplotlib.pyplot as plt"
   ]
  },
  {
   "cell_type": "markdown",
   "id": "5a571267",
   "metadata": {},
   "source": [
    "# 构建Inception"
   ]
  },
  {
   "cell_type": "code",
   "execution_count": 5,
   "id": "eab243c2",
   "metadata": {
    "ExecuteTime": {
     "end_time": "2022-06-07T07:17:45.917484Z",
     "start_time": "2022-06-07T07:17:45.899502Z"
    }
   },
   "outputs": [],
   "source": [
    "class Inception(keras.layers.Layer):\n",
    "    def __init__(self, ch1x1, ch3x3red, ch3x3, ch5x5red, ch5x5, pool_proj, **kwargs):\n",
    "        super().__init__(**kwargs)\n",
    "        self.branch1 = keras.layers.Conv2D(ch1x1, kernel_size=1, activation='relu')\n",
    "        \n",
    "        self.branch2 = keras.Sequential([\n",
    "            keras.layers.Conv2D(ch3x3red, kernel_size=1, activation='relu'),\n",
    "            keras.layers.Conv2D(ch3x3, kernel_size=3, padding='SAME', activation='relu')\n",
    "        ])\n",
    "        \n",
    "        self.branch3 = keras.Sequential([\n",
    "            keras.layers.Conv2D(ch5x5red, kernel_size=1, activation='relu'),\n",
    "            keras.layers.Conv2D(ch5x5, kernel_size=5, padding='SAME', activation='relu')\n",
    "        ])\n",
    "        \n",
    "        self.branch4 = keras.Sequential([\n",
    "            keras.layers.MaxPool2D(pool_size=3, strides=1, padding='SAME'),\n",
    "            keras.layers.Conv2D(pool_proj, kernel_size=1, activation='relu')\n",
    "        ])\n",
    "        \n",
    "    def call(self, inputs, **kwargs):\n",
    "        branch1 = self.branch1(inputs)\n",
    "        branch2 = self.branch2(inputs)\n",
    "        branch3 = self.branch3(inputs)\n",
    "        branch4 = self.branch4(inputs)\n",
    "        outputs = keras.layers.concatenate([branch1, branch2, branch3, branch4])\n",
    "        return outputs"
   ]
  },
  {
   "cell_type": "markdown",
   "id": "909f7f16",
   "metadata": {},
   "source": [
    "# 定义辅助输出结构"
   ]
  },
  {
   "cell_type": "code",
   "execution_count": 6,
   "id": "db653338",
   "metadata": {
    "ExecuteTime": {
     "end_time": "2022-06-07T07:28:49.961984Z",
     "start_time": "2022-06-07T07:28:49.944032Z"
    }
   },
   "outputs": [],
   "source": [
    "class InceptionAux(keras.layers.Layer):\n",
    "    def __init__(self, num_classes, **kwargs):\n",
    "        super().__init__(**kwargs)\n",
    "        self.average_pool = keras.layers.AvgPool2D(pool_size=5, strides=3)\n",
    "        self.conv = keras.layers.Conv2D(128, kernel_size=1, activation='relu')\n",
    "        \n",
    "        self.fc1 = keras.layers.Dense(1024, activation='relu')\n",
    "        self.fc2 = keras.layers.Dense(num_classes)\n",
    "        self.softmax = keras.layers.Softmax()\n",
    "        \n",
    "    def call(self, inputs, **kwargs):\n",
    "        x = self.average_pool(inputs)\n",
    "        x = self.conv(x)\n",
    "        x = keras.layers.Flatten()(x)\n",
    "        x = keras.layers.Dropout(rate=0.5)(x)\n",
    "        x = self.fc1(x)\n",
    "        x = keras.layers.Dropout(rate=0.5)(x)\n",
    "        x = self.fc2(x)\n",
    "        x = self.softmax(x)\n",
    "        return x"
   ]
  },
  {
   "cell_type": "markdown",
   "id": "39a047dc",
   "metadata": {},
   "source": [
    "# 定义网络"
   ]
  },
  {
   "cell_type": "code",
   "execution_count": 7,
   "id": "26e513cf",
   "metadata": {
    "ExecuteTime": {
     "end_time": "2022-06-07T07:52:05.488920Z",
     "start_time": "2022-06-07T07:52:05.468468Z"
    }
   },
   "outputs": [],
   "source": [
    "def GoogLeNet(im_height=224, im_width=224, class_num=1000, aux_logits=False):\n",
    "    input_image = keras.layers.Input(shape=(im_height, im_width, 3), dtype='float32')\n",
    "    x = keras.layers.Conv2D(64, kernel_size=7, strides=2, padding='SAME', activation='relu')(input_image)\n",
    "    # 注意MaxPool2D, padding='SAME', 224/2=112, padding='VALID', (224 -(3 -1 )) / 2 = 111, same向上取整. \n",
    "    x = keras.layers.MaxPool2D(pool_size=3, strides=2, padding='SAME')(x)\n",
    "    x = keras.layers.Conv2D(64, kernel_size=1, strides=1, padding='SAME', activation='relu')(x)\n",
    "    x = keras.layers.Conv2D(192, kernel_size=3, strides=1, padding='SAME', activation='relu')(x)\n",
    "    x = keras.layers.MaxPool2D(pool_size=3, strides=2, padding='SAME')(x)\n",
    "    \n",
    "    x = Inception(64, 96, 128, 16, 32, 32, name='inception_3a')(x)\n",
    "    x = Inception(128, 128, 192, 32, 96, 64, name='inception_3b')(x)\n",
    "    \n",
    "    x = keras.layers.MaxPool2D(pool_size=3, strides=2, padding='SAME')(x)\n",
    "    x = Inception(192, 96, 208, 16, 48, 64, name='inception_4a')(x)\n",
    "    \n",
    "    if aux_logits:\n",
    "        aux1 = InceptionAux(class_num, name='aux_1')(x)\n",
    "        \n",
    "    x = Inception(160, 112, 224, 24, 64, 64, name='inception_4b')(x)\n",
    "    x = Inception(128, 128, 256, 24, 64, 64, name='inception_4c')(x)\n",
    "    x = Inception(112, 144, 288, 32, 64, 64, name='inception_4d')(x)\n",
    "    \n",
    "    if aux_logits:\n",
    "        aux2 = InceptionAux(class_num, name='aux_2')(x)\n",
    "        \n",
    "    x = Inception(256, 160, 320, 32, 128, 128, name='inception_4e')(x)\n",
    "    \n",
    "    x = keras.layers.MaxPool2D(pool_size=3, strides=2, padding='SAME')(x)\n",
    "    \n",
    "    x = Inception(256, 160, 320, 32, 128, 128, name='inception_5a')(x)\n",
    "    x = Inception(384, 192, 384, 48, 128, 128, name='inception_5b')(x)\n",
    "    \n",
    "    x = keras.layers.AvgPool2D(pool_size=7, strides=1)(x)\n",
    "    \n",
    "    x = keras.layers.Flatten()(x)\n",
    "    \n",
    "    x = keras.layers.Dropout(rate=0.4)(x)\n",
    "    x = keras.layers.Dense(class_num)(x)\n",
    "    aux3 = keras.layers.Softmax(name='aux_3')(x)\n",
    "    \n",
    "    if aux_logits:\n",
    "        aux = aux1 * 0.2 + aux2 * 0.3 + aux3 * 0.5\n",
    "        model = keras.models.Model(inputs=input_image, outputs=aux)\n",
    "    else:\n",
    "        model = keras.models.Model(inputs=input_image, outputs=aux3)\n",
    "    return model"
   ]
  },
  {
   "cell_type": "markdown",
   "id": "3b43b7c0",
   "metadata": {},
   "source": [
    "# 数据预处理和导入"
   ]
  },
  {
   "cell_type": "code",
   "execution_count": 8,
   "id": "1caadcd0",
   "metadata": {
    "ExecuteTime": {
     "end_time": "2022-06-07T07:54:42.861333Z",
     "start_time": "2022-06-07T07:54:42.762627Z"
    }
   },
   "outputs": [
    {
     "name": "stdout",
     "output_type": "stream",
     "text": [
      "Found 1098 images belonging to 10 classes.\n",
      "Found 272 images belonging to 10 classes.\n",
      "1098\n",
      "272\n"
     ]
    }
   ],
   "source": [
    "train_dir = r'C:/Users/Administrator/Desktop/data/archive/training/training/'\n",
    "valid_dir =r'C:/Users/Administrator/Desktop/data/archive/validation/validation/'\n",
    "\n",
    "# 图片数据生成器\n",
    "train_datagen = keras.preprocessing.image.ImageDataGenerator(\n",
    "    rescale = 1. / 255,\n",
    "    rotation_range = 40,\n",
    "    width_shift_range = 0.2,\n",
    "    height_shift_range = 0.2,\n",
    "    shear_range = 0.2,\n",
    "    zoom_range = 0.2,\n",
    "    horizontal_flip = True,\n",
    "    vertical_flip = True,\n",
    "    fill_mode = 'nearest'\n",
    ")\n",
    "\n",
    "height = 224\n",
    "width = 224\n",
    "channels = 3\n",
    "batch_size = 32\n",
    "num_classes = 10\n",
    "\n",
    "train_generator = train_datagen.flow_from_directory(train_dir,\n",
    "                                 target_size = (height, width),\n",
    "                                 batch_size = batch_size,\n",
    "                                 shuffle = True,\n",
    "                                 seed = 7,\n",
    "                                 class_mode = 'categorical')\n",
    "\n",
    "valid_datagen = keras.preprocessing.image.ImageDataGenerator(\n",
    "    rescale = 1. / 255\n",
    ")\n",
    "valid_generator = valid_datagen.flow_from_directory(valid_dir,\n",
    "                                 target_size = (height, width),\n",
    "                                 batch_size = batch_size,\n",
    "                                 shuffle = True,\n",
    "                                 seed = 7,\n",
    "                                 class_mode = 'categorical')\n",
    "print(train_generator.samples)\n",
    "print(valid_generator.samples)"
   ]
  },
  {
   "cell_type": "markdown",
   "id": "29a60fb8",
   "metadata": {},
   "source": [
    "# 构建网络"
   ]
  },
  {
   "cell_type": "code",
   "execution_count": 9,
   "id": "ce0323fc",
   "metadata": {
    "ExecuteTime": {
     "end_time": "2022-06-07T07:57:31.368801Z",
     "start_time": "2022-06-07T07:57:28.114034Z"
    }
   },
   "outputs": [],
   "source": [
    "googlenet = GoogLeNet(class_num=10,aux_logits=True)"
   ]
  },
  {
   "cell_type": "code",
   "execution_count": 10,
   "id": "9b064214",
   "metadata": {
    "ExecuteTime": {
     "end_time": "2022-06-07T07:57:49.425819Z",
     "start_time": "2022-06-07T07:57:49.385926Z"
    }
   },
   "outputs": [
    {
     "name": "stdout",
     "output_type": "stream",
     "text": [
      "Model: \"model\"\n",
      "__________________________________________________________________________________________________\n",
      " Layer (type)                   Output Shape         Param #     Connected to                     \n",
      "==================================================================================================\n",
      " input_1 (InputLayer)           [(None, 224, 224, 3  0           []                               \n",
      "                                )]                                                                \n",
      "                                                                                                  \n",
      " conv2d (Conv2D)                (None, 112, 112, 64  9472        ['input_1[0][0]']                \n",
      "                                )                                                                 \n",
      "                                                                                                  \n",
      " max_pooling2d (MaxPooling2D)   (None, 56, 56, 64)   0           ['conv2d[0][0]']                 \n",
      "                                                                                                  \n",
      " conv2d_1 (Conv2D)              (None, 56, 56, 64)   4160        ['max_pooling2d[0][0]']          \n",
      "                                                                                                  \n",
      " conv2d_2 (Conv2D)              (None, 56, 56, 192)  110784      ['conv2d_1[0][0]']               \n",
      "                                                                                                  \n",
      " max_pooling2d_1 (MaxPooling2D)  (None, 28, 28, 192)  0          ['conv2d_2[0][0]']               \n",
      "                                                                                                  \n",
      " inception_3a (Inception)       (None, 28, 28, 256)  163696      ['max_pooling2d_1[0][0]']        \n",
      "                                                                                                  \n",
      " inception_3b (Inception)       (None, 28, 28, 480)  388736      ['inception_3a[0][0]']           \n",
      "                                                                                                  \n",
      " max_pooling2d_4 (MaxPooling2D)  (None, 14, 14, 480)  0          ['inception_3b[0][0]']           \n",
      "                                                                                                  \n",
      " inception_4a (Inception)       (None, 14, 14, 512)  376176      ['max_pooling2d_4[0][0]']        \n",
      "                                                                                                  \n",
      " inception_4b (Inception)       (None, 14, 14, 512)  449160      ['inception_4a[0][0]']           \n",
      "                                                                                                  \n",
      " inception_4c (Inception)       (None, 14, 14, 512)  510104      ['inception_4b[0][0]']           \n",
      "                                                                                                  \n",
      " inception_4d (Inception)       (None, 14, 14, 528)  605376      ['inception_4c[0][0]']           \n",
      "                                                                                                  \n",
      " inception_4e (Inception)       (None, 14, 14, 832)  868352      ['inception_4d[0][0]']           \n",
      "                                                                                                  \n",
      " max_pooling2d_10 (MaxPooling2D  (None, 7, 7, 832)   0           ['inception_4e[0][0]']           \n",
      " )                                                                                                \n",
      "                                                                                                  \n",
      " inception_5a (Inception)       (None, 7, 7, 832)    1043456     ['max_pooling2d_10[0][0]']       \n",
      "                                                                                                  \n",
      " inception_5b (Inception)       (None, 7, 7, 1024)   1444080     ['inception_5a[0][0]']           \n",
      "                                                                                                  \n",
      " average_pooling2d_2 (AveragePo  (None, 1, 1, 1024)  0           ['inception_5b[0][0]']           \n",
      " oling2D)                                                                                         \n",
      "                                                                                                  \n",
      " flatten (Flatten)              (None, 1024)         0           ['average_pooling2d_2[0][0]']    \n",
      "                                                                                                  \n",
      " dropout (Dropout)              (None, 1024)         0           ['flatten[0][0]']                \n",
      "                                                                                                  \n",
      " aux_1 (InceptionAux)           (None, 10)           2174090     ['inception_4a[0][0]']           \n",
      "                                                                                                  \n",
      " aux_2 (InceptionAux)           (None, 10)           2176138     ['inception_4d[0][0]']           \n",
      "                                                                                                  \n",
      " dense_4 (Dense)                (None, 10)           10250       ['dropout[0][0]']                \n",
      "                                                                                                  \n",
      " tf.math.multiply (TFOpLambda)  (None, 10)           0           ['aux_1[0][0]']                  \n",
      "                                                                                                  \n",
      " tf.math.multiply_1 (TFOpLambda  (None, 10)          0           ['aux_2[0][0]']                  \n",
      " )                                                                                                \n",
      "                                                                                                  \n",
      " aux_3 (Softmax)                (None, 10)           0           ['dense_4[0][0]']                \n",
      "                                                                                                  \n",
      " tf.__operators__.add (TFOpLamb  (None, 10)          0           ['tf.math.multiply[0][0]',       \n",
      " da)                                                              'tf.math.multiply_1[0][0]']     \n",
      "                                                                                                  \n",
      " tf.math.multiply_2 (TFOpLambda  (None, 10)          0           ['aux_3[0][0]']                  \n",
      " )                                                                                                \n",
      "                                                                                                  \n",
      " tf.__operators__.add_1 (TFOpLa  (None, 10)          0           ['tf.__operators__.add[0][0]',   \n",
      " mbda)                                                            'tf.math.multiply_2[0][0]']     \n",
      "                                                                                                  \n",
      "==================================================================================================\n",
      "Total params: 10,334,030\n",
      "Trainable params: 10,334,030\n",
      "Non-trainable params: 0\n",
      "__________________________________________________________________________________________________\n"
     ]
    }
   ],
   "source": [
    "googlenet.summary()"
   ]
  },
  {
   "cell_type": "code",
   "execution_count": 11,
   "id": "782274f2",
   "metadata": {
    "ExecuteTime": {
     "end_time": "2022-06-07T07:58:42.902130Z",
     "start_time": "2022-06-07T07:58:42.879178Z"
    }
   },
   "outputs": [],
   "source": [
    "googlenet.compile(optimizer='adam', \n",
    "              loss='categorical_crossentropy',\n",
    "              metrics=['acc'])"
   ]
  },
  {
   "cell_type": "markdown",
   "id": "11fee9a5",
   "metadata": {},
   "source": [
    "# 训练网络"
   ]
  },
  {
   "cell_type": "code",
   "execution_count": 12,
   "id": "7b42c799",
   "metadata": {
    "ExecuteTime": {
     "end_time": "2022-06-07T08:14:18.671379Z",
     "start_time": "2022-06-07T08:00:27.142026Z"
    }
   },
   "outputs": [
    {
     "name": "stdout",
     "output_type": "stream",
     "text": [
      "Epoch 1/10\n",
      "34/34 [==============================] - 87s 2s/step - loss: 2.3083 - acc: 0.1013 - val_loss: 2.3018 - val_acc: 0.1133\n",
      "Epoch 2/10\n",
      "34/34 [==============================] - 82s 2s/step - loss: 2.3031 - acc: 0.1098 - val_loss: 2.2887 - val_acc: 0.1133\n",
      "Epoch 3/10\n",
      "34/34 [==============================] - 82s 2s/step - loss: 2.3044 - acc: 0.0919 - val_loss: 2.3021 - val_acc: 0.1055\n",
      "Epoch 4/10\n",
      "34/34 [==============================] - 82s 2s/step - loss: 2.3010 - acc: 0.0994 - val_loss: 2.2884 - val_acc: 0.1016\n",
      "Epoch 5/10\n",
      "34/34 [==============================] - 83s 2s/step - loss: 2.2691 - acc: 0.1839 - val_loss: 2.2467 - val_acc: 0.1406\n",
      "Epoch 6/10\n",
      "34/34 [==============================] - 82s 2s/step - loss: 2.1671 - acc: 0.1886 - val_loss: 2.1048 - val_acc: 0.2031\n",
      "Epoch 7/10\n",
      "34/34 [==============================] - 83s 2s/step - loss: 2.1132 - acc: 0.2083 - val_loss: 2.0490 - val_acc: 0.2578\n",
      "Epoch 8/10\n",
      "34/34 [==============================] - 85s 2s/step - loss: 2.0650 - acc: 0.2158 - val_loss: 2.0973 - val_acc: 0.2188\n",
      "Epoch 9/10\n",
      "34/34 [==============================] - 84s 2s/step - loss: 2.0463 - acc: 0.2139 - val_loss: 2.1115 - val_acc: 0.2148\n",
      "Epoch 10/10\n",
      "34/34 [==============================] - 82s 2s/step - loss: 2.0394 - acc: 0.2430 - val_loss: 2.0270 - val_acc: 0.2266\n"
     ]
    }
   ],
   "source": [
    "history = googlenet.fit(train_generator,\n",
    "                   steps_per_epoch=train_generator.samples // batch_size,\n",
    "                   epochs=10,\n",
    "                   validation_data=valid_generator,\n",
    "                   validation_steps = valid_generator.samples // batch_size\n",
    "                   )"
   ]
  },
  {
   "cell_type": "markdown",
   "id": "97cb8f66",
   "metadata": {},
   "source": [
    "# 预测"
   ]
  },
  {
   "cell_type": "code",
   "execution_count": 16,
   "id": "c9fccfd4",
   "metadata": {
    "ExecuteTime": {
     "end_time": "2022-06-07T08:19:51.066738Z",
     "start_time": "2022-06-07T08:19:51.047822Z"
    }
   },
   "outputs": [
    {
     "data": {
      "text/plain": [
       "{'loss': [2.3082504272460938,\n",
       "  2.3031396865844727,\n",
       "  2.3044490814208984,\n",
       "  2.301003932952881,\n",
       "  2.2691454887390137,\n",
       "  2.167141914367676,\n",
       "  2.113212823867798,\n",
       "  2.065011978149414,\n",
       "  2.0462825298309326,\n",
       "  2.0393829345703125],\n",
       " 'acc': [0.10131332278251648,\n",
       "  0.10975609719753265,\n",
       "  0.09193246066570282,\n",
       "  0.09943714737892151,\n",
       "  0.18386492133140564,\n",
       "  0.18855534493923187,\n",
       "  0.20825515687465668,\n",
       "  0.21575984358787537,\n",
       "  0.2138836830854416,\n",
       "  0.24296435713768005],\n",
       " 'val_loss': [2.301816940307617,\n",
       "  2.288682460784912,\n",
       "  2.3020541667938232,\n",
       "  2.2883920669555664,\n",
       "  2.2466745376586914,\n",
       "  2.1047840118408203,\n",
       "  2.04896879196167,\n",
       "  2.0972814559936523,\n",
       "  2.1115286350250244,\n",
       "  2.0270183086395264],\n",
       " 'val_acc': [0.11328125,\n",
       "  0.11328125,\n",
       "  0.10546875,\n",
       "  0.1015625,\n",
       "  0.140625,\n",
       "  0.203125,\n",
       "  0.2578125,\n",
       "  0.21875,\n",
       "  0.21484375,\n",
       "  0.2265625]}"
      ]
     },
     "execution_count": 16,
     "metadata": {},
     "output_type": "execute_result"
    }
   ],
   "source": [
    "history.history"
   ]
  }
 ],
 "metadata": {
  "hide_input": false,
  "kernelspec": {
   "display_name": "Python 3 (ipykernel)",
   "language": "python",
   "name": "python3"
  },
  "language_info": {
   "codemirror_mode": {
    "name": "ipython",
    "version": 3
   },
   "file_extension": ".py",
   "mimetype": "text/x-python",
   "name": "python",
   "nbconvert_exporter": "python",
   "pygments_lexer": "ipython3",
   "version": "3.9.7"
  },
  "latex_envs": {
   "LaTeX_envs_menu_present": true,
   "autoclose": false,
   "autocomplete": true,
   "bibliofile": "biblio.bib",
   "cite_by": "apalike",
   "current_citInitial": 1,
   "eqLabelWithNumbers": true,
   "eqNumInitial": 1,
   "hotkeys": {
    "equation": "Ctrl-E",
    "itemize": "Ctrl-I"
   },
   "labels_anchors": false,
   "latex_user_defs": false,
   "report_style_numbering": false,
   "user_envs_cfg": false
  },
  "nbTranslate": {
   "displayLangs": [
    "*"
   ],
   "hotkey": "alt-t",
   "langInMainMenu": true,
   "sourceLang": "en",
   "targetLang": "fr",
   "useGoogleTranslate": true
  },
  "toc": {
   "base_numbering": 1,
   "nav_menu": {},
   "number_sections": true,
   "sideBar": true,
   "skip_h1_title": false,
   "title_cell": "Table of Contents",
   "title_sidebar": "Contents",
   "toc_cell": false,
   "toc_position": {},
   "toc_section_display": true,
   "toc_window_display": false
  },
  "varInspector": {
   "cols": {
    "lenName": 16,
    "lenType": 16,
    "lenVar": 40
   },
   "kernels_config": {
    "python": {
     "delete_cmd_postfix": "",
     "delete_cmd_prefix": "del ",
     "library": "var_list.py",
     "varRefreshCmd": "print(var_dic_list())"
    },
    "r": {
     "delete_cmd_postfix": ") ",
     "delete_cmd_prefix": "rm(",
     "library": "var_list.r",
     "varRefreshCmd": "cat(var_dic_list()) "
    }
   },
   "types_to_exclude": [
    "module",
    "function",
    "builtin_function_or_method",
    "instance",
    "_Feature"
   ],
   "window_display": false
  }
 },
 "nbformat": 4,
 "nbformat_minor": 5
}
