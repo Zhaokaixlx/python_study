{
 "cells": [
  {
   "cell_type": "code",
   "execution_count": 1,
   "id": "bb093651",
   "metadata": {
    "ExecuteTime": {
     "end_time": "2022-06-13T13:29:30.880372Z",
     "start_time": "2022-06-13T13:29:29.793729Z"
    }
   },
   "outputs": [],
   "source": [
    "import torch \n",
    "import numpy as np\n",
    "import pandas as pd\n",
    "import matplotlib.pyplot as plt"
   ]
  },
  {
   "cell_type": "markdown",
   "id": "d5ea244a",
   "metadata": {},
   "source": [
    "# 读取数据"
   ]
  },
  {
   "cell_type": "code",
   "execution_count": 2,
   "id": "f0eae4f9",
   "metadata": {
    "ExecuteTime": {
     "end_time": "2022-06-13T13:30:51.408476Z",
     "start_time": "2022-06-13T13:30:51.401478Z"
    }
   },
   "outputs": [],
   "source": [
    "data = pd.read_csv(r'C:/Users/Administrator/Desktop/data/deep_learning/dataset./credit-a.csv', header=None)"
   ]
  },
  {
   "cell_type": "code",
   "execution_count": 3,
   "id": "45734aa6",
   "metadata": {
    "ExecuteTime": {
     "end_time": "2022-06-13T13:31:05.059784Z",
     "start_time": "2022-06-13T13:31:05.039307Z"
    }
   },
   "outputs": [
    {
     "data": {
      "text/html": [
       "<div>\n",
       "<style scoped>\n",
       "    .dataframe tbody tr th:only-of-type {\n",
       "        vertical-align: middle;\n",
       "    }\n",
       "\n",
       "    .dataframe tbody tr th {\n",
       "        vertical-align: top;\n",
       "    }\n",
       "\n",
       "    .dataframe thead th {\n",
       "        text-align: right;\n",
       "    }\n",
       "</style>\n",
       "<table border=\"1\" class=\"dataframe\">\n",
       "  <thead>\n",
       "    <tr style=\"text-align: right;\">\n",
       "      <th></th>\n",
       "      <th>0</th>\n",
       "      <th>1</th>\n",
       "      <th>2</th>\n",
       "      <th>3</th>\n",
       "      <th>4</th>\n",
       "      <th>5</th>\n",
       "      <th>6</th>\n",
       "      <th>7</th>\n",
       "      <th>8</th>\n",
       "      <th>9</th>\n",
       "      <th>10</th>\n",
       "      <th>11</th>\n",
       "      <th>12</th>\n",
       "      <th>13</th>\n",
       "      <th>14</th>\n",
       "      <th>15</th>\n",
       "    </tr>\n",
       "  </thead>\n",
       "  <tbody>\n",
       "    <tr>\n",
       "      <th>0</th>\n",
       "      <td>0</td>\n",
       "      <td>30.83</td>\n",
       "      <td>0.000</td>\n",
       "      <td>0</td>\n",
       "      <td>0</td>\n",
       "      <td>9</td>\n",
       "      <td>0</td>\n",
       "      <td>1.25</td>\n",
       "      <td>0</td>\n",
       "      <td>0</td>\n",
       "      <td>1</td>\n",
       "      <td>1</td>\n",
       "      <td>0</td>\n",
       "      <td>202</td>\n",
       "      <td>0.0</td>\n",
       "      <td>-1</td>\n",
       "    </tr>\n",
       "    <tr>\n",
       "      <th>1</th>\n",
       "      <td>1</td>\n",
       "      <td>58.67</td>\n",
       "      <td>4.460</td>\n",
       "      <td>0</td>\n",
       "      <td>0</td>\n",
       "      <td>8</td>\n",
       "      <td>1</td>\n",
       "      <td>3.04</td>\n",
       "      <td>0</td>\n",
       "      <td>0</td>\n",
       "      <td>6</td>\n",
       "      <td>1</td>\n",
       "      <td>0</td>\n",
       "      <td>43</td>\n",
       "      <td>560.0</td>\n",
       "      <td>-1</td>\n",
       "    </tr>\n",
       "    <tr>\n",
       "      <th>2</th>\n",
       "      <td>1</td>\n",
       "      <td>24.50</td>\n",
       "      <td>0.500</td>\n",
       "      <td>0</td>\n",
       "      <td>0</td>\n",
       "      <td>8</td>\n",
       "      <td>1</td>\n",
       "      <td>1.50</td>\n",
       "      <td>0</td>\n",
       "      <td>1</td>\n",
       "      <td>0</td>\n",
       "      <td>1</td>\n",
       "      <td>0</td>\n",
       "      <td>280</td>\n",
       "      <td>824.0</td>\n",
       "      <td>-1</td>\n",
       "    </tr>\n",
       "    <tr>\n",
       "      <th>3</th>\n",
       "      <td>0</td>\n",
       "      <td>27.83</td>\n",
       "      <td>1.540</td>\n",
       "      <td>0</td>\n",
       "      <td>0</td>\n",
       "      <td>9</td>\n",
       "      <td>0</td>\n",
       "      <td>3.75</td>\n",
       "      <td>0</td>\n",
       "      <td>0</td>\n",
       "      <td>5</td>\n",
       "      <td>0</td>\n",
       "      <td>0</td>\n",
       "      <td>100</td>\n",
       "      <td>3.0</td>\n",
       "      <td>-1</td>\n",
       "    </tr>\n",
       "    <tr>\n",
       "      <th>4</th>\n",
       "      <td>0</td>\n",
       "      <td>20.17</td>\n",
       "      <td>5.625</td>\n",
       "      <td>0</td>\n",
       "      <td>0</td>\n",
       "      <td>9</td>\n",
       "      <td>0</td>\n",
       "      <td>1.71</td>\n",
       "      <td>0</td>\n",
       "      <td>1</td>\n",
       "      <td>0</td>\n",
       "      <td>1</td>\n",
       "      <td>2</td>\n",
       "      <td>120</td>\n",
       "      <td>0.0</td>\n",
       "      <td>-1</td>\n",
       "    </tr>\n",
       "  </tbody>\n",
       "</table>\n",
       "</div>"
      ],
      "text/plain": [
       "   0      1      2   3   4   5   6     7   8   9   10  11  12   13     14  15\n",
       "0   0  30.83  0.000   0   0   9   0  1.25   0   0   1   1   0  202    0.0  -1\n",
       "1   1  58.67  4.460   0   0   8   1  3.04   0   0   6   1   0   43  560.0  -1\n",
       "2   1  24.50  0.500   0   0   8   1  1.50   0   1   0   1   0  280  824.0  -1\n",
       "3   0  27.83  1.540   0   0   9   0  3.75   0   0   5   0   0  100    3.0  -1\n",
       "4   0  20.17  5.625   0   0   9   0  1.71   0   1   0   1   2  120    0.0  -1"
      ]
     },
     "execution_count": 3,
     "metadata": {},
     "output_type": "execute_result"
    }
   ],
   "source": [
    "data.head()"
   ]
  },
  {
   "cell_type": "code",
   "execution_count": 4,
   "id": "193ad447",
   "metadata": {
    "ExecuteTime": {
     "end_time": "2022-06-13T13:31:44.428504Z",
     "start_time": "2022-06-13T13:31:44.415545Z"
    }
   },
   "outputs": [
    {
     "data": {
      "text/plain": [
       "(653, 15)"
      ]
     },
     "execution_count": 4,
     "metadata": {},
     "output_type": "execute_result"
    }
   ],
   "source": [
    "# 前15列是特征, 最后一列是标记\n",
    "X = data.iloc[:, :-1]\n",
    "X.shape"
   ]
  },
  {
   "cell_type": "code",
   "execution_count": 5,
   "id": "850c6e3b",
   "metadata": {
    "ExecuteTime": {
     "end_time": "2022-06-13T13:32:40.057594Z",
     "start_time": "2022-06-13T13:32:40.050575Z"
    }
   },
   "outputs": [],
   "source": [
    "Y = data.iloc[:, -1]"
   ]
  },
  {
   "cell_type": "code",
   "execution_count": 6,
   "id": "3b08842f",
   "metadata": {
    "ExecuteTime": {
     "end_time": "2022-06-13T13:33:32.148690Z",
     "start_time": "2022-06-13T13:33:32.135694Z"
    }
   },
   "outputs": [
    {
     "data": {
      "text/plain": [
       "0     -1\n",
       "1     -1\n",
       "2     -1\n",
       "3     -1\n",
       "4     -1\n",
       "      ..\n",
       "648    1\n",
       "649    1\n",
       "650    1\n",
       "651    1\n",
       "652    1\n",
       "Name: 15, Length: 653, dtype: int64"
      ]
     },
     "execution_count": 6,
     "metadata": {},
     "output_type": "execute_result"
    }
   ],
   "source": [
    "# series是不能做为标记\n",
    "Y"
   ]
  },
  {
   "cell_type": "markdown",
   "id": "3ee327aa",
   "metadata": {},
   "source": [
    "# 数据预处理"
   ]
  },
  {
   "cell_type": "code",
   "execution_count": 7,
   "id": "8cca6f28",
   "metadata": {
    "ExecuteTime": {
     "end_time": "2022-06-13T13:34:28.563695Z",
     "start_time": "2022-06-13T13:34:28.553708Z"
    }
   },
   "outputs": [],
   "source": [
    "# 把标记变成0和1, 方便最后求概率\n",
    "Y.replace(-1, 0, inplace=True)"
   ]
  },
  {
   "cell_type": "code",
   "execution_count": 8,
   "id": "3e75a77c",
   "metadata": {
    "ExecuteTime": {
     "end_time": "2022-06-13T13:34:47.361308Z",
     "start_time": "2022-06-13T13:34:47.339858Z"
    }
   },
   "outputs": [
    {
     "data": {
      "text/plain": [
       "1    357\n",
       "0    296\n",
       "Name: 15, dtype: int64"
      ]
     },
     "execution_count": 8,
     "metadata": {},
     "output_type": "execute_result"
    }
   ],
   "source": [
    "Y.value_counts()"
   ]
  },
  {
   "cell_type": "code",
   "execution_count": 10,
   "id": "fc275f9c",
   "metadata": {
    "ExecuteTime": {
     "end_time": "2022-06-13T13:35:48.363737Z",
     "start_time": "2022-06-13T13:35:48.340799Z"
    },
    "scrolled": true
   },
   "outputs": [
    {
     "data": {
      "text/plain": [
       "<bound method DataFrame.info of      0      1       2   3   4   5   6     7   8   9   10  11  12   13     14  \\\n",
       "0     0  30.83   0.000   0   0   9   0  1.25   0   0   1   1   0  202    0.0   \n",
       "1     1  58.67   4.460   0   0   8   1  3.04   0   0   6   1   0   43  560.0   \n",
       "2     1  24.50   0.500   0   0   8   1  1.50   0   1   0   1   0  280  824.0   \n",
       "3     0  27.83   1.540   0   0   9   0  3.75   0   0   5   0   0  100    3.0   \n",
       "4     0  20.17   5.625   0   0   9   0  1.71   0   1   0   1   2  120    0.0   \n",
       "..   ..    ...     ...  ..  ..  ..  ..   ...  ..  ..  ..  ..  ..  ...    ...   \n",
       "648   0  21.08  10.085   1   1  11   1  1.25   1   1   0   1   0  260    0.0   \n",
       "649   1  22.67   0.750   0   0   0   0  2.00   1   0   2   0   0  200  394.0   \n",
       "650   1  25.25  13.500   1   1  13   7  2.00   1   0   1   0   0  200    1.0   \n",
       "651   0  17.92   0.205   0   0  12   0  0.04   1   1   0   1   0  280  750.0   \n",
       "652   0  35.00   3.375   0   0   0   1  8.29   1   1   0   0   0    0    0.0   \n",
       "\n",
       "     15  \n",
       "0     0  \n",
       "1     0  \n",
       "2     0  \n",
       "3     0  \n",
       "4     0  \n",
       "..   ..  \n",
       "648   1  \n",
       "649   1  \n",
       "650   1  \n",
       "651   1  \n",
       "652   1  \n",
       "\n",
       "[653 rows x 16 columns]>"
      ]
     },
     "execution_count": 10,
     "metadata": {},
     "output_type": "execute_result"
    }
   ],
   "source": [
    "data.info"
   ]
  },
  {
   "cell_type": "code",
   "execution_count": 11,
   "id": "a556fbb6",
   "metadata": {
    "ExecuteTime": {
     "end_time": "2022-06-13T13:36:11.678407Z",
     "start_time": "2022-06-13T13:36:11.642504Z"
    }
   },
   "outputs": [
    {
     "data": {
      "text/html": [
       "<div>\n",
       "<style scoped>\n",
       "    .dataframe tbody tr th:only-of-type {\n",
       "        vertical-align: middle;\n",
       "    }\n",
       "\n",
       "    .dataframe tbody tr th {\n",
       "        vertical-align: top;\n",
       "    }\n",
       "\n",
       "    .dataframe thead th {\n",
       "        text-align: right;\n",
       "    }\n",
       "</style>\n",
       "<table border=\"1\" class=\"dataframe\">\n",
       "  <thead>\n",
       "    <tr style=\"text-align: right;\">\n",
       "      <th></th>\n",
       "      <th>0</th>\n",
       "      <th>1</th>\n",
       "      <th>2</th>\n",
       "      <th>3</th>\n",
       "      <th>4</th>\n",
       "      <th>5</th>\n",
       "      <th>6</th>\n",
       "      <th>7</th>\n",
       "      <th>8</th>\n",
       "      <th>9</th>\n",
       "      <th>10</th>\n",
       "      <th>11</th>\n",
       "      <th>12</th>\n",
       "      <th>13</th>\n",
       "      <th>14</th>\n",
       "      <th>15</th>\n",
       "    </tr>\n",
       "  </thead>\n",
       "  <tbody>\n",
       "    <tr>\n",
       "      <th>count</th>\n",
       "      <td>653.000000</td>\n",
       "      <td>653.000000</td>\n",
       "      <td>653.000000</td>\n",
       "      <td>653.000000</td>\n",
       "      <td>653.000000</td>\n",
       "      <td>653.000000</td>\n",
       "      <td>653.000000</td>\n",
       "      <td>653.000000</td>\n",
       "      <td>653.000000</td>\n",
       "      <td>653.000000</td>\n",
       "      <td>653.000000</td>\n",
       "      <td>653.000000</td>\n",
       "      <td>653.000000</td>\n",
       "      <td>653.000000</td>\n",
       "      <td>653.000000</td>\n",
       "      <td>653.000000</td>\n",
       "    </tr>\n",
       "    <tr>\n",
       "      <th>mean</th>\n",
       "      <td>0.310873</td>\n",
       "      <td>31.503813</td>\n",
       "      <td>4.829533</td>\n",
       "      <td>0.238897</td>\n",
       "      <td>0.238897</td>\n",
       "      <td>5.918836</td>\n",
       "      <td>1.153139</td>\n",
       "      <td>2.244296</td>\n",
       "      <td>0.465544</td>\n",
       "      <td>0.560490</td>\n",
       "      <td>2.502297</td>\n",
       "      <td>0.537519</td>\n",
       "      <td>0.165391</td>\n",
       "      <td>180.359877</td>\n",
       "      <td>1013.761103</td>\n",
       "      <td>0.546708</td>\n",
       "    </tr>\n",
       "    <tr>\n",
       "      <th>std</th>\n",
       "      <td>0.463206</td>\n",
       "      <td>11.838267</td>\n",
       "      <td>5.027077</td>\n",
       "      <td>0.433866</td>\n",
       "      <td>0.433866</td>\n",
       "      <td>4.469511</td>\n",
       "      <td>2.074785</td>\n",
       "      <td>3.371120</td>\n",
       "      <td>0.499194</td>\n",
       "      <td>0.496708</td>\n",
       "      <td>4.968497</td>\n",
       "      <td>0.498973</td>\n",
       "      <td>0.548475</td>\n",
       "      <td>168.296811</td>\n",
       "      <td>5253.278504</td>\n",
       "      <td>0.498195</td>\n",
       "    </tr>\n",
       "    <tr>\n",
       "      <th>min</th>\n",
       "      <td>0.000000</td>\n",
       "      <td>13.750000</td>\n",
       "      <td>0.000000</td>\n",
       "      <td>0.000000</td>\n",
       "      <td>0.000000</td>\n",
       "      <td>0.000000</td>\n",
       "      <td>0.000000</td>\n",
       "      <td>0.000000</td>\n",
       "      <td>0.000000</td>\n",
       "      <td>0.000000</td>\n",
       "      <td>0.000000</td>\n",
       "      <td>0.000000</td>\n",
       "      <td>0.000000</td>\n",
       "      <td>0.000000</td>\n",
       "      <td>0.000000</td>\n",
       "      <td>0.000000</td>\n",
       "    </tr>\n",
       "    <tr>\n",
       "      <th>25%</th>\n",
       "      <td>0.000000</td>\n",
       "      <td>22.580000</td>\n",
       "      <td>1.040000</td>\n",
       "      <td>0.000000</td>\n",
       "      <td>0.000000</td>\n",
       "      <td>2.000000</td>\n",
       "      <td>0.000000</td>\n",
       "      <td>0.165000</td>\n",
       "      <td>0.000000</td>\n",
       "      <td>0.000000</td>\n",
       "      <td>0.000000</td>\n",
       "      <td>0.000000</td>\n",
       "      <td>0.000000</td>\n",
       "      <td>73.000000</td>\n",
       "      <td>0.000000</td>\n",
       "      <td>0.000000</td>\n",
       "    </tr>\n",
       "    <tr>\n",
       "      <th>50%</th>\n",
       "      <td>0.000000</td>\n",
       "      <td>28.420000</td>\n",
       "      <td>2.835000</td>\n",
       "      <td>0.000000</td>\n",
       "      <td>0.000000</td>\n",
       "      <td>6.000000</td>\n",
       "      <td>0.000000</td>\n",
       "      <td>1.000000</td>\n",
       "      <td>0.000000</td>\n",
       "      <td>1.000000</td>\n",
       "      <td>0.000000</td>\n",
       "      <td>1.000000</td>\n",
       "      <td>0.000000</td>\n",
       "      <td>160.000000</td>\n",
       "      <td>5.000000</td>\n",
       "      <td>1.000000</td>\n",
       "    </tr>\n",
       "    <tr>\n",
       "      <th>75%</th>\n",
       "      <td>1.000000</td>\n",
       "      <td>38.250000</td>\n",
       "      <td>7.500000</td>\n",
       "      <td>0.000000</td>\n",
       "      <td>0.000000</td>\n",
       "      <td>9.000000</td>\n",
       "      <td>1.000000</td>\n",
       "      <td>2.625000</td>\n",
       "      <td>1.000000</td>\n",
       "      <td>1.000000</td>\n",
       "      <td>3.000000</td>\n",
       "      <td>1.000000</td>\n",
       "      <td>0.000000</td>\n",
       "      <td>272.000000</td>\n",
       "      <td>400.000000</td>\n",
       "      <td>1.000000</td>\n",
       "    </tr>\n",
       "    <tr>\n",
       "      <th>max</th>\n",
       "      <td>1.000000</td>\n",
       "      <td>76.750000</td>\n",
       "      <td>28.000000</td>\n",
       "      <td>2.000000</td>\n",
       "      <td>2.000000</td>\n",
       "      <td>13.000000</td>\n",
       "      <td>8.000000</td>\n",
       "      <td>28.500000</td>\n",
       "      <td>1.000000</td>\n",
       "      <td>1.000000</td>\n",
       "      <td>67.000000</td>\n",
       "      <td>1.000000</td>\n",
       "      <td>2.000000</td>\n",
       "      <td>2000.000000</td>\n",
       "      <td>100000.000000</td>\n",
       "      <td>1.000000</td>\n",
       "    </tr>\n",
       "  </tbody>\n",
       "</table>\n",
       "</div>"
      ],
      "text/plain": [
       "               0           1           2           3           4           5   \\\n",
       "count  653.000000  653.000000  653.000000  653.000000  653.000000  653.000000   \n",
       "mean     0.310873   31.503813    4.829533    0.238897    0.238897    5.918836   \n",
       "std      0.463206   11.838267    5.027077    0.433866    0.433866    4.469511   \n",
       "min      0.000000   13.750000    0.000000    0.000000    0.000000    0.000000   \n",
       "25%      0.000000   22.580000    1.040000    0.000000    0.000000    2.000000   \n",
       "50%      0.000000   28.420000    2.835000    0.000000    0.000000    6.000000   \n",
       "75%      1.000000   38.250000    7.500000    0.000000    0.000000    9.000000   \n",
       "max      1.000000   76.750000   28.000000    2.000000    2.000000   13.000000   \n",
       "\n",
       "               6           7           8           9           10          11  \\\n",
       "count  653.000000  653.000000  653.000000  653.000000  653.000000  653.000000   \n",
       "mean     1.153139    2.244296    0.465544    0.560490    2.502297    0.537519   \n",
       "std      2.074785    3.371120    0.499194    0.496708    4.968497    0.498973   \n",
       "min      0.000000    0.000000    0.000000    0.000000    0.000000    0.000000   \n",
       "25%      0.000000    0.165000    0.000000    0.000000    0.000000    0.000000   \n",
       "50%      0.000000    1.000000    0.000000    1.000000    0.000000    1.000000   \n",
       "75%      1.000000    2.625000    1.000000    1.000000    3.000000    1.000000   \n",
       "max      8.000000   28.500000    1.000000    1.000000   67.000000    1.000000   \n",
       "\n",
       "               12           13             14          15  \n",
       "count  653.000000   653.000000     653.000000  653.000000  \n",
       "mean     0.165391   180.359877    1013.761103    0.546708  \n",
       "std      0.548475   168.296811    5253.278504    0.498195  \n",
       "min      0.000000     0.000000       0.000000    0.000000  \n",
       "25%      0.000000    73.000000       0.000000    0.000000  \n",
       "50%      0.000000   160.000000       5.000000    1.000000  \n",
       "75%      0.000000   272.000000     400.000000    1.000000  \n",
       "max      2.000000  2000.000000  100000.000000    1.000000  "
      ]
     },
     "execution_count": 11,
     "metadata": {},
     "output_type": "execute_result"
    }
   ],
   "source": [
    "data.describe()"
   ]
  },
  {
   "cell_type": "markdown",
   "id": "62029e46",
   "metadata": {},
   "source": [
    "# 构建网络"
   ]
  },
  {
   "cell_type": "code",
   "execution_count": 9,
   "id": "c19debef",
   "metadata": {
    "ExecuteTime": {
     "end_time": "2022-06-13T13:35:01.901163Z",
     "start_time": "2022-06-13T13:35:01.886170Z"
    }
   },
   "outputs": [],
   "source": [
    "X = torch.from_numpy(X.values).type(torch.FloatTensor)\n",
    "Y = torch.from_numpy(Y.values.reshape(-1, 1)).type(torch.FloatTensor)"
   ]
  },
  {
   "cell_type": "code",
   "execution_count": 12,
   "id": "fb0076a2",
   "metadata": {
    "ExecuteTime": {
     "end_time": "2022-06-13T13:37:19.592275Z",
     "start_time": "2022-06-13T13:37:19.585294Z"
    }
   },
   "outputs": [],
   "source": [
    "# 回归和分类之间, 区别其实不大. 回归后面加上一层sigmoid, 就变成分类了.\n",
    "from torch import nn"
   ]
  },
  {
   "cell_type": "code",
   "execution_count": 15,
   "id": "467d3b75",
   "metadata": {
    "ExecuteTime": {
     "end_time": "2022-06-13T13:39:20.638243Z",
     "start_time": "2022-06-13T13:39:20.630223Z"
    }
   },
   "outputs": [],
   "source": [
    "model = nn.Sequential(\n",
    "    nn.Linear(15, 1024),\n",
    "    nn.Linear(1024, 256),\n",
    "    nn.Linear(256,1),\n",
    "    nn.Sigmoid()\n",
    ")"
   ]
  },
  {
   "cell_type": "code",
   "execution_count": 16,
   "id": "2e908a19",
   "metadata": {
    "ExecuteTime": {
     "end_time": "2022-06-13T13:39:25.602736Z",
     "start_time": "2022-06-13T13:39:25.589757Z"
    }
   },
   "outputs": [
    {
     "data": {
      "text/plain": [
       "Sequential(\n",
       "  (0): Linear(in_features=15, out_features=1024, bias=True)\n",
       "  (1): Linear(in_features=1024, out_features=256, bias=True)\n",
       "  (2): Linear(in_features=256, out_features=1, bias=True)\n",
       "  (3): Sigmoid()\n",
       ")"
      ]
     },
     "execution_count": 16,
     "metadata": {},
     "output_type": "execute_result"
    }
   ],
   "source": [
    "model"
   ]
  },
  {
   "cell_type": "code",
   "execution_count": 17,
   "id": "bd0c9b26",
   "metadata": {
    "ExecuteTime": {
     "end_time": "2022-06-13T13:39:46.092638Z",
     "start_time": "2022-06-13T13:39:46.085151Z"
    }
   },
   "outputs": [],
   "source": [
    "# BCE binary cross entroy 二分类的交叉熵损失\n",
    "loss_fn = nn.BCELoss()"
   ]
  },
  {
   "cell_type": "code",
   "execution_count": 18,
   "id": "06662d85",
   "metadata": {
    "ExecuteTime": {
     "end_time": "2022-06-13T13:39:53.788773Z",
     "start_time": "2022-06-13T13:39:53.779766Z"
    }
   },
   "outputs": [],
   "source": [
    "opt = torch.optim.SGD(model.parameters(), lr=0.0001)"
   ]
  },
  {
   "cell_type": "code",
   "execution_count": 19,
   "id": "1d022482",
   "metadata": {
    "ExecuteTime": {
     "end_time": "2022-06-13T13:40:06.034388Z",
     "start_time": "2022-06-13T13:40:06.021392Z"
    }
   },
   "outputs": [
    {
     "data": {
      "text/plain": [
       "torch.Size([653, 15])"
      ]
     },
     "execution_count": 19,
     "metadata": {},
     "output_type": "execute_result"
    }
   ],
   "source": [
    "X.shape"
   ]
  },
  {
   "cell_type": "code",
   "execution_count": 20,
   "id": "5c57aa3c",
   "metadata": {
    "ExecuteTime": {
     "end_time": "2022-06-13T13:40:39.581729Z",
     "start_time": "2022-06-13T13:40:39.577739Z"
    }
   },
   "outputs": [],
   "source": [
    "batch_size = 32\n",
    "steps = 653 // 32"
   ]
  },
  {
   "cell_type": "code",
   "execution_count": 21,
   "id": "00f9a0ef",
   "metadata": {
    "ExecuteTime": {
     "end_time": "2022-06-13T13:41:03.217792Z",
     "start_time": "2022-06-13T13:41:03.204814Z"
    }
   },
   "outputs": [
    {
     "data": {
      "text/plain": [
       "20"
      ]
     },
     "execution_count": 21,
     "metadata": {},
     "output_type": "execute_result"
    }
   ],
   "source": [
    "steps"
   ]
  },
  {
   "cell_type": "code",
   "execution_count": 22,
   "id": "8f95eee1",
   "metadata": {
    "ExecuteTime": {
     "end_time": "2022-06-13T13:41:38.007659Z",
     "start_time": "2022-06-13T13:41:16.464152Z"
    }
   },
   "outputs": [],
   "source": [
    "for epoch in range(1000):\n",
    "    # 每次取32个数据\n",
    "    for batch in range(steps):\n",
    "        # 起始索引\n",
    "        start = batch * batch_size\n",
    "        # 结束索引\n",
    "        end = start + batch_size\n",
    "        # 取数据\n",
    "        x = X[start: end]\n",
    "        y = Y[start: end]\n",
    "        y_pred = model(x)\n",
    "        loss = loss_fn(y_pred, y)\n",
    "        # 梯度清零\n",
    "        opt.zero_grad()\n",
    "        # 反向传播\n",
    "        loss.backward()\n",
    "        # 更新\n",
    "        opt.step()"
   ]
  },
  {
   "cell_type": "code",
   "execution_count": 23,
   "id": "7bf8b5d2",
   "metadata": {
    "ExecuteTime": {
     "end_time": "2022-06-13T13:42:21.997081Z",
     "start_time": "2022-06-13T13:42:21.984019Z"
    }
   },
   "outputs": [
    {
     "data": {
      "text/plain": [
       "OrderedDict([('0.weight',\n",
       "              tensor([[-0.0056,  0.0072, -0.2440,  ...,  0.0242, -0.1029, -0.1316],\n",
       "                      [ 0.0279, -0.0257, -0.1807,  ..., -0.0095, -0.2474, -0.1488],\n",
       "                      [ 0.0575, -0.2496,  0.1073,  ...,  0.1516, -0.2257,  0.1775],\n",
       "                      ...,\n",
       "                      [ 0.1304, -0.0570,  0.2359,  ...,  0.1532,  0.1478, -0.0923],\n",
       "                      [ 0.0754, -0.0132, -0.0339,  ..., -0.2106,  0.2039,  0.2098],\n",
       "                      [-0.0281, -0.1202, -0.0444,  ..., -0.0785,  0.0973, -0.1198]])),\n",
       "             ('0.bias',\n",
       "              tensor([-0.1546, -0.1128,  0.2453,  ..., -0.0852,  0.0861,  0.2407])),\n",
       "             ('1.weight',\n",
       "              tensor([[-0.0061, -0.0344,  0.0195,  ..., -0.0156,  0.0120, -0.0015],\n",
       "                      [ 0.0226, -0.0215, -0.0040,  ...,  0.0006, -0.0110,  0.0228],\n",
       "                      [-0.0298, -0.0165,  0.0296,  ...,  0.0133,  0.0280, -0.0102],\n",
       "                      ...,\n",
       "                      [ 0.0270, -0.0137, -0.0144,  ...,  0.0119,  0.0242, -0.0137],\n",
       "                      [ 0.0028, -0.0300,  0.0034,  ..., -0.0208, -0.0141,  0.0222],\n",
       "                      [-0.0129, -0.0255,  0.0028,  ...,  0.0275,  0.0138,  0.0068]])),\n",
       "             ('1.bias',\n",
       "              tensor([ 0.0123, -0.0233,  0.0034, -0.0080,  0.0077, -0.0225, -0.0251,  0.0038,\n",
       "                       0.0207, -0.0048, -0.0129, -0.0144, -0.0273, -0.0265,  0.0141,  0.0179,\n",
       "                      -0.0167, -0.0189,  0.0152,  0.0001, -0.0034,  0.0064, -0.0087, -0.0160,\n",
       "                       0.0175,  0.0191, -0.0130,  0.0267,  0.0004, -0.0181,  0.0254, -0.0248,\n",
       "                      -0.0118, -0.0128, -0.0009, -0.0254, -0.0249, -0.0118,  0.0168, -0.0035,\n",
       "                      -0.0071, -0.0199, -0.0217, -0.0191, -0.0046, -0.0062,  0.0225,  0.0125,\n",
       "                      -0.0219,  0.0124, -0.0125,  0.0171,  0.0290,  0.0196, -0.0026, -0.0093,\n",
       "                      -0.0174, -0.0194,  0.0001, -0.0108, -0.0060, -0.0165,  0.0267, -0.0229,\n",
       "                       0.0261, -0.0121, -0.0005,  0.0097, -0.0135, -0.0256, -0.0310, -0.0122,\n",
       "                      -0.0206, -0.0093,  0.0056, -0.0016,  0.0208,  0.0021,  0.0014, -0.0076,\n",
       "                      -0.0286,  0.0060, -0.0248, -0.0063, -0.0109,  0.0267, -0.0135, -0.0162,\n",
       "                       0.0150,  0.0048,  0.0254,  0.0187,  0.0045, -0.0196,  0.0245, -0.0032,\n",
       "                       0.0196,  0.0086, -0.0154, -0.0084,  0.0202, -0.0211,  0.0016,  0.0193,\n",
       "                       0.0243,  0.0151,  0.0172,  0.0222,  0.0182,  0.0077,  0.0193,  0.0092,\n",
       "                      -0.0143, -0.0265,  0.0237,  0.0004,  0.0168,  0.0190,  0.0108,  0.0114,\n",
       "                       0.0151, -0.0286,  0.0096, -0.0136, -0.0118, -0.0301, -0.0053,  0.0153,\n",
       "                       0.0157, -0.0312, -0.0113,  0.0313, -0.0107, -0.0186,  0.0199, -0.0012,\n",
       "                       0.0235, -0.0042,  0.0297,  0.0114,  0.0255,  0.0256, -0.0070, -0.0255,\n",
       "                      -0.0195, -0.0087,  0.0012, -0.0223, -0.0203, -0.0138,  0.0277,  0.0019,\n",
       "                       0.0053,  0.0237, -0.0187,  0.0156,  0.0086, -0.0001, -0.0046,  0.0123,\n",
       "                       0.0029,  0.0269, -0.0051,  0.0098,  0.0123, -0.0137, -0.0100, -0.0024,\n",
       "                       0.0261, -0.0009, -0.0130,  0.0304, -0.0012, -0.0168,  0.0024, -0.0040,\n",
       "                      -0.0030,  0.0185,  0.0248, -0.0103, -0.0304, -0.0256,  0.0176,  0.0185,\n",
       "                      -0.0035,  0.0182,  0.0266,  0.0275, -0.0229, -0.0220,  0.0164,  0.0023,\n",
       "                      -0.0277, -0.0299,  0.0091, -0.0290, -0.0226, -0.0190, -0.0010,  0.0100,\n",
       "                      -0.0274,  0.0290, -0.0002,  0.0213, -0.0181, -0.0130,  0.0177, -0.0068,\n",
       "                      -0.0198, -0.0271,  0.0207,  0.0246,  0.0225, -0.0097, -0.0016,  0.0274,\n",
       "                       0.0096,  0.0082,  0.0183,  0.0261,  0.0123,  0.0222,  0.0202, -0.0032,\n",
       "                       0.0116, -0.0030,  0.0161,  0.0089, -0.0030,  0.0121,  0.0213,  0.0138,\n",
       "                      -0.0107,  0.0227,  0.0156, -0.0188, -0.0166, -0.0116,  0.0273,  0.0274,\n",
       "                      -0.0084, -0.0102, -0.0118, -0.0181,  0.0194,  0.0220, -0.0152, -0.0097,\n",
       "                       0.0067,  0.0067, -0.0012,  0.0035,  0.0228, -0.0133,  0.0031,  0.0272])),\n",
       "             ('2.weight',\n",
       "              tensor([[ 2.6427e-03, -1.1196e-04, -2.3948e-03,  4.3737e-04,  2.5212e-03,\n",
       "                       -1.1392e-04,  1.0214e-03,  3.2541e-03, -1.1322e-03,  3.3666e-04,\n",
       "                       -8.0989e-04,  1.3956e-03,  1.6529e-03, -4.1938e-04,  2.1083e-04,\n",
       "                        1.0590e-03, -2.4744e-03, -9.6610e-04, -1.0701e-03,  3.4082e-04,\n",
       "                        7.5743e-04,  5.8162e-04,  5.4517e-04, -2.9829e-04, -1.3224e-03,\n",
       "                        1.7095e-03,  8.0141e-04, -9.2217e-04, -2.6428e-03,  7.4590e-05,\n",
       "                       -4.9416e-04, -7.9079e-04,  2.8576e-03, -1.8567e-03, -3.2548e-05,\n",
       "                        2.3355e-03,  3.8561e-03, -4.8000e-04, -2.3263e-03,  9.8225e-04,\n",
       "                       -1.4499e-04, -6.1182e-04,  4.1115e-04, -4.5263e-03,  3.1840e-03,\n",
       "                        2.0896e-03,  3.7903e-03, -9.3920e-04, -1.0631e-03,  5.8292e-04,\n",
       "                        9.2557e-04,  5.7614e-03, -2.1925e-03, -4.1560e-03,  2.4640e-03,\n",
       "                       -1.8386e-03,  4.8986e-03,  2.7637e-03, -5.4624e-04, -2.5003e-04,\n",
       "                       -1.9815e-03, -3.0489e-03, -1.9321e-03, -2.6302e-03,  1.8080e-03,\n",
       "                       -2.3776e-03, -8.4477e-04,  3.6162e-03, -6.5444e-04, -8.4135e-04,\n",
       "                        1.9542e-03,  3.1276e-04,  3.5397e-04,  3.3381e-03,  1.4223e-03,\n",
       "                       -1.5555e-03,  2.3920e-03, -9.4843e-04,  2.9530e-03,  1.4442e-03,\n",
       "                        2.6776e-03,  1.9787e-03,  3.7740e-04,  2.4972e-03,  1.3081e-04,\n",
       "                        1.3474e-03, -1.1757e-04,  1.0749e-04, -4.4148e-04, -1.0888e-03,\n",
       "                        1.7241e-03, -1.5183e-03,  2.5133e-03, -3.4126e-04, -1.4875e-03,\n",
       "                        7.8368e-04,  2.0876e-03, -1.8258e-03,  1.6537e-03, -6.7567e-05,\n",
       "                        6.9676e-04,  1.8173e-03,  4.7411e-04,  3.9759e-03,  1.3586e-04,\n",
       "                        6.5413e-04,  3.9339e-03,  2.2672e-03,  3.4239e-03, -6.2840e-04,\n",
       "                       -3.8190e-03, -3.5413e-03, -4.7868e-04,  3.3573e-04, -2.5688e-04,\n",
       "                       -1.6503e-05,  5.2212e-05, -3.6902e-03, -1.2567e-03, -7.2794e-04,\n",
       "                       -2.2590e-03, -4.3759e-03,  5.3888e-03,  1.2870e-03, -1.6024e-03,\n",
       "                        1.3140e-03, -1.0567e-03, -3.3858e-03, -2.0282e-03,  1.7344e-03,\n",
       "                       -6.8818e-04,  3.0865e-03, -2.4292e-03,  9.2321e-05, -3.2233e-03,\n",
       "                       -2.5530e-03, -1.5553e-03,  3.2902e-04, -1.8254e-03,  1.1513e-03,\n",
       "                       -1.6010e-03, -1.4622e-04,  5.0492e-03,  4.8507e-04, -5.7875e-04,\n",
       "                       -2.6348e-03, -1.7013e-03,  8.2823e-04,  2.5952e-03,  4.6346e-04,\n",
       "                       -3.8395e-03,  2.2520e-03, -1.3155e-03, -2.8705e-03, -2.1173e-04,\n",
       "                        2.6374e-04, -1.3290e-03,  3.4684e-03,  2.7900e-03,  3.2879e-03,\n",
       "                        3.8050e-04, -4.7633e-05, -1.3395e-03,  2.3844e-03, -3.9479e-03,\n",
       "                       -5.1451e-05,  3.6468e-04, -2.7450e-03, -7.8177e-04, -7.9535e-04,\n",
       "                        5.9769e-04, -5.1558e-04, -4.4237e-03,  1.4891e-03, -1.6820e-03,\n",
       "                        2.6413e-03,  9.3198e-04,  1.6735e-03,  3.5293e-03,  3.7745e-04,\n",
       "                        2.0945e-03,  4.4814e-03, -3.1414e-03, -6.5581e-04,  6.7291e-04,\n",
       "                        8.5272e-04,  4.1923e-03,  7.9970e-04,  3.6914e-04,  3.8273e-04,\n",
       "                       -7.2204e-04,  1.4449e-03, -6.1167e-04, -2.0499e-04, -3.1982e-04,\n",
       "                        1.3056e-03, -1.0564e-03, -2.8043e-03,  2.3539e-03,  1.5852e-03,\n",
       "                       -3.3095e-03,  2.3476e-03, -1.5720e-03,  3.7610e-04, -1.4251e-03,\n",
       "                       -3.2920e-03,  1.3260e-03, -4.6063e-04, -1.0429e-03, -1.2659e-03,\n",
       "                        7.1329e-04, -1.4577e-03,  1.5206e-03,  4.2603e-03,  1.3994e-03,\n",
       "                        2.3999e-03, -2.7846e-04,  2.4169e-04, -6.3796e-04, -2.7499e-03,\n",
       "                        1.1247e-03,  1.6565e-03, -8.7598e-04, -3.8558e-04, -2.3207e-03,\n",
       "                       -2.6006e-03, -7.7179e-04,  1.7371e-03, -2.5452e-03,  1.5714e-03,\n",
       "                        1.0409e-03, -3.6652e-04, -3.7102e-03,  3.2516e-04, -2.1954e-03,\n",
       "                       -3.9813e-04,  1.5928e-03, -2.6068e-03, -1.6381e-03,  6.3155e-04,\n",
       "                        3.7002e-03,  2.2568e-03,  3.0672e-03, -6.2835e-04, -2.4334e-03,\n",
       "                        1.0890e-03,  2.1651e-03, -2.2795e-04, -1.4657e-03, -2.1680e-03,\n",
       "                        1.4315e-03,  1.8871e-03,  7.6147e-04, -6.9355e-05,  4.1952e-03,\n",
       "                        1.2913e-03]])),\n",
       "             ('2.bias', tensor([0.1053]))])"
      ]
     },
     "execution_count": 23,
     "metadata": {},
     "output_type": "execute_result"
    }
   ],
   "source": [
    "model.state_dict()"
   ]
  },
  {
   "cell_type": "code",
   "execution_count": 24,
   "id": "296fce90",
   "metadata": {
    "ExecuteTime": {
     "end_time": "2022-06-13T13:43:05.243434Z",
     "start_time": "2022-06-13T13:43:05.221513Z"
    }
   },
   "outputs": [
    {
     "data": {
      "text/plain": [
       "0.7366003062787136"
      ]
     },
     "execution_count": 24,
     "metadata": {},
     "output_type": "execute_result"
    }
   ],
   "source": [
    "# 计算正确率\n",
    "# 设定阈值\n",
    "# 现在预测得到的是概率. 我们根据阈值, 把概率转化为类别, 就可以计算准确率. \n",
    "((model(X).data.numpy() > 0.5) == Y.numpy()).mean()"
   ]
  },
  {
   "cell_type": "code",
   "execution_count": null,
   "id": "a5b8cb7e",
   "metadata": {},
   "outputs": [],
   "source": []
  }
 ],
 "metadata": {
  "hide_input": false,
  "kernelspec": {
   "display_name": "Python 3 (ipykernel)",
   "language": "python",
   "name": "python3"
  },
  "language_info": {
   "codemirror_mode": {
    "name": "ipython",
    "version": 3
   },
   "file_extension": ".py",
   "mimetype": "text/x-python",
   "name": "python",
   "nbconvert_exporter": "python",
   "pygments_lexer": "ipython3",
   "version": "3.9.7"
  },
  "latex_envs": {
   "LaTeX_envs_menu_present": true,
   "autoclose": false,
   "autocomplete": true,
   "bibliofile": "biblio.bib",
   "cite_by": "apalike",
   "current_citInitial": 1,
   "eqLabelWithNumbers": true,
   "eqNumInitial": 1,
   "hotkeys": {
    "equation": "Ctrl-E",
    "itemize": "Ctrl-I"
   },
   "labels_anchors": false,
   "latex_user_defs": false,
   "report_style_numbering": false,
   "user_envs_cfg": false
  },
  "nbTranslate": {
   "displayLangs": [
    "*"
   ],
   "hotkey": "alt-t",
   "langInMainMenu": true,
   "sourceLang": "en",
   "targetLang": "fr",
   "useGoogleTranslate": true
  },
  "toc": {
   "base_numbering": 1,
   "nav_menu": {},
   "number_sections": true,
   "sideBar": true,
   "skip_h1_title": false,
   "title_cell": "Table of Contents",
   "title_sidebar": "Contents",
   "toc_cell": false,
   "toc_position": {},
   "toc_section_display": true,
   "toc_window_display": false
  },
  "varInspector": {
   "cols": {
    "lenName": 16,
    "lenType": 16,
    "lenVar": 40
   },
   "kernels_config": {
    "python": {
     "delete_cmd_postfix": "",
     "delete_cmd_prefix": "del ",
     "library": "var_list.py",
     "varRefreshCmd": "print(var_dic_list())"
    },
    "r": {
     "delete_cmd_postfix": ") ",
     "delete_cmd_prefix": "rm(",
     "library": "var_list.r",
     "varRefreshCmd": "cat(var_dic_list()) "
    }
   },
   "types_to_exclude": [
    "module",
    "function",
    "builtin_function_or_method",
    "instance",
    "_Feature"
   ],
   "window_display": false
  }
 },
 "nbformat": 4,
 "nbformat_minor": 5
}
