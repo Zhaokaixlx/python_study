{
 "cells": [
  {
   "cell_type": "markdown",
   "id": "45cfc260",
   "metadata": {},
   "source": [
    "# 神经网络baseline"
   ]
  },
  {
   "cell_type": "code",
   "execution_count": 1,
   "id": "ffde5887",
   "metadata": {
    "ExecuteTime": {
     "end_time": "2022-06-03T08:57:15.610477Z",
     "start_time": "2022-06-03T08:57:13.239907Z"
    }
   },
   "outputs": [],
   "source": [
    "from tensorflow import keras\n",
    "import tensorflow as tf\n",
    "import numpy as np\n",
    "import pandas as pd\n",
    "import matplotlib.pyplot as plt"
   ]
  },
  {
   "cell_type": "code",
   "execution_count": 2,
   "id": "28d240b0",
   "metadata": {
    "ExecuteTime": {
     "end_time": "2022-06-03T08:58:00.215380Z",
     "start_time": "2022-06-03T08:57:59.884396Z"
    }
   },
   "outputs": [
    {
     "name": "stdout",
     "output_type": "stream",
     "text": [
      "(5000, 28, 28) (5000,)\n",
      "(55000, 28, 28) (55000,)\n",
      "(10000, 28, 28) (10000,)\n"
     ]
    }
   ],
   "source": [
    "fashion_mnist = keras.datasets.fashion_mnist\n",
    "(x_train_all, y_train_all), (x_test, y_test) = fashion_mnist.load_data()\n",
    "x_valid, x_train = x_train_all[:5000], x_train_all[5000:]\n",
    "y_valid, y_train = y_train_all[:5000], y_train_all[5000:]\n",
    "\n",
    "print(x_valid.shape, y_valid.shape)\n",
    "print(x_train.shape, y_train.shape)\n",
    "print(x_test.shape, y_test.shape)"
   ]
  },
  {
   "cell_type": "code",
   "execution_count": 3,
   "id": "4c05058b",
   "metadata": {
    "ExecuteTime": {
     "end_time": "2022-06-03T08:58:14.547360Z",
     "start_time": "2022-06-03T08:58:14.475159Z"
    }
   },
   "outputs": [
    {
     "data": {
      "text/plain": [
       "(55000, 784)"
      ]
     },
     "execution_count": 3,
     "metadata": {},
     "output_type": "execute_result"
    }
   ],
   "source": [
    "x_train.astype(np.float32).reshape(-1, 784).shape"
   ]
  },
  {
   "cell_type": "code",
   "execution_count": 4,
   "id": "acc92265",
   "metadata": {
    "ExecuteTime": {
     "end_time": "2022-06-03T09:09:26.823647Z",
     "start_time": "2022-06-03T09:09:25.525641Z"
    }
   },
   "outputs": [],
   "source": [
    "# 标准化\n",
    "from sklearn.preprocessing import StandardScaler\n",
    "\n",
    "scaler = StandardScaler()\n",
    "x_train_scaled = scaler.fit_transform(x_train.astype(np.float32).reshape(55000, -1))\n",
    "x_valid_scaled = scaler.transform(x_valid.astype(np.float32).reshape(5000, -1))\n",
    "\n",
    "x_test_scaled = scaler.transform(x_test.astype(np.float32).reshape(10000, -1))"
   ]
  },
  {
   "cell_type": "code",
   "execution_count": 5,
   "id": "fe59c31f",
   "metadata": {
    "ExecuteTime": {
     "end_time": "2022-06-03T09:09:57.874517Z",
     "start_time": "2022-06-03T09:09:55.673695Z"
    }
   },
   "outputs": [],
   "source": [
    "def make_dataset(data, target, epochs, batch_size, shuffle=True):\n",
    "    dataset = tf.data.Dataset.from_tensor_slices((data, target))\n",
    "    if shuffle:\n",
    "        dataset = dataset.shuffle(10000)\n",
    "    dataset = dataset.repeat(epochs).batch(batch_size).prefetch(50)\n",
    "    return dataset\n",
    "\n",
    "batch_size = 64\n",
    "epochs = 20\n",
    "train_dataset = make_dataset(x_train_scaled, y_train, epochs, batch_size)"
   ]
  },
  {
   "cell_type": "code",
   "execution_count": 6,
   "id": "ff0f82c7",
   "metadata": {
    "ExecuteTime": {
     "end_time": "2022-06-03T09:11:42.575945Z",
     "start_time": "2022-06-03T09:11:42.520079Z"
    }
   },
   "outputs": [],
   "source": [
    "model = keras.models.Sequential()\n",
    "model.add(keras.layers.Dense(512, activation='relu', input_shape=(784,)))\n",
    "model.add(keras.layers.Dense(256, activation='relu'))\n",
    "model.add(keras.layers.Dense(10, activation='softmax'))\n",
    "\n",
    "model.compile(loss='sparse_categorical_crossentropy',\n",
    "             optimizer='adam',\n",
    "             metrics=['accuracy'])"
   ]
  },
  {
   "cell_type": "code",
   "execution_count": 7,
   "id": "1f309ff3",
   "metadata": {
    "ExecuteTime": {
     "end_time": "2022-06-03T09:12:00.805003Z",
     "start_time": "2022-06-03T09:12:00.781521Z"
    }
   },
   "outputs": [
    {
     "name": "stdout",
     "output_type": "stream",
     "text": [
      "Model: \"sequential\"\n",
      "_________________________________________________________________\n",
      " Layer (type)                Output Shape              Param #   \n",
      "=================================================================\n",
      " dense (Dense)               (None, 512)               401920    \n",
      "                                                                 \n",
      " dense_1 (Dense)             (None, 256)               131328    \n",
      "                                                                 \n",
      " dense_2 (Dense)             (None, 10)                2570      \n",
      "                                                                 \n",
      "=================================================================\n",
      "Total params: 535,818\n",
      "Trainable params: 535,818\n",
      "Non-trainable params: 0\n",
      "_________________________________________________________________\n"
     ]
    }
   ],
   "source": [
    "model.summary()"
   ]
  },
  {
   "cell_type": "code",
   "execution_count": 8,
   "id": "4e36c7dc",
   "metadata": {
    "ExecuteTime": {
     "end_time": "2022-06-03T09:17:09.421193Z",
     "start_time": "2022-06-03T09:17:09.415209Z"
    }
   },
   "outputs": [],
   "source": [
    "eval_dataset = make_dataset(x_valid_scaled, y_valid, epochs=1, batch_size=32, shuffle=False)"
   ]
  },
  {
   "cell_type": "code",
   "execution_count": 9,
   "id": "5fcab7ca",
   "metadata": {
    "ExecuteTime": {
     "end_time": "2022-06-03T09:18:25.782249Z",
     "start_time": "2022-06-03T09:18:25.762376Z"
    }
   },
   "outputs": [
    {
     "data": {
      "text/plain": [
       "55000"
      ]
     },
     "execution_count": 9,
     "metadata": {},
     "output_type": "execute_result"
    }
   ],
   "source": [
    "x_train_scaled.shape[0]"
   ]
  },
  {
   "cell_type": "code",
   "execution_count": 10,
   "id": "176fdbd7",
   "metadata": {
    "ExecuteTime": {
     "end_time": "2022-06-03T09:18:38.545040Z",
     "start_time": "2022-06-03T09:18:38.532555Z"
    }
   },
   "outputs": [
    {
     "data": {
      "text/plain": [
       "784"
      ]
     },
     "execution_count": 10,
     "metadata": {},
     "output_type": "execute_result"
    }
   ],
   "source": [
    "x_train_scaled.shape[1]"
   ]
  },
  {
   "cell_type": "code",
   "execution_count": 11,
   "id": "dcd56587",
   "metadata": {
    "ExecuteTime": {
     "end_time": "2022-06-03T09:19:24.324716Z",
     "start_time": "2022-06-03T09:18:49.310636Z"
    }
   },
   "outputs": [
    {
     "name": "stdout",
     "output_type": "stream",
     "text": [
      "Epoch 1/10\n",
      "859/859 [==============================] - 4s 4ms/step - loss: 0.4404 - accuracy: 0.8433 - val_loss: 0.3612 - val_accuracy: 0.8710\n",
      "Epoch 2/10\n",
      "859/859 [==============================] - 4s 4ms/step - loss: 0.3235 - accuracy: 0.8803 - val_loss: 0.3498 - val_accuracy: 0.8736\n",
      "Epoch 3/10\n",
      "859/859 [==============================] - 4s 4ms/step - loss: 0.2877 - accuracy: 0.8927 - val_loss: 0.3356 - val_accuracy: 0.8854\n",
      "Epoch 4/10\n",
      "859/859 [==============================] - 3s 4ms/step - loss: 0.2566 - accuracy: 0.9028 - val_loss: 0.3185 - val_accuracy: 0.8910\n",
      "Epoch 5/10\n",
      "859/859 [==============================] - 3s 4ms/step - loss: 0.2332 - accuracy: 0.9118 - val_loss: 0.3544 - val_accuracy: 0.8788\n",
      "Epoch 6/10\n",
      "859/859 [==============================] - 3s 4ms/step - loss: 0.2183 - accuracy: 0.9178 - val_loss: 0.3378 - val_accuracy: 0.8912\n",
      "Epoch 7/10\n",
      "859/859 [==============================] - 3s 4ms/step - loss: 0.1979 - accuracy: 0.9235 - val_loss: 0.3565 - val_accuracy: 0.8870\n",
      "Epoch 8/10\n",
      "859/859 [==============================] - 3s 4ms/step - loss: 0.1816 - accuracy: 0.9313 - val_loss: 0.3313 - val_accuracy: 0.8936\n",
      "Epoch 9/10\n",
      "859/859 [==============================] - 4s 4ms/step - loss: 0.1694 - accuracy: 0.9361 - val_loss: 0.3424 - val_accuracy: 0.8946\n",
      "Epoch 10/10\n",
      "859/859 [==============================] - 4s 4ms/step - loss: 0.1542 - accuracy: 0.9425 - val_loss: 0.3619 - val_accuracy: 0.8896\n"
     ]
    }
   ],
   "source": [
    "history = model.fit(train_dataset, \n",
    "         steps_per_epoch=x_train_scaled.shape[0] // batch_size,\n",
    "         epochs=10,\n",
    "         validation_data=eval_dataset)"
   ]
  },
  {
   "cell_type": "code",
   "execution_count": 12,
   "id": "019bb6cb",
   "metadata": {
    "ExecuteTime": {
     "end_time": "2022-06-03T09:19:38.808733Z",
     "start_time": "2022-06-03T09:19:38.549166Z"
    }
   },
   "outputs": [
    {
     "name": "stdout",
     "output_type": "stream",
     "text": [
      "157/157 [==============================] - 0s 1ms/step - loss: 0.3619 - accuracy: 0.8896\n"
     ]
    },
    {
     "data": {
      "text/plain": [
       "[0.36186549067497253, 0.8895999789237976]"
      ]
     },
     "execution_count": 12,
     "metadata": {},
     "output_type": "execute_result"
    }
   ],
   "source": [
    "model.evaluate(eval_dataset)"
   ]
  },
  {
   "cell_type": "markdown",
   "id": "c271a2e7",
   "metadata": {},
   "source": [
    "# fashion_mnist_cnn"
   ]
  },
  {
   "cell_type": "code",
   "execution_count": 13,
   "id": "6d7e3b2d",
   "metadata": {
    "ExecuteTime": {
     "end_time": "2022-06-03T09:29:49.445954Z",
     "start_time": "2022-06-03T09:29:48.428083Z"
    }
   },
   "outputs": [
    {
     "name": "stdout",
     "output_type": "stream",
     "text": [
      "(5000, 28, 28) (5000,)\n",
      "(55000, 28, 28) (55000,)\n",
      "(10000, 28, 28) (10000,)\n"
     ]
    }
   ],
   "source": [
    "fashion_mnist = keras.datasets.fashion_mnist\n",
    "(x_train_all, y_train_all), (x_test, y_test) = fashion_mnist.load_data()\n",
    "x_valid, x_train = x_train_all[:5000], x_train_all[5000:]\n",
    "y_valid, y_train = y_train_all[:5000], y_train_all[5000:]\n",
    "\n",
    "print(x_valid.shape, y_valid.shape)\n",
    "print(x_train.shape, y_train.shape)\n",
    "print(x_test.shape, y_test.shape)\n",
    "\n",
    "# 标准化\n",
    "from sklearn.preprocessing import StandardScaler\n",
    "\n",
    "scaler = StandardScaler()\n",
    "x_train_scaled = scaler.fit_transform(\n",
    "    x_train.astype(np.float32).reshape(-1, 1)).reshape(-1, 28, 28, 1)\n",
    "x_valid_scaled = scaler.transform(\n",
    "    x_valid.astype(np.float32).reshape(-1, 1)).reshape(-1, 28, 28, 1)\n",
    "\n",
    "x_test_scaled = scaler.transform(\n",
    "    x_test.astype(np.float32).reshape(-1, 1)).reshape(-1, 28, 28, 1)"
   ]
  },
  {
   "cell_type": "code",
   "execution_count": 14,
   "id": "3d010eeb",
   "metadata": {
    "ExecuteTime": {
     "end_time": "2022-06-03T09:30:45.215603Z",
     "start_time": "2022-06-03T09:30:45.201883Z"
    }
   },
   "outputs": [],
   "source": [
    "def make_dataset(data, target, epochs, batch_size, shuffle=True):\n",
    "    dataset = tf.data.Dataset.from_tensor_slices((data, target))\n",
    "    if shuffle:\n",
    "        dataset = dataset.shuffle(10000)\n",
    "    dataset = dataset.repeat(epochs).batch(batch_size).prefetch(50)\n",
    "    return dataset\n",
    "\n",
    "batch_size = 64\n",
    "epochs = 20\n",
    "train_dataset = make_dataset(x_train_scaled, y_train, epochs, batch_size)"
   ]
  },
  {
   "cell_type": "code",
   "execution_count": 15,
   "id": "5580ddb6",
   "metadata": {
    "ExecuteTime": {
     "end_time": "2022-06-03T09:40:57.036774Z",
     "start_time": "2022-06-03T09:40:56.927502Z"
    }
   },
   "outputs": [],
   "source": [
    "model = keras.models.Sequential()\n",
    "# 卷积\n",
    "model.add(keras.layers.Conv2D(filters = 32, \n",
    "                              kernel_size = 3, \n",
    "                              padding = 'same',\n",
    "                              activation='relu',\n",
    "                              # batch_size, height, width, channels\n",
    "                              input_shape=(28, 28, 1))) # (28, 28, 32)\n",
    "\n",
    "model.add(keras.layers.Conv2D(filters = 32, \n",
    "                              kernel_size = 3, \n",
    "                              padding = 'same',\n",
    "                              activation='relu'))\n",
    "# 池化\n",
    "model.add(keras.layers.MaxPool2D()) # (14, 14, 32)\n",
    "\n",
    "# 卷积\n",
    "model.add(keras.layers.Conv2D(filters = 64, \n",
    "                              kernel_size = 3, \n",
    "                              padding = 'same',\n",
    "                              activation='relu')) # (14, 14, 64)\n",
    "model.add(keras.layers.Conv2D(filters = 64, \n",
    "                              kernel_size = 3, \n",
    "                              padding = 'same',\n",
    "                              activation='relu'))\n",
    "# 池化\n",
    "model.add(keras.layers.MaxPool2D()) # (7, 7, 64)\n",
    "\n",
    "# 卷积\n",
    "model.add(keras.layers.Conv2D(filters = 128, \n",
    "                              kernel_size = 3, \n",
    "                              padding = 'same',\n",
    "                              activation='relu')) # (7, 7, 128)\n",
    "model.add(keras.layers.Conv2D(filters = 128, \n",
    "                              kernel_size = 3, \n",
    "                              padding = 'same',\n",
    "                              activation='relu')) # (7, 7, 128)\n",
    "# 池化, 奇数值向下取整\n",
    "model.add(keras.layers.MaxPooling2D()) # (3, 3, 128)\n",
    "\n",
    "\n",
    "model.add(keras.layers.Flatten())\n",
    "model.add(keras.layers.Dense(512, activation='relu'))\n",
    "model.add(keras.layers.Dense(256, activation='relu'))\n",
    "model.add(keras.layers.Dense(10, activation='softmax'))\n",
    "\n",
    "model.compile(loss='sparse_categorical_crossentropy',\n",
    "             optimizer='adam',\n",
    "             metrics=['accuracy'])"
   ]
  },
  {
   "cell_type": "code",
   "execution_count": 16,
   "id": "31c1fdef",
   "metadata": {
    "ExecuteTime": {
     "end_time": "2022-06-03T09:41:15.118702Z",
     "start_time": "2022-06-03T09:41:15.092737Z"
    }
   },
   "outputs": [
    {
     "name": "stdout",
     "output_type": "stream",
     "text": [
      "Model: \"sequential_1\"\n",
      "_________________________________________________________________\n",
      " Layer (type)                Output Shape              Param #   \n",
      "=================================================================\n",
      " conv2d (Conv2D)             (None, 28, 28, 32)        320       \n",
      "                                                                 \n",
      " conv2d_1 (Conv2D)           (None, 28, 28, 32)        9248      \n",
      "                                                                 \n",
      " max_pooling2d (MaxPooling2D  (None, 14, 14, 32)       0         \n",
      " )                                                               \n",
      "                                                                 \n",
      " conv2d_2 (Conv2D)           (None, 14, 14, 64)        18496     \n",
      "                                                                 \n",
      " conv2d_3 (Conv2D)           (None, 14, 14, 64)        36928     \n",
      "                                                                 \n",
      " max_pooling2d_1 (MaxPooling  (None, 7, 7, 64)         0         \n",
      " 2D)                                                             \n",
      "                                                                 \n",
      " conv2d_4 (Conv2D)           (None, 7, 7, 128)         73856     \n",
      "                                                                 \n",
      " conv2d_5 (Conv2D)           (None, 7, 7, 128)         147584    \n",
      "                                                                 \n",
      " max_pooling2d_2 (MaxPooling  (None, 3, 3, 128)        0         \n",
      " 2D)                                                             \n",
      "                                                                 \n",
      " flatten (Flatten)           (None, 1152)              0         \n",
      "                                                                 \n",
      " dense_3 (Dense)             (None, 512)               590336    \n",
      "                                                                 \n",
      " dense_4 (Dense)             (None, 256)               131328    \n",
      "                                                                 \n",
      " dense_5 (Dense)             (None, 10)                2570      \n",
      "                                                                 \n",
      "=================================================================\n",
      "Total params: 1,010,666\n",
      "Trainable params: 1,010,666\n",
      "Non-trainable params: 0\n",
      "_________________________________________________________________\n"
     ]
    }
   ],
   "source": [
    "model.summary()"
   ]
  },
  {
   "cell_type": "code",
   "execution_count": 17,
   "id": "76ce7f28",
   "metadata": {
    "ExecuteTime": {
     "end_time": "2022-06-03T09:41:51.724212Z",
     "start_time": "2022-06-03T09:41:51.714731Z"
    }
   },
   "outputs": [],
   "source": [
    "eval_dataset = make_dataset(x_valid_scaled, y_valid, epochs=1, batch_size=32, shuffle=False)"
   ]
  },
  {
   "cell_type": "code",
   "execution_count": 18,
   "id": "d8006b2a",
   "metadata": {
    "ExecuteTime": {
     "end_time": "2022-06-03T10:00:14.501713Z",
     "start_time": "2022-06-03T09:43:33.761413Z"
    }
   },
   "outputs": [
    {
     "name": "stdout",
     "output_type": "stream",
     "text": [
      "Epoch 1/10\n",
      "859/859 [==============================] - 102s 118ms/step - loss: 0.4426 - accuracy: 0.8376 - val_loss: 0.2986 - val_accuracy: 0.8920\n",
      "Epoch 2/10\n",
      "859/859 [==============================] - 100s 117ms/step - loss: 0.2600 - accuracy: 0.9042 - val_loss: 0.2505 - val_accuracy: 0.9100\n",
      "Epoch 3/10\n",
      "859/859 [==============================] - 103s 119ms/step - loss: 0.2153 - accuracy: 0.9204 - val_loss: 0.2121 - val_accuracy: 0.9184\n",
      "Epoch 4/10\n",
      "859/859 [==============================] - 100s 117ms/step - loss: 0.1887 - accuracy: 0.9306 - val_loss: 0.2204 - val_accuracy: 0.9224\n",
      "Epoch 5/10\n",
      "859/859 [==============================] - 99s 115ms/step - loss: 0.1678 - accuracy: 0.9378 - val_loss: 0.2219 - val_accuracy: 0.9238\n",
      "Epoch 6/10\n",
      "859/859 [==============================] - 99s 115ms/step - loss: 0.1461 - accuracy: 0.9449 - val_loss: 0.2163 - val_accuracy: 0.9248\n",
      "Epoch 7/10\n",
      "859/859 [==============================] - 100s 116ms/step - loss: 0.1281 - accuracy: 0.9511 - val_loss: 0.2205 - val_accuracy: 0.9252\n",
      "Epoch 8/10\n",
      "859/859 [==============================] - 102s 118ms/step - loss: 0.1143 - accuracy: 0.9573 - val_loss: 0.2373 - val_accuracy: 0.9212\n",
      "Epoch 9/10\n",
      "859/859 [==============================] - 96s 112ms/step - loss: 0.1004 - accuracy: 0.9628 - val_loss: 0.2700 - val_accuracy: 0.9274\n",
      "Epoch 10/10\n",
      "859/859 [==============================] - 100s 117ms/step - loss: 0.0885 - accuracy: 0.9668 - val_loss: 0.2821 - val_accuracy: 0.9270\n"
     ]
    }
   ],
   "source": [
    "history = model.fit(train_dataset, \n",
    "         steps_per_epoch=x_train_scaled.shape[0] // batch_size,\n",
    "         epochs=10,\n",
    "         validation_data=eval_dataset)"
   ]
  },
  {
   "cell_type": "code",
   "execution_count": 19,
   "id": "dceb4169",
   "metadata": {
    "ExecuteTime": {
     "end_time": "2022-06-03T10:00:44.064994Z",
     "start_time": "2022-06-03T10:00:42.374075Z"
    }
   },
   "outputs": [
    {
     "name": "stdout",
     "output_type": "stream",
     "text": [
      "157/157 [==============================] - 2s 11ms/step - loss: 0.2821 - accuracy: 0.9270\n"
     ]
    },
    {
     "data": {
      "text/plain": [
       "[0.2820540964603424, 0.9269999861717224]"
      ]
     },
     "execution_count": 19,
     "metadata": {},
     "output_type": "execute_result"
    }
   ],
   "source": [
    "model.evaluate(eval_dataset)"
   ]
  },
  {
   "cell_type": "code",
   "execution_count": 20,
   "id": "83121f50",
   "metadata": {
    "ExecuteTime": {
     "end_time": "2022-06-03T10:00:57.613420Z",
     "start_time": "2022-06-03T10:00:57.419561Z"
    }
   },
   "outputs": [
    {
     "data": {
      "image/png": "[encoded data removed]",
      "text/plain": [
       "<Figure size 576x360 with 1 Axes>"
      ]
     },
     "metadata": {
      "needs_background": "light"
     },
     "output_type": "display_data"
    }
   ],
   "source": [
    "def plot_learning_curves(history):\n",
    "    pd.DataFrame(history.history).plot(figsize=(8, 5))\n",
    "    plt.grid(True)\n",
    "    plt.gca().set_ylim(0, 1)\n",
    "    plt.show()\n",
    "    \n",
    "plot_learning_curves(history)"
   ]
  },
  {
   "cell_type": "markdown",
   "id": "6ad44638",
   "metadata": {},
   "source": [
    "# fashion_mnist_cnn-selu"
   ]
  },
  {
   "cell_type": "code",
   "execution_count": null,
   "id": "ff8e365e",
   "metadata": {},
   "outputs": [],
   "source": [
    "from tensorflow import keras\n",
    "import tensorflow as tf\n",
    "import numpy as np\n",
    "import pandas as pd\n",
    "import matplotlib.pyplot as plt\n",
    "\n",
    "\n",
    "fashion_mnist = keras.datasets.fashion_mnist\n",
    "(x_train_all, y_train_all), (x_test, y_test) = fashion_mnist.load_data()\n",
    "x_valid, x_train = x_train_all[:5000], x_train_all[5000:]\n",
    "y_valid, y_train = y_train_all[:5000], y_train_all[5000:]\n",
    "\n",
    "print(x_valid.shape, y_valid.shape)\n",
    "print(x_train.shape, y_train.shape)\n",
    "print(x_test.shape, y_test.shape)\n",
    "# 标准化\n",
    "from sklearn.preprocessing import StandardScaler\n",
    "\n",
    "scaler = StandardScaler()\n",
    "x_train_scaled = scaler.fit_transform(\n",
    "    x_train.astype(np.float32).reshape(-1, 1)).reshape(-1, 28, 28, 1)\n",
    "x_valid_scaled = scaler.transform(\n",
    "    x_valid.astype(np.float32).reshape(-1, 1)).reshape(-1, 28, 28, 1)\n",
    "\n",
    "x_test_scaled = scaler.transform(\n",
    "    x_test.astype(np.float32).reshape(-1, 1)).reshape(-1, 28, 28, 1)\n",
    "def make_dataset(data, target, epochs, batch_size, shuffle=True):\n",
    "    dataset = tf.data.Dataset.from_tensor_slices((data, target))\n",
    "    if shuffle:\n",
    "        dataset = dataset.shuffle(10000)\n",
    "    dataset = dataset.repeat(epochs).batch(batch_size).prefetch(50)\n",
    "    return dataset\n",
    "\n",
    "batch_size = 64\n",
    "epochs = 20\n",
    "train_dataset = make_dataset(x_train_scaled, y_train, epochs, batch_size)\n",
    "model = keras.models.Sequential()\n",
    "# 卷积\n",
    "model.add(keras.layers.Conv2D(filters = 32, \n",
    "                              kernel_size = 3, \n",
    "                              padding = 'same',\n",
    "                              activation='selu',\n",
    "                              # batch_size, height, width, channels\n",
    "                              input_shape=(28, 28, 1))) # (28, 28, 32)\n",
    "\n",
    "model.add(keras.layers.Conv2D(filters = 32, \n",
    "                              kernel_size = 3, \n",
    "                              padding = 'same',\n",
    "                              activation='selu'))\n",
    "# 池化\n",
    "model.add(keras.layers.MaxPool2D()) # (14, 14, 32)\n",
    "\n",
    "model.add(keras.layers.Conv2D(filters = 64, \n",
    "                              kernel_size = 3, \n",
    "                              padding = 'same',\n",
    "                              activation='selu')) # (14, 14, 64)\n",
    "model.add(keras.layers.Conv2D(filters = 64, \n",
    "                              kernel_size = 3, \n",
    "                              padding = 'same',\n",
    "                              activation='selu'))\n",
    "# 池化\n",
    "model.add(keras.layers.MaxPool2D()) # (7, 7, 64)\n",
    "model.add(keras.layers.Conv2D(filters = 128, \n",
    "                              kernel_size = 3, \n",
    "                              padding = 'same',\n",
    "                              activation='selu')) # (7, 7, 128)\n",
    "model.add(keras.layers.Conv2D(filters = 128, \n",
    "                              kernel_size = 3, \n",
    "                              padding = 'same',\n",
    "                              activation='selu')) # (7, 7, 128)\n",
    "# 池化, 向下取整\n",
    "model.add(keras.layers.MaxPooling2D()) # (3, 3, 128)\n",
    "\n",
    "model.add(keras.layers.Flatten())\n",
    "model.add(keras.layers.Dense(512, activation='selu', input_shape=(784,)))\n",
    "model.add(keras.layers.Dense(256, activation='selu'))\n",
    "model.add(keras.layers.Dense(10, activation='softmax'))\n",
    "\n",
    "model.compile(loss='sparse_categorical_crossentropy',\n",
    "             optimizer='adam',\n",
    "             metrics=['accuracy'])\n",
    "eval_dataset = make_dataset(x_valid_scaled, y_valid, epochs=1, batch_size=32, shuffle=False)"
   ]
  },
  {
   "cell_type": "code",
   "execution_count": null,
   "id": "4102fb0c",
   "metadata": {},
   "outputs": [],
   "source": [
    "history = model.fit(train_dataset, \n",
    "         steps_per_epoch=x_train_scaled.shape[0] // batch_size,\n",
    "         epochs=10,\n",
    "         validation_data=eval_dataset)"
   ]
  },
  {
   "cell_type": "code",
   "execution_count": 21,
   "id": "ecf3ac5d",
   "metadata": {
    "ExecuteTime": {
     "end_time": "2022-06-03T10:05:55.372366Z",
     "start_time": "2022-06-03T10:05:55.367271Z"
    }
   },
   "outputs": [],
   "source": [
    "test_dataset = make_dataset(x_test_scaled, y_test, epochs=1, batch_size=128, shuffle=True)"
   ]
  },
  {
   "cell_type": "code",
   "execution_count": 22,
   "id": "a2139456",
   "metadata": {
    "ExecuteTime": {
     "end_time": "2022-06-03T10:06:13.291399Z",
     "start_time": "2022-06-03T10:06:10.537241Z"
    }
   },
   "outputs": [
    {
     "name": "stdout",
     "output_type": "stream",
     "text": [
      "79/79 [==============================] - 3s 34ms/step - loss: 0.2871 - accuracy: 0.9241\n"
     ]
    },
    {
     "data": {
      "text/plain": [
       "[0.28709742426872253, 0.9240999817848206]"
      ]
     },
     "execution_count": 22,
     "metadata": {},
     "output_type": "execute_result"
    }
   ],
   "source": [
    "model.evaluate(test_dataset)"
   ]
  },
  {
   "cell_type": "code",
   "execution_count": 23,
   "id": "65387ecc",
   "metadata": {
    "ExecuteTime": {
     "end_time": "2022-06-03T10:06:47.395718Z",
     "start_time": "2022-06-03T10:06:47.272958Z"
    }
   },
   "outputs": [
    {
     "data": {
      "image/png": "[encoded data removed]",
      "text/plain": [
       "<Figure size 576x360 with 1 Axes>"
      ]
     },
     "metadata": {
      "needs_background": "light"
     },
     "output_type": "display_data"
    }
   ],
   "source": [
    "def plot_learning_curves(history):\n",
    "    pd.DataFrame(history.history).plot(figsize=(8, 5))\n",
    "    plt.grid(True)\n",
    "    plt.gca().set_ylim(0, 1)\n",
    "    plt.show()\n",
    "    \n",
    "plot_learning_curves(history)"
   ]
  }
 ],
 "metadata": {
  "hide_input": false,
  "kernelspec": {
   "display_name": "Python 3 (ipykernel)",
   "language": "python",
   "name": "python3"
  },
  "language_info": {
   "codemirror_mode": {
    "name": "ipython",
    "version": 3
   },
   "file_extension": ".py",
   "mimetype": "text/x-python",
   "name": "python",
   "nbconvert_exporter": "python",
   "pygments_lexer": "ipython3",
   "version": "3.9.7"
  },
  "latex_envs": {
   "LaTeX_envs_menu_present": true,
   "autoclose": false,
   "autocomplete": true,
   "bibliofile": "biblio.bib",
   "cite_by": "apalike",
   "current_citInitial": 1,
   "eqLabelWithNumbers": true,
   "eqNumInitial": 1,
   "hotkeys": {
    "equation": "Ctrl-E",
    "itemize": "Ctrl-I"
   },
   "labels_anchors": false,
   "latex_user_defs": false,
   "report_style_numbering": false,
   "user_envs_cfg": false
  },
  "nbTranslate": {
   "displayLangs": [
    "*"
   ],
   "hotkey": "alt-t",
   "langInMainMenu": true,
   "sourceLang": "en",
   "targetLang": "fr",
   "useGoogleTranslate": true
  },
  "toc": {
   "base_numbering": 1,
   "nav_menu": {},
   "number_sections": true,
   "sideBar": true,
   "skip_h1_title": false,
   "title_cell": "Table of Contents",
   "title_sidebar": "Contents",
   "toc_cell": false,
   "toc_position": {},
   "toc_section_display": true,
   "toc_window_display": false
  },
  "varInspector": {
   "cols": {
    "lenName": 16,
    "lenType": 16,
    "lenVar": 40
   },
   "kernels_config": {
    "python": {
     "delete_cmd_postfix": "",
     "delete_cmd_prefix": "del ",
     "library": "var_list.py",
     "varRefreshCmd": "print(var_dic_list())"
    },
    "r": {
     "delete_cmd_postfix": ") ",
     "delete_cmd_prefix": "rm(",
     "library": "var_list.r",
     "varRefreshCmd": "cat(var_dic_list()) "
    }
   },
   "position": {
    "height": "352.85px",
    "left": "387.2px",
    "right": "20px",
    "top": "0px",
    "width": "358px"
   },
   "types_to_exclude": [
    "module",
    "function",
    "builtin_function_or_method",
    "instance",
    "_Feature"
   ],
   "window_display": true
  }
 },
 "nbformat": 4,
 "nbformat_minor": 5
}
