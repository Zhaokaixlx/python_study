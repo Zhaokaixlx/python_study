{
 "cells": [
  {
   "cell_type": "code",
   "execution_count": 1,
   "id": "59e84890",
   "metadata": {
    "ExecuteTime": {
     "end_time": "2022-06-20T08:40:24.568283Z",
     "start_time": "2022-06-20T08:40:24.559306Z"
    }
   },
   "outputs": [],
   "source": [
    "import torch\n",
    "from torch import nn\n",
    "from torch.utils.data import DataLoader\n",
    "from torchvision import datasets\n",
    "from torchvision.transforms import ToTensor"
   ]
  },
  {
   "cell_type": "markdown",
   "id": "43795199",
   "metadata": {},
   "source": [
    "# 数据导入"
   ]
  },
  {
   "cell_type": "code",
   "execution_count": 2,
   "id": "a0815386",
   "metadata": {
    "ExecuteTime": {
     "end_time": "2022-06-20T08:42:02.431043Z",
     "start_time": "2022-06-20T08:42:02.377156Z"
    }
   },
   "outputs": [],
   "source": [
    "training_data = datasets.FashionMNIST(root='data',\n",
    "                     train=True,\n",
    "                     download=True,\n",
    "                     transform=ToTensor())\n",
    "test_data = datasets.FashionMNIST(root='data',\n",
    "                     train=False,\n",
    "                     download=True,\n",
    "                     transform=ToTensor())"
   ]
  },
  {
   "cell_type": "code",
   "execution_count": 3,
   "id": "4312a47f",
   "metadata": {
    "ExecuteTime": {
     "end_time": "2022-06-20T08:44:31.372086Z",
     "start_time": "2022-06-20T08:44:31.355127Z"
    }
   },
   "outputs": [],
   "source": [
    "batch_size = 64\n",
    "\n",
    "train_dataloader = DataLoader(training_data, batch_size=batch_size)\n",
    "test_dataloader = DataLoader(test_data, batch_size=batch_size)"
   ]
  },
  {
   "cell_type": "code",
   "execution_count": 4,
   "id": "59d4176e",
   "metadata": {
    "ExecuteTime": {
     "end_time": "2022-06-20T08:46:23.884150Z",
     "start_time": "2022-06-20T08:46:23.848199Z"
    }
   },
   "outputs": [],
   "source": [
    "images, labels = next(iter(train_dataloader))"
   ]
  },
  {
   "cell_type": "code",
   "execution_count": 5,
   "id": "5bd97664",
   "metadata": {
    "ExecuteTime": {
     "end_time": "2022-06-20T08:46:31.144489Z",
     "start_time": "2022-06-20T08:46:31.127504Z"
    }
   },
   "outputs": [
    {
     "data": {
      "text/plain": [
       "torch.Size([64, 1, 28, 28])"
      ]
     },
     "execution_count": 5,
     "metadata": {},
     "output_type": "execute_result"
    }
   ],
   "source": [
    "images.shape"
   ]
  },
  {
   "cell_type": "code",
   "execution_count": 6,
   "id": "aaadb63a",
   "metadata": {
    "ExecuteTime": {
     "end_time": "2022-06-20T08:46:39.397477Z",
     "start_time": "2022-06-20T08:46:39.381519Z"
    }
   },
   "outputs": [
    {
     "data": {
      "text/plain": [
       "torch.Size([64])"
      ]
     },
     "execution_count": 6,
     "metadata": {},
     "output_type": "execute_result"
    }
   ],
   "source": [
    "labels.shape"
   ]
  },
  {
   "cell_type": "code",
   "execution_count": 7,
   "id": "c07137df",
   "metadata": {
    "ExecuteTime": {
     "end_time": "2022-06-20T08:48:38.086045Z",
     "start_time": "2022-06-20T08:48:38.070447Z"
    }
   },
   "outputs": [
    {
     "data": {
      "text/plain": [
       "tensor(9)"
      ]
     },
     "execution_count": 7,
     "metadata": {},
     "output_type": "execute_result"
    }
   ],
   "source": [
    "labels[0]"
   ]
  },
  {
   "cell_type": "code",
   "execution_count": 8,
   "id": "b0871eb4",
   "metadata": {
    "ExecuteTime": {
     "end_time": "2022-06-20T08:48:47.326476Z",
     "start_time": "2022-06-20T08:48:46.971904Z"
    }
   },
   "outputs": [],
   "source": [
    "import matplotlib.pyplot as plt"
   ]
  },
  {
   "cell_type": "code",
   "execution_count": 9,
   "id": "be614e0c",
   "metadata": {
    "ExecuteTime": {
     "end_time": "2022-06-20T08:49:06.014684Z",
     "start_time": "2022-06-20T08:49:05.888581Z"
    }
   },
   "outputs": [
    {
     "data": {
      "text/plain": [
       "<matplotlib.image.AxesImage at 0x17d711c0bb0>"
      ]
     },
     "execution_count": 9,
     "metadata": {},
     "output_type": "execute_result"
    },
    {
     "data": {
      "image/png": "[encoded data removed]",
      "text/plain": [
       "<Figure size 432x288 with 1 Axes>"
      ]
     },
     "metadata": {
      "needs_background": "light"
     },
     "output_type": "display_data"
    }
   ],
   "source": [
    "plt.imshow(images[0].reshape(28, 28), cmap='gray')"
   ]
  },
  {
   "cell_type": "markdown",
   "id": "5358ec36",
   "metadata": {},
   "source": [
    "# 创建模型"
   ]
  },
  {
   "cell_type": "code",
   "execution_count": 10,
   "id": "cf19d203",
   "metadata": {
    "ExecuteTime": {
     "end_time": "2022-06-20T08:49:33.469708Z",
     "start_time": "2022-06-20T08:49:33.460185Z"
    }
   },
   "outputs": [
    {
     "name": "stdout",
     "output_type": "stream",
     "text": [
      "cpu\n"
     ]
    }
   ],
   "source": [
    "class Model(nn.Module):\n",
    "    def __init__(self):\n",
    "        super().__init__()\n",
    "        self.flatten = nn.Flatten()\n",
    "        self.linear_relu_stack = nn.Sequential(\n",
    "            nn.Linear(28 * 28, 512),\n",
    "            nn.ReLU(),\n",
    "            nn.Linear(512, 512),\n",
    "            nn.ReLU(),\n",
    "            nn.Linear(512, 10)   \n",
    "        )\n",
    "        \n",
    "    def forward(self, x):\n",
    "        x = self.flatten(x)\n",
    "        logits = self.linear_relu_stack(x)\n",
    "        return logits\n",
    "    \n",
    "device = 'cuda' if torch.cuda.is_available() else 'cpu'\n",
    "print(device)"
   ]
  },
  {
   "cell_type": "code",
   "execution_count": 11,
   "id": "62aa43e4",
   "metadata": {
    "ExecuteTime": {
     "end_time": "2022-06-20T08:50:16.524714Z",
     "start_time": "2022-06-20T08:50:16.500352Z"
    }
   },
   "outputs": [],
   "source": [
    "# 创建模型, 并拷贝到GPU上\n",
    "model = Model().to(device)"
   ]
  },
  {
   "cell_type": "markdown",
   "id": "4de0a0d2",
   "metadata": {},
   "source": [
    "# 指定损失函数和优化器."
   ]
  },
  {
   "cell_type": "code",
   "execution_count": 12,
   "id": "10293416",
   "metadata": {
    "ExecuteTime": {
     "end_time": "2022-06-20T08:50:37.683609Z",
     "start_time": "2022-06-20T08:50:37.675630Z"
    }
   },
   "outputs": [],
   "source": [
    "loss_fn = nn.CrossEntropyLoss()\n",
    "optimizer = torch.optim.SGD(model.parameters(), lr=1e-3)"
   ]
  },
  {
   "cell_type": "markdown",
   "id": "2444e5c0",
   "metadata": {},
   "source": [
    "# 训练"
   ]
  },
  {
   "cell_type": "code",
   "execution_count": 13,
   "id": "0d83498e",
   "metadata": {
    "ExecuteTime": {
     "end_time": "2022-06-20T08:53:52.956149Z",
     "start_time": "2022-06-20T08:53:52.948690Z"
    }
   },
   "outputs": [],
   "source": [
    "def train(dataloader, model, loss_fn, optimizer):\n",
    "    size = len(dataloader.dataset)\n",
    "    model.train()\n",
    "    for batch, (X, y) in enumerate(dataloader):\n",
    "        # 拷贝到GPU\n",
    "        X, y = X.to(device), y.to(device)\n",
    "        # 计算损失\n",
    "        pred =  model(X)\n",
    "        loss = loss_fn(pred, y)\n",
    "        # 反向传播\n",
    "        optimizer.zero_grad()\n",
    "        loss.backward()\n",
    "        optimizer.step()\n",
    "        \n",
    "        # 打印\n",
    "        if batch % 100 == 0:\n",
    "            loss, current = loss.item(), batch * len(X)\n",
    "            print(f'loss: {loss:>7f}  [{current: >5d}/ {size:>5d}]')"
   ]
  },
  {
   "cell_type": "code",
   "execution_count": 14,
   "id": "a63e2109",
   "metadata": {
    "ExecuteTime": {
     "end_time": "2022-06-20T08:54:15.048514Z",
     "start_time": "2022-06-20T08:54:15.035535Z"
    }
   },
   "outputs": [],
   "source": [
    "def test(dataloader, model, loss_fn):\n",
    "    size = len(dataloader.dataset)\n",
    "    num_batches = len(dataloader)\n",
    "    model.eval()\n",
    "    test_loss, correct = 0, 0\n",
    "    with torch.no_grad():\n",
    "        for X, y in dataloader:\n",
    "            X, y = X.to(device), y.to(device)\n",
    "            pred = model(X)\n",
    "            test_loss += loss_fn(pred, y).item()\n",
    "            correct += (pred.argmax(1) == y).type(torch.float).sum().item()\n",
    "            \n",
    "    test_loss /= num_batches\n",
    "    correct /= size\n",
    "    print(f'Test Error: \\n Accuracy: {(100 * correct):>0.1f}, Avg Loss: {test_loss:>8f}\\n')"
   ]
  },
  {
   "cell_type": "code",
   "execution_count": 15,
   "id": "9dcb1cc9",
   "metadata": {
    "ExecuteTime": {
     "end_time": "2022-06-20T08:56:48.301344Z",
     "start_time": "2022-06-20T08:54:58.224946Z"
    }
   },
   "outputs": [
    {
     "name": "stdout",
     "output_type": "stream",
     "text": [
      "Epoch 1\n",
      "-------------------------------------------\n",
      "loss: 2.288755  [    0/ 60000]\n",
      "loss: 2.296581  [ 6400/ 60000]\n",
      "loss: 2.267184  [12800/ 60000]\n",
      "loss: 2.270406  [19200/ 60000]\n",
      "loss: 2.242374  [25600/ 60000]\n",
      "loss: 2.206937  [32000/ 60000]\n",
      "loss: 2.223131  [38400/ 60000]\n",
      "loss: 2.182037  [44800/ 60000]\n",
      "loss: 2.182667  [51200/ 60000]\n",
      "loss: 2.141050  [57600/ 60000]\n",
      "Test Error: \n",
      " Accuracy: 38.9, Avg Loss: 2.144705\n",
      "\n",
      "Epoch 2\n",
      "-------------------------------------------\n",
      "loss: 2.149668  [    0/ 60000]\n",
      "loss: 2.154207  [ 6400/ 60000]\n",
      "loss: 2.087603  [12800/ 60000]\n",
      "loss: 2.110466  [19200/ 60000]\n",
      "loss: 2.050269  [25600/ 60000]\n",
      "loss: 1.986395  [32000/ 60000]\n",
      "loss: 2.020153  [38400/ 60000]\n",
      "loss: 1.935390  [44800/ 60000]\n",
      "loss: 1.946201  [51200/ 60000]\n",
      "loss: 1.862492  [57600/ 60000]\n",
      "Test Error: \n",
      " Accuracy: 58.1, Avg Loss: 1.868002\n",
      "\n",
      "Epoch 3\n",
      "-------------------------------------------\n",
      "loss: 1.899938  [    0/ 60000]\n",
      "loss: 1.878821  [ 6400/ 60000]\n",
      "loss: 1.755918  [12800/ 60000]\n",
      "loss: 1.800761  [19200/ 60000]\n",
      "loss: 1.677102  [25600/ 60000]\n",
      "loss: 1.633719  [32000/ 60000]\n",
      "loss: 1.660743  [38400/ 60000]\n",
      "loss: 1.558901  [44800/ 60000]\n",
      "loss: 1.589628  [51200/ 60000]\n",
      "loss: 1.479870  [57600/ 60000]\n",
      "Test Error: \n",
      " Accuracy: 60.6, Avg Loss: 1.497924\n",
      "\n",
      "Epoch 4\n",
      "-------------------------------------------\n",
      "loss: 1.567832  [    0/ 60000]\n",
      "loss: 1.539699  [ 6400/ 60000]\n",
      "loss: 1.385849  [12800/ 60000]\n",
      "loss: 1.456109  [19200/ 60000]\n",
      "loss: 1.331736  [25600/ 60000]\n",
      "loss: 1.336956  [32000/ 60000]\n",
      "loss: 1.352795  [38400/ 60000]\n",
      "loss: 1.275383  [44800/ 60000]\n",
      "loss: 1.309368  [51200/ 60000]\n",
      "loss: 1.215312  [57600/ 60000]\n",
      "Test Error: \n",
      " Accuracy: 63.2, Avg Loss: 1.236216\n",
      "\n",
      "Epoch 5\n",
      "-------------------------------------------\n",
      "loss: 1.315075  [    0/ 60000]\n",
      "loss: 1.305636  [ 6400/ 60000]\n",
      "loss: 1.134327  [12800/ 60000]\n",
      "loss: 1.237805  [19200/ 60000]\n",
      "loss: 1.111583  [25600/ 60000]\n",
      "loss: 1.143018  [32000/ 60000]\n",
      "loss: 1.166748  [38400/ 60000]\n",
      "loss: 1.101384  [44800/ 60000]\n",
      "loss: 1.134745  [51200/ 60000]\n",
      "loss: 1.062584  [57600/ 60000]\n",
      "Test Error: \n",
      " Accuracy: 64.7, Avg Loss: 1.076422\n",
      "\n",
      "Epoch 6\n",
      "-------------------------------------------\n",
      "loss: 1.146735  [    0/ 60000]\n",
      "loss: 1.161207  [ 6400/ 60000]\n",
      "loss: 0.971233  [12800/ 60000]\n",
      "loss: 1.104457  [19200/ 60000]\n",
      "loss: 0.976347  [25600/ 60000]\n",
      "loss: 1.012613  [32000/ 60000]\n",
      "loss: 1.052366  [38400/ 60000]\n",
      "loss: 0.991678  [44800/ 60000]\n",
      "loss: 1.020586  [51200/ 60000]\n",
      "loss: 0.967571  [57600/ 60000]\n",
      "Test Error: \n",
      " Accuracy: 65.9, Avg Loss: 0.973840\n",
      "\n",
      "Epoch 7\n",
      "-------------------------------------------\n",
      "loss: 1.031039  [    0/ 60000]\n",
      "loss: 1.068654  [ 6400/ 60000]\n",
      "loss: 0.860052  [12800/ 60000]\n",
      "loss: 1.016432  [19200/ 60000]\n",
      "loss: 0.889842  [25600/ 60000]\n",
      "loss: 0.920354  [32000/ 60000]\n",
      "loss: 0.977086  [38400/ 60000]\n",
      "loss: 0.920077  [44800/ 60000]\n",
      "loss: 0.941254  [51200/ 60000]\n",
      "loss: 0.903702  [57600/ 60000]\n",
      "Test Error: \n",
      " Accuracy: 67.2, Avg Loss: 0.903814\n",
      "\n",
      "Epoch 8\n",
      "-------------------------------------------\n",
      "loss: 0.946577  [    0/ 60000]\n",
      "loss: 1.004386  [ 6400/ 60000]\n",
      "loss: 0.779666  [12800/ 60000]\n",
      "loss: 0.953566  [19200/ 60000]\n",
      "loss: 0.830941  [25600/ 60000]\n",
      "loss: 0.852506  [32000/ 60000]\n",
      "loss: 0.923478  [38400/ 60000]\n",
      "loss: 0.871749  [44800/ 60000]\n",
      "loss: 0.883718  [51200/ 60000]\n",
      "loss: 0.857152  [57600/ 60000]\n",
      "Test Error: \n",
      " Accuracy: 68.6, Avg Loss: 0.853121\n",
      "\n",
      "Epoch 9\n",
      "-------------------------------------------\n",
      "loss: 0.881627  [    0/ 60000]\n",
      "loss: 0.955657  [ 6400/ 60000]\n",
      "loss: 0.718874  [12800/ 60000]\n",
      "loss: 0.906011  [19200/ 60000]\n",
      "loss: 0.788258  [25600/ 60000]\n",
      "loss: 0.801032  [32000/ 60000]\n",
      "loss: 0.882475  [38400/ 60000]\n",
      "loss: 0.837443  [44800/ 60000]\n",
      "loss: 0.840399  [51200/ 60000]\n",
      "loss: 0.820931  [57600/ 60000]\n",
      "Test Error: \n",
      " Accuracy: 69.9, Avg Loss: 0.814426\n",
      "\n",
      "Epoch 10\n",
      "-------------------------------------------\n",
      "loss: 0.829580  [    0/ 60000]\n",
      "loss: 0.915940  [ 6400/ 60000]\n",
      "loss: 0.671197  [12800/ 60000]\n",
      "loss: 0.868683  [19200/ 60000]\n",
      "loss: 0.755484  [25600/ 60000]\n",
      "loss: 0.760905  [32000/ 60000]\n",
      "loss: 0.849301  [38400/ 60000]\n",
      "loss: 0.811665  [44800/ 60000]\n",
      "loss: 0.806641  [51200/ 60000]\n",
      "loss: 0.791391  [57600/ 60000]\n",
      "Test Error: \n",
      " Accuracy: 71.2, Avg Loss: 0.783488\n",
      "\n",
      "Done!\n"
     ]
    }
   ],
   "source": [
    "epochs = 10\n",
    "for t in range(epochs):\n",
    "    print(f'Epoch {t + 1}\\n-------------------------------------------')\n",
    "    train(train_dataloader, model, loss_fn, optimizer)\n",
    "    test(test_dataloader, model, loss_fn)\n",
    "print('Done!')"
   ]
  },
  {
   "cell_type": "markdown",
   "id": "f4c26a36",
   "metadata": {},
   "source": [
    "# 保存模型"
   ]
  },
  {
   "cell_type": "code",
   "execution_count": 16,
   "id": "f5316db3",
   "metadata": {
    "ExecuteTime": {
     "end_time": "2022-06-20T08:59:34.917799Z",
     "start_time": "2022-06-20T08:59:34.900813Z"
    }
   },
   "outputs": [],
   "source": [
    "# 保存模型\n",
    "torch.save(model.state_dict(), 'model.pth')"
   ]
  },
  {
   "cell_type": "markdown",
   "id": "34deebdb",
   "metadata": {},
   "source": [
    "# 模型验证"
   ]
  },
  {
   "cell_type": "code",
   "execution_count": 17,
   "id": "b465a84e",
   "metadata": {
    "ExecuteTime": {
     "end_time": "2022-06-20T09:01:35.651764Z",
     "start_time": "2022-06-20T09:01:35.634810Z"
    }
   },
   "outputs": [
    {
     "data": {
      "text/plain": [
       "<All keys matched successfully>"
      ]
     },
     "execution_count": 17,
     "metadata": {},
     "output_type": "execute_result"
    }
   ],
   "source": [
    "# 先创建模型实例对象\n",
    "model = Model()\n",
    "model.load_state_dict(torch.load('model.pth'))"
   ]
  },
  {
   "cell_type": "code",
   "execution_count": 18,
   "id": "47897548",
   "metadata": {
    "ExecuteTime": {
     "end_time": "2022-06-20T09:01:54.567584Z",
     "start_time": "2022-06-20T09:01:54.550617Z"
    }
   },
   "outputs": [],
   "source": [
    "classes = ['T-shirt/top', 'Trouser', 'Pullover', 'Dress', 'Coat', 'Sandal', 'Shirt', 'Sneaker', 'Bag', 'Ankle boot']"
   ]
  },
  {
   "cell_type": "code",
   "execution_count": 19,
   "id": "4c799c68",
   "metadata": {
    "ExecuteTime": {
     "end_time": "2022-06-20T09:03:34.951794Z",
     "start_time": "2022-06-20T09:03:34.936835Z"
    }
   },
   "outputs": [
    {
     "name": "stdout",
     "output_type": "stream",
     "text": [
      "Predicted: \"Ankle boot\", Actual: \"Ankle boot\"\n"
     ]
    }
   ],
   "source": [
    "model.eval()\n",
    "x, y = test_data[0][0], test_data[0][1]\n",
    "with torch.no_grad():\n",
    "    pred = model(x)\n",
    "    predicted, actual = classes[pred[0].argmax(0)], classes[y]\n",
    "    print(f'Predicted: \"{predicted}\", Actual: \"{actual}\"')"
   ]
  },
  {
   "cell_type": "code",
   "execution_count": 20,
   "id": "f6c1d80b",
   "metadata": {
    "ExecuteTime": {
     "end_time": "2022-06-20T09:03:43.079944Z",
     "start_time": "2022-06-20T09:03:43.072843Z"
    }
   },
   "outputs": [
    {
     "data": {
      "text/plain": [
       "torch.Size([1, 28, 28])"
      ]
     },
     "execution_count": 20,
     "metadata": {},
     "output_type": "execute_result"
    }
   ],
   "source": [
    "x.shape"
   ]
  },
  {
   "cell_type": "code",
   "execution_count": 21,
   "id": "5d2b2fd8",
   "metadata": {
    "ExecuteTime": {
     "end_time": "2022-06-20T09:04:36.122493Z",
     "start_time": "2022-06-20T09:04:36.020867Z"
    }
   },
   "outputs": [
    {
     "data": {
      "text/plain": [
       "<matplotlib.image.AxesImage at 0x17d718d53a0>"
      ]
     },
     "execution_count": 21,
     "metadata": {},
     "output_type": "execute_result"
    },
    {
     "data": {
      "image/png": "[encoded data removed]",
      "text/plain": [
       "<Figure size 432x288 with 1 Axes>"
      ]
     },
     "metadata": {
      "needs_background": "light"
     },
     "output_type": "display_data"
    }
   ],
   "source": [
    "plt.imshow(x.reshape(28, 28), cmap='gray')"
   ]
  },
  {
   "cell_type": "code",
   "execution_count": 22,
   "id": "30a24e64",
   "metadata": {
    "ExecuteTime": {
     "end_time": "2022-06-20T09:06:09.453835Z",
     "start_time": "2022-06-20T09:06:09.430882Z"
    }
   },
   "outputs": [
    {
     "data": {
      "text/plain": [
       "tensor([[[0.0000, 0.0000, 0.0000, 0.0000, 0.0000, 0.0000, 0.0000, 0.0000,\n",
       "          0.0000, 0.0000, 0.0000, 0.0000, 0.0000, 0.0000, 0.0000, 0.0000,\n",
       "          0.0000, 0.0000, 0.0000, 0.0000, 0.0000, 0.0000, 0.0000, 0.0000,\n",
       "          0.0000, 0.0000, 0.0000, 0.0000],\n",
       "         [0.0000, 0.0000, 0.0000, 0.0000, 0.0000, 0.0000, 0.0000, 0.0000,\n",
       "          0.0000, 0.0000, 0.0000, 0.0000, 0.0000, 0.0000, 0.0000, 0.0000,\n",
       "          0.0000, 0.0000, 0.0000, 0.0000, 0.0000, 0.0000, 0.0000, 0.0000,\n",
       "          0.0000, 0.0000, 0.0000, 0.0000],\n",
       "         [0.0000, 0.0000, 0.0000, 0.0000, 0.0000, 0.0000, 0.0000, 0.0000,\n",
       "          0.0000, 0.0000, 0.0000, 0.0000, 0.0000, 0.0000, 0.0000, 0.0000,\n",
       "          0.0000, 0.0000, 0.0000, 0.0000, 0.0000, 0.0000, 0.0000, 0.0000,\n",
       "          0.0000, 0.0000, 0.0000, 0.0000],\n",
       "         [0.0000, 0.0000, 0.0000, 0.0000, 0.0000, 0.0000, 0.0000, 0.0000,\n",
       "          0.0000, 0.0000, 0.0000, 0.0000, 0.0000, 0.0000, 0.0000, 0.0000,\n",
       "          0.0000, 0.0000, 0.0000, 0.0000, 0.0000, 0.0000, 0.0000, 0.0000,\n",
       "          0.0000, 0.0000, 0.0000, 0.0000],\n",
       "         [0.0000, 0.0000, 0.0000, 0.0000, 0.0000, 0.0000, 0.0000, 0.0000,\n",
       "          0.0000, 0.0000, 0.0000, 0.0000, 0.0000, 0.0000, 0.0000, 0.0000,\n",
       "          0.0000, 0.0000, 0.0000, 0.0000, 0.0000, 0.0000, 0.0000, 0.0000,\n",
       "          0.0000, 0.0000, 0.0000, 0.0000],\n",
       "         [0.0000, 0.0000, 0.0000, 0.0000, 0.0000, 0.0000, 0.0000, 0.0000,\n",
       "          0.0000, 0.0000, 0.0000, 0.0000, 0.0000, 0.0000, 0.0000, 0.0000,\n",
       "          0.0000, 0.0000, 0.0000, 0.0000, 0.0000, 0.0000, 0.0000, 0.0000,\n",
       "          0.0000, 0.0000, 0.0000, 0.0000],\n",
       "         [0.0000, 0.0000, 0.0000, 0.0000, 0.0000, 0.0000, 0.0000, 0.0000,\n",
       "          0.0000, 0.0000, 0.0000, 0.0000, 0.0000, 0.0000, 0.0000, 0.0000,\n",
       "          0.0000, 0.0000, 0.0000, 0.0000, 0.0000, 0.0000, 0.0000, 0.0000,\n",
       "          0.0000, 0.0000, 0.0000, 0.0000],\n",
       "         [0.0000, 0.0000, 0.0000, 0.0000, 0.0000, 0.0000, 0.0000, 0.0000,\n",
       "          0.0000, 0.0000, 0.0000, 0.0000, 0.0000, 0.0000, 0.0000, 0.0000,\n",
       "          0.0000, 0.0000, 0.0000, 0.0118, 0.0039, 0.0000, 0.0000, 0.0275,\n",
       "          0.0000, 0.1451, 0.0000, 0.0000],\n",
       "         [0.0000, 0.0000, 0.0000, 0.0000, 0.0000, 0.0000, 0.0000, 0.0000,\n",
       "          0.0000, 0.0000, 0.0000, 0.0000, 0.0000, 0.0039, 0.0078, 0.0000,\n",
       "          0.1059, 0.3294, 0.0431, 0.0000, 0.0000, 0.0000, 0.0000, 0.0000,\n",
       "          0.0000, 0.4667, 0.0000, 0.0000],\n",
       "         [0.0000, 0.0000, 0.0000, 0.0000, 0.0000, 0.0000, 0.0000, 0.0000,\n",
       "          0.0000, 0.0000, 0.0000, 0.0000, 0.0000, 0.0039, 0.0000, 0.0000,\n",
       "          0.3451, 0.5608, 0.4314, 0.0000, 0.0000, 0.0000, 0.0000, 0.0863,\n",
       "          0.3647, 0.4157, 0.0000, 0.0000],\n",
       "         [0.0000, 0.0000, 0.0000, 0.0000, 0.0000, 0.0000, 0.0000, 0.0000,\n",
       "          0.0000, 0.0000, 0.0000, 0.0000, 0.0000, 0.0157, 0.0000, 0.2078,\n",
       "          0.5059, 0.4706, 0.5765, 0.6863, 0.6157, 0.6510, 0.5294, 0.6039,\n",
       "          0.6588, 0.5490, 0.0000, 0.0000],\n",
       "         [0.0000, 0.0000, 0.0000, 0.0000, 0.0000, 0.0000, 0.0000, 0.0000,\n",
       "          0.0000, 0.0000, 0.0000, 0.0000, 0.0078, 0.0000, 0.0431, 0.5373,\n",
       "          0.5098, 0.5020, 0.6275, 0.6902, 0.6235, 0.6549, 0.6980, 0.5843,\n",
       "          0.5922, 0.5647, 0.0000, 0.0000],\n",
       "         [0.0000, 0.0000, 0.0000, 0.0000, 0.0000, 0.0000, 0.0039, 0.0000,\n",
       "          0.0078, 0.0039, 0.0000, 0.0118, 0.0000, 0.0000, 0.4510, 0.4471,\n",
       "          0.4157, 0.5373, 0.6588, 0.6000, 0.6118, 0.6471, 0.6549, 0.5608,\n",
       "          0.6157, 0.6196, 0.0431, 0.0000],\n",
       "         [0.0000, 0.0000, 0.0000, 0.0000, 0.0039, 0.0000, 0.0000, 0.0000,\n",
       "          0.0000, 0.0000, 0.0118, 0.0000, 0.0000, 0.3490, 0.5451, 0.3529,\n",
       "          0.3686, 0.6000, 0.5843, 0.5137, 0.5922, 0.6627, 0.6745, 0.5608,\n",
       "          0.6235, 0.6627, 0.1882, 0.0000],\n",
       "         [0.0000, 0.0000, 0.0000, 0.0000, 0.0000, 0.0000, 0.0078, 0.0157,\n",
       "          0.0039, 0.0000, 0.0000, 0.0000, 0.3843, 0.5333, 0.4314, 0.4275,\n",
       "          0.4314, 0.6353, 0.5294, 0.5647, 0.5843, 0.6235, 0.6549, 0.5647,\n",
       "          0.6196, 0.6627, 0.4667, 0.0000],\n",
       "         [0.0000, 0.0000, 0.0078, 0.0078, 0.0039, 0.0078, 0.0000, 0.0000,\n",
       "          0.0000, 0.0000, 0.1020, 0.4235, 0.4588, 0.3882, 0.4353, 0.4588,\n",
       "          0.5333, 0.6118, 0.5255, 0.6039, 0.6039, 0.6118, 0.6275, 0.5529,\n",
       "          0.5765, 0.6118, 0.6980, 0.0000],\n",
       "         [0.0118, 0.0000, 0.0000, 0.0000, 0.0000, 0.0000, 0.0000, 0.0824,\n",
       "          0.2078, 0.3608, 0.4588, 0.4353, 0.4039, 0.4510, 0.5059, 0.5255,\n",
       "          0.5608, 0.6039, 0.6471, 0.6667, 0.6039, 0.5922, 0.6039, 0.5608,\n",
       "          0.5412, 0.5882, 0.6471, 0.1686],\n",
       "         [0.0000, 0.0000, 0.0902, 0.2118, 0.2549, 0.2980, 0.3333, 0.4627,\n",
       "          0.5020, 0.4824, 0.4353, 0.4431, 0.4627, 0.4980, 0.4902, 0.5451,\n",
       "          0.5216, 0.5333, 0.6275, 0.5490, 0.6078, 0.6314, 0.5647, 0.6078,\n",
       "          0.6745, 0.6314, 0.7412, 0.2431],\n",
       "         [0.0000, 0.2667, 0.3686, 0.3529, 0.4353, 0.4471, 0.4353, 0.4471,\n",
       "          0.4510, 0.4980, 0.5294, 0.5333, 0.5608, 0.4941, 0.4980, 0.5922,\n",
       "          0.6039, 0.5608, 0.5804, 0.4902, 0.6353, 0.6353, 0.5647, 0.5412,\n",
       "          0.6000, 0.6353, 0.7686, 0.2275],\n",
       "         [0.2745, 0.6627, 0.5059, 0.4078, 0.3843, 0.3922, 0.3686, 0.3804,\n",
       "          0.3843, 0.4000, 0.4235, 0.4157, 0.4667, 0.4706, 0.5059, 0.5843,\n",
       "          0.6118, 0.6549, 0.7451, 0.7451, 0.7686, 0.7765, 0.7765, 0.7333,\n",
       "          0.7725, 0.7412, 0.7216, 0.1412],\n",
       "         [0.0627, 0.4941, 0.6706, 0.7373, 0.7373, 0.7216, 0.6706, 0.6000,\n",
       "          0.5294, 0.4706, 0.4941, 0.4980, 0.5725, 0.7255, 0.7647, 0.8196,\n",
       "          0.8157, 1.0000, 0.8196, 0.6941, 0.9608, 0.9882, 0.9843, 0.9843,\n",
       "          0.9686, 0.8627, 0.8078, 0.1922],\n",
       "         [0.0000, 0.0000, 0.0000, 0.0471, 0.2627, 0.4157, 0.6431, 0.7255,\n",
       "          0.7804, 0.8235, 0.8275, 0.8235, 0.8157, 0.7451, 0.5882, 0.3216,\n",
       "          0.0314, 0.0000, 0.0000, 0.0000, 0.6980, 0.8157, 0.7373, 0.6863,\n",
       "          0.6353, 0.6196, 0.5922, 0.0431],\n",
       "         [0.0000, 0.0000, 0.0000, 0.0000, 0.0000, 0.0000, 0.0000, 0.0000,\n",
       "          0.0000, 0.0000, 0.0000, 0.0000, 0.0000, 0.0000, 0.0000, 0.0000,\n",
       "          0.0000, 0.0000, 0.0000, 0.0000, 0.0000, 0.0000, 0.0000, 0.0000,\n",
       "          0.0000, 0.0000, 0.0000, 0.0000],\n",
       "         [0.0000, 0.0000, 0.0000, 0.0000, 0.0000, 0.0000, 0.0000, 0.0000,\n",
       "          0.0000, 0.0000, 0.0000, 0.0000, 0.0000, 0.0000, 0.0000, 0.0000,\n",
       "          0.0000, 0.0000, 0.0000, 0.0000, 0.0000, 0.0000, 0.0000, 0.0000,\n",
       "          0.0000, 0.0000, 0.0000, 0.0000],\n",
       "         [0.0000, 0.0000, 0.0000, 0.0000, 0.0000, 0.0000, 0.0000, 0.0000,\n",
       "          0.0000, 0.0000, 0.0000, 0.0000, 0.0000, 0.0000, 0.0000, 0.0000,\n",
       "          0.0000, 0.0000, 0.0000, 0.0000, 0.0000, 0.0000, 0.0000, 0.0000,\n",
       "          0.0000, 0.0000, 0.0000, 0.0000],\n",
       "         [0.0000, 0.0000, 0.0000, 0.0000, 0.0000, 0.0000, 0.0000, 0.0000,\n",
       "          0.0000, 0.0000, 0.0000, 0.0000, 0.0000, 0.0000, 0.0000, 0.0000,\n",
       "          0.0000, 0.0000, 0.0000, 0.0000, 0.0000, 0.0000, 0.0000, 0.0000,\n",
       "          0.0000, 0.0000, 0.0000, 0.0000],\n",
       "         [0.0000, 0.0000, 0.0000, 0.0000, 0.0000, 0.0000, 0.0000, 0.0000,\n",
       "          0.0000, 0.0000, 0.0000, 0.0000, 0.0000, 0.0000, 0.0000, 0.0000,\n",
       "          0.0000, 0.0000, 0.0000, 0.0000, 0.0000, 0.0000, 0.0000, 0.0000,\n",
       "          0.0000, 0.0000, 0.0000, 0.0000],\n",
       "         [0.0000, 0.0000, 0.0000, 0.0000, 0.0000, 0.0000, 0.0000, 0.0000,\n",
       "          0.0000, 0.0000, 0.0000, 0.0000, 0.0000, 0.0000, 0.0000, 0.0000,\n",
       "          0.0000, 0.0000, 0.0000, 0.0000, 0.0000, 0.0000, 0.0000, 0.0000,\n",
       "          0.0000, 0.0000, 0.0000, 0.0000]]])"
      ]
     },
     "execution_count": 22,
     "metadata": {},
     "output_type": "execute_result"
    }
   ],
   "source": [
    "test_data[0][0]"
   ]
  },
  {
   "cell_type": "code",
   "execution_count": 23,
   "id": "f16c325e",
   "metadata": {
    "ExecuteTime": {
     "end_time": "2022-06-20T09:06:28.889952Z",
     "start_time": "2022-06-20T09:06:28.882972Z"
    }
   },
   "outputs": [
    {
     "data": {
      "text/plain": [
       "9"
      ]
     },
     "execution_count": 23,
     "metadata": {},
     "output_type": "execute_result"
    }
   ],
   "source": [
    "test_data[0][1]"
   ]
  }
 ],
 "metadata": {
  "hide_input": false,
  "kernelspec": {
   "display_name": "Python 3 (ipykernel)",
   "language": "python",
   "name": "python3"
  },
  "language_info": {
   "codemirror_mode": {
    "name": "ipython",
    "version": 3
   },
   "file_extension": ".py",
   "mimetype": "text/x-python",
   "name": "python",
   "nbconvert_exporter": "python",
   "pygments_lexer": "ipython3",
   "version": "3.9.7"
  },
  "latex_envs": {
   "LaTeX_envs_menu_present": true,
   "autoclose": false,
   "autocomplete": true,
   "bibliofile": "biblio.bib",
   "cite_by": "apalike",
   "current_citInitial": 1,
   "eqLabelWithNumbers": true,
   "eqNumInitial": 1,
   "hotkeys": {
    "equation": "Ctrl-E",
    "itemize": "Ctrl-I"
   },
   "labels_anchors": false,
   "latex_user_defs": false,
   "report_style_numbering": false,
   "user_envs_cfg": false
  },
  "nbTranslate": {
   "displayLangs": [
    "*"
   ],
   "hotkey": "alt-t",
   "langInMainMenu": true,
   "sourceLang": "en",
   "targetLang": "fr",
   "useGoogleTranslate": true
  },
  "toc": {
   "base_numbering": 1,
   "nav_menu": {},
   "number_sections": true,
   "sideBar": true,
   "skip_h1_title": false,
   "title_cell": "Table of Contents",
   "title_sidebar": "Contents",
   "toc_cell": false,
   "toc_position": {},
   "toc_section_display": true,
   "toc_window_display": false
  },
  "varInspector": {
   "cols": {
    "lenName": 16,
    "lenType": 16,
    "lenVar": 40
   },
   "kernels_config": {
    "python": {
     "delete_cmd_postfix": "",
     "delete_cmd_prefix": "del ",
     "library": "var_list.py",
     "varRefreshCmd": "print(var_dic_list())"
    },
    "r": {
     "delete_cmd_postfix": ") ",
     "delete_cmd_prefix": "rm(",
     "library": "var_list.r",
     "varRefreshCmd": "cat(var_dic_list()) "
    }
   },
   "types_to_exclude": [
    "module",
    "function",
    "builtin_function_or_method",
    "instance",
    "_Feature"
   ],
   "window_display": false
  }
 },
 "nbformat": 4,
 "nbformat_minor": 5
}
