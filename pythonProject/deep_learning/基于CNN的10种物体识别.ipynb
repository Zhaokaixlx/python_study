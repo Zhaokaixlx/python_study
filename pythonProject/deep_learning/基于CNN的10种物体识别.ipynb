{
 "cells": [
  {
   "cell_type": "code",
   "execution_count": 1,
   "id": "91a996d2",
   "metadata": {
    "ExecuteTime": {
     "end_time": "2022-06-10T08:41:49.731971Z",
     "start_time": "2022-06-10T08:41:47.056078Z"
    }
   },
   "outputs": [],
   "source": [
    "import numpy as np\n",
    "import pandas as pd\n",
    "import matplotlib.pyplot as plt\n",
    "import tensorflow as tf"
   ]
  },
  {
   "cell_type": "markdown",
   "id": "162e2dfc",
   "metadata": {},
   "source": [
    "# 读取数据"
   ]
  },
  {
   "cell_type": "code",
   "execution_count": 2,
   "id": "d7614f51",
   "metadata": {
    "ExecuteTime": {
     "end_time": "2022-06-10T08:43:31.155251Z",
     "start_time": "2022-06-10T08:43:30.533330Z"
    }
   },
   "outputs": [],
   "source": [
    "(x_train_all, y_train_all), (x_test, y_test) = tf.keras.datasets.cifar10.load_data()"
   ]
  },
  {
   "cell_type": "code",
   "execution_count": 3,
   "id": "eef6316d",
   "metadata": {
    "ExecuteTime": {
     "end_time": "2022-06-10T08:43:47.574309Z",
     "start_time": "2022-06-10T08:43:47.560155Z"
    }
   },
   "outputs": [],
   "source": [
    "x_valid, x_train = x_train_all[:5000], x_train_all[5000:]\n",
    "y_valid, y_train = y_train_all[:5000], y_train_all[5000:]"
   ]
  },
  {
   "cell_type": "code",
   "execution_count": 4,
   "id": "f2a00412",
   "metadata": {
    "ExecuteTime": {
     "end_time": "2022-06-10T08:44:03.561391Z",
     "start_time": "2022-06-10T08:44:03.541423Z"
    }
   },
   "outputs": [
    {
     "data": {
      "text/plain": [
       "(5000, 32, 32, 3)"
      ]
     },
     "execution_count": 4,
     "metadata": {},
     "output_type": "execute_result"
    }
   ],
   "source": [
    "x_valid.shape"
   ]
  },
  {
   "cell_type": "code",
   "execution_count": 5,
   "id": "994585b2",
   "metadata": {
    "ExecuteTime": {
     "end_time": "2022-06-10T08:44:37.889486Z",
     "start_time": "2022-06-10T08:44:37.883012Z"
    }
   },
   "outputs": [
    {
     "data": {
      "text/plain": [
       "(45000, 32, 32, 3)"
      ]
     },
     "execution_count": 5,
     "metadata": {},
     "output_type": "execute_result"
    }
   ],
   "source": [
    "x_train.shape"
   ]
  },
  {
   "cell_type": "code",
   "execution_count": 6,
   "id": "a9ac7d4e",
   "metadata": {
    "ExecuteTime": {
     "end_time": "2022-06-10T08:44:53.182439Z",
     "start_time": "2022-06-10T08:44:53.168947Z"
    }
   },
   "outputs": [
    {
     "data": {
      "text/plain": [
       "(10000, 32, 32, 3)"
      ]
     },
     "execution_count": 6,
     "metadata": {},
     "output_type": "execute_result"
    }
   ],
   "source": [
    "x_test.shape"
   ]
  },
  {
   "cell_type": "code",
   "execution_count": 7,
   "id": "0e8d2324",
   "metadata": {
    "ExecuteTime": {
     "end_time": "2022-06-10T08:45:09.218562Z",
     "start_time": "2022-06-10T08:45:09.210583Z"
    }
   },
   "outputs": [
    {
     "data": {
      "text/plain": [
       "(10000, 1)"
      ]
     },
     "execution_count": 7,
     "metadata": {},
     "output_type": "execute_result"
    }
   ],
   "source": [
    "y_test.shape"
   ]
  },
  {
   "cell_type": "code",
   "execution_count": 8,
   "id": "955d8adb",
   "metadata": {
    "ExecuteTime": {
     "end_time": "2022-06-10T08:52:25.674468Z",
     "start_time": "2022-06-10T08:52:25.521991Z"
    }
   },
   "outputs": [
    {
     "data": {
      "text/plain": [
       "Text(0.5, 1.0, '3')"
      ]
     },
     "execution_count": 8,
     "metadata": {},
     "output_type": "execute_result"
    },
    {
     "data": {
      "image/png": "[encoded data removed]",
      "text/plain": [
       "<Figure size 432x288 with 1 Axes>"
      ]
     },
     "metadata": {
      "needs_background": "light"
     },
     "output_type": "display_data"
    }
   ],
   "source": [
    "plt.imshow(x_test[0])\n",
    "plt.title(y_test[0][0])"
   ]
  },
  {
   "cell_type": "markdown",
   "id": "7810bca7",
   "metadata": {},
   "source": [
    "# 数据处理"
   ]
  },
  {
   "cell_type": "code",
   "execution_count": 10,
   "id": "4057812f",
   "metadata": {
    "ExecuteTime": {
     "end_time": "2022-06-10T08:55:38.173762Z",
     "start_time": "2022-06-10T08:55:38.153671Z"
    }
   },
   "outputs": [
    {
     "data": {
      "text/plain": [
       "array([[[158, 112,  49],\n",
       "        [159, 111,  47],\n",
       "        [165, 116,  51],\n",
       "        ...,\n",
       "        [137,  95,  36],\n",
       "        [126,  91,  36],\n",
       "        [116,  85,  33]],\n",
       "\n",
       "       [[152, 112,  51],\n",
       "        [151, 110,  40],\n",
       "        [159, 114,  45],\n",
       "        ...,\n",
       "        [136,  95,  31],\n",
       "        [125,  91,  32],\n",
       "        [119,  88,  34]],\n",
       "\n",
       "       [[151, 110,  47],\n",
       "        [151, 109,  33],\n",
       "        [158, 111,  36],\n",
       "        ...,\n",
       "        [139,  98,  34],\n",
       "        [130,  95,  34],\n",
       "        [120,  89,  33]],\n",
       "\n",
       "       ...,\n",
       "\n",
       "       [[ 68, 124, 177],\n",
       "        [ 42, 100, 148],\n",
       "        [ 31,  88, 137],\n",
       "        ...,\n",
       "        [ 38,  97, 146],\n",
       "        [ 13,  64, 108],\n",
       "        [ 40,  85, 127]],\n",
       "\n",
       "       [[ 61, 116, 168],\n",
       "        [ 49, 102, 148],\n",
       "        [ 35,  85, 132],\n",
       "        ...,\n",
       "        [ 26,  82, 130],\n",
       "        [ 29,  82, 126],\n",
       "        [ 20,  64, 107]],\n",
       "\n",
       "       [[ 54, 107, 160],\n",
       "        [ 56, 105, 149],\n",
       "        [ 45,  89, 132],\n",
       "        ...,\n",
       "        [ 24,  77, 124],\n",
       "        [ 34,  84, 129],\n",
       "        [ 21,  67, 110]]], dtype=uint8)"
      ]
     },
     "execution_count": 10,
     "metadata": {},
     "output_type": "execute_result"
    }
   ],
   "source": [
    "x_test[0]"
   ]
  },
  {
   "cell_type": "code",
   "execution_count": 9,
   "id": "c4656896",
   "metadata": {
    "ExecuteTime": {
     "end_time": "2022-06-10T08:53:13.684594Z",
     "start_time": "2022-06-10T08:53:10.306929Z"
    }
   },
   "outputs": [],
   "source": [
    "from sklearn.preprocessing import StandardScaler\n",
    "\n",
    "scaler = StandardScaler()\n",
    "x_train_scaled = scaler.fit_transform(x_train.astype(np.float32).reshape(-1, 1)).reshape(-1, 32, 32, 3)\n",
    "x_valid_scaled = scaler.transform(x_valid.astype(np.float32).reshape(-1, 1)).reshape(-1, 32, 32, 3)\n",
    "x_test_scaled = scaler.transform(x_test.astype(np.float32).reshape(-1, 1)).reshape(-1, 32, 32, 3)"
   ]
  },
  {
   "cell_type": "markdown",
   "id": "8aa9783a",
   "metadata": {},
   "source": [
    "# 定义网络"
   ]
  },
  {
   "cell_type": "code",
   "execution_count": 11,
   "id": "16eee828",
   "metadata": {
    "ExecuteTime": {
     "end_time": "2022-06-10T08:56:19.888041Z",
     "start_time": "2022-06-10T08:56:17.606327Z"
    }
   },
   "outputs": [],
   "source": [
    "# 定义卷积神经网络.\n",
    "model = tf.keras.models.Sequential()\n",
    "# 2次卷积, 一次池化, 总共3层. \n",
    "model.add(tf.keras.layers.Conv2D(filters=32, \n",
    "                                 kernel_size=3, \n",
    "                                 padding='same', \n",
    "                                 activation='relu', \n",
    "                                 input_shape=(32, 32, 3)))\n",
    "model.add(tf.keras.layers.Conv2D(filters=32, \n",
    "                                 kernel_size=3, \n",
    "                                 padding='same', \n",
    "                                 activation='relu'))\n",
    "model.add(tf.keras.layers.MaxPool2D(pool_size=2))\n",
    "\n",
    "model.add(tf.keras.layers.Conv2D(filters=64, \n",
    "                                 kernel_size=3, \n",
    "                                 padding='same', \n",
    "                                 activation='relu', \n",
    "                                 ))\n",
    "model.add(tf.keras.layers.Conv2D(filters=64, \n",
    "                                 kernel_size=3, \n",
    "                                 padding='same', \n",
    "                                 activation='relu'))\n",
    "model.add(tf.keras.layers.MaxPool2D(pool_size=2))\n",
    "\n",
    "model.add(tf.keras.layers.Conv2D(filters=128, \n",
    "                                 kernel_size=3, \n",
    "                                 padding='same', \n",
    "                                 activation='relu', \n",
    "                                 ))\n",
    "model.add(tf.keras.layers.Conv2D(filters=128, \n",
    "                                 kernel_size=3, \n",
    "                                 padding='same', \n",
    "                                 activation='relu'))\n",
    "model.add(tf.keras.layers.MaxPool2D(pool_size=2))\n",
    "\n",
    "# 展平\n",
    "model.add(tf.keras.layers.Flatten())\n",
    "# 全连接\n",
    "model.add(tf.keras.layers.Dense(256, activation='relu'))\n",
    "model.add(tf.keras.layers.Dense(10, activation='softmax'))\n"
   ]
  },
  {
   "cell_type": "markdown",
   "id": "a851f602",
   "metadata": {},
   "source": [
    "# 配置网络"
   ]
  },
  {
   "cell_type": "code",
   "execution_count": 14,
   "id": "292b7880",
   "metadata": {
    "ExecuteTime": {
     "end_time": "2022-06-10T08:59:24.706856Z",
     "start_time": "2022-06-10T08:59:24.689854Z"
    }
   },
   "outputs": [],
   "source": [
    "model.compile(loss='sparse_categorical_crossentropy',\n",
    "             optimizer='adam',\n",
    "             metrics=['acc'])"
   ]
  },
  {
   "cell_type": "code",
   "execution_count": 15,
   "id": "2054589a",
   "metadata": {
    "ExecuteTime": {
     "end_time": "2022-06-10T08:59:29.354594Z",
     "start_time": "2022-06-10T08:59:29.324674Z"
    }
   },
   "outputs": [
    {
     "name": "stdout",
     "output_type": "stream",
     "text": [
      "Model: \"sequential\"\n",
      "_________________________________________________________________\n",
      " Layer (type)                Output Shape              Param #   \n",
      "=================================================================\n",
      " conv2d (Conv2D)             (None, 32, 32, 32)        896       \n",
      "                                                                 \n",
      " conv2d_1 (Conv2D)           (None, 32, 32, 32)        9248      \n",
      "                                                                 \n",
      " max_pooling2d (MaxPooling2D  (None, 16, 16, 32)       0         \n",
      " )                                                               \n",
      "                                                                 \n",
      " conv2d_2 (Conv2D)           (None, 16, 16, 64)        18496     \n",
      "                                                                 \n",
      " conv2d_3 (Conv2D)           (None, 16, 16, 64)        36928     \n",
      "                                                                 \n",
      " max_pooling2d_1 (MaxPooling  (None, 8, 8, 64)         0         \n",
      " 2D)                                                             \n",
      "                                                                 \n",
      " conv2d_4 (Conv2D)           (None, 8, 8, 128)         73856     \n",
      "                                                                 \n",
      " conv2d_5 (Conv2D)           (None, 8, 8, 128)         147584    \n",
      "                                                                 \n",
      " max_pooling2d_2 (MaxPooling  (None, 4, 4, 128)        0         \n",
      " 2D)                                                             \n",
      "                                                                 \n",
      " flatten (Flatten)           (None, 2048)              0         \n",
      "                                                                 \n",
      " dense (Dense)               (None, 256)               524544    \n",
      "                                                                 \n",
      " dense_1 (Dense)             (None, 10)                2570      \n",
      "                                                                 \n",
      "=================================================================\n",
      "Total params: 814,122\n",
      "Trainable params: 814,122\n",
      "Non-trainable params: 0\n",
      "_________________________________________________________________\n"
     ]
    }
   ],
   "source": [
    "model.summary()"
   ]
  },
  {
   "cell_type": "markdown",
   "id": "216fa456",
   "metadata": {},
   "source": [
    "# 模型训练"
   ]
  },
  {
   "cell_type": "code",
   "execution_count": 16,
   "id": "3b77ca45",
   "metadata": {
    "ExecuteTime": {
     "end_time": "2022-06-10T09:19:28.723244Z",
     "start_time": "2022-06-10T08:59:33.179893Z"
    }
   },
   "outputs": [
    {
     "name": "stdout",
     "output_type": "stream",
     "text": [
      "Epoch 1/10\n",
      "1407/1407 [==============================] - 108s 77ms/step - loss: 1.3403 - acc: 0.5080 - val_loss: 0.9307 - val_acc: 0.6686\n",
      "Epoch 2/10\n",
      "1407/1407 [==============================] - 108s 77ms/step - loss: 0.8443 - acc: 0.7034 - val_loss: 0.7805 - val_acc: 0.7242\n",
      "Epoch 3/10\n",
      "1407/1407 [==============================] - 109s 78ms/step - loss: 0.6681 - acc: 0.7655 - val_loss: 0.7002 - val_acc: 0.7558\n",
      "Epoch 4/10\n",
      "1407/1407 [==============================] - 110s 79ms/step - loss: 0.5391 - acc: 0.8117 - val_loss: 0.6773 - val_acc: 0.7700\n",
      "Epoch 5/10\n",
      "1407/1407 [==============================] - 111s 79ms/step - loss: 0.4441 - acc: 0.8411 - val_loss: 0.7184 - val_acc: 0.7686\n",
      "Epoch 6/10\n",
      "1407/1407 [==============================] - 109s 78ms/step - loss: 0.3742 - acc: 0.8689 - val_loss: 0.7333 - val_acc: 0.7650\n",
      "Epoch 7/10\n",
      "1407/1407 [==============================] - 129s 91ms/step - loss: 0.3000 - acc: 0.8946 - val_loss: 0.7943 - val_acc: 0.7630\n",
      "Epoch 8/10\n",
      "1407/1407 [==============================] - 136s 97ms/step - loss: 0.2585 - acc: 0.9092 - val_loss: 0.8783 - val_acc: 0.7748\n",
      "Epoch 9/10\n",
      "1407/1407 [==============================] - 137s 97ms/step - loss: 0.2295 - acc: 0.9200 - val_loss: 0.9946 - val_acc: 0.7676\n",
      "Epoch 10/10\n",
      "1407/1407 [==============================] - 137s 97ms/step - loss: 0.2045 - acc: 0.9286 - val_loss: 0.9582 - val_acc: 0.7756\n"
     ]
    }
   ],
   "source": [
    "history = model.fit(x_train_scaled, y_train, epochs=10,\n",
    "         validation_data=(x_valid_scaled, y_valid))"
   ]
  },
  {
   "cell_type": "markdown",
   "id": "7f672c0f",
   "metadata": {},
   "source": [
    "# 绘图展示训练过程"
   ]
  },
  {
   "cell_type": "code",
   "execution_count": 17,
   "id": "b61a17f1",
   "metadata": {
    "ExecuteTime": {
     "end_time": "2022-06-10T09:41:58.789319Z",
     "start_time": "2022-06-10T09:41:58.631820Z"
    }
   },
   "outputs": [
    {
     "data": {
      "image/png": "[encoded data removed]",
      "text/plain": [
       "<Figure size 576x360 with 1 Axes>"
      ]
     },
     "metadata": {
      "needs_background": "light"
     },
     "output_type": "display_data"
    }
   ],
   "source": [
    "pd.DataFrame(history.history).plot(figsize=(8, 5))\n",
    "plt.grid()\n",
    "plt.gca().set_ylim(0, 2)\n",
    "plt.show()"
   ]
  },
  {
   "cell_type": "markdown",
   "id": "1cc0841c",
   "metadata": {},
   "source": [
    "# 解决过拟合问题"
   ]
  },
  {
   "cell_type": "markdown",
   "id": "2f12266e",
   "metadata": {},
   "source": [
    "加入dropout"
   ]
  },
  {
   "cell_type": "code",
   "execution_count": 18,
   "id": "98d38ecf",
   "metadata": {
    "ExecuteTime": {
     "end_time": "2022-06-10T10:03:27.086883Z",
     "start_time": "2022-06-10T09:45:15.860198Z"
    }
   },
   "outputs": [
    {
     "name": "stdout",
     "output_type": "stream",
     "text": [
      "Epoch 1/10\n",
      "1407/1407 [==============================] - 110s 78ms/step - loss: 1.6711 - acc: 0.4012 - val_loss: 1.3361 - val_acc: 0.5528\n",
      "Epoch 2/10\n",
      "1407/1407 [==============================] - 110s 78ms/step - loss: 1.0767 - acc: 0.6170 - val_loss: 1.0381 - val_acc: 0.6848\n",
      "Epoch 3/10\n",
      "1407/1407 [==============================] - 109s 78ms/step - loss: 0.8737 - acc: 0.6966 - val_loss: 0.8700 - val_acc: 0.7242\n",
      "Epoch 4/10\n",
      "1407/1407 [==============================] - 108s 77ms/step - loss: 0.7413 - acc: 0.7450 - val_loss: 0.8474 - val_acc: 0.7612\n",
      "Epoch 5/10\n",
      "1407/1407 [==============================] - 108s 77ms/step - loss: 0.6350 - acc: 0.7790 - val_loss: 0.8975 - val_acc: 0.7554\n",
      "Epoch 6/10\n",
      "1407/1407 [==============================] - 110s 78ms/step - loss: 0.5621 - acc: 0.8051 - val_loss: 0.7895 - val_acc: 0.7716\n",
      "Epoch 7/10\n",
      "1407/1407 [==============================] - 109s 78ms/step - loss: 0.4923 - acc: 0.8278 - val_loss: 0.8439 - val_acc: 0.7824\n",
      "Epoch 8/10\n",
      "1407/1407 [==============================] - 108s 77ms/step - loss: 0.4332 - acc: 0.8502 - val_loss: 0.9924 - val_acc: 0.7698\n",
      "Epoch 9/10\n",
      "1407/1407 [==============================] - 109s 78ms/step - loss: 0.3903 - acc: 0.8654 - val_loss: 1.0210 - val_acc: 0.7842\n",
      "Epoch 10/10\n",
      "1407/1407 [==============================] - 109s 77ms/step - loss: 0.3548 - acc: 0.8772 - val_loss: 1.1797 - val_acc: 0.7596\n"
     ]
    }
   ],
   "source": [
    "# 加入dropout减轻过拟合现象.\n",
    "model = tf.keras.models.Sequential()\n",
    "# 2次卷积, 一次池化, 总共3层. \n",
    "model.add(tf.keras.layers.Conv2D(filters=32, \n",
    "                                 kernel_size=3, \n",
    "                                 padding='same', \n",
    "                                 activation='relu', \n",
    "                                 input_shape=(32, 32, 3)))\n",
    "model.add(tf.keras.layers.Conv2D(filters=32, \n",
    "                                 kernel_size=3, \n",
    "                                 padding='same', \n",
    "                                 activation='relu'))\n",
    "model.add(tf.keras.layers.MaxPool2D(pool_size=2))\n",
    "\n",
    "model.add(tf.keras.layers.Conv2D(filters=64, \n",
    "                                 kernel_size=3, \n",
    "                                 padding='same', \n",
    "                                 activation='relu', \n",
    "                                 ))\n",
    "model.add(tf.keras.layers.Conv2D(filters=64, \n",
    "                                 kernel_size=3, \n",
    "                                 padding='same', \n",
    "                                 activation='relu'))\n",
    "model.add(tf.keras.layers.MaxPool2D(pool_size=2))\n",
    "\n",
    "model.add(tf.keras.layers.Conv2D(filters=128, \n",
    "                                 kernel_size=3, \n",
    "                                 padding='same', \n",
    "                                 activation='relu', \n",
    "                                 ))\n",
    "model.add(tf.keras.layers.Conv2D(filters=128, \n",
    "                                 kernel_size=3, \n",
    "                                 padding='same', \n",
    "                                 activation='relu'))\n",
    "model.add(tf.keras.layers.MaxPool2D(pool_size=2))\n",
    "\n",
    "# 展平\n",
    "model.add(tf.keras.layers.Flatten())\n",
    "# 全连接\n",
    "model.add(tf.keras.layers.Dense(256, activation='relu'))\n",
    "model.add(tf.keras.layers.AlphaDropout(0.3))\n",
    "model.add(tf.keras.layers.Dense(10, activation='softmax'))\n",
    "\n",
    "model.compile(loss='sparse_categorical_crossentropy',\n",
    "             optimizer='adam',\n",
    "             metrics=['acc'])\n",
    "history = model.fit(x_train_scaled, y_train, epochs=10,\n",
    "         validation_data=(x_valid_scaled, y_valid))"
   ]
  },
  {
   "cell_type": "markdown",
   "id": "a127a871",
   "metadata": {},
   "source": [
    "# 绘图表示训练过程"
   ]
  },
  {
   "cell_type": "code",
   "execution_count": 19,
   "id": "16a95d22",
   "metadata": {
    "ExecuteTime": {
     "end_time": "2022-06-10T10:04:53.171431Z",
     "start_time": "2022-06-10T10:04:53.049146Z"
    }
   },
   "outputs": [
    {
     "data": {
      "image/png": "[encoded data removed]",
      "text/plain": [
       "<Figure size 576x360 with 1 Axes>"
      ]
     },
     "metadata": {
      "needs_background": "light"
     },
     "output_type": "display_data"
    }
   ],
   "source": [
    "\n",
    "pd.DataFrame(history.history).plot(figsize=(8, 5))\n",
    "plt.grid()\n",
    "plt.gca().set_ylim(0, 2)\n",
    "plt.show()\n",
    "\n"
   ]
  }
 ],
 "metadata": {
  "hide_input": false,
  "kernelspec": {
   "display_name": "Python 3 (ipykernel)",
   "language": "python",
   "name": "python3"
  },
  "language_info": {
   "codemirror_mode": {
    "name": "ipython",
    "version": 3
   },
   "file_extension": ".py",
   "mimetype": "text/x-python",
   "name": "python",
   "nbconvert_exporter": "python",
   "pygments_lexer": "ipython3",
   "version": "3.9.7"
  },
  "latex_envs": {
   "LaTeX_envs_menu_present": true,
   "autoclose": false,
   "autocomplete": true,
   "bibliofile": "biblio.bib",
   "cite_by": "apalike",
   "current_citInitial": 1,
   "eqLabelWithNumbers": true,
   "eqNumInitial": 1,
   "hotkeys": {
    "equation": "Ctrl-E",
    "itemize": "Ctrl-I"
   },
   "labels_anchors": false,
   "latex_user_defs": false,
   "report_style_numbering": false,
   "user_envs_cfg": false
  },
  "nbTranslate": {
   "displayLangs": [
    "*"
   ],
   "hotkey": "alt-t",
   "langInMainMenu": true,
   "sourceLang": "en",
   "targetLang": "fr",
   "useGoogleTranslate": true
  },
  "toc": {
   "base_numbering": 1,
   "nav_menu": {},
   "number_sections": true,
   "sideBar": true,
   "skip_h1_title": false,
   "title_cell": "Table of Contents",
   "title_sidebar": "Contents",
   "toc_cell": false,
   "toc_position": {},
   "toc_section_display": true,
   "toc_window_display": false
  },
  "varInspector": {
   "cols": {
    "lenName": 16,
    "lenType": 16,
    "lenVar": 40
   },
   "kernels_config": {
    "python": {
     "delete_cmd_postfix": "",
     "delete_cmd_prefix": "del ",
     "library": "var_list.py",
     "varRefreshCmd": "print(var_dic_list())"
    },
    "r": {
     "delete_cmd_postfix": ") ",
     "delete_cmd_prefix": "rm(",
     "library": "var_list.r",
     "varRefreshCmd": "cat(var_dic_list()) "
    }
   },
   "types_to_exclude": [
    "module",
    "function",
    "builtin_function_or_method",
    "instance",
    "_Feature"
   ],
   "window_display": false
  }
 },
 "nbformat": 4,
 "nbformat_minor": 5
}
