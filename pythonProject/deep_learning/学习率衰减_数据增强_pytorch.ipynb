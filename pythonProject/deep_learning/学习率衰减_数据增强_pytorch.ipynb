{
 "cells": [
  {
   "cell_type": "code",
   "execution_count": 1,
   "id": "ed41f2c0",
   "metadata": {
    "ExecuteTime": {
     "end_time": "2022-06-19T01:42:11.496550Z",
     "start_time": "2022-06-19T01:42:10.901638Z"
    }
   },
   "outputs": [],
   "source": [
    "import torch \n",
    "import torch.nn as nn\n",
    "import torch.nn.functional as F\n",
    "import torch.optim as optim\n",
    "import numpy as np\n",
    "import matplotlib.pyplot as plt\n",
    "\n",
    "import torchvision\n",
    "from torchvision import transforms"
   ]
  },
  {
   "cell_type": "markdown",
   "id": "9b734ccd",
   "metadata": {},
   "source": [
    "# 数据导入"
   ]
  },
  {
   "cell_type": "code",
   "execution_count": 3,
   "id": "66c286ca",
   "metadata": {
    "ExecuteTime": {
     "end_time": "2022-06-19T01:45:24.856474Z",
     "start_time": "2022-06-19T01:45:24.851919Z"
    }
   },
   "outputs": [],
   "source": [
    "import os"
   ]
  },
  {
   "cell_type": "code",
   "execution_count": 4,
   "id": "3304e728",
   "metadata": {
    "ExecuteTime": {
     "end_time": "2022-06-19T01:45:27.635751Z",
     "start_time": "2022-06-19T01:45:27.629765Z"
    }
   },
   "outputs": [],
   "source": [
    "base_dir = './dataset'\n",
    "train_dir = os.path.join(base_dir, 'train')\n",
    "test_dir = os.path.join(base_dir, 'test')"
   ]
  },
  {
   "cell_type": "code",
   "execution_count": 5,
   "id": "e2ae8da0",
   "metadata": {
    "ExecuteTime": {
     "end_time": "2022-06-19T01:45:51.789082Z",
     "start_time": "2022-06-19T01:45:51.776224Z"
    }
   },
   "outputs": [],
   "source": [
    "transform = transforms.Compose([\n",
    "    # 统一缩放到96 * 96\n",
    "    transforms.Resize((96, 96)),\n",
    "    transforms.ToTensor(),\n",
    "    # 正则化\n",
    "    transforms.Normalize(mean=[0.5, 0.5, 0.5], std=[0.5, 0.5, 0.5])\n",
    "])"
   ]
  },
  {
   "cell_type": "code",
   "execution_count": 6,
   "id": "f00f59ee",
   "metadata": {
    "ExecuteTime": {
     "end_time": "2022-06-19T01:46:33.126081Z",
     "start_time": "2022-06-19T01:46:33.103381Z"
    }
   },
   "outputs": [],
   "source": [
    "train_ds = torchvision.datasets.ImageFolder(train_dir, transform=transform)\n",
    "test_ds = torchvision.datasets.ImageFolder(test_dir, transform=transform)\n",
    "\n",
    "batch_size = 32\n",
    "train_dl = torch.utils.data.DataLoader(train_ds, batch_size=batch_size, shuffle=True, drop_last=True)\n",
    "test_dl = torch.utils.data.DataLoader(test_ds, batch_size=batch_size)"
   ]
  },
  {
   "cell_type": "markdown",
   "id": "7a3f2bd8",
   "metadata": {},
   "source": [
    "# 加载预训练好的模型"
   ]
  },
  {
   "cell_type": "code",
   "execution_count": 7,
   "id": "d95d8742",
   "metadata": {
    "ExecuteTime": {
     "end_time": "2022-06-19T01:46:51.353109Z",
     "start_time": "2022-06-19T01:46:49.779396Z"
    }
   },
   "outputs": [],
   "source": [
    "model = torchvision.models.vgg16(pretrained=True)"
   ]
  },
  {
   "cell_type": "code",
   "execution_count": 8,
   "id": "5a2dd3dd",
   "metadata": {
    "ExecuteTime": {
     "end_time": "2022-06-19T01:47:29.972305Z",
     "start_time": "2022-06-19T01:47:29.961764Z"
    }
   },
   "outputs": [
    {
     "data": {
      "text/plain": [
       "VGG(\n",
       "  (features): Sequential(\n",
       "    (0): Conv2d(3, 64, kernel_size=(3, 3), stride=(1, 1), padding=(1, 1))\n",
       "    (1): ReLU(inplace=True)\n",
       "    (2): Conv2d(64, 64, kernel_size=(3, 3), stride=(1, 1), padding=(1, 1))\n",
       "    (3): ReLU(inplace=True)\n",
       "    (4): MaxPool2d(kernel_size=2, stride=2, padding=0, dilation=1, ceil_mode=False)\n",
       "    (5): Conv2d(64, 128, kernel_size=(3, 3), stride=(1, 1), padding=(1, 1))\n",
       "    (6): ReLU(inplace=True)\n",
       "    (7): Conv2d(128, 128, kernel_size=(3, 3), stride=(1, 1), padding=(1, 1))\n",
       "    (8): ReLU(inplace=True)\n",
       "    (9): MaxPool2d(kernel_size=2, stride=2, padding=0, dilation=1, ceil_mode=False)\n",
       "    (10): Conv2d(128, 256, kernel_size=(3, 3), stride=(1, 1), padding=(1, 1))\n",
       "    (11): ReLU(inplace=True)\n",
       "    (12): Conv2d(256, 256, kernel_size=(3, 3), stride=(1, 1), padding=(1, 1))\n",
       "    (13): ReLU(inplace=True)\n",
       "    (14): Conv2d(256, 256, kernel_size=(3, 3), stride=(1, 1), padding=(1, 1))\n",
       "    (15): ReLU(inplace=True)\n",
       "    (16): MaxPool2d(kernel_size=2, stride=2, padding=0, dilation=1, ceil_mode=False)\n",
       "    (17): Conv2d(256, 512, kernel_size=(3, 3), stride=(1, 1), padding=(1, 1))\n",
       "    (18): ReLU(inplace=True)\n",
       "    (19): Conv2d(512, 512, kernel_size=(3, 3), stride=(1, 1), padding=(1, 1))\n",
       "    (20): ReLU(inplace=True)\n",
       "    (21): Conv2d(512, 512, kernel_size=(3, 3), stride=(1, 1), padding=(1, 1))\n",
       "    (22): ReLU(inplace=True)\n",
       "    (23): MaxPool2d(kernel_size=2, stride=2, padding=0, dilation=1, ceil_mode=False)\n",
       "    (24): Conv2d(512, 512, kernel_size=(3, 3), stride=(1, 1), padding=(1, 1))\n",
       "    (25): ReLU(inplace=True)\n",
       "    (26): Conv2d(512, 512, kernel_size=(3, 3), stride=(1, 1), padding=(1, 1))\n",
       "    (27): ReLU(inplace=True)\n",
       "    (28): Conv2d(512, 512, kernel_size=(3, 3), stride=(1, 1), padding=(1, 1))\n",
       "    (29): ReLU(inplace=True)\n",
       "    (30): MaxPool2d(kernel_size=2, stride=2, padding=0, dilation=1, ceil_mode=False)\n",
       "  )\n",
       "  (avgpool): AdaptiveAvgPool2d(output_size=(7, 7))\n",
       "  (classifier): Sequential(\n",
       "    (0): Linear(in_features=25088, out_features=4096, bias=True)\n",
       "    (1): ReLU(inplace=True)\n",
       "    (2): Dropout(p=0.5, inplace=False)\n",
       "    (3): Linear(in_features=4096, out_features=4096, bias=True)\n",
       "    (4): ReLU(inplace=True)\n",
       "    (5): Dropout(p=0.5, inplace=False)\n",
       "    (6): Linear(in_features=4096, out_features=1000, bias=True)\n",
       "  )\n",
       ")"
      ]
     },
     "execution_count": 8,
     "metadata": {},
     "output_type": "execute_result"
    }
   ],
   "source": [
    "model"
   ]
  },
  {
   "cell_type": "code",
   "execution_count": 9,
   "id": "fd2bf3f9",
   "metadata": {
    "ExecuteTime": {
     "end_time": "2022-06-19T01:47:41.135359Z",
     "start_time": "2022-06-19T01:47:41.118847Z"
    }
   },
   "outputs": [
    {
     "data": {
      "text/plain": [
       "<generator object Module.parameters at 0x000001784AC1FAC0>"
      ]
     },
     "execution_count": 9,
     "metadata": {},
     "output_type": "execute_result"
    }
   ],
   "source": [
    "model.features.parameters()"
   ]
  },
  {
   "cell_type": "markdown",
   "id": "f9c076ba",
   "metadata": {},
   "source": [
    "# 修改参数"
   ]
  },
  {
   "cell_type": "code",
   "execution_count": 10,
   "id": "40f017ee",
   "metadata": {
    "ExecuteTime": {
     "end_time": "2022-06-19T01:48:12.005020Z",
     "start_time": "2022-06-19T01:48:11.992322Z"
    }
   },
   "outputs": [],
   "source": [
    "for param in model.features.parameters():\n",
    "    param.requires_grad = False"
   ]
  },
  {
   "cell_type": "code",
   "execution_count": 11,
   "id": "2f8aaa7d",
   "metadata": {
    "ExecuteTime": {
     "end_time": "2022-06-19T01:48:21.199562Z",
     "start_time": "2022-06-19T01:48:21.190589Z"
    }
   },
   "outputs": [],
   "source": [
    "# 修改原网络中的输出层的结构. \n",
    "model.classifier[-1].out_features = 4"
   ]
  },
  {
   "cell_type": "code",
   "execution_count": 12,
   "id": "22586206",
   "metadata": {
    "ExecuteTime": {
     "end_time": "2022-06-19T01:48:59.838297Z",
     "start_time": "2022-06-19T01:48:59.821240Z"
    }
   },
   "outputs": [
    {
     "data": {
      "text/plain": [
       "VGG(\n",
       "  (features): Sequential(\n",
       "    (0): Conv2d(3, 64, kernel_size=(3, 3), stride=(1, 1), padding=(1, 1))\n",
       "    (1): ReLU(inplace=True)\n",
       "    (2): Conv2d(64, 64, kernel_size=(3, 3), stride=(1, 1), padding=(1, 1))\n",
       "    (3): ReLU(inplace=True)\n",
       "    (4): MaxPool2d(kernel_size=2, stride=2, padding=0, dilation=1, ceil_mode=False)\n",
       "    (5): Conv2d(64, 128, kernel_size=(3, 3), stride=(1, 1), padding=(1, 1))\n",
       "    (6): ReLU(inplace=True)\n",
       "    (7): Conv2d(128, 128, kernel_size=(3, 3), stride=(1, 1), padding=(1, 1))\n",
       "    (8): ReLU(inplace=True)\n",
       "    (9): MaxPool2d(kernel_size=2, stride=2, padding=0, dilation=1, ceil_mode=False)\n",
       "    (10): Conv2d(128, 256, kernel_size=(3, 3), stride=(1, 1), padding=(1, 1))\n",
       "    (11): ReLU(inplace=True)\n",
       "    (12): Conv2d(256, 256, kernel_size=(3, 3), stride=(1, 1), padding=(1, 1))\n",
       "    (13): ReLU(inplace=True)\n",
       "    (14): Conv2d(256, 256, kernel_size=(3, 3), stride=(1, 1), padding=(1, 1))\n",
       "    (15): ReLU(inplace=True)\n",
       "    (16): MaxPool2d(kernel_size=2, stride=2, padding=0, dilation=1, ceil_mode=False)\n",
       "    (17): Conv2d(256, 512, kernel_size=(3, 3), stride=(1, 1), padding=(1, 1))\n",
       "    (18): ReLU(inplace=True)\n",
       "    (19): Conv2d(512, 512, kernel_size=(3, 3), stride=(1, 1), padding=(1, 1))\n",
       "    (20): ReLU(inplace=True)\n",
       "    (21): Conv2d(512, 512, kernel_size=(3, 3), stride=(1, 1), padding=(1, 1))\n",
       "    (22): ReLU(inplace=True)\n",
       "    (23): MaxPool2d(kernel_size=2, stride=2, padding=0, dilation=1, ceil_mode=False)\n",
       "    (24): Conv2d(512, 512, kernel_size=(3, 3), stride=(1, 1), padding=(1, 1))\n",
       "    (25): ReLU(inplace=True)\n",
       "    (26): Conv2d(512, 512, kernel_size=(3, 3), stride=(1, 1), padding=(1, 1))\n",
       "    (27): ReLU(inplace=True)\n",
       "    (28): Conv2d(512, 512, kernel_size=(3, 3), stride=(1, 1), padding=(1, 1))\n",
       "    (29): ReLU(inplace=True)\n",
       "    (30): MaxPool2d(kernel_size=2, stride=2, padding=0, dilation=1, ceil_mode=False)\n",
       "  )\n",
       "  (avgpool): AdaptiveAvgPool2d(output_size=(7, 7))\n",
       "  (classifier): Sequential(\n",
       "    (0): Linear(in_features=25088, out_features=4096, bias=True)\n",
       "    (1): ReLU(inplace=True)\n",
       "    (2): Dropout(p=0.5, inplace=False)\n",
       "    (3): Linear(in_features=4096, out_features=4096, bias=True)\n",
       "    (4): ReLU(inplace=True)\n",
       "    (5): Dropout(p=0.5, inplace=False)\n",
       "    (6): Linear(in_features=4096, out_features=4, bias=True)\n",
       "  )\n",
       ")"
      ]
     },
     "execution_count": 12,
     "metadata": {},
     "output_type": "execute_result"
    }
   ],
   "source": [
    "# 拷到gpu上\n",
    "device = torch.device('cuda:0' if torch.cuda.is_available() else 'cpu')\n",
    "model.to(device)"
   ]
  },
  {
   "cell_type": "markdown",
   "id": "471f697e",
   "metadata": {},
   "source": [
    "# 配置网络和训练网络"
   ]
  },
  {
   "cell_type": "code",
   "execution_count": 13,
   "id": "195920ff",
   "metadata": {
    "ExecuteTime": {
     "end_time": "2022-06-19T01:49:47.102648Z",
     "start_time": "2022-06-19T01:49:47.092386Z"
    }
   },
   "outputs": [],
   "source": [
    "optimizer = optim.Adam(model.parameters(), lr=0.001)\n",
    "loss_fn = nn.CrossEntropyLoss()"
   ]
  },
  {
   "cell_type": "markdown",
   "id": "2ac03454",
   "metadata": {},
   "source": [
    "# 加入学习率"
   ]
  },
  {
   "cell_type": "code",
   "execution_count": 14,
   "id": "dd331e48",
   "metadata": {
    "ExecuteTime": {
     "end_time": "2022-06-19T01:50:09.319133Z",
     "start_time": "2022-06-19T01:50:09.303213Z"
    }
   },
   "outputs": [],
   "source": [
    "from torch.optim import lr_scheduler"
   ]
  },
  {
   "cell_type": "code",
   "execution_count": 15,
   "id": "10bd4bc3",
   "metadata": {
    "ExecuteTime": {
     "end_time": "2022-06-19T01:50:48.110141Z",
     "start_time": "2022-06-19T01:50:48.094096Z"
    }
   },
   "outputs": [],
   "source": [
    "# 学习率衰减\n",
    "step_lr_scheduler = lr_scheduler.StepLR(optimizer, step_size=7, gamma=0.1)"
   ]
  },
  {
   "cell_type": "code",
   "execution_count": 16,
   "id": "ab62cf55",
   "metadata": {
    "ExecuteTime": {
     "end_time": "2022-06-19T01:53:09.835725Z",
     "start_time": "2022-06-19T01:53:09.819153Z"
    }
   },
   "outputs": [],
   "source": [
    "def fit(epoch, model, train_loader, test_loader):\n",
    "    correct = 0\n",
    "    total = 0\n",
    "    running_loss = 0\n",
    "    \n",
    "    # 因为bn和dropout需要手动指定训练模式和推理模式\n",
    "    model.train()\n",
    "    for x, y in train_loader:\n",
    "        # 把数据放到GPU上去. \n",
    "        x, y = x.to(device), y.to(device)\n",
    "        y_pred = model(x)\n",
    "        loss = loss_fn(y_pred, y)\n",
    "        optimizer.zero_grad()\n",
    "        loss.backward()\n",
    "        optimizer.step()\n",
    "        \n",
    "        with torch.no_grad():\n",
    "            y_pred = torch.argmax(y_pred, dim=1)\n",
    "            correct += (y_pred == y).sum().item()\n",
    "            total += y.size(0)\n",
    "            running_loss += loss.item()\n",
    "    step_lr_scheduler.step() # 加入学习率\n",
    "    epoch_loss = running_loss / len(train_loader.dataset)\n",
    "    epoch_acc = correct / total\n",
    "        \n",
    "    # 测试过程\n",
    "    test_correct = 0\n",
    "    test_total = 0\n",
    "    test_running_loss = 0\n",
    "    model.eval()\n",
    "    with torch.no_grad():\n",
    "        for x, y in test_loader:\n",
    "            x, y = x.to(device), y.to(device)\n",
    "            y_pred = model(x)\n",
    "            loss = loss_fn(y_pred, y)\n",
    "            y_pred = torch.argmax(y_pred, dim=1)\n",
    "            test_correct += (y_pred == y).sum().item()\n",
    "            test_total += y.size(0)\n",
    "            test_running_loss += loss.item()\n",
    "    test_epoch_loss = test_running_loss / len(test_loader.dataset)\n",
    "    test_epoch_acc = test_correct / test_total\n",
    "\n",
    "    print('epoch: ', epoch,\n",
    "         'loss: ', round(epoch_loss, 3),\n",
    "         'accuracy: ', round(epoch_acc, 3),\n",
    "         'test_loss: ', round(test_epoch_loss, 3),\n",
    "          \n",
    "         'test_accuracy: ', round(test_epoch_acc, 3))\n",
    "    return epoch_loss, epoch_acc, test_epoch_loss, test_epoch_acc"
   ]
  },
  {
   "cell_type": "code",
   "execution_count": 17,
   "id": "5edb9c11",
   "metadata": {
    "ExecuteTime": {
     "end_time": "2022-06-19T02:03:40.227853Z",
     "start_time": "2022-06-19T01:53:22.802543Z"
    }
   },
   "outputs": [
    {
     "name": "stdout",
     "output_type": "stream",
     "text": [
      "epoch:  0 loss:  0.067 accuracy:  0.785 test_loss:  0.02 test_accuracy:  0.924\n",
      "epoch:  1 loss:  0.023 accuracy:  0.926 test_loss:  0.037 test_accuracy:  0.916\n",
      "epoch:  2 loss:  0.01 accuracy:  0.958 test_loss:  0.019 test_accuracy:  0.964\n",
      "epoch:  3 loss:  0.011 accuracy:  0.959 test_loss:  0.034 test_accuracy:  0.942\n",
      "epoch:  4 loss:  0.007 accuracy:  0.974 test_loss:  0.039 test_accuracy:  0.916\n",
      "epoch:  5 loss:  0.01 accuracy:  0.973 test_loss:  0.022 test_accuracy:  0.973\n",
      "epoch:  6 loss:  0.009 accuracy:  0.973 test_loss:  0.058 test_accuracy:  0.929\n",
      "epoch:  7 loss:  0.008 accuracy:  0.975 test_loss:  0.041 test_accuracy:  0.951\n",
      "epoch:  8 loss:  0.001 accuracy:  0.993 test_loss:  0.037 test_accuracy:  0.951\n",
      "epoch:  9 loss:  0.0 accuracy:  0.997 test_loss:  0.034 test_accuracy:  0.951\n"
     ]
    }
   ],
   "source": [
    "epochs = 10\n",
    "train_loss = []\n",
    "train_acc = []\n",
    "test_loss = []\n",
    "test_acc = []\n",
    "for epoch in range(epochs):\n",
    "    epoch_loss, epoch_acc, test_epoch_loss, test_epoch_acc = fit(epoch, model, train_dl, test_dl)\n",
    "    train_loss.append(epoch_loss)\n",
    "    train_acc.append(epoch_acc)\n",
    "    \n",
    "    test_loss.append(test_epoch_loss)\n",
    "    test_acc.append(test_epoch_acc)"
   ]
  },
  {
   "cell_type": "markdown",
   "id": "8951cba2",
   "metadata": {},
   "source": [
    "# 画图"
   ]
  },
  {
   "cell_type": "code",
   "execution_count": 18,
   "id": "8f095dbd",
   "metadata": {
    "ExecuteTime": {
     "end_time": "2022-06-19T02:04:55.252283Z",
     "start_time": "2022-06-19T02:04:55.117625Z"
    }
   },
   "outputs": [
    {
     "data": {
      "text/plain": [
       "<matplotlib.legend.Legend at 0x1786c209a00>"
      ]
     },
     "execution_count": 18,
     "metadata": {},
     "output_type": "execute_result"
    },
    {
     "data": {
      "image/png": "[encoded data removed]",
      "text/plain": [
       "<Figure size 432x288 with 1 Axes>"
      ]
     },
     "metadata": {
      "needs_background": "light"
     },
     "output_type": "display_data"
    }
   ],
   "source": [
    "plt.plot(range(1, epochs+1), train_loss, label='train_loss')\n",
    "plt.plot(range(1, epochs+1), test_loss, label='test_loss')\n",
    "plt.legend()"
   ]
  },
  {
   "cell_type": "code",
   "execution_count": 19,
   "id": "71feaf32",
   "metadata": {
    "ExecuteTime": {
     "end_time": "2022-06-19T02:05:34.217948Z",
     "start_time": "2022-06-19T02:05:34.112029Z"
    }
   },
   "outputs": [
    {
     "data": {
      "text/plain": [
       "<matplotlib.legend.Legend at 0x1786bebd580>"
      ]
     },
     "execution_count": 19,
     "metadata": {},
     "output_type": "execute_result"
    },
    {
     "data": {
      "image/png": "[encoded data removed]",
      "text/plain": [
       "<Figure size 432x288 with 1 Axes>"
      ]
     },
     "metadata": {
      "needs_background": "light"
     },
     "output_type": "display_data"
    }
   ],
   "source": [
    "plt.plot(range(1, epochs+1), train_acc, label='train_acc')\n",
    "plt.plot(range(1, epochs+1), test_acc, label='test_acc')\n",
    "plt.legend()"
   ]
  },
  {
   "cell_type": "markdown",
   "id": "419b2f87",
   "metadata": {},
   "source": [
    "# 数据增强"
   ]
  },
  {
   "cell_type": "markdown",
   "id": "46db4392",
   "metadata": {
    "ExecuteTime": {
     "end_time": "2022-06-19T02:07:03.912453Z",
     "start_time": "2022-06-19T02:07:03.895392Z"
    }
   },
   "source": [
    "transforms.RandomCrop    # 随机位置的裁剪 , CenterCrop 中间位置裁剪\n",
    "transforms.RandomRotation # 随机旋转\n",
    "transforms.RandomHorizontalFlip() # 水平翻转\n",
    "transforms.RandomVerticalFlip() # 垂直翻转\n",
    "transforms.ColorJitter(brightness) # 亮度\n",
    "transforms.ColorJitter(contrast) # 对比度\n",
    "transforms.ColorJitter(saturation) # 饱和度\n",
    "transforms.ColorJitter(hue)\n",
    "transforms.RandomGrayscale() # 随机灰度化."
   ]
  },
  {
   "cell_type": "code",
   "execution_count": 21,
   "id": "b2e8873e",
   "metadata": {
    "ExecuteTime": {
     "end_time": "2022-06-19T02:08:46.423015Z",
     "start_time": "2022-06-19T02:08:46.409911Z"
    }
   },
   "outputs": [],
   "source": [
    "# 数据增强只会加在训练数据上. \n",
    "train_transform = transforms.Compose([\n",
    "    transforms.Resize((224, 224)),\n",
    "    transforms.RandomCrop(192), \n",
    "    transforms.RandomHorizontalFlip(),\n",
    "    transforms.RandomVerticalFlip(),\n",
    "    transforms.RandomRotation(0.4),\n",
    "#     transforms.ColorJitter(brightness=0.5),\n",
    "#     transforms.ColorJitter(contrast=0.5),\n",
    "    transforms.ToTensor(),\n",
    "    # 正则化\n",
    "    transforms.Normalize(mean=[0.5, 0.5, 0.5], std=[0.5, 0.5, 0.5])\n",
    "])"
   ]
  },
  {
   "cell_type": "code",
   "execution_count": 22,
   "id": "e456a1c6",
   "metadata": {
    "ExecuteTime": {
     "end_time": "2022-06-19T02:09:09.244232Z",
     "start_time": "2022-06-19T02:09:09.239245Z"
    }
   },
   "outputs": [],
   "source": [
    "test_transform = transforms.Compose([\n",
    "    transforms.Resize((224, 224)),\n",
    "    transforms.ToTensor(),\n",
    "    # 正则化\n",
    "    transforms.Normalize(mean=[0.5, 0.5, 0.5], std=[0.5, 0.5, 0.5])\n",
    "])"
   ]
  },
  {
   "cell_type": "code",
   "execution_count": 23,
   "id": "bc8eb9e4",
   "metadata": {
    "ExecuteTime": {
     "end_time": "2022-06-19T02:09:20.931714Z",
     "start_time": "2022-06-19T02:09:20.915456Z"
    }
   },
   "outputs": [],
   "source": [
    "train_ds = torchvision.datasets.ImageFolder(train_dir, transform=train_transform)\n",
    "test_ds = torchvision.datasets.ImageFolder(test_dir, transform=test_transform)\n",
    "\n",
    "batch_size = 32\n",
    "train_dl = torch.utils.data.DataLoader(train_ds, batch_size=batch_size, shuffle=True, drop_last=True)\n",
    "test_dl = torch.utils.data.DataLoader(test_ds, batch_size=batch_size)"
   ]
  },
  {
   "cell_type": "code",
   "execution_count": 24,
   "id": "7d180002",
   "metadata": {
    "ExecuteTime": {
     "end_time": "2022-06-19T02:11:39.359575Z",
     "start_time": "2022-06-19T02:11:38.434494Z"
    }
   },
   "outputs": [],
   "source": [
    "# 加载预训练好的模型\n",
    "model = torchvision.models.vgg16(pretrained=True)\n",
    "for param in model.features.parameters():\n",
    "    param.requires_grad = False\n",
    "\n",
    "# 修改原网络中的输出层的结构. \n",
    "model.classifier[-1].out_features = 4\n",
    "\n",
    "# 拷到gpu上\n",
    "device = torch.device('cuda:0' if torch.cuda.is_available() else 'cpu')\n",
    "model.to(device)\n",
    "\n",
    "optimizer = optim.Adam(model.parameters(), lr=0.001)\n",
    "loss_fn = nn.CrossEntropyLoss()\n",
    "\n",
    "from torch.optim import lr_scheduler\n",
    "\n",
    "# 学习率衰减\n",
    "step_lr_scheduler = lr_scheduler.StepLR(optimizer, step_size=7, gamma=0.1)\n",
    "\n",
    "def fit(epoch, model, train_loader, test_loader):\n",
    "    correct = 0\n",
    "    total = 0\n",
    "    running_loss = 0\n",
    "    \n",
    "    # 因为bn和dropout需要手动指定训练模式和推理模式\n",
    "    model.train()\n",
    "    for x, y in train_loader:\n",
    "        # 把数据放到GPU上去. \n",
    "        x, y = x.to(device), y.to(device)\n",
    "        y_pred = model(x)\n",
    "        loss = loss_fn(y_pred, y)\n",
    "        optimizer.zero_grad()\n",
    "        loss.backward()\n",
    "        optimizer.step()\n",
    "        \n",
    "        with torch.no_grad():\n",
    "            y_pred = torch.argmax(y_pred, dim=1)\n",
    "            correct += (y_pred == y).sum().item()\n",
    "            total += y.size(0)\n",
    "            running_loss += loss.item()\n",
    "    step_lr_scheduler.step()\n",
    "    epoch_loss = running_loss / len(train_loader.dataset)\n",
    "    epoch_acc = correct / total\n",
    "        \n",
    "    # 测试过程\n",
    "    test_correct = 0\n",
    "    test_total = 0\n",
    "    test_running_loss = 0\n",
    "    model.eval()\n",
    "    with torch.no_grad():\n",
    "        for x, y in test_loader:\n",
    "            x, y = x.to(device), y.to(device)\n",
    "            y_pred = model(x)\n",
    "            loss = loss_fn(y_pred, y)\n",
    "            y_pred = torch.argmax(y_pred, dim=1)\n",
    "            test_correct += (y_pred == y).sum().item()\n",
    "            test_total += y.size(0)\n",
    "            test_running_loss += loss.item()\n",
    "    test_epoch_loss = test_running_loss / len(test_loader.dataset)\n",
    "    test_epoch_acc = test_correct / test_total\n",
    "\n",
    "    print('epoch: ', epoch,\n",
    "         'loss: ', round(epoch_loss, 3),\n",
    "         'accuracy: ', round(epoch_acc, 3),\n",
    "         'test_loss: ', round(test_epoch_loss, 3),\n",
    "         'test_accuracy: ', round(test_epoch_acc, 3))\n",
    "    return epoch_loss, epoch_acc, test_epoch_loss, test_epoch_acc\n",
    "    "
   ]
  },
  {
   "cell_type": "code",
   "execution_count": 25,
   "id": "6ddd108b",
   "metadata": {
    "ExecuteTime": {
     "end_time": "2022-06-19T02:36:44.416124Z",
     "start_time": "2022-06-19T02:11:50.937551Z"
    }
   },
   "outputs": [
    {
     "name": "stdout",
     "output_type": "stream",
     "text": [
      "epoch:  0 loss:  0.052 accuracy:  0.686 test_loss:  0.014 test_accuracy:  0.911\n",
      "epoch:  1 loss:  0.017 accuracy:  0.884 test_loss:  0.014 test_accuracy:  0.898\n",
      "epoch:  2 loss:  0.016 accuracy:  0.904 test_loss:  0.012 test_accuracy:  0.933\n",
      "epoch:  3 loss:  0.008 accuracy:  0.945 test_loss:  0.013 test_accuracy:  0.942\n",
      "epoch:  4 loss:  0.008 accuracy:  0.949 test_loss:  0.008 test_accuracy:  0.947\n",
      "epoch:  5 loss:  0.008 accuracy:  0.948 test_loss:  0.016 test_accuracy:  0.916\n",
      "epoch:  6 loss:  0.008 accuracy:  0.95 test_loss:  0.011 test_accuracy:  0.942\n",
      "epoch:  7 loss:  0.008 accuracy:  0.962 test_loss:  0.01 test_accuracy:  0.942\n",
      "epoch:  8 loss:  0.004 accuracy:  0.97 test_loss:  0.009 test_accuracy:  0.951\n",
      "epoch:  9 loss:  0.004 accuracy:  0.975 test_loss:  0.009 test_accuracy:  0.96\n"
     ]
    }
   ],
   "source": [
    "epochs = 10\n",
    "train_loss = []\n",
    "train_acc = []\n",
    "test_loss = []\n",
    "test_acc = []\n",
    "for epoch in range(epochs):\n",
    "    epoch_loss, epoch_acc, test_epoch_loss, test_epoch_acc = fit(epoch, model, train_dl, test_dl)\n",
    "    train_loss.append(epoch_loss)\n",
    "    train_acc.append(epoch_acc)\n",
    "    \n",
    "    test_loss.append(test_epoch_loss)\n",
    "    test_acc.append(test_epoch_acc)"
   ]
  },
  {
   "cell_type": "code",
   "execution_count": 26,
   "id": "e98d6a5e",
   "metadata": {
    "ExecuteTime": {
     "end_time": "2022-06-19T02:38:23.877772Z",
     "start_time": "2022-06-19T02:38:23.761121Z"
    }
   },
   "outputs": [
    {
     "data": {
      "text/plain": [
       "<matplotlib.legend.Legend at 0x1786bf5aa30>"
      ]
     },
     "execution_count": 26,
     "metadata": {},
     "output_type": "execute_result"
    },
    {
     "data": {
      "image/png": "[encoded data removed]",
      "text/plain": [
       "<Figure size 432x288 with 1 Axes>"
      ]
     },
     "metadata": {
      "needs_background": "light"
     },
     "output_type": "display_data"
    }
   ],
   "source": [
    "plt.plot(range(1, epochs+1), train_loss, label='train_loss')\n",
    "plt.plot(range(1, epochs+1), test_loss, label='test_loss')\n",
    "plt.legend()"
   ]
  },
  {
   "cell_type": "code",
   "execution_count": 27,
   "id": "3e0bd8d4",
   "metadata": {
    "ExecuteTime": {
     "end_time": "2022-06-19T02:38:36.979552Z",
     "start_time": "2022-06-19T02:38:36.868963Z"
    }
   },
   "outputs": [
    {
     "data": {
      "text/plain": [
       "<matplotlib.legend.Legend at 0x1786bebd520>"
      ]
     },
     "execution_count": 27,
     "metadata": {},
     "output_type": "execute_result"
    },
    {
     "data": {
      "image/png": "[encoded data removed]",
      "text/plain": [
       "<Figure size 432x288 with 1 Axes>"
      ]
     },
     "metadata": {
      "needs_background": "light"
     },
     "output_type": "display_data"
    }
   ],
   "source": [
    "plt.plot(range(1, epochs+1), train_acc, label='train_acc')\n",
    "plt.plot(range(1, epochs+1), test_acc, label='test_acc')\n",
    "plt.legend()"
   ]
  },
  {
   "cell_type": "code",
   "execution_count": null,
   "id": "ebf3d7a0",
   "metadata": {},
   "outputs": [],
   "source": []
  }
 ],
 "metadata": {
  "hide_input": false,
  "kernelspec": {
   "display_name": "Python 3 (ipykernel)",
   "language": "python",
   "name": "python3"
  },
  "language_info": {
   "codemirror_mode": {
    "name": "ipython",
    "version": 3
   },
   "file_extension": ".py",
   "mimetype": "text/x-python",
   "name": "python",
   "nbconvert_exporter": "python",
   "pygments_lexer": "ipython3",
   "version": "3.9.7"
  },
  "latex_envs": {
   "LaTeX_envs_menu_present": true,
   "autoclose": false,
   "autocomplete": true,
   "bibliofile": "biblio.bib",
   "cite_by": "apalike",
   "current_citInitial": 1,
   "eqLabelWithNumbers": true,
   "eqNumInitial": 1,
   "hotkeys": {
    "equation": "Ctrl-E",
    "itemize": "Ctrl-I"
   },
   "labels_anchors": false,
   "latex_user_defs": false,
   "report_style_numbering": false,
   "user_envs_cfg": false
  },
  "nbTranslate": {
   "displayLangs": [
    "*"
   ],
   "hotkey": "alt-t",
   "langInMainMenu": true,
   "sourceLang": "en",
   "targetLang": "fr",
   "useGoogleTranslate": true
  },
  "toc": {
   "base_numbering": 1,
   "nav_menu": {},
   "number_sections": true,
   "sideBar": true,
   "skip_h1_title": false,
   "title_cell": "Table of Contents",
   "title_sidebar": "Contents",
   "toc_cell": false,
   "toc_position": {},
   "toc_section_display": true,
   "toc_window_display": false
  },
  "varInspector": {
   "cols": {
    "lenName": 16,
    "lenType": 16,
    "lenVar": 40
   },
   "kernels_config": {
    "python": {
     "delete_cmd_postfix": "",
     "delete_cmd_prefix": "del ",
     "library": "var_list.py",
     "varRefreshCmd": "print(var_dic_list())"
    },
    "r": {
     "delete_cmd_postfix": ") ",
     "delete_cmd_prefix": "rm(",
     "library": "var_list.r",
     "varRefreshCmd": "cat(var_dic_list()) "
    }
   },
   "position": {
    "height": "144.85px",
    "left": "398.2px",
    "right": "20px",
    "top": "120px",
    "width": "350px"
   },
   "types_to_exclude": [
    "module",
    "function",
    "builtin_function_or_method",
    "instance",
    "_Feature"
   ],
   "window_display": false
  }
 },
 "nbformat": 4,
 "nbformat_minor": 5
}
