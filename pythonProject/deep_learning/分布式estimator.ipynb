{
 "cells": [
  {
   "cell_type": "code",
   "execution_count": 1,
   "metadata": {
    "ExecuteTime": {
     "end_time": "2022-02-28T13:20:33.604401Z",
     "start_time": "2022-02-28T13:20:33.050376Z"
    }
   },
   "outputs": [],
   "source": [
    "from tensorflow import keras\n",
    "import tensorflow as tf\n",
    "import numpy as np\n",
    "import pandas as pd\n",
    "import matplotlib.pyplot as plt"
   ]
  },
  {
   "cell_type": "code",
   "execution_count": 2,
   "metadata": {
    "ExecuteTime": {
     "end_time": "2022-02-28T13:20:33.619361Z",
     "start_time": "2022-02-28T13:20:33.605398Z"
    }
   },
   "outputs": [],
   "source": [
    "# 打开显示\n",
    "tf.debugging.set_log_device_placement(True)"
   ]
  },
  {
   "cell_type": "code",
   "execution_count": 3,
   "metadata": {
    "ExecuteTime": {
     "end_time": "2022-02-28T13:20:34.216797Z",
     "start_time": "2022-02-28T13:20:33.621356Z"
    }
   },
   "outputs": [],
   "source": [
    "# 显示电脑上的物理GPU\n",
    "gpus = tf.config.experimental.list_physical_devices('GPU')"
   ]
  },
  {
   "cell_type": "code",
   "execution_count": 4,
   "metadata": {
    "ExecuteTime": {
     "end_time": "2022-02-28T13:20:34.231757Z",
     "start_time": "2022-02-28T13:20:34.218792Z"
    }
   },
   "outputs": [
    {
     "data": {
      "text/plain": [
       "[PhysicalDevice(name='/physical_device:GPU:0', device_type='GPU')]"
      ]
     },
     "execution_count": 4,
     "metadata": {},
     "output_type": "execute_result"
    }
   ],
   "source": [
    "gpus"
   ]
  },
  {
   "cell_type": "code",
   "execution_count": 5,
   "metadata": {
    "ExecuteTime": {
     "end_time": "2022-02-28T13:20:34.247714Z",
     "start_time": "2022-02-28T13:20:34.232754Z"
    }
   },
   "outputs": [],
   "source": [
    "# 需要在GPU没有初始化之前执行. \n",
    "tf.config.experimental.set_virtual_device_configuration(\n",
    "    gpus[0],\n",
    "    [tf.config.experimental.VirtualDeviceConfiguration(memory_limit=2048),\n",
    "    tf.config.experimental.VirtualDeviceConfiguration(memory_limit=2048),\n",
    "    tf.config.experimental.VirtualDeviceConfiguration(memory_limit=2048)]\n",
    ")"
   ]
  },
  {
   "cell_type": "code",
   "execution_count": 6,
   "metadata": {
    "ExecuteTime": {
     "end_time": "2022-02-28T13:20:36.448883Z",
     "start_time": "2022-02-28T13:20:34.248712Z"
    }
   },
   "outputs": [
    {
     "data": {
      "text/plain": [
       "[LogicalDevice(name='/device:GPU:0', device_type='GPU'),\n",
       " LogicalDevice(name='/device:GPU:1', device_type='GPU'),\n",
       " LogicalDevice(name='/device:GPU:2', device_type='GPU')]"
      ]
     },
     "execution_count": 6,
     "metadata": {},
     "output_type": "execute_result"
    }
   ],
   "source": [
    "# 逻辑GPU\n",
    "tf.config.experimental.list_logical_devices('GPU')"
   ]
  },
  {
   "cell_type": "code",
   "execution_count": 7,
   "metadata": {
    "ExecuteTime": {
     "end_time": "2022-02-28T13:20:36.845331Z",
     "start_time": "2022-02-28T13:20:36.450879Z"
    },
    "scrolled": false
   },
   "outputs": [
    {
     "name": "stdout",
     "output_type": "stream",
     "text": [
      "(5000, 28, 28) (5000,)\n",
      "(55000, 28, 28) (55000,)\n",
      "(10000, 28, 28) (10000,)\n"
     ]
    }
   ],
   "source": [
    "fashion_mnist = keras.datasets.fashion_mnist\n",
    "(x_train_all, y_train_all), (x_test, y_test) = fashion_mnist.load_data()\n",
    "x_valid, x_train = x_train_all[:5000], x_train_all[5000:]\n",
    "y_valid, y_train = y_train_all[:5000], y_train_all[5000:]\n",
    "\n",
    "print(x_valid.shape, y_valid.shape)\n",
    "print(x_train.shape, y_train.shape)\n",
    "print(x_test.shape, y_test.shape)"
   ]
  },
  {
   "cell_type": "code",
   "execution_count": 8,
   "metadata": {
    "ExecuteTime": {
     "end_time": "2022-02-28T13:20:36.936088Z",
     "start_time": "2022-02-28T13:20:36.848323Z"
    }
   },
   "outputs": [
    {
     "data": {
      "text/plain": [
       "(55000, 784)"
      ]
     },
     "execution_count": 8,
     "metadata": {},
     "output_type": "execute_result"
    }
   ],
   "source": [
    "x_train.astype(np.float32).reshape(-1, 784).shape"
   ]
  },
  {
   "cell_type": "code",
   "execution_count": 9,
   "metadata": {
    "ExecuteTime": {
     "end_time": "2022-02-28T13:20:38.968705Z",
     "start_time": "2022-02-28T13:20:36.938083Z"
    }
   },
   "outputs": [
    {
     "name": "stderr",
     "output_type": "stream",
     "text": [
      "c:\\users\\supercoldzzz\\appdata\\local\\programs\\python\\python36\\lib\\importlib\\_bootstrap.py:219: RuntimeWarning: numpy.ufunc size changed, may indicate binary incompatibility. Expected 216, got 192\n",
      "  return f(*args, **kwds)\n",
      "c:\\users\\supercoldzzz\\appdata\\local\\programs\\python\\python36\\lib\\importlib\\_bootstrap.py:219: RuntimeWarning: numpy.ufunc size changed, may indicate binary incompatibility. Expected 192 from C header, got 216 from PyObject\n",
      "  return f(*args, **kwds)\n",
      "c:\\users\\supercoldzzz\\appdata\\local\\programs\\python\\python36\\lib\\importlib\\_bootstrap.py:219: RuntimeWarning: numpy.ufunc size changed, may indicate binary incompatibility. Expected 216, got 192\n",
      "  return f(*args, **kwds)\n"
     ]
    }
   ],
   "source": [
    "# 标准化\n",
    "from sklearn.preprocessing import StandardScaler\n",
    "\n",
    "scaler = StandardScaler()\n",
    "x_train_scaled = scaler.fit_transform(x_train.astype(np.float32).reshape(55000, -1))\n",
    "x_valid_scaled = scaler.transform(x_valid.astype(np.float32).reshape(5000, -1))\n",
    "\n",
    "x_test_scaled = scaler.transform(x_test.astype(np.float32).reshape(10000, -1))"
   ]
  },
  {
   "cell_type": "code",
   "execution_count": 10,
   "metadata": {
    "ExecuteTime": {
     "end_time": "2022-02-28T13:20:39.028545Z",
     "start_time": "2022-02-28T13:20:38.971698Z"
    },
    "scrolled": true
   },
   "outputs": [],
   "source": [
    "def make_dataset(data, target, epochs, batch_size, shuffle=True):\n",
    "    dataset = tf.data.Dataset.from_tensor_slices((data, target))\n",
    "    if shuffle:\n",
    "        dataset = dataset.shuffle(10000)\n",
    "    dataset = dataset.repeat(epochs).batch(batch_size).prefetch(50)\n",
    "    return dataset\n",
    "\n",
    "batch_size = 64\n",
    "epochs = 20\n",
    "train_dataset = make_dataset(x_train_scaled, y_train, epochs, batch_size)"
   ]
  },
  {
   "cell_type": "code",
   "execution_count": 11,
   "metadata": {
    "ExecuteTime": {
     "end_time": "2022-02-28T13:20:39.286361Z",
     "start_time": "2022-02-28T13:20:39.029543Z"
    }
   },
   "outputs": [],
   "source": [
    "model = keras.models.Sequential()\n",
    "model.add(keras.layers.Dense(512, activation='relu', input_shape=(784,)))\n",
    "model.add(keras.layers.Dense(256, activation='relu'))\n",
    "model.add(keras.layers.Dense(10, activation='softmax'))\n",
    "\n",
    "model.compile(loss='sparse_categorical_crossentropy',\n",
    "             optimizer='adam',\n",
    "             metrics=['accuracy'])"
   ]
  },
  {
   "cell_type": "code",
   "execution_count": 12,
   "metadata": {
    "ExecuteTime": {
     "end_time": "2022-02-28T13:20:39.302320Z",
     "start_time": "2022-02-28T13:20:39.287360Z"
    },
    "scrolled": true
   },
   "outputs": [
    {
     "name": "stdout",
     "output_type": "stream",
     "text": [
      "Model: \"sequential\"\n",
      "_________________________________________________________________\n",
      "Layer (type)                 Output Shape              Param #   \n",
      "=================================================================\n",
      "dense (Dense)                (None, 512)               401920    \n",
      "_________________________________________________________________\n",
      "dense_1 (Dense)              (None, 256)               131328    \n",
      "_________________________________________________________________\n",
      "dense_2 (Dense)              (None, 10)                2570      \n",
      "=================================================================\n",
      "Total params: 535,818\n",
      "Trainable params: 535,818\n",
      "Non-trainable params: 0\n",
      "_________________________________________________________________\n"
     ]
    }
   ],
   "source": [
    "model.summary()"
   ]
  },
  {
   "cell_type": "code",
   "execution_count": 13,
   "metadata": {
    "ExecuteTime": {
     "end_time": "2022-02-28T13:20:39.317279Z",
     "start_time": "2022-02-28T13:20:39.306308Z"
    }
   },
   "outputs": [],
   "source": [
    "eval_dataset = make_dataset(x_valid_scaled, y_valid, epochs=1, batch_size=32, shuffle=False)"
   ]
  },
  {
   "cell_type": "code",
   "execution_count": 15,
   "metadata": {
    "ExecuteTime": {
     "end_time": "2022-02-28T13:21:01.449185Z",
     "start_time": "2022-02-28T13:21:01.004813Z"
    }
   },
   "outputs": [
    {
     "name": "stdout",
     "output_type": "stream",
     "text": [
      "WARNING:tensorflow:NCCL is not supported when using virtual GPUs, fallingback to reduction to one device\n",
      "INFO:tensorflow:Using MirroredStrategy with devices ('/job:localhost/replica:0/task:0/device:GPU:0', '/job:localhost/replica:0/task:0/device:GPU:1', '/job:localhost/replica:0/task:0/device:GPU:2')\n",
      "INFO:tensorflow:Initializing RunConfig with distribution strategies.\n",
      "INFO:tensorflow:Not using Distribute Coordinator.\n",
      "WARNING:tensorflow:Using temporary folder as model directory: C:\\Users\\SUPERC~1\\AppData\\Local\\Temp\\tmpib069243\n",
      "INFO:tensorflow:Using the Keras model provided.\n"
     ]
    },
    {
     "name": "stderr",
     "output_type": "stream",
     "text": [
      "d:\\2005\\.venv\\lib\\site-packages\\tensorflow\\python\\keras\\backend.py:434: UserWarning: `tf.keras.backend.set_learning_phase` is deprecated and will be removed after 2020-10-11. To update it, simply pass a True/False value to the `training` argument of the `__call__` method of your layer or model.\n",
      "  warnings.warn('`tf.keras.backend.set_learning_phase` is deprecated and '\n"
     ]
    },
    {
     "name": "stdout",
     "output_type": "stream",
     "text": [
      "INFO:tensorflow:Using config: {'_model_dir': 'C:\\\\Users\\\\SUPERC~1\\\\AppData\\\\Local\\\\Temp\\\\tmpib069243', '_tf_random_seed': None, '_save_summary_steps': 100, '_save_checkpoints_steps': None, '_save_checkpoints_secs': 600, '_session_config': allow_soft_placement: true\n",
      "graph_options {\n",
      "  rewrite_options {\n",
      "    meta_optimizer_iterations: ONE\n",
      "  }\n",
      "}\n",
      ", '_keep_checkpoint_max': 5, '_keep_checkpoint_every_n_hours': 10000, '_log_step_count_steps': 100, '_train_distribute': <tensorflow.python.distribute.mirrored_strategy.MirroredStrategy object at 0x0000022E307A1908>, '_device_fn': None, '_protocol': None, '_eval_distribute': None, '_experimental_distribute': None, '_experimental_max_worker_delay_secs': None, '_session_creation_timeout_secs': 7200, '_checkpoint_save_graph_def': True, '_service': None, '_cluster_spec': ClusterSpec({}), '_task_type': 'worker', '_task_id': 0, '_global_id_in_cluster': 0, '_master': '', '_evaluation_master': '', '_is_chief': True, '_num_ps_replicas': 0, '_num_worker_replicas': 1, '_distribute_coordinator_mode': None}\n"
     ]
    }
   ],
   "source": [
    "# 把keras模型转换成estimator模型\n",
    "strategy = tf.distribute.MirroredStrategy()\n",
    "config = tf.estimator.RunConfig(train_distribute=strategy)\n",
    "estimator = keras.estimator.model_to_estimator(model, config=config)"
   ]
  },
  {
   "cell_type": "code",
   "execution_count": 16,
   "metadata": {
    "ExecuteTime": {
     "end_time": "2022-02-28T13:22:40.074201Z",
     "start_time": "2022-02-28T13:21:05.548559Z"
    },
    "collapsed": true
   },
   "outputs": [
    {
     "name": "stdout",
     "output_type": "stream",
     "text": [
      "INFO:tensorflow:Calling model_fn.\n",
      "INFO:tensorflow:Calling model_fn.\n",
      "INFO:tensorflow:Calling model_fn.\n",
      "INFO:tensorflow:Reduce to /replica:0/task:0/device:CPU:0 then broadcast to ('/replica:0/task:0/device:CPU:0',).\n",
      "INFO:tensorflow:Reduce to /replica:0/task:0/device:CPU:0 then broadcast to ('/replica:0/task:0/device:CPU:0',).\n",
      "INFO:tensorflow:Reduce to /replica:0/task:0/device:CPU:0 then broadcast to ('/replica:0/task:0/device:CPU:0',).\n",
      "INFO:tensorflow:Reduce to /replica:0/task:0/device:CPU:0 then broadcast to ('/replica:0/task:0/device:CPU:0',).\n",
      "INFO:tensorflow:Reduce to /job:localhost/replica:0/task:0/device:GPU:0 then broadcast to ('/job:localhost/replica:0/task:0/device:GPU:0', '/job:localhost/replica:0/task:0/device:GPU:1', '/job:localhost/replica:0/task:0/device:GPU:2').\n",
      "INFO:tensorflow:Reduce to /job:localhost/replica:0/task:0/device:GPU:0 then broadcast to ('/job:localhost/replica:0/task:0/device:GPU:0', '/job:localhost/replica:0/task:0/device:GPU:1', '/job:localhost/replica:0/task:0/device:GPU:2').\n",
      "INFO:tensorflow:Reduce to /job:localhost/replica:0/task:0/device:GPU:0 then broadcast to ('/job:localhost/replica:0/task:0/device:GPU:0', '/job:localhost/replica:0/task:0/device:GPU:1', '/job:localhost/replica:0/task:0/device:GPU:2').\n",
      "INFO:tensorflow:Reduce to /job:localhost/replica:0/task:0/device:GPU:0 then broadcast to ('/job:localhost/replica:0/task:0/device:GPU:0', '/job:localhost/replica:0/task:0/device:GPU:1', '/job:localhost/replica:0/task:0/device:GPU:2').\n",
      "INFO:tensorflow:Reduce to /job:localhost/replica:0/task:0/device:GPU:0 then broadcast to ('/job:localhost/replica:0/task:0/device:GPU:0', '/job:localhost/replica:0/task:0/device:GPU:1', '/job:localhost/replica:0/task:0/device:GPU:2').\n",
      "INFO:tensorflow:Reduce to /job:localhost/replica:0/task:0/device:GPU:0 then broadcast to ('/job:localhost/replica:0/task:0/device:GPU:0', '/job:localhost/replica:0/task:0/device:GPU:1', '/job:localhost/replica:0/task:0/device:GPU:2').\n",
      "INFO:tensorflow:Reduce to /replica:0/task:0/device:CPU:0 then broadcast to ('/replica:0/task:0/device:CPU:0',).\n",
      "INFO:tensorflow:Reduce to /replica:0/task:0/device:CPU:0 then broadcast to ('/replica:0/task:0/device:CPU:0',).\n",
      "INFO:tensorflow:Reduce to /replica:0/task:0/device:CPU:0 then broadcast to ('/replica:0/task:0/device:CPU:0',).\n",
      "INFO:tensorflow:Reduce to /replica:0/task:0/device:CPU:0 then broadcast to ('/replica:0/task:0/device:CPU:0',).\n",
      "INFO:tensorflow:Reduce to /replica:0/task:0/device:CPU:0 then broadcast to ('/replica:0/task:0/device:CPU:0',).\n",
      "INFO:tensorflow:Reduce to /replica:0/task:0/device:CPU:0 then broadcast to ('/replica:0/task:0/device:CPU:0',).\n",
      "INFO:tensorflow:Done calling model_fn.\n",
      "INFO:tensorflow:Done calling model_fn.\n",
      "INFO:tensorflow:Done calling model_fn.\n",
      "INFO:tensorflow:Warm-starting with WarmStartSettings: WarmStartSettings(ckpt_to_initialize_from='C:\\\\Users\\\\SUPERC~1\\\\AppData\\\\Local\\\\Temp\\\\tmpib069243\\\\keras\\\\keras_model.ckpt', vars_to_warm_start='.*', var_name_to_vocab_info={}, var_name_to_prev_var_name={})\n",
      "INFO:tensorflow:Warm-starting from: C:\\Users\\SUPERC~1\\AppData\\Local\\Temp\\tmpib069243\\keras\\keras_model.ckpt\n",
      "INFO:tensorflow:Warm-starting variables only in TRAINABLE_VARIABLES.\n",
      "INFO:tensorflow:Warm-started 6 variables.\n",
      "INFO:tensorflow:Create CheckpointSaverHook.\n",
      "WARNING:tensorflow:From d:\\2005\\.venv\\lib\\site-packages\\tensorflow_estimator\\python\\estimator\\util.py:96: DistributedIteratorV1.initialize (from tensorflow.python.distribute.input_lib) is deprecated and will be removed in a future version.\n",
      "Instructions for updating:\n",
      "Use the iterator's `initializer` property instead.\n",
      "INFO:tensorflow:Graph was finalized.\n",
      "INFO:tensorflow:Running local_init_op.\n",
      "INFO:tensorflow:Done running local_init_op.\n",
      "INFO:tensorflow:Calling checkpoint listeners before saving checkpoint 0...\n",
      "INFO:tensorflow:Saving checkpoints for 0 into C:\\Users\\SUPERC~1\\AppData\\Local\\Temp\\tmpib069243\\model.ckpt.\n",
      "INFO:tensorflow:Calling checkpoint listeners after saving checkpoint 0...\n",
      "INFO:tensorflow:loss = 2.5458164, step = 0\n",
      "INFO:tensorflow:global_step/sec: 105.543\n",
      "INFO:tensorflow:loss = 0.4485438, step = 100 (0.962 sec)\n",
      "INFO:tensorflow:global_step/sec: 164.366\n",
      "INFO:tensorflow:loss = 0.3515863, step = 200 (0.575 sec)\n",
      "INFO:tensorflow:global_step/sec: 178.562\n",
      "INFO:tensorflow:loss = 0.3616807, step = 300 (0.560 sec)\n",
      "INFO:tensorflow:global_step/sec: 188.647\n",
      "INFO:tensorflow:loss = 0.34137812, step = 400 (0.531 sec)\n",
      "INFO:tensorflow:global_step/sec: 187.585\n",
      "INFO:tensorflow:loss = 0.27230662, step = 500 (0.533 sec)\n",
      "INFO:tensorflow:global_step/sec: 182.463\n",
      "INFO:tensorflow:loss = 0.3101166, step = 600 (0.547 sec)\n",
      "INFO:tensorflow:global_step/sec: 193.188\n",
      "INFO:tensorflow:loss = 0.24136588, step = 700 (0.519 sec)\n",
      "INFO:tensorflow:global_step/sec: 193.561\n",
      "INFO:tensorflow:loss = 0.2899763, step = 800 (0.518 sec)\n",
      "INFO:tensorflow:global_step/sec: 174.982\n",
      "INFO:tensorflow:loss = 0.17809737, step = 900 (0.570 sec)\n",
      "INFO:tensorflow:global_step/sec: 174.522\n",
      "INFO:tensorflow:loss = 0.24295494, step = 1000 (0.572 sec)\n",
      "INFO:tensorflow:global_step/sec: 176.527\n",
      "INFO:tensorflow:loss = 0.2627346, step = 1100 (0.566 sec)\n",
      "INFO:tensorflow:global_step/sec: 189.895\n",
      "INFO:tensorflow:loss = 0.19107592, step = 1200 (0.527 sec)\n",
      "INFO:tensorflow:global_step/sec: 188.288\n",
      "INFO:tensorflow:loss = 0.18861642, step = 1300 (0.531 sec)\n",
      "INFO:tensorflow:global_step/sec: 195.835\n",
      "INFO:tensorflow:loss = 0.23238401, step = 1400 (0.511 sec)\n",
      "INFO:tensorflow:global_step/sec: 191.897\n",
      "INFO:tensorflow:loss = 0.19486761, step = 1500 (0.522 sec)\n",
      "INFO:tensorflow:global_step/sec: 191.892\n",
      "INFO:tensorflow:loss = 0.11906943, step = 1600 (0.520 sec)\n",
      "INFO:tensorflow:global_step/sec: 186.537\n",
      "INFO:tensorflow:loss = 0.22720625, step = 1700 (0.536 sec)\n",
      "INFO:tensorflow:global_step/sec: 188.112\n",
      "INFO:tensorflow:loss = 0.18270688, step = 1800 (0.532 sec)\n",
      "INFO:tensorflow:global_step/sec: 186.542\n",
      "INFO:tensorflow:loss = 0.14707401, step = 1900 (0.536 sec)\n",
      "INFO:tensorflow:global_step/sec: 190.98\n",
      "INFO:tensorflow:loss = 0.1903398, step = 2000 (0.524 sec)\n",
      "INFO:tensorflow:global_step/sec: 193.935\n",
      "INFO:tensorflow:loss = 0.1531424, step = 2100 (0.516 sec)\n",
      "INFO:tensorflow:global_step/sec: 192.822\n",
      "INFO:tensorflow:loss = 0.12157379, step = 2200 (0.520 sec)\n",
      "INFO:tensorflow:global_step/sec: 198.539\n",
      "INFO:tensorflow:loss = 0.09799611, step = 2300 (0.503 sec)\n",
      "INFO:tensorflow:global_step/sec: 188.648\n",
      "INFO:tensorflow:loss = 0.1688951, step = 2400 (0.530 sec)\n",
      "INFO:tensorflow:global_step/sec: 187.232\n",
      "INFO:tensorflow:loss = 0.15019658, step = 2500 (0.534 sec)\n",
      "INFO:tensorflow:global_step/sec: 175.288\n",
      "INFO:tensorflow:loss = 0.1349188, step = 2600 (0.571 sec)\n",
      "INFO:tensorflow:global_step/sec: 188.995\n",
      "INFO:tensorflow:loss = 0.119122475, step = 2700 (0.529 sec)\n",
      "INFO:tensorflow:global_step/sec: 187.238\n",
      "INFO:tensorflow:loss = 0.16716865, step = 2800 (0.534 sec)\n",
      "INFO:tensorflow:global_step/sec: 176.054\n",
      "INFO:tensorflow:loss = 0.101941615, step = 2900 (0.568 sec)\n",
      "INFO:tensorflow:global_step/sec: 172.72\n",
      "INFO:tensorflow:loss = 0.11537496, step = 3000 (0.579 sec)\n",
      "INFO:tensorflow:global_step/sec: 187.411\n",
      "INFO:tensorflow:loss = 0.15388867, step = 3100 (0.533 sec)\n",
      "INFO:tensorflow:global_step/sec: 187.584\n",
      "INFO:tensorflow:loss = 0.1702519, step = 3200 (0.533 sec)\n",
      "INFO:tensorflow:global_step/sec: 180.657\n",
      "INFO:tensorflow:loss = 0.12261344, step = 3300 (0.554 sec)\n",
      "INFO:tensorflow:global_step/sec: 171.985\n",
      "INFO:tensorflow:loss = 0.10197665, step = 3400 (0.582 sec)\n",
      "INFO:tensorflow:global_step/sec: 194.882\n",
      "INFO:tensorflow:loss = 0.06558848, step = 3500 (0.512 sec)\n",
      "INFO:tensorflow:global_step/sec: 186.013\n",
      "INFO:tensorflow:loss = 0.114252135, step = 3600 (0.539 sec)\n",
      "INFO:tensorflow:global_step/sec: 190.986\n",
      "INFO:tensorflow:loss = 0.07817602, step = 3700 (0.523 sec)\n",
      "INFO:tensorflow:global_step/sec: 177.773\n",
      "INFO:tensorflow:loss = 0.06975263, step = 3800 (0.564 sec)\n",
      "INFO:tensorflow:global_step/sec: 173.469\n",
      "INFO:tensorflow:loss = 0.14132819, step = 3900 (0.575 sec)\n",
      "INFO:tensorflow:global_step/sec: 193.194\n",
      "INFO:tensorflow:loss = 0.14248872, step = 4000 (0.518 sec)\n",
      "INFO:tensorflow:global_step/sec: 184.481\n",
      "INFO:tensorflow:loss = 0.06672813, step = 4100 (0.542 sec)\n",
      "INFO:tensorflow:global_step/sec: 191.345\n",
      "INFO:tensorflow:loss = 0.065715775, step = 4200 (0.524 sec)\n",
      "INFO:tensorflow:global_step/sec: 180.172\n"
     ]
    },
    {
     "name": "stdout",
     "output_type": "stream",
     "text": [
      "INFO:tensorflow:loss = 0.114572436, step = 4300 (0.555 sec)\n",
      "INFO:tensorflow:global_step/sec: 171.243\n",
      "INFO:tensorflow:loss = 0.07346612, step = 4400 (0.584 sec)\n",
      "INFO:tensorflow:global_step/sec: 177.461\n",
      "INFO:tensorflow:loss = 0.052218106, step = 4500 (0.564 sec)\n",
      "INFO:tensorflow:global_step/sec: 170.957\n",
      "INFO:tensorflow:loss = 0.1252355, step = 4600 (0.584 sec)\n",
      "INFO:tensorflow:global_step/sec: 184.474\n",
      "INFO:tensorflow:loss = 0.0756687, step = 4700 (0.542 sec)\n",
      "INFO:tensorflow:global_step/sec: 188.287\n",
      "INFO:tensorflow:loss = 0.085676596, step = 4800 (0.531 sec)\n",
      "INFO:tensorflow:global_step/sec: 188.822\n",
      "INFO:tensorflow:loss = 0.029956762, step = 4900 (0.530 sec)\n",
      "INFO:tensorflow:Calling checkpoint listeners before saving checkpoint 5000...\n",
      "INFO:tensorflow:Saving checkpoints for 5000 into C:\\Users\\SUPERC~1\\AppData\\Local\\Temp\\tmpib069243\\model.ckpt.\n",
      "INFO:tensorflow:Calling checkpoint listeners after saving checkpoint 5000...\n",
      "INFO:tensorflow:Loss for final step: 0.06789085.\n"
     ]
    },
    {
     "data": {
      "text/plain": [
       "<tensorflow_estimator.python.estimator.estimator.EstimatorV2 at 0x22e309537f0>"
      ]
     },
     "execution_count": 16,
     "metadata": {},
     "output_type": "execute_result"
    }
   ],
   "source": [
    "# 使用estimator训练\n",
    "# 不指定estimator模型保存的路径, 会自动在tmp目录下生成临时目录保存模型\n",
    "estimator.train(\n",
    "    input_fn = lambda : make_dataset(x_train_scaled, y_train, epochs, batch_size),\n",
    "    max_steps=5000\n",
    ")"
   ]
  }
 ],
 "metadata": {
  "kernelspec": {
   "display_name": "Python 3",
   "language": "python",
   "name": "python3"
  },
  "language_info": {
   "codemirror_mode": {
    "name": "ipython",
    "version": 3
   },
   "file_extension": ".py",
   "mimetype": "text/x-python",
   "name": "python",
   "nbconvert_exporter": "python",
   "pygments_lexer": "ipython3",
   "version": "3.6.8"
  },
  "toc": {
   "base_numbering": 1,
   "nav_menu": {},
   "number_sections": true,
   "sideBar": true,
   "skip_h1_title": false,
   "title_cell": "Table of Contents",
   "title_sidebar": "Contents",
   "toc_cell": false,
   "toc_position": {},
   "toc_section_display": true,
   "toc_window_display": false
  }
 },
 "nbformat": 4,
 "nbformat_minor": 4
}
