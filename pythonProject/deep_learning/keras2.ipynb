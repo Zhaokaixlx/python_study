{
 "cells": [
  {
   "cell_type": "markdown",
   "id": "8cac5448",
   "metadata": {},
   "source": [
    "# keras进阶-标准化"
   ]
  },
  {
   "cell_type": "code",
   "execution_count": 1,
   "id": "f7b86e2a",
   "metadata": {
    "ExecuteTime": {
     "end_time": "2022-05-25T13:49:11.314918Z",
     "start_time": "2022-05-25T13:49:08.705507Z"
    }
   },
   "outputs": [],
   "source": [
    "import tensorflow as tf"
   ]
  },
  {
   "cell_type": "code",
   "execution_count": 2,
   "id": "dc7370f1",
   "metadata": {
    "ExecuteTime": {
     "end_time": "2022-05-25T13:49:11.474289Z",
     "start_time": "2022-05-25T13:49:11.316872Z"
    }
   },
   "outputs": [],
   "source": [
    "import numpy as np\n",
    "import matplotlib.pyplot as plt"
   ]
  },
  {
   "cell_type": "code",
   "execution_count": 3,
   "id": "40b8a98f",
   "metadata": {
    "ExecuteTime": {
     "end_time": "2022-05-25T13:49:11.693428Z",
     "start_time": "2022-05-25T13:49:11.474975Z"
    }
   },
   "outputs": [],
   "source": [
    "# 手写数字 mnist, cifar10\n",
    "from tensorflow.keras.datasets import mnist\n",
    "\n",
    "(x_train, y_train), (x_test, y_test) = mnist.load_data()"
   ]
  },
  {
   "cell_type": "code",
   "execution_count": 4,
   "id": "b60cb2ae",
   "metadata": {
    "ExecuteTime": {
     "end_time": "2022-05-25T13:49:11.709386Z",
     "start_time": "2022-05-25T13:49:11.694392Z"
    }
   },
   "outputs": [
    {
     "data": {
      "text/plain": [
       "(60000, 28, 28)"
      ]
     },
     "execution_count": 4,
     "metadata": {},
     "output_type": "execute_result"
    }
   ],
   "source": [
    "x_train.shape"
   ]
  },
  {
   "cell_type": "code",
   "execution_count": 5,
   "id": "a01b18df",
   "metadata": {
    "ExecuteTime": {
     "end_time": "2022-05-25T13:49:11.725310Z",
     "start_time": "2022-05-25T13:49:11.710349Z"
    }
   },
   "outputs": [
    {
     "data": {
      "text/plain": [
       "5"
      ]
     },
     "execution_count": 5,
     "metadata": {},
     "output_type": "execute_result"
    }
   ],
   "source": [
    "y_train[0]"
   ]
  },
  {
   "cell_type": "code",
   "execution_count": 6,
   "id": "66e46a95",
   "metadata": {
    "ExecuteTime": {
     "end_time": "2022-05-25T13:49:11.741301Z",
     "start_time": "2022-05-25T13:49:11.726307Z"
    }
   },
   "outputs": [
    {
     "data": {
      "text/plain": [
       "array([5, 0, 4, ..., 5, 6, 8], dtype=uint8)"
      ]
     },
     "execution_count": 6,
     "metadata": {},
     "output_type": "execute_result"
    }
   ],
   "source": [
    "y_train"
   ]
  },
  {
   "cell_type": "code",
   "execution_count": 7,
   "id": "8a338edc",
   "metadata": {
    "ExecuteTime": {
     "end_time": "2022-05-25T13:49:11.868959Z",
     "start_time": "2022-05-25T13:49:11.742263Z"
    }
   },
   "outputs": [
    {
     "data": {
      "text/plain": [
       "<matplotlib.image.AxesImage at 0x27d64684130>"
      ]
     },
     "execution_count": 7,
     "metadata": {},
     "output_type": "execute_result"
    },
    {
     "data": {
      "image/png": "[encoded data removed]",
      "text/plain": [
       "<Figure size 432x288 with 1 Axes>"
      ]
     },
     "metadata": {
      "needs_background": "light"
     },
     "output_type": "display_data"
    }
   ],
   "source": [
    "plt.imshow(x_train[0].reshape(28, 28), cmap='gray')"
   ]
  },
  {
   "cell_type": "code",
   "execution_count": 8,
   "id": "350a8d41",
   "metadata": {
    "ExecuteTime": {
     "end_time": "2022-05-25T13:49:11.884916Z",
     "start_time": "2022-05-25T13:49:11.870929Z"
    }
   },
   "outputs": [
    {
     "data": {
      "text/plain": [
       "(60000,)"
      ]
     },
     "execution_count": 8,
     "metadata": {},
     "output_type": "execute_result"
    }
   ],
   "source": [
    "y_train.shape"
   ]
  },
  {
   "cell_type": "code",
   "execution_count": 9,
   "id": "80c04080",
   "metadata": {
    "ExecuteTime": {
     "end_time": "2022-05-25T13:49:11.900882Z",
     "start_time": "2022-05-25T13:49:11.885881Z"
    }
   },
   "outputs": [
    {
     "data": {
      "text/plain": [
       "dtype('uint8')"
      ]
     },
     "execution_count": 9,
     "metadata": {},
     "output_type": "execute_result"
    }
   ],
   "source": [
    "y_train.dtype"
   ]
  },
  {
   "cell_type": "markdown",
   "id": "81083e5c",
   "metadata": {},
   "source": [
    "标准化"
   ]
  },
  {
   "cell_type": "code",
   "execution_count": 10,
   "id": "1ff978b9",
   "metadata": {
    "ExecuteTime": {
     "end_time": "2022-05-25T13:49:12.138238Z",
     "start_time": "2022-05-25T13:49:11.901839Z"
    }
   },
   "outputs": [],
   "source": [
    "from sklearn.preprocessing import StandardScaler"
   ]
  },
  {
   "cell_type": "code",
   "execution_count": 11,
   "id": "1b13238e",
   "metadata": {
    "ExecuteTime": {
     "end_time": "2022-05-25T13:49:12.866330Z",
     "start_time": "2022-05-25T13:49:12.139212Z"
    }
   },
   "outputs": [],
   "source": [
    "# 对数据做处理\n",
    "x_train = x_train.reshape(-1,784)/255\n",
    "x_test = x_test.reshape(-1,784)/255\n",
    "\n",
    "# 对x_train,x_test 做标准化处理\n",
    "scaler = StandardScaler()\n",
    "x_train_scaled = scaler.fit_transform(x_train)\n",
    "x_test_scaled = scaler.transform(x_test)\n",
    "\n",
    "y_train = y_train.astype(np.float32)\n",
    "y_test = y_test.astype(np.float32)\n",
    "\n",
    "# tf.one_hot()\n",
    "y_train = tf.keras.utils.to_categorical(y_train, 10)\n",
    "y_test = tf.keras.utils.to_categorical(y_test, 10)"
   ]
  },
  {
   "cell_type": "markdown",
   "id": "67ff53ec",
   "metadata": {},
   "source": [
    "一层网络叫做一层Dense"
   ]
  },
  {
   "cell_type": "code",
   "execution_count": 12,
   "id": "3addca1f",
   "metadata": {
    "ExecuteTime": {
     "end_time": "2022-05-25T13:49:12.881150Z",
     "start_time": "2022-05-25T13:49:12.867173Z"
    }
   },
   "outputs": [],
   "source": [
    "from tensorflow.keras.layers import Dense"
   ]
  },
  {
   "cell_type": "code",
   "execution_count": 13,
   "id": "b4d8d2a7",
   "metadata": {
    "ExecuteTime": {
     "end_time": "2022-05-25T13:49:13.843748Z",
     "start_time": "2022-05-25T13:49:12.882179Z"
    }
   },
   "outputs": [],
   "source": [
    "# 定义神经网络\n",
    "model = tf.keras.Sequential()\n",
    "# 第一层要多写一个参数，叫做输入数据的维度\n",
    "# 输入维度有两种写法 第一种是input_shape,必须是一个元组，不要写样本个数，只需要写特征的维度即可\n",
    "# imput_dim,不需要写元组，直接指定具体的数字即可\n",
    "model.add(Dense(64,activation='relu',input_shape = (784,)))\n",
    "# model.add(Dense(64,activation='relu',input_dim = 784))\n",
    "# 除了第一层需要传输入数据的维度, 其他层不需要, keras会自动的帮我们计算维度.\n",
    "model.add(Dense(64, activation='relu'))\n",
    "# 输出层的激活, 二分类是sigmoid, 多分类的话是softmax\n",
    "model.add(Dense(10, activation='softmax'))"
   ]
  },
  {
   "cell_type": "code",
   "execution_count": 14,
   "id": "4da45f3d",
   "metadata": {
    "ExecuteTime": {
     "end_time": "2022-05-25T13:49:13.859052Z",
     "start_time": "2022-05-25T13:49:13.844794Z"
    }
   },
   "outputs": [],
   "source": [
    "# 配置网络\n",
    "model.compile(optimizer='adam',loss='categorical_crossentropy',metrics=['accuracy'])"
   ]
  },
  {
   "cell_type": "code",
   "execution_count": 15,
   "id": "f2a0dc48",
   "metadata": {
    "ExecuteTime": {
     "end_time": "2022-05-25T13:49:13.874935Z",
     "start_time": "2022-05-25T13:49:13.859907Z"
    }
   },
   "outputs": [
    {
     "data": {
      "text/plain": [
       "(60000, 10)"
      ]
     },
     "execution_count": 15,
     "metadata": {},
     "output_type": "execute_result"
    }
   ],
   "source": [
    "y_train.shape"
   ]
  },
  {
   "cell_type": "code",
   "execution_count": 16,
   "id": "79c8c8d0",
   "metadata": {
    "ExecuteTime": {
     "end_time": "2022-05-25T13:49:34.665492Z",
     "start_time": "2022-05-25T13:49:13.876901Z"
    }
   },
   "outputs": [
    {
     "name": "stdout",
     "output_type": "stream",
     "text": [
      "Epoch 1/20\n",
      "938/938 [==============================] - 2s 1ms/step - loss: 0.2771 - accuracy: 0.9186 - val_loss: 0.1600 - val_accuracy: 0.9539\n",
      "Epoch 2/20\n",
      "938/938 [==============================] - 1s 1ms/step - loss: 0.1195 - accuracy: 0.9653 - val_loss: 0.1263 - val_accuracy: 0.9642\n",
      "Epoch 3/20\n",
      "938/938 [==============================] - 1s 1ms/step - loss: 0.0820 - accuracy: 0.9743 - val_loss: 0.1247 - val_accuracy: 0.9670\n",
      "Epoch 4/20\n",
      "938/938 [==============================] - 1s 1ms/step - loss: 0.0609 - accuracy: 0.9811 - val_loss: 0.1259 - val_accuracy: 0.9675\n",
      "Epoch 5/20\n",
      "938/938 [==============================] - 1s 1ms/step - loss: 0.0477 - accuracy: 0.9851 - val_loss: 0.1146 - val_accuracy: 0.9705\n",
      "Epoch 6/20\n",
      "938/938 [==============================] - 1s 1ms/step - loss: 0.0389 - accuracy: 0.9876 - val_loss: 0.1363 - val_accuracy: 0.9675\n",
      "Epoch 7/20\n",
      "938/938 [==============================] - 1s 1ms/step - loss: 0.0329 - accuracy: 0.9887 - val_loss: 0.1392 - val_accuracy: 0.9690\n",
      "Epoch 8/20\n",
      "938/938 [==============================] - 1s 1ms/step - loss: 0.0258 - accuracy: 0.9918 - val_loss: 0.1545 - val_accuracy: 0.9687\n",
      "Epoch 9/20\n",
      "938/938 [==============================] - 1s 1ms/step - loss: 0.0240 - accuracy: 0.9921 - val_loss: 0.1584 - val_accuracy: 0.9706\n",
      "Epoch 10/20\n",
      "938/938 [==============================] - 1s 1ms/step - loss: 0.0212 - accuracy: 0.9927 - val_loss: 0.1660 - val_accuracy: 0.9715\n",
      "Epoch 11/20\n",
      "938/938 [==============================] - 1s 1ms/step - loss: 0.0213 - accuracy: 0.9937 - val_loss: 0.1684 - val_accuracy: 0.9699\n",
      "Epoch 12/20\n",
      "938/938 [==============================] - 1s 1ms/step - loss: 0.0168 - accuracy: 0.9951 - val_loss: 0.1929 - val_accuracy: 0.9674\n",
      "Epoch 13/20\n",
      "938/938 [==============================] - 1s 1ms/step - loss: 0.0166 - accuracy: 0.9943 - val_loss: 0.1983 - val_accuracy: 0.9694\n",
      "Epoch 14/20\n",
      "938/938 [==============================] - 1s 1ms/step - loss: 0.0236 - accuracy: 0.9931 - val_loss: 0.2156 - val_accuracy: 0.9710\n",
      "Epoch 15/20\n",
      "938/938 [==============================] - 1s 1ms/step - loss: 0.0167 - accuracy: 0.9955 - val_loss: 0.2062 - val_accuracy: 0.9693\n",
      "Epoch 16/20\n",
      "938/938 [==============================] - 1s 1ms/step - loss: 0.0124 - accuracy: 0.9963 - val_loss: 0.2058 - val_accuracy: 0.9715\n",
      "Epoch 17/20\n",
      "938/938 [==============================] - 1s 1ms/step - loss: 0.0117 - accuracy: 0.9961 - val_loss: 0.2324 - val_accuracy: 0.9702\n",
      "Epoch 18/20\n",
      "938/938 [==============================] - 1s 1ms/step - loss: 0.0205 - accuracy: 0.9943 - val_loss: 0.2237 - val_accuracy: 0.9713\n",
      "Epoch 19/20\n",
      "938/938 [==============================] - 1s 1ms/step - loss: 0.0065 - accuracy: 0.9979 - val_loss: 0.2066 - val_accuracy: 0.9733\n",
      "Epoch 20/20\n",
      "938/938 [==============================] - 1s 1ms/step - loss: 0.0083 - accuracy: 0.9972 - val_loss: 0.2415 - val_accuracy: 0.9692\n"
     ]
    },
    {
     "data": {
      "text/plain": [
       "<keras.callbacks.History at 0x27d1b6628e0>"
      ]
     },
     "execution_count": 16,
     "metadata": {},
     "output_type": "execute_result"
    }
   ],
   "source": [
    "# 训练网络\n",
    "model.fit(x_train_scaled,\n",
    "       y_train,batch_size=64,\n",
    "       epochs=20,\n",
    "       validation_data= (x_test_scaled, y_test), )"
   ]
  },
  {
   "cell_type": "code",
   "execution_count": 17,
   "id": "59b89c66",
   "metadata": {
    "ExecuteTime": {
     "end_time": "2022-05-25T13:50:01.749542Z",
     "start_time": "2022-05-25T13:50:01.727600Z"
    }
   },
   "outputs": [
    {
     "name": "stdout",
     "output_type": "stream",
     "text": [
      "Model: \"sequential\"\n",
      "_________________________________________________________________\n",
      " Layer (type)                Output Shape              Param #   \n",
      "=================================================================\n",
      " dense (Dense)               (None, 64)                50240     \n",
      "                                                                 \n",
      " dense_1 (Dense)             (None, 64)                4160      \n",
      "                                                                 \n",
      " dense_2 (Dense)             (None, 10)                650       \n",
      "                                                                 \n",
      "=================================================================\n",
      "Total params: 55,050\n",
      "Trainable params: 55,050\n",
      "Non-trainable params: 0\n",
      "_________________________________________________________________\n"
     ]
    }
   ],
   "source": [
    "# 查看网络参数量\n",
    "model.summary()"
   ]
  },
  {
   "cell_type": "code",
   "execution_count": 18,
   "id": "677bbcc4",
   "metadata": {
    "ExecuteTime": {
     "end_time": "2022-05-25T13:54:16.343898Z",
     "start_time": "2022-05-25T13:54:16.335920Z"
    }
   },
   "outputs": [
    {
     "data": {
      "text/plain": [
       "50240"
      ]
     },
     "execution_count": 18,
     "metadata": {},
     "output_type": "execute_result"
    }
   ],
   "source": [
    "784 * 64 + 64 "
   ]
  },
  {
   "cell_type": "code",
   "execution_count": 19,
   "id": "03ade717",
   "metadata": {
    "ExecuteTime": {
     "end_time": "2022-05-25T13:54:29.128651Z",
     "start_time": "2022-05-25T13:54:29.122098Z"
    }
   },
   "outputs": [
    {
     "data": {
      "text/plain": [
       "4160"
      ]
     },
     "execution_count": 19,
     "metadata": {},
     "output_type": "execute_result"
    }
   ],
   "source": [
    "64 * 64 + 64"
   ]
  },
  {
   "cell_type": "code",
   "execution_count": 20,
   "id": "1bad7a2b",
   "metadata": {
    "ExecuteTime": {
     "end_time": "2022-05-25T13:54:45.780577Z",
     "start_time": "2022-05-25T13:54:45.763305Z"
    }
   },
   "outputs": [
    {
     "data": {
      "text/plain": [
       "650"
      ]
     },
     "execution_count": 20,
     "metadata": {},
     "output_type": "execute_result"
    }
   ],
   "source": [
    "64*10 + 10"
   ]
  },
  {
   "cell_type": "code",
   "execution_count": 21,
   "id": "9b883027",
   "metadata": {
    "ExecuteTime": {
     "end_time": "2022-05-25T13:55:06.219460Z",
     "start_time": "2022-05-25T13:55:05.889724Z"
    }
   },
   "outputs": [
    {
     "name": "stdout",
     "output_type": "stream",
     "text": [
      "313/313 [==============================] - 0s 820us/step - loss: 0.2415 - accuracy: 0.9692\n"
     ]
    },
    {
     "data": {
      "text/plain": [
       "[0.24153707921504974, 0.9692000150680542]"
      ]
     },
     "execution_count": 21,
     "metadata": {},
     "output_type": "execute_result"
    }
   ],
   "source": [
    "model.evaluate(x_test_scaled, y_test)"
   ]
  },
  {
   "cell_type": "code",
   "execution_count": null,
   "id": "58dc78a8",
   "metadata": {},
   "outputs": [],
   "source": [
    "# 保存模型 HDF5 分层的数据结构.\n",
    "#model.save('./model.h5')\n",
    "# 加载\n",
    "#l2.evaluate(x_test, y_test)\n",
    "# 预测\n",
    "#model.predict(x_test, ).shape"
   ]
  },
  {
   "cell_type": "markdown",
   "id": "bee67d54",
   "metadata": {},
   "source": [
    "# keras进阶-正则化(L1, L2)"
   ]
  },
  {
   "cell_type": "code",
   "execution_count": null,
   "id": "269f9fb6",
   "metadata": {},
   "outputs": [],
   "source": [
    "# 定义神经网络.\n",
    "model = tf.keras.Sequential()\n",
    "# 第一层要多写一个参数, 叫做输入数据的维度. \n",
    "# 输入维度有两种写法, 第一种是input_shape, 必须是一个元组, 不要写样本个数, 只需要写特征的维度即可.\n",
    "# input_dim, 不需要写元组, 直接指定具体的数字即可\n",
    "model.add(Dense(64, activation='relu', kernel_regularizer='l1_l2', input_shape=(784, )))\n",
    "# model.add(Dense(64, activation='relu', input_dim=784))\n",
    "# 出了第一层需要传输入数据的维度, 其他层不需要, keras会自动的帮我们计算维度.\n",
    "model.add(Dense(64, activation='relu', kernel_regularizer='l1_l2'))\n",
    "# 输出层的激活, 二分类是sigmoid, 多分类的话是softmax\n",
    "model.add(Dense(10, activation='softmax'))"
   ]
  },
  {
   "cell_type": "code",
   "execution_count": null,
   "id": "f1c7981d",
   "metadata": {},
   "outputs": [],
   "source": [
    "# 配置网络\n",
    "model.compile(optimizer='adam', loss='categorical_crossentropy', metrics=['accuracy'])"
   ]
  },
  {
   "cell_type": "code",
   "execution_count": null,
   "id": "1c65cf25",
   "metadata": {},
   "outputs": [],
   "source": [
    "# 训练网络\n",
    "model.fit(x_train_scaled, y_train, batch_size=64, epochs=20, validation_data=(x_test_scaled, y_test), )"
   ]
  },
  {
   "cell_type": "code",
   "execution_count": null,
   "id": "b9032d5e",
   "metadata": {},
   "outputs": [],
   "source": [
    "# 查看网络参数量\n",
    "model.summary()"
   ]
  },
  {
   "cell_type": "code",
   "execution_count": null,
   "id": "4cbe8d96",
   "metadata": {},
   "outputs": [],
   "source": [
    "model2.evaluate(x_test, y_test)"
   ]
  },
  {
   "cell_type": "code",
   "execution_count": null,
   "id": "92791d66",
   "metadata": {},
   "outputs": [],
   "source": [
    "# 预测\n",
    "model.predict(x_test, ).shape"
   ]
  },
  {
   "cell_type": "markdown",
   "id": "988e6556",
   "metadata": {},
   "source": [
    "# keras进阶-正则化(dropout)"
   ]
  },
  {
   "cell_type": "code",
   "execution_count": 22,
   "id": "29c3951e",
   "metadata": {
    "ExecuteTime": {
     "end_time": "2022-05-25T14:04:06.007069Z",
     "start_time": "2022-05-25T14:04:05.991105Z"
    }
   },
   "outputs": [],
   "source": [
    "from tensorflow.keras.layers import Dense, Dropout, AlphaDropout"
   ]
  },
  {
   "cell_type": "code",
   "execution_count": null,
   "id": "6a7e95de",
   "metadata": {},
   "outputs": [],
   "source": [
    "# 定义神经网络.\n",
    "model = tf.keras.Sequential()\n",
    "# 第一层要多写一个参数, 叫做输入数据的维度. \n",
    "# 输入维度有两种写法, 第一种是input_shape, 必须是一个元组, 不要写样本个数, 只需要写特征的维度即可.\n",
    "# input_dim, 不需要写元组, 直接指定具体的数字即可\n",
    "model.add(Dense(512, activation='relu', input_shape=(784, )))\n",
    "# model.add(Dropout(0.2))\n",
    "# 1. 保持方差和均值不变, 2. 归一化性质不变.\n",
    "model.add(AlphaDropout(0.2))\n",
    "# model.add(Dense(64, activation='relu', input_dim=784))\n",
    "# 出了第一层需要传输入数据的维度, 其他层不需要, keras会自动的帮我们计算维度.\n",
    "model.add(Dense(512, activation='relu'))\n",
    "# model.add(Dropout(0.2))\n",
    "model.add(AlphaDropout(0.2))\n",
    "# 输出层的激活, 二分类是sigmoid, 多分类的话是softmax\n",
    "model.add(Dense(10, activation='softmax'))"
   ]
  },
  {
   "cell_type": "code",
   "execution_count": null,
   "id": "d5fc9099",
   "metadata": {},
   "outputs": [],
   "source": [
    "# 配置网络\n",
    "model.compile(optimizer='adam', loss='categorical_crossentropy', metrics=['accuracy'])"
   ]
  },
  {
   "cell_type": "code",
   "execution_count": null,
   "id": "7c43fae2",
   "metadata": {},
   "outputs": [],
   "source": [
    "# 训练网络\n",
    "model.fit(x_train_scaled, y_train, batch_size=64, epochs=20, validation_data=(x_test_scaled, y_test), )"
   ]
  },
  {
   "cell_type": "code",
   "execution_count": null,
   "id": "04572a56",
   "metadata": {},
   "outputs": [],
   "source": [
    "# 查看网络参数量\n",
    "model.summary()"
   ]
  },
  {
   "cell_type": "code",
   "execution_count": null,
   "id": "8475c537",
   "metadata": {},
   "outputs": [],
   "source": [
    "model2.evaluate(x_test, y_test)"
   ]
  },
  {
   "cell_type": "code",
   "execution_count": null,
   "id": "4c7aac45",
   "metadata": {},
   "outputs": [],
   "source": [
    "# 预测\n",
    "model.predict(x_test, ).shape"
   ]
  },
  {
   "cell_type": "markdown",
   "id": "1a5987ee",
   "metadata": {},
   "source": [
    "# keras进阶-标准化-非独热编码"
   ]
  },
  {
   "cell_type": "code",
   "execution_count": null,
   "id": "4399d391",
   "metadata": {},
   "outputs": [],
   "source": [
    "from sklearn.preprocessing import StandardScaler"
   ]
  },
  {
   "cell_type": "code",
   "execution_count": null,
   "id": "1ed733a0",
   "metadata": {},
   "outputs": [],
   "source": [
    "# 对数据做处理\n",
    "x_train = x_train / 255.0\n",
    "x_test = x_test / 255.0\n",
    "\n",
    "# 对x_train, x_test做标准化处理\n",
    "scaler = StandardScaler()\n",
    "x_train_scaled = scaler.fit_transform(x_train)\n",
    "x_test_scaled = scaler.transform(x_test)\n",
    "\n",
    "y_train = y_train.astype(np.float32)\n",
    "y_test = y_test.astype(np.float32)\n",
    "\n",
    "# # tf.one_hot()\n",
    "# y_train = tf.keras.utils.to_categorical(y_train, 10)\n",
    "# y_test = tf.keras.utils.to_categorical(y_test, 10)"
   ]
  },
  {
   "cell_type": "code",
   "execution_count": 23,
   "id": "fbb2975c",
   "metadata": {
    "ExecuteTime": {
     "end_time": "2022-05-25T14:10:01.954713Z",
     "start_time": "2022-05-25T14:10:01.939753Z"
    }
   },
   "outputs": [],
   "source": [
    "from tensorflow.keras.layers import Dense, Flatten"
   ]
  },
  {
   "cell_type": "code",
   "execution_count": null,
   "id": "31e1b98e",
   "metadata": {},
   "outputs": [],
   "source": [
    "# 定义神经网络.\n",
    "model = tf.keras.Sequential()\n",
    "# 第一层要多写一个参数, 叫做输入数据的维度. \n",
    "# 输入维度有两种写法, 第一种是input_shape, 必须是一个元组, 不要写样本个数, 只需要写特征的维度即可.\n",
    "# input_dim, 不需要写元组, 直接指定具体的数字即可\n",
    "# Flatten 即reshape, 展平\n",
    "model.add(Flatten(input_shape=(28, 28)))\n",
    "model.add(Dense(64, activation='relu'))\n",
    "# model.add(Dense(64, activation='relu', input_dim=784))\n",
    "# 出了第一层需要传输入数据的维度, 其他层不需要, keras会自动的帮我们计算维度.\n",
    "model.add(Dense(64, activation='relu'))\n",
    "# 输出层的激活, 二分类是sigmoid, 多分类的话是softmax\n",
    "model.add(Dense(10, activation='softmax'))"
   ]
  },
  {
   "cell_type": "code",
   "execution_count": null,
   "id": "013b034c",
   "metadata": {},
   "outputs": [],
   "source": [
    "# 配置网络\n",
    "model.compile(optimizer='adam', loss='sparse_categorical_crossentropy', metrics=['accuracy'])"
   ]
  },
  {
   "cell_type": "code",
   "execution_count": null,
   "id": "9a8e05a6",
   "metadata": {},
   "outputs": [],
   "source": [
    "# 训练网络\n",
    "model.fit(x_train_scaled, y_train, batch_size=64, epochs=5, validation_data=(x_test_scaled, y_test), )"
   ]
  },
  {
   "cell_type": "code",
   "execution_count": null,
   "id": "322de38e",
   "metadata": {},
   "outputs": [],
   "source": [
    "# 查看网络参数量\n",
    "model.summary()"
   ]
  },
  {
   "cell_type": "code",
   "execution_count": null,
   "id": "d14ec0d6",
   "metadata": {},
   "outputs": [],
   "source": [
    "model2.evaluate(x_test, y_test)"
   ]
  },
  {
   "cell_type": "code",
   "execution_count": null,
   "id": "db2b5676",
   "metadata": {},
   "outputs": [],
   "source": [
    "# 预测\n",
    "model.predict(x_test, ).shape"
   ]
  },
  {
   "cell_type": "markdown",
   "id": "1d7dae92",
   "metadata": {},
   "source": [
    "# keras进阶-selu"
   ]
  },
  {
   "cell_type": "code",
   "execution_count": 24,
   "id": "c67f383e",
   "metadata": {
    "ExecuteTime": {
     "end_time": "2022-05-25T14:16:06.100848Z",
     "start_time": "2022-05-25T14:16:06.086368Z"
    }
   },
   "outputs": [],
   "source": [
    "from tensorflow.keras.layers import Dense, BatchNormalization, Activation"
   ]
  },
  {
   "cell_type": "code",
   "execution_count": 25,
   "id": "24fcf8c3",
   "metadata": {
    "ExecuteTime": {
     "end_time": "2022-05-25T14:16:31.741883Z",
     "start_time": "2022-05-25T14:16:31.713245Z"
    }
   },
   "outputs": [],
   "source": [
    "# 定义神经网络.\n",
    "model = tf.keras.Sequential()\n",
    "\n",
    "# selu : scaled, relu -> elu -> selu\n",
    "model.add(Dense(64, activation='selu', input_shape=(784, )))\n",
    "\n",
    "model.add(Dense(64, activation='selu'))\n",
    "\n",
    "model.add(Dense(10, activation='softmax'))"
   ]
  },
  {
   "cell_type": "code",
   "execution_count": 26,
   "id": "722b9a29",
   "metadata": {
    "ExecuteTime": {
     "end_time": "2022-05-25T14:18:04.741419Z",
     "start_time": "2022-05-25T14:18:04.731874Z"
    }
   },
   "outputs": [],
   "source": [
    "# 配置网络\n",
    "model.compile(optimizer='adam', loss='categorical_crossentropy', metrics=['accuracy'])"
   ]
  },
  {
   "cell_type": "code",
   "execution_count": 27,
   "id": "518b219b",
   "metadata": {
    "ExecuteTime": {
     "end_time": "2022-05-25T14:18:13.981583Z",
     "start_time": "2022-05-25T14:18:08.103519Z"
    }
   },
   "outputs": [
    {
     "name": "stdout",
     "output_type": "stream",
     "text": [
      "Epoch 1/5\n",
      "938/938 [==============================] - 1s 1ms/step - loss: 0.2970 - accuracy: 0.9146 - val_loss: 0.1735 - val_accuracy: 0.9501\n",
      "Epoch 2/5\n",
      "938/938 [==============================] - 1s 1ms/step - loss: 0.1345 - accuracy: 0.9586 - val_loss: 0.1254 - val_accuracy: 0.9631\n",
      "Epoch 3/5\n",
      "938/938 [==============================] - 1s 1ms/step - loss: 0.0908 - accuracy: 0.9717 - val_loss: 0.1263 - val_accuracy: 0.9658\n",
      "Epoch 4/5\n",
      "938/938 [==============================] - 1s 1ms/step - loss: 0.0692 - accuracy: 0.9783 - val_loss: 0.1244 - val_accuracy: 0.9663\n",
      "Epoch 5/5\n",
      "938/938 [==============================] - 1s 1ms/step - loss: 0.0542 - accuracy: 0.9832 - val_loss: 0.1243 - val_accuracy: 0.9687\n"
     ]
    },
    {
     "data": {
      "text/plain": [
       "<keras.callbacks.History at 0x27d32b90eb0>"
      ]
     },
     "execution_count": 27,
     "metadata": {},
     "output_type": "execute_result"
    }
   ],
   "source": [
    "# 训练网络\n",
    "model.fit(x_train_scaled, y_train, batch_size=64, epochs=5, validation_data=(x_test_scaled, y_test), )"
   ]
  },
  {
   "cell_type": "code",
   "execution_count": 28,
   "id": "4fc76f44",
   "metadata": {
    "ExecuteTime": {
     "end_time": "2022-05-25T14:18:21.300900Z",
     "start_time": "2022-05-25T14:18:21.285432Z"
    }
   },
   "outputs": [
    {
     "name": "stdout",
     "output_type": "stream",
     "text": [
      "Model: \"sequential_1\"\n",
      "_________________________________________________________________\n",
      " Layer (type)                Output Shape              Param #   \n",
      "=================================================================\n",
      " dense_3 (Dense)             (None, 64)                50240     \n",
      "                                                                 \n",
      " dense_4 (Dense)             (None, 64)                4160      \n",
      "                                                                 \n",
      " dense_5 (Dense)             (None, 10)                650       \n",
      "                                                                 \n",
      "=================================================================\n",
      "Total params: 55,050\n",
      "Trainable params: 55,050\n",
      "Non-trainable params: 0\n",
      "_________________________________________________________________\n"
     ]
    }
   ],
   "source": [
    "# 查看网络参数量\n",
    "model.summary()"
   ]
  },
  {
   "cell_type": "code",
   "execution_count": 29,
   "id": "d97d6037",
   "metadata": {
    "ExecuteTime": {
     "end_time": "2022-05-25T14:18:41.123706Z",
     "start_time": "2022-05-25T14:18:40.816231Z"
    }
   },
   "outputs": [
    {
     "name": "stdout",
     "output_type": "stream",
     "text": [
      "313/313 [==============================] - 0s 799us/step - loss: 0.1243 - accuracy: 0.9687\n"
     ]
    },
    {
     "data": {
      "text/plain": [
       "[0.12427050620317459, 0.9686999917030334]"
      ]
     },
     "execution_count": 29,
     "metadata": {},
     "output_type": "execute_result"
    }
   ],
   "source": [
    "model.evaluate(x_test_scaled, y_test)"
   ]
  },
  {
   "cell_type": "code",
   "execution_count": 30,
   "id": "31bd53fa",
   "metadata": {
    "ExecuteTime": {
     "end_time": "2022-05-25T14:18:45.098648Z",
     "start_time": "2022-05-25T14:18:44.730728Z"
    }
   },
   "outputs": [
    {
     "name": "stdout",
     "output_type": "stream",
     "text": [
      "313/313 [==============================] - 0s 659us/step\n"
     ]
    },
    {
     "data": {
      "text/plain": [
       "(10000, 10)"
      ]
     },
     "execution_count": 30,
     "metadata": {},
     "output_type": "execute_result"
    }
   ],
   "source": [
    "# 预测\n",
    "model.predict(x_test, ).shape"
   ]
  },
  {
   "cell_type": "code",
   "execution_count": 31,
   "id": "aeaecadc",
   "metadata": {
    "ExecuteTime": {
     "end_time": "2022-05-25T14:19:33.531641Z",
     "start_time": "2022-05-25T14:19:33.194109Z"
    }
   },
   "outputs": [
    {
     "name": "stdout",
     "output_type": "stream",
     "text": [
      "313/313 [==============================] - 0s 708us/step\n"
     ]
    },
    {
     "data": {
      "text/plain": [
       "array([[1.0871819e-03, 3.2360142e-05, 5.1590701e-04, ..., 9.4347745e-01,\n",
       "        1.5350661e-02, 5.6088914e-04],\n",
       "       [4.5466232e-03, 3.1987036e-04, 7.7451611e-01, ..., 6.3743705e-06,\n",
       "        9.4732434e-02, 1.2436208e-06],\n",
       "       [2.4679783e-04, 1.3345158e-01, 1.5472421e-02, ..., 1.1390532e-02,\n",
       "        8.1473750e-01, 1.7987052e-03],\n",
       "       ...,\n",
       "       [7.5523658e-06, 7.4948075e-06, 6.7530186e-07, ..., 3.1631289e-04,\n",
       "        4.5368165e-01, 4.8060760e-02],\n",
       "       [2.5562863e-03, 2.5091548e-03, 1.5678615e-04, ..., 2.0889334e-05,\n",
       "        8.2332069e-01, 1.5273718e-04],\n",
       "       [6.8663583e-05, 5.1802510e-07, 5.2304989e-05, ..., 7.4783053e-08,\n",
       "        8.2855768e-05, 1.6312741e-04]], dtype=float32)"
      ]
     },
     "execution_count": 31,
     "metadata": {},
     "output_type": "execute_result"
    }
   ],
   "source": [
    "model.predict(x_test)"
   ]
  },
  {
   "cell_type": "markdown",
   "id": "c431bc08",
   "metadata": {},
   "source": [
    "# keras进阶-BN层"
   ]
  },
  {
   "cell_type": "code",
   "execution_count": 32,
   "id": "7dc60e1d",
   "metadata": {
    "ExecuteTime": {
     "end_time": "2022-05-25T14:20:38.276670Z",
     "start_time": "2022-05-25T14:20:38.260096Z"
    }
   },
   "outputs": [],
   "source": [
    "from tensorflow.keras.layers import Dense, BatchNormalization, Activation"
   ]
  },
  {
   "cell_type": "code",
   "execution_count": null,
   "id": "e0780fdc",
   "metadata": {},
   "outputs": [],
   "source": [
    "# 定义神经网络.\n",
    "model = tf.keras.Sequential()\n",
    "# 第一层要多写一个参数, 叫做输入数据的维度. \n",
    "# 输入维度有两种写法, 第一种是input_shape, 必须是一个元组, 不要写样本个数, 只需要写特征的维度即可.\n",
    "# input_dim, 不需要写元组, 直接指定具体的数字即可\n",
    "model.add(Dense(64, input_shape=(784, )))\n",
    "#  先BN再激活\n",
    "# model.add(BatchNormalization())\n",
    "# model.add(Activation('relu'))\n",
    "\n",
    "# # 先激活, 再BN\n",
    "model.add(Activation('relu'))\n",
    "model.add(BatchNormalization())\n",
    "\n",
    "model.add(Dense(64))\n",
    "# model.add(BatchNormalization())\n",
    "# model.add(Activation('relu'))\n",
    "model.add(Activation('relu'))\n",
    "model.add(BatchNormalization())\n",
    "# 输出层的激活, 二分类是sigmoid, 多分类的话是softmax\n",
    "model.add(Dense(10, activation='softmax'))"
   ]
  },
  {
   "cell_type": "code",
   "execution_count": null,
   "id": "9c3857e2",
   "metadata": {},
   "outputs": [],
   "source": [
    "# 配置网络\n",
    "model.compile(optimizer='adam', loss='categorical_crossentropy', metrics=['accuracy'])"
   ]
  },
  {
   "cell_type": "code",
   "execution_count": null,
   "id": "aea64b40",
   "metadata": {},
   "outputs": [],
   "source": [
    "# 训练网络\n",
    "model.fit(x_train_scaled, y_train, batch_size=64, epochs=5, validation_data=(x_test_scaled, y_test), )"
   ]
  },
  {
   "cell_type": "code",
   "execution_count": 23,
   "id": "563a5e66",
   "metadata": {
    "ExecuteTime": {
     "end_time": "2022-02-09T13:44:50.734423Z",
     "start_time": "2022-02-09T13:44:50.719460Z"
    },
    "scrolled": false
   },
   "outputs": [
    {
     "name": "stdout",
     "output_type": "stream",
     "text": [
      "Model: \"sequential_1\"\n",
      "_________________________________________________________________\n",
      "Layer (type)                 Output Shape              Param #   \n",
      "=================================================================\n",
      "dense_3 (Dense)              (None, 64)                50240     \n",
      "_________________________________________________________________\n",
      "batch_normalization_2 (Batch (None, 64)                256       \n",
      "_________________________________________________________________\n",
      "activation_2 (Activation)    (None, 64)                0         \n",
      "_________________________________________________________________\n",
      "dense_4 (Dense)              (None, 64)                4160      \n",
      "_________________________________________________________________\n",
      "batch_normalization_3 (Batch (None, 64)                256       \n",
      "_________________________________________________________________\n",
      "activation_3 (Activation)    (None, 64)                0         \n",
      "_________________________________________________________________\n",
      "dense_5 (Dense)              (None, 10)                650       \n",
      "=================================================================\n",
      "Total params: 55,562\n",
      "Trainable params: 55,306\n",
      "Non-trainable params: 256\n",
      "_________________________________________________________________\n"
     ]
    }
   ],
   "source": [
    "# 查看网络参数量\n",
    "model.summary()"
   ]
  },
  {
   "cell_type": "code",
   "execution_count": 27,
   "id": "2a85114a",
   "metadata": {
    "ExecuteTime": {
     "end_time": "2022-02-09T13:44:51.794600Z",
     "start_time": "2022-02-09T13:44:50.784288Z"
    },
    "scrolled": true
   },
   "outputs": [
    {
     "name": "stdout",
     "output_type": "stream",
     "text": [
      "313/313 [==============================] - 1s 3ms/step - loss: 0.1095 - accuracy: 0.9761\n"
     ]
    },
    {
     "data": {
      "text/plain": [
       "[0.10953254252672195, 0.9761000275611877]"
      ]
     },
     "execution_count": 27,
     "metadata": {},
     "output_type": "execute_result"
    }
   ],
   "source": [
    "model.evaluate(x_test_scaled, y_test)"
   ]
  },
  {
   "cell_type": "code",
   "execution_count": 32,
   "id": "845eb2ba",
   "metadata": {
    "ExecuteTime": {
     "end_time": "2022-02-09T13:44:53.457193Z",
     "start_time": "2022-02-09T13:44:53.048766Z"
    }
   },
   "outputs": [
    {
     "data": {
      "text/plain": [
       "(10000, 10)"
      ]
     },
     "execution_count": 32,
     "metadata": {},
     "output_type": "execute_result"
    }
   ],
   "source": [
    "# 预测\n",
    "model.predict(x_test, ).shape"
   ]
  },
  {
   "cell_type": "code",
   "execution_count": null,
   "id": "486d6d76",
   "metadata": {},
   "outputs": [],
   "source": [
    "# 以下为compile的常见写法:\n",
    "\n",
    "#   ```python\n",
    "#   # 多分类问题\n",
    "#   model.compile(optimizer='rmsprop',\n",
    "#                 loss='categorical_crossentropy',\n",
    "#                 metrics=['accuracy'])\n",
    "  \n",
    "#   # 二分类问题\n",
    "#   model.compile(optimizer='rmsprop',\n",
    "#                 loss='binary_crossentropy',\n",
    "#                 metrics=['accuracy'])\n",
    "  \n",
    "#   # 均方误差回归问题\n",
    "#   model.compile(optimizer='rmsprop',\n",
    "#                 loss='mse')\n",
    "  \n",
    "#   # 自定义评估标准函数\n",
    "#   import keras.backend as K\n",
    "  \n",
    "#   def mean_pred(y_true, y_pred):\n",
    "#       return K.mean(y_pred)\n",
    "  \n",
    "#   model.compile(optimizer='rmsprop',\n",
    "#                 loss='binary_crossentropy',\n",
    "#                 metrics=['accuracy', mean_pred])"
   ]
  }
 ],
 "metadata": {
  "hide_input": false,
  "kernelspec": {
   "display_name": "Python 3 (ipykernel)",
   "language": "python",
   "name": "python3"
  },
  "language_info": {
   "codemirror_mode": {
    "name": "ipython",
    "version": 3
   },
   "file_extension": ".py",
   "mimetype": "text/x-python",
   "name": "python",
   "nbconvert_exporter": "python",
   "pygments_lexer": "ipython3",
   "version": "3.9.7"
  },
  "latex_envs": {
   "LaTeX_envs_menu_present": true,
   "autoclose": false,
   "autocomplete": true,
   "bibliofile": "biblio.bib",
   "cite_by": "apalike",
   "current_citInitial": 1,
   "eqLabelWithNumbers": true,
   "eqNumInitial": 1,
   "hotkeys": {
    "equation": "Ctrl-E",
    "itemize": "Ctrl-I"
   },
   "labels_anchors": false,
   "latex_user_defs": false,
   "report_style_numbering": false,
   "user_envs_cfg": false
  },
  "nbTranslate": {
   "displayLangs": [
    "*"
   ],
   "hotkey": "alt-t",
   "langInMainMenu": true,
   "sourceLang": "en",
   "targetLang": "fr",
   "useGoogleTranslate": true
  },
  "toc": {
   "base_numbering": 1,
   "nav_menu": {},
   "number_sections": true,
   "sideBar": true,
   "skip_h1_title": false,
   "title_cell": "Table of Contents",
   "title_sidebar": "Contents",
   "toc_cell": false,
   "toc_position": {},
   "toc_section_display": true,
   "toc_window_display": false
  },
  "varInspector": {
   "cols": {
    "lenName": 16,
    "lenType": 16,
    "lenVar": 40
   },
   "kernels_config": {
    "python": {
     "delete_cmd_postfix": "",
     "delete_cmd_prefix": "del ",
     "library": "var_list.py",
     "varRefreshCmd": "print(var_dic_list())"
    },
    "r": {
     "delete_cmd_postfix": ") ",
     "delete_cmd_prefix": "rm(",
     "library": "var_list.r",
     "varRefreshCmd": "cat(var_dic_list()) "
    }
   },
   "position": {
    "height": "241.85px",
    "left": "423.2px",
    "right": "20px",
    "top": "-3px",
    "width": "350px"
   },
   "types_to_exclude": [
    "module",
    "function",
    "builtin_function_or_method",
    "instance",
    "_Feature"
   ],
   "window_display": true
  }
 },
 "nbformat": 4,
 "nbformat_minor": 5
}
