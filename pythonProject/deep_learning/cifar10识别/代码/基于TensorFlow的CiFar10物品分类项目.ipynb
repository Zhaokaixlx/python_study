{
 "cells": [
  {
   "cell_type": "code",
   "execution_count": null,
   "metadata": {},
   "outputs": [],
   "source": [
    "# ImageNet, 10, 100, 1000"
   ]
  },
  {
   "cell_type": "code",
   "execution_count": 1,
   "metadata": {
    "ExecuteTime": {
     "end_time": "2022-05-10T13:50:23.227112Z",
     "start_time": "2022-05-10T13:50:19.626735Z"
    }
   },
   "outputs": [],
   "source": [
    "import numpy as np\n",
    "import pandas as pd\n",
    "import matplotlib.pyplot as plt\n",
    "import tensorflow as tf"
   ]
  },
  {
   "cell_type": "code",
   "execution_count": 4,
   "metadata": {
    "ExecuteTime": {
     "end_time": "2022-05-10T13:54:59.279197Z",
     "start_time": "2022-05-10T13:54:58.690018Z"
    }
   },
   "outputs": [],
   "source": [
    "# cifar10 \n",
    "(x_train_all, y_train_all), (x_test, y_test) = tf.keras.datasets.cifar10.load_data()"
   ]
  },
  {
   "cell_type": "code",
   "execution_count": 5,
   "metadata": {
    "ExecuteTime": {
     "end_time": "2022-05-10T13:55:05.268487Z",
     "start_time": "2022-05-10T13:55:05.265490Z"
    }
   },
   "outputs": [
    {
     "data": {
      "text/plain": [
       "(50000, 32, 32, 3)"
      ]
     },
     "execution_count": 5,
     "metadata": {},
     "output_type": "execute_result"
    }
   ],
   "source": [
    "x_train_all.shape"
   ]
  },
  {
   "cell_type": "code",
   "execution_count": 6,
   "metadata": {
    "ExecuteTime": {
     "end_time": "2022-05-10T13:55:14.487438Z",
     "start_time": "2022-05-10T13:55:14.482402Z"
    }
   },
   "outputs": [
    {
     "data": {
      "text/plain": [
       "(10000, 32, 32, 3)"
      ]
     },
     "execution_count": 6,
     "metadata": {},
     "output_type": "execute_result"
    }
   ],
   "source": [
    "x_test.shape"
   ]
  },
  {
   "cell_type": "code",
   "execution_count": 7,
   "metadata": {
    "ExecuteTime": {
     "end_time": "2022-05-10T13:55:27.080732Z",
     "start_time": "2022-05-10T13:55:26.929135Z"
    }
   },
   "outputs": [
    {
     "data": {
      "text/plain": [
       "<matplotlib.image.AxesImage at 0x20c62136908>"
      ]
     },
     "execution_count": 7,
     "metadata": {},
     "output_type": "execute_result"
    },
    {
     "data": {
      "image/png": "[encoded data removed]",
      "text/plain": [
       "<Figure size 432x288 with 1 Axes>"
      ]
     },
     "metadata": {
      "needs_background": "light"
     },
     "output_type": "display_data"
    }
   ],
   "source": [
    "plt.imshow(x_train_all[0])"
   ]
  },
  {
   "cell_type": "code",
   "execution_count": 9,
   "metadata": {
    "ExecuteTime": {
     "end_time": "2022-05-10T13:55:49.109273Z",
     "start_time": "2022-05-10T13:55:49.097304Z"
    }
   },
   "outputs": [
    {
     "data": {
      "text/plain": [
       "array([6], dtype=uint8)"
      ]
     },
     "execution_count": 9,
     "metadata": {},
     "output_type": "execute_result"
    }
   ],
   "source": [
    "y_train_all[0]"
   ]
  },
  {
   "cell_type": "code",
   "execution_count": 10,
   "metadata": {
    "ExecuteTime": {
     "end_time": "2022-05-10T13:56:33.424772Z",
     "start_time": "2022-05-10T13:56:33.417284Z"
    }
   },
   "outputs": [
    {
     "data": {
      "text/plain": [
       "array([[[158, 112,  49],\n",
       "        [159, 111,  47],\n",
       "        [165, 116,  51],\n",
       "        ...,\n",
       "        [137,  95,  36],\n",
       "        [126,  91,  36],\n",
       "        [116,  85,  33]],\n",
       "\n",
       "       [[152, 112,  51],\n",
       "        [151, 110,  40],\n",
       "        [159, 114,  45],\n",
       "        ...,\n",
       "        [136,  95,  31],\n",
       "        [125,  91,  32],\n",
       "        [119,  88,  34]],\n",
       "\n",
       "       [[151, 110,  47],\n",
       "        [151, 109,  33],\n",
       "        [158, 111,  36],\n",
       "        ...,\n",
       "        [139,  98,  34],\n",
       "        [130,  95,  34],\n",
       "        [120,  89,  33]],\n",
       "\n",
       "       ...,\n",
       "\n",
       "       [[ 68, 124, 177],\n",
       "        [ 42, 100, 148],\n",
       "        [ 31,  88, 137],\n",
       "        ...,\n",
       "        [ 38,  97, 146],\n",
       "        [ 13,  64, 108],\n",
       "        [ 40,  85, 127]],\n",
       "\n",
       "       [[ 61, 116, 168],\n",
       "        [ 49, 102, 148],\n",
       "        [ 35,  85, 132],\n",
       "        ...,\n",
       "        [ 26,  82, 130],\n",
       "        [ 29,  82, 126],\n",
       "        [ 20,  64, 107]],\n",
       "\n",
       "       [[ 54, 107, 160],\n",
       "        [ 56, 105, 149],\n",
       "        [ 45,  89, 132],\n",
       "        ...,\n",
       "        [ 24,  77, 124],\n",
       "        [ 34,  84, 129],\n",
       "        [ 21,  67, 110]]], dtype=uint8)"
      ]
     },
     "execution_count": 10,
     "metadata": {},
     "output_type": "execute_result"
    }
   ],
   "source": [
    "x_test[0]"
   ]
  },
  {
   "cell_type": "code",
   "execution_count": 11,
   "metadata": {
    "ExecuteTime": {
     "end_time": "2022-05-10T13:57:35.241102Z",
     "start_time": "2022-05-10T13:57:35.234079Z"
    }
   },
   "outputs": [],
   "source": [
    "x_valid, x_train = x_train_all[:5000], x_train_all[5000:]\n",
    "y_valid, y_train = y_train_all[:5000], y_train_all[5000:]"
   ]
  },
  {
   "cell_type": "code",
   "execution_count": 12,
   "metadata": {
    "ExecuteTime": {
     "end_time": "2022-05-10T13:59:37.161285Z",
     "start_time": "2022-05-10T13:59:33.951165Z"
    }
   },
   "outputs": [],
   "source": [
    "from sklearn.preprocessing import StandardScaler\n",
    "\n",
    "scaler = StandardScaler()\n",
    "x_train_scaled = scaler.fit_transform(x_train.astype(np.float32).reshape(-1, 1)).reshape(-1, 32, 32, 3)\n",
    "x_valid_scaled = scaler.transform(x_valid.astype(np.float32).reshape(-1, 1)).reshape(-1, 32, 32, 3)\n",
    "x_test_scaled = scaler.transform(x_test.astype(np.float32).reshape(-1, 1)).reshape(-1, 32, 32, 3)"
   ]
  },
  {
   "cell_type": "code",
   "execution_count": 13,
   "metadata": {
    "ExecuteTime": {
     "end_time": "2022-05-10T14:02:02.070872Z",
     "start_time": "2022-05-10T14:01:50.545803Z"
    }
   },
   "outputs": [],
   "source": [
    "model = tf.keras.models.Sequential()\n",
    "model.add(tf.keras.layers.Flatten(input_shape=[32, 32, 3]))\n",
    "model.add(tf.keras.layers.Dense(512, activation='relu'))\n",
    "model.add(tf.keras.layers.Dense(256, activation='relu'))\n",
    "model.add(tf.keras.layers.Dense(10, activation='softmax'))"
   ]
  },
  {
   "cell_type": "code",
   "execution_count": 15,
   "metadata": {
    "ExecuteTime": {
     "end_time": "2022-05-10T14:07:09.718403Z",
     "start_time": "2022-05-10T14:07:09.697458Z"
    }
   },
   "outputs": [],
   "source": [
    "# 配置网络\n",
    "model.compile(loss='sparse_categorical_crossentropy',\n",
    "             optimizer='adam',\n",
    "             metrics=['acc'])"
   ]
  },
  {
   "cell_type": "code",
   "execution_count": 16,
   "metadata": {
    "ExecuteTime": {
     "end_time": "2022-05-10T14:07:53.016424Z",
     "start_time": "2022-05-10T14:07:52.992488Z"
    }
   },
   "outputs": [
    {
     "name": "stdout",
     "output_type": "stream",
     "text": [
      "Model: \"sequential\"\n",
      "_________________________________________________________________\n",
      "Layer (type)                 Output Shape              Param #   \n",
      "=================================================================\n",
      "flatten (Flatten)            (None, 3072)              0         \n",
      "_________________________________________________________________\n",
      "dense (Dense)                (None, 512)               1573376   \n",
      "_________________________________________________________________\n",
      "dense_1 (Dense)              (None, 256)               131328    \n",
      "_________________________________________________________________\n",
      "dense_2 (Dense)              (None, 10)                2570      \n",
      "=================================================================\n",
      "Total params: 1,707,274\n",
      "Trainable params: 1,707,274\n",
      "Non-trainable params: 0\n",
      "_________________________________________________________________\n"
     ]
    }
   ],
   "source": [
    "model.summary()"
   ]
  },
  {
   "cell_type": "code",
   "execution_count": 17,
   "metadata": {
    "ExecuteTime": {
     "end_time": "2022-05-10T14:09:55.149917Z",
     "start_time": "2022-05-10T14:09:03.840640Z"
    }
   },
   "outputs": [
    {
     "name": "stdout",
     "output_type": "stream",
     "text": [
      "Epoch 1/10\n",
      "1407/1407 [==============================] - 9s 4ms/step - loss: 1.9723 - acc: 0.3461 - val_loss: 1.6080 - val_acc: 0.4396\n",
      "Epoch 2/10\n",
      "1407/1407 [==============================] - 4s 3ms/step - loss: 1.5352 - acc: 0.4572 - val_loss: 1.5534 - val_acc: 0.4616\n",
      "Epoch 3/10\n",
      "1407/1407 [==============================] - 5s 3ms/step - loss: 1.4249 - acc: 0.5011 - val_loss: 1.5348 - val_acc: 0.4648\n",
      "Epoch 4/10\n",
      "1407/1407 [==============================] - 5s 3ms/step - loss: 1.3608 - acc: 0.5185 - val_loss: 1.4464 - val_acc: 0.4948\n",
      "Epoch 5/10\n",
      "1407/1407 [==============================] - 5s 3ms/step - loss: 1.2821 - acc: 0.5496 - val_loss: 1.4540 - val_acc: 0.5054\n",
      "Epoch 6/10\n",
      "1407/1407 [==============================] - 5s 3ms/step - loss: 1.2293 - acc: 0.5712 - val_loss: 1.4678 - val_acc: 0.5038\n",
      "Epoch 7/10\n",
      "1407/1407 [==============================] - 5s 3ms/step - loss: 1.1550 - acc: 0.5923 - val_loss: 1.4850 - val_acc: 0.5042\n",
      "Epoch 8/10\n",
      "1407/1407 [==============================] - 5s 3ms/step - loss: 1.1084 - acc: 0.6086 - val_loss: 1.4811 - val_acc: 0.5122\n",
      "Epoch 9/10\n",
      "1407/1407 [==============================] - 5s 3ms/step - loss: 1.0568 - acc: 0.6293 - val_loss: 1.5051 - val_acc: 0.5020\n",
      "Epoch 10/10\n",
      "1407/1407 [==============================] - 5s 3ms/step - loss: 0.9998 - acc: 0.6477 - val_loss: 1.5273 - val_acc: 0.5066\n"
     ]
    }
   ],
   "source": [
    "history = model.fit(x_train_scaled, y_train, epochs=10,\n",
    "         validation_data=(x_valid_scaled, y_valid))"
   ]
  },
  {
   "cell_type": "code",
   "execution_count": null,
   "metadata": {},
   "outputs": [],
   "source": [
    "# 为何效果这么差"
   ]
  },
  {
   "cell_type": "code",
   "execution_count": 22,
   "metadata": {
    "ExecuteTime": {
     "end_time": "2022-05-10T14:13:44.572664Z",
     "start_time": "2022-05-10T14:13:44.417081Z"
    }
   },
   "outputs": [
    {
     "name": "stdout",
     "output_type": "stream",
     "text": [
      "Model: \"sequential_3\"\n",
      "_________________________________________________________________\n",
      "Layer (type)                 Output Shape              Param #   \n",
      "=================================================================\n",
      "flatten_3 (Flatten)          (None, 3072)              0         \n",
      "_________________________________________________________________\n",
      "dense_45 (Dense)             (None, 512)               1573376   \n",
      "_________________________________________________________________\n",
      "dense_46 (Dense)             (None, 512)               262656    \n",
      "_________________________________________________________________\n",
      "dense_47 (Dense)             (None, 512)               262656    \n",
      "_________________________________________________________________\n",
      "dense_48 (Dense)             (None, 512)               262656    \n",
      "_________________________________________________________________\n",
      "dense_49 (Dense)             (None, 512)               262656    \n",
      "_________________________________________________________________\n",
      "dense_50 (Dense)             (None, 512)               262656    \n",
      "_________________________________________________________________\n",
      "dense_51 (Dense)             (None, 512)               262656    \n",
      "_________________________________________________________________\n",
      "dense_52 (Dense)             (None, 512)               262656    \n",
      "_________________________________________________________________\n",
      "dense_53 (Dense)             (None, 512)               262656    \n",
      "_________________________________________________________________\n",
      "dense_54 (Dense)             (None, 512)               262656    \n",
      "_________________________________________________________________\n",
      "dense_55 (Dense)             (None, 512)               262656    \n",
      "_________________________________________________________________\n",
      "dense_56 (Dense)             (None, 512)               262656    \n",
      "_________________________________________________________________\n",
      "dense_57 (Dense)             (None, 512)               262656    \n",
      "_________________________________________________________________\n",
      "dense_58 (Dense)             (None, 512)               262656    \n",
      "_________________________________________________________________\n",
      "dense_59 (Dense)             (None, 512)               262656    \n",
      "_________________________________________________________________\n",
      "dense_60 (Dense)             (None, 512)               262656    \n",
      "_________________________________________________________________\n",
      "dense_61 (Dense)             (None, 512)               262656    \n",
      "_________________________________________________________________\n",
      "dense_62 (Dense)             (None, 512)               262656    \n",
      "_________________________________________________________________\n",
      "dense_63 (Dense)             (None, 512)               262656    \n",
      "_________________________________________________________________\n",
      "dense_64 (Dense)             (None, 512)               262656    \n",
      "_________________________________________________________________\n",
      "dense_65 (Dense)             (None, 10)                5130      \n",
      "=================================================================\n",
      "Total params: 6,568,970\n",
      "Trainable params: 6,568,970\n",
      "Non-trainable params: 0\n",
      "_________________________________________________________________\n"
     ]
    }
   ],
   "source": [
    "model = tf.keras.models.Sequential()\n",
    "model.add(tf.keras.layers.Flatten(input_shape=[32, 32, 3]))\n",
    "for _ in range(20):\n",
    "    model.add(tf.keras.layers.Dense(512, activation='relu'))\n",
    "model.add(tf.keras.layers.Dense(10, activation='softmax'))\n",
    "model.compile(loss='sparse_categorical_crossentropy',\n",
    "             optimizer='adam',\n",
    "             metrics=['acc'])\n",
    "model.summary()"
   ]
  },
  {
   "cell_type": "code",
   "execution_count": 23,
   "metadata": {
    "ExecuteTime": {
     "end_time": "2022-05-10T14:16:14.162568Z",
     "start_time": "2022-05-10T14:14:01.097569Z"
    }
   },
   "outputs": [
    {
     "name": "stdout",
     "output_type": "stream",
     "text": [
      "Epoch 1/10\n",
      "1407/1407 [==============================] - 15s 10ms/step - loss: 2.3042 - acc: 0.1002 - val_loss: 2.3028 - val_acc: 0.0972\n",
      "Epoch 2/10\n",
      "1407/1407 [==============================] - 13s 9ms/step - loss: 2.3028 - acc: 0.1003 - val_loss: 2.3028 - val_acc: 0.0920\n",
      "Epoch 3/10\n",
      "1407/1407 [==============================] - 13s 9ms/step - loss: 2.3027 - acc: 0.0991 - val_loss: 2.3030 - val_acc: 0.0920\n",
      "Epoch 4/10\n",
      "1407/1407 [==============================] - 13s 9ms/step - loss: 2.3026 - acc: 0.0985 - val_loss: 2.3027 - val_acc: 0.0996\n",
      "Epoch 5/10\n",
      "1407/1407 [==============================] - 13s 9ms/step - loss: 2.3028 - acc: 0.0984 - val_loss: 2.3026 - val_acc: 0.0972\n",
      "Epoch 6/10\n",
      "1407/1407 [==============================] - 13s 9ms/step - loss: 2.3028 - acc: 0.1014 - val_loss: 2.3027 - val_acc: 0.0972\n",
      "Epoch 7/10\n",
      "1407/1407 [==============================] - 13s 9ms/step - loss: 2.3027 - acc: 0.1009 - val_loss: 2.3029 - val_acc: 0.0976\n",
      "Epoch 8/10\n",
      "1407/1407 [==============================] - 13s 9ms/step - loss: 2.3026 - acc: 0.1023 - val_loss: 2.3027 - val_acc: 0.0972\n",
      "Epoch 9/10\n",
      "1407/1407 [==============================] - 13s 9ms/step - loss: 2.3028 - acc: 0.0948 - val_loss: 2.3028 - val_acc: 0.0920\n",
      "Epoch 10/10\n",
      "1407/1407 [==============================] - 13s 9ms/step - loss: 2.3026 - acc: 0.0995 - val_loss: 2.3027 - val_acc: 0.0996\n"
     ]
    }
   ],
   "source": [
    "history = model.fit(x_train_scaled, y_train, epochs=10,\n",
    "         validation_data=(x_valid_scaled, y_valid))"
   ]
  },
  {
   "cell_type": "code",
   "execution_count": 20,
   "metadata": {
    "ExecuteTime": {
     "end_time": "2022-05-10T14:13:14.798675Z",
     "start_time": "2022-05-10T14:13:14.785710Z"
    }
   },
   "outputs": [
    {
     "name": "stdout",
     "output_type": "stream",
     "text": [
      "Model: \"sequential_1\"\n",
      "_________________________________________________________________\n",
      "Layer (type)                 Output Shape              Param #   \n",
      "=================================================================\n",
      "flatten_1 (Flatten)          (None, 3072)              0         \n",
      "_________________________________________________________________\n",
      "dense_3 (Dense)              (None, 256)               786688    \n",
      "_________________________________________________________________\n",
      "dense_4 (Dense)              (None, 256)               65792     \n",
      "_________________________________________________________________\n",
      "dense_5 (Dense)              (None, 256)               65792     \n",
      "_________________________________________________________________\n",
      "dense_6 (Dense)              (None, 256)               65792     \n",
      "_________________________________________________________________\n",
      "dense_7 (Dense)              (None, 256)               65792     \n",
      "_________________________________________________________________\n",
      "dense_8 (Dense)              (None, 256)               65792     \n",
      "_________________________________________________________________\n",
      "dense_9 (Dense)              (None, 256)               65792     \n",
      "_________________________________________________________________\n",
      "dense_10 (Dense)             (None, 256)               65792     \n",
      "_________________________________________________________________\n",
      "dense_11 (Dense)             (None, 256)               65792     \n",
      "_________________________________________________________________\n",
      "dense_12 (Dense)             (None, 256)               65792     \n",
      "_________________________________________________________________\n",
      "dense_13 (Dense)             (None, 256)               65792     \n",
      "_________________________________________________________________\n",
      "dense_14 (Dense)             (None, 256)               65792     \n",
      "_________________________________________________________________\n",
      "dense_15 (Dense)             (None, 256)               65792     \n",
      "_________________________________________________________________\n",
      "dense_16 (Dense)             (None, 256)               65792     \n",
      "_________________________________________________________________\n",
      "dense_17 (Dense)             (None, 256)               65792     \n",
      "_________________________________________________________________\n",
      "dense_18 (Dense)             (None, 256)               65792     \n",
      "_________________________________________________________________\n",
      "dense_19 (Dense)             (None, 256)               65792     \n",
      "_________________________________________________________________\n",
      "dense_20 (Dense)             (None, 256)               65792     \n",
      "_________________________________________________________________\n",
      "dense_21 (Dense)             (None, 256)               65792     \n",
      "_________________________________________________________________\n",
      "dense_22 (Dense)             (None, 256)               65792     \n",
      "_________________________________________________________________\n",
      "dense_23 (Dense)             (None, 10)                2570      \n",
      "=================================================================\n",
      "Total params: 2,039,306\n",
      "Trainable params: 2,039,306\n",
      "Non-trainable params: 0\n",
      "_________________________________________________________________\n"
     ]
    }
   ],
   "source": [
    "# 结论: 尽量不用深层的神经网络. "
   ]
  },
  {
   "cell_type": "code",
   "execution_count": 24,
   "metadata": {
    "ExecuteTime": {
     "end_time": "2022-05-10T14:21:08.765274Z",
     "start_time": "2022-05-10T14:20:13.558625Z"
    }
   },
   "outputs": [
    {
     "name": "stdout",
     "output_type": "stream",
     "text": [
      "Epoch 1/10\n",
      "1407/1407 [==============================] - 6s 4ms/step - loss: 31.1631 - acc: 0.1824 - val_loss: 4.0052 - val_acc: 0.1946\n",
      "Epoch 2/10\n",
      "1407/1407 [==============================] - 5s 4ms/step - loss: 4.0107 - acc: 0.1778 - val_loss: 3.9911 - val_acc: 0.1830\n",
      "Epoch 3/10\n",
      "1407/1407 [==============================] - 5s 4ms/step - loss: 3.9813 - acc: 0.1820 - val_loss: 3.9776 - val_acc: 0.1872\n",
      "Epoch 4/10\n",
      "1407/1407 [==============================] - 5s 4ms/step - loss: 3.9784 - acc: 0.1788 - val_loss: 3.9641 - val_acc: 0.1924\n",
      "Epoch 5/10\n",
      "1407/1407 [==============================] - 5s 4ms/step - loss: 4.0195 - acc: 0.1843 - val_loss: 4.0085 - val_acc: 0.1940\n",
      "Epoch 6/10\n",
      "1407/1407 [==============================] - 5s 4ms/step - loss: 4.0018 - acc: 0.1812 - val_loss: 3.9729 - val_acc: 0.1990\n",
      "Epoch 7/10\n",
      "1407/1407 [==============================] - 5s 4ms/step - loss: 3.9764 - acc: 0.1893 - val_loss: 3.9822 - val_acc: 0.1776\n",
      "Epoch 8/10\n",
      "1407/1407 [==============================] - 5s 4ms/step - loss: 3.9948 - acc: 0.1881 - val_loss: 3.9899 - val_acc: 0.1976\n",
      "Epoch 9/10\n",
      "1407/1407 [==============================] - 5s 4ms/step - loss: 3.9993 - acc: 0.1842 - val_loss: 4.0204 - val_acc: 0.1954\n",
      "Epoch 10/10\n",
      "1407/1407 [==============================] - 6s 4ms/step - loss: 4.0055 - acc: 0.1833 - val_loss: 3.9573 - val_acc: 0.1906\n"
     ]
    }
   ],
   "source": [
    "# 过拟合问题\n",
    "# l1\n",
    "model = tf.keras.models.Sequential()\n",
    "model.add(tf.keras.layers.Flatten(input_shape=[32, 32, 3]))\n",
    "model.add(tf.keras.layers.Dense(512, activation='relu', kernel_regularizer='l1'))\n",
    "model.add(tf.keras.layers.Dense(256, activation='relu', kernel_regularizer='l1'))\n",
    "model.add(tf.keras.layers.Dense(10, activation='softmax'))\n",
    "model.compile(loss='sparse_categorical_crossentropy',\n",
    "             optimizer='adam',\n",
    "             metrics=['acc'])\n",
    "history = model.fit(x_train_scaled, y_train, epochs=10,\n",
    "         validation_data=(x_valid_scaled, y_valid))"
   ]
  },
  {
   "cell_type": "code",
   "execution_count": 25,
   "metadata": {
    "ExecuteTime": {
     "end_time": "2022-05-10T14:22:36.109939Z",
     "start_time": "2022-05-10T14:21:43.054329Z"
    }
   },
   "outputs": [
    {
     "name": "stdout",
     "output_type": "stream",
     "text": [
      "Epoch 1/10\n",
      "1407/1407 [==============================] - 6s 4ms/step - loss: 5.6644 - acc: 0.3189 - val_loss: 1.9867 - val_acc: 0.3638\n",
      "Epoch 2/10\n",
      "1407/1407 [==============================] - 5s 4ms/step - loss: 1.9784 - acc: 0.3720 - val_loss: 1.9804 - val_acc: 0.3722\n",
      "Epoch 3/10\n",
      "1407/1407 [==============================] - 5s 4ms/step - loss: 1.9458 - acc: 0.3866 - val_loss: 1.9553 - val_acc: 0.3730\n",
      "Epoch 4/10\n",
      "1407/1407 [==============================] - 5s 4ms/step - loss: 1.9147 - acc: 0.3966 - val_loss: 1.8764 - val_acc: 0.4066\n",
      "Epoch 5/10\n",
      "1407/1407 [==============================] - 5s 4ms/step - loss: 1.8796 - acc: 0.4035 - val_loss: 1.8419 - val_acc: 0.4044\n",
      "Epoch 6/10\n",
      "1407/1407 [==============================] - 5s 4ms/step - loss: 1.8240 - acc: 0.4164 - val_loss: 1.8216 - val_acc: 0.4062\n",
      "Epoch 7/10\n",
      "1407/1407 [==============================] - 5s 4ms/step - loss: 1.8037 - acc: 0.4174 - val_loss: 1.7871 - val_acc: 0.4144\n",
      "Epoch 8/10\n",
      "1407/1407 [==============================] - 5s 4ms/step - loss: 1.7856 - acc: 0.4196 - val_loss: 1.7667 - val_acc: 0.4226\n",
      "Epoch 9/10\n",
      "1407/1407 [==============================] - 5s 4ms/step - loss: 1.7716 - acc: 0.4201 - val_loss: 1.7494 - val_acc: 0.4284\n",
      "Epoch 10/10\n",
      "1407/1407 [==============================] - 5s 4ms/step - loss: 1.7540 - acc: 0.4274 - val_loss: 1.7352 - val_acc: 0.4246\n"
     ]
    }
   ],
   "source": [
    "model = tf.keras.models.Sequential()\n",
    "model.add(tf.keras.layers.Flatten(input_shape=[32, 32, 3]))\n",
    "model.add(tf.keras.layers.Dense(512, activation='relu', kernel_regularizer='l2'))\n",
    "model.add(tf.keras.layers.Dense(256, activation='relu', kernel_regularizer='l2'))\n",
    "model.add(tf.keras.layers.Dense(10, activation='softmax'))\n",
    "model.compile(loss='sparse_categorical_crossentropy',\n",
    "             optimizer='adam',\n",
    "             metrics=['acc'])\n",
    "history = model.fit(x_train_scaled, y_train, epochs=10,\n",
    "         validation_data=(x_valid_scaled, y_valid))"
   ]
  },
  {
   "cell_type": "code",
   "execution_count": 27,
   "metadata": {
    "ExecuteTime": {
     "end_time": "2022-05-10T14:25:21.958379Z",
     "start_time": "2022-05-10T14:24:31.680691Z"
    }
   },
   "outputs": [
    {
     "name": "stdout",
     "output_type": "stream",
     "text": [
      "Epoch 1/10\n",
      "1407/1407 [==============================] - 5s 4ms/step - loss: 2.1603 - acc: 0.2885 - val_loss: 1.8486 - val_acc: 0.3868\n",
      "Epoch 2/10\n",
      "1407/1407 [==============================] - 5s 4ms/step - loss: 1.7137 - acc: 0.3895 - val_loss: 1.7795 - val_acc: 0.4268\n",
      "Epoch 3/10\n",
      "1407/1407 [==============================] - 5s 3ms/step - loss: 1.6381 - acc: 0.4159 - val_loss: 1.7992 - val_acc: 0.4536\n",
      "Epoch 4/10\n",
      "1407/1407 [==============================] - 5s 4ms/step - loss: 1.5823 - acc: 0.4383 - val_loss: 1.8421 - val_acc: 0.4460\n",
      "Epoch 5/10\n",
      "1407/1407 [==============================] - 5s 4ms/step - loss: 1.5712 - acc: 0.4429 - val_loss: 1.8735 - val_acc: 0.4518\n",
      "Epoch 6/10\n",
      "1407/1407 [==============================] - 5s 4ms/step - loss: 1.5261 - acc: 0.4647 - val_loss: 1.7844 - val_acc: 0.4790\n",
      "Epoch 7/10\n",
      "1407/1407 [==============================] - 5s 3ms/step - loss: 1.5034 - acc: 0.4687 - val_loss: 1.7914 - val_acc: 0.4730\n",
      "Epoch 8/10\n",
      "1407/1407 [==============================] - 5s 4ms/step - loss: 1.4928 - acc: 0.4727 - val_loss: 1.7433 - val_acc: 0.4844\n",
      "Epoch 9/10\n",
      "1407/1407 [==============================] - 5s 4ms/step - loss: 1.4642 - acc: 0.4821 - val_loss: 1.7681 - val_acc: 0.4732\n",
      "Epoch 10/10\n",
      "1407/1407 [==============================] - 5s 3ms/step - loss: 1.4431 - acc: 0.4900 - val_loss: 1.7496 - val_acc: 0.4954\n"
     ]
    }
   ],
   "source": [
    "model = tf.keras.models.Sequential()\n",
    "model.add(tf.keras.layers.Flatten(input_shape=[32, 32, 3]))\n",
    "model.add(tf.keras.layers.Dense(512, activation='relu'))\n",
    "model.add(tf.keras.layers.AlphaDropout(0.5))\n",
    "model.add(tf.keras.layers.Dense(256, activation='relu'))\n",
    "model.add(tf.keras.layers.Dense(10, activation='softmax'))\n",
    "model.compile(loss='sparse_categorical_crossentropy',\n",
    "             optimizer='adam',\n",
    "             metrics=['acc'])\n",
    "history = model.fit(x_train_scaled, y_train, epochs=10,\n",
    "         validation_data=(x_valid_scaled, y_valid))"
   ]
  },
  {
   "cell_type": "code",
   "execution_count": 28,
   "metadata": {
    "ExecuteTime": {
     "end_time": "2022-05-10T14:28:13.708560Z",
     "start_time": "2022-05-10T14:26:47.350254Z"
    }
   },
   "outputs": [
    {
     "name": "stdout",
     "output_type": "stream",
     "text": [
      "Epoch 1/10\n",
      "1407/1407 [==============================] - 9s 6ms/step - loss: 2.0801 - acc: 0.2586 - val_loss: 1.8591 - val_acc: 0.4018\n",
      "Epoch 2/10\n",
      "1407/1407 [==============================] - 8s 6ms/step - loss: 1.8096 - acc: 0.3481 - val_loss: 1.8037 - val_acc: 0.4154\n",
      "Epoch 3/10\n",
      "1407/1407 [==============================] - 8s 6ms/step - loss: 1.7390 - acc: 0.3771 - val_loss: 1.7750 - val_acc: 0.4354\n",
      "Epoch 4/10\n",
      "1407/1407 [==============================] - 8s 6ms/step - loss: 1.6736 - acc: 0.4007 - val_loss: 1.7642 - val_acc: 0.4354\n",
      "Epoch 5/10\n",
      "1407/1407 [==============================] - 9s 6ms/step - loss: 1.6358 - acc: 0.4105 - val_loss: 1.7627 - val_acc: 0.4434\n",
      "Epoch 6/10\n",
      "1407/1407 [==============================] - 9s 6ms/step - loss: 1.5947 - acc: 0.4296 - val_loss: 1.6833 - val_acc: 0.4552\n",
      "Epoch 7/10\n",
      "1407/1407 [==============================] - 8s 6ms/step - loss: 1.5693 - acc: 0.4369 - val_loss: 1.6648 - val_acc: 0.4652\n",
      "Epoch 8/10\n",
      "1407/1407 [==============================] - 9s 6ms/step - loss: 1.5408 - acc: 0.4486 - val_loss: 1.6943 - val_acc: 0.4620\n",
      "Epoch 9/10\n",
      "1407/1407 [==============================] - 9s 6ms/step - loss: 1.5192 - acc: 0.4567 - val_loss: 1.6871 - val_acc: 0.4718\n",
      "Epoch 10/10\n",
      "1407/1407 [==============================] - 9s 6ms/step - loss: 1.5007 - acc: 0.4655 - val_loss: 1.6529 - val_acc: 0.4708\n"
     ]
    }
   ],
   "source": [
    "# BN\n",
    "model = tf.keras.models.Sequential()\n",
    "model.add(tf.keras.layers.Flatten(input_shape=[32, 32, 3]))\n",
    "model.add(tf.keras.layers.Dense(512))\n",
    "model.add(tf.keras.layers.BatchNormalization())\n",
    "model.add(tf.keras.layers.Activation('relu'))\n",
    "model.add(tf.keras.layers.AlphaDropout(0.5))\n",
    "model.add(tf.keras.layers.Dense(256))\n",
    "model.add(tf.keras.layers.BatchNormalization())\n",
    "model.add(tf.keras.layers.Activation('relu'))\n",
    "model.add(tf.keras.layers.Dense(10, activation='softmax'))\n",
    "model.compile(loss='sparse_categorical_crossentropy',\n",
    "             optimizer='adam',\n",
    "             metrics=['acc'])\n",
    "history = model.fit(x_train_scaled, y_train, epochs=10,\n",
    "         validation_data=(x_valid_scaled, y_valid))"
   ]
  }
 ],
 "metadata": {
  "hide_input": false,
  "kernelspec": {
   "display_name": "Python 3 (ipykernel)",
   "language": "python",
   "name": "python3"
  },
  "language_info": {
   "codemirror_mode": {
    "name": "ipython",
    "version": 3
   },
   "file_extension": ".py",
   "mimetype": "text/x-python",
   "name": "python",
   "nbconvert_exporter": "python",
   "pygments_lexer": "ipython3",
   "version": "3.9.7"
  },
  "latex_envs": {
   "LaTeX_envs_menu_present": true,
   "autoclose": false,
   "autocomplete": true,
   "bibliofile": "biblio.bib",
   "cite_by": "apalike",
   "current_citInitial": 1,
   "eqLabelWithNumbers": true,
   "eqNumInitial": 1,
   "hotkeys": {
    "equation": "Ctrl-E",
    "itemize": "Ctrl-I"
   },
   "labels_anchors": false,
   "latex_user_defs": false,
   "report_style_numbering": false,
   "user_envs_cfg": false
  },
  "nbTranslate": {
   "displayLangs": [
    "*"
   ],
   "hotkey": "alt-t",
   "langInMainMenu": true,
   "sourceLang": "en",
   "targetLang": "fr",
   "useGoogleTranslate": true
  },
  "toc": {
   "base_numbering": 1,
   "nav_menu": {},
   "number_sections": true,
   "sideBar": true,
   "skip_h1_title": false,
   "title_cell": "Table of Contents",
   "title_sidebar": "Contents",
   "toc_cell": false,
   "toc_position": {},
   "toc_section_display": true,
   "toc_window_display": false
  },
  "varInspector": {
   "cols": {
    "lenName": 16,
    "lenType": 16,
    "lenVar": 40
   },
   "kernels_config": {
    "python": {
     "delete_cmd_postfix": "",
     "delete_cmd_prefix": "del ",
     "library": "var_list.py",
     "varRefreshCmd": "print(var_dic_list())"
    },
    "r": {
     "delete_cmd_postfix": ") ",
     "delete_cmd_prefix": "rm(",
     "library": "var_list.r",
     "varRefreshCmd": "cat(var_dic_list()) "
    }
   },
   "types_to_exclude": [
    "module",
    "function",
    "builtin_function_or_method",
    "instance",
    "_Feature"
   ],
   "window_display": false
  }
 },
 "nbformat": 4,
 "nbformat_minor": 4
}
