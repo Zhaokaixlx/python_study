{
 "cells": [
  {
   "cell_type": "code",
   "execution_count": null,
   "id": "c376872c",
   "metadata": {},
   "outputs": [],
   "source": [
    "# 使用最基础的tensorflow api\n",
    "# 这些api 和 numpy 很多的api 很相似"
   ]
  },
  {
   "cell_type": "code",
   "execution_count": 1,
   "id": "391fa2df",
   "metadata": {
    "ExecuteTime": {
     "end_time": "2022-05-23T01:59:31.326762Z",
     "start_time": "2022-05-23T01:59:25.054486Z"
    }
   },
   "outputs": [],
   "source": [
    "import tensorflow as tf"
   ]
  },
  {
   "cell_type": "code",
   "execution_count": 2,
   "id": "0043accf",
   "metadata": {
    "ExecuteTime": {
     "end_time": "2022-05-23T02:02:40.093502Z",
     "start_time": "2022-05-23T02:02:38.932450Z"
    }
   },
   "outputs": [],
   "source": [
    "# 可以把tensorflow 理解为一门新的语言，他有他自己的代码#\n",
    "#规则\n",
    "# 常量\n",
    "# python 是没有常量的说法的 python的一切都可以变\n",
    "# 常量一旦定义 值不可以改变\n",
    "a = tf.constant(1)"
   ]
  },
  {
   "cell_type": "code",
   "execution_count": 3,
   "id": "4b59d814",
   "metadata": {
    "ExecuteTime": {
     "end_time": "2022-05-23T02:02:55.549617Z",
     "start_time": "2022-05-23T02:02:55.535051Z"
    }
   },
   "outputs": [
    {
     "data": {
      "text/plain": [
       "<tf.Tensor: shape=(), dtype=int32, numpy=1>"
      ]
     },
     "execution_count": 3,
     "metadata": {},
     "output_type": "execute_result"
    }
   ],
   "source": [
    "a"
   ]
  },
  {
   "cell_type": "code",
   "execution_count": 4,
   "id": "57200be6",
   "metadata": {
    "ExecuteTime": {
     "end_time": "2022-05-23T02:08:57.762550Z",
     "start_time": "2022-05-23T02:08:57.741459Z"
    }
   },
   "outputs": [],
   "source": [
    "a = tf.constant([[1,2,3],[4,5,6]])"
   ]
  },
  {
   "cell_type": "code",
   "execution_count": 5,
   "id": "956a88b1",
   "metadata": {
    "ExecuteTime": {
     "end_time": "2022-05-23T02:09:07.372352Z",
     "start_time": "2022-05-23T02:09:07.361368Z"
    }
   },
   "outputs": [
    {
     "data": {
      "text/plain": [
       "<tf.Tensor: shape=(2, 3), dtype=int32, numpy=\n",
       "array([[1, 2, 3],\n",
       "       [4, 5, 6]])>"
      ]
     },
     "execution_count": 5,
     "metadata": {},
     "output_type": "execute_result"
    }
   ],
   "source": [
    "a"
   ]
  },
  {
   "cell_type": "code",
   "execution_count": 6,
   "id": "44a335fa",
   "metadata": {
    "ExecuteTime": {
     "end_time": "2022-05-23T02:10:50.220486Z",
     "start_time": "2022-05-23T02:10:50.209999Z"
    }
   },
   "outputs": [
    {
     "data": {
      "text/plain": [
       "array([[1, 2, 3],\n",
       "       [4, 5, 6]])"
      ]
     },
     "execution_count": 6,
     "metadata": {},
     "output_type": "execute_result"
    }
   ],
   "source": [
    "# 取出常量的值\n",
    "a.numpy()"
   ]
  },
  {
   "cell_type": "code",
   "execution_count": 7,
   "id": "b75c675e",
   "metadata": {
    "ExecuteTime": {
     "end_time": "2022-05-23T02:13:59.310792Z",
     "start_time": "2022-05-23T02:13:59.284206Z"
    }
   },
   "outputs": [
    {
     "data": {
      "text/plain": [
       "<tf.Tensor: shape=(3,), dtype=int32, numpy=array([1, 2, 3])>"
      ]
     },
     "execution_count": 7,
     "metadata": {},
     "output_type": "execute_result"
    }
   ],
   "source": [
    "# 可以像numpy 操作ndarry一样去使用tensor\n",
    "# 切片 索引\n",
    "a[0]"
   ]
  },
  {
   "cell_type": "code",
   "execution_count": 8,
   "id": "230b9119",
   "metadata": {
    "ExecuteTime": {
     "end_time": "2022-05-23T02:15:58.388553Z",
     "start_time": "2022-05-23T02:15:58.376373Z"
    }
   },
   "outputs": [
    {
     "data": {
      "text/plain": [
       "<tf.Tensor: shape=(3,), dtype=int32, numpy=array([4, 5, 6])>"
      ]
     },
     "execution_count": 8,
     "metadata": {},
     "output_type": "execute_result"
    }
   ],
   "source": [
    "a[1]"
   ]
  },
  {
   "cell_type": "code",
   "execution_count": 9,
   "id": "52346cb0",
   "metadata": {
    "ExecuteTime": {
     "end_time": "2022-05-23T02:16:42.280826Z",
     "start_time": "2022-05-23T02:16:42.267832Z"
    }
   },
   "outputs": [
    {
     "data": {
      "text/plain": [
       "<tf.Tensor: shape=(), dtype=int32, numpy=5>"
      ]
     },
     "execution_count": 9,
     "metadata": {},
     "output_type": "execute_result"
    }
   ],
   "source": [
    "# 索引\n",
    "a[1,1]"
   ]
  },
  {
   "cell_type": "code",
   "execution_count": 10,
   "id": "5f55beca",
   "metadata": {
    "ExecuteTime": {
     "end_time": "2022-05-23T02:17:06.057061Z",
     "start_time": "2022-05-23T02:17:06.037604Z"
    }
   },
   "outputs": [
    {
     "data": {
      "text/plain": [
       "5"
      ]
     },
     "execution_count": 10,
     "metadata": {},
     "output_type": "execute_result"
    }
   ],
   "source": [
    "a[1,1].numpy()"
   ]
  },
  {
   "cell_type": "code",
   "execution_count": 15,
   "id": "1a399391",
   "metadata": {
    "ExecuteTime": {
     "end_time": "2022-05-23T02:27:31.484914Z",
     "start_time": "2022-05-23T02:27:31.472254Z"
    }
   },
   "outputs": [
    {
     "data": {
      "text/plain": [
       "<tf.Tensor: shape=(2, 2), dtype=int32, numpy=\n",
       "array([[ 4,  9],\n",
       "       [25, 36]])>"
      ]
     },
     "execution_count": 15,
     "metadata": {},
     "output_type": "execute_result"
    }
   ],
   "source": [
    "a[:,1:]"
   ]
  },
  {
   "cell_type": "code",
   "execution_count": 11,
   "id": "aa4f2bd2",
   "metadata": {
    "ExecuteTime": {
     "end_time": "2022-05-23T02:21:24.551403Z",
     "start_time": "2022-05-23T02:21:24.523710Z"
    },
    "scrolled": false
   },
   "outputs": [
    {
     "data": {
      "text/plain": [
       "<tf.Tensor: shape=(2, 2), dtype=int32, numpy=\n",
       "array([[2, 3],\n",
       "       [5, 6]])>"
      ]
     },
     "execution_count": 11,
     "metadata": {},
     "output_type": "execute_result"
    }
   ],
   "source": [
    "# tensorflow 有一个特有的切片之法\n",
    "# ... 表示逗号之前的所有的维度\n",
    "# a 如果是三维 a[:,:,1:]\n",
    "a[...,1:]"
   ]
  },
  {
   "cell_type": "code",
   "execution_count": 12,
   "id": "e564315a",
   "metadata": {
    "ExecuteTime": {
     "end_time": "2022-05-23T02:23:52.588464Z",
     "start_time": "2022-05-23T02:23:52.573808Z"
    }
   },
   "outputs": [
    {
     "data": {
      "text/plain": [
       "<tf.Tensor: shape=(2, 3), dtype=int32, numpy=\n",
       "array([[2, 3, 4],\n",
       "       [5, 6, 7]])>"
      ]
     },
     "execution_count": 12,
     "metadata": {},
     "output_type": "execute_result"
    }
   ],
   "source": [
    "# 常量的操作\n",
    "# 注意，没有修改常量 这样是返回一个新的tensorflow\n",
    "a+1"
   ]
  },
  {
   "cell_type": "code",
   "execution_count": 13,
   "id": "46877085",
   "metadata": {
    "ExecuteTime": {
     "end_time": "2022-05-23T02:25:45.950045Z",
     "start_time": "2022-05-23T02:25:45.935466Z"
    }
   },
   "outputs": [],
   "source": [
    "# 用新的tensorflow 把a 覆盖掉了\n",
    "a = tf.square(a)"
   ]
  },
  {
   "cell_type": "code",
   "execution_count": 14,
   "id": "7b87bd8f",
   "metadata": {
    "ExecuteTime": {
     "end_time": "2022-05-23T02:25:50.770501Z",
     "start_time": "2022-05-23T02:25:50.761921Z"
    }
   },
   "outputs": [
    {
     "data": {
      "text/plain": [
       "<tf.Tensor: shape=(2, 3), dtype=int32, numpy=\n",
       "array([[ 1,  4,  9],\n",
       "       [16, 25, 36]])>"
      ]
     },
     "execution_count": 14,
     "metadata": {},
     "output_type": "execute_result"
    }
   ],
   "source": [
    "a"
   ]
  },
  {
   "cell_type": "code",
   "execution_count": 16,
   "id": "987b826c",
   "metadata": {
    "ExecuteTime": {
     "end_time": "2022-05-23T02:29:15.891744Z",
     "start_time": "2022-05-23T02:29:15.312274Z"
    }
   },
   "outputs": [
    {
     "ename": "AttributeError",
     "evalue": "'tensorflow.python.framework.ops.EagerTensor' object has no attribute 'assign'",
     "output_type": "error",
     "traceback": [
      "\u001b[1;31m---------------------------------------------------------------------------\u001b[0m",
      "\u001b[1;31mAttributeError\u001b[0m                            Traceback (most recent call last)",
      "\u001b[1;32mC:\\Users\\ADMINI~1\\AppData\\Local\\Temp/ipykernel_14652/3592122803.py\u001b[0m in \u001b[0;36m<module>\u001b[1;34m\u001b[0m\n\u001b[0;32m      1\u001b[0m \u001b[1;31m# 如果对常量进行assign,那么就会报错，但是因为a是常量，没有assign 方法a\u001b[0m\u001b[1;33m\u001b[0m\u001b[1;33m\u001b[0m\u001b[0m\n\u001b[1;32m----> 2\u001b[1;33m \u001b[0ma\u001b[0m\u001b[1;33m.\u001b[0m\u001b[0massign\u001b[0m\u001b[1;33m(\u001b[0m\u001b[1;33m)\u001b[0m\u001b[1;33m\u001b[0m\u001b[1;33m\u001b[0m\u001b[0m\n\u001b[0m",
      "\u001b[1;32mC:\\ProgramData\\Anaconda3\\lib\\site-packages\\tensorflow\\python\\framework\\ops.py\u001b[0m in \u001b[0;36m__getattr__\u001b[1;34m(self, name)\u001b[0m\n\u001b[0;32m    444\u001b[0m         \u001b[0mnp_config\u001b[0m\u001b[1;33m.\u001b[0m\u001b[0menable_numpy_behavior\u001b[0m\u001b[1;33m(\u001b[0m\u001b[1;33m)\u001b[0m\u001b[1;33m\u001b[0m\u001b[1;33m\u001b[0m\u001b[0m\n\u001b[0;32m    445\u001b[0m       \"\"\")\n\u001b[1;32m--> 446\u001b[1;33m     \u001b[0mself\u001b[0m\u001b[1;33m.\u001b[0m\u001b[0m__getattribute__\u001b[0m\u001b[1;33m(\u001b[0m\u001b[0mname\u001b[0m\u001b[1;33m)\u001b[0m\u001b[1;33m\u001b[0m\u001b[1;33m\u001b[0m\u001b[0m\n\u001b[0m\u001b[0;32m    447\u001b[0m \u001b[1;33m\u001b[0m\u001b[0m\n\u001b[0;32m    448\u001b[0m   \u001b[1;33m@\u001b[0m\u001b[0mstaticmethod\u001b[0m\u001b[1;33m\u001b[0m\u001b[1;33m\u001b[0m\u001b[0m\n",
      "\u001b[1;31mAttributeError\u001b[0m: 'tensorflow.python.framework.ops.EagerTensor' object has no attribute 'assign'"
     ]
    }
   ],
   "source": [
    "# 如果对常量进行assign,那么就会报错，但是因为a是常量，没有assign 方法a\n",
    "a.assign()"
   ]
  },
  {
   "cell_type": "code",
   "execution_count": 17,
   "id": "941f00e2",
   "metadata": {
    "ExecuteTime": {
     "end_time": "2022-05-23T02:31:30.539314Z",
     "start_time": "2022-05-23T02:31:30.519335Z"
    }
   },
   "outputs": [
    {
     "ename": "TypeError",
     "evalue": "'tensorflow.python.framework.ops.EagerTensor' object does not support item assignment",
     "output_type": "error",
     "traceback": [
      "\u001b[1;31m---------------------------------------------------------------------------\u001b[0m",
      "\u001b[1;31mTypeError\u001b[0m                                 Traceback (most recent call last)",
      "\u001b[1;32mC:\\Users\\ADMINI~1\\AppData\\Local\\Temp/ipykernel_14652/242218811.py\u001b[0m in \u001b[0;36m<module>\u001b[1;34m\u001b[0m\n\u001b[0;32m      1\u001b[0m \u001b[1;31m# 直接修改常量的内部值，也会报错\u001b[0m\u001b[1;33m\u001b[0m\u001b[1;33m\u001b[0m\u001b[0m\n\u001b[1;32m----> 2\u001b[1;33m \u001b[0ma\u001b[0m\u001b[1;33m[\u001b[0m\u001b[1;36m0\u001b[0m\u001b[1;33m,\u001b[0m\u001b[1;36m1\u001b[0m\u001b[1;33m]\u001b[0m \u001b[1;33m=\u001b[0m \u001b[1;36m20\u001b[0m\u001b[1;33m\u001b[0m\u001b[1;33m\u001b[0m\u001b[0m\n\u001b[0m",
      "\u001b[1;31mTypeError\u001b[0m: 'tensorflow.python.framework.ops.EagerTensor' object does not support item assignment"
     ]
    }
   ],
   "source": [
    "# 直接修改常量的内部值，也会报错\n",
    "a[0,1] = 20"
   ]
  },
  {
   "cell_type": "code",
   "execution_count": 18,
   "id": "0c7e4819",
   "metadata": {
    "ExecuteTime": {
     "end_time": "2022-05-23T02:31:39.870105Z",
     "start_time": "2022-05-23T02:31:39.852122Z"
    }
   },
   "outputs": [
    {
     "data": {
      "text/plain": [
       "<tf.Tensor: shape=(), dtype=int32, numpy=4>"
      ]
     },
     "execution_count": 18,
     "metadata": {},
     "output_type": "execute_result"
    }
   ],
   "source": [
    "a[0,1]"
   ]
  },
  {
   "cell_type": "code",
   "execution_count": 19,
   "id": "e5c04e63",
   "metadata": {
    "ExecuteTime": {
     "end_time": "2022-05-23T02:32:09.486992Z",
     "start_time": "2022-05-23T02:32:09.474881Z"
    }
   },
   "outputs": [
    {
     "data": {
      "text/plain": [
       "4"
      ]
     },
     "execution_count": 19,
     "metadata": {},
     "output_type": "execute_result"
    }
   ],
   "source": [
    "a[0,1].numpy()"
   ]
  },
  {
   "cell_type": "code",
   "execution_count": 20,
   "id": "b85f1ebb",
   "metadata": {
    "ExecuteTime": {
     "end_time": "2022-05-23T02:33:52.861697Z",
     "start_time": "2022-05-23T02:33:52.848666Z"
    }
   },
   "outputs": [
    {
     "data": {
      "text/plain": [
       "array([[ 1,  4,  9],\n",
       "       [16, 25, 36]])"
      ]
     },
     "execution_count": 20,
     "metadata": {},
     "output_type": "execute_result"
    }
   ],
   "source": [
    "# tensor 和 ndarray 的转化\n",
    "# 把tensor 变成了ndarray\n",
    "a.numpy()"
   ]
  },
  {
   "cell_type": "code",
   "execution_count": 21,
   "id": "c22d37db",
   "metadata": {
    "ExecuteTime": {
     "end_time": "2022-05-23T02:34:10.778446Z",
     "start_time": "2022-05-23T02:34:10.765458Z"
    }
   },
   "outputs": [],
   "source": [
    "import numpy as np"
   ]
  },
  {
   "cell_type": "code",
   "execution_count": 22,
   "id": "73226793",
   "metadata": {
    "ExecuteTime": {
     "end_time": "2022-05-23T02:35:52.004987Z",
     "start_time": "2022-05-23T02:35:51.986366Z"
    }
   },
   "outputs": [],
   "source": [
    "b = np.random.randint(0,10,size=(3,4))"
   ]
  },
  {
   "cell_type": "code",
   "execution_count": 23,
   "id": "1c1468cb",
   "metadata": {
    "ExecuteTime": {
     "end_time": "2022-05-23T02:35:56.539124Z",
     "start_time": "2022-05-23T02:35:56.534138Z"
    }
   },
   "outputs": [
    {
     "data": {
      "text/plain": [
       "array([[2, 7, 0, 5],\n",
       "       [9, 1, 9, 8],\n",
       "       [2, 3, 3, 3]])"
      ]
     },
     "execution_count": 23,
     "metadata": {},
     "output_type": "execute_result"
    }
   ],
   "source": [
    "b"
   ]
  },
  {
   "cell_type": "code",
   "execution_count": 24,
   "id": "51be4f3e",
   "metadata": {
    "ExecuteTime": {
     "end_time": "2022-05-23T02:38:20.322978Z",
     "start_time": "2022-05-23T02:38:20.306402Z"
    }
   },
   "outputs": [
    {
     "data": {
      "text/plain": [
       "<tf.Tensor: shape=(3, 4), dtype=int32, numpy=\n",
       "array([[2, 7, 0, 5],\n",
       "       [9, 1, 9, 8],\n",
       "       [2, 3, 3, 3]])>"
      ]
     },
     "execution_count": 24,
     "metadata": {},
     "output_type": "execute_result"
    }
   ],
   "source": [
    "# 直接用ndarry 创建tensor即可\n",
    "tf.constant(b)"
   ]
  },
  {
   "cell_type": "code",
   "execution_count": null,
   "id": "7dedb506",
   "metadata": {},
   "outputs": [],
   "source": [
    "# vector / matrix\n",
    "# 只有一个数字  不带中括号 我们叫做标量  scalar"
   ]
  },
  {
   "cell_type": "code",
   "execution_count": 25,
   "id": "9f4fb60e",
   "metadata": {
    "ExecuteTime": {
     "end_time": "2022-05-23T02:44:36.635240Z",
     "start_time": "2022-05-23T02:44:36.620641Z"
    }
   },
   "outputs": [
    {
     "data": {
      "text/plain": [
       "<tf.Tensor: shape=(), dtype=int32, numpy=1>"
      ]
     },
     "execution_count": 25,
     "metadata": {},
     "output_type": "execute_result"
    }
   ],
   "source": [
    "# a 就是标量\n",
    "a = tf.constant(1)\n",
    "a"
   ]
  },
  {
   "cell_type": "code",
   "execution_count": 26,
   "id": "ecf9f666",
   "metadata": {
    "ExecuteTime": {
     "end_time": "2022-05-23T02:44:41.646223Z",
     "start_time": "2022-05-23T02:44:41.636583Z"
    }
   },
   "outputs": [
    {
     "data": {
      "text/plain": [
       "<tf.Tensor: shape=(), dtype=int32, numpy=1>"
      ]
     },
     "execution_count": 26,
     "metadata": {},
     "output_type": "execute_result"
    }
   ],
   "source": [
    "a"
   ]
  },
  {
   "cell_type": "code",
   "execution_count": 27,
   "id": "a314ad5c",
   "metadata": {
    "ExecuteTime": {
     "end_time": "2022-05-23T02:45:48.266219Z",
     "start_time": "2022-05-23T02:45:48.249087Z"
    }
   },
   "outputs": [],
   "source": [
    "# 不是标量\n",
    "b = tf.constant([[1,2,3],[4,5,6]])"
   ]
  },
  {
   "cell_type": "code",
   "execution_count": 28,
   "id": "6087d563",
   "metadata": {
    "ExecuteTime": {
     "end_time": "2022-05-23T02:45:52.117071Z",
     "start_time": "2022-05-23T02:45:52.106087Z"
    }
   },
   "outputs": [
    {
     "data": {
      "text/plain": [
       "<tf.Tensor: shape=(2, 3), dtype=int32, numpy=\n",
       "array([[1, 2, 3],\n",
       "       [4, 5, 6]])>"
      ]
     },
     "execution_count": 28,
     "metadata": {},
     "output_type": "execute_result"
    }
   ],
   "source": [
    "b"
   ]
  },
  {
   "cell_type": "code",
   "execution_count": 29,
   "id": "3f8f9d58",
   "metadata": {
    "ExecuteTime": {
     "end_time": "2022-05-23T02:48:25.420874Z",
     "start_time": "2022-05-23T02:48:25.408906Z"
    }
   },
   "outputs": [
    {
     "data": {
      "text/plain": [
       "TensorShape([])"
      ]
     },
     "execution_count": 29,
     "metadata": {},
     "output_type": "execute_result"
    }
   ],
   "source": [
    "a.shape"
   ]
  },
  {
   "cell_type": "code",
   "execution_count": 30,
   "id": "70cfa735",
   "metadata": {
    "ExecuteTime": {
     "end_time": "2022-05-23T02:48:31.349025Z",
     "start_time": "2022-05-23T02:48:31.332070Z"
    }
   },
   "outputs": [
    {
     "data": {
      "text/plain": [
       "TensorShape([2, 3])"
      ]
     },
     "execution_count": 30,
     "metadata": {},
     "output_type": "execute_result"
    }
   ],
   "source": [
    "b.shape"
   ]
  },
  {
   "cell_type": "code",
   "execution_count": 31,
   "id": "2bca2637",
   "metadata": {
    "ExecuteTime": {
     "end_time": "2022-05-23T02:50:12.568599Z",
     "start_time": "2022-05-23T02:50:12.559390Z"
    }
   },
   "outputs": [],
   "source": [
    "a = tf.constant('abcd')"
   ]
  },
  {
   "cell_type": "code",
   "execution_count": 32,
   "id": "a2a9b85c",
   "metadata": {
    "ExecuteTime": {
     "end_time": "2022-05-23T02:50:24.988549Z",
     "start_time": "2022-05-23T02:50:24.982059Z"
    }
   },
   "outputs": [
    {
     "name": "stdout",
     "output_type": "stream",
     "text": [
      "tf.Tensor(b'abcd', shape=(), dtype=string)\n"
     ]
    }
   ],
   "source": [
    "print(a)"
   ]
  },
  {
   "cell_type": "code",
   "execution_count": 33,
   "id": "46ec21a6",
   "metadata": {
    "ExecuteTime": {
     "end_time": "2022-05-23T02:53:02.529670Z",
     "start_time": "2022-05-23T02:53:02.501731Z"
    }
   },
   "outputs": [
    {
     "data": {
      "text/plain": [
       "<tf.Tensor: shape=(), dtype=int32, numpy=4>"
      ]
     },
     "execution_count": 33,
     "metadata": {},
     "output_type": "execute_result"
    }
   ],
   "source": [
    "# 字符串的一些方法\n",
    "# 计算字符串的长度\n",
    "tf.strings.length(a)"
   ]
  },
  {
   "cell_type": "code",
   "execution_count": 34,
   "id": "a0e2341d",
   "metadata": {
    "ExecuteTime": {
     "end_time": "2022-05-23T02:56:17.017348Z",
     "start_time": "2022-05-23T02:56:17.006728Z"
    }
   },
   "outputs": [
    {
     "data": {
      "text/plain": [
       "<tf.Tensor: shape=(), dtype=int32, numpy=4>"
      ]
     },
     "execution_count": 34,
     "metadata": {},
     "output_type": "execute_result"
    }
   ],
   "source": [
    "# utf8的编码长度\n",
    "tf.strings.length(a,unit='UTF8_CHAR')"
   ]
  },
  {
   "cell_type": "code",
   "execution_count": 35,
   "id": "531f0f63",
   "metadata": {
    "ExecuteTime": {
     "end_time": "2022-05-23T03:06:48.002012Z",
     "start_time": "2022-05-23T03:06:47.978953Z"
    }
   },
   "outputs": [
    {
     "data": {
      "text/plain": [
       "<tf.Tensor: shape=(), dtype=string, numpy=b'abcd'>"
      ]
     },
     "execution_count": 35,
     "metadata": {},
     "output_type": "execute_result"
    }
   ],
   "source": [
    "# 字符编码方式的转化\n",
    "tf.strings.unicode_encode(tf.strings.unicode_decode(a,'UTF8'),'UTF-8')"
   ]
  },
  {
   "cell_type": "code",
   "execution_count": 36,
   "id": "c056714e",
   "metadata": {
    "ExecuteTime": {
     "end_time": "2022-05-23T03:07:53.907675Z",
     "start_time": "2022-05-23T03:07:53.898707Z"
    }
   },
   "outputs": [
    {
     "data": {
      "text/plain": [
       "<tf.Tensor: shape=(3,), dtype=string, numpy=array([b'cafe', b'coffee', b'\\xe5\\x92\\x96\\xe5\\x95\\xa1'], dtype=object)>"
      ]
     },
     "execution_count": 36,
     "metadata": {},
     "output_type": "execute_result"
    }
   ],
   "source": [
    "# 字符串数组\n",
    "t = tf.constant(['cafe','coffee','咖啡'])\n",
    "t"
   ]
  },
  {
   "cell_type": "code",
   "execution_count": 37,
   "id": "d7ed9d27",
   "metadata": {
    "ExecuteTime": {
     "end_time": "2022-05-23T03:08:56.284176Z",
     "start_time": "2022-05-23T03:08:56.269104Z"
    }
   },
   "outputs": [
    {
     "data": {
      "text/plain": [
       "<tf.Tensor: shape=(3,), dtype=int32, numpy=array([4, 6, 2])>"
      ]
     },
     "execution_count": 37,
     "metadata": {},
     "output_type": "execute_result"
    }
   ],
   "source": [
    "tf.strings.length(t,unit='UTF8_CHAR')"
   ]
  },
  {
   "cell_type": "code",
   "execution_count": 38,
   "id": "499a1b9f",
   "metadata": {
    "ExecuteTime": {
     "end_time": "2022-05-23T03:10:02.526596Z",
     "start_time": "2022-05-23T03:10:02.520156Z"
    }
   },
   "outputs": [
    {
     "data": {
      "text/plain": [
       "<tf.RaggedTensor [[99, 97, 102, 101], [99, 111, 102, 102, 101, 101], [21654, 21857]]>"
      ]
     },
     "execution_count": 38,
     "metadata": {},
     "output_type": "execute_result"
    }
   ],
   "source": [
    "tf.strings.unicode_decode(t,'UTF8')"
   ]
  },
  {
   "cell_type": "code",
   "execution_count": 40,
   "id": "8c263f5c",
   "metadata": {
    "ExecuteTime": {
     "end_time": "2022-05-23T03:15:39.643148Z",
     "start_time": "2022-05-23T03:15:39.625001Z"
    }
   },
   "outputs": [],
   "source": [
    "# ragged tensor 不整齐的tensor\n",
    "r  = tf.ragged.constant([[11,12],[1,2,3],[],[0]])"
   ]
  },
  {
   "cell_type": "code",
   "execution_count": 41,
   "id": "b2477a48",
   "metadata": {
    "ExecuteTime": {
     "end_time": "2022-05-23T03:18:57.715061Z",
     "start_time": "2022-05-23T03:18:57.696694Z"
    }
   },
   "outputs": [
    {
     "ename": "ValueError",
     "evalue": "Can't convert non-rectangular Python sequence to Tensor.",
     "output_type": "error",
     "traceback": [
      "\u001b[1;31m---------------------------------------------------------------------------\u001b[0m",
      "\u001b[1;31mValueError\u001b[0m                                Traceback (most recent call last)",
      "\u001b[1;32mC:\\Users\\ADMINI~1\\AppData\\Local\\Temp/ipykernel_14652/597619159.py\u001b[0m in \u001b[0;36m<module>\u001b[1;34m\u001b[0m\n\u001b[1;32m----> 1\u001b[1;33m \u001b[0mtf\u001b[0m\u001b[1;33m.\u001b[0m\u001b[0mconstant\u001b[0m\u001b[1;33m(\u001b[0m\u001b[1;33m[\u001b[0m\u001b[1;33m[\u001b[0m\u001b[1;36m11\u001b[0m\u001b[1;33m,\u001b[0m\u001b[1;36m12\u001b[0m\u001b[1;33m]\u001b[0m\u001b[1;33m,\u001b[0m\u001b[1;33m[\u001b[0m\u001b[1;36m1\u001b[0m\u001b[1;33m,\u001b[0m\u001b[1;36m2\u001b[0m\u001b[1;33m,\u001b[0m\u001b[1;36m3\u001b[0m\u001b[1;33m]\u001b[0m\u001b[1;33m,\u001b[0m\u001b[1;33m[\u001b[0m\u001b[1;33m]\u001b[0m\u001b[1;33m,\u001b[0m\u001b[1;33m[\u001b[0m\u001b[1;36m0\u001b[0m\u001b[1;33m]\u001b[0m\u001b[1;33m]\u001b[0m\u001b[1;33m)\u001b[0m\u001b[1;33m\u001b[0m\u001b[1;33m\u001b[0m\u001b[0m\n\u001b[0m",
      "\u001b[1;32mC:\\ProgramData\\Anaconda3\\lib\\site-packages\\tensorflow\\python\\framework\\constant_op.py\u001b[0m in \u001b[0;36mconstant\u001b[1;34m(value, dtype, shape, name)\u001b[0m\n\u001b[0;32m    265\u001b[0m     \u001b[0mValueError\u001b[0m\u001b[1;33m:\u001b[0m \u001b[1;32mif\u001b[0m \u001b[0mcalled\u001b[0m \u001b[0mon\u001b[0m \u001b[0ma\u001b[0m \u001b[0msymbolic\u001b[0m \u001b[0mtensor\u001b[0m\u001b[1;33m.\u001b[0m\u001b[1;33m\u001b[0m\u001b[1;33m\u001b[0m\u001b[0m\n\u001b[0;32m    266\u001b[0m   \"\"\"\n\u001b[1;32m--> 267\u001b[1;33m   return _constant_impl(value, dtype, shape, name, verify_shape=False,\n\u001b[0m\u001b[0;32m    268\u001b[0m                         allow_broadcast=True)\n\u001b[0;32m    269\u001b[0m \u001b[1;33m\u001b[0m\u001b[0m\n",
      "\u001b[1;32mC:\\ProgramData\\Anaconda3\\lib\\site-packages\\tensorflow\\python\\framework\\constant_op.py\u001b[0m in \u001b[0;36m_constant_impl\u001b[1;34m(value, dtype, shape, name, verify_shape, allow_broadcast)\u001b[0m\n\u001b[0;32m    277\u001b[0m       \u001b[1;32mwith\u001b[0m \u001b[0mtrace\u001b[0m\u001b[1;33m.\u001b[0m\u001b[0mTrace\u001b[0m\u001b[1;33m(\u001b[0m\u001b[1;34m\"tf.constant\"\u001b[0m\u001b[1;33m)\u001b[0m\u001b[1;33m:\u001b[0m\u001b[1;33m\u001b[0m\u001b[1;33m\u001b[0m\u001b[0m\n\u001b[0;32m    278\u001b[0m         \u001b[1;32mreturn\u001b[0m \u001b[0m_constant_eager_impl\u001b[0m\u001b[1;33m(\u001b[0m\u001b[0mctx\u001b[0m\u001b[1;33m,\u001b[0m \u001b[0mvalue\u001b[0m\u001b[1;33m,\u001b[0m \u001b[0mdtype\u001b[0m\u001b[1;33m,\u001b[0m \u001b[0mshape\u001b[0m\u001b[1;33m,\u001b[0m \u001b[0mverify_shape\u001b[0m\u001b[1;33m)\u001b[0m\u001b[1;33m\u001b[0m\u001b[1;33m\u001b[0m\u001b[0m\n\u001b[1;32m--> 279\u001b[1;33m     \u001b[1;32mreturn\u001b[0m \u001b[0m_constant_eager_impl\u001b[0m\u001b[1;33m(\u001b[0m\u001b[0mctx\u001b[0m\u001b[1;33m,\u001b[0m \u001b[0mvalue\u001b[0m\u001b[1;33m,\u001b[0m \u001b[0mdtype\u001b[0m\u001b[1;33m,\u001b[0m \u001b[0mshape\u001b[0m\u001b[1;33m,\u001b[0m \u001b[0mverify_shape\u001b[0m\u001b[1;33m)\u001b[0m\u001b[1;33m\u001b[0m\u001b[1;33m\u001b[0m\u001b[0m\n\u001b[0m\u001b[0;32m    280\u001b[0m \u001b[1;33m\u001b[0m\u001b[0m\n\u001b[0;32m    281\u001b[0m   \u001b[0mg\u001b[0m \u001b[1;33m=\u001b[0m \u001b[0mops\u001b[0m\u001b[1;33m.\u001b[0m\u001b[0mget_default_graph\u001b[0m\u001b[1;33m(\u001b[0m\u001b[1;33m)\u001b[0m\u001b[1;33m\u001b[0m\u001b[1;33m\u001b[0m\u001b[0m\n",
      "\u001b[1;32mC:\\ProgramData\\Anaconda3\\lib\\site-packages\\tensorflow\\python\\framework\\constant_op.py\u001b[0m in \u001b[0;36m_constant_eager_impl\u001b[1;34m(ctx, value, dtype, shape, verify_shape)\u001b[0m\n\u001b[0;32m    302\u001b[0m \u001b[1;32mdef\u001b[0m \u001b[0m_constant_eager_impl\u001b[0m\u001b[1;33m(\u001b[0m\u001b[0mctx\u001b[0m\u001b[1;33m,\u001b[0m \u001b[0mvalue\u001b[0m\u001b[1;33m,\u001b[0m \u001b[0mdtype\u001b[0m\u001b[1;33m,\u001b[0m \u001b[0mshape\u001b[0m\u001b[1;33m,\u001b[0m \u001b[0mverify_shape\u001b[0m\u001b[1;33m)\u001b[0m\u001b[1;33m:\u001b[0m\u001b[1;33m\u001b[0m\u001b[1;33m\u001b[0m\u001b[0m\n\u001b[0;32m    303\u001b[0m   \u001b[1;34m\"\"\"Creates a constant on the current device.\"\"\"\u001b[0m\u001b[1;33m\u001b[0m\u001b[1;33m\u001b[0m\u001b[0m\n\u001b[1;32m--> 304\u001b[1;33m   \u001b[0mt\u001b[0m \u001b[1;33m=\u001b[0m \u001b[0mconvert_to_eager_tensor\u001b[0m\u001b[1;33m(\u001b[0m\u001b[0mvalue\u001b[0m\u001b[1;33m,\u001b[0m \u001b[0mctx\u001b[0m\u001b[1;33m,\u001b[0m \u001b[0mdtype\u001b[0m\u001b[1;33m)\u001b[0m\u001b[1;33m\u001b[0m\u001b[1;33m\u001b[0m\u001b[0m\n\u001b[0m\u001b[0;32m    305\u001b[0m   \u001b[1;32mif\u001b[0m \u001b[0mshape\u001b[0m \u001b[1;32mis\u001b[0m \u001b[1;32mNone\u001b[0m\u001b[1;33m:\u001b[0m\u001b[1;33m\u001b[0m\u001b[1;33m\u001b[0m\u001b[0m\n\u001b[0;32m    306\u001b[0m     \u001b[1;32mreturn\u001b[0m \u001b[0mt\u001b[0m\u001b[1;33m\u001b[0m\u001b[1;33m\u001b[0m\u001b[0m\n",
      "\u001b[1;32mC:\\ProgramData\\Anaconda3\\lib\\site-packages\\tensorflow\\python\\framework\\constant_op.py\u001b[0m in \u001b[0;36mconvert_to_eager_tensor\u001b[1;34m(value, ctx, dtype)\u001b[0m\n\u001b[0;32m    100\u001b[0m       \u001b[0mdtype\u001b[0m \u001b[1;33m=\u001b[0m \u001b[0mdtypes\u001b[0m\u001b[1;33m.\u001b[0m\u001b[0mas_dtype\u001b[0m\u001b[1;33m(\u001b[0m\u001b[0mdtype\u001b[0m\u001b[1;33m)\u001b[0m\u001b[1;33m.\u001b[0m\u001b[0mas_datatype_enum\u001b[0m\u001b[1;33m\u001b[0m\u001b[1;33m\u001b[0m\u001b[0m\n\u001b[0;32m    101\u001b[0m   \u001b[0mctx\u001b[0m\u001b[1;33m.\u001b[0m\u001b[0mensure_initialized\u001b[0m\u001b[1;33m(\u001b[0m\u001b[1;33m)\u001b[0m\u001b[1;33m\u001b[0m\u001b[1;33m\u001b[0m\u001b[0m\n\u001b[1;32m--> 102\u001b[1;33m   \u001b[1;32mreturn\u001b[0m \u001b[0mops\u001b[0m\u001b[1;33m.\u001b[0m\u001b[0mEagerTensor\u001b[0m\u001b[1;33m(\u001b[0m\u001b[0mvalue\u001b[0m\u001b[1;33m,\u001b[0m \u001b[0mctx\u001b[0m\u001b[1;33m.\u001b[0m\u001b[0mdevice_name\u001b[0m\u001b[1;33m,\u001b[0m \u001b[0mdtype\u001b[0m\u001b[1;33m)\u001b[0m\u001b[1;33m\u001b[0m\u001b[1;33m\u001b[0m\u001b[0m\n\u001b[0m\u001b[0;32m    103\u001b[0m \u001b[1;33m\u001b[0m\u001b[0m\n\u001b[0;32m    104\u001b[0m \u001b[1;33m\u001b[0m\u001b[0m\n",
      "\u001b[1;31mValueError\u001b[0m: Can't convert non-rectangular Python sequence to Tensor."
     ]
    }
   ],
   "source": [
    "tf.constant([[11,12],[1,2,3],[],[0]])"
   ]
  },
  {
   "cell_type": "code",
   "execution_count": 42,
   "id": "68ac30bc",
   "metadata": {
    "ExecuteTime": {
     "end_time": "2022-05-23T03:19:16.173514Z",
     "start_time": "2022-05-23T03:19:16.150238Z"
    }
   },
   "outputs": [
    {
     "data": {
      "text/plain": [
       "<tf.Tensor: shape=(3,), dtype=int32, numpy=array([1, 2, 3])>"
      ]
     },
     "execution_count": 42,
     "metadata": {},
     "output_type": "execute_result"
    }
   ],
   "source": [
    "r[1]"
   ]
  },
  {
   "cell_type": "code",
   "execution_count": 43,
   "id": "fecfd4f4",
   "metadata": {
    "ExecuteTime": {
     "end_time": "2022-05-23T03:19:27.948561Z",
     "start_time": "2022-05-23T03:19:27.936302Z"
    }
   },
   "outputs": [
    {
     "data": {
      "text/plain": [
       "array([1, 2, 3])"
      ]
     },
     "execution_count": 43,
     "metadata": {},
     "output_type": "execute_result"
    }
   ],
   "source": [
    "r[1].numpy()"
   ]
  },
  {
   "cell_type": "code",
   "execution_count": 44,
   "id": "5ef40278",
   "metadata": {
    "ExecuteTime": {
     "end_time": "2022-05-23T03:20:00.843288Z",
     "start_time": "2022-05-23T03:20:00.820315Z"
    }
   },
   "outputs": [
    {
     "data": {
      "text/plain": [
       "<tf.RaggedTensor [[1, 2, 3], []]>"
      ]
     },
     "execution_count": 44,
     "metadata": {},
     "output_type": "execute_result"
    }
   ],
   "source": [
    "# 左闭右开的切片\n",
    "r[1:3]"
   ]
  },
  {
   "cell_type": "code",
   "execution_count": 45,
   "id": "174bbd30",
   "metadata": {
    "ExecuteTime": {
     "end_time": "2022-05-23T03:20:50.053950Z",
     "start_time": "2022-05-23T03:20:50.046420Z"
    }
   },
   "outputs": [
    {
     "data": {
      "text/plain": [
       "<tf.RaggedTensor [[11, 12], [1, 2, 3], [], [0]]>"
      ]
     },
     "execution_count": 45,
     "metadata": {},
     "output_type": "execute_result"
    }
   ],
   "source": [
    "# ndarray 可以进行拼接\n",
    "r"
   ]
  },
  {
   "cell_type": "code",
   "execution_count": 46,
   "id": "2d3d8067",
   "metadata": {
    "ExecuteTime": {
     "end_time": "2022-05-23T03:21:54.440374Z",
     "start_time": "2022-05-23T03:21:54.428406Z"
    }
   },
   "outputs": [],
   "source": [
    "r2 = tf.ragged.constant([[10,11],[4,5,6],[],[1]])"
   ]
  },
  {
   "cell_type": "code",
   "execution_count": 47,
   "id": "296e3d56",
   "metadata": {
    "ExecuteTime": {
     "end_time": "2022-05-23T03:23:01.512896Z",
     "start_time": "2022-05-23T03:23:01.491939Z"
    }
   },
   "outputs": [
    {
     "data": {
      "text/plain": [
       "<tf.RaggedTensor [[11, 12, 10, 11], [1, 2, 3, 4, 5, 6], [], [0, 1]]>"
      ]
     },
     "execution_count": 47,
     "metadata": {},
     "output_type": "execute_result"
    }
   ],
   "source": [
    "# axis = 1 对列进行操作，增加了列数\n",
    "tf.concat([r,r2],axis=1)"
   ]
  },
  {
   "cell_type": "code",
   "execution_count": 49,
   "id": "93aa8e49",
   "metadata": {
    "ExecuteTime": {
     "end_time": "2022-05-23T03:24:56.462474Z",
     "start_time": "2022-05-23T03:24:56.455984Z"
    }
   },
   "outputs": [
    {
     "data": {
      "text/plain": [
       "<tf.RaggedTensor [[11, 12], [1, 2, 3], [], [0], [10, 11], [4, 5, 6], [], [1]]>"
      ]
     },
     "execution_count": 49,
     "metadata": {},
     "output_type": "execute_result"
    }
   ],
   "source": [
    "# axis = 0 对行进行操作，增加了行数\n",
    "tf.concat([r,r2],axis=0)"
   ]
  },
  {
   "cell_type": "code",
   "execution_count": 50,
   "id": "76c78075",
   "metadata": {
    "ExecuteTime": {
     "end_time": "2022-05-23T03:27:29.211098Z",
     "start_time": "2022-05-23T03:27:29.194635Z"
    }
   },
   "outputs": [],
   "source": [
    "r3 = tf.ragged.constant([[1,2],[],[11]])"
   ]
  },
  {
   "cell_type": "code",
   "execution_count": 51,
   "id": "cd8bedfe",
   "metadata": {
    "ExecuteTime": {
     "end_time": "2022-05-23T03:28:05.724580Z",
     "start_time": "2022-05-23T03:28:05.717092Z"
    },
    "scrolled": true
   },
   "outputs": [
    {
     "data": {
      "text/plain": [
       "<tf.RaggedTensor [[11, 12], [1, 2, 3], [], [0], [1, 2], [], [11]]>"
      ]
     },
     "execution_count": 51,
     "metadata": {},
     "output_type": "execute_result"
    }
   ],
   "source": [
    "tf.concat([r,r3],axis=0)"
   ]
  },
  {
   "cell_type": "code",
   "execution_count": 52,
   "id": "18c24e2e",
   "metadata": {
    "ExecuteTime": {
     "end_time": "2022-05-23T03:30:49.345623Z",
     "start_time": "2022-05-23T03:30:49.329650Z"
    }
   },
   "outputs": [
    {
     "data": {
      "text/plain": [
       "<tf.RaggedTensor [[11, 12], [1, 2, 3], [], [0]]>"
      ]
     },
     "execution_count": 52,
     "metadata": {},
     "output_type": "execute_result"
    }
   ],
   "source": [
    "r"
   ]
  },
  {
   "cell_type": "code",
   "execution_count": 53,
   "id": "170daa0b",
   "metadata": {
    "ExecuteTime": {
     "end_time": "2022-05-23T03:31:04.263191Z",
     "start_time": "2022-05-23T03:31:04.250088Z"
    }
   },
   "outputs": [
    {
     "data": {
      "text/plain": [
       "<tf.RaggedTensor [[1, 2], [], [11]]>"
      ]
     },
     "execution_count": 53,
     "metadata": {},
     "output_type": "execute_result"
    }
   ],
   "source": [
    "r3"
   ]
  },
  {
   "cell_type": "code",
   "execution_count": 54,
   "id": "1fb867c2",
   "metadata": {
    "ExecuteTime": {
     "end_time": "2022-05-23T03:31:21.657476Z",
     "start_time": "2022-05-23T03:31:21.638408Z"
    }
   },
   "outputs": [
    {
     "ename": "InvalidArgumentError",
     "evalue": "Input tensors have incompatible shapes.\nCondition x == y did not hold.\nFirst 1 elements of x:\n[3]\nFirst 1 elements of y:\n[4]",
     "output_type": "error",
     "traceback": [
      "\u001b[1;31m---------------------------------------------------------------------------\u001b[0m",
      "\u001b[1;31mInvalidArgumentError\u001b[0m                      Traceback (most recent call last)",
      "\u001b[1;32mC:\\Users\\ADMINI~1\\AppData\\Local\\Temp/ipykernel_14652/2763859556.py\u001b[0m in \u001b[0;36m<module>\u001b[1;34m\u001b[0m\n\u001b[1;32m----> 1\u001b[1;33m \u001b[0mtf\u001b[0m\u001b[1;33m.\u001b[0m\u001b[0mconcat\u001b[0m\u001b[1;33m(\u001b[0m\u001b[1;33m[\u001b[0m\u001b[0mr\u001b[0m\u001b[1;33m,\u001b[0m \u001b[0mr3\u001b[0m\u001b[1;33m]\u001b[0m\u001b[1;33m,\u001b[0m \u001b[0maxis\u001b[0m\u001b[1;33m=\u001b[0m\u001b[1;36m1\u001b[0m\u001b[1;33m)\u001b[0m\u001b[1;33m\u001b[0m\u001b[1;33m\u001b[0m\u001b[0m\n\u001b[0m",
      "\u001b[1;32mC:\\ProgramData\\Anaconda3\\lib\\site-packages\\tensorflow\\python\\util\\traceback_utils.py\u001b[0m in \u001b[0;36merror_handler\u001b[1;34m(*args, **kwargs)\u001b[0m\n\u001b[0;32m    151\u001b[0m     \u001b[1;32mexcept\u001b[0m \u001b[0mException\u001b[0m \u001b[1;32mas\u001b[0m \u001b[0me\u001b[0m\u001b[1;33m:\u001b[0m\u001b[1;33m\u001b[0m\u001b[1;33m\u001b[0m\u001b[0m\n\u001b[0;32m    152\u001b[0m       \u001b[0mfiltered_tb\u001b[0m \u001b[1;33m=\u001b[0m \u001b[0m_process_traceback_frames\u001b[0m\u001b[1;33m(\u001b[0m\u001b[0me\u001b[0m\u001b[1;33m.\u001b[0m\u001b[0m__traceback__\u001b[0m\u001b[1;33m)\u001b[0m\u001b[1;33m\u001b[0m\u001b[1;33m\u001b[0m\u001b[0m\n\u001b[1;32m--> 153\u001b[1;33m       \u001b[1;32mraise\u001b[0m \u001b[0me\u001b[0m\u001b[1;33m.\u001b[0m\u001b[0mwith_traceback\u001b[0m\u001b[1;33m(\u001b[0m\u001b[0mfiltered_tb\u001b[0m\u001b[1;33m)\u001b[0m \u001b[1;32mfrom\u001b[0m \u001b[1;32mNone\u001b[0m\u001b[1;33m\u001b[0m\u001b[1;33m\u001b[0m\u001b[0m\n\u001b[0m\u001b[0;32m    154\u001b[0m     \u001b[1;32mfinally\u001b[0m\u001b[1;33m:\u001b[0m\u001b[1;33m\u001b[0m\u001b[1;33m\u001b[0m\u001b[0m\n\u001b[0;32m    155\u001b[0m       \u001b[1;32mdel\u001b[0m \u001b[0mfiltered_tb\u001b[0m\u001b[1;33m\u001b[0m\u001b[1;33m\u001b[0m\u001b[0m\n",
      "\u001b[1;32mC:\\ProgramData\\Anaconda3\\lib\\site-packages\\tensorflow\\python\\ops\\check_ops.py\u001b[0m in \u001b[0;36m_binary_assert\u001b[1;34m(sym, opname, op_func, static_func, x, y, data, summarize, message, name)\u001b[0m\n\u001b[0;32m    405\u001b[0m         \u001b[0mdata\u001b[0m \u001b[1;33m=\u001b[0m \u001b[1;33m[\u001b[0m\u001b[0mmessage\u001b[0m\u001b[1;33m]\u001b[0m \u001b[1;33m+\u001b[0m \u001b[0mlist\u001b[0m\u001b[1;33m(\u001b[0m\u001b[0mdata\u001b[0m\u001b[1;33m)\u001b[0m\u001b[1;33m\u001b[0m\u001b[1;33m\u001b[0m\u001b[0m\n\u001b[0;32m    406\u001b[0m \u001b[1;33m\u001b[0m\u001b[0m\n\u001b[1;32m--> 407\u001b[1;33m       raise errors.InvalidArgumentError(\n\u001b[0m\u001b[0;32m    408\u001b[0m           \u001b[0mnode_def\u001b[0m\u001b[1;33m=\u001b[0m\u001b[1;32mNone\u001b[0m\u001b[1;33m,\u001b[0m\u001b[1;33m\u001b[0m\u001b[1;33m\u001b[0m\u001b[0m\n\u001b[0;32m    409\u001b[0m           \u001b[0mop\u001b[0m\u001b[1;33m=\u001b[0m\u001b[1;32mNone\u001b[0m\u001b[1;33m,\u001b[0m\u001b[1;33m\u001b[0m\u001b[1;33m\u001b[0m\u001b[0m\n",
      "\u001b[1;31mInvalidArgumentError\u001b[0m: Input tensors have incompatible shapes.\nCondition x == y did not hold.\nFirst 1 elements of x:\n[3]\nFirst 1 elements of y:\n[4]"
     ]
    }
   ],
   "source": [
    "tf.concat([r, r3], axis=1)"
   ]
  },
  {
   "cell_type": "code",
   "execution_count": 55,
   "id": "c2dc385b",
   "metadata": {
    "ExecuteTime": {
     "end_time": "2022-05-23T10:23:40.297999Z",
     "start_time": "2022-05-23T10:23:40.290023Z"
    }
   },
   "outputs": [],
   "source": [
    "import tensorflow as tf"
   ]
  },
  {
   "cell_type": "code",
   "execution_count": 56,
   "id": "557224cf",
   "metadata": {
    "ExecuteTime": {
     "end_time": "2022-05-23T10:29:03.678772Z",
     "start_time": "2022-05-23T10:29:03.657687Z"
    }
   },
   "outputs": [],
   "source": [
    "# 把ragged constant转化成普通的tensor\n",
    "r = tf.ragged.constant([[1, 2, 3], [1], [], [1, 2, 3, 4, 5]])"
   ]
  },
  {
   "cell_type": "code",
   "execution_count": 57,
   "id": "08bcccdd",
   "metadata": {
    "ExecuteTime": {
     "end_time": "2022-05-23T10:30:38.451242Z",
     "start_time": "2022-05-23T10:30:38.427786Z"
    }
   },
   "outputs": [
    {
     "data": {
      "text/plain": [
       "<tf.Tensor: shape=(4, 3), dtype=int32, numpy=\n",
       "array([[1, 2, 3],\n",
       "       [1, 1, 1],\n",
       "       [1, 1, 1],\n",
       "       [1, 2, 3]])>"
      ]
     },
     "execution_count": 57,
     "metadata": {},
     "output_type": "execute_result"
    }
   ],
   "source": [
    "# 对不齐的地方补0, 可以通过default_value指定填充的值. shape可以指定转化之后的形状, 多余部分会被截断.\n",
    "r.to_tensor(default_value=1, shape=(4, 3))"
   ]
  },
  {
   "cell_type": "code",
   "execution_count": 58,
   "id": "5809b382",
   "metadata": {
    "ExecuteTime": {
     "end_time": "2022-05-23T10:32:00.929152Z",
     "start_time": "2022-05-23T10:32:00.911693Z"
    }
   },
   "outputs": [
    {
     "data": {
      "text/plain": [
       "<tensorflow.python.framework.sparse_tensor.SparseTensor at 0x2443ebc8e80>"
      ]
     },
     "execution_count": 58,
     "metadata": {},
     "output_type": "execute_result"
    }
   ],
   "source": [
    "# 稀疏tensor, 稀疏矩阵, sparse tensor\n",
    "# 矩阵中0的元素多于非0的元素, 非0元素的排列是没有规律.\n",
    "# indices表示哪些位置上是非零0, \n",
    "# values指具体是哪些值\n",
    "# dense_shape即sparsetensor的shape\n",
    "s = tf.SparseTensor(indices=[[0, 1], [1, 0], [2, 3]], values=[4, 5, 6], dense_shape=[3, 4])\n",
    "s"
   ]
  },
  {
   "cell_type": "code",
   "execution_count": 59,
   "id": "82981b20",
   "metadata": {
    "ExecuteTime": {
     "end_time": "2022-05-23T10:34:08.573435Z",
     "start_time": "2022-05-23T10:34:08.559251Z"
    }
   },
   "outputs": [
    {
     "data": {
      "text/plain": [
       "'SparseTensor(indices=tf.Tensor(\\n[[0 1]\\n [1 0]\\n [2 3]], shape=(3, 2), dtype=int64), values=tf.Tensor([4 5 6], shape=(3,), dtype=int32), dense_shape=tf.Tensor([3 4], shape=(2,), dtype=int64))'"
      ]
     },
     "execution_count": 59,
     "metadata": {},
     "output_type": "execute_result"
    }
   ],
   "source": [
    "s.__str__()"
   ]
  },
  {
   "cell_type": "code",
   "execution_count": 60,
   "id": "056f5315",
   "metadata": {
    "ExecuteTime": {
     "end_time": "2022-05-23T10:37:15.079931Z",
     "start_time": "2022-05-23T10:37:15.069958Z"
    }
   },
   "outputs": [
    {
     "name": "stdout",
     "output_type": "stream",
     "text": [
      "SparseTensor(indices=tf.Tensor(\n",
      "[[0 1]\n",
      " [1 0]\n",
      " [2 3]], shape=(3, 2), dtype=int64), values=tf.Tensor([4 5 6], shape=(3,), dtype=int32), dense_shape=tf.Tensor([3 4], shape=(2,), dtype=int64))\n"
     ]
    }
   ],
   "source": [
    "print(s)"
   ]
  },
  {
   "cell_type": "code",
   "execution_count": 61,
   "id": "314d9f57",
   "metadata": {
    "ExecuteTime": {
     "end_time": "2022-05-23T10:38:14.945995Z",
     "start_time": "2022-05-23T10:38:14.929007Z"
    }
   },
   "outputs": [
    {
     "data": {
      "text/plain": [
       "<tf.Tensor: shape=(3, 4), dtype=int32, numpy=\n",
       "array([[0, 4, 0, 0],\n",
       "       [5, 0, 0, 0],\n",
       "       [0, 0, 0, 6]])>"
      ]
     },
     "execution_count": 61,
     "metadata": {},
     "output_type": "execute_result"
    }
   ],
   "source": [
    "# 变成稠密矩阵\n",
    "tf.sparse.to_dense(s)"
   ]
  },
  {
   "cell_type": "code",
   "execution_count": 62,
   "id": "f51b9207",
   "metadata": {
    "ExecuteTime": {
     "end_time": "2022-05-23T10:45:36.355665Z",
     "start_time": "2022-05-23T10:45:36.328588Z"
    }
   },
   "outputs": [
    {
     "data": {
      "text/plain": [
       "<tensorflow.python.framework.sparse_tensor.SparseTensor at 0x24429825e50>"
      ]
     },
     "execution_count": 62,
     "metadata": {},
     "output_type": "execute_result"
    }
   ],
   "source": [
    "# 可以做乘法\n",
    "s*2"
   ]
  },
  {
   "cell_type": "code",
   "execution_count": 63,
   "id": "e89f205b",
   "metadata": {
    "ExecuteTime": {
     "end_time": "2022-05-23T10:46:06.190924Z",
     "start_time": "2022-05-23T10:46:06.161734Z"
    }
   },
   "outputs": [
    {
     "ename": "TypeError",
     "evalue": "unsupported operand type(s) for +: 'SparseTensor' and 'int'",
     "output_type": "error",
     "traceback": [
      "\u001b[1;31m---------------------------------------------------------------------------\u001b[0m",
      "\u001b[1;31mTypeError\u001b[0m                                 Traceback (most recent call last)",
      "\u001b[1;32mC:\\Users\\ADMINI~1\\AppData\\Local\\Temp/ipykernel_14652/4211981236.py\u001b[0m in \u001b[0;36m<module>\u001b[1;34m\u001b[0m\n\u001b[0;32m      1\u001b[0m \u001b[1;31m# 不能做加法\u001b[0m\u001b[1;33m\u001b[0m\u001b[1;33m\u001b[0m\u001b[0m\n\u001b[1;32m----> 2\u001b[1;33m \u001b[0ms\u001b[0m\u001b[1;33m+\u001b[0m\u001b[1;36m1\u001b[0m\u001b[1;33m\u001b[0m\u001b[1;33m\u001b[0m\u001b[0m\n\u001b[0m",
      "\u001b[1;31mTypeError\u001b[0m: unsupported operand type(s) for +: 'SparseTensor' and 'int'"
     ]
    }
   ],
   "source": [
    "# 不能做加法\n",
    "s+1"
   ]
  },
  {
   "cell_type": "code",
   "execution_count": 65,
   "id": "54cbdcf4",
   "metadata": {
    "ExecuteTime": {
     "end_time": "2022-05-23T11:28:27.725919Z",
     "start_time": "2022-05-23T11:28:27.711303Z"
    }
   },
   "outputs": [
    {
     "name": "stdout",
     "output_type": "stream",
     "text": [
      "SparseTensor(indices=tf.Tensor(\n",
      "[[0 1]\n",
      " [1 0]\n",
      " [2 3]], shape=(3, 2), dtype=int64), values=tf.Tensor([4 5 6], shape=(3,), dtype=int32), dense_shape=tf.Tensor([3 4], shape=(2,), dtype=int64))\n"
     ]
    }
   ],
   "source": [
    "print(s)"
   ]
  },
  {
   "cell_type": "code",
   "execution_count": 66,
   "id": "b27b35e4",
   "metadata": {
    "ExecuteTime": {
     "end_time": "2022-05-23T11:29:12.652646Z",
     "start_time": "2022-05-23T11:29:12.636182Z"
    }
   },
   "outputs": [
    {
     "data": {
      "text/plain": [
       "<tf.Tensor: shape=(3, 2), dtype=int32, numpy=\n",
       "array([[120, 160],\n",
       "       [ 50, 100],\n",
       "       [420, 480]])>"
      ]
     },
     "execution_count": 66,
     "metadata": {},
     "output_type": "execute_result"
    }
   ],
   "source": [
    "# matmul mtatrix multiply\n",
    "# (3,4)_ (4,x)\n",
    "ss = tf.constant([[10, 20],\n",
    "            [30, 40],\n",
    "            [50, 60],\n",
    "            [70, 80]])\n",
    "tf.sparse.sparse_dense_matmul(s,ss)"
   ]
  },
  {
   "cell_type": "code",
   "execution_count": 67,
   "id": "b13fff21",
   "metadata": {
    "ExecuteTime": {
     "end_time": "2022-05-23T11:30:31.048842Z",
     "start_time": "2022-05-23T11:30:31.031873Z"
    }
   },
   "outputs": [],
   "source": [
    "# 定义sparse_tensor的时候, indices最好是有序的.\n",
    "s2 = tf.SparseTensor(indices=[[0, 2], [0, 1], [2, 3]], values=[1, 2, 3], dense_shape=[3, 4])"
   ]
  },
  {
   "cell_type": "code",
   "execution_count": 68,
   "id": "e788c852",
   "metadata": {
    "ExecuteTime": {
     "end_time": "2022-05-23T11:35:16.283624Z",
     "start_time": "2022-05-23T11:35:16.277603Z"
    }
   },
   "outputs": [
    {
     "name": "stdout",
     "output_type": "stream",
     "text": [
      "SparseTensor(indices=tf.Tensor(\n",
      "[[0 2]\n",
      " [0 1]\n",
      " [2 3]], shape=(3, 2), dtype=int64), values=tf.Tensor([1 2 3], shape=(3,), dtype=int32), dense_shape=tf.Tensor([3 4], shape=(2,), dtype=int64))\n"
     ]
    }
   ],
   "source": [
    "print(s2)"
   ]
  },
  {
   "cell_type": "code",
   "execution_count": 69,
   "id": "d9ba3c12",
   "metadata": {
    "ExecuteTime": {
     "end_time": "2022-05-23T11:35:30.530157Z",
     "start_time": "2022-05-23T11:35:30.491203Z"
    }
   },
   "outputs": [
    {
     "ename": "InvalidArgumentError",
     "evalue": "indices[1] = [0,1] is out of order. Many sparse ops require sorted indices.\n    Use `tf.sparse.reorder` to create a correctly ordered copy.\n\n [Op:SparseToDense]",
     "output_type": "error",
     "traceback": [
      "\u001b[1;31m---------------------------------------------------------------------------\u001b[0m",
      "\u001b[1;31mInvalidArgumentError\u001b[0m                      Traceback (most recent call last)",
      "\u001b[1;32mC:\\Users\\ADMINI~1\\AppData\\Local\\Temp/ipykernel_14652/3795375640.py\u001b[0m in \u001b[0;36m<module>\u001b[1;34m\u001b[0m\n\u001b[0;32m      1\u001b[0m \u001b[1;31m# 转化成稠密矩阵\u001b[0m\u001b[1;33m\u001b[0m\u001b[1;33m\u001b[0m\u001b[0m\n\u001b[1;32m----> 2\u001b[1;33m \u001b[0mtf\u001b[0m\u001b[1;33m.\u001b[0m\u001b[0msparse\u001b[0m\u001b[1;33m.\u001b[0m\u001b[0mto_dense\u001b[0m\u001b[1;33m(\u001b[0m\u001b[0ms2\u001b[0m\u001b[1;33m)\u001b[0m\u001b[1;33m\u001b[0m\u001b[1;33m\u001b[0m\u001b[0m\n\u001b[0m",
      "\u001b[1;32mC:\\ProgramData\\Anaconda3\\lib\\site-packages\\tensorflow\\python\\ops\\sparse_ops.py\u001b[0m in \u001b[0;36msparse_tensor_to_dense\u001b[1;34m(sp_input, default_value, validate_indices, name)\u001b[0m\n\u001b[0;32m   1709\u001b[0m     \u001b[0mdefault_value\u001b[0m \u001b[1;33m=\u001b[0m \u001b[0marray_ops\u001b[0m\u001b[1;33m.\u001b[0m\u001b[0mzeros\u001b[0m\u001b[1;33m(\u001b[0m\u001b[1;33m[\u001b[0m\u001b[1;33m]\u001b[0m\u001b[1;33m,\u001b[0m \u001b[0mdtype\u001b[0m\u001b[1;33m=\u001b[0m\u001b[0msp_input\u001b[0m\u001b[1;33m.\u001b[0m\u001b[0mdtype\u001b[0m\u001b[1;33m)\u001b[0m\u001b[1;33m\u001b[0m\u001b[1;33m\u001b[0m\u001b[0m\n\u001b[0;32m   1710\u001b[0m \u001b[1;33m\u001b[0m\u001b[0m\n\u001b[1;32m-> 1711\u001b[1;33m   return gen_sparse_ops.sparse_to_dense(\n\u001b[0m\u001b[0;32m   1712\u001b[0m       \u001b[0msp_input\u001b[0m\u001b[1;33m.\u001b[0m\u001b[0mindices\u001b[0m\u001b[1;33m,\u001b[0m\u001b[1;33m\u001b[0m\u001b[1;33m\u001b[0m\u001b[0m\n\u001b[0;32m   1713\u001b[0m       \u001b[0msp_input\u001b[0m\u001b[1;33m.\u001b[0m\u001b[0mdense_shape\u001b[0m\u001b[1;33m,\u001b[0m\u001b[1;33m\u001b[0m\u001b[1;33m\u001b[0m\u001b[0m\n",
      "\u001b[1;32mC:\\ProgramData\\Anaconda3\\lib\\site-packages\\tensorflow\\python\\ops\\gen_sparse_ops.py\u001b[0m in \u001b[0;36msparse_to_dense\u001b[1;34m(sparse_indices, output_shape, sparse_values, default_value, validate_indices, name)\u001b[0m\n\u001b[0;32m   3159\u001b[0m       \u001b[1;32mreturn\u001b[0m \u001b[0m_result\u001b[0m\u001b[1;33m\u001b[0m\u001b[1;33m\u001b[0m\u001b[0m\n\u001b[0;32m   3160\u001b[0m     \u001b[1;32mexcept\u001b[0m \u001b[0m_core\u001b[0m\u001b[1;33m.\u001b[0m\u001b[0m_NotOkStatusException\u001b[0m \u001b[1;32mas\u001b[0m \u001b[0me\u001b[0m\u001b[1;33m:\u001b[0m\u001b[1;33m\u001b[0m\u001b[1;33m\u001b[0m\u001b[0m\n\u001b[1;32m-> 3161\u001b[1;33m       \u001b[0m_ops\u001b[0m\u001b[1;33m.\u001b[0m\u001b[0mraise_from_not_ok_status\u001b[0m\u001b[1;33m(\u001b[0m\u001b[0me\u001b[0m\u001b[1;33m,\u001b[0m \u001b[0mname\u001b[0m\u001b[1;33m)\u001b[0m\u001b[1;33m\u001b[0m\u001b[1;33m\u001b[0m\u001b[0m\n\u001b[0m\u001b[0;32m   3162\u001b[0m     \u001b[1;32mexcept\u001b[0m \u001b[0m_core\u001b[0m\u001b[1;33m.\u001b[0m\u001b[0m_FallbackException\u001b[0m\u001b[1;33m:\u001b[0m\u001b[1;33m\u001b[0m\u001b[1;33m\u001b[0m\u001b[0m\n\u001b[0;32m   3163\u001b[0m       \u001b[1;32mpass\u001b[0m\u001b[1;33m\u001b[0m\u001b[1;33m\u001b[0m\u001b[0m\n",
      "\u001b[1;32mC:\\ProgramData\\Anaconda3\\lib\\site-packages\\tensorflow\\python\\framework\\ops.py\u001b[0m in \u001b[0;36mraise_from_not_ok_status\u001b[1;34m(e, name)\u001b[0m\n\u001b[0;32m   7162\u001b[0m \u001b[1;32mdef\u001b[0m \u001b[0mraise_from_not_ok_status\u001b[0m\u001b[1;33m(\u001b[0m\u001b[0me\u001b[0m\u001b[1;33m,\u001b[0m \u001b[0mname\u001b[0m\u001b[1;33m)\u001b[0m\u001b[1;33m:\u001b[0m\u001b[1;33m\u001b[0m\u001b[1;33m\u001b[0m\u001b[0m\n\u001b[0;32m   7163\u001b[0m   \u001b[0me\u001b[0m\u001b[1;33m.\u001b[0m\u001b[0mmessage\u001b[0m \u001b[1;33m+=\u001b[0m \u001b[1;33m(\u001b[0m\u001b[1;34m\" name: \"\u001b[0m \u001b[1;33m+\u001b[0m \u001b[0mname\u001b[0m \u001b[1;32mif\u001b[0m \u001b[0mname\u001b[0m \u001b[1;32mis\u001b[0m \u001b[1;32mnot\u001b[0m \u001b[1;32mNone\u001b[0m \u001b[1;32melse\u001b[0m \u001b[1;34m\"\"\u001b[0m\u001b[1;33m)\u001b[0m\u001b[1;33m\u001b[0m\u001b[1;33m\u001b[0m\u001b[0m\n\u001b[1;32m-> 7164\u001b[1;33m   \u001b[1;32mraise\u001b[0m \u001b[0mcore\u001b[0m\u001b[1;33m.\u001b[0m\u001b[0m_status_to_exception\u001b[0m\u001b[1;33m(\u001b[0m\u001b[0me\u001b[0m\u001b[1;33m)\u001b[0m \u001b[1;32mfrom\u001b[0m \u001b[1;32mNone\u001b[0m  \u001b[1;31m# pylint: disable=protected-access\u001b[0m\u001b[1;33m\u001b[0m\u001b[1;33m\u001b[0m\u001b[0m\n\u001b[0m\u001b[0;32m   7165\u001b[0m \u001b[1;33m\u001b[0m\u001b[0m\n\u001b[0;32m   7166\u001b[0m \u001b[1;33m\u001b[0m\u001b[0m\n",
      "\u001b[1;31mInvalidArgumentError\u001b[0m: indices[1] = [0,1] is out of order. Many sparse ops require sorted indices.\n    Use `tf.sparse.reorder` to create a correctly ordered copy.\n\n [Op:SparseToDense]"
     ]
    }
   ],
   "source": [
    "# 转化成稠密矩阵\n",
    "tf.sparse.to_dense(s2)"
   ]
  },
  {
   "cell_type": "code",
   "execution_count": 70,
   "id": "7c96c4b8",
   "metadata": {
    "ExecuteTime": {
     "end_time": "2022-05-23T11:36:49.483352Z",
     "start_time": "2022-05-23T11:36:49.459574Z"
    }
   },
   "outputs": [],
   "source": [
    "# 可以通过reorder对稀疏tensor重新排序.\n",
    "s3 = tf.sparse.reorder(s2)"
   ]
  },
  {
   "cell_type": "code",
   "execution_count": 71,
   "id": "713516a1",
   "metadata": {
    "ExecuteTime": {
     "end_time": "2022-05-23T11:36:57.778795Z",
     "start_time": "2022-05-23T11:36:57.767809Z"
    }
   },
   "outputs": [
    {
     "data": {
      "text/plain": [
       "<tf.Tensor: shape=(3, 4), dtype=int32, numpy=\n",
       "array([[0, 2, 1, 0],\n",
       "       [0, 0, 0, 0],\n",
       "       [0, 0, 0, 3]])>"
      ]
     },
     "execution_count": 71,
     "metadata": {},
     "output_type": "execute_result"
    }
   ],
   "source": [
    "tf.sparse.to_dense(s3)"
   ]
  },
  {
   "cell_type": "markdown",
   "id": "e258fc3c",
   "metadata": {},
   "source": [
    "# 变量"
   ]
  },
  {
   "cell_type": "code",
   "execution_count": 72,
   "id": "7ecebe78",
   "metadata": {
    "ExecuteTime": {
     "end_time": "2022-05-23T11:40:57.879070Z",
     "start_time": "2022-05-23T11:40:57.860086Z"
    }
   },
   "outputs": [
    {
     "data": {
      "text/plain": [
       "<tf.Variable 'Variable:0' shape=(2, 3) dtype=int32, numpy=\n",
       "array([[1, 2, 3],\n",
       "       [4, 5, 6]])>"
      ]
     },
     "execution_count": 72,
     "metadata": {},
     "output_type": "execute_result"
    }
   ],
   "source": [
    "# 变量即内部的值可以变化. 比如神经网络中要学习的w,b就是变量. \n",
    "# tf.Variable来定义即可.\n",
    "v = tf.Variable([[1, 2, 3], [4, 5, 6]])\n",
    "v"
   ]
  },
  {
   "cell_type": "code",
   "execution_count": 73,
   "id": "59d96ed2",
   "metadata": {
    "ExecuteTime": {
     "end_time": "2022-05-23T11:43:02.407851Z",
     "start_time": "2022-05-23T11:43:02.389564Z"
    }
   },
   "outputs": [
    {
     "data": {
      "text/plain": [
       "array([[1, 2, 3],\n",
       "       [4, 5, 6]])"
      ]
     },
     "execution_count": 73,
     "metadata": {},
     "output_type": "execute_result"
    }
   ],
   "source": [
    "# 返回的是ndarray\n",
    "v.numpy()"
   ]
  },
  {
   "cell_type": "code",
   "execution_count": 74,
   "id": "296be51c",
   "metadata": {
    "ExecuteTime": {
     "end_time": "2022-05-23T11:44:05.385923Z",
     "start_time": "2022-05-23T11:44:05.380862Z"
    }
   },
   "outputs": [
    {
     "data": {
      "text/plain": [
       "<tf.Tensor: shape=(2, 3), dtype=int32, numpy=\n",
       "array([[1, 2, 3],\n",
       "       [4, 5, 6]])>"
      ]
     },
     "execution_count": 74,
     "metadata": {},
     "output_type": "execute_result"
    }
   ],
   "source": [
    "# 返回的是变量的值创建的tensor\n",
    "v.value()"
   ]
  },
  {
   "cell_type": "code",
   "execution_count": 75,
   "id": "98ecb176",
   "metadata": {
    "ExecuteTime": {
     "end_time": "2022-05-23T11:44:17.583790Z",
     "start_time": "2022-05-23T11:44:17.575306Z"
    }
   },
   "outputs": [
    {
     "data": {
      "text/plain": [
       "<tf.Variable 'Variable:0' shape=(2, 3) dtype=int32, numpy=\n",
       "array([[1, 2, 3],\n",
       "       [4, 5, 6]])>"
      ]
     },
     "execution_count": 75,
     "metadata": {},
     "output_type": "execute_result"
    }
   ],
   "source": [
    "v"
   ]
  },
  {
   "cell_type": "code",
   "execution_count": 77,
   "id": "5e1a0f66",
   "metadata": {
    "ExecuteTime": {
     "end_time": "2022-05-23T11:44:58.112542Z",
     "start_time": "2022-05-23T11:44:58.088564Z"
    }
   },
   "outputs": [
    {
     "ename": "TypeError",
     "evalue": "'ResourceVariable' object does not support item assignment",
     "output_type": "error",
     "traceback": [
      "\u001b[1;31m---------------------------------------------------------------------------\u001b[0m",
      "\u001b[1;31mTypeError\u001b[0m                                 Traceback (most recent call last)",
      "\u001b[1;32mC:\\Users\\ADMINI~1\\AppData\\Local\\Temp/ipykernel_14652/3025370560.py\u001b[0m in \u001b[0;36m<module>\u001b[1;34m\u001b[0m\n\u001b[1;32m----> 1\u001b[1;33m \u001b[0mv\u001b[0m\u001b[1;33m[\u001b[0m\u001b[1;36m0\u001b[0m\u001b[1;33m,\u001b[0m \u001b[1;36m1\u001b[0m\u001b[1;33m]\u001b[0m \u001b[1;33m=\u001b[0m \u001b[1;36m44\u001b[0m\u001b[1;33m\u001b[0m\u001b[1;33m\u001b[0m\u001b[0m\n\u001b[0m",
      "\u001b[1;31mTypeError\u001b[0m: 'ResourceVariable' object does not support item assignment"
     ]
    }
   ],
   "source": [
    "v[0, 1] = 44"
   ]
  },
  {
   "cell_type": "code",
   "execution_count": 78,
   "id": "c42b8f58",
   "metadata": {
    "ExecuteTime": {
     "end_time": "2022-05-23T11:46:14.833285Z",
     "start_time": "2022-05-23T11:46:14.814299Z"
    }
   },
   "outputs": [
    {
     "data": {
      "text/plain": [
       "<tf.Variable 'UnreadVariable' shape=(2, 3) dtype=int32, numpy=\n",
       "array([[ 1, 44,  3],\n",
       "       [ 4,  5,  6]])>"
      ]
     },
     "execution_count": 78,
     "metadata": {},
     "output_type": "execute_result"
    }
   ],
   "source": [
    "# 变量的赋值必须通过assign方法\n",
    "v[0, 1].assign(44)"
   ]
  },
  {
   "cell_type": "code",
   "execution_count": 79,
   "id": "a805a413",
   "metadata": {
    "ExecuteTime": {
     "end_time": "2022-05-23T11:46:34.711019Z",
     "start_time": "2022-05-23T11:46:34.705000Z"
    }
   },
   "outputs": [
    {
     "data": {
      "text/plain": [
       "<tf.Variable 'UnreadVariable' shape=(2, 3) dtype=int32, numpy=\n",
       "array([[ 1, 44,  3],\n",
       "       [ 7,  8,  9]])>"
      ]
     },
     "execution_count": 79,
     "metadata": {},
     "output_type": "execute_result"
    }
   ],
   "source": [
    "v[1].assign([7, 8, 9])"
   ]
  },
  {
   "cell_type": "code",
   "execution_count": null,
   "id": "89e3d124",
   "metadata": {},
   "outputs": [],
   "source": [
    "# 变量赋值不能用=, 必须用assign"
   ]
  },
  {
   "cell_type": "code",
   "execution_count": null,
   "id": "3815408e",
   "metadata": {},
   "outputs": [],
   "source": [
    "# tf2.0只有常量和变量. "
   ]
  },
  {
   "cell_type": "markdown",
   "id": "a39cc0aa",
   "metadata": {},
   "source": [
    "# ensorflow数学运算"
   ]
  },
  {
   "cell_type": "code",
   "execution_count": null,
   "id": "a4082b5e",
   "metadata": {},
   "outputs": [],
   "source": [
    "# 有两种方式: 一种直接用python的算术运算符即可. 另一种使用tensorflow封装的数学运算函数."
   ]
  },
  {
   "cell_type": "code",
   "execution_count": 80,
   "id": "ffc6b3dc",
   "metadata": {
    "ExecuteTime": {
     "end_time": "2022-05-23T11:52:09.228265Z",
     "start_time": "2022-05-23T11:52:09.211779Z"
    }
   },
   "outputs": [],
   "source": [
    "a = tf.constant(2)\n",
    "b = tf.constant(3)\n",
    "c = tf.constant(5)"
   ]
  },
  {
   "cell_type": "code",
   "execution_count": 81,
   "id": "4c17b712",
   "metadata": {
    "ExecuteTime": {
     "end_time": "2022-05-23T11:52:17.997191Z",
     "start_time": "2022-05-23T11:52:17.981204Z"
    }
   },
   "outputs": [
    {
     "data": {
      "text/plain": [
       "<tf.Tensor: shape=(), dtype=int32, numpy=5>"
      ]
     },
     "execution_count": 81,
     "metadata": {},
     "output_type": "execute_result"
    }
   ],
   "source": [
    "a+b"
   ]
  },
  {
   "cell_type": "code",
   "execution_count": 82,
   "id": "fd1b6e76",
   "metadata": {
    "ExecuteTime": {
     "end_time": "2022-05-23T11:52:32.673886Z",
     "start_time": "2022-05-23T11:52:32.648372Z"
    }
   },
   "outputs": [
    {
     "data": {
      "text/plain": [
       "<tf.Tensor: shape=(), dtype=int32, numpy=-1>"
      ]
     },
     "execution_count": 82,
     "metadata": {},
     "output_type": "execute_result"
    }
   ],
   "source": [
    "a - b"
   ]
  },
  {
   "cell_type": "code",
   "execution_count": 83,
   "id": "6f47229e",
   "metadata": {
    "ExecuteTime": {
     "end_time": "2022-05-23T11:54:16.900793Z",
     "start_time": "2022-05-23T11:54:16.889823Z"
    }
   },
   "outputs": [
    {
     "data": {
      "text/plain": [
       "<tf.Tensor: shape=(), dtype=float64, numpy=0.6666666666666666>"
      ]
     },
     "execution_count": 83,
     "metadata": {},
     "output_type": "execute_result"
    }
   ],
   "source": [
    "# tensorflow内部的运算函数\n",
    "tf.add(a, b)\n",
    "tf.subtract(a, b)\n",
    "tf.multiply(a, b)\n",
    "tf.divide(a, b)"
   ]
  },
  {
   "cell_type": "code",
   "execution_count": 84,
   "id": "3d240733",
   "metadata": {
    "ExecuteTime": {
     "end_time": "2022-05-23T11:54:42.646250Z",
     "start_time": "2022-05-23T11:54:42.637274Z"
    }
   },
   "outputs": [
    {
     "data": {
      "text/plain": [
       "array([[2, 9, 5, 4],\n",
       "       [1, 3, 5, 9],\n",
       "       [6, 4, 2, 9]])"
      ]
     },
     "execution_count": 84,
     "metadata": {},
     "output_type": "execute_result"
    }
   ],
   "source": [
    "n = np.random.randint(0, 10, size=(3, 4))\n",
    "n"
   ]
  },
  {
   "cell_type": "code",
   "execution_count": 85,
   "id": "2236bd93",
   "metadata": {
    "ExecuteTime": {
     "end_time": "2022-05-23T11:55:35.717014Z",
     "start_time": "2022-05-23T11:55:35.700062Z"
    }
   },
   "outputs": [
    {
     "data": {
      "text/plain": [
       "array([ 9, 16, 12, 22])"
      ]
     },
     "execution_count": 85,
     "metadata": {},
     "output_type": "execute_result"
    }
   ],
   "source": [
    "n.sum(axis=0)"
   ]
  },
  {
   "cell_type": "code",
   "execution_count": 86,
   "id": "5d115705",
   "metadata": {
    "ExecuteTime": {
     "end_time": "2022-05-23T12:08:58.517448Z",
     "start_time": "2022-05-23T12:08:58.502489Z"
    }
   },
   "outputs": [
    {
     "data": {
      "text/plain": [
       "<tf.Tensor: shape=(), dtype=int32, numpy=59>"
      ]
     },
     "execution_count": 86,
     "metadata": {},
     "output_type": "execute_result"
    }
   ],
   "source": [
    "# tensorflow的聚合运算, 都会reduce\n",
    "# tensorflow中的聚合和numpy是一样, 不指定axis, 会把所有的维度聚掉. \n",
    "tf.reduce_sum(n)"
   ]
  },
  {
   "cell_type": "code",
   "execution_count": 87,
   "id": "b3873487",
   "metadata": {
    "ExecuteTime": {
     "end_time": "2022-05-23T12:10:26.413486Z",
     "start_time": "2022-05-23T12:10:26.398527Z"
    }
   },
   "outputs": [
    {
     "data": {
      "text/plain": [
       "array([20, 18, 21])"
      ]
     },
     "execution_count": 87,
     "metadata": {},
     "output_type": "execute_result"
    }
   ],
   "source": [
    "n.sum(axis=1)"
   ]
  },
  {
   "cell_type": "code",
   "execution_count": 88,
   "id": "489d693d",
   "metadata": {
    "ExecuteTime": {
     "end_time": "2022-05-23T12:11:06.325927Z",
     "start_time": "2022-05-23T12:11:06.301643Z"
    }
   },
   "outputs": [
    {
     "data": {
      "text/plain": [
       "<tf.Tensor: shape=(4,), dtype=int32, numpy=array([ 9, 16, 12, 22])>"
      ]
     },
     "execution_count": 88,
     "metadata": {},
     "output_type": "execute_result"
    }
   ],
   "source": [
    "tf.reduce_sum(n, axis=0)"
   ]
  },
  {
   "cell_type": "code",
   "execution_count": 89,
   "id": "7ecc057a",
   "metadata": {
    "ExecuteTime": {
     "end_time": "2022-05-23T12:15:16.830460Z",
     "start_time": "2022-05-23T12:15:16.812462Z"
    }
   },
   "outputs": [
    {
     "data": {
      "text/plain": [
       "array([20, 18, 21])"
      ]
     },
     "execution_count": 89,
     "metadata": {},
     "output_type": "execute_result"
    }
   ],
   "source": [
    "tf.reduce_sum(n,axis=1).numpy()"
   ]
  },
  {
   "cell_type": "code",
   "execution_count": 90,
   "id": "7af4d6c7",
   "metadata": {
    "ExecuteTime": {
     "end_time": "2022-05-23T12:22:18.793134Z",
     "start_time": "2022-05-23T12:22:18.779173Z"
    }
   },
   "outputs": [
    {
     "data": {
      "text/plain": [
       "<tf.Tensor: shape=(3, 4), dtype=int32, numpy=\n",
       "array([[ 97,  72, 133,  31],\n",
       "       [ 53,  47,  40,  12],\n",
       "       [136,  76, 161,  71]])>"
      ]
     },
     "execution_count": 90,
     "metadata": {},
     "output_type": "execute_result"
    }
   ],
   "source": [
    "# 矩阵的乘法.\n",
    "x = np.random.randint(0, 10, size=(3, 5))\n",
    "y = np.random.randint(0, 10, size=(5, 4))\n",
    "# matrix multiply 矩阵乘法, 即点乘\n",
    "tf.matmul(x, y)"
   ]
  },
  {
   "cell_type": "code",
   "execution_count": 91,
   "id": "d2df2c2a",
   "metadata": {
    "ExecuteTime": {
     "end_time": "2022-05-23T12:31:17.477219Z",
     "start_time": "2022-05-23T12:31:17.454148Z"
    }
   },
   "outputs": [
    {
     "data": {
      "text/plain": [
       "array([[ 97,  72, 133,  31],\n",
       "       [ 53,  47,  40,  12],\n",
       "       [136,  76, 161,  71]])"
      ]
     },
     "execution_count": 91,
     "metadata": {},
     "output_type": "execute_result"
    }
   ],
   "source": [
    "# 矩阵乘法的简写\n",
    "x @ y"
   ]
  },
  {
   "cell_type": "code",
   "execution_count": 92,
   "id": "ff696dcb",
   "metadata": {
    "ExecuteTime": {
     "end_time": "2022-05-23T12:32:44.863452Z",
     "start_time": "2022-05-23T12:32:44.845469Z"
    }
   },
   "outputs": [
    {
     "data": {
      "text/plain": [
       "array([[ 97,  72, 133,  31],\n",
       "       [ 53,  47,  40,  12],\n",
       "       [136,  76, 161,  71]])"
      ]
     },
     "execution_count": 92,
     "metadata": {},
     "output_type": "execute_result"
    }
   ],
   "source": [
    "x.dot(y)"
   ]
  },
  {
   "cell_type": "code",
   "execution_count": 93,
   "id": "d8ebfc81",
   "metadata": {
    "ExecuteTime": {
     "end_time": "2022-05-23T12:35:26.845531Z",
     "start_time": "2022-05-23T12:35:26.827464Z"
    }
   },
   "outputs": [
    {
     "data": {
      "text/plain": [
       "<tf.Tensor: shape=(3, 4), dtype=int32, numpy=\n",
       "array([[ 97,  72, 133,  31],\n",
       "       [ 53,  47,  40,  12],\n",
       "       [136,  76, 161,  71]])>"
      ]
     },
     "execution_count": 93,
     "metadata": {},
     "output_type": "execute_result"
    }
   ],
   "source": [
    "# @符号表示矩阵的点乘, 在tensorflow中和numpy中是通用.\n",
    "tf.constant(x) @ tf.constant(y)"
   ]
  },
  {
   "cell_type": "code",
   "execution_count": null,
   "id": "fe3c3ecb",
   "metadata": {},
   "outputs": [],
   "source": [
    "# 没有tf.dot\n",
    "tf.dot()"
   ]
  },
  {
   "cell_type": "code",
   "execution_count": 94,
   "id": "d834261c",
   "metadata": {
    "ExecuteTime": {
     "end_time": "2022-05-23T12:37:32.754000Z",
     "start_time": "2022-05-23T12:37:32.720037Z"
    }
   },
   "outputs": [
    {
     "ename": "InvalidArgumentError",
     "evalue": "Incompatible shapes: [3,5] vs. [5,4] [Op:Mul]",
     "output_type": "error",
     "traceback": [
      "\u001b[1;31m---------------------------------------------------------------------------\u001b[0m",
      "\u001b[1;31mInvalidArgumentError\u001b[0m                      Traceback (most recent call last)",
      "\u001b[1;32mC:\\Users\\ADMINI~1\\AppData\\Local\\Temp/ipykernel_14652/4228419319.py\u001b[0m in \u001b[0;36m<module>\u001b[1;34m\u001b[0m\n\u001b[0;32m      2\u001b[0m \u001b[0my\u001b[0m \u001b[1;33m=\u001b[0m \u001b[0mnp\u001b[0m\u001b[1;33m.\u001b[0m\u001b[0mrandom\u001b[0m\u001b[1;33m.\u001b[0m\u001b[0mrandint\u001b[0m\u001b[1;33m(\u001b[0m\u001b[1;36m0\u001b[0m\u001b[1;33m,\u001b[0m \u001b[1;36m10\u001b[0m\u001b[1;33m,\u001b[0m \u001b[0msize\u001b[0m\u001b[1;33m=\u001b[0m\u001b[1;33m(\u001b[0m\u001b[1;36m5\u001b[0m\u001b[1;33m,\u001b[0m \u001b[1;36m4\u001b[0m\u001b[1;33m)\u001b[0m\u001b[1;33m)\u001b[0m\u001b[1;33m\u001b[0m\u001b[1;33m\u001b[0m\u001b[0m\n\u001b[0;32m      3\u001b[0m \u001b[1;31m# multiply是普通乘法, 矩阵和矩阵之间是对应位置的元素相乘. 这样的话就要求相乘的矩阵的shape必须一致.\u001b[0m\u001b[1;33m\u001b[0m\u001b[1;33m\u001b[0m\u001b[0m\n\u001b[1;32m----> 4\u001b[1;33m \u001b[0mtf\u001b[0m\u001b[1;33m.\u001b[0m\u001b[0mmultiply\u001b[0m\u001b[1;33m(\u001b[0m\u001b[0mx\u001b[0m\u001b[1;33m,\u001b[0m \u001b[0my\u001b[0m\u001b[1;33m)\u001b[0m\u001b[1;33m\u001b[0m\u001b[1;33m\u001b[0m\u001b[0m\n\u001b[0m",
      "\u001b[1;32mC:\\ProgramData\\Anaconda3\\lib\\site-packages\\tensorflow\\python\\util\\traceback_utils.py\u001b[0m in \u001b[0;36merror_handler\u001b[1;34m(*args, **kwargs)\u001b[0m\n\u001b[0;32m    151\u001b[0m     \u001b[1;32mexcept\u001b[0m \u001b[0mException\u001b[0m \u001b[1;32mas\u001b[0m \u001b[0me\u001b[0m\u001b[1;33m:\u001b[0m\u001b[1;33m\u001b[0m\u001b[1;33m\u001b[0m\u001b[0m\n\u001b[0;32m    152\u001b[0m       \u001b[0mfiltered_tb\u001b[0m \u001b[1;33m=\u001b[0m \u001b[0m_process_traceback_frames\u001b[0m\u001b[1;33m(\u001b[0m\u001b[0me\u001b[0m\u001b[1;33m.\u001b[0m\u001b[0m__traceback__\u001b[0m\u001b[1;33m)\u001b[0m\u001b[1;33m\u001b[0m\u001b[1;33m\u001b[0m\u001b[0m\n\u001b[1;32m--> 153\u001b[1;33m       \u001b[1;32mraise\u001b[0m \u001b[0me\u001b[0m\u001b[1;33m.\u001b[0m\u001b[0mwith_traceback\u001b[0m\u001b[1;33m(\u001b[0m\u001b[0mfiltered_tb\u001b[0m\u001b[1;33m)\u001b[0m \u001b[1;32mfrom\u001b[0m \u001b[1;32mNone\u001b[0m\u001b[1;33m\u001b[0m\u001b[1;33m\u001b[0m\u001b[0m\n\u001b[0m\u001b[0;32m    154\u001b[0m     \u001b[1;32mfinally\u001b[0m\u001b[1;33m:\u001b[0m\u001b[1;33m\u001b[0m\u001b[1;33m\u001b[0m\u001b[0m\n\u001b[0;32m    155\u001b[0m       \u001b[1;32mdel\u001b[0m \u001b[0mfiltered_tb\u001b[0m\u001b[1;33m\u001b[0m\u001b[1;33m\u001b[0m\u001b[0m\n",
      "\u001b[1;32mC:\\ProgramData\\Anaconda3\\lib\\site-packages\\tensorflow\\python\\framework\\ops.py\u001b[0m in \u001b[0;36mraise_from_not_ok_status\u001b[1;34m(e, name)\u001b[0m\n\u001b[0;32m   7162\u001b[0m \u001b[1;32mdef\u001b[0m \u001b[0mraise_from_not_ok_status\u001b[0m\u001b[1;33m(\u001b[0m\u001b[0me\u001b[0m\u001b[1;33m,\u001b[0m \u001b[0mname\u001b[0m\u001b[1;33m)\u001b[0m\u001b[1;33m:\u001b[0m\u001b[1;33m\u001b[0m\u001b[1;33m\u001b[0m\u001b[0m\n\u001b[0;32m   7163\u001b[0m   \u001b[0me\u001b[0m\u001b[1;33m.\u001b[0m\u001b[0mmessage\u001b[0m \u001b[1;33m+=\u001b[0m \u001b[1;33m(\u001b[0m\u001b[1;34m\" name: \"\u001b[0m \u001b[1;33m+\u001b[0m \u001b[0mname\u001b[0m \u001b[1;32mif\u001b[0m \u001b[0mname\u001b[0m \u001b[1;32mis\u001b[0m \u001b[1;32mnot\u001b[0m \u001b[1;32mNone\u001b[0m \u001b[1;32melse\u001b[0m \u001b[1;34m\"\"\u001b[0m\u001b[1;33m)\u001b[0m\u001b[1;33m\u001b[0m\u001b[1;33m\u001b[0m\u001b[0m\n\u001b[1;32m-> 7164\u001b[1;33m   \u001b[1;32mraise\u001b[0m \u001b[0mcore\u001b[0m\u001b[1;33m.\u001b[0m\u001b[0m_status_to_exception\u001b[0m\u001b[1;33m(\u001b[0m\u001b[0me\u001b[0m\u001b[1;33m)\u001b[0m \u001b[1;32mfrom\u001b[0m \u001b[1;32mNone\u001b[0m  \u001b[1;31m# pylint: disable=protected-access\u001b[0m\u001b[1;33m\u001b[0m\u001b[1;33m\u001b[0m\u001b[0m\n\u001b[0m\u001b[0;32m   7165\u001b[0m \u001b[1;33m\u001b[0m\u001b[0m\n\u001b[0;32m   7166\u001b[0m \u001b[1;33m\u001b[0m\u001b[0m\n",
      "\u001b[1;31mInvalidArgumentError\u001b[0m: Incompatible shapes: [3,5] vs. [5,4] [Op:Mul]"
     ]
    }
   ],
   "source": [
    "x = np.random.randint(0, 10, size=(3, 5))\n",
    "y = np.random.randint(0, 10, size=(5, 4))\n",
    "# multiply是普通乘法, 矩阵和矩阵之间是对应位置的元素相乘. 这样的话就要求相乘的矩阵的shape必须一致.\n",
    "tf.multiply(x, y)"
   ]
  },
  {
   "cell_type": "markdown",
   "id": "08095d76",
   "metadata": {},
   "source": [
    "# 使用TensorFlow实现线性回归"
   ]
  },
  {
   "cell_type": "code",
   "execution_count": null,
   "id": "1e4190ae",
   "metadata": {},
   "outputs": [],
   "source": [
    "# 实现一个算法从以下三步入手:\n",
    "1. 找到算法的预测函数. y = wx + b\n",
    "2. 找到算法的损失函数. 最小二乘法  \n",
    "3. 使用梯度下降求损失最小的时候的参数"
   ]
  },
  {
   "cell_type": "code",
   "execution_count": 95,
   "id": "e22db994",
   "metadata": {
    "ExecuteTime": {
     "end_time": "2022-05-23T13:05:28.917661Z",
     "start_time": "2022-05-23T13:05:28.658344Z"
    }
   },
   "outputs": [],
   "source": [
    "import matplotlib.pyplot as plt"
   ]
  },
  {
   "cell_type": "code",
   "execution_count": 97,
   "id": "11e6aace",
   "metadata": {
    "ExecuteTime": {
     "end_time": "2022-05-23T13:05:57.838097Z",
     "start_time": "2022-05-23T13:05:57.619829Z"
    }
   },
   "outputs": [
    {
     "data": {
      "text/plain": [
       "<matplotlib.collections.PathCollection at 0x24442420370>"
      ]
     },
     "execution_count": 97,
     "metadata": {},
     "output_type": "execute_result"
    },
    {
     "data": {
      "image/png": "[encoded data removed]",
      "text/plain": [
       "<Figure size 432x288 with 1 Axes>"
      ]
     },
     "metadata": {
      "needs_background": "light"
     },
     "output_type": "display_data"
    }
   ],
   "source": [
    "# 加噪声\n",
    "x = np.linspace(0, 10, 30) + np.random.randn(30)\n",
    "y = np.linspace(0, 10, 30) + np.random.randn(30)\n",
    "plt.scatter(x, y)"
   ]
  },
  {
   "cell_type": "code",
   "execution_count": 98,
   "id": "d956ad6e",
   "metadata": {
    "ExecuteTime": {
     "end_time": "2022-05-23T13:06:20.598084Z",
     "start_time": "2022-05-23T13:06:20.583124Z"
    }
   },
   "outputs": [],
   "source": [
    "from sklearn.linear_model import LinearRegression"
   ]
  },
  {
   "cell_type": "code",
   "execution_count": 99,
   "id": "55b2e367",
   "metadata": {
    "ExecuteTime": {
     "end_time": "2022-05-23T13:07:43.979352Z",
     "start_time": "2022-05-23T13:07:43.959406Z"
    }
   },
   "outputs": [
    {
     "data": {
      "text/plain": [
       "LinearRegression()"
      ]
     },
     "execution_count": 99,
     "metadata": {},
     "output_type": "execute_result"
    }
   ],
   "source": [
    "linear = LinearRegression()\n",
    "linear.fit(x.reshape(-1, 1), y)"
   ]
  },
  {
   "cell_type": "code",
   "execution_count": 100,
   "id": "8265c316",
   "metadata": {
    "ExecuteTime": {
     "end_time": "2022-05-23T13:08:18.582470Z",
     "start_time": "2022-05-23T13:08:18.571992Z"
    }
   },
   "outputs": [
    {
     "data": {
      "text/plain": [
       "array([1.00050069])"
      ]
     },
     "execution_count": 100,
     "metadata": {},
     "output_type": "execute_result"
    }
   ],
   "source": [
    "linear.coef_"
   ]
  },
  {
   "cell_type": "code",
   "execution_count": 101,
   "id": "447d71d8",
   "metadata": {
    "ExecuteTime": {
     "end_time": "2022-05-23T13:08:32.522124Z",
     "start_time": "2022-05-23T13:08:32.514558Z"
    }
   },
   "outputs": [
    {
     "data": {
      "text/plain": [
       "-0.1332743000327108"
      ]
     },
     "execution_count": 101,
     "metadata": {},
     "output_type": "execute_result"
    }
   ],
   "source": [
    "linear.intercept_"
   ]
  },
  {
   "cell_type": "code",
   "execution_count": 102,
   "id": "d215febb",
   "metadata": {
    "ExecuteTime": {
     "end_time": "2022-05-23T13:09:16.471946Z",
     "start_time": "2022-05-23T13:09:16.374207Z"
    }
   },
   "outputs": [
    {
     "data": {
      "text/plain": [
       "[<matplotlib.lines.Line2D at 0x24444cc21f0>]"
      ]
     },
     "execution_count": 102,
     "metadata": {},
     "output_type": "execute_result"
    },
    {
     "data": {
      "image/png": "[encoded data removed]",
      "text/plain": [
       "<Figure size 432x288 with 1 Axes>"
      ]
     },
     "metadata": {
      "needs_background": "light"
     },
     "output_type": "display_data"
    }
   ],
   "source": [
    "plt.scatter(x, y)\n",
    "x_test = np.linspace(0, 10, 30)\n",
    "y_test = linear.coef_[0] * x_test + linear.intercept_\n",
    "plt.plot(x_test, y_test, c='b')"
   ]
  },
  {
   "cell_type": "code",
   "execution_count": 103,
   "id": "e0b01ad1",
   "metadata": {
    "ExecuteTime": {
     "end_time": "2022-05-23T13:09:36.736414Z",
     "start_time": "2022-05-23T13:09:36.717462Z"
    }
   },
   "outputs": [],
   "source": [
    "# 把W, B定义为变量.\n",
    "W = tf.Variable(np.random.randn() * 0.02)\n",
    "B = tf.Variable(0.)"
   ]
  },
  {
   "cell_type": "code",
   "execution_count": 104,
   "id": "b8578bd0",
   "metadata": {
    "ExecuteTime": {
     "end_time": "2022-05-23T13:11:19.261621Z",
     "start_time": "2022-05-23T13:11:19.257122Z"
    }
   },
   "outputs": [],
   "source": [
    "# 定义预测函数\n",
    "def linear_regression(x):\n",
    "    return W * x + B"
   ]
  },
  {
   "cell_type": "code",
   "execution_count": 105,
   "id": "4973ea2f",
   "metadata": {
    "ExecuteTime": {
     "end_time": "2022-05-23T13:11:53.617730Z",
     "start_time": "2022-05-23T13:11:53.610241Z"
    }
   },
   "outputs": [],
   "source": [
    "# 定义损失函数\n",
    "# 最小二乘法\n",
    "def mean_square_loss(y_pred, y_true):\n",
    "    return tf.reduce_mean(tf.square(y_pred - y_true))"
   ]
  },
  {
   "cell_type": "code",
   "execution_count": 106,
   "id": "f2face98",
   "metadata": {
    "ExecuteTime": {
     "end_time": "2022-05-23T13:14:53.341008Z",
     "start_time": "2022-05-23T13:14:53.331526Z"
    }
   },
   "outputs": [],
   "source": [
    "# 优化器, 即梯度下降算法\n",
    "optimizer = tf.optimizers.SGD()"
   ]
  },
  {
   "cell_type": "code",
   "execution_count": 107,
   "id": "d3a12c15",
   "metadata": {
    "ExecuteTime": {
     "end_time": "2022-05-23T13:17:38.442194Z",
     "start_time": "2022-05-23T13:17:38.427213Z"
    }
   },
   "outputs": [],
   "source": [
    "# 定义优化过程\n",
    "def run_optimization():\n",
    "    # 需要把计算过程放在梯度带(GradientTape)中执行, 可以实现自动微分.\n",
    "    with tf.GradientTape() as g:\n",
    "        pred = linear_regression(x)\n",
    "        loss = mean_square_loss(pred, y)\n",
    "        \n",
    "    # 计算梯度\n",
    "    gradients = g.gradient(loss, [W, B])\n",
    "    \n",
    "    # 更新W,B\n",
    "    optimizer.apply_gradients(zip(gradients, [W, B]))\n",
    "    "
   ]
  },
  {
   "cell_type": "code",
   "execution_count": 108,
   "id": "fdcbb200",
   "metadata": {
    "ExecuteTime": {
     "end_time": "2022-05-23T13:19:00.777794Z",
     "start_time": "2022-05-23T13:18:51.758188Z"
    }
   },
   "outputs": [
    {
     "name": "stdout",
     "output_type": "stream",
     "text": [
      "step:1, loss: 4.964095592498779, W: 0.7105724215507507, B:0.09673021733760834\n",
      "step:101, loss: 2.586766481399536, W: 0.9782249927520752, B:0.022029543295502663\n",
      "step:201, loss: 2.5824074745178223, W: 0.9875006675720215, B:-0.042639538645744324\n",
      "step:301, loss: 2.5809226036071777, W: 0.9929139018058777, B:-0.08038017898797989\n",
      "step:401, loss: 2.5804171562194824, W: 0.9960730671882629, B:-0.10240547358989716\n",
      "step:501, loss: 2.580245018005371, W: 0.9979167580604553, B:-0.11525935679674149\n",
      "step:601, loss: 2.580186367034912, W: 0.9989927411079407, B:-0.1227608472108841\n",
      "step:701, loss: 2.5801663398742676, W: 0.9996206760406494, B:-0.12713870406150818\n",
      "step:801, loss: 2.5801594257354736, W: 0.9999870657920837, B:-0.1296936273574829\n",
      "step:901, loss: 2.5801570415496826, W: 1.0002009868621826, B:-0.1311846524477005\n",
      "step:1001, loss: 2.5801565647125244, W: 1.0003257989883423, B:-0.13205476105213165\n",
      "step:1101, loss: 2.580155849456787, W: 1.0003986358642578, B:-0.13256247341632843\n",
      "step:1201, loss: 2.580155849456787, W: 1.000441074371338, B:-0.13285891711711884\n",
      "step:1301, loss: 2.580155611038208, W: 1.000465989112854, B:-0.1330319046974182\n",
      "step:1401, loss: 2.580155849456787, W: 1.0004804134368896, B:-0.13313283026218414\n",
      "step:1501, loss: 2.580156087875366, W: 1.0004888772964478, B:-0.13319174945354462\n",
      "step:1601, loss: 2.580155611038208, W: 1.0004937648773193, B:-0.13322609663009644\n",
      "step:1701, loss: 2.580155611038208, W: 1.0004966259002686, B:-0.13324607908725739\n",
      "step:1801, loss: 2.580155849456787, W: 1.0004982948303223, B:-0.13325773179531097\n",
      "step:1901, loss: 2.580155611038208, W: 1.0004992485046387, B:-0.13326452672481537\n",
      "step:2001, loss: 2.580155849456787, W: 1.0004998445510864, B:-0.13326840102672577\n",
      "step:2101, loss: 2.580155849456787, W: 1.0005000829696655, B:-0.13327057659626007\n",
      "step:2201, loss: 2.580155611038208, W: 1.000500202178955, B:-0.1332714706659317\n",
      "step:2301, loss: 2.580155611038208, W: 1.000500202178955, B:-0.1332714706659317\n",
      "step:2401, loss: 2.580155611038208, W: 1.000500202178955, B:-0.1332714706659317\n",
      "step:2501, loss: 2.580155611038208, W: 1.000500202178955, B:-0.1332714706659317\n",
      "step:2601, loss: 2.580155611038208, W: 1.000500202178955, B:-0.1332714706659317\n",
      "step:2701, loss: 2.580155611038208, W: 1.000500202178955, B:-0.1332714706659317\n",
      "step:2801, loss: 2.580155611038208, W: 1.000500202178955, B:-0.1332714706659317\n",
      "step:2901, loss: 2.580155611038208, W: 1.000500202178955, B:-0.1332714706659317\n",
      "step:3001, loss: 2.580155611038208, W: 1.000500202178955, B:-0.1332714706659317\n",
      "step:3101, loss: 2.580155611038208, W: 1.000500202178955, B:-0.1332714706659317\n",
      "step:3201, loss: 2.580155611038208, W: 1.000500202178955, B:-0.1332714706659317\n",
      "step:3301, loss: 2.580155611038208, W: 1.000500202178955, B:-0.1332714706659317\n",
      "step:3401, loss: 2.580155611038208, W: 1.000500202178955, B:-0.1332714706659317\n",
      "step:3501, loss: 2.580155611038208, W: 1.000500202178955, B:-0.1332714706659317\n",
      "step:3601, loss: 2.580155611038208, W: 1.000500202178955, B:-0.1332714706659317\n",
      "step:3701, loss: 2.580155611038208, W: 1.000500202178955, B:-0.1332714706659317\n",
      "step:3801, loss: 2.580155611038208, W: 1.000500202178955, B:-0.1332714706659317\n",
      "step:3901, loss: 2.580155611038208, W: 1.000500202178955, B:-0.1332714706659317\n",
      "step:4001, loss: 2.580155611038208, W: 1.000500202178955, B:-0.1332714706659317\n",
      "step:4101, loss: 2.580155611038208, W: 1.000500202178955, B:-0.1332714706659317\n",
      "step:4201, loss: 2.580155611038208, W: 1.000500202178955, B:-0.1332714706659317\n",
      "step:4301, loss: 2.580155611038208, W: 1.000500202178955, B:-0.1332714706659317\n",
      "step:4401, loss: 2.580155611038208, W: 1.000500202178955, B:-0.1332714706659317\n",
      "step:4501, loss: 2.580155611038208, W: 1.000500202178955, B:-0.1332714706659317\n",
      "step:4601, loss: 2.580155611038208, W: 1.000500202178955, B:-0.1332714706659317\n",
      "step:4701, loss: 2.580155611038208, W: 1.000500202178955, B:-0.1332714706659317\n",
      "step:4801, loss: 2.580155611038208, W: 1.000500202178955, B:-0.1332714706659317\n",
      "step:4901, loss: 2.580155611038208, W: 1.000500202178955, B:-0.1332714706659317\n"
     ]
    }
   ],
   "source": [
    "# 训练\n",
    "for step in range(5000):\n",
    "    # 调用一次run_optimization就更新一次W,B\n",
    "    run_optimization()\n",
    "    # 展示一下训练过程\n",
    "    # 每100次训练, 输出一下过程\n",
    "    if step % 100 == 0:\n",
    "        pred = linear_regression(x)\n",
    "        loss = mean_square_loss(pred, y)\n",
    "        print(f'step:{step + 1}, loss: {loss}, W: {W.numpy()}, B:{B.numpy()}')"
   ]
  },
  {
   "cell_type": "code",
   "execution_count": 109,
   "id": "eaced08d",
   "metadata": {
    "ExecuteTime": {
     "end_time": "2022-05-23T13:20:24.470794Z",
     "start_time": "2022-05-23T13:20:24.451700Z"
    }
   },
   "outputs": [
    {
     "data": {
      "text/plain": [
       "array([1.00050069])"
      ]
     },
     "execution_count": 109,
     "metadata": {},
     "output_type": "execute_result"
    }
   ],
   "source": [
    "linear.coef_"
   ]
  },
  {
   "cell_type": "code",
   "execution_count": 110,
   "id": "92bc0647",
   "metadata": {
    "ExecuteTime": {
     "end_time": "2022-05-23T13:20:33.230117Z",
     "start_time": "2022-05-23T13:20:33.215423Z"
    }
   },
   "outputs": [
    {
     "data": {
      "text/plain": [
       "-0.1332743000327108"
      ]
     },
     "execution_count": 110,
     "metadata": {},
     "output_type": "execute_result"
    }
   ],
   "source": [
    "linear.intercept_"
   ]
  },
  {
   "cell_type": "code",
   "execution_count": null,
   "id": "875dc402",
   "metadata": {},
   "outputs": [],
   "source": []
  }
 ],
 "metadata": {
  "hide_input": false,
  "kernelspec": {
   "display_name": "Python 3 (ipykernel)",
   "language": "python",
   "name": "python3"
  },
  "language_info": {
   "codemirror_mode": {
    "name": "ipython",
    "version": 3
   },
   "file_extension": ".py",
   "mimetype": "text/x-python",
   "name": "python",
   "nbconvert_exporter": "python",
   "pygments_lexer": "ipython3",
   "version": "3.9.7"
  },
  "latex_envs": {
   "LaTeX_envs_menu_present": true,
   "autoclose": false,
   "autocomplete": true,
   "bibliofile": "biblio.bib",
   "cite_by": "apalike",
   "current_citInitial": 1,
   "eqLabelWithNumbers": true,
   "eqNumInitial": 1,
   "hotkeys": {
    "equation": "Ctrl-E",
    "itemize": "Ctrl-I"
   },
   "labels_anchors": false,
   "latex_user_defs": false,
   "report_style_numbering": false,
   "user_envs_cfg": false
  },
  "nbTranslate": {
   "displayLangs": [
    "*"
   ],
   "hotkey": "alt-t",
   "langInMainMenu": true,
   "sourceLang": "en",
   "targetLang": "fr",
   "useGoogleTranslate": true
  },
  "toc": {
   "base_numbering": 1,
   "nav_menu": {},
   "number_sections": true,
   "sideBar": true,
   "skip_h1_title": false,
   "title_cell": "Table of Contents",
   "title_sidebar": "Contents",
   "toc_cell": false,
   "toc_position": {
    "height": "calc(100% - 180px)",
    "left": "10px",
    "top": "150px",
    "width": "153.6px"
   },
   "toc_section_display": true,
   "toc_window_display": true
  },
  "varInspector": {
   "cols": {
    "lenName": 16,
    "lenType": 16,
    "lenVar": 40
   },
   "kernels_config": {
    "python": {
     "delete_cmd_postfix": "",
     "delete_cmd_prefix": "del ",
     "library": "var_list.py",
     "varRefreshCmd": "print(var_dic_list())"
    },
    "r": {
     "delete_cmd_postfix": ") ",
     "delete_cmd_prefix": "rm(",
     "library": "var_list.r",
     "varRefreshCmd": "cat(var_dic_list()) "
    }
   },
   "position": {
    "height": "316.85px",
    "left": "1149.2px",
    "right": "20px",
    "top": "120px",
    "width": "350px"
   },
   "types_to_exclude": [
    "module",
    "function",
    "builtin_function_or_method",
    "instance",
    "_Feature"
   ],
   "window_display": false
  }
 },
 "nbformat": 4,
 "nbformat_minor": 5
}
