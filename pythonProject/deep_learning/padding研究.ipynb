{
 "cells": [
  {
   "cell_type": "code",
   "execution_count": 1,
   "id": "62a537f3",
   "metadata": {
    "ExecuteTime": {
     "end_time": "2022-06-08T01:34:23.353513Z",
     "start_time": "2022-06-08T01:34:18.881094Z"
    }
   },
   "outputs": [],
   "source": [
    "from tensorflow import keras\n",
    "import tensorflow as tf\n",
    "import numpy as np\n",
    "import pandas as pd\n",
    "import matplotlib.pyplot as plt"
   ]
  },
  {
   "cell_type": "markdown",
   "id": "e232e02c",
   "metadata": {},
   "source": [
    "研究padding=valid和same, 图片大小的变化"
   ]
  },
  {
   "cell_type": "markdown",
   "id": "a115eb5a",
   "metadata": {},
   "source": [
    "# padding = valid"
   ]
  },
  {
   "cell_type": "markdown",
   "id": "7e420cca",
   "metadata": {},
   "source": [
    "$$N = \\frac{W - F + 1}{S}(向上取整)$$ "
   ]
  },
  {
   "cell_type": "code",
   "execution_count": 3,
   "id": "fccb4774",
   "metadata": {
    "ExecuteTime": {
     "end_time": "2022-06-08T01:38:53.293496Z",
     "start_time": "2022-06-08T01:38:53.274514Z"
    }
   },
   "outputs": [
    {
     "name": "stdout",
     "output_type": "stream",
     "text": [
      "Model: \"sequential_1\"\n",
      "_________________________________________________________________\n",
      " Layer (type)                Output Shape              Param #   \n",
      "=================================================================\n",
      " max_pooling2d_1 (MaxPooling  (None, 3, 3, 3)          0         \n",
      " 2D)                                                             \n",
      "                                                                 \n",
      "=================================================================\n",
      "Total params: 0\n",
      "Trainable params: 0\n",
      "Non-trainable params: 0\n",
      "_________________________________________________________________\n"
     ]
    }
   ],
   "source": [
    "model = keras.Sequential([\n",
    "    keras.layers.Input(shape=(8,8,3),dtype='float32'),\n",
    "    keras.layers.MaxPool2D(pool_size=3,strides=2,padding='valid')\n",
    "])\n",
    "model.summary()"
   ]
  },
  {
   "cell_type": "code",
   "execution_count": 4,
   "id": "0fd0c235",
   "metadata": {
    "ExecuteTime": {
     "end_time": "2022-06-08T01:39:41.037176Z",
     "start_time": "2022-06-08T01:39:41.015234Z"
    }
   },
   "outputs": [
    {
     "name": "stdout",
     "output_type": "stream",
     "text": [
      "Model: \"sequential_2\"\n",
      "_________________________________________________________________\n",
      " Layer (type)                Output Shape              Param #   \n",
      "=================================================================\n",
      " max_pooling2d_2 (MaxPooling  (None, 4, 4, 3)          0         \n",
      " 2D)                                                             \n",
      "                                                                 \n",
      "=================================================================\n",
      "Total params: 0\n",
      "Trainable params: 0\n",
      "Non-trainable params: 0\n",
      "_________________________________________________________________\n"
     ]
    }
   ],
   "source": [
    "model = keras.Sequential([\n",
    "    keras.layers.Input(shape=(8, 8, 3), dtype='float32'),\n",
    "    keras.layers.MaxPool2D(pool_size=2, strides=2, padding='valid')\n",
    "])\n",
    "model.summary()"
   ]
  },
  {
   "cell_type": "code",
   "execution_count": 5,
   "id": "7e428410",
   "metadata": {
    "ExecuteTime": {
     "end_time": "2022-06-08T01:40:57.271683Z",
     "start_time": "2022-06-08T01:40:57.232773Z"
    }
   },
   "outputs": [
    {
     "name": "stdout",
     "output_type": "stream",
     "text": [
      "Model: \"sequential_3\"\n",
      "_________________________________________________________________\n",
      " Layer (type)                Output Shape              Param #   \n",
      "=================================================================\n",
      " conv2d (Conv2D)             (None, 8, 8, 64)          256       \n",
      "                                                                 \n",
      "=================================================================\n",
      "Total params: 256\n",
      "Trainable params: 256\n",
      "Non-trainable params: 0\n",
      "_________________________________________________________________\n"
     ]
    }
   ],
   "source": [
    "model = keras.Sequential([\n",
    "    keras.layers.Input(shape=(8, 8, 3), dtype='float32'),\n",
    "    keras.layers.Conv2D(64, kernel_size=1, strides=1, padding='valid', activation='relu')\n",
    "])\n",
    "model.summary()"
   ]
  },
  {
   "cell_type": "code",
   "execution_count": 6,
   "id": "b21e6e03",
   "metadata": {
    "ExecuteTime": {
     "end_time": "2022-06-08T01:41:19.469998Z",
     "start_time": "2022-06-08T01:41:19.440062Z"
    }
   },
   "outputs": [
    {
     "name": "stdout",
     "output_type": "stream",
     "text": [
      "Model: \"sequential_4\"\n",
      "_________________________________________________________________\n",
      " Layer (type)                Output Shape              Param #   \n",
      "=================================================================\n",
      " conv2d_1 (Conv2D)           (None, 6, 6, 64)          1792      \n",
      "                                                                 \n",
      "=================================================================\n",
      "Total params: 1,792\n",
      "Trainable params: 1,792\n",
      "Non-trainable params: 0\n",
      "_________________________________________________________________\n"
     ]
    }
   ],
   "source": [
    "model = keras.Sequential([\n",
    "    keras.layers.Input(shape=(8, 8, 3), dtype='float32'),\n",
    "    keras.layers.Conv2D(64, kernel_size=3, strides=1, padding='valid', activation='relu')\n",
    "])\n",
    "model.summary()"
   ]
  },
  {
   "cell_type": "code",
   "execution_count": 7,
   "id": "6f3bfdb5",
   "metadata": {
    "ExecuteTime": {
     "end_time": "2022-06-08T01:41:41.571379Z",
     "start_time": "2022-06-08T01:41:41.540448Z"
    }
   },
   "outputs": [
    {
     "name": "stdout",
     "output_type": "stream",
     "text": [
      "Model: \"sequential_5\"\n",
      "_________________________________________________________________\n",
      " Layer (type)                Output Shape              Param #   \n",
      "=================================================================\n",
      " conv2d_2 (Conv2D)           (None, 3, 3, 64)          1792      \n",
      "                                                                 \n",
      "=================================================================\n",
      "Total params: 1,792\n",
      "Trainable params: 1,792\n",
      "Non-trainable params: 0\n",
      "_________________________________________________________________\n"
     ]
    }
   ],
   "source": [
    "model = keras.Sequential([\n",
    "    keras.layers.Input(shape=(8, 8, 3), dtype='float32'),\n",
    "    keras.layers.Conv2D(64, kernel_size=3, strides=2, padding='valid', activation='relu')\n",
    "])\n",
    "model.summary()"
   ]
  },
  {
   "cell_type": "markdown",
   "id": "a8ab5e5d",
   "metadata": {},
   "source": [
    "# padding = same"
   ]
  },
  {
   "cell_type": "markdown",
   "id": "2e84488c",
   "metadata": {
    "ExecuteTime": {
     "end_time": "2022-06-08T01:42:41.963310Z",
     "start_time": "2022-06-08T01:42:41.956330Z"
    }
   },
   "source": [
    "$$N = \\frac{W}{S}(向上取整)$$"
   ]
  },
  {
   "cell_type": "code",
   "execution_count": 9,
   "id": "c50e2b50",
   "metadata": {
    "ExecuteTime": {
     "end_time": "2022-06-08T01:43:03.690601Z",
     "start_time": "2022-06-08T01:43:03.664495Z"
    }
   },
   "outputs": [
    {
     "name": "stdout",
     "output_type": "stream",
     "text": [
      "Model: \"sequential_6\"\n",
      "_________________________________________________________________\n",
      " Layer (type)                Output Shape              Param #   \n",
      "=================================================================\n",
      " max_pooling2d_3 (MaxPooling  (None, 4, 4, 3)          0         \n",
      " 2D)                                                             \n",
      "                                                                 \n",
      "=================================================================\n",
      "Total params: 0\n",
      "Trainable params: 0\n",
      "Non-trainable params: 0\n",
      "_________________________________________________________________\n"
     ]
    }
   ],
   "source": [
    "model = keras.Sequential([\n",
    "    keras.layers.Input(shape=(8, 8, 3), dtype='float32'),\n",
    "    keras.layers.MaxPool2D(pool_size=3, strides=2, padding='same')\n",
    "])\n",
    "model.summary()"
   ]
  },
  {
   "cell_type": "code",
   "execution_count": 10,
   "id": "7c742b5e",
   "metadata": {
    "ExecuteTime": {
     "end_time": "2022-06-08T01:43:18.433941Z",
     "start_time": "2022-06-08T01:43:18.405984Z"
    }
   },
   "outputs": [
    {
     "name": "stdout",
     "output_type": "stream",
     "text": [
      "Model: \"sequential_7\"\n",
      "_________________________________________________________________\n",
      " Layer (type)                Output Shape              Param #   \n",
      "=================================================================\n",
      " max_pooling2d_4 (MaxPooling  (None, 4, 4, 3)          0         \n",
      " 2D)                                                             \n",
      "                                                                 \n",
      "=================================================================\n",
      "Total params: 0\n",
      "Trainable params: 0\n",
      "Non-trainable params: 0\n",
      "_________________________________________________________________\n"
     ]
    }
   ],
   "source": [
    "model = keras.Sequential([\n",
    "    keras.layers.Input(shape=(7, 7, 3), dtype='float32'),\n",
    "    keras.layers.MaxPool2D(pool_size=3, strides=2, padding='same')\n",
    "])\n",
    "model.summary()"
   ]
  },
  {
   "cell_type": "code",
   "execution_count": 11,
   "id": "79198bdc",
   "metadata": {
    "ExecuteTime": {
     "end_time": "2022-06-08T01:43:32.462113Z",
     "start_time": "2022-06-08T01:43:32.440686Z"
    }
   },
   "outputs": [
    {
     "name": "stdout",
     "output_type": "stream",
     "text": [
      "Model: \"sequential_8\"\n",
      "_________________________________________________________________\n",
      " Layer (type)                Output Shape              Param #   \n",
      "=================================================================\n",
      " conv2d_3 (Conv2D)           (None, 4, 4, 64)          1792      \n",
      "                                                                 \n",
      "=================================================================\n",
      "Total params: 1,792\n",
      "Trainable params: 1,792\n",
      "Non-trainable params: 0\n",
      "_________________________________________________________________\n"
     ]
    }
   ],
   "source": [
    "model = keras.Sequential([\n",
    "    keras.layers.Input(shape=(8, 8, 3), dtype='float32'),\n",
    "    keras.layers.Conv2D(64, kernel_size=3, strides=2, padding='same', activation='relu')\n",
    "])\n",
    "model.summary()"
   ]
  },
  {
   "cell_type": "code",
   "execution_count": 12,
   "id": "8594be05",
   "metadata": {
    "ExecuteTime": {
     "end_time": "2022-06-08T01:43:43.901241Z",
     "start_time": "2022-06-08T01:43:43.870308Z"
    }
   },
   "outputs": [
    {
     "name": "stdout",
     "output_type": "stream",
     "text": [
      "Model: \"sequential_9\"\n",
      "_________________________________________________________________\n",
      " Layer (type)                Output Shape              Param #   \n",
      "=================================================================\n",
      " conv2d_4 (Conv2D)           (None, 8, 8, 64)          1792      \n",
      "                                                                 \n",
      "=================================================================\n",
      "Total params: 1,792\n",
      "Trainable params: 1,792\n",
      "Non-trainable params: 0\n",
      "_________________________________________________________________\n"
     ]
    }
   ],
   "source": [
    "model = keras.Sequential([\n",
    "    keras.layers.Input(shape=(8, 8, 3), dtype='float32'),\n",
    "    keras.layers.Conv2D(64, kernel_size=3, strides=1, padding='same', activation='relu')\n",
    "])\n",
    "model.summary()"
   ]
  },
  {
   "cell_type": "code",
   "execution_count": null,
   "id": "6e383f9c",
   "metadata": {},
   "outputs": [],
   "source": []
  }
 ],
 "metadata": {
  "hide_input": false,
  "kernelspec": {
   "display_name": "Python 3 (ipykernel)",
   "language": "python",
   "name": "python3"
  },
  "language_info": {
   "codemirror_mode": {
    "name": "ipython",
    "version": 3
   },
   "file_extension": ".py",
   "mimetype": "text/x-python",
   "name": "python",
   "nbconvert_exporter": "python",
   "pygments_lexer": "ipython3",
   "version": "3.9.7"
  },
  "latex_envs": {
   "LaTeX_envs_menu_present": true,
   "autoclose": false,
   "autocomplete": true,
   "bibliofile": "biblio.bib",
   "cite_by": "apalike",
   "current_citInitial": 1,
   "eqLabelWithNumbers": true,
   "eqNumInitial": 1,
   "hotkeys": {
    "equation": "Ctrl-E",
    "itemize": "Ctrl-I"
   },
   "labels_anchors": false,
   "latex_user_defs": false,
   "report_style_numbering": false,
   "user_envs_cfg": false
  },
  "nbTranslate": {
   "displayLangs": [
    "*"
   ],
   "hotkey": "alt-t",
   "langInMainMenu": true,
   "sourceLang": "en",
   "targetLang": "fr",
   "useGoogleTranslate": true
  },
  "toc": {
   "base_numbering": 1,
   "nav_menu": {},
   "number_sections": true,
   "sideBar": true,
   "skip_h1_title": false,
   "title_cell": "Table of Contents",
   "title_sidebar": "Contents",
   "toc_cell": false,
   "toc_position": {},
   "toc_section_display": true,
   "toc_window_display": false
  },
  "varInspector": {
   "cols": {
    "lenName": 16,
    "lenType": 16,
    "lenVar": 40
   },
   "kernels_config": {
    "python": {
     "delete_cmd_postfix": "",
     "delete_cmd_prefix": "del ",
     "library": "var_list.py",
     "varRefreshCmd": "print(var_dic_list())"
    },
    "r": {
     "delete_cmd_postfix": ") ",
     "delete_cmd_prefix": "rm(",
     "library": "var_list.r",
     "varRefreshCmd": "cat(var_dic_list()) "
    }
   },
   "types_to_exclude": [
    "module",
    "function",
    "builtin_function_or_method",
    "instance",
    "_Feature"
   ],
   "window_display": false
  }
 },
 "nbformat": 4,
 "nbformat_minor": 5
}
