{
 "cells": [
  {
   "cell_type": "code",
   "execution_count": 1,
   "id": "0beb8be1",
   "metadata": {
    "ExecuteTime": {
     "end_time": "2022-06-17T02:05:47.720221Z",
     "start_time": "2022-06-17T02:05:44.892064Z"
    }
   },
   "outputs": [],
   "source": [
    "import torch\n",
    "import torch.nn as nn\n",
    "import torch.nn.functional as F\n",
    "import torch.optim as optim\n",
    "import numpy as np\n",
    "import matplotlib.pyplot as plt"
   ]
  },
  {
   "cell_type": "code",
   "execution_count": 2,
   "id": "605b1723",
   "metadata": {
    "ExecuteTime": {
     "end_time": "2022-06-17T02:06:02.513864Z",
     "start_time": "2022-06-17T02:06:02.502895Z"
    }
   },
   "outputs": [
    {
     "data": {
      "text/plain": [
       "'1.11.0'"
      ]
     },
     "execution_count": 2,
     "metadata": {},
     "output_type": "execute_result"
    }
   ],
   "source": [
    "torch.__version__"
   ]
  },
  {
   "cell_type": "code",
   "execution_count": 3,
   "id": "b527f9f5",
   "metadata": {
    "ExecuteTime": {
     "end_time": "2022-06-17T02:06:13.767514Z",
     "start_time": "2022-06-17T02:06:13.747097Z"
    }
   },
   "outputs": [
    {
     "data": {
      "text/plain": [
       "False"
      ]
     },
     "execution_count": 3,
     "metadata": {},
     "output_type": "execute_result"
    }
   ],
   "source": [
    "# 检查GPU是否可用\n",
    "torch.cuda.is_available()"
   ]
  },
  {
   "cell_type": "code",
   "execution_count": 4,
   "id": "63d07085",
   "metadata": {
    "ExecuteTime": {
     "end_time": "2022-06-17T02:06:25.950094Z",
     "start_time": "2022-06-17T02:06:25.945108Z"
    }
   },
   "outputs": [],
   "source": [
    "device = torch.device('cuda:0' if torch.cuda.is_available() else 'cpu')"
   ]
  },
  {
   "cell_type": "code",
   "execution_count": 5,
   "id": "3557977f",
   "metadata": {
    "ExecuteTime": {
     "end_time": "2022-06-17T02:06:35.752662Z",
     "start_time": "2022-06-17T02:06:35.739438Z"
    }
   },
   "outputs": [
    {
     "data": {
      "text/plain": [
       "device(type='cpu')"
      ]
     },
     "execution_count": 5,
     "metadata": {},
     "output_type": "execute_result"
    }
   ],
   "source": [
    "device"
   ]
  },
  {
   "cell_type": "markdown",
   "id": "959a8365",
   "metadata": {},
   "source": [
    "pytorch中使用GPU进行训练\n",
    "\n",
    "1. 把模型转移到GPU上. \n",
    "\n",
    "2. 将每一批次的训练数据转移到GPU上. "
   ]
  },
  {
   "cell_type": "markdown",
   "id": "af4e6b2c",
   "metadata": {},
   "source": [
    "# torchvision 内置了常用的数据集和常见的模型. "
   ]
  },
  {
   "cell_type": "code",
   "execution_count": 6,
   "id": "8e241bd5",
   "metadata": {
    "ExecuteTime": {
     "end_time": "2022-06-17T02:09:03.231769Z",
     "start_time": "2022-06-17T02:09:02.572304Z"
    }
   },
   "outputs": [],
   "source": [
    "import torchvision"
   ]
  },
  {
   "cell_type": "code",
   "execution_count": 7,
   "id": "59a6855c",
   "metadata": {
    "ExecuteTime": {
     "end_time": "2022-06-17T02:09:55.449675Z",
     "start_time": "2022-06-17T02:09:55.444637Z"
    }
   },
   "outputs": [],
   "source": [
    "from torchvision import datasets, transforms"
   ]
  },
  {
   "cell_type": "markdown",
   "id": "9904b102",
   "metadata": {},
   "source": [
    "transforms.ToTensor \n",
    "\n",
    "1. 把数据转化为tensor\n",
    "\n",
    "2. 数据的值转化为0到1之间. \n",
    "\n",
    "3. 会把channel放到第一个维度上."
   ]
  },
  {
   "cell_type": "code",
   "execution_count": 8,
   "id": "3650f553",
   "metadata": {
    "ExecuteTime": {
     "end_time": "2022-06-17T02:11:16.998885Z",
     "start_time": "2022-06-17T02:11:16.983833Z"
    }
   },
   "outputs": [],
   "source": [
    "# transforms用来做数据增强, 数据预处理等功能的. \n",
    "transformation = transforms.Compose([transforms.ToTensor(),])"
   ]
  },
  {
   "cell_type": "markdown",
   "id": "fdb60d62",
   "metadata": {},
   "source": [
    "# 数据下载"
   ]
  },
  {
   "cell_type": "code",
   "execution_count": 9,
   "id": "98936570",
   "metadata": {
    "ExecuteTime": {
     "end_time": "2022-06-17T02:14:37.609446Z",
     "start_time": "2022-06-17T02:14:30.058623Z"
    }
   },
   "outputs": [
    {
     "name": "stdout",
     "output_type": "stream",
     "text": [
      "Downloading http://yann.lecun.com/exdb/mnist/train-images-idx3-ubyte.gz\n",
      "Downloading http://yann.lecun.com/exdb/mnist/train-images-idx3-ubyte.gz to ./MNIST\\raw\\train-images-idx3-ubyte.gz\n"
     ]
    },
    {
     "data": {
      "application/vnd.jupyter.widget-view+json": {
       "model_id": "1894a05fd56646ff812f413f57455834",
       "version_major": 2,
       "version_minor": 0
      },
      "text/plain": [
       "  0%|          | 0/9912422 [00:00<?, ?it/s]"
      ]
     },
     "metadata": {},
     "output_type": "display_data"
    },
    {
     "name": "stdout",
     "output_type": "stream",
     "text": [
      "Extracting ./MNIST\\raw\\train-images-idx3-ubyte.gz to ./MNIST\\raw\n",
      "\n",
      "Downloading http://yann.lecun.com/exdb/mnist/train-labels-idx1-ubyte.gz\n",
      "Downloading http://yann.lecun.com/exdb/mnist/train-labels-idx1-ubyte.gz to ./MNIST\\raw\\train-labels-idx1-ubyte.gz\n"
     ]
    },
    {
     "data": {
      "application/vnd.jupyter.widget-view+json": {
       "model_id": "de94d334b96a40eeb1ea6e5fba90637e",
       "version_major": 2,
       "version_minor": 0
      },
      "text/plain": [
       "  0%|          | 0/28881 [00:00<?, ?it/s]"
      ]
     },
     "metadata": {},
     "output_type": "display_data"
    },
    {
     "name": "stdout",
     "output_type": "stream",
     "text": [
      "Extracting ./MNIST\\raw\\train-labels-idx1-ubyte.gz to ./MNIST\\raw\n",
      "\n",
      "Downloading http://yann.lecun.com/exdb/mnist/t10k-images-idx3-ubyte.gz\n",
      "Downloading http://yann.lecun.com/exdb/mnist/t10k-images-idx3-ubyte.gz to ./MNIST\\raw\\t10k-images-idx3-ubyte.gz\n"
     ]
    },
    {
     "data": {
      "application/vnd.jupyter.widget-view+json": {
       "model_id": "20b20c771a754bd185f196c63722ece5",
       "version_major": 2,
       "version_minor": 0
      },
      "text/plain": [
       "  0%|          | 0/1648877 [00:00<?, ?it/s]"
      ]
     },
     "metadata": {},
     "output_type": "display_data"
    },
    {
     "name": "stdout",
     "output_type": "stream",
     "text": [
      "Extracting ./MNIST\\raw\\t10k-images-idx3-ubyte.gz to ./MNIST\\raw\n",
      "\n",
      "Downloading http://yann.lecun.com/exdb/mnist/t10k-labels-idx1-ubyte.gz\n",
      "Downloading http://yann.lecun.com/exdb/mnist/t10k-labels-idx1-ubyte.gz to ./MNIST\\raw\\t10k-labels-idx1-ubyte.gz\n"
     ]
    },
    {
     "data": {
      "application/vnd.jupyter.widget-view+json": {
       "model_id": "1a525fe63fe04b7aa7a68fbd448c8988",
       "version_major": 2,
       "version_minor": 0
      },
      "text/plain": [
       "  0%|          | 0/4542 [00:00<?, ?it/s]"
      ]
     },
     "metadata": {},
     "output_type": "display_data"
    },
    {
     "name": "stdout",
     "output_type": "stream",
     "text": [
      "Extracting ./MNIST\\raw\\t10k-labels-idx1-ubyte.gz to ./MNIST\\raw\n",
      "\n"
     ]
    }
   ],
   "source": [
    "train_ds = datasets.MNIST('./', train=True, transform=transformation, download=True)"
   ]
  },
  {
   "cell_type": "code",
   "execution_count": 10,
   "id": "24369fe5",
   "metadata": {
    "ExecuteTime": {
     "end_time": "2022-06-17T02:16:03.338122Z",
     "start_time": "2022-06-17T02:16:03.322783Z"
    }
   },
   "outputs": [],
   "source": [
    "# 测试数据集\n",
    "test_ds = datasets.MNIST('./', train=False, transform=transformation, download=True)"
   ]
  },
  {
   "cell_type": "code",
   "execution_count": 11,
   "id": "9aa73ea1",
   "metadata": {
    "ExecuteTime": {
     "end_time": "2022-06-17T02:18:19.752854Z",
     "start_time": "2022-06-17T02:18:19.746071Z"
    }
   },
   "outputs": [],
   "source": [
    "# 转换成dataloader\n",
    "train_dl = torch.utils.data.DataLoader(train_ds, batch_size=64, shuffle=True)\n",
    "test_dl = torch.utils.data.DataLoader(test_ds, batch_size=256)"
   ]
  },
  {
   "cell_type": "code",
   "execution_count": 12,
   "id": "2023b77d",
   "metadata": {
    "ExecuteTime": {
     "end_time": "2022-06-17T02:19:45.761655Z",
     "start_time": "2022-06-17T02:19:45.721957Z"
    }
   },
   "outputs": [],
   "source": [
    "images, labels = next(iter(train_dl))"
   ]
  },
  {
   "cell_type": "code",
   "execution_count": 13,
   "id": "f94ae6ea",
   "metadata": {
    "ExecuteTime": {
     "end_time": "2022-06-17T02:20:00.718607Z",
     "start_time": "2022-06-17T02:20:00.700337Z"
    }
   },
   "outputs": [
    {
     "data": {
      "text/plain": [
       "torch.Size([64, 1, 28, 28])"
      ]
     },
     "execution_count": 13,
     "metadata": {},
     "output_type": "execute_result"
    }
   ],
   "source": [
    "# pytorch中图片的表现形式[batch, channel, hight, width]\n",
    "images.shape"
   ]
  },
  {
   "cell_type": "code",
   "execution_count": 14,
   "id": "0197cc1a",
   "metadata": {
    "ExecuteTime": {
     "end_time": "2022-06-17T02:22:05.605259Z",
     "start_time": "2022-06-17T02:22:05.598634Z"
    }
   },
   "outputs": [
    {
     "data": {
      "text/plain": [
       "tensor([7, 1, 4, 8, 9, 1, 5, 1, 9, 6, 6, 5, 6, 1, 1, 4, 2, 0, 2, 3, 4, 9, 5, 1,\n",
       "        2, 6, 6, 2, 0, 9, 5, 2, 0, 0, 0, 0, 5, 7, 7, 8, 4, 4, 2, 4, 2, 6, 7, 8,\n",
       "        4, 4, 5, 9, 0, 5, 2, 0, 3, 8, 1, 9, 3, 0, 2, 0])"
      ]
     },
     "execution_count": 14,
     "metadata": {},
     "output_type": "execute_result"
    }
   ],
   "source": [
    "labels"
   ]
  },
  {
   "cell_type": "code",
   "execution_count": 15,
   "id": "ad6325c3",
   "metadata": {
    "ExecuteTime": {
     "end_time": "2022-06-17T02:22:18.551728Z",
     "start_time": "2022-06-17T02:22:18.539760Z"
    }
   },
   "outputs": [],
   "source": [
    "img = images[0]"
   ]
  },
  {
   "cell_type": "code",
   "execution_count": 16,
   "id": "0b095649",
   "metadata": {
    "ExecuteTime": {
     "end_time": "2022-06-17T02:22:30.117868Z",
     "start_time": "2022-06-17T02:22:30.105187Z"
    }
   },
   "outputs": [
    {
     "data": {
      "text/plain": [
       "torch.Size([1, 28, 28])"
      ]
     },
     "execution_count": 16,
     "metadata": {},
     "output_type": "execute_result"
    }
   ],
   "source": [
    "img.shape"
   ]
  },
  {
   "cell_type": "code",
   "execution_count": 17,
   "id": "062c9e0e",
   "metadata": {
    "ExecuteTime": {
     "end_time": "2022-06-17T02:23:00.513620Z",
     "start_time": "2022-06-17T02:23:00.500479Z"
    }
   },
   "outputs": [],
   "source": [
    "img = img.numpy()"
   ]
  },
  {
   "cell_type": "code",
   "execution_count": 18,
   "id": "02abb69d",
   "metadata": {
    "ExecuteTime": {
     "end_time": "2022-06-17T02:25:12.374028Z",
     "start_time": "2022-06-17T02:25:12.367957Z"
    }
   },
   "outputs": [],
   "source": [
    "img = np.squeeze(img)"
   ]
  },
  {
   "cell_type": "code",
   "execution_count": 19,
   "id": "8274f824",
   "metadata": {
    "ExecuteTime": {
     "end_time": "2022-06-17T02:25:20.794157Z",
     "start_time": "2022-06-17T02:25:20.787088Z"
    }
   },
   "outputs": [
    {
     "data": {
      "text/plain": [
       "(28, 28)"
      ]
     },
     "execution_count": 19,
     "metadata": {},
     "output_type": "execute_result"
    }
   ],
   "source": [
    "img.shape"
   ]
  },
  {
   "cell_type": "code",
   "execution_count": 20,
   "id": "fe24f489",
   "metadata": {
    "ExecuteTime": {
     "end_time": "2022-06-17T02:25:31.522089Z",
     "start_time": "2022-06-17T02:25:31.261082Z"
    }
   },
   "outputs": [
    {
     "data": {
      "text/plain": [
       "<matplotlib.image.AxesImage at 0x237de6ae250>"
      ]
     },
     "execution_count": 20,
     "metadata": {},
     "output_type": "execute_result"
    },
    {
     "data": {
      "image/png": "[encoded data removed]",
      "text/plain": [
       "<Figure size 432x288 with 1 Axes>"
      ]
     },
     "metadata": {
      "needs_background": "light"
     },
     "output_type": "display_data"
    }
   ],
   "source": [
    "plt.imshow(img, cmap='gray')"
   ]
  },
  {
   "cell_type": "markdown",
   "id": "9d7c4378",
   "metadata": {},
   "source": [
    "# 创建模型"
   ]
  },
  {
   "cell_type": "code",
   "execution_count": 21,
   "id": "b58a80fe",
   "metadata": {
    "ExecuteTime": {
     "end_time": "2022-06-17T02:30:46.666992Z",
     "start_time": "2022-06-17T02:30:46.644371Z"
    }
   },
   "outputs": [],
   "source": [
    "class Model(nn.Module):\n",
    "    def __init__(self):\n",
    "        super().__init__()\n",
    "        self.conv1 = nn.Conv2d(1, 32, 3)# in: 64, 1, 28 , 28 -> out: 64, 32, 26, 26\n",
    "        self.pool = nn.MaxPool2d((2, 2)) # out: 64, 32, 13, 13\n",
    "        self.conv2 = nn.Conv2d(32, 64, 3)# in: 64, 32, 13, 13 -> out: 64, 64, 11, 11\n",
    "        # 再加一层池化操作, in: 64, 64, 11, 11  --> out: 64, 64, 5, 5\n",
    "        self.linear_1 = nn.Linear(64 * 5 * 5, 256)\n",
    "        self.linear_2 = nn.Linear(256, 10)\n",
    "        \n",
    "    def forward(self, input):\n",
    "        x = F.relu(self.conv1(input))\n",
    "        x = self.pool(x)\n",
    "        x = F.relu(self.conv2(x))\n",
    "        x = self.pool(x)\n",
    "        # flatten\n",
    "        x = x.view(-1, 64 * 5 * 5)\n",
    "        x = F.relu(self.linear_1(x))\n",
    "        x = self.linear_2(x)\n",
    "        return x"
   ]
  },
  {
   "cell_type": "code",
   "execution_count": 22,
   "id": "4cf96a12",
   "metadata": {
    "ExecuteTime": {
     "end_time": "2022-06-17T02:32:39.455127Z",
     "start_time": "2022-06-17T02:32:39.434164Z"
    }
   },
   "outputs": [],
   "source": [
    "model = Model()"
   ]
  },
  {
   "cell_type": "code",
   "execution_count": 23,
   "id": "2a372430",
   "metadata": {
    "ExecuteTime": {
     "end_time": "2022-06-17T02:32:50.902388Z",
     "start_time": "2022-06-17T02:32:50.891620Z"
    }
   },
   "outputs": [
    {
     "data": {
      "text/plain": [
       "Model(\n",
       "  (conv1): Conv2d(1, 32, kernel_size=(3, 3), stride=(1, 1))\n",
       "  (pool): MaxPool2d(kernel_size=(2, 2), stride=(2, 2), padding=0, dilation=1, ceil_mode=False)\n",
       "  (conv2): Conv2d(32, 64, kernel_size=(3, 3), stride=(1, 1))\n",
       "  (linear_1): Linear(in_features=1600, out_features=256, bias=True)\n",
       "  (linear_2): Linear(in_features=256, out_features=10, bias=True)\n",
       ")"
      ]
     },
     "execution_count": 23,
     "metadata": {},
     "output_type": "execute_result"
    }
   ],
   "source": [
    "# 把model拷到GPU上面去\n",
    "model.to(device)"
   ]
  },
  {
   "cell_type": "code",
   "execution_count": 24,
   "id": "c85ca490",
   "metadata": {
    "ExecuteTime": {
     "end_time": "2022-06-17T02:33:10.839748Z",
     "start_time": "2022-06-17T02:33:10.828098Z"
    }
   },
   "outputs": [],
   "source": [
    "loss_fn = torch.nn.CrossEntropyLoss()"
   ]
  },
  {
   "cell_type": "code",
   "execution_count": 25,
   "id": "b0ec3deb",
   "metadata": {
    "ExecuteTime": {
     "end_time": "2022-06-17T02:33:18.563256Z",
     "start_time": "2022-06-17T02:33:18.559361Z"
    }
   },
   "outputs": [],
   "source": [
    "optimizer = optim.Adam(model.parameters(), lr=0.001)"
   ]
  },
  {
   "cell_type": "markdown",
   "id": "a981e209",
   "metadata": {},
   "source": [
    "# 配置网络"
   ]
  },
  {
   "cell_type": "code",
   "execution_count": 26,
   "id": "7a9fcdbb",
   "metadata": {
    "ExecuteTime": {
     "end_time": "2022-06-17T02:34:30.757537Z",
     "start_time": "2022-06-17T02:34:30.732937Z"
    }
   },
   "outputs": [],
   "source": [
    "def fit(epoch, model, train_loader, test_loader):\n",
    "    correct = 0\n",
    "    total = 0\n",
    "    running_loss = 0\n",
    "    \n",
    "    for x, y in train_loader:\n",
    "        # 把数据放到GPU上去. \n",
    "        x, y = x.to(device), y.to(device)\n",
    "        y_pred = model(x)\n",
    "        loss = loss_fn(y_pred, y)\n",
    "        optimizer.zero_grad()\n",
    "        loss.backward()\n",
    "        optimizer.step()\n",
    "        \n",
    "        with torch.no_grad():\n",
    "            y_pred = torch.argmax(y_pred, dim=1)\n",
    "            correct += (y_pred == y).sum().item()\n",
    "            total += y.size(0)\n",
    "            running_loss += loss.item()\n",
    "            \n",
    "    epoch_loss = running_loss / len(train_loader.dataset)\n",
    "    epoch_acc = correct / total\n",
    "        \n",
    "    # 测试过程\n",
    "    test_correct = 0\n",
    "    test_total = 0\n",
    "    test_running_loss = 0\n",
    "    with torch.no_grad():\n",
    "        for x, y in test_loader:\n",
    "            x, y = x.to(device), y.to(device)\n",
    "            y_pred = model(x)\n",
    "            loss = loss_fn(y_pred, y)\n",
    "            y_pred = torch.argmax(y_pred, dim=1)\n",
    "            test_correct += (y_pred == y).sum().item()\n",
    "            test_total += y.size(0)\n",
    "            test_running_loss += loss.item()\n",
    "    test_epoch_loss = test_running_loss / len(test_loader.dataset)\n",
    "    test_epoch_acc = test_correct / test_total\n",
    "\n",
    "    print('epoch: ', epoch,\n",
    "         'loss: ', round(epoch_loss, 3),\n",
    "         'accuracy: ', round(epoch_acc, 3),\n",
    "         'test_loss: ', round(test_epoch_loss, 3),\n",
    "         'test_accuracy: ', round(test_epoch_acc,3))\n",
    "    return epoch_loss, epoch_acc, test_epoch_loss, test_epoch_acc"
   ]
  },
  {
   "cell_type": "markdown",
   "id": "43dbb859",
   "metadata": {},
   "source": [
    "# 模型训练"
   ]
  },
  {
   "cell_type": "code",
   "execution_count": 27,
   "id": "34ad4402",
   "metadata": {
    "ExecuteTime": {
     "end_time": "2022-06-17T02:49:45.952253Z",
     "start_time": "2022-06-17T02:37:41.717582Z"
    }
   },
   "outputs": [
    {
     "name": "stdout",
     "output_type": "stream",
     "text": [
      "epoch:  0 loss:  0.003 accuracy:  0.949 test_loss:  0.0 test_accuracy:  0.984\n",
      "epoch:  1 loss:  0.001 accuracy:  0.986 test_loss:  0.0 test_accuracy:  0.989\n",
      "epoch:  2 loss:  0.001 accuracy:  0.99 test_loss:  0.0 test_accuracy:  0.989\n",
      "epoch:  3 loss:  0.0 accuracy:  0.993 test_loss:  0.0 test_accuracy:  0.99\n",
      "epoch:  4 loss:  0.0 accuracy:  0.995 test_loss:  0.0 test_accuracy:  0.991\n",
      "epoch:  5 loss:  0.0 accuracy:  0.995 test_loss:  0.0 test_accuracy:  0.989\n",
      "epoch:  6 loss:  0.0 accuracy:  0.997 test_loss:  0.0 test_accuracy:  0.991\n",
      "epoch:  7 loss:  0.0 accuracy:  0.997 test_loss:  0.0 test_accuracy:  0.99\n",
      "epoch:  8 loss:  0.0 accuracy:  0.998 test_loss:  0.0 test_accuracy:  0.992\n",
      "epoch:  9 loss:  0.0 accuracy:  0.997 test_loss:  0.0 test_accuracy:  0.992\n",
      "epoch:  10 loss:  0.0 accuracy:  0.998 test_loss:  0.0 test_accuracy:  0.991\n",
      "epoch:  11 loss:  0.0 accuracy:  0.998 test_loss:  0.0 test_accuracy:  0.992\n",
      "epoch:  12 loss:  0.0 accuracy:  0.999 test_loss:  0.0 test_accuracy:  0.992\n",
      "epoch:  13 loss:  0.0 accuracy:  0.998 test_loss:  0.0 test_accuracy:  0.991\n",
      "epoch:  14 loss:  0.0 accuracy:  0.999 test_loss:  0.0 test_accuracy:  0.993\n",
      "epoch:  15 loss:  0.0 accuracy:  0.999 test_loss:  0.0 test_accuracy:  0.992\n",
      "epoch:  16 loss:  0.0 accuracy:  0.999 test_loss:  0.0 test_accuracy:  0.993\n",
      "epoch:  17 loss:  0.0 accuracy:  0.999 test_loss:  0.0 test_accuracy:  0.99\n",
      "epoch:  18 loss:  0.0 accuracy:  0.999 test_loss:  0.0 test_accuracy:  0.991\n",
      "epoch:  19 loss:  0.0 accuracy:  0.999 test_loss:  0.0 test_accuracy:  0.991\n"
     ]
    }
   ],
   "source": [
    "epochs = 20\n",
    "train_loss = []\n",
    "train_acc = []\n",
    "test_loss = []\n",
    "test_acc = []\n",
    "for epoch in range(epochs):\n",
    "    epoch_loss, epoch_acc, test_epoch_loss, test_epoch_acc = fit(epoch, model, train_dl, test_dl)\n",
    "    train_loss.append(epoch_loss)\n",
    "    train_acc.append(epoch_acc)\n",
    "    \n",
    "    test_loss.append(epoch_loss)\n",
    "    test_acc.append(epoch_acc)"
   ]
  },
  {
   "cell_type": "code",
   "execution_count": null,
   "id": "d8370bbf",
   "metadata": {},
   "outputs": [],
   "source": []
  }
 ],
 "metadata": {
  "hide_input": false,
  "kernelspec": {
   "display_name": "Python 3 (ipykernel)",
   "language": "python",
   "name": "python3"
  },
  "language_info": {
   "codemirror_mode": {
    "name": "ipython",
    "version": 3
   },
   "file_extension": ".py",
   "mimetype": "text/x-python",
   "name": "python",
   "nbconvert_exporter": "python",
   "pygments_lexer": "ipython3",
   "version": "3.9.7"
  },
  "latex_envs": {
   "LaTeX_envs_menu_present": true,
   "autoclose": false,
   "autocomplete": true,
   "bibliofile": "biblio.bib",
   "cite_by": "apalike",
   "current_citInitial": 1,
   "eqLabelWithNumbers": true,
   "eqNumInitial": 1,
   "hotkeys": {
    "equation": "Ctrl-E",
    "itemize": "Ctrl-I"
   },
   "labels_anchors": false,
   "latex_user_defs": false,
   "report_style_numbering": false,
   "user_envs_cfg": false
  },
  "nbTranslate": {
   "displayLangs": [
    "*"
   ],
   "hotkey": "alt-t",
   "langInMainMenu": true,
   "sourceLang": "en",
   "targetLang": "fr",
   "useGoogleTranslate": true
  },
  "toc": {
   "base_numbering": 1,
   "nav_menu": {},
   "number_sections": true,
   "sideBar": true,
   "skip_h1_title": false,
   "title_cell": "Table of Contents",
   "title_sidebar": "Contents",
   "toc_cell": false,
   "toc_position": {},
   "toc_section_display": true,
   "toc_window_display": false
  },
  "varInspector": {
   "cols": {
    "lenName": 16,
    "lenType": 16,
    "lenVar": 40
   },
   "kernels_config": {
    "python": {
     "delete_cmd_postfix": "",
     "delete_cmd_prefix": "del ",
     "library": "var_list.py",
     "varRefreshCmd": "print(var_dic_list())"
    },
    "r": {
     "delete_cmd_postfix": ") ",
     "delete_cmd_prefix": "rm(",
     "library": "var_list.r",
     "varRefreshCmd": "cat(var_dic_list()) "
    }
   },
   "types_to_exclude": [
    "module",
    "function",
    "builtin_function_or_method",
    "instance",
    "_Feature"
   ],
   "window_display": false
  }
 },
 "nbformat": 4,
 "nbformat_minor": 5
}
