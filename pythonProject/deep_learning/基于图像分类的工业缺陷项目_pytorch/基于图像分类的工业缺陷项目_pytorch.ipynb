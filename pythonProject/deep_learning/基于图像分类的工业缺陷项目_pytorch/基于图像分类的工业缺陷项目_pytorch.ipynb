{
 "cells": [
  {
   "cell_type": "code",
   "execution_count": 1,
   "id": "1df83b8c",
   "metadata": {
    "ExecuteTime": {
     "end_time": "2022-06-21T09:56:08.032207Z",
     "start_time": "2022-06-21T09:56:06.493878Z"
    }
   },
   "outputs": [],
   "source": [
    "import os\n",
    "import json\n",
    "import sys\n",
    "\n",
    "\n",
    "import torch\n",
    "import numpy as np\n",
    "from torch.utils.data import Dataset, DataLoader\n",
    "from torchvision import transforms\n",
    "import cv2 as cv\n",
    "import torchvision\n",
    "import torch.nn as nn\n",
    "from torchvision import transforms, datasets\n",
    "\n",
    "from tqdm import tqdm\n"
   ]
  },
  {
   "cell_type": "markdown",
   "id": "8c66b163",
   "metadata": {},
   "source": [
    "# 建立数据集"
   ]
  },
  {
   "cell_type": "markdown",
   "id": "a49c8a2d",
   "metadata": {},
   "source": [
    "CR 裂纹 crackle\n",
    "\n",
    "In 夹杂 inclusion\n",
    "\n",
    "SC 划痕 scratch\n",
    "\n",
    "PS 压入氧化皮  press in oxide scale\n",
    "\n",
    "RS 麻点\n",
    "\n",
    "PA 斑点"
   ]
  },
  {
   "cell_type": "code",
   "execution_count": null,
   "id": "05085bac",
   "metadata": {
    "ExecuteTime": {
     "start_time": "2022-06-21T09:56:13.941Z"
    }
   },
   "outputs": [
    {
     "name": "stdout",
     "output_type": "stream",
     "text": [
      "1765\n",
      "torch.Size([3, 200, 200]) 2\n"
     ]
    }
   ],
   "source": [
    "defect_labels = ['In', 'Sc', 'Cr', 'PS', 'RS', 'Pa']\n",
    "\n",
    "\n",
    "class SurfaceDefectDataset(Dataset):\n",
    "    def __init__(self, root_dir):\n",
    "        self.transform = transforms.Compose([\n",
    "                transforms.ToTensor(),\n",
    "                transforms.Normalize(mean=[0.485, 0.456, 0.406],\n",
    "                                     std=[0.229, 0.224, 0.225]),\n",
    "                transforms.Resize((200, 200))\n",
    "        ])\n",
    "        img_files = os.listdir(root_dir)\n",
    "        self.defect_types = []\n",
    "        self.images = []\n",
    "        for file_name in img_files:\n",
    "            # 以下划线分割文件名\n",
    "            defect_class = file_name.split('_')[0]\n",
    "            defect_index = defect_labels.index(defect_class)\n",
    "            self.images.append(os.path.join(root_dir, file_name))\n",
    "            self.defect_types.append(defect_index)\n",
    "\n",
    "    def __len__(self):\n",
    "        return len(self.images)\n",
    "\n",
    "    def __getitem__(self, idx):\n",
    "        image_path = self.images[idx]\n",
    "        img = cv.imread(image_path) # BGR\n",
    "        img = cv.cvtColor(img, cv.COLOR_BGR2RGB)\n",
    "        sample = {'image': self.transform(img), 'defect': self.defect_types[idx]}\n",
    "        return sample\n",
    "\n",
    "\n",
    "if __name__ == '__main__':\n",
    "    ds = SurfaceDefectDataset('./enu_surface_defect/train')\n",
    "    print(len(ds))\n",
    "    print(ds[0]['image'].shape, ds[0]['defect'])\n",
    "    dl = DataLoader(ds, batch_size=8, shuffle=True, num_workers=8)\n",
    "    sample = next(iter(dl))\n",
    "    print(type(sample))\n",
    "    print(sample['image'].shape)"
   ]
  },
  {
   "cell_type": "markdown",
   "id": "818570b4",
   "metadata": {},
   "source": [
    "# 定义模型"
   ]
  },
  {
   "cell_type": "code",
   "execution_count": null,
   "id": "1ce24138",
   "metadata": {
    "ExecuteTime": {
     "start_time": "2022-06-21T09:56:34.860Z"
    }
   },
   "outputs": [],
   "source": [
    "class SurfaceDectectResNet(torch.nn.Module):\n",
    "    def __init__(self, num_classes=1000):\n",
    "        super().__init__()\n",
    "        self.cnn_layers = torchvision.models.resnet18(pretrained=True)\n",
    "        in_features = self.cnn_layers.fc.in_features\n",
    "        self.cnn_layers.fc = torch.nn.Linear(in_features, num_classes)\n",
    "\n",
    "    def forward(self, x):\n",
    "        out = self.cnn_layers(x)\n",
    "        return out"
   ]
  },
  {
   "cell_type": "markdown",
   "id": "9699d00b",
   "metadata": {},
   "source": [
    "# 模型训练"
   ]
  },
  {
   "cell_type": "code",
   "execution_count": null,
   "id": "a9b711b0",
   "metadata": {
    "ExecuteTime": {
     "start_time": "2022-06-21T10:04:48.574Z"
    }
   },
   "outputs": [],
   "source": [
    "import os\n",
    "import json\n",
    "import sys\n",
    "\n",
    "import torch\n",
    "import torch.nn as nn\n",
    "from torchvision import transforms, datasets\n",
    "from tqdm import tqdm\n",
    "\n",
    "from my_dataset import SurfaceDefectDataset\n",
    "from my_dataset import defect_labels\n",
    "from model import SurfaceDectectResNet\n",
    "\n",
    "\n",
    "def main():\n",
    "    device = torch.device('cuda:0' if torch.cuda.is_available() else 'cpu')\n",
    "    print(f'using {device}')\n",
    "\n",
    "    # 创建训练集\n",
    "    train_dataset = SurfaceDefectDataset('./enu_surface_defect/train')\n",
    "    train_num = len(train_dataset)\n",
    "\n",
    "    # 类别和index的对应关系, 写入文件.\n",
    "    cla_dict = dict((i, label) for i, label in enumerate(defect_labels))\n",
    "    json_str = json.dumps(cla_dict, indent=4)\n",
    "    with open('class_indices.json', 'w') as json_file:\n",
    "        json_file.write(json_str)\n",
    "\n",
    "    batch_size = 32\n",
    "    nw = min([os.cpu_count(), batch_size if batch_size > 1 else 0, 8])\n",
    "    print(f'using {nw} dataloader workers every process')\n",
    "\n",
    "    # 把dataset变成dataloader\n",
    "    train_loader = torch.utils.data.DataLoader(train_dataset,\n",
    "                                               batch_size=batch_size,\n",
    "                                               shuffle=True,\n",
    "                                               num_workers=nw)\n",
    "\n",
    "    validate_dataset = SurfaceDefectDataset('./enu_surface_defect/test')\n",
    "    val_num = len(validate_dataset)\n",
    "    validate_loader = torch.utils.data.DataLoader(validate_dataset,\n",
    "                                               batch_size=batch_size,\n",
    "                                               shuffle=True,\n",
    "                                               num_workers=nw)\n",
    "\n",
    "    net = SurfaceDectectResNet(num_classes=6)\n",
    "    net.to(device)\n",
    "    loss_fn = nn.CrossEntropyLoss()\n",
    "    optimizer = torch.optim.Adam(net.parameters(), lr=0.0001)\n",
    "\n",
    "    epochs = 10\n",
    "    save_path = './model.pth'\n",
    "    best_acc = 0.0\n",
    "    train_steps = len(train_loader)\n",
    "    # 训练过程\n",
    "    for epoch in range(epochs):\n",
    "        net.train()\n",
    "        running_loss = 0.0\n",
    "\n",
    "        train_bar = tqdm(train_loader, file=sys.stdout)\n",
    "        for step, data in enumerate(train_bar):\n",
    "            images, labels = data['image'], data['defect']\n",
    "            optimizer.zero_grad()\n",
    "            outputs = net(images.to(device))\n",
    "            loss = loss_fn(outputs, labels.to(device))\n",
    "            loss.backward()\n",
    "            optimizer.step()\n",
    "\n",
    "            running_loss += loss.item()\n",
    "            train_bar.desc = f'train epoch[{epoch + 1}/{epochs}] loss:{loss:.3f}'\n",
    "\n",
    "        # 校验代码\n",
    "        net.eval()\n",
    "        acc = 0.0\n",
    "        with torch.no_grad():\n",
    "            val_bar = tqdm(validate_loader, file=sys.stdout)\n",
    "            for val_data in val_bar:\n",
    "                val_images, val_labels = val_data['image'], val_data['defect']\n",
    "                outputs = net(val_images.to(device))\n",
    "                predict_y = torch.max(outputs, dim=1)[1]\n",
    "                acc += torch.eq(predict_y, val_labels.to(device)).sum().item()\n",
    "        val_accuracy = acc / val_num\n",
    "        print(f'[epoch {epoch + 1} train_loss: {running_loss / train_steps:.3f},'\n",
    "              f'val_accuracy:{val_accuracy:.3f}')\n",
    "        if val_accuracy > best_acc:\n",
    "            best_acc = val_accuracy\n",
    "            torch.save(net.state_dict(), save_path)\n",
    "\n",
    "\n",
    "if __name__ == '__main__':\n",
    "    main()"
   ]
  },
  {
   "cell_type": "markdown",
   "id": "8ae820cc",
   "metadata": {},
   "source": [
    "# 模型预测"
   ]
  },
  {
   "cell_type": "code",
   "execution_count": null,
   "id": "30fb394a",
   "metadata": {
    "ExecuteTime": {
     "start_time": "2022-06-21T10:05:50.170Z"
    }
   },
   "outputs": [],
   "source": [
    "import matplotlib.pyplot as plt\n",
    "def main():\n",
    "    device = torch.device('cuda:0' if torch.cuda.is_available() else 'cpu')\n",
    "    data_transform = transforms.Compose([\n",
    "                    transforms.ToTensor(),\n",
    "                    transforms.Normalize(mean=[0.485, 0.456, 0.406],\n",
    "                                     std=[0.229, 0.224, 0.225]),\n",
    "                    transforms.Resize((200, 200))\n",
    "        ])\n",
    "    img_path = 'Cr_1.bmp'\n",
    "    assert os.path.exists(img_path), f'{img_path} does not exist'\n",
    "\n",
    "    img = cv.imread(img_path)\n",
    "    img = cv.cvtColor(img, cv.COLOR_BGR2RGB)\n",
    "    plt.imshow(img)\n",
    "    img = data_transform(img)\n",
    "    img = torch.unsqueeze(img, dim=0)\n",
    "\n",
    "    json_path = './class_indices.json'\n",
    "    assert os.path.exists(json_path), f'{json_path} does not exist'\n",
    "    with open(json_path, 'r') as f:\n",
    "        class_dict = json.load(f)\n",
    "\n",
    "    model = SurfaceDectectResNet(num_classes=6).to(device)\n",
    "    weights_path = './model.pth'\n",
    "    assert os.path.exists(weights_path), f'{weights_path} does not exist'\n",
    "    model.load_state_dict(torch.load(weights_path))\n",
    "\n",
    "    model.eval()\n",
    "    with torch.no_grad():\n",
    "        output = model(img.to(device))\n",
    "        output = torch.squeeze(output).cpu()\n",
    "        predict = torch.softmax(output, dim=0)\n",
    "        predict_class = torch.argmax(predict).numpy()\n",
    "\n",
    "    print_res = f'class: {class_dict[str(predict_class)]}, prob:{predict[predict_class].numpy()}'\n",
    "    plt.title(print_res)\n",
    "    plt.show()\n",
    "\n",
    "\n",
    "if __name__ == '__main__':\n",
    "    main()"
   ]
  },
  {
   "cell_type": "code",
   "execution_count": null,
   "id": "e9434d5d",
   "metadata": {},
   "outputs": [],
   "source": []
  }
 ],
 "metadata": {
  "hide_input": false,
  "kernelspec": {
   "display_name": "Python 3 (ipykernel)",
   "language": "python",
   "name": "python3"
  },
  "language_info": {
   "codemirror_mode": {
    "name": "ipython",
    "version": 3
   },
   "file_extension": ".py",
   "mimetype": "text/x-python",
   "name": "python",
   "nbconvert_exporter": "python",
   "pygments_lexer": "ipython3",
   "version": "3.9.7"
  },
  "latex_envs": {
   "LaTeX_envs_menu_present": true,
   "autoclose": false,
   "autocomplete": true,
   "bibliofile": "biblio.bib",
   "cite_by": "apalike",
   "current_citInitial": 1,
   "eqLabelWithNumbers": true,
   "eqNumInitial": 1,
   "hotkeys": {
    "equation": "Ctrl-E",
    "itemize": "Ctrl-I"
   },
   "labels_anchors": false,
   "latex_user_defs": false,
   "report_style_numbering": false,
   "user_envs_cfg": false
  },
  "nbTranslate": {
   "displayLangs": [
    "*"
   ],
   "hotkey": "alt-t",
   "langInMainMenu": true,
   "sourceLang": "en",
   "targetLang": "fr",
   "useGoogleTranslate": true
  },
  "toc": {
   "base_numbering": 1,
   "nav_menu": {},
   "number_sections": true,
   "sideBar": true,
   "skip_h1_title": false,
   "title_cell": "Table of Contents",
   "title_sidebar": "Contents",
   "toc_cell": false,
   "toc_position": {},
   "toc_section_display": true,
   "toc_window_display": false
  },
  "varInspector": {
   "cols": {
    "lenName": 16,
    "lenType": 16,
    "lenVar": 40
   },
   "kernels_config": {
    "python": {
     "delete_cmd_postfix": "",
     "delete_cmd_prefix": "del ",
     "library": "var_list.py",
     "varRefreshCmd": "print(var_dic_list())"
    },
    "r": {
     "delete_cmd_postfix": ") ",
     "delete_cmd_prefix": "rm(",
     "library": "var_list.r",
     "varRefreshCmd": "cat(var_dic_list()) "
    }
   },
   "types_to_exclude": [
    "module",
    "function",
    "builtin_function_or_method",
    "instance",
    "_Feature"
   ],
   "window_display": false
  }
 },
 "nbformat": 4,
 "nbformat_minor": 5
}
