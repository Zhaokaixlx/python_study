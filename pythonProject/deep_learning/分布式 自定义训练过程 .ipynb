{
 "cells": [
  {
   "cell_type": "code",
   "execution_count": 1,
   "metadata": {
    "ExecuteTime": {
     "end_time": "2022-03-04T12:07:36.647343Z",
     "start_time": "2022-03-04T12:07:30.252820Z"
    }
   },
   "outputs": [],
   "source": [
    "from tensorflow import keras\n",
    "import tensorflow as tf\n",
    "import numpy as np\n",
    "import pandas as pd\n",
    "import matplotlib.pyplot as plt\n",
    "import time"
   ]
  },
  {
   "cell_type": "code",
   "execution_count": 2,
   "metadata": {
    "ExecuteTime": {
     "end_time": "2022-03-04T12:07:36.662417Z",
     "start_time": "2022-03-04T12:07:36.650336Z"
    }
   },
   "outputs": [],
   "source": [
    "# 打开显示\n",
    "tf.debugging.set_log_device_placement(False)"
   ]
  },
  {
   "cell_type": "code",
   "execution_count": 3,
   "metadata": {
    "ExecuteTime": {
     "end_time": "2022-03-04T12:07:37.317060Z",
     "start_time": "2022-03-04T12:07:36.664298Z"
    }
   },
   "outputs": [],
   "source": [
    "# 显示电脑上的物理GPU\n",
    "gpus = tf.config.experimental.list_physical_devices('GPU')"
   ]
  },
  {
   "cell_type": "code",
   "execution_count": 4,
   "metadata": {
    "ExecuteTime": {
     "end_time": "2022-03-04T12:07:37.331021Z",
     "start_time": "2022-03-04T12:07:37.318055Z"
    }
   },
   "outputs": [
    {
     "data": {
      "text/plain": [
       "[PhysicalDevice(name='/physical_device:GPU:0', device_type='GPU')]"
      ]
     },
     "execution_count": 4,
     "metadata": {},
     "output_type": "execute_result"
    }
   ],
   "source": [
    "gpus"
   ]
  },
  {
   "cell_type": "code",
   "execution_count": 5,
   "metadata": {
    "ExecuteTime": {
     "end_time": "2022-03-04T12:07:37.345981Z",
     "start_time": "2022-03-04T12:07:37.332019Z"
    }
   },
   "outputs": [],
   "source": [
    "# 需要在GPU没有初始化之前执行. \n",
    "tf.config.experimental.set_virtual_device_configuration(\n",
    "    gpus[0],\n",
    "    [tf.config.experimental.VirtualDeviceConfiguration(memory_limit=2048),\n",
    "    tf.config.experimental.VirtualDeviceConfiguration(memory_limit=2048),\n",
    "    tf.config.experimental.VirtualDeviceConfiguration(memory_limit=2048)]\n",
    ")"
   ]
  },
  {
   "cell_type": "code",
   "execution_count": 6,
   "metadata": {
    "ExecuteTime": {
     "end_time": "2022-03-04T12:07:39.428461Z",
     "start_time": "2022-03-04T12:07:37.347976Z"
    }
   },
   "outputs": [],
   "source": [
    "# 逻辑GPU\n",
    "logical_gpus = tf.config.experimental.list_logical_devices('GPU')"
   ]
  },
  {
   "cell_type": "code",
   "execution_count": 7,
   "metadata": {
    "ExecuteTime": {
     "end_time": "2022-03-04T12:07:39.828392Z",
     "start_time": "2022-03-04T12:07:39.429459Z"
    },
    "scrolled": false
   },
   "outputs": [
    {
     "name": "stdout",
     "output_type": "stream",
     "text": [
      "(5000, 28, 28) (5000,)\n",
      "(55000, 28, 28) (55000,)\n",
      "(10000, 28, 28) (10000,)\n"
     ]
    }
   ],
   "source": [
    "fashion_mnist = keras.datasets.fashion_mnist\n",
    "(x_train_all, y_train_all), (x_test, y_test) = fashion_mnist.load_data()\n",
    "x_valid, x_train = x_train_all[:5000], x_train_all[5000:]\n",
    "y_valid, y_train = y_train_all[:5000], y_train_all[5000:]\n",
    "\n",
    "print(x_valid.shape, y_valid.shape)\n",
    "print(x_train.shape, y_train.shape)\n",
    "print(x_test.shape, y_test.shape)"
   ]
  },
  {
   "cell_type": "code",
   "execution_count": 8,
   "metadata": {
    "ExecuteTime": {
     "end_time": "2022-03-04T12:07:39.921655Z",
     "start_time": "2022-03-04T12:07:39.831384Z"
    }
   },
   "outputs": [
    {
     "data": {
      "text/plain": [
       "(55000, 784)"
      ]
     },
     "execution_count": 8,
     "metadata": {},
     "output_type": "execute_result"
    }
   ],
   "source": [
    "x_train.astype(np.float32).reshape(-1, 784).shape"
   ]
  },
  {
   "cell_type": "code",
   "execution_count": 9,
   "metadata": {
    "ExecuteTime": {
     "end_time": "2022-03-04T12:07:41.559307Z",
     "start_time": "2022-03-04T12:07:39.923648Z"
    }
   },
   "outputs": [],
   "source": [
    "# 标准化\n",
    "from sklearn.preprocessing import StandardScaler\n",
    "\n",
    "scaler = StandardScaler()\n",
    "x_train_scaled = scaler.fit_transform(x_train.astype(np.float32).reshape(55000, -1))\n",
    "x_valid_scaled = scaler.transform(x_valid.astype(np.float32).reshape(5000, -1))\n",
    "\n",
    "x_test_scaled = scaler.transform(x_test.astype(np.float32).reshape(10000, -1))"
   ]
  },
  {
   "cell_type": "code",
   "execution_count": 10,
   "metadata": {
    "ExecuteTime": {
     "end_time": "2022-03-04T12:07:41.822619Z",
     "start_time": "2022-03-04T12:07:41.560302Z"
    }
   },
   "outputs": [
    {
     "name": "stdout",
     "output_type": "stream",
     "text": [
      "WARNING:tensorflow:NCCL is not supported when using virtual GPUs, fallingback to reduction to one device\n",
      "INFO:tensorflow:Using MirroredStrategy with devices ('/job:localhost/replica:0/task:0/device:GPU:0', '/job:localhost/replica:0/task:0/device:GPU:1', '/job:localhost/replica:0/task:0/device:GPU:2')\n"
     ]
    }
   ],
   "source": [
    "def make_dataset(data, target, epochs, batch_size, shuffle=True):\n",
    "    dataset = tf.data.Dataset.from_tensor_slices((data, target))\n",
    "    if shuffle:\n",
    "        dataset = dataset.shuffle(10000)\n",
    "    dataset = dataset.repeat(epochs).batch(batch_size).prefetch(50)\n",
    "    return dataset\n",
    "\n",
    "# 产生分布式的dataset\n",
    "strategy = tf.distribute.MirroredStrategy()\n",
    "with strategy.scope():\n",
    "    batch_size_per_replica = 32\n",
    "    batch_size = batch_size_per_replica * len(logical_gpus)\n",
    "    train_dataset = make_dataset(x_train_scaled, y_train, 1, batch_size)\n",
    "    valid_dataset = make_dataset(x_valid_scaled, y_valid, 1, batch_size)\n",
    "    # 把一个dataset变成分布式dataset\n",
    "    train_dataset_distribute = strategy.experimental_distribute_dataset(train_dataset)\n",
    "    valid_dataset_distribute = strategy.experimental_distribute_dataset(valid_dataset)"
   ]
  },
  {
   "cell_type": "code",
   "execution_count": 11,
   "metadata": {
    "ExecuteTime": {
     "end_time": "2022-03-04T12:07:42.172683Z",
     "start_time": "2022-03-04T12:07:41.823619Z"
    },
    "scrolled": false
   },
   "outputs": [
    {
     "name": "stdout",
     "output_type": "stream",
     "text": [
      "INFO:tensorflow:Reduce to /job:localhost/replica:0/task:0/device:CPU:0 then broadcast to ('/job:localhost/replica:0/task:0/device:CPU:0',).\n",
      "INFO:tensorflow:Reduce to /job:localhost/replica:0/task:0/device:CPU:0 then broadcast to ('/job:localhost/replica:0/task:0/device:CPU:0',).\n",
      "INFO:tensorflow:Reduce to /job:localhost/replica:0/task:0/device:CPU:0 then broadcast to ('/job:localhost/replica:0/task:0/device:CPU:0',).\n",
      "INFO:tensorflow:Reduce to /job:localhost/replica:0/task:0/device:CPU:0 then broadcast to ('/job:localhost/replica:0/task:0/device:CPU:0',).\n"
     ]
    }
   ],
   "source": [
    "with strategy.scope():\n",
    "    model = keras.models.Sequential()\n",
    "    model.add(keras.layers.Dense(512, activation='relu', input_shape=(784,)))\n",
    "    model.add(keras.layers.Dense(256, activation='relu'))\n",
    "    model.add(keras.layers.Dense(10, activation='softmax'))\n",
    "\n",
    "    model.compile(loss='sparse_categorical_crossentropy',\n",
    "                 optimizer='adam',\n",
    "                 metrics=['accuracy'])"
   ]
  },
  {
   "cell_type": "code",
   "execution_count": 12,
   "metadata": {
    "ExecuteTime": {
     "end_time": "2022-03-04T12:07:42.187644Z",
     "start_time": "2022-03-04T12:07:42.173680Z"
    },
    "scrolled": true
   },
   "outputs": [
    {
     "name": "stdout",
     "output_type": "stream",
     "text": [
      "Model: \"sequential\"\n",
      "_________________________________________________________________\n",
      "Layer (type)                 Output Shape              Param #   \n",
      "=================================================================\n",
      "dense (Dense)                (None, 512)               401920    \n",
      "_________________________________________________________________\n",
      "dense_1 (Dense)              (None, 256)               131328    \n",
      "_________________________________________________________________\n",
      "dense_2 (Dense)              (None, 10)                2570      \n",
      "=================================================================\n",
      "Total params: 535,818\n",
      "Trainable params: 535,818\n",
      "Non-trainable params: 0\n",
      "_________________________________________________________________\n"
     ]
    }
   ],
   "source": [
    "model.summary()"
   ]
  },
  {
   "cell_type": "code",
   "execution_count": 13,
   "metadata": {
    "ExecuteTime": {
     "end_time": "2022-03-04T12:07:42.203600Z",
     "start_time": "2022-03-04T12:07:42.189639Z"
    },
    "scrolled": true
   },
   "outputs": [],
   "source": [
    "eval_dataset = make_dataset(x_valid_scaled, y_valid, epochs=1, batch_size=32, shuffle=False)"
   ]
  },
  {
   "cell_type": "code",
   "execution_count": 14,
   "metadata": {
    "ExecuteTime": {
     "end_time": "2022-03-04T12:07:42.264441Z",
     "start_time": "2022-03-04T12:07:42.205596Z"
    }
   },
   "outputs": [
    {
     "name": "stdout",
     "output_type": "stream",
     "text": [
      "INFO:tensorflow:Reduce to /job:localhost/replica:0/task:0/device:CPU:0 then broadcast to ('/job:localhost/replica:0/task:0/device:CPU:0',).\n",
      "INFO:tensorflow:Reduce to /job:localhost/replica:0/task:0/device:CPU:0 then broadcast to ('/job:localhost/replica:0/task:0/device:CPU:0',).\n",
      "INFO:tensorflow:Reduce to /job:localhost/replica:0/task:0/device:CPU:0 then broadcast to ('/job:localhost/replica:0/task:0/device:CPU:0',).\n",
      "INFO:tensorflow:Reduce to /job:localhost/replica:0/task:0/device:CPU:0 then broadcast to ('/job:localhost/replica:0/task:0/device:CPU:0',).\n",
      "INFO:tensorflow:Reduce to /job:localhost/replica:0/task:0/device:CPU:0 then broadcast to ('/job:localhost/replica:0/task:0/device:CPU:0',).\n",
      "INFO:tensorflow:Reduce to /job:localhost/replica:0/task:0/device:CPU:0 then broadcast to ('/job:localhost/replica:0/task:0/device:CPU:0',).\n"
     ]
    }
   ],
   "source": [
    "# 自定义训练过程\n",
    "with strategy.scope():\n",
    "    loss_func = keras.losses.SparseCategoricalCrossentropy(\n",
    "        reduction=keras.losses.Reduction.NONE)\n",
    "    def compute_loss(labels, predictions):\n",
    "        per_relica_loss = loss_func(labels, predictions)\n",
    "        return tf.nn.compute_average_loss(per_relica_loss, global_batch_size=batch_size)\n",
    "\n",
    "\n",
    "    test_loss = keras.metrics.Mean(name='test_loss')\n",
    "\n",
    "    train_accuracy = keras.metrics.SparseCategoricalAccuracy(name='train_accuracy')\n",
    "    test_accuracy = keras.metrics.SparseCategoricalAccuracy(name='test_accuracy')\n",
    "\n",
    "    optimizer = keras.optimizers.Adam()\n",
    "\n",
    "    def train_step(inputs):\n",
    "        images, labels = inputs\n",
    "        with tf.GradientTape() as tape:\n",
    "            predictions = model(images, training=True)\n",
    "            loss = loss_func(labels, predictions)\n",
    "        gradients = tape.gradient(loss, model.trainable_variables)\n",
    "        optimizer.apply_gradients(zip(gradients, model.trainable_variables))\n",
    "        train_accuracy.update_state(labels, predictions)\n",
    "        return loss\n",
    "    \n",
    "    # 分布式训练\n",
    "    @tf.function\n",
    "    def distributed_train_step(inputs):\n",
    "        per_replica_average_loss = strategy.run(train_step, \n",
    "                                                args=(inputs, ))\n",
    "        return strategy.reduce(tf.distribute.ReduceOp.SUM, \n",
    "                               per_replica_average_loss, \n",
    "                               axis=None)\n",
    "        \n",
    "\n",
    "    def test_step(inputs):\n",
    "        images, labels = inputs\n",
    "        predictions = model(images)\n",
    "        t_loss = loss_func(labels, predictions)\n",
    "        test_loss.update_state(t_loss)\n",
    "        test_accuracy.update_state(labels, predictions)\n",
    "        \n",
    "    @tf.function \n",
    "    def distributed_test_step(inputs):\n",
    "        strategy.run(test_step, args=(inputs,))\n",
    "    "
   ]
  },
  {
   "cell_type": "code",
   "execution_count": 17,
   "metadata": {
    "ExecuteTime": {
     "end_time": "2022-03-04T12:10:48.204933Z",
     "start_time": "2022-03-04T12:09:51.746274Z"
    },
    "scrolled": false
   },
   "outputs": [
    {
     "name": "stdout",
     "output_type": "stream",
     "text": [
      "Epoch: 1, Loss: 70674.820, Acc: 0.843, Val_Loss: 0.349, Val_acc:0.874\n",
      "Epoch: 2, Loss: 52547.234, Acc: 0.882, Val_Loss: 0.336, Val_acc:0.879\n",
      "Epoch: 3, Loss: 46004.730, Acc: 0.896, Val_Loss: 0.361, Val_acc:0.876\n",
      "Epoch: 4, Loss: 40624.246, Acc: 0.906, Val_Loss: 0.311, Val_acc:0.888\n",
      "Epoch: 5, Loss: 37430.109, Acc: 0.915, Val_Loss: 0.330, Val_acc:0.884\n",
      "Epoch: 6, Loss: 33788.613, Acc: 0.923, Val_Loss: 0.351, Val_acc:0.887\n",
      "Epoch: 7, Loss: 31725.959, Acc: 0.927, Val_Loss: 0.337, Val_acc:0.892\n",
      "Epoch: 8, Loss: 28040.779, Acc: 0.936, Val_Loss: 0.353, Val_acc:0.892\n",
      "Epoch: 9, Loss: 26345.023, Acc: 0.939, Val_Loss: 0.366, Val_acc:0.885\n",
      "Epoch: 10, Loss: 23572.512, Acc: 0.945, Val_Loss: 0.347, Val_acc:0.901\n"
     ]
    }
   ],
   "source": [
    "#  训练过程\n",
    "epochs = 10\n",
    "for epoch in range(epochs):\n",
    "    total_loss = 0.0\n",
    "    num_batches = 0\n",
    "    for x in train_dataset:\n",
    "        start_time = time.time()\n",
    "        total_loss += tf.reduce_sum(distributed_train_step(x))\n",
    "        run_time = time.time() - start_time\n",
    "        num_batches += 1\n",
    "        \n",
    "#         print(total_loss)\n",
    "        print('\\rtotal: %3.3f, num_batches: %d, '\n",
    "              'average: %3.3f, time: %3.3f'\n",
    "              % (total_loss, num_batches, total_loss / num_batches, run_time), end='')\n",
    "        \n",
    "    train_loss = total_loss / num_batches\n",
    "    for x in eval_dataset:\n",
    "        distributed_test_step(x)\n",
    "        \n",
    "    print('\\rEpoch: %d, Loss: %3.3f, Acc: %3.3f, '\n",
    "         'Val_Loss: %3.3f, Val_acc:%3.3f' % (epoch + 1, total_loss, train_accuracy.result(),\n",
    "                                             test_loss.result(), test_accuracy.result()))\n",
    "    test_loss.reset_states()\n",
    "    train_accuracy.reset_states()\n",
    "    test_accuracy.reset_states()"
   ]
  },
  {
   "cell_type": "code",
   "execution_count": null,
   "metadata": {
    "ExecuteTime": {
     "end_time": "2022-03-04T12:07:48.416098Z",
     "start_time": "2022-03-04T12:07:30.266Z"
    }
   },
   "outputs": [],
   "source": [
    "strategy.run()"
   ]
  }
 ],
 "metadata": {
  "hide_input": false,
  "kernelspec": {
   "display_name": "Python 3 (ipykernel)",
   "language": "python",
   "name": "python3"
  },
  "language_info": {
   "codemirror_mode": {
    "name": "ipython",
    "version": 3
   },
   "file_extension": ".py",
   "mimetype": "text/x-python",
   "name": "python",
   "nbconvert_exporter": "python",
   "pygments_lexer": "ipython3",
   "version": "3.9.7"
  },
  "latex_envs": {
   "LaTeX_envs_menu_present": true,
   "autoclose": false,
   "autocomplete": true,
   "bibliofile": "biblio.bib",
   "cite_by": "apalike",
   "current_citInitial": 1,
   "eqLabelWithNumbers": true,
   "eqNumInitial": 1,
   "hotkeys": {
    "equation": "Ctrl-E",
    "itemize": "Ctrl-I"
   },
   "labels_anchors": false,
   "latex_user_defs": false,
   "report_style_numbering": false,
   "user_envs_cfg": false
  },
  "nbTranslate": {
   "displayLangs": [
    "*"
   ],
   "hotkey": "alt-t",
   "langInMainMenu": true,
   "sourceLang": "en",
   "targetLang": "fr",
   "useGoogleTranslate": true
  },
  "toc": {
   "base_numbering": 1,
   "nav_menu": {},
   "number_sections": true,
   "sideBar": true,
   "skip_h1_title": false,
   "title_cell": "Table of Contents",
   "title_sidebar": "Contents",
   "toc_cell": false,
   "toc_position": {},
   "toc_section_display": true,
   "toc_window_display": false
  },
  "varInspector": {
   "cols": {
    "lenName": 16,
    "lenType": 16,
    "lenVar": 40
   },
   "kernels_config": {
    "python": {
     "delete_cmd_postfix": "",
     "delete_cmd_prefix": "del ",
     "library": "var_list.py",
     "varRefreshCmd": "print(var_dic_list())"
    },
    "r": {
     "delete_cmd_postfix": ") ",
     "delete_cmd_prefix": "rm(",
     "library": "var_list.r",
     "varRefreshCmd": "cat(var_dic_list()) "
    }
   },
   "types_to_exclude": [
    "module",
    "function",
    "builtin_function_or_method",
    "instance",
    "_Feature"
   ],
   "window_display": false
  }
 },
 "nbformat": 4,
 "nbformat_minor": 4
}
