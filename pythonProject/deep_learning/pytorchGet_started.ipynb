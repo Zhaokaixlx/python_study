{
 "cells": [
  {
   "cell_type": "code",
   "execution_count": 1,
   "id": "d3db90bd",
   "metadata": {
    "ExecuteTime": {
     "end_time": "2022-06-13T11:58:45.982891Z",
     "start_time": "2022-06-13T11:58:43.592091Z"
    }
   },
   "outputs": [],
   "source": [
    "import torch \n",
    "import numpy as np"
   ]
  },
  {
   "cell_type": "code",
   "execution_count": 4,
   "id": "73891944",
   "metadata": {
    "ExecuteTime": {
     "end_time": "2022-06-13T11:59:47.011933Z",
     "start_time": "2022-06-13T11:59:46.997773Z"
    },
    "collapsed": true
   },
   "outputs": [
    {
     "ename": "AssertionError",
     "evalue": "Torch not compiled with CUDA enabled",
     "output_type": "error",
     "traceback": [
      "\u001b[1;31m---------------------------------------------------------------------------\u001b[0m",
      "\u001b[1;31mAssertionError\u001b[0m                            Traceback (most recent call last)",
      "\u001b[1;32mC:\\Users\\ADMINI~1\\AppData\\Local\\Temp/ipykernel_5552/1384976403.py\u001b[0m in \u001b[0;36m<module>\u001b[1;34m\u001b[0m\n\u001b[0;32m      1\u001b[0m \u001b[1;31m# 打印cuda设备, 即显卡名字\u001b[0m\u001b[1;33m\u001b[0m\u001b[1;33m\u001b[0m\u001b[0m\n\u001b[1;32m----> 2\u001b[1;33m \u001b[0mtorch\u001b[0m\u001b[1;33m.\u001b[0m\u001b[0mcuda\u001b[0m\u001b[1;33m.\u001b[0m\u001b[0mget_device_name\u001b[0m\u001b[1;33m(\u001b[0m\u001b[1;36m0\u001b[0m\u001b[1;33m)\u001b[0m\u001b[1;33m\u001b[0m\u001b[1;33m\u001b[0m\u001b[0m\n\u001b[0m",
      "\u001b[1;32mC:\\ProgramData\\Anaconda3\\lib\\site-packages\\torch\\cuda\\__init__.py\u001b[0m in \u001b[0;36mget_device_name\u001b[1;34m(device)\u001b[0m\n\u001b[0;32m    326\u001b[0m         \u001b[0mstr\u001b[0m\u001b[1;33m:\u001b[0m \u001b[0mthe\u001b[0m \u001b[0mname\u001b[0m \u001b[0mof\u001b[0m \u001b[0mthe\u001b[0m \u001b[0mdevice\u001b[0m\u001b[1;33m\u001b[0m\u001b[1;33m\u001b[0m\u001b[0m\n\u001b[0;32m    327\u001b[0m     \"\"\"\n\u001b[1;32m--> 328\u001b[1;33m     \u001b[1;32mreturn\u001b[0m \u001b[0mget_device_properties\u001b[0m\u001b[1;33m(\u001b[0m\u001b[0mdevice\u001b[0m\u001b[1;33m)\u001b[0m\u001b[1;33m.\u001b[0m\u001b[0mname\u001b[0m\u001b[1;33m\u001b[0m\u001b[1;33m\u001b[0m\u001b[0m\n\u001b[0m\u001b[0;32m    329\u001b[0m \u001b[1;33m\u001b[0m\u001b[0m\n\u001b[0;32m    330\u001b[0m \u001b[1;33m\u001b[0m\u001b[0m\n",
      "\u001b[1;32mC:\\ProgramData\\Anaconda3\\lib\\site-packages\\torch\\cuda\\__init__.py\u001b[0m in \u001b[0;36mget_device_properties\u001b[1;34m(device)\u001b[0m\n\u001b[0;32m    356\u001b[0m         \u001b[0m_CudaDeviceProperties\u001b[0m\u001b[1;33m:\u001b[0m \u001b[0mthe\u001b[0m \u001b[0mproperties\u001b[0m \u001b[0mof\u001b[0m \u001b[0mthe\u001b[0m \u001b[0mdevice\u001b[0m\u001b[1;33m\u001b[0m\u001b[1;33m\u001b[0m\u001b[0m\n\u001b[0;32m    357\u001b[0m     \"\"\"\n\u001b[1;32m--> 358\u001b[1;33m     \u001b[0m_lazy_init\u001b[0m\u001b[1;33m(\u001b[0m\u001b[1;33m)\u001b[0m  \u001b[1;31m# will define _get_device_properties\u001b[0m\u001b[1;33m\u001b[0m\u001b[1;33m\u001b[0m\u001b[0m\n\u001b[0m\u001b[0;32m    359\u001b[0m     \u001b[0mdevice\u001b[0m \u001b[1;33m=\u001b[0m \u001b[0m_get_device_index\u001b[0m\u001b[1;33m(\u001b[0m\u001b[0mdevice\u001b[0m\u001b[1;33m,\u001b[0m \u001b[0moptional\u001b[0m\u001b[1;33m=\u001b[0m\u001b[1;32mTrue\u001b[0m\u001b[1;33m)\u001b[0m\u001b[1;33m\u001b[0m\u001b[1;33m\u001b[0m\u001b[0m\n\u001b[0;32m    360\u001b[0m     \u001b[1;32mif\u001b[0m \u001b[0mdevice\u001b[0m \u001b[1;33m<\u001b[0m \u001b[1;36m0\u001b[0m \u001b[1;32mor\u001b[0m \u001b[0mdevice\u001b[0m \u001b[1;33m>=\u001b[0m \u001b[0mdevice_count\u001b[0m\u001b[1;33m(\u001b[0m\u001b[1;33m)\u001b[0m\u001b[1;33m:\u001b[0m\u001b[1;33m\u001b[0m\u001b[1;33m\u001b[0m\u001b[0m\n",
      "\u001b[1;32mC:\\ProgramData\\Anaconda3\\lib\\site-packages\\torch\\cuda\\__init__.py\u001b[0m in \u001b[0;36m_lazy_init\u001b[1;34m()\u001b[0m\n\u001b[0;32m    208\u001b[0m                 \"multiprocessing, you must use the 'spawn' start method\")\n\u001b[0;32m    209\u001b[0m         \u001b[1;32mif\u001b[0m \u001b[1;32mnot\u001b[0m \u001b[0mhasattr\u001b[0m\u001b[1;33m(\u001b[0m\u001b[0mtorch\u001b[0m\u001b[1;33m.\u001b[0m\u001b[0m_C\u001b[0m\u001b[1;33m,\u001b[0m \u001b[1;34m'_cuda_getDeviceCount'\u001b[0m\u001b[1;33m)\u001b[0m\u001b[1;33m:\u001b[0m\u001b[1;33m\u001b[0m\u001b[1;33m\u001b[0m\u001b[0m\n\u001b[1;32m--> 210\u001b[1;33m             \u001b[1;32mraise\u001b[0m \u001b[0mAssertionError\u001b[0m\u001b[1;33m(\u001b[0m\u001b[1;34m\"Torch not compiled with CUDA enabled\"\u001b[0m\u001b[1;33m)\u001b[0m\u001b[1;33m\u001b[0m\u001b[1;33m\u001b[0m\u001b[0m\n\u001b[0m\u001b[0;32m    211\u001b[0m         \u001b[1;32mif\u001b[0m \u001b[0m_cudart\u001b[0m \u001b[1;32mis\u001b[0m \u001b[1;32mNone\u001b[0m\u001b[1;33m:\u001b[0m\u001b[1;33m\u001b[0m\u001b[1;33m\u001b[0m\u001b[0m\n\u001b[0;32m    212\u001b[0m             raise AssertionError(\n",
      "\u001b[1;31mAssertionError\u001b[0m: Torch not compiled with CUDA enabled"
     ]
    }
   ],
   "source": [
    "# 打印cuda设备, 即显卡名字\n",
    "torch.cuda.get_device_name(0)"
   ]
  },
  {
   "cell_type": "code",
   "execution_count": 5,
   "id": "95056ad1",
   "metadata": {
    "ExecuteTime": {
     "end_time": "2022-06-13T12:00:44.605536Z",
     "start_time": "2022-06-13T12:00:44.601547Z"
    }
   },
   "outputs": [
    {
     "name": "stdout",
     "output_type": "stream",
     "text": [
      "False\n"
     ]
    }
   ],
   "source": [
    "print(torch.cuda.is_available())"
   ]
  },
  {
   "cell_type": "markdown",
   "id": "d7e1640b",
   "metadata": {},
   "source": [
    "# pytorch张量"
   ]
  },
  {
   "cell_type": "markdown",
   "id": "627d61e0",
   "metadata": {},
   "source": [
    "-pytorch中的张量和tensorflow的tensor是一样, 名字都一样. \n",
    "\n",
    "-pytorch中的张量也叫tensor\n",
    "\n",
    "-tensor和numpy中的ndarray也是一个意思. 只不过tensor可以在GPU上加速计算."
   ]
  },
  {
   "cell_type": "markdown",
   "id": "ea220bd7",
   "metadata": {},
   "source": [
    "## 创建tensor"
   ]
  },
  {
   "cell_type": "code",
   "execution_count": 6,
   "id": "801c3c3b",
   "metadata": {
    "ExecuteTime": {
     "end_time": "2022-06-13T12:04:06.007065Z",
     "start_time": "2022-06-13T12:04:05.979742Z"
    }
   },
   "outputs": [
    {
     "data": {
      "text/plain": [
       "tensor([6, 2], dtype=torch.int32)"
      ]
     },
     "execution_count": 6,
     "metadata": {},
     "output_type": "execute_result"
    }
   ],
   "source": [
    "# 创建tensor\n",
    "torch.tensor([6, 2], dtype=torch.int32)"
   ]
  },
  {
   "cell_type": "code",
   "execution_count": 7,
   "id": "9105e169",
   "metadata": {
    "ExecuteTime": {
     "end_time": "2022-06-13T12:05:04.793929Z",
     "start_time": "2022-06-13T12:05:04.778326Z"
    }
   },
   "outputs": [
    {
     "data": {
      "text/plain": [
       "tensor([6, 2])"
      ]
     },
     "execution_count": 7,
     "metadata": {},
     "output_type": "execute_result"
    }
   ],
   "source": [
    "torch.tensor((6, 2))"
   ]
  },
  {
   "cell_type": "code",
   "execution_count": 8,
   "id": "09b77afb",
   "metadata": {
    "ExecuteTime": {
     "end_time": "2022-06-13T12:05:37.624760Z",
     "start_time": "2022-06-13T12:05:37.612842Z"
    }
   },
   "outputs": [
    {
     "data": {
      "text/plain": [
       "tensor([ 8, 10], dtype=torch.int32)"
      ]
     },
     "execution_count": 8,
     "metadata": {},
     "output_type": "execute_result"
    }
   ],
   "source": [
    "torch.tensor(np.array([8, 10]))"
   ]
  },
  {
   "cell_type": "code",
   "execution_count": 9,
   "id": "b7eaa438",
   "metadata": {
    "ExecuteTime": {
     "end_time": "2022-06-13T12:07:01.621604Z",
     "start_time": "2022-06-13T12:07:01.612306Z"
    }
   },
   "outputs": [
    {
     "data": {
      "text/plain": [
       "tensor([[0.9900, 0.0268, 0.1239],\n",
       "        [0.0938, 0.0461, 0.4279]])"
      ]
     },
     "execution_count": 9,
     "metadata": {},
     "output_type": "execute_result"
    }
   ],
   "source": [
    "# 快速创建tensor的方法. 和numpy中的routines方法一样. \n",
    "# ones, zeros, full, eye, random.randn, random.normal...arange...random.rand, random.random\n",
    "# 创建一个0到1之间的随机数组成的tensor\n",
    "torch.rand(2, 3)\n",
    "torch.rand((2, 3))"
   ]
  },
  {
   "cell_type": "code",
   "execution_count": 10,
   "id": "1f5211c6",
   "metadata": {
    "ExecuteTime": {
     "end_time": "2022-06-13T12:07:44.262136Z",
     "start_time": "2022-06-13T12:07:44.251340Z"
    }
   },
   "outputs": [
    {
     "data": {
      "text/plain": [
       "tensor([[ 1.0018,  0.0474, -0.3836],\n",
       "        [ 0.9759,  0.0593, -0.9167]])"
      ]
     },
     "execution_count": 10,
     "metadata": {},
     "output_type": "execute_result"
    }
   ],
   "source": [
    "# 标准正态分布\n",
    "torch.randn(2, 3)"
   ]
  },
  {
   "cell_type": "code",
   "execution_count": 11,
   "id": "675f848d",
   "metadata": {
    "ExecuteTime": {
     "end_time": "2022-06-13T12:09:27.224947Z",
     "start_time": "2022-06-13T12:09:27.213108Z"
    }
   },
   "outputs": [
    {
     "data": {
      "text/plain": [
       "tensor([[0., 0., 0.],\n",
       "        [0., 0., 0.]])"
      ]
     },
     "execution_count": 11,
     "metadata": {},
     "output_type": "execute_result"
    }
   ],
   "source": [
    "torch.zeros(2,3)"
   ]
  },
  {
   "cell_type": "code",
   "execution_count": 12,
   "id": "5201d196",
   "metadata": {
    "ExecuteTime": {
     "end_time": "2022-06-13T12:09:46.722357Z",
     "start_time": "2022-06-13T12:09:46.715054Z"
    }
   },
   "outputs": [
    {
     "data": {
      "text/plain": [
       "tensor([[1., 1., 1.],\n",
       "        [1., 1., 1.]])"
      ]
     },
     "execution_count": 12,
     "metadata": {},
     "output_type": "execute_result"
    }
   ],
   "source": [
    "torch.ones(2,3)"
   ]
  },
  {
   "cell_type": "code",
   "execution_count": 13,
   "id": "31d2415a",
   "metadata": {
    "ExecuteTime": {
     "end_time": "2022-06-13T12:09:59.992235Z",
     "start_time": "2022-06-13T12:09:59.973431Z"
    }
   },
   "outputs": [
    {
     "data": {
      "text/plain": [
       "torch.Size([2, 3, 4])"
      ]
     },
     "execution_count": 13,
     "metadata": {},
     "output_type": "execute_result"
    }
   ],
   "source": [
    "# tensor的shape\n",
    "x = torch.ones(2, 3, 4)\n",
    "x.shape"
   ]
  },
  {
   "cell_type": "code",
   "execution_count": 14,
   "id": "c86e8c7c",
   "metadata": {
    "ExecuteTime": {
     "end_time": "2022-06-13T12:10:14.549161Z",
     "start_time": "2022-06-13T12:10:14.534910Z"
    }
   },
   "outputs": [
    {
     "data": {
      "text/plain": [
       "torch.Size([2, 3, 4])"
      ]
     },
     "execution_count": 14,
     "metadata": {},
     "output_type": "execute_result"
    }
   ],
   "source": [
    "# 可以通过.size()方法获取形状\n",
    "x.size()"
   ]
  },
  {
   "cell_type": "code",
   "execution_count": 16,
   "id": "84294be0",
   "metadata": {
    "ExecuteTime": {
     "end_time": "2022-06-13T12:10:52.731728Z",
     "start_time": "2022-06-13T12:10:52.713825Z"
    }
   },
   "outputs": [
    {
     "data": {
      "text/plain": [
       "4"
      ]
     },
     "execution_count": 16,
     "metadata": {},
     "output_type": "execute_result"
    }
   ],
   "source": [
    "# size中可以传shape的索引\n",
    "x.size(2)"
   ]
  },
  {
   "cell_type": "code",
   "execution_count": 17,
   "id": "cb0d0e50",
   "metadata": {
    "ExecuteTime": {
     "end_time": "2022-06-13T12:11:09.713489Z",
     "start_time": "2022-06-13T12:11:09.699185Z"
    }
   },
   "outputs": [
    {
     "data": {
      "text/plain": [
       "2"
      ]
     },
     "execution_count": 17,
     "metadata": {},
     "output_type": "execute_result"
    }
   ],
   "source": [
    "x.size(0)"
   ]
  },
  {
   "cell_type": "markdown",
   "id": "ec1e54dd",
   "metadata": {},
   "source": [
    "# tensor中的基础数据类型"
   ]
  },
  {
   "cell_type": "markdown",
   "id": "3936fda0",
   "metadata": {
    "ExecuteTime": {
     "end_time": "2022-06-13T12:13:57.367457Z",
     "start_time": "2022-06-13T12:13:57.360295Z"
    }
   },
   "source": [
    "- 32位浮点数: torch.float32\n",
    "- 64位浮点数: torch.float64\n",
    "- 32整数: torch.int32\n",
    "- 16整数: torch.int16\n",
    "- 64整数: torch.int64"
   ]
  },
  {
   "cell_type": "code",
   "execution_count": 19,
   "id": "b9bda51f",
   "metadata": {
    "ExecuteTime": {
     "end_time": "2022-06-13T12:14:20.818289Z",
     "start_time": "2022-06-13T12:14:20.805777Z"
    }
   },
   "outputs": [
    {
     "data": {
      "text/plain": [
       "tensor([6., 2.])"
      ]
     },
     "execution_count": 19,
     "metadata": {},
     "output_type": "execute_result"
    }
   ],
   "source": [
    "# 我们可以在创建tensor时候指定数据类型\n",
    "torch.tensor([6, 2], dtype=torch.float32)"
   ]
  },
  {
   "cell_type": "markdown",
   "id": "59c3c7fb",
   "metadata": {},
   "source": [
    "tensorflow不能直接用tensor方法来创建tensor\n",
    "\n",
    "tensorflow提供了constant, Variable \n",
    "\n",
    "keras: deeplearning for human"
   ]
  },
  {
   "cell_type": "code",
   "execution_count": 20,
   "id": "d72fcec4",
   "metadata": {
    "ExecuteTime": {
     "end_time": "2022-06-13T12:16:03.491467Z",
     "start_time": "2022-06-13T12:16:03.465301Z"
    }
   },
   "outputs": [
    {
     "data": {
      "text/plain": [
       "array([[ 1.47794424, -0.29524533, -1.44897026],\n",
       "       [-0.11100034,  0.3654316 , -1.11984385]])"
      ]
     },
     "execution_count": 20,
     "metadata": {},
     "output_type": "execute_result"
    }
   ],
   "source": [
    "# tensor和ndarray很方便的进行转化\n",
    "n = np.random.randn(2, 3)\n",
    "n"
   ]
  },
  {
   "cell_type": "code",
   "execution_count": 21,
   "id": "50b44bb7",
   "metadata": {
    "ExecuteTime": {
     "end_time": "2022-06-13T12:17:59.191787Z",
     "start_time": "2022-06-13T12:17:59.176254Z"
    }
   },
   "outputs": [],
   "source": [
    "a = torch.from_numpy(n)"
   ]
  },
  {
   "cell_type": "code",
   "execution_count": 22,
   "id": "e1965493",
   "metadata": {
    "ExecuteTime": {
     "end_time": "2022-06-13T12:18:07.974959Z",
     "start_time": "2022-06-13T12:18:07.962118Z"
    }
   },
   "outputs": [
    {
     "data": {
      "text/plain": [
       "tensor([[ 1.4779, -0.2952, -1.4490],\n",
       "        [-0.1110,  0.3654, -1.1198]], dtype=torch.float64)"
      ]
     },
     "execution_count": 22,
     "metadata": {},
     "output_type": "execute_result"
    }
   ],
   "source": [
    "a"
   ]
  },
  {
   "cell_type": "code",
   "execution_count": 24,
   "id": "9688fa6b",
   "metadata": {
    "ExecuteTime": {
     "end_time": "2022-06-13T12:18:48.671259Z",
     "start_time": "2022-06-13T12:18:48.660446Z"
    }
   },
   "outputs": [
    {
     "data": {
      "text/plain": [
       "array([[ 1.47794424, -0.29524533, -1.44897026],\n",
       "       [-0.11100034,  0.3654316 , -1.11984385]])"
      ]
     },
     "execution_count": 24,
     "metadata": {},
     "output_type": "execute_result"
    }
   ],
   "source": [
    "a.numpy()"
   ]
  },
  {
   "cell_type": "code",
   "execution_count": 23,
   "id": "b1e01e3b",
   "metadata": {
    "ExecuteTime": {
     "end_time": "2022-06-13T12:18:35.180285Z",
     "start_time": "2022-06-13T12:18:26.610843Z"
    }
   },
   "outputs": [],
   "source": [
    "import tensorflow as tf"
   ]
  },
  {
   "cell_type": "code",
   "execution_count": 25,
   "id": "02dff84e",
   "metadata": {
    "ExecuteTime": {
     "end_time": "2022-06-13T12:19:22.402285Z",
     "start_time": "2022-06-13T12:19:18.399418Z"
    }
   },
   "outputs": [],
   "source": [
    "t = tf.constant(a)"
   ]
  },
  {
   "cell_type": "code",
   "execution_count": 26,
   "id": "63afb2c2",
   "metadata": {
    "ExecuteTime": {
     "end_time": "2022-06-13T12:19:28.381845Z",
     "start_time": "2022-06-13T12:19:28.367315Z"
    }
   },
   "outputs": [
    {
     "data": {
      "text/plain": [
       "<tf.Tensor: shape=(2, 3), dtype=float64, numpy=\n",
       "array([[ 1.47794424, -0.29524533, -1.44897026],\n",
       "       [-0.11100034,  0.3654316 , -1.11984385]])>"
      ]
     },
     "execution_count": 26,
     "metadata": {},
     "output_type": "execute_result"
    }
   ],
   "source": [
    "t"
   ]
  },
  {
   "cell_type": "code",
   "execution_count": 27,
   "id": "cbe846ee",
   "metadata": {
    "ExecuteTime": {
     "end_time": "2022-06-13T12:19:41.428169Z",
     "start_time": "2022-06-13T12:19:41.409585Z"
    }
   },
   "outputs": [
    {
     "data": {
      "text/plain": [
       "array([[ 1.47794424, -0.29524533, -1.44897026],\n",
       "       [-0.11100034,  0.3654316 , -1.11984385]])"
      ]
     },
     "execution_count": 27,
     "metadata": {},
     "output_type": "execute_result"
    }
   ],
   "source": [
    "t.numpy()"
   ]
  },
  {
   "cell_type": "markdown",
   "id": "b804f68e",
   "metadata": {},
   "source": [
    "# 张量运算"
   ]
  },
  {
   "cell_type": "code",
   "execution_count": 28,
   "id": "95a50123",
   "metadata": {
    "ExecuteTime": {
     "end_time": "2022-06-13T12:21:36.284433Z",
     "start_time": "2022-06-13T12:21:36.275366Z"
    }
   },
   "outputs": [
    {
     "data": {
      "text/plain": [
       "tensor([[1., 1., 1.],\n",
       "        [1., 1., 1.]])"
      ]
     },
     "execution_count": 28,
     "metadata": {},
     "output_type": "execute_result"
    }
   ],
   "source": [
    "# tensor运算规则和numpy的ndarray很像\n",
    "# 和单个数字运算\n",
    "t = torch.ones(2, 3)\n",
    "t"
   ]
  },
  {
   "cell_type": "code",
   "execution_count": 29,
   "id": "7b66b63d",
   "metadata": {
    "ExecuteTime": {
     "end_time": "2022-06-13T12:21:52.304744Z",
     "start_time": "2022-06-13T12:21:52.297352Z"
    }
   },
   "outputs": [
    {
     "data": {
      "text/plain": [
       "tensor([[4., 4., 4.],\n",
       "        [4., 4., 4.]])"
      ]
     },
     "execution_count": 29,
     "metadata": {},
     "output_type": "execute_result"
    }
   ],
   "source": [
    "t + 3"
   ]
  },
  {
   "cell_type": "code",
   "execution_count": 30,
   "id": "129c8a2f",
   "metadata": {
    "ExecuteTime": {
     "end_time": "2022-06-13T12:22:26.146164Z",
     "start_time": "2022-06-13T12:22:26.140831Z"
    }
   },
   "outputs": [
    {
     "data": {
      "text/plain": [
       "tensor([[4., 4., 4.],\n",
       "        [4., 4., 4.]])"
      ]
     },
     "execution_count": 30,
     "metadata": {},
     "output_type": "execute_result"
    }
   ],
   "source": [
    "torch.add(t, 3)"
   ]
  },
  {
   "cell_type": "code",
   "execution_count": 31,
   "id": "9d6ed37e",
   "metadata": {
    "ExecuteTime": {
     "end_time": "2022-06-13T12:22:40.761761Z",
     "start_time": "2022-06-13T12:22:40.755363Z"
    }
   },
   "outputs": [],
   "source": [
    "x1 = torch.ones(2, 3)"
   ]
  },
  {
   "cell_type": "code",
   "execution_count": 32,
   "id": "b725ba5d",
   "metadata": {
    "ExecuteTime": {
     "end_time": "2022-06-13T12:23:12.723852Z",
     "start_time": "2022-06-13T12:23:12.717780Z"
    }
   },
   "outputs": [
    {
     "data": {
      "text/plain": [
       "tensor([[2., 2., 2.],\n",
       "        [2., 2., 2.]])"
      ]
     },
     "execution_count": 32,
     "metadata": {},
     "output_type": "execute_result"
    }
   ],
   "source": [
    "# 对应位置的元素相加, element-wise操作 残差网络的+ 就是element-wise相加\n",
    "x1 + t"
   ]
  },
  {
   "cell_type": "code",
   "execution_count": 33,
   "id": "6a7b622a",
   "metadata": {
    "ExecuteTime": {
     "end_time": "2022-06-13T12:23:22.674071Z",
     "start_time": "2022-06-13T12:23:22.654398Z"
    }
   },
   "outputs": [
    {
     "data": {
      "text/plain": [
       "tensor([[2., 2., 2.],\n",
       "        [2., 2., 2.]])"
      ]
     },
     "execution_count": 33,
     "metadata": {},
     "output_type": "execute_result"
    }
   ],
   "source": [
    "# 有输出不会改变原始值\n",
    "t.add(x1)"
   ]
  },
  {
   "cell_type": "code",
   "execution_count": 34,
   "id": "a127464e",
   "metadata": {
    "ExecuteTime": {
     "end_time": "2022-06-13T12:23:36.009555Z",
     "start_time": "2022-06-13T12:23:35.989905Z"
    }
   },
   "outputs": [
    {
     "data": {
      "text/plain": [
       "tensor([[1., 1., 1.],\n",
       "        [1., 1., 1.]])"
      ]
     },
     "execution_count": 34,
     "metadata": {},
     "output_type": "execute_result"
    }
   ],
   "source": [
    "t"
   ]
  },
  {
   "cell_type": "code",
   "execution_count": 35,
   "id": "6f85d4b5",
   "metadata": {
    "ExecuteTime": {
     "end_time": "2022-06-13T12:24:09.393500Z",
     "start_time": "2022-06-13T12:24:09.385377Z"
    }
   },
   "outputs": [
    {
     "data": {
      "text/plain": [
       "tensor([[2., 2., 2.],\n",
       "        [2., 2., 2.]])"
      ]
     },
     "execution_count": 35,
     "metadata": {},
     "output_type": "execute_result"
    }
   ],
   "source": [
    "# 如果想改变原始值. pytorch中带下划线的操作会改变原始值.\n",
    "t.add_(x1)"
   ]
  },
  {
   "cell_type": "code",
   "execution_count": 36,
   "id": "9ce9f10f",
   "metadata": {
    "ExecuteTime": {
     "end_time": "2022-06-13T12:24:15.542246Z",
     "start_time": "2022-06-13T12:24:15.535276Z"
    }
   },
   "outputs": [
    {
     "data": {
      "text/plain": [
       "tensor([[2., 2., 2.],\n",
       "        [2., 2., 2.]])"
      ]
     },
     "execution_count": 36,
     "metadata": {},
     "output_type": "execute_result"
    }
   ],
   "source": [
    "t"
   ]
  },
  {
   "cell_type": "code",
   "execution_count": 39,
   "id": "43bd7a4f",
   "metadata": {
    "ExecuteTime": {
     "end_time": "2022-06-13T12:26:25.716814Z",
     "start_time": "2022-06-13T12:26:25.694745Z"
    }
   },
   "outputs": [
    {
     "ename": "_LinAlgError",
     "evalue": "torch.linalg.inv: The diagonal element 2 is zero, the inversion could not be completed because the input matrix is singular.",
     "output_type": "error",
     "traceback": [
      "\u001b[1;31m---------------------------------------------------------------------------\u001b[0m",
      "\u001b[1;31m_LinAlgError\u001b[0m                              Traceback (most recent call last)",
      "\u001b[1;32mC:\\Users\\ADMINI~1\\AppData\\Local\\Temp/ipykernel_5552/1368604717.py\u001b[0m in \u001b[0;36m<module>\u001b[1;34m\u001b[0m\n\u001b[0;32m      1\u001b[0m \u001b[0mb\u001b[0m \u001b[1;33m=\u001b[0m \u001b[0mtorch\u001b[0m\u001b[1;33m.\u001b[0m\u001b[0mones\u001b[0m\u001b[1;33m(\u001b[0m\u001b[1;36m3\u001b[0m\u001b[1;33m,\u001b[0m \u001b[1;36m3\u001b[0m\u001b[1;33m)\u001b[0m\u001b[1;33m\u001b[0m\u001b[1;33m\u001b[0m\u001b[0m\n\u001b[1;32m----> 2\u001b[1;33m \u001b[0mtorch\u001b[0m\u001b[1;33m.\u001b[0m\u001b[0minverse\u001b[0m\u001b[1;33m(\u001b[0m\u001b[0mb\u001b[0m\u001b[1;33m)\u001b[0m\u001b[1;33m\u001b[0m\u001b[1;33m\u001b[0m\u001b[0m\n\u001b[0m",
      "\u001b[1;31m_LinAlgError\u001b[0m: torch.linalg.inv: The diagonal element 2 is zero, the inversion could not be completed because the input matrix is singular."
     ]
    }
   ],
   "source": [
    "b = torch.ones(3, 3)\n",
    "torch.inverse(b)"
   ]
  },
  {
   "cell_type": "code",
   "execution_count": 40,
   "id": "dffc4607",
   "metadata": {
    "ExecuteTime": {
     "end_time": "2022-06-13T12:27:00.483041Z",
     "start_time": "2022-06-13T12:27:00.462916Z"
    }
   },
   "outputs": [
    {
     "data": {
      "text/plain": [
       "tensor([[2., 2.],\n",
       "        [2., 2.],\n",
       "        [2., 2.]])"
      ]
     },
     "execution_count": 40,
     "metadata": {},
     "output_type": "execute_result"
    }
   ],
   "source": [
    "# 改变tensor的形状\n",
    "t.reshape(3, 2)"
   ]
  },
  {
   "cell_type": "code",
   "execution_count": 41,
   "id": "42e0d551",
   "metadata": {
    "ExecuteTime": {
     "end_time": "2022-06-13T12:27:27.769736Z",
     "start_time": "2022-06-13T12:27:27.752326Z"
    }
   },
   "outputs": [
    {
     "data": {
      "text/plain": [
       "tensor([[2., 2.],\n",
       "        [2., 2.],\n",
       "        [2., 2.]])"
      ]
     },
     "execution_count": 41,
     "metadata": {},
     "output_type": "execute_result"
    }
   ],
   "source": [
    "t.view(3,2)"
   ]
  },
  {
   "cell_type": "code",
   "execution_count": 42,
   "id": "0e5dfd5b",
   "metadata": {
    "ExecuteTime": {
     "end_time": "2022-06-13T12:27:48.231443Z",
     "start_time": "2022-06-13T12:27:48.212558Z"
    }
   },
   "outputs": [
    {
     "data": {
      "text/plain": [
       "tensor(2.)"
      ]
     },
     "execution_count": 42,
     "metadata": {},
     "output_type": "execute_result"
    }
   ],
   "source": [
    "# 聚合操作\n",
    "t.mean()"
   ]
  },
  {
   "cell_type": "code",
   "execution_count": 43,
   "id": "d83ec94b",
   "metadata": {
    "ExecuteTime": {
     "end_time": "2022-06-13T12:27:58.433307Z",
     "start_time": "2022-06-13T12:27:58.414966Z"
    }
   },
   "outputs": [
    {
     "data": {
      "text/plain": [
       "tensor(12.)"
      ]
     },
     "execution_count": 43,
     "metadata": {},
     "output_type": "execute_result"
    }
   ],
   "source": [
    "t.sum()"
   ]
  },
  {
   "cell_type": "code",
   "execution_count": 44,
   "id": "dfbda91f",
   "metadata": {
    "ExecuteTime": {
     "end_time": "2022-06-13T12:28:10.545337Z",
     "start_time": "2022-06-13T12:28:10.540424Z"
    }
   },
   "outputs": [],
   "source": [
    "# 指定维度进行聚合, 不写维度, 默认会把所有维度聚合掉.\n",
    "# dimension axis\n",
    "x = t.sum(dim=1)"
   ]
  },
  {
   "cell_type": "code",
   "execution_count": 45,
   "id": "6fd599cb",
   "metadata": {
    "ExecuteTime": {
     "end_time": "2022-06-13T12:28:40.062220Z",
     "start_time": "2022-06-13T12:28:40.042215Z"
    }
   },
   "outputs": [
    {
     "data": {
      "text/plain": [
       "tensor([6., 6.])"
      ]
     },
     "execution_count": 45,
     "metadata": {},
     "output_type": "execute_result"
    }
   ],
   "source": [
    "x"
   ]
  },
  {
   "cell_type": "code",
   "execution_count": 46,
   "id": "b0f2e116",
   "metadata": {
    "ExecuteTime": {
     "end_time": "2022-06-13T12:29:20.176588Z",
     "start_time": "2022-06-13T12:29:20.163002Z"
    }
   },
   "outputs": [],
   "source": [
    "x = x.sum()"
   ]
  },
  {
   "cell_type": "code",
   "execution_count": 47,
   "id": "317dd4c9",
   "metadata": {
    "ExecuteTime": {
     "end_time": "2022-06-13T12:29:30.793964Z",
     "start_time": "2022-06-13T12:29:30.780897Z"
    }
   },
   "outputs": [
    {
     "data": {
      "text/plain": [
       "tensor(12.)"
      ]
     },
     "execution_count": 47,
     "metadata": {},
     "output_type": "execute_result"
    }
   ],
   "source": [
    "x"
   ]
  },
  {
   "cell_type": "code",
   "execution_count": 48,
   "id": "c26fdaed",
   "metadata": {
    "ExecuteTime": {
     "end_time": "2022-06-13T12:30:04.285645Z",
     "start_time": "2022-06-13T12:30:04.267855Z"
    }
   },
   "outputs": [
    {
     "data": {
      "text/plain": [
       "12.0"
      ]
     },
     "execution_count": 48,
     "metadata": {},
     "output_type": "execute_result"
    }
   ],
   "source": [
    "# 一个数字叫做scalars(标量), 带中括号的数据较做向量\n",
    "# item是专门用来取出tensor中的标量的值\n",
    "x.item()"
   ]
  },
  {
   "cell_type": "markdown",
   "id": "91449bce",
   "metadata": {},
   "source": [
    "取值"
   ]
  },
  {
   "cell_type": "code",
   "execution_count": 49,
   "id": "b8bdad5c",
   "metadata": {
    "ExecuteTime": {
     "end_time": "2022-06-13T12:30:17.487931Z",
     "start_time": "2022-06-13T12:30:17.481947Z"
    }
   },
   "outputs": [
    {
     "data": {
      "text/plain": [
       "tensor([[ 0.4315, -0.8709,  1.0485, -0.3349],\n",
       "        [ 0.8269,  0.4150, -1.2512,  0.5627],\n",
       "        [ 1.5769, -0.0017, -1.5612, -0.0688]])"
      ]
     },
     "execution_count": 49,
     "metadata": {},
     "output_type": "execute_result"
    }
   ],
   "source": [
    "x = torch.randn(3, 4)\n",
    "x"
   ]
  },
  {
   "cell_type": "code",
   "execution_count": 50,
   "id": "5bbdd0c4",
   "metadata": {
    "ExecuteTime": {
     "end_time": "2022-06-13T12:31:08.241103Z",
     "start_time": "2022-06-13T12:31:08.222742Z"
    }
   },
   "outputs": [
    {
     "data": {
      "text/plain": [
       "tensor([ 0.4315, -0.8709,  1.0485, -0.3349])"
      ]
     },
     "execution_count": 50,
     "metadata": {},
     "output_type": "execute_result"
    }
   ],
   "source": [
    "x[0]"
   ]
  },
  {
   "cell_type": "code",
   "execution_count": 51,
   "id": "d2c33fda",
   "metadata": {
    "ExecuteTime": {
     "end_time": "2022-06-13T12:31:47.698257Z",
     "start_time": "2022-06-13T12:31:47.677174Z"
    }
   },
   "outputs": [
    {
     "data": {
      "text/plain": [
       "tensor(0.4315)"
      ]
     },
     "execution_count": 51,
     "metadata": {},
     "output_type": "execute_result"
    }
   ],
   "source": [
    "x[0, 0]"
   ]
  },
  {
   "cell_type": "code",
   "execution_count": 52,
   "id": "90c18e26",
   "metadata": {
    "ExecuteTime": {
     "end_time": "2022-06-13T12:32:08.446093Z",
     "start_time": "2022-06-13T12:32:08.427204Z"
    }
   },
   "outputs": [
    {
     "data": {
      "text/plain": [
       "tensor([ 0.4315, -0.8709,  1.0485])"
      ]
     },
     "execution_count": 52,
     "metadata": {},
     "output_type": "execute_result"
    }
   ],
   "source": [
    "# tensor的切片和索引操作和ndarray是完全一样.\n",
    "x[0, :3]"
   ]
  },
  {
   "cell_type": "code",
   "execution_count": 53,
   "id": "0de5b473",
   "metadata": {
    "ExecuteTime": {
     "end_time": "2022-06-13T12:32:26.525110Z",
     "start_time": "2022-06-13T12:32:26.473063Z"
    }
   },
   "outputs": [],
   "source": [
    "x = torch.rand(32, 224, 224, 3)"
   ]
  },
  {
   "cell_type": "code",
   "execution_count": 54,
   "id": "d97d0816",
   "metadata": {
    "ExecuteTime": {
     "end_time": "2022-06-13T12:32:57.385089Z",
     "start_time": "2022-06-13T12:32:57.366090Z"
    }
   },
   "outputs": [
    {
     "data": {
      "text/plain": [
       "tensor([[0.1127, 0.4634, 0.4486,  ..., 0.4566, 0.6134, 0.7103],\n",
       "        [0.7561, 0.2857, 0.0208,  ..., 0.9945, 0.3100, 0.7738],\n",
       "        [0.2251, 0.2040, 0.3941,  ..., 0.8831, 0.9920, 0.4289],\n",
       "        ...,\n",
       "        [0.6964, 0.2720, 0.1280,  ..., 0.6644, 0.7808, 0.1286],\n",
       "        [0.1947, 0.9066, 0.1069,  ..., 0.9600, 0.4110, 0.9072],\n",
       "        [0.3164, 0.9479, 0.3928,  ..., 0.3168, 0.7480, 0.4652]])"
      ]
     },
     "execution_count": 54,
     "metadata": {},
     "output_type": "execute_result"
    }
   ],
   "source": [
    "x[0,:,:,0]"
   ]
  },
  {
   "cell_type": "code",
   "execution_count": 55,
   "id": "4824d244",
   "metadata": {
    "ExecuteTime": {
     "end_time": "2022-06-13T12:33:13.212109Z",
     "start_time": "2022-06-13T12:33:13.204775Z"
    }
   },
   "outputs": [
    {
     "data": {
      "text/plain": [
       "torch.Size([224, 224])"
      ]
     },
     "execution_count": 55,
     "metadata": {},
     "output_type": "execute_result"
    }
   ],
   "source": [
    "x[0,:,:,0].shape"
   ]
  },
  {
   "cell_type": "code",
   "execution_count": 56,
   "id": "4f4912bd",
   "metadata": {
    "ExecuteTime": {
     "end_time": "2022-06-13T12:33:35.074507Z",
     "start_time": "2022-06-13T12:33:35.064653Z"
    }
   },
   "outputs": [
    {
     "data": {
      "text/plain": [
       "tensor([[ 0.6653, -0.4558,  2.9684, -1.8499,  1.0966],\n",
       "        [-1.1719, -1.3297,  0.1182, -0.0808,  1.1179]])"
      ]
     },
     "execution_count": 56,
     "metadata": {},
     "output_type": "execute_result"
    }
   ],
   "source": [
    "# 矩阵乘法\n",
    "a1 = torch.randn(2, 3)\n",
    "a2 = torch.randn(3, 5)\n",
    "torch.matmul(a1, a2)"
   ]
  },
  {
   "cell_type": "code",
   "execution_count": 57,
   "id": "1cd8b0d9",
   "metadata": {
    "ExecuteTime": {
     "end_time": "2022-06-13T12:36:08.040094Z",
     "start_time": "2022-06-13T12:36:08.028310Z"
    }
   },
   "outputs": [
    {
     "data": {
      "text/plain": [
       "tensor([[ 0.6653, -0.4558,  2.9684, -1.8499,  1.0966],\n",
       "        [-1.1719, -1.3297,  0.1182, -0.0808,  1.1179]])"
      ]
     },
     "execution_count": 57,
     "metadata": {},
     "output_type": "execute_result"
    }
   ],
   "source": [
    "# @也是矩阵点乘的快捷写法\n",
    "a1 @ a2"
   ]
  },
  {
   "cell_type": "code",
   "execution_count": 58,
   "id": "f1a42bd7",
   "metadata": {
    "ExecuteTime": {
     "end_time": "2022-06-13T12:36:21.070408Z",
     "start_time": "2022-06-13T12:36:21.039401Z"
    }
   },
   "outputs": [
    {
     "ename": "RuntimeError",
     "evalue": "1D tensors expected, but got 2D and 2D tensors",
     "output_type": "error",
     "traceback": [
      "\u001b[1;31m---------------------------------------------------------------------------\u001b[0m",
      "\u001b[1;31mRuntimeError\u001b[0m                              Traceback (most recent call last)",
      "\u001b[1;32mC:\\Users\\ADMINI~1\\AppData\\Local\\Temp/ipykernel_5552/2422985080.py\u001b[0m in \u001b[0;36m<module>\u001b[1;34m\u001b[0m\n\u001b[0;32m      1\u001b[0m \u001b[1;31m# pytorch中的dot是向量的乘法, 必须是一维向量.\u001b[0m\u001b[1;33m\u001b[0m\u001b[1;33m\u001b[0m\u001b[0m\n\u001b[1;32m----> 2\u001b[1;33m \u001b[0ma1\u001b[0m\u001b[1;33m.\u001b[0m\u001b[0mdot\u001b[0m\u001b[1;33m(\u001b[0m\u001b[0ma2\u001b[0m\u001b[1;33m)\u001b[0m\u001b[1;33m\u001b[0m\u001b[1;33m\u001b[0m\u001b[0m\n\u001b[0m",
      "\u001b[1;31mRuntimeError\u001b[0m: 1D tensors expected, but got 2D and 2D tensors"
     ]
    }
   ],
   "source": [
    "# pytorch中的dot是向量的乘法, 必须是一维向量. \n",
    "a1.dot(a2)"
   ]
  },
  {
   "cell_type": "code",
   "execution_count": 59,
   "id": "3c47edc0",
   "metadata": {
    "ExecuteTime": {
     "end_time": "2022-06-13T12:36:42.056362Z",
     "start_time": "2022-06-13T12:36:42.044920Z"
    }
   },
   "outputs": [
    {
     "name": "stdout",
     "output_type": "stream",
     "text": [
      "tensor([0.7099, 0.1338, 0.5663, 0.8701, 0.8770]) tensor([0.4485, 0.4817, 0.9051, 0.9737, 0.0407])\n"
     ]
    },
    {
     "data": {
      "text/plain": [
       "tensor(1.7783)"
      ]
     },
     "execution_count": 59,
     "metadata": {},
     "output_type": "execute_result"
    }
   ],
   "source": [
    "x1 = torch.rand(5)\n",
    "x2 = torch.rand(5)\n",
    "print(x1, x2)\n",
    "x1.dot(x2)"
   ]
  },
  {
   "cell_type": "code",
   "execution_count": 60,
   "id": "50e02f0b",
   "metadata": {
    "ExecuteTime": {
     "end_time": "2022-06-13T12:38:20.123435Z",
     "start_time": "2022-06-13T12:38:20.111882Z"
    }
   },
   "outputs": [
    {
     "data": {
      "text/plain": [
       "tensor(1.7783)"
      ]
     },
     "execution_count": 60,
     "metadata": {},
     "output_type": "execute_result"
    }
   ],
   "source": [
    "(x1*x2).sum()"
   ]
  },
  {
   "cell_type": "markdown",
   "id": "7193657d",
   "metadata": {},
   "source": [
    "# 张量的自动微分"
   ]
  },
  {
   "cell_type": "code",
   "execution_count": 61,
   "id": "f45805ef",
   "metadata": {
    "ExecuteTime": {
     "end_time": "2022-06-13T12:39:25.211826Z",
     "start_time": "2022-06-13T12:39:25.193783Z"
    }
   },
   "outputs": [],
   "source": [
    "# 说白了就是自动求导.\n",
    "# 在要求导的变量定义中加上requires_grad=True表示要追踪这个变量的导数\n",
    "x = torch.ones(2, 2, requires_grad=True)\n",
    "y = 2 * x + 2"
   ]
  },
  {
   "cell_type": "code",
   "execution_count": 62,
   "id": "c9e08497",
   "metadata": {
    "ExecuteTime": {
     "end_time": "2022-06-13T12:39:34.556808Z",
     "start_time": "2022-06-13T12:39:34.546458Z"
    }
   },
   "outputs": [
    {
     "data": {
      "text/plain": [
       "tensor([[4., 4.],\n",
       "        [4., 4.]], grad_fn=<AddBackward0>)"
      ]
     },
     "execution_count": 62,
     "metadata": {},
     "output_type": "execute_result"
    }
   ],
   "source": [
    "y"
   ]
  },
  {
   "cell_type": "code",
   "execution_count": 63,
   "id": "6d027b54",
   "metadata": {
    "ExecuteTime": {
     "end_time": "2022-06-13T12:39:43.529025Z",
     "start_time": "2022-06-13T12:39:43.511314Z"
    }
   },
   "outputs": [
    {
     "data": {
      "text/plain": [
       "True"
      ]
     },
     "execution_count": 63,
     "metadata": {},
     "output_type": "execute_result"
    }
   ],
   "source": [
    "x.requires_grad"
   ]
  },
  {
   "cell_type": "code",
   "execution_count": 64,
   "id": "f1ab0c3e",
   "metadata": {
    "ExecuteTime": {
     "end_time": "2022-06-13T12:39:53.173314Z",
     "start_time": "2022-06-13T12:39:53.165336Z"
    }
   },
   "outputs": [],
   "source": [
    "x2 = torch.ones(2, 2)"
   ]
  },
  {
   "cell_type": "code",
   "execution_count": 65,
   "id": "15ffeb8a",
   "metadata": {
    "ExecuteTime": {
     "end_time": "2022-06-13T12:40:11.784855Z",
     "start_time": "2022-06-13T12:40:11.777516Z"
    }
   },
   "outputs": [
    {
     "data": {
      "text/plain": [
       "False"
      ]
     },
     "execution_count": 65,
     "metadata": {},
     "output_type": "execute_result"
    }
   ],
   "source": [
    "# 默认是不会自动求导.\n",
    "x2.requires_grad"
   ]
  },
  {
   "cell_type": "code",
   "execution_count": 66,
   "id": "52429e6a",
   "metadata": {
    "ExecuteTime": {
     "end_time": "2022-06-13T12:40:31.190207Z",
     "start_time": "2022-06-13T12:40:31.170263Z"
    }
   },
   "outputs": [
    {
     "data": {
      "text/plain": [
       "<AddBackward0 at 0x187a7f0cc70>"
      ]
     },
     "execution_count": 66,
     "metadata": {},
     "output_type": "execute_result"
    }
   ],
   "source": [
    "y.grad_fn"
   ]
  },
  {
   "cell_type": "code",
   "execution_count": 67,
   "id": "37771813",
   "metadata": {
    "ExecuteTime": {
     "end_time": "2022-06-13T12:40:49.281762Z",
     "start_time": "2022-06-13T12:40:49.249557Z"
    },
    "collapsed": true
   },
   "outputs": [
    {
     "ename": "RuntimeError",
     "evalue": "grad can be implicitly created only for scalar outputs",
     "output_type": "error",
     "traceback": [
      "\u001b[1;31m---------------------------------------------------------------------------\u001b[0m",
      "\u001b[1;31mRuntimeError\u001b[0m                              Traceback (most recent call last)",
      "\u001b[1;32mC:\\Users\\ADMINI~1\\AppData\\Local\\Temp/ipykernel_5552/3580978993.py\u001b[0m in \u001b[0;36m<module>\u001b[1;34m\u001b[0m\n\u001b[0;32m      1\u001b[0m \u001b[1;31m# 导数必须由标量输出创建.意思就说你要求的最后结果, 必须是一个标量. 不能是向量.\u001b[0m\u001b[1;33m\u001b[0m\u001b[1;33m\u001b[0m\u001b[0m\n\u001b[0;32m      2\u001b[0m \u001b[1;31m# 导数的定义中要求是对某一点求导.\u001b[0m\u001b[1;33m\u001b[0m\u001b[1;33m\u001b[0m\u001b[0m\n\u001b[1;32m----> 3\u001b[1;33m \u001b[0my\u001b[0m\u001b[1;33m.\u001b[0m\u001b[0mbackward\u001b[0m\u001b[1;33m(\u001b[0m\u001b[1;33m)\u001b[0m\u001b[1;33m\u001b[0m\u001b[1;33m\u001b[0m\u001b[0m\n\u001b[0m",
      "\u001b[1;32mC:\\ProgramData\\Anaconda3\\lib\\site-packages\\torch\\_tensor.py\u001b[0m in \u001b[0;36mbackward\u001b[1;34m(self, gradient, retain_graph, create_graph, inputs)\u001b[0m\n\u001b[0;32m    361\u001b[0m                 \u001b[0mcreate_graph\u001b[0m\u001b[1;33m=\u001b[0m\u001b[0mcreate_graph\u001b[0m\u001b[1;33m,\u001b[0m\u001b[1;33m\u001b[0m\u001b[1;33m\u001b[0m\u001b[0m\n\u001b[0;32m    362\u001b[0m                 inputs=inputs)\n\u001b[1;32m--> 363\u001b[1;33m         \u001b[0mtorch\u001b[0m\u001b[1;33m.\u001b[0m\u001b[0mautograd\u001b[0m\u001b[1;33m.\u001b[0m\u001b[0mbackward\u001b[0m\u001b[1;33m(\u001b[0m\u001b[0mself\u001b[0m\u001b[1;33m,\u001b[0m \u001b[0mgradient\u001b[0m\u001b[1;33m,\u001b[0m \u001b[0mretain_graph\u001b[0m\u001b[1;33m,\u001b[0m \u001b[0mcreate_graph\u001b[0m\u001b[1;33m,\u001b[0m \u001b[0minputs\u001b[0m\u001b[1;33m=\u001b[0m\u001b[0minputs\u001b[0m\u001b[1;33m)\u001b[0m\u001b[1;33m\u001b[0m\u001b[1;33m\u001b[0m\u001b[0m\n\u001b[0m\u001b[0;32m    364\u001b[0m \u001b[1;33m\u001b[0m\u001b[0m\n\u001b[0;32m    365\u001b[0m     \u001b[1;32mdef\u001b[0m \u001b[0mregister_hook\u001b[0m\u001b[1;33m(\u001b[0m\u001b[0mself\u001b[0m\u001b[1;33m,\u001b[0m \u001b[0mhook\u001b[0m\u001b[1;33m)\u001b[0m\u001b[1;33m:\u001b[0m\u001b[1;33m\u001b[0m\u001b[1;33m\u001b[0m\u001b[0m\n",
      "\u001b[1;32mC:\\ProgramData\\Anaconda3\\lib\\site-packages\\torch\\autograd\\__init__.py\u001b[0m in \u001b[0;36mbackward\u001b[1;34m(tensors, grad_tensors, retain_graph, create_graph, grad_variables, inputs)\u001b[0m\n\u001b[0;32m    164\u001b[0m \u001b[1;33m\u001b[0m\u001b[0m\n\u001b[0;32m    165\u001b[0m     \u001b[0mgrad_tensors_\u001b[0m \u001b[1;33m=\u001b[0m \u001b[0m_tensor_or_tensors_to_tuple\u001b[0m\u001b[1;33m(\u001b[0m\u001b[0mgrad_tensors\u001b[0m\u001b[1;33m,\u001b[0m \u001b[0mlen\u001b[0m\u001b[1;33m(\u001b[0m\u001b[0mtensors\u001b[0m\u001b[1;33m)\u001b[0m\u001b[1;33m)\u001b[0m\u001b[1;33m\u001b[0m\u001b[1;33m\u001b[0m\u001b[0m\n\u001b[1;32m--> 166\u001b[1;33m     \u001b[0mgrad_tensors_\u001b[0m \u001b[1;33m=\u001b[0m \u001b[0m_make_grads\u001b[0m\u001b[1;33m(\u001b[0m\u001b[0mtensors\u001b[0m\u001b[1;33m,\u001b[0m \u001b[0mgrad_tensors_\u001b[0m\u001b[1;33m,\u001b[0m \u001b[0mis_grads_batched\u001b[0m\u001b[1;33m=\u001b[0m\u001b[1;32mFalse\u001b[0m\u001b[1;33m)\u001b[0m\u001b[1;33m\u001b[0m\u001b[1;33m\u001b[0m\u001b[0m\n\u001b[0m\u001b[0;32m    167\u001b[0m     \u001b[1;32mif\u001b[0m \u001b[0mretain_graph\u001b[0m \u001b[1;32mis\u001b[0m \u001b[1;32mNone\u001b[0m\u001b[1;33m:\u001b[0m\u001b[1;33m\u001b[0m\u001b[1;33m\u001b[0m\u001b[0m\n\u001b[0;32m    168\u001b[0m         \u001b[0mretain_graph\u001b[0m \u001b[1;33m=\u001b[0m \u001b[0mcreate_graph\u001b[0m\u001b[1;33m\u001b[0m\u001b[1;33m\u001b[0m\u001b[0m\n",
      "\u001b[1;32mC:\\ProgramData\\Anaconda3\\lib\\site-packages\\torch\\autograd\\__init__.py\u001b[0m in \u001b[0;36m_make_grads\u001b[1;34m(outputs, grads, is_grads_batched)\u001b[0m\n\u001b[0;32m     65\u001b[0m             \u001b[1;32mif\u001b[0m \u001b[0mout\u001b[0m\u001b[1;33m.\u001b[0m\u001b[0mrequires_grad\u001b[0m\u001b[1;33m:\u001b[0m\u001b[1;33m\u001b[0m\u001b[1;33m\u001b[0m\u001b[0m\n\u001b[0;32m     66\u001b[0m                 \u001b[1;32mif\u001b[0m \u001b[0mout\u001b[0m\u001b[1;33m.\u001b[0m\u001b[0mnumel\u001b[0m\u001b[1;33m(\u001b[0m\u001b[1;33m)\u001b[0m \u001b[1;33m!=\u001b[0m \u001b[1;36m1\u001b[0m\u001b[1;33m:\u001b[0m\u001b[1;33m\u001b[0m\u001b[1;33m\u001b[0m\u001b[0m\n\u001b[1;32m---> 67\u001b[1;33m                     \u001b[1;32mraise\u001b[0m \u001b[0mRuntimeError\u001b[0m\u001b[1;33m(\u001b[0m\u001b[1;34m\"grad can be implicitly created only for scalar outputs\"\u001b[0m\u001b[1;33m)\u001b[0m\u001b[1;33m\u001b[0m\u001b[1;33m\u001b[0m\u001b[0m\n\u001b[0m\u001b[0;32m     68\u001b[0m                 \u001b[0mnew_grads\u001b[0m\u001b[1;33m.\u001b[0m\u001b[0mappend\u001b[0m\u001b[1;33m(\u001b[0m\u001b[0mtorch\u001b[0m\u001b[1;33m.\u001b[0m\u001b[0mones_like\u001b[0m\u001b[1;33m(\u001b[0m\u001b[0mout\u001b[0m\u001b[1;33m,\u001b[0m \u001b[0mmemory_format\u001b[0m\u001b[1;33m=\u001b[0m\u001b[0mtorch\u001b[0m\u001b[1;33m.\u001b[0m\u001b[0mpreserve_format\u001b[0m\u001b[1;33m)\u001b[0m\u001b[1;33m)\u001b[0m\u001b[1;33m\u001b[0m\u001b[1;33m\u001b[0m\u001b[0m\n\u001b[0;32m     69\u001b[0m             \u001b[1;32melse\u001b[0m\u001b[1;33m:\u001b[0m\u001b[1;33m\u001b[0m\u001b[1;33m\u001b[0m\u001b[0m\n",
      "\u001b[1;31mRuntimeError\u001b[0m: grad can be implicitly created only for scalar outputs"
     ]
    }
   ],
   "source": [
    "# 导数必须由标量输出创建.意思就说你要求的最后结果, 必须是一个标量. 不能是向量. \n",
    "# 导数的定义中要求是对某一点求导. \n",
    "y.backward()"
   ]
  },
  {
   "cell_type": "code",
   "execution_count": 68,
   "id": "16b33136",
   "metadata": {
    "ExecuteTime": {
     "end_time": "2022-06-13T12:43:05.709419Z",
     "start_time": "2022-06-13T12:43:05.704896Z"
    }
   },
   "outputs": [],
   "source": [
    "z = y.mean()"
   ]
  },
  {
   "cell_type": "code",
   "execution_count": 69,
   "id": "e2c8def7",
   "metadata": {
    "ExecuteTime": {
     "end_time": "2022-06-13T12:43:19.030691Z",
     "start_time": "2022-06-13T12:43:19.020171Z"
    }
   },
   "outputs": [],
   "source": [
    "# 只有执行完backward之后, 所有requires_grad=True的变量的导数都会被自动求出. \n",
    "z.backward()"
   ]
  },
  {
   "cell_type": "code",
   "execution_count": 70,
   "id": "6437d955",
   "metadata": {
    "ExecuteTime": {
     "end_time": "2022-06-13T12:43:33.939988Z",
     "start_time": "2022-06-13T12:43:33.925444Z"
    }
   },
   "outputs": [
    {
     "data": {
      "text/plain": [
       "tensor([[0.5000, 0.5000],\n",
       "        [0.5000, 0.5000]])"
      ]
     },
     "execution_count": 70,
     "metadata": {},
     "output_type": "execute_result"
    }
   ],
   "source": [
    "x.grad"
   ]
  },
  {
   "cell_type": "code",
   "execution_count": 71,
   "id": "215ad9ec",
   "metadata": {
    "ExecuteTime": {
     "end_time": "2022-06-13T12:43:44.573778Z",
     "start_time": "2022-06-13T12:43:44.555655Z"
    }
   },
   "outputs": [],
   "source": [
    "z = y * y * 3\n",
    "out = z.mean()"
   ]
  },
  {
   "cell_type": "code",
   "execution_count": 72,
   "id": "b03ab805",
   "metadata": {
    "ExecuteTime": {
     "end_time": "2022-06-13T12:44:05.870723Z",
     "start_time": "2022-06-13T12:44:05.864773Z"
    }
   },
   "outputs": [
    {
     "data": {
      "text/plain": [
       "tensor(48., grad_fn=<MeanBackward0>)"
      ]
     },
     "execution_count": 72,
     "metadata": {},
     "output_type": "execute_result"
    }
   ],
   "source": [
    "out"
   ]
  },
  {
   "cell_type": "code",
   "execution_count": 73,
   "id": "2cfcfd02",
   "metadata": {
    "ExecuteTime": {
     "end_time": "2022-06-13T12:44:22.663768Z",
     "start_time": "2022-06-13T12:44:22.635191Z"
    },
    "collapsed": true
   },
   "outputs": [
    {
     "ename": "RuntimeError",
     "evalue": "Trying to backward through the graph a second time (or directly access saved tensors after they have already been freed). Saved intermediate values of the graph are freed when you call .backward() or autograd.grad(). Specify retain_graph=True if you need to backward through the graph a second time or if you need to access saved tensors after calling backward.",
     "output_type": "error",
     "traceback": [
      "\u001b[1;31m---------------------------------------------------------------------------\u001b[0m",
      "\u001b[1;31mRuntimeError\u001b[0m                              Traceback (most recent call last)",
      "\u001b[1;32mC:\\Users\\ADMINI~1\\AppData\\Local\\Temp/ipykernel_5552/2167579962.py\u001b[0m in \u001b[0;36m<module>\u001b[1;34m\u001b[0m\n\u001b[1;32m----> 1\u001b[1;33m \u001b[0mout\u001b[0m\u001b[1;33m.\u001b[0m\u001b[0mbackward\u001b[0m\u001b[1;33m(\u001b[0m\u001b[1;33m)\u001b[0m\u001b[1;33m\u001b[0m\u001b[1;33m\u001b[0m\u001b[0m\n\u001b[0m",
      "\u001b[1;32mC:\\ProgramData\\Anaconda3\\lib\\site-packages\\torch\\_tensor.py\u001b[0m in \u001b[0;36mbackward\u001b[1;34m(self, gradient, retain_graph, create_graph, inputs)\u001b[0m\n\u001b[0;32m    361\u001b[0m                 \u001b[0mcreate_graph\u001b[0m\u001b[1;33m=\u001b[0m\u001b[0mcreate_graph\u001b[0m\u001b[1;33m,\u001b[0m\u001b[1;33m\u001b[0m\u001b[1;33m\u001b[0m\u001b[0m\n\u001b[0;32m    362\u001b[0m                 inputs=inputs)\n\u001b[1;32m--> 363\u001b[1;33m         \u001b[0mtorch\u001b[0m\u001b[1;33m.\u001b[0m\u001b[0mautograd\u001b[0m\u001b[1;33m.\u001b[0m\u001b[0mbackward\u001b[0m\u001b[1;33m(\u001b[0m\u001b[0mself\u001b[0m\u001b[1;33m,\u001b[0m \u001b[0mgradient\u001b[0m\u001b[1;33m,\u001b[0m \u001b[0mretain_graph\u001b[0m\u001b[1;33m,\u001b[0m \u001b[0mcreate_graph\u001b[0m\u001b[1;33m,\u001b[0m \u001b[0minputs\u001b[0m\u001b[1;33m=\u001b[0m\u001b[0minputs\u001b[0m\u001b[1;33m)\u001b[0m\u001b[1;33m\u001b[0m\u001b[1;33m\u001b[0m\u001b[0m\n\u001b[0m\u001b[0;32m    364\u001b[0m \u001b[1;33m\u001b[0m\u001b[0m\n\u001b[0;32m    365\u001b[0m     \u001b[1;32mdef\u001b[0m \u001b[0mregister_hook\u001b[0m\u001b[1;33m(\u001b[0m\u001b[0mself\u001b[0m\u001b[1;33m,\u001b[0m \u001b[0mhook\u001b[0m\u001b[1;33m)\u001b[0m\u001b[1;33m:\u001b[0m\u001b[1;33m\u001b[0m\u001b[1;33m\u001b[0m\u001b[0m\n",
      "\u001b[1;32mC:\\ProgramData\\Anaconda3\\lib\\site-packages\\torch\\autograd\\__init__.py\u001b[0m in \u001b[0;36mbackward\u001b[1;34m(tensors, grad_tensors, retain_graph, create_graph, grad_variables, inputs)\u001b[0m\n\u001b[0;32m    171\u001b[0m     \u001b[1;31m# some Python versions print out the first line of a multi-line function\u001b[0m\u001b[1;33m\u001b[0m\u001b[1;33m\u001b[0m\u001b[0m\n\u001b[0;32m    172\u001b[0m     \u001b[1;31m# calls in the traceback and some print out the last line\u001b[0m\u001b[1;33m\u001b[0m\u001b[1;33m\u001b[0m\u001b[0m\n\u001b[1;32m--> 173\u001b[1;33m     Variable._execution_engine.run_backward(  # Calls into the C++ engine to run the backward pass\n\u001b[0m\u001b[0;32m    174\u001b[0m         \u001b[0mtensors\u001b[0m\u001b[1;33m,\u001b[0m \u001b[0mgrad_tensors_\u001b[0m\u001b[1;33m,\u001b[0m \u001b[0mretain_graph\u001b[0m\u001b[1;33m,\u001b[0m \u001b[0mcreate_graph\u001b[0m\u001b[1;33m,\u001b[0m \u001b[0minputs\u001b[0m\u001b[1;33m,\u001b[0m\u001b[1;33m\u001b[0m\u001b[1;33m\u001b[0m\u001b[0m\n\u001b[0;32m    175\u001b[0m         allow_unreachable=True, accumulate_grad=True)  # Calls into the C++ engine to run the backward pass\n",
      "\u001b[1;31mRuntimeError\u001b[0m: Trying to backward through the graph a second time (or directly access saved tensors after they have already been freed). Saved intermediate values of the graph are freed when you call .backward() or autograd.grad(). Specify retain_graph=True if you need to backward through the graph a second time or if you need to access saved tensors after calling backward."
     ]
    }
   ],
   "source": [
    "out.backward()"
   ]
  },
  {
   "cell_type": "code",
   "execution_count": 74,
   "id": "beadce49",
   "metadata": {
    "ExecuteTime": {
     "end_time": "2022-06-13T12:45:43.474702Z",
     "start_time": "2022-06-13T12:45:43.457469Z"
    }
   },
   "outputs": [
    {
     "name": "stderr",
     "output_type": "stream",
     "text": [
      "C:\\ProgramData\\Anaconda3\\lib\\site-packages\\torch\\_tensor.py:1104: UserWarning: The .grad attribute of a Tensor that is not a leaf Tensor is being accessed. Its .grad attribute won't be populated during autograd.backward(). If you indeed want the .grad field to be populated for a non-leaf Tensor, use .retain_grad() on the non-leaf Tensor. If you access the non-leaf Tensor by mistake, make sure you access the leaf Tensor instead. See github.com/pytorch/pytorch/pull/30531 for more informations. (Triggered internally at  C:\\cb\\pytorch_1000000000000\\work\\build\\aten\\src\\ATen/core/TensorBody.h:475.)\n",
      "  return self._grad\n"
     ]
    }
   ],
   "source": [
    "y.grad"
   ]
  },
  {
   "cell_type": "code",
   "execution_count": 75,
   "id": "d904969e",
   "metadata": {
    "ExecuteTime": {
     "end_time": "2022-06-13T12:48:32.539429Z",
     "start_time": "2022-06-13T12:48:32.532708Z"
    }
   },
   "outputs": [
    {
     "data": {
      "text/plain": [
       "<function Tensor.retain_grad>"
      ]
     },
     "execution_count": 75,
     "metadata": {},
     "output_type": "execute_result"
    }
   ],
   "source": [
    "# 求非叶子节点的tensor的导数, 必须使用retain_grad, 不然会报警告. \n",
    "y.retain_grad"
   ]
  },
  {
   "cell_type": "code",
   "execution_count": 76,
   "id": "b3d23d12",
   "metadata": {
    "ExecuteTime": {
     "end_time": "2022-06-13T12:48:57.142036Z",
     "start_time": "2022-06-13T12:48:57.131957Z"
    }
   },
   "outputs": [
    {
     "data": {
      "text/plain": [
       "True"
      ]
     },
     "execution_count": 76,
     "metadata": {},
     "output_type": "execute_result"
    }
   ],
   "source": [
    "# 如果不需要求导, 可以把代码包在torch.no_grad()中\n",
    "x.requires_grad"
   ]
  },
  {
   "cell_type": "code",
   "execution_count": 77,
   "id": "eb8cf953",
   "metadata": {
    "ExecuteTime": {
     "end_time": "2022-06-13T12:49:36.000789Z",
     "start_time": "2022-06-13T12:49:35.982794Z"
    }
   },
   "outputs": [
    {
     "data": {
      "text/plain": [
       "True"
      ]
     },
     "execution_count": 77,
     "metadata": {},
     "output_type": "execute_result"
    }
   ],
   "source": [
    "(x ** 2).requires_grad"
   ]
  },
  {
   "cell_type": "code",
   "execution_count": 78,
   "id": "8a5ca3a1",
   "metadata": {
    "ExecuteTime": {
     "end_time": "2022-06-13T12:49:49.304077Z",
     "start_time": "2022-06-13T12:49:49.293850Z"
    }
   },
   "outputs": [
    {
     "name": "stdout",
     "output_type": "stream",
     "text": [
      "False\n"
     ]
    }
   ],
   "source": [
    "# 通过with torch.no_grad() 暂时不对x求导\n",
    "with torch.no_grad():\n",
    "    print((x ** 2).requires_grad)"
   ]
  },
  {
   "cell_type": "code",
   "execution_count": 79,
   "id": "c98488ec",
   "metadata": {
    "ExecuteTime": {
     "end_time": "2022-06-13T12:50:47.202434Z",
     "start_time": "2022-06-13T12:50:47.193739Z"
    }
   },
   "outputs": [
    {
     "data": {
      "text/plain": [
       "True"
      ]
     },
     "execution_count": 79,
     "metadata": {},
     "output_type": "execute_result"
    }
   ],
   "source": [
    "x.requires_grad"
   ]
  },
  {
   "cell_type": "code",
   "execution_count": 80,
   "id": "e46beb06",
   "metadata": {
    "ExecuteTime": {
     "end_time": "2022-06-13T12:50:56.186696Z",
     "start_time": "2022-06-13T12:50:56.170741Z"
    }
   },
   "outputs": [
    {
     "data": {
      "text/plain": [
       "True"
      ]
     },
     "execution_count": 80,
     "metadata": {},
     "output_type": "execute_result"
    }
   ],
   "source": [
    "y = x ** 2 + 2\n",
    "y.requires_grad"
   ]
  },
  {
   "cell_type": "code",
   "execution_count": 81,
   "id": "34321cdc",
   "metadata": {
    "ExecuteTime": {
     "end_time": "2022-06-13T12:51:10.522411Z",
     "start_time": "2022-06-13T12:51:10.509680Z"
    }
   },
   "outputs": [
    {
     "data": {
      "text/plain": [
       "tensor([[3., 3.],\n",
       "        [3., 3.]])"
      ]
     },
     "execution_count": 81,
     "metadata": {},
     "output_type": "execute_result"
    }
   ],
   "source": [
    "y.detach()"
   ]
  },
  {
   "cell_type": "code",
   "execution_count": 82,
   "id": "6be8e4b5",
   "metadata": {
    "ExecuteTime": {
     "end_time": "2022-06-13T12:51:32.547517Z",
     "start_time": "2022-06-13T12:51:32.534328Z"
    }
   },
   "outputs": [
    {
     "data": {
      "text/plain": [
       "True"
      ]
     },
     "execution_count": 82,
     "metadata": {},
     "output_type": "execute_result"
    }
   ],
   "source": [
    "y.requires_grad"
   ]
  },
  {
   "cell_type": "code",
   "execution_count": 83,
   "id": "a391cc75",
   "metadata": {
    "ExecuteTime": {
     "end_time": "2022-06-13T12:51:44.042649Z",
     "start_time": "2022-06-13T12:51:44.029685Z"
    }
   },
   "outputs": [
    {
     "data": {
      "text/plain": [
       "tensor([[1., 1.],\n",
       "        [1., 1.]])"
      ]
     },
     "execution_count": 83,
     "metadata": {},
     "output_type": "execute_result"
    }
   ],
   "source": [
    "x.detach()"
   ]
  },
  {
   "cell_type": "code",
   "execution_count": 84,
   "id": "84a81ac3",
   "metadata": {
    "ExecuteTime": {
     "end_time": "2022-06-13T12:51:53.934960Z",
     "start_time": "2022-06-13T12:51:53.926968Z"
    }
   },
   "outputs": [],
   "source": [
    "y = x.detach()"
   ]
  },
  {
   "cell_type": "code",
   "execution_count": 85,
   "id": "7d53ed4c",
   "metadata": {
    "ExecuteTime": {
     "end_time": "2022-06-13T12:52:23.022790Z",
     "start_time": "2022-06-13T12:52:23.008076Z"
    }
   },
   "outputs": [
    {
     "data": {
      "text/plain": [
       "False"
      ]
     },
     "execution_count": 85,
     "metadata": {},
     "output_type": "execute_result"
    }
   ],
   "source": [
    "y.requires_grad"
   ]
  },
  {
   "cell_type": "code",
   "execution_count": 86,
   "id": "2bf631bd",
   "metadata": {
    "ExecuteTime": {
     "end_time": "2022-06-13T12:52:59.668082Z",
     "start_time": "2022-06-13T12:52:59.660054Z"
    }
   },
   "outputs": [
    {
     "name": "stdout",
     "output_type": "stream",
     "text": [
      "False\n"
     ]
    }
   ],
   "source": [
    "# 除了在定义变量的时候指定requires_grad,也可以通过requires_grad_()方法修改变量的requires_grad属性\n",
    "a = torch.randn(2, 2)\n",
    "a = a * 3 + 2\n",
    "print(a.requires_grad)"
   ]
  },
  {
   "cell_type": "code",
   "execution_count": 87,
   "id": "cef386af",
   "metadata": {
    "ExecuteTime": {
     "end_time": "2022-06-13T12:53:08.030345Z",
     "start_time": "2022-06-13T12:53:08.017838Z"
    }
   },
   "outputs": [
    {
     "data": {
      "text/plain": [
       "tensor([[6.8397, 1.3765],\n",
       "        [3.0723, 2.3427]], requires_grad=True)"
      ]
     },
     "execution_count": 87,
     "metadata": {},
     "output_type": "execute_result"
    }
   ],
   "source": [
    "# 加了下划线, 会直接修改原始数据.\n",
    "a.requires_grad_(True)"
   ]
  },
  {
   "cell_type": "code",
   "execution_count": 88,
   "id": "40992bbb",
   "metadata": {
    "ExecuteTime": {
     "end_time": "2022-06-13T12:53:31.693588Z",
     "start_time": "2022-06-13T12:53:31.676581Z"
    }
   },
   "outputs": [
    {
     "name": "stdout",
     "output_type": "stream",
     "text": [
      "True\n"
     ]
    }
   ],
   "source": [
    "print(a.requires_grad)"
   ]
  }
 ],
 "metadata": {
  "hide_input": false,
  "kernelspec": {
   "display_name": "Python 3 (ipykernel)",
   "language": "python",
   "name": "python3"
  },
  "language_info": {
   "codemirror_mode": {
    "name": "ipython",
    "version": 3
   },
   "file_extension": ".py",
   "mimetype": "text/x-python",
   "name": "python",
   "nbconvert_exporter": "python",
   "pygments_lexer": "ipython3",
   "version": "3.9.7"
  },
  "latex_envs": {
   "LaTeX_envs_menu_present": true,
   "autoclose": false,
   "autocomplete": true,
   "bibliofile": "biblio.bib",
   "cite_by": "apalike",
   "current_citInitial": 1,
   "eqLabelWithNumbers": true,
   "eqNumInitial": 1,
   "hotkeys": {
    "equation": "Ctrl-E",
    "itemize": "Ctrl-I"
   },
   "labels_anchors": false,
   "latex_user_defs": false,
   "report_style_numbering": false,
   "user_envs_cfg": false
  },
  "nbTranslate": {
   "displayLangs": [
    "*"
   ],
   "hotkey": "alt-t",
   "langInMainMenu": true,
   "sourceLang": "en",
   "targetLang": "fr",
   "useGoogleTranslate": true
  },
  "toc": {
   "base_numbering": 1,
   "nav_menu": {},
   "number_sections": true,
   "sideBar": true,
   "skip_h1_title": false,
   "title_cell": "Table of Contents",
   "title_sidebar": "Contents",
   "toc_cell": false,
   "toc_position": {},
   "toc_section_display": true,
   "toc_window_display": false
  },
  "varInspector": {
   "cols": {
    "lenName": 16,
    "lenType": 16,
    "lenVar": 40
   },
   "kernels_config": {
    "python": {
     "delete_cmd_postfix": "",
     "delete_cmd_prefix": "del ",
     "library": "var_list.py",
     "varRefreshCmd": "print(var_dic_list())"
    },
    "r": {
     "delete_cmd_postfix": ") ",
     "delete_cmd_prefix": "rm(",
     "library": "var_list.r",
     "varRefreshCmd": "cat(var_dic_list()) "
    }
   },
   "types_to_exclude": [
    "module",
    "function",
    "builtin_function_or_method",
    "instance",
    "_Feature"
   ],
   "window_display": false
  }
 },
 "nbformat": 4,
 "nbformat_minor": 5
}
