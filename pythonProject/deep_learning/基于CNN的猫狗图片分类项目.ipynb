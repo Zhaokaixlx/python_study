{
 "cells": [
  {
   "cell_type": "code",
   "execution_count": 1,
   "id": "2178b459",
   "metadata": {
    "ExecuteTime": {
     "end_time": "2022-06-12T08:44:24.163691Z",
     "start_time": "2022-06-12T08:44:17.586903Z"
    }
   },
   "outputs": [],
   "source": [
    "import numpy as np\n",
    "import pandas as pd\n",
    "import matplotlib.pyplot as plt\n",
    "import tensorflow as tf"
   ]
  },
  {
   "cell_type": "code",
   "execution_count": 2,
   "id": "1f40103c",
   "metadata": {
    "ExecuteTime": {
     "end_time": "2022-06-12T08:46:21.438646Z",
     "start_time": "2022-06-12T08:46:21.432662Z"
    }
   },
   "outputs": [],
   "source": [
    "import os"
   ]
  },
  {
   "cell_type": "markdown",
   "id": "b68625c5",
   "metadata": {},
   "source": [
    "# 导入数据"
   ]
  },
  {
   "cell_type": "code",
   "execution_count": 3,
   "id": "f27f8569",
   "metadata": {
    "ExecuteTime": {
     "end_time": "2022-06-12T08:50:05.457027Z",
     "start_time": "2022-06-12T08:50:05.446022Z"
    }
   },
   "outputs": [],
   "source": [
    "base_dir = r'C:\\Users\\Administrator\\Desktop\\data\\deep_learning\\基于CNN的猫狗图片分类项目\\代码\\data\\cats_and_dogs'\n",
    "train_dir = os.path.join(base_dir, 'train')\n",
    "validation_dir = os.path.join(base_dir, 'validation')\n",
    "\n",
    "# 训练集\n",
    "train_cats_dir = os.path.join(train_dir, 'cats')\n",
    "train_dogs_dir = os.path.join(train_dir, 'dogs')\n",
    "\n",
    "# 验证集\n",
    "validation_cats_dir = os.path.join(validation_dir, 'cats')\n",
    "validation_dogs_dir = os.path.join(validation_dir, 'dogs')"
   ]
  },
  {
   "cell_type": "markdown",
   "id": "2220014a",
   "metadata": {},
   "source": [
    "# 读取图片"
   ]
  },
  {
   "cell_type": "code",
   "execution_count": 4,
   "id": "455c0d94",
   "metadata": {
    "ExecuteTime": {
     "end_time": "2022-06-12T08:51:48.738332Z",
     "start_time": "2022-06-12T08:51:48.731363Z"
    }
   },
   "outputs": [],
   "source": [
    "from tensorflow.keras.preprocessing.image import ImageDataGenerator"
   ]
  },
  {
   "cell_type": "code",
   "execution_count": 5,
   "id": "c8775072",
   "metadata": {
    "ExecuteTime": {
     "end_time": "2022-06-12T08:54:33.158976Z",
     "start_time": "2022-06-12T08:54:33.154636Z"
    }
   },
   "outputs": [],
   "source": [
    "# ImageDataGenerator 图片生成器, 会自动的帮我们从指定目录中读取图片. \n",
    "train_datagen = ImageDataGenerator(rescale=1./255)\n",
    "valid_datagen = ImageDataGenerator(rescale=1./255)"
   ]
  },
  {
   "cell_type": "code",
   "execution_count": 6,
   "id": "cd4974fd",
   "metadata": {
    "ExecuteTime": {
     "end_time": "2022-06-12T08:57:50.072552Z",
     "start_time": "2022-06-12T08:57:49.911413Z"
    }
   },
   "outputs": [
    {
     "name": "stdout",
     "output_type": "stream",
     "text": [
      "Found 2000 images belonging to 2 classes.\n",
      "Found 1000 images belonging to 2 classes.\n"
     ]
    }
   ],
   "source": [
    "train_generator = train_datagen.flow_from_directory(\n",
    "    train_dir, # 文件夹路径\n",
    "    target_size=(64, 64),  # 指定图片缩放之后的大小\n",
    "    batch_size=20,\n",
    "    # 默认是categorical,表示多分类, 二分类用binary\n",
    "    class_mode='binary')\n",
    "\n",
    "validation_generator = valid_datagen.flow_from_directory(\n",
    "    validation_dir, # 文件夹路径\n",
    "    target_size=(64, 64),  # 指定图片缩放之后的大小\n",
    "    batch_size=20,\n",
    "    # 默认是categorical,表示多分类, 二分类用binary\n",
    "    class_mode='binary')"
   ]
  },
  {
   "cell_type": "markdown",
   "id": "2611758f",
   "metadata": {},
   "source": [
    "# 搭建神经网络"
   ]
  },
  {
   "cell_type": "code",
   "execution_count": 7,
   "id": "912b1f13",
   "metadata": {
    "ExecuteTime": {
     "end_time": "2022-06-12T08:59:12.187853Z",
     "start_time": "2022-06-12T08:59:09.577911Z"
    }
   },
   "outputs": [],
   "source": [
    "# 搭建卷积神经网络\n",
    "model = tf.keras.models.Sequential()\n",
    "# 2次卷积一次池化, 3层, 2层全连接. \n",
    "model.add(tf.keras.layers.Conv2D(filters=32, \n",
    "                                 kernel_size=3,\n",
    "                                 padding='same',\n",
    "                                 activation='relu',\n",
    "                                 input_shape=(64, 64, 3)))\n",
    "model.add(tf.keras.layers.Conv2D(filters=32, \n",
    "                                 kernel_size=3,\n",
    "                                 padding='same',\n",
    "                                 activation='relu'))\n",
    "model.add(tf.keras.layers.MaxPool2D(pool_size=2))\n",
    "\n",
    "model.add(tf.keras.layers.Conv2D(filters=64, \n",
    "                                 kernel_size=3,\n",
    "                                 padding='same',\n",
    "                                 activation='relu'))\n",
    "model.add(tf.keras.layers.Conv2D(filters=64, \n",
    "                                 kernel_size=3,\n",
    "                                 padding='same',\n",
    "                                 activation='relu'))\n",
    "model.add(tf.keras.layers.MaxPool2D(pool_size=2))\n",
    "\n",
    "model.add(tf.keras.layers.Conv2D(filters=128, \n",
    "                                 kernel_size=3,\n",
    "                                 padding='same',\n",
    "                                 activation='relu'))\n",
    "model.add(tf.keras.layers.Conv2D(filters=128, \n",
    "                                 kernel_size=3,\n",
    "                                 padding='same',\n",
    "                                 activation='relu'))\n",
    "model.add(tf.keras.layers.MaxPool2D(pool_size=2))\n",
    "\n",
    "model.add(tf.keras.layers.Flatten())\n",
    "model.add(tf.keras.layers.Dense(512, activation='relu'))\n",
    "model.add(tf.keras.layers.Dense(256, activation='relu'))\n",
    "model.add(tf.keras.layers.Dense(1, activation='sigmoid'))"
   ]
  },
  {
   "cell_type": "code",
   "execution_count": 8,
   "id": "d0cd12ff",
   "metadata": {
    "ExecuteTime": {
     "end_time": "2022-06-12T08:59:35.769376Z",
     "start_time": "2022-06-12T08:59:35.740425Z"
    }
   },
   "outputs": [
    {
     "name": "stdout",
     "output_type": "stream",
     "text": [
      "Model: \"sequential\"\n",
      "_________________________________________________________________\n",
      " Layer (type)                Output Shape              Param #   \n",
      "=================================================================\n",
      " conv2d (Conv2D)             (None, 64, 64, 32)        896       \n",
      "                                                                 \n",
      " conv2d_1 (Conv2D)           (None, 64, 64, 32)        9248      \n",
      "                                                                 \n",
      " max_pooling2d (MaxPooling2D  (None, 32, 32, 32)       0         \n",
      " )                                                               \n",
      "                                                                 \n",
      " conv2d_2 (Conv2D)           (None, 32, 32, 64)        18496     \n",
      "                                                                 \n",
      " conv2d_3 (Conv2D)           (None, 32, 32, 64)        36928     \n",
      "                                                                 \n",
      " max_pooling2d_1 (MaxPooling  (None, 16, 16, 64)       0         \n",
      " 2D)                                                             \n",
      "                                                                 \n",
      " conv2d_4 (Conv2D)           (None, 16, 16, 128)       73856     \n",
      "                                                                 \n",
      " conv2d_5 (Conv2D)           (None, 16, 16, 128)       147584    \n",
      "                                                                 \n",
      " max_pooling2d_2 (MaxPooling  (None, 8, 8, 128)        0         \n",
      " 2D)                                                             \n",
      "                                                                 \n",
      " flatten (Flatten)           (None, 8192)              0         \n",
      "                                                                 \n",
      " dense (Dense)               (None, 512)               4194816   \n",
      "                                                                 \n",
      " dense_1 (Dense)             (None, 256)               131328    \n",
      "                                                                 \n",
      " dense_2 (Dense)             (None, 1)                 257       \n",
      "                                                                 \n",
      "=================================================================\n",
      "Total params: 4,613,409\n",
      "Trainable params: 4,613,409\n",
      "Non-trainable params: 0\n",
      "_________________________________________________________________\n"
     ]
    }
   ],
   "source": [
    "model.summary()"
   ]
  },
  {
   "cell_type": "markdown",
   "id": "bab24c0f",
   "metadata": {},
   "source": [
    "# 配置网络"
   ]
  },
  {
   "cell_type": "markdown",
   "id": "dbe48821",
   "metadata": {},
   "source": [
    "tf.keras.optimizers.Adam(learning_rate=0.0001)"
   ]
  },
  {
   "cell_type": "code",
   "execution_count": 9,
   "id": "a30bc597",
   "metadata": {
    "ExecuteTime": {
     "end_time": "2022-06-12T09:01:42.921818Z",
     "start_time": "2022-06-12T09:01:42.900874Z"
    }
   },
   "outputs": [],
   "source": [
    "model.compile(loss='binary_crossentropy',\n",
    "             optimizer=tf.keras.optimizers.Adam(learning_rate=0.0001),\n",
    "             metrics=['acc'])"
   ]
  },
  {
   "cell_type": "markdown",
   "id": "28622242",
   "metadata": {},
   "source": [
    "# 训练网络"
   ]
  },
  {
   "cell_type": "code",
   "execution_count": 10,
   "id": "af1fdd30",
   "metadata": {
    "ExecuteTime": {
     "end_time": "2022-06-12T09:11:34.772850Z",
     "start_time": "2022-06-12T09:05:11.605366Z"
    }
   },
   "outputs": [
    {
     "name": "stdout",
     "output_type": "stream",
     "text": [
      "Epoch 1/20\n",
      "100/100 [==============================] - 19s 183ms/step - loss: 0.6935 - acc: 0.5265 - val_loss: 0.6928 - val_acc: 0.5000\n",
      "Epoch 2/20\n",
      "100/100 [==============================] - 20s 198ms/step - loss: 0.6826 - acc: 0.5615 - val_loss: 0.6502 - val_acc: 0.6580\n",
      "Epoch 3/20\n",
      "100/100 [==============================] - 20s 197ms/step - loss: 0.6569 - acc: 0.6265 - val_loss: 0.6190 - val_acc: 0.6660\n",
      "Epoch 4/20\n",
      "100/100 [==============================] - 19s 193ms/step - loss: 0.6043 - acc: 0.6725 - val_loss: 0.6673 - val_acc: 0.6210\n",
      "Epoch 5/20\n",
      "100/100 [==============================] - 19s 194ms/step - loss: 0.5715 - acc: 0.7115 - val_loss: 0.6041 - val_acc: 0.6770\n",
      "Epoch 6/20\n",
      "100/100 [==============================] - 19s 192ms/step - loss: 0.5272 - acc: 0.7420 - val_loss: 0.5803 - val_acc: 0.6980\n",
      "Epoch 7/20\n",
      "100/100 [==============================] - 19s 192ms/step - loss: 0.5074 - acc: 0.7575 - val_loss: 0.5906 - val_acc: 0.6850\n",
      "Epoch 8/20\n",
      "100/100 [==============================] - 19s 192ms/step - loss: 0.4807 - acc: 0.7755 - val_loss: 0.5624 - val_acc: 0.7300\n",
      "Epoch 9/20\n",
      "100/100 [==============================] - 20s 196ms/step - loss: 0.4472 - acc: 0.7885 - val_loss: 0.5913 - val_acc: 0.7020\n",
      "Epoch 10/20\n",
      "100/100 [==============================] - 19s 192ms/step - loss: 0.3954 - acc: 0.8210 - val_loss: 0.5803 - val_acc: 0.7220\n",
      "Epoch 11/20\n",
      "100/100 [==============================] - 19s 193ms/step - loss: 0.3759 - acc: 0.8365 - val_loss: 0.5918 - val_acc: 0.7410\n",
      "Epoch 12/20\n",
      "100/100 [==============================] - 19s 191ms/step - loss: 0.3160 - acc: 0.8550 - val_loss: 0.5989 - val_acc: 0.7380\n",
      "Epoch 13/20\n",
      "100/100 [==============================] - 19s 186ms/step - loss: 0.2802 - acc: 0.8905 - val_loss: 0.6931 - val_acc: 0.7060\n",
      "Epoch 14/20\n",
      "100/100 [==============================] - 19s 189ms/step - loss: 0.2311 - acc: 0.9075 - val_loss: 0.6909 - val_acc: 0.7260\n",
      "Epoch 15/20\n",
      "100/100 [==============================] - 19s 186ms/step - loss: 0.1825 - acc: 0.9310 - val_loss: 0.7259 - val_acc: 0.7290\n",
      "Epoch 16/20\n",
      "100/100 [==============================] - 19s 186ms/step - loss: 0.1410 - acc: 0.9490 - val_loss: 0.7828 - val_acc: 0.7360\n",
      "Epoch 17/20\n",
      "100/100 [==============================] - 19s 187ms/step - loss: 0.1031 - acc: 0.9680 - val_loss: 0.9826 - val_acc: 0.7150\n",
      "Epoch 18/20\n",
      "100/100 [==============================] - 19s 187ms/step - loss: 0.0768 - acc: 0.9755 - val_loss: 0.8947 - val_acc: 0.7370\n",
      "Epoch 19/20\n",
      "100/100 [==============================] - 20s 199ms/step - loss: 0.0366 - acc: 0.9955 - val_loss: 1.0418 - val_acc: 0.7350\n",
      "Epoch 20/20\n",
      "100/100 [==============================] - 19s 187ms/step - loss: 0.0170 - acc: 0.9980 - val_loss: 1.2365 - val_acc: 0.7210\n"
     ]
    }
   ],
   "source": [
    "history = model.fit(train_generator, \n",
    "                    steps_per_epoch=100, # 2000 images : = batch_size * steps\n",
    "                    epochs=20,\n",
    "                    validation_data=validation_generator,\n",
    "                    validation_steps=50, # 1000 images = batch_size * steps\n",
    "                   )"
   ]
  },
  {
   "cell_type": "markdown",
   "id": "871d9b1d",
   "metadata": {},
   "source": [
    "# 画图显示损失"
   ]
  },
  {
   "cell_type": "code",
   "execution_count": 11,
   "id": "ec317404",
   "metadata": {
    "ExecuteTime": {
     "end_time": "2022-06-12T09:13:47.183702Z",
     "start_time": "2022-06-12T09:13:46.987513Z"
    }
   },
   "outputs": [
    {
     "data": {
      "image/png": "[encoded data removed]",
      "text/plain": [
       "<Figure size 576x360 with 1 Axes>"
      ]
     },
     "metadata": {
      "needs_background": "light"
     },
     "output_type": "display_data"
    }
   ],
   "source": [
    "pd.DataFrame(history.history).plot(figsize=(8, 5))\n",
    "plt.grid()\n",
    "plt.gca().set_ylim(0, 1)\n",
    "plt.show()"
   ]
  },
  {
   "cell_type": "markdown",
   "id": "592ce634",
   "metadata": {},
   "source": [
    "# 数据增强"
   ]
  },
  {
   "cell_type": "code",
   "execution_count": 12,
   "id": "c4ca7f55",
   "metadata": {
    "ExecuteTime": {
     "end_time": "2022-06-12T09:18:43.944657Z",
     "start_time": "2022-06-12T09:18:43.776001Z"
    }
   },
   "outputs": [
    {
     "name": "stdout",
     "output_type": "stream",
     "text": [
      "Found 2000 images belonging to 2 classes.\n",
      "Found 1000 images belonging to 2 classes.\n"
     ]
    }
   ],
   "source": [
    "# 数据增强\n",
    "train_datagen = ImageDataGenerator(rescale=1./255,\n",
    "                                  rotation_range=40, \n",
    "                                  width_shift_range=0.2,\n",
    "                                  height_shift_range=0.2,\n",
    "                                  shear_range=0.2,\n",
    "                                  zoom_range=0.2,\n",
    "                                  horizontal_flip=True,\n",
    "                                  fill_mode='nearest')\n",
    "valid_datagen = ImageDataGenerator(rescale=1./255)\n",
    "train_generator = train_datagen.flow_from_directory(\n",
    "    train_dir, # 文件夹路径\n",
    "    target_size=(64, 64),  # 指定图片缩放之后的大小\n",
    "    batch_size=20,\n",
    "    # 默认是categorical,表示多分类, 二分类用binary\n",
    "    class_mode='binary')\n",
    "\n",
    "validation_generator = valid_datagen.flow_from_directory(\n",
    "    validation_dir, # 文件夹路径\n",
    "    target_size=(64, 64),  # 指定图片缩放之后的大小\n",
    "    batch_size=20,\n",
    "    # 默认是categorical,表示多分类, 二分类用binary\n",
    "    class_mode='binary')"
   ]
  },
  {
   "cell_type": "code",
   "execution_count": 14,
   "id": "821d7d91",
   "metadata": {
    "ExecuteTime": {
     "end_time": "2022-06-12T09:39:12.862571Z",
     "start_time": "2022-06-12T09:32:37.153034Z"
    }
   },
   "outputs": [
    {
     "name": "stdout",
     "output_type": "stream",
     "text": [
      "Epoch 1/20\n",
      "100/100 [==============================] - 18s 179ms/step - loss: 0.6940 - acc: 0.4805 - val_loss: 0.6917 - val_acc: 0.5680\n",
      "Epoch 2/20\n",
      "100/100 [==============================] - 19s 193ms/step - loss: 0.6934 - acc: 0.5140 - val_loss: 0.6928 - val_acc: 0.4990\n",
      "Epoch 3/20\n",
      "100/100 [==============================] - 19s 191ms/step - loss: 0.6903 - acc: 0.5345 - val_loss: 0.6704 - val_acc: 0.5590\n",
      "Epoch 4/20\n",
      "100/100 [==============================] - 19s 192ms/step - loss: 0.6875 - acc: 0.5525 - val_loss: 0.6696 - val_acc: 0.6300\n",
      "Epoch 5/20\n",
      "100/100 [==============================] - 19s 191ms/step - loss: 0.6679 - acc: 0.6005 - val_loss: 0.6375 - val_acc: 0.6440\n",
      "Epoch 6/20\n",
      "100/100 [==============================] - 19s 193ms/step - loss: 0.6516 - acc: 0.6125 - val_loss: 0.6229 - val_acc: 0.6640\n",
      "Epoch 7/20\n",
      "100/100 [==============================] - 19s 191ms/step - loss: 0.6248 - acc: 0.6570 - val_loss: 0.5894 - val_acc: 0.6820\n",
      "Epoch 8/20\n",
      "100/100 [==============================] - 20s 199ms/step - loss: 0.6332 - acc: 0.6515 - val_loss: 0.5909 - val_acc: 0.6910\n",
      "Epoch 9/20\n",
      "100/100 [==============================] - 20s 202ms/step - loss: 0.6029 - acc: 0.6780 - val_loss: 0.5644 - val_acc: 0.6910\n",
      "Epoch 10/20\n",
      "100/100 [==============================] - 20s 201ms/step - loss: 0.5881 - acc: 0.6985 - val_loss: 0.5533 - val_acc: 0.7010\n",
      "Epoch 11/20\n",
      "100/100 [==============================] - 20s 196ms/step - loss: 0.5748 - acc: 0.7035 - val_loss: 0.5432 - val_acc: 0.7140\n",
      "Epoch 12/20\n",
      "100/100 [==============================] - 20s 201ms/step - loss: 0.5574 - acc: 0.7115 - val_loss: 0.5376 - val_acc: 0.7040\n",
      "Epoch 13/20\n",
      "100/100 [==============================] - 21s 205ms/step - loss: 0.5497 - acc: 0.7280 - val_loss: 0.5406 - val_acc: 0.7120\n",
      "Epoch 14/20\n",
      "100/100 [==============================] - 22s 218ms/step - loss: 0.5479 - acc: 0.7210 - val_loss: 0.5843 - val_acc: 0.6700\n",
      "Epoch 15/20\n",
      "100/100 [==============================] - 20s 197ms/step - loss: 0.5417 - acc: 0.7270 - val_loss: 0.5274 - val_acc: 0.7140\n",
      "Epoch 16/20\n",
      "100/100 [==============================] - 20s 202ms/step - loss: 0.5405 - acc: 0.7260 - val_loss: 0.5169 - val_acc: 0.7230\n",
      "Epoch 17/20\n",
      "100/100 [==============================] - 20s 198ms/step - loss: 0.5172 - acc: 0.7365 - val_loss: 0.5365 - val_acc: 0.7230\n",
      "Epoch 18/20\n",
      "100/100 [==============================] - 20s 201ms/step - loss: 0.5261 - acc: 0.7390 - val_loss: 0.5765 - val_acc: 0.6980\n",
      "Epoch 19/20\n",
      "100/100 [==============================] - 20s 200ms/step - loss: 0.5104 - acc: 0.7475 - val_loss: 0.5248 - val_acc: 0.7380\n",
      "Epoch 20/20\n",
      "100/100 [==============================] - 19s 195ms/step - loss: 0.5180 - acc: 0.7495 - val_loss: 0.5130 - val_acc: 0.7210\n"
     ]
    }
   ],
   "source": [
    "# 搭建卷积神经网络\n",
    "model = tf.keras.models.Sequential()\n",
    "# 2次卷积一次池化, 3层, 2层全连接. \n",
    "model.add(tf.keras.layers.Conv2D(filters=32, \n",
    "                                 kernel_size=3,\n",
    "                                 padding='same',\n",
    "                                 activation='relu',\n",
    "                                 input_shape=(64, 64, 3)))\n",
    "model.add(tf.keras.layers.Conv2D(filters=32, \n",
    "                                 kernel_size=3,\n",
    "                                 padding='same',\n",
    "                                 activation='relu'))\n",
    "model.add(tf.keras.layers.MaxPool2D(pool_size=2))\n",
    "\n",
    "model.add(tf.keras.layers.Conv2D(filters=64, \n",
    "                                 kernel_size=3,\n",
    "                                 padding='same',\n",
    "                                 activation='relu'))\n",
    "model.add(tf.keras.layers.Conv2D(filters=64, \n",
    "                                 kernel_size=3,\n",
    "                                 padding='same',\n",
    "                                 activation='relu'))\n",
    "model.add(tf.keras.layers.MaxPool2D(pool_size=2))\n",
    "\n",
    "model.add(tf.keras.layers.Conv2D(filters=128, \n",
    "                                 kernel_size=3,\n",
    "                                 padding='same',\n",
    "                                 activation='relu'))\n",
    "model.add(tf.keras.layers.Conv2D(filters=128, \n",
    "                                 kernel_size=3,\n",
    "                                 padding='same',\n",
    "                                 activation='relu'))\n",
    "model.add(tf.keras.layers.MaxPool2D(pool_size=2))\n",
    "\n",
    "model.add(tf.keras.layers.Flatten())\n",
    "model.add(tf.keras.layers.Dense(512, activation='relu'))\n",
    "model.add(tf.keras.layers.Dense(256, activation='relu'))\n",
    "model.add(tf.keras.layers.Dense(1, activation='sigmoid'))\n",
    "\n",
    "model.compile(loss='binary_crossentropy',\n",
    "             optimizer=tf.keras.optimizers.Adam(learning_rate=0.0001),\n",
    "             metrics=['acc'])\n",
    "\n",
    "history = model.fit(train_generator, \n",
    "                    steps_per_epoch=100, # 2000 images : = batch_size * steps\n",
    "                    epochs=20,\n",
    "                    validation_data=validation_generator,\n",
    "                    validation_steps=50, # 1000 images = batch_size * steps\n",
    "                   )"
   ]
  },
  {
   "cell_type": "markdown",
   "id": "2826ae7a",
   "metadata": {},
   "source": [
    "# 可以接着上次的继续跑"
   ]
  },
  {
   "cell_type": "code",
   "execution_count": 15,
   "id": "6d0f6db5",
   "metadata": {
    "ExecuteTime": {
     "end_time": "2022-06-12T09:46:39.064454Z",
     "start_time": "2022-06-12T09:40:13.745314Z"
    }
   },
   "outputs": [
    {
     "name": "stdout",
     "output_type": "stream",
     "text": [
      "Epoch 1/20\n",
      "100/100 [==============================] - 17s 174ms/step - loss: 0.5041 - acc: 0.7455 - val_loss: 0.5259 - val_acc: 0.7200\n",
      "Epoch 2/20\n",
      "100/100 [==============================] - 20s 202ms/step - loss: 0.5026 - acc: 0.7585 - val_loss: 0.5461 - val_acc: 0.7320\n",
      "Epoch 3/20\n",
      "100/100 [==============================] - 19s 194ms/step - loss: 0.5108 - acc: 0.7545 - val_loss: 0.5108 - val_acc: 0.7430\n",
      "Epoch 4/20\n",
      "100/100 [==============================] - 19s 191ms/step - loss: 0.5065 - acc: 0.7480 - val_loss: 0.4953 - val_acc: 0.7480\n",
      "Epoch 5/20\n",
      "100/100 [==============================] - 19s 193ms/step - loss: 0.4812 - acc: 0.7665 - val_loss: 0.5085 - val_acc: 0.7510\n",
      "Epoch 6/20\n",
      "100/100 [==============================] - 19s 191ms/step - loss: 0.4839 - acc: 0.7775 - val_loss: 0.4980 - val_acc: 0.7590\n",
      "Epoch 7/20\n",
      "100/100 [==============================] - 19s 191ms/step - loss: 0.4916 - acc: 0.7645 - val_loss: 0.5022 - val_acc: 0.7480\n",
      "Epoch 8/20\n",
      "100/100 [==============================] - 19s 193ms/step - loss: 0.4796 - acc: 0.7675 - val_loss: 0.4753 - val_acc: 0.7650\n",
      "Epoch 9/20\n",
      "100/100 [==============================] - 19s 194ms/step - loss: 0.4705 - acc: 0.7780 - val_loss: 0.4745 - val_acc: 0.7640\n",
      "Epoch 10/20\n",
      "100/100 [==============================] - 19s 191ms/step - loss: 0.4669 - acc: 0.7735 - val_loss: 0.4623 - val_acc: 0.7750\n",
      "Epoch 11/20\n",
      "100/100 [==============================] - 19s 192ms/step - loss: 0.4797 - acc: 0.7705 - val_loss: 0.4871 - val_acc: 0.7530\n",
      "Epoch 12/20\n",
      "100/100 [==============================] - 19s 191ms/step - loss: 0.4643 - acc: 0.7725 - val_loss: 0.4851 - val_acc: 0.7550\n",
      "Epoch 13/20\n",
      "100/100 [==============================] - 19s 192ms/step - loss: 0.4490 - acc: 0.7910 - val_loss: 0.5226 - val_acc: 0.7460\n",
      "Epoch 14/20\n",
      "100/100 [==============================] - 19s 193ms/step - loss: 0.4649 - acc: 0.7845 - val_loss: 0.4836 - val_acc: 0.7590\n",
      "Epoch 15/20\n",
      "100/100 [==============================] - 19s 192ms/step - loss: 0.4471 - acc: 0.7910 - val_loss: 0.4651 - val_acc: 0.7740\n",
      "Epoch 16/20\n",
      "100/100 [==============================] - 19s 192ms/step - loss: 0.4495 - acc: 0.7845 - val_loss: 0.4552 - val_acc: 0.7820\n",
      "Epoch 17/20\n",
      "100/100 [==============================] - 19s 192ms/step - loss: 0.4400 - acc: 0.7980 - val_loss: 0.4715 - val_acc: 0.7680\n",
      "Epoch 18/20\n",
      "100/100 [==============================] - 19s 195ms/step - loss: 0.4406 - acc: 0.7980 - val_loss: 0.4531 - val_acc: 0.7790\n",
      "Epoch 19/20\n",
      "100/100 [==============================] - 20s 202ms/step - loss: 0.4294 - acc: 0.7985 - val_loss: 0.4613 - val_acc: 0.7810\n",
      "Epoch 20/20\n",
      "100/100 [==============================] - 19s 191ms/step - loss: 0.4315 - acc: 0.8030 - val_loss: 0.4571 - val_acc: 0.7870\n"
     ]
    }
   ],
   "source": [
    "history = model.fit(train_generator, \n",
    "                    steps_per_epoch=100, # 2000 images : = batch_size * steps\n",
    "                    epochs=20,\n",
    "                    validation_data=validation_generator,\n",
    "                    validation_steps=50, # 1000 images = batch_size * steps\n",
    "                   )"
   ]
  },
  {
   "cell_type": "code",
   "execution_count": null,
   "id": "346c6870",
   "metadata": {},
   "outputs": [],
   "source": []
  }
 ],
 "metadata": {
  "hide_input": false,
  "kernelspec": {
   "display_name": "Python 3 (ipykernel)",
   "language": "python",
   "name": "python3"
  },
  "language_info": {
   "codemirror_mode": {
    "name": "ipython",
    "version": 3
   },
   "file_extension": ".py",
   "mimetype": "text/x-python",
   "name": "python",
   "nbconvert_exporter": "python",
   "pygments_lexer": "ipython3",
   "version": "3.9.7"
  },
  "latex_envs": {
   "LaTeX_envs_menu_present": true,
   "autoclose": false,
   "autocomplete": true,
   "bibliofile": "biblio.bib",
   "cite_by": "apalike",
   "current_citInitial": 1,
   "eqLabelWithNumbers": true,
   "eqNumInitial": 1,
   "hotkeys": {
    "equation": "Ctrl-E",
    "itemize": "Ctrl-I"
   },
   "labels_anchors": false,
   "latex_user_defs": false,
   "report_style_numbering": false,
   "user_envs_cfg": false
  },
  "nbTranslate": {
   "displayLangs": [
    "*"
   ],
   "hotkey": "alt-t",
   "langInMainMenu": true,
   "sourceLang": "en",
   "targetLang": "fr",
   "useGoogleTranslate": true
  },
  "toc": {
   "base_numbering": 1,
   "nav_menu": {},
   "number_sections": true,
   "sideBar": true,
   "skip_h1_title": false,
   "title_cell": "Table of Contents",
   "title_sidebar": "Contents",
   "toc_cell": false,
   "toc_position": {},
   "toc_section_display": true,
   "toc_window_display": false
  },
  "varInspector": {
   "cols": {
    "lenName": 16,
    "lenType": 16,
    "lenVar": 40
   },
   "kernels_config": {
    "python": {
     "delete_cmd_postfix": "",
     "delete_cmd_prefix": "del ",
     "library": "var_list.py",
     "varRefreshCmd": "print(var_dic_list())"
    },
    "r": {
     "delete_cmd_postfix": ") ",
     "delete_cmd_prefix": "rm(",
     "library": "var_list.r",
     "varRefreshCmd": "cat(var_dic_list()) "
    }
   },
   "types_to_exclude": [
    "module",
    "function",
    "builtin_function_or_method",
    "instance",
    "_Feature"
   ],
   "window_display": false
  }
 },
 "nbformat": 4,
 "nbformat_minor": 5
}
