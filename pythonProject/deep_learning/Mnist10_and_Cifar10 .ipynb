{
 "cells": [
  {
   "cell_type": "markdown",
   "id": "e78ea283",
   "metadata": {},
   "source": [
    "# 手写数字"
   ]
  },
  {
   "cell_type": "code",
   "execution_count": 1,
   "id": "c96e0b30",
   "metadata": {
    "ExecuteTime": {
     "end_time": "2022-06-01T10:49:05.598202Z",
     "start_time": "2022-06-01T10:49:03.004274Z"
    }
   },
   "outputs": [],
   "source": [
    "import numpy as np\n",
    "import matplotlib.pyplot as plt\n",
    "import tensorflow as tf"
   ]
  },
  {
   "cell_type": "markdown",
   "id": "ed6c5b93",
   "metadata": {},
   "source": [
    "## 读取数据"
   ]
  },
  {
   "cell_type": "code",
   "execution_count": 2,
   "id": "b8ad8f05",
   "metadata": {
    "ExecuteTime": {
     "end_time": "2022-06-01T11:02:54.913888Z",
     "start_time": "2022-06-01T11:02:54.667734Z"
    }
   },
   "outputs": [],
   "source": [
    "(x_train_all, y_train_all), (x_test, y_test) = tf.keras.datasets.mnist.load_data()"
   ]
  },
  {
   "cell_type": "code",
   "execution_count": 3,
   "id": "b0e5acf1",
   "metadata": {
    "ExecuteTime": {
     "end_time": "2022-06-01T11:03:44.143836Z",
     "start_time": "2022-06-01T11:03:44.132235Z"
    }
   },
   "outputs": [
    {
     "data": {
      "text/plain": [
       "(60000, 28, 28)"
      ]
     },
     "execution_count": 3,
     "metadata": {},
     "output_type": "execute_result"
    }
   ],
   "source": [
    "x_train_all.shape"
   ]
  },
  {
   "cell_type": "code",
   "execution_count": 4,
   "id": "7e9edc86",
   "metadata": {
    "ExecuteTime": {
     "end_time": "2022-06-01T11:04:11.675220Z",
     "start_time": "2022-06-01T11:04:11.658085Z"
    }
   },
   "outputs": [
    {
     "data": {
      "text/plain": [
       "(10000, 28, 28)"
      ]
     },
     "execution_count": 4,
     "metadata": {},
     "output_type": "execute_result"
    }
   ],
   "source": [
    "x_test.shape"
   ]
  },
  {
   "cell_type": "code",
   "execution_count": 5,
   "id": "f3f8b7a4",
   "metadata": {
    "ExecuteTime": {
     "end_time": "2022-06-01T11:04:45.580923Z",
     "start_time": "2022-06-01T11:04:45.290563Z"
    }
   },
   "outputs": [
    {
     "data": {
      "text/plain": [
       "<matplotlib.image.AxesImage at 0x2bb23fb3df0>"
      ]
     },
     "execution_count": 5,
     "metadata": {},
     "output_type": "execute_result"
    },
    {
     "data": {
      "image/png": "[encoded data removed]",
      "text/plain": [
       "<Figure size 432x288 with 1 Axes>"
      ]
     },
     "metadata": {
      "needs_background": "light"
     },
     "output_type": "display_data"
    }
   ],
   "source": [
    "plt.imshow(x_test[1], cmap='gray')"
   ]
  },
  {
   "cell_type": "code",
   "execution_count": 6,
   "id": "bfc470ce",
   "metadata": {
    "ExecuteTime": {
     "end_time": "2022-06-01T11:05:13.443274Z",
     "start_time": "2022-06-01T11:05:13.430294Z"
    }
   },
   "outputs": [
    {
     "data": {
      "text/plain": [
       "2"
      ]
     },
     "execution_count": 6,
     "metadata": {},
     "output_type": "execute_result"
    }
   ],
   "source": [
    "y_test[1]"
   ]
  },
  {
   "cell_type": "code",
   "execution_count": 7,
   "id": "9e8d8926",
   "metadata": {
    "ExecuteTime": {
     "end_time": "2022-06-01T11:07:52.094445Z",
     "start_time": "2022-06-01T11:07:52.082463Z"
    }
   },
   "outputs": [],
   "source": [
    "x_valid, x_train = x_train_all[:5000], x_train_all[5000:]\n",
    "y_valid, y_train = y_train_all[:5000], y_train_all[5000:]"
   ]
  },
  {
   "cell_type": "code",
   "execution_count": 8,
   "id": "de18d459",
   "metadata": {
    "ExecuteTime": {
     "end_time": "2022-06-01T11:10:45.326692Z",
     "start_time": "2022-06-01T11:10:45.315039Z"
    }
   },
   "outputs": [
    {
     "data": {
      "text/plain": [
       "array([[  0,   0,   0,   0,   0,   0,   0,   0,   0,   0,   0,   0,   0,\n",
       "          0,   0,   0,   0,   0,   0,   0,   0,   0,   0,   0,   0,   0,\n",
       "          0,   0],\n",
       "       [  0,   0,   0,   0,   0,   0,   0,   0,   0,   0,   0,   0,   0,\n",
       "          0,   0,   0,   0,   0,   0,   0,   0,   0,   0,   0,   0,   0,\n",
       "          0,   0],\n",
       "       [  0,   0,   0,   0,   0,   0,   0,   0,   0,   0,   0,   0,   0,\n",
       "          0,   0,   0,   0,   0,   0,   0,   0,   0,   0,   0,   0,   0,\n",
       "          0,   0],\n",
       "       [  0,   0,   0,   0,   0,   0,   0,   0,   0,   0,   0,   0,   0,\n",
       "          0,   0,   0,   0,   0,   0,   0,   0,   0,   0,   0,   0,   0,\n",
       "          0,   0],\n",
       "       [  0,   0,   0,   0,   0,   0,   0,   0,   0,   0,   0,   0,   0,\n",
       "          0,   0,   0,   0,   0,   0,   0,   0,   0,   0,   0,   0,   0,\n",
       "          0,   0],\n",
       "       [  0,   0,   0,   0,   0,   0,   0,   0,   0,   0,   0,   0,   3,\n",
       "         18,  18,  18, 126, 136, 175,  26, 166, 255, 247, 127,   0,   0,\n",
       "          0,   0],\n",
       "       [  0,   0,   0,   0,   0,   0,   0,   0,  30,  36,  94, 154, 170,\n",
       "        253, 253, 253, 253, 253, 225, 172, 253, 242, 195,  64,   0,   0,\n",
       "          0,   0],\n",
       "       [  0,   0,   0,   0,   0,   0,   0,  49, 238, 253, 253, 253, 253,\n",
       "        253, 253, 253, 253, 251,  93,  82,  82,  56,  39,   0,   0,   0,\n",
       "          0,   0],\n",
       "       [  0,   0,   0,   0,   0,   0,   0,  18, 219, 253, 253, 253, 253,\n",
       "        253, 198, 182, 247, 241,   0,   0,   0,   0,   0,   0,   0,   0,\n",
       "          0,   0],\n",
       "       [  0,   0,   0,   0,   0,   0,   0,   0,  80, 156, 107, 253, 253,\n",
       "        205,  11,   0,  43, 154,   0,   0,   0,   0,   0,   0,   0,   0,\n",
       "          0,   0],\n",
       "       [  0,   0,   0,   0,   0,   0,   0,   0,   0,  14,   1, 154, 253,\n",
       "         90,   0,   0,   0,   0,   0,   0,   0,   0,   0,   0,   0,   0,\n",
       "          0,   0],\n",
       "       [  0,   0,   0,   0,   0,   0,   0,   0,   0,   0,   0, 139, 253,\n",
       "        190,   2,   0,   0,   0,   0,   0,   0,   0,   0,   0,   0,   0,\n",
       "          0,   0],\n",
       "       [  0,   0,   0,   0,   0,   0,   0,   0,   0,   0,   0,  11, 190,\n",
       "        253,  70,   0,   0,   0,   0,   0,   0,   0,   0,   0,   0,   0,\n",
       "          0,   0],\n",
       "       [  0,   0,   0,   0,   0,   0,   0,   0,   0,   0,   0,   0,  35,\n",
       "        241, 225, 160, 108,   1,   0,   0,   0,   0,   0,   0,   0,   0,\n",
       "          0,   0],\n",
       "       [  0,   0,   0,   0,   0,   0,   0,   0,   0,   0,   0,   0,   0,\n",
       "         81, 240, 253, 253, 119,  25,   0,   0,   0,   0,   0,   0,   0,\n",
       "          0,   0],\n",
       "       [  0,   0,   0,   0,   0,   0,   0,   0,   0,   0,   0,   0,   0,\n",
       "          0,  45, 186, 253, 253, 150,  27,   0,   0,   0,   0,   0,   0,\n",
       "          0,   0],\n",
       "       [  0,   0,   0,   0,   0,   0,   0,   0,   0,   0,   0,   0,   0,\n",
       "          0,   0,  16,  93, 252, 253, 187,   0,   0,   0,   0,   0,   0,\n",
       "          0,   0],\n",
       "       [  0,   0,   0,   0,   0,   0,   0,   0,   0,   0,   0,   0,   0,\n",
       "          0,   0,   0,   0, 249, 253, 249,  64,   0,   0,   0,   0,   0,\n",
       "          0,   0],\n",
       "       [  0,   0,   0,   0,   0,   0,   0,   0,   0,   0,   0,   0,   0,\n",
       "          0,  46, 130, 183, 253, 253, 207,   2,   0,   0,   0,   0,   0,\n",
       "          0,   0],\n",
       "       [  0,   0,   0,   0,   0,   0,   0,   0,   0,   0,   0,   0,  39,\n",
       "        148, 229, 253, 253, 253, 250, 182,   0,   0,   0,   0,   0,   0,\n",
       "          0,   0],\n",
       "       [  0,   0,   0,   0,   0,   0,   0,   0,   0,   0,  24, 114, 221,\n",
       "        253, 253, 253, 253, 201,  78,   0,   0,   0,   0,   0,   0,   0,\n",
       "          0,   0],\n",
       "       [  0,   0,   0,   0,   0,   0,   0,   0,  23,  66, 213, 253, 253,\n",
       "        253, 253, 198,  81,   2,   0,   0,   0,   0,   0,   0,   0,   0,\n",
       "          0,   0],\n",
       "       [  0,   0,   0,   0,   0,   0,  18, 171, 219, 253, 253, 253, 253,\n",
       "        195,  80,   9,   0,   0,   0,   0,   0,   0,   0,   0,   0,   0,\n",
       "          0,   0],\n",
       "       [  0,   0,   0,   0,  55, 172, 226, 253, 253, 253, 253, 244, 133,\n",
       "         11,   0,   0,   0,   0,   0,   0,   0,   0,   0,   0,   0,   0,\n",
       "          0,   0],\n",
       "       [  0,   0,   0,   0, 136, 253, 253, 253, 212, 135, 132,  16,   0,\n",
       "          0,   0,   0,   0,   0,   0,   0,   0,   0,   0,   0,   0,   0,\n",
       "          0,   0],\n",
       "       [  0,   0,   0,   0,   0,   0,   0,   0,   0,   0,   0,   0,   0,\n",
       "          0,   0,   0,   0,   0,   0,   0,   0,   0,   0,   0,   0,   0,\n",
       "          0,   0],\n",
       "       [  0,   0,   0,   0,   0,   0,   0,   0,   0,   0,   0,   0,   0,\n",
       "          0,   0,   0,   0,   0,   0,   0,   0,   0,   0,   0,   0,   0,\n",
       "          0,   0],\n",
       "       [  0,   0,   0,   0,   0,   0,   0,   0,   0,   0,   0,   0,   0,\n",
       "          0,   0,   0,   0,   0,   0,   0,   0,   0,   0,   0,   0,   0,\n",
       "          0,   0]], dtype=uint8)"
      ]
     },
     "execution_count": 8,
     "metadata": {},
     "output_type": "execute_result"
    }
   ],
   "source": [
    "x_valid[0]"
   ]
  },
  {
   "cell_type": "markdown",
   "id": "06ccbd39",
   "metadata": {},
   "source": [
    "## 标准化处理"
   ]
  },
  {
   "cell_type": "code",
   "execution_count": 9,
   "id": "f7d8294a",
   "metadata": {
    "ExecuteTime": {
     "end_time": "2022-06-01T11:13:09.774928Z",
     "start_time": "2022-06-01T11:13:08.867073Z"
    }
   },
   "outputs": [],
   "source": [
    "# 对数据进行标准化处理, \n",
    "# x - u / s\n",
    "from sklearn.preprocessing import StandardScaler\n",
    "\n",
    "scaler = StandardScaler()\n",
    "x_train_scaled = scaler.fit_transform(x_train.astype(np.float32).reshape(-1, 1)).reshape(-1, 28, 28)\n",
    "x_valid_scaled = scaler.transform(x_valid.astype(np.float32).reshape(-1, 1)).reshape(-1, 28, 28)\n",
    "x_test_scaled = scaler.transform(x_test.astype(np.float32).reshape(-1, 1)).reshape(-1, 28, 28)"
   ]
  },
  {
   "cell_type": "markdown",
   "id": "03db67f3",
   "metadata": {},
   "source": [
    "## 定义网络"
   ]
  },
  {
   "cell_type": "code",
   "execution_count": 10,
   "id": "469eaded",
   "metadata": {
    "ExecuteTime": {
     "end_time": "2022-06-01T11:15:22.370754Z",
     "start_time": "2022-06-01T11:15:20.215758Z"
    }
   },
   "outputs": [],
   "source": [
    "model = tf.keras.models.Sequential()\n",
    "# 定义输入数据的格式. \n",
    "model.add(tf.keras.layers.Flatten(input_shape=[28, 28]))\n",
    "model.add(tf.keras.layers.Dense(512, activation='relu'))\n",
    "model.add(tf.keras.layers.Dense(256, activation='relu'))\n",
    "model.add(tf.keras.layers.Dense(10, activation='softmax'))\n",
    "\n",
    "# 另一种写法. \n",
    "# model = tf.keras.models.Sequential([\n",
    "#     tf.keras.layers.Flatten(input_shape=[28, 28]),\n",
    "#     tf.keras.layers.Dense(512, activation='relu'),\n",
    "#     tf.keras.layers.Dense(256, activation='relu'),\n",
    "#     tf.keras.layers.Dense(10, activation='softmax')\n",
    "# ])"
   ]
  },
  {
   "cell_type": "markdown",
   "id": "ef7e130c",
   "metadata": {},
   "source": [
    "## 配置模型"
   ]
  },
  {
   "cell_type": "code",
   "execution_count": 11,
   "id": "99f2cd80",
   "metadata": {
    "ExecuteTime": {
     "end_time": "2022-06-01T11:16:27.239854Z",
     "start_time": "2022-06-01T11:16:27.217744Z"
    }
   },
   "outputs": [],
   "source": [
    "# 配置模型\n",
    "model.compile(loss='sparse_categorical_crossentropy',\n",
    "             optimizer='sgd',\n",
    "             metrics=['accuracy'])"
   ]
  },
  {
   "cell_type": "markdown",
   "id": "5fcac021",
   "metadata": {},
   "source": [
    "## 训练模型"
   ]
  },
  {
   "cell_type": "code",
   "execution_count": 12,
   "id": "c71afe4d",
   "metadata": {
    "ExecuteTime": {
     "end_time": "2022-06-01T11:18:32.528026Z",
     "start_time": "2022-06-01T11:17:53.233722Z"
    }
   },
   "outputs": [
    {
     "name": "stdout",
     "output_type": "stream",
     "text": [
      "Epoch 1/10\n",
      "1719/1719 [==============================] - 4s 2ms/step - loss: 0.3333 - accuracy: 0.9049 - val_loss: 0.1796 - val_accuracy: 0.9520\n",
      "Epoch 2/10\n",
      "1719/1719 [==============================] - 4s 2ms/step - loss: 0.1612 - accuracy: 0.9532 - val_loss: 0.1323 - val_accuracy: 0.9632\n",
      "Epoch 3/10\n",
      "1719/1719 [==============================] - 4s 2ms/step - loss: 0.1168 - accuracy: 0.9668 - val_loss: 0.1155 - val_accuracy: 0.9666\n",
      "Epoch 4/10\n",
      "1719/1719 [==============================] - 4s 2ms/step - loss: 0.0917 - accuracy: 0.9743 - val_loss: 0.0973 - val_accuracy: 0.9726\n",
      "Epoch 5/10\n",
      "1719/1719 [==============================] - 4s 2ms/step - loss: 0.0746 - accuracy: 0.9791 - val_loss: 0.0899 - val_accuracy: 0.9744\n",
      "Epoch 6/10\n",
      "1719/1719 [==============================] - 4s 2ms/step - loss: 0.0614 - accuracy: 0.9836 - val_loss: 0.0783 - val_accuracy: 0.9776\n",
      "Epoch 7/10\n",
      "1719/1719 [==============================] - 4s 2ms/step - loss: 0.0512 - accuracy: 0.9867 - val_loss: 0.0763 - val_accuracy: 0.9784\n",
      "Epoch 8/10\n",
      "1719/1719 [==============================] - 4s 2ms/step - loss: 0.0431 - accuracy: 0.9889 - val_loss: 0.0723 - val_accuracy: 0.9792\n",
      "Epoch 9/10\n",
      "1719/1719 [==============================] - 4s 2ms/step - loss: 0.0367 - accuracy: 0.9908 - val_loss: 0.0704 - val_accuracy: 0.9800\n",
      "Epoch 10/10\n",
      "1719/1719 [==============================] - 4s 2ms/step - loss: 0.0314 - accuracy: 0.9928 - val_loss: 0.0685 - val_accuracy: 0.9798\n"
     ]
    }
   ],
   "source": [
    "history = model.fit(x_train_scaled, y_train, epochs=10, validation_data=(x_valid_scaled, y_valid))"
   ]
  },
  {
   "cell_type": "code",
   "execution_count": 13,
   "id": "65a153bf",
   "metadata": {
    "ExecuteTime": {
     "end_time": "2022-06-01T11:19:00.574042Z",
     "start_time": "2022-06-01T11:19:00.557088Z"
    }
   },
   "outputs": [
    {
     "data": {
      "text/plain": [
       "{'loss': [0.3332606554031372,\n",
       "  0.1611926257610321,\n",
       "  0.11680716276168823,\n",
       "  0.09174427390098572,\n",
       "  0.07461527734994888,\n",
       "  0.06143670156598091,\n",
       "  0.05119648575782776,\n",
       "  0.04311952367424965,\n",
       "  0.036723557859659195,\n",
       "  0.031397029757499695],\n",
       " 'accuracy': [0.904872715473175,\n",
       "  0.9532181620597839,\n",
       "  0.9668363928794861,\n",
       "  0.9742545485496521,\n",
       "  0.9791091084480286,\n",
       "  0.9836000204086304,\n",
       "  0.9867272973060608,\n",
       "  0.9889090657234192,\n",
       "  0.990781843662262,\n",
       "  0.9927818179130554],\n",
       " 'val_loss': [0.17955578863620758,\n",
       "  0.13231486082077026,\n",
       "  0.11546114832162857,\n",
       "  0.09729868173599243,\n",
       "  0.0899389460682869,\n",
       "  0.07831080257892609,\n",
       "  0.07634864747524261,\n",
       "  0.07225549966096878,\n",
       "  0.07044936716556549,\n",
       "  0.06845548748970032],\n",
       " 'val_accuracy': [0.9520000219345093,\n",
       "  0.9631999731063843,\n",
       "  0.9666000008583069,\n",
       "  0.972599983215332,\n",
       "  0.974399983882904,\n",
       "  0.9775999784469604,\n",
       "  0.9783999919891357,\n",
       "  0.979200005531311,\n",
       "  0.9800000190734863,\n",
       "  0.9797999858856201]}"
      ]
     },
     "execution_count": 13,
     "metadata": {},
     "output_type": "execute_result"
    }
   ],
   "source": [
    "history.history"
   ]
  },
  {
   "cell_type": "code",
   "execution_count": 14,
   "id": "cf239830",
   "metadata": {
    "ExecuteTime": {
     "end_time": "2022-06-01T11:19:37.233219Z",
     "start_time": "2022-06-01T11:19:37.227591Z"
    }
   },
   "outputs": [],
   "source": [
    "import pandas as pd"
   ]
  },
  {
   "cell_type": "code",
   "execution_count": 15,
   "id": "38123a57",
   "metadata": {
    "ExecuteTime": {
     "end_time": "2022-06-01T11:20:26.983126Z",
     "start_time": "2022-06-01T11:20:26.838499Z"
    }
   },
   "outputs": [
    {
     "data": {
      "image/png": "[encoded data removed]",
      "text/plain": [
       "<Figure size 576x360 with 1 Axes>"
      ]
     },
     "metadata": {
      "needs_background": "light"
     },
     "output_type": "display_data"
    }
   ],
   "source": [
    "pd.DataFrame(history.history).plot(figsize=(8, 5))\n",
    "plt.grid()\n",
    "plt.gca().set_ylim(0, 1)\n",
    "plt.show()"
   ]
  },
  {
   "cell_type": "markdown",
   "id": "c8382095",
   "metadata": {},
   "source": [
    "## 模型验证"
   ]
  },
  {
   "cell_type": "code",
   "execution_count": 16,
   "id": "29b23cf9",
   "metadata": {
    "ExecuteTime": {
     "end_time": "2022-06-01T11:22:32.213212Z",
     "start_time": "2022-06-01T11:22:31.794651Z"
    }
   },
   "outputs": [
    {
     "name": "stdout",
     "output_type": "stream",
     "text": [
      "313/313 [==============================] - 0s 1ms/step - loss: 0.0700 - accuracy: 0.9776\n"
     ]
    },
    {
     "data": {
      "text/plain": [
       "[0.07001440972089767, 0.9775999784469604]"
      ]
     },
     "execution_count": 16,
     "metadata": {},
     "output_type": "execute_result"
    }
   ],
   "source": [
    "model.evaluate(x_test_scaled, y_test)"
   ]
  },
  {
   "cell_type": "markdown",
   "id": "b5917c5b",
   "metadata": {},
   "source": [
    "## 过拟合怎么办. 正则化的方法: L1, L2, droptout, BN, "
   ]
  },
  {
   "cell_type": "code",
   "execution_count": 17,
   "id": "255d4af6",
   "metadata": {
    "ExecuteTime": {
     "end_time": "2022-06-01T11:30:32.740575Z",
     "start_time": "2022-06-01T11:29:38.093769Z"
    }
   },
   "outputs": [
    {
     "name": "stdout",
     "output_type": "stream",
     "text": [
      "Epoch 1/10\n",
      "1719/1719 [==============================] - 6s 3ms/step - loss: 30.0515 - accuracy: 0.8118 - val_loss: 1.5832 - val_accuracy: 0.8362\n",
      "Epoch 2/10\n",
      "1719/1719 [==============================] - 5s 3ms/step - loss: 1.4645 - accuracy: 0.8432 - val_loss: 1.3604 - val_accuracy: 0.8682\n",
      "Epoch 3/10\n",
      "1719/1719 [==============================] - 5s 3ms/step - loss: 1.3351 - accuracy: 0.8553 - val_loss: 1.2588 - val_accuracy: 0.8726\n",
      "Epoch 4/10\n",
      "1719/1719 [==============================] - 5s 3ms/step - loss: 1.2601 - accuracy: 0.8620 - val_loss: 1.2075 - val_accuracy: 0.8740\n",
      "Epoch 5/10\n",
      "1719/1719 [==============================] - 5s 3ms/step - loss: 1.2054 - accuracy: 0.8690 - val_loss: 1.1517 - val_accuracy: 0.8818\n",
      "Epoch 6/10\n",
      "1719/1719 [==============================] - 6s 3ms/step - loss: 1.1671 - accuracy: 0.8722 - val_loss: 1.1472 - val_accuracy: 0.8782\n",
      "Epoch 7/10\n",
      "1719/1719 [==============================] - 6s 3ms/step - loss: 1.1376 - accuracy: 0.8737 - val_loss: 1.1024 - val_accuracy: 0.8800\n",
      "Epoch 8/10\n",
      "1719/1719 [==============================] - 6s 3ms/step - loss: 1.1114 - accuracy: 0.8745 - val_loss: 1.0798 - val_accuracy: 0.8840\n",
      "Epoch 9/10\n",
      "1719/1719 [==============================] - 6s 3ms/step - loss: 1.0957 - accuracy: 0.8758 - val_loss: 1.0527 - val_accuracy: 0.8878\n",
      "Epoch 10/10\n",
      "1719/1719 [==============================] - 6s 3ms/step - loss: 1.0827 - accuracy: 0.8759 - val_loss: 1.0641 - val_accuracy: 0.8836\n"
     ]
    }
   ],
   "source": [
    "# l1正则\n",
    "model = tf.keras.models.Sequential()\n",
    "# 定义输入数据的格式. \n",
    "model.add(tf.keras.layers.Flatten(input_shape=[28, 28]))\n",
    "model.add(tf.keras.layers.Dense(512, activation='relu',kernel_regularizer='l1'))\n",
    "model.add(tf.keras.layers.Dense(256, activation='relu',kernel_regularizer='l1'))\n",
    "model.add(tf.keras.layers.Dense(10, activation='softmax'))\n",
    "\n",
    "# 配置模型\n",
    "model.compile(loss='sparse_categorical_crossentropy',\n",
    "             optimizer='sgd',\n",
    "             metrics=['accuracy'])\n",
    "history = model.fit(x_train_scaled, y_train, epochs=10, validation_data=(x_valid_scaled, y_valid))"
   ]
  },
  {
   "cell_type": "code",
   "execution_count": 18,
   "id": "14258b0d",
   "metadata": {
    "ExecuteTime": {
     "end_time": "2022-06-01T11:36:37.000003Z",
     "start_time": "2022-06-01T11:35:37.775942Z"
    }
   },
   "outputs": [
    {
     "name": "stdout",
     "output_type": "stream",
     "text": [
      "Epoch 1/10\n",
      "1719/1719 [==============================] - 6s 3ms/step - loss: 7.3547 - accuracy: 0.9038 - val_loss: 5.1354 - val_accuracy: 0.9410\n",
      "Epoch 2/10\n",
      "1719/1719 [==============================] - 5s 3ms/step - loss: 3.8028 - accuracy: 0.9450 - val_loss: 2.7235 - val_accuracy: 0.9558\n",
      "Epoch 3/10\n",
      "1719/1719 [==============================] - 5s 3ms/step - loss: 2.0637 - accuracy: 0.9517 - val_loss: 1.5197 - val_accuracy: 0.9610\n",
      "Epoch 4/10\n",
      "1719/1719 [==============================] - 5s 3ms/step - loss: 1.1875 - accuracy: 0.9567 - val_loss: 0.9067 - val_accuracy: 0.9642\n",
      "Epoch 5/10\n",
      "1719/1719 [==============================] - 6s 3ms/step - loss: 0.7414 - accuracy: 0.9595 - val_loss: 0.5989 - val_accuracy: 0.9642\n",
      "Epoch 6/10\n",
      "1719/1719 [==============================] - 6s 4ms/step - loss: 0.5120 - accuracy: 0.9635 - val_loss: 0.4374 - val_accuracy: 0.9662\n",
      "Epoch 7/10\n",
      "1719/1719 [==============================] - 7s 4ms/step - loss: 0.3916 - accuracy: 0.9654 - val_loss: 0.3491 - val_accuracy: 0.9692\n",
      "Epoch 8/10\n",
      "1719/1719 [==============================] - 7s 4ms/step - loss: 0.3270 - accuracy: 0.9672 - val_loss: 0.3047 - val_accuracy: 0.9696\n",
      "Epoch 9/10\n",
      "1719/1719 [==============================] - 6s 3ms/step - loss: 0.2915 - accuracy: 0.9687 - val_loss: 0.2798 - val_accuracy: 0.9718\n",
      "Epoch 10/10\n",
      "1719/1719 [==============================] - 6s 3ms/step - loss: 0.2703 - accuracy: 0.9703 - val_loss: 0.2677 - val_accuracy: 0.9716\n"
     ]
    }
   ],
   "source": [
    "# l2正则\n",
    "model = tf.keras.models.Sequential()\n",
    "# 定义输入数据的格式. \n",
    "model.add(tf.keras.layers.Flatten(input_shape=[28, 28]))\n",
    "model.add(tf.keras.layers.Dense(512, activation='relu', kernel_regularizer='l2'))\n",
    "model.add(tf.keras.layers.Dense(256, activation='relu', kernel_regularizer='l2'))\n",
    "model.add(tf.keras.layers.Dense(10, activation='softmax'))\n",
    "\n",
    "# 配置模型\n",
    "model.compile(loss='sparse_categorical_crossentropy',\n",
    "             optimizer='sgd',\n",
    "             metrics=['accuracy'])\n",
    "history = model.fit(x_train_scaled, y_train, epochs=10, validation_data=(x_valid_scaled, y_valid))"
   ]
  },
  {
   "cell_type": "code",
   "execution_count": 19,
   "id": "ceb168ed",
   "metadata": {
    "ExecuteTime": {
     "end_time": "2022-06-01T11:37:10.978428Z",
     "start_time": "2022-06-01T11:37:10.474976Z"
    }
   },
   "outputs": [
    {
     "name": "stdout",
     "output_type": "stream",
     "text": [
      "313/313 [==============================] - 0s 1ms/step - loss: 0.2687 - accuracy: 0.9662\n"
     ]
    },
    {
     "data": {
      "text/plain": [
       "[0.2686920166015625, 0.9661999940872192]"
      ]
     },
     "execution_count": 19,
     "metadata": {},
     "output_type": "execute_result"
    }
   ],
   "source": [
    "model.evaluate(x_test_scaled, y_test)"
   ]
  },
  {
   "cell_type": "code",
   "execution_count": 20,
   "id": "9bf110f2",
   "metadata": {
    "ExecuteTime": {
     "end_time": "2022-06-01T12:09:44.621902Z",
     "start_time": "2022-06-01T12:09:01.281782Z"
    }
   },
   "outputs": [
    {
     "name": "stdout",
     "output_type": "stream",
     "text": [
      "Epoch 1/10\n",
      "1719/1719 [==============================] - 4s 2ms/step - loss: 0.9934 - accuracy: 0.6647 - val_loss: 0.4574 - val_accuracy: 0.8958\n",
      "Epoch 2/10\n",
      "1719/1719 [==============================] - 4s 2ms/step - loss: 0.5715 - accuracy: 0.8154 - val_loss: 0.3944 - val_accuracy: 0.9118\n",
      "Epoch 3/10\n",
      "1719/1719 [==============================] - 4s 2ms/step - loss: 0.4815 - accuracy: 0.8469 - val_loss: 0.3571 - val_accuracy: 0.9250\n",
      "Epoch 4/10\n",
      "1719/1719 [==============================] - 4s 2ms/step - loss: 0.4308 - accuracy: 0.8646 - val_loss: 0.3155 - val_accuracy: 0.9356\n",
      "Epoch 5/10\n",
      "1719/1719 [==============================] - 4s 2ms/step - loss: 0.3915 - accuracy: 0.8768 - val_loss: 0.2988 - val_accuracy: 0.9378\n",
      "Epoch 6/10\n",
      "1719/1719 [==============================] - 4s 2ms/step - loss: 0.3654 - accuracy: 0.8845 - val_loss: 0.2696 - val_accuracy: 0.9430\n",
      "Epoch 7/10\n",
      "1719/1719 [==============================] - 5s 3ms/step - loss: 0.3442 - accuracy: 0.8931 - val_loss: 0.2531 - val_accuracy: 0.9470\n",
      "Epoch 8/10\n",
      "1719/1719 [==============================] - 5s 3ms/step - loss: 0.3281 - accuracy: 0.8975 - val_loss: 0.2457 - val_accuracy: 0.9492\n",
      "Epoch 9/10\n",
      "1719/1719 [==============================] - 5s 3ms/step - loss: 0.3098 - accuracy: 0.9032 - val_loss: 0.2318 - val_accuracy: 0.9514\n",
      "Epoch 10/10\n",
      "1719/1719 [==============================] - 5s 3ms/step - loss: 0.2949 - accuracy: 0.9075 - val_loss: 0.2259 - val_accuracy: 0.9516\n"
     ]
    }
   ],
   "source": [
    "# dropout\n",
    "model = tf.keras.models.Sequential()\n",
    "# 定义输入数据的格式. \n",
    "model.add(tf.keras.layers.Flatten(input_shape=[28, 28]))\n",
    "model.add(tf.keras.layers.Dense(512, activation='relu'))\n",
    "# model.add(tf.keras.layers.Dropout(0.5))\n",
    "# 改进版的dropout, 1: 均值和方差不变. 2. 归一化的性质也不变. \n",
    "model.add(tf.keras.layers.AlphaDropout(0.5))\n",
    "model.add(tf.keras.layers.Dense(256, activation='relu'))\n",
    "model.add(tf.keras.layers.Dense(10, activation='softmax'))\n",
    "\n",
    "# 配置模型\n",
    "model.compile(loss='sparse_categorical_crossentropy',\n",
    "             optimizer='sgd',\n",
    "             metrics=['accuracy'])\n",
    "history = model.fit(x_train_scaled, y_train, epochs=10, validation_data=(x_valid_scaled, y_valid))"
   ]
  },
  {
   "cell_type": "code",
   "execution_count": 21,
   "id": "dc039fdb",
   "metadata": {
    "ExecuteTime": {
     "end_time": "2022-06-01T12:12:55.071878Z",
     "start_time": "2022-06-01T12:12:06.908286Z"
    }
   },
   "outputs": [
    {
     "name": "stdout",
     "output_type": "stream",
     "text": [
      "Epoch 1/10\n",
      "1719/1719 [==============================] - 5s 3ms/step - loss: 0.2830 - accuracy: 0.9153 - val_loss: 0.1250 - val_accuracy: 0.9640\n",
      "Epoch 2/10\n",
      "1719/1719 [==============================] - 4s 2ms/step - loss: 0.1268 - accuracy: 0.9629 - val_loss: 0.0968 - val_accuracy: 0.9724\n",
      "Epoch 3/10\n",
      "1719/1719 [==============================] - 5s 3ms/step - loss: 0.0905 - accuracy: 0.9737 - val_loss: 0.0830 - val_accuracy: 0.9770\n",
      "Epoch 4/10\n",
      "1719/1719 [==============================] - 5s 3ms/step - loss: 0.0685 - accuracy: 0.9804 - val_loss: 0.0754 - val_accuracy: 0.9794\n",
      "Epoch 5/10\n",
      "1719/1719 [==============================] - 5s 3ms/step - loss: 0.0552 - accuracy: 0.9848 - val_loss: 0.0730 - val_accuracy: 0.9792\n",
      "Epoch 6/10\n",
      "1719/1719 [==============================] - 5s 3ms/step - loss: 0.0435 - accuracy: 0.9882 - val_loss: 0.0711 - val_accuracy: 0.9792\n",
      "Epoch 7/10\n",
      "1719/1719 [==============================] - 5s 3ms/step - loss: 0.0354 - accuracy: 0.9905 - val_loss: 0.0689 - val_accuracy: 0.9798\n",
      "Epoch 8/10\n",
      "1719/1719 [==============================] - 5s 3ms/step - loss: 0.0303 - accuracy: 0.9919 - val_loss: 0.0700 - val_accuracy: 0.9802\n",
      "Epoch 9/10\n",
      "1719/1719 [==============================] - 5s 3ms/step - loss: 0.0251 - accuracy: 0.9938 - val_loss: 0.0680 - val_accuracy: 0.9802\n",
      "Epoch 10/10\n",
      "1719/1719 [==============================] - 5s 3ms/step - loss: 0.0219 - accuracy: 0.9949 - val_loss: 0.0664 - val_accuracy: 0.9808\n"
     ]
    }
   ],
   "source": [
    "# BN, \n",
    "model = tf.keras.models.Sequential()\n",
    "# 定义输入数据的格式. \n",
    "model.add(tf.keras.layers.Flatten(input_shape=[28, 28]))\n",
    "model.add(tf.keras.layers.Dense(512, activation='relu'))\n",
    "model.add(tf.keras.layers.BatchNormalization())\n",
    "model.add(tf.keras.layers.Dense(256, activation='relu'))\n",
    "model.add(tf.keras.layers.BatchNormalization())\n",
    "model.add(tf.keras.layers.Dense(10, activation='softmax'))\n",
    "\n",
    "# 配置模型\n",
    "model.compile(loss='sparse_categorical_crossentropy',\n",
    "             optimizer='sgd',\n",
    "             metrics=['accuracy'])\n",
    "history = model.fit(x_train_scaled, y_train, epochs=10, validation_data=(x_valid_scaled, y_valid))"
   ]
  },
  {
   "cell_type": "code",
   "execution_count": 22,
   "id": "0e482b9d",
   "metadata": {
    "ExecuteTime": {
     "end_time": "2022-06-01T12:16:44.522390Z",
     "start_time": "2022-06-01T12:15:59.019796Z"
    }
   },
   "outputs": [
    {
     "name": "stdout",
     "output_type": "stream",
     "text": [
      "Epoch 1/10\n",
      "1719/1719 [==============================] - 5s 3ms/step - loss: 0.3528 - accuracy: 0.9023 - val_loss: 0.1563 - val_accuracy: 0.9576\n",
      "Epoch 2/10\n",
      "1719/1719 [==============================] - 4s 2ms/step - loss: 0.1734 - accuracy: 0.9501 - val_loss: 0.1161 - val_accuracy: 0.9684\n",
      "Epoch 3/10\n",
      "1719/1719 [==============================] - 4s 2ms/step - loss: 0.1274 - accuracy: 0.9640 - val_loss: 0.0975 - val_accuracy: 0.9748\n",
      "Epoch 4/10\n",
      "1719/1719 [==============================] - 4s 2ms/step - loss: 0.1036 - accuracy: 0.9710 - val_loss: 0.0861 - val_accuracy: 0.9762\n",
      "Epoch 5/10\n",
      "1719/1719 [==============================] - 4s 2ms/step - loss: 0.0857 - accuracy: 0.9762 - val_loss: 0.0792 - val_accuracy: 0.9782\n",
      "Epoch 6/10\n",
      "1719/1719 [==============================] - 4s 2ms/step - loss: 0.0717 - accuracy: 0.9803 - val_loss: 0.0746 - val_accuracy: 0.9780\n",
      "Epoch 7/10\n",
      "1719/1719 [==============================] - 5s 3ms/step - loss: 0.0606 - accuracy: 0.9837 - val_loss: 0.0685 - val_accuracy: 0.9812\n",
      "Epoch 8/10\n",
      "1719/1719 [==============================] - 5s 3ms/step - loss: 0.0529 - accuracy: 0.9860 - val_loss: 0.0670 - val_accuracy: 0.9808\n",
      "Epoch 9/10\n",
      "1719/1719 [==============================] - 5s 3ms/step - loss: 0.0468 - accuracy: 0.9880 - val_loss: 0.0636 - val_accuracy: 0.9816\n",
      "Epoch 10/10\n",
      "1719/1719 [==============================] - 5s 3ms/step - loss: 0.0404 - accuracy: 0.9899 - val_loss: 0.0646 - val_accuracy: 0.9816\n"
     ]
    }
   ],
   "source": [
    "# 把BN放在激活之前\n",
    "model = tf.keras.models.Sequential()\n",
    "# 定义输入数据的格式. \n",
    "model.add(tf.keras.layers.Flatten(input_shape=[28, 28]))\n",
    "model.add(tf.keras.layers.Dense(512))\n",
    "model.add(tf.keras.layers.BatchNormalization())\n",
    "model.add(tf.keras.layers.Activation('relu'))\n",
    "model.add(tf.keras.layers.Dense(256))\n",
    "model.add(tf.keras.layers.BatchNormalization())\n",
    "model.add(tf.keras.layers.Activation('relu'))\n",
    "model.add(tf.keras.layers.Dense(10, activation='softmax'))\n",
    "\n",
    "# 配置模型\n",
    "model.compile(loss='sparse_categorical_crossentropy',\n",
    "             optimizer='sgd',\n",
    "             metrics=['accuracy'])\n",
    "history = model.fit(x_train_scaled, y_train, epochs=10, validation_data=(x_valid_scaled, y_valid))"
   ]
  },
  {
   "cell_type": "markdown",
   "id": "852300b2",
   "metadata": {},
   "source": [
    "## 深度网络"
   ]
  },
  {
   "cell_type": "code",
   "execution_count": 23,
   "id": "f51eb347",
   "metadata": {
    "ExecuteTime": {
     "end_time": "2022-06-01T12:20:50.603593Z",
     "start_time": "2022-06-01T12:18:32.815466Z"
    }
   },
   "outputs": [
    {
     "name": "stdout",
     "output_type": "stream",
     "text": [
      "Epoch 1/10\n",
      "1719/1719 [==============================] - 15s 7ms/step - loss: 0.7541 - accuracy: 0.7694 - val_loss: 0.2537 - val_accuracy: 0.9292\n",
      "Epoch 2/10\n",
      "1719/1719 [==============================] - 14s 8ms/step - loss: 0.3564 - accuracy: 0.8974 - val_loss: 0.1445 - val_accuracy: 0.9596\n",
      "Epoch 3/10\n",
      "1719/1719 [==============================] - 14s 8ms/step - loss: 0.2547 - accuracy: 0.9280 - val_loss: 0.1171 - val_accuracy: 0.9702\n",
      "Epoch 4/10\n",
      "1719/1719 [==============================] - 14s 8ms/step - loss: 0.2019 - accuracy: 0.9426 - val_loss: 0.1063 - val_accuracy: 0.9712\n",
      "Epoch 5/10\n",
      "1719/1719 [==============================] - 14s 8ms/step - loss: 0.1653 - accuracy: 0.9536 - val_loss: 0.1078 - val_accuracy: 0.9668\n",
      "Epoch 6/10\n",
      "1719/1719 [==============================] - 13s 8ms/step - loss: 0.1421 - accuracy: 0.9591 - val_loss: 0.1004 - val_accuracy: 0.9710\n",
      "Epoch 7/10\n",
      "1719/1719 [==============================] - 14s 8ms/step - loss: 0.1247 - accuracy: 0.9652 - val_loss: 0.0870 - val_accuracy: 0.9744\n",
      "Epoch 8/10\n",
      "1719/1719 [==============================] - 14s 8ms/step - loss: 0.1126 - accuracy: 0.9677 - val_loss: 0.0831 - val_accuracy: 0.9770\n",
      "Epoch 9/10\n",
      "1719/1719 [==============================] - 13s 8ms/step - loss: 0.0983 - accuracy: 0.9724 - val_loss: 0.0849 - val_accuracy: 0.9758\n",
      "Epoch 10/10\n",
      "1719/1719 [==============================] - 13s 8ms/step - loss: 0.0928 - accuracy: 0.9742 - val_loss: 0.0784 - val_accuracy: 0.9784\n"
     ]
    }
   ],
   "source": [
    "# Deep Nerual Network\n",
    "model = tf.keras.models.Sequential()\n",
    "# 定义输入数据的格式. \n",
    "model.add(tf.keras.layers.Flatten(input_shape=[28, 28]))\n",
    "for _ in range(20):\n",
    "    model.add(tf.keras.layers.Dense(256))\n",
    "    model.add(tf.keras.layers.BatchNormalization())\n",
    "    model.add(tf.keras.layers.Activation('relu'))\n",
    "model.add(tf.keras.layers.Dense(10, activation='softmax'))\n",
    "\n",
    "# 配置模型\n",
    "model.compile(loss='sparse_categorical_crossentropy',\n",
    "             optimizer='sgd',\n",
    "             metrics=['accuracy'])\n",
    "history = model.fit(x_train_scaled, y_train, epochs=10, validation_data=(x_valid_scaled, y_valid))"
   ]
  },
  {
   "cell_type": "code",
   "execution_count": 24,
   "id": "6d900469",
   "metadata": {
    "ExecuteTime": {
     "end_time": "2022-06-01T12:22:10.479163Z",
     "start_time": "2022-06-01T12:22:10.427334Z"
    }
   },
   "outputs": [
    {
     "name": "stdout",
     "output_type": "stream",
     "text": [
      "Model: \"sequential_6\"\n",
      "_________________________________________________________________\n",
      " Layer (type)                Output Shape              Param #   \n",
      "=================================================================\n",
      " flatten_6 (Flatten)         (None, 784)               0         \n",
      "                                                                 \n",
      " dense_18 (Dense)            (None, 256)               200960    \n",
      "                                                                 \n",
      " batch_normalization_4 (Batc  (None, 256)              1024      \n",
      " hNormalization)                                                 \n",
      "                                                                 \n",
      " activation_2 (Activation)   (None, 256)               0         \n",
      "                                                                 \n",
      " dense_19 (Dense)            (None, 256)               65792     \n",
      "                                                                 \n",
      " batch_normalization_5 (Batc  (None, 256)              1024      \n",
      " hNormalization)                                                 \n",
      "                                                                 \n",
      " activation_3 (Activation)   (None, 256)               0         \n",
      "                                                                 \n",
      " dense_20 (Dense)            (None, 256)               65792     \n",
      "                                                                 \n",
      " batch_normalization_6 (Batc  (None, 256)              1024      \n",
      " hNormalization)                                                 \n",
      "                                                                 \n",
      " activation_4 (Activation)   (None, 256)               0         \n",
      "                                                                 \n",
      " dense_21 (Dense)            (None, 256)               65792     \n",
      "                                                                 \n",
      " batch_normalization_7 (Batc  (None, 256)              1024      \n",
      " hNormalization)                                                 \n",
      "                                                                 \n",
      " activation_5 (Activation)   (None, 256)               0         \n",
      "                                                                 \n",
      " dense_22 (Dense)            (None, 256)               65792     \n",
      "                                                                 \n",
      " batch_normalization_8 (Batc  (None, 256)              1024      \n",
      " hNormalization)                                                 \n",
      "                                                                 \n",
      " activation_6 (Activation)   (None, 256)               0         \n",
      "                                                                 \n",
      " dense_23 (Dense)            (None, 256)               65792     \n",
      "                                                                 \n",
      " batch_normalization_9 (Batc  (None, 256)              1024      \n",
      " hNormalization)                                                 \n",
      "                                                                 \n",
      " activation_7 (Activation)   (None, 256)               0         \n",
      "                                                                 \n",
      " dense_24 (Dense)            (None, 256)               65792     \n",
      "                                                                 \n",
      " batch_normalization_10 (Bat  (None, 256)              1024      \n",
      " chNormalization)                                                \n",
      "                                                                 \n",
      " activation_8 (Activation)   (None, 256)               0         \n",
      "                                                                 \n",
      " dense_25 (Dense)            (None, 256)               65792     \n",
      "                                                                 \n",
      " batch_normalization_11 (Bat  (None, 256)              1024      \n",
      " chNormalization)                                                \n",
      "                                                                 \n",
      " activation_9 (Activation)   (None, 256)               0         \n",
      "                                                                 \n",
      " dense_26 (Dense)            (None, 256)               65792     \n",
      "                                                                 \n",
      " batch_normalization_12 (Bat  (None, 256)              1024      \n",
      " chNormalization)                                                \n",
      "                                                                 \n",
      " activation_10 (Activation)  (None, 256)               0         \n",
      "                                                                 \n",
      " dense_27 (Dense)            (None, 256)               65792     \n",
      "                                                                 \n",
      " batch_normalization_13 (Bat  (None, 256)              1024      \n",
      " chNormalization)                                                \n",
      "                                                                 \n",
      " activation_11 (Activation)  (None, 256)               0         \n",
      "                                                                 \n",
      " dense_28 (Dense)            (None, 256)               65792     \n",
      "                                                                 \n",
      " batch_normalization_14 (Bat  (None, 256)              1024      \n",
      " chNormalization)                                                \n",
      "                                                                 \n",
      " activation_12 (Activation)  (None, 256)               0         \n",
      "                                                                 \n",
      " dense_29 (Dense)            (None, 256)               65792     \n",
      "                                                                 \n",
      " batch_normalization_15 (Bat  (None, 256)              1024      \n",
      " chNormalization)                                                \n",
      "                                                                 \n",
      " activation_13 (Activation)  (None, 256)               0         \n",
      "                                                                 \n",
      " dense_30 (Dense)            (None, 256)               65792     \n",
      "                                                                 \n",
      " batch_normalization_16 (Bat  (None, 256)              1024      \n",
      " chNormalization)                                                \n",
      "                                                                 \n",
      " activation_14 (Activation)  (None, 256)               0         \n",
      "                                                                 \n",
      " dense_31 (Dense)            (None, 256)               65792     \n",
      "                                                                 \n",
      " batch_normalization_17 (Bat  (None, 256)              1024      \n",
      " chNormalization)                                                \n",
      "                                                                 \n",
      " activation_15 (Activation)  (None, 256)               0         \n",
      "                                                                 \n",
      " dense_32 (Dense)            (None, 256)               65792     \n",
      "                                                                 \n",
      " batch_normalization_18 (Bat  (None, 256)              1024      \n",
      " chNormalization)                                                \n",
      "                                                                 \n",
      " activation_16 (Activation)  (None, 256)               0         \n",
      "                                                                 \n",
      " dense_33 (Dense)            (None, 256)               65792     \n",
      "                                                                 \n",
      " batch_normalization_19 (Bat  (None, 256)              1024      \n",
      " chNormalization)                                                \n",
      "                                                                 \n",
      " activation_17 (Activation)  (None, 256)               0         \n",
      "                                                                 \n",
      " dense_34 (Dense)            (None, 256)               65792     \n",
      "                                                                 \n",
      " batch_normalization_20 (Bat  (None, 256)              1024      \n",
      " chNormalization)                                                \n",
      "                                                                 \n",
      " activation_18 (Activation)  (None, 256)               0         \n",
      "                                                                 \n"
     ]
    },
    {
     "name": "stdout",
     "output_type": "stream",
     "text": [
      " dense_35 (Dense)            (None, 256)               65792     \n",
      "                                                                 \n",
      " batch_normalization_21 (Bat  (None, 256)              1024      \n",
      " chNormalization)                                                \n",
      "                                                                 \n",
      " activation_19 (Activation)  (None, 256)               0         \n",
      "                                                                 \n",
      " dense_36 (Dense)            (None, 256)               65792     \n",
      "                                                                 \n",
      " batch_normalization_22 (Bat  (None, 256)              1024      \n",
      " chNormalization)                                                \n",
      "                                                                 \n",
      " activation_20 (Activation)  (None, 256)               0         \n",
      "                                                                 \n",
      " dense_37 (Dense)            (None, 256)               65792     \n",
      "                                                                 \n",
      " batch_normalization_23 (Bat  (None, 256)              1024      \n",
      " chNormalization)                                                \n",
      "                                                                 \n",
      " activation_21 (Activation)  (None, 256)               0         \n",
      "                                                                 \n",
      " dense_38 (Dense)            (None, 10)                2570      \n",
      "                                                                 \n",
      "=================================================================\n",
      "Total params: 1,474,058\n",
      "Trainable params: 1,463,818\n",
      "Non-trainable params: 10,240\n",
      "_________________________________________________________________\n"
     ]
    }
   ],
   "source": [
    "model.summary()"
   ]
  },
  {
   "cell_type": "code",
   "execution_count": 25,
   "id": "728d187e",
   "metadata": {
    "ExecuteTime": {
     "end_time": "2022-06-01T12:22:35.587959Z",
     "start_time": "2022-06-01T12:22:34.744001Z"
    }
   },
   "outputs": [
    {
     "name": "stdout",
     "output_type": "stream",
     "text": [
      "313/313 [==============================] - 1s 3ms/step - loss: 0.0853 - accuracy: 0.9747\n"
     ]
    },
    {
     "data": {
      "text/plain": [
       "[0.08529359102249146, 0.9746999740600586]"
      ]
     },
     "execution_count": 25,
     "metadata": {},
     "output_type": "execute_result"
    }
   ],
   "source": [
    "model.evaluate(x_test_scaled, y_test)"
   ]
  },
  {
   "cell_type": "markdown",
   "id": "0cbc56ca",
   "metadata": {},
   "source": [
    "1. 参数多了, 容易训练不充分. \n",
    "2. 容易梯度消失/梯度爆炸. "
   ]
  },
  {
   "cell_type": "markdown",
   "id": "4285973a",
   "metadata": {},
   "source": [
    "# 基于TensorFlow的CiFar10物品分类项目"
   ]
  },
  {
   "cell_type": "code",
   "execution_count": 27,
   "id": "97bf02ab",
   "metadata": {
    "ExecuteTime": {
     "end_time": "2022-06-01T12:28:17.923411Z",
     "start_time": "2022-06-01T12:28:17.920876Z"
    }
   },
   "outputs": [],
   "source": [
    "import numpy as np\n",
    "import pandas as pd\n",
    "import matplotlib.pyplot as plt\n",
    "import tensorflow as tf"
   ]
  },
  {
   "cell_type": "markdown",
   "id": "ff852d7b",
   "metadata": {},
   "source": [
    "## 加载数据"
   ]
  },
  {
   "cell_type": "code",
   "execution_count": 28,
   "id": "bf0d2114",
   "metadata": {
    "ExecuteTime": {
     "end_time": "2022-06-01T17:25:15.962885Z",
     "start_time": "2022-06-01T12:34:39.073250Z"
    }
   },
   "outputs": [
    {
     "name": "stdout",
     "output_type": "stream",
     "text": [
      "Downloading data from https://www.cs.toronto.edu/~kriz/cifar-10-python.tar.gz\n",
      "170498071/170498071 [==============================] - 17433s 102us/step\n"
     ]
    }
   ],
   "source": [
    "# cifar10 \n",
    "(x_train_all, y_train_all), (x_test, y_test) =tf.keras.datasets.cifar10.load_data()"
   ]
  },
  {
   "cell_type": "code",
   "execution_count": 29,
   "id": "c3ca51d0",
   "metadata": {
    "ExecuteTime": {
     "end_time": "2022-06-02T00:42:11.840389Z",
     "start_time": "2022-06-02T00:42:11.833407Z"
    }
   },
   "outputs": [
    {
     "data": {
      "text/plain": [
       "(50000, 32, 32, 3)"
      ]
     },
     "execution_count": 29,
     "metadata": {},
     "output_type": "execute_result"
    }
   ],
   "source": [
    "x_train_all.shape"
   ]
  },
  {
   "cell_type": "code",
   "execution_count": 30,
   "id": "495bacf7",
   "metadata": {
    "ExecuteTime": {
     "end_time": "2022-06-02T00:42:42.087539Z",
     "start_time": "2022-06-02T00:42:42.082522Z"
    }
   },
   "outputs": [
    {
     "data": {
      "text/plain": [
       "(10000, 32, 32, 3)"
      ]
     },
     "execution_count": 30,
     "metadata": {},
     "output_type": "execute_result"
    }
   ],
   "source": [
    "x_test.shape"
   ]
  },
  {
   "cell_type": "code",
   "execution_count": 32,
   "id": "532d8b3c",
   "metadata": {
    "ExecuteTime": {
     "end_time": "2022-06-02T00:44:36.321576Z",
     "start_time": "2022-06-02T00:44:36.226707Z"
    }
   },
   "outputs": [
    {
     "data": {
      "text/plain": [
       "<matplotlib.image.AxesImage at 0x2bb303fa130>"
      ]
     },
     "execution_count": 32,
     "metadata": {},
     "output_type": "execute_result"
    },
    {
     "data": {
      "image/png": "[encoded data removed]",
      "text/plain": [
       "<Figure size 432x288 with 1 Axes>"
      ]
     },
     "metadata": {
      "needs_background": "light"
     },
     "output_type": "display_data"
    }
   ],
   "source": [
    "plt.imshow(x_train_all[2])"
   ]
  },
  {
   "cell_type": "code",
   "execution_count": 33,
   "id": "a30c4706",
   "metadata": {
    "ExecuteTime": {
     "end_time": "2022-06-02T00:44:52.814393Z",
     "start_time": "2022-06-02T00:44:52.809400Z"
    }
   },
   "outputs": [
    {
     "data": {
      "text/plain": [
       "array([9], dtype=uint8)"
      ]
     },
     "execution_count": 33,
     "metadata": {},
     "output_type": "execute_result"
    }
   ],
   "source": [
    "y_train_all[2]"
   ]
  },
  {
   "cell_type": "code",
   "execution_count": 34,
   "id": "e5ca8c5d",
   "metadata": {
    "ExecuteTime": {
     "end_time": "2022-06-02T00:45:11.215675Z",
     "start_time": "2022-06-02T00:45:11.200524Z"
    }
   },
   "outputs": [
    {
     "data": {
      "text/plain": [
       "array([[[158, 112,  49],\n",
       "        [159, 111,  47],\n",
       "        [165, 116,  51],\n",
       "        ...,\n",
       "        [137,  95,  36],\n",
       "        [126,  91,  36],\n",
       "        [116,  85,  33]],\n",
       "\n",
       "       [[152, 112,  51],\n",
       "        [151, 110,  40],\n",
       "        [159, 114,  45],\n",
       "        ...,\n",
       "        [136,  95,  31],\n",
       "        [125,  91,  32],\n",
       "        [119,  88,  34]],\n",
       "\n",
       "       [[151, 110,  47],\n",
       "        [151, 109,  33],\n",
       "        [158, 111,  36],\n",
       "        ...,\n",
       "        [139,  98,  34],\n",
       "        [130,  95,  34],\n",
       "        [120,  89,  33]],\n",
       "\n",
       "       ...,\n",
       "\n",
       "       [[ 68, 124, 177],\n",
       "        [ 42, 100, 148],\n",
       "        [ 31,  88, 137],\n",
       "        ...,\n",
       "        [ 38,  97, 146],\n",
       "        [ 13,  64, 108],\n",
       "        [ 40,  85, 127]],\n",
       "\n",
       "       [[ 61, 116, 168],\n",
       "        [ 49, 102, 148],\n",
       "        [ 35,  85, 132],\n",
       "        ...,\n",
       "        [ 26,  82, 130],\n",
       "        [ 29,  82, 126],\n",
       "        [ 20,  64, 107]],\n",
       "\n",
       "       [[ 54, 107, 160],\n",
       "        [ 56, 105, 149],\n",
       "        [ 45,  89, 132],\n",
       "        ...,\n",
       "        [ 24,  77, 124],\n",
       "        [ 34,  84, 129],\n",
       "        [ 21,  67, 110]]], dtype=uint8)"
      ]
     },
     "execution_count": 34,
     "metadata": {},
     "output_type": "execute_result"
    }
   ],
   "source": [
    "x_test[0]"
   ]
  },
  {
   "cell_type": "code",
   "execution_count": 35,
   "id": "f00e80e1",
   "metadata": {
    "ExecuteTime": {
     "end_time": "2022-06-02T00:46:17.050111Z",
     "start_time": "2022-06-02T00:46:17.037922Z"
    }
   },
   "outputs": [],
   "source": [
    "x_valid, x_train = x_train_all[:5000], x_train_all[5000:]\n",
    "y_valid, y_train = y_train_all[:5000], y_train_all[5000:]"
   ]
  },
  {
   "cell_type": "markdown",
   "id": "67d82923",
   "metadata": {},
   "source": [
    "## 标准化处理"
   ]
  },
  {
   "cell_type": "code",
   "execution_count": 36,
   "id": "41f2eb0d",
   "metadata": {
    "ExecuteTime": {
     "end_time": "2022-06-02T00:47:49.656912Z",
     "start_time": "2022-06-02T00:47:47.042914Z"
    }
   },
   "outputs": [],
   "source": [
    "from sklearn.preprocessing import StandardScaler\n",
    "\n",
    "scaler = StandardScaler()\n",
    "x_train_scaled = scaler.fit_transform(x_train.astype(np.float32).reshape(-1, 1)).reshape(-1, 32, 32, 3)\n",
    "x_valid_scaled = scaler.transform(x_valid.astype(np.float32).reshape(-1, 1)).reshape(-1, 32, 32, 3)\n",
    "x_test_scaled = scaler.transform(x_test.astype(np.float32).reshape(-1, 1)).reshape(-1, 32, 32, 3)"
   ]
  },
  {
   "cell_type": "markdown",
   "id": "2c2b6b54",
   "metadata": {},
   "source": [
    "## 构建网络"
   ]
  },
  {
   "cell_type": "code",
   "execution_count": 37,
   "id": "e2ffbff1",
   "metadata": {
    "ExecuteTime": {
     "end_time": "2022-06-02T00:52:28.717128Z",
     "start_time": "2022-06-02T00:52:28.672282Z"
    }
   },
   "outputs": [],
   "source": [
    "model = tf.keras.models.Sequential()\n",
    "model.add(tf.keras.layers.Flatten(input_shape=[32, 32, 3]))\n",
    "model.add(tf.keras.layers.Dense(512, activation='relu'))\n",
    "model.add(tf.keras.layers.Dense(256, activation='relu'))\n",
    "model.add(tf.keras.layers.Dense(10, activation='softmax'))"
   ]
  },
  {
   "cell_type": "code",
   "execution_count": 38,
   "id": "1e88f711",
   "metadata": {
    "ExecuteTime": {
     "end_time": "2022-06-02T00:55:06.260867Z",
     "start_time": "2022-06-02T00:55:06.242915Z"
    }
   },
   "outputs": [],
   "source": [
    "# 配置网络\n",
    "model.compile(loss='sparse_categorical_crossentropy',\n",
    "             optimizer='adam',\n",
    "             metrics=['acc'])"
   ]
  },
  {
   "cell_type": "code",
   "execution_count": 39,
   "id": "2b1b674c",
   "metadata": {
    "ExecuteTime": {
     "end_time": "2022-06-02T00:55:20.867790Z",
     "start_time": "2022-06-02T00:55:20.848841Z"
    }
   },
   "outputs": [
    {
     "name": "stdout",
     "output_type": "stream",
     "text": [
      "Model: \"sequential_7\"\n",
      "_________________________________________________________________\n",
      " Layer (type)                Output Shape              Param #   \n",
      "=================================================================\n",
      " flatten_7 (Flatten)         (None, 3072)              0         \n",
      "                                                                 \n",
      " dense_39 (Dense)            (None, 512)               1573376   \n",
      "                                                                 \n",
      " dense_40 (Dense)            (None, 256)               131328    \n",
      "                                                                 \n",
      " dense_41 (Dense)            (None, 10)                2570      \n",
      "                                                                 \n",
      "=================================================================\n",
      "Total params: 1,707,274\n",
      "Trainable params: 1,707,274\n",
      "Non-trainable params: 0\n",
      "_________________________________________________________________\n"
     ]
    }
   ],
   "source": [
    "model.summary()"
   ]
  },
  {
   "cell_type": "code",
   "execution_count": 40,
   "id": "a228380f",
   "metadata": {
    "ExecuteTime": {
     "end_time": "2022-06-02T01:01:49.941506Z",
     "start_time": "2022-06-02T01:00:04.546924Z"
    }
   },
   "outputs": [
    {
     "name": "stdout",
     "output_type": "stream",
     "text": [
      "Epoch 1/10\n",
      "1407/1407 [==============================] - 10s 7ms/step - loss: 1.7609 - acc: 0.3853 - val_loss: 1.6069 - val_acc: 0.4260\n",
      "Epoch 2/10\n",
      "1407/1407 [==============================] - 10s 7ms/step - loss: 1.5362 - acc: 0.4549 - val_loss: 1.5104 - val_acc: 0.4678\n",
      "Epoch 3/10\n",
      "1407/1407 [==============================] - 10s 7ms/step - loss: 1.4449 - acc: 0.4875 - val_loss: 1.5179 - val_acc: 0.4640\n",
      "Epoch 4/10\n",
      "1407/1407 [==============================] - 11s 8ms/step - loss: 1.3737 - acc: 0.5138 - val_loss: 1.4688 - val_acc: 0.4854\n",
      "Epoch 5/10\n",
      "1407/1407 [==============================] - 11s 8ms/step - loss: 1.3019 - acc: 0.5391 - val_loss: 1.4849 - val_acc: 0.4836\n",
      "Epoch 6/10\n",
      "1407/1407 [==============================] - 11s 8ms/step - loss: 1.2421 - acc: 0.5615 - val_loss: 1.4659 - val_acc: 0.5024\n",
      "Epoch 7/10\n",
      "1407/1407 [==============================] - 11s 8ms/step - loss: 1.1893 - acc: 0.5807 - val_loss: 1.4706 - val_acc: 0.5146\n",
      "Epoch 8/10\n",
      "1407/1407 [==============================] - 11s 8ms/step - loss: 1.1348 - acc: 0.6001 - val_loss: 1.4507 - val_acc: 0.5062\n",
      "Epoch 9/10\n",
      "1407/1407 [==============================] - 11s 8ms/step - loss: 1.0729 - acc: 0.6161 - val_loss: 1.4880 - val_acc: 0.5080\n",
      "Epoch 10/10\n",
      "1407/1407 [==============================] - 11s 8ms/step - loss: 1.0229 - acc: 0.6357 - val_loss: 1.5377 - val_acc: 0.5020\n"
     ]
    }
   ],
   "source": [
    "history = model.fit(x_train_scaled, y_train, epochs=10,\n",
    "         validation_data=(x_valid_scaled, y_valid))"
   ]
  },
  {
   "cell_type": "markdown",
   "id": "6ae771d6",
   "metadata": {},
   "source": [
    "## 构建深度神经网络"
   ]
  },
  {
   "cell_type": "code",
   "execution_count": 41,
   "id": "1c129787",
   "metadata": {
    "ExecuteTime": {
     "end_time": "2022-06-02T01:10:23.362960Z",
     "start_time": "2022-06-02T01:10:23.162656Z"
    }
   },
   "outputs": [
    {
     "name": "stdout",
     "output_type": "stream",
     "text": [
      "Model: \"sequential_8\"\n",
      "_________________________________________________________________\n",
      " Layer (type)                Output Shape              Param #   \n",
      "=================================================================\n",
      " flatten_8 (Flatten)         (None, 3072)              0         \n",
      "                                                                 \n",
      " dense_42 (Dense)            (None, 512)               1573376   \n",
      "                                                                 \n",
      " dense_43 (Dense)            (None, 512)               262656    \n",
      "                                                                 \n",
      " dense_44 (Dense)            (None, 512)               262656    \n",
      "                                                                 \n",
      " dense_45 (Dense)            (None, 512)               262656    \n",
      "                                                                 \n",
      " dense_46 (Dense)            (None, 512)               262656    \n",
      "                                                                 \n",
      " dense_47 (Dense)            (None, 512)               262656    \n",
      "                                                                 \n",
      " dense_48 (Dense)            (None, 512)               262656    \n",
      "                                                                 \n",
      " dense_49 (Dense)            (None, 512)               262656    \n",
      "                                                                 \n",
      " dense_50 (Dense)            (None, 512)               262656    \n",
      "                                                                 \n",
      " dense_51 (Dense)            (None, 512)               262656    \n",
      "                                                                 \n",
      " dense_52 (Dense)            (None, 512)               262656    \n",
      "                                                                 \n",
      " dense_53 (Dense)            (None, 512)               262656    \n",
      "                                                                 \n",
      " dense_54 (Dense)            (None, 512)               262656    \n",
      "                                                                 \n",
      " dense_55 (Dense)            (None, 512)               262656    \n",
      "                                                                 \n",
      " dense_56 (Dense)            (None, 512)               262656    \n",
      "                                                                 \n",
      " dense_57 (Dense)            (None, 512)               262656    \n",
      "                                                                 \n",
      " dense_58 (Dense)            (None, 512)               262656    \n",
      "                                                                 \n",
      " dense_59 (Dense)            (None, 512)               262656    \n",
      "                                                                 \n",
      " dense_60 (Dense)            (None, 512)               262656    \n",
      "                                                                 \n",
      " dense_61 (Dense)            (None, 512)               262656    \n",
      "                                                                 \n",
      " dense_62 (Dense)            (None, 10)                5130      \n",
      "                                                                 \n",
      "=================================================================\n",
      "Total params: 6,568,970\n",
      "Trainable params: 6,568,970\n",
      "Non-trainable params: 0\n",
      "_________________________________________________________________\n"
     ]
    }
   ],
   "source": [
    "model = tf.keras.models.Sequential()\n",
    "model.add(tf.keras.layers.Flatten(input_shape=[32, 32, 3]))\n",
    "for _ in range(20):\n",
    "    model.add(tf.keras.layers.Dense(512, activation='relu'))\n",
    "model.add(tf.keras.layers.Dense(10, activation='softmax'))\n",
    "model.compile(loss='sparse_categorical_crossentropy',\n",
    "             optimizer='adam',\n",
    "             metrics=['acc'])\n",
    "model.summary()"
   ]
  },
  {
   "cell_type": "code",
   "execution_count": 42,
   "id": "7dae984b",
   "metadata": {
    "ExecuteTime": {
     "end_time": "2022-06-02T01:17:54.187857Z",
     "start_time": "2022-06-02T01:10:56.612346Z"
    }
   },
   "outputs": [
    {
     "name": "stdout",
     "output_type": "stream",
     "text": [
      "Epoch 1/10\n",
      "1407/1407 [==============================] - 41s 28ms/step - loss: 2.1274 - acc: 0.1683 - val_loss: 2.0384 - val_acc: 0.1812\n",
      "Epoch 2/10\n",
      "1407/1407 [==============================] - 42s 30ms/step - loss: 1.9799 - acc: 0.2191 - val_loss: 1.9370 - val_acc: 0.2336\n",
      "Epoch 3/10\n",
      "1407/1407 [==============================] - 43s 31ms/step - loss: 1.8885 - acc: 0.2650 - val_loss: 1.9205 - val_acc: 0.2578\n",
      "Epoch 4/10\n",
      "1407/1407 [==============================] - 42s 30ms/step - loss: 1.8511 - acc: 0.2816 - val_loss: 1.8536 - val_acc: 0.2756\n",
      "Epoch 5/10\n",
      "1407/1407 [==============================] - 42s 30ms/step - loss: 1.8193 - acc: 0.2876 - val_loss: 1.8431 - val_acc: 0.2710\n",
      "Epoch 6/10\n",
      "1407/1407 [==============================] - 42s 30ms/step - loss: 1.8103 - acc: 0.2924 - val_loss: 1.8292 - val_acc: 0.2914\n",
      "Epoch 7/10\n",
      "1407/1407 [==============================] - 42s 30ms/step - loss: 1.8029 - acc: 0.2931 - val_loss: 1.8851 - val_acc: 0.2712\n",
      "Epoch 8/10\n",
      "1407/1407 [==============================] - 42s 30ms/step - loss: 1.8030 - acc: 0.2989 - val_loss: 1.9374 - val_acc: 0.2682\n",
      "Epoch 9/10\n",
      "1407/1407 [==============================] - 42s 30ms/step - loss: 1.8104 - acc: 0.2992 - val_loss: 1.8969 - val_acc: 0.2756\n",
      "Epoch 10/10\n",
      "1407/1407 [==============================] - 42s 30ms/step - loss: 1.8500 - acc: 0.2911 - val_loss: 1.8257 - val_acc: 0.2984\n"
     ]
    }
   ],
   "source": [
    "history = model.fit(x_train_scaled, y_train, epochs=10,\n",
    "         validation_data=(x_valid_scaled, y_valid))"
   ]
  },
  {
   "cell_type": "markdown",
   "id": "5250abbe",
   "metadata": {},
   "source": [
    "结论: 尽量不用深层的神经网络. "
   ]
  },
  {
   "cell_type": "code",
   "execution_count": 43,
   "id": "652d13bc",
   "metadata": {
    "ExecuteTime": {
     "end_time": "2022-06-02T01:24:04.313643Z",
     "start_time": "2022-06-02T01:24:04.278738Z"
    }
   },
   "outputs": [
    {
     "name": "stdout",
     "output_type": "stream",
     "text": [
      "Model: \"sequential_8\"\n",
      "_________________________________________________________________\n",
      " Layer (type)                Output Shape              Param #   \n",
      "=================================================================\n",
      " flatten_8 (Flatten)         (None, 3072)              0         \n",
      "                                                                 \n",
      " dense_42 (Dense)            (None, 512)               1573376   \n",
      "                                                                 \n",
      " dense_43 (Dense)            (None, 512)               262656    \n",
      "                                                                 \n",
      " dense_44 (Dense)            (None, 512)               262656    \n",
      "                                                                 \n",
      " dense_45 (Dense)            (None, 512)               262656    \n",
      "                                                                 \n",
      " dense_46 (Dense)            (None, 512)               262656    \n",
      "                                                                 \n",
      " dense_47 (Dense)            (None, 512)               262656    \n",
      "                                                                 \n",
      " dense_48 (Dense)            (None, 512)               262656    \n",
      "                                                                 \n",
      " dense_49 (Dense)            (None, 512)               262656    \n",
      "                                                                 \n",
      " dense_50 (Dense)            (None, 512)               262656    \n",
      "                                                                 \n",
      " dense_51 (Dense)            (None, 512)               262656    \n",
      "                                                                 \n",
      " dense_52 (Dense)            (None, 512)               262656    \n",
      "                                                                 \n",
      " dense_53 (Dense)            (None, 512)               262656    \n",
      "                                                                 \n",
      " dense_54 (Dense)            (None, 512)               262656    \n",
      "                                                                 \n",
      " dense_55 (Dense)            (None, 512)               262656    \n",
      "                                                                 \n",
      " dense_56 (Dense)            (None, 512)               262656    \n",
      "                                                                 \n",
      " dense_57 (Dense)            (None, 512)               262656    \n",
      "                                                                 \n",
      " dense_58 (Dense)            (None, 512)               262656    \n",
      "                                                                 \n",
      " dense_59 (Dense)            (None, 512)               262656    \n",
      "                                                                 \n",
      " dense_60 (Dense)            (None, 512)               262656    \n",
      "                                                                 \n",
      " dense_61 (Dense)            (None, 512)               262656    \n",
      "                                                                 \n",
      " dense_62 (Dense)            (None, 10)                5130      \n",
      "                                                                 \n",
      "=================================================================\n",
      "Total params: 6,568,970\n",
      "Trainable params: 6,568,970\n",
      "Non-trainable params: 0\n",
      "_________________________________________________________________\n"
     ]
    }
   ],
   "source": [
    "model.summary()"
   ]
  },
  {
   "cell_type": "markdown",
   "id": "2fa93894",
   "metadata": {},
   "source": [
    "## 过拟合问题"
   ]
  },
  {
   "cell_type": "markdown",
   "id": "0f46277e",
   "metadata": {},
   "source": [
    "### l1"
   ]
  },
  {
   "cell_type": "code",
   "execution_count": 44,
   "id": "3ef94478",
   "metadata": {
    "ExecuteTime": {
     "end_time": "2022-06-02T01:30:32.270394Z",
     "start_time": "2022-06-02T01:27:54.209817Z"
    }
   },
   "outputs": [
    {
     "name": "stdout",
     "output_type": "stream",
     "text": [
      "Epoch 1/10\n",
      "1407/1407 [==============================] - 16s 11ms/step - loss: 9.7461 - acc: 0.1087 - val_loss: 4.1100 - val_acc: 0.0972\n",
      "Epoch 2/10\n",
      "1407/1407 [==============================] - 15s 11ms/step - loss: 4.1062 - acc: 0.0979 - val_loss: 4.1059 - val_acc: 0.0996\n",
      "Epoch 3/10\n",
      "1407/1407 [==============================] - 16s 11ms/step - loss: 4.1037 - acc: 0.0978 - val_loss: 4.1035 - val_acc: 0.0972\n",
      "Epoch 4/10\n",
      "1407/1407 [==============================] - 16s 11ms/step - loss: 4.1051 - acc: 0.0981 - val_loss: 4.1040 - val_acc: 0.0920\n",
      "Epoch 5/10\n",
      "1407/1407 [==============================] - 16s 11ms/step - loss: 4.1040 - acc: 0.0999 - val_loss: 4.1044 - val_acc: 0.0976\n",
      "Epoch 6/10\n",
      "1407/1407 [==============================] - 16s 11ms/step - loss: 4.1041 - acc: 0.0996 - val_loss: 4.1034 - val_acc: 0.0920\n",
      "Epoch 7/10\n",
      "1407/1407 [==============================] - 16s 11ms/step - loss: 4.1041 - acc: 0.0964 - val_loss: 4.1059 - val_acc: 0.0972\n",
      "Epoch 8/10\n",
      "1407/1407 [==============================] - 16s 11ms/step - loss: 4.1042 - acc: 0.0994 - val_loss: 4.1035 - val_acc: 0.0976\n",
      "Epoch 9/10\n",
      "1407/1407 [==============================] - 16s 11ms/step - loss: 4.1042 - acc: 0.0970 - val_loss: 4.1025 - val_acc: 0.1010\n",
      "Epoch 10/10\n",
      "1407/1407 [==============================] - 16s 12ms/step - loss: 4.1042 - acc: 0.0998 - val_loss: 4.1051 - val_acc: 0.0920\n"
     ]
    }
   ],
   "source": [
    "# 过拟合问题\n",
    "# l1\n",
    "model = tf.keras.models.Sequential()\n",
    "model.add(tf.keras.layers.Flatten(input_shape=[32, 32, 3]))\n",
    "model.add(tf.keras.layers.Dense(512, activation='relu', kernel_regularizer='l1'))\n",
    "model.add(tf.keras.layers.Dense(256, activation='relu', kernel_regularizer='l1'))\n",
    "model.add(tf.keras.layers.Dense(10, activation='softmax'))\n",
    "model.compile(loss='sparse_categorical_crossentropy',\n",
    "             optimizer='adam',\n",
    "             metrics=['acc'])\n",
    "history = model.fit(x_train_scaled, y_train, epochs=10,\n",
    "         validation_data=(x_valid_scaled, y_valid))"
   ]
  },
  {
   "cell_type": "markdown",
   "id": "ccc8c49d",
   "metadata": {},
   "source": [
    "### l2"
   ]
  },
  {
   "cell_type": "code",
   "execution_count": 45,
   "id": "cdbe9d6b",
   "metadata": {
    "ExecuteTime": {
     "end_time": "2022-06-02T01:36:37.159742Z",
     "start_time": "2022-06-02T01:33:50.950236Z"
    }
   },
   "outputs": [
    {
     "name": "stdout",
     "output_type": "stream",
     "text": [
      "Epoch 1/10\n",
      "1407/1407 [==============================] - 17s 12ms/step - loss: 3.3586 - acc: 0.3469 - val_loss: 2.0005 - val_acc: 0.3580\n",
      "Epoch 2/10\n",
      "1407/1407 [==============================] - 16s 11ms/step - loss: 1.9671 - acc: 0.3751 - val_loss: 1.9361 - val_acc: 0.3920\n",
      "Epoch 3/10\n",
      "1407/1407 [==============================] - 16s 12ms/step - loss: 1.9396 - acc: 0.3910 - val_loss: 1.9507 - val_acc: 0.3762\n",
      "Epoch 4/10\n",
      "1407/1407 [==============================] - 18s 13ms/step - loss: 1.9138 - acc: 0.4004 - val_loss: 1.9213 - val_acc: 0.3922\n",
      "Epoch 5/10\n",
      "1407/1407 [==============================] - 17s 12ms/step - loss: 1.8653 - acc: 0.4080 - val_loss: 1.8616 - val_acc: 0.3980\n",
      "Epoch 6/10\n",
      "1407/1407 [==============================] - 16s 12ms/step - loss: 1.8256 - acc: 0.4125 - val_loss: 1.7717 - val_acc: 0.4182\n",
      "Epoch 7/10\n",
      "1407/1407 [==============================] - 16s 12ms/step - loss: 1.7985 - acc: 0.4171 - val_loss: 1.7933 - val_acc: 0.4194\n",
      "Epoch 8/10\n",
      "1407/1407 [==============================] - 16s 12ms/step - loss: 1.7816 - acc: 0.4203 - val_loss: 1.7874 - val_acc: 0.4054\n",
      "Epoch 9/10\n",
      "1407/1407 [==============================] - 17s 12ms/step - loss: 1.7650 - acc: 0.4220 - val_loss: 1.7531 - val_acc: 0.4164\n",
      "Epoch 10/10\n",
      "1407/1407 [==============================] - 16s 12ms/step - loss: 1.7580 - acc: 0.4272 - val_loss: 1.7540 - val_acc: 0.4346\n"
     ]
    }
   ],
   "source": [
    "model = tf.keras.models.Sequential()\n",
    "model.add(tf.keras.layers.Flatten(input_shape=[32, 32, 3]))\n",
    "model.add(tf.keras.layers.Dense(512, activation='relu', kernel_regularizer='l2'))\n",
    "model.add(tf.keras.layers.Dense(256, activation='relu', kernel_regularizer='l2'))\n",
    "model.add(tf.keras.layers.Dense(10, activation='softmax'))\n",
    "model.compile(loss='sparse_categorical_crossentropy',\n",
    "             optimizer='adam',\n",
    "             metrics=['acc'])\n",
    "history = model.fit(x_train_scaled, y_train, epochs=10,\n",
    "         validation_data=(x_valid_scaled, y_valid))"
   ]
  },
  {
   "cell_type": "markdown",
   "id": "94f82e84",
   "metadata": {},
   "source": [
    "### AlphaDropout"
   ]
  },
  {
   "cell_type": "code",
   "execution_count": 46,
   "id": "fa5a01b5",
   "metadata": {
    "ExecuteTime": {
     "end_time": "2022-06-02T01:39:58.049260Z",
     "start_time": "2022-06-02T01:38:21.571869Z"
    }
   },
   "outputs": [
    {
     "name": "stdout",
     "output_type": "stream",
     "text": [
      "Epoch 1/10\n",
      "1407/1407 [==============================] - 9s 7ms/step - loss: 1.9397 - acc: 0.3233 - val_loss: 1.8113 - val_acc: 0.4014\n",
      "Epoch 2/10\n",
      "1407/1407 [==============================] - 9s 6ms/step - loss: 1.6924 - acc: 0.3986 - val_loss: 1.7494 - val_acc: 0.4534\n",
      "Epoch 3/10\n",
      "1407/1407 [==============================] - 9s 7ms/step - loss: 1.6308 - acc: 0.4211 - val_loss: 1.7281 - val_acc: 0.4446\n",
      "Epoch 4/10\n",
      "1407/1407 [==============================] - 10s 7ms/step - loss: 1.5841 - acc: 0.4360 - val_loss: 1.7399 - val_acc: 0.4664\n",
      "Epoch 5/10\n",
      "1407/1407 [==============================] - 10s 7ms/step - loss: 1.5556 - acc: 0.4498 - val_loss: 1.7178 - val_acc: 0.4726\n",
      "Epoch 6/10\n",
      "1407/1407 [==============================] - 10s 7ms/step - loss: 1.5312 - acc: 0.4611 - val_loss: 1.8157 - val_acc: 0.4624\n",
      "Epoch 7/10\n",
      "1407/1407 [==============================] - 10s 7ms/step - loss: 1.5041 - acc: 0.4679 - val_loss: 1.7579 - val_acc: 0.4772\n",
      "Epoch 8/10\n",
      "1407/1407 [==============================] - 10s 7ms/step - loss: 1.4845 - acc: 0.4764 - val_loss: 1.7404 - val_acc: 0.4858\n",
      "Epoch 9/10\n",
      "1407/1407 [==============================] - 10s 7ms/step - loss: 1.4646 - acc: 0.4827 - val_loss: 1.7172 - val_acc: 0.4890\n",
      "Epoch 10/10\n",
      "1407/1407 [==============================] - 10s 7ms/step - loss: 1.4467 - acc: 0.4894 - val_loss: 1.7966 - val_acc: 0.4818\n"
     ]
    }
   ],
   "source": [
    "model = tf.keras.models.Sequential()\n",
    "model.add(tf.keras.layers.Flatten(input_shape=[32, 32, 3]))\n",
    "model.add(tf.keras.layers.Dense(512, activation='relu'))\n",
    "model.add(tf.keras.layers.AlphaDropout(0.5))\n",
    "model.add(tf.keras.layers.Dense(256, activation='relu'))\n",
    "model.add(tf.keras.layers.Dense(10, activation='softmax'))\n",
    "model.compile(loss='sparse_categorical_crossentropy',\n",
    "             optimizer='adam',\n",
    "             metrics=['acc'])\n",
    "history = model.fit(x_train_scaled, y_train, epochs=10,\n",
    "         validation_data=(x_valid_scaled, y_valid))"
   ]
  },
  {
   "cell_type": "markdown",
   "id": "718aa9e8",
   "metadata": {},
   "source": [
    "### BN"
   ]
  },
  {
   "cell_type": "code",
   "execution_count": 47,
   "id": "59219cc3",
   "metadata": {
    "ExecuteTime": {
     "end_time": "2022-06-02T01:43:24.960298Z",
     "start_time": "2022-06-02T01:41:38.871158Z"
    }
   },
   "outputs": [
    {
     "name": "stdout",
     "output_type": "stream",
     "text": [
      "Epoch 1/10\n",
      "1407/1407 [==============================] - 11s 7ms/step - loss: 1.9563 - acc: 0.2936 - val_loss: 1.7948 - val_acc: 0.4086\n",
      "Epoch 2/10\n",
      "1407/1407 [==============================] - 10s 7ms/step - loss: 1.7930 - acc: 0.3532 - val_loss: 1.7791 - val_acc: 0.4226\n",
      "Epoch 3/10\n",
      "1407/1407 [==============================] - 10s 7ms/step - loss: 1.7208 - acc: 0.3815 - val_loss: 1.8756 - val_acc: 0.4092\n",
      "Epoch 4/10\n",
      "1407/1407 [==============================] - 11s 8ms/step - loss: 1.6711 - acc: 0.3995 - val_loss: 1.7239 - val_acc: 0.4390\n",
      "Epoch 5/10\n",
      "1407/1407 [==============================] - 11s 8ms/step - loss: 1.6249 - acc: 0.4164 - val_loss: 1.8015 - val_acc: 0.4326\n",
      "Epoch 6/10\n",
      "1407/1407 [==============================] - 11s 8ms/step - loss: 1.5967 - acc: 0.4249 - val_loss: 1.7050 - val_acc: 0.4534\n",
      "Epoch 7/10\n",
      "1407/1407 [==============================] - 11s 7ms/step - loss: 1.5720 - acc: 0.4373 - val_loss: 1.6422 - val_acc: 0.4682\n",
      "Epoch 8/10\n",
      "1407/1407 [==============================] - 11s 7ms/step - loss: 1.5439 - acc: 0.4504 - val_loss: 1.6993 - val_acc: 0.4672\n",
      "Epoch 9/10\n",
      "1407/1407 [==============================] - 11s 7ms/step - loss: 1.5206 - acc: 0.4550 - val_loss: 1.6707 - val_acc: 0.4610\n",
      "Epoch 10/10\n",
      "1407/1407 [==============================] - 11s 7ms/step - loss: 1.5019 - acc: 0.4615 - val_loss: 1.6617 - val_acc: 0.4718\n"
     ]
    }
   ],
   "source": [
    "# BN\n",
    "model = tf.keras.models.Sequential()\n",
    "model.add(tf.keras.layers.Flatten(input_shape=[32, 32, 3]))\n",
    "model.add(tf.keras.layers.Dense(512))\n",
    "model.add(tf.keras.layers.BatchNormalization())\n",
    "model.add(tf.keras.layers.Activation('relu'))\n",
    "model.add(tf.keras.layers.AlphaDropout(0.5))\n",
    "model.add(tf.keras.layers.Dense(256))\n",
    "model.add(tf.keras.layers.BatchNormalization())\n",
    "model.add(tf.keras.layers.Activation('relu'))\n",
    "model.add(tf.keras.layers.Dense(10, activation='softmax'))\n",
    "model.compile(loss='sparse_categorical_crossentropy',\n",
    "             optimizer='adam',\n",
    "             metrics=['acc'])\n",
    "history = model.fit(x_train_scaled, y_train, epochs=10,\n",
    "         validation_data=(x_valid_scaled, y_valid))"
   ]
  },
  {
   "cell_type": "code",
   "execution_count": null,
   "id": "bdde1270",
   "metadata": {},
   "outputs": [],
   "source": []
  }
 ],
 "metadata": {
  "hide_input": false,
  "kernelspec": {
   "display_name": "Python 3 (ipykernel)",
   "language": "python",
   "name": "python3"
  },
  "language_info": {
   "codemirror_mode": {
    "name": "ipython",
    "version": 3
   },
   "file_extension": ".py",
   "mimetype": "text/x-python",
   "name": "python",
   "nbconvert_exporter": "python",
   "pygments_lexer": "ipython3",
   "version": "3.9.7"
  },
  "latex_envs": {
   "LaTeX_envs_menu_present": true,
   "autoclose": false,
   "autocomplete": true,
   "bibliofile": "biblio.bib",
   "cite_by": "apalike",
   "current_citInitial": 1,
   "eqLabelWithNumbers": true,
   "eqNumInitial": 1,
   "hotkeys": {
    "equation": "Ctrl-E",
    "itemize": "Ctrl-I"
   },
   "labels_anchors": false,
   "latex_user_defs": false,
   "report_style_numbering": false,
   "user_envs_cfg": false
  },
  "nbTranslate": {
   "displayLangs": [
    "*"
   ],
   "hotkey": "alt-t",
   "langInMainMenu": true,
   "sourceLang": "en",
   "targetLang": "fr",
   "useGoogleTranslate": true
  },
  "toc": {
   "base_numbering": 1,
   "nav_menu": {},
   "number_sections": true,
   "sideBar": true,
   "skip_h1_title": false,
   "title_cell": "Table of Contents",
   "title_sidebar": "Contents",
   "toc_cell": false,
   "toc_position": {},
   "toc_section_display": true,
   "toc_window_display": false
  },
  "varInspector": {
   "cols": {
    "lenName": 16,
    "lenType": 16,
    "lenVar": 40
   },
   "kernels_config": {
    "python": {
     "delete_cmd_postfix": "",
     "delete_cmd_prefix": "del ",
     "library": "var_list.py",
     "varRefreshCmd": "print(var_dic_list())"
    },
    "r": {
     "delete_cmd_postfix": ") ",
     "delete_cmd_prefix": "rm(",
     "library": "var_list.r",
     "varRefreshCmd": "cat(var_dic_list()) "
    }
   },
   "position": {
    "height": "307.85px",
    "left": "396.2px",
    "right": "20px",
    "top": "1px",
    "width": "350px"
   },
   "types_to_exclude": [
    "module",
    "function",
    "builtin_function_or_method",
    "instance",
    "_Feature"
   ],
   "window_display": true
  }
 },
 "nbformat": 4,
 "nbformat_minor": 5
}
