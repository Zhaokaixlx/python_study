{
 "cells": [
  {
   "cell_type": "markdown",
   "id": "658aff85",
   "metadata": {},
   "source": [
    "# 保存模型, 加载模型和保存参数"
   ]
  },
  {
   "cell_type": "markdown",
   "id": "fd565570",
   "metadata": {},
   "source": [
    "keras 保存成hdf5文件, 1,保存模型和参数;2, 只保存参数\n",
    "\n",
    "1,保存模型和参数\n",
    "     \n",
    "     1) .save\n",
    "     \n",
    "     2).callback ModelCheckpoint\n",
    "\n",
    "2, 只保存参数\n",
    "     \n",
    "     1) save_weights\n",
    "     \n",
    "     2) callback ModelCheckpoint save_weights_only=True"
   ]
  },
  {
   "cell_type": "code",
   "execution_count": 1,
   "id": "83e9ba99",
   "metadata": {
    "ExecuteTime": {
     "end_time": "2022-06-01T06:44:47.168472Z",
     "start_time": "2022-06-01T06:44:40.675403Z"
    }
   },
   "outputs": [],
   "source": [
    "from tensorflow import keras\n",
    "import tensorflow as tf\n",
    "import numpy as np\n",
    "import pandas as pd\n",
    "import matplotlib.pyplot as plt"
   ]
  },
  {
   "cell_type": "code",
   "execution_count": 2,
   "id": "bc159110",
   "metadata": {
    "ExecuteTime": {
     "end_time": "2022-06-01T06:52:29.313204Z",
     "start_time": "2022-06-01T06:46:59.316684Z"
    }
   },
   "outputs": [
    {
     "name": "stdout",
     "output_type": "stream",
     "text": [
      "Downloading data from https://storage.googleapis.com/tensorflow/tf-keras-datasets/train-labels-idx1-ubyte.gz\n",
      "29515/29515 [==============================] - 0s 12us/step\n",
      "Downloading data from https://storage.googleapis.com/tensorflow/tf-keras-datasets/train-images-idx3-ubyte.gz\n",
      "26421880/26421880 [==============================] - 293s 11us/step\n",
      "Downloading data from https://storage.googleapis.com/tensorflow/tf-keras-datasets/t10k-labels-idx1-ubyte.gz\n",
      "5148/5148 [==============================] - 0s 0s/step\n",
      "Downloading data from https://storage.googleapis.com/tensorflow/tf-keras-datasets/t10k-images-idx3-ubyte.gz\n",
      "4422102/4422102 [==============================] - 32s 7us/step\n",
      "(5000, 28, 28) (5000,)\n",
      "(55000, 28, 28) (55000,)\n",
      "(10000, 28, 28) (10000,)\n"
     ]
    }
   ],
   "source": [
    "fashion_mnist = keras.datasets.fashion_mnist\n",
    "(x_train_all, y_train_all), (x_test, y_test) = fashion_mnist.load_data()\n",
    "x_valid, x_train = x_train_all[:5000], x_train_all[5000:]\n",
    "y_valid, y_train = y_train_all[:5000], y_train_all[5000:]\n",
    "\n",
    "print(x_valid.shape, y_valid.shape)\n",
    "print(x_train.shape, y_train.shape)\n",
    "print(x_test.shape, y_test.shape)"
   ]
  },
  {
   "cell_type": "code",
   "execution_count": 3,
   "id": "9d0828b8",
   "metadata": {
    "ExecuteTime": {
     "end_time": "2022-06-01T06:52:35.841781Z",
     "start_time": "2022-06-01T06:52:34.415678Z"
    }
   },
   "outputs": [],
   "source": [
    "# 标准化\n",
    "from sklearn.preprocessing import StandardScaler\n",
    "\n",
    "scaler = StandardScaler()\n",
    "x_train_scaled = scaler.fit_transform(x_train.astype(np.float32).reshape(55000, -1))\n",
    "x_valid_scaled = scaler.transform(x_valid.astype(np.float32).reshape(5000, -1))\n",
    "\n",
    "x_test_scaled = scaler.transform(x_test.astype(np.float32).reshape(10000, -1))"
   ]
  },
  {
   "cell_type": "code",
   "execution_count": 4,
   "id": "54096c02",
   "metadata": {
    "ExecuteTime": {
     "end_time": "2022-06-01T06:54:50.875600Z",
     "start_time": "2022-06-01T06:54:48.223911Z"
    }
   },
   "outputs": [],
   "source": [
    "# 创建模型\n",
    "model = keras.models.Sequential([\n",
    "    keras.layers.Dense(512, activation='relu', input_shape=(784,)),\n",
    "    keras.layers.Dense(256, activation='relu'),\n",
    "    keras.layers.Dense(128, activation='relu'),\n",
    "    keras.layers.Dense(10, activation='softmax'),\n",
    "])\n",
    "\n",
    "model.compile(loss='sparse_categorical_crossentropy',\n",
    "             optimizer='adam',\n",
    "             metrics=['accuracy'])"
   ]
  },
  {
   "cell_type": "code",
   "execution_count": 5,
   "id": "bd90cfe0",
   "metadata": {
    "ExecuteTime": {
     "end_time": "2022-06-01T07:01:00.234734Z",
     "start_time": "2022-06-01T07:00:10.467302Z"
    }
   },
   "outputs": [
    {
     "name": "stdout",
     "output_type": "stream",
     "text": [
      "Epoch 1/10\n",
      "1719/1719 [==============================] - 5s 3ms/step - loss: 0.4515 - accuracy: 0.8365 - val_loss: 0.3578 - val_accuracy: 0.8712\n",
      "Epoch 2/10\n",
      "1719/1719 [==============================] - 5s 3ms/step - loss: 0.3461 - accuracy: 0.8726 - val_loss: 0.3501 - val_accuracy: 0.8740\n",
      "Epoch 3/10\n",
      "1719/1719 [==============================] - 5s 3ms/step - loss: 0.3089 - accuracy: 0.8853 - val_loss: 0.3326 - val_accuracy: 0.8766\n",
      "Epoch 4/10\n",
      "1719/1719 [==============================] - 5s 3ms/step - loss: 0.2802 - accuracy: 0.8964 - val_loss: 0.3232 - val_accuracy: 0.8896\n",
      "Epoch 5/10\n",
      "1719/1719 [==============================] - 6s 3ms/step - loss: 0.2611 - accuracy: 0.9003 - val_loss: 0.3268 - val_accuracy: 0.8828\n",
      "Epoch 6/10\n",
      "1719/1719 [==============================] - 6s 4ms/step - loss: 0.2404 - accuracy: 0.9091 - val_loss: 0.3448 - val_accuracy: 0.8856\n",
      "Epoch 7/10\n",
      "1719/1719 [==============================] - 6s 3ms/step - loss: 0.2254 - accuracy: 0.9152 - val_loss: 0.3319 - val_accuracy: 0.8884\n",
      "Epoch 8/10\n",
      "1719/1719 [==============================] - 6s 3ms/step - loss: 0.2121 - accuracy: 0.9217 - val_loss: 0.3638 - val_accuracy: 0.8750\n",
      "Epoch 9/10\n",
      "1719/1719 [==============================] - 5s 3ms/step - loss: 0.2002 - accuracy: 0.9254 - val_loss: 0.3711 - val_accuracy: 0.8854\n"
     ]
    }
   ],
   "source": [
    "import os\n",
    "\n",
    "logdir = './graph_def_and_weights'\n",
    "if not os.path.exists(logdir):\n",
    "    os.mkdir(logdir)\n",
    "    \n",
    "output_model_file = os.path.join(logdir, 'fashion_mnist_weight.h5')\n",
    "callbacks = [\n",
    "    keras.callbacks.TensorBoard(logdir),\n",
    "    keras.callbacks.ModelCheckpoint(output_model_file, \n",
    "                                    save_best_only=True,\n",
    "                                    save_weights_only=True),\n",
    "    keras.callbacks.EarlyStopping(patience=5, min_delta=1e-3)\n",
    "]\n",
    "history = model.fit(x_train_scaled, y_train, epochs=10, \n",
    "                   validation_data=(x_valid_scaled, y_valid),\n",
    "                   callbacks=callbacks)"
   ]
  },
  {
   "cell_type": "code",
   "execution_count": 6,
   "id": "0a570c94",
   "metadata": {
    "ExecuteTime": {
     "end_time": "2022-06-01T07:03:41.681564Z",
     "start_time": "2022-06-01T07:03:41.651644Z"
    }
   },
   "outputs": [],
   "source": [
    "# 保存模型\n",
    "output_model_file2 = os.path.join(logdir, 'fashion_mnist_model.h5')\n",
    "model.save(output_model_file2)"
   ]
  },
  {
   "cell_type": "code",
   "execution_count": 7,
   "id": "a8ad15ce",
   "metadata": {
    "ExecuteTime": {
     "end_time": "2022-06-01T07:04:17.330465Z",
     "start_time": "2022-06-01T07:04:17.083372Z"
    }
   },
   "outputs": [
    {
     "name": "stdout",
     "output_type": "stream",
     "text": [
      "157/157 [==============================] - 0s 1ms/step - loss: 0.3711 - accuracy: 0.8854\n"
     ]
    },
    {
     "data": {
      "text/plain": [
       "[0.3710867464542389, 0.8853999972343445]"
      ]
     },
     "execution_count": 7,
     "metadata": {},
     "output_type": "execute_result"
    }
   ],
   "source": [
    "model.evaluate(x_valid_scaled, y_valid)"
   ]
  },
  {
   "cell_type": "code",
   "execution_count": 8,
   "id": "8c416a81",
   "metadata": {
    "ExecuteTime": {
     "end_time": "2022-06-01T07:04:43.698752Z",
     "start_time": "2022-06-01T07:04:43.614602Z"
    }
   },
   "outputs": [],
   "source": [
    "# 加载模型\n",
    "model2 = keras.models.load_model(output_model_file2)"
   ]
  },
  {
   "cell_type": "code",
   "execution_count": 9,
   "id": "6967959a",
   "metadata": {
    "ExecuteTime": {
     "end_time": "2022-06-01T07:06:08.598404Z",
     "start_time": "2022-06-01T07:06:08.299231Z"
    }
   },
   "outputs": [
    {
     "name": "stdout",
     "output_type": "stream",
     "text": [
      "157/157 [==============================] - 0s 1ms/step - loss: 0.3711 - accuracy: 0.8854\n"
     ]
    },
    {
     "data": {
      "text/plain": [
       "[0.3710867464542389, 0.8853999972343445]"
      ]
     },
     "execution_count": 9,
     "metadata": {},
     "output_type": "execute_result"
    }
   ],
   "source": [
    "model2.evaluate(x_valid_scaled,y_valid)"
   ]
  },
  {
   "cell_type": "code",
   "execution_count": 10,
   "id": "e03d280d",
   "metadata": {
    "ExecuteTime": {
     "end_time": "2022-06-01T07:08:02.257153Z",
     "start_time": "2022-06-01T07:08:02.235571Z"
    }
   },
   "outputs": [],
   "source": [
    "# 另一种保存参数的方法\n",
    "model.save_weights(os.path.join(logdir, 'fashin_mnist_weights_2.h5'))"
   ]
  },
  {
   "cell_type": "markdown",
   "id": "f77b90d4",
   "metadata": {},
   "source": [
    "# 加载参数"
   ]
  },
  {
   "cell_type": "code",
   "execution_count": 11,
   "id": "3c5b72e1",
   "metadata": {
    "ExecuteTime": {
     "end_time": "2022-06-01T07:11:03.017248Z",
     "start_time": "2022-06-01T07:11:03.000271Z"
    }
   },
   "outputs": [],
   "source": [
    "# 只加载参数\n",
    "import os\n",
    "\n",
    "logdir = './graph_def_and_weights'\n",
    "if not os.path.exists(logdir):\n",
    "    os.mkdir(logdir)\n",
    "    \n",
    "output_model_file = os.path.join(logdir, 'fashion_mnist_weight.h5')\n",
    "\n",
    "model.load_weights(output_model_file)"
   ]
  },
  {
   "cell_type": "code",
   "execution_count": 12,
   "id": "1b2949b1",
   "metadata": {
    "ExecuteTime": {
     "end_time": "2022-06-01T07:11:29.389222Z",
     "start_time": "2022-06-01T07:11:29.163184Z"
    }
   },
   "outputs": [
    {
     "name": "stdout",
     "output_type": "stream",
     "text": [
      "157/157 [==============================] - 0s 1ms/step - loss: 0.3232 - accuracy: 0.8896\n"
     ]
    },
    {
     "data": {
      "text/plain": [
       "[0.32321834564208984, 0.8895999789237976]"
      ]
     },
     "execution_count": 12,
     "metadata": {},
     "output_type": "execute_result"
    }
   ],
   "source": [
    "model.evaluate(x_valid_scaled, y_valid)"
   ]
  },
  {
   "cell_type": "markdown",
   "id": "89f351a0",
   "metadata": {},
   "source": [
    "# keras_to_savedmodel"
   ]
  },
  {
   "cell_type": "code",
   "execution_count": 13,
   "id": "ec21542d",
   "metadata": {
    "ExecuteTime": {
     "end_time": "2022-06-01T07:17:22.052104Z",
     "start_time": "2022-06-01T07:17:21.476382Z"
    }
   },
   "outputs": [
    {
     "name": "stdout",
     "output_type": "stream",
     "text": [
      "INFO:tensorflow:Assets written to: ./keras_saved_model\\assets\n"
     ]
    }
   ],
   "source": [
    "# 把keras模型保存成savedmodel格式\n",
    "tf.saved_model.save(model, './keras_saved_model')"
   ]
  },
  {
   "cell_type": "code",
   "execution_count": 14,
   "id": "655d8c5c",
   "metadata": {
    "ExecuteTime": {
     "end_time": "2022-06-01T07:19:07.911997Z",
     "start_time": "2022-06-01T07:19:04.468593Z"
    }
   },
   "outputs": [
    {
     "name": "stdout",
     "output_type": "stream",
     "text": [
      "\n",
      "MetaGraphDef with tag-set: 'serve' contains the following SignatureDefs:\n",
      "\n",
      "signature_def['__saved_model_init_op']:\n",
      "  The given SavedModel SignatureDef contains the following input(s):\n",
      "  The given SavedModel SignatureDef contains the following output(s):\n",
      "    outputs['__saved_model_init_op'] tensor_info:\n",
      "        dtype: DT_INVALID\n",
      "        shape: unknown_rank\n",
      "        name: NoOp\n",
      "  Method name is: \n",
      "\n",
      "signature_def['serving_default']:\n",
      "  The given SavedModel SignatureDef contains the following input(s):\n",
      "    inputs['dense_input'] tensor_info:\n",
      "        dtype: DT_FLOAT\n",
      "        shape: (-1, 784)\n",
      "        name: serving_default_dense_input:0\n",
      "  The given SavedModel SignatureDef contains the following output(s):\n",
      "    outputs['dense_3'] tensor_info:\n",
      "        dtype: DT_FLOAT\n",
      "        shape: (-1, 10)\n",
      "        name: StatefulPartitionedCall:0\n",
      "  Method name is: tensorflow/serving/predict\n",
      "\n",
      "Concrete Functions:\n",
      "  Function Name: '__call__'\n",
      "    Option #1\n",
      "      Callable with:\n",
      "        Argument #1\n",
      "          inputs: TensorSpec(shape=(None, 784), dtype=tf.float32, name='inputs')\n",
      "        Argument #2\n",
      "          DType: bool\n",
      "          Value: False\n",
      "        Argument #3\n",
      "          DType: NoneType\n",
      "          Value: None\n",
      "    Option #2\n",
      "      Callable with:\n",
      "        Argument #1\n",
      "          dense_input: TensorSpec(shape=(None, 784), dtype=tf.float32, name='dense_input')\n",
      "        Argument #2\n",
      "          DType: bool\n",
      "          Value: False\n",
      "        Argument #3\n",
      "          DType: NoneType\n",
      "          Value: None\n",
      "    Option #3\n",
      "      Callable with:\n",
      "        Argument #1\n",
      "          inputs: TensorSpec(shape=(None, 784), dtype=tf.float32, name='inputs')\n",
      "        Argument #2\n",
      "          DType: bool\n",
      "          Value: True\n",
      "        Argument #3\n",
      "          DType: NoneType\n",
      "          Value: None\n",
      "    Option #4\n",
      "      Callable with:\n",
      "        Argument #1\n",
      "          dense_input: TensorSpec(shape=(None, 784), dtype=tf.float32, name='dense_input')\n",
      "        Argument #2\n",
      "          DType: bool\n",
      "          Value: True\n",
      "        Argument #3\n",
      "          DType: NoneType\n",
      "          Value: None\n",
      "\n",
      "  Function Name: '_default_save_signature'\n",
      "    Option #1\n",
      "      Callable with:\n",
      "        Argument #1\n",
      "          dense_input: TensorSpec(shape=(None, 784), dtype=tf.float32, name='dense_input')\n",
      "\n",
      "  Function Name: 'call_and_return_all_conditional_losses'\n",
      "    Option #1\n",
      "      Callable with:\n",
      "        Argument #1\n",
      "          inputs: TensorSpec(shape=(None, 784), dtype=tf.float32, name='inputs')\n",
      "        Argument #2\n",
      "          DType: bool\n",
      "          Value: False\n",
      "        Argument #3\n",
      "          DType: NoneType\n",
      "          Value: None\n",
      "    Option #2\n",
      "      Callable with:\n",
      "        Argument #1\n",
      "          dense_input: TensorSpec(shape=(None, 784), dtype=tf.float32, name='dense_input')\n",
      "        Argument #2\n",
      "          DType: bool\n",
      "          Value: False\n",
      "        Argument #3\n",
      "          DType: NoneType\n",
      "          Value: None\n",
      "    Option #3\n",
      "      Callable with:\n",
      "        Argument #1\n",
      "          dense_input: TensorSpec(shape=(None, 784), dtype=tf.float32, name='dense_input')\n",
      "        Argument #2\n",
      "          DType: bool\n",
      "          Value: True\n",
      "        Argument #3\n",
      "          DType: NoneType\n",
      "          Value: None\n",
      "    Option #4\n",
      "      Callable with:\n",
      "        Argument #1\n",
      "          inputs: TensorSpec(shape=(None, 784), dtype=tf.float32, name='inputs')\n",
      "        Argument #2\n",
      "          DType: bool\n",
      "          Value: True\n",
      "        Argument #3\n",
      "          DType: NoneType\n",
      "          Value: None\n"
     ]
    }
   ],
   "source": [
    "!saved_model_cli show --dir ./keras_saved_model --all"
   ]
  },
  {
   "cell_type": "code",
   "execution_count": 15,
   "id": "272bd2c5",
   "metadata": {
    "ExecuteTime": {
     "end_time": "2022-06-01T07:21:09.924230Z",
     "start_time": "2022-06-01T07:21:07.333972Z"
    }
   },
   "outputs": [
    {
     "name": "stdout",
     "output_type": "stream",
     "text": [
      "The given SavedModel SignatureDef contains the following input(s):\n",
      "  inputs['dense_input'] tensor_info:\n",
      "      dtype: DT_FLOAT\n",
      "      shape: (-1, 784)\n",
      "      name: serving_default_dense_input:0\n",
      "The given SavedModel SignatureDef contains the following output(s):\n",
      "  outputs['dense_3'] tensor_info:\n",
      "      dtype: DT_FLOAT\n",
      "      shape: (-1, 10)\n",
      "      name: StatefulPartitionedCall:0\n",
      "Method name is: tensorflow/serving/predict\n"
     ]
    }
   ],
   "source": [
    "!saved_model_cli show --dir ./keras_saved_model --tag_set serve --signature_def serving_default"
   ]
  },
  {
   "cell_type": "code",
   "execution_count": 16,
   "id": "cae79985",
   "metadata": {
    "ExecuteTime": {
     "end_time": "2022-06-01T07:22:08.432605Z",
     "start_time": "2022-06-01T07:22:08.236276Z"
    }
   },
   "outputs": [],
   "source": [
    "# 加载savedmodel模型\n",
    "loaded_saved_model = tf.saved_model.load('./keras_saved_model')"
   ]
  },
  {
   "cell_type": "code",
   "execution_count": 17,
   "id": "58a44a26",
   "metadata": {
    "ExecuteTime": {
     "end_time": "2022-06-01T07:22:45.472235Z",
     "start_time": "2022-06-01T07:22:45.466664Z"
    }
   },
   "outputs": [
    {
     "data": {
      "text/plain": [
       "<tensorflow.python.saved_model.load.Loader._recreate_base_user_object.<locals>._UserObject at 0x223b6422ca0>"
      ]
     },
     "execution_count": 17,
     "metadata": {},
     "output_type": "execute_result"
    }
   ],
   "source": [
    "loaded_saved_model"
   ]
  },
  {
   "cell_type": "code",
   "execution_count": 18,
   "id": "12befc8d",
   "metadata": {
    "ExecuteTime": {
     "end_time": "2022-06-01T07:23:01.674313Z",
     "start_time": "2022-06-01T07:23:01.657359Z"
    }
   },
   "outputs": [
    {
     "data": {
      "text/plain": [
       "['serving_default']"
      ]
     },
     "execution_count": 18,
     "metadata": {},
     "output_type": "execute_result"
    }
   ],
   "source": [
    "list(loaded_saved_model.signatures.keys())"
   ]
  },
  {
   "cell_type": "code",
   "execution_count": 19,
   "id": "26445e9f",
   "metadata": {
    "ExecuteTime": {
     "end_time": "2022-06-01T07:23:15.107580Z",
     "start_time": "2022-06-01T07:23:15.102575Z"
    }
   },
   "outputs": [
    {
     "name": "stdout",
     "output_type": "stream",
     "text": [
      "ConcreteFunction signature_wrapper(*, dense_input)\n",
      "  Args:\n",
      "    dense_input: float32 Tensor, shape=(None, 784)\n",
      "  Returns:\n",
      "    {'dense_3': <1>}\n",
      "      <1>: float32 Tensor, shape=(None, 10)\n"
     ]
    }
   ],
   "source": [
    "inference = loaded_saved_model.signatures['serving_default']\n",
    "print(inference)"
   ]
  },
  {
   "cell_type": "code",
   "execution_count": 20,
   "id": "d75913c5",
   "metadata": {
    "ExecuteTime": {
     "end_time": "2022-06-01T07:23:35.819322Z",
     "start_time": "2022-06-01T07:23:35.807321Z"
    }
   },
   "outputs": [
    {
     "name": "stdout",
     "output_type": "stream",
     "text": [
      "{'dense_3': TensorSpec(shape=(None, 10), dtype=tf.float32, name='dense_3')}\n"
     ]
    }
   ],
   "source": [
    "# 查看一下输入\n",
    "print(inference.structured_outputs)"
   ]
  },
  {
   "cell_type": "code",
   "execution_count": 21,
   "id": "75648e42",
   "metadata": {
    "ExecuteTime": {
     "end_time": "2022-06-01T07:24:29.581312Z",
     "start_time": "2022-06-01T07:24:29.568268Z"
    }
   },
   "outputs": [
    {
     "name": "stdout",
     "output_type": "stream",
     "text": [
      "((), {'dense_input': TensorSpec(shape=(None, 784), dtype=tf.float32, name='dense_input')})\n"
     ]
    }
   ],
   "source": [
    "print(inference.structured_input_signature)"
   ]
  },
  {
   "cell_type": "code",
   "execution_count": 22,
   "id": "e330dcde",
   "metadata": {
    "ExecuteTime": {
     "end_time": "2022-06-01T07:26:33.996793Z",
     "start_time": "2022-06-01T07:26:33.957728Z"
    }
   },
   "outputs": [
    {
     "name": "stdout",
     "output_type": "stream",
     "text": [
      "{'dense_3': <tf.Tensor: shape=(1, 10), dtype=float32, numpy=\n",
      "array([[6.0051505e-08, 7.4299655e-12, 1.6064561e-09, 8.2079288e-11,\n",
      "        3.2423002e-11, 7.1292911e-03, 7.3568701e-10, 2.6837764e-02,\n",
      "        2.7522844e-09, 9.6603286e-01]], dtype=float32)>}\n"
     ]
    }
   ],
   "source": [
    "# 使用saved_model\n",
    "results = inference(tf.constant(x_test_scaled[0:1]))\n",
    "print(results)"
   ]
  },
  {
   "cell_type": "code",
   "execution_count": 23,
   "id": "70d74937",
   "metadata": {
    "ExecuteTime": {
     "end_time": "2022-06-01T07:26:56.042661Z",
     "start_time": "2022-06-01T07:26:56.035681Z"
    }
   },
   "outputs": [
    {
     "data": {
      "text/plain": [
       "<tf.Tensor: shape=(1, 10), dtype=float32, numpy=\n",
       "array([[6.0051505e-08, 7.4299655e-12, 1.6064561e-09, 8.2079288e-11,\n",
       "        3.2423002e-11, 7.1292911e-03, 7.3568701e-10, 2.6837764e-02,\n",
       "        2.7522844e-09, 9.6603286e-01]], dtype=float32)>"
      ]
     },
     "execution_count": 23,
     "metadata": {},
     "output_type": "execute_result"
    }
   ],
   "source": [
    "results['dense_3']"
   ]
  },
  {
   "cell_type": "markdown",
   "id": "e357eccb",
   "metadata": {},
   "source": [
    "# to_tflite"
   ]
  },
  {
   "cell_type": "code",
   "execution_count": 24,
   "id": "da158cd9",
   "metadata": {
    "ExecuteTime": {
     "end_time": "2022-06-01T07:29:06.020754Z",
     "start_time": "2022-06-01T07:29:05.928970Z"
    }
   },
   "outputs": [],
   "source": [
    "# 从文件加载\n",
    "loaded_keras_model = keras.models.load_model('./graph_def_and_weights/fashion_mnist_model.h5')"
   ]
  },
  {
   "cell_type": "code",
   "execution_count": 25,
   "id": "f0715e24",
   "metadata": {
    "ExecuteTime": {
     "end_time": "2022-06-01T07:30:02.957915Z",
     "start_time": "2022-06-01T07:30:02.934944Z"
    }
   },
   "outputs": [
    {
     "data": {
      "text/plain": [
       "<tf.Tensor: shape=(1, 10), dtype=float32, numpy=\n",
       "array([[2.6461650e-02, 3.2110941e-02, 1.2605472e-01, 6.0098335e-02,\n",
       "        5.3037982e-02, 1.9675593e-03, 6.1453022e-02, 5.9859216e-04,\n",
       "        6.3768595e-01, 5.3128914e-04]], dtype=float32)>"
      ]
     },
     "execution_count": 25,
     "metadata": {},
     "output_type": "execute_result"
    }
   ],
   "source": [
    "# (-1, 784)\n",
    "loaded_keras_model(np.ones((1, 784)))"
   ]
  },
  {
   "cell_type": "code",
   "execution_count": 28,
   "id": "b0dcb71d",
   "metadata": {
    "ExecuteTime": {
     "end_time": "2022-06-01T07:31:10.483237Z",
     "start_time": "2022-06-01T07:31:10.473263Z"
    }
   },
   "outputs": [
    {
     "data": {
      "text/plain": [
       "array([[1., 1., 1., 1., 1., 1., 1., 1., 1., 1., 1., 1., 1., 1., 1., 1.,\n",
       "        1., 1., 1., 1., 1., 1., 1., 1., 1., 1., 1., 1., 1., 1., 1., 1.,\n",
       "        1., 1., 1., 1., 1., 1., 1., 1., 1., 1., 1., 1., 1., 1., 1., 1.,\n",
       "        1., 1., 1., 1., 1., 1., 1., 1., 1., 1., 1., 1., 1., 1., 1., 1.,\n",
       "        1., 1., 1., 1., 1., 1., 1., 1., 1., 1., 1., 1., 1., 1., 1., 1.,\n",
       "        1., 1., 1., 1., 1., 1., 1., 1., 1., 1., 1., 1., 1., 1., 1., 1.,\n",
       "        1., 1., 1., 1., 1., 1., 1., 1., 1., 1., 1., 1., 1., 1., 1., 1.,\n",
       "        1., 1., 1., 1., 1., 1., 1., 1., 1., 1., 1., 1., 1., 1., 1., 1.,\n",
       "        1., 1., 1., 1., 1., 1., 1., 1., 1., 1., 1., 1., 1., 1., 1., 1.,\n",
       "        1., 1., 1., 1., 1., 1., 1., 1., 1., 1., 1., 1., 1., 1., 1., 1.,\n",
       "        1., 1., 1., 1., 1., 1., 1., 1., 1., 1., 1., 1., 1., 1., 1., 1.,\n",
       "        1., 1., 1., 1., 1., 1., 1., 1., 1., 1., 1., 1., 1., 1., 1., 1.,\n",
       "        1., 1., 1., 1., 1., 1., 1., 1., 1., 1., 1., 1., 1., 1., 1., 1.,\n",
       "        1., 1., 1., 1., 1., 1., 1., 1., 1., 1., 1., 1., 1., 1., 1., 1.,\n",
       "        1., 1., 1., 1., 1., 1., 1., 1., 1., 1., 1., 1., 1., 1., 1., 1.,\n",
       "        1., 1., 1., 1., 1., 1., 1., 1., 1., 1., 1., 1., 1., 1., 1., 1.,\n",
       "        1., 1., 1., 1., 1., 1., 1., 1., 1., 1., 1., 1., 1., 1., 1., 1.,\n",
       "        1., 1., 1., 1., 1., 1., 1., 1., 1., 1., 1., 1., 1., 1., 1., 1.,\n",
       "        1., 1., 1., 1., 1., 1., 1., 1., 1., 1., 1., 1., 1., 1., 1., 1.,\n",
       "        1., 1., 1., 1., 1., 1., 1., 1., 1., 1., 1., 1., 1., 1., 1., 1.,\n",
       "        1., 1., 1., 1., 1., 1., 1., 1., 1., 1., 1., 1., 1., 1., 1., 1.,\n",
       "        1., 1., 1., 1., 1., 1., 1., 1., 1., 1., 1., 1., 1., 1., 1., 1.,\n",
       "        1., 1., 1., 1., 1., 1., 1., 1., 1., 1., 1., 1., 1., 1., 1., 1.,\n",
       "        1., 1., 1., 1., 1., 1., 1., 1., 1., 1., 1., 1., 1., 1., 1., 1.,\n",
       "        1., 1., 1., 1., 1., 1., 1., 1., 1., 1., 1., 1., 1., 1., 1., 1.,\n",
       "        1., 1., 1., 1., 1., 1., 1., 1., 1., 1., 1., 1., 1., 1., 1., 1.,\n",
       "        1., 1., 1., 1., 1., 1., 1., 1., 1., 1., 1., 1., 1., 1., 1., 1.,\n",
       "        1., 1., 1., 1., 1., 1., 1., 1., 1., 1., 1., 1., 1., 1., 1., 1.,\n",
       "        1., 1., 1., 1., 1., 1., 1., 1., 1., 1., 1., 1., 1., 1., 1., 1.,\n",
       "        1., 1., 1., 1., 1., 1., 1., 1., 1., 1., 1., 1., 1., 1., 1., 1.,\n",
       "        1., 1., 1., 1., 1., 1., 1., 1., 1., 1., 1., 1., 1., 1., 1., 1.,\n",
       "        1., 1., 1., 1., 1., 1., 1., 1., 1., 1., 1., 1., 1., 1., 1., 1.,\n",
       "        1., 1., 1., 1., 1., 1., 1., 1., 1., 1., 1., 1., 1., 1., 1., 1.,\n",
       "        1., 1., 1., 1., 1., 1., 1., 1., 1., 1., 1., 1., 1., 1., 1., 1.,\n",
       "        1., 1., 1., 1., 1., 1., 1., 1., 1., 1., 1., 1., 1., 1., 1., 1.,\n",
       "        1., 1., 1., 1., 1., 1., 1., 1., 1., 1., 1., 1., 1., 1., 1., 1.,\n",
       "        1., 1., 1., 1., 1., 1., 1., 1., 1., 1., 1., 1., 1., 1., 1., 1.,\n",
       "        1., 1., 1., 1., 1., 1., 1., 1., 1., 1., 1., 1., 1., 1., 1., 1.,\n",
       "        1., 1., 1., 1., 1., 1., 1., 1., 1., 1., 1., 1., 1., 1., 1., 1.,\n",
       "        1., 1., 1., 1., 1., 1., 1., 1., 1., 1., 1., 1., 1., 1., 1., 1.,\n",
       "        1., 1., 1., 1., 1., 1., 1., 1., 1., 1., 1., 1., 1., 1., 1., 1.,\n",
       "        1., 1., 1., 1., 1., 1., 1., 1., 1., 1., 1., 1., 1., 1., 1., 1.,\n",
       "        1., 1., 1., 1., 1., 1., 1., 1., 1., 1., 1., 1., 1., 1., 1., 1.,\n",
       "        1., 1., 1., 1., 1., 1., 1., 1., 1., 1., 1., 1., 1., 1., 1., 1.,\n",
       "        1., 1., 1., 1., 1., 1., 1., 1., 1., 1., 1., 1., 1., 1., 1., 1.,\n",
       "        1., 1., 1., 1., 1., 1., 1., 1., 1., 1., 1., 1., 1., 1., 1., 1.,\n",
       "        1., 1., 1., 1., 1., 1., 1., 1., 1., 1., 1., 1., 1., 1., 1., 1.,\n",
       "        1., 1., 1., 1., 1., 1., 1., 1., 1., 1., 1., 1., 1., 1., 1., 1.,\n",
       "        1., 1., 1., 1., 1., 1., 1., 1., 1., 1., 1., 1., 1., 1., 1., 1.]])"
      ]
     },
     "execution_count": 28,
     "metadata": {},
     "output_type": "execute_result"
    }
   ],
   "source": [
    "np.ones((1, 784))"
   ]
  },
  {
   "cell_type": "markdown",
   "id": "dbfff734",
   "metadata": {},
   "source": [
    "## keras to tflite"
   ]
  },
  {
   "cell_type": "code",
   "execution_count": 29,
   "id": "6f0e04ce",
   "metadata": {
    "ExecuteTime": {
     "end_time": "2022-06-01T07:33:06.703190Z",
     "start_time": "2022-06-01T07:33:06.685101Z"
    }
   },
   "outputs": [
    {
     "data": {
      "text/plain": [
       "<tensorflow.lite.python.lite.TFLiteKerasModelConverterV2 at 0x223b6ba04c0>"
      ]
     },
     "execution_count": 29,
     "metadata": {},
     "output_type": "execute_result"
    }
   ],
   "source": [
    "# lite 精简版模型\n",
    "# 创建转化器\n",
    "keras_to_tflite_converter = tf.lite.TFLiteConverter.from_keras_model(loaded_keras_model)\n",
    "keras_to_tflite_converter"
   ]
  },
  {
   "cell_type": "code",
   "execution_count": 30,
   "id": "8a84e12c",
   "metadata": {
    "ExecuteTime": {
     "end_time": "2022-06-01T07:36:11.985994Z",
     "start_time": "2022-06-01T07:36:10.936828Z"
    }
   },
   "outputs": [
    {
     "name": "stdout",
     "output_type": "stream",
     "text": [
      "INFO:tensorflow:Assets written to: C:\\Users\\ADMINI~1\\AppData\\Local\\Temp\\tmp838guhaw\\assets\n"
     ]
    }
   ],
   "source": [
    "# 执行转化\n",
    "keras_tflite = keras_to_tflite_converter.convert()"
   ]
  },
  {
   "cell_type": "code",
   "execution_count": 31,
   "id": "2fda3ef5",
   "metadata": {
    "ExecuteTime": {
     "end_time": "2022-06-01T07:39:49.130350Z",
     "start_time": "2022-06-01T07:39:49.118383Z"
    }
   },
   "outputs": [],
   "source": [
    "# 写入指定的文件\n",
    "import os\n",
    "\n",
    "if not os.path.exists('./tflite_models'):\n",
    "    os.mkdir('./tflite_models')\n",
    "    \n",
    "with open('./tflite_models/keras_tflite', 'wb') as f:\n",
    "    f.write(keras_tflite)"
   ]
  },
  {
   "cell_type": "markdown",
   "id": "1b100002",
   "metadata": {},
   "source": [
    "## concrete function to tflite"
   ]
  },
  {
   "cell_type": "code",
   "execution_count": 32,
   "id": "51e62d4c",
   "metadata": {
    "ExecuteTime": {
     "end_time": "2022-06-01T07:43:53.755200Z",
     "start_time": "2022-06-01T07:43:53.715306Z"
    }
   },
   "outputs": [],
   "source": [
    "# 把keras模型转化成concrete function\n",
    "run_model = tf.function(lambda x: loaded_keras_model(x))\n",
    "keras_concrete_func = run_model.get_concrete_function(\n",
    "    tf.TensorSpec(loaded_keras_model.inputs[0].shape,\n",
    "                 loaded_keras_model.inputs[0].dtype)\n",
    ")"
   ]
  },
  {
   "cell_type": "code",
   "execution_count": 33,
   "id": "210dc092",
   "metadata": {
    "ExecuteTime": {
     "end_time": "2022-06-01T07:46:42.346179Z",
     "start_time": "2022-06-01T07:46:42.151956Z"
    }
   },
   "outputs": [
    {
     "name": "stderr",
     "output_type": "stream",
     "text": [
      "WARNING:absl:Please consider providing the trackable_obj argument in the from_concrete_functions. Providing without the trackable_obj argument is deprecated and it will use the deprecated conversion path.\n"
     ]
    }
   ],
   "source": [
    "concrete_func_to_tflite = tf.lite.TFLiteConverter.from_concrete_functions([keras_concrete_func])\n",
    "concrete_func_tflite = concrete_func_to_tflite.convert()"
   ]
  },
  {
   "cell_type": "code",
   "execution_count": 34,
   "id": "be8f77fb",
   "metadata": {
    "ExecuteTime": {
     "end_time": "2022-06-01T07:47:24.512311Z",
     "start_time": "2022-06-01T07:47:24.498195Z"
    }
   },
   "outputs": [],
   "source": [
    "with open('./tflite_models/concrete_func_tflite', 'wb') as f:\n",
    "    f.write(concrete_func_tflite)"
   ]
  },
  {
   "cell_type": "markdown",
   "id": "b4dc57ad",
   "metadata": {},
   "source": [
    "## saved_model to tflite"
   ]
  },
  {
   "cell_type": "code",
   "execution_count": 35,
   "id": "1f061ec0",
   "metadata": {
    "ExecuteTime": {
     "end_time": "2022-06-01T07:50:41.727521Z",
     "start_time": "2022-06-01T07:50:41.177448Z"
    }
   },
   "outputs": [],
   "source": [
    "saved_model_to_tflite_converter = tf.lite.TFLiteConverter.from_saved_model('./keras_saved_model/')\n",
    "saved_model_tflite = saved_model_to_tflite_converter.convert()"
   ]
  },
  {
   "cell_type": "code",
   "execution_count": 36,
   "id": "f5d0ef7a",
   "metadata": {
    "ExecuteTime": {
     "end_time": "2022-06-01T07:51:49.425479Z",
     "start_time": "2022-06-01T07:51:49.411504Z"
    }
   },
   "outputs": [],
   "source": [
    "with open('./tflite_models/saved_model_tflite', 'wb') as f:\n",
    "    f.write(saved_model_tflite)"
   ]
  },
  {
   "cell_type": "markdown",
   "id": "d201b030",
   "metadata": {},
   "source": [
    "# tflite_interpreter"
   ]
  },
  {
   "cell_type": "code",
   "execution_count": 37,
   "id": "4610e791",
   "metadata": {
    "ExecuteTime": {
     "end_time": "2022-06-01T07:55:00.913612Z",
     "start_time": "2022-06-01T07:55:00.895629Z"
    }
   },
   "outputs": [],
   "source": [
    "from tensorflow import keras\n",
    "import tensorflow as tf\n",
    "import numpy as np\n",
    "import pandas as pd\n",
    "import matplotlib.pyplot as plt\n",
    "import os"
   ]
  },
  {
   "cell_type": "code",
   "execution_count": 38,
   "id": "95a5d37f",
   "metadata": {
    "ExecuteTime": {
     "end_time": "2022-06-01T07:55:35.772182Z",
     "start_time": "2022-06-01T07:55:35.759079Z"
    }
   },
   "outputs": [],
   "source": [
    "with open('./tflite_models/concrete_func_tflite', 'rb') as f:\n",
    "    concrete_func_tflite = f.read()"
   ]
  },
  {
   "cell_type": "code",
   "execution_count": 39,
   "id": "4eb7775d",
   "metadata": {
    "ExecuteTime": {
     "end_time": "2022-06-01T07:56:14.244920Z",
     "start_time": "2022-06-01T07:56:14.235891Z"
    }
   },
   "outputs": [],
   "source": [
    "# 创建interpreter\n",
    "interpreter = tf.lite.Interpreter(model_content=concrete_func_tflite)\n",
    "# 分配内存\n",
    "interpreter.allocate_tensors()"
   ]
  },
  {
   "cell_type": "code",
   "execution_count": 40,
   "id": "1b819458",
   "metadata": {
    "ExecuteTime": {
     "end_time": "2022-06-01T07:59:37.489456Z",
     "start_time": "2022-06-01T07:59:37.485467Z"
    }
   },
   "outputs": [
    {
     "name": "stdout",
     "output_type": "stream",
     "text": [
      "[{'name': 'x', 'index': 0, 'shape': array([  1, 784]), 'shape_signature': array([ -1, 784]), 'dtype': <class 'numpy.float32'>, 'quantization': (0.0, 0), 'quantization_parameters': {'scales': array([], dtype=float32), 'zero_points': array([], dtype=int32), 'quantized_dimension': 0}, 'sparsity_parameters': {}}]\n",
      "[{'name': 'Identity', 'index': 13, 'shape': array([ 1, 10]), 'shape_signature': array([-1, 10]), 'dtype': <class 'numpy.float32'>, 'quantization': (0.0, 0), 'quantization_parameters': {'scales': array([], dtype=float32), 'zero_points': array([], dtype=int32), 'quantized_dimension': 0}, 'sparsity_parameters': {}}]\n"
     ]
    }
   ],
   "source": [
    "input_details = interpreter.get_input_details()\n",
    "output_details = interpreter.get_output_details()\n",
    "print(input_details)\n",
    "print(output_details)"
   ]
  },
  {
   "cell_type": "code",
   "execution_count": 41,
   "id": "f293e983",
   "metadata": {
    "ExecuteTime": {
     "end_time": "2022-06-01T08:00:50.266892Z",
     "start_time": "2022-06-01T08:00:50.254703Z"
    }
   },
   "outputs": [
    {
     "name": "stdout",
     "output_type": "stream",
     "text": [
      "[[2.6461685e-02 3.2110948e-02 1.2605478e-01 6.0098335e-02 5.3038076e-02\n",
      "  1.9675621e-03 6.1453070e-02 5.9859303e-04 6.3768566e-01 5.3129060e-04]]\n"
     ]
    }
   ],
   "source": [
    "input_data = tf.constant(np.ones(input_details[0]['shape'], dtype=np.float32))\n",
    "# 传入预测数据\n",
    "interpreter.set_tensor(input_details[0]['index'], input_data)\n",
    "\n",
    "# 执行预测\n",
    "interpreter.invoke()\n",
    "\n",
    "# 获取输出\n",
    "output_results = interpreter.get_tensor(output_details[0]['index'])\n",
    "print(output_results)"
   ]
  },
  {
   "cell_type": "markdown",
   "id": "7d10fabb",
   "metadata": {},
   "source": [
    "# to_quantized_tflite"
   ]
  },
  {
   "cell_type": "markdown",
   "id": "119d6dc9",
   "metadata": {},
   "source": [
    "## keras to tflite"
   ]
  },
  {
   "cell_type": "code",
   "execution_count": 43,
   "id": "edc8b0d9",
   "metadata": {
    "ExecuteTime": {
     "end_time": "2022-06-01T08:07:41.703405Z",
     "start_time": "2022-06-01T08:07:41.687318Z"
    }
   },
   "outputs": [
    {
     "data": {
      "text/plain": [
       "<tensorflow.lite.python.lite.TFLiteKerasModelConverterV2 at 0x223b26016a0>"
      ]
     },
     "execution_count": 43,
     "metadata": {},
     "output_type": "execute_result"
    }
   ],
   "source": [
    "# lite 精简版模型\n",
    "# 创建转化器\n",
    "keras_to_tflite_converter = tf.lite.TFLiteConverter.from_keras_model(loaded_keras_model)\n",
    "keras_to_tflite_converter"
   ]
  },
  {
   "cell_type": "code",
   "execution_count": 45,
   "id": "29f69fb2",
   "metadata": {
    "ExecuteTime": {
     "end_time": "2022-06-01T08:09:23.295005Z",
     "start_time": "2022-06-01T08:09:22.252775Z"
    }
   },
   "outputs": [
    {
     "name": "stdout",
     "output_type": "stream",
     "text": [
      "INFO:tensorflow:Assets written to: C:\\Users\\ADMINI~1\\AppData\\Local\\Temp\\tmp6j_e0r_k\\assets\n"
     ]
    },
    {
     "name": "stderr",
     "output_type": "stream",
     "text": [
      "INFO:tensorflow:Assets written to: C:\\Users\\ADMINI~1\\AppData\\Local\\Temp\\tmp6j_e0r_k\\assets\n"
     ]
    }
   ],
   "source": [
    "# 给converter添加量化\n",
    "# 把32位浮点数变成8位整数\n",
    "keras_to_tflite_converter.optimizations = [tf.lite.Optimize.DEFAULT]\n",
    "# 执行转化\n",
    "keras_tflite = keras_to_tflite_converter.convert()"
   ]
  },
  {
   "cell_type": "code",
   "execution_count": 46,
   "id": "c49ee2ae",
   "metadata": {
    "ExecuteTime": {
     "end_time": "2022-06-01T08:11:39.135631Z",
     "start_time": "2022-06-01T08:11:39.130615Z"
    }
   },
   "outputs": [],
   "source": [
    "# 写入指定的文件\n",
    "import os\n",
    "\n",
    "if not os.path.exists('./tflite_models'):\n",
    "    os.mkdir('./tflite_models')\n",
    "    \n",
    "with open('./tflite_models/quantized_keras_tflite', 'wb') as f:\n",
    "    f.write(keras_tflite)"
   ]
  },
  {
   "cell_type": "markdown",
   "id": "b497f162",
   "metadata": {},
   "source": [
    "## concrete function to tflite"
   ]
  },
  {
   "cell_type": "code",
   "execution_count": 47,
   "id": "0afeeb1e",
   "metadata": {
    "ExecuteTime": {
     "end_time": "2022-06-01T08:13:26.220325Z",
     "start_time": "2022-06-01T08:13:26.189408Z"
    }
   },
   "outputs": [],
   "source": [
    "# 把keras模型转化成concrete function\n",
    "run_model = tf.function(lambda x: loaded_keras_model(x))\n",
    "keras_concrete_func = run_model.get_concrete_function(\n",
    "    tf.TensorSpec(loaded_keras_model.inputs[0].shape,\n",
    "                 loaded_keras_model.inputs[0].dtype)\n",
    "    )"
   ]
  },
  {
   "cell_type": "code",
   "execution_count": 49,
   "id": "9e203390",
   "metadata": {
    "ExecuteTime": {
     "end_time": "2022-06-01T08:14:09.493443Z",
     "start_time": "2022-06-01T08:14:09.306660Z"
    }
   },
   "outputs": [
    {
     "name": "stderr",
     "output_type": "stream",
     "text": [
      "WARNING:absl:Please consider providing the trackable_obj argument in the from_concrete_functions. Providing without the trackable_obj argument is deprecated and it will use the deprecated conversion path.\n"
     ]
    }
   ],
   "source": [
    "concrete_func_to_tflite_converter = tf.lite.TFLiteConverter.from_concrete_functions([keras_concrete_func])\n",
    "concrete_func_to_tflite_converter.optimizations = [tf.lite.Optimize.DEFAULT]\n",
    "concrete_func_tflite = concrete_func_to_tflite_converter.convert()"
   ]
  },
  {
   "cell_type": "code",
   "execution_count": 50,
   "id": "59a4c5b5",
   "metadata": {
    "ExecuteTime": {
     "end_time": "2022-06-01T08:14:37.152082Z",
     "start_time": "2022-06-01T08:14:37.134117Z"
    }
   },
   "outputs": [],
   "source": [
    "with open('./tflite_models/quantized_concrete_func_tflite', 'wb') as f:\n",
    "    f.write(concrete_func_tflite)"
   ]
  },
  {
   "cell_type": "markdown",
   "id": "04f69ac7",
   "metadata": {},
   "source": [
    "## saved_model to tflite"
   ]
  },
  {
   "cell_type": "code",
   "execution_count": 52,
   "id": "a734a577",
   "metadata": {
    "ExecuteTime": {
     "end_time": "2022-06-01T08:17:55.806326Z",
     "start_time": "2022-06-01T08:17:55.371759Z"
    }
   },
   "outputs": [],
   "source": [
    "saved_model_to_tflite_converter = tf.lite.TFLiteConverter.from_saved_model('./keras_saved_model/')\n",
    "saved_model_to_tflite_converter.optimizations = [tf.lite.Optimize.DEFAULT]\n",
    "saved_model_tflite = saved_model_to_tflite_converter.convert()"
   ]
  },
  {
   "cell_type": "code",
   "execution_count": 53,
   "id": "5b925c0a",
   "metadata": {
    "ExecuteTime": {
     "end_time": "2022-06-01T08:18:18.664061Z",
     "start_time": "2022-06-01T08:18:18.651704Z"
    }
   },
   "outputs": [],
   "source": [
    "with open('./tflite_models/quantized_saved_model_tflite', 'wb') as f:\n",
    "    f.write(saved_model_tflite)"
   ]
  },
  {
   "cell_type": "code",
   "execution_count": null,
   "id": "c4305abc",
   "metadata": {},
   "outputs": [],
   "source": []
  }
 ],
 "metadata": {
  "hide_input": false,
  "kernelspec": {
   "display_name": "Python 3 (ipykernel)",
   "language": "python",
   "name": "python3"
  },
  "language_info": {
   "codemirror_mode": {
    "name": "ipython",
    "version": 3
   },
   "file_extension": ".py",
   "mimetype": "text/x-python",
   "name": "python",
   "nbconvert_exporter": "python",
   "pygments_lexer": "ipython3",
   "version": "3.9.7"
  },
  "latex_envs": {
   "LaTeX_envs_menu_present": true,
   "autoclose": false,
   "autocomplete": true,
   "bibliofile": "biblio.bib",
   "cite_by": "apalike",
   "current_citInitial": 1,
   "eqLabelWithNumbers": true,
   "eqNumInitial": 1,
   "hotkeys": {
    "equation": "Ctrl-E",
    "itemize": "Ctrl-I"
   },
   "labels_anchors": false,
   "latex_user_defs": false,
   "report_style_numbering": false,
   "user_envs_cfg": false
  },
  "nbTranslate": {
   "displayLangs": [
    "*"
   ],
   "hotkey": "alt-t",
   "langInMainMenu": true,
   "sourceLang": "en",
   "targetLang": "fr",
   "useGoogleTranslate": true
  },
  "toc": {
   "base_numbering": 1,
   "nav_menu": {},
   "number_sections": true,
   "sideBar": true,
   "skip_h1_title": false,
   "title_cell": "Table of Contents",
   "title_sidebar": "Contents",
   "toc_cell": false,
   "toc_position": {},
   "toc_section_display": true,
   "toc_window_display": true
  },
  "varInspector": {
   "cols": {
    "lenName": 16,
    "lenType": 16,
    "lenVar": 40
   },
   "kernels_config": {
    "python": {
     "delete_cmd_postfix": "",
     "delete_cmd_prefix": "del ",
     "library": "var_list.py",
     "varRefreshCmd": "print(var_dic_list())"
    },
    "r": {
     "delete_cmd_postfix": ") ",
     "delete_cmd_prefix": "rm(",
     "library": "var_list.r",
     "varRefreshCmd": "cat(var_dic_list()) "
    }
   },
   "position": {
    "height": "359.85px",
    "left": "379.2px",
    "right": "20px",
    "top": "1px",
    "width": "392px"
   },
   "types_to_exclude": [
    "module",
    "function",
    "builtin_function_or_method",
    "instance",
    "_Feature"
   ],
   "window_display": true
  }
 },
 "nbformat": 4,
 "nbformat_minor": 5
}
