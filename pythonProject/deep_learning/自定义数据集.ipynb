{
 "cells": [
  {
   "cell_type": "code",
   "execution_count": 2,
   "metadata": {
    "ExecuteTime": {
     "end_time": "2022-04-13T14:06:22.196069Z",
     "start_time": "2022-04-13T14:06:22.184974Z"
    }
   },
   "outputs": [],
   "source": [
    "# Dataset: __len__, __getitem__都可以成为Dataset"
   ]
  },
  {
   "cell_type": "code",
   "execution_count": 3,
   "metadata": {
    "ExecuteTime": {
     "end_time": "2022-04-13T14:06:22.211535Z",
     "start_time": "2022-04-13T14:06:22.197573Z"
    },
    "scrolled": true
   },
   "outputs": [],
   "source": [
    "# dataset[0] = dataset.__getitem__[0]"
   ]
  },
  {
   "cell_type": "code",
   "execution_count": 4,
   "metadata": {
    "ExecuteTime": {
     "end_time": "2022-04-13T14:06:22.798798Z",
     "start_time": "2022-04-13T14:06:22.213530Z"
    }
   },
   "outputs": [],
   "source": [
    "import torch\n",
    "import numpy as np\n",
    "from torchvision import transforms\n",
    "import torch.nn as nn\n",
    "import torch.nn.functional as F"
   ]
  },
  {
   "cell_type": "code",
   "execution_count": 5,
   "metadata": {
    "ExecuteTime": {
     "end_time": "2022-04-13T14:06:22.814757Z",
     "start_time": "2022-04-13T14:06:22.800794Z"
    }
   },
   "outputs": [],
   "source": [
    "import glob"
   ]
  },
  {
   "cell_type": "code",
   "execution_count": 6,
   "metadata": {
    "ExecuteTime": {
     "end_time": "2022-04-13T14:06:22.830713Z",
     "start_time": "2022-04-13T14:06:22.815753Z"
    }
   },
   "outputs": [],
   "source": [
    "from PIL import Image"
   ]
  },
  {
   "cell_type": "code",
   "execution_count": 7,
   "metadata": {
    "ExecuteTime": {
     "end_time": "2022-04-13T14:06:22.846178Z",
     "start_time": "2022-04-13T14:06:22.831711Z"
    }
   },
   "outputs": [],
   "source": [
    "all_img_path = glob.glob(r'D:\\AIoT-深度学习视频版\\深度学习基础\\day56_dropout和bn\\代码\\dataset\\*.jpg')"
   ]
  },
  {
   "cell_type": "code",
   "execution_count": 8,
   "metadata": {
    "ExecuteTime": {
     "end_time": "2022-04-13T14:06:22.861138Z",
     "start_time": "2022-04-13T14:06:22.847176Z"
    }
   },
   "outputs": [
    {
     "data": {
      "text/plain": [
       "['D:\\\\AIoT-深度学习视频版\\\\深度学习基础\\\\day56_dropout和bn\\\\代码\\\\dataset\\\\cloudy1.jpg',\n",
       " 'D:\\\\AIoT-深度学习视频版\\\\深度学习基础\\\\day56_dropout和bn\\\\代码\\\\dataset\\\\cloudy10.jpg',\n",
       " 'D:\\\\AIoT-深度学习视频版\\\\深度学习基础\\\\day56_dropout和bn\\\\代码\\\\dataset\\\\cloudy100.jpg',\n",
       " 'D:\\\\AIoT-深度学习视频版\\\\深度学习基础\\\\day56_dropout和bn\\\\代码\\\\dataset\\\\cloudy101.jpg',\n",
       " 'D:\\\\AIoT-深度学习视频版\\\\深度学习基础\\\\day56_dropout和bn\\\\代码\\\\dataset\\\\cloudy102.jpg']"
      ]
     },
     "execution_count": 8,
     "metadata": {},
     "output_type": "execute_result"
    }
   ],
   "source": [
    "all_img_path[:5]"
   ]
  },
  {
   "cell_type": "code",
   "execution_count": 9,
   "metadata": {
    "ExecuteTime": {
     "end_time": "2022-04-13T14:06:22.877097Z",
     "start_time": "2022-04-13T14:06:22.863133Z"
    }
   },
   "outputs": [],
   "source": [
    "# 建立类别和索引之间的映射关系\n",
    "species = ['cloudy', 'rain', 'shine', 'sunrise']"
   ]
  },
  {
   "cell_type": "code",
   "execution_count": 10,
   "metadata": {
    "ExecuteTime": {
     "end_time": "2022-04-13T14:06:22.892058Z",
     "start_time": "2022-04-13T14:06:22.879091Z"
    }
   },
   "outputs": [],
   "source": [
    "species_to_idx = dict((c, i) for i, c in enumerate(species))"
   ]
  },
  {
   "cell_type": "code",
   "execution_count": 11,
   "metadata": {
    "ExecuteTime": {
     "end_time": "2022-04-13T14:06:22.907016Z",
     "start_time": "2022-04-13T14:06:22.893053Z"
    }
   },
   "outputs": [
    {
     "data": {
      "text/plain": [
       "{'cloudy': 0, 'rain': 1, 'shine': 2, 'sunrise': 3}"
      ]
     },
     "execution_count": 11,
     "metadata": {},
     "output_type": "execute_result"
    }
   ],
   "source": [
    "species_to_idx"
   ]
  },
  {
   "cell_type": "code",
   "execution_count": 12,
   "metadata": {
    "ExecuteTime": {
     "end_time": "2022-04-13T14:06:22.921976Z",
     "start_time": "2022-04-13T14:06:22.908013Z"
    }
   },
   "outputs": [],
   "source": [
    "# 调换一下key和value的顺序\n",
    "idx_to_species = dict((v, k) for k, v in species_to_idx.items())"
   ]
  },
  {
   "cell_type": "code",
   "execution_count": 13,
   "metadata": {
    "ExecuteTime": {
     "end_time": "2022-04-13T14:06:22.937933Z",
     "start_time": "2022-04-13T14:06:22.922973Z"
    }
   },
   "outputs": [
    {
     "data": {
      "text/plain": [
       "{0: 'cloudy', 1: 'rain', 2: 'shine', 3: 'sunrise'}"
      ]
     },
     "execution_count": 13,
     "metadata": {},
     "output_type": "execute_result"
    }
   ],
   "source": [
    "idx_to_species"
   ]
  },
  {
   "cell_type": "code",
   "execution_count": 14,
   "metadata": {
    "ExecuteTime": {
     "end_time": "2022-04-13T14:06:22.952893Z",
     "start_time": "2022-04-13T14:06:22.938931Z"
    }
   },
   "outputs": [
    {
     "data": {
      "text/plain": [
       "True"
      ]
     },
     "execution_count": 14,
     "metadata": {},
     "output_type": "execute_result"
    }
   ],
   "source": [
    "'cloudy' in all_img_path[0]"
   ]
  },
  {
   "cell_type": "code",
   "execution_count": 15,
   "metadata": {
    "ExecuteTime": {
     "end_time": "2022-04-13T14:06:22.967853Z",
     "start_time": "2022-04-13T14:06:22.953891Z"
    },
    "code_folding": []
   },
   "outputs": [],
   "source": [
    "# 生成所有图片的label\n",
    "all_labels = []\n",
    "\n",
    "for img in all_img_path:\n",
    "    for i, c in enumerate(species):\n",
    "        if c in img:\n",
    "            all_labels.append(i)"
   ]
  },
  {
   "cell_type": "code",
   "execution_count": 16,
   "metadata": {
    "ExecuteTime": {
     "end_time": "2022-04-13T14:06:22.982813Z",
     "start_time": "2022-04-13T14:06:22.968851Z"
    }
   },
   "outputs": [
    {
     "data": {
      "text/plain": [
       "['D:\\\\AIoT-深度学习视频版\\\\深度学习基础\\\\day56_dropout和bn\\\\代码\\\\dataset\\\\cloudy1.jpg',\n",
       " 'D:\\\\AIoT-深度学习视频版\\\\深度学习基础\\\\day56_dropout和bn\\\\代码\\\\dataset\\\\cloudy10.jpg',\n",
       " 'D:\\\\AIoT-深度学习视频版\\\\深度学习基础\\\\day56_dropout和bn\\\\代码\\\\dataset\\\\cloudy100.jpg',\n",
       " 'D:\\\\AIoT-深度学习视频版\\\\深度学习基础\\\\day56_dropout和bn\\\\代码\\\\dataset\\\\cloudy101.jpg',\n",
       " 'D:\\\\AIoT-深度学习视频版\\\\深度学习基础\\\\day56_dropout和bn\\\\代码\\\\dataset\\\\cloudy102.jpg']"
      ]
     },
     "execution_count": 16,
     "metadata": {},
     "output_type": "execute_result"
    }
   ],
   "source": [
    "all_img_path[:5]"
   ]
  },
  {
   "cell_type": "code",
   "execution_count": 17,
   "metadata": {
    "ExecuteTime": {
     "end_time": "2022-04-13T14:06:22.997773Z",
     "start_time": "2022-04-13T14:06:22.983810Z"
    }
   },
   "outputs": [
    {
     "data": {
      "text/plain": [
       "[0, 0, 0, 0, 0]"
      ]
     },
     "execution_count": 17,
     "metadata": {},
     "output_type": "execute_result"
    }
   ],
   "source": [
    "all_labels[:5]"
   ]
  },
  {
   "cell_type": "code",
   "execution_count": 18,
   "metadata": {
    "ExecuteTime": {
     "end_time": "2022-04-13T14:06:23.028690Z",
     "start_time": "2022-04-13T14:06:22.998770Z"
    }
   },
   "outputs": [
    {
     "data": {
      "text/plain": [
       "['D:\\\\AIoT-深度学习视频版\\\\深度学习基础\\\\day56_dropout和bn\\\\代码\\\\dataset\\\\cloudy1.jpg',\n",
       " 'D:\\\\AIoT-深度学习视频版\\\\深度学习基础\\\\day56_dropout和bn\\\\代码\\\\dataset\\\\cloudy10.jpg',\n",
       " 'D:\\\\AIoT-深度学习视频版\\\\深度学习基础\\\\day56_dropout和bn\\\\代码\\\\dataset\\\\cloudy100.jpg',\n",
       " 'D:\\\\AIoT-深度学习视频版\\\\深度学习基础\\\\day56_dropout和bn\\\\代码\\\\dataset\\\\cloudy101.jpg',\n",
       " 'D:\\\\AIoT-深度学习视频版\\\\深度学习基础\\\\day56_dropout和bn\\\\代码\\\\dataset\\\\cloudy102.jpg',\n",
       " 'D:\\\\AIoT-深度学习视频版\\\\深度学习基础\\\\day56_dropout和bn\\\\代码\\\\dataset\\\\cloudy103.jpg',\n",
       " 'D:\\\\AIoT-深度学习视频版\\\\深度学习基础\\\\day56_dropout和bn\\\\代码\\\\dataset\\\\cloudy104.jpg',\n",
       " 'D:\\\\AIoT-深度学习视频版\\\\深度学习基础\\\\day56_dropout和bn\\\\代码\\\\dataset\\\\cloudy105.jpg',\n",
       " 'D:\\\\AIoT-深度学习视频版\\\\深度学习基础\\\\day56_dropout和bn\\\\代码\\\\dataset\\\\cloudy106.jpg',\n",
       " 'D:\\\\AIoT-深度学习视频版\\\\深度学习基础\\\\day56_dropout和bn\\\\代码\\\\dataset\\\\cloudy107.jpg',\n",
       " 'D:\\\\AIoT-深度学习视频版\\\\深度学习基础\\\\day56_dropout和bn\\\\代码\\\\dataset\\\\cloudy108.jpg',\n",
       " 'D:\\\\AIoT-深度学习视频版\\\\深度学习基础\\\\day56_dropout和bn\\\\代码\\\\dataset\\\\cloudy109.jpg',\n",
       " 'D:\\\\AIoT-深度学习视频版\\\\深度学习基础\\\\day56_dropout和bn\\\\代码\\\\dataset\\\\cloudy11.jpg',\n",
       " 'D:\\\\AIoT-深度学习视频版\\\\深度学习基础\\\\day56_dropout和bn\\\\代码\\\\dataset\\\\cloudy110.jpg',\n",
       " 'D:\\\\AIoT-深度学习视频版\\\\深度学习基础\\\\day56_dropout和bn\\\\代码\\\\dataset\\\\cloudy111.jpg',\n",
       " 'D:\\\\AIoT-深度学习视频版\\\\深度学习基础\\\\day56_dropout和bn\\\\代码\\\\dataset\\\\cloudy112.jpg',\n",
       " 'D:\\\\AIoT-深度学习视频版\\\\深度学习基础\\\\day56_dropout和bn\\\\代码\\\\dataset\\\\cloudy113.jpg',\n",
       " 'D:\\\\AIoT-深度学习视频版\\\\深度学习基础\\\\day56_dropout和bn\\\\代码\\\\dataset\\\\cloudy114.jpg',\n",
       " 'D:\\\\AIoT-深度学习视频版\\\\深度学习基础\\\\day56_dropout和bn\\\\代码\\\\dataset\\\\cloudy115.jpg',\n",
       " 'D:\\\\AIoT-深度学习视频版\\\\深度学习基础\\\\day56_dropout和bn\\\\代码\\\\dataset\\\\cloudy116.jpg',\n",
       " 'D:\\\\AIoT-深度学习视频版\\\\深度学习基础\\\\day56_dropout和bn\\\\代码\\\\dataset\\\\cloudy117.jpg',\n",
       " 'D:\\\\AIoT-深度学习视频版\\\\深度学习基础\\\\day56_dropout和bn\\\\代码\\\\dataset\\\\cloudy118.jpg',\n",
       " 'D:\\\\AIoT-深度学习视频版\\\\深度学习基础\\\\day56_dropout和bn\\\\代码\\\\dataset\\\\cloudy119.jpg',\n",
       " 'D:\\\\AIoT-深度学习视频版\\\\深度学习基础\\\\day56_dropout和bn\\\\代码\\\\dataset\\\\cloudy12.jpg',\n",
       " 'D:\\\\AIoT-深度学习视频版\\\\深度学习基础\\\\day56_dropout和bn\\\\代码\\\\dataset\\\\cloudy120.jpg',\n",
       " 'D:\\\\AIoT-深度学习视频版\\\\深度学习基础\\\\day56_dropout和bn\\\\代码\\\\dataset\\\\cloudy121.jpg',\n",
       " 'D:\\\\AIoT-深度学习视频版\\\\深度学习基础\\\\day56_dropout和bn\\\\代码\\\\dataset\\\\cloudy122.jpg',\n",
       " 'D:\\\\AIoT-深度学习视频版\\\\深度学习基础\\\\day56_dropout和bn\\\\代码\\\\dataset\\\\cloudy123.jpg',\n",
       " 'D:\\\\AIoT-深度学习视频版\\\\深度学习基础\\\\day56_dropout和bn\\\\代码\\\\dataset\\\\cloudy124.jpg',\n",
       " 'D:\\\\AIoT-深度学习视频版\\\\深度学习基础\\\\day56_dropout和bn\\\\代码\\\\dataset\\\\cloudy125.jpg',\n",
       " 'D:\\\\AIoT-深度学习视频版\\\\深度学习基础\\\\day56_dropout和bn\\\\代码\\\\dataset\\\\cloudy126.jpg',\n",
       " 'D:\\\\AIoT-深度学习视频版\\\\深度学习基础\\\\day56_dropout和bn\\\\代码\\\\dataset\\\\cloudy127.jpg',\n",
       " 'D:\\\\AIoT-深度学习视频版\\\\深度学习基础\\\\day56_dropout和bn\\\\代码\\\\dataset\\\\cloudy128.jpg',\n",
       " 'D:\\\\AIoT-深度学习视频版\\\\深度学习基础\\\\day56_dropout和bn\\\\代码\\\\dataset\\\\cloudy129.jpg',\n",
       " 'D:\\\\AIoT-深度学习视频版\\\\深度学习基础\\\\day56_dropout和bn\\\\代码\\\\dataset\\\\cloudy13.jpg',\n",
       " 'D:\\\\AIoT-深度学习视频版\\\\深度学习基础\\\\day56_dropout和bn\\\\代码\\\\dataset\\\\cloudy130.jpg',\n",
       " 'D:\\\\AIoT-深度学习视频版\\\\深度学习基础\\\\day56_dropout和bn\\\\代码\\\\dataset\\\\cloudy131.jpg',\n",
       " 'D:\\\\AIoT-深度学习视频版\\\\深度学习基础\\\\day56_dropout和bn\\\\代码\\\\dataset\\\\cloudy132.jpg',\n",
       " 'D:\\\\AIoT-深度学习视频版\\\\深度学习基础\\\\day56_dropout和bn\\\\代码\\\\dataset\\\\cloudy133.jpg',\n",
       " 'D:\\\\AIoT-深度学习视频版\\\\深度学习基础\\\\day56_dropout和bn\\\\代码\\\\dataset\\\\cloudy134.jpg',\n",
       " 'D:\\\\AIoT-深度学习视频版\\\\深度学习基础\\\\day56_dropout和bn\\\\代码\\\\dataset\\\\cloudy135.jpg',\n",
       " 'D:\\\\AIoT-深度学习视频版\\\\深度学习基础\\\\day56_dropout和bn\\\\代码\\\\dataset\\\\cloudy136.jpg',\n",
       " 'D:\\\\AIoT-深度学习视频版\\\\深度学习基础\\\\day56_dropout和bn\\\\代码\\\\dataset\\\\cloudy137.jpg',\n",
       " 'D:\\\\AIoT-深度学习视频版\\\\深度学习基础\\\\day56_dropout和bn\\\\代码\\\\dataset\\\\cloudy138.jpg',\n",
       " 'D:\\\\AIoT-深度学习视频版\\\\深度学习基础\\\\day56_dropout和bn\\\\代码\\\\dataset\\\\cloudy139.jpg',\n",
       " 'D:\\\\AIoT-深度学习视频版\\\\深度学习基础\\\\day56_dropout和bn\\\\代码\\\\dataset\\\\cloudy14.jpg',\n",
       " 'D:\\\\AIoT-深度学习视频版\\\\深度学习基础\\\\day56_dropout和bn\\\\代码\\\\dataset\\\\cloudy140.jpg',\n",
       " 'D:\\\\AIoT-深度学习视频版\\\\深度学习基础\\\\day56_dropout和bn\\\\代码\\\\dataset\\\\cloudy141.jpg',\n",
       " 'D:\\\\AIoT-深度学习视频版\\\\深度学习基础\\\\day56_dropout和bn\\\\代码\\\\dataset\\\\cloudy142.jpg',\n",
       " 'D:\\\\AIoT-深度学习视频版\\\\深度学习基础\\\\day56_dropout和bn\\\\代码\\\\dataset\\\\cloudy143.jpg',\n",
       " 'D:\\\\AIoT-深度学习视频版\\\\深度学习基础\\\\day56_dropout和bn\\\\代码\\\\dataset\\\\cloudy144.jpg',\n",
       " 'D:\\\\AIoT-深度学习视频版\\\\深度学习基础\\\\day56_dropout和bn\\\\代码\\\\dataset\\\\cloudy145.jpg',\n",
       " 'D:\\\\AIoT-深度学习视频版\\\\深度学习基础\\\\day56_dropout和bn\\\\代码\\\\dataset\\\\cloudy146.jpg',\n",
       " 'D:\\\\AIoT-深度学习视频版\\\\深度学习基础\\\\day56_dropout和bn\\\\代码\\\\dataset\\\\cloudy147.jpg',\n",
       " 'D:\\\\AIoT-深度学习视频版\\\\深度学习基础\\\\day56_dropout和bn\\\\代码\\\\dataset\\\\cloudy148.jpg',\n",
       " 'D:\\\\AIoT-深度学习视频版\\\\深度学习基础\\\\day56_dropout和bn\\\\代码\\\\dataset\\\\cloudy149.jpg',\n",
       " 'D:\\\\AIoT-深度学习视频版\\\\深度学习基础\\\\day56_dropout和bn\\\\代码\\\\dataset\\\\cloudy15.jpg',\n",
       " 'D:\\\\AIoT-深度学习视频版\\\\深度学习基础\\\\day56_dropout和bn\\\\代码\\\\dataset\\\\cloudy150.jpg',\n",
       " 'D:\\\\AIoT-深度学习视频版\\\\深度学习基础\\\\day56_dropout和bn\\\\代码\\\\dataset\\\\cloudy151.jpg',\n",
       " 'D:\\\\AIoT-深度学习视频版\\\\深度学习基础\\\\day56_dropout和bn\\\\代码\\\\dataset\\\\cloudy152.jpg',\n",
       " 'D:\\\\AIoT-深度学习视频版\\\\深度学习基础\\\\day56_dropout和bn\\\\代码\\\\dataset\\\\cloudy153.jpg',\n",
       " 'D:\\\\AIoT-深度学习视频版\\\\深度学习基础\\\\day56_dropout和bn\\\\代码\\\\dataset\\\\cloudy154.jpg',\n",
       " 'D:\\\\AIoT-深度学习视频版\\\\深度学习基础\\\\day56_dropout和bn\\\\代码\\\\dataset\\\\cloudy155.jpg',\n",
       " 'D:\\\\AIoT-深度学习视频版\\\\深度学习基础\\\\day56_dropout和bn\\\\代码\\\\dataset\\\\cloudy156.jpg',\n",
       " 'D:\\\\AIoT-深度学习视频版\\\\深度学习基础\\\\day56_dropout和bn\\\\代码\\\\dataset\\\\cloudy157.jpg',\n",
       " 'D:\\\\AIoT-深度学习视频版\\\\深度学习基础\\\\day56_dropout和bn\\\\代码\\\\dataset\\\\cloudy158.jpg',\n",
       " 'D:\\\\AIoT-深度学习视频版\\\\深度学习基础\\\\day56_dropout和bn\\\\代码\\\\dataset\\\\cloudy159.jpg',\n",
       " 'D:\\\\AIoT-深度学习视频版\\\\深度学习基础\\\\day56_dropout和bn\\\\代码\\\\dataset\\\\cloudy16.jpg',\n",
       " 'D:\\\\AIoT-深度学习视频版\\\\深度学习基础\\\\day56_dropout和bn\\\\代码\\\\dataset\\\\cloudy160.jpg',\n",
       " 'D:\\\\AIoT-深度学习视频版\\\\深度学习基础\\\\day56_dropout和bn\\\\代码\\\\dataset\\\\cloudy161.jpg',\n",
       " 'D:\\\\AIoT-深度学习视频版\\\\深度学习基础\\\\day56_dropout和bn\\\\代码\\\\dataset\\\\cloudy162.jpg',\n",
       " 'D:\\\\AIoT-深度学习视频版\\\\深度学习基础\\\\day56_dropout和bn\\\\代码\\\\dataset\\\\cloudy163.jpg',\n",
       " 'D:\\\\AIoT-深度学习视频版\\\\深度学习基础\\\\day56_dropout和bn\\\\代码\\\\dataset\\\\cloudy164.jpg',\n",
       " 'D:\\\\AIoT-深度学习视频版\\\\深度学习基础\\\\day56_dropout和bn\\\\代码\\\\dataset\\\\cloudy165.jpg',\n",
       " 'D:\\\\AIoT-深度学习视频版\\\\深度学习基础\\\\day56_dropout和bn\\\\代码\\\\dataset\\\\cloudy166.jpg',\n",
       " 'D:\\\\AIoT-深度学习视频版\\\\深度学习基础\\\\day56_dropout和bn\\\\代码\\\\dataset\\\\cloudy167.jpg',\n",
       " 'D:\\\\AIoT-深度学习视频版\\\\深度学习基础\\\\day56_dropout和bn\\\\代码\\\\dataset\\\\cloudy168.jpg',\n",
       " 'D:\\\\AIoT-深度学习视频版\\\\深度学习基础\\\\day56_dropout和bn\\\\代码\\\\dataset\\\\cloudy169.jpg',\n",
       " 'D:\\\\AIoT-深度学习视频版\\\\深度学习基础\\\\day56_dropout和bn\\\\代码\\\\dataset\\\\cloudy17.jpg',\n",
       " 'D:\\\\AIoT-深度学习视频版\\\\深度学习基础\\\\day56_dropout和bn\\\\代码\\\\dataset\\\\cloudy170.jpg',\n",
       " 'D:\\\\AIoT-深度学习视频版\\\\深度学习基础\\\\day56_dropout和bn\\\\代码\\\\dataset\\\\cloudy171.jpg',\n",
       " 'D:\\\\AIoT-深度学习视频版\\\\深度学习基础\\\\day56_dropout和bn\\\\代码\\\\dataset\\\\cloudy172.jpg',\n",
       " 'D:\\\\AIoT-深度学习视频版\\\\深度学习基础\\\\day56_dropout和bn\\\\代码\\\\dataset\\\\cloudy173.jpg',\n",
       " 'D:\\\\AIoT-深度学习视频版\\\\深度学习基础\\\\day56_dropout和bn\\\\代码\\\\dataset\\\\cloudy174.jpg',\n",
       " 'D:\\\\AIoT-深度学习视频版\\\\深度学习基础\\\\day56_dropout和bn\\\\代码\\\\dataset\\\\cloudy175.jpg',\n",
       " 'D:\\\\AIoT-深度学习视频版\\\\深度学习基础\\\\day56_dropout和bn\\\\代码\\\\dataset\\\\cloudy176.jpg',\n",
       " 'D:\\\\AIoT-深度学习视频版\\\\深度学习基础\\\\day56_dropout和bn\\\\代码\\\\dataset\\\\cloudy177.jpg',\n",
       " 'D:\\\\AIoT-深度学习视频版\\\\深度学习基础\\\\day56_dropout和bn\\\\代码\\\\dataset\\\\cloudy178.jpg',\n",
       " 'D:\\\\AIoT-深度学习视频版\\\\深度学习基础\\\\day56_dropout和bn\\\\代码\\\\dataset\\\\cloudy179.jpg',\n",
       " 'D:\\\\AIoT-深度学习视频版\\\\深度学习基础\\\\day56_dropout和bn\\\\代码\\\\dataset\\\\cloudy18.jpg',\n",
       " 'D:\\\\AIoT-深度学习视频版\\\\深度学习基础\\\\day56_dropout和bn\\\\代码\\\\dataset\\\\cloudy180.jpg',\n",
       " 'D:\\\\AIoT-深度学习视频版\\\\深度学习基础\\\\day56_dropout和bn\\\\代码\\\\dataset\\\\cloudy181.jpg',\n",
       " 'D:\\\\AIoT-深度学习视频版\\\\深度学习基础\\\\day56_dropout和bn\\\\代码\\\\dataset\\\\cloudy182.jpg',\n",
       " 'D:\\\\AIoT-深度学习视频版\\\\深度学习基础\\\\day56_dropout和bn\\\\代码\\\\dataset\\\\cloudy183.jpg',\n",
       " 'D:\\\\AIoT-深度学习视频版\\\\深度学习基础\\\\day56_dropout和bn\\\\代码\\\\dataset\\\\cloudy184.jpg',\n",
       " 'D:\\\\AIoT-深度学习视频版\\\\深度学习基础\\\\day56_dropout和bn\\\\代码\\\\dataset\\\\cloudy185.jpg',\n",
       " 'D:\\\\AIoT-深度学习视频版\\\\深度学习基础\\\\day56_dropout和bn\\\\代码\\\\dataset\\\\cloudy186.jpg',\n",
       " 'D:\\\\AIoT-深度学习视频版\\\\深度学习基础\\\\day56_dropout和bn\\\\代码\\\\dataset\\\\cloudy187.jpg',\n",
       " 'D:\\\\AIoT-深度学习视频版\\\\深度学习基础\\\\day56_dropout和bn\\\\代码\\\\dataset\\\\cloudy188.jpg',\n",
       " 'D:\\\\AIoT-深度学习视频版\\\\深度学习基础\\\\day56_dropout和bn\\\\代码\\\\dataset\\\\cloudy189.jpg',\n",
       " 'D:\\\\AIoT-深度学习视频版\\\\深度学习基础\\\\day56_dropout和bn\\\\代码\\\\dataset\\\\cloudy19.jpg',\n",
       " 'D:\\\\AIoT-深度学习视频版\\\\深度学习基础\\\\day56_dropout和bn\\\\代码\\\\dataset\\\\cloudy190.jpg',\n",
       " 'D:\\\\AIoT-深度学习视频版\\\\深度学习基础\\\\day56_dropout和bn\\\\代码\\\\dataset\\\\cloudy191.jpg',\n",
       " 'D:\\\\AIoT-深度学习视频版\\\\深度学习基础\\\\day56_dropout和bn\\\\代码\\\\dataset\\\\cloudy192.jpg',\n",
       " 'D:\\\\AIoT-深度学习视频版\\\\深度学习基础\\\\day56_dropout和bn\\\\代码\\\\dataset\\\\cloudy193.jpg',\n",
       " 'D:\\\\AIoT-深度学习视频版\\\\深度学习基础\\\\day56_dropout和bn\\\\代码\\\\dataset\\\\cloudy194.jpg',\n",
       " 'D:\\\\AIoT-深度学习视频版\\\\深度学习基础\\\\day56_dropout和bn\\\\代码\\\\dataset\\\\cloudy195.jpg',\n",
       " 'D:\\\\AIoT-深度学习视频版\\\\深度学习基础\\\\day56_dropout和bn\\\\代码\\\\dataset\\\\cloudy196.jpg',\n",
       " 'D:\\\\AIoT-深度学习视频版\\\\深度学习基础\\\\day56_dropout和bn\\\\代码\\\\dataset\\\\cloudy197.jpg',\n",
       " 'D:\\\\AIoT-深度学习视频版\\\\深度学习基础\\\\day56_dropout和bn\\\\代码\\\\dataset\\\\cloudy198.jpg',\n",
       " 'D:\\\\AIoT-深度学习视频版\\\\深度学习基础\\\\day56_dropout和bn\\\\代码\\\\dataset\\\\cloudy199.jpg',\n",
       " 'D:\\\\AIoT-深度学习视频版\\\\深度学习基础\\\\day56_dropout和bn\\\\代码\\\\dataset\\\\cloudy2.jpg',\n",
       " 'D:\\\\AIoT-深度学习视频版\\\\深度学习基础\\\\day56_dropout和bn\\\\代码\\\\dataset\\\\cloudy20.jpg',\n",
       " 'D:\\\\AIoT-深度学习视频版\\\\深度学习基础\\\\day56_dropout和bn\\\\代码\\\\dataset\\\\cloudy200.jpg',\n",
       " 'D:\\\\AIoT-深度学习视频版\\\\深度学习基础\\\\day56_dropout和bn\\\\代码\\\\dataset\\\\cloudy201.jpg',\n",
       " 'D:\\\\AIoT-深度学习视频版\\\\深度学习基础\\\\day56_dropout和bn\\\\代码\\\\dataset\\\\cloudy202.jpg',\n",
       " 'D:\\\\AIoT-深度学习视频版\\\\深度学习基础\\\\day56_dropout和bn\\\\代码\\\\dataset\\\\cloudy203.jpg',\n",
       " 'D:\\\\AIoT-深度学习视频版\\\\深度学习基础\\\\day56_dropout和bn\\\\代码\\\\dataset\\\\cloudy204.jpg',\n",
       " 'D:\\\\AIoT-深度学习视频版\\\\深度学习基础\\\\day56_dropout和bn\\\\代码\\\\dataset\\\\cloudy205.jpg',\n",
       " 'D:\\\\AIoT-深度学习视频版\\\\深度学习基础\\\\day56_dropout和bn\\\\代码\\\\dataset\\\\cloudy206.jpg',\n",
       " 'D:\\\\AIoT-深度学习视频版\\\\深度学习基础\\\\day56_dropout和bn\\\\代码\\\\dataset\\\\cloudy207.jpg',\n",
       " 'D:\\\\AIoT-深度学习视频版\\\\深度学习基础\\\\day56_dropout和bn\\\\代码\\\\dataset\\\\cloudy208.jpg',\n",
       " 'D:\\\\AIoT-深度学习视频版\\\\深度学习基础\\\\day56_dropout和bn\\\\代码\\\\dataset\\\\cloudy209.jpg',\n",
       " 'D:\\\\AIoT-深度学习视频版\\\\深度学习基础\\\\day56_dropout和bn\\\\代码\\\\dataset\\\\cloudy21.jpg',\n",
       " 'D:\\\\AIoT-深度学习视频版\\\\深度学习基础\\\\day56_dropout和bn\\\\代码\\\\dataset\\\\cloudy210.jpg',\n",
       " 'D:\\\\AIoT-深度学习视频版\\\\深度学习基础\\\\day56_dropout和bn\\\\代码\\\\dataset\\\\cloudy211.jpg',\n",
       " 'D:\\\\AIoT-深度学习视频版\\\\深度学习基础\\\\day56_dropout和bn\\\\代码\\\\dataset\\\\cloudy212.jpg',\n",
       " 'D:\\\\AIoT-深度学习视频版\\\\深度学习基础\\\\day56_dropout和bn\\\\代码\\\\dataset\\\\cloudy213.jpg',\n",
       " 'D:\\\\AIoT-深度学习视频版\\\\深度学习基础\\\\day56_dropout和bn\\\\代码\\\\dataset\\\\cloudy214.jpg',\n",
       " 'D:\\\\AIoT-深度学习视频版\\\\深度学习基础\\\\day56_dropout和bn\\\\代码\\\\dataset\\\\cloudy215.jpg',\n",
       " 'D:\\\\AIoT-深度学习视频版\\\\深度学习基础\\\\day56_dropout和bn\\\\代码\\\\dataset\\\\cloudy216.jpg',\n",
       " 'D:\\\\AIoT-深度学习视频版\\\\深度学习基础\\\\day56_dropout和bn\\\\代码\\\\dataset\\\\cloudy217.jpg',\n",
       " 'D:\\\\AIoT-深度学习视频版\\\\深度学习基础\\\\day56_dropout和bn\\\\代码\\\\dataset\\\\cloudy218.jpg',\n",
       " 'D:\\\\AIoT-深度学习视频版\\\\深度学习基础\\\\day56_dropout和bn\\\\代码\\\\dataset\\\\cloudy219.jpg',\n",
       " 'D:\\\\AIoT-深度学习视频版\\\\深度学习基础\\\\day56_dropout和bn\\\\代码\\\\dataset\\\\cloudy22.jpg',\n",
       " 'D:\\\\AIoT-深度学习视频版\\\\深度学习基础\\\\day56_dropout和bn\\\\代码\\\\dataset\\\\cloudy220.jpg',\n",
       " 'D:\\\\AIoT-深度学习视频版\\\\深度学习基础\\\\day56_dropout和bn\\\\代码\\\\dataset\\\\cloudy221.jpg',\n",
       " 'D:\\\\AIoT-深度学习视频版\\\\深度学习基础\\\\day56_dropout和bn\\\\代码\\\\dataset\\\\cloudy222.jpg',\n",
       " 'D:\\\\AIoT-深度学习视频版\\\\深度学习基础\\\\day56_dropout和bn\\\\代码\\\\dataset\\\\cloudy223.jpg',\n",
       " 'D:\\\\AIoT-深度学习视频版\\\\深度学习基础\\\\day56_dropout和bn\\\\代码\\\\dataset\\\\cloudy224.jpg',\n",
       " 'D:\\\\AIoT-深度学习视频版\\\\深度学习基础\\\\day56_dropout和bn\\\\代码\\\\dataset\\\\cloudy225.jpg',\n",
       " 'D:\\\\AIoT-深度学习视频版\\\\深度学习基础\\\\day56_dropout和bn\\\\代码\\\\dataset\\\\cloudy226.jpg',\n",
       " 'D:\\\\AIoT-深度学习视频版\\\\深度学习基础\\\\day56_dropout和bn\\\\代码\\\\dataset\\\\cloudy227.jpg',\n",
       " 'D:\\\\AIoT-深度学习视频版\\\\深度学习基础\\\\day56_dropout和bn\\\\代码\\\\dataset\\\\cloudy228.jpg',\n",
       " 'D:\\\\AIoT-深度学习视频版\\\\深度学习基础\\\\day56_dropout和bn\\\\代码\\\\dataset\\\\cloudy229.jpg',\n",
       " 'D:\\\\AIoT-深度学习视频版\\\\深度学习基础\\\\day56_dropout和bn\\\\代码\\\\dataset\\\\cloudy23.jpg',\n",
       " 'D:\\\\AIoT-深度学习视频版\\\\深度学习基础\\\\day56_dropout和bn\\\\代码\\\\dataset\\\\cloudy230.jpg',\n",
       " 'D:\\\\AIoT-深度学习视频版\\\\深度学习基础\\\\day56_dropout和bn\\\\代码\\\\dataset\\\\cloudy231.jpg',\n",
       " 'D:\\\\AIoT-深度学习视频版\\\\深度学习基础\\\\day56_dropout和bn\\\\代码\\\\dataset\\\\cloudy232.jpg',\n",
       " 'D:\\\\AIoT-深度学习视频版\\\\深度学习基础\\\\day56_dropout和bn\\\\代码\\\\dataset\\\\cloudy233.jpg',\n",
       " 'D:\\\\AIoT-深度学习视频版\\\\深度学习基础\\\\day56_dropout和bn\\\\代码\\\\dataset\\\\cloudy234.jpg',\n",
       " 'D:\\\\AIoT-深度学习视频版\\\\深度学习基础\\\\day56_dropout和bn\\\\代码\\\\dataset\\\\cloudy235.jpg',\n",
       " 'D:\\\\AIoT-深度学习视频版\\\\深度学习基础\\\\day56_dropout和bn\\\\代码\\\\dataset\\\\cloudy236.jpg',\n",
       " 'D:\\\\AIoT-深度学习视频版\\\\深度学习基础\\\\day56_dropout和bn\\\\代码\\\\dataset\\\\cloudy237.jpg',\n",
       " 'D:\\\\AIoT-深度学习视频版\\\\深度学习基础\\\\day56_dropout和bn\\\\代码\\\\dataset\\\\cloudy238.jpg',\n",
       " 'D:\\\\AIoT-深度学习视频版\\\\深度学习基础\\\\day56_dropout和bn\\\\代码\\\\dataset\\\\cloudy239.jpg',\n",
       " 'D:\\\\AIoT-深度学习视频版\\\\深度学习基础\\\\day56_dropout和bn\\\\代码\\\\dataset\\\\cloudy24.jpg',\n",
       " 'D:\\\\AIoT-深度学习视频版\\\\深度学习基础\\\\day56_dropout和bn\\\\代码\\\\dataset\\\\cloudy240.jpg',\n",
       " 'D:\\\\AIoT-深度学习视频版\\\\深度学习基础\\\\day56_dropout和bn\\\\代码\\\\dataset\\\\cloudy241.jpg',\n",
       " 'D:\\\\AIoT-深度学习视频版\\\\深度学习基础\\\\day56_dropout和bn\\\\代码\\\\dataset\\\\cloudy242.jpg',\n",
       " 'D:\\\\AIoT-深度学习视频版\\\\深度学习基础\\\\day56_dropout和bn\\\\代码\\\\dataset\\\\cloudy243.jpg',\n",
       " 'D:\\\\AIoT-深度学习视频版\\\\深度学习基础\\\\day56_dropout和bn\\\\代码\\\\dataset\\\\cloudy244.jpg',\n",
       " 'D:\\\\AIoT-深度学习视频版\\\\深度学习基础\\\\day56_dropout和bn\\\\代码\\\\dataset\\\\cloudy245.jpg',\n",
       " 'D:\\\\AIoT-深度学习视频版\\\\深度学习基础\\\\day56_dropout和bn\\\\代码\\\\dataset\\\\cloudy246.jpg',\n",
       " 'D:\\\\AIoT-深度学习视频版\\\\深度学习基础\\\\day56_dropout和bn\\\\代码\\\\dataset\\\\cloudy247.jpg',\n",
       " 'D:\\\\AIoT-深度学习视频版\\\\深度学习基础\\\\day56_dropout和bn\\\\代码\\\\dataset\\\\cloudy248.jpg',\n",
       " 'D:\\\\AIoT-深度学习视频版\\\\深度学习基础\\\\day56_dropout和bn\\\\代码\\\\dataset\\\\cloudy249.jpg',\n",
       " 'D:\\\\AIoT-深度学习视频版\\\\深度学习基础\\\\day56_dropout和bn\\\\代码\\\\dataset\\\\cloudy25.jpg',\n",
       " 'D:\\\\AIoT-深度学习视频版\\\\深度学习基础\\\\day56_dropout和bn\\\\代码\\\\dataset\\\\cloudy250.jpg',\n",
       " 'D:\\\\AIoT-深度学习视频版\\\\深度学习基础\\\\day56_dropout和bn\\\\代码\\\\dataset\\\\cloudy251.jpg',\n",
       " 'D:\\\\AIoT-深度学习视频版\\\\深度学习基础\\\\day56_dropout和bn\\\\代码\\\\dataset\\\\cloudy252.jpg',\n",
       " 'D:\\\\AIoT-深度学习视频版\\\\深度学习基础\\\\day56_dropout和bn\\\\代码\\\\dataset\\\\cloudy253.jpg',\n",
       " 'D:\\\\AIoT-深度学习视频版\\\\深度学习基础\\\\day56_dropout和bn\\\\代码\\\\dataset\\\\cloudy254.jpg',\n",
       " 'D:\\\\AIoT-深度学习视频版\\\\深度学习基础\\\\day56_dropout和bn\\\\代码\\\\dataset\\\\cloudy255.jpg',\n",
       " 'D:\\\\AIoT-深度学习视频版\\\\深度学习基础\\\\day56_dropout和bn\\\\代码\\\\dataset\\\\cloudy256.jpg',\n",
       " 'D:\\\\AIoT-深度学习视频版\\\\深度学习基础\\\\day56_dropout和bn\\\\代码\\\\dataset\\\\cloudy257.jpg',\n",
       " 'D:\\\\AIoT-深度学习视频版\\\\深度学习基础\\\\day56_dropout和bn\\\\代码\\\\dataset\\\\cloudy258.jpg',\n",
       " 'D:\\\\AIoT-深度学习视频版\\\\深度学习基础\\\\day56_dropout和bn\\\\代码\\\\dataset\\\\cloudy259.jpg',\n",
       " 'D:\\\\AIoT-深度学习视频版\\\\深度学习基础\\\\day56_dropout和bn\\\\代码\\\\dataset\\\\cloudy26.jpg',\n",
       " 'D:\\\\AIoT-深度学习视频版\\\\深度学习基础\\\\day56_dropout和bn\\\\代码\\\\dataset\\\\cloudy260.jpg',\n",
       " 'D:\\\\AIoT-深度学习视频版\\\\深度学习基础\\\\day56_dropout和bn\\\\代码\\\\dataset\\\\cloudy261.jpg',\n",
       " 'D:\\\\AIoT-深度学习视频版\\\\深度学习基础\\\\day56_dropout和bn\\\\代码\\\\dataset\\\\cloudy262.jpg',\n",
       " 'D:\\\\AIoT-深度学习视频版\\\\深度学习基础\\\\day56_dropout和bn\\\\代码\\\\dataset\\\\cloudy263.jpg',\n",
       " 'D:\\\\AIoT-深度学习视频版\\\\深度学习基础\\\\day56_dropout和bn\\\\代码\\\\dataset\\\\cloudy264.jpg',\n",
       " 'D:\\\\AIoT-深度学习视频版\\\\深度学习基础\\\\day56_dropout和bn\\\\代码\\\\dataset\\\\cloudy265.jpg',\n",
       " 'D:\\\\AIoT-深度学习视频版\\\\深度学习基础\\\\day56_dropout和bn\\\\代码\\\\dataset\\\\cloudy266.jpg',\n",
       " 'D:\\\\AIoT-深度学习视频版\\\\深度学习基础\\\\day56_dropout和bn\\\\代码\\\\dataset\\\\cloudy267.jpg',\n",
       " 'D:\\\\AIoT-深度学习视频版\\\\深度学习基础\\\\day56_dropout和bn\\\\代码\\\\dataset\\\\cloudy268.jpg',\n",
       " 'D:\\\\AIoT-深度学习视频版\\\\深度学习基础\\\\day56_dropout和bn\\\\代码\\\\dataset\\\\cloudy269.jpg',\n",
       " 'D:\\\\AIoT-深度学习视频版\\\\深度学习基础\\\\day56_dropout和bn\\\\代码\\\\dataset\\\\cloudy27.jpg',\n",
       " 'D:\\\\AIoT-深度学习视频版\\\\深度学习基础\\\\day56_dropout和bn\\\\代码\\\\dataset\\\\cloudy270.jpg',\n",
       " 'D:\\\\AIoT-深度学习视频版\\\\深度学习基础\\\\day56_dropout和bn\\\\代码\\\\dataset\\\\cloudy271.jpg',\n",
       " 'D:\\\\AIoT-深度学习视频版\\\\深度学习基础\\\\day56_dropout和bn\\\\代码\\\\dataset\\\\cloudy272.jpg',\n",
       " 'D:\\\\AIoT-深度学习视频版\\\\深度学习基础\\\\day56_dropout和bn\\\\代码\\\\dataset\\\\cloudy273.jpg',\n",
       " 'D:\\\\AIoT-深度学习视频版\\\\深度学习基础\\\\day56_dropout和bn\\\\代码\\\\dataset\\\\cloudy274.jpg',\n",
       " 'D:\\\\AIoT-深度学习视频版\\\\深度学习基础\\\\day56_dropout和bn\\\\代码\\\\dataset\\\\cloudy275.jpg',\n",
       " 'D:\\\\AIoT-深度学习视频版\\\\深度学习基础\\\\day56_dropout和bn\\\\代码\\\\dataset\\\\cloudy276.jpg',\n",
       " 'D:\\\\AIoT-深度学习视频版\\\\深度学习基础\\\\day56_dropout和bn\\\\代码\\\\dataset\\\\cloudy277.jpg',\n",
       " 'D:\\\\AIoT-深度学习视频版\\\\深度学习基础\\\\day56_dropout和bn\\\\代码\\\\dataset\\\\cloudy278.jpg',\n",
       " 'D:\\\\AIoT-深度学习视频版\\\\深度学习基础\\\\day56_dropout和bn\\\\代码\\\\dataset\\\\cloudy279.jpg',\n",
       " 'D:\\\\AIoT-深度学习视频版\\\\深度学习基础\\\\day56_dropout和bn\\\\代码\\\\dataset\\\\cloudy28.jpg',\n",
       " 'D:\\\\AIoT-深度学习视频版\\\\深度学习基础\\\\day56_dropout和bn\\\\代码\\\\dataset\\\\cloudy280.jpg',\n",
       " 'D:\\\\AIoT-深度学习视频版\\\\深度学习基础\\\\day56_dropout和bn\\\\代码\\\\dataset\\\\cloudy281.jpg',\n",
       " 'D:\\\\AIoT-深度学习视频版\\\\深度学习基础\\\\day56_dropout和bn\\\\代码\\\\dataset\\\\cloudy282.jpg',\n",
       " 'D:\\\\AIoT-深度学习视频版\\\\深度学习基础\\\\day56_dropout和bn\\\\代码\\\\dataset\\\\cloudy283.jpg',\n",
       " 'D:\\\\AIoT-深度学习视频版\\\\深度学习基础\\\\day56_dropout和bn\\\\代码\\\\dataset\\\\cloudy284.jpg',\n",
       " 'D:\\\\AIoT-深度学习视频版\\\\深度学习基础\\\\day56_dropout和bn\\\\代码\\\\dataset\\\\cloudy285.jpg',\n",
       " 'D:\\\\AIoT-深度学习视频版\\\\深度学习基础\\\\day56_dropout和bn\\\\代码\\\\dataset\\\\cloudy286.jpg',\n",
       " 'D:\\\\AIoT-深度学习视频版\\\\深度学习基础\\\\day56_dropout和bn\\\\代码\\\\dataset\\\\cloudy287.jpg',\n",
       " 'D:\\\\AIoT-深度学习视频版\\\\深度学习基础\\\\day56_dropout和bn\\\\代码\\\\dataset\\\\cloudy288.jpg',\n",
       " 'D:\\\\AIoT-深度学习视频版\\\\深度学习基础\\\\day56_dropout和bn\\\\代码\\\\dataset\\\\cloudy289.jpg',\n",
       " 'D:\\\\AIoT-深度学习视频版\\\\深度学习基础\\\\day56_dropout和bn\\\\代码\\\\dataset\\\\cloudy29.jpg',\n",
       " 'D:\\\\AIoT-深度学习视频版\\\\深度学习基础\\\\day56_dropout和bn\\\\代码\\\\dataset\\\\cloudy290.jpg',\n",
       " 'D:\\\\AIoT-深度学习视频版\\\\深度学习基础\\\\day56_dropout和bn\\\\代码\\\\dataset\\\\cloudy291.jpg',\n",
       " 'D:\\\\AIoT-深度学习视频版\\\\深度学习基础\\\\day56_dropout和bn\\\\代码\\\\dataset\\\\cloudy292.jpg',\n",
       " 'D:\\\\AIoT-深度学习视频版\\\\深度学习基础\\\\day56_dropout和bn\\\\代码\\\\dataset\\\\cloudy293.jpg',\n",
       " 'D:\\\\AIoT-深度学习视频版\\\\深度学习基础\\\\day56_dropout和bn\\\\代码\\\\dataset\\\\cloudy294.jpg',\n",
       " 'D:\\\\AIoT-深度学习视频版\\\\深度学习基础\\\\day56_dropout和bn\\\\代码\\\\dataset\\\\cloudy295.jpg',\n",
       " 'D:\\\\AIoT-深度学习视频版\\\\深度学习基础\\\\day56_dropout和bn\\\\代码\\\\dataset\\\\cloudy296.jpg',\n",
       " 'D:\\\\AIoT-深度学习视频版\\\\深度学习基础\\\\day56_dropout和bn\\\\代码\\\\dataset\\\\cloudy297.jpg',\n",
       " 'D:\\\\AIoT-深度学习视频版\\\\深度学习基础\\\\day56_dropout和bn\\\\代码\\\\dataset\\\\cloudy298.jpg',\n",
       " 'D:\\\\AIoT-深度学习视频版\\\\深度学习基础\\\\day56_dropout和bn\\\\代码\\\\dataset\\\\cloudy299.jpg',\n",
       " 'D:\\\\AIoT-深度学习视频版\\\\深度学习基础\\\\day56_dropout和bn\\\\代码\\\\dataset\\\\cloudy3.jpg',\n",
       " 'D:\\\\AIoT-深度学习视频版\\\\深度学习基础\\\\day56_dropout和bn\\\\代码\\\\dataset\\\\cloudy30.jpg',\n",
       " 'D:\\\\AIoT-深度学习视频版\\\\深度学习基础\\\\day56_dropout和bn\\\\代码\\\\dataset\\\\cloudy300.jpg',\n",
       " 'D:\\\\AIoT-深度学习视频版\\\\深度学习基础\\\\day56_dropout和bn\\\\代码\\\\dataset\\\\cloudy31.jpg',\n",
       " 'D:\\\\AIoT-深度学习视频版\\\\深度学习基础\\\\day56_dropout和bn\\\\代码\\\\dataset\\\\cloudy32.jpg',\n",
       " 'D:\\\\AIoT-深度学习视频版\\\\深度学习基础\\\\day56_dropout和bn\\\\代码\\\\dataset\\\\cloudy33.jpg',\n",
       " 'D:\\\\AIoT-深度学习视频版\\\\深度学习基础\\\\day56_dropout和bn\\\\代码\\\\dataset\\\\cloudy34.jpg',\n",
       " 'D:\\\\AIoT-深度学习视频版\\\\深度学习基础\\\\day56_dropout和bn\\\\代码\\\\dataset\\\\cloudy35.jpg',\n",
       " 'D:\\\\AIoT-深度学习视频版\\\\深度学习基础\\\\day56_dropout和bn\\\\代码\\\\dataset\\\\cloudy36.jpg',\n",
       " 'D:\\\\AIoT-深度学习视频版\\\\深度学习基础\\\\day56_dropout和bn\\\\代码\\\\dataset\\\\cloudy37.jpg',\n",
       " 'D:\\\\AIoT-深度学习视频版\\\\深度学习基础\\\\day56_dropout和bn\\\\代码\\\\dataset\\\\cloudy38.jpg',\n",
       " 'D:\\\\AIoT-深度学习视频版\\\\深度学习基础\\\\day56_dropout和bn\\\\代码\\\\dataset\\\\cloudy39.jpg',\n",
       " 'D:\\\\AIoT-深度学习视频版\\\\深度学习基础\\\\day56_dropout和bn\\\\代码\\\\dataset\\\\cloudy4.jpg',\n",
       " 'D:\\\\AIoT-深度学习视频版\\\\深度学习基础\\\\day56_dropout和bn\\\\代码\\\\dataset\\\\cloudy40.jpg',\n",
       " 'D:\\\\AIoT-深度学习视频版\\\\深度学习基础\\\\day56_dropout和bn\\\\代码\\\\dataset\\\\cloudy41.jpg',\n",
       " 'D:\\\\AIoT-深度学习视频版\\\\深度学习基础\\\\day56_dropout和bn\\\\代码\\\\dataset\\\\cloudy42.jpg',\n",
       " 'D:\\\\AIoT-深度学习视频版\\\\深度学习基础\\\\day56_dropout和bn\\\\代码\\\\dataset\\\\cloudy43.jpg',\n",
       " 'D:\\\\AIoT-深度学习视频版\\\\深度学习基础\\\\day56_dropout和bn\\\\代码\\\\dataset\\\\cloudy44.jpg',\n",
       " 'D:\\\\AIoT-深度学习视频版\\\\深度学习基础\\\\day56_dropout和bn\\\\代码\\\\dataset\\\\cloudy45.jpg',\n",
       " 'D:\\\\AIoT-深度学习视频版\\\\深度学习基础\\\\day56_dropout和bn\\\\代码\\\\dataset\\\\cloudy46.jpg',\n",
       " 'D:\\\\AIoT-深度学习视频版\\\\深度学习基础\\\\day56_dropout和bn\\\\代码\\\\dataset\\\\cloudy47.jpg',\n",
       " 'D:\\\\AIoT-深度学习视频版\\\\深度学习基础\\\\day56_dropout和bn\\\\代码\\\\dataset\\\\cloudy48.jpg',\n",
       " 'D:\\\\AIoT-深度学习视频版\\\\深度学习基础\\\\day56_dropout和bn\\\\代码\\\\dataset\\\\cloudy49.jpg',\n",
       " 'D:\\\\AIoT-深度学习视频版\\\\深度学习基础\\\\day56_dropout和bn\\\\代码\\\\dataset\\\\cloudy5.jpg',\n",
       " 'D:\\\\AIoT-深度学习视频版\\\\深度学习基础\\\\day56_dropout和bn\\\\代码\\\\dataset\\\\cloudy50.jpg',\n",
       " 'D:\\\\AIoT-深度学习视频版\\\\深度学习基础\\\\day56_dropout和bn\\\\代码\\\\dataset\\\\cloudy51.jpg',\n",
       " 'D:\\\\AIoT-深度学习视频版\\\\深度学习基础\\\\day56_dropout和bn\\\\代码\\\\dataset\\\\cloudy52.jpg',\n",
       " 'D:\\\\AIoT-深度学习视频版\\\\深度学习基础\\\\day56_dropout和bn\\\\代码\\\\dataset\\\\cloudy53.jpg',\n",
       " 'D:\\\\AIoT-深度学习视频版\\\\深度学习基础\\\\day56_dropout和bn\\\\代码\\\\dataset\\\\cloudy54.jpg',\n",
       " 'D:\\\\AIoT-深度学习视频版\\\\深度学习基础\\\\day56_dropout和bn\\\\代码\\\\dataset\\\\cloudy55.jpg',\n",
       " 'D:\\\\AIoT-深度学习视频版\\\\深度学习基础\\\\day56_dropout和bn\\\\代码\\\\dataset\\\\cloudy56.jpg',\n",
       " 'D:\\\\AIoT-深度学习视频版\\\\深度学习基础\\\\day56_dropout和bn\\\\代码\\\\dataset\\\\cloudy57.jpg',\n",
       " 'D:\\\\AIoT-深度学习视频版\\\\深度学习基础\\\\day56_dropout和bn\\\\代码\\\\dataset\\\\cloudy58.jpg',\n",
       " 'D:\\\\AIoT-深度学习视频版\\\\深度学习基础\\\\day56_dropout和bn\\\\代码\\\\dataset\\\\cloudy59.jpg',\n",
       " 'D:\\\\AIoT-深度学习视频版\\\\深度学习基础\\\\day56_dropout和bn\\\\代码\\\\dataset\\\\cloudy6.jpg',\n",
       " 'D:\\\\AIoT-深度学习视频版\\\\深度学习基础\\\\day56_dropout和bn\\\\代码\\\\dataset\\\\cloudy60.jpg',\n",
       " 'D:\\\\AIoT-深度学习视频版\\\\深度学习基础\\\\day56_dropout和bn\\\\代码\\\\dataset\\\\cloudy61.jpg',\n",
       " 'D:\\\\AIoT-深度学习视频版\\\\深度学习基础\\\\day56_dropout和bn\\\\代码\\\\dataset\\\\cloudy62.jpg',\n",
       " 'D:\\\\AIoT-深度学习视频版\\\\深度学习基础\\\\day56_dropout和bn\\\\代码\\\\dataset\\\\cloudy63.jpg',\n",
       " 'D:\\\\AIoT-深度学习视频版\\\\深度学习基础\\\\day56_dropout和bn\\\\代码\\\\dataset\\\\cloudy64.jpg',\n",
       " 'D:\\\\AIoT-深度学习视频版\\\\深度学习基础\\\\day56_dropout和bn\\\\代码\\\\dataset\\\\cloudy65.jpg',\n",
       " 'D:\\\\AIoT-深度学习视频版\\\\深度学习基础\\\\day56_dropout和bn\\\\代码\\\\dataset\\\\cloudy66.jpg',\n",
       " 'D:\\\\AIoT-深度学习视频版\\\\深度学习基础\\\\day56_dropout和bn\\\\代码\\\\dataset\\\\cloudy67.jpg',\n",
       " 'D:\\\\AIoT-深度学习视频版\\\\深度学习基础\\\\day56_dropout和bn\\\\代码\\\\dataset\\\\cloudy68.jpg',\n",
       " 'D:\\\\AIoT-深度学习视频版\\\\深度学习基础\\\\day56_dropout和bn\\\\代码\\\\dataset\\\\cloudy69.jpg',\n",
       " 'D:\\\\AIoT-深度学习视频版\\\\深度学习基础\\\\day56_dropout和bn\\\\代码\\\\dataset\\\\cloudy7.jpg',\n",
       " 'D:\\\\AIoT-深度学习视频版\\\\深度学习基础\\\\day56_dropout和bn\\\\代码\\\\dataset\\\\cloudy70.jpg',\n",
       " 'D:\\\\AIoT-深度学习视频版\\\\深度学习基础\\\\day56_dropout和bn\\\\代码\\\\dataset\\\\cloudy71.jpg',\n",
       " 'D:\\\\AIoT-深度学习视频版\\\\深度学习基础\\\\day56_dropout和bn\\\\代码\\\\dataset\\\\cloudy72.jpg',\n",
       " 'D:\\\\AIoT-深度学习视频版\\\\深度学习基础\\\\day56_dropout和bn\\\\代码\\\\dataset\\\\cloudy73.jpg',\n",
       " 'D:\\\\AIoT-深度学习视频版\\\\深度学习基础\\\\day56_dropout和bn\\\\代码\\\\dataset\\\\cloudy74.jpg',\n",
       " 'D:\\\\AIoT-深度学习视频版\\\\深度学习基础\\\\day56_dropout和bn\\\\代码\\\\dataset\\\\cloudy75.jpg',\n",
       " 'D:\\\\AIoT-深度学习视频版\\\\深度学习基础\\\\day56_dropout和bn\\\\代码\\\\dataset\\\\cloudy76.jpg',\n",
       " 'D:\\\\AIoT-深度学习视频版\\\\深度学习基础\\\\day56_dropout和bn\\\\代码\\\\dataset\\\\cloudy77.jpg',\n",
       " 'D:\\\\AIoT-深度学习视频版\\\\深度学习基础\\\\day56_dropout和bn\\\\代码\\\\dataset\\\\cloudy78.jpg',\n",
       " 'D:\\\\AIoT-深度学习视频版\\\\深度学习基础\\\\day56_dropout和bn\\\\代码\\\\dataset\\\\cloudy79.jpg',\n",
       " 'D:\\\\AIoT-深度学习视频版\\\\深度学习基础\\\\day56_dropout和bn\\\\代码\\\\dataset\\\\cloudy8.jpg',\n",
       " 'D:\\\\AIoT-深度学习视频版\\\\深度学习基础\\\\day56_dropout和bn\\\\代码\\\\dataset\\\\cloudy80.jpg',\n",
       " 'D:\\\\AIoT-深度学习视频版\\\\深度学习基础\\\\day56_dropout和bn\\\\代码\\\\dataset\\\\cloudy81.jpg',\n",
       " 'D:\\\\AIoT-深度学习视频版\\\\深度学习基础\\\\day56_dropout和bn\\\\代码\\\\dataset\\\\cloudy82.jpg',\n",
       " 'D:\\\\AIoT-深度学习视频版\\\\深度学习基础\\\\day56_dropout和bn\\\\代码\\\\dataset\\\\cloudy83.jpg',\n",
       " 'D:\\\\AIoT-深度学习视频版\\\\深度学习基础\\\\day56_dropout和bn\\\\代码\\\\dataset\\\\cloudy84.jpg',\n",
       " 'D:\\\\AIoT-深度学习视频版\\\\深度学习基础\\\\day56_dropout和bn\\\\代码\\\\dataset\\\\cloudy85.jpg',\n",
       " 'D:\\\\AIoT-深度学习视频版\\\\深度学习基础\\\\day56_dropout和bn\\\\代码\\\\dataset\\\\cloudy86.jpg',\n",
       " 'D:\\\\AIoT-深度学习视频版\\\\深度学习基础\\\\day56_dropout和bn\\\\代码\\\\dataset\\\\cloudy87.jpg',\n",
       " 'D:\\\\AIoT-深度学习视频版\\\\深度学习基础\\\\day56_dropout和bn\\\\代码\\\\dataset\\\\cloudy88.jpg',\n",
       " 'D:\\\\AIoT-深度学习视频版\\\\深度学习基础\\\\day56_dropout和bn\\\\代码\\\\dataset\\\\cloudy89.jpg',\n",
       " 'D:\\\\AIoT-深度学习视频版\\\\深度学习基础\\\\day56_dropout和bn\\\\代码\\\\dataset\\\\cloudy9.jpg',\n",
       " 'D:\\\\AIoT-深度学习视频版\\\\深度学习基础\\\\day56_dropout和bn\\\\代码\\\\dataset\\\\cloudy90.jpg',\n",
       " 'D:\\\\AIoT-深度学习视频版\\\\深度学习基础\\\\day56_dropout和bn\\\\代码\\\\dataset\\\\cloudy91.jpg',\n",
       " 'D:\\\\AIoT-深度学习视频版\\\\深度学习基础\\\\day56_dropout和bn\\\\代码\\\\dataset\\\\cloudy92.jpg',\n",
       " 'D:\\\\AIoT-深度学习视频版\\\\深度学习基础\\\\day56_dropout和bn\\\\代码\\\\dataset\\\\cloudy93.jpg',\n",
       " 'D:\\\\AIoT-深度学习视频版\\\\深度学习基础\\\\day56_dropout和bn\\\\代码\\\\dataset\\\\cloudy94.jpg',\n",
       " 'D:\\\\AIoT-深度学习视频版\\\\深度学习基础\\\\day56_dropout和bn\\\\代码\\\\dataset\\\\cloudy95.jpg',\n",
       " 'D:\\\\AIoT-深度学习视频版\\\\深度学习基础\\\\day56_dropout和bn\\\\代码\\\\dataset\\\\cloudy96.jpg',\n",
       " 'D:\\\\AIoT-深度学习视频版\\\\深度学习基础\\\\day56_dropout和bn\\\\代码\\\\dataset\\\\cloudy97.jpg',\n",
       " 'D:\\\\AIoT-深度学习视频版\\\\深度学习基础\\\\day56_dropout和bn\\\\代码\\\\dataset\\\\cloudy98.jpg',\n",
       " 'D:\\\\AIoT-深度学习视频版\\\\深度学习基础\\\\day56_dropout和bn\\\\代码\\\\dataset\\\\cloudy99.jpg',\n",
       " 'D:\\\\AIoT-深度学习视频版\\\\深度学习基础\\\\day56_dropout和bn\\\\代码\\\\dataset\\\\rain1.jpg',\n",
       " 'D:\\\\AIoT-深度学习视频版\\\\深度学习基础\\\\day56_dropout和bn\\\\代码\\\\dataset\\\\rain10.jpg',\n",
       " 'D:\\\\AIoT-深度学习视频版\\\\深度学习基础\\\\day56_dropout和bn\\\\代码\\\\dataset\\\\rain100.jpg',\n",
       " 'D:\\\\AIoT-深度学习视频版\\\\深度学习基础\\\\day56_dropout和bn\\\\代码\\\\dataset\\\\rain101.jpg',\n",
       " 'D:\\\\AIoT-深度学习视频版\\\\深度学习基础\\\\day56_dropout和bn\\\\代码\\\\dataset\\\\rain102.jpg',\n",
       " 'D:\\\\AIoT-深度学习视频版\\\\深度学习基础\\\\day56_dropout和bn\\\\代码\\\\dataset\\\\rain103.jpg',\n",
       " 'D:\\\\AIoT-深度学习视频版\\\\深度学习基础\\\\day56_dropout和bn\\\\代码\\\\dataset\\\\rain104.jpg',\n",
       " 'D:\\\\AIoT-深度学习视频版\\\\深度学习基础\\\\day56_dropout和bn\\\\代码\\\\dataset\\\\rain105.jpg',\n",
       " 'D:\\\\AIoT-深度学习视频版\\\\深度学习基础\\\\day56_dropout和bn\\\\代码\\\\dataset\\\\rain106.jpg',\n",
       " 'D:\\\\AIoT-深度学习视频版\\\\深度学习基础\\\\day56_dropout和bn\\\\代码\\\\dataset\\\\rain107.jpg',\n",
       " 'D:\\\\AIoT-深度学习视频版\\\\深度学习基础\\\\day56_dropout和bn\\\\代码\\\\dataset\\\\rain108.jpg',\n",
       " 'D:\\\\AIoT-深度学习视频版\\\\深度学习基础\\\\day56_dropout和bn\\\\代码\\\\dataset\\\\rain109.jpg',\n",
       " 'D:\\\\AIoT-深度学习视频版\\\\深度学习基础\\\\day56_dropout和bn\\\\代码\\\\dataset\\\\rain11.jpg',\n",
       " 'D:\\\\AIoT-深度学习视频版\\\\深度学习基础\\\\day56_dropout和bn\\\\代码\\\\dataset\\\\rain110.jpg',\n",
       " 'D:\\\\AIoT-深度学习视频版\\\\深度学习基础\\\\day56_dropout和bn\\\\代码\\\\dataset\\\\rain111.jpg',\n",
       " 'D:\\\\AIoT-深度学习视频版\\\\深度学习基础\\\\day56_dropout和bn\\\\代码\\\\dataset\\\\rain112.jpg',\n",
       " 'D:\\\\AIoT-深度学习视频版\\\\深度学习基础\\\\day56_dropout和bn\\\\代码\\\\dataset\\\\rain113.jpg',\n",
       " 'D:\\\\AIoT-深度学习视频版\\\\深度学习基础\\\\day56_dropout和bn\\\\代码\\\\dataset\\\\rain114.jpg',\n",
       " 'D:\\\\AIoT-深度学习视频版\\\\深度学习基础\\\\day56_dropout和bn\\\\代码\\\\dataset\\\\rain115.jpg',\n",
       " 'D:\\\\AIoT-深度学习视频版\\\\深度学习基础\\\\day56_dropout和bn\\\\代码\\\\dataset\\\\rain116.jpg',\n",
       " 'D:\\\\AIoT-深度学习视频版\\\\深度学习基础\\\\day56_dropout和bn\\\\代码\\\\dataset\\\\rain117.jpg',\n",
       " 'D:\\\\AIoT-深度学习视频版\\\\深度学习基础\\\\day56_dropout和bn\\\\代码\\\\dataset\\\\rain118.jpg',\n",
       " 'D:\\\\AIoT-深度学习视频版\\\\深度学习基础\\\\day56_dropout和bn\\\\代码\\\\dataset\\\\rain119.jpg',\n",
       " 'D:\\\\AIoT-深度学习视频版\\\\深度学习基础\\\\day56_dropout和bn\\\\代码\\\\dataset\\\\rain12.jpg',\n",
       " 'D:\\\\AIoT-深度学习视频版\\\\深度学习基础\\\\day56_dropout和bn\\\\代码\\\\dataset\\\\rain120.jpg',\n",
       " 'D:\\\\AIoT-深度学习视频版\\\\深度学习基础\\\\day56_dropout和bn\\\\代码\\\\dataset\\\\rain121.jpg',\n",
       " 'D:\\\\AIoT-深度学习视频版\\\\深度学习基础\\\\day56_dropout和bn\\\\代码\\\\dataset\\\\rain122.jpg',\n",
       " 'D:\\\\AIoT-深度学习视频版\\\\深度学习基础\\\\day56_dropout和bn\\\\代码\\\\dataset\\\\rain123.jpg',\n",
       " 'D:\\\\AIoT-深度学习视频版\\\\深度学习基础\\\\day56_dropout和bn\\\\代码\\\\dataset\\\\rain124.jpg',\n",
       " 'D:\\\\AIoT-深度学习视频版\\\\深度学习基础\\\\day56_dropout和bn\\\\代码\\\\dataset\\\\rain125.jpg',\n",
       " 'D:\\\\AIoT-深度学习视频版\\\\深度学习基础\\\\day56_dropout和bn\\\\代码\\\\dataset\\\\rain126.jpg',\n",
       " 'D:\\\\AIoT-深度学习视频版\\\\深度学习基础\\\\day56_dropout和bn\\\\代码\\\\dataset\\\\rain127.jpg',\n",
       " 'D:\\\\AIoT-深度学习视频版\\\\深度学习基础\\\\day56_dropout和bn\\\\代码\\\\dataset\\\\rain128.jpg',\n",
       " 'D:\\\\AIoT-深度学习视频版\\\\深度学习基础\\\\day56_dropout和bn\\\\代码\\\\dataset\\\\rain129.jpg',\n",
       " 'D:\\\\AIoT-深度学习视频版\\\\深度学习基础\\\\day56_dropout和bn\\\\代码\\\\dataset\\\\rain13.jpg',\n",
       " 'D:\\\\AIoT-深度学习视频版\\\\深度学习基础\\\\day56_dropout和bn\\\\代码\\\\dataset\\\\rain130.jpg',\n",
       " 'D:\\\\AIoT-深度学习视频版\\\\深度学习基础\\\\day56_dropout和bn\\\\代码\\\\dataset\\\\rain131.jpg',\n",
       " 'D:\\\\AIoT-深度学习视频版\\\\深度学习基础\\\\day56_dropout和bn\\\\代码\\\\dataset\\\\rain132.jpg',\n",
       " 'D:\\\\AIoT-深度学习视频版\\\\深度学习基础\\\\day56_dropout和bn\\\\代码\\\\dataset\\\\rain133.jpg',\n",
       " 'D:\\\\AIoT-深度学习视频版\\\\深度学习基础\\\\day56_dropout和bn\\\\代码\\\\dataset\\\\rain134.jpg',\n",
       " 'D:\\\\AIoT-深度学习视频版\\\\深度学习基础\\\\day56_dropout和bn\\\\代码\\\\dataset\\\\rain135.jpg',\n",
       " 'D:\\\\AIoT-深度学习视频版\\\\深度学习基础\\\\day56_dropout和bn\\\\代码\\\\dataset\\\\rain136.jpg',\n",
       " 'D:\\\\AIoT-深度学习视频版\\\\深度学习基础\\\\day56_dropout和bn\\\\代码\\\\dataset\\\\rain137.jpg',\n",
       " 'D:\\\\AIoT-深度学习视频版\\\\深度学习基础\\\\day56_dropout和bn\\\\代码\\\\dataset\\\\rain138.jpg',\n",
       " 'D:\\\\AIoT-深度学习视频版\\\\深度学习基础\\\\day56_dropout和bn\\\\代码\\\\dataset\\\\rain139.jpg',\n",
       " 'D:\\\\AIoT-深度学习视频版\\\\深度学习基础\\\\day56_dropout和bn\\\\代码\\\\dataset\\\\rain14.jpg',\n",
       " 'D:\\\\AIoT-深度学习视频版\\\\深度学习基础\\\\day56_dropout和bn\\\\代码\\\\dataset\\\\rain140.jpg',\n",
       " 'D:\\\\AIoT-深度学习视频版\\\\深度学习基础\\\\day56_dropout和bn\\\\代码\\\\dataset\\\\rain141.jpg',\n",
       " 'D:\\\\AIoT-深度学习视频版\\\\深度学习基础\\\\day56_dropout和bn\\\\代码\\\\dataset\\\\rain142.jpg',\n",
       " 'D:\\\\AIoT-深度学习视频版\\\\深度学习基础\\\\day56_dropout和bn\\\\代码\\\\dataset\\\\rain143.jpg',\n",
       " 'D:\\\\AIoT-深度学习视频版\\\\深度学习基础\\\\day56_dropout和bn\\\\代码\\\\dataset\\\\rain144.jpg',\n",
       " 'D:\\\\AIoT-深度学习视频版\\\\深度学习基础\\\\day56_dropout和bn\\\\代码\\\\dataset\\\\rain145.jpg',\n",
       " 'D:\\\\AIoT-深度学习视频版\\\\深度学习基础\\\\day56_dropout和bn\\\\代码\\\\dataset\\\\rain146.jpg',\n",
       " 'D:\\\\AIoT-深度学习视频版\\\\深度学习基础\\\\day56_dropout和bn\\\\代码\\\\dataset\\\\rain147.jpg',\n",
       " 'D:\\\\AIoT-深度学习视频版\\\\深度学习基础\\\\day56_dropout和bn\\\\代码\\\\dataset\\\\rain148.jpg',\n",
       " 'D:\\\\AIoT-深度学习视频版\\\\深度学习基础\\\\day56_dropout和bn\\\\代码\\\\dataset\\\\rain149.jpg',\n",
       " 'D:\\\\AIoT-深度学习视频版\\\\深度学习基础\\\\day56_dropout和bn\\\\代码\\\\dataset\\\\rain15.jpg',\n",
       " 'D:\\\\AIoT-深度学习视频版\\\\深度学习基础\\\\day56_dropout和bn\\\\代码\\\\dataset\\\\rain150.jpg',\n",
       " 'D:\\\\AIoT-深度学习视频版\\\\深度学习基础\\\\day56_dropout和bn\\\\代码\\\\dataset\\\\rain151.jpg',\n",
       " 'D:\\\\AIoT-深度学习视频版\\\\深度学习基础\\\\day56_dropout和bn\\\\代码\\\\dataset\\\\rain152.jpg',\n",
       " 'D:\\\\AIoT-深度学习视频版\\\\深度学习基础\\\\day56_dropout和bn\\\\代码\\\\dataset\\\\rain153.jpg',\n",
       " 'D:\\\\AIoT-深度学习视频版\\\\深度学习基础\\\\day56_dropout和bn\\\\代码\\\\dataset\\\\rain154.jpg',\n",
       " 'D:\\\\AIoT-深度学习视频版\\\\深度学习基础\\\\day56_dropout和bn\\\\代码\\\\dataset\\\\rain155.jpg',\n",
       " 'D:\\\\AIoT-深度学习视频版\\\\深度学习基础\\\\day56_dropout和bn\\\\代码\\\\dataset\\\\rain156.jpg',\n",
       " 'D:\\\\AIoT-深度学习视频版\\\\深度学习基础\\\\day56_dropout和bn\\\\代码\\\\dataset\\\\rain157.jpg',\n",
       " 'D:\\\\AIoT-深度学习视频版\\\\深度学习基础\\\\day56_dropout和bn\\\\代码\\\\dataset\\\\rain158.jpg',\n",
       " 'D:\\\\AIoT-深度学习视频版\\\\深度学习基础\\\\day56_dropout和bn\\\\代码\\\\dataset\\\\rain159.jpg',\n",
       " 'D:\\\\AIoT-深度学习视频版\\\\深度学习基础\\\\day56_dropout和bn\\\\代码\\\\dataset\\\\rain16.jpg',\n",
       " 'D:\\\\AIoT-深度学习视频版\\\\深度学习基础\\\\day56_dropout和bn\\\\代码\\\\dataset\\\\rain160.jpg',\n",
       " 'D:\\\\AIoT-深度学习视频版\\\\深度学习基础\\\\day56_dropout和bn\\\\代码\\\\dataset\\\\rain161.jpg',\n",
       " 'D:\\\\AIoT-深度学习视频版\\\\深度学习基础\\\\day56_dropout和bn\\\\代码\\\\dataset\\\\rain162.jpg',\n",
       " 'D:\\\\AIoT-深度学习视频版\\\\深度学习基础\\\\day56_dropout和bn\\\\代码\\\\dataset\\\\rain163.jpg',\n",
       " 'D:\\\\AIoT-深度学习视频版\\\\深度学习基础\\\\day56_dropout和bn\\\\代码\\\\dataset\\\\rain164.jpg',\n",
       " 'D:\\\\AIoT-深度学习视频版\\\\深度学习基础\\\\day56_dropout和bn\\\\代码\\\\dataset\\\\rain165.jpg',\n",
       " 'D:\\\\AIoT-深度学习视频版\\\\深度学习基础\\\\day56_dropout和bn\\\\代码\\\\dataset\\\\rain166.jpg',\n",
       " 'D:\\\\AIoT-深度学习视频版\\\\深度学习基础\\\\day56_dropout和bn\\\\代码\\\\dataset\\\\rain167.jpg',\n",
       " 'D:\\\\AIoT-深度学习视频版\\\\深度学习基础\\\\day56_dropout和bn\\\\代码\\\\dataset\\\\rain168.jpg',\n",
       " 'D:\\\\AIoT-深度学习视频版\\\\深度学习基础\\\\day56_dropout和bn\\\\代码\\\\dataset\\\\rain169.jpg',\n",
       " 'D:\\\\AIoT-深度学习视频版\\\\深度学习基础\\\\day56_dropout和bn\\\\代码\\\\dataset\\\\rain17.jpg',\n",
       " 'D:\\\\AIoT-深度学习视频版\\\\深度学习基础\\\\day56_dropout和bn\\\\代码\\\\dataset\\\\rain170.jpg',\n",
       " 'D:\\\\AIoT-深度学习视频版\\\\深度学习基础\\\\day56_dropout和bn\\\\代码\\\\dataset\\\\rain171.jpg',\n",
       " 'D:\\\\AIoT-深度学习视频版\\\\深度学习基础\\\\day56_dropout和bn\\\\代码\\\\dataset\\\\rain172.jpg',\n",
       " 'D:\\\\AIoT-深度学习视频版\\\\深度学习基础\\\\day56_dropout和bn\\\\代码\\\\dataset\\\\rain173.jpg',\n",
       " 'D:\\\\AIoT-深度学习视频版\\\\深度学习基础\\\\day56_dropout和bn\\\\代码\\\\dataset\\\\rain174.jpg',\n",
       " 'D:\\\\AIoT-深度学习视频版\\\\深度学习基础\\\\day56_dropout和bn\\\\代码\\\\dataset\\\\rain175.jpg',\n",
       " 'D:\\\\AIoT-深度学习视频版\\\\深度学习基础\\\\day56_dropout和bn\\\\代码\\\\dataset\\\\rain176.jpg',\n",
       " 'D:\\\\AIoT-深度学习视频版\\\\深度学习基础\\\\day56_dropout和bn\\\\代码\\\\dataset\\\\rain177.jpg',\n",
       " 'D:\\\\AIoT-深度学习视频版\\\\深度学习基础\\\\day56_dropout和bn\\\\代码\\\\dataset\\\\rain178.jpg',\n",
       " 'D:\\\\AIoT-深度学习视频版\\\\深度学习基础\\\\day56_dropout和bn\\\\代码\\\\dataset\\\\rain179.jpg',\n",
       " 'D:\\\\AIoT-深度学习视频版\\\\深度学习基础\\\\day56_dropout和bn\\\\代码\\\\dataset\\\\rain18.jpg',\n",
       " 'D:\\\\AIoT-深度学习视频版\\\\深度学习基础\\\\day56_dropout和bn\\\\代码\\\\dataset\\\\rain180.jpg',\n",
       " 'D:\\\\AIoT-深度学习视频版\\\\深度学习基础\\\\day56_dropout和bn\\\\代码\\\\dataset\\\\rain181.jpg',\n",
       " 'D:\\\\AIoT-深度学习视频版\\\\深度学习基础\\\\day56_dropout和bn\\\\代码\\\\dataset\\\\rain182.jpg',\n",
       " 'D:\\\\AIoT-深度学习视频版\\\\深度学习基础\\\\day56_dropout和bn\\\\代码\\\\dataset\\\\rain183.jpg',\n",
       " 'D:\\\\AIoT-深度学习视频版\\\\深度学习基础\\\\day56_dropout和bn\\\\代码\\\\dataset\\\\rain184.jpg',\n",
       " 'D:\\\\AIoT-深度学习视频版\\\\深度学习基础\\\\day56_dropout和bn\\\\代码\\\\dataset\\\\rain185.jpg',\n",
       " 'D:\\\\AIoT-深度学习视频版\\\\深度学习基础\\\\day56_dropout和bn\\\\代码\\\\dataset\\\\rain186.jpg',\n",
       " 'D:\\\\AIoT-深度学习视频版\\\\深度学习基础\\\\day56_dropout和bn\\\\代码\\\\dataset\\\\rain187.jpg',\n",
       " 'D:\\\\AIoT-深度学习视频版\\\\深度学习基础\\\\day56_dropout和bn\\\\代码\\\\dataset\\\\rain188.jpg',\n",
       " 'D:\\\\AIoT-深度学习视频版\\\\深度学习基础\\\\day56_dropout和bn\\\\代码\\\\dataset\\\\rain189.jpg',\n",
       " 'D:\\\\AIoT-深度学习视频版\\\\深度学习基础\\\\day56_dropout和bn\\\\代码\\\\dataset\\\\rain19.jpg',\n",
       " 'D:\\\\AIoT-深度学习视频版\\\\深度学习基础\\\\day56_dropout和bn\\\\代码\\\\dataset\\\\rain190.jpg',\n",
       " 'D:\\\\AIoT-深度学习视频版\\\\深度学习基础\\\\day56_dropout和bn\\\\代码\\\\dataset\\\\rain191.jpg',\n",
       " 'D:\\\\AIoT-深度学习视频版\\\\深度学习基础\\\\day56_dropout和bn\\\\代码\\\\dataset\\\\rain192.jpg',\n",
       " 'D:\\\\AIoT-深度学习视频版\\\\深度学习基础\\\\day56_dropout和bn\\\\代码\\\\dataset\\\\rain193.jpg',\n",
       " 'D:\\\\AIoT-深度学习视频版\\\\深度学习基础\\\\day56_dropout和bn\\\\代码\\\\dataset\\\\rain194.jpg',\n",
       " 'D:\\\\AIoT-深度学习视频版\\\\深度学习基础\\\\day56_dropout和bn\\\\代码\\\\dataset\\\\rain195.jpg',\n",
       " 'D:\\\\AIoT-深度学习视频版\\\\深度学习基础\\\\day56_dropout和bn\\\\代码\\\\dataset\\\\rain196.jpg',\n",
       " 'D:\\\\AIoT-深度学习视频版\\\\深度学习基础\\\\day56_dropout和bn\\\\代码\\\\dataset\\\\rain197.jpg',\n",
       " 'D:\\\\AIoT-深度学习视频版\\\\深度学习基础\\\\day56_dropout和bn\\\\代码\\\\dataset\\\\rain198.jpg',\n",
       " 'D:\\\\AIoT-深度学习视频版\\\\深度学习基础\\\\day56_dropout和bn\\\\代码\\\\dataset\\\\rain199.jpg',\n",
       " 'D:\\\\AIoT-深度学习视频版\\\\深度学习基础\\\\day56_dropout和bn\\\\代码\\\\dataset\\\\rain2.jpg',\n",
       " 'D:\\\\AIoT-深度学习视频版\\\\深度学习基础\\\\day56_dropout和bn\\\\代码\\\\dataset\\\\rain20.jpg',\n",
       " 'D:\\\\AIoT-深度学习视频版\\\\深度学习基础\\\\day56_dropout和bn\\\\代码\\\\dataset\\\\rain200.jpg',\n",
       " 'D:\\\\AIoT-深度学习视频版\\\\深度学习基础\\\\day56_dropout和bn\\\\代码\\\\dataset\\\\rain201.jpg',\n",
       " 'D:\\\\AIoT-深度学习视频版\\\\深度学习基础\\\\day56_dropout和bn\\\\代码\\\\dataset\\\\rain202.jpg',\n",
       " 'D:\\\\AIoT-深度学习视频版\\\\深度学习基础\\\\day56_dropout和bn\\\\代码\\\\dataset\\\\rain203.jpg',\n",
       " 'D:\\\\AIoT-深度学习视频版\\\\深度学习基础\\\\day56_dropout和bn\\\\代码\\\\dataset\\\\rain204.jpg',\n",
       " 'D:\\\\AIoT-深度学习视频版\\\\深度学习基础\\\\day56_dropout和bn\\\\代码\\\\dataset\\\\rain205.jpg',\n",
       " 'D:\\\\AIoT-深度学习视频版\\\\深度学习基础\\\\day56_dropout和bn\\\\代码\\\\dataset\\\\rain206.jpg',\n",
       " 'D:\\\\AIoT-深度学习视频版\\\\深度学习基础\\\\day56_dropout和bn\\\\代码\\\\dataset\\\\rain207.jpg',\n",
       " 'D:\\\\AIoT-深度学习视频版\\\\深度学习基础\\\\day56_dropout和bn\\\\代码\\\\dataset\\\\rain208.jpg',\n",
       " 'D:\\\\AIoT-深度学习视频版\\\\深度学习基础\\\\day56_dropout和bn\\\\代码\\\\dataset\\\\rain209.jpg',\n",
       " 'D:\\\\AIoT-深度学习视频版\\\\深度学习基础\\\\day56_dropout和bn\\\\代码\\\\dataset\\\\rain21.jpg',\n",
       " 'D:\\\\AIoT-深度学习视频版\\\\深度学习基础\\\\day56_dropout和bn\\\\代码\\\\dataset\\\\rain210.jpg',\n",
       " 'D:\\\\AIoT-深度学习视频版\\\\深度学习基础\\\\day56_dropout和bn\\\\代码\\\\dataset\\\\rain211.jpg',\n",
       " 'D:\\\\AIoT-深度学习视频版\\\\深度学习基础\\\\day56_dropout和bn\\\\代码\\\\dataset\\\\rain212.jpg',\n",
       " 'D:\\\\AIoT-深度学习视频版\\\\深度学习基础\\\\day56_dropout和bn\\\\代码\\\\dataset\\\\rain213.jpg',\n",
       " 'D:\\\\AIoT-深度学习视频版\\\\深度学习基础\\\\day56_dropout和bn\\\\代码\\\\dataset\\\\rain214.jpg',\n",
       " 'D:\\\\AIoT-深度学习视频版\\\\深度学习基础\\\\day56_dropout和bn\\\\代码\\\\dataset\\\\rain215.jpg',\n",
       " 'D:\\\\AIoT-深度学习视频版\\\\深度学习基础\\\\day56_dropout和bn\\\\代码\\\\dataset\\\\rain23.jpg',\n",
       " 'D:\\\\AIoT-深度学习视频版\\\\深度学习基础\\\\day56_dropout和bn\\\\代码\\\\dataset\\\\rain25.jpg',\n",
       " 'D:\\\\AIoT-深度学习视频版\\\\深度学习基础\\\\day56_dropout和bn\\\\代码\\\\dataset\\\\rain26.jpg',\n",
       " 'D:\\\\AIoT-深度学习视频版\\\\深度学习基础\\\\day56_dropout和bn\\\\代码\\\\dataset\\\\rain27.jpg',\n",
       " 'D:\\\\AIoT-深度学习视频版\\\\深度学习基础\\\\day56_dropout和bn\\\\代码\\\\dataset\\\\rain28.jpg',\n",
       " 'D:\\\\AIoT-深度学习视频版\\\\深度学习基础\\\\day56_dropout和bn\\\\代码\\\\dataset\\\\rain29.jpg',\n",
       " 'D:\\\\AIoT-深度学习视频版\\\\深度学习基础\\\\day56_dropout和bn\\\\代码\\\\dataset\\\\rain3.jpg',\n",
       " 'D:\\\\AIoT-深度学习视频版\\\\深度学习基础\\\\day56_dropout和bn\\\\代码\\\\dataset\\\\rain30.jpg',\n",
       " 'D:\\\\AIoT-深度学习视频版\\\\深度学习基础\\\\day56_dropout和bn\\\\代码\\\\dataset\\\\rain31.jpg',\n",
       " 'D:\\\\AIoT-深度学习视频版\\\\深度学习基础\\\\day56_dropout和bn\\\\代码\\\\dataset\\\\rain32.jpg',\n",
       " 'D:\\\\AIoT-深度学习视频版\\\\深度学习基础\\\\day56_dropout和bn\\\\代码\\\\dataset\\\\rain33.jpg',\n",
       " 'D:\\\\AIoT-深度学习视频版\\\\深度学习基础\\\\day56_dropout和bn\\\\代码\\\\dataset\\\\rain34.jpg',\n",
       " 'D:\\\\AIoT-深度学习视频版\\\\深度学习基础\\\\day56_dropout和bn\\\\代码\\\\dataset\\\\rain35.jpg',\n",
       " 'D:\\\\AIoT-深度学习视频版\\\\深度学习基础\\\\day56_dropout和bn\\\\代码\\\\dataset\\\\rain36.jpg',\n",
       " 'D:\\\\AIoT-深度学习视频版\\\\深度学习基础\\\\day56_dropout和bn\\\\代码\\\\dataset\\\\rain37.jpg',\n",
       " 'D:\\\\AIoT-深度学习视频版\\\\深度学习基础\\\\day56_dropout和bn\\\\代码\\\\dataset\\\\rain38.jpg',\n",
       " 'D:\\\\AIoT-深度学习视频版\\\\深度学习基础\\\\day56_dropout和bn\\\\代码\\\\dataset\\\\rain39.jpg',\n",
       " 'D:\\\\AIoT-深度学习视频版\\\\深度学习基础\\\\day56_dropout和bn\\\\代码\\\\dataset\\\\rain4.jpg',\n",
       " 'D:\\\\AIoT-深度学习视频版\\\\深度学习基础\\\\day56_dropout和bn\\\\代码\\\\dataset\\\\rain40.jpg',\n",
       " 'D:\\\\AIoT-深度学习视频版\\\\深度学习基础\\\\day56_dropout和bn\\\\代码\\\\dataset\\\\rain41.jpg',\n",
       " 'D:\\\\AIoT-深度学习视频版\\\\深度学习基础\\\\day56_dropout和bn\\\\代码\\\\dataset\\\\rain42.jpg',\n",
       " 'D:\\\\AIoT-深度学习视频版\\\\深度学习基础\\\\day56_dropout和bn\\\\代码\\\\dataset\\\\rain43.jpg',\n",
       " 'D:\\\\AIoT-深度学习视频版\\\\深度学习基础\\\\day56_dropout和bn\\\\代码\\\\dataset\\\\rain44.jpg',\n",
       " 'D:\\\\AIoT-深度学习视频版\\\\深度学习基础\\\\day56_dropout和bn\\\\代码\\\\dataset\\\\rain45.jpg',\n",
       " 'D:\\\\AIoT-深度学习视频版\\\\深度学习基础\\\\day56_dropout和bn\\\\代码\\\\dataset\\\\rain46.jpg',\n",
       " 'D:\\\\AIoT-深度学习视频版\\\\深度学习基础\\\\day56_dropout和bn\\\\代码\\\\dataset\\\\rain47.jpg',\n",
       " 'D:\\\\AIoT-深度学习视频版\\\\深度学习基础\\\\day56_dropout和bn\\\\代码\\\\dataset\\\\rain48.jpg',\n",
       " 'D:\\\\AIoT-深度学习视频版\\\\深度学习基础\\\\day56_dropout和bn\\\\代码\\\\dataset\\\\rain49.jpg',\n",
       " 'D:\\\\AIoT-深度学习视频版\\\\深度学习基础\\\\day56_dropout和bn\\\\代码\\\\dataset\\\\rain5.jpg',\n",
       " 'D:\\\\AIoT-深度学习视频版\\\\深度学习基础\\\\day56_dropout和bn\\\\代码\\\\dataset\\\\rain50.jpg',\n",
       " 'D:\\\\AIoT-深度学习视频版\\\\深度学习基础\\\\day56_dropout和bn\\\\代码\\\\dataset\\\\rain51.jpg',\n",
       " 'D:\\\\AIoT-深度学习视频版\\\\深度学习基础\\\\day56_dropout和bn\\\\代码\\\\dataset\\\\rain52.jpg',\n",
       " 'D:\\\\AIoT-深度学习视频版\\\\深度学习基础\\\\day56_dropout和bn\\\\代码\\\\dataset\\\\rain53.jpg',\n",
       " 'D:\\\\AIoT-深度学习视频版\\\\深度学习基础\\\\day56_dropout和bn\\\\代码\\\\dataset\\\\rain54.jpg',\n",
       " 'D:\\\\AIoT-深度学习视频版\\\\深度学习基础\\\\day56_dropout和bn\\\\代码\\\\dataset\\\\rain55.jpg',\n",
       " 'D:\\\\AIoT-深度学习视频版\\\\深度学习基础\\\\day56_dropout和bn\\\\代码\\\\dataset\\\\rain56.jpg',\n",
       " 'D:\\\\AIoT-深度学习视频版\\\\深度学习基础\\\\day56_dropout和bn\\\\代码\\\\dataset\\\\rain57.jpg',\n",
       " 'D:\\\\AIoT-深度学习视频版\\\\深度学习基础\\\\day56_dropout和bn\\\\代码\\\\dataset\\\\rain58.jpg',\n",
       " 'D:\\\\AIoT-深度学习视频版\\\\深度学习基础\\\\day56_dropout和bn\\\\代码\\\\dataset\\\\rain59.jpg',\n",
       " 'D:\\\\AIoT-深度学习视频版\\\\深度学习基础\\\\day56_dropout和bn\\\\代码\\\\dataset\\\\rain6.jpg',\n",
       " 'D:\\\\AIoT-深度学习视频版\\\\深度学习基础\\\\day56_dropout和bn\\\\代码\\\\dataset\\\\rain60.jpg',\n",
       " 'D:\\\\AIoT-深度学习视频版\\\\深度学习基础\\\\day56_dropout和bn\\\\代码\\\\dataset\\\\rain61.jpg',\n",
       " 'D:\\\\AIoT-深度学习视频版\\\\深度学习基础\\\\day56_dropout和bn\\\\代码\\\\dataset\\\\rain62.jpg',\n",
       " 'D:\\\\AIoT-深度学习视频版\\\\深度学习基础\\\\day56_dropout和bn\\\\代码\\\\dataset\\\\rain63.jpg',\n",
       " 'D:\\\\AIoT-深度学习视频版\\\\深度学习基础\\\\day56_dropout和bn\\\\代码\\\\dataset\\\\rain64.jpg',\n",
       " 'D:\\\\AIoT-深度学习视频版\\\\深度学习基础\\\\day56_dropout和bn\\\\代码\\\\dataset\\\\rain65.jpg',\n",
       " 'D:\\\\AIoT-深度学习视频版\\\\深度学习基础\\\\day56_dropout和bn\\\\代码\\\\dataset\\\\rain66.jpg',\n",
       " 'D:\\\\AIoT-深度学习视频版\\\\深度学习基础\\\\day56_dropout和bn\\\\代码\\\\dataset\\\\rain67.jpg',\n",
       " 'D:\\\\AIoT-深度学习视频版\\\\深度学习基础\\\\day56_dropout和bn\\\\代码\\\\dataset\\\\rain68.jpg',\n",
       " 'D:\\\\AIoT-深度学习视频版\\\\深度学习基础\\\\day56_dropout和bn\\\\代码\\\\dataset\\\\rain69.jpg',\n",
       " 'D:\\\\AIoT-深度学习视频版\\\\深度学习基础\\\\day56_dropout和bn\\\\代码\\\\dataset\\\\rain7.jpg',\n",
       " 'D:\\\\AIoT-深度学习视频版\\\\深度学习基础\\\\day56_dropout和bn\\\\代码\\\\dataset\\\\rain70.jpg',\n",
       " 'D:\\\\AIoT-深度学习视频版\\\\深度学习基础\\\\day56_dropout和bn\\\\代码\\\\dataset\\\\rain71.jpg',\n",
       " 'D:\\\\AIoT-深度学习视频版\\\\深度学习基础\\\\day56_dropout和bn\\\\代码\\\\dataset\\\\rain72.jpg',\n",
       " 'D:\\\\AIoT-深度学习视频版\\\\深度学习基础\\\\day56_dropout和bn\\\\代码\\\\dataset\\\\rain73.jpg',\n",
       " 'D:\\\\AIoT-深度学习视频版\\\\深度学习基础\\\\day56_dropout和bn\\\\代码\\\\dataset\\\\rain74.jpg',\n",
       " 'D:\\\\AIoT-深度学习视频版\\\\深度学习基础\\\\day56_dropout和bn\\\\代码\\\\dataset\\\\rain75.jpg',\n",
       " 'D:\\\\AIoT-深度学习视频版\\\\深度学习基础\\\\day56_dropout和bn\\\\代码\\\\dataset\\\\rain76.jpg',\n",
       " 'D:\\\\AIoT-深度学习视频版\\\\深度学习基础\\\\day56_dropout和bn\\\\代码\\\\dataset\\\\rain77.jpg',\n",
       " 'D:\\\\AIoT-深度学习视频版\\\\深度学习基础\\\\day56_dropout和bn\\\\代码\\\\dataset\\\\rain78.jpg',\n",
       " 'D:\\\\AIoT-深度学习视频版\\\\深度学习基础\\\\day56_dropout和bn\\\\代码\\\\dataset\\\\rain79.jpg',\n",
       " 'D:\\\\AIoT-深度学习视频版\\\\深度学习基础\\\\day56_dropout和bn\\\\代码\\\\dataset\\\\rain8.jpg',\n",
       " 'D:\\\\AIoT-深度学习视频版\\\\深度学习基础\\\\day56_dropout和bn\\\\代码\\\\dataset\\\\rain80.jpg',\n",
       " 'D:\\\\AIoT-深度学习视频版\\\\深度学习基础\\\\day56_dropout和bn\\\\代码\\\\dataset\\\\rain81.jpg',\n",
       " 'D:\\\\AIoT-深度学习视频版\\\\深度学习基础\\\\day56_dropout和bn\\\\代码\\\\dataset\\\\rain82.jpg',\n",
       " 'D:\\\\AIoT-深度学习视频版\\\\深度学习基础\\\\day56_dropout和bn\\\\代码\\\\dataset\\\\rain83.jpg',\n",
       " 'D:\\\\AIoT-深度学习视频版\\\\深度学习基础\\\\day56_dropout和bn\\\\代码\\\\dataset\\\\rain84.jpg',\n",
       " 'D:\\\\AIoT-深度学习视频版\\\\深度学习基础\\\\day56_dropout和bn\\\\代码\\\\dataset\\\\rain85.jpg',\n",
       " 'D:\\\\AIoT-深度学习视频版\\\\深度学习基础\\\\day56_dropout和bn\\\\代码\\\\dataset\\\\rain86.jpg',\n",
       " 'D:\\\\AIoT-深度学习视频版\\\\深度学习基础\\\\day56_dropout和bn\\\\代码\\\\dataset\\\\rain87.jpg',\n",
       " 'D:\\\\AIoT-深度学习视频版\\\\深度学习基础\\\\day56_dropout和bn\\\\代码\\\\dataset\\\\rain88.jpg',\n",
       " 'D:\\\\AIoT-深度学习视频版\\\\深度学习基础\\\\day56_dropout和bn\\\\代码\\\\dataset\\\\rain89.jpg',\n",
       " 'D:\\\\AIoT-深度学习视频版\\\\深度学习基础\\\\day56_dropout和bn\\\\代码\\\\dataset\\\\rain9.jpg',\n",
       " 'D:\\\\AIoT-深度学习视频版\\\\深度学习基础\\\\day56_dropout和bn\\\\代码\\\\dataset\\\\rain90.jpg',\n",
       " 'D:\\\\AIoT-深度学习视频版\\\\深度学习基础\\\\day56_dropout和bn\\\\代码\\\\dataset\\\\rain91.jpg',\n",
       " 'D:\\\\AIoT-深度学习视频版\\\\深度学习基础\\\\day56_dropout和bn\\\\代码\\\\dataset\\\\rain92.jpg',\n",
       " 'D:\\\\AIoT-深度学习视频版\\\\深度学习基础\\\\day56_dropout和bn\\\\代码\\\\dataset\\\\rain93.jpg',\n",
       " 'D:\\\\AIoT-深度学习视频版\\\\深度学习基础\\\\day56_dropout和bn\\\\代码\\\\dataset\\\\rain94.jpg',\n",
       " 'D:\\\\AIoT-深度学习视频版\\\\深度学习基础\\\\day56_dropout和bn\\\\代码\\\\dataset\\\\rain95.jpg',\n",
       " 'D:\\\\AIoT-深度学习视频版\\\\深度学习基础\\\\day56_dropout和bn\\\\代码\\\\dataset\\\\rain96.jpg',\n",
       " 'D:\\\\AIoT-深度学习视频版\\\\深度学习基础\\\\day56_dropout和bn\\\\代码\\\\dataset\\\\rain97.jpg',\n",
       " 'D:\\\\AIoT-深度学习视频版\\\\深度学习基础\\\\day56_dropout和bn\\\\代码\\\\dataset\\\\rain98.jpg',\n",
       " 'D:\\\\AIoT-深度学习视频版\\\\深度学习基础\\\\day56_dropout和bn\\\\代码\\\\dataset\\\\rain99.jpg',\n",
       " 'D:\\\\AIoT-深度学习视频版\\\\深度学习基础\\\\day56_dropout和bn\\\\代码\\\\dataset\\\\shine1.jpg',\n",
       " 'D:\\\\AIoT-深度学习视频版\\\\深度学习基础\\\\day56_dropout和bn\\\\代码\\\\dataset\\\\shine10.jpg',\n",
       " 'D:\\\\AIoT-深度学习视频版\\\\深度学习基础\\\\day56_dropout和bn\\\\代码\\\\dataset\\\\shine100.jpg',\n",
       " 'D:\\\\AIoT-深度学习视频版\\\\深度学习基础\\\\day56_dropout和bn\\\\代码\\\\dataset\\\\shine101.jpg',\n",
       " 'D:\\\\AIoT-深度学习视频版\\\\深度学习基础\\\\day56_dropout和bn\\\\代码\\\\dataset\\\\shine102.jpg',\n",
       " 'D:\\\\AIoT-深度学习视频版\\\\深度学习基础\\\\day56_dropout和bn\\\\代码\\\\dataset\\\\shine103.jpg',\n",
       " 'D:\\\\AIoT-深度学习视频版\\\\深度学习基础\\\\day56_dropout和bn\\\\代码\\\\dataset\\\\shine104.jpg',\n",
       " 'D:\\\\AIoT-深度学习视频版\\\\深度学习基础\\\\day56_dropout和bn\\\\代码\\\\dataset\\\\shine105.jpg',\n",
       " 'D:\\\\AIoT-深度学习视频版\\\\深度学习基础\\\\day56_dropout和bn\\\\代码\\\\dataset\\\\shine106.jpg',\n",
       " 'D:\\\\AIoT-深度学习视频版\\\\深度学习基础\\\\day56_dropout和bn\\\\代码\\\\dataset\\\\shine107.jpg',\n",
       " 'D:\\\\AIoT-深度学习视频版\\\\深度学习基础\\\\day56_dropout和bn\\\\代码\\\\dataset\\\\shine108.jpg',\n",
       " 'D:\\\\AIoT-深度学习视频版\\\\深度学习基础\\\\day56_dropout和bn\\\\代码\\\\dataset\\\\shine109.jpg',\n",
       " 'D:\\\\AIoT-深度学习视频版\\\\深度学习基础\\\\day56_dropout和bn\\\\代码\\\\dataset\\\\shine11.jpg',\n",
       " 'D:\\\\AIoT-深度学习视频版\\\\深度学习基础\\\\day56_dropout和bn\\\\代码\\\\dataset\\\\shine110.jpg',\n",
       " 'D:\\\\AIoT-深度学习视频版\\\\深度学习基础\\\\day56_dropout和bn\\\\代码\\\\dataset\\\\shine111.jpg',\n",
       " 'D:\\\\AIoT-深度学习视频版\\\\深度学习基础\\\\day56_dropout和bn\\\\代码\\\\dataset\\\\shine112.jpg',\n",
       " 'D:\\\\AIoT-深度学习视频版\\\\深度学习基础\\\\day56_dropout和bn\\\\代码\\\\dataset\\\\shine113.jpg',\n",
       " 'D:\\\\AIoT-深度学习视频版\\\\深度学习基础\\\\day56_dropout和bn\\\\代码\\\\dataset\\\\shine114.jpg',\n",
       " 'D:\\\\AIoT-深度学习视频版\\\\深度学习基础\\\\day56_dropout和bn\\\\代码\\\\dataset\\\\shine115.jpg',\n",
       " 'D:\\\\AIoT-深度学习视频版\\\\深度学习基础\\\\day56_dropout和bn\\\\代码\\\\dataset\\\\shine116.jpg',\n",
       " 'D:\\\\AIoT-深度学习视频版\\\\深度学习基础\\\\day56_dropout和bn\\\\代码\\\\dataset\\\\shine117.jpg',\n",
       " 'D:\\\\AIoT-深度学习视频版\\\\深度学习基础\\\\day56_dropout和bn\\\\代码\\\\dataset\\\\shine118.jpg',\n",
       " 'D:\\\\AIoT-深度学习视频版\\\\深度学习基础\\\\day56_dropout和bn\\\\代码\\\\dataset\\\\shine119.jpg',\n",
       " 'D:\\\\AIoT-深度学习视频版\\\\深度学习基础\\\\day56_dropout和bn\\\\代码\\\\dataset\\\\shine12.jpg',\n",
       " 'D:\\\\AIoT-深度学习视频版\\\\深度学习基础\\\\day56_dropout和bn\\\\代码\\\\dataset\\\\shine120.jpg',\n",
       " 'D:\\\\AIoT-深度学习视频版\\\\深度学习基础\\\\day56_dropout和bn\\\\代码\\\\dataset\\\\shine121.jpg',\n",
       " 'D:\\\\AIoT-深度学习视频版\\\\深度学习基础\\\\day56_dropout和bn\\\\代码\\\\dataset\\\\shine122.jpg',\n",
       " 'D:\\\\AIoT-深度学习视频版\\\\深度学习基础\\\\day56_dropout和bn\\\\代码\\\\dataset\\\\shine123.jpg',\n",
       " 'D:\\\\AIoT-深度学习视频版\\\\深度学习基础\\\\day56_dropout和bn\\\\代码\\\\dataset\\\\shine124.jpg',\n",
       " 'D:\\\\AIoT-深度学习视频版\\\\深度学习基础\\\\day56_dropout和bn\\\\代码\\\\dataset\\\\shine125.jpg',\n",
       " 'D:\\\\AIoT-深度学习视频版\\\\深度学习基础\\\\day56_dropout和bn\\\\代码\\\\dataset\\\\shine126.jpg',\n",
       " 'D:\\\\AIoT-深度学习视频版\\\\深度学习基础\\\\day56_dropout和bn\\\\代码\\\\dataset\\\\shine127.jpg',\n",
       " 'D:\\\\AIoT-深度学习视频版\\\\深度学习基础\\\\day56_dropout和bn\\\\代码\\\\dataset\\\\shine128.jpg',\n",
       " 'D:\\\\AIoT-深度学习视频版\\\\深度学习基础\\\\day56_dropout和bn\\\\代码\\\\dataset\\\\shine129.jpg',\n",
       " 'D:\\\\AIoT-深度学习视频版\\\\深度学习基础\\\\day56_dropout和bn\\\\代码\\\\dataset\\\\shine13.jpg',\n",
       " 'D:\\\\AIoT-深度学习视频版\\\\深度学习基础\\\\day56_dropout和bn\\\\代码\\\\dataset\\\\shine130.jpg',\n",
       " 'D:\\\\AIoT-深度学习视频版\\\\深度学习基础\\\\day56_dropout和bn\\\\代码\\\\dataset\\\\shine131.jpg',\n",
       " 'D:\\\\AIoT-深度学习视频版\\\\深度学习基础\\\\day56_dropout和bn\\\\代码\\\\dataset\\\\shine132.jpg',\n",
       " 'D:\\\\AIoT-深度学习视频版\\\\深度学习基础\\\\day56_dropout和bn\\\\代码\\\\dataset\\\\shine133.jpg',\n",
       " 'D:\\\\AIoT-深度学习视频版\\\\深度学习基础\\\\day56_dropout和bn\\\\代码\\\\dataset\\\\shine134.jpg',\n",
       " 'D:\\\\AIoT-深度学习视频版\\\\深度学习基础\\\\day56_dropout和bn\\\\代码\\\\dataset\\\\shine135.jpg',\n",
       " 'D:\\\\AIoT-深度学习视频版\\\\深度学习基础\\\\day56_dropout和bn\\\\代码\\\\dataset\\\\shine136.jpg',\n",
       " 'D:\\\\AIoT-深度学习视频版\\\\深度学习基础\\\\day56_dropout和bn\\\\代码\\\\dataset\\\\shine137.jpg',\n",
       " 'D:\\\\AIoT-深度学习视频版\\\\深度学习基础\\\\day56_dropout和bn\\\\代码\\\\dataset\\\\shine138.jpg',\n",
       " 'D:\\\\AIoT-深度学习视频版\\\\深度学习基础\\\\day56_dropout和bn\\\\代码\\\\dataset\\\\shine139.jpg',\n",
       " 'D:\\\\AIoT-深度学习视频版\\\\深度学习基础\\\\day56_dropout和bn\\\\代码\\\\dataset\\\\shine14.jpg',\n",
       " 'D:\\\\AIoT-深度学习视频版\\\\深度学习基础\\\\day56_dropout和bn\\\\代码\\\\dataset\\\\shine140.jpg',\n",
       " 'D:\\\\AIoT-深度学习视频版\\\\深度学习基础\\\\day56_dropout和bn\\\\代码\\\\dataset\\\\shine141.jpg',\n",
       " 'D:\\\\AIoT-深度学习视频版\\\\深度学习基础\\\\day56_dropout和bn\\\\代码\\\\dataset\\\\shine142.jpg',\n",
       " 'D:\\\\AIoT-深度学习视频版\\\\深度学习基础\\\\day56_dropout和bn\\\\代码\\\\dataset\\\\shine143.jpg',\n",
       " 'D:\\\\AIoT-深度学习视频版\\\\深度学习基础\\\\day56_dropout和bn\\\\代码\\\\dataset\\\\shine144.jpg',\n",
       " 'D:\\\\AIoT-深度学习视频版\\\\深度学习基础\\\\day56_dropout和bn\\\\代码\\\\dataset\\\\shine145.jpg',\n",
       " 'D:\\\\AIoT-深度学习视频版\\\\深度学习基础\\\\day56_dropout和bn\\\\代码\\\\dataset\\\\shine146.jpg',\n",
       " 'D:\\\\AIoT-深度学习视频版\\\\深度学习基础\\\\day56_dropout和bn\\\\代码\\\\dataset\\\\shine147.jpg',\n",
       " 'D:\\\\AIoT-深度学习视频版\\\\深度学习基础\\\\day56_dropout和bn\\\\代码\\\\dataset\\\\shine148.jpg',\n",
       " 'D:\\\\AIoT-深度学习视频版\\\\深度学习基础\\\\day56_dropout和bn\\\\代码\\\\dataset\\\\shine149.jpg',\n",
       " 'D:\\\\AIoT-深度学习视频版\\\\深度学习基础\\\\day56_dropout和bn\\\\代码\\\\dataset\\\\shine15.jpg',\n",
       " 'D:\\\\AIoT-深度学习视频版\\\\深度学习基础\\\\day56_dropout和bn\\\\代码\\\\dataset\\\\shine150.jpg',\n",
       " 'D:\\\\AIoT-深度学习视频版\\\\深度学习基础\\\\day56_dropout和bn\\\\代码\\\\dataset\\\\shine151.jpg',\n",
       " 'D:\\\\AIoT-深度学习视频版\\\\深度学习基础\\\\day56_dropout和bn\\\\代码\\\\dataset\\\\shine152.jpg',\n",
       " 'D:\\\\AIoT-深度学习视频版\\\\深度学习基础\\\\day56_dropout和bn\\\\代码\\\\dataset\\\\shine153.jpg',\n",
       " 'D:\\\\AIoT-深度学习视频版\\\\深度学习基础\\\\day56_dropout和bn\\\\代码\\\\dataset\\\\shine154.jpg',\n",
       " 'D:\\\\AIoT-深度学习视频版\\\\深度学习基础\\\\day56_dropout和bn\\\\代码\\\\dataset\\\\shine155.jpg',\n",
       " 'D:\\\\AIoT-深度学习视频版\\\\深度学习基础\\\\day56_dropout和bn\\\\代码\\\\dataset\\\\shine156.jpg',\n",
       " 'D:\\\\AIoT-深度学习视频版\\\\深度学习基础\\\\day56_dropout和bn\\\\代码\\\\dataset\\\\shine157.jpg',\n",
       " 'D:\\\\AIoT-深度学习视频版\\\\深度学习基础\\\\day56_dropout和bn\\\\代码\\\\dataset\\\\shine158.jpg',\n",
       " 'D:\\\\AIoT-深度学习视频版\\\\深度学习基础\\\\day56_dropout和bn\\\\代码\\\\dataset\\\\shine159.jpg',\n",
       " 'D:\\\\AIoT-深度学习视频版\\\\深度学习基础\\\\day56_dropout和bn\\\\代码\\\\dataset\\\\shine16.jpg',\n",
       " 'D:\\\\AIoT-深度学习视频版\\\\深度学习基础\\\\day56_dropout和bn\\\\代码\\\\dataset\\\\shine160.jpg',\n",
       " 'D:\\\\AIoT-深度学习视频版\\\\深度学习基础\\\\day56_dropout和bn\\\\代码\\\\dataset\\\\shine161.jpg',\n",
       " 'D:\\\\AIoT-深度学习视频版\\\\深度学习基础\\\\day56_dropout和bn\\\\代码\\\\dataset\\\\shine162.jpg',\n",
       " 'D:\\\\AIoT-深度学习视频版\\\\深度学习基础\\\\day56_dropout和bn\\\\代码\\\\dataset\\\\shine163.jpg',\n",
       " 'D:\\\\AIoT-深度学习视频版\\\\深度学习基础\\\\day56_dropout和bn\\\\代码\\\\dataset\\\\shine164.jpg',\n",
       " 'D:\\\\AIoT-深度学习视频版\\\\深度学习基础\\\\day56_dropout和bn\\\\代码\\\\dataset\\\\shine165.jpg',\n",
       " 'D:\\\\AIoT-深度学习视频版\\\\深度学习基础\\\\day56_dropout和bn\\\\代码\\\\dataset\\\\shine166.jpg',\n",
       " 'D:\\\\AIoT-深度学习视频版\\\\深度学习基础\\\\day56_dropout和bn\\\\代码\\\\dataset\\\\shine167.jpg',\n",
       " 'D:\\\\AIoT-深度学习视频版\\\\深度学习基础\\\\day56_dropout和bn\\\\代码\\\\dataset\\\\shine168.jpg',\n",
       " 'D:\\\\AIoT-深度学习视频版\\\\深度学习基础\\\\day56_dropout和bn\\\\代码\\\\dataset\\\\shine169.jpg',\n",
       " 'D:\\\\AIoT-深度学习视频版\\\\深度学习基础\\\\day56_dropout和bn\\\\代码\\\\dataset\\\\shine17.jpg',\n",
       " 'D:\\\\AIoT-深度学习视频版\\\\深度学习基础\\\\day56_dropout和bn\\\\代码\\\\dataset\\\\shine170.jpg',\n",
       " 'D:\\\\AIoT-深度学习视频版\\\\深度学习基础\\\\day56_dropout和bn\\\\代码\\\\dataset\\\\shine171.jpg',\n",
       " 'D:\\\\AIoT-深度学习视频版\\\\深度学习基础\\\\day56_dropout和bn\\\\代码\\\\dataset\\\\shine172.jpg',\n",
       " 'D:\\\\AIoT-深度学习视频版\\\\深度学习基础\\\\day56_dropout和bn\\\\代码\\\\dataset\\\\shine173.jpg',\n",
       " 'D:\\\\AIoT-深度学习视频版\\\\深度学习基础\\\\day56_dropout和bn\\\\代码\\\\dataset\\\\shine174.jpg',\n",
       " 'D:\\\\AIoT-深度学习视频版\\\\深度学习基础\\\\day56_dropout和bn\\\\代码\\\\dataset\\\\shine175.jpg',\n",
       " 'D:\\\\AIoT-深度学习视频版\\\\深度学习基础\\\\day56_dropout和bn\\\\代码\\\\dataset\\\\shine176.jpg',\n",
       " 'D:\\\\AIoT-深度学习视频版\\\\深度学习基础\\\\day56_dropout和bn\\\\代码\\\\dataset\\\\shine177.jpg',\n",
       " 'D:\\\\AIoT-深度学习视频版\\\\深度学习基础\\\\day56_dropout和bn\\\\代码\\\\dataset\\\\shine178.jpg',\n",
       " 'D:\\\\AIoT-深度学习视频版\\\\深度学习基础\\\\day56_dropout和bn\\\\代码\\\\dataset\\\\shine179.jpg',\n",
       " 'D:\\\\AIoT-深度学习视频版\\\\深度学习基础\\\\day56_dropout和bn\\\\代码\\\\dataset\\\\shine18.jpg',\n",
       " 'D:\\\\AIoT-深度学习视频版\\\\深度学习基础\\\\day56_dropout和bn\\\\代码\\\\dataset\\\\shine180.jpg',\n",
       " 'D:\\\\AIoT-深度学习视频版\\\\深度学习基础\\\\day56_dropout和bn\\\\代码\\\\dataset\\\\shine181.jpg',\n",
       " 'D:\\\\AIoT-深度学习视频版\\\\深度学习基础\\\\day56_dropout和bn\\\\代码\\\\dataset\\\\shine182.jpg',\n",
       " 'D:\\\\AIoT-深度学习视频版\\\\深度学习基础\\\\day56_dropout和bn\\\\代码\\\\dataset\\\\shine183.jpg',\n",
       " 'D:\\\\AIoT-深度学习视频版\\\\深度学习基础\\\\day56_dropout和bn\\\\代码\\\\dataset\\\\shine184.jpg',\n",
       " 'D:\\\\AIoT-深度学习视频版\\\\深度学习基础\\\\day56_dropout和bn\\\\代码\\\\dataset\\\\shine185.jpg',\n",
       " 'D:\\\\AIoT-深度学习视频版\\\\深度学习基础\\\\day56_dropout和bn\\\\代码\\\\dataset\\\\shine186.jpg',\n",
       " 'D:\\\\AIoT-深度学习视频版\\\\深度学习基础\\\\day56_dropout和bn\\\\代码\\\\dataset\\\\shine187.jpg',\n",
       " 'D:\\\\AIoT-深度学习视频版\\\\深度学习基础\\\\day56_dropout和bn\\\\代码\\\\dataset\\\\shine188.jpg',\n",
       " 'D:\\\\AIoT-深度学习视频版\\\\深度学习基础\\\\day56_dropout和bn\\\\代码\\\\dataset\\\\shine189.jpg',\n",
       " 'D:\\\\AIoT-深度学习视频版\\\\深度学习基础\\\\day56_dropout和bn\\\\代码\\\\dataset\\\\shine19.jpg',\n",
       " 'D:\\\\AIoT-深度学习视频版\\\\深度学习基础\\\\day56_dropout和bn\\\\代码\\\\dataset\\\\shine190.jpg',\n",
       " 'D:\\\\AIoT-深度学习视频版\\\\深度学习基础\\\\day56_dropout和bn\\\\代码\\\\dataset\\\\shine191.jpg',\n",
       " 'D:\\\\AIoT-深度学习视频版\\\\深度学习基础\\\\day56_dropout和bn\\\\代码\\\\dataset\\\\shine192.jpg',\n",
       " 'D:\\\\AIoT-深度学习视频版\\\\深度学习基础\\\\day56_dropout和bn\\\\代码\\\\dataset\\\\shine193.jpg',\n",
       " 'D:\\\\AIoT-深度学习视频版\\\\深度学习基础\\\\day56_dropout和bn\\\\代码\\\\dataset\\\\shine194.jpg',\n",
       " 'D:\\\\AIoT-深度学习视频版\\\\深度学习基础\\\\day56_dropout和bn\\\\代码\\\\dataset\\\\shine195.jpg',\n",
       " 'D:\\\\AIoT-深度学习视频版\\\\深度学习基础\\\\day56_dropout和bn\\\\代码\\\\dataset\\\\shine196.jpg',\n",
       " 'D:\\\\AIoT-深度学习视频版\\\\深度学习基础\\\\day56_dropout和bn\\\\代码\\\\dataset\\\\shine197.jpg',\n",
       " 'D:\\\\AIoT-深度学习视频版\\\\深度学习基础\\\\day56_dropout和bn\\\\代码\\\\dataset\\\\shine198.jpg',\n",
       " 'D:\\\\AIoT-深度学习视频版\\\\深度学习基础\\\\day56_dropout和bn\\\\代码\\\\dataset\\\\shine199.jpg',\n",
       " 'D:\\\\AIoT-深度学习视频版\\\\深度学习基础\\\\day56_dropout和bn\\\\代码\\\\dataset\\\\shine2.jpg',\n",
       " 'D:\\\\AIoT-深度学习视频版\\\\深度学习基础\\\\day56_dropout和bn\\\\代码\\\\dataset\\\\shine20.jpg',\n",
       " 'D:\\\\AIoT-深度学习视频版\\\\深度学习基础\\\\day56_dropout和bn\\\\代码\\\\dataset\\\\shine200.jpg',\n",
       " 'D:\\\\AIoT-深度学习视频版\\\\深度学习基础\\\\day56_dropout和bn\\\\代码\\\\dataset\\\\shine201.jpg',\n",
       " 'D:\\\\AIoT-深度学习视频版\\\\深度学习基础\\\\day56_dropout和bn\\\\代码\\\\dataset\\\\shine202.jpg',\n",
       " 'D:\\\\AIoT-深度学习视频版\\\\深度学习基础\\\\day56_dropout和bn\\\\代码\\\\dataset\\\\shine203.jpg',\n",
       " 'D:\\\\AIoT-深度学习视频版\\\\深度学习基础\\\\day56_dropout和bn\\\\代码\\\\dataset\\\\shine204.jpg',\n",
       " 'D:\\\\AIoT-深度学习视频版\\\\深度学习基础\\\\day56_dropout和bn\\\\代码\\\\dataset\\\\shine205.jpg',\n",
       " 'D:\\\\AIoT-深度学习视频版\\\\深度学习基础\\\\day56_dropout和bn\\\\代码\\\\dataset\\\\shine206.jpg',\n",
       " 'D:\\\\AIoT-深度学习视频版\\\\深度学习基础\\\\day56_dropout和bn\\\\代码\\\\dataset\\\\shine207.jpg',\n",
       " 'D:\\\\AIoT-深度学习视频版\\\\深度学习基础\\\\day56_dropout和bn\\\\代码\\\\dataset\\\\shine208.jpg',\n",
       " 'D:\\\\AIoT-深度学习视频版\\\\深度学习基础\\\\day56_dropout和bn\\\\代码\\\\dataset\\\\shine209.jpg',\n",
       " 'D:\\\\AIoT-深度学习视频版\\\\深度学习基础\\\\day56_dropout和bn\\\\代码\\\\dataset\\\\shine21.jpg',\n",
       " 'D:\\\\AIoT-深度学习视频版\\\\深度学习基础\\\\day56_dropout和bn\\\\代码\\\\dataset\\\\shine210.jpg',\n",
       " 'D:\\\\AIoT-深度学习视频版\\\\深度学习基础\\\\day56_dropout和bn\\\\代码\\\\dataset\\\\shine211.jpg',\n",
       " 'D:\\\\AIoT-深度学习视频版\\\\深度学习基础\\\\day56_dropout和bn\\\\代码\\\\dataset\\\\shine212.jpg',\n",
       " 'D:\\\\AIoT-深度学习视频版\\\\深度学习基础\\\\day56_dropout和bn\\\\代码\\\\dataset\\\\shine213.jpg',\n",
       " 'D:\\\\AIoT-深度学习视频版\\\\深度学习基础\\\\day56_dropout和bn\\\\代码\\\\dataset\\\\shine214.jpg',\n",
       " 'D:\\\\AIoT-深度学习视频版\\\\深度学习基础\\\\day56_dropout和bn\\\\代码\\\\dataset\\\\shine215.jpg',\n",
       " 'D:\\\\AIoT-深度学习视频版\\\\深度学习基础\\\\day56_dropout和bn\\\\代码\\\\dataset\\\\shine216.jpg',\n",
       " 'D:\\\\AIoT-深度学习视频版\\\\深度学习基础\\\\day56_dropout和bn\\\\代码\\\\dataset\\\\shine217.jpg',\n",
       " 'D:\\\\AIoT-深度学习视频版\\\\深度学习基础\\\\day56_dropout和bn\\\\代码\\\\dataset\\\\shine218.jpg',\n",
       " 'D:\\\\AIoT-深度学习视频版\\\\深度学习基础\\\\day56_dropout和bn\\\\代码\\\\dataset\\\\shine219.jpg',\n",
       " 'D:\\\\AIoT-深度学习视频版\\\\深度学习基础\\\\day56_dropout和bn\\\\代码\\\\dataset\\\\shine22.jpg',\n",
       " 'D:\\\\AIoT-深度学习视频版\\\\深度学习基础\\\\day56_dropout和bn\\\\代码\\\\dataset\\\\shine220.jpg',\n",
       " 'D:\\\\AIoT-深度学习视频版\\\\深度学习基础\\\\day56_dropout和bn\\\\代码\\\\dataset\\\\shine221.jpg',\n",
       " 'D:\\\\AIoT-深度学习视频版\\\\深度学习基础\\\\day56_dropout和bn\\\\代码\\\\dataset\\\\shine222.jpg',\n",
       " 'D:\\\\AIoT-深度学习视频版\\\\深度学习基础\\\\day56_dropout和bn\\\\代码\\\\dataset\\\\shine223.jpg',\n",
       " 'D:\\\\AIoT-深度学习视频版\\\\深度学习基础\\\\day56_dropout和bn\\\\代码\\\\dataset\\\\shine224.jpg',\n",
       " 'D:\\\\AIoT-深度学习视频版\\\\深度学习基础\\\\day56_dropout和bn\\\\代码\\\\dataset\\\\shine225.jpg',\n",
       " 'D:\\\\AIoT-深度学习视频版\\\\深度学习基础\\\\day56_dropout和bn\\\\代码\\\\dataset\\\\shine226.jpg',\n",
       " 'D:\\\\AIoT-深度学习视频版\\\\深度学习基础\\\\day56_dropout和bn\\\\代码\\\\dataset\\\\shine227.jpg',\n",
       " 'D:\\\\AIoT-深度学习视频版\\\\深度学习基础\\\\day56_dropout和bn\\\\代码\\\\dataset\\\\shine228.jpg',\n",
       " 'D:\\\\AIoT-深度学习视频版\\\\深度学习基础\\\\day56_dropout和bn\\\\代码\\\\dataset\\\\shine229.jpg',\n",
       " 'D:\\\\AIoT-深度学习视频版\\\\深度学习基础\\\\day56_dropout和bn\\\\代码\\\\dataset\\\\shine23.jpg',\n",
       " 'D:\\\\AIoT-深度学习视频版\\\\深度学习基础\\\\day56_dropout和bn\\\\代码\\\\dataset\\\\shine230.jpg',\n",
       " 'D:\\\\AIoT-深度学习视频版\\\\深度学习基础\\\\day56_dropout和bn\\\\代码\\\\dataset\\\\shine231.jpg',\n",
       " 'D:\\\\AIoT-深度学习视频版\\\\深度学习基础\\\\day56_dropout和bn\\\\代码\\\\dataset\\\\shine232.jpg',\n",
       " 'D:\\\\AIoT-深度学习视频版\\\\深度学习基础\\\\day56_dropout和bn\\\\代码\\\\dataset\\\\shine233.jpg',\n",
       " 'D:\\\\AIoT-深度学习视频版\\\\深度学习基础\\\\day56_dropout和bn\\\\代码\\\\dataset\\\\shine234.jpg',\n",
       " 'D:\\\\AIoT-深度学习视频版\\\\深度学习基础\\\\day56_dropout和bn\\\\代码\\\\dataset\\\\shine235.jpg',\n",
       " 'D:\\\\AIoT-深度学习视频版\\\\深度学习基础\\\\day56_dropout和bn\\\\代码\\\\dataset\\\\shine236.jpg',\n",
       " 'D:\\\\AIoT-深度学习视频版\\\\深度学习基础\\\\day56_dropout和bn\\\\代码\\\\dataset\\\\shine237.jpg',\n",
       " 'D:\\\\AIoT-深度学习视频版\\\\深度学习基础\\\\day56_dropout和bn\\\\代码\\\\dataset\\\\shine238.jpg',\n",
       " 'D:\\\\AIoT-深度学习视频版\\\\深度学习基础\\\\day56_dropout和bn\\\\代码\\\\dataset\\\\shine239.jpg',\n",
       " 'D:\\\\AIoT-深度学习视频版\\\\深度学习基础\\\\day56_dropout和bn\\\\代码\\\\dataset\\\\shine24.jpg',\n",
       " 'D:\\\\AIoT-深度学习视频版\\\\深度学习基础\\\\day56_dropout和bn\\\\代码\\\\dataset\\\\shine240.jpg',\n",
       " 'D:\\\\AIoT-深度学习视频版\\\\深度学习基础\\\\day56_dropout和bn\\\\代码\\\\dataset\\\\shine241.jpg',\n",
       " 'D:\\\\AIoT-深度学习视频版\\\\深度学习基础\\\\day56_dropout和bn\\\\代码\\\\dataset\\\\shine242.jpg',\n",
       " 'D:\\\\AIoT-深度学习视频版\\\\深度学习基础\\\\day56_dropout和bn\\\\代码\\\\dataset\\\\shine243.jpg',\n",
       " 'D:\\\\AIoT-深度学习视频版\\\\深度学习基础\\\\day56_dropout和bn\\\\代码\\\\dataset\\\\shine244.jpg',\n",
       " 'D:\\\\AIoT-深度学习视频版\\\\深度学习基础\\\\day56_dropout和bn\\\\代码\\\\dataset\\\\shine245.jpg',\n",
       " 'D:\\\\AIoT-深度学习视频版\\\\深度学习基础\\\\day56_dropout和bn\\\\代码\\\\dataset\\\\shine246.jpg',\n",
       " 'D:\\\\AIoT-深度学习视频版\\\\深度学习基础\\\\day56_dropout和bn\\\\代码\\\\dataset\\\\shine247.jpg',\n",
       " 'D:\\\\AIoT-深度学习视频版\\\\深度学习基础\\\\day56_dropout和bn\\\\代码\\\\dataset\\\\shine248.jpg',\n",
       " 'D:\\\\AIoT-深度学习视频版\\\\深度学习基础\\\\day56_dropout和bn\\\\代码\\\\dataset\\\\shine249.jpg',\n",
       " 'D:\\\\AIoT-深度学习视频版\\\\深度学习基础\\\\day56_dropout和bn\\\\代码\\\\dataset\\\\shine25.jpg',\n",
       " 'D:\\\\AIoT-深度学习视频版\\\\深度学习基础\\\\day56_dropout和bn\\\\代码\\\\dataset\\\\shine250.jpg',\n",
       " 'D:\\\\AIoT-深度学习视频版\\\\深度学习基础\\\\day56_dropout和bn\\\\代码\\\\dataset\\\\shine251.jpg',\n",
       " 'D:\\\\AIoT-深度学习视频版\\\\深度学习基础\\\\day56_dropout和bn\\\\代码\\\\dataset\\\\shine252.jpg',\n",
       " 'D:\\\\AIoT-深度学习视频版\\\\深度学习基础\\\\day56_dropout和bn\\\\代码\\\\dataset\\\\shine253.jpg',\n",
       " 'D:\\\\AIoT-深度学习视频版\\\\深度学习基础\\\\day56_dropout和bn\\\\代码\\\\dataset\\\\shine26.jpg',\n",
       " 'D:\\\\AIoT-深度学习视频版\\\\深度学习基础\\\\day56_dropout和bn\\\\代码\\\\dataset\\\\shine27.jpg',\n",
       " 'D:\\\\AIoT-深度学习视频版\\\\深度学习基础\\\\day56_dropout和bn\\\\代码\\\\dataset\\\\shine28.jpg',\n",
       " 'D:\\\\AIoT-深度学习视频版\\\\深度学习基础\\\\day56_dropout和bn\\\\代码\\\\dataset\\\\shine29.jpg',\n",
       " 'D:\\\\AIoT-深度学习视频版\\\\深度学习基础\\\\day56_dropout和bn\\\\代码\\\\dataset\\\\shine3.jpg',\n",
       " 'D:\\\\AIoT-深度学习视频版\\\\深度学习基础\\\\day56_dropout和bn\\\\代码\\\\dataset\\\\shine30.jpg',\n",
       " 'D:\\\\AIoT-深度学习视频版\\\\深度学习基础\\\\day56_dropout和bn\\\\代码\\\\dataset\\\\shine31.jpg',\n",
       " 'D:\\\\AIoT-深度学习视频版\\\\深度学习基础\\\\day56_dropout和bn\\\\代码\\\\dataset\\\\shine32.jpg',\n",
       " 'D:\\\\AIoT-深度学习视频版\\\\深度学习基础\\\\day56_dropout和bn\\\\代码\\\\dataset\\\\shine33.jpg',\n",
       " 'D:\\\\AIoT-深度学习视频版\\\\深度学习基础\\\\day56_dropout和bn\\\\代码\\\\dataset\\\\shine34.jpg',\n",
       " 'D:\\\\AIoT-深度学习视频版\\\\深度学习基础\\\\day56_dropout和bn\\\\代码\\\\dataset\\\\shine35.jpg',\n",
       " 'D:\\\\AIoT-深度学习视频版\\\\深度学习基础\\\\day56_dropout和bn\\\\代码\\\\dataset\\\\shine36.jpg',\n",
       " 'D:\\\\AIoT-深度学习视频版\\\\深度学习基础\\\\day56_dropout和bn\\\\代码\\\\dataset\\\\shine37.jpg',\n",
       " 'D:\\\\AIoT-深度学习视频版\\\\深度学习基础\\\\day56_dropout和bn\\\\代码\\\\dataset\\\\shine38.jpg',\n",
       " 'D:\\\\AIoT-深度学习视频版\\\\深度学习基础\\\\day56_dropout和bn\\\\代码\\\\dataset\\\\shine39.jpg',\n",
       " 'D:\\\\AIoT-深度学习视频版\\\\深度学习基础\\\\day56_dropout和bn\\\\代码\\\\dataset\\\\shine4.jpg',\n",
       " 'D:\\\\AIoT-深度学习视频版\\\\深度学习基础\\\\day56_dropout和bn\\\\代码\\\\dataset\\\\shine40.jpg',\n",
       " 'D:\\\\AIoT-深度学习视频版\\\\深度学习基础\\\\day56_dropout和bn\\\\代码\\\\dataset\\\\shine41.jpg',\n",
       " 'D:\\\\AIoT-深度学习视频版\\\\深度学习基础\\\\day56_dropout和bn\\\\代码\\\\dataset\\\\shine42.jpg',\n",
       " 'D:\\\\AIoT-深度学习视频版\\\\深度学习基础\\\\day56_dropout和bn\\\\代码\\\\dataset\\\\shine43.jpg',\n",
       " 'D:\\\\AIoT-深度学习视频版\\\\深度学习基础\\\\day56_dropout和bn\\\\代码\\\\dataset\\\\shine44.jpg',\n",
       " 'D:\\\\AIoT-深度学习视频版\\\\深度学习基础\\\\day56_dropout和bn\\\\代码\\\\dataset\\\\shine45.jpg',\n",
       " 'D:\\\\AIoT-深度学习视频版\\\\深度学习基础\\\\day56_dropout和bn\\\\代码\\\\dataset\\\\shine46.jpg',\n",
       " 'D:\\\\AIoT-深度学习视频版\\\\深度学习基础\\\\day56_dropout和bn\\\\代码\\\\dataset\\\\shine47.jpg',\n",
       " 'D:\\\\AIoT-深度学习视频版\\\\深度学习基础\\\\day56_dropout和bn\\\\代码\\\\dataset\\\\shine48.jpg',\n",
       " 'D:\\\\AIoT-深度学习视频版\\\\深度学习基础\\\\day56_dropout和bn\\\\代码\\\\dataset\\\\shine49.jpg',\n",
       " 'D:\\\\AIoT-深度学习视频版\\\\深度学习基础\\\\day56_dropout和bn\\\\代码\\\\dataset\\\\shine5.jpg',\n",
       " 'D:\\\\AIoT-深度学习视频版\\\\深度学习基础\\\\day56_dropout和bn\\\\代码\\\\dataset\\\\shine50.jpg',\n",
       " 'D:\\\\AIoT-深度学习视频版\\\\深度学习基础\\\\day56_dropout和bn\\\\代码\\\\dataset\\\\shine51.jpg',\n",
       " 'D:\\\\AIoT-深度学习视频版\\\\深度学习基础\\\\day56_dropout和bn\\\\代码\\\\dataset\\\\shine52.jpg',\n",
       " 'D:\\\\AIoT-深度学习视频版\\\\深度学习基础\\\\day56_dropout和bn\\\\代码\\\\dataset\\\\shine53.jpg',\n",
       " 'D:\\\\AIoT-深度学习视频版\\\\深度学习基础\\\\day56_dropout和bn\\\\代码\\\\dataset\\\\shine54.jpg',\n",
       " 'D:\\\\AIoT-深度学习视频版\\\\深度学习基础\\\\day56_dropout和bn\\\\代码\\\\dataset\\\\shine55.jpg',\n",
       " 'D:\\\\AIoT-深度学习视频版\\\\深度学习基础\\\\day56_dropout和bn\\\\代码\\\\dataset\\\\shine56.jpg',\n",
       " 'D:\\\\AIoT-深度学习视频版\\\\深度学习基础\\\\day56_dropout和bn\\\\代码\\\\dataset\\\\shine57.jpg',\n",
       " 'D:\\\\AIoT-深度学习视频版\\\\深度学习基础\\\\day56_dropout和bn\\\\代码\\\\dataset\\\\shine58.jpg',\n",
       " 'D:\\\\AIoT-深度学习视频版\\\\深度学习基础\\\\day56_dropout和bn\\\\代码\\\\dataset\\\\shine59.jpg',\n",
       " 'D:\\\\AIoT-深度学习视频版\\\\深度学习基础\\\\day56_dropout和bn\\\\代码\\\\dataset\\\\shine6.jpg',\n",
       " 'D:\\\\AIoT-深度学习视频版\\\\深度学习基础\\\\day56_dropout和bn\\\\代码\\\\dataset\\\\shine60.jpg',\n",
       " 'D:\\\\AIoT-深度学习视频版\\\\深度学习基础\\\\day56_dropout和bn\\\\代码\\\\dataset\\\\shine61.jpg',\n",
       " 'D:\\\\AIoT-深度学习视频版\\\\深度学习基础\\\\day56_dropout和bn\\\\代码\\\\dataset\\\\shine62.jpg',\n",
       " 'D:\\\\AIoT-深度学习视频版\\\\深度学习基础\\\\day56_dropout和bn\\\\代码\\\\dataset\\\\shine63.jpg',\n",
       " 'D:\\\\AIoT-深度学习视频版\\\\深度学习基础\\\\day56_dropout和bn\\\\代码\\\\dataset\\\\shine64.jpg',\n",
       " 'D:\\\\AIoT-深度学习视频版\\\\深度学习基础\\\\day56_dropout和bn\\\\代码\\\\dataset\\\\shine65.jpg',\n",
       " 'D:\\\\AIoT-深度学习视频版\\\\深度学习基础\\\\day56_dropout和bn\\\\代码\\\\dataset\\\\shine66.jpg',\n",
       " 'D:\\\\AIoT-深度学习视频版\\\\深度学习基础\\\\day56_dropout和bn\\\\代码\\\\dataset\\\\shine67.jpg',\n",
       " 'D:\\\\AIoT-深度学习视频版\\\\深度学习基础\\\\day56_dropout和bn\\\\代码\\\\dataset\\\\shine68.jpg',\n",
       " 'D:\\\\AIoT-深度学习视频版\\\\深度学习基础\\\\day56_dropout和bn\\\\代码\\\\dataset\\\\shine69.jpg',\n",
       " 'D:\\\\AIoT-深度学习视频版\\\\深度学习基础\\\\day56_dropout和bn\\\\代码\\\\dataset\\\\shine7.jpg',\n",
       " 'D:\\\\AIoT-深度学习视频版\\\\深度学习基础\\\\day56_dropout和bn\\\\代码\\\\dataset\\\\shine70.jpg',\n",
       " 'D:\\\\AIoT-深度学习视频版\\\\深度学习基础\\\\day56_dropout和bn\\\\代码\\\\dataset\\\\shine71.jpg',\n",
       " 'D:\\\\AIoT-深度学习视频版\\\\深度学习基础\\\\day56_dropout和bn\\\\代码\\\\dataset\\\\shine72.jpg',\n",
       " 'D:\\\\AIoT-深度学习视频版\\\\深度学习基础\\\\day56_dropout和bn\\\\代码\\\\dataset\\\\shine73.jpg',\n",
       " 'D:\\\\AIoT-深度学习视频版\\\\深度学习基础\\\\day56_dropout和bn\\\\代码\\\\dataset\\\\shine74.jpg',\n",
       " 'D:\\\\AIoT-深度学习视频版\\\\深度学习基础\\\\day56_dropout和bn\\\\代码\\\\dataset\\\\shine75.jpg',\n",
       " 'D:\\\\AIoT-深度学习视频版\\\\深度学习基础\\\\day56_dropout和bn\\\\代码\\\\dataset\\\\shine76.jpg',\n",
       " 'D:\\\\AIoT-深度学习视频版\\\\深度学习基础\\\\day56_dropout和bn\\\\代码\\\\dataset\\\\shine77.jpg',\n",
       " 'D:\\\\AIoT-深度学习视频版\\\\深度学习基础\\\\day56_dropout和bn\\\\代码\\\\dataset\\\\shine78.jpg',\n",
       " 'D:\\\\AIoT-深度学习视频版\\\\深度学习基础\\\\day56_dropout和bn\\\\代码\\\\dataset\\\\shine79.jpg',\n",
       " 'D:\\\\AIoT-深度学习视频版\\\\深度学习基础\\\\day56_dropout和bn\\\\代码\\\\dataset\\\\shine8.jpg',\n",
       " 'D:\\\\AIoT-深度学习视频版\\\\深度学习基础\\\\day56_dropout和bn\\\\代码\\\\dataset\\\\shine80.jpg',\n",
       " 'D:\\\\AIoT-深度学习视频版\\\\深度学习基础\\\\day56_dropout和bn\\\\代码\\\\dataset\\\\shine81.jpg',\n",
       " 'D:\\\\AIoT-深度学习视频版\\\\深度学习基础\\\\day56_dropout和bn\\\\代码\\\\dataset\\\\shine82.jpg',\n",
       " 'D:\\\\AIoT-深度学习视频版\\\\深度学习基础\\\\day56_dropout和bn\\\\代码\\\\dataset\\\\shine83.jpg',\n",
       " 'D:\\\\AIoT-深度学习视频版\\\\深度学习基础\\\\day56_dropout和bn\\\\代码\\\\dataset\\\\shine84.jpg',\n",
       " 'D:\\\\AIoT-深度学习视频版\\\\深度学习基础\\\\day56_dropout和bn\\\\代码\\\\dataset\\\\shine85.jpg',\n",
       " 'D:\\\\AIoT-深度学习视频版\\\\深度学习基础\\\\day56_dropout和bn\\\\代码\\\\dataset\\\\shine86.jpg',\n",
       " 'D:\\\\AIoT-深度学习视频版\\\\深度学习基础\\\\day56_dropout和bn\\\\代码\\\\dataset\\\\shine87.jpg',\n",
       " 'D:\\\\AIoT-深度学习视频版\\\\深度学习基础\\\\day56_dropout和bn\\\\代码\\\\dataset\\\\shine88.jpg',\n",
       " 'D:\\\\AIoT-深度学习视频版\\\\深度学习基础\\\\day56_dropout和bn\\\\代码\\\\dataset\\\\shine89.jpg',\n",
       " 'D:\\\\AIoT-深度学习视频版\\\\深度学习基础\\\\day56_dropout和bn\\\\代码\\\\dataset\\\\shine9.jpg',\n",
       " 'D:\\\\AIoT-深度学习视频版\\\\深度学习基础\\\\day56_dropout和bn\\\\代码\\\\dataset\\\\shine90.jpg',\n",
       " 'D:\\\\AIoT-深度学习视频版\\\\深度学习基础\\\\day56_dropout和bn\\\\代码\\\\dataset\\\\shine91.jpg',\n",
       " 'D:\\\\AIoT-深度学习视频版\\\\深度学习基础\\\\day56_dropout和bn\\\\代码\\\\dataset\\\\shine92.jpg',\n",
       " 'D:\\\\AIoT-深度学习视频版\\\\深度学习基础\\\\day56_dropout和bn\\\\代码\\\\dataset\\\\shine93.jpg',\n",
       " 'D:\\\\AIoT-深度学习视频版\\\\深度学习基础\\\\day56_dropout和bn\\\\代码\\\\dataset\\\\shine94.jpg',\n",
       " 'D:\\\\AIoT-深度学习视频版\\\\深度学习基础\\\\day56_dropout和bn\\\\代码\\\\dataset\\\\shine95.jpg',\n",
       " 'D:\\\\AIoT-深度学习视频版\\\\深度学习基础\\\\day56_dropout和bn\\\\代码\\\\dataset\\\\shine96.jpg',\n",
       " 'D:\\\\AIoT-深度学习视频版\\\\深度学习基础\\\\day56_dropout和bn\\\\代码\\\\dataset\\\\shine97.jpg',\n",
       " 'D:\\\\AIoT-深度学习视频版\\\\深度学习基础\\\\day56_dropout和bn\\\\代码\\\\dataset\\\\shine98.jpg',\n",
       " 'D:\\\\AIoT-深度学习视频版\\\\深度学习基础\\\\day56_dropout和bn\\\\代码\\\\dataset\\\\shine99.jpg',\n",
       " 'D:\\\\AIoT-深度学习视频版\\\\深度学习基础\\\\day56_dropout和bn\\\\代码\\\\dataset\\\\sunrise1.jpg',\n",
       " 'D:\\\\AIoT-深度学习视频版\\\\深度学习基础\\\\day56_dropout和bn\\\\代码\\\\dataset\\\\sunrise10.jpg',\n",
       " 'D:\\\\AIoT-深度学习视频版\\\\深度学习基础\\\\day56_dropout和bn\\\\代码\\\\dataset\\\\sunrise100.jpg',\n",
       " 'D:\\\\AIoT-深度学习视频版\\\\深度学习基础\\\\day56_dropout和bn\\\\代码\\\\dataset\\\\sunrise101.jpg',\n",
       " 'D:\\\\AIoT-深度学习视频版\\\\深度学习基础\\\\day56_dropout和bn\\\\代码\\\\dataset\\\\sunrise102.jpg',\n",
       " 'D:\\\\AIoT-深度学习视频版\\\\深度学习基础\\\\day56_dropout和bn\\\\代码\\\\dataset\\\\sunrise103.jpg',\n",
       " 'D:\\\\AIoT-深度学习视频版\\\\深度学习基础\\\\day56_dropout和bn\\\\代码\\\\dataset\\\\sunrise104.jpg',\n",
       " 'D:\\\\AIoT-深度学习视频版\\\\深度学习基础\\\\day56_dropout和bn\\\\代码\\\\dataset\\\\sunrise105.jpg',\n",
       " 'D:\\\\AIoT-深度学习视频版\\\\深度学习基础\\\\day56_dropout和bn\\\\代码\\\\dataset\\\\sunrise106.jpg',\n",
       " 'D:\\\\AIoT-深度学习视频版\\\\深度学习基础\\\\day56_dropout和bn\\\\代码\\\\dataset\\\\sunrise107.jpg',\n",
       " 'D:\\\\AIoT-深度学习视频版\\\\深度学习基础\\\\day56_dropout和bn\\\\代码\\\\dataset\\\\sunrise108.jpg',\n",
       " 'D:\\\\AIoT-深度学习视频版\\\\深度学习基础\\\\day56_dropout和bn\\\\代码\\\\dataset\\\\sunrise109.jpg',\n",
       " 'D:\\\\AIoT-深度学习视频版\\\\深度学习基础\\\\day56_dropout和bn\\\\代码\\\\dataset\\\\sunrise11.jpg',\n",
       " 'D:\\\\AIoT-深度学习视频版\\\\深度学习基础\\\\day56_dropout和bn\\\\代码\\\\dataset\\\\sunrise110.jpg',\n",
       " 'D:\\\\AIoT-深度学习视频版\\\\深度学习基础\\\\day56_dropout和bn\\\\代码\\\\dataset\\\\sunrise111.jpg',\n",
       " 'D:\\\\AIoT-深度学习视频版\\\\深度学习基础\\\\day56_dropout和bn\\\\代码\\\\dataset\\\\sunrise112.jpg',\n",
       " 'D:\\\\AIoT-深度学习视频版\\\\深度学习基础\\\\day56_dropout和bn\\\\代码\\\\dataset\\\\sunrise113.jpg',\n",
       " 'D:\\\\AIoT-深度学习视频版\\\\深度学习基础\\\\day56_dropout和bn\\\\代码\\\\dataset\\\\sunrise114.jpg',\n",
       " 'D:\\\\AIoT-深度学习视频版\\\\深度学习基础\\\\day56_dropout和bn\\\\代码\\\\dataset\\\\sunrise115.jpg',\n",
       " 'D:\\\\AIoT-深度学习视频版\\\\深度学习基础\\\\day56_dropout和bn\\\\代码\\\\dataset\\\\sunrise116.jpg',\n",
       " 'D:\\\\AIoT-深度学习视频版\\\\深度学习基础\\\\day56_dropout和bn\\\\代码\\\\dataset\\\\sunrise117.jpg',\n",
       " 'D:\\\\AIoT-深度学习视频版\\\\深度学习基础\\\\day56_dropout和bn\\\\代码\\\\dataset\\\\sunrise118.jpg',\n",
       " 'D:\\\\AIoT-深度学习视频版\\\\深度学习基础\\\\day56_dropout和bn\\\\代码\\\\dataset\\\\sunrise119.jpg',\n",
       " 'D:\\\\AIoT-深度学习视频版\\\\深度学习基础\\\\day56_dropout和bn\\\\代码\\\\dataset\\\\sunrise12.jpg',\n",
       " 'D:\\\\AIoT-深度学习视频版\\\\深度学习基础\\\\day56_dropout和bn\\\\代码\\\\dataset\\\\sunrise120.jpg',\n",
       " 'D:\\\\AIoT-深度学习视频版\\\\深度学习基础\\\\day56_dropout和bn\\\\代码\\\\dataset\\\\sunrise121.jpg',\n",
       " 'D:\\\\AIoT-深度学习视频版\\\\深度学习基础\\\\day56_dropout和bn\\\\代码\\\\dataset\\\\sunrise122.jpg',\n",
       " 'D:\\\\AIoT-深度学习视频版\\\\深度学习基础\\\\day56_dropout和bn\\\\代码\\\\dataset\\\\sunrise123.jpg',\n",
       " 'D:\\\\AIoT-深度学习视频版\\\\深度学习基础\\\\day56_dropout和bn\\\\代码\\\\dataset\\\\sunrise124.jpg',\n",
       " 'D:\\\\AIoT-深度学习视频版\\\\深度学习基础\\\\day56_dropout和bn\\\\代码\\\\dataset\\\\sunrise125.jpg',\n",
       " 'D:\\\\AIoT-深度学习视频版\\\\深度学习基础\\\\day56_dropout和bn\\\\代码\\\\dataset\\\\sunrise126.jpg',\n",
       " 'D:\\\\AIoT-深度学习视频版\\\\深度学习基础\\\\day56_dropout和bn\\\\代码\\\\dataset\\\\sunrise127.jpg',\n",
       " 'D:\\\\AIoT-深度学习视频版\\\\深度学习基础\\\\day56_dropout和bn\\\\代码\\\\dataset\\\\sunrise128.jpg',\n",
       " 'D:\\\\AIoT-深度学习视频版\\\\深度学习基础\\\\day56_dropout和bn\\\\代码\\\\dataset\\\\sunrise129.jpg',\n",
       " 'D:\\\\AIoT-深度学习视频版\\\\深度学习基础\\\\day56_dropout和bn\\\\代码\\\\dataset\\\\sunrise13.jpg',\n",
       " 'D:\\\\AIoT-深度学习视频版\\\\深度学习基础\\\\day56_dropout和bn\\\\代码\\\\dataset\\\\sunrise130.jpg',\n",
       " 'D:\\\\AIoT-深度学习视频版\\\\深度学习基础\\\\day56_dropout和bn\\\\代码\\\\dataset\\\\sunrise131.jpg',\n",
       " 'D:\\\\AIoT-深度学习视频版\\\\深度学习基础\\\\day56_dropout和bn\\\\代码\\\\dataset\\\\sunrise132.jpg',\n",
       " 'D:\\\\AIoT-深度学习视频版\\\\深度学习基础\\\\day56_dropout和bn\\\\代码\\\\dataset\\\\sunrise133.jpg',\n",
       " 'D:\\\\AIoT-深度学习视频版\\\\深度学习基础\\\\day56_dropout和bn\\\\代码\\\\dataset\\\\sunrise134.jpg',\n",
       " 'D:\\\\AIoT-深度学习视频版\\\\深度学习基础\\\\day56_dropout和bn\\\\代码\\\\dataset\\\\sunrise135.jpg',\n",
       " 'D:\\\\AIoT-深度学习视频版\\\\深度学习基础\\\\day56_dropout和bn\\\\代码\\\\dataset\\\\sunrise136.jpg',\n",
       " 'D:\\\\AIoT-深度学习视频版\\\\深度学习基础\\\\day56_dropout和bn\\\\代码\\\\dataset\\\\sunrise137.jpg',\n",
       " 'D:\\\\AIoT-深度学习视频版\\\\深度学习基础\\\\day56_dropout和bn\\\\代码\\\\dataset\\\\sunrise138.jpg',\n",
       " 'D:\\\\AIoT-深度学习视频版\\\\深度学习基础\\\\day56_dropout和bn\\\\代码\\\\dataset\\\\sunrise139.jpg',\n",
       " 'D:\\\\AIoT-深度学习视频版\\\\深度学习基础\\\\day56_dropout和bn\\\\代码\\\\dataset\\\\sunrise14.jpg',\n",
       " 'D:\\\\AIoT-深度学习视频版\\\\深度学习基础\\\\day56_dropout和bn\\\\代码\\\\dataset\\\\sunrise140.jpg',\n",
       " 'D:\\\\AIoT-深度学习视频版\\\\深度学习基础\\\\day56_dropout和bn\\\\代码\\\\dataset\\\\sunrise141.jpg',\n",
       " 'D:\\\\AIoT-深度学习视频版\\\\深度学习基础\\\\day56_dropout和bn\\\\代码\\\\dataset\\\\sunrise142.jpg',\n",
       " 'D:\\\\AIoT-深度学习视频版\\\\深度学习基础\\\\day56_dropout和bn\\\\代码\\\\dataset\\\\sunrise143.jpg',\n",
       " 'D:\\\\AIoT-深度学习视频版\\\\深度学习基础\\\\day56_dropout和bn\\\\代码\\\\dataset\\\\sunrise144.jpg',\n",
       " 'D:\\\\AIoT-深度学习视频版\\\\深度学习基础\\\\day56_dropout和bn\\\\代码\\\\dataset\\\\sunrise145.jpg',\n",
       " 'D:\\\\AIoT-深度学习视频版\\\\深度学习基础\\\\day56_dropout和bn\\\\代码\\\\dataset\\\\sunrise146.jpg',\n",
       " 'D:\\\\AIoT-深度学习视频版\\\\深度学习基础\\\\day56_dropout和bn\\\\代码\\\\dataset\\\\sunrise147.jpg',\n",
       " 'D:\\\\AIoT-深度学习视频版\\\\深度学习基础\\\\day56_dropout和bn\\\\代码\\\\dataset\\\\sunrise148.jpg',\n",
       " 'D:\\\\AIoT-深度学习视频版\\\\深度学习基础\\\\day56_dropout和bn\\\\代码\\\\dataset\\\\sunrise149.jpg',\n",
       " 'D:\\\\AIoT-深度学习视频版\\\\深度学习基础\\\\day56_dropout和bn\\\\代码\\\\dataset\\\\sunrise15.jpg',\n",
       " 'D:\\\\AIoT-深度学习视频版\\\\深度学习基础\\\\day56_dropout和bn\\\\代码\\\\dataset\\\\sunrise150.jpg',\n",
       " 'D:\\\\AIoT-深度学习视频版\\\\深度学习基础\\\\day56_dropout和bn\\\\代码\\\\dataset\\\\sunrise151.jpg',\n",
       " 'D:\\\\AIoT-深度学习视频版\\\\深度学习基础\\\\day56_dropout和bn\\\\代码\\\\dataset\\\\sunrise152.jpg',\n",
       " 'D:\\\\AIoT-深度学习视频版\\\\深度学习基础\\\\day56_dropout和bn\\\\代码\\\\dataset\\\\sunrise153.jpg',\n",
       " 'D:\\\\AIoT-深度学习视频版\\\\深度学习基础\\\\day56_dropout和bn\\\\代码\\\\dataset\\\\sunrise154.jpg',\n",
       " 'D:\\\\AIoT-深度学习视频版\\\\深度学习基础\\\\day56_dropout和bn\\\\代码\\\\dataset\\\\sunrise155.jpg',\n",
       " 'D:\\\\AIoT-深度学习视频版\\\\深度学习基础\\\\day56_dropout和bn\\\\代码\\\\dataset\\\\sunrise156.jpg',\n",
       " 'D:\\\\AIoT-深度学习视频版\\\\深度学习基础\\\\day56_dropout和bn\\\\代码\\\\dataset\\\\sunrise157.jpg',\n",
       " 'D:\\\\AIoT-深度学习视频版\\\\深度学习基础\\\\day56_dropout和bn\\\\代码\\\\dataset\\\\sunrise158.jpg',\n",
       " 'D:\\\\AIoT-深度学习视频版\\\\深度学习基础\\\\day56_dropout和bn\\\\代码\\\\dataset\\\\sunrise159.jpg',\n",
       " 'D:\\\\AIoT-深度学习视频版\\\\深度学习基础\\\\day56_dropout和bn\\\\代码\\\\dataset\\\\sunrise16.jpg',\n",
       " 'D:\\\\AIoT-深度学习视频版\\\\深度学习基础\\\\day56_dropout和bn\\\\代码\\\\dataset\\\\sunrise160.jpg',\n",
       " 'D:\\\\AIoT-深度学习视频版\\\\深度学习基础\\\\day56_dropout和bn\\\\代码\\\\dataset\\\\sunrise161.jpg',\n",
       " 'D:\\\\AIoT-深度学习视频版\\\\深度学习基础\\\\day56_dropout和bn\\\\代码\\\\dataset\\\\sunrise162.jpg',\n",
       " 'D:\\\\AIoT-深度学习视频版\\\\深度学习基础\\\\day56_dropout和bn\\\\代码\\\\dataset\\\\sunrise163.jpg',\n",
       " 'D:\\\\AIoT-深度学习视频版\\\\深度学习基础\\\\day56_dropout和bn\\\\代码\\\\dataset\\\\sunrise164.jpg',\n",
       " 'D:\\\\AIoT-深度学习视频版\\\\深度学习基础\\\\day56_dropout和bn\\\\代码\\\\dataset\\\\sunrise165.jpg',\n",
       " 'D:\\\\AIoT-深度学习视频版\\\\深度学习基础\\\\day56_dropout和bn\\\\代码\\\\dataset\\\\sunrise166.jpg',\n",
       " 'D:\\\\AIoT-深度学习视频版\\\\深度学习基础\\\\day56_dropout和bn\\\\代码\\\\dataset\\\\sunrise167.jpg',\n",
       " 'D:\\\\AIoT-深度学习视频版\\\\深度学习基础\\\\day56_dropout和bn\\\\代码\\\\dataset\\\\sunrise168.jpg',\n",
       " 'D:\\\\AIoT-深度学习视频版\\\\深度学习基础\\\\day56_dropout和bn\\\\代码\\\\dataset\\\\sunrise169.jpg',\n",
       " 'D:\\\\AIoT-深度学习视频版\\\\深度学习基础\\\\day56_dropout和bn\\\\代码\\\\dataset\\\\sunrise17.jpg',\n",
       " 'D:\\\\AIoT-深度学习视频版\\\\深度学习基础\\\\day56_dropout和bn\\\\代码\\\\dataset\\\\sunrise170.jpg',\n",
       " 'D:\\\\AIoT-深度学习视频版\\\\深度学习基础\\\\day56_dropout和bn\\\\代码\\\\dataset\\\\sunrise171.jpg',\n",
       " 'D:\\\\AIoT-深度学习视频版\\\\深度学习基础\\\\day56_dropout和bn\\\\代码\\\\dataset\\\\sunrise172.jpg',\n",
       " 'D:\\\\AIoT-深度学习视频版\\\\深度学习基础\\\\day56_dropout和bn\\\\代码\\\\dataset\\\\sunrise173.jpg',\n",
       " 'D:\\\\AIoT-深度学习视频版\\\\深度学习基础\\\\day56_dropout和bn\\\\代码\\\\dataset\\\\sunrise174.jpg',\n",
       " 'D:\\\\AIoT-深度学习视频版\\\\深度学习基础\\\\day56_dropout和bn\\\\代码\\\\dataset\\\\sunrise175.jpg',\n",
       " 'D:\\\\AIoT-深度学习视频版\\\\深度学习基础\\\\day56_dropout和bn\\\\代码\\\\dataset\\\\sunrise176.jpg',\n",
       " 'D:\\\\AIoT-深度学习视频版\\\\深度学习基础\\\\day56_dropout和bn\\\\代码\\\\dataset\\\\sunrise177.jpg',\n",
       " 'D:\\\\AIoT-深度学习视频版\\\\深度学习基础\\\\day56_dropout和bn\\\\代码\\\\dataset\\\\sunrise178.jpg',\n",
       " 'D:\\\\AIoT-深度学习视频版\\\\深度学习基础\\\\day56_dropout和bn\\\\代码\\\\dataset\\\\sunrise179.jpg',\n",
       " 'D:\\\\AIoT-深度学习视频版\\\\深度学习基础\\\\day56_dropout和bn\\\\代码\\\\dataset\\\\sunrise18.jpg',\n",
       " 'D:\\\\AIoT-深度学习视频版\\\\深度学习基础\\\\day56_dropout和bn\\\\代码\\\\dataset\\\\sunrise180.jpg',\n",
       " 'D:\\\\AIoT-深度学习视频版\\\\深度学习基础\\\\day56_dropout和bn\\\\代码\\\\dataset\\\\sunrise181.jpg',\n",
       " 'D:\\\\AIoT-深度学习视频版\\\\深度学习基础\\\\day56_dropout和bn\\\\代码\\\\dataset\\\\sunrise182.jpg',\n",
       " 'D:\\\\AIoT-深度学习视频版\\\\深度学习基础\\\\day56_dropout和bn\\\\代码\\\\dataset\\\\sunrise183.jpg',\n",
       " 'D:\\\\AIoT-深度学习视频版\\\\深度学习基础\\\\day56_dropout和bn\\\\代码\\\\dataset\\\\sunrise184.jpg',\n",
       " 'D:\\\\AIoT-深度学习视频版\\\\深度学习基础\\\\day56_dropout和bn\\\\代码\\\\dataset\\\\sunrise185.jpg',\n",
       " 'D:\\\\AIoT-深度学习视频版\\\\深度学习基础\\\\day56_dropout和bn\\\\代码\\\\dataset\\\\sunrise186.jpg',\n",
       " 'D:\\\\AIoT-深度学习视频版\\\\深度学习基础\\\\day56_dropout和bn\\\\代码\\\\dataset\\\\sunrise187.jpg',\n",
       " 'D:\\\\AIoT-深度学习视频版\\\\深度学习基础\\\\day56_dropout和bn\\\\代码\\\\dataset\\\\sunrise188.jpg',\n",
       " 'D:\\\\AIoT-深度学习视频版\\\\深度学习基础\\\\day56_dropout和bn\\\\代码\\\\dataset\\\\sunrise189.jpg',\n",
       " 'D:\\\\AIoT-深度学习视频版\\\\深度学习基础\\\\day56_dropout和bn\\\\代码\\\\dataset\\\\sunrise19.jpg',\n",
       " 'D:\\\\AIoT-深度学习视频版\\\\深度学习基础\\\\day56_dropout和bn\\\\代码\\\\dataset\\\\sunrise190.jpg',\n",
       " 'D:\\\\AIoT-深度学习视频版\\\\深度学习基础\\\\day56_dropout和bn\\\\代码\\\\dataset\\\\sunrise191.jpg',\n",
       " 'D:\\\\AIoT-深度学习视频版\\\\深度学习基础\\\\day56_dropout和bn\\\\代码\\\\dataset\\\\sunrise192.jpg',\n",
       " 'D:\\\\AIoT-深度学习视频版\\\\深度学习基础\\\\day56_dropout和bn\\\\代码\\\\dataset\\\\sunrise193.jpg',\n",
       " 'D:\\\\AIoT-深度学习视频版\\\\深度学习基础\\\\day56_dropout和bn\\\\代码\\\\dataset\\\\sunrise194.jpg',\n",
       " 'D:\\\\AIoT-深度学习视频版\\\\深度学习基础\\\\day56_dropout和bn\\\\代码\\\\dataset\\\\sunrise195.jpg',\n",
       " 'D:\\\\AIoT-深度学习视频版\\\\深度学习基础\\\\day56_dropout和bn\\\\代码\\\\dataset\\\\sunrise196.jpg',\n",
       " 'D:\\\\AIoT-深度学习视频版\\\\深度学习基础\\\\day56_dropout和bn\\\\代码\\\\dataset\\\\sunrise197.jpg',\n",
       " 'D:\\\\AIoT-深度学习视频版\\\\深度学习基础\\\\day56_dropout和bn\\\\代码\\\\dataset\\\\sunrise198.jpg',\n",
       " 'D:\\\\AIoT-深度学习视频版\\\\深度学习基础\\\\day56_dropout和bn\\\\代码\\\\dataset\\\\sunrise199.jpg',\n",
       " 'D:\\\\AIoT-深度学习视频版\\\\深度学习基础\\\\day56_dropout和bn\\\\代码\\\\dataset\\\\sunrise2.jpg',\n",
       " 'D:\\\\AIoT-深度学习视频版\\\\深度学习基础\\\\day56_dropout和bn\\\\代码\\\\dataset\\\\sunrise20.jpg',\n",
       " 'D:\\\\AIoT-深度学习视频版\\\\深度学习基础\\\\day56_dropout和bn\\\\代码\\\\dataset\\\\sunrise200.jpg',\n",
       " 'D:\\\\AIoT-深度学习视频版\\\\深度学习基础\\\\day56_dropout和bn\\\\代码\\\\dataset\\\\sunrise201.jpg',\n",
       " 'D:\\\\AIoT-深度学习视频版\\\\深度学习基础\\\\day56_dropout和bn\\\\代码\\\\dataset\\\\sunrise202.jpg',\n",
       " 'D:\\\\AIoT-深度学习视频版\\\\深度学习基础\\\\day56_dropout和bn\\\\代码\\\\dataset\\\\sunrise203.jpg',\n",
       " 'D:\\\\AIoT-深度学习视频版\\\\深度学习基础\\\\day56_dropout和bn\\\\代码\\\\dataset\\\\sunrise204.jpg',\n",
       " 'D:\\\\AIoT-深度学习视频版\\\\深度学习基础\\\\day56_dropout和bn\\\\代码\\\\dataset\\\\sunrise205.jpg',\n",
       " 'D:\\\\AIoT-深度学习视频版\\\\深度学习基础\\\\day56_dropout和bn\\\\代码\\\\dataset\\\\sunrise206.jpg',\n",
       " 'D:\\\\AIoT-深度学习视频版\\\\深度学习基础\\\\day56_dropout和bn\\\\代码\\\\dataset\\\\sunrise207.jpg',\n",
       " 'D:\\\\AIoT-深度学习视频版\\\\深度学习基础\\\\day56_dropout和bn\\\\代码\\\\dataset\\\\sunrise208.jpg',\n",
       " 'D:\\\\AIoT-深度学习视频版\\\\深度学习基础\\\\day56_dropout和bn\\\\代码\\\\dataset\\\\sunrise209.jpg',\n",
       " 'D:\\\\AIoT-深度学习视频版\\\\深度学习基础\\\\day56_dropout和bn\\\\代码\\\\dataset\\\\sunrise21.jpg',\n",
       " 'D:\\\\AIoT-深度学习视频版\\\\深度学习基础\\\\day56_dropout和bn\\\\代码\\\\dataset\\\\sunrise210.jpg',\n",
       " 'D:\\\\AIoT-深度学习视频版\\\\深度学习基础\\\\day56_dropout和bn\\\\代码\\\\dataset\\\\sunrise211.jpg',\n",
       " 'D:\\\\AIoT-深度学习视频版\\\\深度学习基础\\\\day56_dropout和bn\\\\代码\\\\dataset\\\\sunrise212.jpg',\n",
       " 'D:\\\\AIoT-深度学习视频版\\\\深度学习基础\\\\day56_dropout和bn\\\\代码\\\\dataset\\\\sunrise213.jpg',\n",
       " 'D:\\\\AIoT-深度学习视频版\\\\深度学习基础\\\\day56_dropout和bn\\\\代码\\\\dataset\\\\sunrise214.jpg',\n",
       " 'D:\\\\AIoT-深度学习视频版\\\\深度学习基础\\\\day56_dropout和bn\\\\代码\\\\dataset\\\\sunrise215.jpg',\n",
       " 'D:\\\\AIoT-深度学习视频版\\\\深度学习基础\\\\day56_dropout和bn\\\\代码\\\\dataset\\\\sunrise216.jpg',\n",
       " 'D:\\\\AIoT-深度学习视频版\\\\深度学习基础\\\\day56_dropout和bn\\\\代码\\\\dataset\\\\sunrise217.jpg',\n",
       " 'D:\\\\AIoT-深度学习视频版\\\\深度学习基础\\\\day56_dropout和bn\\\\代码\\\\dataset\\\\sunrise218.jpg',\n",
       " 'D:\\\\AIoT-深度学习视频版\\\\深度学习基础\\\\day56_dropout和bn\\\\代码\\\\dataset\\\\sunrise219.jpg',\n",
       " 'D:\\\\AIoT-深度学习视频版\\\\深度学习基础\\\\day56_dropout和bn\\\\代码\\\\dataset\\\\sunrise22.jpg',\n",
       " 'D:\\\\AIoT-深度学习视频版\\\\深度学习基础\\\\day56_dropout和bn\\\\代码\\\\dataset\\\\sunrise220.jpg',\n",
       " 'D:\\\\AIoT-深度学习视频版\\\\深度学习基础\\\\day56_dropout和bn\\\\代码\\\\dataset\\\\sunrise221.jpg',\n",
       " 'D:\\\\AIoT-深度学习视频版\\\\深度学习基础\\\\day56_dropout和bn\\\\代码\\\\dataset\\\\sunrise222.jpg',\n",
       " 'D:\\\\AIoT-深度学习视频版\\\\深度学习基础\\\\day56_dropout和bn\\\\代码\\\\dataset\\\\sunrise223.jpg',\n",
       " 'D:\\\\AIoT-深度学习视频版\\\\深度学习基础\\\\day56_dropout和bn\\\\代码\\\\dataset\\\\sunrise224.jpg',\n",
       " 'D:\\\\AIoT-深度学习视频版\\\\深度学习基础\\\\day56_dropout和bn\\\\代码\\\\dataset\\\\sunrise225.jpg',\n",
       " 'D:\\\\AIoT-深度学习视频版\\\\深度学习基础\\\\day56_dropout和bn\\\\代码\\\\dataset\\\\sunrise226.jpg',\n",
       " 'D:\\\\AIoT-深度学习视频版\\\\深度学习基础\\\\day56_dropout和bn\\\\代码\\\\dataset\\\\sunrise227.jpg',\n",
       " 'D:\\\\AIoT-深度学习视频版\\\\深度学习基础\\\\day56_dropout和bn\\\\代码\\\\dataset\\\\sunrise228.jpg',\n",
       " 'D:\\\\AIoT-深度学习视频版\\\\深度学习基础\\\\day56_dropout和bn\\\\代码\\\\dataset\\\\sunrise229.jpg',\n",
       " 'D:\\\\AIoT-深度学习视频版\\\\深度学习基础\\\\day56_dropout和bn\\\\代码\\\\dataset\\\\sunrise23.jpg',\n",
       " 'D:\\\\AIoT-深度学习视频版\\\\深度学习基础\\\\day56_dropout和bn\\\\代码\\\\dataset\\\\sunrise230.jpg',\n",
       " 'D:\\\\AIoT-深度学习视频版\\\\深度学习基础\\\\day56_dropout和bn\\\\代码\\\\dataset\\\\sunrise231.jpg',\n",
       " 'D:\\\\AIoT-深度学习视频版\\\\深度学习基础\\\\day56_dropout和bn\\\\代码\\\\dataset\\\\sunrise232.jpg',\n",
       " 'D:\\\\AIoT-深度学习视频版\\\\深度学习基础\\\\day56_dropout和bn\\\\代码\\\\dataset\\\\sunrise233.jpg',\n",
       " 'D:\\\\AIoT-深度学习视频版\\\\深度学习基础\\\\day56_dropout和bn\\\\代码\\\\dataset\\\\sunrise234.jpg',\n",
       " 'D:\\\\AIoT-深度学习视频版\\\\深度学习基础\\\\day56_dropout和bn\\\\代码\\\\dataset\\\\sunrise235.jpg',\n",
       " 'D:\\\\AIoT-深度学习视频版\\\\深度学习基础\\\\day56_dropout和bn\\\\代码\\\\dataset\\\\sunrise236.jpg',\n",
       " 'D:\\\\AIoT-深度学习视频版\\\\深度学习基础\\\\day56_dropout和bn\\\\代码\\\\dataset\\\\sunrise237.jpg',\n",
       " 'D:\\\\AIoT-深度学习视频版\\\\深度学习基础\\\\day56_dropout和bn\\\\代码\\\\dataset\\\\sunrise238.jpg',\n",
       " 'D:\\\\AIoT-深度学习视频版\\\\深度学习基础\\\\day56_dropout和bn\\\\代码\\\\dataset\\\\sunrise239.jpg',\n",
       " 'D:\\\\AIoT-深度学习视频版\\\\深度学习基础\\\\day56_dropout和bn\\\\代码\\\\dataset\\\\sunrise24.jpg',\n",
       " 'D:\\\\AIoT-深度学习视频版\\\\深度学习基础\\\\day56_dropout和bn\\\\代码\\\\dataset\\\\sunrise240.jpg',\n",
       " 'D:\\\\AIoT-深度学习视频版\\\\深度学习基础\\\\day56_dropout和bn\\\\代码\\\\dataset\\\\sunrise241.jpg',\n",
       " 'D:\\\\AIoT-深度学习视频版\\\\深度学习基础\\\\day56_dropout和bn\\\\代码\\\\dataset\\\\sunrise242.jpg',\n",
       " 'D:\\\\AIoT-深度学习视频版\\\\深度学习基础\\\\day56_dropout和bn\\\\代码\\\\dataset\\\\sunrise243.jpg',\n",
       " 'D:\\\\AIoT-深度学习视频版\\\\深度学习基础\\\\day56_dropout和bn\\\\代码\\\\dataset\\\\sunrise244.jpg',\n",
       " 'D:\\\\AIoT-深度学习视频版\\\\深度学习基础\\\\day56_dropout和bn\\\\代码\\\\dataset\\\\sunrise245.jpg',\n",
       " 'D:\\\\AIoT-深度学习视频版\\\\深度学习基础\\\\day56_dropout和bn\\\\代码\\\\dataset\\\\sunrise246.jpg',\n",
       " 'D:\\\\AIoT-深度学习视频版\\\\深度学习基础\\\\day56_dropout和bn\\\\代码\\\\dataset\\\\sunrise247.jpg',\n",
       " 'D:\\\\AIoT-深度学习视频版\\\\深度学习基础\\\\day56_dropout和bn\\\\代码\\\\dataset\\\\sunrise248.jpg',\n",
       " 'D:\\\\AIoT-深度学习视频版\\\\深度学习基础\\\\day56_dropout和bn\\\\代码\\\\dataset\\\\sunrise249.jpg',\n",
       " 'D:\\\\AIoT-深度学习视频版\\\\深度学习基础\\\\day56_dropout和bn\\\\代码\\\\dataset\\\\sunrise25.jpg',\n",
       " 'D:\\\\AIoT-深度学习视频版\\\\深度学习基础\\\\day56_dropout和bn\\\\代码\\\\dataset\\\\sunrise250.jpg',\n",
       " 'D:\\\\AIoT-深度学习视频版\\\\深度学习基础\\\\day56_dropout和bn\\\\代码\\\\dataset\\\\sunrise251.jpg',\n",
       " 'D:\\\\AIoT-深度学习视频版\\\\深度学习基础\\\\day56_dropout和bn\\\\代码\\\\dataset\\\\sunrise252.jpg',\n",
       " 'D:\\\\AIoT-深度学习视频版\\\\深度学习基础\\\\day56_dropout和bn\\\\代码\\\\dataset\\\\sunrise253.jpg',\n",
       " 'D:\\\\AIoT-深度学习视频版\\\\深度学习基础\\\\day56_dropout和bn\\\\代码\\\\dataset\\\\sunrise254.jpg',\n",
       " 'D:\\\\AIoT-深度学习视频版\\\\深度学习基础\\\\day56_dropout和bn\\\\代码\\\\dataset\\\\sunrise255.jpg',\n",
       " 'D:\\\\AIoT-深度学习视频版\\\\深度学习基础\\\\day56_dropout和bn\\\\代码\\\\dataset\\\\sunrise256.jpg',\n",
       " 'D:\\\\AIoT-深度学习视频版\\\\深度学习基础\\\\day56_dropout和bn\\\\代码\\\\dataset\\\\sunrise257.jpg',\n",
       " 'D:\\\\AIoT-深度学习视频版\\\\深度学习基础\\\\day56_dropout和bn\\\\代码\\\\dataset\\\\sunrise258.jpg',\n",
       " 'D:\\\\AIoT-深度学习视频版\\\\深度学习基础\\\\day56_dropout和bn\\\\代码\\\\dataset\\\\sunrise259.jpg',\n",
       " 'D:\\\\AIoT-深度学习视频版\\\\深度学习基础\\\\day56_dropout和bn\\\\代码\\\\dataset\\\\sunrise26.jpg',\n",
       " 'D:\\\\AIoT-深度学习视频版\\\\深度学习基础\\\\day56_dropout和bn\\\\代码\\\\dataset\\\\sunrise260.jpg',\n",
       " 'D:\\\\AIoT-深度学习视频版\\\\深度学习基础\\\\day56_dropout和bn\\\\代码\\\\dataset\\\\sunrise261.jpg',\n",
       " 'D:\\\\AIoT-深度学习视频版\\\\深度学习基础\\\\day56_dropout和bn\\\\代码\\\\dataset\\\\sunrise262.jpg',\n",
       " 'D:\\\\AIoT-深度学习视频版\\\\深度学习基础\\\\day56_dropout和bn\\\\代码\\\\dataset\\\\sunrise263.jpg',\n",
       " 'D:\\\\AIoT-深度学习视频版\\\\深度学习基础\\\\day56_dropout和bn\\\\代码\\\\dataset\\\\sunrise264.jpg',\n",
       " 'D:\\\\AIoT-深度学习视频版\\\\深度学习基础\\\\day56_dropout和bn\\\\代码\\\\dataset\\\\sunrise265.jpg',\n",
       " 'D:\\\\AIoT-深度学习视频版\\\\深度学习基础\\\\day56_dropout和bn\\\\代码\\\\dataset\\\\sunrise266.jpg',\n",
       " 'D:\\\\AIoT-深度学习视频版\\\\深度学习基础\\\\day56_dropout和bn\\\\代码\\\\dataset\\\\sunrise267.jpg',\n",
       " 'D:\\\\AIoT-深度学习视频版\\\\深度学习基础\\\\day56_dropout和bn\\\\代码\\\\dataset\\\\sunrise268.jpg',\n",
       " 'D:\\\\AIoT-深度学习视频版\\\\深度学习基础\\\\day56_dropout和bn\\\\代码\\\\dataset\\\\sunrise269.jpg',\n",
       " 'D:\\\\AIoT-深度学习视频版\\\\深度学习基础\\\\day56_dropout和bn\\\\代码\\\\dataset\\\\sunrise27.jpg',\n",
       " 'D:\\\\AIoT-深度学习视频版\\\\深度学习基础\\\\day56_dropout和bn\\\\代码\\\\dataset\\\\sunrise270.jpg',\n",
       " 'D:\\\\AIoT-深度学习视频版\\\\深度学习基础\\\\day56_dropout和bn\\\\代码\\\\dataset\\\\sunrise271.jpg',\n",
       " 'D:\\\\AIoT-深度学习视频版\\\\深度学习基础\\\\day56_dropout和bn\\\\代码\\\\dataset\\\\sunrise272.jpg',\n",
       " 'D:\\\\AIoT-深度学习视频版\\\\深度学习基础\\\\day56_dropout和bn\\\\代码\\\\dataset\\\\sunrise273.jpg',\n",
       " 'D:\\\\AIoT-深度学习视频版\\\\深度学习基础\\\\day56_dropout和bn\\\\代码\\\\dataset\\\\sunrise274.jpg',\n",
       " 'D:\\\\AIoT-深度学习视频版\\\\深度学习基础\\\\day56_dropout和bn\\\\代码\\\\dataset\\\\sunrise275.jpg',\n",
       " 'D:\\\\AIoT-深度学习视频版\\\\深度学习基础\\\\day56_dropout和bn\\\\代码\\\\dataset\\\\sunrise276.jpg',\n",
       " 'D:\\\\AIoT-深度学习视频版\\\\深度学习基础\\\\day56_dropout和bn\\\\代码\\\\dataset\\\\sunrise277.jpg',\n",
       " 'D:\\\\AIoT-深度学习视频版\\\\深度学习基础\\\\day56_dropout和bn\\\\代码\\\\dataset\\\\sunrise278.jpg',\n",
       " 'D:\\\\AIoT-深度学习视频版\\\\深度学习基础\\\\day56_dropout和bn\\\\代码\\\\dataset\\\\sunrise279.jpg',\n",
       " 'D:\\\\AIoT-深度学习视频版\\\\深度学习基础\\\\day56_dropout和bn\\\\代码\\\\dataset\\\\sunrise28.jpg',\n",
       " 'D:\\\\AIoT-深度学习视频版\\\\深度学习基础\\\\day56_dropout和bn\\\\代码\\\\dataset\\\\sunrise280.jpg',\n",
       " 'D:\\\\AIoT-深度学习视频版\\\\深度学习基础\\\\day56_dropout和bn\\\\代码\\\\dataset\\\\sunrise281.jpg',\n",
       " 'D:\\\\AIoT-深度学习视频版\\\\深度学习基础\\\\day56_dropout和bn\\\\代码\\\\dataset\\\\sunrise282.jpg',\n",
       " 'D:\\\\AIoT-深度学习视频版\\\\深度学习基础\\\\day56_dropout和bn\\\\代码\\\\dataset\\\\sunrise283.jpg',\n",
       " 'D:\\\\AIoT-深度学习视频版\\\\深度学习基础\\\\day56_dropout和bn\\\\代码\\\\dataset\\\\sunrise284.jpg',\n",
       " 'D:\\\\AIoT-深度学习视频版\\\\深度学习基础\\\\day56_dropout和bn\\\\代码\\\\dataset\\\\sunrise285.jpg',\n",
       " 'D:\\\\AIoT-深度学习视频版\\\\深度学习基础\\\\day56_dropout和bn\\\\代码\\\\dataset\\\\sunrise286.jpg',\n",
       " 'D:\\\\AIoT-深度学习视频版\\\\深度学习基础\\\\day56_dropout和bn\\\\代码\\\\dataset\\\\sunrise287.jpg',\n",
       " 'D:\\\\AIoT-深度学习视频版\\\\深度学习基础\\\\day56_dropout和bn\\\\代码\\\\dataset\\\\sunrise288.jpg',\n",
       " 'D:\\\\AIoT-深度学习视频版\\\\深度学习基础\\\\day56_dropout和bn\\\\代码\\\\dataset\\\\sunrise289.jpg',\n",
       " 'D:\\\\AIoT-深度学习视频版\\\\深度学习基础\\\\day56_dropout和bn\\\\代码\\\\dataset\\\\sunrise29.jpg',\n",
       " 'D:\\\\AIoT-深度学习视频版\\\\深度学习基础\\\\day56_dropout和bn\\\\代码\\\\dataset\\\\sunrise290.jpg',\n",
       " 'D:\\\\AIoT-深度学习视频版\\\\深度学习基础\\\\day56_dropout和bn\\\\代码\\\\dataset\\\\sunrise291.jpg',\n",
       " 'D:\\\\AIoT-深度学习视频版\\\\深度学习基础\\\\day56_dropout和bn\\\\代码\\\\dataset\\\\sunrise292.jpg',\n",
       " 'D:\\\\AIoT-深度学习视频版\\\\深度学习基础\\\\day56_dropout和bn\\\\代码\\\\dataset\\\\sunrise293.jpg',\n",
       " 'D:\\\\AIoT-深度学习视频版\\\\深度学习基础\\\\day56_dropout和bn\\\\代码\\\\dataset\\\\sunrise294.jpg',\n",
       " 'D:\\\\AIoT-深度学习视频版\\\\深度学习基础\\\\day56_dropout和bn\\\\代码\\\\dataset\\\\sunrise295.jpg',\n",
       " 'D:\\\\AIoT-深度学习视频版\\\\深度学习基础\\\\day56_dropout和bn\\\\代码\\\\dataset\\\\sunrise296.jpg',\n",
       " 'D:\\\\AIoT-深度学习视频版\\\\深度学习基础\\\\day56_dropout和bn\\\\代码\\\\dataset\\\\sunrise297.jpg',\n",
       " 'D:\\\\AIoT-深度学习视频版\\\\深度学习基础\\\\day56_dropout和bn\\\\代码\\\\dataset\\\\sunrise298.jpg',\n",
       " 'D:\\\\AIoT-深度学习视频版\\\\深度学习基础\\\\day56_dropout和bn\\\\代码\\\\dataset\\\\sunrise299.jpg',\n",
       " 'D:\\\\AIoT-深度学习视频版\\\\深度学习基础\\\\day56_dropout和bn\\\\代码\\\\dataset\\\\sunrise3.jpg',\n",
       " 'D:\\\\AIoT-深度学习视频版\\\\深度学习基础\\\\day56_dropout和bn\\\\代码\\\\dataset\\\\sunrise30.jpg',\n",
       " 'D:\\\\AIoT-深度学习视频版\\\\深度学习基础\\\\day56_dropout和bn\\\\代码\\\\dataset\\\\sunrise300.jpg',\n",
       " 'D:\\\\AIoT-深度学习视频版\\\\深度学习基础\\\\day56_dropout和bn\\\\代码\\\\dataset\\\\sunrise301.jpg',\n",
       " 'D:\\\\AIoT-深度学习视频版\\\\深度学习基础\\\\day56_dropout和bn\\\\代码\\\\dataset\\\\sunrise302.jpg',\n",
       " 'D:\\\\AIoT-深度学习视频版\\\\深度学习基础\\\\day56_dropout和bn\\\\代码\\\\dataset\\\\sunrise303.jpg',\n",
       " 'D:\\\\AIoT-深度学习视频版\\\\深度学习基础\\\\day56_dropout和bn\\\\代码\\\\dataset\\\\sunrise304.jpg',\n",
       " 'D:\\\\AIoT-深度学习视频版\\\\深度学习基础\\\\day56_dropout和bn\\\\代码\\\\dataset\\\\sunrise305.jpg',\n",
       " 'D:\\\\AIoT-深度学习视频版\\\\深度学习基础\\\\day56_dropout和bn\\\\代码\\\\dataset\\\\sunrise306.jpg',\n",
       " 'D:\\\\AIoT-深度学习视频版\\\\深度学习基础\\\\day56_dropout和bn\\\\代码\\\\dataset\\\\sunrise307.jpg',\n",
       " 'D:\\\\AIoT-深度学习视频版\\\\深度学习基础\\\\day56_dropout和bn\\\\代码\\\\dataset\\\\sunrise308.jpg',\n",
       " 'D:\\\\AIoT-深度学习视频版\\\\深度学习基础\\\\day56_dropout和bn\\\\代码\\\\dataset\\\\sunrise309.jpg',\n",
       " ...]"
      ]
     },
     "execution_count": 18,
     "metadata": {},
     "output_type": "execute_result"
    }
   ],
   "source": [
    "all_img_path"
   ]
  },
  {
   "cell_type": "code",
   "execution_count": 19,
   "metadata": {
    "ExecuteTime": {
     "end_time": "2022-04-13T14:06:23.043650Z",
     "start_time": "2022-04-13T14:06:23.029688Z"
    }
   },
   "outputs": [],
   "source": [
    "# 借助ndarray的索引取值的方法, 打乱数据\n",
    "index = np.random.permutation(len(all_img_path))"
   ]
  },
  {
   "cell_type": "code",
   "execution_count": 20,
   "metadata": {
    "ExecuteTime": {
     "end_time": "2022-04-13T14:06:23.059607Z",
     "start_time": "2022-04-13T14:06:23.044648Z"
    }
   },
   "outputs": [],
   "source": [
    "all_img_path = np.array(all_img_path)[index]"
   ]
  },
  {
   "cell_type": "code",
   "execution_count": 21,
   "metadata": {
    "ExecuteTime": {
     "end_time": "2022-04-13T14:06:23.075566Z",
     "start_time": "2022-04-13T14:06:23.060605Z"
    }
   },
   "outputs": [],
   "source": [
    "all_labels = np.array(all_labels)[index]"
   ]
  },
  {
   "cell_type": "code",
   "execution_count": 22,
   "metadata": {
    "ExecuteTime": {
     "end_time": "2022-04-13T14:06:23.091522Z",
     "start_time": "2022-04-13T14:06:23.078558Z"
    },
    "scrolled": true
   },
   "outputs": [
    {
     "data": {
      "text/plain": [
       "array(['D:\\\\AIoT-深度学习视频版\\\\深度学习基础\\\\day56_dropout和bn\\\\代码\\\\dataset\\\\cloudy192.jpg',\n",
       "       'D:\\\\AIoT-深度学习视频版\\\\深度学习基础\\\\day56_dropout和bn\\\\代码\\\\dataset\\\\sunrise260.jpg',\n",
       "       'D:\\\\AIoT-深度学习视频版\\\\深度学习基础\\\\day56_dropout和bn\\\\代码\\\\dataset\\\\rain164.jpg',\n",
       "       'D:\\\\AIoT-深度学习视频版\\\\深度学习基础\\\\day56_dropout和bn\\\\代码\\\\dataset\\\\sunrise296.jpg',\n",
       "       'D:\\\\AIoT-深度学习视频版\\\\深度学习基础\\\\day56_dropout和bn\\\\代码\\\\dataset\\\\sunrise228.jpg'],\n",
       "      dtype='<U65')"
      ]
     },
     "execution_count": 22,
     "metadata": {},
     "output_type": "execute_result"
    }
   ],
   "source": [
    "all_img_path[:5]"
   ]
  },
  {
   "cell_type": "code",
   "execution_count": 23,
   "metadata": {
    "ExecuteTime": {
     "end_time": "2022-04-13T14:06:23.107480Z",
     "start_time": "2022-04-13T14:06:23.092520Z"
    },
    "scrolled": true
   },
   "outputs": [
    {
     "data": {
      "text/plain": [
       "array([0, 3, 1, 3, 3])"
      ]
     },
     "execution_count": 23,
     "metadata": {},
     "output_type": "execute_result"
    }
   ],
   "source": [
    "all_labels[:5]"
   ]
  },
  {
   "cell_type": "code",
   "execution_count": 24,
   "metadata": {
    "ExecuteTime": {
     "end_time": "2022-04-13T14:06:23.122440Z",
     "start_time": "2022-04-13T14:06:23.110472Z"
    }
   },
   "outputs": [
    {
     "data": {
      "text/plain": [
       "{0: 'cloudy', 1: 'rain', 2: 'shine', 3: 'sunrise'}"
      ]
     },
     "execution_count": 24,
     "metadata": {},
     "output_type": "execute_result"
    }
   ],
   "source": [
    "idx_to_species"
   ]
  },
  {
   "cell_type": "code",
   "execution_count": 25,
   "metadata": {
    "ExecuteTime": {
     "end_time": "2022-04-13T14:06:23.138397Z",
     "start_time": "2022-04-13T14:06:23.123437Z"
    }
   },
   "outputs": [],
   "source": [
    "# 手动的划分一下训练数据和测试数据\n",
    "split = int(len(all_img_path) * 0.8)"
   ]
  },
  {
   "cell_type": "code",
   "execution_count": 26,
   "metadata": {
    "ExecuteTime": {
     "end_time": "2022-04-13T14:06:23.154354Z",
     "start_time": "2022-04-13T14:06:23.139395Z"
    }
   },
   "outputs": [],
   "source": [
    "train_imgs = all_img_path[:split]\n",
    "train_labels = all_labels[:split]\n",
    "\n",
    "test_imgs = all_img_path[split:]\n",
    "test_labels = all_labels[split:]"
   ]
  },
  {
   "cell_type": "code",
   "execution_count": 34,
   "metadata": {
    "ExecuteTime": {
     "end_time": "2022-04-13T14:07:34.708029Z",
     "start_time": "2022-04-13T14:07:34.690077Z"
    }
   },
   "outputs": [
    {
     "data": {
      "text/plain": [
       "array([0, 3, 1, 3, 3, 3, 0, 3, 3, 3, 2, 2, 2, 0, 3, 2, 0, 2, 0, 0, 2, 0,\n",
       "       1, 1, 1, 2, 2, 2, 2, 3, 2, 0, 1, 2, 2, 0, 1, 1, 3, 1, 1, 3, 2, 1,\n",
       "       3, 0, 2, 0, 1, 3, 3, 0, 3, 3, 1, 3, 3, 1, 2, 0, 2, 2, 3, 3, 1, 3,\n",
       "       3, 0, 3, 0, 1, 3, 0, 0, 1, 0, 3, 3, 2, 2, 1, 3, 0, 3, 0, 3, 0, 1,\n",
       "       1, 3, 0, 2, 0, 3, 3, 0, 3, 3, 0, 2, 0, 2, 2, 2, 3, 2, 3, 3, 3, 1,\n",
       "       0, 1, 1, 2, 2, 3, 3, 0, 3, 1, 0, 0, 3, 3, 2, 3, 3, 1, 1, 3, 3, 2,\n",
       "       0, 3, 0, 2, 2, 0, 0, 1, 1, 2, 0, 1, 3, 3, 1, 0, 2, 1, 0, 0, 2, 1,\n",
       "       3, 2, 2, 1, 1, 1, 2, 3, 0, 2, 3, 1, 0, 1, 2, 0, 3, 0, 0, 0, 0, 3,\n",
       "       1, 0, 0, 2, 2, 1, 2, 3, 0, 1, 0, 1, 2, 3, 3, 2, 3, 3, 0, 3, 2, 1,\n",
       "       3, 3, 3, 1, 1, 2, 2, 1, 0, 1, 2, 3, 1, 3, 0, 0, 0, 1, 0, 3, 1, 2,\n",
       "       3, 0, 2, 0, 3, 3, 3, 2, 0, 1, 3, 3, 0, 2, 2, 3, 0, 3, 0, 1, 2, 3,\n",
       "       1, 3, 2, 2, 2, 0, 2, 0, 1, 3, 2, 2, 0, 3, 0, 0, 0, 3, 2, 3, 3, 1,\n",
       "       0, 1, 0, 3, 1, 3, 0, 0, 2, 3, 1, 3, 3, 3, 1, 1, 0, 2, 2, 0, 2, 1,\n",
       "       2, 2, 0, 1, 3, 1, 3, 1, 1, 1, 0, 1, 3, 2, 0, 3, 3, 1, 0, 2, 0, 0,\n",
       "       3, 1, 0, 1, 3, 2, 2, 3, 2, 3, 0, 0, 2, 3, 2, 1, 3, 0, 3, 0, 0, 1,\n",
       "       3, 3, 1, 0, 3, 0, 2, 2, 2, 0, 0, 0, 2, 3, 3, 2, 1, 3, 1, 0, 1, 3,\n",
       "       3, 1, 3, 1, 0, 1, 3, 1, 3, 0, 0, 0, 1, 3, 2, 0, 2, 3, 3, 3, 3, 2,\n",
       "       3, 3, 3, 0, 3, 2, 2, 2, 1, 3, 3, 1, 3, 0, 3, 0, 1, 1, 2, 3, 3, 3,\n",
       "       2, 3, 3, 1, 1, 0, 3, 0, 2, 3, 3, 2, 0, 3, 3, 2, 0, 3, 3, 2, 1, 0,\n",
       "       0, 1, 2, 3, 0, 2, 3, 2, 3, 2, 0, 0, 1, 3, 3, 3, 1, 2, 3, 3, 2, 2,\n",
       "       0, 3, 3, 3, 0, 3, 3, 2, 3, 3, 3, 3, 1, 0, 1, 2, 0, 1, 1, 2, 3, 2,\n",
       "       3, 1, 0, 0, 0, 2, 3, 2, 1, 3, 0, 2, 3, 1, 0, 0, 1, 0, 0, 3, 3, 1,\n",
       "       0, 2, 0, 0, 3, 0, 2, 0, 0, 3, 0, 0, 0, 3, 0, 2, 1, 2, 0, 2, 2, 1,\n",
       "       2, 2, 1, 0, 1, 0, 3, 0, 3, 3, 3, 3, 2, 1, 3, 2, 3, 0, 3, 0, 0, 2,\n",
       "       2, 3, 0, 0, 0, 3, 1, 1, 0, 3, 1, 1, 2, 2, 0, 2, 1, 3, 2, 2, 2, 3,\n",
       "       2, 2, 3, 1, 0, 3, 0, 2, 0, 3, 3, 1, 1, 3, 2, 0, 3, 3, 3, 2, 0, 3,\n",
       "       2, 3, 3, 1, 3, 3, 2, 3, 3, 3, 3, 0, 3, 3, 1, 0, 2, 3, 0, 3, 3, 2,\n",
       "       1, 3, 3, 2, 3, 1, 3, 0, 0, 3, 0, 2, 0, 1, 3, 0, 2, 3, 2, 2, 1, 3,\n",
       "       0, 2, 0, 0, 3, 0, 0, 1, 0, 0, 3, 2, 1, 0, 0, 0, 2, 0, 2, 3, 1, 1,\n",
       "       2, 3, 0, 0, 3, 1, 3, 0, 3, 0, 0, 3, 1, 0, 1, 2, 3, 3, 2, 0, 0, 2,\n",
       "       0, 3, 0, 3, 0, 2, 0, 3, 1, 1, 1, 3, 0, 0, 0, 3, 2, 0, 1, 0, 0, 0,\n",
       "       0, 0, 3, 1, 3, 3, 2, 2, 1, 3, 3, 1, 2, 3, 0, 3, 3, 3, 0, 3, 3, 2,\n",
       "       3, 3, 3, 2, 3, 2, 0, 3, 2, 0, 3, 1, 2, 2, 1, 0, 2, 0, 3, 2, 2, 3,\n",
       "       0, 0, 0, 3, 1, 0, 2, 3, 3, 1, 1, 3, 2, 3, 2, 0, 1, 3, 3, 1, 1, 3,\n",
       "       0, 0, 2, 2, 3, 0, 2, 0, 3, 3, 1, 0, 1, 3, 2, 0, 0, 1, 3, 0, 3, 0,\n",
       "       2, 3, 3, 2, 1, 2, 2, 2, 2, 0, 0, 2, 1, 3, 0, 3, 2, 2, 3, 1, 3, 2,\n",
       "       1, 2, 3, 2, 1, 0, 1, 0, 3, 2, 1, 0, 2, 0, 1, 2, 0, 0, 3, 2, 2, 3,\n",
       "       2, 0, 0, 3, 1, 1, 3, 3, 1, 3, 1, 0, 2, 3, 3, 0, 1, 2, 0, 0, 2, 3,\n",
       "       3, 1, 2, 2, 0, 3, 3, 3, 2, 0, 2, 0, 1, 1, 3, 3, 1, 2, 0, 0, 2, 3,\n",
       "       2, 2, 0, 3, 2, 1, 0, 3, 0, 2, 0, 0, 1, 3, 3, 3, 3, 2, 2, 2, 3, 0,\n",
       "       1, 1, 2, 3, 0, 0, 2, 0, 3, 2, 3, 2, 1, 2, 0, 0, 1])"
      ]
     },
     "execution_count": 34,
     "metadata": {},
     "output_type": "execute_result"
    }
   ],
   "source": [
    "train_labels"
   ]
  },
  {
   "cell_type": "code",
   "execution_count": 27,
   "metadata": {
    "ExecuteTime": {
     "end_time": "2022-04-13T14:06:23.169317Z",
     "start_time": "2022-04-13T14:06:23.155352Z"
    }
   },
   "outputs": [],
   "source": [
    "transform = transforms.Compose([\n",
    "    transforms.Resize((96, 96)),\n",
    "    transforms.ToTensor()\n",
    "])"
   ]
  },
  {
   "cell_type": "code",
   "execution_count": 42,
   "metadata": {
    "ExecuteTime": {
     "end_time": "2022-04-13T14:09:52.874557Z",
     "start_time": "2022-04-13T14:09:52.856604Z"
    }
   },
   "outputs": [],
   "source": [
    "class MyDataset(torch.utils.data.Dataset):\n",
    "    def __init__(self, img_paths, labels, transform):\n",
    "        # 调用父类的init这里可以不写. \n",
    "#         super().__init__()\n",
    "        self.imgs = img_paths\n",
    "        self.labels = labels\n",
    "        self.transforms = transform\n",
    "        \n",
    "    def __getitem__(self, index):\n",
    "        # 根据index获取item\n",
    "        img_path = self.imgs[index]\n",
    "        label = self.labels[index]\n",
    "        \n",
    "        print(index)\n",
    "        # 通过PIL的Image读取图片. \n",
    "        img = Image.open(img_path)\n",
    "        data = self.transforms(img)\n",
    "        print(label)\n",
    "        print(type(label))\n",
    "        return data, torch.from_numpy(label).type(torch.LongTensor)\n",
    "    \n",
    "    def __len__(self):\n",
    "        return len(self.imgs)"
   ]
  },
  {
   "cell_type": "code",
   "execution_count": 40,
   "metadata": {
    "ExecuteTime": {
     "end_time": "2022-04-13T14:08:43.999734Z",
     "start_time": "2022-04-13T14:08:43.992753Z"
    }
   },
   "outputs": [],
   "source": [
    "dataset = MyDataset(all_img_path, all_labels, transform)"
   ]
  },
  {
   "cell_type": "code",
   "execution_count": 30,
   "metadata": {
    "ExecuteTime": {
     "end_time": "2022-04-13T14:06:23.217187Z",
     "start_time": "2022-04-13T14:06:23.202227Z"
    }
   },
   "outputs": [
    {
     "data": {
      "text/plain": [
       "1122"
      ]
     },
     "execution_count": 30,
     "metadata": {},
     "output_type": "execute_result"
    }
   ],
   "source": [
    "len(dataset)"
   ]
  },
  {
   "cell_type": "code",
   "execution_count": 41,
   "metadata": {
    "ExecuteTime": {
     "end_time": "2022-04-13T14:08:46.607354Z",
     "start_time": "2022-04-13T14:08:46.584907Z"
    }
   },
   "outputs": [
    {
     "name": "stdout",
     "output_type": "stream",
     "text": [
      "0\n",
      "<class 'numpy.int32'>\n"
     ]
    },
    {
     "ename": "TypeError",
     "evalue": "expected np.ndarray (got numpy.int32)",
     "output_type": "error",
     "traceback": [
      "\u001b[1;31m---------------------------------------------------------------------------\u001b[0m",
      "\u001b[1;31mTypeError\u001b[0m                                 Traceback (most recent call last)",
      "\u001b[1;32m<ipython-input-41-011aabe3526b>\u001b[0m in \u001b[0;36m<module>\u001b[1;34m\u001b[0m\n\u001b[1;32m----> 1\u001b[1;33m \u001b[0mimgs\u001b[0m\u001b[1;33m,\u001b[0m \u001b[0mlabels\u001b[0m \u001b[1;33m=\u001b[0m \u001b[0mnext\u001b[0m\u001b[1;33m(\u001b[0m\u001b[0miter\u001b[0m\u001b[1;33m(\u001b[0m\u001b[0mdataset\u001b[0m\u001b[1;33m)\u001b[0m\u001b[1;33m)\u001b[0m\u001b[1;33m\u001b[0m\u001b[1;33m\u001b[0m\u001b[0m\n\u001b[0m",
      "\u001b[1;32m<ipython-input-39-455dc761a072>\u001b[0m in \u001b[0;36m__getitem__\u001b[1;34m(self, index)\u001b[0m\n\u001b[0;32m     17\u001b[0m         \u001b[0mprint\u001b[0m\u001b[1;33m(\u001b[0m\u001b[0mlabel\u001b[0m\u001b[1;33m)\u001b[0m\u001b[1;33m\u001b[0m\u001b[1;33m\u001b[0m\u001b[0m\n\u001b[0;32m     18\u001b[0m         \u001b[0mprint\u001b[0m\u001b[1;33m(\u001b[0m\u001b[0mtype\u001b[0m\u001b[1;33m(\u001b[0m\u001b[0mlabel\u001b[0m\u001b[1;33m)\u001b[0m\u001b[1;33m)\u001b[0m\u001b[1;33m\u001b[0m\u001b[1;33m\u001b[0m\u001b[0m\n\u001b[1;32m---> 19\u001b[1;33m         \u001b[1;32mreturn\u001b[0m \u001b[0mdata\u001b[0m\u001b[1;33m,\u001b[0m \u001b[0mtorch\u001b[0m\u001b[1;33m.\u001b[0m\u001b[0mfrom_numpy\u001b[0m\u001b[1;33m(\u001b[0m\u001b[0mlabel\u001b[0m\u001b[1;33m)\u001b[0m\u001b[1;33m.\u001b[0m\u001b[0mtype\u001b[0m\u001b[1;33m(\u001b[0m\u001b[0mtorch\u001b[0m\u001b[1;33m.\u001b[0m\u001b[0mLongTensor\u001b[0m\u001b[1;33m)\u001b[0m\u001b[1;33m\u001b[0m\u001b[1;33m\u001b[0m\u001b[0m\n\u001b[0m\u001b[0;32m     20\u001b[0m \u001b[1;33m\u001b[0m\u001b[0m\n\u001b[0;32m     21\u001b[0m     \u001b[1;32mdef\u001b[0m \u001b[0m__len__\u001b[0m\u001b[1;33m(\u001b[0m\u001b[0mself\u001b[0m\u001b[1;33m)\u001b[0m\u001b[1;33m:\u001b[0m\u001b[1;33m\u001b[0m\u001b[1;33m\u001b[0m\u001b[0m\n",
      "\u001b[1;31mTypeError\u001b[0m: expected np.ndarray (got numpy.int32)"
     ]
    }
   ],
   "source": [
    "imgs, labels = next(iter(dataset))"
   ]
  },
  {
   "cell_type": "code",
   "execution_count": 33,
   "metadata": {
    "ExecuteTime": {
     "end_time": "2022-04-13T14:07:25.713276Z",
     "start_time": "2022-04-13T14:07:25.697318Z"
    }
   },
   "outputs": [
    {
     "data": {
      "text/plain": [
       "array([0, 3, 1, ..., 2, 3, 2])"
      ]
     },
     "execution_count": 33,
     "metadata": {},
     "output_type": "execute_result"
    }
   ],
   "source": [
    "all_labels"
   ]
  },
  {
   "cell_type": "code",
   "execution_count": 43,
   "metadata": {
    "ExecuteTime": {
     "end_time": "2022-04-13T14:10:39.228127Z",
     "start_time": "2022-04-13T14:10:39.210176Z"
    }
   },
   "outputs": [],
   "source": [
    "train_ds = MyDataset(train_imgs, train_labels, transform)\n",
    "test_ds = MyDataset(test_imgs, test_labels, transform)\n",
    "\n",
    "\n",
    "train_dl = torch.utils.data.DataLoader(train_ds, batch_size=16, shuffle=True)\n",
    "test_dl = torch.utils.data.DataLoader(test_ds, batch_size=16 * 2)\n"
   ]
  },
  {
   "cell_type": "code",
   "execution_count": 44,
   "metadata": {
    "ExecuteTime": {
     "end_time": "2022-04-13T14:10:41.301656Z",
     "start_time": "2022-04-13T14:10:41.281203Z"
    },
    "scrolled": true
   },
   "outputs": [
    {
     "name": "stdout",
     "output_type": "stream",
     "text": [
      "189\n",
      "3\n",
      "<class 'numpy.int32'>\n"
     ]
    },
    {
     "ename": "TypeError",
     "evalue": "expected np.ndarray (got numpy.int32)",
     "output_type": "error",
     "traceback": [
      "\u001b[1;31m---------------------------------------------------------------------------\u001b[0m",
      "\u001b[1;31mTypeError\u001b[0m                                 Traceback (most recent call last)",
      "\u001b[1;32m<ipython-input-44-6f35ebdcdd1c>\u001b[0m in \u001b[0;36m<module>\u001b[1;34m\u001b[0m\n\u001b[1;32m----> 1\u001b[1;33m \u001b[0mimgs\u001b[0m\u001b[1;33m,\u001b[0m \u001b[0mlabels\u001b[0m \u001b[1;33m=\u001b[0m \u001b[0mnext\u001b[0m\u001b[1;33m(\u001b[0m\u001b[0miter\u001b[0m\u001b[1;33m(\u001b[0m\u001b[0mtrain_dl\u001b[0m\u001b[1;33m)\u001b[0m\u001b[1;33m)\u001b[0m\u001b[1;33m\u001b[0m\u001b[1;33m\u001b[0m\u001b[0m\n\u001b[0m",
      "\u001b[1;32md:\\2005\\.venv\\lib\\site-packages\\torch\\utils\\data\\dataloader.py\u001b[0m in \u001b[0;36m__next__\u001b[1;34m(self)\u001b[0m\n\u001b[0;32m    515\u001b[0m             \u001b[1;32mif\u001b[0m \u001b[0mself\u001b[0m\u001b[1;33m.\u001b[0m\u001b[0m_sampler_iter\u001b[0m \u001b[1;32mis\u001b[0m \u001b[1;32mNone\u001b[0m\u001b[1;33m:\u001b[0m\u001b[1;33m\u001b[0m\u001b[1;33m\u001b[0m\u001b[0m\n\u001b[0;32m    516\u001b[0m                 \u001b[0mself\u001b[0m\u001b[1;33m.\u001b[0m\u001b[0m_reset\u001b[0m\u001b[1;33m(\u001b[0m\u001b[1;33m)\u001b[0m\u001b[1;33m\u001b[0m\u001b[1;33m\u001b[0m\u001b[0m\n\u001b[1;32m--> 517\u001b[1;33m             \u001b[0mdata\u001b[0m \u001b[1;33m=\u001b[0m \u001b[0mself\u001b[0m\u001b[1;33m.\u001b[0m\u001b[0m_next_data\u001b[0m\u001b[1;33m(\u001b[0m\u001b[1;33m)\u001b[0m\u001b[1;33m\u001b[0m\u001b[1;33m\u001b[0m\u001b[0m\n\u001b[0m\u001b[0;32m    518\u001b[0m             \u001b[0mself\u001b[0m\u001b[1;33m.\u001b[0m\u001b[0m_num_yielded\u001b[0m \u001b[1;33m+=\u001b[0m \u001b[1;36m1\u001b[0m\u001b[1;33m\u001b[0m\u001b[1;33m\u001b[0m\u001b[0m\n\u001b[0;32m    519\u001b[0m             \u001b[1;32mif\u001b[0m \u001b[0mself\u001b[0m\u001b[1;33m.\u001b[0m\u001b[0m_dataset_kind\u001b[0m \u001b[1;33m==\u001b[0m \u001b[0m_DatasetKind\u001b[0m\u001b[1;33m.\u001b[0m\u001b[0mIterable\u001b[0m \u001b[1;32mand\u001b[0m\u001b[0;31m \u001b[0m\u001b[0;31m\\\u001b[0m\u001b[1;33m\u001b[0m\u001b[1;33m\u001b[0m\u001b[0m\n",
      "\u001b[1;32md:\\2005\\.venv\\lib\\site-packages\\torch\\utils\\data\\dataloader.py\u001b[0m in \u001b[0;36m_next_data\u001b[1;34m(self)\u001b[0m\n\u001b[0;32m    555\u001b[0m     \u001b[1;32mdef\u001b[0m \u001b[0m_next_data\u001b[0m\u001b[1;33m(\u001b[0m\u001b[0mself\u001b[0m\u001b[1;33m)\u001b[0m\u001b[1;33m:\u001b[0m\u001b[1;33m\u001b[0m\u001b[1;33m\u001b[0m\u001b[0m\n\u001b[0;32m    556\u001b[0m         \u001b[0mindex\u001b[0m \u001b[1;33m=\u001b[0m \u001b[0mself\u001b[0m\u001b[1;33m.\u001b[0m\u001b[0m_next_index\u001b[0m\u001b[1;33m(\u001b[0m\u001b[1;33m)\u001b[0m  \u001b[1;31m# may raise StopIteration\u001b[0m\u001b[1;33m\u001b[0m\u001b[1;33m\u001b[0m\u001b[0m\n\u001b[1;32m--> 557\u001b[1;33m         \u001b[0mdata\u001b[0m \u001b[1;33m=\u001b[0m \u001b[0mself\u001b[0m\u001b[1;33m.\u001b[0m\u001b[0m_dataset_fetcher\u001b[0m\u001b[1;33m.\u001b[0m\u001b[0mfetch\u001b[0m\u001b[1;33m(\u001b[0m\u001b[0mindex\u001b[0m\u001b[1;33m)\u001b[0m  \u001b[1;31m# may raise StopIteration\u001b[0m\u001b[1;33m\u001b[0m\u001b[1;33m\u001b[0m\u001b[0m\n\u001b[0m\u001b[0;32m    558\u001b[0m         \u001b[1;32mif\u001b[0m \u001b[0mself\u001b[0m\u001b[1;33m.\u001b[0m\u001b[0m_pin_memory\u001b[0m\u001b[1;33m:\u001b[0m\u001b[1;33m\u001b[0m\u001b[1;33m\u001b[0m\u001b[0m\n\u001b[0;32m    559\u001b[0m             \u001b[0mdata\u001b[0m \u001b[1;33m=\u001b[0m \u001b[0m_utils\u001b[0m\u001b[1;33m.\u001b[0m\u001b[0mpin_memory\u001b[0m\u001b[1;33m.\u001b[0m\u001b[0mpin_memory\u001b[0m\u001b[1;33m(\u001b[0m\u001b[0mdata\u001b[0m\u001b[1;33m)\u001b[0m\u001b[1;33m\u001b[0m\u001b[1;33m\u001b[0m\u001b[0m\n",
      "\u001b[1;32md:\\2005\\.venv\\lib\\site-packages\\torch\\utils\\data\\_utils\\fetch.py\u001b[0m in \u001b[0;36mfetch\u001b[1;34m(self, possibly_batched_index)\u001b[0m\n\u001b[0;32m     42\u001b[0m     \u001b[1;32mdef\u001b[0m \u001b[0mfetch\u001b[0m\u001b[1;33m(\u001b[0m\u001b[0mself\u001b[0m\u001b[1;33m,\u001b[0m \u001b[0mpossibly_batched_index\u001b[0m\u001b[1;33m)\u001b[0m\u001b[1;33m:\u001b[0m\u001b[1;33m\u001b[0m\u001b[1;33m\u001b[0m\u001b[0m\n\u001b[0;32m     43\u001b[0m         \u001b[1;32mif\u001b[0m \u001b[0mself\u001b[0m\u001b[1;33m.\u001b[0m\u001b[0mauto_collation\u001b[0m\u001b[1;33m:\u001b[0m\u001b[1;33m\u001b[0m\u001b[1;33m\u001b[0m\u001b[0m\n\u001b[1;32m---> 44\u001b[1;33m             \u001b[0mdata\u001b[0m \u001b[1;33m=\u001b[0m \u001b[1;33m[\u001b[0m\u001b[0mself\u001b[0m\u001b[1;33m.\u001b[0m\u001b[0mdataset\u001b[0m\u001b[1;33m[\u001b[0m\u001b[0midx\u001b[0m\u001b[1;33m]\u001b[0m \u001b[1;32mfor\u001b[0m \u001b[0midx\u001b[0m \u001b[1;32min\u001b[0m \u001b[0mpossibly_batched_index\u001b[0m\u001b[1;33m]\u001b[0m\u001b[1;33m\u001b[0m\u001b[1;33m\u001b[0m\u001b[0m\n\u001b[0m\u001b[0;32m     45\u001b[0m         \u001b[1;32melse\u001b[0m\u001b[1;33m:\u001b[0m\u001b[1;33m\u001b[0m\u001b[1;33m\u001b[0m\u001b[0m\n\u001b[0;32m     46\u001b[0m             \u001b[0mdata\u001b[0m \u001b[1;33m=\u001b[0m \u001b[0mself\u001b[0m\u001b[1;33m.\u001b[0m\u001b[0mdataset\u001b[0m\u001b[1;33m[\u001b[0m\u001b[0mpossibly_batched_index\u001b[0m\u001b[1;33m]\u001b[0m\u001b[1;33m\u001b[0m\u001b[1;33m\u001b[0m\u001b[0m\n",
      "\u001b[1;32md:\\2005\\.venv\\lib\\site-packages\\torch\\utils\\data\\_utils\\fetch.py\u001b[0m in \u001b[0;36m<listcomp>\u001b[1;34m(.0)\u001b[0m\n\u001b[0;32m     42\u001b[0m     \u001b[1;32mdef\u001b[0m \u001b[0mfetch\u001b[0m\u001b[1;33m(\u001b[0m\u001b[0mself\u001b[0m\u001b[1;33m,\u001b[0m \u001b[0mpossibly_batched_index\u001b[0m\u001b[1;33m)\u001b[0m\u001b[1;33m:\u001b[0m\u001b[1;33m\u001b[0m\u001b[1;33m\u001b[0m\u001b[0m\n\u001b[0;32m     43\u001b[0m         \u001b[1;32mif\u001b[0m \u001b[0mself\u001b[0m\u001b[1;33m.\u001b[0m\u001b[0mauto_collation\u001b[0m\u001b[1;33m:\u001b[0m\u001b[1;33m\u001b[0m\u001b[1;33m\u001b[0m\u001b[0m\n\u001b[1;32m---> 44\u001b[1;33m             \u001b[0mdata\u001b[0m \u001b[1;33m=\u001b[0m \u001b[1;33m[\u001b[0m\u001b[0mself\u001b[0m\u001b[1;33m.\u001b[0m\u001b[0mdataset\u001b[0m\u001b[1;33m[\u001b[0m\u001b[0midx\u001b[0m\u001b[1;33m]\u001b[0m \u001b[1;32mfor\u001b[0m \u001b[0midx\u001b[0m \u001b[1;32min\u001b[0m \u001b[0mpossibly_batched_index\u001b[0m\u001b[1;33m]\u001b[0m\u001b[1;33m\u001b[0m\u001b[1;33m\u001b[0m\u001b[0m\n\u001b[0m\u001b[0;32m     45\u001b[0m         \u001b[1;32melse\u001b[0m\u001b[1;33m:\u001b[0m\u001b[1;33m\u001b[0m\u001b[1;33m\u001b[0m\u001b[0m\n\u001b[0;32m     46\u001b[0m             \u001b[0mdata\u001b[0m \u001b[1;33m=\u001b[0m \u001b[0mself\u001b[0m\u001b[1;33m.\u001b[0m\u001b[0mdataset\u001b[0m\u001b[1;33m[\u001b[0m\u001b[0mpossibly_batched_index\u001b[0m\u001b[1;33m]\u001b[0m\u001b[1;33m\u001b[0m\u001b[1;33m\u001b[0m\u001b[0m\n",
      "\u001b[1;32m<ipython-input-42-6d9c6793fc1f>\u001b[0m in \u001b[0;36m__getitem__\u001b[1;34m(self, index)\u001b[0m\n\u001b[0;32m     18\u001b[0m         \u001b[0mprint\u001b[0m\u001b[1;33m(\u001b[0m\u001b[0mlabel\u001b[0m\u001b[1;33m)\u001b[0m\u001b[1;33m\u001b[0m\u001b[1;33m\u001b[0m\u001b[0m\n\u001b[0;32m     19\u001b[0m         \u001b[0mprint\u001b[0m\u001b[1;33m(\u001b[0m\u001b[0mtype\u001b[0m\u001b[1;33m(\u001b[0m\u001b[0mlabel\u001b[0m\u001b[1;33m)\u001b[0m\u001b[1;33m)\u001b[0m\u001b[1;33m\u001b[0m\u001b[1;33m\u001b[0m\u001b[0m\n\u001b[1;32m---> 20\u001b[1;33m         \u001b[1;32mreturn\u001b[0m \u001b[0mdata\u001b[0m\u001b[1;33m,\u001b[0m \u001b[0mtorch\u001b[0m\u001b[1;33m.\u001b[0m\u001b[0mfrom_numpy\u001b[0m\u001b[1;33m(\u001b[0m\u001b[0mlabel\u001b[0m\u001b[1;33m)\u001b[0m\u001b[1;33m.\u001b[0m\u001b[0mtype\u001b[0m\u001b[1;33m(\u001b[0m\u001b[0mtorch\u001b[0m\u001b[1;33m.\u001b[0m\u001b[0mLongTensor\u001b[0m\u001b[1;33m)\u001b[0m\u001b[1;33m\u001b[0m\u001b[1;33m\u001b[0m\u001b[0m\n\u001b[0m\u001b[0;32m     21\u001b[0m \u001b[1;33m\u001b[0m\u001b[0m\n\u001b[0;32m     22\u001b[0m     \u001b[1;32mdef\u001b[0m \u001b[0m__len__\u001b[0m\u001b[1;33m(\u001b[0m\u001b[0mself\u001b[0m\u001b[1;33m)\u001b[0m\u001b[1;33m:\u001b[0m\u001b[1;33m\u001b[0m\u001b[1;33m\u001b[0m\u001b[0m\n",
      "\u001b[1;31mTypeError\u001b[0m: expected np.ndarray (got numpy.int32)"
     ]
    }
   ],
   "source": [
    "imgs, labels = next(iter(train_dl))"
   ]
  },
  {
   "cell_type": "code",
   "execution_count": null,
   "metadata": {
    "ExecuteTime": {
     "end_time": "2022-04-13T14:06:23.296480Z",
     "start_time": "2022-04-13T14:06:22.218Z"
    }
   },
   "outputs": [],
   "source": [
    "imgs.shape"
   ]
  },
  {
   "cell_type": "code",
   "execution_count": null,
   "metadata": {
    "ExecuteTime": {
     "end_time": "2022-04-13T14:06:23.297478Z",
     "start_time": "2022-04-13T14:06:22.220Z"
    }
   },
   "outputs": [],
   "source": [
    "labels"
   ]
  },
  {
   "cell_type": "code",
   "execution_count": null,
   "metadata": {
    "ExecuteTime": {
     "end_time": "2022-04-13T14:06:23.298475Z",
     "start_time": "2022-04-13T14:06:22.220Z"
    }
   },
   "outputs": [],
   "source": [
    "# 添加BN层.\n",
    "# 定义模型\n",
    "class Net(nn.Module):\n",
    "    def __init__(self):\n",
    "        super().__init__()\n",
    "        self.conv1 = nn.Conv2d(3, 16, 3)   # 16 * 94 * 94\n",
    "        self.bn1 = nn.BatchNorm2d(16)\n",
    "        self.pool = nn.MaxPool2d(2, 2)     # 16 * 47 * 47\n",
    "        \n",
    "        self.conv2 = nn.Conv2d(16, 32, 3)  # 32 * 45 * 45  -> pooling -> 32 * 22 * 22\n",
    "        self.bn2 = nn.BatchNorm2d(32)\n",
    "        self.conv3 = nn.Conv2d(32, 64, 3)  # 64 * 20 * 20  -> pooling -> 64 * 10 * 10\n",
    "        self.bn3 = nn.BatchNorm2d(64)\n",
    "        self.dropout = nn.Dropout()\n",
    "        \n",
    "        # batch , channel, height, width, 64, \n",
    "        self.fc1 = nn.Linear(64 * 10 * 10, 1024)\n",
    "        self.bn_fc1 = nn.BatchNorm1d(1024)\n",
    "        self.fc2 = nn.Linear(1024, 256)\n",
    "        self.bn_fc2 = nn.BatchNorm1d(256)\n",
    "        self.fc3 = nn.Linear(256, 4)\n",
    "        \n",
    "    def forward(self, x):\n",
    "        x = self.pool(F.relu(self.conv1(x)))\n",
    "        x = self.bn1(x)\n",
    "        x = self.pool(F.relu(self.conv2(x)))\n",
    "        x = self.bn2(x)\n",
    "        x = self.pool(F.relu(self.conv3(x)))\n",
    "        x = self.bn3(x)\n",
    "        # x.view(-1, 64 * 10 * 10)\n",
    "        x = nn.Flatten()(x)\n",
    "        x = F.relu(self.fc1(x))\n",
    "        x = self.bn_fc1(x)\n",
    "        x = self.dropout(x)\n",
    "        x = F.relu(self.fc2(x))\n",
    "        x = self.bn_fc2(x)\n",
    "        x = self.dropout(x)\n",
    "        x = self.fc3(x)\n",
    "        return x"
   ]
  },
  {
   "cell_type": "code",
   "execution_count": null,
   "metadata": {
    "ExecuteTime": {
     "end_time": "2022-04-13T14:06:23.299473Z",
     "start_time": "2022-04-13T14:06:22.221Z"
    }
   },
   "outputs": [],
   "source": [
    "device = torch.device('cuda:0' if torch.cuda.is_available() else 'cpu')"
   ]
  },
  {
   "cell_type": "code",
   "execution_count": null,
   "metadata": {
    "ExecuteTime": {
     "end_time": "2022-04-13T14:06:23.300470Z",
     "start_time": "2022-04-13T14:06:22.222Z"
    }
   },
   "outputs": [],
   "source": [
    "model = Net()\n",
    "# 把model拷到gpu上\n",
    "if torch.cuda.is_available():\n",
    "    model.to(device)\n",
    "    \n",
    "optimizer = torch.optim.Adam(model.parameters(), lr=0.001)\n",
    "loss_fn = nn.CrossEntropyLoss()\n"
   ]
  },
  {
   "cell_type": "code",
   "execution_count": null,
   "metadata": {
    "ExecuteTime": {
     "end_time": "2022-04-13T13:51:16.823679Z",
     "start_time": "2022-04-13T13:51:16.805728Z"
    }
   },
   "outputs": [],
   "source": []
  },
  {
   "cell_type": "code",
   "execution_count": null,
   "metadata": {
    "ExecuteTime": {
     "end_time": "2022-04-13T14:06:23.301467Z",
     "start_time": "2022-04-13T14:06:22.224Z"
    }
   },
   "outputs": [],
   "source": [
    "def fit(epoch, model, train_loader, test_loader):\n",
    "    correct = 0\n",
    "    total = 0\n",
    "    running_loss = 0\n",
    "    \n",
    "    # 因为bn和dropout需要手动指定训练模式和推理模式\n",
    "    model.train()\n",
    "    for x, y in train_loader:\n",
    "        # 把数据放到GPU上去. \n",
    "        x, y = x.to(device), y.to(device)\n",
    "        y_pred = model(x)\n",
    "        loss = loss_fn(y_pred, y)\n",
    "        optimizer.zero_grad()\n",
    "        loss.backward()\n",
    "        optimizer.step()\n",
    "        \n",
    "        with torch.no_grad():\n",
    "            y_pred = torch.argmax(y_pred, dim=1)\n",
    "            correct += (y_pred == y).sum().item()\n",
    "            total += y.size(0)\n",
    "            running_loss += loss.item()\n",
    "            \n",
    "    epoch_loss = running_loss / len(train_loader.dataset)\n",
    "    epoch_acc = correct / total\n",
    "        \n",
    "    # 测试过程\n",
    "    test_correct = 0\n",
    "    test_total = 0\n",
    "    test_running_loss = 0\n",
    "    model.eval()\n",
    "    with torch.no_grad():\n",
    "        for x, y in test_loader:\n",
    "            x, y = x.to(device), y.to(device)\n",
    "            y_pred = model(x)\n",
    "            loss = loss_fn(y_pred, y)\n",
    "            y_pred = torch.argmax(y_pred, dim=1)\n",
    "            test_correct += (y_pred == y).sum().item()\n",
    "            test_total += y.size(0)\n",
    "            test_running_loss += loss.item()\n",
    "    test_epoch_loss = test_running_loss / len(test_loader.dataset)\n",
    "    test_epoch_acc = test_correct / test_total\n",
    "\n",
    "    print('epoch: ', epoch,\n",
    "         'loss: ', round(epoch_loss, 3),\n",
    "         'accuracy: ', round(epoch_acc, 3),\n",
    "         'test_loss: ', round(test_epoch_loss, 3),\n",
    "         'test_accuracy: ', round(test_epoch_acc, 3))\n",
    "    return epoch_loss, epoch_acc, test_epoch_loss, test_epoch_acc"
   ]
  },
  {
   "cell_type": "code",
   "execution_count": null,
   "metadata": {
    "ExecuteTime": {
     "end_time": "2022-04-13T14:06:23.301467Z",
     "start_time": "2022-04-13T14:06:22.226Z"
    }
   },
   "outputs": [],
   "source": [
    "epochs = 20\n",
    "train_loss = []\n",
    "train_acc = []\n",
    "test_loss = []\n",
    "test_acc = []\n",
    "for epoch in range(epochs):\n",
    "    epoch_loss, epoch_acc, test_epoch_loss, test_epoch_acc = fit(epoch, model, train_dl, test_dl)\n",
    "    train_loss.append(epoch_loss)\n",
    "    train_acc.append(epoch_acc)\n",
    "    \n",
    "    test_loss.append(epoch_loss)\n",
    "    test_acc.append(epoch_acc)"
   ]
  },
  {
   "cell_type": "code",
   "execution_count": null,
   "metadata": {
    "ExecuteTime": {
     "end_time": "2022-04-13T14:06:23.302464Z",
     "start_time": "2022-04-13T14:06:22.227Z"
    }
   },
   "outputs": [],
   "source": [
    "all_labels.dtype"
   ]
  },
  {
   "cell_type": "code",
   "execution_count": null,
   "metadata": {},
   "outputs": [],
   "source": []
  }
 ],
 "metadata": {
  "hide_input": false,
  "kernelspec": {
   "display_name": "Python 3 (ipykernel)",
   "language": "python",
   "name": "python3"
  },
  "language_info": {
   "codemirror_mode": {
    "name": "ipython",
    "version": 3
   },
   "file_extension": ".py",
   "mimetype": "text/x-python",
   "name": "python",
   "nbconvert_exporter": "python",
   "pygments_lexer": "ipython3",
   "version": "3.9.7"
  },
  "latex_envs": {
   "LaTeX_envs_menu_present": true,
   "autoclose": false,
   "autocomplete": true,
   "bibliofile": "biblio.bib",
   "cite_by": "apalike",
   "current_citInitial": 1,
   "eqLabelWithNumbers": true,
   "eqNumInitial": 1,
   "hotkeys": {
    "equation": "Ctrl-E",
    "itemize": "Ctrl-I"
   },
   "labels_anchors": false,
   "latex_user_defs": false,
   "report_style_numbering": false,
   "user_envs_cfg": false
  },
  "nbTranslate": {
   "displayLangs": [
    "*"
   ],
   "hotkey": "alt-t",
   "langInMainMenu": true,
   "sourceLang": "en",
   "targetLang": "fr",
   "useGoogleTranslate": true
  },
  "toc": {
   "base_numbering": 1,
   "nav_menu": {},
   "number_sections": true,
   "sideBar": true,
   "skip_h1_title": false,
   "title_cell": "Table of Contents",
   "title_sidebar": "Contents",
   "toc_cell": false,
   "toc_position": {},
   "toc_section_display": true,
   "toc_window_display": false
  },
  "varInspector": {
   "cols": {
    "lenName": 16,
    "lenType": 16,
    "lenVar": 40
   },
   "kernels_config": {
    "python": {
     "delete_cmd_postfix": "",
     "delete_cmd_prefix": "del ",
     "library": "var_list.py",
     "varRefreshCmd": "print(var_dic_list())"
    },
    "r": {
     "delete_cmd_postfix": ") ",
     "delete_cmd_prefix": "rm(",
     "library": "var_list.r",
     "varRefreshCmd": "cat(var_dic_list()) "
    }
   },
   "types_to_exclude": [
    "module",
    "function",
    "builtin_function_or_method",
    "instance",
    "_Feature"
   ],
   "window_display": false
  }
 },
 "nbformat": 4,
 "nbformat_minor": 4
}
