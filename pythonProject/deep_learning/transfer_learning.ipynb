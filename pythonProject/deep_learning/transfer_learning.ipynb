{
 "cells": [
  {
   "cell_type": "code",
   "execution_count": 1,
   "id": "747aa35d",
   "metadata": {
    "ExecuteTime": {
     "end_time": "2022-06-09T07:34:01.090808Z",
     "start_time": "2022-06-09T07:33:46.960371Z"
    }
   },
   "outputs": [],
   "source": [
    "from tensorflow import keras\n",
    "import tensorflow as tf\n",
    "import numpy as np\n",
    "import pandas as pd\n",
    "import matplotlib.pyplot as plt"
   ]
  },
  {
   "cell_type": "markdown",
   "id": "abdccc6c",
   "metadata": {},
   "source": [
    "# 导入resnet50"
   ]
  },
  {
   "cell_type": "code",
   "execution_count": 2,
   "id": "d4a5ec01",
   "metadata": {
    "ExecuteTime": {
     "end_time": "2022-06-09T07:34:24.012670Z",
     "start_time": "2022-06-09T07:34:07.503358Z"
    }
   },
   "outputs": [
    {
     "name": "stdout",
     "output_type": "stream",
     "text": [
      "Downloading data from https://storage.googleapis.com/tensorflow/keras-applications/resnet/resnet50_weights_tf_dim_ordering_tf_kernels_notop.h5\n",
      "94765736/94765736 [==============================] - 8s 0us/step\n"
     ]
    }
   ],
   "source": [
    "resnet50 = keras.applications.ResNet50(include_top=False, pooling='avg')"
   ]
  },
  {
   "cell_type": "markdown",
   "id": "913c5683",
   "metadata": {},
   "source": [
    "# 配置自己的网络(未使数据处理相同)"
   ]
  },
  {
   "cell_type": "code",
   "execution_count": 3,
   "id": "9b26bf64",
   "metadata": {
    "ExecuteTime": {
     "end_time": "2022-06-09T07:36:59.935338Z",
     "start_time": "2022-06-09T07:36:59.926652Z"
    }
   },
   "outputs": [],
   "source": [
    "num_classes = 10"
   ]
  },
  {
   "cell_type": "code",
   "execution_count": 4,
   "id": "5bd4fe1e",
   "metadata": {
    "ExecuteTime": {
     "end_time": "2022-06-09T07:41:01.946687Z",
     "start_time": "2022-06-09T07:41:01.160648Z"
    }
   },
   "outputs": [],
   "source": [
    "model = keras.models.Sequential()\n",
    "model.add(resnet50)\n",
    "model.add(keras.layers.Dense(num_classes, activation='softmax'))"
   ]
  },
  {
   "cell_type": "code",
   "execution_count": 5,
   "id": "26d5972a",
   "metadata": {
    "ExecuteTime": {
     "end_time": "2022-06-09T07:41:09.060232Z",
     "start_time": "2022-06-09T07:41:09.052598Z"
    }
   },
   "outputs": [
    {
     "data": {
      "text/plain": [
       "[<keras.engine.functional.Functional at 0x25bcf3eb2b0>,\n",
       " <keras.layers.core.dense.Dense at 0x25bcf3e08b0>]"
      ]
     },
     "execution_count": 5,
     "metadata": {},
     "output_type": "execute_result"
    }
   ],
   "source": [
    "model.layers"
   ]
  },
  {
   "cell_type": "code",
   "execution_count": 6,
   "id": "cbff63ed",
   "metadata": {
    "ExecuteTime": {
     "end_time": "2022-06-09T07:41:47.345950Z",
     "start_time": "2022-06-09T07:41:47.325804Z"
    }
   },
   "outputs": [],
   "source": [
    "# 把除最后一层之外的参数, 全部冻结. \n",
    "model.layers[0].trainable = False"
   ]
  },
  {
   "cell_type": "code",
   "execution_count": 7,
   "id": "f9c5dfbf",
   "metadata": {
    "ExecuteTime": {
     "end_time": "2022-06-09T07:41:57.058896Z",
     "start_time": "2022-06-09T07:41:57.023989Z"
    }
   },
   "outputs": [],
   "source": [
    "model.compile(loss='categorical_crossentropy', optimizer='adam', metrics=['acc'])"
   ]
  },
  {
   "cell_type": "code",
   "execution_count": 8,
   "id": "ff424ec1",
   "metadata": {
    "ExecuteTime": {
     "end_time": "2022-06-09T07:42:08.660965Z",
     "start_time": "2022-06-09T07:42:08.627737Z"
    }
   },
   "outputs": [
    {
     "name": "stdout",
     "output_type": "stream",
     "text": [
      "Model: \"sequential\"\n",
      "_________________________________________________________________\n",
      " Layer (type)                Output Shape              Param #   \n",
      "=================================================================\n",
      " resnet50 (Functional)       (None, 2048)              23587712  \n",
      "                                                                 \n",
      " dense (Dense)               (None, 10)                20490     \n",
      "                                                                 \n",
      "=================================================================\n",
      "Total params: 23,608,202\n",
      "Trainable params: 20,490\n",
      "Non-trainable params: 23,587,712\n",
      "_________________________________________________________________\n"
     ]
    }
   ],
   "source": [
    "model.summary()"
   ]
  },
  {
   "cell_type": "code",
   "execution_count": 9,
   "id": "db87d7dc",
   "metadata": {
    "ExecuteTime": {
     "end_time": "2022-06-09T07:47:03.956672Z",
     "start_time": "2022-06-09T07:47:03.783506Z"
    }
   },
   "outputs": [
    {
     "name": "stdout",
     "output_type": "stream",
     "text": [
      "Found 1098 images belonging to 10 classes.\n",
      "Found 272 images belonging to 10 classes.\n",
      "1098\n",
      "272\n"
     ]
    }
   ],
   "source": [
    "train_dir = r'C:/Users/Administrator/Desktop/data/archive/training/training/'\n",
    "valid_dir =r'C:/Users/Administrator/Desktop/data/archive/validation/validation/'\n",
    "\n",
    "# 图片数据生成器\n",
    "train_datagen = keras.preprocessing.image.ImageDataGenerator(\n",
    "    rescale = 1. / 255,\n",
    "    rotation_range = 40,\n",
    "    width_shift_range = 0.2,\n",
    "    height_shift_range = 0.2,\n",
    "    shear_range = 0.2,\n",
    "    zoom_range = 0.2,\n",
    "    horizontal_flip = True,\n",
    "    vertical_flip = True,\n",
    "    fill_mode = 'nearest'\n",
    ")\n",
    "\n",
    "height = 224\n",
    "width = 224\n",
    "channels = 3\n",
    "batch_size = 32\n",
    "num_classes = 10\n",
    "\n",
    "train_generator = train_datagen.flow_from_directory(train_dir,\n",
    "                                 target_size = (height, width),\n",
    "                                 batch_size = batch_size,\n",
    "                                 shuffle = True,\n",
    "                                 seed = 7,\n",
    "                                 class_mode = 'categorical')\n",
    "\n",
    "valid_datagen = keras.preprocessing.image.ImageDataGenerator(\n",
    "    rescale = 1. / 255\n",
    ")\n",
    "valid_generator = valid_datagen.flow_from_directory(valid_dir,\n",
    "                                 target_size = (height, width),\n",
    "                                 batch_size = batch_size,\n",
    "                                 shuffle = True,\n",
    "                                 seed = 7,\n",
    "                                 class_mode = 'categorical')\n",
    "print(train_generator.samples)\n",
    "print(valid_generator.samples)"
   ]
  },
  {
   "cell_type": "markdown",
   "id": "b5ec7907",
   "metadata": {},
   "source": [
    "使用迁移学习, 对10种猴子进行识别效果很差. \n",
    "原因是因为预处理方式不一样."
   ]
  },
  {
   "cell_type": "code",
   "execution_count": 10,
   "id": "8349a3cc",
   "metadata": {
    "ExecuteTime": {
     "end_time": "2022-06-09T08:00:53.698406Z",
     "start_time": "2022-06-09T07:47:50.123292Z"
    }
   },
   "outputs": [
    {
     "name": "stdout",
     "output_type": "stream",
     "text": [
      "Epoch 1/10\n",
      "34/34 [==============================] - 114s 3s/step - loss: 2.3944 - acc: 0.0985 - val_loss: 2.2873 - val_acc: 0.1133\n",
      "Epoch 2/10\n",
      "34/34 [==============================] - 74s 2s/step - loss: 2.2630 - acc: 0.1398 - val_loss: 2.2327 - val_acc: 0.1758\n",
      "Epoch 3/10\n",
      "34/34 [==============================] - 74s 2s/step - loss: 2.2345 - acc: 0.1529 - val_loss: 2.2277 - val_acc: 0.1523\n",
      "Epoch 4/10\n",
      "34/34 [==============================] - 74s 2s/step - loss: 2.2132 - acc: 0.1567 - val_loss: 2.1830 - val_acc: 0.1641\n",
      "Epoch 5/10\n",
      "34/34 [==============================] - 74s 2s/step - loss: 2.1876 - acc: 0.1576 - val_loss: 2.1699 - val_acc: 0.1641\n",
      "Epoch 6/10\n",
      "34/34 [==============================] - 75s 2s/step - loss: 2.1796 - acc: 0.1632 - val_loss: 2.1477 - val_acc: 0.1797\n",
      "Epoch 7/10\n",
      "34/34 [==============================] - 73s 2s/step - loss: 2.1558 - acc: 0.1839 - val_loss: 2.1556 - val_acc: 0.1758\n",
      "Epoch 8/10\n",
      "34/34 [==============================] - 75s 2s/step - loss: 2.1544 - acc: 0.1717 - val_loss: 2.1435 - val_acc: 0.2148\n",
      "Epoch 9/10\n",
      "34/34 [==============================] - 74s 2s/step - loss: 2.1591 - acc: 0.1961 - val_loss: 2.1303 - val_acc: 0.1914\n",
      "Epoch 10/10\n",
      "34/34 [==============================] - 75s 2s/step - loss: 2.1610 - acc: 0.1839 - val_loss: 2.1301 - val_acc: 0.1875\n"
     ]
    }
   ],
   "source": [
    "history = model.fit(train_generator,\n",
    "                   steps_per_epoch=train_generator.samples // batch_size,\n",
    "                   epochs=10,\n",
    "                   validation_data=valid_generator,\n",
    "                   validation_steps = valid_generator.samples // batch_size\n",
    "                   )"
   ]
  },
  {
   "cell_type": "markdown",
   "id": "38d8766d",
   "metadata": {},
   "source": [
    "# 配置自己的网络(数据处理相同)"
   ]
  },
  {
   "cell_type": "code",
   "execution_count": 11,
   "id": "ac3f6953",
   "metadata": {
    "ExecuteTime": {
     "end_time": "2022-06-09T08:02:37.421301Z",
     "start_time": "2022-06-09T08:02:37.404331Z"
    }
   },
   "outputs": [
    {
     "data": {
      "text/plain": [
       "'2.9.1'"
      ]
     },
     "execution_count": 11,
     "metadata": {},
     "output_type": "execute_result"
    }
   ],
   "source": [
    "tf.__version__"
   ]
  },
  {
   "cell_type": "markdown",
   "id": "18976fa8",
   "metadata": {},
   "source": [
    "preprocessing_function = keras.applications.resnet50.preprocess_input"
   ]
  },
  {
   "cell_type": "code",
   "execution_count": 13,
   "id": "5fa52cc2",
   "metadata": {
    "ExecuteTime": {
     "end_time": "2022-06-09T08:06:34.256695Z",
     "start_time": "2022-06-09T08:06:34.161383Z"
    }
   },
   "outputs": [
    {
     "name": "stdout",
     "output_type": "stream",
     "text": [
      "Found 1098 images belonging to 10 classes.\n",
      "Found 272 images belonging to 10 classes.\n",
      "1098\n",
      "272\n"
     ]
    }
   ],
   "source": [
    "train_dir = r'C:/Users/Administrator/Desktop/data/archive/training/training/'\n",
    "valid_dir =r'C:/Users/Administrator/Desktop/data/archive/validation/validation/'\n",
    "\n",
    "\n",
    "# 图片数据生成器\n",
    "train_datagen = keras.preprocessing.image.ImageDataGenerator(\n",
    "    preprocessing_function = keras.applications.resnet50.preprocess_input,\n",
    "    rotation_range = 40,\n",
    "    width_shift_range = 0.2,\n",
    "    height_shift_range = 0.2,\n",
    "    shear_range = 0.2,\n",
    "    zoom_range = 0.2,\n",
    "    horizontal_flip = True,\n",
    "    vertical_flip = True,\n",
    "    fill_mode = 'nearest'\n",
    ")\n",
    "\n",
    "height = 224\n",
    "width = 224\n",
    "channels = 3\n",
    "batch_size = 32\n",
    "num_classes = 10\n",
    "\n",
    "train_generator = train_datagen.flow_from_directory(train_dir,\n",
    "                                 target_size = (height, width),\n",
    "                                 batch_size = batch_size,\n",
    "                                 shuffle = True,\n",
    "                                 seed = 7,\n",
    "                                 class_mode = 'categorical')\n",
    "\n",
    "valid_datagen = keras.preprocessing.image.ImageDataGenerator(\n",
    "    preprocessing_function = keras.applications.resnet50.preprocess_input\n",
    ")\n",
    "valid_generator = valid_datagen.flow_from_directory(valid_dir,\n",
    "                                 target_size = (height, width),\n",
    "                                 batch_size = batch_size,\n",
    "                                 shuffle = True,\n",
    "                                 seed = 7,\n",
    "                                 class_mode = 'categorical')\n",
    "print(train_generator.samples)\n",
    "print(valid_generator.samples)"
   ]
  },
  {
   "cell_type": "markdown",
   "id": "3e131393",
   "metadata": {},
   "source": [
    "keras.applications.ResNet50.preprocess_input"
   ]
  },
  {
   "cell_type": "code",
   "execution_count": 14,
   "id": "df0c41fe",
   "metadata": {
    "ExecuteTime": {
     "end_time": "2022-06-09T08:22:26.704497Z",
     "start_time": "2022-06-09T08:10:11.086997Z"
    }
   },
   "outputs": [
    {
     "name": "stdout",
     "output_type": "stream",
     "text": [
      "Epoch 1/10\n",
      "34/34 [==============================] - 71s 2s/step - loss: 5.9819 - acc: 0.3593 - val_loss: 0.6998 - val_acc: 0.7852\n",
      "Epoch 2/10\n",
      "34/34 [==============================] - 73s 2s/step - loss: 0.4825 - acc: 0.8377 - val_loss: 0.2505 - val_acc: 0.9297\n",
      "Epoch 3/10\n",
      "34/34 [==============================] - 73s 2s/step - loss: 0.2455 - acc: 0.9259 - val_loss: 0.2090 - val_acc: 0.9531\n",
      "Epoch 4/10\n",
      "34/34 [==============================] - 73s 2s/step - loss: 0.1932 - acc: 0.9296 - val_loss: 0.1792 - val_acc: 0.9492\n",
      "Epoch 5/10\n",
      "34/34 [==============================] - 77s 2s/step - loss: 0.1988 - acc: 0.9371 - val_loss: 0.1649 - val_acc: 0.9648\n",
      "Epoch 6/10\n",
      "34/34 [==============================] - 74s 2s/step - loss: 0.1800 - acc: 0.9353 - val_loss: 0.1354 - val_acc: 0.9727\n",
      "Epoch 7/10\n",
      "34/34 [==============================] - 74s 2s/step - loss: 0.1605 - acc: 0.9437 - val_loss: 0.1442 - val_acc: 0.9453\n",
      "Epoch 8/10\n",
      "34/34 [==============================] - 74s 2s/step - loss: 0.1314 - acc: 0.9634 - val_loss: 0.0869 - val_acc: 0.9766\n",
      "Epoch 9/10\n",
      "34/34 [==============================] - 73s 2s/step - loss: 0.1129 - acc: 0.9690 - val_loss: 0.1154 - val_acc: 0.9766\n",
      "Epoch 10/10\n",
      "34/34 [==============================] - 73s 2s/step - loss: 0.0922 - acc: 0.9747 - val_loss: 0.0866 - val_acc: 0.9805\n"
     ]
    }
   ],
   "source": [
    "# 修改了预处理方式之后, 再跑.\n",
    "history = model.fit(train_generator,\n",
    "                   steps_per_epoch=train_generator.samples // batch_size,\n",
    "                   epochs=10,\n",
    "                   validation_data=valid_generator,\n",
    "                   validation_steps = valid_generator.samples // batch_size\n",
    "                   )"
   ]
  },
  {
   "cell_type": "markdown",
   "id": "83ad4f88",
   "metadata": {},
   "source": [
    "# 数据预测"
   ]
  },
  {
   "cell_type": "code",
   "execution_count": 16,
   "id": "3cc5655a",
   "metadata": {
    "ExecuteTime": {
     "end_time": "2022-06-09T08:26:48.594699Z",
     "start_time": "2022-06-09T08:26:48.020409Z"
    }
   },
   "outputs": [
    {
     "name": "stdout",
     "output_type": "stream",
     "text": [
      "<class 'numpy.ndarray'> <class 'numpy.ndarray'>\n",
      "(32, 224, 224, 3) (32, 10)\n",
      "-123.68\n",
      "151.061\n"
     ]
    }
   ],
   "source": [
    "for i in range(1):\n",
    "    x, y = train_generator.next()\n",
    "    print(type(x), type(y))\n",
    "    print(x.shape, y.shape)\n",
    "#     print(x)\n",
    "    print(x.min())\n",
    "    print(x.max())"
   ]
  },
  {
   "cell_type": "code",
   "execution_count": 18,
   "id": "c2bff579",
   "metadata": {
    "ExecuteTime": {
     "end_time": "2022-06-09T08:27:40.072362Z",
     "start_time": "2022-06-09T08:27:40.049918Z"
    }
   },
   "outputs": [],
   "source": [
    "monkey = plt.imread('./n2060.jpg')"
   ]
  },
  {
   "cell_type": "code",
   "execution_count": 19,
   "id": "e0be37d4",
   "metadata": {
    "ExecuteTime": {
     "end_time": "2022-06-09T08:27:42.902044Z",
     "start_time": "2022-06-09T08:27:42.891714Z"
    }
   },
   "outputs": [
    {
     "data": {
      "text/plain": [
       "(501, 750, 3)"
      ]
     },
     "execution_count": 19,
     "metadata": {},
     "output_type": "execute_result"
    }
   ],
   "source": [
    "# 预测\n",
    "monkey.shape"
   ]
  },
  {
   "cell_type": "code",
   "execution_count": 20,
   "id": "ee9034b0",
   "metadata": {
    "ExecuteTime": {
     "end_time": "2022-06-09T08:28:02.603378Z",
     "start_time": "2022-06-09T08:28:02.595400Z"
    }
   },
   "outputs": [],
   "source": [
    "from  scipy import ndimage"
   ]
  },
  {
   "cell_type": "code",
   "execution_count": null,
   "id": "18fcfdd1",
   "metadata": {},
   "outputs": [],
   "source": [
    "# 旋转\n",
    "ndimage.rotate()\n",
    "ndimage.shift()\n",
    "ndimage.zoom()"
   ]
  },
  {
   "cell_type": "code",
   "execution_count": 21,
   "id": "90b10422",
   "metadata": {
    "ExecuteTime": {
     "end_time": "2022-06-09T08:30:05.711453Z",
     "start_time": "2022-06-09T08:30:05.693355Z"
    }
   },
   "outputs": [],
   "source": [
    "# 224 = 501* x\n",
    "# 224 = 750 * y\n",
    "x = 224 / 501\n",
    "y = 224 / 750"
   ]
  },
  {
   "cell_type": "code",
   "execution_count": 22,
   "id": "3516d4c3",
   "metadata": {
    "ExecuteTime": {
     "end_time": "2022-06-09T08:30:31.874687Z",
     "start_time": "2022-06-09T08:30:31.747175Z"
    }
   },
   "outputs": [],
   "source": [
    "# 501, 750\n",
    "# 224 \n",
    "# zoom = (x, y)\n",
    "monkey_zoomed = ndimage.zoom(monkey, (x, y, 1))"
   ]
  },
  {
   "cell_type": "code",
   "execution_count": 23,
   "id": "14c448b9",
   "metadata": {
    "ExecuteTime": {
     "end_time": "2022-06-09T08:32:32.952282Z",
     "start_time": "2022-06-09T08:32:32.938121Z"
    }
   },
   "outputs": [
    {
     "data": {
      "text/plain": [
       "0"
      ]
     },
     "execution_count": 23,
     "metadata": {},
     "output_type": "execute_result"
    }
   ],
   "source": [
    "monkey_zoomed.min()"
   ]
  },
  {
   "cell_type": "code",
   "execution_count": 24,
   "id": "6b78a3a1",
   "metadata": {
    "ExecuteTime": {
     "end_time": "2022-06-09T08:32:43.732287Z",
     "start_time": "2022-06-09T08:32:43.715320Z"
    }
   },
   "outputs": [],
   "source": [
    "monkey = keras.applications.resnet50.preprocess_input(monkey_zoomed)"
   ]
  },
  {
   "cell_type": "code",
   "execution_count": 25,
   "id": "1b9a73b9",
   "metadata": {
    "ExecuteTime": {
     "end_time": "2022-06-09T08:34:05.342792Z",
     "start_time": "2022-06-09T08:34:05.326820Z"
    }
   },
   "outputs": [
    {
     "data": {
      "text/plain": [
       "151.061"
      ]
     },
     "execution_count": 25,
     "metadata": {},
     "output_type": "execute_result"
    }
   ],
   "source": [
    "monkey.max()"
   ]
  },
  {
   "cell_type": "code",
   "execution_count": 26,
   "id": "4182753e",
   "metadata": {
    "ExecuteTime": {
     "end_time": "2022-06-09T08:34:11.865763Z",
     "start_time": "2022-06-09T08:34:11.857774Z"
    }
   },
   "outputs": [
    {
     "data": {
      "text/plain": [
       "-123.68"
      ]
     },
     "execution_count": 26,
     "metadata": {},
     "output_type": "execute_result"
    }
   ],
   "source": [
    "monkey.min()"
   ]
  },
  {
   "cell_type": "code",
   "execution_count": 27,
   "id": "ee8302fc",
   "metadata": {
    "ExecuteTime": {
     "end_time": "2022-06-09T08:34:25.351761Z",
     "start_time": "2022-06-09T08:34:25.333809Z"
    }
   },
   "outputs": [],
   "source": [
    "monkey = monkey.reshape(1, 224, 224, 3)"
   ]
  },
  {
   "cell_type": "markdown",
   "id": "4039ec93",
   "metadata": {},
   "source": [
    "主要是形状和尺寸不对.\n",
    "先改变尺寸. \n",
    "\n",
    "再改变形状. reshape"
   ]
  },
  {
   "cell_type": "code",
   "execution_count": 28,
   "id": "374c8f93",
   "metadata": {
    "ExecuteTime": {
     "end_time": "2022-06-09T08:36:19.641877Z",
     "start_time": "2022-06-09T08:36:18.867518Z"
    }
   },
   "outputs": [
    {
     "name": "stdout",
     "output_type": "stream",
     "text": [
      "1/1 [==============================] - 1s 720ms/step\n"
     ]
    },
    {
     "data": {
      "text/plain": [
       "array([2], dtype=int64)"
      ]
     },
     "execution_count": 28,
     "metadata": {},
     "output_type": "execute_result"
    }
   ],
   "source": [
    "model.predict(monkey).argmax(axis=1)"
   ]
  },
  {
   "cell_type": "code",
   "execution_count": 29,
   "id": "46534685",
   "metadata": {
    "ExecuteTime": {
     "end_time": "2022-06-09T08:37:04.631285Z",
     "start_time": "2022-06-09T08:37:04.613825Z"
    }
   },
   "outputs": [
    {
     "data": {
      "text/plain": [
       "(224, 224, 3)"
      ]
     },
     "execution_count": 29,
     "metadata": {},
     "output_type": "execute_result"
    }
   ],
   "source": [
    "monkey_zoomed.shape"
   ]
  },
  {
   "cell_type": "markdown",
   "id": "11d4028f",
   "metadata": {},
   "source": [
    "# 迁移学习之训练最后几层参数"
   ]
  },
  {
   "cell_type": "code",
   "execution_count": 30,
   "id": "cabcbb31",
   "metadata": {
    "ExecuteTime": {
     "end_time": "2022-06-09T08:37:56.333773Z",
     "start_time": "2022-06-09T08:37:54.811083Z"
    }
   },
   "outputs": [
    {
     "name": "stdout",
     "output_type": "stream",
     "text": [
      "Model: \"resnet50\"\n",
      "__________________________________________________________________________________________________\n",
      " Layer (type)                   Output Shape         Param #     Connected to                     \n",
      "==================================================================================================\n",
      " input_2 (InputLayer)           [(None, None, None,  0           []                               \n",
      "                                 3)]                                                              \n",
      "                                                                                                  \n",
      " conv1_pad (ZeroPadding2D)      (None, None, None,   0           ['input_2[0][0]']                \n",
      "                                3)                                                                \n",
      "                                                                                                  \n",
      " conv1_conv (Conv2D)            (None, None, None,   9472        ['conv1_pad[0][0]']              \n",
      "                                64)                                                               \n",
      "                                                                                                  \n",
      " conv1_bn (BatchNormalization)  (None, None, None,   256         ['conv1_conv[0][0]']             \n",
      "                                64)                                                               \n",
      "                                                                                                  \n",
      " conv1_relu (Activation)        (None, None, None,   0           ['conv1_bn[0][0]']               \n",
      "                                64)                                                               \n",
      "                                                                                                  \n",
      " pool1_pad (ZeroPadding2D)      (None, None, None,   0           ['conv1_relu[0][0]']             \n",
      "                                64)                                                               \n",
      "                                                                                                  \n",
      " pool1_pool (MaxPooling2D)      (None, None, None,   0           ['pool1_pad[0][0]']              \n",
      "                                64)                                                               \n",
      "                                                                                                  \n",
      " conv2_block1_1_conv (Conv2D)   (None, None, None,   4160        ['pool1_pool[0][0]']             \n",
      "                                64)                                                               \n",
      "                                                                                                  \n",
      " conv2_block1_1_bn (BatchNormal  (None, None, None,   256        ['conv2_block1_1_conv[0][0]']    \n",
      " ization)                       64)                                                               \n",
      "                                                                                                  \n",
      " conv2_block1_1_relu (Activatio  (None, None, None,   0          ['conv2_block1_1_bn[0][0]']      \n",
      " n)                             64)                                                               \n",
      "                                                                                                  \n",
      " conv2_block1_2_conv (Conv2D)   (None, None, None,   36928       ['conv2_block1_1_relu[0][0]']    \n",
      "                                64)                                                               \n",
      "                                                                                                  \n",
      " conv2_block1_2_bn (BatchNormal  (None, None, None,   256        ['conv2_block1_2_conv[0][0]']    \n",
      " ization)                       64)                                                               \n",
      "                                                                                                  \n",
      " conv2_block1_2_relu (Activatio  (None, None, None,   0          ['conv2_block1_2_bn[0][0]']      \n",
      " n)                             64)                                                               \n",
      "                                                                                                  \n",
      " conv2_block1_0_conv (Conv2D)   (None, None, None,   16640       ['pool1_pool[0][0]']             \n",
      "                                256)                                                              \n",
      "                                                                                                  \n",
      " conv2_block1_3_conv (Conv2D)   (None, None, None,   16640       ['conv2_block1_2_relu[0][0]']    \n",
      "                                256)                                                              \n",
      "                                                                                                  \n",
      " conv2_block1_0_bn (BatchNormal  (None, None, None,   1024       ['conv2_block1_0_conv[0][0]']    \n",
      " ization)                       256)                                                              \n",
      "                                                                                                  \n",
      " conv2_block1_3_bn (BatchNormal  (None, None, None,   1024       ['conv2_block1_3_conv[0][0]']    \n",
      " ization)                       256)                                                              \n",
      "                                                                                                  \n",
      " conv2_block1_add (Add)         (None, None, None,   0           ['conv2_block1_0_bn[0][0]',      \n",
      "                                256)                              'conv2_block1_3_bn[0][0]']      \n",
      "                                                                                                  \n",
      " conv2_block1_out (Activation)  (None, None, None,   0           ['conv2_block1_add[0][0]']       \n",
      "                                256)                                                              \n",
      "                                                                                                  \n",
      " conv2_block2_1_conv (Conv2D)   (None, None, None,   16448       ['conv2_block1_out[0][0]']       \n",
      "                                64)                                                               \n",
      "                                                                                                  \n",
      " conv2_block2_1_bn (BatchNormal  (None, None, None,   256        ['conv2_block2_1_conv[0][0]']    \n",
      " ization)                       64)                                                               \n",
      "                                                                                                  \n",
      " conv2_block2_1_relu (Activatio  (None, None, None,   0          ['conv2_block2_1_bn[0][0]']      \n",
      " n)                             64)                                                               \n",
      "                                                                                                  \n",
      " conv2_block2_2_conv (Conv2D)   (None, None, None,   36928       ['conv2_block2_1_relu[0][0]']    \n",
      "                                64)                                                               \n",
      "                                                                                                  \n",
      " conv2_block2_2_bn (BatchNormal  (None, None, None,   256        ['conv2_block2_2_conv[0][0]']    \n",
      " ization)                       64)                                                               \n",
      "                                                                                                  \n",
      " conv2_block2_2_relu (Activatio  (None, None, None,   0          ['conv2_block2_2_bn[0][0]']      \n",
      " n)                             64)                                                               \n",
      "                                                                                                  \n",
      " conv2_block2_3_conv (Conv2D)   (None, None, None,   16640       ['conv2_block2_2_relu[0][0]']    \n",
      "                                256)                                                              \n",
      "                                                                                                  \n",
      " conv2_block2_3_bn (BatchNormal  (None, None, None,   1024       ['conv2_block2_3_conv[0][0]']    \n",
      " ization)                       256)                                                              \n"
     ]
    },
    {
     "name": "stdout",
     "output_type": "stream",
     "text": [
      "                                                                                                  \n",
      " conv2_block2_add (Add)         (None, None, None,   0           ['conv2_block1_out[0][0]',       \n",
      "                                256)                              'conv2_block2_3_bn[0][0]']      \n",
      "                                                                                                  \n",
      " conv2_block2_out (Activation)  (None, None, None,   0           ['conv2_block2_add[0][0]']       \n",
      "                                256)                                                              \n",
      "                                                                                                  \n",
      " conv2_block3_1_conv (Conv2D)   (None, None, None,   16448       ['conv2_block2_out[0][0]']       \n",
      "                                64)                                                               \n",
      "                                                                                                  \n",
      " conv2_block3_1_bn (BatchNormal  (None, None, None,   256        ['conv2_block3_1_conv[0][0]']    \n",
      " ization)                       64)                                                               \n",
      "                                                                                                  \n",
      " conv2_block3_1_relu (Activatio  (None, None, None,   0          ['conv2_block3_1_bn[0][0]']      \n",
      " n)                             64)                                                               \n",
      "                                                                                                  \n",
      " conv2_block3_2_conv (Conv2D)   (None, None, None,   36928       ['conv2_block3_1_relu[0][0]']    \n",
      "                                64)                                                               \n",
      "                                                                                                  \n",
      " conv2_block3_2_bn (BatchNormal  (None, None, None,   256        ['conv2_block3_2_conv[0][0]']    \n",
      " ization)                       64)                                                               \n",
      "                                                                                                  \n",
      " conv2_block3_2_relu (Activatio  (None, None, None,   0          ['conv2_block3_2_bn[0][0]']      \n",
      " n)                             64)                                                               \n",
      "                                                                                                  \n",
      " conv2_block3_3_conv (Conv2D)   (None, None, None,   16640       ['conv2_block3_2_relu[0][0]']    \n",
      "                                256)                                                              \n",
      "                                                                                                  \n",
      " conv2_block3_3_bn (BatchNormal  (None, None, None,   1024       ['conv2_block3_3_conv[0][0]']    \n",
      " ization)                       256)                                                              \n",
      "                                                                                                  \n",
      " conv2_block3_add (Add)         (None, None, None,   0           ['conv2_block2_out[0][0]',       \n",
      "                                256)                              'conv2_block3_3_bn[0][0]']      \n",
      "                                                                                                  \n",
      " conv2_block3_out (Activation)  (None, None, None,   0           ['conv2_block3_add[0][0]']       \n",
      "                                256)                                                              \n",
      "                                                                                                  \n",
      " conv3_block1_1_conv (Conv2D)   (None, None, None,   32896       ['conv2_block3_out[0][0]']       \n",
      "                                128)                                                              \n",
      "                                                                                                  \n",
      " conv3_block1_1_bn (BatchNormal  (None, None, None,   512        ['conv3_block1_1_conv[0][0]']    \n",
      " ization)                       128)                                                              \n",
      "                                                                                                  \n",
      " conv3_block1_1_relu (Activatio  (None, None, None,   0          ['conv3_block1_1_bn[0][0]']      \n",
      " n)                             128)                                                              \n",
      "                                                                                                  \n",
      " conv3_block1_2_conv (Conv2D)   (None, None, None,   147584      ['conv3_block1_1_relu[0][0]']    \n",
      "                                128)                                                              \n",
      "                                                                                                  \n",
      " conv3_block1_2_bn (BatchNormal  (None, None, None,   512        ['conv3_block1_2_conv[0][0]']    \n",
      " ization)                       128)                                                              \n",
      "                                                                                                  \n",
      " conv3_block1_2_relu (Activatio  (None, None, None,   0          ['conv3_block1_2_bn[0][0]']      \n",
      " n)                             128)                                                              \n",
      "                                                                                                  \n",
      " conv3_block1_0_conv (Conv2D)   (None, None, None,   131584      ['conv2_block3_out[0][0]']       \n",
      "                                512)                                                              \n",
      "                                                                                                  \n",
      " conv3_block1_3_conv (Conv2D)   (None, None, None,   66048       ['conv3_block1_2_relu[0][0]']    \n",
      "                                512)                                                              \n",
      "                                                                                                  \n",
      " conv3_block1_0_bn (BatchNormal  (None, None, None,   2048       ['conv3_block1_0_conv[0][0]']    \n",
      " ization)                       512)                                                              \n",
      "                                                                                                  \n",
      " conv3_block1_3_bn (BatchNormal  (None, None, None,   2048       ['conv3_block1_3_conv[0][0]']    \n",
      " ization)                       512)                                                              \n",
      "                                                                                                  \n",
      " conv3_block1_add (Add)         (None, None, None,   0           ['conv3_block1_0_bn[0][0]',      \n",
      "                                512)                              'conv3_block1_3_bn[0][0]']      \n",
      "                                                                                                  \n",
      " conv3_block1_out (Activation)  (None, None, None,   0           ['conv3_block1_add[0][0]']       \n",
      "                                512)                                                              \n",
      "                                                                                                  \n",
      " conv3_block2_1_conv (Conv2D)   (None, None, None,   65664       ['conv3_block1_out[0][0]']       \n",
      "                                128)                                                              \n",
      "                                                                                                  \n",
      " conv3_block2_1_bn (BatchNormal  (None, None, None,   512        ['conv3_block2_1_conv[0][0]']    \n",
      " ization)                       128)                                                              \n",
      "                                                                                                  \n",
      " conv3_block2_1_relu (Activatio  (None, None, None,   0          ['conv3_block2_1_bn[0][0]']      \n",
      " n)                             128)                                                              \n",
      "                                                                                                  \n",
      " conv3_block2_2_conv (Conv2D)   (None, None, None,   147584      ['conv3_block2_1_relu[0][0]']    \n"
     ]
    },
    {
     "name": "stdout",
     "output_type": "stream",
     "text": [
      "                                128)                                                              \n",
      "                                                                                                  \n",
      " conv3_block2_2_bn (BatchNormal  (None, None, None,   512        ['conv3_block2_2_conv[0][0]']    \n",
      " ization)                       128)                                                              \n",
      "                                                                                                  \n",
      " conv3_block2_2_relu (Activatio  (None, None, None,   0          ['conv3_block2_2_bn[0][0]']      \n",
      " n)                             128)                                                              \n",
      "                                                                                                  \n",
      " conv3_block2_3_conv (Conv2D)   (None, None, None,   66048       ['conv3_block2_2_relu[0][0]']    \n",
      "                                512)                                                              \n",
      "                                                                                                  \n",
      " conv3_block2_3_bn (BatchNormal  (None, None, None,   2048       ['conv3_block2_3_conv[0][0]']    \n",
      " ization)                       512)                                                              \n",
      "                                                                                                  \n",
      " conv3_block2_add (Add)         (None, None, None,   0           ['conv3_block1_out[0][0]',       \n",
      "                                512)                              'conv3_block2_3_bn[0][0]']      \n",
      "                                                                                                  \n",
      " conv3_block2_out (Activation)  (None, None, None,   0           ['conv3_block2_add[0][0]']       \n",
      "                                512)                                                              \n",
      "                                                                                                  \n",
      " conv3_block3_1_conv (Conv2D)   (None, None, None,   65664       ['conv3_block2_out[0][0]']       \n",
      "                                128)                                                              \n",
      "                                                                                                  \n",
      " conv3_block3_1_bn (BatchNormal  (None, None, None,   512        ['conv3_block3_1_conv[0][0]']    \n",
      " ization)                       128)                                                              \n",
      "                                                                                                  \n",
      " conv3_block3_1_relu (Activatio  (None, None, None,   0          ['conv3_block3_1_bn[0][0]']      \n",
      " n)                             128)                                                              \n",
      "                                                                                                  \n",
      " conv3_block3_2_conv (Conv2D)   (None, None, None,   147584      ['conv3_block3_1_relu[0][0]']    \n",
      "                                128)                                                              \n",
      "                                                                                                  \n",
      " conv3_block3_2_bn (BatchNormal  (None, None, None,   512        ['conv3_block3_2_conv[0][0]']    \n",
      " ization)                       128)                                                              \n",
      "                                                                                                  \n",
      " conv3_block3_2_relu (Activatio  (None, None, None,   0          ['conv3_block3_2_bn[0][0]']      \n",
      " n)                             128)                                                              \n",
      "                                                                                                  \n",
      " conv3_block3_3_conv (Conv2D)   (None, None, None,   66048       ['conv3_block3_2_relu[0][0]']    \n",
      "                                512)                                                              \n",
      "                                                                                                  \n",
      " conv3_block3_3_bn (BatchNormal  (None, None, None,   2048       ['conv3_block3_3_conv[0][0]']    \n",
      " ization)                       512)                                                              \n",
      "                                                                                                  \n",
      " conv3_block3_add (Add)         (None, None, None,   0           ['conv3_block2_out[0][0]',       \n",
      "                                512)                              'conv3_block3_3_bn[0][0]']      \n",
      "                                                                                                  \n",
      " conv3_block3_out (Activation)  (None, None, None,   0           ['conv3_block3_add[0][0]']       \n",
      "                                512)                                                              \n",
      "                                                                                                  \n",
      " conv3_block4_1_conv (Conv2D)   (None, None, None,   65664       ['conv3_block3_out[0][0]']       \n",
      "                                128)                                                              \n",
      "                                                                                                  \n",
      " conv3_block4_1_bn (BatchNormal  (None, None, None,   512        ['conv3_block4_1_conv[0][0]']    \n",
      " ization)                       128)                                                              \n",
      "                                                                                                  \n",
      " conv3_block4_1_relu (Activatio  (None, None, None,   0          ['conv3_block4_1_bn[0][0]']      \n",
      " n)                             128)                                                              \n",
      "                                                                                                  \n",
      " conv3_block4_2_conv (Conv2D)   (None, None, None,   147584      ['conv3_block4_1_relu[0][0]']    \n",
      "                                128)                                                              \n",
      "                                                                                                  \n",
      " conv3_block4_2_bn (BatchNormal  (None, None, None,   512        ['conv3_block4_2_conv[0][0]']    \n",
      " ization)                       128)                                                              \n",
      "                                                                                                  \n",
      " conv3_block4_2_relu (Activatio  (None, None, None,   0          ['conv3_block4_2_bn[0][0]']      \n",
      " n)                             128)                                                              \n",
      "                                                                                                  \n",
      " conv3_block4_3_conv (Conv2D)   (None, None, None,   66048       ['conv3_block4_2_relu[0][0]']    \n",
      "                                512)                                                              \n",
      "                                                                                                  \n",
      " conv3_block4_3_bn (BatchNormal  (None, None, None,   2048       ['conv3_block4_3_conv[0][0]']    \n",
      " ization)                       512)                                                              \n",
      "                                                                                                  \n",
      " conv3_block4_add (Add)         (None, None, None,   0           ['conv3_block3_out[0][0]',       \n",
      "                                512)                              'conv3_block4_3_bn[0][0]']      \n",
      "                                                                                                  \n",
      " conv3_block4_out (Activation)  (None, None, None,   0           ['conv3_block4_add[0][0]']       \n",
      "                                512)                                                              \n",
      "                                                                                                  \n",
      " conv4_block1_1_conv (Conv2D)   (None, None, None,   131328      ['conv3_block4_out[0][0]']       \n",
      "                                256)                                                              \n",
      "                                                                                                  \n"
     ]
    },
    {
     "name": "stdout",
     "output_type": "stream",
     "text": [
      " conv4_block1_1_bn (BatchNormal  (None, None, None,   1024       ['conv4_block1_1_conv[0][0]']    \n",
      " ization)                       256)                                                              \n",
      "                                                                                                  \n",
      " conv4_block1_1_relu (Activatio  (None, None, None,   0          ['conv4_block1_1_bn[0][0]']      \n",
      " n)                             256)                                                              \n",
      "                                                                                                  \n",
      " conv4_block1_2_conv (Conv2D)   (None, None, None,   590080      ['conv4_block1_1_relu[0][0]']    \n",
      "                                256)                                                              \n",
      "                                                                                                  \n",
      " conv4_block1_2_bn (BatchNormal  (None, None, None,   1024       ['conv4_block1_2_conv[0][0]']    \n",
      " ization)                       256)                                                              \n",
      "                                                                                                  \n",
      " conv4_block1_2_relu (Activatio  (None, None, None,   0          ['conv4_block1_2_bn[0][0]']      \n",
      " n)                             256)                                                              \n",
      "                                                                                                  \n",
      " conv4_block1_0_conv (Conv2D)   (None, None, None,   525312      ['conv3_block4_out[0][0]']       \n",
      "                                1024)                                                             \n",
      "                                                                                                  \n",
      " conv4_block1_3_conv (Conv2D)   (None, None, None,   263168      ['conv4_block1_2_relu[0][0]']    \n",
      "                                1024)                                                             \n",
      "                                                                                                  \n",
      " conv4_block1_0_bn (BatchNormal  (None, None, None,   4096       ['conv4_block1_0_conv[0][0]']    \n",
      " ization)                       1024)                                                             \n",
      "                                                                                                  \n",
      " conv4_block1_3_bn (BatchNormal  (None, None, None,   4096       ['conv4_block1_3_conv[0][0]']    \n",
      " ization)                       1024)                                                             \n",
      "                                                                                                  \n",
      " conv4_block1_add (Add)         (None, None, None,   0           ['conv4_block1_0_bn[0][0]',      \n",
      "                                1024)                             'conv4_block1_3_bn[0][0]']      \n",
      "                                                                                                  \n",
      " conv4_block1_out (Activation)  (None, None, None,   0           ['conv4_block1_add[0][0]']       \n",
      "                                1024)                                                             \n",
      "                                                                                                  \n",
      " conv4_block2_1_conv (Conv2D)   (None, None, None,   262400      ['conv4_block1_out[0][0]']       \n",
      "                                256)                                                              \n",
      "                                                                                                  \n",
      " conv4_block2_1_bn (BatchNormal  (None, None, None,   1024       ['conv4_block2_1_conv[0][0]']    \n",
      " ization)                       256)                                                              \n",
      "                                                                                                  \n",
      " conv4_block2_1_relu (Activatio  (None, None, None,   0          ['conv4_block2_1_bn[0][0]']      \n",
      " n)                             256)                                                              \n",
      "                                                                                                  \n",
      " conv4_block2_2_conv (Conv2D)   (None, None, None,   590080      ['conv4_block2_1_relu[0][0]']    \n",
      "                                256)                                                              \n",
      "                                                                                                  \n",
      " conv4_block2_2_bn (BatchNormal  (None, None, None,   1024       ['conv4_block2_2_conv[0][0]']    \n",
      " ization)                       256)                                                              \n",
      "                                                                                                  \n",
      " conv4_block2_2_relu (Activatio  (None, None, None,   0          ['conv4_block2_2_bn[0][0]']      \n",
      " n)                             256)                                                              \n",
      "                                                                                                  \n",
      " conv4_block2_3_conv (Conv2D)   (None, None, None,   263168      ['conv4_block2_2_relu[0][0]']    \n",
      "                                1024)                                                             \n",
      "                                                                                                  \n",
      " conv4_block2_3_bn (BatchNormal  (None, None, None,   4096       ['conv4_block2_3_conv[0][0]']    \n",
      " ization)                       1024)                                                             \n",
      "                                                                                                  \n",
      " conv4_block2_add (Add)         (None, None, None,   0           ['conv4_block1_out[0][0]',       \n",
      "                                1024)                             'conv4_block2_3_bn[0][0]']      \n",
      "                                                                                                  \n",
      " conv4_block2_out (Activation)  (None, None, None,   0           ['conv4_block2_add[0][0]']       \n",
      "                                1024)                                                             \n",
      "                                                                                                  \n",
      " conv4_block3_1_conv (Conv2D)   (None, None, None,   262400      ['conv4_block2_out[0][0]']       \n",
      "                                256)                                                              \n",
      "                                                                                                  \n",
      " conv4_block3_1_bn (BatchNormal  (None, None, None,   1024       ['conv4_block3_1_conv[0][0]']    \n",
      " ization)                       256)                                                              \n",
      "                                                                                                  \n",
      " conv4_block3_1_relu (Activatio  (None, None, None,   0          ['conv4_block3_1_bn[0][0]']      \n",
      " n)                             256)                                                              \n",
      "                                                                                                  \n",
      " conv4_block3_2_conv (Conv2D)   (None, None, None,   590080      ['conv4_block3_1_relu[0][0]']    \n",
      "                                256)                                                              \n",
      "                                                                                                  \n",
      " conv4_block3_2_bn (BatchNormal  (None, None, None,   1024       ['conv4_block3_2_conv[0][0]']    \n",
      " ization)                       256)                                                              \n",
      "                                                                                                  \n",
      " conv4_block3_2_relu (Activatio  (None, None, None,   0          ['conv4_block3_2_bn[0][0]']      \n",
      " n)                             256)                                                              \n",
      "                                                                                                  \n",
      " conv4_block3_3_conv (Conv2D)   (None, None, None,   263168      ['conv4_block3_2_relu[0][0]']    \n",
      "                                1024)                                                             \n"
     ]
    },
    {
     "name": "stdout",
     "output_type": "stream",
     "text": [
      "                                                                                                  \n",
      " conv4_block3_3_bn (BatchNormal  (None, None, None,   4096       ['conv4_block3_3_conv[0][0]']    \n",
      " ization)                       1024)                                                             \n",
      "                                                                                                  \n",
      " conv4_block3_add (Add)         (None, None, None,   0           ['conv4_block2_out[0][0]',       \n",
      "                                1024)                             'conv4_block3_3_bn[0][0]']      \n",
      "                                                                                                  \n",
      " conv4_block3_out (Activation)  (None, None, None,   0           ['conv4_block3_add[0][0]']       \n",
      "                                1024)                                                             \n",
      "                                                                                                  \n",
      " conv4_block4_1_conv (Conv2D)   (None, None, None,   262400      ['conv4_block3_out[0][0]']       \n",
      "                                256)                                                              \n",
      "                                                                                                  \n",
      " conv4_block4_1_bn (BatchNormal  (None, None, None,   1024       ['conv4_block4_1_conv[0][0]']    \n",
      " ization)                       256)                                                              \n",
      "                                                                                                  \n",
      " conv4_block4_1_relu (Activatio  (None, None, None,   0          ['conv4_block4_1_bn[0][0]']      \n",
      " n)                             256)                                                              \n",
      "                                                                                                  \n",
      " conv4_block4_2_conv (Conv2D)   (None, None, None,   590080      ['conv4_block4_1_relu[0][0]']    \n",
      "                                256)                                                              \n",
      "                                                                                                  \n",
      " conv4_block4_2_bn (BatchNormal  (None, None, None,   1024       ['conv4_block4_2_conv[0][0]']    \n",
      " ization)                       256)                                                              \n",
      "                                                                                                  \n",
      " conv4_block4_2_relu (Activatio  (None, None, None,   0          ['conv4_block4_2_bn[0][0]']      \n",
      " n)                             256)                                                              \n",
      "                                                                                                  \n",
      " conv4_block4_3_conv (Conv2D)   (None, None, None,   263168      ['conv4_block4_2_relu[0][0]']    \n",
      "                                1024)                                                             \n",
      "                                                                                                  \n",
      " conv4_block4_3_bn (BatchNormal  (None, None, None,   4096       ['conv4_block4_3_conv[0][0]']    \n",
      " ization)                       1024)                                                             \n",
      "                                                                                                  \n",
      " conv4_block4_add (Add)         (None, None, None,   0           ['conv4_block3_out[0][0]',       \n",
      "                                1024)                             'conv4_block4_3_bn[0][0]']      \n",
      "                                                                                                  \n",
      " conv4_block4_out (Activation)  (None, None, None,   0           ['conv4_block4_add[0][0]']       \n",
      "                                1024)                                                             \n",
      "                                                                                                  \n",
      " conv4_block5_1_conv (Conv2D)   (None, None, None,   262400      ['conv4_block4_out[0][0]']       \n",
      "                                256)                                                              \n",
      "                                                                                                  \n",
      " conv4_block5_1_bn (BatchNormal  (None, None, None,   1024       ['conv4_block5_1_conv[0][0]']    \n",
      " ization)                       256)                                                              \n",
      "                                                                                                  \n",
      " conv4_block5_1_relu (Activatio  (None, None, None,   0          ['conv4_block5_1_bn[0][0]']      \n",
      " n)                             256)                                                              \n",
      "                                                                                                  \n",
      " conv4_block5_2_conv (Conv2D)   (None, None, None,   590080      ['conv4_block5_1_relu[0][0]']    \n",
      "                                256)                                                              \n",
      "                                                                                                  \n",
      " conv4_block5_2_bn (BatchNormal  (None, None, None,   1024       ['conv4_block5_2_conv[0][0]']    \n",
      " ization)                       256)                                                              \n",
      "                                                                                                  \n",
      " conv4_block5_2_relu (Activatio  (None, None, None,   0          ['conv4_block5_2_bn[0][0]']      \n",
      " n)                             256)                                                              \n",
      "                                                                                                  \n",
      " conv4_block5_3_conv (Conv2D)   (None, None, None,   263168      ['conv4_block5_2_relu[0][0]']    \n",
      "                                1024)                                                             \n",
      "                                                                                                  \n",
      " conv4_block5_3_bn (BatchNormal  (None, None, None,   4096       ['conv4_block5_3_conv[0][0]']    \n",
      " ization)                       1024)                                                             \n",
      "                                                                                                  \n",
      " conv4_block5_add (Add)         (None, None, None,   0           ['conv4_block4_out[0][0]',       \n",
      "                                1024)                             'conv4_block5_3_bn[0][0]']      \n",
      "                                                                                                  \n",
      " conv4_block5_out (Activation)  (None, None, None,   0           ['conv4_block5_add[0][0]']       \n",
      "                                1024)                                                             \n",
      "                                                                                                  \n",
      " conv4_block6_1_conv (Conv2D)   (None, None, None,   262400      ['conv4_block5_out[0][0]']       \n",
      "                                256)                                                              \n",
      "                                                                                                  \n",
      " conv4_block6_1_bn (BatchNormal  (None, None, None,   1024       ['conv4_block6_1_conv[0][0]']    \n",
      " ization)                       256)                                                              \n",
      "                                                                                                  \n",
      " conv4_block6_1_relu (Activatio  (None, None, None,   0          ['conv4_block6_1_bn[0][0]']      \n",
      " n)                             256)                                                              \n",
      "                                                                                                  \n",
      " conv4_block6_2_conv (Conv2D)   (None, None, None,   590080      ['conv4_block6_1_relu[0][0]']    \n",
      "                                256)                                                              \n",
      "                                                                                                  \n",
      " conv4_block6_2_bn (BatchNormal  (None, None, None,   1024       ['conv4_block6_2_conv[0][0]']    \n"
     ]
    },
    {
     "name": "stdout",
     "output_type": "stream",
     "text": [
      " ization)                       256)                                                              \n",
      "                                                                                                  \n",
      " conv4_block6_2_relu (Activatio  (None, None, None,   0          ['conv4_block6_2_bn[0][0]']      \n",
      " n)                             256)                                                              \n",
      "                                                                                                  \n",
      " conv4_block6_3_conv (Conv2D)   (None, None, None,   263168      ['conv4_block6_2_relu[0][0]']    \n",
      "                                1024)                                                             \n",
      "                                                                                                  \n",
      " conv4_block6_3_bn (BatchNormal  (None, None, None,   4096       ['conv4_block6_3_conv[0][0]']    \n",
      " ization)                       1024)                                                             \n",
      "                                                                                                  \n",
      " conv4_block6_add (Add)         (None, None, None,   0           ['conv4_block5_out[0][0]',       \n",
      "                                1024)                             'conv4_block6_3_bn[0][0]']      \n",
      "                                                                                                  \n",
      " conv4_block6_out (Activation)  (None, None, None,   0           ['conv4_block6_add[0][0]']       \n",
      "                                1024)                                                             \n",
      "                                                                                                  \n",
      " conv5_block1_1_conv (Conv2D)   (None, None, None,   524800      ['conv4_block6_out[0][0]']       \n",
      "                                512)                                                              \n",
      "                                                                                                  \n",
      " conv5_block1_1_bn (BatchNormal  (None, None, None,   2048       ['conv5_block1_1_conv[0][0]']    \n",
      " ization)                       512)                                                              \n",
      "                                                                                                  \n",
      " conv5_block1_1_relu (Activatio  (None, None, None,   0          ['conv5_block1_1_bn[0][0]']      \n",
      " n)                             512)                                                              \n",
      "                                                                                                  \n",
      " conv5_block1_2_conv (Conv2D)   (None, None, None,   2359808     ['conv5_block1_1_relu[0][0]']    \n",
      "                                512)                                                              \n",
      "                                                                                                  \n",
      " conv5_block1_2_bn (BatchNormal  (None, None, None,   2048       ['conv5_block1_2_conv[0][0]']    \n",
      " ization)                       512)                                                              \n",
      "                                                                                                  \n",
      " conv5_block1_2_relu (Activatio  (None, None, None,   0          ['conv5_block1_2_bn[0][0]']      \n",
      " n)                             512)                                                              \n",
      "                                                                                                  \n",
      " conv5_block1_0_conv (Conv2D)   (None, None, None,   2099200     ['conv4_block6_out[0][0]']       \n",
      "                                2048)                                                             \n",
      "                                                                                                  \n",
      " conv5_block1_3_conv (Conv2D)   (None, None, None,   1050624     ['conv5_block1_2_relu[0][0]']    \n",
      "                                2048)                                                             \n",
      "                                                                                                  \n",
      " conv5_block1_0_bn (BatchNormal  (None, None, None,   8192       ['conv5_block1_0_conv[0][0]']    \n",
      " ization)                       2048)                                                             \n",
      "                                                                                                  \n",
      " conv5_block1_3_bn (BatchNormal  (None, None, None,   8192       ['conv5_block1_3_conv[0][0]']    \n",
      " ization)                       2048)                                                             \n",
      "                                                                                                  \n",
      " conv5_block1_add (Add)         (None, None, None,   0           ['conv5_block1_0_bn[0][0]',      \n",
      "                                2048)                             'conv5_block1_3_bn[0][0]']      \n",
      "                                                                                                  \n",
      " conv5_block1_out (Activation)  (None, None, None,   0           ['conv5_block1_add[0][0]']       \n",
      "                                2048)                                                             \n",
      "                                                                                                  \n",
      " conv5_block2_1_conv (Conv2D)   (None, None, None,   1049088     ['conv5_block1_out[0][0]']       \n",
      "                                512)                                                              \n",
      "                                                                                                  \n",
      " conv5_block2_1_bn (BatchNormal  (None, None, None,   2048       ['conv5_block2_1_conv[0][0]']    \n",
      " ization)                       512)                                                              \n",
      "                                                                                                  \n",
      " conv5_block2_1_relu (Activatio  (None, None, None,   0          ['conv5_block2_1_bn[0][0]']      \n",
      " n)                             512)                                                              \n",
      "                                                                                                  \n",
      " conv5_block2_2_conv (Conv2D)   (None, None, None,   2359808     ['conv5_block2_1_relu[0][0]']    \n",
      "                                512)                                                              \n",
      "                                                                                                  \n",
      " conv5_block2_2_bn (BatchNormal  (None, None, None,   2048       ['conv5_block2_2_conv[0][0]']    \n",
      " ization)                       512)                                                              \n",
      "                                                                                                  \n",
      " conv5_block2_2_relu (Activatio  (None, None, None,   0          ['conv5_block2_2_bn[0][0]']      \n",
      " n)                             512)                                                              \n",
      "                                                                                                  \n",
      " conv5_block2_3_conv (Conv2D)   (None, None, None,   1050624     ['conv5_block2_2_relu[0][0]']    \n",
      "                                2048)                                                             \n",
      "                                                                                                  \n",
      " conv5_block2_3_bn (BatchNormal  (None, None, None,   8192       ['conv5_block2_3_conv[0][0]']    \n",
      " ization)                       2048)                                                             \n",
      "                                                                                                  \n",
      " conv5_block2_add (Add)         (None, None, None,   0           ['conv5_block1_out[0][0]',       \n",
      "                                2048)                             'conv5_block2_3_bn[0][0]']      \n",
      "                                                                                                  \n",
      " conv5_block2_out (Activation)  (None, None, None,   0           ['conv5_block2_add[0][0]']       \n",
      "                                2048)                                                             \n",
      "                                                                                                  \n"
     ]
    },
    {
     "name": "stdout",
     "output_type": "stream",
     "text": [
      " conv5_block3_1_conv (Conv2D)   (None, None, None,   1049088     ['conv5_block2_out[0][0]']       \n",
      "                                512)                                                              \n",
      "                                                                                                  \n",
      " conv5_block3_1_bn (BatchNormal  (None, None, None,   2048       ['conv5_block3_1_conv[0][0]']    \n",
      " ization)                       512)                                                              \n",
      "                                                                                                  \n",
      " conv5_block3_1_relu (Activatio  (None, None, None,   0          ['conv5_block3_1_bn[0][0]']      \n",
      " n)                             512)                                                              \n",
      "                                                                                                  \n",
      " conv5_block3_2_conv (Conv2D)   (None, None, None,   2359808     ['conv5_block3_1_relu[0][0]']    \n",
      "                                512)                                                              \n",
      "                                                                                                  \n",
      " conv5_block3_2_bn (BatchNormal  (None, None, None,   2048       ['conv5_block3_2_conv[0][0]']    \n",
      " ization)                       512)                                                              \n",
      "                                                                                                  \n",
      " conv5_block3_2_relu (Activatio  (None, None, None,   0          ['conv5_block3_2_bn[0][0]']      \n",
      " n)                             512)                                                              \n",
      "                                                                                                  \n",
      " conv5_block3_3_conv (Conv2D)   (None, None, None,   1050624     ['conv5_block3_2_relu[0][0]']    \n",
      "                                2048)                                                             \n",
      "                                                                                                  \n",
      " conv5_block3_3_bn (BatchNormal  (None, None, None,   8192       ['conv5_block3_3_conv[0][0]']    \n",
      " ization)                       2048)                                                             \n",
      "                                                                                                  \n",
      " conv5_block3_add (Add)         (None, None, None,   0           ['conv5_block2_out[0][0]',       \n",
      "                                2048)                             'conv5_block3_3_bn[0][0]']      \n",
      "                                                                                                  \n",
      " conv5_block3_out (Activation)  (None, None, None,   0           ['conv5_block3_add[0][0]']       \n",
      "                                2048)                                                             \n",
      "                                                                                                  \n",
      " avg_pool (GlobalAveragePooling  (None, 2048)        0           ['conv5_block3_out[0][0]']       \n",
      " 2D)                                                                                              \n",
      "                                                                                                  \n",
      "==================================================================================================\n",
      "Total params: 23,587,712\n",
      "Trainable params: 23,534,592\n",
      "Non-trainable params: 53,120\n",
      "__________________________________________________________________________________________________\n"
     ]
    }
   ],
   "source": [
    "resnet50 = keras.applications.ResNet50(include_top=False, pooling='avg', weights='imagenet')\n",
    "resnet50.summary()"
   ]
  },
  {
   "cell_type": "markdown",
   "id": "b456327a",
   "metadata": {},
   "source": [
    "## 倒数五层自己训练"
   ]
  },
  {
   "cell_type": "code",
   "execution_count": 31,
   "id": "48793904",
   "metadata": {
    "ExecuteTime": {
     "end_time": "2022-06-09T08:41:08.276006Z",
     "start_time": "2022-06-09T08:41:07.919095Z"
    }
   },
   "outputs": [
    {
     "name": "stdout",
     "output_type": "stream",
     "text": [
      "Model: \"sequential_1\"\n",
      "_________________________________________________________________\n",
      " Layer (type)                Output Shape              Param #   \n",
      "=================================================================\n",
      " resnet50 (Functional)       (None, 2048)              23587712  \n",
      "                                                                 \n",
      " dense_1 (Dense)             (None, 10)                20490     \n",
      "                                                                 \n",
      "=================================================================\n",
      "Total params: 23,608,202\n",
      "Trainable params: 1,075,210\n",
      "Non-trainable params: 22,532,992\n",
      "_________________________________________________________________\n"
     ]
    }
   ],
   "source": [
    "for layer in resnet50.layers[0:-5]:\n",
    "    layer.trainable = False\n",
    "    \n",
    "resnet50_new = keras.models.Sequential([resnet50, keras.layers.Dense(10, activation='softmax')])\n",
    "resnet50_new.compile(loss='categorical_crossentropy', optimizer='adam', metrics=['acc'])\n",
    "resnet50_new.summary()"
   ]
  },
  {
   "cell_type": "markdown",
   "id": "1fc99ab3",
   "metadata": {},
   "source": [
    " ## 训练最后五层, 再跑."
   ]
  },
  {
   "cell_type": "code",
   "execution_count": 32,
   "id": "a8174788",
   "metadata": {
    "ExecuteTime": {
     "end_time": "2022-06-09T08:57:32.486212Z",
     "start_time": "2022-06-09T08:45:02.055787Z"
    }
   },
   "outputs": [
    {
     "name": "stdout",
     "output_type": "stream",
     "text": [
      "Epoch 1/10\n",
      "34/34 [==============================] - 81s 2s/step - loss: 0.6971 - acc: 0.7833 - val_loss: 0.0741 - val_acc: 0.9766\n",
      "Epoch 2/10\n",
      "34/34 [==============================] - 76s 2s/step - loss: 0.1738 - acc: 0.9475 - val_loss: 0.0565 - val_acc: 0.9844\n",
      "Epoch 3/10\n",
      "34/34 [==============================] - 75s 2s/step - loss: 0.1246 - acc: 0.9634 - val_loss: 0.0827 - val_acc: 0.9727\n",
      "Epoch 4/10\n",
      "34/34 [==============================] - 74s 2s/step - loss: 0.0933 - acc: 0.9728 - val_loss: 0.0502 - val_acc: 0.9844\n",
      "Epoch 5/10\n",
      "34/34 [==============================] - 74s 2s/step - loss: 0.1038 - acc: 0.9728 - val_loss: 0.0445 - val_acc: 0.9883\n",
      "Epoch 6/10\n",
      "34/34 [==============================] - 73s 2s/step - loss: 0.0797 - acc: 0.9700 - val_loss: 0.0734 - val_acc: 0.9766\n",
      "Epoch 7/10\n",
      "34/34 [==============================] - 74s 2s/step - loss: 0.0615 - acc: 0.9803 - val_loss: 0.0496 - val_acc: 0.9844\n",
      "Epoch 8/10\n",
      "34/34 [==============================] - 74s 2s/step - loss: 0.0634 - acc: 0.9803 - val_loss: 0.0436 - val_acc: 0.9844\n",
      "Epoch 9/10\n",
      "34/34 [==============================] - 74s 2s/step - loss: 0.0685 - acc: 0.9803 - val_loss: 0.0568 - val_acc: 0.9844\n",
      "Epoch 10/10\n",
      "34/34 [==============================] - 75s 2s/step - loss: 0.0639 - acc: 0.9789 - val_loss: 0.0592 - val_acc: 0.9883\n"
     ]
    }
   ],
   "source": [
    "history = resnet50_new.fit(train_generator,\n",
    "                   steps_per_epoch=train_generator.samples // batch_size,\n",
    "                   epochs=10,\n",
    "                   validation_data=valid_generator,\n",
    "                   validation_steps = valid_generator.samples // batch_size\n",
    "                   )"
   ]
  },
  {
   "cell_type": "markdown",
   "id": "7b466f2f",
   "metadata": {},
   "source": [
    "训练所有参数的时候也要加上include_top=False,然后把那个trainable=False注释掉就可以了吧\n",
    "\n",
    "我后来训练出来训练集是90%，验证集是50% "
   ]
  },
  {
   "cell_type": "code",
   "execution_count": null,
   "id": "69ff5763",
   "metadata": {},
   "outputs": [],
   "source": []
  }
 ],
 "metadata": {
  "hide_input": false,
  "kernelspec": {
   "display_name": "Python 3 (ipykernel)",
   "language": "python",
   "name": "python3"
  },
  "language_info": {
   "codemirror_mode": {
    "name": "ipython",
    "version": 3
   },
   "file_extension": ".py",
   "mimetype": "text/x-python",
   "name": "python",
   "nbconvert_exporter": "python",
   "pygments_lexer": "ipython3",
   "version": "3.9.7"
  },
  "latex_envs": {
   "LaTeX_envs_menu_present": true,
   "autoclose": false,
   "autocomplete": true,
   "bibliofile": "biblio.bib",
   "cite_by": "apalike",
   "current_citInitial": 1,
   "eqLabelWithNumbers": true,
   "eqNumInitial": 1,
   "hotkeys": {
    "equation": "Ctrl-E",
    "itemize": "Ctrl-I"
   },
   "labels_anchors": false,
   "latex_user_defs": false,
   "report_style_numbering": false,
   "user_envs_cfg": false
  },
  "nbTranslate": {
   "displayLangs": [
    "*"
   ],
   "hotkey": "alt-t",
   "langInMainMenu": true,
   "sourceLang": "en",
   "targetLang": "fr",
   "useGoogleTranslate": true
  },
  "toc": {
   "base_numbering": 1,
   "nav_menu": {},
   "number_sections": true,
   "sideBar": true,
   "skip_h1_title": false,
   "title_cell": "Table of Contents",
   "title_sidebar": "Contents",
   "toc_cell": false,
   "toc_position": {},
   "toc_section_display": true,
   "toc_window_display": false
  },
  "varInspector": {
   "cols": {
    "lenName": 16,
    "lenType": 16,
    "lenVar": 40
   },
   "kernels_config": {
    "python": {
     "delete_cmd_postfix": "",
     "delete_cmd_prefix": "del ",
     "library": "var_list.py",
     "varRefreshCmd": "print(var_dic_list())"
    },
    "r": {
     "delete_cmd_postfix": ") ",
     "delete_cmd_prefix": "rm(",
     "library": "var_list.r",
     "varRefreshCmd": "cat(var_dic_list()) "
    }
   },
   "position": {
    "height": "406.85px",
    "left": "389.2px",
    "right": "20px",
    "top": "-15px",
    "width": "350px"
   },
   "types_to_exclude": [
    "module",
    "function",
    "builtin_function_or_method",
    "instance",
    "_Feature"
   ],
   "window_display": true
  }
 },
 "nbformat": 4,
 "nbformat_minor": 5
}
