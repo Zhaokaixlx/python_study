{
 "cells": [
  {
   "cell_type": "markdown",
   "id": "cdf4ae5b",
   "metadata": {},
   "source": [
    "回归任务"
   ]
  },
  {
   "cell_type": "markdown",
   "id": "36859d39",
   "metadata": {},
   "source": [
    "# 回调函数"
   ]
  },
  {
   "cell_type": "code",
   "execution_count": 28,
   "id": "f1f6a802",
   "metadata": {
    "ExecuteTime": {
     "end_time": "2022-05-26T03:20:23.675597Z",
     "start_time": "2022-05-26T03:20:23.658629Z"
    }
   },
   "outputs": [],
   "source": [
    "from tensorflow import keras\n",
    "import numpy as np\n",
    "import pandas as pd\n",
    "import matplotlib.pyplot as plt"
   ]
  },
  {
   "cell_type": "code",
   "execution_count": 2,
   "id": "b3359cea",
   "metadata": {
    "ExecuteTime": {
     "end_time": "2022-05-26T02:06:14.092273Z",
     "start_time": "2022-05-26T02:06:14.084295Z"
    }
   },
   "outputs": [],
   "source": [
    "from sklearn.datasets import fetch_california_housing"
   ]
  },
  {
   "cell_type": "code",
   "execution_count": 3,
   "id": "467c7b51",
   "metadata": {
    "ExecuteTime": {
     "end_time": "2022-05-26T02:06:51.175292Z",
     "start_time": "2022-05-26T02:06:32.691936Z"
    }
   },
   "outputs": [
    {
     "name": "stdout",
     "output_type": "stream",
     "text": [
      ".. _california_housing_dataset:\n",
      "\n",
      "California Housing dataset\n",
      "--------------------------\n",
      "\n",
      "**Data Set Characteristics:**\n",
      "\n",
      "    :Number of Instances: 20640\n",
      "\n",
      "    :Number of Attributes: 8 numeric, predictive attributes and the target\n",
      "\n",
      "    :Attribute Information:\n",
      "        - MedInc        median income in block group\n",
      "        - HouseAge      median house age in block group\n",
      "        - AveRooms      average number of rooms per household\n",
      "        - AveBedrms     average number of bedrooms per household\n",
      "        - Population    block group population\n",
      "        - AveOccup      average number of household members\n",
      "        - Latitude      block group latitude\n",
      "        - Longitude     block group longitude\n",
      "\n",
      "    :Missing Attribute Values: None\n",
      "\n",
      "This dataset was obtained from the StatLib repository.\n",
      "https://www.dcc.fc.up.pt/~ltorgo/Regression/cal_housing.html\n",
      "\n",
      "The target variable is the median house value for California districts,\n",
      "expressed in hundreds of thousands of dollars ($100,000).\n",
      "\n",
      "This dataset was derived from the 1990 U.S. census, using one row per census\n",
      "block group. A block group is the smallest geographical unit for which the U.S.\n",
      "Census Bureau publishes sample data (a block group typically has a population\n",
      "of 600 to 3,000 people).\n",
      "\n",
      "An household is a group of people residing within a home. Since the average\n",
      "number of rooms and bedrooms in this dataset are provided per household, these\n",
      "columns may take surpinsingly large values for block groups with few households\n",
      "and many empty houses, such as vacation resorts.\n",
      "\n",
      "It can be downloaded/loaded using the\n",
      ":func:`sklearn.datasets.fetch_california_housing` function.\n",
      "\n",
      ".. topic:: References\n",
      "\n",
      "    - Pace, R. Kelley and Ronald Barry, Sparse Spatial Autoregressions,\n",
      "      Statistics and Probability Letters, 33 (1997) 291-297\n",
      "\n"
     ]
    }
   ],
   "source": [
    "housing = fetch_california_housing()\n",
    "print(housing.DESCR)"
   ]
  },
  {
   "cell_type": "code",
   "execution_count": 4,
   "id": "d17fc737",
   "metadata": {
    "ExecuteTime": {
     "end_time": "2022-05-26T02:08:44.439250Z",
     "start_time": "2022-05-26T02:08:44.433234Z"
    }
   },
   "outputs": [
    {
     "name": "stdout",
     "output_type": "stream",
     "text": [
      "[4.526 3.585 3.521 ... 0.923 0.847 0.894]\n"
     ]
    }
   ],
   "source": [
    "print(housing.target)"
   ]
  },
  {
   "cell_type": "code",
   "execution_count": 5,
   "id": "7773658e",
   "metadata": {
    "ExecuteTime": {
     "end_time": "2022-05-26T02:09:21.993821Z",
     "start_time": "2022-05-26T02:09:21.982420Z"
    }
   },
   "outputs": [
    {
     "name": "stdout",
     "output_type": "stream",
     "text": [
      "[[   8.3252       41.            6.98412698 ...    2.55555556\n",
      "    37.88       -122.23      ]\n",
      " [   8.3014       21.            6.23813708 ...    2.10984183\n",
      "    37.86       -122.22      ]\n",
      " [   7.2574       52.            8.28813559 ...    2.80225989\n",
      "    37.85       -122.24      ]\n",
      " ...\n",
      " [   1.7          17.            5.20554273 ...    2.3256351\n",
      "    39.43       -121.22      ]\n",
      " [   1.8672       18.            5.32951289 ...    2.12320917\n",
      "    39.43       -121.32      ]\n",
      " [   2.3886       16.            5.25471698 ...    2.61698113\n",
      "    39.37       -121.24      ]]\n"
     ]
    }
   ],
   "source": [
    "print(housing.data)"
   ]
  },
  {
   "cell_type": "code",
   "execution_count": 6,
   "id": "10cafd56",
   "metadata": {
    "ExecuteTime": {
     "end_time": "2022-05-26T02:09:35.248989Z",
     "start_time": "2022-05-26T02:09:35.230924Z"
    }
   },
   "outputs": [
    {
     "data": {
      "text/plain": [
       "(20640, 8)"
      ]
     },
     "execution_count": 6,
     "metadata": {},
     "output_type": "execute_result"
    }
   ],
   "source": [
    "housing.data.shape"
   ]
  },
  {
   "cell_type": "code",
   "execution_count": 7,
   "id": "82c13dab",
   "metadata": {
    "ExecuteTime": {
     "end_time": "2022-05-26T02:13:40.474821Z",
     "start_time": "2022-05-26T02:13:40.354802Z"
    }
   },
   "outputs": [
    {
     "name": "stdout",
     "output_type": "stream",
     "text": [
      "(11610, 8) (11610,)\n",
      "(3870, 8) (3870,)\n",
      "(5160, 8) (5160,)\n"
     ]
    }
   ],
   "source": [
    "# 切割数据\n",
    "# 训练数据, 验证集, 测试数据\n",
    "from sklearn.model_selection import train_test_split\n",
    "\n",
    "x_train_all, x_test, y_train_all, y_test = train_test_split(housing.data, housing.target, random_state=7)\n",
    "# 从x_train_all中切割出训练数据和校验数据\n",
    "x_train, x_valid, y_train, y_valid = train_test_split(x_train_all, y_train_all, random_state=11)\n",
    "print(x_train.shape, y_train.shape)\n",
    "print(x_valid.shape, y_valid.shape)\n",
    "print(x_test.shape, y_test.shape)"
   ]
  },
  {
   "cell_type": "code",
   "execution_count": 8,
   "id": "b983bb4f",
   "metadata": {
    "ExecuteTime": {
     "end_time": "2022-05-26T02:14:54.107806Z",
     "start_time": "2022-05-26T02:14:54.085236Z"
    }
   },
   "outputs": [],
   "source": [
    "# 标准化处理\n",
    "from sklearn.preprocessing import StandardScaler\n",
    "\n",
    "scaler = StandardScaler()\n",
    "x_train_scaled = scaler.fit_transform(x_train)\n",
    "x_valid_scaled = scaler.transform(x_valid)\n",
    "x_test_scaled = scaler.transform(x_test)"
   ]
  },
  {
   "cell_type": "code",
   "execution_count": 9,
   "id": "0cd8a7a6",
   "metadata": {
    "ExecuteTime": {
     "end_time": "2022-05-26T02:42:30.051557Z",
     "start_time": "2022-05-26T02:42:30.043517Z"
    }
   },
   "outputs": [
    {
     "data": {
      "text/plain": [
       "(11610, 8)"
      ]
     },
     "execution_count": 9,
     "metadata": {},
     "output_type": "execute_result"
    }
   ],
   "source": [
    "x_train.shape"
   ]
  },
  {
   "cell_type": "code",
   "execution_count": 10,
   "id": "0adaf3db",
   "metadata": {
    "ExecuteTime": {
     "end_time": "2022-05-26T02:43:44.707218Z",
     "start_time": "2022-05-26T02:43:43.575979Z"
    }
   },
   "outputs": [],
   "source": [
    "# 定义网络\n",
    "model = keras.models.Sequential([\n",
    "    # input_dim, input_shape一定要是元组\n",
    "    keras.layers.Dense(32, activation='relu', input_shape=x_train.shape[1:]),\n",
    "    keras.layers.Dense(1)\n",
    "])"
   ]
  },
  {
   "cell_type": "code",
   "execution_count": 11,
   "id": "b764fc08",
   "metadata": {
    "ExecuteTime": {
     "end_time": "2022-05-26T02:44:04.894479Z",
     "start_time": "2022-05-26T02:44:04.871180Z"
    }
   },
   "outputs": [
    {
     "name": "stdout",
     "output_type": "stream",
     "text": [
      "Model: \"sequential\"\n",
      "_________________________________________________________________\n",
      " Layer (type)                Output Shape              Param #   \n",
      "=================================================================\n",
      " dense (Dense)               (None, 32)                288       \n",
      "                                                                 \n",
      " dense_1 (Dense)             (None, 1)                 33        \n",
      "                                                                 \n",
      "=================================================================\n",
      "Total params: 321\n",
      "Trainable params: 321\n",
      "Non-trainable params: 0\n",
      "_________________________________________________________________\n"
     ]
    }
   ],
   "source": [
    "model.summary()"
   ]
  },
  {
   "cell_type": "code",
   "execution_count": 12,
   "id": "7672db3b",
   "metadata": {
    "ExecuteTime": {
     "end_time": "2022-05-26T02:44:29.355872Z",
     "start_time": "2022-05-26T02:44:29.349750Z"
    }
   },
   "outputs": [
    {
     "data": {
      "text/plain": [
       "288"
      ]
     },
     "execution_count": 12,
     "metadata": {},
     "output_type": "execute_result"
    }
   ],
   "source": [
    "32*8++32"
   ]
  },
  {
   "cell_type": "code",
   "execution_count": 13,
   "id": "7746ba1a",
   "metadata": {
    "ExecuteTime": {
     "end_time": "2022-05-26T02:46:07.604288Z",
     "start_time": "2022-05-26T02:46:07.585321Z"
    }
   },
   "outputs": [
    {
     "data": {
      "text/plain": [
       "33"
      ]
     },
     "execution_count": 13,
     "metadata": {},
     "output_type": "execute_result"
    }
   ],
   "source": [
    "32*1+1"
   ]
  },
  {
   "cell_type": "code",
   "execution_count": 14,
   "id": "ae54b5b6",
   "metadata": {
    "ExecuteTime": {
     "end_time": "2022-05-26T02:46:26.261182Z",
     "start_time": "2022-05-26T02:46:26.241414Z"
    }
   },
   "outputs": [],
   "source": [
    "# 配置\n",
    "model.compile(loss='mean_squared_error', optimizer='sgd', metrics=['mse'])"
   ]
  },
  {
   "cell_type": "markdown",
   "id": "6784e4f2",
   "metadata": {
    "ExecuteTime": {
     "end_time": "2022-05-26T02:48:09.926574Z",
     "start_time": "2022-05-26T02:48:08.334448Z"
    }
   },
   "source": [
    "回调函数"
   ]
  },
  {
   "cell_type": "code",
   "execution_count": 17,
   "id": "71deab33",
   "metadata": {
    "ExecuteTime": {
     "end_time": "2022-05-26T02:48:39.447542Z",
     "start_time": "2022-05-26T02:48:39.436443Z"
    }
   },
   "outputs": [],
   "source": []
  },
  {
   "cell_type": "code",
   "execution_count": 18,
   "id": "6865cad9",
   "metadata": {
    "ExecuteTime": {
     "end_time": "2022-05-26T02:49:36.323409Z",
     "start_time": "2022-05-26T02:48:42.662771Z"
    }
   },
   "outputs": [
    {
     "name": "stdout",
     "output_type": "stream",
     "text": [
      "Epoch 1/100\n",
      "363/363 [==============================] - 2s 3ms/step - loss: 14.6949 - mse: 14.6949 - val_loss: 0.6277 - val_mse: 0.6277\n",
      "Epoch 2/100\n",
      "363/363 [==============================] - 1s 3ms/step - loss: 0.4770 - mse: 0.4770 - val_loss: 0.4404 - val_mse: 0.4404\n",
      "Epoch 3/100\n",
      "363/363 [==============================] - 1s 2ms/step - loss: 0.4069 - mse: 0.4069 - val_loss: 0.4152 - val_mse: 0.4152\n",
      "Epoch 4/100\n",
      "363/363 [==============================] - 1s 3ms/step - loss: 0.3943 - mse: 0.3943 - val_loss: 0.3965 - val_mse: 0.3965\n",
      "Epoch 5/100\n",
      "363/363 [==============================] - 1s 3ms/step - loss: 0.3931 - mse: 0.3931 - val_loss: 0.3915 - val_mse: 0.3915\n",
      "Epoch 6/100\n",
      "363/363 [==============================] - 1s 2ms/step - loss: 0.3812 - mse: 0.3812 - val_loss: 0.3854 - val_mse: 0.3854\n",
      "Epoch 7/100\n",
      "363/363 [==============================] - 1s 3ms/step - loss: 0.3773 - mse: 0.3773 - val_loss: 0.3783 - val_mse: 0.3783\n",
      "Epoch 8/100\n",
      "363/363 [==============================] - 1s 3ms/step - loss: 0.3730 - mse: 0.3730 - val_loss: 0.3769 - val_mse: 0.3769\n",
      "Epoch 9/100\n",
      "363/363 [==============================] - 1s 3ms/step - loss: 0.3687 - mse: 0.3687 - val_loss: 0.3729 - val_mse: 0.3729\n",
      "Epoch 10/100\n",
      "363/363 [==============================] - 1s 3ms/step - loss: 0.3658 - mse: 0.3658 - val_loss: 0.3749 - val_mse: 0.3749\n",
      "Epoch 11/100\n",
      "363/363 [==============================] - 1s 3ms/step - loss: 0.3632 - mse: 0.3632 - val_loss: 0.3700 - val_mse: 0.3700\n",
      "Epoch 12/100\n",
      "363/363 [==============================] - 1s 3ms/step - loss: 0.3596 - mse: 0.3596 - val_loss: 0.3703 - val_mse: 0.3703\n",
      "Epoch 13/100\n",
      "363/363 [==============================] - 1s 3ms/step - loss: 0.3587 - mse: 0.3587 - val_loss: 0.3689 - val_mse: 0.3689\n",
      "Epoch 14/100\n",
      "363/363 [==============================] - 1s 3ms/step - loss: 0.3563 - mse: 0.3563 - val_loss: 0.3649 - val_mse: 0.3649\n",
      "Epoch 15/100\n",
      "363/363 [==============================] - 1s 3ms/step - loss: 0.3550 - mse: 0.3550 - val_loss: 0.3656 - val_mse: 0.3656\n",
      "Epoch 16/100\n",
      "363/363 [==============================] - 1s 3ms/step - loss: 0.3544 - mse: 0.3544 - val_loss: 0.3650 - val_mse: 0.3650\n",
      "Epoch 17/100\n",
      "363/363 [==============================] - 1s 3ms/step - loss: 0.3623 - mse: 0.3623 - val_loss: 0.3631 - val_mse: 0.3631\n",
      "Epoch 18/100\n",
      "363/363 [==============================] - 1s 3ms/step - loss: 0.3536 - mse: 0.3536 - val_loss: 0.3653 - val_mse: 0.3653\n",
      "Epoch 19/100\n",
      "363/363 [==============================] - 1s 2ms/step - loss: 0.3504 - mse: 0.3504 - val_loss: 0.3707 - val_mse: 0.3707\n",
      "Epoch 20/100\n",
      "363/363 [==============================] - 1s 3ms/step - loss: 0.3524 - mse: 0.3524 - val_loss: 0.3564 - val_mse: 0.3564\n",
      "Epoch 21/100\n",
      "363/363 [==============================] - 1s 3ms/step - loss: 0.3563 - mse: 0.3563 - val_loss: 0.3581 - val_mse: 0.3581\n",
      "Epoch 22/100\n",
      "363/363 [==============================] - 1s 2ms/step - loss: 0.3486 - mse: 0.3486 - val_loss: 0.3559 - val_mse: 0.3559\n",
      "Epoch 23/100\n",
      "363/363 [==============================] - 1s 3ms/step - loss: 0.3505 - mse: 0.3505 - val_loss: 0.3580 - val_mse: 0.3580\n",
      "Epoch 24/100\n",
      "363/363 [==============================] - 1s 3ms/step - loss: 0.3454 - mse: 0.3454 - val_loss: 0.3546 - val_mse: 0.3546\n",
      "Epoch 25/100\n",
      "363/363 [==============================] - 1s 2ms/step - loss: 0.3458 - mse: 0.3458 - val_loss: 0.3588 - val_mse: 0.3588\n",
      "Epoch 26/100\n",
      "363/363 [==============================] - 1s 3ms/step - loss: 0.3442 - mse: 0.3442 - val_loss: 0.3515 - val_mse: 0.3515\n",
      "Epoch 27/100\n",
      "363/363 [==============================] - 1s 3ms/step - loss: 0.3500 - mse: 0.3500 - val_loss: 0.3581 - val_mse: 0.3581\n",
      "Epoch 28/100\n",
      "363/363 [==============================] - 1s 2ms/step - loss: 0.3418 - mse: 0.3418 - val_loss: 0.3903 - val_mse: 0.3903\n",
      "Epoch 29/100\n",
      "363/363 [==============================] - 1s 3ms/step - loss: 0.3463 - mse: 0.3463 - val_loss: 0.3525 - val_mse: 0.3525\n",
      "Epoch 30/100\n",
      "363/363 [==============================] - 1s 3ms/step - loss: 0.3448 - mse: 0.3448 - val_loss: 0.3504 - val_mse: 0.3504\n",
      "Epoch 31/100\n",
      "363/363 [==============================] - 1s 3ms/step - loss: 0.3402 - mse: 0.3402 - val_loss: 0.3556 - val_mse: 0.3556\n",
      "Epoch 32/100\n",
      "363/363 [==============================] - 1s 3ms/step - loss: 0.3505 - mse: 0.3505 - val_loss: 0.3542 - val_mse: 0.3542\n",
      "Epoch 33/100\n",
      "363/363 [==============================] - 1s 3ms/step - loss: 0.3461 - mse: 0.3461 - val_loss: 0.3492 - val_mse: 0.3492\n",
      "Epoch 34/100\n",
      "363/363 [==============================] - 1s 3ms/step - loss: 0.3495 - mse: 0.3495 - val_loss: 0.3501 - val_mse: 0.3501\n",
      "Epoch 35/100\n",
      "363/363 [==============================] - 1s 3ms/step - loss: 0.3385 - mse: 0.3385 - val_loss: 0.3474 - val_mse: 0.3474\n",
      "Epoch 36/100\n",
      "363/363 [==============================] - 1s 3ms/step - loss: 0.3356 - mse: 0.3356 - val_loss: 0.3501 - val_mse: 0.3501\n",
      "Epoch 37/100\n",
      "363/363 [==============================] - 1s 3ms/step - loss: 0.3382 - mse: 0.3382 - val_loss: 0.3475 - val_mse: 0.3475\n",
      "Epoch 38/100\n",
      "363/363 [==============================] - 1s 3ms/step - loss: 0.3453 - mse: 0.3453 - val_loss: 0.3454 - val_mse: 0.3454\n",
      "Epoch 39/100\n",
      "363/363 [==============================] - 1s 3ms/step - loss: 0.3365 - mse: 0.3365 - val_loss: 0.3526 - val_mse: 0.3526\n",
      "Epoch 40/100\n",
      "363/363 [==============================] - 1s 3ms/step - loss: 0.3376 - mse: 0.3376 - val_loss: 0.3512 - val_mse: 0.3512\n",
      "Epoch 41/100\n",
      "363/363 [==============================] - 1s 3ms/step - loss: 0.3328 - mse: 0.3328 - val_loss: 0.3431 - val_mse: 0.3431\n",
      "Epoch 42/100\n",
      "363/363 [==============================] - 1s 3ms/step - loss: 0.3380 - mse: 0.3380 - val_loss: 0.3434 - val_mse: 0.3434\n",
      "Epoch 43/100\n",
      "363/363 [==============================] - 1s 3ms/step - loss: 0.3316 - mse: 0.3316 - val_loss: 0.3493 - val_mse: 0.3493\n",
      "Epoch 44/100\n",
      "363/363 [==============================] - 1s 2ms/step - loss: 0.3342 - mse: 0.3342 - val_loss: 0.3439 - val_mse: 0.3439\n",
      "Epoch 45/100\n",
      "363/363 [==============================] - 1s 3ms/step - loss: 0.3299 - mse: 0.3299 - val_loss: 0.3408 - val_mse: 0.3408\n",
      "Epoch 46/100\n",
      "363/363 [==============================] - 1s 3ms/step - loss: 0.3307 - mse: 0.3307 - val_loss: 0.3441 - val_mse: 0.3441\n",
      "Epoch 47/100\n",
      "363/363 [==============================] - 1s 2ms/step - loss: 0.3294 - mse: 0.3294 - val_loss: 0.3421 - val_mse: 0.3421\n",
      "Epoch 48/100\n",
      "363/363 [==============================] - 1s 3ms/step - loss: 0.3309 - mse: 0.3309 - val_loss: 0.3514 - val_mse: 0.3514\n",
      "Epoch 49/100\n",
      "363/363 [==============================] - 1s 3ms/step - loss: 0.3352 - mse: 0.3352 - val_loss: 0.3409 - val_mse: 0.3409\n",
      "Epoch 50/100\n",
      "363/363 [==============================] - 1s 3ms/step - loss: 0.3369 - mse: 0.3369 - val_loss: 0.3390 - val_mse: 0.3390\n",
      "Epoch 51/100\n",
      "363/363 [==============================] - 1s 3ms/step - loss: 0.3273 - mse: 0.3273 - val_loss: 0.3415 - val_mse: 0.3415\n",
      "Epoch 52/100\n",
      "363/363 [==============================] - 1s 3ms/step - loss: 0.3284 - mse: 0.3284 - val_loss: 0.3411 - val_mse: 0.3411\n",
      "Epoch 53/100\n",
      "363/363 [==============================] - 1s 2ms/step - loss: 0.3254 - mse: 0.3254 - val_loss: 0.3398 - val_mse: 0.3398\n",
      "Epoch 54/100\n",
      "363/363 [==============================] - 1s 3ms/step - loss: 0.3305 - mse: 0.3305 - val_loss: 0.3513 - val_mse: 0.3513\n",
      "Epoch 55/100\n",
      "363/363 [==============================] - 1s 2ms/step - loss: 0.3267 - mse: 0.3267 - val_loss: 0.3502 - val_mse: 0.3502\n"
     ]
    }
   ],
   "source": [
    "log_dir = './callbacks'\n",
    "if not os.path.exists(log_dir):\n",
    "    os.mkdir(log_dir)\n",
    "    \n",
    "output_model_file = os.path.join(log_dir, 'model.h5')\n",
    "    \n",
    "callbacks = [\n",
    "    keras.callbacks.TensorBoard(log_dir),\n",
    "    keras.callbacks.ModelCheckpoint(output_model_file, save_best_only=True),\n",
    "    keras.callbacks.EarlyStopping(patience=5, min_delta=1e-3)\n",
    "]\n",
    "history = model.fit(x_train_scaled, y_train, \n",
    "          validation_data=(x_valid_scaled, y_valid), \n",
    "          epochs=100,\n",
    "          callbacks=callbacks\n",
    ")"
   ]
  },
  {
   "cell_type": "code",
   "execution_count": 19,
   "id": "00232e81",
   "metadata": {
    "ExecuteTime": {
     "end_time": "2022-05-26T02:51:42.112080Z",
     "start_time": "2022-05-26T02:51:42.095008Z"
    }
   },
   "outputs": [
    {
     "data": {
      "text/plain": [
       "{'loss': [14.694876670837402,\n",
       "  0.47696059942245483,\n",
       "  0.4068569540977478,\n",
       "  0.3943221867084503,\n",
       "  0.3930814266204834,\n",
       "  0.381224125623703,\n",
       "  0.377273291349411,\n",
       "  0.37304922938346863,\n",
       "  0.3687293529510498,\n",
       "  0.36580148339271545,\n",
       "  0.3632049858570099,\n",
       "  0.35958147048950195,\n",
       "  0.3586646616458893,\n",
       "  0.3563074469566345,\n",
       "  0.35495859384536743,\n",
       "  0.35436445474624634,\n",
       "  0.36230704188346863,\n",
       "  0.35359159111976624,\n",
       "  0.35035237669944763,\n",
       "  0.35244977474212646,\n",
       "  0.3563433289527893,\n",
       "  0.3486056327819824,\n",
       "  0.3505166172981262,\n",
       "  0.3453802466392517,\n",
       "  0.3458230197429657,\n",
       "  0.3441949486732483,\n",
       "  0.35003048181533813,\n",
       "  0.3418358862400055,\n",
       "  0.34627029299736023,\n",
       "  0.3448132574558258,\n",
       "  0.34020814299583435,\n",
       "  0.35045126080513,\n",
       "  0.34613752365112305,\n",
       "  0.34947940707206726,\n",
       "  0.3384505808353424,\n",
       "  0.33564940094947815,\n",
       "  0.33821359276771545,\n",
       "  0.34533217549324036,\n",
       "  0.33651039004325867,\n",
       "  0.33764520287513733,\n",
       "  0.33282148838043213,\n",
       "  0.3379615247249603,\n",
       "  0.3316269814968109,\n",
       "  0.3341562747955322,\n",
       "  0.3299085795879364,\n",
       "  0.33072981238365173,\n",
       "  0.3294374644756317,\n",
       "  0.330863356590271,\n",
       "  0.3352384567260742,\n",
       "  0.3369366228580475,\n",
       "  0.32725441455841064,\n",
       "  0.3284096121788025,\n",
       "  0.3254022002220154,\n",
       "  0.330546110868454,\n",
       "  0.3266659379005432],\n",
       " 'mse': [14.694876670837402,\n",
       "  0.47696059942245483,\n",
       "  0.4068569540977478,\n",
       "  0.3943221867084503,\n",
       "  0.3930814266204834,\n",
       "  0.381224125623703,\n",
       "  0.377273291349411,\n",
       "  0.37304922938346863,\n",
       "  0.3687293529510498,\n",
       "  0.36580148339271545,\n",
       "  0.3632049858570099,\n",
       "  0.35958147048950195,\n",
       "  0.3586646616458893,\n",
       "  0.3563074469566345,\n",
       "  0.35495859384536743,\n",
       "  0.35436445474624634,\n",
       "  0.36230704188346863,\n",
       "  0.35359159111976624,\n",
       "  0.35035237669944763,\n",
       "  0.35244977474212646,\n",
       "  0.3563433289527893,\n",
       "  0.3486056327819824,\n",
       "  0.3505166172981262,\n",
       "  0.3453802466392517,\n",
       "  0.3458230197429657,\n",
       "  0.3441949486732483,\n",
       "  0.35003048181533813,\n",
       "  0.3418358862400055,\n",
       "  0.34627029299736023,\n",
       "  0.3448132574558258,\n",
       "  0.34020814299583435,\n",
       "  0.35045126080513,\n",
       "  0.34613752365112305,\n",
       "  0.34947940707206726,\n",
       "  0.3384505808353424,\n",
       "  0.33564940094947815,\n",
       "  0.33821359276771545,\n",
       "  0.34533217549324036,\n",
       "  0.33651039004325867,\n",
       "  0.33764520287513733,\n",
       "  0.33282148838043213,\n",
       "  0.3379615247249603,\n",
       "  0.3316269814968109,\n",
       "  0.3341562747955322,\n",
       "  0.3299085795879364,\n",
       "  0.33072981238365173,\n",
       "  0.3294374644756317,\n",
       "  0.330863356590271,\n",
       "  0.3352384567260742,\n",
       "  0.3369366228580475,\n",
       "  0.32725441455841064,\n",
       "  0.3284096121788025,\n",
       "  0.3254022002220154,\n",
       "  0.330546110868454,\n",
       "  0.3266659379005432],\n",
       " 'val_loss': [0.6276977062225342,\n",
       "  0.44041088223457336,\n",
       "  0.4152311682701111,\n",
       "  0.3964822590351105,\n",
       "  0.3914935290813446,\n",
       "  0.38536202907562256,\n",
       "  0.3783014118671417,\n",
       "  0.37687623500823975,\n",
       "  0.3729390501976013,\n",
       "  0.3749053478240967,\n",
       "  0.36995160579681396,\n",
       "  0.3702632486820221,\n",
       "  0.3689216673374176,\n",
       "  0.36487945914268494,\n",
       "  0.3655891418457031,\n",
       "  0.3649638295173645,\n",
       "  0.3631298840045929,\n",
       "  0.3652545213699341,\n",
       "  0.3707446753978729,\n",
       "  0.3564138412475586,\n",
       "  0.3580600619316101,\n",
       "  0.3558798134326935,\n",
       "  0.3580440282821655,\n",
       "  0.3546163737773895,\n",
       "  0.3588055670261383,\n",
       "  0.35150057077407837,\n",
       "  0.3580962121486664,\n",
       "  0.3902691602706909,\n",
       "  0.35254377126693726,\n",
       "  0.3503902852535248,\n",
       "  0.3556029498577118,\n",
       "  0.3542228043079376,\n",
       "  0.34924444556236267,\n",
       "  0.35010650753974915,\n",
       "  0.3474467694759369,\n",
       "  0.3501274585723877,\n",
       "  0.34748563170433044,\n",
       "  0.3454212248325348,\n",
       "  0.35262125730514526,\n",
       "  0.3512367010116577,\n",
       "  0.34310004115104675,\n",
       "  0.34343913197517395,\n",
       "  0.3492860794067383,\n",
       "  0.3438701331615448,\n",
       "  0.34075722098350525,\n",
       "  0.3441006541252136,\n",
       "  0.3421170115470886,\n",
       "  0.3514019548892975,\n",
       "  0.3408532738685608,\n",
       "  0.3389732837677002,\n",
       "  0.34148895740509033,\n",
       "  0.3411038815975189,\n",
       "  0.3398023247718811,\n",
       "  0.3513258695602417,\n",
       "  0.35018599033355713],\n",
       " 'val_mse': [0.6276977062225342,\n",
       "  0.44041088223457336,\n",
       "  0.4152311682701111,\n",
       "  0.3964822590351105,\n",
       "  0.3914935290813446,\n",
       "  0.38536202907562256,\n",
       "  0.3783014118671417,\n",
       "  0.37687623500823975,\n",
       "  0.3729390501976013,\n",
       "  0.3749053478240967,\n",
       "  0.36995160579681396,\n",
       "  0.3702632486820221,\n",
       "  0.3689216673374176,\n",
       "  0.36487945914268494,\n",
       "  0.3655891418457031,\n",
       "  0.3649638295173645,\n",
       "  0.3631298840045929,\n",
       "  0.3652545213699341,\n",
       "  0.3707446753978729,\n",
       "  0.3564138412475586,\n",
       "  0.3580600619316101,\n",
       "  0.3558798134326935,\n",
       "  0.3580440282821655,\n",
       "  0.3546163737773895,\n",
       "  0.3588055670261383,\n",
       "  0.35150057077407837,\n",
       "  0.3580962121486664,\n",
       "  0.3902691602706909,\n",
       "  0.35254377126693726,\n",
       "  0.3503902852535248,\n",
       "  0.3556029498577118,\n",
       "  0.3542228043079376,\n",
       "  0.34924444556236267,\n",
       "  0.35010650753974915,\n",
       "  0.3474467694759369,\n",
       "  0.3501274585723877,\n",
       "  0.34748563170433044,\n",
       "  0.3454212248325348,\n",
       "  0.35262125730514526,\n",
       "  0.3512367010116577,\n",
       "  0.34310004115104675,\n",
       "  0.34343913197517395,\n",
       "  0.3492860794067383,\n",
       "  0.3438701331615448,\n",
       "  0.34075722098350525,\n",
       "  0.3441006541252136,\n",
       "  0.3421170115470886,\n",
       "  0.3514019548892975,\n",
       "  0.3408532738685608,\n",
       "  0.3389732837677002,\n",
       "  0.34148895740509033,\n",
       "  0.3411038815975189,\n",
       "  0.3398023247718811,\n",
       "  0.3513258695602417,\n",
       "  0.35018599033355713]}"
      ]
     },
     "execution_count": 19,
     "metadata": {},
     "output_type": "execute_result"
    }
   ],
   "source": [
    "history.history"
   ]
  },
  {
   "cell_type": "markdown",
   "id": "ef62f331",
   "metadata": {},
   "source": [
    "## 定义画图的函数"
   ]
  },
  {
   "cell_type": "code",
   "execution_count": 20,
   "id": "50533e1f",
   "metadata": {
    "ExecuteTime": {
     "end_time": "2022-05-26T02:54:00.384357Z",
     "start_time": "2022-05-26T02:54:00.184814Z"
    }
   },
   "outputs": [
    {
     "data": {
      "image/png": "[encoded data removed]",
      "text/plain": [
       "<Figure size 576x360 with 1 Axes>"
      ]
     },
     "metadata": {
      "needs_background": "light"
     },
     "output_type": "display_data"
    }
   ],
   "source": [
    "# 定义画图的函数\n",
    "def plot_learning_curves(history):\n",
    "    pandas.DataFrame(history.history).plot(figsize=(8, 5))\n",
    "    plt.grid(True)\n",
    "    plt.gca().set_ylim(0, 1)\n",
    "    plt.show()\n",
    "plot_learning_curves(history)"
   ]
  },
  {
   "cell_type": "markdown",
   "id": "b49a7504",
   "metadata": {},
   "source": [
    "# 神经网络实现回归任务"
   ]
  },
  {
   "cell_type": "code",
   "execution_count": null,
   "id": "4430100c",
   "metadata": {},
   "outputs": [],
   "source": [
    "housing = fetch_california_housing()\n",
    "print(housing.DESCR)\n",
    "# 切割数据\n",
    "# 训练数据, 验证集, 测试数据\n",
    "from sklearn.model_selection import train_test_split\n",
    "\n",
    "x_train_all, x_test, y_train_all, y_test = train_test_split(housing.data, housing.target, random_state=7)\n",
    "# 从x_train_all中切割出训练数据和校验数据\n",
    "x_train, x_valid, y_train, y_valid = train_test_split(x_train_all, y_train_all, random_state=11)\n",
    "print(x_train.shape, y_train.shape)\n",
    "print(x_valid.shape, y_valid.shape)\n",
    "print(x_test.shape, y_test.shape)\n",
    "# 标准化处理\n",
    "from sklearn.preprocessing import StandardScaler\n",
    "\n",
    "scaler = StandardScaler()\n",
    "x_train_scaled = scaler.fit_transform(x_train)\n",
    "x_valid_scaled = scaler.transform(x_valid)\n",
    "x_test_scaled = scaler.transform(x_test)\n",
    "\n",
    "# 定义网络\n",
    "model = keras.models.Sequential([\n",
    "    # input_dim, input_shape一定要是元组\n",
    "    keras.layers.Dense(32, activation='relu', input_shape=x_train.shape[1:]),\n",
    "    keras.layers.Dense(1)\n",
    "])\n",
    "\n",
    "# 配置\n",
    "model.compile(loss='mean_squared_error', optimizer='sgd', metrics=['mse'])\n",
    "\n",
    "callbacks = []\n",
    "history = model.fit(x_train_scaled, y_train, \n",
    "          validation_data=(x_valid_scaled, y_valid), \n",
    "          epochs=20)\n",
    "\n",
    "\n",
    "# 定义画图的函数\n",
    "def plot_learning_curves(history):\n",
    "    pandas.DataFrame(history.history).plot(figsize=(8, 5))\n",
    "    plt.grid(True)\n",
    "    plt.gca().set_ylim(0, 1)\n",
    "    plt.show()\n",
    "plot_learning_curves(history)"
   ]
  },
  {
   "cell_type": "markdown",
   "id": "4e53641f",
   "metadata": {},
   "source": [
    "# 实现wide&deep模型"
   ]
  },
  {
   "cell_type": "code",
   "execution_count": null,
   "id": "e9506cd7",
   "metadata": {},
   "outputs": [],
   "source": [
    "housing = fetch_california_housing()\n",
    "print(housing.DESCR)\n",
    "# 切割数据\n",
    "# 训练数据, 验证集, 测试数据\n",
    "from sklearn.model_selection import train_test_split\n",
    "\n",
    "x_train_all, x_test, y_train_all, y_test = train_test_split(housing.data, housing.target, random_state=7)\n",
    "# 从x_train_all中切割出训练数据和校验数据\n",
    "x_train, x_valid, y_train, y_valid = train_test_split(x_train_all, y_train_all, random_state=11)\n",
    "print(x_train.shape, y_train.shape)\n",
    "print(x_valid.shape, y_valid.shape)\n",
    "print(x_test.shape, y_test.shape)\n",
    "# 标准化处理\n",
    "from sklearn.preprocessing import StandardScaler\n",
    "\n",
    "scaler = StandardScaler()\n",
    "x_train_scaled = scaler.fit_transform(x_train)\n",
    "x_valid_scaled = scaler.transform(x_valid)\n",
    "x_test_scaled = scaler.transform(x_test)\n",
    "\n",
    "# 定义网络\n",
    "# 函数式API\n",
    "# 每一层结构都可以当成一个函数去使用.\n",
    "input = keras.layers.Input(shape=x_train.shape[1:])\n",
    "hidden1 = keras.layers.Dense(30, activation='relu')(input)\n",
    "hidden2 = keras.layers.Dense(30, activation='relu')(hidden1)\n",
    "\n",
    "# wide和deep模型用相同的输入数据\n",
    "concat = keras.layers.concatenate([input, hidden2])\n",
    "output = keras.layers.Dense(1)(concat)\n",
    "\n",
    "# 包装成一个model\n",
    "model = keras.models.Model(inputs=[input], outputs=output)"
   ]
  },
  {
   "cell_type": "code",
   "execution_count": 48,
   "id": "eeac7bc1",
   "metadata": {
    "ExecuteTime": {
     "end_time": "2022-02-11T13:56:50.684513Z",
     "start_time": "2022-02-11T13:56:50.669553Z"
    },
    "scrolled": true
   },
   "outputs": [
    {
     "name": "stdout",
     "output_type": "stream",
     "text": [
      "Model: \"model_4\"\n",
      "__________________________________________________________________________________________________\n",
      "Layer (type)                    Output Shape         Param #     Connected to                     \n",
      "==================================================================================================\n",
      "input_5 (InputLayer)            [(None, 8)]          0                                            \n",
      "__________________________________________________________________________________________________\n",
      "dense_12 (Dense)                (None, 30)           270         input_5[0][0]                    \n",
      "__________________________________________________________________________________________________\n",
      "dense_13 (Dense)                (None, 30)           930         dense_12[0][0]                   \n",
      "__________________________________________________________________________________________________\n",
      "concatenate_4 (Concatenate)     (None, 38)           0           input_5[0][0]                    \n",
      "                                                                 dense_13[0][0]                   \n",
      "__________________________________________________________________________________________________\n",
      "dense_14 (Dense)                (None, 1)            39          concatenate_4[0][0]              \n",
      "==================================================================================================\n",
      "Total params: 1,239\n",
      "Trainable params: 1,239\n",
      "Non-trainable params: 0\n",
      "__________________________________________________________________________________________________\n"
     ]
    }
   ],
   "source": [
    "model.summary()"
   ]
  },
  {
   "cell_type": "code",
   "execution_count": null,
   "id": "f2034fb9",
   "metadata": {},
   "outputs": [],
   "source": [
    "# 配置\n",
    "model.compile(loss='mean_squared_error', optimizer='adam', metrics=['mse'])"
   ]
  },
  {
   "cell_type": "code",
   "execution_count": 50,
   "id": "b44f5a3a",
   "metadata": {
    "ExecuteTime": {
     "end_time": "2022-02-11T13:57:19.609135Z",
     "start_time": "2022-02-11T13:56:50.701468Z"
    },
    "scrolled": true
   },
   "outputs": [
    {
     "name": "stdout",
     "output_type": "stream",
     "text": [
      "Epoch 1/20\n",
      "363/363 [==============================] - 2s 4ms/step - loss: 1.5901 - mse: 1.5901 - val_loss: 0.5379 - val_mse: 0.5379\n",
      "Epoch 2/20\n",
      "363/363 [==============================] - 1s 4ms/step - loss: 0.4846 - mse: 0.4846 - val_loss: 0.4228 - val_mse: 0.4228\n",
      "Epoch 3/20\n",
      "363/363 [==============================] - 1s 4ms/step - loss: 0.3971 - mse: 0.3971 - val_loss: 0.3958 - val_mse: 0.3958\n",
      "Epoch 4/20\n",
      "363/363 [==============================] - 1s 4ms/step - loss: 0.3710 - mse: 0.3710 - val_loss: 0.4210 - val_mse: 0.4210\n",
      "Epoch 5/20\n",
      "363/363 [==============================] - 1s 4ms/step - loss: 0.4016 - mse: 0.4016 - val_loss: 0.3677 - val_mse: 0.3677\n",
      "Epoch 6/20\n",
      "363/363 [==============================] - 1s 4ms/step - loss: 0.3444 - mse: 0.3444 - val_loss: 0.3657 - val_mse: 0.3657\n",
      "Epoch 7/20\n",
      "363/363 [==============================] - 1s 4ms/step - loss: 0.3454 - mse: 0.3454 - val_loss: 0.3539 - val_mse: 0.3539\n",
      "Epoch 8/20\n",
      "363/363 [==============================] - 1s 4ms/step - loss: 0.3510 - mse: 0.3510 - val_loss: 0.3472 - val_mse: 0.3472\n",
      "Epoch 9/20\n",
      "363/363 [==============================] - 1s 4ms/step - loss: 0.3248 - mse: 0.3248 - val_loss: 0.3393 - val_mse: 0.3393\n",
      "Epoch 10/20\n",
      "363/363 [==============================] - 1s 4ms/step - loss: 0.3034 - mse: 0.3034 - val_loss: 0.3338 - val_mse: 0.3338\n",
      "Epoch 11/20\n",
      "363/363 [==============================] - 1s 4ms/step - loss: 0.3331 - mse: 0.3331 - val_loss: 0.3293 - val_mse: 0.3293\n",
      "Epoch 12/20\n",
      "363/363 [==============================] - 1s 4ms/step - loss: 0.3108 - mse: 0.3108 - val_loss: 0.3268 - val_mse: 0.3268\n",
      "Epoch 13/20\n",
      "363/363 [==============================] - 1s 4ms/step - loss: 0.3066 - mse: 0.3066 - val_loss: 0.3268 - val_mse: 0.3268\n",
      "Epoch 14/20\n",
      "363/363 [==============================] - 1s 4ms/step - loss: 0.3378 - mse: 0.3378 - val_loss: 0.3170 - val_mse: 0.3170\n",
      "Epoch 15/20\n",
      "363/363 [==============================] - 1s 4ms/step - loss: 0.3035 - mse: 0.3035 - val_loss: 0.3231 - val_mse: 0.3231\n",
      "Epoch 16/20\n",
      "363/363 [==============================] - 1s 4ms/step - loss: 0.2893 - mse: 0.2893 - val_loss: 0.3189 - val_mse: 0.3189\n",
      "Epoch 17/20\n",
      "363/363 [==============================] - 1s 4ms/step - loss: 0.3242 - mse: 0.3242 - val_loss: 0.3154 - val_mse: 0.3154\n",
      "Epoch 18/20\n",
      "363/363 [==============================] - 1s 4ms/step - loss: 0.2755 - mse: 0.2755 - val_loss: 0.3111 - val_mse: 0.3111\n",
      "Epoch 19/20\n",
      "363/363 [==============================] - 1s 4ms/step - loss: 0.2845 - mse: 0.2845 - val_loss: 0.3151 - val_mse: 0.3151\n",
      "Epoch 20/20\n",
      "363/363 [==============================] - 1s 4ms/step - loss: 0.3019 - mse: 0.3019 - val_loss: 0.3059 - val_mse: 0.3059\n"
     ]
    }
   ],
   "source": [
    "history = model.fit(x_train_scaled, y_train, \n",
    "          validation_data=(x_valid_scaled, y_valid), \n",
    "          epochs=20)"
   ]
  },
  {
   "cell_type": "code",
   "execution_count": null,
   "id": "9852f530",
   "metadata": {},
   "outputs": [],
   "source": [
    "history.history"
   ]
  },
  {
   "cell_type": "code",
   "execution_count": null,
   "id": "9d6d7afb",
   "metadata": {},
   "outputs": [],
   "source": [
    "# 定义画图的函数\n",
    "def plot_learning_curves(history):\n",
    "    pandas.DataFrame(history.history).plot(figsize=(8, 5))\n",
    "    plt.grid(True)\n",
    "    plt.gca().set_ylim(0, 1)\n",
    "    plt.show()\n",
    "plot_learning_curves(history)"
   ]
  },
  {
   "cell_type": "markdown",
   "id": "a6cd9043",
   "metadata": {},
   "source": [
    "# 多输入wide&deep模型"
   ]
  },
  {
   "cell_type": "code",
   "execution_count": 22,
   "id": "8fa06ca9",
   "metadata": {
    "ExecuteTime": {
     "end_time": "2022-05-26T03:12:11.204936Z",
     "start_time": "2022-05-26T03:12:11.163009Z"
    }
   },
   "outputs": [],
   "source": [
    "#多输入\n",
    "# 定义两个输入\n",
    "input_wide = keras.layers.Input(shape=[5])\n",
    "input_deep = keras.layers.Input(shape=[6])\n",
    "\n",
    "hidden1 = keras.layers.Dense(30, activation='relu')(input_deep)\n",
    "hidden2 = keras.layers.Dense(30, activation='relu')(hidden1)\n",
    "concat = keras.layers.concatenate([input_wide, hidden2])\n",
    "output = keras.layers.Dense(1)(concat)\n",
    "model = keras.models.Model(inputs=[input_wide, input_deep], outputs=[output])\n"
   ]
  },
  {
   "cell_type": "code",
   "execution_count": 23,
   "id": "a3b0f2f3",
   "metadata": {
    "ExecuteTime": {
     "end_time": "2022-05-26T03:12:21.622429Z",
     "start_time": "2022-05-26T03:12:21.598494Z"
    }
   },
   "outputs": [
    {
     "name": "stdout",
     "output_type": "stream",
     "text": [
      "Model: \"model\"\n",
      "__________________________________________________________________________________________________\n",
      " Layer (type)                   Output Shape         Param #     Connected to                     \n",
      "==================================================================================================\n",
      " input_2 (InputLayer)           [(None, 6)]          0           []                               \n",
      "                                                                                                  \n",
      " dense_2 (Dense)                (None, 30)           210         ['input_2[0][0]']                \n",
      "                                                                                                  \n",
      " input_1 (InputLayer)           [(None, 5)]          0           []                               \n",
      "                                                                                                  \n",
      " dense_3 (Dense)                (None, 30)           930         ['dense_2[0][0]']                \n",
      "                                                                                                  \n",
      " concatenate (Concatenate)      (None, 35)           0           ['input_1[0][0]',                \n",
      "                                                                  'dense_3[0][0]']                \n",
      "                                                                                                  \n",
      " dense_4 (Dense)                (None, 1)            36          ['concatenate[0][0]']            \n",
      "                                                                                                  \n",
      "==================================================================================================\n",
      "Total params: 1,176\n",
      "Trainable params: 1,176\n",
      "Non-trainable params: 0\n",
      "__________________________________________________________________________________________________\n"
     ]
    }
   ],
   "source": [
    "model.summary()"
   ]
  },
  {
   "cell_type": "code",
   "execution_count": 24,
   "id": "9d61a89e",
   "metadata": {
    "ExecuteTime": {
     "end_time": "2022-05-26T03:16:11.900287Z",
     "start_time": "2022-05-26T03:16:11.891311Z"
    }
   },
   "outputs": [],
   "source": [
    "# 配置\n",
    "model.compile(loss='mse', optimizer='adam', metrics=['mse'])"
   ]
  },
  {
   "cell_type": "code",
   "execution_count": 25,
   "id": "c991eb0c",
   "metadata": {
    "ExecuteTime": {
     "end_time": "2022-05-26T03:17:28.396211Z",
     "start_time": "2022-05-26T03:17:28.391221Z"
    }
   },
   "outputs": [],
   "source": [
    "# 对输入数据做修改\n",
    "x_train_scaled_wide = x_train_scaled[:, :5]\n",
    "x_train_scaled_deep = x_train_scaled[:, 2:]\n",
    "x_valid_scaled_wide = x_valid_scaled[:, :5]\n",
    "x_valid_scaled_deep = x_valid_scaled[:, 2:]\n",
    "x_test_scaled_wide = x_test_scaled[:, :5]\n",
    "x_test_scaled_deep = x_test_scaled[:, 2:]"
   ]
  },
  {
   "cell_type": "code",
   "execution_count": 26,
   "id": "4c47205b",
   "metadata": {
    "ExecuteTime": {
     "end_time": "2022-05-26T03:17:47.694214Z",
     "start_time": "2022-05-26T03:17:47.677193Z"
    }
   },
   "outputs": [
    {
     "data": {
      "text/plain": [
       "(11610, 6)"
      ]
     },
     "execution_count": 26,
     "metadata": {},
     "output_type": "execute_result"
    }
   ],
   "source": [
    "x_train_scaled_deep.shape"
   ]
  },
  {
   "cell_type": "code",
   "execution_count": 27,
   "id": "d03a0034",
   "metadata": {
    "ExecuteTime": {
     "end_time": "2022-05-26T03:19:13.102316Z",
     "start_time": "2022-05-26T03:19:05.330163Z"
    }
   },
   "outputs": [
    {
     "name": "stdout",
     "output_type": "stream",
     "text": [
      "Epoch 1/20\n",
      "363/363 [==============================] - 1s 1ms/step - loss: 1.4703 - mse: 1.4703 - val_loss: 0.6273 - val_mse: 0.6273\n",
      "Epoch 2/20\n",
      "363/363 [==============================] - 0s 996us/step - loss: 0.5058 - mse: 0.5058 - val_loss: 0.4762 - val_mse: 0.4762\n",
      "Epoch 3/20\n",
      "363/363 [==============================] - 0s 1ms/step - loss: 0.4301 - mse: 0.4301 - val_loss: 0.4207 - val_mse: 0.4207\n",
      "Epoch 4/20\n",
      "363/363 [==============================] - 0s 986us/step - loss: 0.3957 - mse: 0.3957 - val_loss: 0.3975 - val_mse: 0.3975\n",
      "Epoch 5/20\n",
      "363/363 [==============================] - 0s 1ms/step - loss: 0.3767 - mse: 0.3767 - val_loss: 0.3819 - val_mse: 0.3819\n",
      "Epoch 6/20\n",
      "363/363 [==============================] - 0s 964us/step - loss: 0.3633 - mse: 0.3633 - val_loss: 0.3631 - val_mse: 0.3631\n",
      "Epoch 7/20\n",
      "363/363 [==============================] - 0s 990us/step - loss: 0.3519 - mse: 0.3519 - val_loss: 0.3647 - val_mse: 0.3647\n",
      "Epoch 8/20\n",
      "363/363 [==============================] - 0s 981us/step - loss: 0.3479 - mse: 0.3479 - val_loss: 0.3557 - val_mse: 0.3557\n",
      "Epoch 9/20\n",
      "363/363 [==============================] - 0s 997us/step - loss: 0.3779 - mse: 0.3779 - val_loss: 0.3640 - val_mse: 0.3640\n",
      "Epoch 10/20\n",
      "363/363 [==============================] - 0s 977us/step - loss: 0.3630 - mse: 0.3630 - val_loss: 0.3422 - val_mse: 0.3422\n",
      "Epoch 11/20\n",
      "363/363 [==============================] - 0s 1ms/step - loss: 0.3373 - mse: 0.3373 - val_loss: 0.3414 - val_mse: 0.3414\n",
      "Epoch 12/20\n",
      "363/363 [==============================] - 0s 1ms/step - loss: 0.3355 - mse: 0.3355 - val_loss: 0.3477 - val_mse: 0.3477\n",
      "Epoch 13/20\n",
      "363/363 [==============================] - 0s 1ms/step - loss: 0.3336 - mse: 0.3336 - val_loss: 0.3369 - val_mse: 0.3369\n",
      "Epoch 14/20\n",
      "363/363 [==============================] - 0s 991us/step - loss: 0.3284 - mse: 0.3284 - val_loss: 0.3378 - val_mse: 0.3378\n",
      "Epoch 15/20\n",
      "363/363 [==============================] - 0s 979us/step - loss: 0.3257 - mse: 0.3257 - val_loss: 0.3379 - val_mse: 0.3379\n",
      "Epoch 16/20\n",
      "363/363 [==============================] - 0s 1ms/step - loss: 0.3381 - mse: 0.3381 - val_loss: 0.3383 - val_mse: 0.3383\n",
      "Epoch 17/20\n",
      "363/363 [==============================] - 0s 1ms/step - loss: 0.3534 - mse: 0.3534 - val_loss: 0.3450 - val_mse: 0.3450\n",
      "Epoch 18/20\n",
      "363/363 [==============================] - 0s 1ms/step - loss: 0.3264 - mse: 0.3264 - val_loss: 0.3333 - val_mse: 0.3333\n",
      "Epoch 19/20\n",
      "363/363 [==============================] - 0s 1ms/step - loss: 0.3198 - mse: 0.3198 - val_loss: 0.3311 - val_mse: 0.3311\n",
      "Epoch 20/20\n",
      "363/363 [==============================] - 0s 1ms/step - loss: 0.3208 - mse: 0.3208 - val_loss: 0.3280 - val_mse: 0.3280\n"
     ]
    }
   ],
   "source": [
    "history = model.fit([x_train_scaled_wide, x_train_scaled_deep], y_train,\n",
    "                    validation_data=([x_valid_scaled_wide, x_valid_scaled_deep], y_valid),\n",
    "         epochs=20)"
   ]
  },
  {
   "cell_type": "code",
   "execution_count": 36,
   "id": "ab26c3b0",
   "metadata": {
    "ExecuteTime": {
     "end_time": "2022-05-26T03:24:54.314481Z",
     "start_time": "2022-05-26T03:24:54.303450Z"
    }
   },
   "outputs": [
    {
     "data": {
      "text/html": [
       "<div>\n",
       "<style scoped>\n",
       "    .dataframe tbody tr th:only-of-type {\n",
       "        vertical-align: middle;\n",
       "    }\n",
       "\n",
       "    .dataframe tbody tr th {\n",
       "        vertical-align: top;\n",
       "    }\n",
       "\n",
       "    .dataframe thead th {\n",
       "        text-align: right;\n",
       "    }\n",
       "</style>\n",
       "<table border=\"1\" class=\"dataframe\">\n",
       "  <thead>\n",
       "    <tr style=\"text-align: right;\">\n",
       "      <th></th>\n",
       "      <th>loss</th>\n",
       "      <th>mse</th>\n",
       "    </tr>\n",
       "  </thead>\n",
       "  <tbody>\n",
       "    <tr>\n",
       "      <th>0</th>\n",
       "      <td>1.470269</td>\n",
       "      <td>1.470269</td>\n",
       "    </tr>\n",
       "    <tr>\n",
       "      <th>1</th>\n",
       "      <td>0.505791</td>\n",
       "      <td>0.505791</td>\n",
       "    </tr>\n",
       "    <tr>\n",
       "      <th>2</th>\n",
       "      <td>0.430123</td>\n",
       "      <td>0.430123</td>\n",
       "    </tr>\n",
       "    <tr>\n",
       "      <th>3</th>\n",
       "      <td>0.395658</td>\n",
       "      <td>0.395658</td>\n",
       "    </tr>\n",
       "    <tr>\n",
       "      <th>4</th>\n",
       "      <td>0.376668</td>\n",
       "      <td>0.376668</td>\n",
       "    </tr>\n",
       "    <tr>\n",
       "      <th>5</th>\n",
       "      <td>0.363265</td>\n",
       "      <td>0.363265</td>\n",
       "    </tr>\n",
       "    <tr>\n",
       "      <th>6</th>\n",
       "      <td>0.351872</td>\n",
       "      <td>0.351872</td>\n",
       "    </tr>\n",
       "    <tr>\n",
       "      <th>7</th>\n",
       "      <td>0.347890</td>\n",
       "      <td>0.347890</td>\n",
       "    </tr>\n",
       "    <tr>\n",
       "      <th>8</th>\n",
       "      <td>0.377896</td>\n",
       "      <td>0.377896</td>\n",
       "    </tr>\n",
       "    <tr>\n",
       "      <th>9</th>\n",
       "      <td>0.362953</td>\n",
       "      <td>0.362953</td>\n",
       "    </tr>\n",
       "    <tr>\n",
       "      <th>10</th>\n",
       "      <td>0.337257</td>\n",
       "      <td>0.337257</td>\n",
       "    </tr>\n",
       "    <tr>\n",
       "      <th>11</th>\n",
       "      <td>0.335525</td>\n",
       "      <td>0.335525</td>\n",
       "    </tr>\n",
       "    <tr>\n",
       "      <th>12</th>\n",
       "      <td>0.333631</td>\n",
       "      <td>0.333631</td>\n",
       "    </tr>\n",
       "    <tr>\n",
       "      <th>13</th>\n",
       "      <td>0.328412</td>\n",
       "      <td>0.328412</td>\n",
       "    </tr>\n",
       "    <tr>\n",
       "      <th>14</th>\n",
       "      <td>0.325652</td>\n",
       "      <td>0.325652</td>\n",
       "    </tr>\n",
       "    <tr>\n",
       "      <th>15</th>\n",
       "      <td>0.338072</td>\n",
       "      <td>0.338072</td>\n",
       "    </tr>\n",
       "    <tr>\n",
       "      <th>16</th>\n",
       "      <td>0.353445</td>\n",
       "      <td>0.353445</td>\n",
       "    </tr>\n",
       "    <tr>\n",
       "      <th>17</th>\n",
       "      <td>0.326400</td>\n",
       "      <td>0.326400</td>\n",
       "    </tr>\n",
       "    <tr>\n",
       "      <th>18</th>\n",
       "      <td>0.319769</td>\n",
       "      <td>0.319769</td>\n",
       "    </tr>\n",
       "    <tr>\n",
       "      <th>19</th>\n",
       "      <td>0.320787</td>\n",
       "      <td>0.320787</td>\n",
       "    </tr>\n",
       "  </tbody>\n",
       "</table>\n",
       "</div>"
      ],
      "text/plain": [
       "        loss       mse\n",
       "0   1.470269  1.470269\n",
       "1   0.505791  0.505791\n",
       "2   0.430123  0.430123\n",
       "3   0.395658  0.395658\n",
       "4   0.376668  0.376668\n",
       "5   0.363265  0.363265\n",
       "6   0.351872  0.351872\n",
       "7   0.347890  0.347890\n",
       "8   0.377896  0.377896\n",
       "9   0.362953  0.362953\n",
       "10  0.337257  0.337257\n",
       "11  0.335525  0.335525\n",
       "12  0.333631  0.333631\n",
       "13  0.328412  0.328412\n",
       "14  0.325652  0.325652\n",
       "15  0.338072  0.338072\n",
       "16  0.353445  0.353445\n",
       "17  0.326400  0.326400\n",
       "18  0.319769  0.319769\n",
       "19  0.320787  0.320787"
      ]
     },
     "execution_count": 36,
     "metadata": {},
     "output_type": "execute_result"
    }
   ],
   "source": [
    "pd.DataFrame(history.history).iloc[:,:2]"
   ]
  },
  {
   "cell_type": "code",
   "execution_count": 39,
   "id": "fe6e4370",
   "metadata": {
    "ExecuteTime": {
     "end_time": "2022-05-26T03:25:45.346034Z",
     "start_time": "2022-05-26T03:25:45.334041Z"
    }
   },
   "outputs": [
    {
     "data": {
      "text/html": [
       "<div>\n",
       "<style scoped>\n",
       "    .dataframe tbody tr th:only-of-type {\n",
       "        vertical-align: middle;\n",
       "    }\n",
       "\n",
       "    .dataframe tbody tr th {\n",
       "        vertical-align: top;\n",
       "    }\n",
       "\n",
       "    .dataframe thead th {\n",
       "        text-align: right;\n",
       "    }\n",
       "</style>\n",
       "<table border=\"1\" class=\"dataframe\">\n",
       "  <thead>\n",
       "    <tr style=\"text-align: right;\">\n",
       "      <th></th>\n",
       "      <th>loss</th>\n",
       "      <th>mse</th>\n",
       "      <th>val_loss</th>\n",
       "      <th>val_mse</th>\n",
       "    </tr>\n",
       "  </thead>\n",
       "  <tbody>\n",
       "    <tr>\n",
       "      <th>0</th>\n",
       "      <td>1.470269</td>\n",
       "      <td>1.470269</td>\n",
       "      <td>0.627257</td>\n",
       "      <td>0.627257</td>\n",
       "    </tr>\n",
       "    <tr>\n",
       "      <th>1</th>\n",
       "      <td>0.505791</td>\n",
       "      <td>0.505791</td>\n",
       "      <td>0.476242</td>\n",
       "      <td>0.476242</td>\n",
       "    </tr>\n",
       "    <tr>\n",
       "      <th>2</th>\n",
       "      <td>0.430123</td>\n",
       "      <td>0.430123</td>\n",
       "      <td>0.420734</td>\n",
       "      <td>0.420734</td>\n",
       "    </tr>\n",
       "    <tr>\n",
       "      <th>3</th>\n",
       "      <td>0.395658</td>\n",
       "      <td>0.395658</td>\n",
       "      <td>0.397538</td>\n",
       "      <td>0.397538</td>\n",
       "    </tr>\n",
       "    <tr>\n",
       "      <th>4</th>\n",
       "      <td>0.376668</td>\n",
       "      <td>0.376668</td>\n",
       "      <td>0.381944</td>\n",
       "      <td>0.381944</td>\n",
       "    </tr>\n",
       "    <tr>\n",
       "      <th>5</th>\n",
       "      <td>0.363265</td>\n",
       "      <td>0.363265</td>\n",
       "      <td>0.363091</td>\n",
       "      <td>0.363091</td>\n",
       "    </tr>\n",
       "    <tr>\n",
       "      <th>6</th>\n",
       "      <td>0.351872</td>\n",
       "      <td>0.351872</td>\n",
       "      <td>0.364721</td>\n",
       "      <td>0.364721</td>\n",
       "    </tr>\n",
       "    <tr>\n",
       "      <th>7</th>\n",
       "      <td>0.347890</td>\n",
       "      <td>0.347890</td>\n",
       "      <td>0.355659</td>\n",
       "      <td>0.355659</td>\n",
       "    </tr>\n",
       "    <tr>\n",
       "      <th>8</th>\n",
       "      <td>0.377896</td>\n",
       "      <td>0.377896</td>\n",
       "      <td>0.364001</td>\n",
       "      <td>0.364001</td>\n",
       "    </tr>\n",
       "    <tr>\n",
       "      <th>9</th>\n",
       "      <td>0.362953</td>\n",
       "      <td>0.362953</td>\n",
       "      <td>0.342206</td>\n",
       "      <td>0.342206</td>\n",
       "    </tr>\n",
       "    <tr>\n",
       "      <th>10</th>\n",
       "      <td>0.337257</td>\n",
       "      <td>0.337257</td>\n",
       "      <td>0.341354</td>\n",
       "      <td>0.341354</td>\n",
       "    </tr>\n",
       "    <tr>\n",
       "      <th>11</th>\n",
       "      <td>0.335525</td>\n",
       "      <td>0.335525</td>\n",
       "      <td>0.347713</td>\n",
       "      <td>0.347713</td>\n",
       "    </tr>\n",
       "    <tr>\n",
       "      <th>12</th>\n",
       "      <td>0.333631</td>\n",
       "      <td>0.333631</td>\n",
       "      <td>0.336908</td>\n",
       "      <td>0.336908</td>\n",
       "    </tr>\n",
       "    <tr>\n",
       "      <th>13</th>\n",
       "      <td>0.328412</td>\n",
       "      <td>0.328412</td>\n",
       "      <td>0.337779</td>\n",
       "      <td>0.337779</td>\n",
       "    </tr>\n",
       "    <tr>\n",
       "      <th>14</th>\n",
       "      <td>0.325652</td>\n",
       "      <td>0.325652</td>\n",
       "      <td>0.337867</td>\n",
       "      <td>0.337867</td>\n",
       "    </tr>\n",
       "    <tr>\n",
       "      <th>15</th>\n",
       "      <td>0.338072</td>\n",
       "      <td>0.338072</td>\n",
       "      <td>0.338277</td>\n",
       "      <td>0.338277</td>\n",
       "    </tr>\n",
       "    <tr>\n",
       "      <th>16</th>\n",
       "      <td>0.353445</td>\n",
       "      <td>0.353445</td>\n",
       "      <td>0.345023</td>\n",
       "      <td>0.345023</td>\n",
       "    </tr>\n",
       "    <tr>\n",
       "      <th>17</th>\n",
       "      <td>0.326400</td>\n",
       "      <td>0.326400</td>\n",
       "      <td>0.333297</td>\n",
       "      <td>0.333297</td>\n",
       "    </tr>\n",
       "    <tr>\n",
       "      <th>18</th>\n",
       "      <td>0.319769</td>\n",
       "      <td>0.319769</td>\n",
       "      <td>0.331053</td>\n",
       "      <td>0.331053</td>\n",
       "    </tr>\n",
       "    <tr>\n",
       "      <th>19</th>\n",
       "      <td>0.320787</td>\n",
       "      <td>0.320787</td>\n",
       "      <td>0.328040</td>\n",
       "      <td>0.328040</td>\n",
       "    </tr>\n",
       "  </tbody>\n",
       "</table>\n",
       "</div>"
      ],
      "text/plain": [
       "        loss       mse  val_loss   val_mse\n",
       "0   1.470269  1.470269  0.627257  0.627257\n",
       "1   0.505791  0.505791  0.476242  0.476242\n",
       "2   0.430123  0.430123  0.420734  0.420734\n",
       "3   0.395658  0.395658  0.397538  0.397538\n",
       "4   0.376668  0.376668  0.381944  0.381944\n",
       "5   0.363265  0.363265  0.363091  0.363091\n",
       "6   0.351872  0.351872  0.364721  0.364721\n",
       "7   0.347890  0.347890  0.355659  0.355659\n",
       "8   0.377896  0.377896  0.364001  0.364001\n",
       "9   0.362953  0.362953  0.342206  0.342206\n",
       "10  0.337257  0.337257  0.341354  0.341354\n",
       "11  0.335525  0.335525  0.347713  0.347713\n",
       "12  0.333631  0.333631  0.336908  0.336908\n",
       "13  0.328412  0.328412  0.337779  0.337779\n",
       "14  0.325652  0.325652  0.337867  0.337867\n",
       "15  0.338072  0.338072  0.338277  0.338277\n",
       "16  0.353445  0.353445  0.345023  0.345023\n",
       "17  0.326400  0.326400  0.333297  0.333297\n",
       "18  0.319769  0.319769  0.331053  0.331053\n",
       "19  0.320787  0.320787  0.328040  0.328040"
      ]
     },
     "execution_count": 39,
     "metadata": {},
     "output_type": "execute_result"
    }
   ],
   "source": [
    "pd.DataFrame(history.history)"
   ]
  },
  {
   "cell_type": "code",
   "execution_count": 38,
   "id": "13b85de3",
   "metadata": {
    "ExecuteTime": {
     "end_time": "2022-05-26T03:25:30.187423Z",
     "start_time": "2022-05-26T03:25:30.055609Z"
    }
   },
   "outputs": [
    {
     "data": {
      "image/png": "[encoded data removed]",
      "text/plain": [
       "<Figure size 576x360 with 1 Axes>"
      ]
     },
     "metadata": {
      "needs_background": "light"
     },
     "output_type": "display_data"
    }
   ],
   "source": [
    "# 定义画图的函数\n",
    "def plot_learning_curves(history):\n",
    "    pd.DataFrame(history.history).plot(figsize=(8, 5))\n",
    "    plt.grid(True)\n",
    "    plt.gca().set_ylim(0, 1)\n",
    "    plt.show()\n",
    "plot_learning_curves(history)"
   ]
  },
  {
   "cell_type": "markdown",
   "id": "858f53ad",
   "metadata": {},
   "source": [
    "# 多输出wide&deep模型"
   ]
  },
  {
   "cell_type": "code",
   "execution_count": 40,
   "id": "1f39acfa",
   "metadata": {
    "ExecuteTime": {
     "end_time": "2022-05-26T03:32:17.227856Z",
     "start_time": "2022-05-26T03:32:17.192857Z"
    }
   },
   "outputs": [],
   "source": [
    "# 多输出\n",
    "# 定义两个输入\n",
    "input_wide = keras.layers.Input(shape=[5])\n",
    "input_deep = keras.layers.Input(shape=[6])\n",
    "\n",
    "hidden1 = keras.layers.Dense(30, activation='relu')(input_deep)\n",
    "hidden2 = keras.layers.Dense(30, activation='relu')(hidden1)\n",
    "concat = keras.layers.concatenate([input_wide, hidden2])\n",
    "output = keras.layers.Dense(1)(concat)\n",
    "output2 = keras.layers.Dense(1)(hidden2)\n",
    "model = keras.models.Model(inputs=[input_wide, input_deep], outputs=[output, output2])"
   ]
  },
  {
   "cell_type": "code",
   "execution_count": 41,
   "id": "e3e47d88",
   "metadata": {
    "ExecuteTime": {
     "end_time": "2022-05-26T03:32:34.526460Z",
     "start_time": "2022-05-26T03:32:34.510504Z"
    }
   },
   "outputs": [
    {
     "name": "stdout",
     "output_type": "stream",
     "text": [
      "Model: \"model_1\"\n",
      "__________________________________________________________________________________________________\n",
      " Layer (type)                   Output Shape         Param #     Connected to                     \n",
      "==================================================================================================\n",
      " input_4 (InputLayer)           [(None, 6)]          0           []                               \n",
      "                                                                                                  \n",
      " dense_5 (Dense)                (None, 30)           210         ['input_4[0][0]']                \n",
      "                                                                                                  \n",
      " input_3 (InputLayer)           [(None, 5)]          0           []                               \n",
      "                                                                                                  \n",
      " dense_6 (Dense)                (None, 30)           930         ['dense_5[0][0]']                \n",
      "                                                                                                  \n",
      " concatenate_1 (Concatenate)    (None, 35)           0           ['input_3[0][0]',                \n",
      "                                                                  'dense_6[0][0]']                \n",
      "                                                                                                  \n",
      " dense_7 (Dense)                (None, 1)            36          ['concatenate_1[0][0]']          \n",
      "                                                                                                  \n",
      " dense_8 (Dense)                (None, 1)            31          ['dense_6[0][0]']                \n",
      "                                                                                                  \n",
      "==================================================================================================\n",
      "Total params: 1,207\n",
      "Trainable params: 1,207\n",
      "Non-trainable params: 0\n",
      "__________________________________________________________________________________________________\n"
     ]
    }
   ],
   "source": [
    "model.summary()"
   ]
  },
  {
   "cell_type": "code",
   "execution_count": 42,
   "id": "aa8f198a",
   "metadata": {
    "ExecuteTime": {
     "end_time": "2022-05-26T03:37:07.434826Z",
     "start_time": "2022-05-26T03:37:07.419853Z"
    }
   },
   "outputs": [],
   "source": [
    "# 配置\n",
    "model.compile(loss='mse', optimizer='adam', metrics=['mse'])"
   ]
  },
  {
   "cell_type": "code",
   "execution_count": 43,
   "id": "bb2f089e",
   "metadata": {
    "ExecuteTime": {
     "end_time": "2022-05-26T03:40:17.196367Z",
     "start_time": "2022-05-26T03:40:07.815158Z"
    }
   },
   "outputs": [
    {
     "name": "stdout",
     "output_type": "stream",
     "text": [
      "Epoch 1/20\n",
      "363/363 [==============================] - 1s 2ms/step - loss: 3.2021 - dense_7_loss: 1.7281 - dense_8_loss: 1.4740 - dense_7_mse: 1.7281 - dense_8_mse: 1.4740 - val_loss: 1.5375 - val_dense_7_loss: 0.7562 - val_dense_8_loss: 0.7813 - val_dense_7_mse: 0.7562 - val_dense_8_mse: 0.7813\n",
      "Epoch 2/20\n",
      "363/363 [==============================] - 0s 1ms/step - loss: 1.2450 - dense_7_loss: 0.6076 - dense_8_loss: 0.6374 - dense_7_mse: 0.6076 - dense_8_mse: 0.6374 - val_loss: 1.2004 - val_dense_7_loss: 0.5777 - val_dense_8_loss: 0.6227 - val_dense_7_mse: 0.5777 - val_dense_8_mse: 0.6227\n",
      "Epoch 3/20\n",
      "363/363 [==============================] - 0s 1ms/step - loss: 1.0548 - dense_7_loss: 0.4981 - dense_8_loss: 0.5568 - dense_7_mse: 0.4981 - dense_8_mse: 0.5568 - val_loss: 1.0507 - val_dense_7_loss: 0.4866 - val_dense_8_loss: 0.5640 - val_dense_7_mse: 0.4866 - val_dense_8_mse: 0.5640\n",
      "Epoch 4/20\n",
      "363/363 [==============================] - 0s 1ms/step - loss: 0.9623 - dense_7_loss: 0.4409 - dense_8_loss: 0.5214 - dense_7_mse: 0.4409 - dense_8_mse: 0.5214 - val_loss: 0.9501 - val_dense_7_loss: 0.4318 - val_dense_8_loss: 0.5183 - val_dense_7_mse: 0.4318 - val_dense_8_mse: 0.5183\n",
      "Epoch 5/20\n",
      "363/363 [==============================] - 0s 1ms/step - loss: 0.8908 - dense_7_loss: 0.4050 - dense_8_loss: 0.4858 - dense_7_mse: 0.4050 - dense_8_mse: 0.4858 - val_loss: 0.9264 - val_dense_7_loss: 0.4164 - val_dense_8_loss: 0.5100 - val_dense_7_mse: 0.4164 - val_dense_8_mse: 0.5100\n",
      "Epoch 6/20\n",
      "363/363 [==============================] - 0s 1ms/step - loss: 0.8372 - dense_7_loss: 0.3813 - dense_8_loss: 0.4559 - dense_7_mse: 0.3813 - dense_8_mse: 0.4559 - val_loss: 0.8504 - val_dense_7_loss: 0.3852 - val_dense_8_loss: 0.4652 - val_dense_7_mse: 0.3852 - val_dense_8_mse: 0.4652\n",
      "Epoch 7/20\n",
      "363/363 [==============================] - 0s 1ms/step - loss: 0.8132 - dense_7_loss: 0.3674 - dense_8_loss: 0.4457 - dense_7_mse: 0.3674 - dense_8_mse: 0.4457 - val_loss: 0.8082 - val_dense_7_loss: 0.3691 - val_dense_8_loss: 0.4391 - val_dense_7_mse: 0.3691 - val_dense_8_mse: 0.4391\n",
      "Epoch 8/20\n",
      "363/363 [==============================] - 0s 1ms/step - loss: 0.7753 - dense_7_loss: 0.3542 - dense_8_loss: 0.4210 - dense_7_mse: 0.3542 - dense_8_mse: 0.4210 - val_loss: 0.8017 - val_dense_7_loss: 0.3680 - val_dense_8_loss: 0.4337 - val_dense_7_mse: 0.3680 - val_dense_8_mse: 0.4337\n",
      "Epoch 9/20\n",
      "363/363 [==============================] - 0s 1ms/step - loss: 0.7592 - dense_7_loss: 0.3468 - dense_8_loss: 0.4124 - dense_7_mse: 0.3468 - dense_8_mse: 0.4124 - val_loss: 0.7585 - val_dense_7_loss: 0.3493 - val_dense_8_loss: 0.4092 - val_dense_7_mse: 0.3493 - val_dense_8_mse: 0.4092\n",
      "Epoch 10/20\n",
      "363/363 [==============================] - 0s 1ms/step - loss: 0.7500 - dense_7_loss: 0.3436 - dense_8_loss: 0.4064 - dense_7_mse: 0.3436 - dense_8_mse: 0.4064 - val_loss: 0.7715 - val_dense_7_loss: 0.3548 - val_dense_8_loss: 0.4168 - val_dense_7_mse: 0.3548 - val_dense_8_mse: 0.4168\n",
      "Epoch 11/20\n",
      "363/363 [==============================] - 0s 1ms/step - loss: 0.7376 - dense_7_loss: 0.3382 - dense_8_loss: 0.3994 - dense_7_mse: 0.3382 - dense_8_mse: 0.3994 - val_loss: 0.7417 - val_dense_7_loss: 0.3416 - val_dense_8_loss: 0.4001 - val_dense_7_mse: 0.3416 - val_dense_8_mse: 0.4001\n",
      "Epoch 12/20\n",
      "363/363 [==============================] - 0s 1ms/step - loss: 0.7316 - dense_7_loss: 0.3346 - dense_8_loss: 0.3969 - dense_7_mse: 0.3346 - dense_8_mse: 0.3969 - val_loss: 0.7417 - val_dense_7_loss: 0.3400 - val_dense_8_loss: 0.4017 - val_dense_7_mse: 0.3400 - val_dense_8_mse: 0.4017\n",
      "Epoch 13/20\n",
      "363/363 [==============================] - 0s 1ms/step - loss: 0.7524 - dense_7_loss: 0.3435 - dense_8_loss: 0.4089 - dense_7_mse: 0.3435 - dense_8_mse: 0.4089 - val_loss: 0.7438 - val_dense_7_loss: 0.3405 - val_dense_8_loss: 0.4034 - val_dense_7_mse: 0.3405 - val_dense_8_mse: 0.4034\n",
      "Epoch 14/20\n",
      "363/363 [==============================] - 0s 1ms/step - loss: 0.7218 - dense_7_loss: 0.3304 - dense_8_loss: 0.3913 - dense_7_mse: 0.3304 - dense_8_mse: 0.3913 - val_loss: 0.7976 - val_dense_7_loss: 0.3533 - val_dense_8_loss: 0.4442 - val_dense_7_mse: 0.3533 - val_dense_8_mse: 0.4442\n",
      "Epoch 15/20\n",
      "363/363 [==============================] - 0s 1ms/step - loss: 0.7314 - dense_7_loss: 0.3387 - dense_8_loss: 0.3926 - dense_7_mse: 0.3387 - dense_8_mse: 0.3926 - val_loss: 0.7447 - val_dense_7_loss: 0.3393 - val_dense_8_loss: 0.4054 - val_dense_7_mse: 0.3393 - val_dense_8_mse: 0.4054\n",
      "Epoch 16/20\n",
      "363/363 [==============================] - 0s 1ms/step - loss: 0.7210 - dense_7_loss: 0.3293 - dense_8_loss: 0.3917 - dense_7_mse: 0.3293 - dense_8_mse: 0.3917 - val_loss: 0.7343 - val_dense_7_loss: 0.3389 - val_dense_8_loss: 0.3955 - val_dense_7_mse: 0.3389 - val_dense_8_mse: 0.3955\n",
      "Epoch 17/20\n",
      "363/363 [==============================] - 0s 1ms/step - loss: 0.7087 - dense_7_loss: 0.3262 - dense_8_loss: 0.3825 - dense_7_mse: 0.3262 - dense_8_mse: 0.3825 - val_loss: 0.7306 - val_dense_7_loss: 0.3389 - val_dense_8_loss: 0.3917 - val_dense_7_mse: 0.3389 - val_dense_8_mse: 0.3917\n",
      "Epoch 18/20\n",
      "363/363 [==============================] - 0s 1ms/step - loss: 0.7034 - dense_7_loss: 0.3234 - dense_8_loss: 0.3800 - dense_7_mse: 0.3234 - dense_8_mse: 0.3800 - val_loss: 0.7311 - val_dense_7_loss: 0.3362 - val_dense_8_loss: 0.3950 - val_dense_7_mse: 0.3362 - val_dense_8_mse: 0.3950\n",
      "Epoch 19/20\n",
      "363/363 [==============================] - 0s 1ms/step - loss: 0.7084 - dense_7_loss: 0.3261 - dense_8_loss: 0.3822 - dense_7_mse: 0.3261 - dense_8_mse: 0.3822 - val_loss: 0.7258 - val_dense_7_loss: 0.3340 - val_dense_8_loss: 0.3918 - val_dense_7_mse: 0.3340 - val_dense_8_mse: 0.3918\n",
      "Epoch 20/20\n",
      "363/363 [==============================] - 0s 1ms/step - loss: 0.6967 - dense_7_loss: 0.3217 - dense_8_loss: 0.3751 - dense_7_mse: 0.3217 - dense_8_mse: 0.3751 - val_loss: 0.7198 - val_dense_7_loss: 0.3302 - val_dense_8_loss: 0.3896 - val_dense_7_mse: 0.3302 - val_dense_8_mse: 0.3896\n"
     ]
    }
   ],
   "source": [
    "# 对输入数据做修改\n",
    "# a[:, 5:] 为什么不是a[5:]呢 \n",
    "x_train_scaled_wide = x_train_scaled[:, :5]\n",
    "x_train_scaled_deep = x_train_scaled[:, 2:]\n",
    "x_valid_scaled_wide = x_valid_scaled[:, :5]\n",
    "x_valid_scaled_deep = x_valid_scaled[:, 2:]\n",
    "x_test_scaled_wide = x_test_scaled[:, :5]\n",
    "x_test_scaled_deep = x_test_scaled[:, 2:]\n",
    "history = model.fit([x_train_scaled_wide, x_train_scaled_deep], [y_train, y_train],\n",
    "                    validation_data=([x_valid_scaled_wide, x_valid_scaled_deep], [y_valid, y_valid]),\n",
    "         epochs=20)"
   ]
  },
  {
   "cell_type": "code",
   "execution_count": 44,
   "id": "813080b1",
   "metadata": {
    "ExecuteTime": {
     "end_time": "2022-05-26T03:41:18.936386Z",
     "start_time": "2022-05-26T03:41:18.758696Z"
    }
   },
   "outputs": [
    {
     "data": {
      "image/png": "[encoded data removed]",
      "text/plain": [
       "<Figure size 576x360 with 1 Axes>"
      ]
     },
     "metadata": {
      "needs_background": "light"
     },
     "output_type": "display_data"
    }
   ],
   "source": [
    "# 定义画图的函数\n",
    "def plot_learning_curves(history):\n",
    "    pd.DataFrame(history.history).plot(figsize=(8, 5))\n",
    "    plt.grid(True)\n",
    "    plt.gca().set_ylim(0, 1)\n",
    "    plt.show()\n",
    "plot_learning_curves(history)"
   ]
  },
  {
   "cell_type": "code",
   "execution_count": 45,
   "id": "e2ecd216",
   "metadata": {
    "ExecuteTime": {
     "end_time": "2022-05-26T03:42:26.302705Z",
     "start_time": "2022-05-26T03:42:26.102878Z"
    }
   },
   "outputs": [
    {
     "name": "stdout",
     "output_type": "stream",
     "text": [
      "162/162 [==============================] - 0s 895us/step - loss: 0.7091 - dense_7_loss: 0.3304 - dense_8_loss: 0.3786 - dense_7_mse: 0.3304 - dense_8_mse: 0.3786\n"
     ]
    },
    {
     "data": {
      "text/plain": [
       "[0.7090818881988525,\n",
       " 0.33043476939201355,\n",
       " 0.3786468803882599,\n",
       " 0.33043476939201355,\n",
       " 0.3786468803882599]"
      ]
     },
     "execution_count": 45,
     "metadata": {},
     "output_type": "execute_result"
    }
   ],
   "source": [
    "model.evaluate([x_test_scaled_wide, x_test_scaled_deep], [y_test, y_test])"
   ]
  },
  {
   "cell_type": "code",
   "execution_count": 46,
   "id": "3f71ee68",
   "metadata": {
    "ExecuteTime": {
     "end_time": "2022-05-26T03:43:53.375136Z",
     "start_time": "2022-05-26T03:43:53.077583Z"
    }
   },
   "outputs": [
    {
     "name": "stdout",
     "output_type": "stream",
     "text": [
      "162/162 [==============================] - 0s 743us/step\n"
     ]
    },
    {
     "data": {
      "text/plain": [
       "[array([[2.0318017],\n",
       "        [2.8073246],\n",
       "        [2.8324325],\n",
       "        ...,\n",
       "        [1.7291294],\n",
       "        [1.420109 ],\n",
       "        [2.6994917]], dtype=float32),\n",
       " array([[1.9707758],\n",
       "        [2.828139 ],\n",
       "        [3.0049288],\n",
       "        ...,\n",
       "        [1.7571527],\n",
       "        [1.3149208],\n",
       "        [2.541722 ]], dtype=float32)]"
      ]
     },
     "execution_count": 46,
     "metadata": {},
     "output_type": "execute_result"
    }
   ],
   "source": [
    "model.predict([x_test_scaled_wide, x_test_scaled_deep])"
   ]
  },
  {
   "cell_type": "markdown",
   "id": "a5849e75",
   "metadata": {},
   "source": [
    "# 子类api实现wide&deep模型"
   ]
  },
  {
   "cell_type": "code",
   "execution_count": 47,
   "id": "118fc278",
   "metadata": {
    "ExecuteTime": {
     "end_time": "2022-05-26T03:48:54.880951Z",
     "start_time": "2022-05-26T03:48:54.860353Z"
    }
   },
   "outputs": [],
   "source": [
    "# 子类api\n",
    "class WideDeepModel(keras.models.Model):\n",
    "    def __init__(self):\n",
    "        \"\"\"定义模型的层次\"\"\"\n",
    "        super().__init__()\n",
    "        self.hidden1 = keras.layers.Dense(30, activation='relu')\n",
    "        self.hidden2 = keras.layers.Dense(30, activation='relu')\n",
    "        self.output_layer = keras.layers.Dense(1)\n",
    "         \n",
    "    def call(self, input):\n",
    "        \"\"\"完成模型的正向传播\"\"\"\n",
    "        hidden1 = self.hidden1(input)\n",
    "        hidden2 = self.hidden2(hidden1)\n",
    "        # 拼接\n",
    "        concat = keras.layers.concatenate([input, hidden2])\n",
    "        output = self.output_layer(concat)\n",
    "        return output"
   ]
  },
  {
   "cell_type": "code",
   "execution_count": 48,
   "id": "67bef537",
   "metadata": {
    "ExecuteTime": {
     "end_time": "2022-05-26T03:49:16.614556Z",
     "start_time": "2022-05-26T03:49:16.606572Z"
    }
   },
   "outputs": [],
   "source": [
    "model = WideDeepModel()"
   ]
  },
  {
   "cell_type": "code",
   "execution_count": 50,
   "id": "c4bc27df",
   "metadata": {
    "ExecuteTime": {
     "end_time": "2022-05-26T03:51:33.512046Z",
     "start_time": "2022-05-26T03:51:33.480512Z"
    }
   },
   "outputs": [],
   "source": [
    "model.build(input_shape=(None, 8))"
   ]
  },
  {
   "cell_type": "code",
   "execution_count": 51,
   "id": "2b9e5539",
   "metadata": {
    "ExecuteTime": {
     "end_time": "2022-05-26T03:51:36.131268Z",
     "start_time": "2022-05-26T03:51:36.118302Z"
    }
   },
   "outputs": [
    {
     "name": "stdout",
     "output_type": "stream",
     "text": [
      "Model: \"wide_deep_model\"\n",
      "_________________________________________________________________\n",
      " Layer (type)                Output Shape              Param #   \n",
      "=================================================================\n",
      " dense_9 (Dense)             multiple                  270       \n",
      "                                                                 \n",
      " dense_10 (Dense)            multiple                  930       \n",
      "                                                                 \n",
      " dense_11 (Dense)            multiple                  39        \n",
      "                                                                 \n",
      "=================================================================\n",
      "Total params: 1,239\n",
      "Trainable params: 1,239\n",
      "Non-trainable params: 0\n",
      "_________________________________________________________________\n"
     ]
    }
   ],
   "source": [
    "model.summary()"
   ]
  },
  {
   "cell_type": "code",
   "execution_count": 52,
   "id": "2e7ce06b",
   "metadata": {
    "ExecuteTime": {
     "end_time": "2022-05-26T03:51:54.373696Z",
     "start_time": "2022-05-26T03:51:46.707666Z"
    }
   },
   "outputs": [
    {
     "name": "stdout",
     "output_type": "stream",
     "text": [
      "Epoch 1/20\n",
      "363/363 [==============================] - 1s 1ms/step - loss: 1.5452 - mse: 1.5452 - val_loss: 0.5680 - val_mse: 0.5680\n",
      "Epoch 2/20\n",
      "363/363 [==============================] - 0s 956us/step - loss: 0.4618 - mse: 0.4618 - val_loss: 0.4137 - val_mse: 0.4137\n",
      "Epoch 3/20\n",
      "363/363 [==============================] - 0s 964us/step - loss: 0.3958 - mse: 0.3958 - val_loss: 0.3991 - val_mse: 0.3991\n",
      "Epoch 4/20\n",
      "363/363 [==============================] - 0s 938us/step - loss: 0.3736 - mse: 0.3736 - val_loss: 0.3793 - val_mse: 0.3793\n",
      "Epoch 5/20\n",
      "363/363 [==============================] - 0s 939us/step - loss: 0.3647 - mse: 0.3647 - val_loss: 0.3628 - val_mse: 0.3628\n",
      "Epoch 6/20\n",
      "363/363 [==============================] - 0s 945us/step - loss: 0.3604 - mse: 0.3604 - val_loss: 0.3686 - val_mse: 0.3686\n",
      "Epoch 7/20\n",
      "363/363 [==============================] - 0s 1ms/step - loss: 0.3696 - mse: 0.3696 - val_loss: 0.3576 - val_mse: 0.3576\n",
      "Epoch 8/20\n",
      "363/363 [==============================] - 0s 1ms/step - loss: 0.3432 - mse: 0.3432 - val_loss: 0.3496 - val_mse: 0.3496\n",
      "Epoch 9/20\n",
      "363/363 [==============================] - 0s 937us/step - loss: 0.3365 - mse: 0.3365 - val_loss: 0.3404 - val_mse: 0.3404\n",
      "Epoch 10/20\n",
      "363/363 [==============================] - 0s 957us/step - loss: 0.3418 - mse: 0.3418 - val_loss: 0.3607 - val_mse: 0.3607\n",
      "Epoch 11/20\n",
      "363/363 [==============================] - 0s 943us/step - loss: 0.3313 - mse: 0.3313 - val_loss: 0.3449 - val_mse: 0.3449\n",
      "Epoch 12/20\n",
      "363/363 [==============================] - 0s 937us/step - loss: 0.3255 - mse: 0.3255 - val_loss: 0.3529 - val_mse: 0.3529\n",
      "Epoch 13/20\n",
      "363/363 [==============================] - 0s 955us/step - loss: 0.3345 - mse: 0.3345 - val_loss: 0.3246 - val_mse: 0.3246\n",
      "Epoch 14/20\n",
      "363/363 [==============================] - 0s 948us/step - loss: 0.3192 - mse: 0.3192 - val_loss: 0.3260 - val_mse: 0.3260\n",
      "Epoch 15/20\n",
      "363/363 [==============================] - 0s 1ms/step - loss: 0.3192 - mse: 0.3192 - val_loss: 0.3186 - val_mse: 0.3186\n",
      "Epoch 16/20\n",
      "363/363 [==============================] - 0s 932us/step - loss: 0.3090 - mse: 0.3090 - val_loss: 0.3212 - val_mse: 0.3212\n",
      "Epoch 17/20\n",
      "363/363 [==============================] - 0s 954us/step - loss: 0.3081 - mse: 0.3081 - val_loss: 0.3127 - val_mse: 0.3127\n",
      "Epoch 18/20\n",
      "363/363 [==============================] - 0s 972us/step - loss: 0.3055 - mse: 0.3055 - val_loss: 0.3132 - val_mse: 0.3132\n",
      "Epoch 19/20\n",
      "363/363 [==============================] - 0s 953us/step - loss: 0.3121 - mse: 0.3121 - val_loss: 0.3210 - val_mse: 0.3210\n",
      "Epoch 20/20\n",
      "363/363 [==============================] - 0s 1ms/step - loss: 0.3007 - mse: 0.3007 - val_loss: 0.3167 - val_mse: 0.3167\n"
     ]
    },
    {
     "data": {
      "image/png": "[encoded data removed]",
      "text/plain": [
       "<Figure size 576x360 with 1 Axes>"
      ]
     },
     "metadata": {
      "needs_background": "light"
     },
     "output_type": "display_data"
    }
   ],
   "source": [
    "# 配置\n",
    "model.compile(loss='mse', optimizer='adam', metrics=['mse'])\n",
    "history = model.fit(x_train_scaled, y_train, validation_data=(x_valid_scaled, y_valid),\n",
    "         epochs=20)\n",
    "# 定义画图的函数\n",
    "def plot_learning_curves(history):\n",
    "    pd.DataFrame(history.history).plot(figsize=(8, 5))\n",
    "    plt.grid(True)\n",
    "    plt.gca().set_ylim(0, 1)\n",
    "    plt.show()\n",
    "plot_learning_curves(history)"
   ]
  },
  {
   "cell_type": "markdown",
   "id": "696ac8bc",
   "metadata": {},
   "source": [
    "# 手动实现超参数搜索"
   ]
  },
  {
   "cell_type": "code",
   "execution_count": 53,
   "id": "afa237f5",
   "metadata": {
    "ExecuteTime": {
     "end_time": "2022-05-26T03:56:34.626246Z",
     "start_time": "2022-05-26T03:55:02.521087Z"
    }
   },
   "outputs": [
    {
     "name": "stdout",
     "output_type": "stream",
     "text": [
      "Epoch 1/100\n",
      "363/363 [==============================] - 1s 1ms/step - loss: 3.0153 - mse: 3.0153 - val_loss: 2.5369 - val_mse: 2.5369\n",
      "Epoch 2/100\n",
      "363/363 [==============================] - 0s 990us/step - loss: 2.2109 - mse: 2.2109 - val_loss: 1.9069 - val_mse: 1.9069\n",
      "Epoch 3/100\n",
      "363/363 [==============================] - 0s 953us/step - loss: 1.7248 - mse: 1.7248 - val_loss: 1.5265 - val_mse: 1.5265\n",
      "Epoch 4/100\n",
      "363/363 [==============================] - 0s 945us/step - loss: 1.4152 - mse: 1.4152 - val_loss: 1.2882 - val_mse: 1.2882\n",
      "Epoch 5/100\n",
      "363/363 [==============================] - 0s 968us/step - loss: 1.2129 - mse: 1.2129 - val_loss: 1.1345 - val_mse: 1.1345\n",
      "Epoch 6/100\n",
      "363/363 [==============================] - 0s 984us/step - loss: 1.0793 - mse: 1.0793 - val_loss: 1.0371 - val_mse: 1.0371\n",
      "Epoch 7/100\n",
      "363/363 [==============================] - 0s 961us/step - loss: 0.9901 - mse: 0.9901 - val_loss: 0.9747 - val_mse: 0.9747\n",
      "Epoch 8/100\n",
      "363/363 [==============================] - 0s 1ms/step - loss: 0.9293 - mse: 0.9293 - val_loss: 0.9336 - val_mse: 0.9336\n",
      "Epoch 9/100\n",
      "363/363 [==============================] - 0s 984us/step - loss: 0.8871 - mse: 0.8871 - val_loss: 0.9062 - val_mse: 0.9062\n",
      "Epoch 10/100\n",
      "363/363 [==============================] - 0s 945us/step - loss: 0.8574 - mse: 0.8574 - val_loss: 0.8874 - val_mse: 0.8874\n",
      "Epoch 11/100\n",
      "363/363 [==============================] - 0s 1ms/step - loss: 0.8361 - mse: 0.8361 - val_loss: 0.8741 - val_mse: 0.8741\n",
      "Epoch 12/100\n",
      "363/363 [==============================] - 0s 922us/step - loss: 0.8201 - mse: 0.8201 - val_loss: 0.8642 - val_mse: 0.8642\n",
      "Epoch 13/100\n",
      "363/363 [==============================] - 0s 945us/step - loss: 0.8078 - mse: 0.8078 - val_loss: 0.8564 - val_mse: 0.8564\n",
      "Epoch 14/100\n",
      "363/363 [==============================] - 0s 929us/step - loss: 0.7978 - mse: 0.7978 - val_loss: 0.8499 - val_mse: 0.8499\n",
      "Epoch 15/100\n",
      "363/363 [==============================] - 0s 890us/step - loss: 0.7896 - mse: 0.7896 - val_loss: 0.8442 - val_mse: 0.8442\n",
      "Epoch 16/100\n",
      "363/363 [==============================] - 0s 945us/step - loss: 0.7826 - mse: 0.7826 - val_loss: 0.8390 - val_mse: 0.8390\n",
      "Epoch 17/100\n",
      "363/363 [==============================] - 0s 995us/step - loss: 0.7764 - mse: 0.7764 - val_loss: 0.8342 - val_mse: 0.8342\n",
      "Epoch 18/100\n",
      "363/363 [==============================] - 0s 865us/step - loss: 0.7708 - mse: 0.7708 - val_loss: 0.8296 - val_mse: 0.8296\n",
      "Epoch 19/100\n",
      "363/363 [==============================] - 0s 863us/step - loss: 0.7656 - mse: 0.7656 - val_loss: 0.8252 - val_mse: 0.8252\n",
      "Epoch 20/100\n",
      "363/363 [==============================] - 0s 918us/step - loss: 0.7606 - mse: 0.7606 - val_loss: 0.8208 - val_mse: 0.8208\n",
      "Epoch 21/100\n",
      "363/363 [==============================] - 0s 932us/step - loss: 0.7560 - mse: 0.7560 - val_loss: 0.8166 - val_mse: 0.8166\n",
      "Epoch 22/100\n",
      "363/363 [==============================] - 0s 946us/step - loss: 0.7515 - mse: 0.7515 - val_loss: 0.8124 - val_mse: 0.8124\n",
      "Epoch 23/100\n",
      "363/363 [==============================] - 0s 890us/step - loss: 0.7471 - mse: 0.7471 - val_loss: 0.8082 - val_mse: 0.8082\n",
      "Epoch 24/100\n",
      "363/363 [==============================] - 0s 877us/step - loss: 0.7429 - mse: 0.7429 - val_loss: 0.8041 - val_mse: 0.8041\n",
      "Epoch 25/100\n",
      "363/363 [==============================] - 0s 867us/step - loss: 0.7388 - mse: 0.7388 - val_loss: 0.8001 - val_mse: 0.8001\n",
      "Epoch 26/100\n",
      "363/363 [==============================] - 0s 856us/step - loss: 0.7348 - mse: 0.7348 - val_loss: 0.7961 - val_mse: 0.7961\n",
      "Epoch 27/100\n",
      "363/363 [==============================] - 0s 853us/step - loss: 0.7309 - mse: 0.7309 - val_loss: 0.7922 - val_mse: 0.7922\n",
      "Epoch 28/100\n",
      "363/363 [==============================] - 0s 836us/step - loss: 0.7270 - mse: 0.7270 - val_loss: 0.7883 - val_mse: 0.7883\n",
      "Epoch 29/100\n",
      "363/363 [==============================] - 0s 901us/step - loss: 0.7232 - mse: 0.7232 - val_loss: 0.7844 - val_mse: 0.7844\n",
      "Epoch 30/100\n",
      "363/363 [==============================] - 0s 924us/step - loss: 0.7195 - mse: 0.7195 - val_loss: 0.7805 - val_mse: 0.7805\n",
      "Epoch 31/100\n",
      "363/363 [==============================] - 0s 859us/step - loss: 0.7158 - mse: 0.7158 - val_loss: 0.7768 - val_mse: 0.7768\n",
      "Epoch 32/100\n",
      "363/363 [==============================] - 0s 944us/step - loss: 0.7122 - mse: 0.7122 - val_loss: 0.7730 - val_mse: 0.7730\n",
      "Epoch 33/100\n",
      "363/363 [==============================] - 0s 914us/step - loss: 0.7086 - mse: 0.7086 - val_loss: 0.7692 - val_mse: 0.7692\n",
      "Epoch 34/100\n",
      "363/363 [==============================] - 0s 878us/step - loss: 0.7051 - mse: 0.7051 - val_loss: 0.7655 - val_mse: 0.7655\n",
      "Epoch 35/100\n",
      "363/363 [==============================] - 0s 874us/step - loss: 0.7016 - mse: 0.7016 - val_loss: 0.7619 - val_mse: 0.7619\n",
      "Epoch 36/100\n",
      "363/363 [==============================] - 0s 889us/step - loss: 0.6982 - mse: 0.6982 - val_loss: 0.7583 - val_mse: 0.7583\n",
      "Epoch 37/100\n",
      "363/363 [==============================] - 0s 978us/step - loss: 0.6948 - mse: 0.6948 - val_loss: 0.7547 - val_mse: 0.7547\n",
      "Epoch 38/100\n",
      "363/363 [==============================] - 0s 894us/step - loss: 0.6914 - mse: 0.6914 - val_loss: 0.7512 - val_mse: 0.7512\n",
      "Epoch 39/100\n",
      "363/363 [==============================] - 0s 910us/step - loss: 0.6881 - mse: 0.6881 - val_loss: 0.7478 - val_mse: 0.7478\n",
      "Epoch 40/100\n",
      "363/363 [==============================] - 0s 1ms/step - loss: 0.6848 - mse: 0.6848 - val_loss: 0.7443 - val_mse: 0.7443\n",
      "Epoch 41/100\n",
      "363/363 [==============================] - 0s 905us/step - loss: 0.6816 - mse: 0.6816 - val_loss: 0.7409 - val_mse: 0.7409\n",
      "Epoch 42/100\n",
      "363/363 [==============================] - 0s 926us/step - loss: 0.6784 - mse: 0.6784 - val_loss: 0.7375 - val_mse: 0.7375\n",
      "Epoch 43/100\n",
      "363/363 [==============================] - 0s 922us/step - loss: 0.6752 - mse: 0.6752 - val_loss: 0.7341 - val_mse: 0.7341\n",
      "Epoch 44/100\n",
      "363/363 [==============================] - 0s 1ms/step - loss: 0.6721 - mse: 0.6721 - val_loss: 0.7308 - val_mse: 0.7308\n",
      "Epoch 45/100\n",
      "363/363 [==============================] - 0s 1ms/step - loss: 0.6690 - mse: 0.6690 - val_loss: 0.7275 - val_mse: 0.7275\n",
      "Epoch 46/100\n",
      "363/363 [==============================] - 0s 1ms/step - loss: 0.6660 - mse: 0.6660 - val_loss: 0.7242 - val_mse: 0.7242\n",
      "Epoch 47/100\n",
      "363/363 [==============================] - 0s 961us/step - loss: 0.6629 - mse: 0.6629 - val_loss: 0.7210 - val_mse: 0.7210\n",
      "Epoch 48/100\n",
      "363/363 [==============================] - 0s 1ms/step - loss: 0.6599 - mse: 0.6599 - val_loss: 0.7178 - val_mse: 0.7178\n",
      "Epoch 49/100\n",
      "363/363 [==============================] - 0s 961us/step - loss: 0.6570 - mse: 0.6570 - val_loss: 0.7146 - val_mse: 0.7146\n",
      "Epoch 50/100\n",
      "363/363 [==============================] - 0s 979us/step - loss: 0.6540 - mse: 0.6540 - val_loss: 0.7114 - val_mse: 0.7114\n",
      "Epoch 51/100\n",
      "363/363 [==============================] - 0s 977us/step - loss: 0.6511 - mse: 0.6511 - val_loss: 0.7084 - val_mse: 0.7084\n",
      "Epoch 52/100\n",
      "363/363 [==============================] - 0s 1ms/step - loss: 0.6483 - mse: 0.6483 - val_loss: 0.7053 - val_mse: 0.7053\n",
      "Epoch 53/100\n",
      "363/363 [==============================] - 0s 1ms/step - loss: 0.6454 - mse: 0.6454 - val_loss: 0.7022 - val_mse: 0.7022\n",
      "Epoch 54/100\n",
      "363/363 [==============================] - 0s 1ms/step - loss: 0.6426 - mse: 0.6426 - val_loss: 0.6992 - val_mse: 0.6992\n",
      "Epoch 55/100\n",
      "363/363 [==============================] - 0s 985us/step - loss: 0.6398 - mse: 0.6398 - val_loss: 0.6961 - val_mse: 0.6961\n",
      "Epoch 56/100\n",
      "363/363 [==============================] - 0s 979us/step - loss: 0.6370 - mse: 0.6370 - val_loss: 0.6932 - val_mse: 0.6932\n",
      "Epoch 57/100\n",
      "363/363 [==============================] - 0s 1ms/step - loss: 0.6343 - mse: 0.6343 - val_loss: 0.6902 - val_mse: 0.6902\n",
      "Epoch 58/100\n",
      "363/363 [==============================] - 0s 1ms/step - loss: 0.6316 - mse: 0.6316 - val_loss: 0.6873 - val_mse: 0.6873\n",
      "Epoch 59/100\n",
      "363/363 [==============================] - 0s 1ms/step - loss: 0.6289 - mse: 0.6289 - val_loss: 0.6844 - val_mse: 0.6844\n",
      "Epoch 60/100\n",
      "363/363 [==============================] - 0s 943us/step - loss: 0.6262 - mse: 0.6262 - val_loss: 0.6815 - val_mse: 0.6815\n",
      "Epoch 61/100\n"
     ]
    },
    {
     "name": "stdout",
     "output_type": "stream",
     "text": [
      "363/363 [==============================] - 0s 922us/step - loss: 0.6236 - mse: 0.6236 - val_loss: 0.6786 - val_mse: 0.6786\n",
      "Epoch 62/100\n",
      "363/363 [==============================] - 0s 982us/step - loss: 0.6210 - mse: 0.6210 - val_loss: 0.6758 - val_mse: 0.6758\n",
      "Epoch 63/100\n",
      "363/363 [==============================] - 0s 949us/step - loss: 0.6184 - mse: 0.6184 - val_loss: 0.6730 - val_mse: 0.6730\n",
      "Epoch 64/100\n",
      "363/363 [==============================] - 0s 930us/step - loss: 0.6159 - mse: 0.6159 - val_loss: 0.6702 - val_mse: 0.6702\n",
      "Epoch 65/100\n",
      "363/363 [==============================] - 0s 1ms/step - loss: 0.6134 - mse: 0.6134 - val_loss: 0.6675 - val_mse: 0.6675\n",
      "Epoch 66/100\n",
      "363/363 [==============================] - 0s 924us/step - loss: 0.6109 - mse: 0.6109 - val_loss: 0.6648 - val_mse: 0.6648\n",
      "Epoch 67/100\n",
      "363/363 [==============================] - 0s 1ms/step - loss: 0.6084 - mse: 0.6084 - val_loss: 0.6621 - val_mse: 0.6621\n",
      "Epoch 68/100\n",
      "363/363 [==============================] - 0s 1ms/step - loss: 0.6060 - mse: 0.6060 - val_loss: 0.6595 - val_mse: 0.6595\n",
      "Epoch 69/100\n",
      "363/363 [==============================] - 0s 1ms/step - loss: 0.6035 - mse: 0.6035 - val_loss: 0.6569 - val_mse: 0.6569\n",
      "Epoch 70/100\n",
      "363/363 [==============================] - 0s 957us/step - loss: 0.6011 - mse: 0.6011 - val_loss: 0.6543 - val_mse: 0.6543\n",
      "Epoch 71/100\n",
      "363/363 [==============================] - 0s 951us/step - loss: 0.5988 - mse: 0.5988 - val_loss: 0.6517 - val_mse: 0.6517\n",
      "Epoch 72/100\n",
      "363/363 [==============================] - 0s 923us/step - loss: 0.5964 - mse: 0.5964 - val_loss: 0.6491 - val_mse: 0.6491\n",
      "Epoch 73/100\n",
      "363/363 [==============================] - 0s 953us/step - loss: 0.5941 - mse: 0.5941 - val_loss: 0.6466 - val_mse: 0.6466\n",
      "Epoch 74/100\n",
      "363/363 [==============================] - 0s 944us/step - loss: 0.5917 - mse: 0.5917 - val_loss: 0.6441 - val_mse: 0.6441\n",
      "Epoch 75/100\n",
      "363/363 [==============================] - 0s 932us/step - loss: 0.5894 - mse: 0.5894 - val_loss: 0.6416 - val_mse: 0.6416\n",
      "Epoch 76/100\n",
      "363/363 [==============================] - 0s 937us/step - loss: 0.5872 - mse: 0.5872 - val_loss: 0.6391 - val_mse: 0.6391\n",
      "Epoch 77/100\n",
      "363/363 [==============================] - 0s 1ms/step - loss: 0.5849 - mse: 0.5849 - val_loss: 0.6367 - val_mse: 0.6367\n",
      "Epoch 78/100\n",
      "363/363 [==============================] - 1s 1ms/step - loss: 0.5827 - mse: 0.5827 - val_loss: 0.6343 - val_mse: 0.6343\n",
      "Epoch 79/100\n",
      "363/363 [==============================] - 0s 921us/step - loss: 0.5805 - mse: 0.5805 - val_loss: 0.6319 - val_mse: 0.6319\n",
      "Epoch 80/100\n",
      "363/363 [==============================] - 0s 908us/step - loss: 0.5783 - mse: 0.5783 - val_loss: 0.6295 - val_mse: 0.6295\n",
      "Epoch 81/100\n",
      "363/363 [==============================] - 0s 911us/step - loss: 0.5762 - mse: 0.5762 - val_loss: 0.6272 - val_mse: 0.6272\n",
      "Epoch 82/100\n",
      "363/363 [==============================] - 0s 897us/step - loss: 0.5741 - mse: 0.5741 - val_loss: 0.6249 - val_mse: 0.6249\n",
      "Epoch 83/100\n",
      "363/363 [==============================] - 0s 902us/step - loss: 0.5720 - mse: 0.5720 - val_loss: 0.6226 - val_mse: 0.6226\n",
      "Epoch 84/100\n",
      "363/363 [==============================] - 0s 1ms/step - loss: 0.5699 - mse: 0.5699 - val_loss: 0.6203 - val_mse: 0.6203\n",
      "Epoch 85/100\n",
      "363/363 [==============================] - 0s 936us/step - loss: 0.5678 - mse: 0.5678 - val_loss: 0.6180 - val_mse: 0.6180\n",
      "Epoch 86/100\n",
      "363/363 [==============================] - 0s 916us/step - loss: 0.5658 - mse: 0.5658 - val_loss: 0.6158 - val_mse: 0.6158\n",
      "Epoch 87/100\n",
      "363/363 [==============================] - 0s 1000us/step - loss: 0.5638 - mse: 0.5638 - val_loss: 0.6137 - val_mse: 0.6137\n",
      "Epoch 88/100\n",
      "363/363 [==============================] - 0s 1ms/step - loss: 0.5618 - mse: 0.5618 - val_loss: 0.6115 - val_mse: 0.6115\n",
      "Epoch 89/100\n",
      "363/363 [==============================] - 0s 1ms/step - loss: 0.5598 - mse: 0.5598 - val_loss: 0.6094 - val_mse: 0.6094\n",
      "Epoch 90/100\n",
      "363/363 [==============================] - 0s 938us/step - loss: 0.5579 - mse: 0.5579 - val_loss: 0.6073 - val_mse: 0.6073\n",
      "Epoch 91/100\n",
      "363/363 [==============================] - 0s 899us/step - loss: 0.5560 - mse: 0.5560 - val_loss: 0.6051 - val_mse: 0.6051\n",
      "Epoch 92/100\n",
      "363/363 [==============================] - 0s 948us/step - loss: 0.5542 - mse: 0.5542 - val_loss: 0.6030 - val_mse: 0.6030\n",
      "Epoch 93/100\n",
      "363/363 [==============================] - 0s 936us/step - loss: 0.5523 - mse: 0.5523 - val_loss: 0.6009 - val_mse: 0.6009\n",
      "Epoch 94/100\n",
      "363/363 [==============================] - 0s 925us/step - loss: 0.5505 - mse: 0.5505 - val_loss: 0.5989 - val_mse: 0.5989\n",
      "Epoch 95/100\n",
      "363/363 [==============================] - 0s 907us/step - loss: 0.5487 - mse: 0.5487 - val_loss: 0.5969 - val_mse: 0.5969\n",
      "Epoch 96/100\n",
      "363/363 [==============================] - 0s 1ms/step - loss: 0.5469 - mse: 0.5469 - val_loss: 0.5950 - val_mse: 0.5950\n",
      "Epoch 97/100\n",
      "363/363 [==============================] - 0s 985us/step - loss: 0.5452 - mse: 0.5452 - val_loss: 0.5930 - val_mse: 0.5930\n",
      "Epoch 98/100\n",
      "363/363 [==============================] - 0s 1ms/step - loss: 0.5435 - mse: 0.5435 - val_loss: 0.5911 - val_mse: 0.5911\n",
      "Epoch 99/100\n",
      "363/363 [==============================] - 0s 1ms/step - loss: 0.5418 - mse: 0.5418 - val_loss: 0.5892 - val_mse: 0.5892\n",
      "Epoch 1/100\n",
      "363/363 [==============================] - 1s 1ms/step - loss: 3.6009 - mse: 3.6009 - val_loss: 2.5830 - val_mse: 2.5830\n",
      "Epoch 2/100\n",
      "363/363 [==============================] - 0s 961us/step - loss: 1.8277 - mse: 1.8277 - val_loss: 1.6179 - val_mse: 1.6179\n",
      "Epoch 3/100\n",
      "363/363 [==============================] - 0s 996us/step - loss: 1.2210 - mse: 1.2210 - val_loss: 1.2011 - val_mse: 1.2011\n",
      "Epoch 4/100\n",
      "363/363 [==============================] - 0s 931us/step - loss: 0.9536 - mse: 0.9536 - val_loss: 0.9873 - val_mse: 0.9873\n",
      "Epoch 5/100\n",
      "363/363 [==============================] - 0s 920us/step - loss: 0.8224 - mse: 0.8224 - val_loss: 0.8769 - val_mse: 0.8769\n",
      "Epoch 6/100\n",
      "363/363 [==============================] - 0s 959us/step - loss: 0.7566 - mse: 0.7566 - val_loss: 0.8187 - val_mse: 0.8187\n",
      "Epoch 7/100\n",
      "363/363 [==============================] - 0s 954us/step - loss: 0.7213 - mse: 0.7213 - val_loss: 0.7856 - val_mse: 0.7856\n",
      "Epoch 8/100\n",
      "363/363 [==============================] - 0s 935us/step - loss: 0.7004 - mse: 0.7004 - val_loss: 0.7635 - val_mse: 0.7635\n",
      "Epoch 9/100\n",
      "363/363 [==============================] - 0s 910us/step - loss: 0.6863 - mse: 0.6863 - val_loss: 0.7485 - val_mse: 0.7485\n",
      "Epoch 10/100\n",
      "363/363 [==============================] - 0s 926us/step - loss: 0.6753 - mse: 0.6753 - val_loss: 0.7360 - val_mse: 0.7360\n",
      "Epoch 11/100\n",
      "363/363 [==============================] - 0s 923us/step - loss: 0.6661 - mse: 0.6661 - val_loss: 0.7257 - val_mse: 0.7257\n",
      "Epoch 12/100\n",
      "363/363 [==============================] - 0s 970us/step - loss: 0.6576 - mse: 0.6576 - val_loss: 0.7164 - val_mse: 0.7164\n",
      "Epoch 13/100\n",
      "363/363 [==============================] - 0s 942us/step - loss: 0.6498 - mse: 0.6498 - val_loss: 0.7077 - val_mse: 0.7077\n",
      "Epoch 14/100\n",
      "363/363 [==============================] - 0s 1ms/step - loss: 0.6424 - mse: 0.6424 - val_loss: 0.6990 - val_mse: 0.6990\n",
      "Epoch 15/100\n",
      "363/363 [==============================] - 0s 1ms/step - loss: 0.6353 - mse: 0.6353 - val_loss: 0.6909 - val_mse: 0.6909\n",
      "Epoch 16/100\n",
      "363/363 [==============================] - 0s 937us/step - loss: 0.6285 - mse: 0.6285 - val_loss: 0.6836 - val_mse: 0.6836\n",
      "Epoch 17/100\n",
      "363/363 [==============================] - 0s 978us/step - loss: 0.6220 - mse: 0.6220 - val_loss: 0.6763 - val_mse: 0.6763\n",
      "Epoch 18/100\n",
      "363/363 [==============================] - 0s 936us/step - loss: 0.6157 - mse: 0.6157 - val_loss: 0.6691 - val_mse: 0.6691\n",
      "Epoch 19/100\n",
      "363/363 [==============================] - 0s 950us/step - loss: 0.6096 - mse: 0.6096 - val_loss: 0.6626 - val_mse: 0.6626\n",
      "Epoch 20/100\n",
      "363/363 [==============================] - 0s 994us/step - loss: 0.6037 - mse: 0.6037 - val_loss: 0.6562 - val_mse: 0.6562\n",
      "Epoch 21/100\n",
      "363/363 [==============================] - 0s 920us/step - loss: 0.5981 - mse: 0.5981 - val_loss: 0.6503 - val_mse: 0.6503\n",
      "Epoch 22/100\n"
     ]
    },
    {
     "name": "stdout",
     "output_type": "stream",
     "text": [
      "363/363 [==============================] - 0s 853us/step - loss: 0.5926 - mse: 0.5926 - val_loss: 0.6438 - val_mse: 0.6438\n",
      "Epoch 23/100\n",
      "363/363 [==============================] - 0s 917us/step - loss: 0.5873 - mse: 0.5873 - val_loss: 0.6379 - val_mse: 0.6379\n",
      "Epoch 24/100\n",
      "363/363 [==============================] - 0s 920us/step - loss: 0.5822 - mse: 0.5822 - val_loss: 0.6323 - val_mse: 0.6323\n",
      "Epoch 25/100\n",
      "363/363 [==============================] - 0s 913us/step - loss: 0.5773 - mse: 0.5773 - val_loss: 0.6269 - val_mse: 0.6269\n",
      "Epoch 26/100\n",
      "363/363 [==============================] - 0s 931us/step - loss: 0.5725 - mse: 0.5725 - val_loss: 0.6215 - val_mse: 0.6215\n",
      "Epoch 27/100\n",
      "363/363 [==============================] - 0s 917us/step - loss: 0.5679 - mse: 0.5679 - val_loss: 0.6166 - val_mse: 0.6166\n",
      "Epoch 28/100\n",
      "363/363 [==============================] - 0s 893us/step - loss: 0.5634 - mse: 0.5634 - val_loss: 0.6114 - val_mse: 0.6114\n",
      "Epoch 29/100\n",
      "363/363 [==============================] - 0s 901us/step - loss: 0.5591 - mse: 0.5591 - val_loss: 0.6070 - val_mse: 0.6070\n",
      "Epoch 30/100\n",
      "363/363 [==============================] - 0s 920us/step - loss: 0.5550 - mse: 0.5550 - val_loss: 0.6025 - val_mse: 0.6025\n",
      "Epoch 31/100\n",
      "363/363 [==============================] - 0s 918us/step - loss: 0.5510 - mse: 0.5510 - val_loss: 0.5978 - val_mse: 0.5978\n",
      "Epoch 32/100\n",
      "363/363 [==============================] - 0s 989us/step - loss: 0.5471 - mse: 0.5471 - val_loss: 0.5936 - val_mse: 0.5936\n",
      "Epoch 33/100\n",
      "363/363 [==============================] - 0s 912us/step - loss: 0.5434 - mse: 0.5434 - val_loss: 0.5892 - val_mse: 0.5892\n",
      "Epoch 34/100\n",
      "363/363 [==============================] - 0s 920us/step - loss: 0.5397 - mse: 0.5397 - val_loss: 0.5852 - val_mse: 0.5852\n",
      "Epoch 35/100\n",
      "363/363 [==============================] - 0s 928us/step - loss: 0.5362 - mse: 0.5362 - val_loss: 0.5811 - val_mse: 0.5811\n",
      "Epoch 36/100\n",
      "363/363 [==============================] - 0s 921us/step - loss: 0.5328 - mse: 0.5328 - val_loss: 0.5773 - val_mse: 0.5773\n",
      "Epoch 37/100\n",
      "363/363 [==============================] - 0s 911us/step - loss: 0.5294 - mse: 0.5294 - val_loss: 0.5735 - val_mse: 0.5735\n",
      "Epoch 38/100\n",
      "363/363 [==============================] - 0s 946us/step - loss: 0.5261 - mse: 0.5261 - val_loss: 0.5700 - val_mse: 0.5700\n",
      "Epoch 39/100\n",
      "363/363 [==============================] - 0s 934us/step - loss: 0.5230 - mse: 0.5230 - val_loss: 0.5661 - val_mse: 0.5661\n",
      "Epoch 40/100\n",
      "363/363 [==============================] - 0s 933us/step - loss: 0.5199 - mse: 0.5199 - val_loss: 0.5626 - val_mse: 0.5626\n",
      "Epoch 41/100\n",
      "363/363 [==============================] - 0s 984us/step - loss: 0.5170 - mse: 0.5170 - val_loss: 0.5591 - val_mse: 0.5591\n",
      "Epoch 42/100\n",
      "363/363 [==============================] - 0s 930us/step - loss: 0.5141 - mse: 0.5141 - val_loss: 0.5559 - val_mse: 0.5559\n",
      "Epoch 43/100\n",
      "363/363 [==============================] - 0s 910us/step - loss: 0.5114 - mse: 0.5114 - val_loss: 0.5529 - val_mse: 0.5529\n",
      "Epoch 44/100\n",
      "363/363 [==============================] - 0s 912us/step - loss: 0.5087 - mse: 0.5087 - val_loss: 0.5495 - val_mse: 0.5495\n",
      "Epoch 45/100\n",
      "363/363 [==============================] - 0s 893us/step - loss: 0.5062 - mse: 0.5062 - val_loss: 0.5466 - val_mse: 0.5466\n",
      "Epoch 46/100\n",
      "363/363 [==============================] - 0s 892us/step - loss: 0.5037 - mse: 0.5037 - val_loss: 0.5437 - val_mse: 0.5437\n",
      "Epoch 47/100\n",
      "363/363 [==============================] - 0s 931us/step - loss: 0.5013 - mse: 0.5013 - val_loss: 0.5410 - val_mse: 0.5410\n",
      "Epoch 48/100\n",
      "363/363 [==============================] - 0s 921us/step - loss: 0.4989 - mse: 0.4989 - val_loss: 0.5384 - val_mse: 0.5384\n",
      "Epoch 49/100\n",
      "363/363 [==============================] - 0s 885us/step - loss: 0.4967 - mse: 0.4967 - val_loss: 0.5359 - val_mse: 0.5359\n",
      "Epoch 50/100\n",
      "363/363 [==============================] - 0s 923us/step - loss: 0.4945 - mse: 0.4945 - val_loss: 0.5330 - val_mse: 0.5330\n",
      "Epoch 51/100\n",
      "363/363 [==============================] - 0s 928us/step - loss: 0.4924 - mse: 0.4924 - val_loss: 0.5305 - val_mse: 0.5305\n",
      "Epoch 52/100\n",
      "363/363 [==============================] - 0s 898us/step - loss: 0.4903 - mse: 0.4903 - val_loss: 0.5282 - val_mse: 0.5282\n",
      "Epoch 53/100\n",
      "363/363 [==============================] - 0s 928us/step - loss: 0.4883 - mse: 0.4883 - val_loss: 0.5259 - val_mse: 0.5259\n",
      "Epoch 54/100\n",
      "363/363 [==============================] - 0s 892us/step - loss: 0.4863 - mse: 0.4863 - val_loss: 0.5237 - val_mse: 0.5237\n",
      "Epoch 55/100\n",
      "363/363 [==============================] - 0s 991us/step - loss: 0.4846 - mse: 0.4846 - val_loss: 0.5214 - val_mse: 0.5214\n",
      "Epoch 56/100\n",
      "363/363 [==============================] - 0s 918us/step - loss: 0.4827 - mse: 0.4827 - val_loss: 0.5190 - val_mse: 0.5190\n",
      "Epoch 57/100\n",
      "363/363 [==============================] - 0s 924us/step - loss: 0.4809 - mse: 0.4809 - val_loss: 0.5169 - val_mse: 0.5169\n",
      "Epoch 58/100\n",
      "363/363 [==============================] - 0s 1ms/step - loss: 0.4792 - mse: 0.4792 - val_loss: 0.5149 - val_mse: 0.5149\n",
      "Epoch 59/100\n",
      "363/363 [==============================] - 0s 1ms/step - loss: 0.4776 - mse: 0.4776 - val_loss: 0.5128 - val_mse: 0.5128\n",
      "Epoch 60/100\n",
      "363/363 [==============================] - 0s 986us/step - loss: 0.4759 - mse: 0.4759 - val_loss: 0.5109 - val_mse: 0.5109\n",
      "Epoch 61/100\n",
      "363/363 [==============================] - 0s 977us/step - loss: 0.4743 - mse: 0.4743 - val_loss: 0.5092 - val_mse: 0.5092\n",
      "Epoch 62/100\n",
      "363/363 [==============================] - 0s 1ms/step - loss: 0.4728 - mse: 0.4728 - val_loss: 0.5075 - val_mse: 0.5075\n",
      "Epoch 63/100\n",
      "363/363 [==============================] - 0s 954us/step - loss: 0.4713 - mse: 0.4713 - val_loss: 0.5057 - val_mse: 0.5057\n",
      "Epoch 64/100\n",
      "363/363 [==============================] - 0s 928us/step - loss: 0.4699 - mse: 0.4699 - val_loss: 0.5040 - val_mse: 0.5040\n",
      "Epoch 65/100\n",
      "363/363 [==============================] - 0s 937us/step - loss: 0.4685 - mse: 0.4685 - val_loss: 0.5024 - val_mse: 0.5024\n",
      "Epoch 1/100\n",
      "363/363 [==============================] - 1s 1ms/step - loss: 1.7306 - mse: 1.7306 - val_loss: 0.9044 - val_mse: 0.9044\n",
      "Epoch 2/100\n",
      "363/363 [==============================] - 0s 896us/step - loss: 0.7513 - mse: 0.7513 - val_loss: 0.7639 - val_mse: 0.7639\n",
      "Epoch 3/100\n",
      "363/363 [==============================] - 0s 944us/step - loss: 0.6717 - mse: 0.6717 - val_loss: 0.7137 - val_mse: 0.7137\n",
      "Epoch 4/100\n",
      "363/363 [==============================] - 0s 885us/step - loss: 0.6311 - mse: 0.6311 - val_loss: 0.6746 - val_mse: 0.6746\n",
      "Epoch 5/100\n",
      "363/363 [==============================] - 0s 857us/step - loss: 0.6004 - mse: 0.6004 - val_loss: 0.6439 - val_mse: 0.6439\n",
      "Epoch 6/100\n",
      "363/363 [==============================] - 0s 844us/step - loss: 0.5767 - mse: 0.5767 - val_loss: 0.6166 - val_mse: 0.6166\n",
      "Epoch 7/100\n",
      "363/363 [==============================] - 0s 829us/step - loss: 0.5571 - mse: 0.5571 - val_loss: 0.5965 - val_mse: 0.5965\n",
      "Epoch 8/100\n",
      "363/363 [==============================] - 0s 835us/step - loss: 0.5401 - mse: 0.5401 - val_loss: 0.5777 - val_mse: 0.5777\n",
      "Epoch 9/100\n",
      "363/363 [==============================] - 0s 858us/step - loss: 0.5263 - mse: 0.5263 - val_loss: 0.5590 - val_mse: 0.5590\n",
      "Epoch 10/100\n",
      "363/363 [==============================] - 0s 859us/step - loss: 0.5149 - mse: 0.5149 - val_loss: 0.5477 - val_mse: 0.5477\n",
      "Epoch 11/100\n",
      "363/363 [==============================] - 0s 847us/step - loss: 0.5046 - mse: 0.5046 - val_loss: 0.5351 - val_mse: 0.5351\n",
      "Epoch 12/100\n",
      "363/363 [==============================] - 0s 853us/step - loss: 0.4960 - mse: 0.4960 - val_loss: 0.5254 - val_mse: 0.5254\n",
      "Epoch 13/100\n",
      "363/363 [==============================] - 0s 822us/step - loss: 0.4883 - mse: 0.4883 - val_loss: 0.5158 - val_mse: 0.5158\n",
      "Epoch 14/100\n",
      "363/363 [==============================] - 0s 859us/step - loss: 0.4818 - mse: 0.4818 - val_loss: 0.5087 - val_mse: 0.5087\n",
      "Epoch 15/100\n",
      "363/363 [==============================] - 0s 842us/step - loss: 0.4762 - mse: 0.4762 - val_loss: 0.5025 - val_mse: 0.5025\n",
      "Epoch 16/100\n",
      "363/363 [==============================] - 0s 835us/step - loss: 0.4708 - mse: 0.4708 - val_loss: 0.4966 - val_mse: 0.4966\n",
      "Epoch 17/100\n"
     ]
    },
    {
     "name": "stdout",
     "output_type": "stream",
     "text": [
      "363/363 [==============================] - 0s 847us/step - loss: 0.4662 - mse: 0.4662 - val_loss: 0.4908 - val_mse: 0.4908\n",
      "Epoch 18/100\n",
      "363/363 [==============================] - 0s 821us/step - loss: 0.4619 - mse: 0.4619 - val_loss: 0.4871 - val_mse: 0.4871\n",
      "Epoch 19/100\n",
      "363/363 [==============================] - 0s 845us/step - loss: 0.4584 - mse: 0.4584 - val_loss: 0.4829 - val_mse: 0.4829\n",
      "Epoch 20/100\n",
      "363/363 [==============================] - 0s 869us/step - loss: 0.4546 - mse: 0.4546 - val_loss: 0.4785 - val_mse: 0.4785\n",
      "Epoch 21/100\n",
      "363/363 [==============================] - 0s 821us/step - loss: 0.4517 - mse: 0.4517 - val_loss: 0.4750 - val_mse: 0.4750\n",
      "Epoch 22/100\n",
      "363/363 [==============================] - 0s 832us/step - loss: 0.4491 - mse: 0.4491 - val_loss: 0.4719 - val_mse: 0.4719\n",
      "Epoch 23/100\n",
      "363/363 [==============================] - 0s 834us/step - loss: 0.4459 - mse: 0.4459 - val_loss: 0.4690 - val_mse: 0.4690\n",
      "Epoch 24/100\n",
      "363/363 [==============================] - 0s 863us/step - loss: 0.4435 - mse: 0.4435 - val_loss: 0.4668 - val_mse: 0.4668\n",
      "Epoch 25/100\n",
      "363/363 [==============================] - 0s 855us/step - loss: 0.4408 - mse: 0.4408 - val_loss: 0.4630 - val_mse: 0.4630\n",
      "Epoch 26/100\n",
      "363/363 [==============================] - 0s 812us/step - loss: 0.4389 - mse: 0.4389 - val_loss: 0.4606 - val_mse: 0.4606\n",
      "Epoch 27/100\n",
      "363/363 [==============================] - 0s 860us/step - loss: 0.4366 - mse: 0.4366 - val_loss: 0.4583 - val_mse: 0.4583\n",
      "Epoch 28/100\n",
      "363/363 [==============================] - 0s 842us/step - loss: 0.4342 - mse: 0.4342 - val_loss: 0.4568 - val_mse: 0.4568\n",
      "Epoch 29/100\n",
      "363/363 [==============================] - 0s 848us/step - loss: 0.4322 - mse: 0.4322 - val_loss: 0.4531 - val_mse: 0.4531\n",
      "Epoch 30/100\n",
      "363/363 [==============================] - 0s 906us/step - loss: 0.4305 - mse: 0.4305 - val_loss: 0.4510 - val_mse: 0.4510\n",
      "Epoch 31/100\n",
      "363/363 [==============================] - 0s 868us/step - loss: 0.4284 - mse: 0.4284 - val_loss: 0.4491 - val_mse: 0.4491\n",
      "Epoch 32/100\n",
      "363/363 [==============================] - 0s 887us/step - loss: 0.4265 - mse: 0.4265 - val_loss: 0.4475 - val_mse: 0.4475\n",
      "Epoch 33/100\n",
      "363/363 [==============================] - 0s 918us/step - loss: 0.4249 - mse: 0.4249 - val_loss: 0.4464 - val_mse: 0.4464\n",
      "Epoch 34/100\n",
      "363/363 [==============================] - 0s 822us/step - loss: 0.4230 - mse: 0.4230 - val_loss: 0.4458 - val_mse: 0.4458\n",
      "Epoch 35/100\n",
      "363/363 [==============================] - 0s 847us/step - loss: 0.4214 - mse: 0.4214 - val_loss: 0.4412 - val_mse: 0.4412\n",
      "Epoch 36/100\n",
      "363/363 [==============================] - 0s 858us/step - loss: 0.4201 - mse: 0.4201 - val_loss: 0.4403 - val_mse: 0.4403\n",
      "Epoch 37/100\n",
      "363/363 [==============================] - 0s 821us/step - loss: 0.4183 - mse: 0.4183 - val_loss: 0.4378 - val_mse: 0.4378\n",
      "Epoch 38/100\n",
      "363/363 [==============================] - 0s 832us/step - loss: 0.4167 - mse: 0.4167 - val_loss: 0.4369 - val_mse: 0.4369\n",
      "Epoch 1/100\n",
      "363/363 [==============================] - 1s 1ms/step - loss: 1.3396 - mse: 1.3396 - val_loss: 0.7366 - val_mse: 0.7366\n",
      "Epoch 2/100\n",
      "363/363 [==============================] - 0s 972us/step - loss: 0.6557 - mse: 0.6557 - val_loss: 0.6336 - val_mse: 0.6336\n",
      "Epoch 3/100\n",
      "363/363 [==============================] - 0s 930us/step - loss: 0.5613 - mse: 0.5613 - val_loss: 0.5735 - val_mse: 0.5735\n",
      "Epoch 4/100\n",
      "363/363 [==============================] - 0s 895us/step - loss: 0.5233 - mse: 0.5233 - val_loss: 0.5408 - val_mse: 0.5408\n",
      "Epoch 5/100\n",
      "363/363 [==============================] - 0s 910us/step - loss: 0.5026 - mse: 0.5026 - val_loss: 0.5248 - val_mse: 0.5248\n",
      "Epoch 6/100\n",
      "363/363 [==============================] - 0s 994us/step - loss: 0.4826 - mse: 0.4826 - val_loss: 0.5013 - val_mse: 0.5013\n",
      "Epoch 7/100\n",
      "363/363 [==============================] - 0s 894us/step - loss: 0.4701 - mse: 0.4701 - val_loss: 0.4909 - val_mse: 0.4909\n",
      "Epoch 8/100\n",
      "363/363 [==============================] - 0s 932us/step - loss: 0.4624 - mse: 0.4624 - val_loss: 0.4825 - val_mse: 0.4825\n",
      "Epoch 9/100\n",
      "363/363 [==============================] - 0s 952us/step - loss: 0.4536 - mse: 0.4536 - val_loss: 0.4754 - val_mse: 0.4754\n",
      "Epoch 10/100\n",
      "363/363 [==============================] - 0s 927us/step - loss: 0.4474 - mse: 0.4474 - val_loss: 0.4677 - val_mse: 0.4677\n",
      "Epoch 11/100\n",
      "363/363 [==============================] - 0s 995us/step - loss: 0.4432 - mse: 0.4432 - val_loss: 0.4596 - val_mse: 0.4596\n",
      "Epoch 12/100\n",
      "363/363 [==============================] - 0s 957us/step - loss: 0.4375 - mse: 0.4375 - val_loss: 0.4548 - val_mse: 0.4548\n",
      "Epoch 13/100\n",
      "363/363 [==============================] - 0s 923us/step - loss: 0.4312 - mse: 0.4312 - val_loss: 0.4501 - val_mse: 0.4501\n",
      "Epoch 14/100\n",
      "363/363 [==============================] - 0s 902us/step - loss: 0.4274 - mse: 0.4274 - val_loss: 0.4469 - val_mse: 0.4469\n",
      "Epoch 15/100\n",
      "363/363 [==============================] - 0s 920us/step - loss: 0.4240 - mse: 0.4240 - val_loss: 0.4431 - val_mse: 0.4431\n",
      "Epoch 16/100\n",
      "363/363 [==============================] - 0s 894us/step - loss: 0.4223 - mse: 0.4223 - val_loss: 0.4387 - val_mse: 0.4387\n",
      "Epoch 17/100\n",
      "363/363 [==============================] - 0s 918us/step - loss: 0.4175 - mse: 0.4175 - val_loss: 0.4366 - val_mse: 0.4366\n",
      "Epoch 18/100\n",
      "363/363 [==============================] - 0s 922us/step - loss: 0.4159 - mse: 0.4159 - val_loss: 0.4330 - val_mse: 0.4330\n",
      "Epoch 19/100\n",
      "363/363 [==============================] - 0s 925us/step - loss: 0.4117 - mse: 0.4117 - val_loss: 0.4298 - val_mse: 0.4298\n",
      "Epoch 20/100\n",
      "363/363 [==============================] - 0s 912us/step - loss: 0.4097 - mse: 0.4097 - val_loss: 0.4273 - val_mse: 0.4273\n",
      "Epoch 21/100\n",
      "363/363 [==============================] - 0s 901us/step - loss: 0.4072 - mse: 0.4072 - val_loss: 0.4245 - val_mse: 0.4245\n",
      "Epoch 22/100\n",
      "363/363 [==============================] - 0s 891us/step - loss: 0.4053 - mse: 0.4053 - val_loss: 0.4230 - val_mse: 0.4230\n",
      "Epoch 23/100\n",
      "363/363 [==============================] - 0s 911us/step - loss: 0.4049 - mse: 0.4049 - val_loss: 0.4237 - val_mse: 0.4237\n",
      "Epoch 24/100\n",
      "363/363 [==============================] - 0s 942us/step - loss: 0.4067 - mse: 0.4067 - val_loss: 0.4205 - val_mse: 0.4205\n",
      "Epoch 25/100\n",
      "363/363 [==============================] - 0s 899us/step - loss: 0.3989 - mse: 0.3989 - val_loss: 0.4163 - val_mse: 0.4163\n",
      "Epoch 26/100\n",
      "363/363 [==============================] - 0s 902us/step - loss: 0.3972 - mse: 0.3972 - val_loss: 0.4132 - val_mse: 0.4132\n",
      "Epoch 27/100\n",
      "363/363 [==============================] - 0s 951us/step - loss: 0.3958 - mse: 0.3958 - val_loss: 0.4118 - val_mse: 0.4118\n",
      "Epoch 28/100\n",
      "363/363 [==============================] - 0s 911us/step - loss: 0.3946 - mse: 0.3946 - val_loss: 0.4093 - val_mse: 0.4093\n",
      "Epoch 29/100\n",
      "363/363 [==============================] - 0s 905us/step - loss: 0.3922 - mse: 0.3922 - val_loss: 0.4069 - val_mse: 0.4069\n",
      "Epoch 30/100\n",
      "363/363 [==============================] - 0s 918us/step - loss: 0.3915 - mse: 0.3915 - val_loss: 0.4048 - val_mse: 0.4048\n",
      "Epoch 31/100\n",
      "363/363 [==============================] - 0s 921us/step - loss: 0.3906 - mse: 0.3906 - val_loss: 0.4039 - val_mse: 0.4039\n",
      "Epoch 1/100\n",
      "363/363 [==============================] - 1s 1ms/step - loss: 1.1852 - mse: 1.1852 - val_loss: 1.0864 - val_mse: 1.0864\n",
      "Epoch 2/100\n",
      "363/363 [==============================] - 0s 882us/step - loss: 0.8476 - mse: 0.8476 - val_loss: 0.4943 - val_mse: 0.4943\n",
      "Epoch 3/100\n",
      "363/363 [==============================] - 0s 865us/step - loss: 0.4454 - mse: 0.4454 - val_loss: 0.4421 - val_mse: 0.4421\n",
      "Epoch 4/100\n",
      "363/363 [==============================] - 0s 985us/step - loss: 0.4128 - mse: 0.4128 - val_loss: 0.4221 - val_mse: 0.4221\n",
      "Epoch 5/100\n",
      "363/363 [==============================] - 0s 845us/step - loss: 0.4007 - mse: 0.4007 - val_loss: 0.4063 - val_mse: 0.4063\n",
      "Epoch 6/100\n",
      "363/363 [==============================] - 0s 833us/step - loss: 0.3921 - mse: 0.3921 - val_loss: 0.4006 - val_mse: 0.4006\n",
      "Epoch 7/100\n",
      "363/363 [==============================] - 0s 856us/step - loss: 0.3884 - mse: 0.3884 - val_loss: 0.3973 - val_mse: 0.3973\n",
      "Epoch 8/100\n"
     ]
    },
    {
     "name": "stdout",
     "output_type": "stream",
     "text": [
      "363/363 [==============================] - 0s 876us/step - loss: 0.3817 - mse: 0.3817 - val_loss: 0.3900 - val_mse: 0.3900\n",
      "Epoch 9/100\n",
      "363/363 [==============================] - 0s 873us/step - loss: 0.3788 - mse: 0.3788 - val_loss: 0.3921 - val_mse: 0.3921\n",
      "Epoch 10/100\n",
      "363/363 [==============================] - 0s 836us/step - loss: 0.3737 - mse: 0.3737 - val_loss: 0.3873 - val_mse: 0.3873\n",
      "Epoch 11/100\n",
      "363/363 [==============================] - 0s 879us/step - loss: 0.3713 - mse: 0.3713 - val_loss: 0.3860 - val_mse: 0.3860\n",
      "Epoch 12/100\n",
      "363/363 [==============================] - 0s 842us/step - loss: 0.3689 - mse: 0.3689 - val_loss: 0.3963 - val_mse: 0.3963\n",
      "Epoch 13/100\n",
      "363/363 [==============================] - 0s 858us/step - loss: 0.3655 - mse: 0.3655 - val_loss: 0.3835 - val_mse: 0.3835\n",
      "Epoch 1/100\n",
      "363/363 [==============================] - 1s 1ms/step - loss: 0.6768 - mse: 0.6768 - val_loss: 0.5375 - val_mse: 0.5375\n",
      "Epoch 2/100\n",
      "363/363 [==============================] - 0s 905us/step - loss: 0.4779 - mse: 0.4779 - val_loss: 0.4718 - val_mse: 0.4718\n",
      "Epoch 3/100\n",
      "363/363 [==============================] - 0s 901us/step - loss: 0.4303 - mse: 0.4303 - val_loss: 0.5303 - val_mse: 0.5303\n",
      "Epoch 4/100\n",
      "363/363 [==============================] - 0s 878us/step - loss: 0.3982 - mse: 0.3982 - val_loss: 0.4038 - val_mse: 0.4038\n",
      "Epoch 5/100\n",
      "363/363 [==============================] - 0s 903us/step - loss: 0.3862 - mse: 0.3862 - val_loss: 0.3943 - val_mse: 0.3943\n",
      "Epoch 6/100\n",
      "363/363 [==============================] - 0s 919us/step - loss: 0.3758 - mse: 0.3758 - val_loss: 0.3812 - val_mse: 0.3812\n",
      "Epoch 7/100\n",
      "363/363 [==============================] - 0s 888us/step - loss: 0.3705 - mse: 0.3705 - val_loss: 0.3793 - val_mse: 0.3793\n",
      "Epoch 8/100\n",
      "363/363 [==============================] - 0s 885us/step - loss: 0.3704 - mse: 0.3704 - val_loss: 0.3750 - val_mse: 0.3750\n",
      "Epoch 9/100\n",
      "363/363 [==============================] - 0s 929us/step - loss: 0.3610 - mse: 0.3610 - val_loss: 0.3794 - val_mse: 0.3794\n",
      "Epoch 10/100\n",
      "363/363 [==============================] - 0s 922us/step - loss: 0.3574 - mse: 0.3574 - val_loss: 0.3663 - val_mse: 0.3663\n",
      "Epoch 11/100\n",
      "363/363 [==============================] - 0s 904us/step - loss: 0.3546 - mse: 0.3546 - val_loss: 0.3635 - val_mse: 0.3635\n",
      "Epoch 12/100\n",
      "363/363 [==============================] - 0s 922us/step - loss: 0.3521 - mse: 0.3521 - val_loss: 0.3707 - val_mse: 0.3707\n",
      "Epoch 13/100\n",
      "363/363 [==============================] - 0s 945us/step - loss: 0.3492 - mse: 0.3492 - val_loss: 0.3537 - val_mse: 0.3537\n",
      "Epoch 14/100\n",
      "363/363 [==============================] - 0s 894us/step - loss: 0.3497 - mse: 0.3497 - val_loss: 0.3617 - val_mse: 0.3617\n",
      "Epoch 15/100\n",
      "363/363 [==============================] - 0s 918us/step - loss: 0.3454 - mse: 0.3454 - val_loss: 0.3510 - val_mse: 0.3510\n",
      "Epoch 16/100\n",
      "363/363 [==============================] - 0s 891us/step - loss: 0.3414 - mse: 0.3414 - val_loss: 0.3519 - val_mse: 0.3519\n",
      "Epoch 17/100\n",
      "363/363 [==============================] - 0s 913us/step - loss: 0.3450 - mse: 0.3450 - val_loss: 0.3667 - val_mse: 0.3667\n",
      "Epoch 18/100\n",
      "363/363 [==============================] - 0s 906us/step - loss: 0.3913 - mse: 0.3913 - val_loss: 0.3672 - val_mse: 0.3672\n"
     ]
    }
   ],
   "source": [
    "# 搜索最佳学习率\n",
    "learning_rates = [1e-4, 3e-4, 1e-3, 3e-3, 1e-2, 3e-2]\n",
    "histories = []\n",
    "for lr in learning_rates:\n",
    "    model = keras.models.Sequential([\n",
    "        keras.layers.Dense(30, activation='relu', input_shape=x_train.shape[1:]),\n",
    "        keras.layers.Dense(1)\n",
    "    ])\n",
    "    optimizer = keras.optimizers.SGD(lr)\n",
    "    model.compile(loss='mse', optimizer=optimizer, metrics=['mse'])\n",
    "    callbacks = [keras.callbacks.EarlyStopping(patience=5, min_delta=1e-2)]\n",
    "    history = model.fit(x_train_scaled, y_train,\n",
    "                       validation_data=(x_valid_scaled, y_valid),\n",
    "                       epochs=100,\n",
    "                       callbacks=callbacks)\n",
    "    histories.append(history)"
   ]
  },
  {
   "cell_type": "code",
   "execution_count": 55,
   "id": "2558e919",
   "metadata": {
    "ExecuteTime": {
     "end_time": "2022-05-26T03:58:29.642533Z",
     "start_time": "2022-05-26T03:58:28.703587Z"
    }
   },
   "outputs": [
    {
     "name": "stdout",
     "output_type": "stream",
     "text": [
      "0.0001\n"
     ]
    },
    {
     "data": {
      "image/png": "[encoded data removed]",
      "text/plain": [
       "<Figure size 576x360 with 1 Axes>"
      ]
     },
     "metadata": {
      "needs_background": "light"
     },
     "output_type": "display_data"
    },
    {
     "name": "stdout",
     "output_type": "stream",
     "text": [
      "0.0003\n"
     ]
    },
    {
     "data": {
      "image/png": "[encoded data removed]",
      "text/plain": [
       "<Figure size 576x360 with 1 Axes>"
      ]
     },
     "metadata": {
      "needs_background": "light"
     },
     "output_type": "display_data"
    },
    {
     "name": "stdout",
     "output_type": "stream",
     "text": [
      "0.001\n"
     ]
    },
    {
     "data": {
      "image/png": "[encoded data removed]",
      "text/plain": [
       "<Figure size 576x360 with 1 Axes>"
      ]
     },
     "metadata": {
      "needs_background": "light"
     },
     "output_type": "display_data"
    },
    {
     "name": "stdout",
     "output_type": "stream",
     "text": [
      "0.003\n"
     ]
    },
    {
     "data": {
      "image/png": "[encoded data removed]",
      "text/plain": [
       "<Figure size 576x360 with 1 Axes>"
      ]
     },
     "metadata": {
      "needs_background": "light"
     },
     "output_type": "display_data"
    },
    {
     "name": "stdout",
     "output_type": "stream",
     "text": [
      "0.01\n"
     ]
    },
    {
     "data": {
      "image/png": "[encoded data removed]",
      "text/plain": [
       "<Figure size 576x360 with 1 Axes>"
      ]
     },
     "metadata": {
      "needs_background": "light"
     },
     "output_type": "display_data"
    },
    {
     "name": "stdout",
     "output_type": "stream",
     "text": [
      "0.03\n"
     ]
    },
    {
     "data": {
      "image/png": "[encoded data removed]",
      "text/plain": [
       "<Figure size 576x360 with 1 Axes>"
      ]
     },
     "metadata": {
      "needs_background": "light"
     },
     "output_type": "display_data"
    }
   ],
   "source": [
    "# 定义画图的函数\n",
    "def plot_learning_curves(history):\n",
    "    pd.DataFrame(history.history).plot(figsize=(8, 5))\n",
    "    plt.grid(True)\n",
    "    plt.gca().set_ylim(0, 1)\n",
    "    plt.show()\n",
    "for lr, history in zip(learning_rates, histories):\n",
    "    print(lr)\n",
    "    plot_learning_curves(history)"
   ]
  },
  {
   "cell_type": "code",
   "execution_count": 54,
   "id": "560391b5",
   "metadata": {
    "ExecuteTime": {
     "end_time": "2022-05-26T03:58:23.172912Z",
     "start_time": "2022-05-26T03:58:23.165904Z"
    }
   },
   "outputs": [
    {
     "data": {
      "text/plain": [
       "[<keras.callbacks.History at 0x1bdaae76be0>,\n",
       " <keras.callbacks.History at 0x1bdab4e7d30>,\n",
       " <keras.callbacks.History at 0x1bdab062850>,\n",
       " <keras.callbacks.History at 0x1bdad734b80>,\n",
       " <keras.callbacks.History at 0x1bdad753a60>,\n",
       " <keras.callbacks.History at 0x1bda96b06d0>]"
      ]
     },
     "execution_count": 54,
     "metadata": {},
     "output_type": "execute_result"
    }
   ],
   "source": [
    "histories"
   ]
  },
  {
   "cell_type": "markdown",
   "id": "a0d507a2",
   "metadata": {},
   "source": [
    "# 使用sklearn进行超参数搜索"
   ]
  },
  {
   "cell_type": "code",
   "execution_count": 56,
   "id": "ccc9b17f",
   "metadata": {
    "ExecuteTime": {
     "end_time": "2022-05-26T04:02:21.609225Z",
     "start_time": "2022-05-26T04:02:21.601248Z"
    }
   },
   "outputs": [],
   "source": [
    "from tensorflow.keras.wrappers.scikit_learn import KerasRegressor"
   ]
  },
  {
   "cell_type": "code",
   "execution_count": 57,
   "id": "f648f77a",
   "metadata": {
    "ExecuteTime": {
     "end_time": "2022-05-26T04:05:26.028736Z",
     "start_time": "2022-05-26T04:05:26.013710Z"
    }
   },
   "outputs": [
    {
     "name": "stderr",
     "output_type": "stream",
     "text": [
      "C:\\Users\\ADMINI~1\\AppData\\Local\\Temp/ipykernel_14232/3162357811.py:13: DeprecationWarning: KerasRegressor is deprecated, use Sci-Keras (https://github.com/adriangb/scikeras) instead. See https://www.adriangb.com/scikeras/stable/migration.html for help migrating.\n",
      "  sklearn_model = KerasRegressor(build_fn=build_model)\n"
     ]
    }
   ],
   "source": [
    "# 搜索最佳学习率\n",
    "learning_rates = [1e-4, 3e-4, 1e-3, 3e-3, 1e-2, 3e-2]\n",
    "def build_model(hidden_layers=1, layer_size=30, learning_rate=3e-3):\n",
    "    model = keras.models.Sequential()\n",
    "    model.add(keras.layers.Dense(layer_size, activation='relu', input_shape=x_train.shape[1:]))\n",
    "    for _ in range(hidden_layers - 1):\n",
    "        model.add(keras.layers.Dense(layer_size, activation='relu'))\n",
    "    model.add(keras.layers.Dense(1))\n",
    "    optimizer = keras.optimizers.SGD(learning_rate)\n",
    "    model.compile(loss='mse', optimizer=optimizer)\n",
    "    return model\n",
    "\n",
    "sklearn_model = KerasRegressor(build_fn=build_model)"
   ]
  },
  {
   "cell_type": "code",
   "execution_count": 58,
   "id": "ba9bd384",
   "metadata": {
    "ExecuteTime": {
     "end_time": "2022-05-26T04:07:04.775196Z",
     "start_time": "2022-05-26T04:07:01.493406Z"
    }
   },
   "outputs": [
    {
     "name": "stdout",
     "output_type": "stream",
     "text": [
      "Epoch 1/10\n",
      "363/363 [==============================] - 1s 1ms/step - loss: 1.4215 - val_loss: 0.7748\n",
      "Epoch 2/10\n",
      "363/363 [==============================] - 0s 804us/step - loss: 0.6449 - val_loss: 0.6514\n",
      "Epoch 3/10\n",
      "363/363 [==============================] - 0s 813us/step - loss: 0.5770 - val_loss: 0.5940\n",
      "Epoch 4/10\n",
      "363/363 [==============================] - 0s 795us/step - loss: 0.5290 - val_loss: 0.5469\n",
      "Epoch 5/10\n",
      "363/363 [==============================] - 0s 830us/step - loss: 0.5006 - val_loss: 0.5279\n",
      "Epoch 6/10\n",
      "363/363 [==============================] - 0s 822us/step - loss: 0.4781 - val_loss: 0.5008\n",
      "Epoch 7/10\n",
      "363/363 [==============================] - 0s 777us/step - loss: 0.4630 - val_loss: 0.4946\n",
      "Epoch 8/10\n",
      "363/363 [==============================] - 0s 782us/step - loss: 0.4517 - val_loss: 0.4860\n",
      "Epoch 9/10\n",
      "363/363 [==============================] - 0s 811us/step - loss: 0.4432 - val_loss: 0.4589\n",
      "Epoch 10/10\n",
      "363/363 [==============================] - 0s 851us/step - loss: 0.4338 - val_loss: 0.4522\n"
     ]
    }
   ],
   "source": [
    "callbacks = [keras.callbacks.EarlyStopping(patience=5, min_delta=1e-3)]\n",
    "history = sklearn_model.fit(x_train_scaled, y_train,\n",
    "                           epochs=10,\n",
    "                           validation_data=(x_valid_scaled, y_valid),\n",
    "                           callbacks=callbacks)"
   ]
  },
  {
   "cell_type": "code",
   "execution_count": 59,
   "id": "7691e1d1",
   "metadata": {
    "ExecuteTime": {
     "end_time": "2022-05-26T04:07:21.042180Z",
     "start_time": "2022-05-26T04:07:21.035195Z"
    }
   },
   "outputs": [],
   "source": [
    "# 使用sklearn的网格搜索, 或者随机搜索\n",
    "from sklearn.model_selection import GridSearchCV, RandomizedSearchCV"
   ]
  },
  {
   "cell_type": "code",
   "execution_count": 60,
   "id": "394dead9",
   "metadata": {
    "ExecuteTime": {
     "end_time": "2022-05-26T04:08:08.718491Z",
     "start_time": "2022-05-26T04:08:08.705408Z"
    }
   },
   "outputs": [],
   "source": [
    "params = {\n",
    "    'learning_rate': [ 3e-3],\n",
    "    'hidden_layers' : [2, 3, 4, 5],\n",
    "    'layer_size': [20, 60, 100]\n",
    "}\n",
    "\n",
    "gv = GridSearchCV(sklearn_model, param_grid=params, n_jobs=1, cv=5, verbose=1)"
   ]
  },
  {
   "cell_type": "code",
   "execution_count": 61,
   "id": "4c8e53be",
   "metadata": {
    "ExecuteTime": {
     "end_time": "2022-05-26T04:08:58.142605Z",
     "start_time": "2022-05-26T04:08:19.432331Z"
    }
   },
   "outputs": [
    {
     "name": "stdout",
     "output_type": "stream",
     "text": [
      "Fitting 5 folds for each of 12 candidates, totalling 60 fits\n",
      "291/291 [==============================] - 0s 701us/step - loss: 1.2276\n",
      "73/73 [==============================] - 0s 609us/step - loss: 0.6613\n",
      "291/291 [==============================] - 0s 634us/step - loss: 1.0600\n",
      "73/73 [==============================] - 0s 651us/step - loss: 0.6232\n",
      "291/291 [==============================] - 0s 682us/step - loss: 1.3744\n",
      "73/73 [==============================] - 0s 597us/step - loss: 0.6764\n",
      "291/291 [==============================] - 0s 685us/step - loss: 1.2340\n",
      "73/73 [==============================] - 0s 590us/step - loss: 0.7403\n",
      "291/291 [==============================] - 0s 670us/step - loss: 1.4919\n",
      "73/73 [==============================] - 0s 599us/step - loss: 0.7893\n",
      "291/291 [==============================] - 0s 705us/step - loss: 1.1760\n",
      "73/73 [==============================] - 0s 608us/step - loss: 0.7801\n",
      "291/291 [==============================] - 0s 731us/step - loss: 1.1516\n",
      "73/73 [==============================] - 0s 655us/step - loss: 0.6106\n",
      "291/291 [==============================] - 0s 699us/step - loss: 1.1783\n",
      "73/73 [==============================] - 0s 601us/step - loss: 0.7258\n",
      "291/291 [==============================] - 0s 663us/step - loss: 1.0728\n",
      "73/73 [==============================] - 0s 609us/step - loss: 0.7131\n",
      "291/291 [==============================] - 0s 711us/step - loss: 1.1586\n",
      "73/73 [==============================] - 0s 595us/step - loss: 0.6623\n",
      "291/291 [==============================] - 0s 662us/step - loss: 1.1608\n",
      "73/73 [==============================] - 0s 587us/step - loss: 0.6354\n",
      "291/291 [==============================] - 0s 684us/step - loss: 1.2740\n",
      "73/73 [==============================] - 0s 597us/step - loss: 0.7462\n",
      "291/291 [==============================] - 0s 670us/step - loss: 1.1705\n",
      "73/73 [==============================] - 0s 750us/step - loss: 0.6283\n",
      "291/291 [==============================] - 0s 835us/step - loss: 1.2959\n",
      "73/73 [==============================] - 0s 610us/step - loss: 1.6496\n",
      "291/291 [==============================] - 0s 699us/step - loss: 1.2234\n",
      "73/73 [==============================] - 0s 503us/step - loss: 0.7313\n",
      "291/291 [==============================] - 0s 711us/step - loss: 1.1844\n",
      "73/73 [==============================] - 0s 541us/step - loss: 0.6868\n",
      "291/291 [==============================] - 0s 638us/step - loss: 1.0590\n",
      "73/73 [==============================] - 0s 693us/step - loss: 0.6419\n",
      "291/291 [==============================] - 0s 650us/step - loss: 1.5151\n",
      "73/73 [==============================] - 0s 580us/step - loss: 0.7457\n",
      "291/291 [==============================] - 0s 766us/step - loss: 1.7244\n",
      "73/73 [==============================] - 0s 566us/step - loss: 0.8350\n",
      "291/291 [==============================] - 0s 736us/step - loss: 1.2681\n",
      "73/73 [==============================] - 0s 596us/step - loss: 0.6494\n",
      "291/291 [==============================] - 0s 715us/step - loss: 1.3832\n",
      "73/73 [==============================] - 0s 606us/step - loss: 0.5902\n",
      "291/291 [==============================] - 0s 690us/step - loss: 1.1064\n",
      "73/73 [==============================] - 0s 639us/step - loss: 0.6362\n",
      "291/291 [==============================] - 0s 763us/step - loss: 1.0617\n",
      "73/73 [==============================] - 0s 637us/step - loss: 0.6172\n",
      "291/291 [==============================] - 0s 699us/step - loss: 1.1206\n",
      "73/73 [==============================] - 0s 460us/step - loss: 0.6068\n",
      "291/291 [==============================] - 0s 693us/step - loss: 1.1438\n",
      "73/73 [==============================] - 0s 681us/step - loss: 0.6758\n",
      "291/291 [==============================] - 0s 797us/step - loss: 0.9965\n",
      "73/73 [==============================] - 0s 617us/step - loss: 0.6112\n",
      "291/291 [==============================] - 0s 729us/step - loss: 1.1841\n",
      "73/73 [==============================] - 0s 582us/step - loss: 0.6421\n",
      "291/291 [==============================] - 0s 750us/step - loss: 1.1849\n",
      "73/73 [==============================] - 0s 662us/step - loss: 0.6273\n",
      "291/291 [==============================] - 0s 737us/step - loss: 1.3178\n",
      "73/73 [==============================] - 0s 622us/step - loss: 0.6914\n",
      "291/291 [==============================] - 0s 752us/step - loss: 1.1803\n",
      "73/73 [==============================] - 0s 541us/step - loss: 0.6935\n",
      "291/291 [==============================] - 0s 702us/step - loss: 1.2333\n",
      "73/73 [==============================] - 0s 489us/step - loss: 0.5556\n",
      "291/291 [==============================] - 0s 700us/step - loss: 1.3069\n",
      "73/73 [==============================] - 0s 798us/step - loss: 0.7009\n",
      "291/291 [==============================] - 0s 692us/step - loss: 1.5243\n",
      "73/73 [==============================] - 0s 571us/step - loss: 0.7282\n",
      "291/291 [==============================] - 0s 715us/step - loss: 1.2604\n",
      "73/73 [==============================] - 0s 700us/step - loss: 0.7492\n",
      "291/291 [==============================] - 0s 683us/step - loss: 1.3471\n",
      "73/73 [==============================] - 0s 581us/step - loss: 0.7415\n",
      "291/291 [==============================] - 0s 750us/step - loss: 1.3336\n",
      "73/73 [==============================] - 0s 620us/step - loss: 0.6094\n",
      "291/291 [==============================] - 0s 739us/step - loss: 1.1374\n",
      "73/73 [==============================] - 0s 556us/step - loss: 0.5820\n",
      "291/291 [==============================] - 0s 725us/step - loss: 1.3781\n",
      "73/73 [==============================] - 0s 599us/step - loss: 0.6532\n",
      "291/291 [==============================] - 0s 710us/step - loss: 1.2271\n",
      "73/73 [==============================] - 0s 682us/step - loss: 0.5967\n",
      "291/291 [==============================] - 0s 763us/step - loss: 1.6681\n",
      "73/73 [==============================] - 0s 592us/step - loss: 0.7675\n",
      "291/291 [==============================] - 0s 812us/step - loss: 1.1271\n",
      "73/73 [==============================] - 0s 767us/step - loss: 0.5548\n",
      "291/291 [==============================] - 0s 779us/step - loss: 1.1230\n",
      "73/73 [==============================] - 0s 596us/step - loss: 0.6222\n",
      "291/291 [==============================] - 0s 764us/step - loss: 1.2141\n",
      "73/73 [==============================] - 0s 615us/step - loss: 0.5992\n",
      "291/291 [==============================] - 0s 813us/step - loss: 1.0925\n",
      "73/73 [==============================] - 0s 573us/step - loss: 0.6167\n",
      "291/291 [==============================] - 0s 767us/step - loss: 1.1577\n",
      "73/73 [==============================] - 0s 575us/step - loss: 0.8253\n",
      "291/291 [==============================] - 0s 745us/step - loss: 1.3094\n",
      "73/73 [==============================] - 0s 697us/step - loss: 0.7165\n",
      "291/291 [==============================] - 0s 723us/step - loss: 1.8116\n",
      "73/73 [==============================] - 0s 592us/step - loss: 0.9379\n",
      "291/291 [==============================] - 0s 732us/step - loss: 1.2973\n",
      "73/73 [==============================] - 0s 549us/step - loss: 0.6134\n",
      "291/291 [==============================] - 0s 722us/step - loss: 1.4286\n",
      "73/73 [==============================] - 0s 741us/step - loss: 0.6507\n",
      "291/291 [==============================] - 0s 745us/step - loss: 1.9722\n",
      "73/73 [==============================] - 0s 622us/step - loss: 1.2377\n",
      "291/291 [==============================] - 0s 711us/step - loss: 1.4572\n",
      "73/73 [==============================] - 0s 569us/step - loss: 0.6590\n",
      "291/291 [==============================] - 0s 753us/step - loss: 1.1523\n",
      "73/73 [==============================] - 0s 587us/step - loss: 0.5995\n",
      "291/291 [==============================] - 0s 752us/step - loss: 1.1937\n",
      "73/73 [==============================] - 0s 775us/step - loss: 0.5734\n",
      "291/291 [==============================] - 0s 730us/step - loss: 1.0993\n",
      "73/73 [==============================] - 0s 675us/step - loss: 0.6752\n",
      "291/291 [==============================] - 0s 759us/step - loss: 1.3314\n",
      "73/73 [==============================] - 0s 745us/step - loss: 0.7668\n",
      "291/291 [==============================] - 0s 852us/step - loss: 1.1107\n",
      "73/73 [==============================] - 0s 755us/step - loss: 0.5718\n",
      "291/291 [==============================] - 0s 823us/step - loss: 1.3211\n",
      "73/73 [==============================] - 0s 768us/step - loss: 0.6132\n"
     ]
    },
    {
     "name": "stdout",
     "output_type": "stream",
     "text": [
      "291/291 [==============================] - 0s 833us/step - loss: 1.1443\n",
      "73/73 [==============================] - 0s 689us/step - loss: 0.6090\n",
      "291/291 [==============================] - 0s 848us/step - loss: 1.2427\n",
      "73/73 [==============================] - 0s 676us/step - loss: 0.6384\n",
      "291/291 [==============================] - 1s 896us/step - loss: 1.1450\n",
      "73/73 [==============================] - 0s 693us/step - loss: 0.6182\n",
      "363/363 [==============================] - 1s 866us/step - loss: 1.0095\n"
     ]
    },
    {
     "data": {
      "text/plain": [
       "GridSearchCV(cv=5,\n",
       "             estimator=<keras.wrappers.scikit_learn.KerasRegressor object at 0x000001BDA9EB5070>,\n",
       "             n_jobs=1,\n",
       "             param_grid={'hidden_layers': [2, 3, 4, 5],\n",
       "                         'layer_size': [20, 60, 100],\n",
       "                         'learning_rate': [0.003]},\n",
       "             verbose=1)"
      ]
     },
     "execution_count": 61,
     "metadata": {},
     "output_type": "execute_result"
    }
   ],
   "source": [
    "gv.fit(x_train_scaled, y_train)"
   ]
  },
  {
   "cell_type": "code",
   "execution_count": 62,
   "id": "7c49831e",
   "metadata": {
    "ExecuteTime": {
     "end_time": "2022-05-26T04:11:48.696357Z",
     "start_time": "2022-05-26T04:11:48.677408Z"
    }
   },
   "outputs": [
    {
     "name": "stdout",
     "output_type": "stream",
     "text": [
      "-0.610117506980896\n",
      "{'hidden_layers': 5, 'layer_size': 100, 'learning_rate': 0.003}\n",
      "<keras.wrappers.scikit_learn.KerasRegressor object at 0x000001BDA7D02880>\n"
     ]
    }
   ],
   "source": [
    "# 最佳得分\n",
    "print(gv.best_score_)\n",
    "# 最佳参数   \n",
    "print(gv.best_params_)\n",
    "# 最佳模型\n",
    "print(gv.best_estimator_)"
   ]
  },
  {
   "cell_type": "code",
   "execution_count": 63,
   "id": "70703e58",
   "metadata": {
    "ExecuteTime": {
     "end_time": "2022-05-26T04:12:20.375623Z",
     "start_time": "2022-05-26T04:12:19.711377Z"
    }
   },
   "outputs": [
    {
     "name": "stdout",
     "output_type": "stream",
     "text": [
      "0.0001\n"
     ]
    },
    {
     "data": {
      "image/png": "[encoded data removed]",
      "text/plain": [
       "<Figure size 576x360 with 1 Axes>"
      ]
     },
     "metadata": {
      "needs_background": "light"
     },
     "output_type": "display_data"
    },
    {
     "name": "stdout",
     "output_type": "stream",
     "text": [
      "0.0003\n"
     ]
    },
    {
     "data": {
      "image/png": "[encoded data removed]",
      "text/plain": [
       "<Figure size 576x360 with 1 Axes>"
      ]
     },
     "metadata": {
      "needs_background": "light"
     },
     "output_type": "display_data"
    },
    {
     "name": "stdout",
     "output_type": "stream",
     "text": [
      "0.001\n"
     ]
    },
    {
     "data": {
      "image/png": "[encoded data removed]",
      "text/plain": [
       "<Figure size 576x360 with 1 Axes>"
      ]
     },
     "metadata": {
      "needs_background": "light"
     },
     "output_type": "display_data"
    },
    {
     "name": "stdout",
     "output_type": "stream",
     "text": [
      "0.003\n"
     ]
    },
    {
     "data": {
      "image/png": "[encoded data removed]",
      "text/plain": [
       "<Figure size 576x360 with 1 Axes>"
      ]
     },
     "metadata": {
      "needs_background": "light"
     },
     "output_type": "display_data"
    },
    {
     "name": "stdout",
     "output_type": "stream",
     "text": [
      "0.01\n"
     ]
    },
    {
     "data": {
      "image/png": "[encoded data removed]",
      "text/plain": [
       "<Figure size 576x360 with 1 Axes>"
      ]
     },
     "metadata": {
      "needs_background": "light"
     },
     "output_type": "display_data"
    },
    {
     "name": "stdout",
     "output_type": "stream",
     "text": [
      "0.03\n"
     ]
    },
    {
     "data": {
      "image/png": "[encoded data removed]",
      "text/plain": [
       "<Figure size 576x360 with 1 Axes>"
      ]
     },
     "metadata": {
      "needs_background": "light"
     },
     "output_type": "display_data"
    }
   ],
   "source": [
    "# 定义画图的函数\n",
    "def plot_learning_curves(history):\n",
    "    pd.DataFrame(history.history).plot(figsize=(8, 5))\n",
    "    plt.grid(True)\n",
    "    plt.gca().set_ylim(0, 1)\n",
    "    plt.show()\n",
    "for lr, history in zip(learning_rates, histories):\n",
    "    print(lr)\n",
    "    plot_learning_curves(history)"
   ]
  },
  {
   "cell_type": "code",
   "execution_count": null,
   "id": "c7c32537",
   "metadata": {},
   "outputs": [],
   "source": []
  }
 ],
 "metadata": {
  "hide_input": false,
  "kernelspec": {
   "display_name": "Python 3 (ipykernel)",
   "language": "python",
   "name": "python3"
  },
  "language_info": {
   "codemirror_mode": {
    "name": "ipython",
    "version": 3
   },
   "file_extension": ".py",
   "mimetype": "text/x-python",
   "name": "python",
   "nbconvert_exporter": "python",
   "pygments_lexer": "ipython3",
   "version": "3.9.7"
  },
  "latex_envs": {
   "LaTeX_envs_menu_present": true,
   "autoclose": false,
   "autocomplete": true,
   "bibliofile": "biblio.bib",
   "cite_by": "apalike",
   "current_citInitial": 1,
   "eqLabelWithNumbers": true,
   "eqNumInitial": 1,
   "hotkeys": {
    "equation": "Ctrl-E",
    "itemize": "Ctrl-I"
   },
   "labels_anchors": false,
   "latex_user_defs": false,
   "report_style_numbering": false,
   "user_envs_cfg": false
  },
  "nbTranslate": {
   "displayLangs": [
    "*"
   ],
   "hotkey": "alt-t",
   "langInMainMenu": true,
   "sourceLang": "en",
   "targetLang": "fr",
   "useGoogleTranslate": true
  },
  "toc": {
   "base_numbering": 1,
   "nav_menu": {},
   "number_sections": true,
   "sideBar": true,
   "skip_h1_title": false,
   "title_cell": "Table of Contents",
   "title_sidebar": "Contents",
   "toc_cell": false,
   "toc_position": {},
   "toc_section_display": true,
   "toc_window_display": false
  },
  "varInspector": {
   "cols": {
    "lenName": 16,
    "lenType": 16,
    "lenVar": 40
   },
   "kernels_config": {
    "python": {
     "delete_cmd_postfix": "",
     "delete_cmd_prefix": "del ",
     "library": "var_list.py",
     "varRefreshCmd": "print(var_dic_list())"
    },
    "r": {
     "delete_cmd_postfix": ") ",
     "delete_cmd_prefix": "rm(",
     "library": "var_list.r",
     "varRefreshCmd": "cat(var_dic_list()) "
    }
   },
   "position": {
    "height": "308.85px",
    "left": "417.2px",
    "right": "20px",
    "top": "1px",
    "width": "350px"
   },
   "types_to_exclude": [
    "module",
    "function",
    "builtin_function_or_method",
    "instance",
    "_Feature"
   ],
   "window_display": false
  }
 },
 "nbformat": 4,
 "nbformat_minor": 5
}
