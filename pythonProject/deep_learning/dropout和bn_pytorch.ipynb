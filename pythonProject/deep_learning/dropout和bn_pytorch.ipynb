{
 "cells": [
  {
   "cell_type": "markdown",
   "id": "ac3a48dc",
   "metadata": {},
   "source": [
    "dropout, bn, 自定义图片数据集. \n",
    "\n",
    "迁移学习. "
   ]
  },
  {
   "cell_type": "code",
   "execution_count": 1,
   "id": "be037e80",
   "metadata": {
    "ExecuteTime": {
     "end_time": "2022-06-17T06:49:02.766167Z",
     "start_time": "2022-06-17T06:49:01.700403Z"
    }
   },
   "outputs": [],
   "source": [
    "import torch\n",
    "import torch.nn as nn\n",
    "import torch.nn.functional as F\n",
    "import torch.optim as optim\n",
    "import numpy as np\n",
    "import matplotlib.pyplot as plt\n",
    "import torchvision\n",
    "import os"
   ]
  },
  {
   "cell_type": "markdown",
   "id": "318a31e5",
   "metadata": {},
   "source": [
    "# 导入数据及数据处理"
   ]
  },
  {
   "cell_type": "code",
   "execution_count": 2,
   "id": "1b0604c6",
   "metadata": {
    "ExecuteTime": {
     "end_time": "2022-06-17T06:50:25.122035Z",
     "start_time": "2022-06-17T06:50:25.104083Z"
    }
   },
   "outputs": [],
   "source": [
    "base_dir = './dataset'\n",
    "train_dir = os.path.join(base_dir, 'train')\n",
    "test_dir = os.path.join(base_dir, 'test')"
   ]
  },
  {
   "cell_type": "code",
   "execution_count": 3,
   "id": "64fbf6bf",
   "metadata": {
    "ExecuteTime": {
     "end_time": "2022-06-17T06:50:38.406214Z",
     "start_time": "2022-06-17T06:50:38.398728Z"
    }
   },
   "outputs": [],
   "source": [
    "filenames = os.listdir('./dataset')"
   ]
  },
  {
   "cell_type": "code",
   "execution_count": 4,
   "id": "4449af11",
   "metadata": {
    "ExecuteTime": {
     "end_time": "2022-06-17T06:50:51.375008Z",
     "start_time": "2022-06-17T06:50:51.365035Z"
    }
   },
   "outputs": [
    {
     "data": {
      "text/plain": [
       "1132"
      ]
     },
     "execution_count": 4,
     "metadata": {},
     "output_type": "execute_result"
    }
   ],
   "source": [
    "len(filenames)"
   ]
  },
  {
   "cell_type": "code",
   "execution_count": null,
   "id": "2674a56c",
   "metadata": {},
   "outputs": [],
   "source": [
    "species = ['cloudy', 'rain', 'shine', 'sunrise']\n",
    "\n",
    "# 创建train和test目录\n",
    "if not os.path.exists(train_dir):\n",
    "    os.mkdir(train_dir)\n",
    "    \n",
    "if not os.path.exists(test_dir):\n",
    "    os.mkdir(test_dir)\n",
    "# 分别在train和test目录下创建4种类别的目录\n",
    "for train_or_test in ['train', 'test']:\n",
    "    for spec in species:\n",
    "        path = os.path.join(base_dir, train_or_test, spec)\n",
    "        os.mkdir(path)  \n",
    "# python中的自带的拷贝工具\n",
    "import shutil\n",
    "# 要判断一个图片属于哪个类别.\n",
    "'cloudy' in img\n",
    "# 要把dataset中的图片全部拷贝到train, test目录下的4个子目录中. \n",
    "for i, img in enumerate(filenames):\n",
    "    for spec in species:\n",
    "        if spec in img:\n",
    "            img_path = os.path.join(base_dir, img)\n",
    "            if i % 5 == 0:\n",
    "                path = os.path.join(base_dir, 'test', spec, img)\n",
    "            else: \n",
    "                path = os.path.join(base_dir, 'train', spec, img)\n",
    "            shutil.copy(img_path, path)"
   ]
  },
  {
   "cell_type": "code",
   "execution_count": 6,
   "id": "e02a1351",
   "metadata": {
    "ExecuteTime": {
     "end_time": "2022-06-17T06:53:43.191195Z",
     "start_time": "2022-06-17T06:53:43.173267Z"
    }
   },
   "outputs": [
    {
     "name": "stdout",
     "output_type": "stream",
     "text": [
      "train cloudy 240\n",
      "train rain 172\n",
      "train shine 202\n",
      "train sunrise 286\n",
      "test cloudy 60\n",
      "test rain 43\n",
      "test shine 51\n",
      "test sunrise 71\n"
     ]
    }
   ],
   "source": [
    "species = ['cloudy', 'rain', 'shine', 'sunrise']\n",
    "# 打印每个类别训练数据和测试数据分别有多少图片\n",
    "for train_or_test in ['train', 'test']:\n",
    "    for spec in species:\n",
    "        print(train_or_test, spec, len(os.listdir(os.path.join(base_dir, train_or_test, spec))))"
   ]
  },
  {
   "cell_type": "markdown",
   "id": "be0d3594",
   "metadata": {},
   "source": [
    "# 数据增强"
   ]
  },
  {
   "cell_type": "code",
   "execution_count": 7,
   "id": "d2ef26bf",
   "metadata": {
    "ExecuteTime": {
     "end_time": "2022-06-17T06:56:25.153347Z",
     "start_time": "2022-06-17T06:56:25.136885Z"
    }
   },
   "outputs": [],
   "source": [
    "from torchvision import transforms"
   ]
  },
  {
   "cell_type": "code",
   "execution_count": 8,
   "id": "ff0bf952",
   "metadata": {
    "ExecuteTime": {
     "end_time": "2022-06-17T06:56:36.871298Z",
     "start_time": "2022-06-17T06:56:36.862814Z"
    }
   },
   "outputs": [],
   "source": [
    "transform = transforms.Compose([\n",
    "    # 统一缩放到96 * 96\n",
    "    transforms.Resize((96, 96)),\n",
    "    transforms.ToTensor(),\n",
    "    # 正则化\n",
    "    transforms.Normalize(mean=[0.5, 0.5, 0.5], std=[0.5, 0.5, 0.5])\n",
    "])"
   ]
  },
  {
   "cell_type": "code",
   "execution_count": 9,
   "id": "e7930590",
   "metadata": {
    "ExecuteTime": {
     "end_time": "2022-06-17T06:58:50.858091Z",
     "start_time": "2022-06-17T06:58:50.844977Z"
    }
   },
   "outputs": [],
   "source": [
    "train_ds = torchvision.datasets.ImageFolder(train_dir, transform=transform)"
   ]
  },
  {
   "cell_type": "code",
   "execution_count": 10,
   "id": "80d52562",
   "metadata": {
    "ExecuteTime": {
     "end_time": "2022-06-17T06:58:59.971855Z",
     "start_time": "2022-06-17T06:58:59.960871Z"
    }
   },
   "outputs": [
    {
     "data": {
      "text/plain": [
       "Dataset ImageFolder\n",
       "    Number of datapoints: 900\n",
       "    Root location: ./dataset\\train\n",
       "    StandardTransform\n",
       "Transform: Compose(\n",
       "               Resize(size=(96, 96), interpolation=bilinear, max_size=None, antialias=None)\n",
       "               ToTensor()\n",
       "               Normalize(mean=[0.5, 0.5, 0.5], std=[0.5, 0.5, 0.5])\n",
       "           )"
      ]
     },
     "execution_count": 10,
     "metadata": {},
     "output_type": "execute_result"
    }
   ],
   "source": [
    "train_ds"
   ]
  },
  {
   "cell_type": "code",
   "execution_count": 11,
   "id": "26136629",
   "metadata": {
    "ExecuteTime": {
     "end_time": "2022-06-17T06:59:18.446168Z",
     "start_time": "2022-06-17T06:59:18.436195Z"
    }
   },
   "outputs": [],
   "source": [
    "test_ds = torchvision.datasets.ImageFolder(test_dir, transform=transform)"
   ]
  },
  {
   "cell_type": "code",
   "execution_count": 12,
   "id": "cbbcddcd",
   "metadata": {
    "ExecuteTime": {
     "end_time": "2022-06-17T06:59:26.919525Z",
     "start_time": "2022-06-17T06:59:26.912234Z"
    }
   },
   "outputs": [
    {
     "data": {
      "text/plain": [
       "['cloudy', 'rain', 'shine', 'sunrise']"
      ]
     },
     "execution_count": 12,
     "metadata": {},
     "output_type": "execute_result"
    }
   ],
   "source": [
    "train_ds.classes"
   ]
  },
  {
   "cell_type": "code",
   "execution_count": 13,
   "id": "aa8a1d32",
   "metadata": {
    "ExecuteTime": {
     "end_time": "2022-06-17T06:59:38.388509Z",
     "start_time": "2022-06-17T06:59:38.378914Z"
    }
   },
   "outputs": [
    {
     "data": {
      "text/plain": [
       "{'cloudy': 0, 'rain': 1, 'shine': 2, 'sunrise': 3}"
      ]
     },
     "execution_count": 13,
     "metadata": {},
     "output_type": "execute_result"
    }
   ],
   "source": [
    "train_ds.class_to_idx"
   ]
  },
  {
   "cell_type": "code",
   "execution_count": 14,
   "id": "83eb7f8c",
   "metadata": {
    "ExecuteTime": {
     "end_time": "2022-06-17T06:59:47.720391Z",
     "start_time": "2022-06-17T06:59:47.712818Z"
    }
   },
   "outputs": [
    {
     "data": {
      "text/plain": [
       "900"
      ]
     },
     "execution_count": 14,
     "metadata": {},
     "output_type": "execute_result"
    }
   ],
   "source": [
    "len(train_ds)"
   ]
  },
  {
   "cell_type": "code",
   "execution_count": 15,
   "id": "5bd516c5",
   "metadata": {
    "ExecuteTime": {
     "end_time": "2022-06-17T06:59:55.372679Z",
     "start_time": "2022-06-17T06:59:55.360716Z"
    }
   },
   "outputs": [
    {
     "data": {
      "text/plain": [
       "225"
      ]
     },
     "execution_count": 15,
     "metadata": {},
     "output_type": "execute_result"
    }
   ],
   "source": [
    "len(test_ds)"
   ]
  },
  {
   "cell_type": "code",
   "execution_count": 16,
   "id": "02a537da",
   "metadata": {
    "ExecuteTime": {
     "end_time": "2022-06-17T07:00:04.890484Z",
     "start_time": "2022-06-17T07:00:04.877533Z"
    }
   },
   "outputs": [],
   "source": [
    "batch_size = 32"
   ]
  },
  {
   "cell_type": "code",
   "execution_count": 17,
   "id": "b1b827fb",
   "metadata": {
    "ExecuteTime": {
     "end_time": "2022-06-17T07:00:13.873355Z",
     "start_time": "2022-06-17T07:00:13.855783Z"
    }
   },
   "outputs": [],
   "source": [
    "train_dl = torch.utils.data.DataLoader(train_ds, batch_size=batch_size, shuffle=True, )\n",
    "test_dl = torch.utils.data.DataLoader(test_ds, batch_size=batch_size)"
   ]
  },
  {
   "cell_type": "code",
   "execution_count": 18,
   "id": "0d218fdc",
   "metadata": {
    "ExecuteTime": {
     "end_time": "2022-06-17T07:01:44.433039Z",
     "start_time": "2022-06-17T07:01:44.196438Z"
    }
   },
   "outputs": [
    {
     "data": {
      "text/plain": [
       "tensor([1, 2, 3, 0, 1, 3, 2, 0, 0, 0, 0, 3, 1, 2, 0, 2, 3, 3, 1, 0, 0, 2, 0, 3,\n",
       "        1, 1, 3, 2, 3, 0, 0, 1])"
      ]
     },
     "execution_count": 18,
     "metadata": {},
     "output_type": "execute_result"
    }
   ],
   "source": [
    "imgs, labels = next(iter(train_dl))\n",
    "imgs.shape\n",
    "labels"
   ]
  },
  {
   "cell_type": "code",
   "execution_count": 19,
   "id": "ad5ecbcc",
   "metadata": {
    "ExecuteTime": {
     "end_time": "2022-06-17T07:01:53.807287Z",
     "start_time": "2022-06-17T07:01:53.803297Z"
    }
   },
   "outputs": [],
   "source": [
    "# 显示一张图片\n",
    "img = imgs[0]"
   ]
  },
  {
   "cell_type": "code",
   "execution_count": 20,
   "id": "879a094d",
   "metadata": {
    "ExecuteTime": {
     "end_time": "2022-06-17T07:02:09.317528Z",
     "start_time": "2022-06-17T07:02:09.299981Z"
    }
   },
   "outputs": [
    {
     "data": {
      "text/plain": [
       "torch.Size([3, 96, 96])"
      ]
     },
     "execution_count": 20,
     "metadata": {},
     "output_type": "execute_result"
    }
   ],
   "source": [
    "img.shape"
   ]
  },
  {
   "cell_type": "code",
   "execution_count": 21,
   "id": "86b7aab8",
   "metadata": {
    "ExecuteTime": {
     "end_time": "2022-06-17T07:02:40.986124Z",
     "start_time": "2022-06-17T07:02:40.978099Z"
    }
   },
   "outputs": [
    {
     "data": {
      "text/plain": [
       "tensor(0.9843)"
      ]
     },
     "metadata": {},
     "output_type": "display_data"
    },
    {
     "data": {
      "text/plain": [
       "tensor(-0.9765)"
      ]
     },
     "metadata": {},
     "output_type": "display_data"
    }
   ],
   "source": [
    "display(img.max(),img.min())"
   ]
  },
  {
   "cell_type": "code",
   "execution_count": 22,
   "id": "b67234ce",
   "metadata": {
    "ExecuteTime": {
     "end_time": "2022-06-17T07:03:55.666749Z",
     "start_time": "2022-06-17T07:03:55.641091Z"
    }
   },
   "outputs": [
    {
     "data": {
      "text/plain": [
       "tensor(0.9922)"
      ]
     },
     "metadata": {},
     "output_type": "display_data"
    },
    {
     "data": {
      "text/plain": [
       "tensor(0.0118)"
      ]
     },
     "metadata": {},
     "output_type": "display_data"
    }
   ],
   "source": [
    "img = img + 1\n",
    "img = img / 2\n",
    "display(img.max(),img.min())"
   ]
  },
  {
   "cell_type": "code",
   "execution_count": 23,
   "id": "1ee680fd",
   "metadata": {
    "ExecuteTime": {
     "end_time": "2022-06-17T07:06:39.163649Z",
     "start_time": "2022-06-17T07:06:39.033947Z"
    }
   },
   "outputs": [
    {
     "data": {
      "text/plain": [
       "<matplotlib.image.AxesImage at 0x2198637c610>"
      ]
     },
     "execution_count": 23,
     "metadata": {},
     "output_type": "execute_result"
    },
    {
     "data": {
      "image/png": "[encoded data removed]",
      "text/plain": [
       "<Figure size 432x288 with 1 Axes>"
      ]
     },
     "metadata": {
      "needs_background": "light"
     },
     "output_type": "display_data"
    }
   ],
   "source": [
    "# reshape不可以, 会打乱数据. \n",
    "plt.imshow(img.permute(1, 2, 0))"
   ]
  },
  {
   "cell_type": "markdown",
   "id": "933fb220",
   "metadata": {},
   "source": [
    "# 定义模型"
   ]
  },
  {
   "cell_type": "code",
   "execution_count": 24,
   "id": "b720e41e",
   "metadata": {
    "ExecuteTime": {
     "end_time": "2022-06-17T07:08:55.958172Z",
     "start_time": "2022-06-17T07:08:55.951191Z"
    }
   },
   "outputs": [],
   "source": [
    "# 定义模型\n",
    "class Net(nn.Module):\n",
    "    def __init__(self):\n",
    "        super().__init__()\n",
    "        self.conv1 = nn.Conv2d(3, 16, 3)   # 16 * 94 * 94\n",
    "        self.pool = nn.MaxPool2d(2, 2)     # 16 * 47 * 47\n",
    "        self.conv2 = nn.Conv2d(16, 32, 3)  # 32 * 45 * 45  -> pooling -> 32 * 22 * 22\n",
    "        self.conv3 = nn.Conv2d(32, 64, 3)  # 64 * 20 * 20  -> pooling -> 64 * 10 * 10\n",
    "        self.dropout = nn.Dropout()\n",
    "        \n",
    "        # batch , channel, height, width, 64, \n",
    "        self.fc1 = nn.Linear(64 * 10 * 10, 1024)\n",
    "        self.fc2 = nn.Linear(1024, 256)\n",
    "        self.fc3 = nn.Linear(256, 4)\n",
    "        \n",
    "    def forward(self, x):\n",
    "        x = self.pool(F.relu(self.conv1(x)))\n",
    "        x = self.pool(F.relu(self.conv2(x)))\n",
    "        x = self.pool(F.relu(self.conv3(x)))\n",
    "        # x.view(-1, 64 * 10 * 10)\n",
    "        x = nn.Flatten()(x)\n",
    "        x = F.relu(self.fc1(x))\n",
    "        x = self.dropout(x)\n",
    "        x = F.relu(self.fc2(x))\n",
    "        x = self.dropout(x)\n",
    "        x = self.fc3(x)\n",
    "        return x"
   ]
  },
  {
   "cell_type": "code",
   "execution_count": 25,
   "id": "b96c31dc",
   "metadata": {
    "ExecuteTime": {
     "end_time": "2022-06-17T07:09:05.913622Z",
     "start_time": "2022-06-17T07:09:05.896666Z"
    }
   },
   "outputs": [],
   "source": [
    "device = torch.device('cuda:0' if torch.cuda.is_available() else 'cpu')"
   ]
  },
  {
   "cell_type": "code",
   "execution_count": 26,
   "id": "fad08782",
   "metadata": {
    "ExecuteTime": {
     "end_time": "2022-06-17T07:09:21.885546Z",
     "start_time": "2022-06-17T07:09:21.848630Z"
    }
   },
   "outputs": [],
   "source": [
    "model = Net()\n",
    "# 把model拷到gpu上\n",
    "if torch.cuda.is_available():\n",
    "    model.to(device)"
   ]
  },
  {
   "cell_type": "code",
   "execution_count": 27,
   "id": "8bdf70bd",
   "metadata": {
    "ExecuteTime": {
     "end_time": "2022-06-17T07:09:44.670313Z",
     "start_time": "2022-06-17T07:09:44.666324Z"
    }
   },
   "outputs": [],
   "source": [
    "optimizer = optim.Adam(model.parameters(), lr=0.001)\n",
    "loss_fn = nn.CrossEntropyLoss()"
   ]
  },
  {
   "cell_type": "code",
   "execution_count": 28,
   "id": "11f3cf4c",
   "metadata": {
    "ExecuteTime": {
     "end_time": "2022-06-17T07:13:09.010189Z",
     "start_time": "2022-06-17T07:13:08.996649Z"
    }
   },
   "outputs": [],
   "source": [
    "def fit(epoch, model, train_loader, test_loader):\n",
    "    correct = 0\n",
    "    total = 0\n",
    "    running_loss = 0\n",
    "    \n",
    "    # 因为bn和dropout需要手动指定训练模式和推理模式\n",
    "    model.train()\n",
    "    for x, y in train_loader:\n",
    "        # 把数据放到GPU上去. \n",
    "        x, y = x.to(device), y.to(device)\n",
    "        y_pred = model(x)\n",
    "        loss = loss_fn(y_pred, y)\n",
    "        optimizer.zero_grad()\n",
    "        loss.backward()\n",
    "        optimizer.step()\n",
    "        \n",
    "        with torch.no_grad():\n",
    "            y_pred = torch.argmax(y_pred, dim=1)\n",
    "            correct += (y_pred == y).sum().item()\n",
    "            total += y.size(0)\n",
    "            running_loss += loss.item()\n",
    "            \n",
    "    epoch_loss = running_loss / len(train_loader.dataset)\n",
    "    epoch_acc = correct / total\n",
    "        \n",
    "    # 测试过程\n",
    "    test_correct = 0\n",
    "    test_total = 0\n",
    "    test_running_loss = 0\n",
    "    model.eval()\n",
    "    with torch.no_grad():\n",
    "        for x, y in test_loader:\n",
    "            x, y = x.to(device), y.to(device)\n",
    "            y_pred = model(x)\n",
    "            loss = loss_fn(y_pred, y)\n",
    "            y_pred = torch.argmax(y_pred, dim=1)\n",
    "            test_correct += (y_pred == y).sum().item()\n",
    "            test_total += y.size(0)\n",
    "            test_running_loss += loss.item()\n",
    "    test_epoch_loss = test_running_loss / len(test_loader.dataset)\n",
    "    test_epoch_acc = test_correct / test_total\n",
    "\n",
    "    print('epoch: ', epoch,\n",
    "         'loss: ', round(epoch_loss, 3),\n",
    "         'accuracy: ', round(epoch_acc, 3),\n",
    "         'test_loss: ', round(test_epoch_loss, 3),\n",
    "         'test_accuracy: ', round(test_epoch_acc, 3))\n",
    "    return epoch_loss, epoch_acc, test_epoch_loss, test_epoch_acc"
   ]
  },
  {
   "cell_type": "markdown",
   "id": "180e24b3",
   "metadata": {},
   "source": [
    "# 模型训练"
   ]
  },
  {
   "cell_type": "code",
   "execution_count": 29,
   "id": "9fc192e7",
   "metadata": {
    "ExecuteTime": {
     "end_time": "2022-06-17T07:16:12.669484Z",
     "start_time": "2022-06-17T07:14:26.118918Z"
    }
   },
   "outputs": [
    {
     "name": "stdout",
     "output_type": "stream",
     "text": [
      "epoch:  0 loss:  0.031 accuracy:  0.567 test_loss:  0.022 test_accuracy:  0.778\n",
      "epoch:  1 loss:  0.017 accuracy:  0.789 test_loss:  0.017 test_accuracy:  0.809\n",
      "epoch:  2 loss:  0.016 accuracy:  0.8 test_loss:  0.016 test_accuracy:  0.827\n",
      "epoch:  3 loss:  0.014 accuracy:  0.836 test_loss:  0.019 test_accuracy:  0.8\n",
      "epoch:  4 loss:  0.012 accuracy:  0.848 test_loss:  0.016 test_accuracy:  0.867\n",
      "epoch:  5 loss:  0.01 accuracy:  0.891 test_loss:  0.015 test_accuracy:  0.884\n",
      "epoch:  6 loss:  0.01 accuracy:  0.902 test_loss:  0.014 test_accuracy:  0.867\n",
      "epoch:  7 loss:  0.008 accuracy:  0.909 test_loss:  0.014 test_accuracy:  0.876\n",
      "epoch:  8 loss:  0.007 accuracy:  0.919 test_loss:  0.014 test_accuracy:  0.871\n",
      "epoch:  9 loss:  0.006 accuracy:  0.931 test_loss:  0.018 test_accuracy:  0.88\n"
     ]
    }
   ],
   "source": [
    "epochs = 10\n",
    "train_loss = []\n",
    "train_acc = []\n",
    "test_loss = []\n",
    "test_acc = []\n",
    "for epoch in range(epochs):\n",
    "    epoch_loss, epoch_acc, test_epoch_loss, test_epoch_acc = fit(epoch, model, train_dl, test_dl)\n",
    "    train_loss.append(epoch_loss)\n",
    "    train_acc.append(epoch_acc)\n",
    "    \n",
    "    test_loss.append(test_epoch_loss)\n",
    "    test_acc.append(test_epoch_acc)"
   ]
  },
  {
   "cell_type": "markdown",
   "id": "784ee325",
   "metadata": {},
   "source": [
    "# 添加BN层."
   ]
  },
  {
   "cell_type": "code",
   "execution_count": 30,
   "id": "5a49f4a9",
   "metadata": {
    "ExecuteTime": {
     "end_time": "2022-06-17T07:17:41.649360Z",
     "start_time": "2022-06-17T07:17:41.629032Z"
    }
   },
   "outputs": [],
   "source": [
    "# 添加BN层.\n",
    "# 定义模型\n",
    "class Net(nn.Module):\n",
    "    def __init__(self):\n",
    "        super().__init__()\n",
    "        self.conv1 = nn.Conv2d(3, 16, 3)   # 16 * 94 * 94\n",
    "        self.bn1 = nn.BatchNorm2d(16)\n",
    "        self.pool = nn.MaxPool2d(2, 2)     # 16 * 47 * 47\n",
    "        \n",
    "        self.conv2 = nn.Conv2d(16, 32, 3)  # 32 * 45 * 45  -> pooling -> 32 * 22 * 22\n",
    "        self.bn2 = nn.BatchNorm2d(32)\n",
    "        self.conv3 = nn.Conv2d(32, 64, 3)  # 64 * 20 * 20  -> pooling -> 64 * 10 * 10\n",
    "        self.bn3 = nn.BatchNorm2d(64)\n",
    "        self.dropout = nn.Dropout()\n",
    "        \n",
    "        # batch , channel, height, width, 64, \n",
    "        self.fc1 = nn.Linear(64 * 10 * 10, 1024)\n",
    "        self.bn_fc1 = nn.BatchNorm1d(1024)\n",
    "        self.fc2 = nn.Linear(1024, 256)\n",
    "        self.bn_fc2 = nn.BatchNorm1d(256)\n",
    "        self.fc3 = nn.Linear(256, 4)\n",
    "        \n",
    "    def forward(self, x):\n",
    "        x = self.pool(F.relu(self.conv1(x)))\n",
    "        x = self.bn1(x)\n",
    "        x = self.pool(F.relu(self.conv2(x)))\n",
    "        x = self.bn2(x)\n",
    "        x = self.pool(F.relu(self.conv3(x)))\n",
    "        x = self.bn3(x)\n",
    "        # x.view(-1, 64 * 10 * 10)\n",
    "        x = nn.Flatten()(x)\n",
    "        x = F.relu(self.fc1(x))\n",
    "        x = self.bn_fc1(x)\n",
    "        x = self.dropout(x)\n",
    "        x = F.relu(self.fc2(x))\n",
    "        x = self.bn_fc2(x)\n",
    "        x = self.dropout(x)\n",
    "        x = self.fc3(x)\n",
    "        return x"
   ]
  },
  {
   "cell_type": "code",
   "execution_count": 31,
   "id": "b4caedb2",
   "metadata": {
    "ExecuteTime": {
     "end_time": "2022-06-17T07:18:09.144799Z",
     "start_time": "2022-06-17T07:18:09.091976Z"
    }
   },
   "outputs": [],
   "source": [
    "model = Net()\n",
    "# 把model拷到gpu上\n",
    "if torch.cuda.is_available():\n",
    "    model.to(device)\n",
    "    \n",
    "optimizer = optim.Adam(model.parameters(), lr=0.001)\n",
    "loss_fn = nn.CrossEntropyLoss()\n",
    "\n"
   ]
  },
  {
   "cell_type": "code",
   "execution_count": 32,
   "id": "15c7842c",
   "metadata": {
    "ExecuteTime": {
     "end_time": "2022-06-17T07:22:46.687472Z",
     "start_time": "2022-06-17T07:20:57.157145Z"
    }
   },
   "outputs": [
    {
     "name": "stdout",
     "output_type": "stream",
     "text": [
      "epoch:  0 loss:  0.019 accuracy:  0.777 test_loss:  0.017 test_accuracy:  0.831\n",
      "epoch:  1 loss:  0.012 accuracy:  0.85 test_loss:  0.016 test_accuracy:  0.827\n",
      "epoch:  2 loss:  0.011 accuracy:  0.878 test_loss:  0.013 test_accuracy:  0.858\n",
      "epoch:  3 loss:  0.009 accuracy:  0.904 test_loss:  0.013 test_accuracy:  0.871\n",
      "epoch:  4 loss:  0.007 accuracy:  0.914 test_loss:  0.013 test_accuracy:  0.84\n",
      "epoch:  5 loss:  0.007 accuracy:  0.937 test_loss:  0.014 test_accuracy:  0.827\n",
      "epoch:  6 loss:  0.01 accuracy:  0.908 test_loss:  0.013 test_accuracy:  0.876\n",
      "epoch:  7 loss:  0.007 accuracy:  0.93 test_loss:  0.011 test_accuracy:  0.898\n",
      "epoch:  8 loss:  0.009 accuracy:  0.927 test_loss:  0.012 test_accuracy:  0.898\n",
      "epoch:  9 loss:  0.007 accuracy:  0.907 test_loss:  0.011 test_accuracy:  0.898\n"
     ]
    }
   ],
   "source": [
    "epochs = 10\n",
    "train_loss = []\n",
    "train_acc = []\n",
    "test_loss = []\n",
    "test_acc = []\n",
    "for epoch in range(epochs):\n",
    "    epoch_loss, epoch_acc, test_epoch_loss, test_epoch_acc = fit(epoch, model, train_dl, test_dl)\n",
    "    train_loss.append(epoch_loss)\n",
    "    train_acc.append(epoch_acc)\n",
    "    \n",
    "    test_loss.append(test_epoch_loss)\n",
    "    test_acc.append(test_epoch_acc)"
   ]
  },
  {
   "cell_type": "code",
   "execution_count": 33,
   "id": "aa85afe7",
   "metadata": {
    "ExecuteTime": {
     "end_time": "2022-06-17T07:26:33.022851Z",
     "start_time": "2022-06-17T07:26:32.981953Z"
    }
   },
   "outputs": [],
   "source": [
    "torch.save(model.state_dict(), './my_model.pth')"
   ]
  },
  {
   "cell_type": "code",
   "execution_count": 34,
   "id": "6ff19d73",
   "metadata": {
    "ExecuteTime": {
     "end_time": "2022-06-17T07:28:05.581261Z",
     "start_time": "2022-06-17T07:28:05.536372Z"
    }
   },
   "outputs": [],
   "source": [
    "# 恢复模型\n",
    "new_model = Net()"
   ]
  },
  {
   "cell_type": "code",
   "execution_count": 35,
   "id": "7f2918f2",
   "metadata": {
    "ExecuteTime": {
     "end_time": "2022-06-17T07:28:21.633720Z",
     "start_time": "2022-06-17T07:28:21.591816Z"
    }
   },
   "outputs": [
    {
     "data": {
      "text/plain": [
       "<All keys matched successfully>"
      ]
     },
     "execution_count": 35,
     "metadata": {},
     "output_type": "execute_result"
    }
   ],
   "source": [
    "new_model.load_state_dict(torch.load('./my_model.pth'))"
   ]
  },
  {
   "cell_type": "code",
   "execution_count": 36,
   "id": "8909a1c1",
   "metadata": {
    "ExecuteTime": {
     "end_time": "2022-06-17T07:29:46.281257Z",
     "start_time": "2022-06-17T07:29:46.245339Z"
    }
   },
   "outputs": [
    {
     "data": {
      "text/plain": [
       "OrderedDict([('conv1.weight',\n",
       "              tensor([[[[-5.0490e-02, -2.3826e-02, -2.0398e-02],\n",
       "                        [-8.5173e-02, -3.1594e-02, -1.6557e-01],\n",
       "                        [-8.2005e-02,  1.6477e-01, -8.4733e-02]],\n",
       "              \n",
       "                       [[ 8.7277e-02, -7.2264e-02,  8.1555e-02],\n",
       "                        [ 4.3290e-02,  1.7002e-01, -7.0736e-02],\n",
       "                        [ 1.7102e-01, -4.7538e-03,  1.6747e-01]],\n",
       "              \n",
       "                       [[ 8.2561e-02,  4.1792e-02,  1.8187e-02],\n",
       "                        [-1.5068e-01,  3.1735e-02,  3.4933e-02],\n",
       "                        [-1.0650e-01,  1.5443e-01,  1.3766e-01]]],\n",
       "              \n",
       "              \n",
       "                      [[[ 8.4245e-02, -1.6533e-02,  1.7104e-01],\n",
       "                        [ 7.4645e-02, -4.4103e-02,  4.3816e-03],\n",
       "                        [ 3.2145e-02,  2.4146e-02, -9.0166e-02]],\n",
       "              \n",
       "                       [[ 1.6859e-01, -1.7431e-02, -1.1115e-02],\n",
       "                        [-7.0588e-02, -7.8593e-02, -1.5700e-02],\n",
       "                        [-1.5249e-01,  1.9493e-01,  1.5693e-01]],\n",
       "              \n",
       "                       [[-1.4360e-01, -1.5791e-01,  2.6255e-03],\n",
       "                        [ 2.4943e-02, -4.6961e-02, -2.0344e-02],\n",
       "                        [-6.5749e-02,  1.8130e-01, -1.8808e-01]]],\n",
       "              \n",
       "              \n",
       "                      [[[-1.7335e-01,  2.0347e-01,  9.7889e-02],\n",
       "                        [ 1.5324e-01, -1.0859e-01,  8.7696e-02],\n",
       "                        [ 3.3175e-02,  4.4461e-02, -1.5318e-01]],\n",
       "              \n",
       "                       [[ 2.0133e-01, -4.6699e-02, -4.9479e-03],\n",
       "                        [ 1.3931e-02,  1.7050e-02,  3.1261e-02],\n",
       "                        [ 1.6468e-01, -7.2180e-02,  1.9067e-01]],\n",
       "              \n",
       "                       [[-1.7677e-01,  6.2479e-02, -1.2192e-01],\n",
       "                        [-1.2311e-01, -7.2141e-02, -1.2159e-01],\n",
       "                        [-2.6166e-04, -9.3849e-02,  6.6156e-03]]],\n",
       "              \n",
       "              \n",
       "                      [[[ 1.2857e-01,  1.4046e-01,  8.0375e-02],\n",
       "                        [-1.7607e-02,  1.0990e-02, -2.0697e-02],\n",
       "                        [ 6.3722e-02,  1.0911e-01,  1.4795e-01]],\n",
       "              \n",
       "                       [[-3.3678e-02,  1.5714e-02, -2.7354e-02],\n",
       "                        [ 6.2997e-02, -1.5784e-01, -1.7393e-01],\n",
       "                        [-2.7590e-02,  2.8949e-02, -1.6474e-02]],\n",
       "              \n",
       "                       [[ 3.8794e-02, -8.7741e-02, -1.0889e-01],\n",
       "                        [-1.5423e-01, -8.4702e-02,  2.1196e-02],\n",
       "                        [-9.7505e-02, -1.0676e-01, -9.7592e-02]]],\n",
       "              \n",
       "              \n",
       "                      [[[-6.5715e-02,  4.5059e-02, -8.0131e-02],\n",
       "                        [ 1.8880e-03, -7.6329e-02, -1.4516e-01],\n",
       "                        [-1.1651e-01,  4.3548e-02, -1.4972e-01]],\n",
       "              \n",
       "                       [[-5.4065e-02,  1.0323e-02,  3.2069e-02],\n",
       "                        [-1.5258e-01, -1.1386e-01,  6.8168e-02],\n",
       "                        [ 1.3425e-01, -1.6987e-01, -1.7048e-01]],\n",
       "              \n",
       "                       [[-1.0777e-02, -1.7294e-01,  1.5597e-01],\n",
       "                        [-5.8428e-02, -3.7189e-02, -1.9165e-01],\n",
       "                        [-1.4249e-01,  2.5634e-02,  5.6026e-02]]],\n",
       "              \n",
       "              \n",
       "                      [[[-4.9079e-02, -2.4421e-02,  2.3348e-02],\n",
       "                        [ 3.2711e-02,  5.2762e-03, -1.8703e-01],\n",
       "                        [ 1.8358e-01,  5.8121e-02,  1.0068e-01]],\n",
       "              \n",
       "                       [[-9.7974e-02,  1.2634e-01,  5.1595e-04],\n",
       "                        [-1.1660e-01, -4.9529e-02, -1.3207e-01],\n",
       "                        [ 6.1550e-02,  1.2923e-01, -8.4610e-02]],\n",
       "              \n",
       "                       [[ 1.2862e-01, -9.8772e-02, -2.4772e-04],\n",
       "                        [ 1.9812e-01, -1.5041e-01,  1.5955e-01],\n",
       "                        [ 8.0391e-02, -8.7455e-02, -1.6576e-01]]],\n",
       "              \n",
       "              \n",
       "                      [[[-1.9490e-02, -6.3313e-02,  5.1248e-02],\n",
       "                        [ 1.6824e-01, -1.5308e-01,  1.2327e-01],\n",
       "                        [ 9.0029e-02,  1.2233e-01, -1.4458e-01]],\n",
       "              \n",
       "                       [[-1.8067e-01, -1.7034e-01,  4.8782e-02],\n",
       "                        [-3.5804e-02,  1.3698e-01,  2.2244e-01],\n",
       "                        [-1.7904e-01, -1.4670e-01,  1.7510e-01]],\n",
       "              \n",
       "                       [[-1.1122e-03, -1.7055e-01, -1.6370e-01],\n",
       "                        [ 6.2976e-02,  8.0262e-02, -1.2061e-01],\n",
       "                        [-1.5831e-01, -5.7060e-03,  1.3158e-01]]],\n",
       "              \n",
       "              \n",
       "                      [[[ 2.2603e-02, -1.9610e-01,  3.4531e-02],\n",
       "                        [ 5.6824e-03, -9.1104e-02,  1.1553e-01],\n",
       "                        [ 1.8289e-01,  9.4856e-02, -1.2151e-01]],\n",
       "              \n",
       "                       [[-6.2616e-02, -6.4758e-02,  3.4192e-02],\n",
       "                        [ 1.0858e-01, -7.2828e-02, -1.6883e-01],\n",
       "                        [-8.8253e-03,  9.5995e-02, -1.2335e-01]],\n",
       "              \n",
       "                       [[ 1.7601e-01, -6.3846e-02,  2.4679e-02],\n",
       "                        [-1.6759e-01,  2.0528e-01,  1.6992e-01],\n",
       "                        [ 4.5183e-02,  1.7263e-01,  1.9266e-01]]],\n",
       "              \n",
       "              \n",
       "                      [[[ 1.4728e-01,  1.2287e-01,  1.6508e-01],\n",
       "                        [-6.9923e-02,  1.8185e-01,  8.5813e-02],\n",
       "                        [ 2.3509e-02,  2.1769e-01, -3.5961e-02]],\n",
       "              \n",
       "                       [[ 1.8055e-01, -1.6686e-01, -1.5144e-01],\n",
       "                        [ 1.5107e-01, -1.3501e-01, -1.7378e-01],\n",
       "                        [-5.8380e-02, -8.0116e-02,  1.4706e-02]],\n",
       "              \n",
       "                       [[ 1.1436e-01, -2.9427e-02,  1.2682e-01],\n",
       "                        [-3.1898e-02, -6.8464e-02, -1.3337e-01],\n",
       "                        [-1.3859e-01, -7.8764e-03, -1.3253e-01]]],\n",
       "              \n",
       "              \n",
       "                      [[[-1.0802e-01,  8.8887e-02,  4.8526e-02],\n",
       "                        [ 1.6265e-01, -6.9067e-02, -2.0850e-01],\n",
       "                        [-1.6066e-01,  2.0457e-02,  6.3803e-02]],\n",
       "              \n",
       "                       [[ 2.7170e-02,  1.5809e-01, -1.2500e-01],\n",
       "                        [-5.4344e-02,  9.9233e-02,  9.3548e-03],\n",
       "                        [-1.1332e-01, -1.3148e-02,  2.0559e-01]],\n",
       "              \n",
       "                       [[ 7.3702e-02, -9.9508e-02, -7.7102e-02],\n",
       "                        [-1.8005e-01, -9.0780e-02, -2.0108e-02],\n",
       "                        [ 1.9556e-01, -1.7746e-01, -6.5855e-02]]],\n",
       "              \n",
       "              \n",
       "                      [[[ 1.5378e-01,  1.8661e-01, -1.8662e-01],\n",
       "                        [-1.0510e-01,  1.8957e-01, -2.2468e-02],\n",
       "                        [-2.0196e-02, -6.8557e-02,  9.0420e-02]],\n",
       "              \n",
       "                       [[-2.7451e-02, -1.8673e-01,  1.7221e-01],\n",
       "                        [-1.0454e-01, -1.6803e-02, -8.5773e-02],\n",
       "                        [-7.8955e-02,  6.5415e-02,  1.5469e-01]],\n",
       "              \n",
       "                       [[-2.4177e-03,  1.8049e-01,  7.7930e-02],\n",
       "                        [-7.4528e-02, -9.0479e-03, -1.6728e-01],\n",
       "                        [ 2.9687e-02, -1.9068e-01,  7.6590e-02]]],\n",
       "              \n",
       "              \n",
       "                      [[[ 1.4373e-01, -1.3563e-01, -1.0006e-01],\n",
       "                        [-1.6046e-02, -3.6971e-02,  4.5751e-02],\n",
       "                        [-1.0891e-01,  5.3033e-02, -1.5767e-01]],\n",
       "              \n",
       "                       [[ 1.9951e-01, -7.2800e-03, -1.4879e-01],\n",
       "                        [ 1.0854e-01,  6.3253e-02, -5.6923e-02],\n",
       "                        [-3.6114e-02,  1.3770e-01,  5.1066e-02]],\n",
       "              \n",
       "                       [[ 1.7906e-01,  4.5559e-02, -1.6476e-02],\n",
       "                        [-3.6790e-02, -1.0160e-01, -3.2102e-02],\n",
       "                        [ 5.8952e-02, -1.5606e-01, -2.9465e-02]]],\n",
       "              \n",
       "              \n",
       "                      [[[ 2.0909e-01,  1.1676e-01,  3.8749e-02],\n",
       "                        [-5.5123e-02,  1.9629e-01,  3.4504e-02],\n",
       "                        [ 1.0119e-01,  8.3106e-02, -6.0796e-02]],\n",
       "              \n",
       "                       [[ 7.9653e-02,  1.4236e-01,  1.4443e-01],\n",
       "                        [-6.4182e-02, -5.1137e-02, -9.4617e-02],\n",
       "                        [ 7.3237e-02, -1.3841e-01, -1.6549e-01]],\n",
       "              \n",
       "                       [[-1.3768e-01, -9.7997e-03,  2.9659e-02],\n",
       "                        [ 7.3104e-02,  6.2454e-02,  4.2842e-02],\n",
       "                        [ 3.0357e-02,  1.5397e-01, -9.3305e-02]]],\n",
       "              \n",
       "              \n",
       "                      [[[ 1.2837e-01, -1.3288e-02, -9.5955e-02],\n",
       "                        [ 2.8497e-02, -1.8102e-01,  9.2449e-02],\n",
       "                        [-8.9021e-02,  2.0905e-04, -1.8524e-03]],\n",
       "              \n",
       "                       [[-1.4845e-01,  1.2175e-01, -8.1119e-02],\n",
       "                        [ 1.0959e-01, -9.3431e-02, -6.3088e-02],\n",
       "                        [-1.9742e-01, -1.9934e-02, -1.2845e-01]],\n",
       "              \n",
       "                       [[ 2.2824e-02, -7.9061e-02, -1.6087e-01],\n",
       "                        [-1.4948e-02, -8.7012e-02, -1.9395e-01],\n",
       "                        [-5.7224e-02,  1.0378e-01, -6.4646e-02]]],\n",
       "              \n",
       "              \n",
       "                      [[[-1.8171e-01, -1.0216e-01,  3.9530e-02],\n",
       "                        [ 7.6235e-02, -1.9909e-01, -1.0613e-01],\n",
       "                        [-1.1665e-01, -1.3390e-01, -2.3638e-02]],\n",
       "              \n",
       "                       [[ 1.4123e-01, -1.3068e-01, -1.3504e-01],\n",
       "                        [-8.6146e-02, -7.2085e-02, -1.2623e-01],\n",
       "                        [-1.9737e-02, -7.0674e-02, -1.4168e-01]],\n",
       "              \n",
       "                       [[ 5.3240e-02,  1.3214e-01,  6.1462e-02],\n",
       "                        [-5.9512e-02, -1.4681e-01,  1.7519e-01],\n",
       "                        [ 1.2769e-01, -1.3165e-01, -2.5924e-03]]],\n",
       "              \n",
       "              \n",
       "                      [[[ 6.7184e-03, -9.8868e-02,  6.3603e-02],\n",
       "                        [ 1.0174e-01, -1.6977e-01,  1.3654e-02],\n",
       "                        [-1.9948e-01,  7.9114e-02, -8.6577e-02]],\n",
       "              \n",
       "                       [[-1.5431e-01, -1.1350e-01, -3.5671e-02],\n",
       "                        [-1.0008e-01, -1.3055e-01,  7.6142e-02],\n",
       "                        [-8.1719e-02, -1.0766e-02,  1.9247e-01]],\n",
       "              \n",
       "                       [[-8.6510e-02, -1.6183e-01, -5.7914e-02],\n",
       "                        [-3.7555e-02, -1.3007e-01, -9.8737e-02],\n",
       "                        [-1.9355e-01, -6.7896e-02, -1.3117e-01]]]])),\n",
       "             ('conv1.bias',\n",
       "              tensor([-0.1546,  0.1921, -0.0416,  0.0874, -0.1109,  0.0042,  0.0418,  0.0936,\n",
       "                      -0.0201,  0.1620, -0.0861, -0.1821, -0.2073,  0.1212,  0.0173,  0.1432])),\n",
       "             ('bn1.weight',\n",
       "              tensor([0.9789, 1.0196, 0.9945, 0.9938, 1.0004, 1.0261, 0.9876, 0.9787, 1.0148,\n",
       "                      0.9892, 0.9977, 1.0310, 1.0161, 0.9933, 1.0045, 0.9841])),\n",
       "             ('bn1.bias',\n",
       "              tensor([ 0.0004,  0.0090,  0.0094, -0.0158, -0.0246,  0.0683,  0.0109,  0.0024,\n",
       "                       0.0060, -0.0221,  0.0265,  0.0143, -0.0394, -0.0132, -0.0226,  0.0296])),\n",
       "             ('bn1.running_mean',\n",
       "              tensor([0.0578, 0.2338, 0.0883, 0.2701, 0.2652, 0.0374, 0.1587, 0.1931, 0.1436,\n",
       "                      0.2343, 0.0206, 0.0059, 0.0627, 0.3809, 0.3199, 0.5185])),\n",
       "             ('bn1.running_var',\n",
       "              tensor([0.0109, 0.0348, 0.0315, 0.1226, 0.1185, 0.0031, 0.0304, 0.0501, 0.0691,\n",
       "                      0.0354, 0.0026, 0.0009, 0.0153, 0.1558, 0.1296, 0.2942])),\n",
       "             ('bn1.num_batches_tracked', tensor(290)),\n",
       "             ('conv2.weight',\n",
       "              tensor([[[[ 0.0082,  0.0510,  0.0747],\n",
       "                        [ 0.0295,  0.0373, -0.0422],\n",
       "                        [ 0.0597, -0.0567,  0.0499]],\n",
       "              \n",
       "                       [[ 0.0204, -0.0858,  0.0244],\n",
       "                        [-0.0302,  0.0291, -0.0077],\n",
       "                        [-0.0627,  0.0719,  0.0598]],\n",
       "              \n",
       "                       [[ 0.0457, -0.0275, -0.0873],\n",
       "                        [-0.0802, -0.0782, -0.0932],\n",
       "                        [ 0.0531,  0.0404,  0.0399]],\n",
       "              \n",
       "                       ...,\n",
       "              \n",
       "                       [[-0.0011,  0.0939, -0.0301],\n",
       "                        [-0.0660, -0.0213, -0.0438],\n",
       "                        [ 0.0322,  0.0506, -0.0691]],\n",
       "              \n",
       "                       [[-0.0254,  0.0453,  0.0717],\n",
       "                        [ 0.0259, -0.0755, -0.0716],\n",
       "                        [ 0.0349, -0.0381, -0.0291]],\n",
       "              \n",
       "                       [[ 0.0174, -0.0712,  0.0599],\n",
       "                        [ 0.0400, -0.0655,  0.0321],\n",
       "                        [-0.0416,  0.0183, -0.0429]]],\n",
       "              \n",
       "              \n",
       "                      [[[ 0.0032,  0.0533,  0.0611],\n",
       "                        [ 0.0009,  0.0721,  0.0232],\n",
       "                        [ 0.0897,  0.0729, -0.0366]],\n",
       "              \n",
       "                       [[-0.0611, -0.0969, -0.0186],\n",
       "                        [-0.0044,  0.0582,  0.0488],\n",
       "                        [-0.0471, -0.0242,  0.0399]],\n",
       "              \n",
       "                       [[-0.0565,  0.0275, -0.0726],\n",
       "                        [-0.0733,  0.0624, -0.0257],\n",
       "                        [ 0.0670,  0.0698,  0.0390]],\n",
       "              \n",
       "                       ...,\n",
       "              \n",
       "                       [[ 0.0479,  0.0584, -0.0341],\n",
       "                        [-0.0909,  0.0108,  0.0244],\n",
       "                        [ 0.0435, -0.0173, -0.0817]],\n",
       "              \n",
       "                       [[-0.0142, -0.0511,  0.0770],\n",
       "                        [-0.0173, -0.0078,  0.0103],\n",
       "                        [ 0.0284, -0.0065, -0.0599]],\n",
       "              \n",
       "                       [[ 0.0891, -0.0719,  0.0277],\n",
       "                        [-0.0317, -0.0278, -0.0233],\n",
       "                        [-0.0364, -0.0899,  0.0379]]],\n",
       "              \n",
       "              \n",
       "                      [[[-0.0779, -0.0480,  0.0663],\n",
       "                        [-0.0344,  0.0114, -0.0322],\n",
       "                        [-0.0757,  0.0359, -0.0151]],\n",
       "              \n",
       "                       [[ 0.0904,  0.0435,  0.0331],\n",
       "                        [-0.0356, -0.0567, -0.0081],\n",
       "                        [-0.0444,  0.0121, -0.0351]],\n",
       "              \n",
       "                       [[ 0.0472, -0.0677,  0.0538],\n",
       "                        [-0.0521,  0.0139, -0.0087],\n",
       "                        [ 0.0078, -0.0872,  0.0430]],\n",
       "              \n",
       "                       ...,\n",
       "              \n",
       "                       [[-0.0383, -0.0630, -0.1039],\n",
       "                        [-0.0237, -0.0286,  0.0242],\n",
       "                        [-0.0265, -0.0339,  0.0119]],\n",
       "              \n",
       "                       [[-0.0943,  0.0089, -0.0483],\n",
       "                        [-0.0765, -0.0319, -0.0189],\n",
       "                        [-0.0789, -0.0715, -0.0362]],\n",
       "              \n",
       "                       [[ 0.0132,  0.0244,  0.0321],\n",
       "                        [-0.0650,  0.0184, -0.0865],\n",
       "                        [-0.0709,  0.0405, -0.0447]]],\n",
       "              \n",
       "              \n",
       "                      ...,\n",
       "              \n",
       "              \n",
       "                      [[[-0.0601, -0.0112,  0.0370],\n",
       "                        [-0.0455,  0.0436,  0.0434],\n",
       "                        [-0.0314,  0.0875, -0.0009]],\n",
       "              \n",
       "                       [[-0.0786,  0.0383, -0.0616],\n",
       "                        [ 0.0320,  0.0039,  0.0577],\n",
       "                        [ 0.0393,  0.0501,  0.0140]],\n",
       "              \n",
       "                       [[ 0.0859, -0.0145,  0.0391],\n",
       "                        [ 0.0064,  0.0379, -0.0271],\n",
       "                        [-0.0262, -0.0586, -0.0508]],\n",
       "              \n",
       "                       ...,\n",
       "              \n",
       "                       [[-0.0511, -0.0616,  0.0258],\n",
       "                        [ 0.0184,  0.0380, -0.0205],\n",
       "                        [ 0.0179,  0.0135,  0.0769]],\n",
       "              \n",
       "                       [[ 0.0394,  0.0405,  0.0508],\n",
       "                        [-0.0065,  0.0532, -0.0675],\n",
       "                        [-0.0062, -0.0754,  0.0805]],\n",
       "              \n",
       "                       [[-0.0392,  0.0186, -0.0049],\n",
       "                        [ 0.0676,  0.0987,  0.0214],\n",
       "                        [-0.0656, -0.0231, -0.0689]]],\n",
       "              \n",
       "              \n",
       "                      [[[-0.0119, -0.0215, -0.0247],\n",
       "                        [-0.0506,  0.0098,  0.0641],\n",
       "                        [ 0.0572, -0.0261,  0.0660]],\n",
       "              \n",
       "                       [[ 0.0251,  0.0509,  0.0025],\n",
       "                        [ 0.0878,  0.0884,  0.0193],\n",
       "                        [-0.0832, -0.0439,  0.0788]],\n",
       "              \n",
       "                       [[ 0.0046, -0.0092,  0.0890],\n",
       "                        [-0.0570,  0.0330, -0.0180],\n",
       "                        [-0.0338, -0.0073,  0.0807]],\n",
       "              \n",
       "                       ...,\n",
       "              \n",
       "                       [[-0.0866,  0.0441, -0.0441],\n",
       "                        [ 0.0523,  0.0342, -0.0279],\n",
       "                        [-0.0700, -0.0115,  0.0028]],\n",
       "              \n",
       "                       [[-0.0279,  0.0340, -0.0764],\n",
       "                        [-0.0074,  0.0280, -0.0540],\n",
       "                        [ 0.0800, -0.0374,  0.0588]],\n",
       "              \n",
       "                       [[-0.0523, -0.0668, -0.0036],\n",
       "                        [-0.0493, -0.0775,  0.0070],\n",
       "                        [ 0.0364, -0.0153, -0.0848]]],\n",
       "              \n",
       "              \n",
       "                      [[[-0.0426,  0.0031, -0.0037],\n",
       "                        [ 0.0691, -0.0821, -0.0298],\n",
       "                        [ 0.0512, -0.0662,  0.0606]],\n",
       "              \n",
       "                       [[ 0.0330, -0.0040, -0.0149],\n",
       "                        [ 0.0094,  0.0499, -0.0671],\n",
       "                        [ 0.0233, -0.0094,  0.0625]],\n",
       "              \n",
       "                       [[ 0.0096, -0.0619,  0.0355],\n",
       "                        [ 0.0040,  0.0202,  0.0392],\n",
       "                        [-0.0573, -0.0196, -0.0522]],\n",
       "              \n",
       "                       ...,\n",
       "              \n",
       "                       [[-0.0619, -0.0331,  0.0669],\n",
       "                        [ 0.0128, -0.0539,  0.0154],\n",
       "                        [ 0.0788,  0.0126, -0.0605]],\n",
       "              \n",
       "                       [[-0.0466, -0.0595, -0.0235],\n",
       "                        [ 0.0739, -0.0529, -0.0144],\n",
       "                        [ 0.0678, -0.0170,  0.0607]],\n",
       "              \n",
       "                       [[ 0.0408, -0.0748,  0.0627],\n",
       "                        [ 0.0541,  0.0427, -0.0493],\n",
       "                        [ 0.0766,  0.0217,  0.0636]]]])),\n",
       "             ('conv2.bias',\n",
       "              tensor([-0.0176,  0.0729,  0.0727,  0.0081, -0.0368,  0.0272, -0.0402,  0.0011,\n",
       "                      -0.0469, -0.0062,  0.0281, -0.1115, -0.0141,  0.0802, -0.0954,  0.0597,\n",
       "                       0.0030, -0.0255, -0.0060,  0.0702, -0.0150,  0.0604,  0.0339, -0.0478,\n",
       "                       0.0899,  0.0096,  0.0372, -0.0004, -0.0318, -0.1353, -0.0680, -0.0524])),\n",
       "             ('bn2.weight',\n",
       "              tensor([0.9662, 0.9743, 1.0156, 0.9905, 0.9728, 1.0084, 0.9960, 1.0562, 0.9790,\n",
       "                      1.0399, 0.9942, 1.0102, 0.9702, 1.0400, 0.9812, 1.0025, 1.0183, 0.9918,\n",
       "                      0.9695, 0.9586, 0.9944, 1.0096, 0.9869, 0.9824, 1.0075, 0.9772, 0.9951,\n",
       "                      1.0236, 1.0316, 1.0006, 1.0009, 0.9770])),\n",
       "             ('bn2.bias',\n",
       "              tensor([ 0.0086,  0.0119, -0.0178, -0.0127,  0.0223,  0.0077,  0.0302,  0.0036,\n",
       "                       0.0051, -0.0192, -0.0134, -0.0099,  0.0173, -0.0476, -0.0222, -0.0068,\n",
       "                       0.0022,  0.0195,  0.0190,  0.0283, -0.0214,  0.0328,  0.0383,  0.0063,\n",
       "                      -0.0081,  0.0226,  0.0636, -0.0024,  0.0137, -0.0221, -0.0110,  0.0064])),\n",
       "             ('bn2.running_mean',\n",
       "              tensor([0.3732, 0.5966, 0.7394, 0.8983, 0.3880, 0.4377, 0.3068, 0.2896, 0.3012,\n",
       "                      0.4489, 0.4155, 0.1931, 0.5879, 0.4962, 0.3427, 0.6857, 0.7665, 0.3074,\n",
       "                      0.3586, 0.3945, 0.2818, 0.6390, 0.6790, 0.3526, 0.3168, 0.5332, 0.7609,\n",
       "                      0.4421, 0.5011, 0.3120, 0.5956, 0.5261])),\n",
       "             ('bn2.running_var',\n",
       "              tensor([0.3264, 0.4457, 0.5125, 0.6950, 0.3682, 0.2673, 0.2924, 0.1604, 0.2153,\n",
       "                      0.1951, 0.1496, 0.0818, 0.7009, 0.2570, 0.3879, 1.6542, 0.6889, 0.1911,\n",
       "                      0.4628, 0.3146, 0.2196, 0.4558, 1.0498, 0.4263, 0.1355, 0.9455, 1.0897,\n",
       "                      0.1419, 0.4976, 0.2390, 1.2409, 1.1285])),\n",
       "             ('bn2.num_batches_tracked', tensor(290)),\n",
       "             ('conv3.weight',\n",
       "              tensor([[[[-5.5678e-03,  2.8079e-02,  2.7413e-02],\n",
       "                        [-3.8257e-02,  6.1477e-02,  3.2886e-02],\n",
       "                        [ 5.1415e-02, -1.9468e-03, -1.1155e-02]],\n",
       "              \n",
       "                       [[ 4.3062e-02,  1.7430e-02,  7.3002e-03],\n",
       "                        [-3.9143e-02,  3.1146e-02,  2.6795e-03],\n",
       "                        [-2.1010e-02,  4.0248e-02,  5.0429e-02]],\n",
       "              \n",
       "                       [[ 3.3235e-02,  6.8640e-02,  3.6781e-02],\n",
       "                        [-7.8770e-03,  7.8899e-02,  2.9108e-02],\n",
       "                        [-3.2011e-03, -2.2026e-02,  5.3000e-02]],\n",
       "              \n",
       "                       ...,\n",
       "              \n",
       "                       [[-2.3337e-02, -6.3909e-02,  1.6678e-02],\n",
       "                        [ 4.5662e-02, -5.8582e-02, -2.5675e-02],\n",
       "                        [-2.1507e-03, -1.8578e-02, -5.2385e-02]],\n",
       "              \n",
       "                       [[ 7.7877e-02,  1.6831e-02,  5.3674e-02],\n",
       "                        [-3.7138e-02,  2.2384e-02,  5.1878e-02],\n",
       "                        [-3.5526e-02,  4.8489e-02,  6.4761e-02]],\n",
       "              \n",
       "                       [[ 3.7623e-02,  7.3240e-02, -2.5205e-03],\n",
       "                        [ 5.0910e-02, -2.2332e-02, -3.3032e-02],\n",
       "                        [ 6.6882e-02, -1.2160e-02,  8.0450e-02]]],\n",
       "              \n",
       "              \n",
       "                      [[[-2.8841e-02,  3.1799e-02,  5.6295e-02],\n",
       "                        [-6.1416e-03, -1.0871e-03, -2.4504e-03],\n",
       "                        [ 1.9372e-02, -1.7988e-02,  4.8472e-02]],\n",
       "              \n",
       "                       [[ 4.0387e-02,  4.2654e-02, -1.4028e-02],\n",
       "                        [-4.5584e-02,  4.8001e-02, -1.5832e-02],\n",
       "                        [-2.9626e-02, -2.9681e-02, -4.5369e-03]],\n",
       "              \n",
       "                       [[-5.4151e-02,  4.5183e-02, -3.5899e-02],\n",
       "                        [ 3.7439e-02,  1.3810e-04,  3.9649e-02],\n",
       "                        [-4.6580e-02,  1.9641e-02,  1.3270e-02]],\n",
       "              \n",
       "                       ...,\n",
       "              \n",
       "                       [[-5.3050e-02,  2.2221e-02,  9.6548e-03],\n",
       "                        [ 2.6292e-02, -2.5501e-02, -7.5847e-03],\n",
       "                        [ 2.2206e-02,  3.9374e-02, -1.8707e-02]],\n",
       "              \n",
       "                       [[-2.7316e-02, -3.5043e-02,  4.0242e-02],\n",
       "                        [-1.4260e-02, -4.0050e-02,  5.2714e-02],\n",
       "                        [-8.4805e-03,  7.9022e-03,  5.8082e-02]],\n",
       "              \n",
       "                       [[ 2.1573e-02, -1.5360e-04,  1.9537e-02],\n",
       "                        [ 5.4662e-02,  5.9872e-02,  8.7654e-03],\n",
       "                        [-1.8647e-02, -3.0541e-03,  2.1737e-02]]],\n",
       "              \n",
       "              \n",
       "                      [[[-8.3743e-04,  4.6901e-02,  2.4529e-02],\n",
       "                        [-3.0896e-02,  3.9382e-02, -1.7855e-02],\n",
       "                        [-7.2803e-03,  3.0316e-02, -7.7927e-02]],\n",
       "              \n",
       "                       [[ 1.9408e-02, -4.9666e-02, -1.7241e-02],\n",
       "                        [-3.2130e-02,  2.6848e-02, -8.0186e-03],\n",
       "                        [ 2.0831e-02, -2.1617e-03,  3.9143e-02]],\n",
       "              \n",
       "                       [[ 5.8954e-03,  2.8410e-02, -1.0940e-02],\n",
       "                        [ 1.6832e-02, -4.2261e-02,  4.1212e-02],\n",
       "                        [-5.8278e-02,  2.1790e-02, -6.1062e-02]],\n",
       "              \n",
       "                       ...,\n",
       "              \n",
       "                       [[ 3.1878e-02, -1.6049e-03,  3.2707e-03],\n",
       "                        [ 3.6936e-02, -5.3190e-02, -1.7923e-02],\n",
       "                        [ 1.1361e-02, -4.3665e-02,  3.6836e-02]],\n",
       "              \n",
       "                       [[ 2.0144e-02,  4.9830e-02,  2.3977e-02],\n",
       "                        [-1.6960e-02, -2.0231e-03, -1.9149e-02],\n",
       "                        [-5.4305e-02, -3.1355e-02, -4.9374e-02]],\n",
       "              \n",
       "                       [[ 2.3174e-02, -5.6159e-03, -1.0907e-02],\n",
       "                        [ 4.4313e-02, -3.1855e-02, -6.0356e-02],\n",
       "                        [ 3.7658e-02,  1.9781e-02,  4.7113e-02]]],\n",
       "              \n",
       "              \n",
       "                      ...,\n",
       "              \n",
       "              \n",
       "                      [[[-3.5617e-02,  5.9047e-02, -6.1741e-02],\n",
       "                        [ 3.0368e-02,  6.6952e-02,  5.1122e-02],\n",
       "                        [-4.1140e-02, -2.7908e-02,  5.2941e-02]],\n",
       "              \n",
       "                       [[-4.7918e-02,  3.4129e-02, -3.5118e-02],\n",
       "                        [ 3.6256e-02, -1.8643e-02, -2.7249e-02],\n",
       "                        [ 1.7987e-02, -4.8433e-02, -1.2930e-02]],\n",
       "              \n",
       "                       [[-4.4854e-02,  1.1635e-02, -2.4037e-02],\n",
       "                        [-6.1297e-02,  2.0847e-02,  5.5460e-04],\n",
       "                        [ 7.3015e-03, -6.2099e-03,  5.6479e-03]],\n",
       "              \n",
       "                       ...,\n",
       "              \n",
       "                       [[ 1.0025e-02,  3.8103e-02,  3.4529e-03],\n",
       "                        [ 6.1824e-02, -4.6738e-02, -3.4436e-02],\n",
       "                        [ 1.7198e-02,  3.7407e-02,  5.8279e-02]],\n",
       "              \n",
       "                       [[-4.3456e-02,  4.2785e-02, -5.7323e-02],\n",
       "                        [ 1.1440e-02,  8.6395e-03, -5.5874e-02],\n",
       "                        [ 4.1454e-02, -4.1559e-02, -2.5027e-02]],\n",
       "              \n",
       "                       [[-3.6415e-02, -4.4800e-02,  3.6932e-02],\n",
       "                        [-1.3357e-02,  5.9282e-03, -2.6534e-02],\n",
       "                        [-2.9696e-03, -3.4068e-02,  1.0657e-02]]],\n",
       "              \n",
       "              \n",
       "                      [[[ 6.5179e-02,  9.9298e-03,  5.1964e-02],\n",
       "                        [ 1.4041e-02,  2.6975e-02,  2.1630e-02],\n",
       "                        [-1.9654e-02,  5.9564e-02, -1.6359e-02]],\n",
       "              \n",
       "                       [[-4.4688e-02, -2.5173e-02, -4.2171e-02],\n",
       "                        [ 3.0857e-02,  3.1837e-02,  3.6354e-02],\n",
       "                        [ 1.9980e-02,  2.8720e-02,  3.5395e-02]],\n",
       "              \n",
       "                       [[ 6.6577e-02, -3.8292e-02,  3.6503e-02],\n",
       "                        [ 5.6783e-02,  8.2548e-03,  1.8426e-02],\n",
       "                        [ 1.5574e-02,  4.2601e-02,  2.7596e-02]],\n",
       "              \n",
       "                       ...,\n",
       "              \n",
       "                       [[-3.5775e-02,  2.3706e-02,  2.2008e-03],\n",
       "                        [ 3.4453e-02, -4.8107e-02,  9.1013e-04],\n",
       "                        [ 7.4835e-03,  3.2825e-02,  2.0629e-02]],\n",
       "              \n",
       "                       [[ 2.0180e-02, -2.2844e-03,  5.1591e-02],\n",
       "                        [ 1.2578e-02,  2.6939e-02, -3.5690e-02],\n",
       "                        [ 6.9254e-02, -5.3303e-03,  2.3919e-02]],\n",
       "              \n",
       "                       [[-1.3025e-02,  1.9010e-06, -3.1045e-02],\n",
       "                        [ 2.4403e-02, -4.3265e-02, -4.4858e-02],\n",
       "                        [ 3.7695e-02, -1.8138e-02, -6.0732e-03]]],\n",
       "              \n",
       "              \n",
       "                      [[[-1.5684e-02, -2.5396e-02, -4.5112e-02],\n",
       "                        [ 5.2252e-02, -1.4591e-02,  3.1757e-02],\n",
       "                        [-1.6865e-02,  1.6874e-02,  1.2264e-02]],\n",
       "              \n",
       "                       [[ 1.5905e-03,  7.1373e-03,  4.7242e-02],\n",
       "                        [ 5.0408e-02, -6.3666e-03, -5.2460e-02],\n",
       "                        [ 4.6744e-04,  4.5209e-02, -6.0985e-02]],\n",
       "              \n",
       "                       [[ 2.8263e-02,  5.0246e-02,  1.2204e-02],\n",
       "                        [ 1.9860e-02,  4.6386e-02,  2.3584e-02],\n",
       "                        [ 4.3041e-02,  2.0397e-02, -4.3004e-02]],\n",
       "              \n",
       "                       ...,\n",
       "              \n",
       "                       [[-8.7659e-03, -6.1702e-03,  1.2436e-02],\n",
       "                        [ 3.6812e-02,  2.9402e-02,  4.4633e-02],\n",
       "                        [ 1.6779e-02,  4.8093e-02, -5.1984e-02]],\n",
       "              \n",
       "                       [[ 1.1417e-02, -1.3928e-02, -6.1335e-02],\n",
       "                        [-1.8724e-02, -2.5930e-02,  4.7519e-02],\n",
       "                        [-2.0982e-03,  6.6170e-02, -1.6940e-02]],\n",
       "              \n",
       "                       [[-8.8614e-03,  2.6636e-02, -2.3564e-02],\n",
       "                        [-2.3896e-02,  1.8758e-02, -5.4013e-02],\n",
       "                        [-5.4703e-02, -6.0453e-02,  3.0538e-02]]]])),\n",
       "             ('conv3.bias',\n",
       "              tensor([-0.0007, -0.0684, -0.0552,  0.0239,  0.0373,  0.0165,  0.0309, -0.0153,\n",
       "                      -0.0226,  0.0664,  0.0806, -0.0475,  0.0111, -0.0054, -0.0551, -0.0350,\n",
       "                       0.0520,  0.0081,  0.0666,  0.0440,  0.0333,  0.0441, -0.0739,  0.0301,\n",
       "                       0.0104,  0.0439,  0.0167,  0.0353, -0.0253, -0.0048, -0.0695, -0.0759,\n",
       "                       0.0047,  0.0424,  0.0554, -0.0090, -0.0505,  0.0291, -0.0411,  0.0281,\n",
       "                       0.0065, -0.0621, -0.0238,  0.0250, -0.0401,  0.0354, -0.0177, -0.0337,\n",
       "                      -0.0079, -0.0834, -0.0409, -0.0519,  0.0167, -0.0702,  0.0469,  0.0141,\n",
       "                      -0.0305, -0.0355, -0.0597,  0.0157,  0.0098,  0.0216, -0.0538, -0.0095])),\n",
       "             ('bn3.weight',\n",
       "              tensor([0.9596, 1.0411, 1.0270, 1.0116, 1.0043, 0.9632, 0.9533, 0.9913, 0.9847,\n",
       "                      0.9837, 1.0031, 1.1060, 0.9584, 0.9778, 0.9648, 1.0029, 1.0183, 0.9926,\n",
       "                      1.0489, 0.9891, 1.0239, 1.0162, 0.9312, 1.0296, 1.0313, 1.0136, 1.0067,\n",
       "                      1.0115, 0.9898, 1.0200, 0.9504, 1.0378, 0.9771, 1.0008, 1.0020, 0.9830,\n",
       "                      0.9871, 1.0207, 0.9859, 1.0439, 0.9528, 0.9709, 1.0226, 0.9676, 0.9755,\n",
       "                      0.9915, 0.9758, 0.9802, 0.9534, 0.9976, 0.9902, 0.9874, 0.9949, 0.9912,\n",
       "                      1.0050, 0.9912, 1.0039, 1.0082, 1.0614, 0.9500, 0.9859, 0.9820, 0.9940,\n",
       "                      1.0397])),\n",
       "             ('bn3.bias',\n",
       "              tensor([ 0.0367,  0.0607,  0.0249,  0.0277,  0.0399,  0.0654,  0.0630, -0.0282,\n",
       "                       0.0436,  0.0134, -0.0018, -0.0029,  0.0448,  0.0052,  0.0719,  0.0308,\n",
       "                      -0.0083,  0.0218,  0.0271,  0.0036,  0.0149,  0.0021,  0.0645,  0.0054,\n",
       "                      -0.0199,  0.0342,  0.0432,  0.0034,  0.0041,  0.0318,  0.0729,  0.0040,\n",
       "                      -0.0356,  0.0014,  0.0059,  0.0482, -0.0182,  0.0320,  0.0214, -0.0027,\n",
       "                       0.0671,  0.0627,  0.0044,  0.0451,  0.0582, -0.0332,  0.0276,  0.0709,\n",
       "                       0.0530, -0.0120,  0.0472,  0.0687,  0.0276,  0.0085,  0.0310, -0.0036,\n",
       "                       0.0185,  0.0226, -0.0173,  0.0475,  0.0346,  0.0144,  0.0046,  0.0365])),\n",
       "             ('bn3.running_mean',\n",
       "              tensor([0.7376, 0.7390, 0.7079, 0.5813, 0.9732, 0.7454, 0.6837, 0.5528, 0.5175,\n",
       "                      0.5276, 0.7188, 0.4339, 0.5638, 0.6587, 0.7166, 1.0301, 0.5267, 0.7578,\n",
       "                      0.5194, 0.5572, 0.7884, 0.6219, 0.8264, 0.4730, 0.5078, 1.1119, 0.5319,\n",
       "                      0.6532, 1.0047, 0.5567, 0.7172, 0.3848, 0.6741, 0.5630, 0.7476, 0.9575,\n",
       "                      0.6576, 0.7268, 0.9333, 0.8158, 0.6007, 0.7896, 0.4759, 0.8917, 0.9166,\n",
       "                      0.4531, 0.8453, 0.7103, 0.5146, 0.6552, 0.5215, 0.5467, 0.6185, 0.4428,\n",
       "                      0.7872, 0.7535, 1.0858, 0.6513, 0.5041, 0.7801, 0.6571, 0.5901, 0.4337,\n",
       "                      0.8220])),\n",
       "             ('bn3.running_var',\n",
       "              tensor([0.6528, 0.7004, 0.6887, 0.9197, 1.2038, 1.9996, 0.8553, 0.4349, 0.5165,\n",
       "                      0.3399, 0.4524, 0.3048, 0.6108, 0.9587, 1.8026, 1.0978, 0.4203, 1.1079,\n",
       "                      0.3393, 0.4139, 0.9718, 0.5027, 2.5313, 0.3520, 0.3383, 1.4562, 0.5443,\n",
       "                      0.4962, 1.5646, 0.7897, 1.7076, 0.2516, 0.8685, 0.3819, 0.4336, 0.8452,\n",
       "                      0.7923, 0.6475, 0.7068, 0.8882, 0.4789, 2.1572, 0.5231, 2.5701, 3.3421,\n",
       "                      0.5768, 1.8161, 1.2363, 0.2815, 0.8390, 1.0598, 0.4389, 0.3701, 0.4393,\n",
       "                      0.6749, 0.9053, 1.4301, 0.9074, 0.6551, 1.8669, 0.3920, 0.7390, 0.3789,\n",
       "                      0.6047])),\n",
       "             ('bn3.num_batches_tracked', tensor(290)),\n",
       "             ('fc1.weight',\n",
       "              tensor([[-0.0212, -0.0129, -0.0127,  ..., -0.0020, -0.0178, -0.0217],\n",
       "                      [-0.0056, -0.0139, -0.0195,  ...,  0.0225,  0.0078,  0.0168],\n",
       "                      [ 0.0084,  0.0127, -0.0016,  ..., -0.0046, -0.0076, -0.0162],\n",
       "                      ...,\n",
       "                      [ 0.0060, -0.0009, -0.0006,  ...,  0.0047, -0.0038, -0.0065],\n",
       "                      [-0.0031,  0.0029,  0.0228,  ...,  0.0096,  0.0086,  0.0076],\n",
       "                      [-0.0252, -0.0263, -0.0326,  ...,  0.0166,  0.0036,  0.0048]])),\n",
       "             ('fc1.bias',\n",
       "              tensor([-0.0081,  0.0103, -0.0191,  ..., -0.0142, -0.0053, -0.0143])),\n",
       "             ('bn_fc1.weight',\n",
       "              tensor([0.9788, 0.9873, 1.0186,  ..., 0.9990, 0.9848, 0.9885])),\n",
       "             ('bn_fc1.bias',\n",
       "              tensor([-0.0129,  0.0303, -0.0216,  ...,  0.0058,  0.0165, -0.0011])),\n",
       "             ('bn_fc1.running_mean',\n",
       "              tensor([2.6436, 3.1442, 1.7104,  ..., 0.9695, 2.5479, 0.7427])),\n",
       "             ('bn_fc1.running_var',\n",
       "              tensor([11.5395, 13.6581,  9.0351,  ...,  4.1442, 17.9723,  2.2685])),\n",
       "             ('bn_fc1.num_batches_tracked', tensor(290)),\n",
       "             ('fc2.weight',\n",
       "              tensor([[ 0.0210, -0.0065, -0.0008,  ..., -0.0180, -0.0429, -0.0219],\n",
       "                      [-0.0089,  0.0030,  0.0473,  ...,  0.0292, -0.0145,  0.0137],\n",
       "                      [-0.0107, -0.0084, -0.0062,  ...,  0.0151,  0.0108, -0.0130],\n",
       "                      ...,\n",
       "                      [ 0.0298,  0.0215, -0.0361,  ..., -0.0436,  0.0166,  0.0007],\n",
       "                      [ 0.0318,  0.0160,  0.0302,  ..., -0.0233, -0.0057,  0.0032],\n",
       "                      [ 0.0295, -0.0073, -0.0115,  ...,  0.0062, -0.0153,  0.0144]])),\n",
       "             ('fc2.bias',\n",
       "              tensor([ 0.0096,  0.0075, -0.0006, -0.0179, -0.0056, -0.0068,  0.0077, -0.0259,\n",
       "                      -0.0144,  0.0332,  0.0006, -0.0186,  0.0330, -0.0232, -0.0159,  0.0341,\n",
       "                       0.0041,  0.0278,  0.0207,  0.0121,  0.0150, -0.0414, -0.0202, -0.0158,\n",
       "                       0.0472, -0.0038, -0.0350,  0.0196, -0.0101, -0.0102, -0.0027,  0.0178,\n",
       "                      -0.0203,  0.0178,  0.0022, -0.0006, -0.0006,  0.0473,  0.0124,  0.0012,\n",
       "                      -0.0271, -0.0243, -0.0060,  0.0179,  0.0242, -0.0147, -0.0103, -0.0118,\n",
       "                       0.0315,  0.0208,  0.0518,  0.0089, -0.0067, -0.0125,  0.0064, -0.0188,\n",
       "                      -0.0134,  0.0034, -0.0089,  0.0214,  0.0209,  0.0142, -0.0058,  0.0088,\n",
       "                       0.0375,  0.0024, -0.0331,  0.0093,  0.0099,  0.0170,  0.0446,  0.0029,\n",
       "                       0.0276, -0.0127,  0.0203, -0.0030,  0.0409,  0.0141, -0.0061, -0.0119,\n",
       "                      -0.0138, -0.0082,  0.0174,  0.0227, -0.0024, -0.0624,  0.0018,  0.0062,\n",
       "                      -0.0451,  0.0010, -0.0073, -0.0171, -0.0106, -0.0012,  0.0129, -0.0051,\n",
       "                       0.0500, -0.0100,  0.0142, -0.0058,  0.0122, -0.0336,  0.0011, -0.0283,\n",
       "                       0.0382, -0.0091,  0.0168,  0.0066, -0.0392,  0.0528,  0.0222, -0.0062,\n",
       "                      -0.0026,  0.0282, -0.0293, -0.0413, -0.0142,  0.0337, -0.0088,  0.0217,\n",
       "                      -0.0223, -0.0423,  0.0152,  0.0014, -0.0324,  0.0226, -0.0273, -0.0286,\n",
       "                      -0.0061,  0.0208,  0.0169,  0.0285,  0.0279, -0.0294, -0.0267, -0.0116,\n",
       "                      -0.0321,  0.0149,  0.0073,  0.0138,  0.0041, -0.0480, -0.0200,  0.0247,\n",
       "                      -0.0109, -0.0026,  0.0255, -0.0384, -0.0074,  0.0136,  0.0302,  0.0004,\n",
       "                      -0.0323, -0.0120,  0.0081,  0.0347, -0.0054,  0.0175, -0.0233, -0.0053,\n",
       "                      -0.0192, -0.0384, -0.0036,  0.0079, -0.0042,  0.0437,  0.0161,  0.0408,\n",
       "                      -0.0033, -0.0286,  0.0195,  0.0286,  0.0261, -0.0232, -0.0204,  0.0273,\n",
       "                       0.0448, -0.0135,  0.0240, -0.0028,  0.0253, -0.0230,  0.0388,  0.0328,\n",
       "                      -0.0008,  0.0351, -0.0150,  0.0087,  0.0251,  0.0062,  0.0354, -0.0109,\n",
       "                       0.0017,  0.0089,  0.0286,  0.0200, -0.0101, -0.0020,  0.0176,  0.0046,\n",
       "                       0.0143,  0.0091, -0.0053, -0.0089,  0.0386,  0.0125, -0.0073,  0.0002,\n",
       "                       0.0684,  0.0245,  0.0241,  0.0004,  0.0241,  0.0395,  0.0124,  0.0395,\n",
       "                       0.0161,  0.0122,  0.0363, -0.0221, -0.0057,  0.0087, -0.0303,  0.0145,\n",
       "                      -0.0051,  0.0003,  0.0391, -0.0167, -0.0156,  0.0176, -0.0274,  0.0126,\n",
       "                      -0.0188, -0.0101, -0.0194, -0.0085, -0.0139,  0.0292, -0.0007,  0.0388,\n",
       "                      -0.0192,  0.0262,  0.0385, -0.0193,  0.0071,  0.0172,  0.0087,  0.0161,\n",
       "                       0.0417,  0.0427, -0.0277, -0.0180,  0.0058,  0.0291, -0.0174, -0.0023])),\n",
       "             ('bn_fc2.weight',\n",
       "              tensor([1.0214, 0.9965, 1.0147, 0.9901, 1.0246, 1.0154, 1.0248, 1.0234, 0.9897,\n",
       "                      0.9988, 0.9907, 0.9803, 0.9898, 0.9954, 0.9993, 0.9807, 0.9984, 0.9867,\n",
       "                      0.9843, 1.0115, 0.9852, 0.9855, 0.9977, 0.9869, 0.9845, 1.0259, 1.0063,\n",
       "                      1.0049, 0.9999, 0.9935, 1.0044, 0.9812, 0.9973, 0.9780, 1.0112, 0.9823,\n",
       "                      1.0182, 1.0042, 0.9996, 0.9850, 0.9989, 1.0214, 1.0369, 0.9833, 0.9871,\n",
       "                      0.9904, 1.0032, 0.9933, 1.0012, 1.0171, 1.0015, 0.9785, 0.9905, 0.9802,\n",
       "                      0.9922, 1.0138, 1.0151, 1.0270, 1.0165, 0.9947, 1.0119, 1.0149, 0.9839,\n",
       "                      0.9925, 1.0152, 0.9752, 0.9797, 1.0358, 1.0204, 1.0048, 0.9907, 1.0075,\n",
       "                      1.0044, 0.9757, 0.9902, 0.9885, 1.0114, 1.0271, 0.9713, 0.9854, 1.0031,\n",
       "                      0.9919, 1.0000, 0.9982, 0.9898, 1.0036, 1.0068, 0.9876, 0.9791, 0.9780,\n",
       "                      1.0112, 0.9801, 0.9955, 0.9971, 0.9825, 1.0024, 0.9955, 1.0229, 0.9834,\n",
       "                      1.0035, 0.9765, 1.0017, 0.9847, 0.9961, 0.9986, 0.9800, 1.0077, 1.0049,\n",
       "                      0.9914, 1.0229, 1.0117, 0.9954, 1.0286, 0.9966, 0.9991, 0.9793, 1.0161,\n",
       "                      0.9872, 0.9854, 0.9647, 0.9892, 1.0363, 1.0114, 0.9919, 0.9992, 0.9755,\n",
       "                      1.0021, 1.0116, 1.0009, 1.0093, 0.9985, 0.9971, 1.0072, 0.9838, 1.0209,\n",
       "                      0.9891, 0.9875, 1.0081, 1.0016, 0.9910, 1.0060, 1.0273, 1.0249, 0.9696,\n",
       "                      0.9682, 1.0078, 1.0141, 0.9954, 1.0142, 0.9959, 0.9890, 1.0162, 1.0145,\n",
       "                      0.9730, 1.0097, 0.9848, 0.9821, 1.0106, 1.0025, 0.9948, 1.0270, 1.0133,\n",
       "                      1.0128, 0.9893, 1.0128, 0.9932, 1.0026, 0.9929, 1.0467, 1.0030, 1.0189,\n",
       "                      1.0170, 0.9904, 0.9854, 1.0111, 0.9973, 0.9913, 0.9799, 1.0149, 0.9957,\n",
       "                      1.0116, 1.0048, 1.0141, 0.9686, 1.0062, 1.0314, 0.9878, 0.9992, 1.0032,\n",
       "                      1.0023, 1.0192, 1.0111, 0.9966, 1.0042, 0.9819, 0.9973, 0.9960, 0.9884,\n",
       "                      0.9841, 0.9877, 1.0102, 0.9877, 0.9870, 0.9960, 1.0173, 0.9935, 0.9913,\n",
       "                      1.0121, 1.0085, 0.9927, 0.9921, 0.9940, 1.0154, 1.0017, 0.9726, 0.9914,\n",
       "                      1.0169, 0.9696, 1.0172, 0.9688, 0.9837, 0.9985, 0.9838, 1.0205, 0.9993,\n",
       "                      1.0040, 0.9774, 0.9952, 0.9933, 0.9825, 1.0483, 0.9921, 0.9808, 0.9859,\n",
       "                      0.9924, 0.9790, 0.9941, 0.9777, 1.0082, 1.0038, 0.9835, 0.9920, 1.0137,\n",
       "                      0.9891, 1.0012, 1.0150, 1.0181, 0.9995, 0.9733, 0.9924, 0.9923, 1.0048,\n",
       "                      0.9881, 0.9792, 0.9953, 0.9851])),\n",
       "             ('bn_fc2.bias',\n",
       "              tensor([-8.3254e-03, -3.5681e-03,  4.9784e-03,  6.4946e-03, -1.0707e-02,\n",
       "                      -1.1745e-02,  2.7150e-02,  7.6138e-03, -8.2988e-03,  3.2356e-03,\n",
       "                      -3.1272e-03,  1.9957e-02,  1.2565e-02,  1.2939e-02,  2.3437e-02,\n",
       "                       1.4210e-02, -1.7990e-02,  1.7837e-02,  9.7076e-03,  3.2706e-03,\n",
       "                      -1.4534e-02,  1.0165e-02, -2.4692e-03,  6.0076e-04, -1.2507e-02,\n",
       "                      -7.1639e-03,  2.1536e-03, -8.7640e-03, -2.4010e-02, -1.7285e-02,\n",
       "                       1.1536e-03, -1.9641e-03,  1.7226e-03, -3.8935e-03, -5.0340e-03,\n",
       "                       4.0380e-03, -1.4521e-02, -1.0755e-03,  5.4599e-03, -8.3725e-03,\n",
       "                      -7.8481e-03, -1.5066e-02,  2.4721e-03, -4.9284e-03,  1.9493e-02,\n",
       "                      -2.2594e-02, -6.3106e-04,  1.4928e-02,  1.2915e-02,  1.6563e-02,\n",
       "                       6.8139e-04, -4.9807e-03, -1.1926e-03, -2.6772e-02, -2.5231e-02,\n",
       "                       1.1042e-02,  1.2297e-02,  6.9585e-03, -5.4233e-03,  1.9670e-02,\n",
       "                      -6.5666e-03, -5.1447e-03, -1.0633e-02,  1.1710e-03, -5.3755e-03,\n",
       "                       6.7780e-03, -3.3694e-02, -2.0998e-02, -2.2406e-02,  1.9425e-02,\n",
       "                       2.1157e-02, -1.5247e-02, -2.1075e-02,  1.8125e-02,  1.8231e-02,\n",
       "                      -2.0857e-02, -2.5415e-02, -4.2439e-02, -1.4483e-02, -2.2522e-02,\n",
       "                      -2.6076e-03,  5.8138e-03, -2.1757e-02, -8.1882e-03, -3.5491e-03,\n",
       "                       5.1889e-03,  1.6546e-02,  1.4438e-02, -4.9034e-03,  2.1763e-02,\n",
       "                      -1.0496e-04,  1.0859e-02, -1.6969e-02, -1.7901e-02,  1.2484e-02,\n",
       "                      -1.9130e-03,  1.4355e-03, -6.9796e-03, -1.7439e-02,  2.9756e-03,\n",
       "                       8.4467e-03, -4.8938e-03, -1.2787e-02,  7.4852e-05,  2.4080e-02,\n",
       "                      -2.7055e-02,  5.9779e-03, -5.8573e-03,  1.6720e-02, -1.8804e-02,\n",
       "                       2.0633e-02,  1.4596e-02, -8.9887e-03, -1.6113e-02,  1.5088e-02,\n",
       "                       8.0592e-03,  5.5035e-03, -1.6391e-02, -4.2388e-02, -2.2778e-02,\n",
       "                      -1.7380e-02,  2.8127e-03, -1.2427e-02, -3.9756e-03, -1.0023e-03,\n",
       "                       2.0461e-02, -2.0604e-03, -3.8739e-03,  3.4653e-03, -2.7030e-02,\n",
       "                       2.0479e-02, -7.8182e-03, -2.6920e-02,  8.0140e-03,  2.2078e-02,\n",
       "                      -2.1243e-02,  9.3797e-03,  1.4670e-02,  1.6733e-02, -3.3392e-03,\n",
       "                      -2.7370e-02, -8.9295e-03,  1.4621e-02,  1.1559e-02,  1.6500e-02,\n",
       "                       2.8593e-02, -2.8207e-02, -9.5550e-03, -7.8568e-03,  2.9347e-02,\n",
       "                       1.1268e-02, -1.8147e-02, -4.2211e-03,  9.4818e-03,  3.3316e-02,\n",
       "                       4.3010e-03, -7.5599e-03,  8.3118e-03, -5.8463e-03, -1.1947e-02,\n",
       "                       9.1927e-03,  7.6402e-03, -1.1665e-02,  1.6911e-02,  7.7184e-03,\n",
       "                       3.1677e-03,  1.4507e-02,  1.4547e-02, -2.3803e-02, -9.3734e-03,\n",
       "                       1.4111e-02, -7.5958e-03, -1.4198e-02,  1.3515e-03,  1.2150e-02,\n",
       "                      -9.7902e-03, -3.8225e-03, -2.0697e-02, -2.3489e-02, -2.7138e-04,\n",
       "                      -3.8490e-03, -9.0193e-03, -2.0395e-03,  5.5339e-03,  3.1096e-02,\n",
       "                      -2.5841e-03, -1.7182e-02, -2.6655e-03, -1.0263e-02,  6.4804e-03,\n",
       "                       1.7020e-02,  1.3535e-02, -1.4194e-02, -1.3604e-02, -2.6122e-02,\n",
       "                      -1.4787e-02, -6.8129e-03,  5.8306e-03, -3.3115e-03,  7.3667e-03,\n",
       "                       6.6521e-03, -1.1358e-02,  1.8576e-02,  5.8998e-04,  1.1990e-02,\n",
       "                       1.0720e-02,  1.2008e-05, -4.8383e-03, -9.5350e-03,  2.4718e-02,\n",
       "                       4.5949e-03, -1.4387e-02,  2.5464e-03,  4.1378e-04, -3.7105e-03,\n",
       "                       1.7344e-02,  2.1914e-02, -8.6344e-03,  2.9503e-03,  8.5950e-03,\n",
       "                      -5.4152e-03, -1.6243e-02, -1.3367e-02, -1.4218e-02,  1.8805e-02,\n",
       "                      -1.5015e-02, -3.7583e-03,  4.3223e-03, -1.5886e-02,  1.7398e-02,\n",
       "                      -3.7003e-03,  1.2951e-02,  4.3797e-03,  5.6942e-03,  2.4573e-03,\n",
       "                       6.4799e-03,  2.0318e-02,  2.2104e-02, -6.6577e-04,  1.4320e-02,\n",
       "                      -2.0613e-02,  7.9787e-03,  6.1437e-03, -2.9466e-02, -1.2135e-02,\n",
       "                       1.1052e-02, -1.7317e-02, -1.2213e-02,  2.7097e-02, -8.3341e-03,\n",
       "                      -1.4025e-02,  1.1922e-04, -2.3712e-02,  3.1811e-04, -3.8567e-03,\n",
       "                      -1.2935e-02])),\n",
       "             ('bn_fc2.running_mean',\n",
       "              tensor([1.3387, 0.9325, 1.0299, 0.9585, 0.8628, 1.0883, 1.2908, 1.1074, 1.0783,\n",
       "                      1.4224, 1.2531, 1.1377, 0.9227, 0.8685, 1.1560, 0.7155, 0.8843, 1.2075,\n",
       "                      0.9869, 1.1919, 0.9350, 0.9003, 1.1932, 1.0467, 1.4692, 0.9152, 0.7266,\n",
       "                      1.4406, 0.8128, 1.1470, 0.7646, 0.9989, 1.4983, 1.1119, 1.0210, 0.6899,\n",
       "                      1.0845, 1.2475, 1.1616, 0.9806, 0.9466, 0.7385, 1.0442, 0.7590, 0.8337,\n",
       "                      2.0698, 0.7547, 0.8099, 1.0964, 1.3340, 0.7594, 1.0208, 1.0027, 0.7343,\n",
       "                      1.0776, 0.9640, 0.9075, 1.2286, 0.7295, 1.1314, 1.4722, 1.0755, 1.1448,\n",
       "                      1.3300, 1.4246, 1.5078, 0.9866, 0.9371, 0.9159, 1.3581, 1.3394, 0.8833,\n",
       "                      1.0497, 0.5297, 0.8342, 0.7957, 0.5946, 1.1167, 0.7974, 0.9904, 1.4960,\n",
       "                      0.8737, 0.9258, 1.0467, 0.7620, 1.2445, 1.0483, 1.3960, 0.9306, 0.6935,\n",
       "                      0.6500, 1.0735, 1.1041, 0.9504, 0.9721, 0.9928, 0.7743, 1.3701, 1.0267,\n",
       "                      1.0618, 1.1749, 0.7917, 1.0810, 1.0883, 1.1451, 0.6833, 1.0906, 1.0150,\n",
       "                      0.8460, 1.5863, 1.0665, 1.1978, 1.3630, 0.8330, 0.9066, 1.0824, 0.7586,\n",
       "                      0.6851, 1.2755, 0.9614, 0.8272, 0.8871, 1.3019, 0.7600, 0.7786, 1.3323,\n",
       "                      1.2643, 0.9029, 1.2839, 0.7992, 0.8480, 1.1816, 0.7149, 1.1717, 1.1282,\n",
       "                      0.9605, 1.2355, 1.0318, 1.1187, 1.2511, 0.6654, 0.9095, 1.1351, 0.9294,\n",
       "                      0.9971, 1.3610, 1.5351, 0.6755, 1.2119, 0.7910, 1.3603, 0.9871, 0.8287,\n",
       "                      0.9394, 1.3488, 0.9507, 0.7442, 1.3660, 0.6613, 0.7983, 0.9588, 0.6647,\n",
       "                      0.9409, 0.9266, 1.1741, 1.1802, 1.3946, 0.8942, 1.1181, 1.2104, 1.1503,\n",
       "                      0.9586, 0.6757, 0.9524, 0.7821, 1.1536, 1.3818, 0.7135, 1.5962, 1.0545,\n",
       "                      1.1255, 1.2622, 0.7489, 0.6964, 1.0127, 0.9668, 1.5129, 1.2010, 1.0091,\n",
       "                      0.9741, 0.9298, 0.9394, 1.5999, 0.8207, 0.8470, 0.9802, 0.7569, 1.3020,\n",
       "                      1.1493, 0.8822, 0.8087, 1.0051, 0.9908, 1.1786, 1.2080, 1.0079, 0.7957,\n",
       "                      1.2916, 1.7347, 1.0913, 0.9056, 0.6334, 1.2734, 1.2884, 1.0041, 0.8154,\n",
       "                      1.3784, 1.2238, 1.3369, 0.9151, 0.5763, 1.0213, 1.0285, 1.3156, 1.1199,\n",
       "                      1.2005, 1.3238, 1.2103, 0.5802, 0.6661, 0.9427, 0.9027, 0.8556, 0.9657,\n",
       "                      0.8995, 0.8141, 0.9231, 1.2632, 1.2191, 1.4214, 0.8800, 0.8062, 1.5619,\n",
       "                      0.8831, 1.1461, 1.2195, 1.0623, 1.2753, 1.2031, 0.6965, 1.1655, 1.0642,\n",
       "                      1.1560, 0.9360, 0.8706, 0.8738])),\n",
       "             ('bn_fc2.running_var',\n",
       "              tensor([ 2.5289,  2.2975,  2.6519,  1.5561,  2.0642,  2.4323,  4.3004,  2.8182,\n",
       "                       3.0280,  1.6977,  2.5550,  3.1046,  1.6508,  1.2230,  2.0726,  1.4445,\n",
       "                       2.4148,  3.0259,  1.2902,  3.4607,  1.4693,  1.9442,  3.6036,  1.9180,\n",
       "                       2.9876,  1.7980,  1.2073,  2.4326,  2.1637,  1.9358,  1.4601,  2.4813,\n",
       "                       2.9158,  1.6693,  1.9097,  1.1294,  2.0188,  2.7915,  3.5700,  1.5776,\n",
       "                       1.7492,  1.8259,  3.6900,  1.8002,  1.7376, 12.9123,  1.1095,  1.3698,\n",
       "                       2.0959,  2.4453,  1.1453,  1.6652,  2.2581,  1.4811,  2.8393,  2.6248,\n",
       "                       2.3682,  3.9940,  1.5315,  2.6886,  4.8850,  2.0677,  2.4258,  2.0899,\n",
       "                       5.4340,  6.5951,  2.6067,  2.9720,  1.8143,  5.4874,  4.4170,  1.4958,\n",
       "                       1.9172,  0.7135,  2.1168,  1.2915,  0.7809,  2.9029,  1.2898,  1.9023,\n",
       "                       6.0462,  1.3251,  2.5528,  2.6493,  1.6667,  5.5695,  3.2791,  2.0342,\n",
       "                       2.5584,  0.9001,  1.0600,  4.1163,  3.5695,  1.8796,  2.0206,  1.6440,\n",
       "                       1.1181,  5.3572,  1.8133,  2.5490,  2.9436,  1.8032,  2.1859,  1.6724,\n",
       "                       2.1111,  1.1882,  3.2979,  2.2026,  1.8722,  7.2120,  2.9203,  1.8070,\n",
       "                       2.2044,  1.7966,  1.8881,  1.7567,  1.2254,  1.0606,  2.2822,  1.3523,\n",
       "                       1.6437,  2.4921,  4.4382,  1.2716,  1.8061,  6.2140,  5.2006,  1.7595,\n",
       "                       3.0551,  1.5889,  1.7193,  2.5553,  1.3425,  5.1415,  2.4692,  1.9151,\n",
       "                       4.0723,  2.2356,  2.4709,  2.5593,  0.8380,  2.3009,  2.7725,  1.2863,\n",
       "                       2.5849,  5.1523,  3.4760,  1.6497,  2.7675,  1.1036,  2.2593,  2.9096,\n",
       "                       1.5321,  1.6307,  5.1705,  1.8591,  0.9868,  5.6218,  1.6219,  1.2306,\n",
       "                       1.8421,  1.2164,  2.3416,  1.5740,  1.9354,  2.4939,  2.9833,  1.4212,\n",
       "                       3.4599,  4.1418,  3.6199,  1.7682,  1.3906,  1.6547,  1.4325,  2.6234,\n",
       "                       1.9205,  1.4070,  3.2364,  3.1979,  3.1411,  1.7594,  1.3287,  0.8896,\n",
       "                       2.1833,  2.3354,  2.4391,  3.1123,  2.0556,  1.9676,  1.7335,  1.5306,\n",
       "                       2.3988,  1.9357,  2.0013,  2.3460,  1.7264,  5.2119,  2.1193,  2.1586,\n",
       "                       1.2744,  2.2833,  1.6145,  4.0090,  3.9190,  2.2106,  1.5882,  4.6276,\n",
       "                       2.9289,  2.7625,  1.3905,  1.0252,  4.7176,  3.4376,  2.8060,  1.1047,\n",
       "                       4.1097,  1.6916,  4.6305,  2.9142,  0.7330,  2.4693,  2.7856,  3.0968,\n",
       "                       2.9492,  3.4024,  2.4191,  4.5688,  0.9461,  0.9388,  2.4655,  1.1112,\n",
       "                       1.6538,  1.7664,  1.7467,  2.4400,  1.6189,  4.4022,  2.0298,  2.8857,\n",
       "                       2.1477,  2.2252,  3.7161,  1.5584,  2.7928,  3.1890,  2.5667,  3.1892,\n",
       "                       3.5407,  0.9414,  3.3929,  3.6449,  2.4063,  2.5972,  2.7583,  1.7124])),\n",
       "             ('bn_fc2.num_batches_tracked', tensor(290)),\n",
       "             ('fc3.weight',\n",
       "              tensor([[ 0.0759, -0.0110, -0.0025,  ..., -0.0025, -0.0518, -0.0259],\n",
       "                      [ 0.0143,  0.0576,  0.0034,  ..., -0.0454,  0.0451, -0.0090],\n",
       "                      [-0.0482, -0.0111, -0.0352,  ...,  0.0403,  0.0513, -0.0612],\n",
       "                      [-0.0600,  0.0213,  0.0637,  ...,  0.0067,  0.0103, -0.0391]])),\n",
       "             ('fc3.bias', tensor([ 0.0279, -0.0214,  0.0183,  0.0223]))])"
      ]
     },
     "execution_count": 36,
     "metadata": {},
     "output_type": "execute_result"
    }
   ],
   "source": [
    "model.state_dict()"
   ]
  },
  {
   "cell_type": "code",
   "execution_count": 37,
   "id": "f94759e5",
   "metadata": {
    "ExecuteTime": {
     "end_time": "2022-06-17T07:30:12.655561Z",
     "start_time": "2022-06-17T07:30:12.636599Z"
    }
   },
   "outputs": [
    {
     "data": {
      "text/plain": [
       "Net(\n",
       "  (conv1): Conv2d(3, 16, kernel_size=(3, 3), stride=(1, 1))\n",
       "  (bn1): BatchNorm2d(16, eps=1e-05, momentum=0.1, affine=True, track_running_stats=True)\n",
       "  (pool): MaxPool2d(kernel_size=2, stride=2, padding=0, dilation=1, ceil_mode=False)\n",
       "  (conv2): Conv2d(16, 32, kernel_size=(3, 3), stride=(1, 1))\n",
       "  (bn2): BatchNorm2d(32, eps=1e-05, momentum=0.1, affine=True, track_running_stats=True)\n",
       "  (conv3): Conv2d(32, 64, kernel_size=(3, 3), stride=(1, 1))\n",
       "  (bn3): BatchNorm2d(64, eps=1e-05, momentum=0.1, affine=True, track_running_stats=True)\n",
       "  (dropout): Dropout(p=0.5, inplace=False)\n",
       "  (fc1): Linear(in_features=6400, out_features=1024, bias=True)\n",
       "  (bn_fc1): BatchNorm1d(1024, eps=1e-05, momentum=0.1, affine=True, track_running_stats=True)\n",
       "  (fc2): Linear(in_features=1024, out_features=256, bias=True)\n",
       "  (bn_fc2): BatchNorm1d(256, eps=1e-05, momentum=0.1, affine=True, track_running_stats=True)\n",
       "  (fc3): Linear(in_features=256, out_features=4, bias=True)\n",
       ")"
      ]
     },
     "execution_count": 37,
     "metadata": {},
     "output_type": "execute_result"
    }
   ],
   "source": [
    "# 把新的模型拷到GPU上, 进行测试\n",
    "new_model.to(device)"
   ]
  },
  {
   "cell_type": "code",
   "execution_count": 38,
   "id": "1b502040",
   "metadata": {
    "ExecuteTime": {
     "end_time": "2022-06-17T07:30:37.290934Z",
     "start_time": "2022-06-17T07:30:35.290022Z"
    }
   },
   "outputs": [
    {
     "name": "stdout",
     "output_type": "stream",
     "text": [
      "0.8977777777777778\n"
     ]
    }
   ],
   "source": [
    "test_correct = 0\n",
    "test_total = 0\n",
    "new_model.eval()\n",
    "with torch.no_grad():\n",
    "    for x, y in test_dl:\n",
    "        x, y = x.to(device), y.to(device)\n",
    "        y_pred = new_model(x)\n",
    "        y_pred = torch.argmax(y_pred, dim=1)\n",
    "        test_correct += (y_pred == y).sum().item()\n",
    "        test_total += y.size(0)\n",
    "        \n",
    "epoch_test_acc = test_correct / test_total\n",
    "print(epoch_test_acc)"
   ]
  },
  {
   "cell_type": "markdown",
   "id": "e7763473",
   "metadata": {},
   "source": [
    "# 保存最优参数"
   ]
  },
  {
   "cell_type": "code",
   "execution_count": 39,
   "id": "8a7225b7",
   "metadata": {
    "ExecuteTime": {
     "end_time": "2022-06-17T07:33:07.746737Z",
     "start_time": "2022-06-17T07:33:07.695859Z"
    }
   },
   "outputs": [],
   "source": [
    "model = Net()\n",
    "model.to(device)\n",
    "optimizer = torch.optim.Adam(model.parameters(), lr=0.001)"
   ]
  },
  {
   "cell_type": "code",
   "execution_count": 40,
   "id": "a5264e38",
   "metadata": {
    "ExecuteTime": {
     "end_time": "2022-06-17T07:33:15.623614Z",
     "start_time": "2022-06-17T07:33:15.608638Z"
    }
   },
   "outputs": [],
   "source": [
    "import copy"
   ]
  },
  {
   "cell_type": "code",
   "execution_count": 41,
   "id": "33948879",
   "metadata": {
    "ExecuteTime": {
     "end_time": "2022-06-17T07:39:46.721255Z",
     "start_time": "2022-06-17T07:37:56.987095Z"
    }
   },
   "outputs": [
    {
     "name": "stdout",
     "output_type": "stream",
     "text": [
      "epoch:  0 loss:  0.019 accuracy:  0.752 test_loss:  0.022 test_accuracy:  0.791\n",
      "epoch:  1 loss:  0.013 accuracy:  0.873 test_loss:  0.013 test_accuracy:  0.844\n",
      "epoch:  2 loss:  0.011 accuracy:  0.883 test_loss:  0.01 test_accuracy:  0.898\n",
      "epoch:  3 loss:  0.009 accuracy:  0.914 test_loss:  0.01 test_accuracy:  0.911\n",
      "epoch:  4 loss:  0.013 accuracy:  0.883 test_loss:  0.01 test_accuracy:  0.907\n",
      "epoch:  5 loss:  0.01 accuracy:  0.9 test_loss:  0.01 test_accuracy:  0.898\n",
      "epoch:  6 loss:  0.008 accuracy:  0.92 test_loss:  0.01 test_accuracy:  0.907\n",
      "epoch:  7 loss:  0.007 accuracy:  0.93 test_loss:  0.01 test_accuracy:  0.907\n",
      "epoch:  8 loss:  0.005 accuracy:  0.953 test_loss:  0.009 test_accuracy:  0.924\n",
      "epoch:  9 loss:  0.005 accuracy:  0.946 test_loss:  0.013 test_accuracy:  0.884\n"
     ]
    }
   ],
   "source": [
    "# 没有训练之前的初始化参数, \n",
    "best_model_weight = model.state_dict()\n",
    "\n",
    "best_acc = 0.0\n",
    "\n",
    "train_loss = []\n",
    "train_acc = []\n",
    "test_loss = []\n",
    "test_acc = []\n",
    "\n",
    "for epoch in range(epochs):\n",
    "    epoch_loss, epoch_acc, epoch_test_loss, epoch_test_acc = fit(epoch, model, train_dl, test_dl)\n",
    "    train_loss.append(epoch_loss)\n",
    "    train_acc.append(epoch_acc)\n",
    "    test_loss.append(epoch_test_loss)\n",
    "    test_acc.append(epoch_test_acc)\n",
    "    \n",
    "    if epoch_test_acc > best_acc:\n",
    "        best_acc = epoch_test_acc\n",
    "        # 更新参数\n",
    "        best_model_weight = copy.deepcopy(model.state_dict())"
   ]
  },
  {
   "cell_type": "code",
   "execution_count": 42,
   "id": "19c98139",
   "metadata": {
    "ExecuteTime": {
     "end_time": "2022-06-17T07:40:11.088588Z",
     "start_time": "2022-06-17T07:40:11.073629Z"
    }
   },
   "outputs": [
    {
     "data": {
      "text/plain": [
       "<All keys matched successfully>"
      ]
     },
     "execution_count": 42,
     "metadata": {},
     "output_type": "execute_result"
    }
   ],
   "source": [
    "# 把最好的参数加载到模型中\n",
    "model.load_state_dict(best_model_weight)"
   ]
  },
  {
   "cell_type": "markdown",
   "id": "e0e69f80",
   "metadata": {},
   "source": [
    "# 保存完整模型"
   ]
  },
  {
   "cell_type": "code",
   "execution_count": 43,
   "id": "fc66582f",
   "metadata": {
    "ExecuteTime": {
     "end_time": "2022-06-17T07:41:35.736336Z",
     "start_time": "2022-06-17T07:41:35.694434Z"
    }
   },
   "outputs": [],
   "source": [
    "torch.save(model, './my_whole_model.pth')"
   ]
  },
  {
   "cell_type": "code",
   "execution_count": 44,
   "id": "ac79e03e",
   "metadata": {
    "ExecuteTime": {
     "end_time": "2022-06-17T07:41:50.887357Z",
     "start_time": "2022-06-17T07:41:50.866388Z"
    }
   },
   "outputs": [],
   "source": [
    "new_model2 = torch.load('./my_whole_model.pth')"
   ]
  },
  {
   "cell_type": "code",
   "execution_count": 45,
   "id": "f6b5dda9",
   "metadata": {
    "ExecuteTime": {
     "end_time": "2022-06-17T07:41:56.977538Z",
     "start_time": "2022-06-17T07:41:56.938594Z"
    }
   },
   "outputs": [
    {
     "data": {
      "text/plain": [
       "OrderedDict([('conv1.weight',\n",
       "              tensor([[[[-0.1688,  0.0020,  0.0588],\n",
       "                        [-0.1473, -0.1037,  0.0517],\n",
       "                        [-0.0465,  0.0127,  0.0309]],\n",
       "              \n",
       "                       [[ 0.1539, -0.0771,  0.0568],\n",
       "                        [ 0.1002,  0.1681, -0.1553],\n",
       "                        [-0.0187,  0.0927, -0.1776]],\n",
       "              \n",
       "                       [[ 0.0468, -0.0292, -0.1084],\n",
       "                        [ 0.0622, -0.0376,  0.0757],\n",
       "                        [-0.2033, -0.1791,  0.1090]]],\n",
       "              \n",
       "              \n",
       "                      [[[ 0.1897, -0.0275,  0.2159],\n",
       "                        [ 0.0043,  0.1284, -0.0364],\n",
       "                        [-0.1094,  0.0183,  0.0899]],\n",
       "              \n",
       "                       [[-0.0385,  0.0560,  0.1802],\n",
       "                        [ 0.1124, -0.0215,  0.1594],\n",
       "                        [-0.1766,  0.0224, -0.1268]],\n",
       "              \n",
       "                       [[-0.0180, -0.0013, -0.0190],\n",
       "                        [ 0.0338, -0.1453,  0.1411],\n",
       "                        [-0.0960, -0.0510,  0.0042]]],\n",
       "              \n",
       "              \n",
       "                      [[[-0.1078, -0.0859,  0.0873],\n",
       "                        [ 0.1248, -0.1489, -0.1503],\n",
       "                        [ 0.0022,  0.1671,  0.0257]],\n",
       "              \n",
       "                       [[ 0.0629,  0.1149, -0.1679],\n",
       "                        [-0.0064, -0.0794, -0.1626],\n",
       "                        [ 0.0530, -0.1755,  0.1636]],\n",
       "              \n",
       "                       [[ 0.0060,  0.1378, -0.1168],\n",
       "                        [ 0.1231,  0.1485, -0.1536],\n",
       "                        [-0.1706,  0.1759,  0.1803]]],\n",
       "              \n",
       "              \n",
       "                      [[[-0.1618,  0.1386,  0.1134],\n",
       "                        [ 0.1570, -0.0679,  0.0121],\n",
       "                        [ 0.0127,  0.0695, -0.0659]],\n",
       "              \n",
       "                       [[ 0.1785,  0.0661,  0.1927],\n",
       "                        [ 0.1156, -0.0126, -0.1157],\n",
       "                        [-0.1699,  0.1229, -0.0766]],\n",
       "              \n",
       "                       [[-0.1428,  0.1694,  0.1492],\n",
       "                        [-0.0046, -0.0780, -0.1551],\n",
       "                        [ 0.1154,  0.0643,  0.1627]]],\n",
       "              \n",
       "              \n",
       "                      [[[-0.0355, -0.1750,  0.0330],\n",
       "                        [ 0.0764, -0.0418,  0.1098],\n",
       "                        [-0.1233, -0.1854,  0.1293]],\n",
       "              \n",
       "                       [[ 0.0722,  0.1553,  0.2007],\n",
       "                        [-0.0200,  0.1231, -0.0040],\n",
       "                        [-0.1338, -0.0958, -0.1080]],\n",
       "              \n",
       "                       [[ 0.1311,  0.0362,  0.1452],\n",
       "                        [-0.1827,  0.1689, -0.0325],\n",
       "                        [-0.1787,  0.1122, -0.1096]]],\n",
       "              \n",
       "              \n",
       "                      [[[-0.0343, -0.1244,  0.1176],\n",
       "                        [-0.1277, -0.1855,  0.0154],\n",
       "                        [-0.1883, -0.0973,  0.1398]],\n",
       "              \n",
       "                       [[-0.1130,  0.1627, -0.0596],\n",
       "                        [ 0.1381, -0.0069, -0.1938],\n",
       "                        [ 0.0801,  0.1172,  0.0220]],\n",
       "              \n",
       "                       [[ 0.1413, -0.0178,  0.1298],\n",
       "                        [-0.0967,  0.0872,  0.0950],\n",
       "                        [ 0.1627,  0.1276, -0.0800]]],\n",
       "              \n",
       "              \n",
       "                      [[[ 0.1657,  0.0642,  0.0100],\n",
       "                        [ 0.1683,  0.1753,  0.0091],\n",
       "                        [ 0.1110,  0.1483,  0.0565]],\n",
       "              \n",
       "                       [[-0.1223, -0.0098,  0.1183],\n",
       "                        [ 0.1602, -0.0226,  0.0472],\n",
       "                        [ 0.1093,  0.1683,  0.1008]],\n",
       "              \n",
       "                       [[-0.1136, -0.0720,  0.0002],\n",
       "                        [ 0.1098,  0.1351, -0.0057],\n",
       "                        [ 0.0626,  0.0521, -0.1817]]],\n",
       "              \n",
       "              \n",
       "                      [[[-0.1764, -0.1394, -0.0585],\n",
       "                        [ 0.1626,  0.0570, -0.0331],\n",
       "                        [ 0.0693,  0.0673,  0.0203]],\n",
       "              \n",
       "                       [[-0.2068, -0.0043, -0.1384],\n",
       "                        [-0.0099, -0.1336,  0.0953],\n",
       "                        [ 0.1658,  0.1736,  0.0084]],\n",
       "              \n",
       "                       [[-0.1304, -0.1092, -0.0870],\n",
       "                        [ 0.1282,  0.1471,  0.0210],\n",
       "                        [-0.1196,  0.1436,  0.1545]]],\n",
       "              \n",
       "              \n",
       "                      [[[ 0.0007,  0.0378,  0.0683],\n",
       "                        [ 0.1847, -0.1165, -0.0073],\n",
       "                        [-0.0152,  0.0345, -0.1922]],\n",
       "              \n",
       "                       [[ 0.0442, -0.1798,  0.1247],\n",
       "                        [ 0.0658,  0.0345,  0.0671],\n",
       "                        [-0.0155,  0.1088, -0.0526]],\n",
       "              \n",
       "                       [[ 0.0080, -0.0342,  0.1500],\n",
       "                        [ 0.1478,  0.0864,  0.1371],\n",
       "                        [ 0.0419,  0.0955, -0.0467]]],\n",
       "              \n",
       "              \n",
       "                      [[[ 0.1135, -0.1310, -0.1569],\n",
       "                        [ 0.0541,  0.0788, -0.0006],\n",
       "                        [ 0.1416, -0.0541, -0.1140]],\n",
       "              \n",
       "                       [[ 0.0266, -0.0606,  0.0031],\n",
       "                        [ 0.1794,  0.1040, -0.0192],\n",
       "                        [ 0.0205, -0.0948,  0.0730]],\n",
       "              \n",
       "                       [[-0.0915,  0.0066,  0.0701],\n",
       "                        [ 0.0603,  0.0706, -0.1239],\n",
       "                        [ 0.1539, -0.1648, -0.0340]]],\n",
       "              \n",
       "              \n",
       "                      [[[ 0.1047,  0.1757,  0.1389],\n",
       "                        [-0.1252, -0.0469,  0.1538],\n",
       "                        [ 0.1850,  0.0581,  0.0484]],\n",
       "              \n",
       "                       [[-0.1470, -0.1576,  0.0935],\n",
       "                        [-0.0048, -0.1532,  0.1282],\n",
       "                        [ 0.1711, -0.0582,  0.1537]],\n",
       "              \n",
       "                       [[-0.1747, -0.0159,  0.1492],\n",
       "                        [-0.0942, -0.1172, -0.0408],\n",
       "                        [-0.1525, -0.0337, -0.1321]]],\n",
       "              \n",
       "              \n",
       "                      [[[ 0.0977, -0.0302,  0.0809],\n",
       "                        [-0.0029,  0.0351, -0.0020],\n",
       "                        [ 0.1112, -0.0231, -0.1385]],\n",
       "              \n",
       "                       [[-0.1194,  0.1332, -0.0330],\n",
       "                        [-0.0776, -0.1251, -0.0249],\n",
       "                        [-0.0667, -0.1483, -0.0343]],\n",
       "              \n",
       "                       [[ 0.1034, -0.0995, -0.0004],\n",
       "                        [ 0.0321, -0.1725,  0.0030],\n",
       "                        [ 0.0413,  0.1887, -0.1392]]],\n",
       "              \n",
       "              \n",
       "                      [[[-0.1649,  0.0200, -0.1369],\n",
       "                        [-0.0916, -0.0196, -0.1433],\n",
       "                        [-0.1813,  0.1154,  0.0412]],\n",
       "              \n",
       "                       [[ 0.1596,  0.1683, -0.0733],\n",
       "                        [ 0.0129,  0.1581,  0.0767],\n",
       "                        [ 0.1427,  0.0289,  0.1619]],\n",
       "              \n",
       "                       [[ 0.0450, -0.1381,  0.1666],\n",
       "                        [-0.0378,  0.1014,  0.1709],\n",
       "                        [ 0.0992, -0.0959, -0.0014]]],\n",
       "              \n",
       "              \n",
       "                      [[[-0.0594,  0.1189,  0.1674],\n",
       "                        [-0.0840, -0.1653, -0.0211],\n",
       "                        [ 0.0800,  0.1771,  0.1646]],\n",
       "              \n",
       "                       [[-0.1133,  0.0633,  0.0143],\n",
       "                        [ 0.1355, -0.1429, -0.0075],\n",
       "                        [ 0.1645, -0.0661,  0.0949]],\n",
       "              \n",
       "                       [[ 0.0187,  0.0897,  0.1120],\n",
       "                        [ 0.1411,  0.0695, -0.0729],\n",
       "                        [-0.0714, -0.1430, -0.0064]]],\n",
       "              \n",
       "              \n",
       "                      [[[-0.1654, -0.1316,  0.0774],\n",
       "                        [-0.2025,  0.1491,  0.1386],\n",
       "                        [-0.0807,  0.1391,  0.0806]],\n",
       "              \n",
       "                       [[ 0.1019,  0.1413,  0.0500],\n",
       "                        [-0.2257, -0.1261,  0.0467],\n",
       "                        [-0.2190,  0.0327,  0.1237]],\n",
       "              \n",
       "                       [[ 0.0445,  0.1108,  0.1042],\n",
       "                        [ 0.0044, -0.0661, -0.0609],\n",
       "                        [ 0.0636, -0.1483,  0.0110]]],\n",
       "              \n",
       "              \n",
       "                      [[[-0.0179, -0.1861, -0.1698],\n",
       "                        [-0.0176,  0.0517, -0.1655],\n",
       "                        [ 0.1984,  0.0902,  0.0498]],\n",
       "              \n",
       "                       [[ 0.1276,  0.1019,  0.0128],\n",
       "                        [-0.0861,  0.0310,  0.1248],\n",
       "                        [ 0.1636, -0.2205,  0.0511]],\n",
       "              \n",
       "                       [[ 0.1278, -0.0899,  0.1095],\n",
       "                        [-0.1601, -0.1420, -0.0746],\n",
       "                        [-0.0334, -0.0899,  0.1697]]]])),\n",
       "             ('conv1.bias',\n",
       "              tensor([-0.1675, -0.0380, -0.0404, -0.1084, -0.1704, -0.1473,  0.1883, -0.1448,\n",
       "                       0.0044, -0.0800,  0.0515, -0.0120, -0.1774, -0.0209,  0.0113,  0.1319])),\n",
       "             ('bn1.weight',\n",
       "              tensor([0.9869, 1.0200, 0.9974, 0.9721, 1.0361, 1.0165, 0.9895, 1.0224, 0.9684,\n",
       "                      0.9838, 1.0147, 0.9746, 0.9854, 0.9985, 1.0090, 1.0245])),\n",
       "             ('bn1.bias',\n",
       "              tensor([-0.0300,  0.0042,  0.0108, -0.0029, -0.0045, -0.0222,  0.0055, -0.0028,\n",
       "                       0.0250,  0.0012,  0.0298, -0.0058, -0.0164,  0.0136,  0.0250,  0.0294])),\n",
       "             ('bn1.running_mean',\n",
       "              tensor([0.0386, 0.1106, 0.0394, 0.0887, 0.0106, 0.0511, 0.3668, 0.0153, 0.1456,\n",
       "                      0.0148, 0.1954, 0.1236, 0.0738, 0.1068, 0.0511, 0.1544])),\n",
       "             ('bn1.running_var',\n",
       "              tensor([0.0052, 0.0286, 0.0049, 0.0257, 0.0025, 0.0136, 0.2122, 0.0043, 0.0455,\n",
       "                      0.0019, 0.0869, 0.0193, 0.0207, 0.0259, 0.0060, 0.0049])),\n",
       "             ('bn1.num_batches_tracked', tensor(261)),\n",
       "             ('conv2.weight',\n",
       "              tensor([[[[ 0.0290, -0.0478,  0.0382],\n",
       "                        [-0.0407, -0.0648, -0.0811],\n",
       "                        [-0.0251, -0.0068, -0.0996]],\n",
       "              \n",
       "                       [[-0.1021, -0.0254, -0.0168],\n",
       "                        [-0.1039, -0.1070, -0.0655],\n",
       "                        [-0.0342, -0.0193,  0.0355]],\n",
       "              \n",
       "                       [[-0.0459,  0.0524,  0.0865],\n",
       "                        [-0.0334,  0.0586,  0.0074],\n",
       "                        [ 0.0348, -0.0293,  0.0010]],\n",
       "              \n",
       "                       ...,\n",
       "              \n",
       "                       [[-0.0101, -0.0409,  0.0279],\n",
       "                        [-0.0467, -0.0435,  0.0080],\n",
       "                        [ 0.0253, -0.0866,  0.0129]],\n",
       "              \n",
       "                       [[-0.0296,  0.0751,  0.0336],\n",
       "                        [-0.0236,  0.0608,  0.0304],\n",
       "                        [-0.1125,  0.0895,  0.0961]],\n",
       "              \n",
       "                       [[ 0.0322, -0.0801, -0.0244],\n",
       "                        [ 0.0739, -0.0317,  0.0636],\n",
       "                        [-0.0048, -0.0223, -0.0490]]],\n",
       "              \n",
       "              \n",
       "                      [[[ 0.0545, -0.0835, -0.0334],\n",
       "                        [-0.0142, -0.0365, -0.0345],\n",
       "                        [ 0.0655, -0.0342, -0.0404]],\n",
       "              \n",
       "                       [[ 0.0612, -0.0106, -0.0805],\n",
       "                        [ 0.0536, -0.0405,  0.0031],\n",
       "                        [-0.0568,  0.0725,  0.0997]],\n",
       "              \n",
       "                       [[-0.0266, -0.0506, -0.0750],\n",
       "                        [-0.0308,  0.0645, -0.0713],\n",
       "                        [ 0.0179,  0.0559, -0.0588]],\n",
       "              \n",
       "                       ...,\n",
       "              \n",
       "                       [[-0.0153, -0.0064, -0.0374],\n",
       "                        [-0.0680, -0.0447, -0.0536],\n",
       "                        [-0.0533, -0.0329, -0.0400]],\n",
       "              \n",
       "                       [[ 0.0138,  0.0625, -0.0699],\n",
       "                        [-0.0410,  0.0377, -0.0451],\n",
       "                        [-0.0727,  0.0118,  0.0140]],\n",
       "              \n",
       "                       [[ 0.0518,  0.0264,  0.0059],\n",
       "                        [ 0.0315, -0.0070, -0.0104],\n",
       "                        [ 0.0321, -0.0313,  0.0652]]],\n",
       "              \n",
       "              \n",
       "                      [[[-0.0271,  0.0449, -0.0222],\n",
       "                        [-0.0360,  0.0191, -0.0072],\n",
       "                        [ 0.0701, -0.0075, -0.0431]],\n",
       "              \n",
       "                       [[-0.0534,  0.0565,  0.0483],\n",
       "                        [-0.0315,  0.0483,  0.0858],\n",
       "                        [-0.0579, -0.0398, -0.0685]],\n",
       "              \n",
       "                       [[-0.0420, -0.0072, -0.1124],\n",
       "                        [-0.1075, -0.0766, -0.0987],\n",
       "                        [ 0.0520,  0.0250, -0.0476]],\n",
       "              \n",
       "                       ...,\n",
       "              \n",
       "                       [[ 0.0043,  0.0838, -0.0179],\n",
       "                        [-0.0393,  0.1058,  0.0777],\n",
       "                        [-0.0677, -0.0167, -0.0372]],\n",
       "              \n",
       "                       [[-0.0600,  0.0151, -0.0060],\n",
       "                        [-0.0239,  0.0202,  0.0065],\n",
       "                        [ 0.0732,  0.0574,  0.0017]],\n",
       "              \n",
       "                       [[-0.0194, -0.0499,  0.0468],\n",
       "                        [-0.0531, -0.0766, -0.0033],\n",
       "                        [-0.0060,  0.0071, -0.0648]]],\n",
       "              \n",
       "              \n",
       "                      ...,\n",
       "              \n",
       "              \n",
       "                      [[[-0.0530, -0.0883,  0.0701],\n",
       "                        [ 0.0627, -0.0057, -0.0512],\n",
       "                        [ 0.0706,  0.0384,  0.0728]],\n",
       "              \n",
       "                       [[-0.0935,  0.0448, -0.0484],\n",
       "                        [ 0.0669, -0.0280, -0.0481],\n",
       "                        [ 0.0267, -0.0051,  0.0261]],\n",
       "              \n",
       "                       [[ 0.0437, -0.0233, -0.0837],\n",
       "                        [ 0.0402, -0.0746, -0.0101],\n",
       "                        [ 0.0680, -0.0241,  0.0202]],\n",
       "              \n",
       "                       ...,\n",
       "              \n",
       "                       [[-0.0241, -0.0341,  0.0527],\n",
       "                        [-0.0851,  0.0381, -0.0064],\n",
       "                        [-0.0124, -0.0104,  0.0690]],\n",
       "              \n",
       "                       [[-0.0647,  0.0733, -0.0417],\n",
       "                        [ 0.0694,  0.0737, -0.0338],\n",
       "                        [ 0.0326,  0.0773,  0.0339]],\n",
       "              \n",
       "                       [[-0.0742, -0.0504,  0.0325],\n",
       "                        [-0.0208, -0.0138,  0.0561],\n",
       "                        [-0.0808,  0.0155, -0.0501]]],\n",
       "              \n",
       "              \n",
       "                      [[[ 0.0503, -0.0753,  0.0059],\n",
       "                        [-0.0081, -0.0579,  0.0727],\n",
       "                        [ 0.0536,  0.0557, -0.0418]],\n",
       "              \n",
       "                       [[ 0.0556,  0.0420,  0.0284],\n",
       "                        [-0.0544, -0.0782, -0.0744],\n",
       "                        [-0.0962,  0.0094,  0.0739]],\n",
       "              \n",
       "                       [[ 0.0214,  0.0386, -0.0105],\n",
       "                        [ 0.0259,  0.0685,  0.0161],\n",
       "                        [ 0.0449, -0.0593,  0.0539]],\n",
       "              \n",
       "                       ...,\n",
       "              \n",
       "                       [[ 0.0053,  0.0308,  0.0472],\n",
       "                        [-0.0171, -0.0162, -0.0412],\n",
       "                        [-0.0486,  0.0608,  0.0382]],\n",
       "              \n",
       "                       [[ 0.0397, -0.0243,  0.0474],\n",
       "                        [-0.0607,  0.0820,  0.0187],\n",
       "                        [-0.0334, -0.0824,  0.0809]],\n",
       "              \n",
       "                       [[ 0.0359, -0.0374,  0.0906],\n",
       "                        [ 0.0145,  0.0735, -0.0258],\n",
       "                        [-0.0190, -0.0228,  0.0079]]],\n",
       "              \n",
       "              \n",
       "                      [[[ 0.0744, -0.0333, -0.0354],\n",
       "                        [ 0.0429, -0.0500,  0.0728],\n",
       "                        [ 0.0778,  0.0137, -0.0459]],\n",
       "              \n",
       "                       [[-0.0654, -0.0665, -0.1023],\n",
       "                        [-0.0623, -0.0388, -0.0956],\n",
       "                        [-0.0153, -0.0669, -0.0124]],\n",
       "              \n",
       "                       [[ 0.0855,  0.0936,  0.0403],\n",
       "                        [ 0.0908,  0.0266,  0.0923],\n",
       "                        [-0.0521, -0.0305, -0.0646]],\n",
       "              \n",
       "                       ...,\n",
       "              \n",
       "                       [[ 0.0621, -0.0713, -0.0562],\n",
       "                        [-0.0634, -0.0551,  0.0549],\n",
       "                        [-0.0022, -0.0627, -0.0408]],\n",
       "              \n",
       "                       [[-0.0297, -0.0121, -0.0680],\n",
       "                        [-0.0503, -0.0258, -0.0189],\n",
       "                        [ 0.0596,  0.0718, -0.0701]],\n",
       "              \n",
       "                       [[ 0.0348,  0.0286, -0.0160],\n",
       "                        [-0.0868, -0.0313, -0.0810],\n",
       "                        [-0.0059,  0.0204,  0.0451]]]])),\n",
       "             ('conv2.bias',\n",
       "              tensor([ 0.0644, -0.0576,  0.0594, -0.0040,  0.0169,  0.0712, -0.0835, -0.0613,\n",
       "                      -0.0061,  0.0667,  0.0796, -0.0324, -0.0639, -0.0995, -0.0270, -0.0322,\n",
       "                      -0.0550, -0.0732,  0.0355, -0.0543,  0.0376,  0.0398,  0.0819, -0.0340,\n",
       "                       0.0368,  0.0281, -0.0882, -0.0191, -0.0647, -0.0807,  0.0765, -0.0005])),\n",
       "             ('bn2.weight',\n",
       "              tensor([0.9843, 0.9846, 0.9845, 0.9990, 0.9852, 1.0427, 0.9784, 1.0002, 0.9878,\n",
       "                      1.0206, 1.0001, 1.0079, 1.0090, 1.0042, 0.9956, 1.0108, 1.0063, 1.0188,\n",
       "                      0.9884, 0.9751, 1.0239, 1.0337, 0.9813, 0.9890, 0.9853, 1.0038, 1.0169,\n",
       "                      0.9787, 0.9887, 1.0242, 0.9960, 1.0085])),\n",
       "             ('bn2.bias',\n",
       "              tensor([ 0.0366,  0.0016, -0.0345, -0.0330,  0.0207,  0.0243,  0.0094, -0.0096,\n",
       "                       0.0257, -0.0305,  0.0111,  0.0350, -0.0049,  0.0170,  0.0092,  0.0503,\n",
       "                      -0.0101, -0.0343, -0.0026, -0.0065, -0.0127,  0.0162,  0.0173, -0.0062,\n",
       "                       0.0469, -0.0140, -0.0196,  0.0202,  0.0091, -0.0186, -0.0065, -0.0208])),\n",
       "             ('bn2.running_mean',\n",
       "              tensor([0.4984, 0.2895, 0.4378, 0.5491, 0.4454, 0.5170, 0.5430, 0.2923, 0.3831,\n",
       "                      0.3635, 0.4432, 0.4922, 0.5280, 0.4548, 0.5263, 0.3457, 0.2905, 0.3319,\n",
       "                      0.3798, 0.4138, 0.4557, 0.4166, 0.6359, 0.3274, 0.3561, 0.4436, 0.2653,\n",
       "                      0.4768, 0.4131, 0.2320, 0.4221, 0.5047])),\n",
       "             ('bn2.running_var',\n",
       "              tensor([0.3548, 0.2123, 0.1885, 0.2800, 0.4938, 0.3606, 0.7803, 0.1068, 0.3610,\n",
       "                      0.1880, 0.3643, 0.8521, 0.8246, 0.5088, 0.6675, 0.3358, 0.2065, 0.1251,\n",
       "                      0.2240, 0.4895, 0.1252, 0.1777, 0.7722, 0.1720, 0.2750, 0.1678, 0.1323,\n",
       "                      0.4807, 0.5231, 0.1470, 0.3768, 0.2281])),\n",
       "             ('bn2.num_batches_tracked', tensor(261)),\n",
       "             ('conv3.weight',\n",
       "              tensor([[[[-2.2165e-02, -4.0920e-02,  2.8030e-02],\n",
       "                        [-1.4663e-02, -2.6159e-02, -6.1320e-02],\n",
       "                        [ 9.0773e-03, -2.8818e-02,  3.0560e-02]],\n",
       "              \n",
       "                       [[-6.8062e-02, -1.0461e-02, -3.3756e-02],\n",
       "                        [-6.7757e-02,  4.2511e-02, -6.8005e-03],\n",
       "                        [ 3.9002e-02,  2.5459e-02,  2.9690e-02]],\n",
       "              \n",
       "                       [[-2.6999e-02, -5.3989e-02, -2.6539e-02],\n",
       "                        [-2.1880e-02, -5.3243e-02, -4.1757e-02],\n",
       "                        [ 3.0530e-02, -1.1915e-03, -5.1229e-02]],\n",
       "              \n",
       "                       ...,\n",
       "              \n",
       "                       [[-7.3201e-02, -2.8410e-02,  1.2543e-02],\n",
       "                        [-6.5624e-02, -1.7622e-02, -5.0061e-02],\n",
       "                        [ 9.4461e-03, -4.5109e-02, -2.1635e-02]],\n",
       "              \n",
       "                       [[-3.9416e-02, -4.4257e-02,  1.2092e-02],\n",
       "                        [-5.1858e-02, -4.1235e-02,  3.0560e-02],\n",
       "                        [-4.2611e-02, -4.1375e-02,  1.6225e-02]],\n",
       "              \n",
       "                       [[-4.6189e-02,  4.0022e-02, -5.4104e-02],\n",
       "                        [-3.8975e-02,  2.6231e-02,  2.8543e-03],\n",
       "                        [ 2.7899e-03,  1.4616e-02, -4.4662e-02]]],\n",
       "              \n",
       "              \n",
       "                      [[[-1.6668e-02,  2.6181e-02,  5.1664e-02],\n",
       "                        [ 3.5072e-03,  5.0833e-03, -5.0758e-02],\n",
       "                        [-5.8304e-02,  2.9184e-02,  4.0564e-02]],\n",
       "              \n",
       "                       [[-4.2022e-02, -9.2072e-03, -6.5413e-02],\n",
       "                        [-5.0891e-02, -4.8162e-02, -1.2158e-02],\n",
       "                        [-4.0838e-02, -6.2130e-02,  3.5830e-02]],\n",
       "              \n",
       "                       [[-2.4059e-02, -2.2451e-03,  5.3149e-02],\n",
       "                        [-3.8579e-02,  7.6807e-03, -6.3177e-02],\n",
       "                        [ 5.5623e-03,  9.5455e-03, -5.5306e-02]],\n",
       "              \n",
       "                       ...,\n",
       "              \n",
       "                       [[ 5.5458e-02, -2.3468e-02,  3.5527e-02],\n",
       "                        [ 3.3146e-02, -6.4646e-02, -3.7622e-02],\n",
       "                        [ 4.6129e-02, -1.5874e-02,  3.4255e-02]],\n",
       "              \n",
       "                       [[ 4.6054e-02, -1.2258e-02, -7.8345e-03],\n",
       "                        [ 8.0617e-03, -1.8030e-02, -4.3765e-02],\n",
       "                        [-8.9449e-03,  4.5129e-02,  2.0465e-02]],\n",
       "              \n",
       "                       [[ 5.1886e-02, -2.0161e-03,  3.9266e-02],\n",
       "                        [ 7.9778e-02,  7.1039e-02,  5.8150e-02],\n",
       "                        [-2.0479e-02,  5.7687e-02,  3.1571e-02]]],\n",
       "              \n",
       "              \n",
       "                      [[[ 8.2980e-02,  3.5565e-02,  1.0305e-02],\n",
       "                        [ 6.5665e-02,  1.8577e-02,  3.8926e-02],\n",
       "                        [ 1.7001e-02, -3.7301e-02,  3.8408e-02]],\n",
       "              \n",
       "                       [[ 2.3165e-02, -4.2466e-02,  3.4029e-02],\n",
       "                        [-1.7614e-02,  3.2208e-02, -4.0130e-02],\n",
       "                        [ 6.8375e-02,  2.4827e-02, -8.4563e-03]],\n",
       "              \n",
       "                       [[-1.2817e-03, -2.3928e-02,  1.1350e-02],\n",
       "                        [-1.9642e-02, -1.4419e-02,  2.4718e-02],\n",
       "                        [-4.2285e-02, -3.9697e-02,  2.1725e-02]],\n",
       "              \n",
       "                       ...,\n",
       "              \n",
       "                       [[ 4.3208e-04,  4.4246e-02, -6.9482e-03],\n",
       "                        [-3.5091e-02, -3.7241e-03, -3.0042e-02],\n",
       "                        [-1.0949e-02,  3.5065e-02, -1.9664e-02]],\n",
       "              \n",
       "                       [[ 2.2546e-02, -2.8224e-02,  5.0920e-02],\n",
       "                        [ 4.7764e-02, -6.8278e-03, -3.4035e-03],\n",
       "                        [-4.4576e-02, -3.3061e-02, -4.6917e-02]],\n",
       "              \n",
       "                       [[-4.3308e-02, -5.2571e-02,  6.2155e-02],\n",
       "                        [ 1.9499e-02,  1.6829e-02, -1.7811e-02],\n",
       "                        [-3.8126e-02, -3.1176e-02,  2.1199e-04]]],\n",
       "              \n",
       "              \n",
       "                      ...,\n",
       "              \n",
       "              \n",
       "                      [[[-2.7753e-02, -6.2421e-02, -2.8180e-02],\n",
       "                        [-4.0308e-02,  1.9714e-02, -4.2126e-02],\n",
       "                        [-3.2987e-02, -4.3027e-02,  1.0792e-02]],\n",
       "              \n",
       "                       [[ 4.9756e-02,  3.0566e-02, -2.7925e-03],\n",
       "                        [-1.0816e-02, -3.1516e-02, -2.5060e-02],\n",
       "                        [-4.8215e-02, -1.1018e-02,  4.0135e-03]],\n",
       "              \n",
       "                       [[-4.7941e-02,  1.5315e-02, -2.9735e-02],\n",
       "                        [ 1.8730e-02, -2.0968e-02,  3.5756e-02],\n",
       "                        [-1.9345e-02, -5.7565e-02,  2.4136e-02]],\n",
       "              \n",
       "                       ...,\n",
       "              \n",
       "                       [[ 5.7133e-02,  4.1681e-02,  4.7432e-02],\n",
       "                        [-2.0239e-03,  3.4655e-02, -3.3639e-02],\n",
       "                        [ 6.6844e-02,  3.5587e-02, -2.6383e-02]],\n",
       "              \n",
       "                       [[ 2.6192e-02, -2.1151e-02,  1.3586e-02],\n",
       "                        [-6.2502e-02, -1.0304e-02,  1.7096e-02],\n",
       "                        [-5.9466e-02,  3.3738e-03, -2.1688e-02]],\n",
       "              \n",
       "                       [[ 3.0872e-02, -6.2917e-02, -2.4990e-02],\n",
       "                        [-7.1939e-02, -3.0310e-02, -6.9914e-02],\n",
       "                        [-2.1462e-03, -2.6010e-02,  9.7809e-03]]],\n",
       "              \n",
       "              \n",
       "                      [[[ 7.2902e-02, -2.9658e-02,  2.4459e-02],\n",
       "                        [-2.7516e-03, -4.7267e-02, -4.7665e-02],\n",
       "                        [ 1.3521e-02,  2.8109e-02, -5.9203e-03]],\n",
       "              \n",
       "                       [[ 5.3239e-02,  4.8071e-02,  5.8222e-02],\n",
       "                        [-2.2491e-02, -1.1023e-02, -1.7026e-02],\n",
       "                        [-9.6071e-04, -5.7985e-05, -3.5508e-02]],\n",
       "              \n",
       "                       [[-5.0228e-02, -9.0065e-03,  6.5401e-03],\n",
       "                        [-4.1844e-02,  4.0716e-03, -5.6038e-02],\n",
       "                        [ 1.1811e-02,  2.6154e-02,  2.9710e-02]],\n",
       "              \n",
       "                       ...,\n",
       "              \n",
       "                       [[-1.7300e-02, -3.6779e-02, -2.9495e-02],\n",
       "                        [ 3.4386e-02, -2.5133e-02, -5.4181e-02],\n",
       "                        [-6.4059e-03, -2.4139e-02, -6.0207e-02]],\n",
       "              \n",
       "                       [[-1.3776e-02,  3.9151e-03, -9.8267e-03],\n",
       "                        [-2.4612e-02, -6.4050e-03,  4.0477e-02],\n",
       "                        [-3.4861e-02, -4.6944e-02, -2.6529e-03]],\n",
       "              \n",
       "                       [[-6.6689e-02, -1.4613e-02, -4.5430e-02],\n",
       "                        [-5.0358e-02,  2.3423e-02, -5.5565e-02],\n",
       "                        [ 5.0681e-02, -3.6864e-02, -3.8981e-02]]],\n",
       "              \n",
       "              \n",
       "                      [[[ 4.6693e-03,  3.1174e-02,  3.8768e-02],\n",
       "                        [ 4.7820e-03, -6.7720e-03, -4.4842e-03],\n",
       "                        [-3.8656e-02,  1.7794e-02, -1.2487e-02]],\n",
       "              \n",
       "                       [[-2.5326e-02,  4.9174e-02,  8.9518e-03],\n",
       "                        [ 2.8699e-02,  2.6519e-02, -1.5022e-02],\n",
       "                        [-5.3229e-02, -1.6256e-02,  3.4557e-02]],\n",
       "              \n",
       "                       [[-3.5372e-02, -5.6354e-02, -2.9574e-02],\n",
       "                        [ 2.9524e-02,  2.4020e-02,  9.8500e-03],\n",
       "                        [-3.1144e-02, -5.4605e-02, -2.3352e-02]],\n",
       "              \n",
       "                       ...,\n",
       "              \n",
       "                       [[-4.3758e-02, -6.4523e-02, -2.1392e-02],\n",
       "                        [ 7.3292e-02,  1.2407e-02,  3.0444e-02],\n",
       "                        [ 3.3840e-02,  4.5144e-02, -5.2059e-02]],\n",
       "              \n",
       "                       [[ 2.3480e-02,  7.1724e-04,  4.6265e-02],\n",
       "                        [ 5.6819e-02, -1.1926e-02,  5.7506e-02],\n",
       "                        [-3.1038e-02, -3.6547e-02,  3.2797e-02]],\n",
       "              \n",
       "                       [[-2.9775e-02, -1.6932e-02,  2.5442e-02],\n",
       "                        [-5.2877e-02, -1.0358e-02,  4.9275e-02],\n",
       "                        [-4.9939e-02, -4.8527e-02,  7.2789e-03]]]])),\n",
       "             ('conv3.bias',\n",
       "              tensor([-0.0387,  0.0445,  0.0180, -0.0900, -0.0437,  0.0552, -0.0369,  0.0179,\n",
       "                      -0.0379,  0.0755, -0.0357,  0.0401, -0.0016, -0.0586, -0.0429,  0.0232,\n",
       "                      -0.0430,  0.0523,  0.0215,  0.0147, -0.0433, -0.0137,  0.0097, -0.0552,\n",
       "                      -0.0244, -0.0239,  0.0379, -0.0388,  0.0334,  0.0337,  0.0459, -0.0053,\n",
       "                       0.0017,  0.0476, -0.0654,  0.0324, -0.0415,  0.0195, -0.0078,  0.0100,\n",
       "                      -0.0187, -0.0115,  0.0167, -0.0175, -0.0572, -0.0046, -0.0512, -0.0513,\n",
       "                       0.0287,  0.0349,  0.0101, -0.0218,  0.0111, -0.0077, -0.0780, -0.0228,\n",
       "                      -0.0068, -0.0646,  0.0547,  0.0418,  0.0067, -0.0217, -0.0216,  0.0244])),\n",
       "             ('bn3.weight',\n",
       "              tensor([0.9759, 0.9711, 0.9941, 0.9969, 0.9853, 0.9861, 1.0363, 0.9828, 1.0195,\n",
       "                      0.9986, 1.0042, 1.0128, 0.9815, 1.0014, 0.9905, 0.9680, 1.0280, 0.9762,\n",
       "                      1.0114, 0.9726, 0.9995, 1.0028, 1.0176, 0.9391, 1.0120, 0.9992, 0.9907,\n",
       "                      1.0380, 1.0163, 1.0076, 1.0027, 1.0251, 0.9825, 1.0020, 1.0387, 1.0086,\n",
       "                      0.9453, 1.0156, 1.0249, 0.9901, 0.9933, 0.9672, 0.9916, 0.9913, 0.9932,\n",
       "                      0.9670, 1.0058, 0.9961, 0.9865, 1.0091, 1.0047, 0.9950, 1.0259, 1.0238,\n",
       "                      1.0227, 1.0027, 1.0404, 0.9899, 0.9835, 0.9801, 1.0537, 0.9917, 1.0331,\n",
       "                      0.9917])),\n",
       "             ('bn3.bias',\n",
       "              tensor([-1.4990e-02,  1.9162e-02, -2.7478e-02, -1.1707e-02,  1.1234e-03,\n",
       "                      -2.4972e-02,  1.7559e-02,  1.7055e-02, -2.4691e-02,  1.3631e-02,\n",
       "                       2.5324e-02, -3.7769e-02,  4.5930e-03,  4.0440e-02,  1.8267e-02,\n",
       "                       5.1924e-03, -2.2755e-02,  5.0505e-02, -8.3578e-03,  2.9858e-02,\n",
       "                       4.2062e-03,  3.1999e-05, -5.2883e-03,  2.9358e-02, -1.4573e-03,\n",
       "                       1.7952e-02,  4.1189e-02, -2.5232e-02,  3.3442e-02, -8.5041e-03,\n",
       "                       3.8725e-03,  3.2848e-02,  7.4328e-03,  8.6171e-03,  3.1250e-02,\n",
       "                      -4.3097e-03, -2.3665e-02, -3.6118e-03, -2.9718e-02,  3.0056e-02,\n",
       "                       1.5775e-02, -2.6693e-02, -2.2177e-02,  6.4189e-03, -5.2118e-03,\n",
       "                      -1.9342e-02, -1.0261e-02,  3.8564e-02, -1.0850e-03,  1.0498e-02,\n",
       "                       3.4119e-02, -4.9082e-03,  8.1565e-04,  4.8012e-03,  4.0387e-02,\n",
       "                      -4.0667e-04, -1.3043e-02, -2.1551e-02,  7.7665e-03,  2.7108e-02,\n",
       "                      -2.0618e-03,  2.7148e-02,  2.2357e-02, -1.6995e-02])),\n",
       "             ('bn3.running_mean',\n",
       "              tensor([0.4438, 0.5309, 0.7073, 0.3646, 0.5161, 0.5251, 0.5354, 0.6956, 0.5516,\n",
       "                      0.6205, 0.5468, 0.7824, 0.8140, 0.7432, 0.4544, 0.7375, 0.4531, 0.8924,\n",
       "                      0.6405, 0.6006, 0.4795, 0.4795, 0.5398, 0.9813, 0.5140, 0.6098, 0.5712,\n",
       "                      0.5610, 0.5827, 0.5748, 0.4998, 0.5999, 0.5035, 0.6910, 0.5325, 0.4023,\n",
       "                      0.5094, 0.5821, 0.4481, 0.7418, 0.4326, 0.5225, 0.5438, 0.5179, 0.5104,\n",
       "                      0.5652, 0.4351, 0.7679, 0.9342, 0.5505, 0.8495, 0.4990, 0.4691, 0.6776,\n",
       "                      0.7110, 0.4108, 0.5228, 0.6172, 0.7034, 0.5290, 0.4788, 0.7199, 0.5345,\n",
       "                      0.4760])),\n",
       "             ('bn3.running_var',\n",
       "              tensor([0.3561, 0.5070, 0.4498, 0.2507, 0.6276, 0.6233, 0.6324, 1.0958, 0.5599,\n",
       "                      0.5928, 0.5945, 0.6838, 0.6358, 1.3440, 0.4794, 1.1547, 0.4232, 1.5206,\n",
       "                      0.4521, 0.6002, 0.2015, 0.3174, 0.3723, 1.8250, 0.3423, 0.7840, 0.7442,\n",
       "                      0.4218, 0.6117, 0.5959, 0.4396, 0.5541, 0.5670, 1.0926, 0.4752, 0.2891,\n",
       "                      0.8499, 0.4018, 0.4197, 1.4747, 0.4739, 0.3599, 0.6351, 0.5747, 0.4502,\n",
       "                      0.9018, 0.4151, 1.1793, 1.8800, 0.3225, 1.3536, 0.2631, 0.4642, 1.2178,\n",
       "                      1.5160, 0.2231, 0.3046, 0.4882, 0.5529, 0.4353, 0.3669, 1.0032, 0.3664,\n",
       "                      0.2675])),\n",
       "             ('bn3.num_batches_tracked', tensor(261)),\n",
       "             ('fc1.weight',\n",
       "              tensor([[ 0.0063, -0.0041,  0.0042,  ...,  0.0036, -0.0103, -0.0038],\n",
       "                      [-0.0003, -0.0043,  0.0078,  ...,  0.0285,  0.0191,  0.0154],\n",
       "                      [-0.0254, -0.0004, -0.0176,  ...,  0.0110,  0.0139,  0.0117],\n",
       "                      ...,\n",
       "                      [-0.0208, -0.0071, -0.0203,  ..., -0.0094,  0.0067, -0.0068],\n",
       "                      [ 0.0116,  0.0112,  0.0072,  ..., -0.0178, -0.0294, -0.0040],\n",
       "                      [-0.0166, -0.0062, -0.0316,  ..., -0.0267, -0.0076,  0.0002]])),\n",
       "             ('fc1.bias',\n",
       "              tensor([-0.0139,  0.0191, -0.0014,  ..., -0.0065, -0.0061,  0.0229])),\n",
       "             ('bn_fc1.weight',\n",
       "              tensor([0.9906, 0.9980, 0.9985,  ..., 1.0126, 0.9979, 0.9931])),\n",
       "             ('bn_fc1.bias',\n",
       "              tensor([ 0.0023, -0.0287,  0.0058,  ..., -0.0210, -0.0183,  0.0024])),\n",
       "             ('bn_fc1.running_mean',\n",
       "              tensor([2.6877, 2.4866, 2.5222,  ..., 3.5318, 5.4016, 3.6115])),\n",
       "             ('bn_fc1.running_var',\n",
       "              tensor([21.6409,  6.1265, 13.3662,  ..., 30.3119, 65.6622, 19.9596])),\n",
       "             ('bn_fc1.num_batches_tracked', tensor(261)),\n",
       "             ('fc2.weight',\n",
       "              tensor([[-0.0374,  0.0311,  0.0311,  ...,  0.0048, -0.0202, -0.0062],\n",
       "                      [ 0.0422, -0.0580,  0.0396,  ...,  0.0262,  0.0125, -0.0041],\n",
       "                      [ 0.0213, -0.0091, -0.0144,  ...,  0.0037, -0.0165, -0.0093],\n",
       "                      ...,\n",
       "                      [-0.0029,  0.0267,  0.0328,  ..., -0.0012,  0.0082,  0.0007],\n",
       "                      [ 0.0257,  0.0301,  0.0084,  ...,  0.0046,  0.0301, -0.0211],\n",
       "                      [ 0.0079,  0.0063, -0.0119,  ..., -0.0041,  0.0064,  0.0239]])),\n",
       "             ('fc2.bias',\n",
       "              tensor([ 0.0299, -0.0161,  0.0023,  0.0268,  0.0111,  0.0216,  0.0404, -0.0004,\n",
       "                       0.0372, -0.0053,  0.0046,  0.0041,  0.0106, -0.0242,  0.0013, -0.0047,\n",
       "                      -0.0091,  0.0199,  0.0087,  0.0187, -0.0341,  0.0087,  0.0028, -0.0175,\n",
       "                      -0.0173,  0.0276,  0.0149, -0.0202, -0.0317,  0.0525, -0.0203,  0.0150,\n",
       "                       0.0098,  0.0136,  0.0354,  0.0356,  0.0516, -0.0057, -0.0013,  0.0435,\n",
       "                      -0.0121,  0.0478,  0.0237, -0.0187, -0.0084,  0.0145,  0.0291, -0.0447,\n",
       "                       0.0137,  0.0033, -0.0079, -0.0427, -0.0183,  0.0127, -0.0071, -0.0374,\n",
       "                      -0.0193,  0.0244, -0.0336,  0.0185, -0.0014,  0.0105, -0.0120, -0.0341,\n",
       "                      -0.0011,  0.0168,  0.0262,  0.0111,  0.0160, -0.0278,  0.0235,  0.0376,\n",
       "                       0.0576, -0.0108,  0.0133, -0.0365, -0.0345, -0.0134,  0.0016,  0.0422,\n",
       "                       0.0254,  0.0231,  0.0063, -0.0106,  0.0142, -0.0163, -0.0148,  0.0102,\n",
       "                      -0.0093,  0.0332,  0.0434,  0.0108, -0.0043, -0.0259, -0.0145,  0.0100,\n",
       "                       0.0404,  0.0157,  0.0137,  0.0173,  0.0471, -0.0096, -0.0132, -0.0059,\n",
       "                       0.0519, -0.0074, -0.0217, -0.0049, -0.0217,  0.0102,  0.0108, -0.0195,\n",
       "                       0.0119,  0.0177, -0.0255, -0.0396, -0.0217,  0.0372, -0.0153,  0.0278,\n",
       "                       0.0349,  0.0195,  0.0162, -0.0078,  0.0288,  0.0222, -0.0038,  0.0044,\n",
       "                       0.0617,  0.0122, -0.0356, -0.0249,  0.0272, -0.0016, -0.0401, -0.0130,\n",
       "                       0.0212, -0.0011, -0.0148,  0.0159,  0.0235, -0.0056, -0.0300,  0.0346,\n",
       "                      -0.0196,  0.0064,  0.0147, -0.0280,  0.0020,  0.0164,  0.0351,  0.0192,\n",
       "                      -0.0285, -0.0006,  0.0394, -0.0088, -0.0139,  0.0174,  0.0197, -0.0329,\n",
       "                       0.0201,  0.0314,  0.0015, -0.0236,  0.0147, -0.0041,  0.0195,  0.0392,\n",
       "                      -0.0264, -0.0165,  0.0043,  0.0032,  0.0078, -0.0424, -0.0127, -0.0123,\n",
       "                       0.0201,  0.0381,  0.0051, -0.0031,  0.0104,  0.0461,  0.0021, -0.0277,\n",
       "                      -0.0138,  0.0251,  0.0234,  0.0154, -0.0174,  0.0432, -0.0151,  0.0329,\n",
       "                       0.0170,  0.0380,  0.0392,  0.0418, -0.0246,  0.0036, -0.0031,  0.0048,\n",
       "                       0.0289,  0.0048, -0.0327, -0.0022,  0.0066, -0.0175,  0.0031,  0.0116,\n",
       "                       0.0284,  0.0250, -0.0071, -0.0148, -0.0237, -0.0086,  0.0129, -0.0068,\n",
       "                      -0.0012,  0.0281, -0.0023, -0.0150, -0.0082,  0.0135,  0.0297,  0.0180,\n",
       "                      -0.0085,  0.0246,  0.0220,  0.0352, -0.0133,  0.0047, -0.0204,  0.0287,\n",
       "                       0.0028,  0.0123, -0.0113, -0.0074,  0.0082,  0.0211,  0.0134,  0.0343,\n",
       "                      -0.0034,  0.0233,  0.0178,  0.0211, -0.0182,  0.0215,  0.0248,  0.0049,\n",
       "                       0.0293, -0.0007, -0.0320,  0.0224,  0.0212,  0.0273, -0.0007,  0.0113])),\n",
       "             ('bn_fc2.weight',\n",
       "              tensor([1.0288, 1.0133, 0.9887, 1.0023, 1.0122, 0.9909, 1.0266, 0.9956, 0.9738,\n",
       "                      0.9882, 1.0287, 1.0052, 0.9846, 1.0056, 0.9842, 0.9761, 0.9878, 0.9774,\n",
       "                      1.0047, 0.9806, 1.0128, 1.0022, 1.0068, 0.9807, 0.9952, 0.9994, 1.0257,\n",
       "                      0.9944, 0.9909, 1.0006, 1.0085, 1.0025, 0.9951, 1.0079, 1.0037, 1.0095,\n",
       "                      0.9920, 0.9971, 1.0223, 1.0162, 1.0052, 1.0093, 1.0057, 0.9761, 0.9781,\n",
       "                      0.9772, 0.9988, 0.9914, 0.9992, 1.0270, 1.0054, 0.9889, 0.9931, 1.0219,\n",
       "                      0.9871, 0.9881, 0.9902, 0.9910, 1.0079, 1.0273, 0.9916, 1.0005, 1.0056,\n",
       "                      1.0037, 1.0027, 1.0298, 0.9802, 0.9813, 1.0067, 0.9849, 1.0224, 0.9806,\n",
       "                      0.9989, 0.9947, 1.0013, 0.9904, 1.0107, 1.0000, 0.9843, 1.0133, 0.9972,\n",
       "                      1.0064, 1.0049, 0.9971, 1.0037, 1.0084, 0.9840, 0.9890, 0.9896, 0.9820,\n",
       "                      1.0064, 0.9916, 0.9914, 1.0036, 0.9872, 1.0101, 0.9827, 0.9845, 1.0088,\n",
       "                      0.9936, 1.0027, 0.9956, 0.9922, 1.0024, 0.9964, 1.0035, 1.0185, 0.9866,\n",
       "                      0.9872, 1.0210, 1.0074, 0.9949, 1.0001, 0.9880, 0.9984, 1.0237, 1.0160,\n",
       "                      0.9958, 1.0167, 1.0150, 1.0113, 1.0058, 0.9935, 0.9989, 0.9834, 0.9824,\n",
       "                      1.0038, 1.0119, 0.9927, 1.0170, 0.9978, 0.9919, 1.0136, 1.0096, 0.9964,\n",
       "                      1.0132, 1.0027, 1.0059, 1.0062, 1.0190, 0.9917, 1.0333, 1.0091, 0.9775,\n",
       "                      1.0001, 0.9974, 1.0132, 0.9808, 1.0158, 0.9829, 1.0165, 0.9862, 1.0173,\n",
       "                      1.0167, 1.0042, 0.9790, 1.0170, 1.0052, 0.9936, 0.9849, 0.9988, 1.0046,\n",
       "                      1.0049, 0.9865, 0.9943, 1.0258, 0.9997, 0.9908, 1.0066, 1.0058, 0.9816,\n",
       "                      1.0276, 1.0214, 1.0083, 1.0064, 1.0010, 1.0070, 0.9914, 1.0133, 0.9698,\n",
       "                      0.9912, 1.0077, 1.0125, 1.0023, 1.0152, 0.9927, 1.0053, 1.0047, 0.9889,\n",
       "                      0.9946, 0.9939, 1.0036, 0.9947, 1.0071, 1.0106, 1.0006, 0.9947, 0.9863,\n",
       "                      0.9824, 0.9934, 0.9874, 1.0144, 1.0114, 0.9762, 1.0140, 0.9708, 0.9776,\n",
       "                      1.0270, 1.0073, 1.0019, 0.9861, 0.9837, 1.0009, 0.9904, 1.0039, 0.9886,\n",
       "                      1.0059, 0.9968, 0.9893, 1.0043, 1.0268, 1.0204, 0.9955, 1.0346, 1.0145,\n",
       "                      0.9825, 0.9894, 1.0251, 1.0275, 0.9877, 1.0048, 1.0147, 0.9797, 0.9835,\n",
       "                      0.9803, 1.0211, 1.0162, 1.0028, 0.9766, 1.0093, 0.9934, 0.9904, 1.0269,\n",
       "                      0.9785, 0.9971, 1.0133, 0.9904, 0.9953, 1.0045, 1.0071, 1.0093, 0.9986,\n",
       "                      1.0073, 1.0046, 1.0315, 1.0162])),\n",
       "             ('bn_fc2.bias',\n",
       "              tensor([ 0.0292, -0.0025,  0.0120,  0.0337,  0.0083, -0.0018,  0.0227, -0.0210,\n",
       "                       0.0149,  0.0086,  0.0174, -0.0307,  0.0108, -0.0260,  0.0162, -0.0166,\n",
       "                       0.0176,  0.0010,  0.0043,  0.0304,  0.0130,  0.0045, -0.0155,  0.0084,\n",
       "                       0.0102,  0.0202, -0.0167, -0.0138, -0.0165, -0.0121, -0.0008, -0.0077,\n",
       "                       0.0165,  0.0301, -0.0063,  0.0066,  0.0110,  0.0233, -0.0133, -0.0250,\n",
       "                       0.0098, -0.0170, -0.0101,  0.0217,  0.0079,  0.0272,  0.0281, -0.0192,\n",
       "                      -0.0309, -0.0006,  0.0217, -0.0035, -0.0146,  0.0100,  0.0151, -0.0078,\n",
       "                      -0.0282, -0.0132,  0.0223, -0.0049,  0.0097, -0.0230,  0.0085,  0.0139,\n",
       "                      -0.0035, -0.0184,  0.0266, -0.0044, -0.0021,  0.0150, -0.0169, -0.0121,\n",
       "                      -0.0115, -0.0061, -0.0088, -0.0129, -0.0123, -0.0259,  0.0076,  0.0292,\n",
       "                       0.0041, -0.0025, -0.0143,  0.0109, -0.0012, -0.0129,  0.0079, -0.0079,\n",
       "                       0.0250,  0.0320,  0.0042,  0.0120,  0.0040,  0.0046,  0.0252, -0.0161,\n",
       "                       0.0091, -0.0082, -0.0281,  0.0168,  0.0186, -0.0307,  0.0043, -0.0112,\n",
       "                       0.0219, -0.0130, -0.0165,  0.0262,  0.0085, -0.0082,  0.0094,  0.0092,\n",
       "                       0.0102, -0.0167, -0.0078,  0.0049,  0.0045,  0.0238,  0.0171, -0.0143,\n",
       "                      -0.0272, -0.0194,  0.0026, -0.0190, -0.0015,  0.0194, -0.0110,  0.0313,\n",
       "                      -0.0012, -0.0101, -0.0248, -0.0156,  0.0025, -0.0091, -0.0088, -0.0140,\n",
       "                      -0.0060, -0.0104,  0.0038, -0.0229, -0.0091, -0.0098, -0.0104, -0.0038,\n",
       "                       0.0033,  0.0250,  0.0283, -0.0018,  0.0091,  0.0193,  0.0039,  0.0248,\n",
       "                      -0.0167,  0.0061,  0.0024, -0.0179,  0.0098, -0.0122,  0.0176,  0.0066,\n",
       "                      -0.0042,  0.0297, -0.0237, -0.0096,  0.0262, -0.0135, -0.0077,  0.0171,\n",
       "                       0.0074,  0.0336,  0.0252, -0.0233, -0.0092, -0.0155,  0.0239,  0.0188,\n",
       "                      -0.0037, -0.0004, -0.0070,  0.0167, -0.0125,  0.0198, -0.0027,  0.0079,\n",
       "                       0.0106, -0.0024, -0.0167,  0.0032, -0.0014, -0.0002, -0.0164,  0.0266,\n",
       "                      -0.0273,  0.0185, -0.0074,  0.0064,  0.0207, -0.0092,  0.0130, -0.0113,\n",
       "                      -0.0204, -0.0196, -0.0212, -0.0117, -0.0257,  0.0123, -0.0030,  0.0075,\n",
       "                      -0.0091, -0.0074,  0.0124, -0.0069,  0.0003, -0.0149, -0.0134,  0.0223,\n",
       "                      -0.0016, -0.0211, -0.0048, -0.0100,  0.0051,  0.0274, -0.0071,  0.0012,\n",
       "                      -0.0196,  0.0117,  0.0122,  0.0068, -0.0171,  0.0110,  0.0046,  0.0139,\n",
       "                       0.0064,  0.0091,  0.0153, -0.0078, -0.0131,  0.0259,  0.0102,  0.0031,\n",
       "                      -0.0017,  0.0215, -0.0111,  0.0236,  0.0054, -0.0242,  0.0009,  0.0030,\n",
       "                      -0.0109,  0.0013, -0.0049,  0.0219,  0.0186, -0.0032,  0.0194,  0.0110])),\n",
       "             ('bn_fc2.running_mean',\n",
       "              tensor([1.2880, 0.7718, 0.9324, 1.2578, 1.0865, 1.2560, 1.0909, 1.6817, 0.6528,\n",
       "                      0.6077, 0.8108, 1.2454, 1.0054, 1.1758, 0.7915, 0.4927, 0.9699, 1.3441,\n",
       "                      1.4820, 0.8767, 1.0409, 1.0556, 0.8557, 1.4635, 0.9481, 0.8109, 0.6385,\n",
       "                      1.1803, 0.8628, 1.2947, 0.7846, 1.8258, 1.0673, 1.0656, 1.5314, 1.4630,\n",
       "                      1.1283, 0.7281, 0.7363, 1.2867, 1.4553, 1.2235, 1.1116, 1.0298, 0.6458,\n",
       "                      0.8425, 0.7372, 1.2636, 0.7799, 1.0254, 1.4937, 0.9862, 1.0153, 1.2218,\n",
       "                      1.3981, 1.0629, 1.0732, 0.7959, 1.1883, 1.1902, 1.2760, 1.0287, 0.7613,\n",
       "                      0.7378, 1.0226, 1.0412, 0.8523, 0.8906, 1.2599, 1.0176, 1.1667, 0.9005,\n",
       "                      0.8031, 1.1181, 0.9703, 0.8345, 0.8273, 0.5586, 0.8926, 1.4608, 0.8369,\n",
       "                      0.6269, 0.6920, 0.9284, 1.3722, 1.3788, 0.9929, 1.3181, 1.1133, 1.2403,\n",
       "                      1.7268, 1.2491, 0.7822, 1.4304, 0.8928, 1.3306, 0.8124, 1.2247, 1.1757,\n",
       "                      0.9997, 0.8173, 0.8622, 0.8481, 0.8595, 0.8004, 0.9888, 1.0485, 1.2940,\n",
       "                      0.8518, 0.9798, 0.8433, 0.9960, 0.7477, 1.2251, 1.0442, 1.0116, 1.6050,\n",
       "                      1.3596, 1.0558, 1.3075, 0.7167, 1.3619, 0.9507, 1.2292, 0.8451, 0.9542,\n",
       "                      0.7821, 0.7375, 0.5721, 1.1868, 0.8805, 0.8351, 1.5334, 1.4521, 0.7741,\n",
       "                      1.0525, 1.0675, 0.6996, 1.2242, 0.8004, 0.7945, 0.8181, 0.9015, 1.1820,\n",
       "                      1.3056, 0.6092, 1.0639, 0.8285, 1.4153, 0.8174, 0.8119, 0.9370, 1.2531,\n",
       "                      1.5145, 1.2257, 0.9268, 1.3382, 0.9573, 1.1686, 0.6997, 1.0636, 1.5616,\n",
       "                      0.9376, 1.0443, 0.8641, 1.2267, 1.2524, 0.8703, 0.9626, 0.7365, 0.9420,\n",
       "                      1.0891, 1.4599, 0.9580, 1.0104, 1.0397, 0.9551, 1.2969, 0.7111, 0.8183,\n",
       "                      0.7311, 1.2125, 1.3374, 1.4884, 1.0729, 0.8488, 1.0083, 1.1349, 0.5340,\n",
       "                      1.2470, 1.2872, 1.1865, 1.0459, 0.8374, 1.7080, 1.0952, 1.5485, 1.4515,\n",
       "                      1.2429, 0.7852, 0.7494, 1.1743, 1.4042, 0.7946, 0.9681, 1.0314, 1.0101,\n",
       "                      1.5218, 0.8788, 1.3698, 0.9305, 0.7255, 0.6466, 0.9415, 0.9223, 1.1926,\n",
       "                      0.8107, 0.8693, 1.4596, 0.9580, 1.1624, 1.2285, 1.2179, 1.5639, 0.9686,\n",
       "                      0.8598, 0.6967, 1.5926, 0.9220, 1.4090, 0.9300, 1.3528, 0.7893, 1.1033,\n",
       "                      0.7484, 0.9693, 1.1047, 0.7380, 0.9518, 1.0438, 0.7063, 1.1755, 1.8820,\n",
       "                      0.7913, 1.3453, 1.2629, 1.1398, 1.0301, 1.1052, 0.9749, 0.6815, 0.8461,\n",
       "                      1.3847, 1.2192, 1.2080, 1.4107])),\n",
       "             ('bn_fc2.running_var',\n",
       "              tensor([2.4520, 1.7855, 1.3343, 3.6415, 2.3082, 3.9258, 2.8833, 2.8746, 0.7769,\n",
       "                      1.0443, 1.2429, 3.7125, 1.8419, 2.9733, 1.3485, 0.6387, 1.6075, 3.0347,\n",
       "                      2.8871, 2.0107, 2.1630, 2.4697, 1.5749, 3.7482, 2.3685, 1.2324, 1.1027,\n",
       "                      3.2428, 1.6051, 3.1574, 1.0455, 7.0952, 2.2772, 2.4978, 2.7037, 3.2649,\n",
       "                      1.8320, 1.3128, 1.7468, 3.9531, 5.5966, 3.1237, 2.9925, 2.7193, 0.6606,\n",
       "                      1.4348, 1.0207, 2.1949, 1.3533, 2.8659, 3.6539, 2.9410, 2.2000, 4.5617,\n",
       "                      3.2688, 2.8199, 2.0633, 1.1981, 2.9879, 2.3993, 2.8844, 2.4602, 1.2140,\n",
       "                      2.2507, 2.6876, 2.0593, 1.4568, 1.6883, 3.7254, 2.0729, 2.8720, 2.2314,\n",
       "                      1.1854, 2.4966, 2.8638, 1.6388, 2.1622, 0.8207, 1.6419, 4.5112, 1.3058,\n",
       "                      0.7821, 1.2878, 1.6016, 2.7892, 4.2285, 1.8484, 3.6382, 2.5002, 3.4414,\n",
       "                      4.0442, 3.2510, 1.5322, 2.8640, 1.6677, 4.2022, 1.2025, 3.2600, 2.7728,\n",
       "                      1.5554, 1.4783, 2.7536, 1.2981, 2.1939, 1.3622, 1.7021, 3.4671, 3.5586,\n",
       "                      1.1987, 1.8226, 1.6708, 1.9264, 1.2344, 3.0629, 3.0789, 1.9372, 7.1586,\n",
       "                      2.5077, 2.6284, 3.1233, 1.0454, 5.2112, 2.1252, 4.4022, 2.3474, 2.3304,\n",
       "                      1.7168, 1.1382, 0.5829, 2.3522, 2.1902, 1.7354, 3.4501, 5.2436, 1.7558,\n",
       "                      1.8249, 2.3226, 1.2495, 2.8057, 1.6799, 1.3838, 1.6043, 3.0685, 2.7580,\n",
       "                      2.5054, 0.8644, 2.6021, 1.3416, 5.1751, 1.4673, 1.2974, 1.5275, 2.0518,\n",
       "                      3.4115, 2.5074, 2.3252, 2.5102, 2.2959, 3.1725, 1.0815, 2.8795, 6.1993,\n",
       "                      2.1773, 2.3360, 1.4627, 2.4087, 4.1105, 1.3666, 2.2220, 1.0865, 1.5149,\n",
       "                      3.5323, 5.0945, 2.3953, 2.2770, 1.9671, 2.2787, 3.6702, 1.0133, 1.3029,\n",
       "                      1.6022, 1.9269, 3.2098, 6.3555, 2.1836, 1.8539, 1.8917, 2.7013, 0.8467,\n",
       "                      2.4539, 3.2403, 2.1382, 2.0915, 1.1050, 3.2130, 3.0358, 4.2224, 5.9068,\n",
       "                      2.9261, 1.4096, 1.7745, 3.5504, 4.3954, 1.7631, 2.7910, 1.9476, 1.7607,\n",
       "                      6.0029, 2.2397, 3.1259, 1.9497, 1.4301, 0.8517, 1.9086, 2.5418, 3.7104,\n",
       "                      1.7788, 1.7340, 5.3902, 1.8443, 2.8886, 2.9986, 2.7633, 4.9558, 2.7025,\n",
       "                      1.0198, 0.9585, 6.3427, 2.1418, 3.2668, 1.9881, 2.5078, 1.6333, 3.4636,\n",
       "                      1.2685, 2.6552, 2.5827, 0.9704, 1.4329, 2.2959, 0.7577, 2.2058, 8.9787,\n",
       "                      1.2392, 3.6437, 3.5602, 3.5626, 2.7771, 2.0594, 2.1653, 1.4401, 1.8765,\n",
       "                      2.8653, 3.3719, 2.8697, 3.6305])),\n",
       "             ('bn_fc2.num_batches_tracked', tensor(261)),\n",
       "             ('fc3.weight',\n",
       "              tensor([[ 0.0580, -0.0743,  0.0084,  ...,  0.0047,  0.0490,  0.0419],\n",
       "                      [-0.0096,  0.0486, -0.0277,  ..., -0.0105, -0.0687,  0.0694],\n",
       "                      [ 0.0045, -0.0296,  0.0008,  ...,  0.0554, -0.0537, -0.0333],\n",
       "                      [-0.0271,  0.0406, -0.0327,  ..., -0.0576, -0.0948, -0.0392]])),\n",
       "             ('fc3.bias', tensor([-0.0035, -0.0647, -0.0151, -0.0017]))])"
      ]
     },
     "execution_count": 45,
     "metadata": {},
     "output_type": "execute_result"
    }
   ],
   "source": [
    "new_model2.state_dict()"
   ]
  },
  {
   "cell_type": "code",
   "execution_count": 46,
   "id": "9582dc01",
   "metadata": {
    "ExecuteTime": {
     "end_time": "2022-06-17T07:42:10.375478Z",
     "start_time": "2022-06-17T07:42:10.368263Z"
    }
   },
   "outputs": [
    {
     "data": {
      "text/plain": [
       "Net(\n",
       "  (conv1): Conv2d(3, 16, kernel_size=(3, 3), stride=(1, 1))\n",
       "  (bn1): BatchNorm2d(16, eps=1e-05, momentum=0.1, affine=True, track_running_stats=True)\n",
       "  (pool): MaxPool2d(kernel_size=2, stride=2, padding=0, dilation=1, ceil_mode=False)\n",
       "  (conv2): Conv2d(16, 32, kernel_size=(3, 3), stride=(1, 1))\n",
       "  (bn2): BatchNorm2d(32, eps=1e-05, momentum=0.1, affine=True, track_running_stats=True)\n",
       "  (conv3): Conv2d(32, 64, kernel_size=(3, 3), stride=(1, 1))\n",
       "  (bn3): BatchNorm2d(64, eps=1e-05, momentum=0.1, affine=True, track_running_stats=True)\n",
       "  (dropout): Dropout(p=0.5, inplace=False)\n",
       "  (fc1): Linear(in_features=6400, out_features=1024, bias=True)\n",
       "  (bn_fc1): BatchNorm1d(1024, eps=1e-05, momentum=0.1, affine=True, track_running_stats=True)\n",
       "  (fc2): Linear(in_features=1024, out_features=256, bias=True)\n",
       "  (bn_fc2): BatchNorm1d(256, eps=1e-05, momentum=0.1, affine=True, track_running_stats=True)\n",
       "  (fc3): Linear(in_features=256, out_features=4, bias=True)\n",
       ")"
      ]
     },
     "execution_count": 46,
     "metadata": {},
     "output_type": "execute_result"
    }
   ],
   "source": [
    "new_model2"
   ]
  },
  {
   "cell_type": "code",
   "execution_count": 47,
   "id": "e4a8a316",
   "metadata": {
    "ExecuteTime": {
     "end_time": "2022-06-17T07:43:35.569128Z",
     "start_time": "2022-06-17T07:43:33.584303Z"
    }
   },
   "outputs": [
    {
     "name": "stdout",
     "output_type": "stream",
     "text": [
      "0.9244444444444444\n"
     ]
    }
   ],
   "source": [
    "# 把新的模型拷到GPU上, 进行测试\n",
    "new_model2.to(device)\n",
    "test_correct = 0\n",
    "test_total = 0\n",
    "new_model2.eval()\n",
    "with torch.no_grad():\n",
    "    for x, y in test_dl:\n",
    "        x, y = x.to(device), y.to(device)\n",
    "        y_pred = new_model2(x)\n",
    "        y_pred = torch.argmax(y_pred, dim=1)\n",
    "        test_correct += (y_pred == y).sum().item()\n",
    "        test_total += y.size(0)\n",
    "        \n",
    "epoch_test_acc = test_correct / test_total\n",
    "print(epoch_test_acc)"
   ]
  },
  {
   "cell_type": "markdown",
   "id": "e9503f88",
   "metadata": {},
   "source": [
    "# 跨设备的模型保存和加载"
   ]
  },
  {
   "cell_type": "code",
   "execution_count": 48,
   "id": "00705fcf",
   "metadata": {
    "ExecuteTime": {
     "end_time": "2022-06-17T07:45:17.333391Z",
     "start_time": "2022-06-17T07:45:17.328404Z"
    }
   },
   "outputs": [
    {
     "data": {
      "text/plain": [
       "device(type='cpu')"
      ]
     },
     "execution_count": 48,
     "metadata": {},
     "output_type": "execute_result"
    }
   ],
   "source": [
    "device"
   ]
  },
  {
   "cell_type": "code",
   "execution_count": 49,
   "id": "e3c7b6da",
   "metadata": {
    "ExecuteTime": {
     "end_time": "2022-06-17T07:45:35.627041Z",
     "start_time": "2022-06-17T07:45:35.574057Z"
    }
   },
   "outputs": [],
   "source": [
    "torch.save(model.state_dict(), './my_best_weight')"
   ]
  },
  {
   "cell_type": "code",
   "execution_count": 50,
   "id": "0f371114",
   "metadata": {
    "ExecuteTime": {
     "end_time": "2022-06-17T07:45:56.397474Z",
     "start_time": "2022-06-17T07:45:56.332028Z"
    }
   },
   "outputs": [
    {
     "data": {
      "text/plain": [
       "<All keys matched successfully>"
      ]
     },
     "execution_count": 50,
     "metadata": {},
     "output_type": "execute_result"
    }
   ],
   "source": [
    "# 把刚才保存的模型映射到GPU上去. \n",
    "model = Net()\n",
    "# 相当于加载完模型后, 执行了model.to(device)\n",
    "model.load_state_dict(torch.load('./my_best_weight', map_location=device))"
   ]
  },
  {
   "cell_type": "code",
   "execution_count": 51,
   "id": "5b0f5375",
   "metadata": {
    "ExecuteTime": {
     "end_time": "2022-06-17T07:46:06.930201Z",
     "start_time": "2022-06-17T07:46:06.917116Z"
    }
   },
   "outputs": [
    {
     "data": {
      "text/plain": [
       "Net(\n",
       "  (conv1): Conv2d(3, 16, kernel_size=(3, 3), stride=(1, 1))\n",
       "  (bn1): BatchNorm2d(16, eps=1e-05, momentum=0.1, affine=True, track_running_stats=True)\n",
       "  (pool): MaxPool2d(kernel_size=2, stride=2, padding=0, dilation=1, ceil_mode=False)\n",
       "  (conv2): Conv2d(16, 32, kernel_size=(3, 3), stride=(1, 1))\n",
       "  (bn2): BatchNorm2d(32, eps=1e-05, momentum=0.1, affine=True, track_running_stats=True)\n",
       "  (conv3): Conv2d(32, 64, kernel_size=(3, 3), stride=(1, 1))\n",
       "  (bn3): BatchNorm2d(64, eps=1e-05, momentum=0.1, affine=True, track_running_stats=True)\n",
       "  (dropout): Dropout(p=0.5, inplace=False)\n",
       "  (fc1): Linear(in_features=6400, out_features=1024, bias=True)\n",
       "  (bn_fc1): BatchNorm1d(1024, eps=1e-05, momentum=0.1, affine=True, track_running_stats=True)\n",
       "  (fc2): Linear(in_features=1024, out_features=256, bias=True)\n",
       "  (bn_fc2): BatchNorm1d(256, eps=1e-05, momentum=0.1, affine=True, track_running_stats=True)\n",
       "  (fc3): Linear(in_features=256, out_features=4, bias=True)\n",
       ")"
      ]
     },
     "execution_count": 51,
     "metadata": {},
     "output_type": "execute_result"
    }
   ],
   "source": [
    "model"
   ]
  },
  {
   "cell_type": "code",
   "execution_count": 52,
   "id": "ad795299",
   "metadata": {
    "ExecuteTime": {
     "end_time": "2022-06-17T07:46:15.594725Z",
     "start_time": "2022-06-17T07:46:15.466034Z"
    }
   },
   "outputs": [
    {
     "data": {
      "text/plain": [
       "<matplotlib.legend.Legend at 0x21984135a60>"
      ]
     },
     "execution_count": 52,
     "metadata": {},
     "output_type": "execute_result"
    },
    {
     "data": {
      "image/png": "[encoded data removed]",
      "text/plain": [
       "<Figure size 432x288 with 1 Axes>"
      ]
     },
     "metadata": {
      "needs_background": "light"
     },
     "output_type": "display_data"
    }
   ],
   "source": [
    "plt.plot(range(1, epochs+1), train_loss, label='train_loss')\n",
    "plt.plot(range(1, epochs+1), test_loss, label='test_loss')\n",
    "plt.legend()"
   ]
  },
  {
   "cell_type": "code",
   "execution_count": 53,
   "id": "d08b83b2",
   "metadata": {
    "ExecuteTime": {
     "end_time": "2022-06-17T07:46:38.117530Z",
     "start_time": "2022-06-17T07:46:37.998847Z"
    }
   },
   "outputs": [
    {
     "data": {
      "text/plain": [
       "<matplotlib.legend.Legend at 0x21984979af0>"
      ]
     },
     "execution_count": 53,
     "metadata": {},
     "output_type": "execute_result"
    },
    {
     "data": {
      "image/png": "[encoded data removed]",
      "text/plain": [
       "<Figure size 432x288 with 1 Axes>"
      ]
     },
     "metadata": {
      "needs_background": "light"
     },
     "output_type": "display_data"
    }
   ],
   "source": [
    "plt.plot(range(1, epochs+1), train_acc, label='train_acc')\n",
    "plt.plot(range(1, epochs+1), test_acc, label='test_acc')\n",
    "plt.legend()"
   ]
  },
  {
   "cell_type": "code",
   "execution_count": null,
   "id": "4f291e3f",
   "metadata": {},
   "outputs": [],
   "source": []
  }
 ],
 "metadata": {
  "hide_input": false,
  "kernelspec": {
   "display_name": "Python 3 (ipykernel)",
   "language": "python",
   "name": "python3"
  },
  "language_info": {
   "codemirror_mode": {
    "name": "ipython",
    "version": 3
   },
   "file_extension": ".py",
   "mimetype": "text/x-python",
   "name": "python",
   "nbconvert_exporter": "python",
   "pygments_lexer": "ipython3",
   "version": "3.9.7"
  },
  "latex_envs": {
   "LaTeX_envs_menu_present": true,
   "autoclose": false,
   "autocomplete": true,
   "bibliofile": "biblio.bib",
   "cite_by": "apalike",
   "current_citInitial": 1,
   "eqLabelWithNumbers": true,
   "eqNumInitial": 1,
   "hotkeys": {
    "equation": "Ctrl-E",
    "itemize": "Ctrl-I"
   },
   "labels_anchors": false,
   "latex_user_defs": false,
   "report_style_numbering": false,
   "user_envs_cfg": false
  },
  "nbTranslate": {
   "displayLangs": [
    "*"
   ],
   "hotkey": "alt-t",
   "langInMainMenu": true,
   "sourceLang": "en",
   "targetLang": "fr",
   "useGoogleTranslate": true
  },
  "toc": {
   "base_numbering": 1,
   "nav_menu": {},
   "number_sections": true,
   "sideBar": true,
   "skip_h1_title": false,
   "title_cell": "Table of Contents",
   "title_sidebar": "Contents",
   "toc_cell": false,
   "toc_position": {},
   "toc_section_display": true,
   "toc_window_display": false
  },
  "varInspector": {
   "cols": {
    "lenName": 16,
    "lenType": 16,
    "lenVar": 40
   },
   "kernels_config": {
    "python": {
     "delete_cmd_postfix": "",
     "delete_cmd_prefix": "del ",
     "library": "var_list.py",
     "varRefreshCmd": "print(var_dic_list())"
    },
    "r": {
     "delete_cmd_postfix": ") ",
     "delete_cmd_prefix": "rm(",
     "library": "var_list.r",
     "varRefreshCmd": "cat(var_dic_list()) "
    }
   },
   "types_to_exclude": [
    "module",
    "function",
    "builtin_function_or_method",
    "instance",
    "_Feature"
   ],
   "window_display": false
  }
 },
 "nbformat": 4,
 "nbformat_minor": 5
}
