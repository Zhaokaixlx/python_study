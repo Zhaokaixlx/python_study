{
 "cells": [
  {
   "cell_type": "markdown",
   "id": "66989f32",
   "metadata": {},
   "source": [
    "# tensorflow实现逻辑斯蒂回归"
   ]
  },
  {
   "cell_type": "code",
   "execution_count": null,
   "id": "7278b892",
   "metadata": {},
   "outputs": [],
   "source": [
    "1. 找到预测函数: 1 / (1 + e^-z)\n",
    "2. 找到损失函数 -(y_true*log(y_pred) + (1-y_true)log(1 - y_pred))\n",
    "3. 梯度下降法求损失最小的时候的系数"
   ]
  },
  {
   "cell_type": "code",
   "execution_count": 2,
   "id": "61b3801c",
   "metadata": {
    "ExecuteTime": {
     "end_time": "2022-05-24T08:02:25.041112Z",
     "start_time": "2022-05-24T08:02:11.625695Z"
    }
   },
   "outputs": [],
   "source": [
    "import tensorflow as tf\n",
    "from sklearn.datasets import make_blobs\n",
    "import numpy as np\n",
    "import matplotlib.pyplot as plt"
   ]
  },
  {
   "cell_type": "code",
   "execution_count": 3,
   "id": "40de1ab0",
   "metadata": {
    "ExecuteTime": {
     "end_time": "2022-05-24T08:02:52.209631Z",
     "start_time": "2022-05-24T08:02:51.839986Z"
    }
   },
   "outputs": [
    {
     "data": {
      "text/plain": [
       "<matplotlib.collections.PathCollection at 0x24c747ead60>"
      ]
     },
     "execution_count": 3,
     "metadata": {},
     "output_type": "execute_result"
    },
    {
     "data": {
      "image/png": "[encoded data removed]",
      "text/plain": [
       "<Figure size 432x288 with 1 Axes>"
      ]
     },
     "metadata": {
      "needs_background": "light"
     },
     "output_type": "display_data"
    }
   ],
   "source": [
    "data, target = make_blobs(centers=2)\n",
    "plt.scatter(data[:, 0], data[:, 1], c=target)"
   ]
  },
  {
   "cell_type": "code",
   "execution_count": 6,
   "id": "72fcd814",
   "metadata": {
    "ExecuteTime": {
     "end_time": "2022-05-24T08:05:54.695870Z",
     "start_time": "2022-05-24T08:05:53.607665Z"
    }
   },
   "outputs": [],
   "source": [
    "x = tf.constant(data, dtype=tf.float32)\n",
    "y = tf.constant(target, dtype=tf.float32)"
   ]
  },
  {
   "cell_type": "code",
   "execution_count": 7,
   "id": "b3f401ed",
   "metadata": {
    "ExecuteTime": {
     "end_time": "2022-05-24T08:06:04.349929Z",
     "start_time": "2022-05-24T08:06:04.335948Z"
    }
   },
   "outputs": [
    {
     "data": {
      "text/plain": [
       "TensorShape([100, 2])"
      ]
     },
     "execution_count": 7,
     "metadata": {},
     "output_type": "execute_result"
    }
   ],
   "source": [
    "x.shape"
   ]
  },
  {
   "cell_type": "code",
   "execution_count": 8,
   "id": "ca9390f4",
   "metadata": {
    "ExecuteTime": {
     "end_time": "2022-05-24T08:06:12.538290Z",
     "start_time": "2022-05-24T08:06:12.519075Z"
    }
   },
   "outputs": [
    {
     "data": {
      "text/plain": [
       "TensorShape([100])"
      ]
     },
     "execution_count": 8,
     "metadata": {},
     "output_type": "execute_result"
    }
   ],
   "source": [
    "y.shape"
   ]
  },
  {
   "cell_type": "code",
   "execution_count": 9,
   "id": "9ca9f43c",
   "metadata": {
    "ExecuteTime": {
     "end_time": "2022-05-24T08:07:12.348613Z",
     "start_time": "2022-05-24T08:07:12.326109Z"
    }
   },
   "outputs": [],
   "source": [
    "# 定义预测函数\n",
    "W = tf.Variable(np.random.randn(2, 1) * 0.02, dtype=tf.float32)\n",
    "B = tf.Variable(0., dtype=tf.float32)"
   ]
  },
  {
   "cell_type": "code",
   "execution_count": 10,
   "id": "242a29e0",
   "metadata": {
    "ExecuteTime": {
     "end_time": "2022-05-24T08:07:52.131761Z",
     "start_time": "2022-05-24T08:07:52.113201Z"
    }
   },
   "outputs": [
    {
     "data": {
      "text/plain": [
       "(100, 1)"
      ]
     },
     "execution_count": 10,
     "metadata": {},
     "output_type": "execute_result"
    }
   ],
   "source": [
    "np.dot(x, np.random.randn(2, 1)).shape"
   ]
  },
  {
   "cell_type": "code",
   "execution_count": 11,
   "id": "4d7eff2b",
   "metadata": {
    "ExecuteTime": {
     "end_time": "2022-05-24T08:08:13.022670Z",
     "start_time": "2022-05-24T08:08:13.010515Z"
    }
   },
   "outputs": [],
   "source": [
    "def sigmoid(x):\n",
    "    linear = tf.matmul(x, W) + B\n",
    "    return tf.nn.sigmoid(linear)"
   ]
  },
  {
   "cell_type": "code",
   "execution_count": 12,
   "id": "d589c485",
   "metadata": {
    "ExecuteTime": {
     "end_time": "2022-05-24T08:08:43.042527Z",
     "start_time": "2022-05-24T08:08:43.026474Z"
    }
   },
   "outputs": [],
   "source": [
    "a = tf.constant([[1, 2, 3], [4, 5, 6]])"
   ]
  },
  {
   "cell_type": "code",
   "execution_count": 13,
   "id": "47ec03e4",
   "metadata": {
    "ExecuteTime": {
     "end_time": "2022-05-24T08:09:01.811405Z",
     "start_time": "2022-05-24T08:09:01.785693Z"
    }
   },
   "outputs": [
    {
     "ename": "AttributeError",
     "evalue": "EagerTensor object has no attribute 'reshape'. \n        If you are looking for numpy-related methods, please run the following:\n        from tensorflow.python.ops.numpy_ops import np_config\n        np_config.enable_numpy_behavior()\n      ",
     "output_type": "error",
     "traceback": [
      "\u001b[1;31m---------------------------------------------------------------------------\u001b[0m",
      "\u001b[1;31mAttributeError\u001b[0m                            Traceback (most recent call last)",
      "\u001b[1;32mC:\\Users\\ADMINI~1\\AppData\\Local\\Temp/ipykernel_14172/3215645156.py\u001b[0m in \u001b[0;36m<module>\u001b[1;34m\u001b[0m\n\u001b[1;32m----> 1\u001b[1;33m \u001b[0ma\u001b[0m\u001b[1;33m.\u001b[0m\u001b[0mreshape\u001b[0m\u001b[1;33m(\u001b[0m\u001b[1;33m)\u001b[0m\u001b[1;33m\u001b[0m\u001b[1;33m\u001b[0m\u001b[0m\n\u001b[0m",
      "\u001b[1;32mC:\\ProgramData\\Anaconda3\\lib\\site-packages\\tensorflow\\python\\framework\\ops.py\u001b[0m in \u001b[0;36m__getattr__\u001b[1;34m(self, name)\u001b[0m\n\u001b[0;32m    438\u001b[0m                 \"tolist\", \"data\"}:\n\u001b[0;32m    439\u001b[0m       \u001b[1;31m# TODO(wangpeng): Export the enable_numpy_behavior knob\u001b[0m\u001b[1;33m\u001b[0m\u001b[1;33m\u001b[0m\u001b[0m\n\u001b[1;32m--> 440\u001b[1;33m       raise AttributeError(\n\u001b[0m\u001b[0;32m    441\u001b[0m           f\"{type(self).__name__} object has no attribute '{name}'. \" + \"\"\"\n\u001b[0;32m    442\u001b[0m         \u001b[0mIf\u001b[0m \u001b[0myou\u001b[0m \u001b[0mare\u001b[0m \u001b[0mlooking\u001b[0m \u001b[1;32mfor\u001b[0m \u001b[0mnumpy\u001b[0m\u001b[1;33m-\u001b[0m\u001b[0mrelated\u001b[0m \u001b[0mmethods\u001b[0m\u001b[1;33m,\u001b[0m \u001b[0mplease\u001b[0m \u001b[0mrun\u001b[0m \u001b[0mthe\u001b[0m \u001b[0mfollowing\u001b[0m\u001b[1;33m:\u001b[0m\u001b[1;33m\u001b[0m\u001b[1;33m\u001b[0m\u001b[0m\n",
      "\u001b[1;31mAttributeError\u001b[0m: EagerTensor object has no attribute 'reshape'. \n        If you are looking for numpy-related methods, please run the following:\n        from tensorflow.python.ops.numpy_ops import np_config\n        np_config.enable_numpy_behavior()\n      "
     ]
    }
   ],
   "source": [
    "a.reshape()"
   ]
  },
  {
   "cell_type": "code",
   "execution_count": 14,
   "id": "0008b675",
   "metadata": {
    "ExecuteTime": {
     "end_time": "2022-05-24T08:09:15.620240Z",
     "start_time": "2022-05-24T08:09:15.592549Z"
    }
   },
   "outputs": [
    {
     "data": {
      "text/plain": [
       "<tf.Tensor: shape=(3, 2), dtype=int32, numpy=\n",
       "array([[1, 2],\n",
       "       [3, 4],\n",
       "       [5, 6]])>"
      ]
     },
     "execution_count": 14,
     "metadata": {},
     "output_type": "execute_result"
    }
   ],
   "source": [
    "tf.reshape(a, [3, 2])"
   ]
  },
  {
   "cell_type": "code",
   "execution_count": 16,
   "id": "cd115d3a",
   "metadata": {
    "ExecuteTime": {
     "end_time": "2022-05-24T08:09:50.892047Z",
     "start_time": "2022-05-24T08:09:50.881849Z"
    }
   },
   "outputs": [
    {
     "data": {
      "text/plain": [
       "<tf.Tensor: shape=(6,), dtype=int32, numpy=array([1, 2, 3, 4, 5, 6])>"
      ]
     },
     "execution_count": 16,
     "metadata": {},
     "output_type": "execute_result"
    }
   ],
   "source": [
    "tf.reshape(a, [6])"
   ]
  },
  {
   "cell_type": "code",
   "execution_count": 17,
   "id": "18f9039f",
   "metadata": {
    "ExecuteTime": {
     "end_time": "2022-05-24T08:11:48.944791Z",
     "start_time": "2022-05-24T08:11:48.927641Z"
    }
   },
   "outputs": [],
   "source": [
    "# 定义损失\n",
    "def cross_entropy_loss(y_true, y_pred):\n",
    "    # 对y_pred进行截断\n",
    "    y_pred = tf.reshape(y_pred, shape=[100])\n",
    "#     y_pred = tf.clip_by_value(y_pred, 1e-9, 1)\n",
    "    return tf.reduce_mean(-(tf.multiply(y_true, tf.math.log(y_pred)) + tf.multiply((1 - y_true), tf.math.log(1 - y_pred)))) "
   ]
  },
  {
   "cell_type": "code",
   "execution_count": 18,
   "id": "40dca7e5",
   "metadata": {
    "ExecuteTime": {
     "end_time": "2022-05-24T08:11:58.706137Z",
     "start_time": "2022-05-24T08:11:58.700358Z"
    }
   },
   "outputs": [],
   "source": [
    "# 定义优化器\n",
    "optimizer = tf.optimizers.SGD()"
   ]
  },
  {
   "cell_type": "code",
   "execution_count": 19,
   "id": "3ffbce32",
   "metadata": {
    "ExecuteTime": {
     "end_time": "2022-05-24T08:12:11.988523Z",
     "start_time": "2022-05-24T08:12:11.971217Z"
    }
   },
   "outputs": [],
   "source": [
    "def run_optimization():\n",
    "    with tf.GradientTape() as g:\n",
    "        # 计算预测值\n",
    "        pred = sigmoid(x)\n",
    "        loss = cross_entropy_loss(y, pred)\n",
    "        \n",
    "    # 计算梯度\n",
    "    gradients = g.gradient(loss, [W, B])\n",
    "    # 更新W,B\n",
    "    optimizer.apply_gradients(zip(gradients, [W, B]))"
   ]
  },
  {
   "cell_type": "code",
   "execution_count": 20,
   "id": "1401af06",
   "metadata": {
    "ExecuteTime": {
     "end_time": "2022-05-24T08:13:08.851471Z",
     "start_time": "2022-05-24T08:13:08.842141Z"
    }
   },
   "outputs": [
    {
     "data": {
      "text/plain": [
       "array([1, 1, 0, 0, 1, 1, 1, 0, 0, 0, 1, 1, 0, 1, 0, 1, 0, 0, 1, 0, 0, 1,\n",
       "       0, 1, 0, 1, 1, 0, 0, 1, 1, 1, 0, 1, 1, 0, 1, 0, 0, 0, 1, 1, 1, 1,\n",
       "       1, 1, 0, 1, 0, 1, 0, 0, 1, 0, 0, 0, 0, 1, 0, 1, 0, 1, 1, 1, 0, 1,\n",
       "       0, 1, 0, 0, 1, 0, 1, 1, 0, 0, 0, 1, 0, 1, 0, 0, 0, 1, 0, 1, 1, 0,\n",
       "       0, 1, 0, 0, 0, 1, 0, 0, 1, 1, 1, 1])"
      ]
     },
     "execution_count": 20,
     "metadata": {},
     "output_type": "execute_result"
    }
   ],
   "source": [
    "target"
   ]
  },
  {
   "cell_type": "code",
   "execution_count": 21,
   "id": "59a380b8",
   "metadata": {
    "ExecuteTime": {
     "end_time": "2022-05-24T08:13:18.844547Z",
     "start_time": "2022-05-24T08:13:18.829405Z"
    }
   },
   "outputs": [],
   "source": [
    "# 计算准确率\n",
    "def accuracy(y_true, y_pred):\n",
    "    # 需要把概率变成类别.\n",
    "    # 概率大于0.5 可以认为是正例. \n",
    "    y_pred = tf.reshape(y_pred, shape=[100])\n",
    "    y_ = y_pred.numpy() > 0.5\n",
    "    y_true = y_true.numpy()\n",
    "    return (y_ == y_true).mean()"
   ]
  },
  {
   "cell_type": "code",
   "execution_count": 22,
   "id": "7e5d06b0",
   "metadata": {
    "ExecuteTime": {
     "end_time": "2022-05-24T08:14:40.472338Z",
     "start_time": "2022-05-24T08:14:09.272290Z"
    }
   },
   "outputs": [
    {
     "name": "stdout",
     "output_type": "stream",
     "text": [
      "训练次数: 0, 准确率: 1.0, 损失: 0.5070534348487854\n",
      "训练次数: 100, 准确率: 1.0, 损失: 0.03960507735610008\n",
      "训练次数: 200, 准确率: 1.0, 损失: 0.021695207804441452\n",
      "训练次数: 300, 准确率: 1.0, 损失: 0.015156402252614498\n",
      "训练次数: 400, 准确率: 1.0, 损失: 0.011725024320185184\n",
      "训练次数: 500, 准确率: 1.0, 损失: 0.009597694501280785\n",
      "训练次数: 600, 准确率: 1.0, 损失: 0.008144221268594265\n",
      "训练次数: 700, 准确率: 1.0, 损失: 0.0070855035446584225\n",
      "训练次数: 800, 准确率: 1.0, 损失: 0.006278482731431723\n",
      "训练次数: 900, 准确率: 1.0, 损失: 0.0056420802138745785\n",
      "训练次数: 1000, 准确率: 1.0, 损失: 0.005126800388097763\n",
      "训练次数: 1100, 准确率: 1.0, 损失: 0.0047007291577756405\n",
      "训练次数: 1200, 准确率: 1.0, 损失: 0.004342292435467243\n",
      "训练次数: 1300, 准确率: 1.0, 损失: 0.004036395810544491\n",
      "训练次数: 1400, 准确率: 1.0, 损失: 0.0037721586413681507\n",
      "训练次数: 1500, 准确率: 1.0, 损失: 0.003541510086506605\n",
      "训练次数: 1600, 准确率: 1.0, 损失: 0.0033383560366928577\n",
      "训练次数: 1700, 准确率: 1.0, 损失: 0.0031580065842717886\n",
      "训练次数: 1800, 准确率: 1.0, 损失: 0.0029967883601784706\n",
      "训练次数: 1900, 准确率: 1.0, 损失: 0.0028517653699964285\n",
      "训练次数: 2000, 准确率: 1.0, 损失: 0.002720590913668275\n",
      "训练次数: 2100, 准确率: 1.0, 损失: 0.0026013455353677273\n",
      "训练次数: 2200, 准确率: 1.0, 损失: 0.0024924585595726967\n",
      "训练次数: 2300, 准确率: 1.0, 损失: 0.0023926154244691133\n",
      "训练次数: 2400, 准确率: 1.0, 损失: 0.002300725318491459\n",
      "训练次数: 2500, 准确率: 1.0, 损失: 0.0022158643696457148\n",
      "训练次数: 2600, 准确率: 1.0, 损失: 0.0021372472401708364\n",
      "训练次数: 2700, 准确率: 1.0, 损失: 0.0020641954615712166\n",
      "训练次数: 2800, 准确率: 1.0, 损失: 0.0019961351063102484\n",
      "训练次数: 2900, 准确率: 1.0, 损失: 0.0019325647735968232\n",
      "训练次数: 3000, 准确率: 1.0, 损失: 0.001873051282018423\n",
      "训练次数: 3100, 准确率: 1.0, 损失: 0.0018172116251662374\n",
      "训练次数: 3200, 准确率: 1.0, 损失: 0.0017647133208811283\n",
      "训练次数: 3300, 准确率: 1.0, 损失: 0.0017152600921690464\n",
      "训练次数: 3400, 准确率: 1.0, 损失: 0.0016685924492776394\n",
      "训练次数: 3500, 准确率: 1.0, 损失: 0.0016244754660874605\n",
      "训练次数: 3600, 准确率: 1.0, 损失: 0.0015827097231522202\n",
      "训练次数: 3700, 准确率: 1.0, 损失: 0.0015431036008521914\n",
      "训练次数: 3800, 准确率: 1.0, 损失: 0.0015054990071803331\n",
      "训练次数: 3900, 准确率: 1.0, 损失: 0.001469736685976386\n",
      "训练次数: 4000, 准确率: 1.0, 损失: 0.0014356913743540645\n",
      "训练次数: 4100, 准确率: 1.0, 损失: 0.001403240254148841\n",
      "训练次数: 4200, 准确率: 1.0, 损失: 0.0013722637668251991\n",
      "训练次数: 4300, 准确率: 1.0, 损失: 0.0013426750665530562\n",
      "训练次数: 4400, 准确率: 1.0, 损失: 0.0013143729884177446\n",
      "训练次数: 4500, 准确率: 1.0, 损失: 0.0012872718507423997\n",
      "训练次数: 4600, 准确率: 1.0, 损失: 0.001261314144358039\n",
      "训练次数: 4700, 准确率: 1.0, 损失: 0.001236405223608017\n",
      "训练次数: 4800, 准确率: 1.0, 损失: 0.0012124937493354082\n",
      "训练次数: 4900, 准确率: 1.0, 损失: 0.0011895173229277134\n"
     ]
    }
   ],
   "source": [
    "# 定义训练过程\n",
    "for i in range(5000):\n",
    "    run_optimization()\n",
    "    \n",
    "    if i % 100 == 0:\n",
    "        pred = sigmoid(x)\n",
    "        acc = accuracy(y, pred)\n",
    "        loss = cross_entropy_loss(y, pred)\n",
    "        print(f'训练次数: {i}, 准确率: {acc}, 损失: {loss}')"
   ]
  },
  {
   "cell_type": "markdown",
   "id": "28e808a5",
   "metadata": {},
   "source": [
    "# keras入门"
   ]
  },
  {
   "cell_type": "code",
   "execution_count": 1,
   "id": "16a2ad4e",
   "metadata": {
    "ExecuteTime": {
     "end_time": "2022-05-24T08:22:14.127703Z",
     "start_time": "2022-05-24T08:22:07.720049Z"
    }
   },
   "outputs": [],
   "source": [
    "import tensorflow as tf\n",
    "import numpy as np\n",
    "import matplotlib.pyplot as plt"
   ]
  },
  {
   "cell_type": "code",
   "execution_count": 2,
   "id": "520e0f07",
   "metadata": {
    "ExecuteTime": {
     "end_time": "2022-05-24T08:23:10.415415Z",
     "start_time": "2022-05-24T08:23:05.124229Z"
    }
   },
   "outputs": [
    {
     "name": "stdout",
     "output_type": "stream",
     "text": [
      "Downloading data from https://storage.googleapis.com/tensorflow/tf-keras-datasets/mnist.npz\n",
      "11490434/11490434 [==============================] - 4s 0us/step\n"
     ]
    }
   ],
   "source": [
    "# 手写数字 mnist, cifar10\n",
    "from tensorflow.keras.datasets import mnist\n",
    "\n",
    "(x_train, y_train), (x_test, y_test) = mnist.load_data()"
   ]
  },
  {
   "cell_type": "code",
   "execution_count": 3,
   "id": "7044f32f",
   "metadata": {
    "ExecuteTime": {
     "end_time": "2022-05-24T08:23:25.268794Z",
     "start_time": "2022-05-24T08:23:25.251533Z"
    }
   },
   "outputs": [
    {
     "data": {
      "text/plain": [
       "(60000, 28, 28)"
      ]
     },
     "execution_count": 3,
     "metadata": {},
     "output_type": "execute_result"
    }
   ],
   "source": [
    "x_train.shape"
   ]
  },
  {
   "cell_type": "code",
   "execution_count": 7,
   "id": "e9d9b901",
   "metadata": {
    "ExecuteTime": {
     "end_time": "2022-05-24T08:31:26.911020Z",
     "start_time": "2022-05-24T08:31:26.894010Z"
    }
   },
   "outputs": [
    {
     "data": {
      "text/plain": [
       "4"
      ]
     },
     "execution_count": 7,
     "metadata": {},
     "output_type": "execute_result"
    }
   ],
   "source": [
    "y_train[2]"
   ]
  },
  {
   "cell_type": "code",
   "execution_count": 6,
   "id": "4d9f5d3e",
   "metadata": {
    "ExecuteTime": {
     "end_time": "2022-05-24T08:31:19.461896Z",
     "start_time": "2022-05-24T08:31:19.286332Z"
    }
   },
   "outputs": [
    {
     "data": {
      "text/plain": [
       "<matplotlib.image.AxesImage at 0x2421b504dc0>"
      ]
     },
     "execution_count": 6,
     "metadata": {},
     "output_type": "execute_result"
    },
    {
     "data": {
      "image/png": "[encoded data removed]",
      "text/plain": [
       "<Figure size 432x288 with 1 Axes>"
      ]
     },
     "metadata": {
      "needs_background": "light"
     },
     "output_type": "display_data"
    }
   ],
   "source": [
    "plt.imshow(x_train[2].reshape(28, 28), cmap='gray')"
   ]
  },
  {
   "cell_type": "code",
   "execution_count": 8,
   "id": "216da2f1",
   "metadata": {
    "ExecuteTime": {
     "end_time": "2022-05-24T08:31:39.809714Z",
     "start_time": "2022-05-24T08:31:39.802766Z"
    }
   },
   "outputs": [
    {
     "data": {
      "text/plain": [
       "(60000,)"
      ]
     },
     "execution_count": 8,
     "metadata": {},
     "output_type": "execute_result"
    }
   ],
   "source": [
    "y_train.shape"
   ]
  },
  {
   "cell_type": "code",
   "execution_count": 9,
   "id": "a0e18da7",
   "metadata": {
    "ExecuteTime": {
     "end_time": "2022-05-24T08:31:58.701682Z",
     "start_time": "2022-05-24T08:31:58.687865Z"
    }
   },
   "outputs": [
    {
     "data": {
      "text/plain": [
       "dtype('uint8')"
      ]
     },
     "execution_count": 9,
     "metadata": {},
     "output_type": "execute_result"
    }
   ],
   "source": [
    "y_train.dtype"
   ]
  },
  {
   "cell_type": "code",
   "execution_count": 10,
   "id": "a15e7350",
   "metadata": {
    "ExecuteTime": {
     "end_time": "2022-05-24T08:32:53.069165Z",
     "start_time": "2022-05-24T08:32:52.874173Z"
    }
   },
   "outputs": [],
   "source": [
    "# 对数据做处理\n",
    "x_train = x_train.reshape(-1, 784) / 255.0\n",
    "x_test = x_test.reshape(-1, 784) / 255.0\n",
    "\n",
    "y_train = y_train.astype(np.float32)\n",
    "y_test = y_test.astype(np.float32)\n",
    "\n",
    "# tf.one_hot()\n",
    "y_train = tf.keras.utils.to_categorical(y_train, 10)\n",
    "y_test = tf.keras.utils.to_categorical(y_test, 10)"
   ]
  },
  {
   "cell_type": "code",
   "execution_count": 11,
   "id": "397f4aba",
   "metadata": {
    "ExecuteTime": {
     "end_time": "2022-05-24T08:33:12.159739Z",
     "start_time": "2022-05-24T08:33:12.141139Z"
    }
   },
   "outputs": [
    {
     "data": {
      "text/plain": [
       "784"
      ]
     },
     "execution_count": 11,
     "metadata": {},
     "output_type": "execute_result"
    }
   ],
   "source": [
    "28*28"
   ]
  },
  {
   "cell_type": "code",
   "execution_count": 12,
   "id": "16ea883a",
   "metadata": {
    "ExecuteTime": {
     "end_time": "2022-05-24T08:34:18.729982Z",
     "start_time": "2022-05-24T08:34:18.710006Z"
    }
   },
   "outputs": [
    {
     "data": {
      "text/plain": [
       "dtype('float64')"
      ]
     },
     "execution_count": 12,
     "metadata": {},
     "output_type": "execute_result"
    }
   ],
   "source": [
    "x_train.dtype"
   ]
  },
  {
   "cell_type": "code",
   "execution_count": null,
   "id": "bba1642f",
   "metadata": {
    "run_control": {
     "marked": true
    }
   },
   "outputs": [],
   "source": [
    "# 一层网络叫做一层Dense"
   ]
  },
  {
   "cell_type": "code",
   "execution_count": 13,
   "id": "45b042cd",
   "metadata": {
    "ExecuteTime": {
     "end_time": "2022-05-24T08:40:50.873744Z",
     "start_time": "2022-05-24T08:40:50.859996Z"
    }
   },
   "outputs": [],
   "source": [
    "from tensorflow.keras.layers import Dense"
   ]
  },
  {
   "cell_type": "code",
   "execution_count": 14,
   "id": "723c45f9",
   "metadata": {
    "ExecuteTime": {
     "end_time": "2022-05-24T08:42:20.207161Z",
     "start_time": "2022-05-24T08:42:19.095665Z"
    }
   },
   "outputs": [],
   "source": [
    "# 定义神经网络.\n",
    "model = tf.keras.Sequential()\n",
    "# 第一层要多写一个参数, 叫做输入数据的维度. \n",
    "# 输入维度有两种写法, 第一种是input_shape, 必须是一个元组, 不要写样本个数, 只需要写特征的维度即可.\n",
    "# input_dim, 不需要写元组, 直接指定具体的数字即可\n",
    "model.add(Dense(64, activation='relu', input_shape=(784, )))\n",
    "# model.add(Dense(64, activation='relu', input_dim=784))\n",
    "# 出了第一层需要传输入数据的维度, 其他层不需要, keras会自动的帮我们计算维度.\n",
    "model.add(Dense(64, activation='relu'))\n",
    "# 输出层的激活, 二分类是sigmoid, 多分类的话是softmax\n",
    "model.add(Dense(10, activation='softmax'))"
   ]
  },
  {
   "cell_type": "code",
   "execution_count": 15,
   "id": "4fde17a4",
   "metadata": {
    "ExecuteTime": {
     "end_time": "2022-05-24T08:42:37.486543Z",
     "start_time": "2022-05-24T08:42:37.467371Z"
    }
   },
   "outputs": [],
   "source": [
    "# 配置网络\n",
    "model.compile(optimizer='adam', loss='categorical_crossentropy', metrics=['accuracy'])"
   ]
  },
  {
   "cell_type": "code",
   "execution_count": 17,
   "id": "1f600468",
   "metadata": {
    "ExecuteTime": {
     "end_time": "2022-05-24T08:48:36.728029Z",
     "start_time": "2022-05-24T08:47:34.958157Z"
    }
   },
   "outputs": [
    {
     "name": "stdout",
     "output_type": "stream",
     "text": [
      "Epoch 1/20\n",
      "938/938 [==============================] - 3s 3ms/step - loss: 0.0120 - accuracy: 0.9961 - val_loss: 0.1228 - val_accuracy: 0.9750\n",
      "Epoch 2/20\n",
      "120/938 [==>...........................] - ETA: 2s - loss: 0.0081 - accuracy: 0.99"
     ]
    },
    {
     "data": {
      "text/html": [
       "<b>limit_output extension: Maximum message size of 10000 exceeded with 10044 characters</b>"
      ]
     },
     "metadata": {},
     "output_type": "display_data"
    }
   ],
   "source": [
    "# 训练网络\n",
    "model.fit(x_train, y_train, batch_size=64, epochs=20, validation_data=(x_test, y_test), )"
   ]
  },
  {
   "cell_type": "code",
   "execution_count": 18,
   "id": "4314bd65",
   "metadata": {
    "ExecuteTime": {
     "end_time": "2022-05-24T08:50:43.409953Z",
     "start_time": "2022-05-24T08:50:43.387190Z"
    }
   },
   "outputs": [
    {
     "name": "stdout",
     "output_type": "stream",
     "text": [
      "Model: \"sequential\"\n",
      "_________________________________________________________________\n",
      " Layer (type)                Output Shape              Param #   \n",
      "=================================================================\n",
      " dense (Dense)               (None, 64)                50240     \n",
      "                                                                 \n",
      " dense_1 (Dense)             (None, 64)                4160      \n",
      "                                                                 \n",
      " dense_2 (Dense)             (None, 10)                650       \n",
      "                                                                 \n",
      "=================================================================\n",
      "Total params: 55,050\n",
      "Trainable params: 55,050\n",
      "Non-trainable params: 0\n",
      "_________________________________________________________________\n"
     ]
    }
   ],
   "source": [
    "# 查看网络设置\n",
    "model.summary()"
   ]
  },
  {
   "cell_type": "code",
   "execution_count": 20,
   "id": "726b39de",
   "metadata": {
    "ExecuteTime": {
     "end_time": "2022-05-24T08:51:14.572492Z",
     "start_time": "2022-05-24T08:51:14.566476Z"
    }
   },
   "outputs": [
    {
     "data": {
      "text/plain": [
       "50240"
      ]
     },
     "execution_count": 20,
     "metadata": {},
     "output_type": "execute_result"
    }
   ],
   "source": [
    "784*64+64"
   ]
  },
  {
   "cell_type": "code",
   "execution_count": 21,
   "id": "565352b0",
   "metadata": {
    "ExecuteTime": {
     "end_time": "2022-05-24T08:51:48.788446Z",
     "start_time": "2022-05-24T08:51:48.055482Z"
    }
   },
   "outputs": [
    {
     "name": "stdout",
     "output_type": "stream",
     "text": [
      "313/313 [==============================] - 1s 2ms/step - loss: 0.1778 - accuracy: 0.9750\n"
     ]
    },
    {
     "data": {
      "text/plain": [
       "[0.17775821685791016, 0.9750000238418579]"
      ]
     },
     "execution_count": 21,
     "metadata": {},
     "output_type": "execute_result"
    }
   ],
   "source": [
    "model.evaluate(x_test, y_test)"
   ]
  },
  {
   "cell_type": "code",
   "execution_count": 22,
   "id": "fbe8cb71",
   "metadata": {
    "ExecuteTime": {
     "end_time": "2022-05-24T08:54:49.503319Z",
     "start_time": "2022-05-24T08:54:49.470669Z"
    }
   },
   "outputs": [],
   "source": [
    "# 保存模型 HDF5 分层的数据结构.\n",
    "model.save('./model.h5')"
   ]
  },
  {
   "cell_type": "code",
   "execution_count": 23,
   "id": "87fb5d4e",
   "metadata": {
    "ExecuteTime": {
     "end_time": "2022-05-24T08:55:19.056705Z",
     "start_time": "2022-05-24T08:55:18.966900Z"
    }
   },
   "outputs": [],
   "source": [
    "# 加载\n",
    "model2 = tf.keras.models.load_model('./model.h5')"
   ]
  },
  {
   "cell_type": "code",
   "execution_count": 24,
   "id": "ca78bf1c",
   "metadata": {
    "ExecuteTime": {
     "end_time": "2022-05-24T08:56:35.883866Z",
     "start_time": "2022-05-24T08:56:35.005396Z"
    }
   },
   "outputs": [
    {
     "name": "stdout",
     "output_type": "stream",
     "text": [
      "313/313 [==============================] - 1s 2ms/step - loss: 0.1778 - accuracy: 0.9750\n"
     ]
    },
    {
     "data": {
      "text/plain": [
       "[0.17775821685791016, 0.9750000238418579]"
      ]
     },
     "execution_count": 24,
     "metadata": {},
     "output_type": "execute_result"
    }
   ],
   "source": [
    "model2.evaluate(x_test, y_test)"
   ]
  },
  {
   "cell_type": "code",
   "execution_count": 25,
   "id": "dd5529ca",
   "metadata": {
    "ExecuteTime": {
     "end_time": "2022-05-24T08:58:02.323932Z",
     "start_time": "2022-05-24T08:58:02.310054Z"
    }
   },
   "outputs": [
    {
     "data": {
      "text/plain": [
       "(10000, 784)"
      ]
     },
     "execution_count": 25,
     "metadata": {},
     "output_type": "execute_result"
    }
   ],
   "source": [
    "x_test.shape"
   ]
  },
  {
   "cell_type": "code",
   "execution_count": 26,
   "id": "f2e5af39",
   "metadata": {
    "ExecuteTime": {
     "end_time": "2022-05-24T08:58:11.055313Z",
     "start_time": "2022-05-24T08:58:10.307737Z"
    }
   },
   "outputs": [
    {
     "name": "stdout",
     "output_type": "stream",
     "text": [
      "313/313 [==============================] - 1s 1ms/step\n"
     ]
    },
    {
     "data": {
      "text/plain": [
       "(10000, 10)"
      ]
     },
     "execution_count": 26,
     "metadata": {},
     "output_type": "execute_result"
    }
   ],
   "source": [
    "# 预测\n",
    "model.predict(x_test, ).shape"
   ]
  },
  {
   "cell_type": "code",
   "execution_count": null,
   "id": "5fa1b25e",
   "metadata": {},
   "outputs": [],
   "source": []
  }
 ],
 "metadata": {
  "hide_input": false,
  "kernelspec": {
   "display_name": "Python 3 (ipykernel)",
   "language": "python",
   "name": "python3"
  },
  "language_info": {
   "codemirror_mode": {
    "name": "ipython",
    "version": 3
   },
   "file_extension": ".py",
   "mimetype": "text/x-python",
   "name": "python",
   "nbconvert_exporter": "python",
   "pygments_lexer": "ipython3",
   "version": "3.9.7"
  },
  "latex_envs": {
   "LaTeX_envs_menu_present": true,
   "autoclose": false,
   "autocomplete": true,
   "bibliofile": "biblio.bib",
   "cite_by": "apalike",
   "current_citInitial": 1,
   "eqLabelWithNumbers": true,
   "eqNumInitial": 1,
   "hotkeys": {
    "equation": "Ctrl-E",
    "itemize": "Ctrl-I"
   },
   "labels_anchors": false,
   "latex_user_defs": false,
   "report_style_numbering": false,
   "user_envs_cfg": false
  },
  "nbTranslate": {
   "displayLangs": [
    "*"
   ],
   "hotkey": "alt-t",
   "langInMainMenu": true,
   "sourceLang": "en",
   "targetLang": "fr",
   "useGoogleTranslate": true
  },
  "toc": {
   "base_numbering": 1,
   "nav_menu": {},
   "number_sections": true,
   "sideBar": true,
   "skip_h1_title": false,
   "title_cell": "Table of Contents",
   "title_sidebar": "Contents",
   "toc_cell": false,
   "toc_position": {},
   "toc_section_display": true,
   "toc_window_display": false
  },
  "varInspector": {
   "cols": {
    "lenName": 16,
    "lenType": 16,
    "lenVar": 40
   },
   "kernels_config": {
    "python": {
     "delete_cmd_postfix": "",
     "delete_cmd_prefix": "del ",
     "library": "var_list.py",
     "varRefreshCmd": "print(var_dic_list())"
    },
    "r": {
     "delete_cmd_postfix": ") ",
     "delete_cmd_prefix": "rm(",
     "library": "var_list.r",
     "varRefreshCmd": "cat(var_dic_list()) "
    }
   },
   "types_to_exclude": [
    "module",
    "function",
    "builtin_function_or_method",
    "instance",
    "_Feature"
   ],
   "window_display": false
  }
 },
 "nbformat": 4,
 "nbformat_minor": 5
}
