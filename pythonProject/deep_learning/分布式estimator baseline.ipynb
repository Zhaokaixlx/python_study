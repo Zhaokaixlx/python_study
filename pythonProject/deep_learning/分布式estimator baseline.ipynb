{
 "cells": [
  {
   "cell_type": "code",
   "execution_count": 1,
   "metadata": {
    "ExecuteTime": {
     "end_time": "2022-02-28T12:59:01.208993Z",
     "start_time": "2022-02-28T12:58:56.883967Z"
    }
   },
   "outputs": [],
   "source": [
    "from tensorflow import keras\n",
    "import tensorflow as tf\n",
    "import numpy as np\n",
    "import pandas as pd\n",
    "import matplotlib.pyplot as plt"
   ]
  },
  {
   "cell_type": "code",
   "execution_count": 2,
   "metadata": {
    "ExecuteTime": {
     "end_time": "2022-02-28T12:59:01.223951Z",
     "start_time": "2022-02-28T12:59:01.210986Z"
    }
   },
   "outputs": [],
   "source": [
    "# 打开显示\n",
    "tf.debugging.set_log_device_placement(True)"
   ]
  },
  {
   "cell_type": "code",
   "execution_count": 3,
   "metadata": {
    "ExecuteTime": {
     "end_time": "2022-02-28T12:59:01.314722Z",
     "start_time": "2022-02-28T12:59:01.225946Z"
    }
   },
   "outputs": [],
   "source": [
    "# 显示电脑上的物理GPU\n",
    "gpus = tf.config.experimental.list_physical_devices('GPU')"
   ]
  },
  {
   "cell_type": "code",
   "execution_count": 4,
   "metadata": {
    "ExecuteTime": {
     "end_time": "2022-02-28T12:59:01.330679Z",
     "start_time": "2022-02-28T12:59:01.316717Z"
    }
   },
   "outputs": [
    {
     "data": {
      "text/plain": [
       "[PhysicalDevice(name='/physical_device:GPU:0', device_type='GPU')]"
      ]
     },
     "execution_count": 4,
     "metadata": {},
     "output_type": "execute_result"
    }
   ],
   "source": [
    "gpus"
   ]
  },
  {
   "cell_type": "code",
   "execution_count": 5,
   "metadata": {
    "ExecuteTime": {
     "end_time": "2022-02-28T12:59:01.345639Z",
     "start_time": "2022-02-28T12:59:01.331677Z"
    }
   },
   "outputs": [],
   "source": [
    "# 需要在GPU没有初始化之前执行. \n",
    "tf.config.experimental.set_virtual_device_configuration(\n",
    "    gpus[0],\n",
    "    [tf.config.experimental.VirtualDeviceConfiguration(memory_limit=2048),\n",
    "    tf.config.experimental.VirtualDeviceConfiguration(memory_limit=2048),\n",
    "    tf.config.experimental.VirtualDeviceConfiguration(memory_limit=2048)]\n",
    ")"
   ]
  },
  {
   "cell_type": "code",
   "execution_count": 6,
   "metadata": {
    "ExecuteTime": {
     "end_time": "2022-02-28T12:59:02.697074Z",
     "start_time": "2022-02-28T12:59:01.347634Z"
    }
   },
   "outputs": [
    {
     "data": {
      "text/plain": [
       "[LogicalDevice(name='/device:GPU:0', device_type='GPU'),\n",
       " LogicalDevice(name='/device:GPU:1', device_type='GPU'),\n",
       " LogicalDevice(name='/device:GPU:2', device_type='GPU')]"
      ]
     },
     "execution_count": 6,
     "metadata": {},
     "output_type": "execute_result"
    }
   ],
   "source": [
    "# 逻辑GPU\n",
    "tf.config.experimental.list_logical_devices('GPU')"
   ]
  },
  {
   "cell_type": "code",
   "execution_count": 7,
   "metadata": {
    "ExecuteTime": {
     "end_time": "2022-02-28T12:59:03.111480Z",
     "start_time": "2022-02-28T12:59:02.699070Z"
    },
    "scrolled": false
   },
   "outputs": [
    {
     "name": "stdout",
     "output_type": "stream",
     "text": [
      "(5000, 28, 28) (5000,)\n",
      "(55000, 28, 28) (55000,)\n",
      "(10000, 28, 28) (10000,)\n"
     ]
    }
   ],
   "source": [
    "fashion_mnist = keras.datasets.fashion_mnist\n",
    "(x_train_all, y_train_all), (x_test, y_test) = fashion_mnist.load_data()\n",
    "x_valid, x_train = x_train_all[:5000], x_train_all[5000:]\n",
    "y_valid, y_train = y_train_all[:5000], y_train_all[5000:]\n",
    "\n",
    "print(x_valid.shape, y_valid.shape)\n",
    "print(x_train.shape, y_train.shape)\n",
    "print(x_test.shape, y_test.shape)"
   ]
  },
  {
   "cell_type": "code",
   "execution_count": 8,
   "metadata": {
    "ExecuteTime": {
     "end_time": "2022-02-28T12:59:03.201241Z",
     "start_time": "2022-02-28T12:59:03.113475Z"
    }
   },
   "outputs": [
    {
     "data": {
      "text/plain": [
       "(55000, 784)"
      ]
     },
     "execution_count": 8,
     "metadata": {},
     "output_type": "execute_result"
    }
   ],
   "source": [
    "x_train.astype(np.float32).reshape(-1, 784).shape"
   ]
  },
  {
   "cell_type": "code",
   "execution_count": 9,
   "metadata": {
    "ExecuteTime": {
     "end_time": "2022-02-28T12:59:05.088747Z",
     "start_time": "2022-02-28T12:59:03.203235Z"
    }
   },
   "outputs": [],
   "source": [
    "# 标准化\n",
    "from sklearn.preprocessing import StandardScaler\n",
    "\n",
    "scaler = StandardScaler()\n",
    "x_train_scaled = scaler.fit_transform(x_train.astype(np.float32).reshape(55000, -1))\n",
    "x_valid_scaled = scaler.transform(x_valid.astype(np.float32).reshape(5000, -1))\n",
    "\n",
    "x_test_scaled = scaler.transform(x_test.astype(np.float32).reshape(10000, -1))"
   ]
  },
  {
   "cell_type": "code",
   "execution_count": 10,
   "metadata": {
    "ExecuteTime": {
     "end_time": "2022-02-28T12:59:05.118665Z",
     "start_time": "2022-02-28T12:59:05.089743Z"
    },
    "scrolled": true
   },
   "outputs": [
    {
     "name": "stdout",
     "output_type": "stream",
     "text": [
      "Executing op TensorSliceDataset in device /job:localhost/replica:0/task:0/device:CPU:0\n",
      "Executing op DummySeedGenerator in device /job:localhost/replica:0/task:0/device:CPU:0\n",
      "Executing op ShuffleDatasetV3 in device /job:localhost/replica:0/task:0/device:CPU:0\n",
      "Executing op RepeatDataset in device /job:localhost/replica:0/task:0/device:CPU:0\n",
      "Executing op BatchDatasetV2 in device /job:localhost/replica:0/task:0/device:CPU:0\n",
      "Executing op PrefetchDataset in device /job:localhost/replica:0/task:0/device:CPU:0\n"
     ]
    }
   ],
   "source": [
    "def make_dataset(data, target, epochs, batch_size, shuffle=True):\n",
    "    dataset = tf.data.Dataset.from_tensor_slices((data, target))\n",
    "    if shuffle:\n",
    "        dataset = dataset.shuffle(10000)\n",
    "    dataset = dataset.repeat(epochs).batch(batch_size).prefetch(50)\n",
    "    return dataset\n",
    "\n",
    "batch_size = 64\n",
    "epochs = 20\n",
    "train_dataset = make_dataset(x_train_scaled, y_train, epochs, batch_size)"
   ]
  },
  {
   "cell_type": "code",
   "execution_count": 11,
   "metadata": {
    "ExecuteTime": {
     "end_time": "2022-02-28T12:59:10.268128Z",
     "start_time": "2022-02-28T12:59:05.120661Z"
    }
   },
   "outputs": [
    {
     "name": "stdout",
     "output_type": "stream",
     "text": [
      "Executing op VarHandleOp in device /job:localhost/replica:0/task:0/device:GPU:0\n",
      "Executing op AssignVariableOp in device /job:localhost/replica:0/task:0/device:GPU:0\n",
      "Executing op VarHandleOp in device /job:localhost/replica:0/task:0/device:GPU:0\n",
      "Executing op AssignVariableOp in device /job:localhost/replica:0/task:0/device:GPU:0\n",
      "Executing op VarHandleOp in device /job:localhost/replica:0/task:0/device:GPU:0\n",
      "Executing op AssignVariableOp in device /job:localhost/replica:0/task:0/device:GPU:0\n",
      "Executing op RandomUniform in device /job:localhost/replica:0/task:0/device:GPU:0\n",
      "Executing op Sub in device /job:localhost/replica:0/task:0/device:GPU:0\n",
      "Executing op Mul in device /job:localhost/replica:0/task:0/device:GPU:0\n",
      "Executing op Add in device /job:localhost/replica:0/task:0/device:GPU:0\n",
      "Executing op VarHandleOp in device /job:localhost/replica:0/task:0/device:GPU:0\n",
      "Executing op AssignVariableOp in device /job:localhost/replica:0/task:0/device:GPU:0\n",
      "Executing op Fill in device /job:localhost/replica:0/task:0/device:GPU:0\n",
      "Executing op VarHandleOp in device /job:localhost/replica:0/task:0/device:GPU:0\n",
      "Executing op AssignVariableOp in device /job:localhost/replica:0/task:0/device:GPU:0\n",
      "Executing op RandomUniform in device /job:localhost/replica:0/task:0/device:GPU:0\n",
      "Executing op Sub in device /job:localhost/replica:0/task:0/device:GPU:0\n",
      "Executing op Mul in device /job:localhost/replica:0/task:0/device:GPU:0\n",
      "Executing op Add in device /job:localhost/replica:0/task:0/device:GPU:0\n",
      "Executing op VarHandleOp in device /job:localhost/replica:0/task:0/device:GPU:0\n",
      "Executing op AssignVariableOp in device /job:localhost/replica:0/task:0/device:GPU:0\n",
      "Executing op Fill in device /job:localhost/replica:0/task:0/device:GPU:0\n",
      "Executing op VarHandleOp in device /job:localhost/replica:0/task:0/device:GPU:0\n",
      "Executing op AssignVariableOp in device /job:localhost/replica:0/task:0/device:GPU:0\n",
      "Executing op RandomUniform in device /job:localhost/replica:0/task:0/device:GPU:0\n",
      "Executing op Sub in device /job:localhost/replica:0/task:0/device:GPU:0\n",
      "Executing op Mul in device /job:localhost/replica:0/task:0/device:GPU:0\n",
      "Executing op Add in device /job:localhost/replica:0/task:0/device:GPU:0\n",
      "Executing op VarHandleOp in device /job:localhost/replica:0/task:0/device:GPU:0\n",
      "Executing op AssignVariableOp in device /job:localhost/replica:0/task:0/device:GPU:0\n",
      "Executing op Fill in device /job:localhost/replica:0/task:0/device:GPU:0\n",
      "Executing op VarHandleOp in device /job:localhost/replica:0/task:0/device:GPU:0\n",
      "Executing op AssignVariableOp in device /job:localhost/replica:0/task:0/device:GPU:0\n",
      "Executing op Fill in device /job:localhost/replica:0/task:0/device:GPU:0\n",
      "Executing op VarHandleOp in device /job:localhost/replica:0/task:0/device:GPU:0\n",
      "Executing op AssignVariableOp in device /job:localhost/replica:0/task:0/device:GPU:0\n",
      "Executing op Fill in device /job:localhost/replica:0/task:0/device:GPU:0\n",
      "Executing op VarHandleOp in device /job:localhost/replica:0/task:0/device:GPU:0\n",
      "Executing op AssignVariableOp in device /job:localhost/replica:0/task:0/device:GPU:0\n",
      "Executing op VarHandleOp in device /job:localhost/replica:0/task:0/device:GPU:0\n",
      "Executing op AssignVariableOp in device /job:localhost/replica:0/task:0/device:GPU:0\n"
     ]
    }
   ],
   "source": [
    "model = keras.models.Sequential()\n",
    "model.add(keras.layers.Dense(512, activation='relu', input_shape=(784,)))\n",
    "model.add(keras.layers.Dense(256, activation='relu'))\n",
    "model.add(keras.layers.Dense(10, activation='softmax'))\n",
    "\n",
    "model.compile(loss='sparse_categorical_crossentropy',\n",
    "             optimizer='adam',\n",
    "             metrics=['accuracy'])"
   ]
  },
  {
   "cell_type": "code",
   "execution_count": 12,
   "metadata": {
    "ExecuteTime": {
     "end_time": "2022-02-28T12:59:10.283088Z",
     "start_time": "2022-02-28T12:59:10.270124Z"
    },
    "scrolled": true
   },
   "outputs": [
    {
     "name": "stdout",
     "output_type": "stream",
     "text": [
      "Model: \"sequential\"\n",
      "_________________________________________________________________\n",
      "Layer (type)                 Output Shape              Param #   \n",
      "=================================================================\n",
      "dense (Dense)                (None, 512)               401920    \n",
      "_________________________________________________________________\n",
      "dense_1 (Dense)              (None, 256)               131328    \n",
      "_________________________________________________________________\n",
      "dense_2 (Dense)              (None, 10)                2570      \n",
      "=================================================================\n",
      "Total params: 535,818\n",
      "Trainable params: 535,818\n",
      "Non-trainable params: 0\n",
      "_________________________________________________________________\n"
     ]
    }
   ],
   "source": [
    "model.summary()"
   ]
  },
  {
   "cell_type": "code",
   "execution_count": 13,
   "metadata": {
    "ExecuteTime": {
     "end_time": "2022-02-28T12:59:10.298048Z",
     "start_time": "2022-02-28T12:59:10.284086Z"
    }
   },
   "outputs": [
    {
     "name": "stdout",
     "output_type": "stream",
     "text": [
      "Executing op TensorSliceDataset in device /job:localhost/replica:0/task:0/device:CPU:0\n",
      "Executing op RepeatDataset in device /job:localhost/replica:0/task:0/device:CPU:0\n",
      "Executing op BatchDatasetV2 in device /job:localhost/replica:0/task:0/device:CPU:0\n",
      "Executing op PrefetchDataset in device /job:localhost/replica:0/task:0/device:CPU:0\n"
     ]
    }
   ],
   "source": [
    "eval_dataset = make_dataset(x_valid_scaled, y_valid, epochs=1, batch_size=32, shuffle=False)"
   ]
  },
  {
   "cell_type": "code",
   "execution_count": 14,
   "metadata": {
    "ExecuteTime": {
     "end_time": "2022-02-28T13:00:53.472840Z",
     "start_time": "2022-02-28T13:00:50.262050Z"
    },
    "collapsed": true
   },
   "outputs": [
    {
     "name": "stdout",
     "output_type": "stream",
     "text": [
      "INFO:tensorflow:Using default config.\n",
      "WARNING:tensorflow:Using temporary folder as model directory: C:\\Users\\SUPERC~1\\AppData\\Local\\Temp\\tmpjq7twrfg\n",
      "INFO:tensorflow:Using the Keras model provided.\n",
      "Executing op ReadVariableOp in device /job:localhost/replica:0/task:0/device:GPU:0\n",
      "Executing op Identity in device /job:localhost/replica:0/task:0/device:GPU:0\n",
      "Executing op ReadVariableOp in device /job:localhost/replica:0/task:0/device:GPU:0\n",
      "Executing op Identity in device /job:localhost/replica:0/task:0/device:GPU:0\n",
      "Executing op ReadVariableOp in device /job:localhost/replica:0/task:0/device:GPU:0\n",
      "Executing op Identity in device /job:localhost/replica:0/task:0/device:GPU:0\n",
      "Executing op ReadVariableOp in device /job:localhost/replica:0/task:0/device:GPU:0\n",
      "Executing op Identity in device /job:localhost/replica:0/task:0/device:GPU:0\n",
      "Executing op ReadVariableOp in device /job:localhost/replica:0/task:0/device:GPU:0\n",
      "Executing op Identity in device /job:localhost/replica:0/task:0/device:GPU:0\n",
      "Executing op ReadVariableOp in device /job:localhost/replica:0/task:0/device:GPU:0\n",
      "Executing op Identity in device /job:localhost/replica:0/task:0/device:GPU:0\n"
     ]
    },
    {
     "name": "stderr",
     "output_type": "stream",
     "text": [
      "d:\\2005\\.venv\\lib\\site-packages\\tensorflow\\python\\keras\\backend.py:434: UserWarning: `tf.keras.backend.set_learning_phase` is deprecated and will be removed after 2020-10-11. To update it, simply pass a True/False value to the `training` argument of the `__call__` method of your layer or model.\n",
      "  warnings.warn('`tf.keras.backend.set_learning_phase` is deprecated and '\n"
     ]
    },
    {
     "name": "stdout",
     "output_type": "stream",
     "text": [
      "INFO:tensorflow:Using config: {'_model_dir': 'C:\\\\Users\\\\SUPERC~1\\\\AppData\\\\Local\\\\Temp\\\\tmpjq7twrfg', '_tf_random_seed': None, '_save_summary_steps': 100, '_save_checkpoints_steps': None, '_save_checkpoints_secs': 600, '_session_config': allow_soft_placement: true\n",
      "graph_options {\n",
      "  rewrite_options {\n",
      "    meta_optimizer_iterations: ONE\n",
      "  }\n",
      "}\n",
      ", '_keep_checkpoint_max': 5, '_keep_checkpoint_every_n_hours': 10000, '_log_step_count_steps': 100, '_train_distribute': None, '_device_fn': None, '_protocol': None, '_eval_distribute': None, '_experimental_distribute': None, '_experimental_max_worker_delay_secs': None, '_session_creation_timeout_secs': 7200, '_checkpoint_save_graph_def': True, '_service': None, '_cluster_spec': ClusterSpec({}), '_task_type': 'worker', '_task_id': 0, '_global_id_in_cluster': 0, '_master': '', '_evaluation_master': '', '_is_chief': True, '_num_ps_replicas': 0, '_num_worker_replicas': 1}\n"
     ]
    }
   ],
   "source": [
    "# 把keras模型转换成estimator模型\n",
    "estimator = keras.estimator.model_to_estimator(model)"
   ]
  },
  {
   "cell_type": "code",
   "execution_count": 15,
   "metadata": {
    "ExecuteTime": {
     "end_time": "2022-02-28T13:03:42.834820Z",
     "start_time": "2022-02-28T13:02:41.374510Z"
    },
    "collapsed": true
   },
   "outputs": [
    {
     "name": "stdout",
     "output_type": "stream",
     "text": [
      "WARNING:tensorflow:From d:\\2005\\.venv\\lib\\site-packages\\tensorflow\\python\\training\\training_util.py:236: Variable.initialized_value (from tensorflow.python.ops.variables) is deprecated and will be removed in a future version.\n",
      "Instructions for updating:\n",
      "Use Variable.read_value. Variables in 2.X are initialized automatically both in eager and graph (inside tf.defun) contexts.\n",
      "INFO:tensorflow:Calling model_fn.\n",
      "INFO:tensorflow:Done calling model_fn.\n",
      "INFO:tensorflow:Warm-starting with WarmStartSettings: WarmStartSettings(ckpt_to_initialize_from='C:\\\\Users\\\\SUPERC~1\\\\AppData\\\\Local\\\\Temp\\\\tmpjq7twrfg\\\\keras\\\\keras_model.ckpt', vars_to_warm_start='.*', var_name_to_vocab_info={}, var_name_to_prev_var_name={})\n",
      "INFO:tensorflow:Warm-starting from: C:\\Users\\SUPERC~1\\AppData\\Local\\Temp\\tmpjq7twrfg\\keras\\keras_model.ckpt\n",
      "INFO:tensorflow:Warm-starting variables only in TRAINABLE_VARIABLES.\n",
      "INFO:tensorflow:Warm-started 6 variables.\n",
      "INFO:tensorflow:Create CheckpointSaverHook.\n",
      "INFO:tensorflow:Graph was finalized.\n",
      "INFO:tensorflow:Running local_init_op.\n",
      "INFO:tensorflow:Done running local_init_op.\n",
      "INFO:tensorflow:Calling checkpoint listeners before saving checkpoint 0...\n",
      "INFO:tensorflow:Saving checkpoints for 0 into C:\\Users\\SUPERC~1\\AppData\\Local\\Temp\\tmpjq7twrfg\\model.ckpt.\n",
      "INFO:tensorflow:Calling checkpoint listeners after saving checkpoint 0...\n",
      "INFO:tensorflow:loss = 2.608609, step = 0\n",
      "INFO:tensorflow:global_step/sec: 125.882\n",
      "INFO:tensorflow:loss = 0.2887022, step = 100 (0.585 sec)\n",
      "INFO:tensorflow:global_step/sec: 416.899\n",
      "INFO:tensorflow:loss = 0.48351246, step = 200 (0.234 sec)\n",
      "INFO:tensorflow:global_step/sec: 414.328\n",
      "INFO:tensorflow:loss = 0.56034267, step = 300 (0.241 sec)\n",
      "INFO:tensorflow:global_step/sec: 406.752\n",
      "INFO:tensorflow:loss = 0.30463636, step = 400 (0.246 sec)\n",
      "INFO:tensorflow:global_step/sec: 423.918\n",
      "INFO:tensorflow:loss = 0.35208791, step = 500 (0.237 sec)\n",
      "INFO:tensorflow:global_step/sec: 424.861\n",
      "INFO:tensorflow:loss = 0.4760812, step = 600 (0.234 sec)\n",
      "INFO:tensorflow:global_step/sec: 419.529\n",
      "INFO:tensorflow:loss = 0.36697102, step = 700 (0.239 sec)\n",
      "INFO:tensorflow:global_step/sec: 447.623\n",
      "INFO:tensorflow:loss = 0.3843407, step = 800 (0.223 sec)\n",
      "INFO:tensorflow:global_step/sec: 369.301\n",
      "INFO:tensorflow:loss = 0.37681043, step = 900 (0.271 sec)\n",
      "INFO:tensorflow:global_step/sec: 397.087\n",
      "INFO:tensorflow:loss = 0.23896936, step = 1000 (0.252 sec)\n",
      "INFO:tensorflow:global_step/sec: 362.607\n",
      "INFO:tensorflow:loss = 0.35131666, step = 1100 (0.276 sec)\n",
      "INFO:tensorflow:global_step/sec: 401.046\n",
      "INFO:tensorflow:loss = 0.2666783, step = 1200 (0.249 sec)\n",
      "INFO:tensorflow:global_step/sec: 369.991\n",
      "INFO:tensorflow:loss = 0.33450663, step = 1300 (0.270 sec)\n",
      "INFO:tensorflow:global_step/sec: 422.159\n",
      "INFO:tensorflow:loss = 0.2677157, step = 1400 (0.237 sec)\n",
      "INFO:tensorflow:global_step/sec: 381.247\n",
      "INFO:tensorflow:loss = 0.24501462, step = 1500 (0.262 sec)\n",
      "INFO:tensorflow:global_step/sec: 421.293\n",
      "INFO:tensorflow:loss = 0.3858977, step = 1600 (0.236 sec)\n",
      "INFO:tensorflow:global_step/sec: 443.661\n",
      "INFO:tensorflow:loss = 0.27800438, step = 1700 (0.225 sec)\n",
      "INFO:tensorflow:global_step/sec: 435.916\n",
      "INFO:tensorflow:loss = 0.38443565, step = 1800 (0.230 sec)\n",
      "INFO:tensorflow:global_step/sec: 324.477\n",
      "INFO:tensorflow:loss = 0.2176655, step = 1900 (0.309 sec)\n",
      "INFO:tensorflow:global_step/sec: 450.624\n",
      "INFO:tensorflow:loss = 0.17134798, step = 2000 (0.222 sec)\n",
      "INFO:tensorflow:global_step/sec: 479.748\n",
      "INFO:tensorflow:loss = 0.258366, step = 2100 (0.207 sec)\n",
      "INFO:tensorflow:global_step/sec: 484.384\n",
      "INFO:tensorflow:loss = 0.3083037, step = 2200 (0.206 sec)\n",
      "INFO:tensorflow:global_step/sec: 464.201\n",
      "INFO:tensorflow:loss = 0.32986307, step = 2300 (0.215 sec)\n",
      "INFO:tensorflow:global_step/sec: 482.055\n",
      "INFO:tensorflow:loss = 0.23976573, step = 2400 (0.207 sec)\n",
      "INFO:tensorflow:global_step/sec: 459.94\n",
      "INFO:tensorflow:loss = 0.33777755, step = 2500 (0.218 sec)\n",
      "INFO:tensorflow:global_step/sec: 476.276\n",
      "INFO:tensorflow:loss = 0.17411599, step = 2600 (0.210 sec)\n",
      "INFO:tensorflow:global_step/sec: 478.59\n",
      "INFO:tensorflow:loss = 0.30467996, step = 2700 (0.209 sec)\n",
      "INFO:tensorflow:global_step/sec: 452.662\n",
      "INFO:tensorflow:loss = 0.31200475, step = 2800 (0.220 sec)\n",
      "INFO:tensorflow:global_step/sec: 451.655\n",
      "INFO:tensorflow:loss = 0.24301735, step = 2900 (0.222 sec)\n",
      "INFO:tensorflow:global_step/sec: 416.899\n",
      "INFO:tensorflow:loss = 0.25136244, step = 3000 (0.240 sec)\n",
      "INFO:tensorflow:global_step/sec: 444.635\n",
      "INFO:tensorflow:loss = 0.14929664, step = 3100 (0.225 sec)\n",
      "INFO:tensorflow:global_step/sec: 413.463\n",
      "INFO:tensorflow:loss = 0.13704512, step = 3200 (0.243 sec)\n",
      "INFO:tensorflow:global_step/sec: 414.328\n",
      "INFO:tensorflow:loss = 0.24475585, step = 3300 (0.240 sec)\n",
      "INFO:tensorflow:global_step/sec: 360.019\n",
      "INFO:tensorflow:loss = 0.1654345, step = 3400 (0.278 sec)\n",
      "INFO:tensorflow:global_step/sec: 438.78\n",
      "INFO:tensorflow:loss = 0.2611704, step = 3500 (0.228 sec)\n",
      "INFO:tensorflow:global_step/sec: 434.986\n",
      "INFO:tensorflow:loss = 0.2542026, step = 3600 (0.230 sec)\n",
      "INFO:tensorflow:global_step/sec: 454.709\n",
      "INFO:tensorflow:loss = 0.16011977, step = 3700 (0.220 sec)\n",
      "INFO:tensorflow:global_step/sec: 437.849\n",
      "INFO:tensorflow:loss = 0.2339946, step = 3800 (0.228 sec)\n",
      "INFO:tensorflow:global_step/sec: 436.881\n",
      "INFO:tensorflow:loss = 0.21689057, step = 3900 (0.228 sec)\n",
      "INFO:tensorflow:global_step/sec: 438.795\n",
      "INFO:tensorflow:loss = 0.09841263, step = 4000 (0.229 sec)\n",
      "INFO:tensorflow:global_step/sec: 430.333\n",
      "INFO:tensorflow:loss = 0.21285588, step = 4100 (0.232 sec)\n",
      "INFO:tensorflow:global_step/sec: 436.855\n",
      "INFO:tensorflow:loss = 0.302229, step = 4200 (0.228 sec)\n",
      "INFO:tensorflow:global_step/sec: 377.642\n",
      "INFO:tensorflow:loss = 0.34466502, step = 4300 (0.265 sec)\n",
      "INFO:tensorflow:global_step/sec: 469.621\n",
      "INFO:tensorflow:loss = 0.20818853, step = 4400 (0.214 sec)\n",
      "INFO:tensorflow:global_step/sec: 427.566\n",
      "INFO:tensorflow:loss = 0.12775892, step = 4500 (0.233 sec)\n",
      "INFO:tensorflow:global_step/sec: 459.943\n",
      "INFO:tensorflow:loss = 0.08613998, step = 4600 (0.218 sec)\n",
      "INFO:tensorflow:global_step/sec: 444.592\n",
      "INFO:tensorflow:loss = 0.17367266, step = 4700 (0.225 sec)\n",
      "INFO:tensorflow:global_step/sec: 454.706\n",
      "INFO:tensorflow:loss = 0.27355063, step = 4800 (0.220 sec)\n",
      "INFO:tensorflow:global_step/sec: 454.714\n",
      "INFO:tensorflow:loss = 0.26056755, step = 4900 (0.220 sec)\n",
      "INFO:tensorflow:Calling checkpoint listeners before saving checkpoint 5000...\n",
      "INFO:tensorflow:Saving checkpoints for 5000 into C:\\Users\\SUPERC~1\\AppData\\Local\\Temp\\tmpjq7twrfg\\model.ckpt.\n",
      "INFO:tensorflow:Calling checkpoint listeners after saving checkpoint 5000...\n",
      "INFO:tensorflow:Loss for final step: 0.2461621.\n"
     ]
    },
    {
     "data": {
      "text/plain": [
       "<tensorflow_estimator.python.estimator.estimator.EstimatorV2 at 0x1eab11fff60>"
      ]
     },
     "execution_count": 15,
     "metadata": {},
     "output_type": "execute_result"
    }
   ],
   "source": [
    "# 使用estimator训练\n",
    "# 不指定estimator模型保存的路径, 会自动在tmp目录下生成临时目录保存模型\n",
    "estimator.train(\n",
    "    input_fn = lambda : make_dataset(x_train_scaled, y_train, epochs, batch_size),\n",
    "    max_steps=5000\n",
    ")"
   ]
  }
 ],
 "metadata": {
  "kernelspec": {
   "display_name": "Python 3",
   "language": "python",
   "name": "python3"
  },
  "language_info": {
   "codemirror_mode": {
    "name": "ipython",
    "version": 3
   },
   "file_extension": ".py",
   "mimetype": "text/x-python",
   "name": "python",
   "nbconvert_exporter": "python",
   "pygments_lexer": "ipython3",
   "version": "3.6.8"
  },
  "toc": {
   "base_numbering": 1,
   "nav_menu": {},
   "number_sections": true,
   "sideBar": true,
   "skip_h1_title": false,
   "title_cell": "Table of Contents",
   "title_sidebar": "Contents",
   "toc_cell": false,
   "toc_position": {},
   "toc_section_display": true,
   "toc_window_display": false
  }
 },
 "nbformat": 4,
 "nbformat_minor": 4
}
