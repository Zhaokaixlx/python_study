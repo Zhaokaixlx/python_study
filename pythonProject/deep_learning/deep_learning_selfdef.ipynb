{
 "cells": [
  {
   "cell_type": "code",
   "execution_count": 6,
   "id": "0bcdd051",
   "metadata": {
    "ExecuteTime": {
     "end_time": "2022-05-29T09:48:33.216039Z",
     "start_time": "2022-05-29T09:48:33.205416Z"
    }
   },
   "outputs": [],
   "source": [
    "from tensorflow import keras\n",
    "import numpy as np\n",
    "import pandas \n",
    "import matplotlib.pyplot as plt\n",
    "import tensorflow as tf"
   ]
  },
  {
   "cell_type": "markdown",
   "id": "70fb02c1",
   "metadata": {},
   "source": [
    "# 把python函数转化为tensorflow中的函数"
   ]
  },
  {
   "cell_type": "code",
   "execution_count": 2,
   "id": "86f4597f",
   "metadata": {
    "ExecuteTime": {
     "end_time": "2022-05-29T09:43:21.914732Z",
     "start_time": "2022-05-29T09:43:21.894764Z"
    }
   },
   "outputs": [],
   "source": [
    "# tensorflow中的代码做了优化, 运行速度会快一些.\n",
    "# elu z > 0 ? scale * z : scale * alpha * tf.nn.elu()\n",
    "# selu\n",
    "def scaled_elu(z, scale=1.0, alpha=1.0):\n",
    "    is_positive = tf.greater_equal(z, 0.0)\n",
    "    # np.where\n",
    "    return scale * tf.where(is_positive, z, alpha * tf.nn.elu(z))"
   ]
  },
  {
   "cell_type": "code",
   "execution_count": 7,
   "id": "3fa60049",
   "metadata": {
    "ExecuteTime": {
     "end_time": "2022-05-29T09:49:17.260562Z",
     "start_time": "2022-05-29T09:49:16.166415Z"
    }
   },
   "outputs": [
    {
     "name": "stdout",
     "output_type": "stream",
     "text": [
      "tf.Tensor(-0.95021296, shape=(), dtype=float32)\n"
     ]
    }
   ],
   "source": [
    "# 标量\n",
    "print(scaled_elu(tf.constant(-3.)))"
   ]
  },
  {
   "cell_type": "code",
   "execution_count": 8,
   "id": "115eb77b",
   "metadata": {
    "ExecuteTime": {
     "end_time": "2022-05-29T09:51:27.605316Z",
     "start_time": "2022-05-29T09:51:27.575634Z"
    }
   },
   "outputs": [
    {
     "name": "stdout",
     "output_type": "stream",
     "text": [
      "tf.Tensor([-0.95021296 -0.917915  ], shape=(2,), dtype=float32)\n"
     ]
    }
   ],
   "source": [
    "# 向量\n",
    "print(scaled_elu(tf.constant([-3., -2.5])))"
   ]
  },
  {
   "cell_type": "code",
   "execution_count": 9,
   "id": "0b5c156a",
   "metadata": {
    "ExecuteTime": {
     "end_time": "2022-05-29T09:52:45.073726Z",
     "start_time": "2022-05-29T09:52:45.060973Z"
    }
   },
   "outputs": [],
   "source": [
    "scaled_elu_tf = tf.function(scaled_elu)"
   ]
  },
  {
   "cell_type": "code",
   "execution_count": 10,
   "id": "0006a8d8",
   "metadata": {
    "ExecuteTime": {
     "end_time": "2022-05-29T09:53:02.918177Z",
     "start_time": "2022-05-29T09:53:02.905386Z"
    }
   },
   "outputs": [
    {
     "data": {
      "text/plain": [
       "<tensorflow.python.eager.def_function.Function at 0x21efb139be0>"
      ]
     },
     "execution_count": 10,
     "metadata": {},
     "output_type": "execute_result"
    }
   ],
   "source": [
    "scaled_elu_tf"
   ]
  },
  {
   "cell_type": "code",
   "execution_count": 11,
   "id": "dd6a7b2c",
   "metadata": {
    "ExecuteTime": {
     "end_time": "2022-05-29T09:53:28.238913Z",
     "start_time": "2022-05-29T09:53:28.018624Z"
    }
   },
   "outputs": [
    {
     "name": "stdout",
     "output_type": "stream",
     "text": [
      "tf.Tensor(-0.95021296, shape=(), dtype=float32)\n",
      "tf.Tensor([-0.95021296 -0.917915  ], shape=(2,), dtype=float32)\n"
     ]
    }
   ],
   "source": [
    "print(scaled_elu_tf(tf.constant(-3.)))\n",
    "print(scaled_elu_tf(tf.constant([-3., -2.5])))"
   ]
  },
  {
   "cell_type": "code",
   "execution_count": 12,
   "id": "c123377d",
   "metadata": {
    "ExecuteTime": {
     "end_time": "2022-05-29T09:54:39.673523Z",
     "start_time": "2022-05-29T09:54:35.890040Z"
    }
   },
   "outputs": [
    {
     "name": "stdout",
     "output_type": "stream",
     "text": [
      "25.3 ms ± 2.53 ms per loop (mean ± std. dev. of 7 runs, 10 loops each)\n",
      "21 ms ± 1.47 ms per loop (mean ± std. dev. of 7 runs, 10 loops each)\n"
     ]
    }
   ],
   "source": [
    "%timeit scaled_elu(tf.random.normal((1000, 1000)))\n",
    "%timeit scaled_elu_tf(tf.random.normal((1000, 1000)))"
   ]
  },
  {
   "cell_type": "code",
   "execution_count": 13,
   "id": "b2bc0a34",
   "metadata": {
    "ExecuteTime": {
     "end_time": "2022-05-29T09:57:56.318345Z",
     "start_time": "2022-05-29T09:57:56.312267Z"
    }
   },
   "outputs": [
    {
     "data": {
      "text/plain": [
       "True"
      ]
     },
     "execution_count": 13,
     "metadata": {},
     "output_type": "execute_result"
    }
   ],
   "source": [
    "scaled_elu_tf.python_function is scaled_elu"
   ]
  },
  {
   "cell_type": "code",
   "execution_count": 14,
   "id": "3a21b7ae",
   "metadata": {
    "ExecuteTime": {
     "end_time": "2022-05-29T09:59:16.274078Z",
     "start_time": "2022-05-29T09:59:16.260509Z"
    }
   },
   "outputs": [],
   "source": [
    "# tf.function装饰器的写法\n",
    "# 1 + 1/2 + 1/2^2 + 1/ 2^3 + ... + 1/2^n  = 2\n",
    "\n",
    "@tf.function\n",
    "def converge_to_2(n_iters):\n",
    "    total = tf.constant(0.)\n",
    "    increment = tf.constant(1.)\n",
    "    for _ in range(n_iters):\n",
    "        total += increment\n",
    "        increment /= 2.0\n",
    "    return total"
   ]
  },
  {
   "cell_type": "code",
   "execution_count": 15,
   "id": "29661dc4",
   "metadata": {
    "ExecuteTime": {
     "end_time": "2022-05-29T09:59:26.027612Z",
     "start_time": "2022-05-29T09:59:26.020657Z"
    }
   },
   "outputs": [
    {
     "data": {
      "text/plain": [
       "<tensorflow.python.eager.def_function.Function at 0x21efb131fd0>"
      ]
     },
     "execution_count": 15,
     "metadata": {},
     "output_type": "execute_result"
    }
   ],
   "source": [
    "converge_to_2"
   ]
  },
  {
   "cell_type": "code",
   "execution_count": 16,
   "id": "d6df4810",
   "metadata": {
    "ExecuteTime": {
     "end_time": "2022-05-29T10:01:32.325626Z",
     "start_time": "2022-05-29T10:01:32.126804Z"
    }
   },
   "outputs": [
    {
     "data": {
      "text/plain": [
       "<tf.Tensor: shape=(), dtype=float32, numpy=2.0>"
      ]
     },
     "execution_count": 16,
     "metadata": {},
     "output_type": "execute_result"
    }
   ],
   "source": [
    "converge_to_2(28)"
   ]
  },
  {
   "cell_type": "code",
   "execution_count": 17,
   "id": "318ff5d8",
   "metadata": {
    "ExecuteTime": {
     "end_time": "2022-05-29T10:03:27.974287Z",
     "start_time": "2022-05-29T10:03:27.959415Z"
    }
   },
   "outputs": [],
   "source": [
    "# 展示tensorflow内部计算代码\n",
    "def display_tf_code(func):\n",
    "    code = tf.autograph.to_code(func)\n",
    "    from IPython.display import display, Markdown\n",
    "    display(Markdown('```python\\n{}\\n```'.format(code)))"
   ]
  },
  {
   "cell_type": "code",
   "execution_count": 18,
   "id": "170e8a9f",
   "metadata": {
    "ExecuteTime": {
     "end_time": "2022-05-29T10:04:56.478870Z",
     "start_time": "2022-05-29T10:04:56.462157Z"
    }
   },
   "outputs": [
    {
     "data": {
      "text/markdown": [
       "```python\n",
       "def tf__scaled_elu(z, scale=None, alpha=None):\n",
       "    with ag__.FunctionScope('scaled_elu', 'fscope', ag__.ConversionOptions(recursive=True, user_requested=True, optional_features=(), internal_convert_user_code=True)) as fscope:\n",
       "        do_return = False\n",
       "        retval_ = ag__.UndefinedReturnValue()\n",
       "        is_positive = ag__.converted_call(ag__.ld(tf).greater_equal, (ag__.ld(z), 0.0), None, fscope)\n",
       "        try:\n",
       "            do_return = True\n",
       "            retval_ = ag__.ld(scale) * ag__.converted_call(ag__.ld(tf).where, (ag__.ld(is_positive), ag__.ld(z), ag__.ld(alpha) * ag__.converted_call(ag__.ld(tf).nn.elu, (ag__.ld(z),), None, fscope)), None, fscope)\n",
       "        except:\n",
       "            do_return = False\n",
       "            raise\n",
       "        return fscope.ret(retval_, do_return)\n",
       "\n",
       "```"
      ],
      "text/plain": [
       "<IPython.core.display.Markdown object>"
      ]
     },
     "metadata": {},
     "output_type": "display_data"
    }
   ],
   "source": [
    "display_tf_code(scaled_elu)"
   ]
  },
  {
   "cell_type": "code",
   "execution_count": 19,
   "id": "808eec21",
   "metadata": {
    "ExecuteTime": {
     "end_time": "2022-05-29T10:05:22.174522Z",
     "start_time": "2022-05-29T10:05:22.165601Z"
    }
   },
   "outputs": [
    {
     "data": {
      "text/markdown": [
       "```python\n",
       "def tf__converge_to(n_iters):\n",
       "    with ag__.FunctionScope('converge_to_2', 'fscope', ag__.ConversionOptions(recursive=True, user_requested=True, optional_features=(), internal_convert_user_code=True)) as fscope:\n",
       "        do_return = False\n",
       "        retval_ = ag__.UndefinedReturnValue()\n",
       "        total = ag__.converted_call(ag__.ld(tf).constant, (0.0,), None, fscope)\n",
       "        increment = ag__.converted_call(ag__.ld(tf).constant, (1.0,), None, fscope)\n",
       "\n",
       "        def get_state():\n",
       "            return (total, increment)\n",
       "\n",
       "        def set_state(vars_):\n",
       "            nonlocal total, increment\n",
       "            (total, increment) = vars_\n",
       "\n",
       "        def loop_body(itr):\n",
       "            nonlocal total, increment\n",
       "            _ = itr\n",
       "            total = ag__.ld(total)\n",
       "            total += increment\n",
       "            increment = ag__.ld(increment)\n",
       "            increment /= 2.0\n",
       "        _ = ag__.Undefined('_')\n",
       "        ag__.for_stmt(ag__.converted_call(ag__.ld(range), (ag__.ld(n_iters),), None, fscope), None, loop_body, get_state, set_state, ('total', 'increment'), {'iterate_names': '_'})\n",
       "        try:\n",
       "            do_return = True\n",
       "            retval_ = ag__.ld(total)\n",
       "        except:\n",
       "            do_return = False\n",
       "            raise\n",
       "        return fscope.ret(retval_, do_return)\n",
       "\n",
       "```"
      ],
      "text/plain": [
       "<IPython.core.display.Markdown object>"
      ]
     },
     "metadata": {},
     "output_type": "display_data"
    }
   ],
   "source": [
    "display_tf_code(converge_to_2.python_function)"
   ]
  },
  {
   "cell_type": "code",
   "execution_count": 20,
   "id": "5d8f5848",
   "metadata": {
    "ExecuteTime": {
     "end_time": "2022-05-29T10:06:03.872733Z",
     "start_time": "2022-05-29T10:06:03.803452Z"
    }
   },
   "outputs": [
    {
     "name": "stdout",
     "output_type": "stream",
     "text": [
      "tf.Tensor(21.0, shape=(), dtype=float32)\n"
     ]
    }
   ],
   "source": [
    "# 函数操作的是tensorflow的变量, 那么要把变量定义在函数外面.\n",
    "var = tf.Variable(0.)\n",
    "\n",
    "@tf.function\n",
    "def add_21():\n",
    "    return var.assign_add(21) # 21\n",
    "print(add_21())"
   ]
  },
  {
   "cell_type": "code",
   "execution_count": 21,
   "id": "eedd5928",
   "metadata": {
    "ExecuteTime": {
     "end_time": "2022-05-29T10:08:32.500060Z",
     "start_time": "2022-05-29T10:08:32.482973Z"
    }
   },
   "outputs": [],
   "source": [
    "# 通过tf.function的签名来规定输入参数的数据类型\n",
    "@ tf.function(input_signature=[tf.TensorSpec([None], tf.float32, name='x')])\n",
    "def cube(z):\n",
    "    return tf.pow(z, 3)"
   ]
  },
  {
   "cell_type": "code",
   "execution_count": 25,
   "id": "4b3b9f22",
   "metadata": {
    "ExecuteTime": {
     "end_time": "2022-05-29T10:11:24.738506Z",
     "start_time": "2022-05-29T10:11:24.705205Z"
    }
   },
   "outputs": [
    {
     "data": {
      "text/plain": [
       "<tf.Tensor: shape=(3,), dtype=float32, numpy=array([ 1.3310001, 10.648001 , 35.936996 ], dtype=float32)>"
      ]
     },
     "execution_count": 25,
     "metadata": {},
     "output_type": "execute_result"
    }
   ],
   "source": [
    "cube(tf.constant([1.1,2.2,3.3]))"
   ]
  },
  {
   "cell_type": "code",
   "execution_count": 26,
   "id": "98b1263d",
   "metadata": {
    "ExecuteTime": {
     "end_time": "2022-05-29T10:17:28.316262Z",
     "start_time": "2022-05-29T10:17:28.299633Z"
    }
   },
   "outputs": [
    {
     "name": "stdout",
     "output_type": "stream",
     "text": [
      "ConcreteFunction cube(z)\n",
      "  Args:\n",
      "    z: float32 Tensor, shape=(None,)\n",
      "  Returns:\n",
      "    float32 Tensor, shape=(None,)\n"
     ]
    }
   ],
   "source": [
    "# get_concrete_function --> SavedModel\n",
    "cube_func_float32 = cube.get_concrete_function(tf.TensorSpec([None], tf.float32))\n",
    "print(cube_func_float32)"
   ]
  },
  {
   "cell_type": "code",
   "execution_count": 27,
   "id": "0d0eddf5",
   "metadata": {
    "ExecuteTime": {
     "end_time": "2022-05-29T10:18:35.352579Z",
     "start_time": "2022-05-29T10:18:35.346487Z"
    }
   },
   "outputs": [
    {
     "data": {
      "text/plain": [
       "<tensorflow.python.framework.func_graph.FuncGraph at 0x21efb0fedf0>"
      ]
     },
     "execution_count": 27,
     "metadata": {},
     "output_type": "execute_result"
    }
   ],
   "source": [
    "cube_func_float32.graph"
   ]
  },
  {
   "cell_type": "code",
   "execution_count": 28,
   "id": "ea7b4451",
   "metadata": {
    "ExecuteTime": {
     "end_time": "2022-05-29T10:18:50.611344Z",
     "start_time": "2022-05-29T10:18:50.595062Z"
    }
   },
   "outputs": [
    {
     "data": {
      "text/plain": [
       "[<tf.Operation 'x' type=Placeholder>,\n",
       " <tf.Operation 'Pow/y' type=Const>,\n",
       " <tf.Operation 'Pow' type=Pow>,\n",
       " <tf.Operation 'Identity' type=Identity>]"
      ]
     },
     "execution_count": 28,
     "metadata": {},
     "output_type": "execute_result"
    }
   ],
   "source": [
    "cube_func_float32.graph.get_operations()"
   ]
  },
  {
   "cell_type": "code",
   "execution_count": 29,
   "id": "180bff94",
   "metadata": {
    "ExecuteTime": {
     "end_time": "2022-05-29T10:19:01.809468Z",
     "start_time": "2022-05-29T10:19:01.792335Z"
    }
   },
   "outputs": [],
   "source": [
    "pow_op = cube_func_float32.graph.get_operations()[2]"
   ]
  },
  {
   "cell_type": "code",
   "execution_count": 30,
   "id": "b568b4a9",
   "metadata": {
    "ExecuteTime": {
     "end_time": "2022-05-29T10:19:15.481032Z",
     "start_time": "2022-05-29T10:19:15.464013Z"
    }
   },
   "outputs": [
    {
     "name": "stdout",
     "output_type": "stream",
     "text": [
      "name: \"Pow\"\n",
      "op: \"Pow\"\n",
      "input: \"x\"\n",
      "input: \"Pow/y\"\n",
      "attr {\n",
      "  key: \"T\"\n",
      "  value {\n",
      "    type: DT_FLOAT\n",
      "  }\n",
      "}\n",
      "\n"
     ]
    }
   ],
   "source": [
    "print(pow_op)"
   ]
  },
  {
   "cell_type": "code",
   "execution_count": 31,
   "id": "07ace5dd",
   "metadata": {
    "ExecuteTime": {
     "end_time": "2022-05-29T10:20:26.386300Z",
     "start_time": "2022-05-29T10:20:26.367644Z"
    }
   },
   "outputs": [
    {
     "name": "stdout",
     "output_type": "stream",
     "text": [
      "[<tf.Tensor 'x:0' shape=(None,) dtype=float32>, <tf.Tensor 'Pow/y:0' shape=() dtype=float32>]\n"
     ]
    }
   ],
   "source": [
    "print(list(pow_op.inputs))"
   ]
  },
  {
   "cell_type": "code",
   "execution_count": 32,
   "id": "049cba7d",
   "metadata": {
    "ExecuteTime": {
     "end_time": "2022-05-29T10:20:43.281066Z",
     "start_time": "2022-05-29T10:20:43.263329Z"
    }
   },
   "outputs": [
    {
     "name": "stdout",
     "output_type": "stream",
     "text": [
      "[<tf.Tensor 'Pow:0' shape=(None,) dtype=float32>]\n"
     ]
    }
   ],
   "source": [
    "print(list(pow_op.outputs))"
   ]
  },
  {
   "cell_type": "code",
   "execution_count": 33,
   "id": "de120b62",
   "metadata": {
    "ExecuteTime": {
     "end_time": "2022-05-29T10:21:07.673919Z",
     "start_time": "2022-05-29T10:21:07.660878Z"
    }
   },
   "outputs": [
    {
     "data": {
      "text/plain": [
       "<tf.Operation 'x' type=Placeholder>"
      ]
     },
     "execution_count": 33,
     "metadata": {},
     "output_type": "execute_result"
    }
   ],
   "source": [
    "cube_func_float32.graph.get_operation_by_name('x')"
   ]
  },
  {
   "cell_type": "code",
   "execution_count": 34,
   "id": "1e7463b5",
   "metadata": {
    "ExecuteTime": {
     "end_time": "2022-05-29T10:21:22.661148Z",
     "start_time": "2022-05-29T10:21:22.641136Z"
    }
   },
   "outputs": [
    {
     "data": {
      "text/plain": [
       "node {\n",
       "  name: \"x\"\n",
       "  op: \"Placeholder\"\n",
       "  attr {\n",
       "    key: \"_user_specified_name\"\n",
       "    value {\n",
       "      s: \"x\"\n",
       "    }\n",
       "  }\n",
       "  attr {\n",
       "    key: \"dtype\"\n",
       "    value {\n",
       "      type: DT_FLOAT\n",
       "    }\n",
       "  }\n",
       "  attr {\n",
       "    key: \"shape\"\n",
       "    value {\n",
       "      shape {\n",
       "        dim {\n",
       "          size: -1\n",
       "        }\n",
       "      }\n",
       "    }\n",
       "  }\n",
       "}\n",
       "node {\n",
       "  name: \"Pow/y\"\n",
       "  op: \"Const\"\n",
       "  attr {\n",
       "    key: \"dtype\"\n",
       "    value {\n",
       "      type: DT_FLOAT\n",
       "    }\n",
       "  }\n",
       "  attr {\n",
       "    key: \"value\"\n",
       "    value {\n",
       "      tensor {\n",
       "        dtype: DT_FLOAT\n",
       "        tensor_shape {\n",
       "        }\n",
       "        float_val: 3.0\n",
       "      }\n",
       "    }\n",
       "  }\n",
       "}\n",
       "node {\n",
       "  name: \"Pow\"\n",
       "  op: \"Pow\"\n",
       "  input: \"x\"\n",
       "  input: \"Pow/y\"\n",
       "  attr {\n",
       "    key: \"T\"\n",
       "    value {\n",
       "      type: DT_FLOAT\n",
       "    }\n",
       "  }\n",
       "}\n",
       "node {\n",
       "  name: \"Identity\"\n",
       "  op: \"Identity\"\n",
       "  input: \"Pow\"\n",
       "  attr {\n",
       "    key: \"T\"\n",
       "    value {\n",
       "      type: DT_FLOAT\n",
       "    }\n",
       "  }\n",
       "}\n",
       "versions {\n",
       "  producer: 1087\n",
       "}"
      ]
     },
     "execution_count": 34,
     "metadata": {},
     "output_type": "execute_result"
    }
   ],
   "source": [
    "cube_func_float32.graph.as_graph_def()"
   ]
  },
  {
   "cell_type": "markdown",
   "id": "38fbe4d2",
   "metadata": {},
   "source": [
    "# 自定义损失函数"
   ]
  },
  {
   "cell_type": "code",
   "execution_count": 35,
   "id": "b9129d63",
   "metadata": {
    "ExecuteTime": {
     "end_time": "2022-05-29T10:27:46.823670Z",
     "start_time": "2022-05-29T10:27:46.817064Z"
    }
   },
   "outputs": [],
   "source": [
    "from sklearn.datasets import fetch_california_housing"
   ]
  },
  {
   "cell_type": "code",
   "execution_count": 41,
   "id": "a04bd5fd",
   "metadata": {
    "ExecuteTime": {
     "end_time": "2022-05-29T10:34:09.885288Z",
     "start_time": "2022-05-29T10:34:09.856008Z"
    }
   },
   "outputs": [
    {
     "name": "stdout",
     "output_type": "stream",
     "text": [
      ".. _california_housing_dataset:\n",
      "\n",
      "California Housing dataset\n",
      "--------------------------\n",
      "\n",
      "**Data Set Characteristics:**\n",
      "\n",
      "    :Number of Instances: 20640\n",
      "\n",
      "    :Number of Attributes: 8 numeric, predictive attributes and the target\n",
      "\n",
      "    :Attribute Information:\n",
      "        - MedInc        median income in block group\n",
      "        - HouseAge      median house age in block group\n",
      "        - AveRooms      average number of rooms per household\n",
      "        - AveBedrms     average number of bedrooms per household\n",
      "        - Population    block group population\n",
      "        - AveOccup      average number of household members\n",
      "        - Latitude      block group latitude\n",
      "        - Longitude     block group longitude\n",
      "\n",
      "    :Missing Attribute Values: None\n",
      "\n",
      "This dataset was obtained from the StatLib repository.\n",
      "https://www.dcc.fc.up.pt/~ltorgo/Regression/cal_housing.html\n",
      "\n",
      "The target variable is the median house value for California districts,\n",
      "expressed in hundreds of thousands of dollars ($100,000).\n",
      "\n",
      "This dataset was derived from the 1990 U.S. census, using one row per census\n",
      "block group. A block group is the smallest geographical unit for which the U.S.\n",
      "Census Bureau publishes sample data (a block group typically has a population\n",
      "of 600 to 3,000 people).\n",
      "\n",
      "An household is a group of people residing within a home. Since the average\n",
      "number of rooms and bedrooms in this dataset are provided per household, these\n",
      "columns may take surpinsingly large values for block groups with few households\n",
      "and many empty houses, such as vacation resorts.\n",
      "\n",
      "It can be downloaded/loaded using the\n",
      ":func:`sklearn.datasets.fetch_california_housing` function.\n",
      "\n",
      ".. topic:: References\n",
      "\n",
      "    - Pace, R. Kelley and Ronald Barry, Sparse Spatial Autoregressions,\n",
      "      Statistics and Probability Letters, 33 (1997) 291-297\n",
      "\n"
     ]
    }
   ],
   "source": [
    "housing = fetch_california_housing()\n",
    "print(housing.DESCR)"
   ]
  },
  {
   "cell_type": "code",
   "execution_count": 42,
   "id": "bb4b1fb5",
   "metadata": {
    "ExecuteTime": {
     "end_time": "2022-05-29T10:34:13.516075Z",
     "start_time": "2022-05-29T10:34:13.510586Z"
    }
   },
   "outputs": [
    {
     "name": "stdout",
     "output_type": "stream",
     "text": [
      "[4.526 3.585 3.521 ... 0.923 0.847 0.894]\n"
     ]
    }
   ],
   "source": [
    "print(housing.target)"
   ]
  },
  {
   "cell_type": "code",
   "execution_count": 43,
   "id": "702de85e",
   "metadata": {
    "ExecuteTime": {
     "end_time": "2022-05-29T10:34:24.821371Z",
     "start_time": "2022-05-29T10:34:24.807522Z"
    }
   },
   "outputs": [
    {
     "data": {
      "text/plain": [
       "(20640, 8)"
      ]
     },
     "execution_count": 43,
     "metadata": {},
     "output_type": "execute_result"
    }
   ],
   "source": [
    "housing.data.shape"
   ]
  },
  {
   "cell_type": "code",
   "execution_count": 44,
   "id": "5e2732a9",
   "metadata": {
    "ExecuteTime": {
     "end_time": "2022-05-29T10:35:34.118723Z",
     "start_time": "2022-05-29T10:35:34.008398Z"
    }
   },
   "outputs": [
    {
     "name": "stdout",
     "output_type": "stream",
     "text": [
      "(11610, 8) (11610,)\n",
      "(3870, 8) (3870,)\n",
      "(5160, 8) (5160,)\n"
     ]
    }
   ],
   "source": [
    "# 切割数据\n",
    "# 训练数据, 验证集, 测试数据\n",
    "from sklearn.model_selection import train_test_split\n",
    "\n",
    "x_train_all, x_test, y_train_all, y_test = train_test_split(housing.data, housing.target, random_state=7)\n",
    "# 从x_train_all中切割出训练数据和校验数据\n",
    "x_train, x_valid, y_train, y_valid = train_test_split(x_train_all, y_train_all, random_state=11)\n",
    "print(x_train.shape, y_train.shape)\n",
    "print(x_valid.shape, y_valid.shape)\n",
    "print(x_test.shape, y_test.shape)"
   ]
  },
  {
   "cell_type": "code",
   "execution_count": 45,
   "id": "f14b0176",
   "metadata": {
    "ExecuteTime": {
     "end_time": "2022-05-29T10:36:14.874597Z",
     "start_time": "2022-05-29T10:36:14.854753Z"
    }
   },
   "outputs": [],
   "source": [
    "# 标准化处理\n",
    "from sklearn.preprocessing import StandardScaler\n",
    "\n",
    "scaler = StandardScaler()\n",
    "x_train_scaled = scaler.fit_transform(x_train)\n",
    "x_valid_scaled = scaler.transform(x_valid)\n",
    "x_test_scaled = scaler.transform(x_test)"
   ]
  },
  {
   "cell_type": "code",
   "execution_count": 46,
   "id": "f961bfd5",
   "metadata": {
    "ExecuteTime": {
     "end_time": "2022-05-29T10:45:51.363873Z",
     "start_time": "2022-05-29T10:45:51.355048Z"
    }
   },
   "outputs": [
    {
     "data": {
      "text/plain": [
       "(11610, 8)"
      ]
     },
     "execution_count": 46,
     "metadata": {},
     "output_type": "execute_result"
    }
   ],
   "source": [
    "x_train.shape"
   ]
  },
  {
   "cell_type": "code",
   "execution_count": 47,
   "id": "b41b84fa",
   "metadata": {
    "ExecuteTime": {
     "end_time": "2022-05-29T10:46:37.391758Z",
     "start_time": "2022-05-29T10:46:37.336404Z"
    }
   },
   "outputs": [],
   "source": [
    "# 定义网络\n",
    "model = keras.models.Sequential([\n",
    "    # input_dim, input_shape一定要是元组\n",
    "    keras.layers.Dense(32, activation='relu', input_shape=x_train.shape[1:]),\n",
    "    keras.layers.Dense(1)\n",
    "])"
   ]
  },
  {
   "cell_type": "code",
   "execution_count": 48,
   "id": "1c560dc3",
   "metadata": {
    "ExecuteTime": {
     "end_time": "2022-05-29T10:46:46.027461Z",
     "start_time": "2022-05-29T10:46:46.012769Z"
    }
   },
   "outputs": [
    {
     "data": {
      "text/plain": [
       "(8,)"
      ]
     },
     "execution_count": 48,
     "metadata": {},
     "output_type": "execute_result"
    }
   ],
   "source": [
    "x_train.shape[1:]"
   ]
  },
  {
   "cell_type": "code",
   "execution_count": 50,
   "id": "efddfe22",
   "metadata": {
    "ExecuteTime": {
     "end_time": "2022-05-29T10:49:13.674886Z",
     "start_time": "2022-05-29T10:49:13.655467Z"
    }
   },
   "outputs": [
    {
     "name": "stdout",
     "output_type": "stream",
     "text": [
      "Model: \"sequential\"\n",
      "_________________________________________________________________\n",
      " Layer (type)                Output Shape              Param #   \n",
      "=================================================================\n",
      " dense (Dense)               (None, 32)                288       \n",
      "                                                                 \n",
      " dense_1 (Dense)             (None, 1)                 33        \n",
      "                                                                 \n",
      "=================================================================\n",
      "Total params: 321\n",
      "Trainable params: 321\n",
      "Non-trainable params: 0\n",
      "_________________________________________________________________\n"
     ]
    }
   ],
   "source": [
    "model.summary()"
   ]
  },
  {
   "cell_type": "code",
   "execution_count": 52,
   "id": "344b3fff",
   "metadata": {
    "ExecuteTime": {
     "end_time": "2022-05-29T10:50:36.845038Z",
     "start_time": "2022-05-29T10:50:36.838254Z"
    }
   },
   "outputs": [
    {
     "data": {
      "text/plain": [
       "288"
      ]
     },
     "execution_count": 52,
     "metadata": {},
     "output_type": "execute_result"
    }
   ],
   "source": [
    "32*8 +32"
   ]
  },
  {
   "cell_type": "code",
   "execution_count": 53,
   "id": "93b2ced4",
   "metadata": {
    "ExecuteTime": {
     "end_time": "2022-05-29T10:50:55.399301Z",
     "start_time": "2022-05-29T10:50:55.393097Z"
    }
   },
   "outputs": [
    {
     "data": {
      "text/plain": [
       "33"
      ]
     },
     "execution_count": 53,
     "metadata": {},
     "output_type": "execute_result"
    }
   ],
   "source": [
    "32*1+1"
   ]
  },
  {
   "cell_type": "code",
   "execution_count": 54,
   "id": "bcb06688",
   "metadata": {
    "ExecuteTime": {
     "end_time": "2022-05-29T10:54:55.316971Z",
     "start_time": "2022-05-29T10:54:55.300414Z"
    }
   },
   "outputs": [],
   "source": [
    "# 自定义损失函数\n",
    "def customized_mse(y_true,y_pred):\n",
    "    return tf.reduce_mean(tf.square(y_pred - y_true))\n",
    "model.compile(loss=customized_mse,optimizer='sgd',metrics=[customized_mse])"
   ]
  },
  {
   "cell_type": "code",
   "execution_count": 55,
   "id": "4cf051dd",
   "metadata": {
    "ExecuteTime": {
     "end_time": "2022-05-29T11:00:23.409676Z",
     "start_time": "2022-05-29T11:00:04.546197Z"
    }
   },
   "outputs": [
    {
     "name": "stdout",
     "output_type": "stream",
     "text": [
      "Epoch 1/20\n",
      "363/363 [==============================] - 2s 3ms/step - loss: 0.7608 - customized_mse: 0.7608 - val_loss: 0.7033 - val_customized_mse: 0.7032\n",
      "Epoch 2/20\n",
      "363/363 [==============================] - 1s 3ms/step - loss: 1.1336 - customized_mse: 1.1332 - val_loss: 0.5357 - val_customized_mse: 0.5356\n",
      "Epoch 3/20\n",
      "363/363 [==============================] - 1s 3ms/step - loss: 0.4442 - customized_mse: 0.4441 - val_loss: 0.4422 - val_customized_mse: 0.4421\n",
      "Epoch 4/20\n",
      "363/363 [==============================] - 1s 2ms/step - loss: 0.4109 - customized_mse: 0.4110 - val_loss: 0.4178 - val_customized_mse: 0.4178\n",
      "Epoch 5/20\n",
      "363/363 [==============================] - 1s 2ms/step - loss: 0.3960 - customized_mse: 0.3962 - val_loss: 0.4160 - val_customized_mse: 0.4159\n",
      "Epoch 6/20\n",
      "363/363 [==============================] - 1s 3ms/step - loss: 0.3893 - customized_mse: 0.3893 - val_loss: 0.4010 - val_customized_mse: 0.4010\n",
      "Epoch 7/20\n",
      "363/363 [==============================] - 1s 2ms/step - loss: 0.3840 - customized_mse: 0.3840 - val_loss: 0.3902 - val_customized_mse: 0.3901\n",
      "Epoch 8/20\n",
      "363/363 [==============================] - 1s 2ms/step - loss: 0.3766 - customized_mse: 0.3766 - val_loss: 0.3909 - val_customized_mse: 0.3909\n",
      "Epoch 9/20\n",
      "363/363 [==============================] - 1s 3ms/step - loss: 0.3731 - customized_mse: 0.3729 - val_loss: 0.3830 - val_customized_mse: 0.3830\n",
      "Epoch 10/20\n",
      "363/363 [==============================] - 1s 3ms/step - loss: 0.3680 - customized_mse: 0.3680 - val_loss: 0.3773 - val_customized_mse: 0.3772\n",
      "Epoch 11/20\n",
      "363/363 [==============================] - 1s 2ms/step - loss: 0.3651 - customized_mse: 0.3655 - val_loss: 0.3732 - val_customized_mse: 0.3732\n",
      "Epoch 12/20\n",
      "363/363 [==============================] - 1s 2ms/step - loss: 0.3626 - customized_mse: 0.3625 - val_loss: 0.3666 - val_customized_mse: 0.3665\n",
      "Epoch 13/20\n",
      "363/363 [==============================] - 1s 3ms/step - loss: 0.3583 - customized_mse: 0.3583 - val_loss: 0.3635 - val_customized_mse: 0.3634\n",
      "Epoch 14/20\n",
      "363/363 [==============================] - 1s 2ms/step - loss: 0.3562 - customized_mse: 0.3561 - val_loss: 0.3634 - val_customized_mse: 0.3633\n",
      "Epoch 15/20\n",
      "363/363 [==============================] - 1s 3ms/step - loss: 0.3550 - customized_mse: 0.3551 - val_loss: 0.3676 - val_customized_mse: 0.3676\n",
      "Epoch 16/20\n",
      "363/363 [==============================] - 1s 3ms/step - loss: 0.3551 - customized_mse: 0.3551 - val_loss: 0.3593 - val_customized_mse: 0.3592\n",
      "Epoch 17/20\n",
      "363/363 [==============================] - 1s 2ms/step - loss: 0.3505 - customized_mse: 0.3505 - val_loss: 0.3585 - val_customized_mse: 0.3584\n",
      "Epoch 18/20\n",
      "363/363 [==============================] - 1s 2ms/step - loss: 0.3486 - customized_mse: 0.3486 - val_loss: 0.3590 - val_customized_mse: 0.3589\n",
      "Epoch 19/20\n",
      "363/363 [==============================] - 1s 3ms/step - loss: 0.3471 - customized_mse: 0.3471 - val_loss: 0.3562 - val_customized_mse: 0.3561\n",
      "Epoch 20/20\n",
      "363/363 [==============================] - 1s 2ms/step - loss: 0.3445 - customized_mse: 0.3446 - val_loss: 0.3520 - val_customized_mse: 0.3519\n"
     ]
    }
   ],
   "source": [
    "callbacks = []\n",
    "history = model.fit(x_train_scaled, y_train, \n",
    "          validation_data=(x_valid_scaled, y_valid), \n",
    "          epochs=20)"
   ]
  },
  {
   "cell_type": "code",
   "execution_count": 56,
   "id": "57c8cde3",
   "metadata": {
    "ExecuteTime": {
     "end_time": "2022-05-29T11:08:03.158570Z",
     "start_time": "2022-05-29T11:08:03.147587Z"
    }
   },
   "outputs": [
    {
     "data": {
      "text/plain": [
       "{'loss': [0.7608385682106018,\n",
       "  1.1336361169815063,\n",
       "  0.44415318965911865,\n",
       "  0.4109194278717041,\n",
       "  0.39597195386886597,\n",
       "  0.38927534222602844,\n",
       "  0.384023517370224,\n",
       "  0.3766297399997711,\n",
       "  0.373050332069397,\n",
       "  0.3680110275745392,\n",
       "  0.36512675881385803,\n",
       "  0.36257052421569824,\n",
       "  0.3582809865474701,\n",
       "  0.35622599720954895,\n",
       "  0.35500115156173706,\n",
       "  0.3551100492477417,\n",
       "  0.3504903316497803,\n",
       "  0.34864330291748047,\n",
       "  0.3470538556575775,\n",
       "  0.34452444314956665],\n",
       " 'customized_mse': [0.7607795000076294,\n",
       "  1.1332389116287231,\n",
       "  0.4440617561340332,\n",
       "  0.4110241234302521,\n",
       "  0.39616915583610535,\n",
       "  0.3893277049064636,\n",
       "  0.3840283155441284,\n",
       "  0.37663331627845764,\n",
       "  0.37294745445251465,\n",
       "  0.3679792881011963,\n",
       "  0.3654951751232147,\n",
       "  0.3625240623950958,\n",
       "  0.35827961564064026,\n",
       "  0.35609060525894165,\n",
       "  0.35509514808654785,\n",
       "  0.35507071018218994,\n",
       "  0.350525826215744,\n",
       "  0.3486345708370209,\n",
       "  0.3471069633960724,\n",
       "  0.344564825296402],\n",
       " 'val_loss': [0.7033477425575256,\n",
       "  0.5357256531715393,\n",
       "  0.44220659136772156,\n",
       "  0.417833149433136,\n",
       "  0.4159872233867645,\n",
       "  0.4010377824306488,\n",
       "  0.39019790291786194,\n",
       "  0.3909303545951843,\n",
       "  0.38301321864128113,\n",
       "  0.3772739768028259,\n",
       "  0.3732436001300812,\n",
       "  0.36657121777534485,\n",
       "  0.36346009373664856,\n",
       "  0.36336302757263184,\n",
       "  0.3676334619522095,\n",
       "  0.35930395126342773,\n",
       "  0.35845938324928284,\n",
       "  0.3589702546596527,\n",
       "  0.3561701476573944,\n",
       "  0.3519945740699768],\n",
       " 'val_customized_mse': [0.703240156173706,\n",
       "  0.5356261134147644,\n",
       "  0.4421304166316986,\n",
       "  0.4177692234516144,\n",
       "  0.41592007875442505,\n",
       "  0.4009704291820526,\n",
       "  0.3901401162147522,\n",
       "  0.39087098836898804,\n",
       "  0.3829638957977295,\n",
       "  0.37721383571624756,\n",
       "  0.37318187952041626,\n",
       "  0.3665089011192322,\n",
       "  0.36339834332466125,\n",
       "  0.3632992208003998,\n",
       "  0.36756524443626404,\n",
       "  0.35924357175827026,\n",
       "  0.3584032952785492,\n",
       "  0.3589092493057251,\n",
       "  0.356099009513855,\n",
       "  0.3519292175769806]}"
      ]
     },
     "execution_count": 56,
     "metadata": {},
     "output_type": "execute_result"
    }
   ],
   "source": [
    "history.history"
   ]
  },
  {
   "cell_type": "code",
   "execution_count": 57,
   "id": "183ed37b",
   "metadata": {
    "ExecuteTime": {
     "end_time": "2022-05-29T11:08:14.064132Z",
     "start_time": "2022-05-29T11:08:13.847101Z"
    }
   },
   "outputs": [
    {
     "data": {
      "image/png": "[encoded data removed]",
      "text/plain": [
       "<Figure size 576x360 with 1 Axes>"
      ]
     },
     "metadata": {
      "needs_background": "light"
     },
     "output_type": "display_data"
    }
   ],
   "source": [
    "# 定义画图的函数\n",
    "def plot_learning_curves(history):\n",
    "    pandas.DataFrame(history.history).plot(figsize=(8, 5))\n",
    "    plt.grid(True)\n",
    "    plt.gca().set_ylim(0, 1)\n",
    "    plt.show()\n",
    "plot_learning_curves(history)"
   ]
  },
  {
   "cell_type": "markdown",
   "id": "fe861c32",
   "metadata": {
    "ExecuteTime": {
     "end_time": "2022-05-29T12:11:03.330120Z",
     "start_time": "2022-05-29T12:11:03.327128Z"
    }
   },
   "source": [
    "# 微分"
   ]
  },
  {
   "cell_type": "code",
   "execution_count": 77,
   "id": "9dbf2e37",
   "metadata": {
    "ExecuteTime": {
     "end_time": "2022-05-29T13:31:46.584404Z",
     "start_time": "2022-05-29T13:31:46.579381Z"
    }
   },
   "outputs": [],
   "source": [
    "# 3 * x^2 + 2 * x - 1\n",
    "# 手动微分\n",
    "def f(x):\n",
    "    return 3. * x ** 2 + 2. * x - 1.\n",
    "\n",
    "# 近似求导\n",
    "def approximate_derivative(f, x, eps=1e-3):\n",
    "    return (f(x + eps) - f(x - eps)) / (2. * eps)"
   ]
  },
  {
   "cell_type": "code",
   "execution_count": 78,
   "id": "137f10ed",
   "metadata": {
    "ExecuteTime": {
     "end_time": "2022-05-29T13:31:52.788079Z",
     "start_time": "2022-05-29T13:31:52.768947Z"
    }
   },
   "outputs": [
    {
     "name": "stdout",
     "output_type": "stream",
     "text": [
      "7.999999999999119\n"
     ]
    }
   ],
   "source": [
    "print(approximate_derivative(f, 1.))"
   ]
  },
  {
   "cell_type": "code",
   "execution_count": 79,
   "id": "6b3efaa2",
   "metadata": {
    "ExecuteTime": {
     "end_time": "2022-05-29T13:31:55.757719Z",
     "start_time": "2022-05-29T13:31:55.743244Z"
    }
   },
   "outputs": [],
   "source": [
    "# 两个未知数, 求偏导\n",
    "def g(x1, x2):\n",
    "    return (x1 + 5) * (x2 ** 2)\n",
    "\n",
    "# 分别求g对x1,和x2的偏导.\n",
    "def approximate_gradient(g, x1, x2, eps=1e-3):\n",
    "    dg_x1 = approximate_derivative(lambda x: g(x, x2), x1, eps)\n",
    "    dg_x2 = approximate_derivative(lambda x: g(x1, x), x2, eps)\n",
    "    return dg_x1, dg_x2"
   ]
  },
  {
   "cell_type": "code",
   "execution_count": 80,
   "id": "528be97a",
   "metadata": {
    "ExecuteTime": {
     "end_time": "2022-05-29T13:31:57.779720Z",
     "start_time": "2022-05-29T13:31:57.772739Z"
    }
   },
   "outputs": [
    {
     "data": {
      "text/plain": [
       "(8.999999999993236, 41.999999999994486)"
      ]
     },
     "execution_count": 80,
     "metadata": {},
     "output_type": "execute_result"
    }
   ],
   "source": [
    "approximate_gradient(g, 2, 3)"
   ]
  },
  {
   "cell_type": "code",
   "execution_count": 81,
   "id": "6ea9fd0a",
   "metadata": {
    "ExecuteTime": {
     "end_time": "2022-05-29T13:34:02.288328Z",
     "start_time": "2022-05-29T13:34:02.249393Z"
    }
   },
   "outputs": [
    {
     "name": "stdout",
     "output_type": "stream",
     "text": [
      "tf.Tensor(9.0, shape=(), dtype=float32)\n"
     ]
    },
    {
     "ename": "RuntimeError",
     "evalue": "A non-persistent GradientTape can only be used to compute one set of gradients (or jacobians)",
     "output_type": "error",
     "traceback": [
      "\u001b[1;31m---------------------------------------------------------------------------\u001b[0m",
      "\u001b[1;31mRuntimeError\u001b[0m                              Traceback (most recent call last)",
      "\u001b[1;32mC:\\Users\\ADMINI~1\\AppData\\Local\\Temp/ipykernel_5228/271092610.py\u001b[0m in \u001b[0;36m<module>\u001b[1;34m\u001b[0m\n\u001b[0;32m      9\u001b[0m \u001b[0mprint\u001b[0m\u001b[1;33m(\u001b[0m\u001b[0mdz_x1\u001b[0m\u001b[1;33m)\u001b[0m\u001b[1;33m\u001b[0m\u001b[1;33m\u001b[0m\u001b[0m\n\u001b[0;32m     10\u001b[0m \u001b[1;31m# tape只能用一次.\u001b[0m\u001b[1;33m\u001b[0m\u001b[1;33m\u001b[0m\u001b[0m\n\u001b[1;32m---> 11\u001b[1;33m \u001b[0mdz_x2\u001b[0m \u001b[1;33m=\u001b[0m \u001b[0mtape\u001b[0m\u001b[1;33m.\u001b[0m\u001b[0mgradient\u001b[0m\u001b[1;33m(\u001b[0m\u001b[0mz\u001b[0m\u001b[1;33m,\u001b[0m \u001b[0mx2\u001b[0m\u001b[1;33m)\u001b[0m\u001b[1;33m\u001b[0m\u001b[1;33m\u001b[0m\u001b[0m\n\u001b[0m",
      "\u001b[1;32mC:\\ProgramData\\Anaconda3\\lib\\site-packages\\tensorflow\\python\\eager\\backprop.py\u001b[0m in \u001b[0;36mgradient\u001b[1;34m(self, target, sources, output_gradients, unconnected_gradients)\u001b[0m\n\u001b[0;32m   1038\u001b[0m     \"\"\"\n\u001b[0;32m   1039\u001b[0m     \u001b[1;32mif\u001b[0m \u001b[0mself\u001b[0m\u001b[1;33m.\u001b[0m\u001b[0m_tape\u001b[0m \u001b[1;32mis\u001b[0m \u001b[1;32mNone\u001b[0m\u001b[1;33m:\u001b[0m\u001b[1;33m\u001b[0m\u001b[1;33m\u001b[0m\u001b[0m\n\u001b[1;32m-> 1040\u001b[1;33m       raise RuntimeError(\"A non-persistent GradientTape can only be used to \"\n\u001b[0m\u001b[0;32m   1041\u001b[0m                          \"compute one set of gradients (or jacobians)\")\n\u001b[0;32m   1042\u001b[0m     \u001b[1;32mif\u001b[0m \u001b[0mself\u001b[0m\u001b[1;33m.\u001b[0m\u001b[0m_recording\u001b[0m\u001b[1;33m:\u001b[0m\u001b[1;33m\u001b[0m\u001b[1;33m\u001b[0m\u001b[0m\n",
      "\u001b[1;31mRuntimeError\u001b[0m: A non-persistent GradientTape can only be used to compute one set of gradients (or jacobians)"
     ]
    }
   ],
   "source": [
    "# tf.GradientTape来求导.\n",
    "x1 = tf.Variable(2.0)\n",
    "x2 = tf.Variable(3.0)\n",
    "\n",
    "with tf.GradientTape() as tape:\n",
    "    z = g(x1, x2)\n",
    "\n",
    "dz_x1 = tape.gradient(z, x1)\n",
    "print(dz_x1)\n",
    "# tape只能用一次. \n",
    "dz_x2 = tape.gradient(z, x2)"
   ]
  },
  {
   "cell_type": "markdown",
   "id": "1a89091f",
   "metadata": {},
   "source": [
    "## persistent=True"
   ]
  },
  {
   "cell_type": "code",
   "execution_count": 82,
   "id": "0df56651",
   "metadata": {
    "ExecuteTime": {
     "end_time": "2022-05-29T13:34:38.561732Z",
     "start_time": "2022-05-29T13:34:38.545278Z"
    }
   },
   "outputs": [
    {
     "name": "stdout",
     "output_type": "stream",
     "text": [
      "tf.Tensor(9.0, shape=(), dtype=float32) tf.Tensor(42.0, shape=(), dtype=float32)\n"
     ]
    }
   ],
   "source": [
    "x1 = tf.Variable(2.0)\n",
    "x2 = tf.Variable(3.0)\n",
    "\n",
    "with tf.GradientTape(persistent=True) as tape:\n",
    "    z = g(x1, x2)\n",
    "\n",
    "dz_x1 = tape.gradient(z, x1)\n",
    "dz_x2 = tape.gradient(z, x2)\n",
    "print(dz_x1, dz_x2)\n",
    "# 用完之后, 手动释放tape的内存\n",
    "del tape"
   ]
  },
  {
   "cell_type": "code",
   "execution_count": 83,
   "id": "d09b2a5d",
   "metadata": {
    "ExecuteTime": {
     "end_time": "2022-05-29T13:36:07.138551Z",
     "start_time": "2022-05-29T13:36:07.125059Z"
    }
   },
   "outputs": [
    {
     "name": "stdout",
     "output_type": "stream",
     "text": [
      "[<tf.Tensor: shape=(), dtype=float32, numpy=9.0>, <tf.Tensor: shape=(), dtype=float32, numpy=42.0>]\n"
     ]
    }
   ],
   "source": [
    "# 常量求导\n",
    "x1 = tf.constant(2.0)\n",
    "x2 = tf.constant(3.0)\n",
    "\n",
    "with tf.GradientTape() as tape:\n",
    "    tape.watch(x1)\n",
    "    tape.watch(x2)\n",
    "    z = g(x1, x2)\n",
    "    \n",
    "# 默认是不会对常量求导.\n",
    "dz_x1x2 = tape.gradient(z, [x1, x2])\n",
    "print(dz_x1x2)"
   ]
  },
  {
   "cell_type": "code",
   "execution_count": 85,
   "id": "68bc0881",
   "metadata": {
    "ExecuteTime": {
     "end_time": "2022-05-29T13:38:25.717918Z",
     "start_time": "2022-05-29T13:38:25.702958Z"
    }
   },
   "outputs": [],
   "source": [
    "from tensorflow import keras"
   ]
  },
  {
   "cell_type": "code",
   "execution_count": 84,
   "id": "91861828",
   "metadata": {
    "ExecuteTime": {
     "end_time": "2022-05-29T13:37:41.595760Z",
     "start_time": "2022-05-29T13:37:41.452144Z"
    }
   },
   "outputs": [
    {
     "name": "stdout",
     "output_type": "stream",
     "text": [
      "<tf.Variable 'Variable:0' shape=() dtype=float32, numpy=-0.3333333>\n"
     ]
    },
    {
     "name": "stderr",
     "output_type": "stream",
     "text": [
      "C:\\ProgramData\\Anaconda3\\lib\\site-packages\\keras\\optimizers\\optimizer_v2\\gradient_descent.py:108: UserWarning: The `lr` argument is deprecated, use `learning_rate` instead.\n",
      "  super(SGD, self).__init__(name, **kwargs)\n"
     ]
    }
   ],
   "source": [
    "# 结合optimizer去实现梯度下降\n",
    "learing_rate = 0.1\n",
    "x = tf.Variable(0.0)\n",
    "optimizer = keras.optimizers.SGD(lr=learing_rate)\n",
    "\n",
    "for _ in range(100):\n",
    "    with tf.GradientTape() as tape:\n",
    "        z = f(x)\n",
    "    dz_dx = tape.gradient(z, x)\n",
    "#     x.assign_sub(learing_rate * dz_dx) # x -= learning_rate * dz_dx\n",
    "    optimizer.apply_gradients([(dz_dx, x)])\n",
    "print(x)"
   ]
  },
  {
   "cell_type": "markdown",
   "id": "923b26b1",
   "metadata": {},
   "source": [
    "# 自定义layer"
   ]
  },
  {
   "cell_type": "code",
   "execution_count": 61,
   "id": "078a4faf",
   "metadata": {
    "ExecuteTime": {
     "end_time": "2022-05-29T13:09:42.744226Z",
     "start_time": "2022-05-29T13:09:42.721261Z"
    }
   },
   "outputs": [
    {
     "name": "stdout",
     "output_type": "stream",
     "text": [
      "(11610, 8) (11610,)\n",
      "(3870, 8) (3870,)\n",
      "(5160, 8) (5160,)\n"
     ]
    }
   ],
   "source": [
    "housing = fetch_california_housing()\n",
    "# 切割数据\n",
    "# 训练数据, 验证集, 测试数据\n",
    "from sklearn.model_selection import train_test_split\n",
    "\n",
    "x_train_all, x_test, y_train_all, y_test = train_test_split(housing.data, housing.target, random_state=7)\n",
    "# 从x_train_all中切割出训练数据和校验数据\n",
    "x_train, x_valid, y_train, y_valid = train_test_split(x_train_all, y_train_all, random_state=11)\n",
    "print(x_train.shape, y_train.shape)\n",
    "print(x_valid.shape, y_valid.shape)\n",
    "print(x_test.shape, y_test.shape)\n",
    "\n",
    "# 标准化处理\n",
    "from sklearn.preprocessing import StandardScaler\n",
    "\n",
    "scaler = StandardScaler()\n",
    "x_train_scaled = scaler.fit_transform(x_train)\n",
    "x_valid_scaled = scaler.transform(x_valid)\n",
    "x_test_scaled = scaler.transform(x_test)"
   ]
  },
  {
   "cell_type": "code",
   "execution_count": 62,
   "id": "8fcb5942",
   "metadata": {
    "ExecuteTime": {
     "end_time": "2022-05-29T13:10:40.918831Z",
     "start_time": "2022-05-29T13:10:40.898368Z"
    }
   },
   "outputs": [],
   "source": [
    "# 自定义layer\n",
    "class CustomizedDenseLayer(keras.layers.Layer):\n",
    "    def __init__(self, units, activation=None, **kwargs):\n",
    "        self.units = units\n",
    "        self.activation = keras.layers.Activation(activation)\n",
    "        super().__init__(**kwargs)\n",
    "        \n",
    "    def build(self, input_shape):\n",
    "        \"\"\"构建所需要的参数\"\"\"\n",
    "        # None, 8  @  w  + b\n",
    "        # w  * x + b\n",
    "        self.kernel = self.add_weight(name='kernel',\n",
    "                       shape=(input_shape[1], self.units),\n",
    "                       initializer='uniform',\n",
    "                       trainable=True)\n",
    "        self.bias = self.add_weight(name='bias',\n",
    "                       shape=(self.units,),\n",
    "                       initializer='zeros',\n",
    "                       trainable=True)\n",
    "        super().build(input_shape)\n",
    "        \n",
    "    def call(self, x):\n",
    "        \"\"\"完成正向传播\"\"\"\n",
    "        return self.activation(x @ self.kernel + self.bias)"
   ]
  },
  {
   "cell_type": "code",
   "execution_count": 63,
   "id": "40f4998d",
   "metadata": {
    "ExecuteTime": {
     "end_time": "2022-05-29T13:16:34.418033Z",
     "start_time": "2022-05-29T13:16:34.408964Z"
    }
   },
   "outputs": [],
   "source": [
    "# 通过lambda函数快速自定义层次\n",
    "# softplus : log(1 + e^x)\n",
    "customized_softplus = keras.layers.Lambda(lambda x: tf.nn.softplus(x))"
   ]
  },
  {
   "cell_type": "code",
   "execution_count": 64,
   "id": "a1a70dee",
   "metadata": {
    "ExecuteTime": {
     "end_time": "2022-05-29T13:16:52.578473Z",
     "start_time": "2022-05-29T13:16:52.571126Z"
    }
   },
   "outputs": [
    {
     "data": {
      "text/plain": [
       "<keras.layers.core.lambda_layer.Lambda at 0x21e882ac490>"
      ]
     },
     "execution_count": 64,
     "metadata": {},
     "output_type": "execute_result"
    }
   ],
   "source": [
    "customized_softplus"
   ]
  },
  {
   "cell_type": "code",
   "execution_count": 65,
   "id": "5ad1a06b",
   "metadata": {
    "ExecuteTime": {
     "end_time": "2022-05-29T13:17:03.427296Z",
     "start_time": "2022-05-29T13:17:03.405242Z"
    }
   },
   "outputs": [
    {
     "data": {
      "text/plain": [
       "<tf.Tensor: shape=(5,), dtype=float32, numpy=\n",
       "array([4.5398898e-05, 6.7153489e-03, 6.9314718e-01, 5.0067153e+00,\n",
       "       1.0000046e+01], dtype=float32)>"
      ]
     },
     "execution_count": 65,
     "metadata": {},
     "output_type": "execute_result"
    }
   ],
   "source": [
    "customized_softplus([-10., -5., 0., 5., 10.])"
   ]
  },
  {
   "cell_type": "code",
   "execution_count": 66,
   "id": "5f8b6112",
   "metadata": {
    "ExecuteTime": {
     "end_time": "2022-05-29T13:20:21.540568Z",
     "start_time": "2022-05-29T13:20:21.490701Z"
    }
   },
   "outputs": [],
   "source": [
    "# 定义网络\n",
    "model = keras.models.Sequential([\n",
    "    # input_dim, input_shape一定要是元组\n",
    "    # input_shape=(None, 8)\n",
    "    # input_shape=(8,)\n",
    "    CustomizedDenseLayer(32, input_shape=x_train.shape[1:]),\n",
    "    customized_softplus,\n",
    "    CustomizedDenseLayer(1)\n",
    "])"
   ]
  },
  {
   "cell_type": "code",
   "execution_count": 67,
   "id": "ec5030d0",
   "metadata": {
    "ExecuteTime": {
     "end_time": "2022-05-29T13:21:18.959168Z",
     "start_time": "2022-05-29T13:21:18.943699Z"
    }
   },
   "outputs": [
    {
     "name": "stdout",
     "output_type": "stream",
     "text": [
      "Model: \"sequential_1\"\n",
      "_________________________________________________________________\n",
      " Layer (type)                Output Shape              Param #   \n",
      "=================================================================\n",
      " customized_dense_layer (Cus  (None, 32)               288       \n",
      " tomizedDenseLayer)                                              \n",
      "                                                                 \n",
      " lambda (Lambda)             (None, 32)                0         \n",
      "                                                                 \n",
      " customized_dense_layer_1 (C  (None, 1)                33        \n",
      " ustomizedDenseLayer)                                            \n",
      "                                                                 \n",
      "=================================================================\n",
      "Total params: 321\n",
      "Trainable params: 321\n",
      "Non-trainable params: 0\n",
      "_________________________________________________________________\n"
     ]
    }
   ],
   "source": [
    "model.summary()"
   ]
  },
  {
   "cell_type": "code",
   "execution_count": 68,
   "id": "55302dcf",
   "metadata": {
    "ExecuteTime": {
     "end_time": "2022-05-29T13:25:44.294679Z",
     "start_time": "2022-05-29T13:25:44.281204Z"
    }
   },
   "outputs": [],
   "source": [
    "# 配置\n",
    "model.compile(loss='mean_squared_error', optimizer='sgd', metrics=['mse'])"
   ]
  },
  {
   "cell_type": "code",
   "execution_count": 69,
   "id": "ab5836d9",
   "metadata": {
    "ExecuteTime": {
     "end_time": "2022-05-29T13:26:08.306946Z",
     "start_time": "2022-05-29T13:26:01.112935Z"
    }
   },
   "outputs": [
    {
     "name": "stdout",
     "output_type": "stream",
     "text": [
      "Epoch 1/20\n",
      "363/363 [==============================] - 1s 1ms/step - loss: 0.9702 - mse: 0.9702 - val_loss: 0.7008 - val_mse: 0.7008\n",
      "Epoch 2/20\n",
      "363/363 [==============================] - 0s 932us/step - loss: 0.6335 - mse: 0.6335 - val_loss: 0.6581 - val_mse: 0.6581\n",
      "Epoch 3/20\n",
      "363/363 [==============================] - 0s 938us/step - loss: 0.5916 - mse: 0.5916 - val_loss: 0.6191 - val_mse: 0.6191\n",
      "Epoch 4/20\n",
      "363/363 [==============================] - 0s 910us/step - loss: 0.5571 - mse: 0.5571 - val_loss: 0.5781 - val_mse: 0.5781\n",
      "Epoch 5/20\n",
      "363/363 [==============================] - 0s 944us/step - loss: 0.5279 - mse: 0.5279 - val_loss: 0.5493 - val_mse: 0.5493\n",
      "Epoch 6/20\n",
      "363/363 [==============================] - 0s 940us/step - loss: 0.5086 - mse: 0.5086 - val_loss: 0.5319 - val_mse: 0.5319\n",
      "Epoch 7/20\n",
      "363/363 [==============================] - 0s 939us/step - loss: 0.4953 - mse: 0.4953 - val_loss: 0.5216 - val_mse: 0.5216\n",
      "Epoch 8/20\n",
      "363/363 [==============================] - 0s 933us/step - loss: 0.4850 - mse: 0.4850 - val_loss: 0.5204 - val_mse: 0.5204\n",
      "Epoch 9/20\n",
      "363/363 [==============================] - 0s 932us/step - loss: 0.4791 - mse: 0.4791 - val_loss: 0.5009 - val_mse: 0.5009\n",
      "Epoch 10/20\n",
      "363/363 [==============================] - 0s 961us/step - loss: 0.4733 - mse: 0.4733 - val_loss: 0.4976 - val_mse: 0.4976\n",
      "Epoch 11/20\n",
      "363/363 [==============================] - 0s 943us/step - loss: 0.4685 - mse: 0.4685 - val_loss: 0.4944 - val_mse: 0.4944\n",
      "Epoch 12/20\n",
      "363/363 [==============================] - 0s 992us/step - loss: 0.4658 - mse: 0.4658 - val_loss: 0.4915 - val_mse: 0.4915\n",
      "Epoch 13/20\n",
      "363/363 [==============================] - 0s 964us/step - loss: 0.4602 - mse: 0.4602 - val_loss: 0.4984 - val_mse: 0.4984\n",
      "Epoch 14/20\n",
      "363/363 [==============================] - 0s 911us/step - loss: 0.4577 - mse: 0.4577 - val_loss: 0.4787 - val_mse: 0.4787\n",
      "Epoch 15/20\n",
      "363/363 [==============================] - 0s 908us/step - loss: 0.4543 - mse: 0.4543 - val_loss: 0.4778 - val_mse: 0.4778\n",
      "Epoch 16/20\n",
      "363/363 [==============================] - 0s 935us/step - loss: 0.4511 - mse: 0.4511 - val_loss: 0.4780 - val_mse: 0.4780\n",
      "Epoch 17/20\n",
      "363/363 [==============================] - 0s 936us/step - loss: 0.4493 - mse: 0.4493 - val_loss: 0.4761 - val_mse: 0.4761\n",
      "Epoch 18/20\n",
      "363/363 [==============================] - 0s 936us/step - loss: 0.4478 - mse: 0.4478 - val_loss: 0.4705 - val_mse: 0.4705\n",
      "Epoch 19/20\n",
      "363/363 [==============================] - 0s 890us/step - loss: 0.4453 - mse: 0.4453 - val_loss: 0.4665 - val_mse: 0.4665\n",
      "Epoch 20/20\n",
      "363/363 [==============================] - 0s 914us/step - loss: 0.4437 - mse: 0.4437 - val_loss: 0.4643 - val_mse: 0.4643\n"
     ]
    }
   ],
   "source": [
    "callbacks = []\n",
    "history = model.fit(x_train_scaled, y_train, \n",
    "          validation_data=(x_valid_scaled, y_valid), \n",
    "          epochs=20)"
   ]
  },
  {
   "cell_type": "code",
   "execution_count": 70,
   "id": "b6e87e27",
   "metadata": {
    "ExecuteTime": {
     "end_time": "2022-05-29T13:26:24.091446Z",
     "start_time": "2022-05-29T13:26:24.072497Z"
    }
   },
   "outputs": [
    {
     "data": {
      "text/plain": [
       "{'loss': [0.970180094242096,\n",
       "  0.6334768533706665,\n",
       "  0.5916064977645874,\n",
       "  0.5571306347846985,\n",
       "  0.527895987033844,\n",
       "  0.5086361169815063,\n",
       "  0.4952961504459381,\n",
       "  0.4849610924720764,\n",
       "  0.47910115122795105,\n",
       "  0.47328928112983704,\n",
       "  0.468534380197525,\n",
       "  0.46578213572502136,\n",
       "  0.4601820409297943,\n",
       "  0.4577215313911438,\n",
       "  0.4543205499649048,\n",
       "  0.4511111378669739,\n",
       "  0.4492746889591217,\n",
       "  0.4478296637535095,\n",
       "  0.44533082842826843,\n",
       "  0.4437219202518463],\n",
       " 'mse': [0.970180094242096,\n",
       "  0.6334768533706665,\n",
       "  0.5916064977645874,\n",
       "  0.5571306347846985,\n",
       "  0.527895987033844,\n",
       "  0.5086361169815063,\n",
       "  0.4952961504459381,\n",
       "  0.4849610924720764,\n",
       "  0.47910115122795105,\n",
       "  0.47328928112983704,\n",
       "  0.468534380197525,\n",
       "  0.46578213572502136,\n",
       "  0.4601820409297943,\n",
       "  0.4577215313911438,\n",
       "  0.4543205499649048,\n",
       "  0.4511111378669739,\n",
       "  0.4492746889591217,\n",
       "  0.4478296637535095,\n",
       "  0.44533082842826843,\n",
       "  0.4437219202518463],\n",
       " 'val_loss': [0.7007525563240051,\n",
       "  0.6580983996391296,\n",
       "  0.6190933585166931,\n",
       "  0.5781125426292419,\n",
       "  0.5493013262748718,\n",
       "  0.5319200158119202,\n",
       "  0.5215819478034973,\n",
       "  0.5203665494918823,\n",
       "  0.5008513331413269,\n",
       "  0.4976443350315094,\n",
       "  0.49443548917770386,\n",
       "  0.49148064851760864,\n",
       "  0.4984021782875061,\n",
       "  0.47870558500289917,\n",
       "  0.4778095781803131,\n",
       "  0.4780282974243164,\n",
       "  0.47608017921447754,\n",
       "  0.47050711512565613,\n",
       "  0.4665158987045288,\n",
       "  0.4643232822418213],\n",
       " 'val_mse': [0.7007525563240051,\n",
       "  0.6580983996391296,\n",
       "  0.6190933585166931,\n",
       "  0.5781125426292419,\n",
       "  0.5493013262748718,\n",
       "  0.5319200158119202,\n",
       "  0.5215819478034973,\n",
       "  0.5203665494918823,\n",
       "  0.5008513331413269,\n",
       "  0.4976443350315094,\n",
       "  0.49443548917770386,\n",
       "  0.49148064851760864,\n",
       "  0.4984021782875061,\n",
       "  0.47870558500289917,\n",
       "  0.4778095781803131,\n",
       "  0.4780282974243164,\n",
       "  0.47608017921447754,\n",
       "  0.47050711512565613,\n",
       "  0.4665158987045288,\n",
       "  0.4643232822418213]}"
      ]
     },
     "execution_count": 70,
     "metadata": {},
     "output_type": "execute_result"
    }
   ],
   "source": [
    "history.history"
   ]
  },
  {
   "cell_type": "code",
   "execution_count": 71,
   "id": "036b8274",
   "metadata": {
    "ExecuteTime": {
     "end_time": "2022-05-29T13:26:35.880011Z",
     "start_time": "2022-05-29T13:26:35.748397Z"
    }
   },
   "outputs": [
    {
     "data": {
      "image/png": "[encoded data removed]",
      "text/plain": [
       "<Figure size 576x360 with 1 Axes>"
      ]
     },
     "metadata": {
      "needs_background": "light"
     },
     "output_type": "display_data"
    }
   ],
   "source": [
    "# 定义画图的函数\n",
    "def plot_learning_curves(history):\n",
    "    pandas.DataFrame(history.history).plot(figsize=(8, 5))\n",
    "    plt.grid(True)\n",
    "    plt.gca().set_ylim(0, 1)\n",
    "    plt.show()\n",
    "plot_learning_curves(history)"
   ]
  },
  {
   "cell_type": "markdown",
   "id": "41eda778",
   "metadata": {},
   "source": [
    "# 手动实现训练过程"
   ]
  },
  {
   "cell_type": "code",
   "execution_count": 86,
   "id": "964ec2a0",
   "metadata": {
    "ExecuteTime": {
     "end_time": "2022-05-29T13:57:42.808476Z",
     "start_time": "2022-05-29T13:57:09.510570Z"
    }
   },
   "outputs": [
    {
     "name": "stdout",
     "output_type": "stream",
     "text": [
      "Epoch: 0 train_mse: 5.326661Epoch: 0 train_mse: 5.4018173Epoch: 0 train_mse: 5.2168818Epoch: 0 train_mse: 4.6488667Epoch: 0 train_mse: 4.4494543Epoch: 0 train_mse: 4.5249896Epoch: 0 train_mse: 4.243942Epoch: 0 train_mse: 4.007749Epoch: 0 train_mse: 3.7886865Epoch: 0 train_mse: 3.5789707Epoch: 0 train_mse: 3.4308393Epoch: 0 train_mse: 3.3094673Epoch: 0 train_mse: 3.192647Epoch: 0 train_mse: 3.0462005Epoch: 0 train_mse: 2.9002557Epoch: 0 train_mse: 2.8133276Epoch: 0 train_mse: 2.6994214Epoch: 0 train_mse: 2.6466913Epoch: 0 train_mse: 2.582011Epoch: 0 train_mse: 2.510765Epoch: 0 train_mse: 2.453283Epoch: 0 train_mse: 2.4336183Epoch: 0 train_mse: 2.383826Epoch: 0 train_mse: 2.3323743Epoch: 0 train_mse: 2.2890887Epoch: 0 train_mse: 2.2451634Epoch: 0 train_mse: 2.194518Epoch: 0 train_mse: 2.1456785Epoch: 0 train_mse: 2.0994847Epoch: 0 train_mse: 2.064465Epoch: 0 train_mse: 2.024088Epoch: 0 train_mse: 1.9827579Epoch: 0 train_mse: 1.94672Epoch: 0 train_mse: 1.9161588Epoch: 0 train_mse: 1.8785882Epoch: 0 train_mse: 1.8500094Epoch: 0 train_mse: 1.8280939Epoch: 0 train_mse: 1.81099Epoch: 0 train_mse: 1.7923657Epoch: 0 train_mse: 1.7749081Epoch: 0 train_mse: 1.7595717Epoch: 0 train_mse: 1.7359599Epoch: 0 train_mse: 1.7311195Epoch: 0 train_mse: 1.7168919Epoch: 0 train_mse: 1.7036772Epoch: 0 train_mse: 1.680389Epoch: 0 train_mse: 1.6647092Epoch: 0 train_mse: 1.6526037Epoch: 0 train_mse: 1.6395192Epoch: 0 train_mse: 1.6229945Epoch: 0 train_mse: 1.607237Epoch: 0 train_mse: 1.5985875Epoch: 0 train_mse: 1.5812471Epoch: 0 train_mse: 1.560898Epoch: 0 train_mse: 1.5485543Epoch: 0 train_mse: 1.5323572Epoch: 0 train_mse: 1.5165067Epoch: 0 train_mse: 1.5006018Epoch: 0 train_mse: 1.4982929Epoch: 0 train_mse: 1.4853433Epoch: 0 train_mse: 1.4709778Epoch: 0 train_mse: 1.4597578Epoch: 0 train_mse: 1.452937Epoch: 0 train_mse: 1.4444547Epoch: 0 train_mse: 1.4359266Epoch: 0 train_mse: 1.4301513Epoch: 0 train_mse: 1.4227Epoch: 0 train_mse: 1.4080758Epoch: 0 train_mse: 1.3954563Epoch: 0 train_mse: 1.3917983Epoch: 0 train_mse: 1.3818874Epoch: 0 train_mse: 1.3758781Epoch: 0 train_mse: 1.3677714Epoch: 0 train_mse: 1.3646473Epoch: 0 train_mse: 1.3582954Epoch: 0 train_mse: 1.3493971Epoch: 0 train_mse: 1.3415413Epoch: 0 train_mse: 1.3400757Epoch: 0 train_mse: 1.3338151Epoch: 0 train_mse: 1.411937Epoch: 0 train_mse: 1.4032387Epoch: 0 train_mse: 1.3957658Epoch: 0 train_mse: 1.3931016Epoch: 0 train_mse: 1.3902395Epoch: 0 train_mse: 1.3831267Epoch: 0 train_mse: 1.3788679Epoch: 0 train_mse: 1.3720626Epoch: 0 train_mse: 1.3665305Epoch: 0 train_mse: 1.3650254Epoch: 0 train_mse: 1.3558381Epoch: 0 train_mse: 1.3452924Epoch: 0 train_mse: 1.3349727Epoch: 0 train_mse: 1.3276371Epoch: 0 train_mse: 1.318538Epoch: 0 train_mse: 1.3172241Epoch: 0 train_mse: 1.3123115Epoch: 0 train_mse: 1.3098161Epoch: 0 train_mse: 1.300085Epoch: 0 train_mse: 1.2964727Epoch: 0 train_mse: 1.2911785Epoch: 0 train_mse: 1.286986Epoch: 0 train_mse: 1.2942791Epoch: 0 train_mse: 1.2907301Epoch: 0 train_mse: 1.282392Epoch: 0 train_mse: 1.2740347Epoch: 0 train_mse: 1.269325Epoch: 0 train_mse: 1.2670766Epoch: 0 train_mse: 1.2612516Epoch: 0 train_mse: 1.2591869Epoch: 0 train_mse: 1.2547212Epoch: 0 train_mse: 1.2606016Epoch: 0 train_mse: 1.2539549Epoch: 0 train_mse: 1.2454253Epoch: 0 train_mse: 1.2417773Epoch: 0 train_mse: 1.2380066Epoch: 0 train_mse: 1.2333628Epoch: 0 train_mse: 1.22841Epoch: 0 train_mse: 1.2273623Epoch: 0 train_mse: 1.2204037Epoch: 0 train_mse: 1.2163645Epoch: 0 train_mse: 1.2127324Epoch: 0 train_mse: 1.2058487Epoch: 0 train_mse: 1.2009526Epoch: 0 train_mse: 1.1987255Epoch: 0 train_mse: 1.1968565Epoch: 0 train_mse: 1.1979197Epoch: 0 train_mse: 1.1917396Epoch: 0 train_mse: 1.1884246Epoch: 0 train_mse: 1.1823477Epoch: 0 train_mse: 1.1775072Epoch: 0 train_mse: 1.1752012Epoch: 0 train_mse: 1.1710398Epoch: 0 train_mse: 1.1678262Epoch: 0 train_mse: 1.1618533Epoch: 0 train_mse: 1.1574501Epoch: 0 train_mse: 1.1529169Epoch: 0 train_mse: 1.1484634Epoch: 0 train_mse: 1.1441175Epoch: 0 train_mse: 1.1377876Epoch: 0 train_mse: 1.1343111Epoch: 0 train_mse: 1.1317005Epoch: 0 train_mse: 1.127945Epoch: 0 train_mse: 1.1212684Epoch: 0 train_mse: 1.1158645Epoch: 0 train_mse: 1.1115239Epoch: 0 train_mse: 1.1072857Epoch: 0 train_mse: 1.1057457Epoch: 0 train_mse: 1.1012821Epoch: 0 train_mse: 1.098969Epoch: 0 train_mse: 1.0958401Epoch: 0 train_mse: 1.0963837Epoch: 0 train_mse: 1.0930654Epoch: 0 train_mse: 1.090847Epoch: 0 train_mse: 1.0872743Epoch: 0 train_mse: 1.0834863Epoch: 0 train_mse: 1.0820211Epoch: 0 train_mse: 1.0772446Epoch: 0 train_mse: 1.0735424Epoch: 0 train_mse: 1.0695857Epoch: 0 train_mse: 1.072809Epoch: 0 train_mse: 1.0724539Epoch: 0 train_mse: 1.0703347Epoch: 0 train_mse: 1.0681369Epoch: 0 train_mse: 1.063337Epoch: 0 train_mse: 1.0588839Epoch: 0 train_mse: 1.0584391Epoch: 0 train_mse: 1.0571799Epoch: 0 train_mse: 1.0559534Epoch: 0 train_mse: 1.051995Epoch: 0 train_mse: 1.0494193Epoch: 0 train_mse: 1.0469465Epoch: 0 train_mse: 1.0445433Epoch: 0 train_mse: 1.0398209Epoch: 0 train_mse: 1.0369138Epoch: 0 train_mse: 1.033127Epoch: 0 train_mse: 1.0290111Epoch: 0 train_mse: 1.0254874Epoch: 0 train_mse: 1.0243868Epoch: 0 train_mse: 1.0201921Epoch: 0 train_mse: 1.0161254Epoch: 0 train_mse: 1.0122935Epoch: 0 train_mse: 1.0086613Epoch: 0 train_mse: 1.0052903Epoch: 0 train_mse: 1.0026165Epoch: 0 train_mse: 0.99974775Epoch: 0 train_mse: 0.9968436Epoch: 0 train_mse: 0.9933865Epoch: 0 train_mse: 0.9893671Epoch: 0 train_mse: 0.98864067Epoch: 0 train_mse: 0.9877072Epoch: 0 train_mse: 0.98740625Epoch: 0 train_mse: 0.9844158Epoch: 0 train_mse: 0.9850211Epoch: 0 train_mse: 0.9842098Epoch: 0 train_mse: 0.98224Epoch: 0 train_mse: 0.9835409Epoch: 0 train_mse: 0.98329574Epoch: 0 train_mse: 0.9799502Epoch: 0 train_mse: 0.9800281Epoch: 0 train_mse: 0.97754586Epoch: 0 train_mse: 0.9758773Epoch: 0 train_mse: 0.9752277Epoch: 0 train_mse: 0.97319084Epoch: 0 train_mse: 0.97118586Epoch: 0 train_mse: 0.97006726Epoch: 0 train_mse: 0.96742177Epoch: 0 train_mse: 0.9656611Epoch: 0 train_mse: 0.9625293Epoch: 0 train_mse: 0.959692Epoch: 0 train_mse: 0.9582132Epoch: 0 train_mse: 0.9553634Epoch: 0 train_mse: 0.95182943Epoch: 0 train_mse: 0.94990623Epoch: 0 train_mse: 0.95050436Epoch: 0 train_mse: 0.9482948Epoch: 0 train_mse: 0.9477546Epoch: 0 train_mse: 0.94607025Epoch: 0 train_mse: 0.9481202Epoch: 0 train_mse: 0.9451982Epoch: 0 train_mse: 0.94424045Epoch: 0 train_mse: 0.942303Epoch: 0 train_mse: 0.94104534Epoch: 0 train_mse: 0.93835485Epoch: 0 train_mse: 0.9362896Epoch: 0 train_mse: 0.9341837Epoch: 0 train_mse: 0.9332622Epoch: 0 train_mse: 0.93103456Epoch: 0 train_mse: 0.9296043Epoch: 0 train_mse: 0.9271648Epoch: 0 train_mse: 0.92779714Epoch: 0 train_mse: 0.92614746Epoch: 0 train_mse: 0.92510647Epoch: 0 train_mse: 0.92349666Epoch: 0 train_mse: 0.92340404Epoch: 0 train_mse: 0.92194456Epoch: 0 train_mse: 0.9203148Epoch: 0 train_mse: 0.9185622Epoch: 0 train_mse: 0.9169175Epoch: 0 train_mse: 0.91616344Epoch: 0 train_mse: 0.91384137Epoch: 0 train_mse: 0.91262305Epoch: 0 train_mse: 0.91077644Epoch: 0 train_mse: 0.90966576Epoch: 0 train_mse: 0.9090985Epoch: 0 train_mse: 0.90753585Epoch: 0 train_mse: 0.90693396Epoch: 0 train_mse: 0.90492684Epoch: 0 train_mse: 0.90268457Epoch: 0 train_mse: 0.9003572Epoch: 0 train_mse: 0.8998363Epoch: 0 train_mse: 0.8974913Epoch: 0 train_mse: 0.89539456Epoch: 0 train_mse: 0.89583814Epoch: 0 train_mse: 0.89455944Epoch: 0 train_mse: 0.89353406Epoch: 0 train_mse: 0.89380926Epoch: 0 train_mse: 0.8936594Epoch: 0 train_mse: 0.89173037Epoch: 0 train_mse: 0.8897417Epoch: 0 train_mse: 0.88858867Epoch: 0 train_mse: 0.887065Epoch: 0 train_mse: 0.8851377Epoch: 0 train_mse: 0.8825191Epoch: 0 train_mse: 0.8807073Epoch: 0 train_mse: 0.8785493Epoch: 0 train_mse: 0.8766826Epoch: 0 train_mse: 0.87478Epoch: 0 train_mse: 0.87423086Epoch: 0 train_mse: 0.8724335Epoch: 0 train_mse: 0.8721418Epoch: 0 train_mse: 0.8699973Epoch: 0 train_mse: 0.86812234Epoch: 0 train_mse: 0.8676814Epoch: 0 train_mse: 0.8657552Epoch: 0 train_mse: 0.8654426Epoch: 0 train_mse: 0.86443824Epoch: 0 train_mse: 0.8634124Epoch: 0 train_mse: 0.86343074Epoch: 0 train_mse: 0.8639734Epoch: 0 train_mse: 0.862736Epoch: 0 train_mse: 0.8617532Epoch: 0 train_mse: 0.85983604Epoch: 0 train_mse: 0.8590204Epoch: 0 train_mse: 0.8567428Epoch: 0 train_mse: 0.8551495Epoch: 0 train_mse: 0.8531834Epoch: 0 train_mse: 0.85144395Epoch: 0 train_mse: 0.8505092"
     ]
    },
    {
     "name": "stdout",
     "output_type": "stream",
     "text": [
      "Epoch: 0 train_mse: 0.8491531Epoch: 0 train_mse: 0.8477341Epoch: 0 train_mse: 0.84676206Epoch: 0 train_mse: 0.8452175Epoch: 0 train_mse: 0.8431354Epoch: 0 train_mse: 0.8427355Epoch: 0 train_mse: 0.84107465Epoch: 0 train_mse: 0.84093887Epoch: 0 train_mse: 0.83919835Epoch: 0 train_mse: 0.83720785Epoch: 0 train_mse: 0.83526045Epoch: 0 train_mse: 0.83372194Epoch: 0 train_mse: 0.83201617Epoch: 0 train_mse: 0.83225876Epoch: 0 train_mse: 0.8319123Epoch: 0 train_mse: 0.8309394Epoch: 0 train_mse: 0.82919455Epoch: 0 train_mse: 0.8280685Epoch: 0 train_mse: 0.8265116Epoch: 0 train_mse: 0.8257319Epoch: 0 train_mse: 0.82613236Epoch: 0 train_mse: 0.82520676Epoch: 0 train_mse: 0.82428086Epoch: 0 train_mse: 0.82297015Epoch: 0 train_mse: 0.82163334Epoch: 0 train_mse: 0.82009876Epoch: 0 train_mse: 0.8193658Epoch: 0 train_mse: 0.81806296Epoch: 0 train_mse: 0.8163586Epoch: 0 train_mse: 0.81591386Epoch: 0 train_mse: 0.81473976Epoch: 0 train_mse: 0.8139809Epoch: 0 train_mse: 0.8129771Epoch: 0 train_mse: 0.81245553Epoch: 0 train_mse: 0.8119179Epoch: 0 train_mse: 0.8104909Epoch: 0 train_mse: 0.80860025Epoch: 0 train_mse: 0.80772215Epoch: 0 train_mse: 0.8063947Epoch: 0 train_mse: 0.806807Epoch: 0 train_mse: 0.80508775Epoch: 0 train_mse: 0.80537313Epoch: 0 train_mse: 1.8180544Epoch: 0 train_mse: 1.8511665Epoch: 0 train_mse: 1.8832947Epoch: 0 train_mse: 1.8877875Epoch: 0 train_mse: 1.8882625Epoch: 0 train_mse: 1.887386Epoch: 0 train_mse: 1.8858995Epoch: 0 train_mse: 1.8838711Epoch: 0 train_mse: 1.8848982Epoch: 0 train_mse: 1.8816144Epoch: 0 train_mse: 1.8781393Epoch: 0 train_mse: 1.8751389Epoch: 0 train_mse: 1.8790513Epoch: 0 train_mse: 1.8759766Epoch: 0 train_mse: 1.8719194Epoch: 0 train_mse: 1.8694433Epoch: 0 train_mse: 1.8653028Epoch: 0 train_mse: 1.8613267Epoch: 0 train_mse: 1.8575481Epoch: 0 train_mse: 1.856789Epoch: 0 train_mse: 1.8536928Epoch: 0 train_mse: 1.8522614Epoch: 0 train_mse: 1.8489203Epoch: 0 train_mse: 1.8465971Epoch: 0 train_mse: 1.8465942Epoch: 0 train_mse: 1.8438313Epoch: 0 train_mse: 1.8409888Epoch: 0 train_mse: 1.837033Epoch: 0 train_mse: 1.8336548Epoch: 0 train_mse: 1.8306102Epoch: 0 train_mse: 1.8279333Epoch: 0 train_mse: 1.8245702\t valid mse: 0.85081327\n"
     ]
    },
    {
     "name": "stdout",
     "output_type": "stream",
     "text": [
      "Epoch: 1 train_mse: 0.37639928Epoch: 1 train_mse: 0.5238569Epoch: 1 train_mse: 0.49002063Epoch: 1 train_mse: 0.46154752Epoch: 1 train_mse: 0.5097173Epoch: 1 train_mse: 0.5612154Epoch: 1 train_mse: 0.5117451Epoch: 1 train_mse: 0.5086969Epoch: 1 train_mse: 0.5005854Epoch: 1 train_mse: 0.52953875Epoch: 1 train_mse: 0.5271783Epoch: 1 train_mse: 0.5430494Epoch: 1 train_mse: 0.5343904Epoch: 1 train_mse: 0.5600969Epoch: 1 train_mse: 0.55316216Epoch: 1 train_mse: 0.53934866Epoch: 1 train_mse: 0.54749036Epoch: 1 train_mse: 0.5712236Epoch: 1 train_mse: 0.57083035Epoch: 1 train_mse: 0.56470686Epoch: 1 train_mse: 0.55981004Epoch: 1 train_mse: 0.55383545Epoch: 1 train_mse: 0.5455647Epoch: 1 train_mse: 0.55271596Epoch: 1 train_mse: 0.56189615Epoch: 1 train_mse: 0.5613723Epoch: 1 train_mse: 0.5694768Epoch: 1 train_mse: 0.5597659Epoch: 1 train_mse: 0.5730112Epoch: 1 train_mse: 0.5803822Epoch: 1 train_mse: 0.57057893Epoch: 1 train_mse: 0.57319456Epoch: 1 train_mse: 0.56977516Epoch: 1 train_mse: 0.569099Epoch: 1 train_mse: 0.57590073Epoch: 1 train_mse: 0.5894623Epoch: 1 train_mse: 0.5848064Epoch: 1 train_mse: 0.5868469Epoch: 1 train_mse: 0.59026563Epoch: 1 train_mse: 0.5810946Epoch: 1 train_mse: 0.580892Epoch: 1 train_mse: 0.58624214Epoch: 1 train_mse: 0.5830151Epoch: 1 train_mse: 0.58483124Epoch: 1 train_mse: 0.58108675Epoch: 1 train_mse: 0.58207136Epoch: 1 train_mse: 0.5798582Epoch: 1 train_mse: 0.58255726Epoch: 1 train_mse: 0.58206356Epoch: 1 train_mse: 0.5874931Epoch: 1 train_mse: 0.5808412Epoch: 1 train_mse: 0.581747Epoch: 1 train_mse: 0.57762516Epoch: 1 train_mse: 0.5714643Epoch: 1 train_mse: 0.575418Epoch: 1 train_mse: 0.57154983Epoch: 1 train_mse: 0.5696851Epoch: 1 train_mse: 0.5658559Epoch: 1 train_mse: 0.5650186Epoch: 1 train_mse: 0.56315094Epoch: 1 train_mse: 0.5619519Epoch: 1 train_mse: 0.56035864Epoch: 1 train_mse: 0.55675566Epoch: 1 train_mse: 0.55637705Epoch: 1 train_mse: 0.5563697Epoch: 1 train_mse: 0.55572516Epoch: 1 train_mse: 0.55227154Epoch: 1 train_mse: 0.5500573Epoch: 1 train_mse: 0.54849464Epoch: 1 train_mse: 0.54631656Epoch: 1 train_mse: 0.5436513Epoch: 1 train_mse: 0.54374707Epoch: 1 train_mse: 0.5410859Epoch: 1 train_mse: 0.5403634Epoch: 1 train_mse: 0.5427179Epoch: 1 train_mse: 0.5444021Epoch: 1 train_mse: 0.54236764Epoch: 1 train_mse: 0.53909487Epoch: 1 train_mse: 0.543079Epoch: 1 train_mse: 0.5402126Epoch: 1 train_mse: 0.5450376Epoch: 1 train_mse: 0.5444034Epoch: 1 train_mse: 0.54320055Epoch: 1 train_mse: 0.54136664Epoch: 1 train_mse: 0.55103546Epoch: 1 train_mse: 0.553958Epoch: 1 train_mse: 0.55076647Epoch: 1 train_mse: 0.55307096Epoch: 1 train_mse: 0.5550641Epoch: 1 train_mse: 0.5569347Epoch: 1 train_mse: 0.5613135Epoch: 1 train_mse: 0.5611807Epoch: 1 train_mse: 0.56261104Epoch: 1 train_mse: 0.56165355Epoch: 1 train_mse: 0.5628956Epoch: 1 train_mse: 0.5712486Epoch: 1 train_mse: 0.5694126Epoch: 1 train_mse: 0.56575763Epoch: 1 train_mse: 0.5645337Epoch: 1 train_mse: 0.56245047Epoch: 1 train_mse: 0.5593222Epoch: 1 train_mse: 0.55778265Epoch: 1 train_mse: 0.559765Epoch: 1 train_mse: 0.57021654Epoch: 1 train_mse: 0.56887335Epoch: 1 train_mse: 0.5670519Epoch: 1 train_mse: 0.56576353Epoch: 1 train_mse: 0.56495214Epoch: 1 train_mse: 0.5638956Epoch: 1 train_mse: 0.564216Epoch: 1 train_mse: 0.56449586Epoch: 1 train_mse: 0.56612676Epoch: 1 train_mse: 0.5646538Epoch: 1 train_mse: 0.56365675Epoch: 1 train_mse: 0.56571156Epoch: 1 train_mse: 0.5642021Epoch: 1 train_mse: 0.56396556Epoch: 1 train_mse: 0.5641393Epoch: 1 train_mse: 0.5645801Epoch: 1 train_mse: 0.56514466Epoch: 1 train_mse: 0.56299776Epoch: 1 train_mse: 0.56223196Epoch: 1 train_mse: 0.55987316Epoch: 1 train_mse: 0.56010157Epoch: 1 train_mse: 0.5613867Epoch: 1 train_mse: 0.56400037Epoch: 1 train_mse: 0.56310666Epoch: 1 train_mse: 0.56169945Epoch: 1 train_mse: 0.5599525Epoch: 1 train_mse: 0.5585974Epoch: 1 train_mse: 0.55591494Epoch: 1 train_mse: 0.5536511Epoch: 1 train_mse: 0.55264825Epoch: 1 train_mse: 0.5516378Epoch: 1 train_mse: 0.55251944Epoch: 1 train_mse: 0.5517889Epoch: 1 train_mse: 0.5523741Epoch: 1 train_mse: 0.5511322Epoch: 1 train_mse: 0.55114806Epoch: 1 train_mse: 0.55055076Epoch: 1 train_mse: 0.5484725Epoch: 1 train_mse: 0.5473433Epoch: 1 train_mse: 0.54573685Epoch: 1 train_mse: 0.54445595Epoch: 1 train_mse: 0.54984933Epoch: 1 train_mse: 0.5500634Epoch: 1 train_mse: 0.55096924Epoch: 1 train_mse: 0.5493842Epoch: 1 train_mse: 0.5490962Epoch: 1 train_mse: 0.55046093Epoch: 1 train_mse: 0.54871005Epoch: 1 train_mse: 0.5490432Epoch: 1 train_mse: 0.5482354Epoch: 1 train_mse: 0.54645705Epoch: 1 train_mse: 0.5444098Epoch: 1 train_mse: 0.54494053Epoch: 1 train_mse: 0.54274935Epoch: 1 train_mse: 0.5409691Epoch: 1 train_mse: 0.5398413Epoch: 1 train_mse: 0.53956777Epoch: 1 train_mse: 0.5394802Epoch: 1 train_mse: 0.55045706Epoch: 1 train_mse: 0.54951555Epoch: 1 train_mse: 0.5485557Epoch: 1 train_mse: 0.55427253Epoch: 1 train_mse: 0.551852Epoch: 1 train_mse: 0.5505376Epoch: 1 train_mse: 0.5508937Epoch: 1 train_mse: 0.5523026Epoch: 1 train_mse: 0.55119014Epoch: 1 train_mse: 0.54975605Epoch: 1 train_mse: 0.54836017Epoch: 1 train_mse: 0.5473847Epoch: 1 train_mse: 0.546262Epoch: 1 train_mse: 0.5450823Epoch: 1 train_mse: 0.544628Epoch: 1 train_mse: 0.5434679Epoch: 1 train_mse: 0.54419136Epoch: 1 train_mse: 0.5442378Epoch: 1 train_mse: 0.54422414Epoch: 1 train_mse: 0.542896Epoch: 1 train_mse: 0.5431056Epoch: 1 train_mse: 0.54432964Epoch: 1 train_mse: 0.5435694Epoch: 1 train_mse: 0.54250747Epoch: 1 train_mse: 0.5417225Epoch: 1 train_mse: 0.54082745Epoch: 1 train_mse: 0.5499884Epoch: 1 train_mse: 0.54929125Epoch: 1 train_mse: 0.5495945Epoch: 1 train_mse: 0.54998994Epoch: 1 train_mse: 0.54863304Epoch: 1 train_mse: 0.5470839Epoch: 1 train_mse: 0.5456616Epoch: 1 train_mse: 0.54509383Epoch: 1 train_mse: 0.5456887Epoch: 1 train_mse: 0.545391Epoch: 1 train_mse: 0.54442835Epoch: 1 train_mse: 0.54380167Epoch: 1 train_mse: 0.5434721Epoch: 1 train_mse: 0.54316205Epoch: 1 train_mse: 0.54219073Epoch: 1 train_mse: 0.5412159Epoch: 1 train_mse: 0.5409462Epoch: 1 train_mse: 0.5400077Epoch: 1 train_mse: 0.541369Epoch: 1 train_mse: 0.54075414Epoch: 1 train_mse: 0.5408863Epoch: 1 train_mse: 0.53909314Epoch: 1 train_mse: 0.5380798Epoch: 1 train_mse: 0.5381462Epoch: 1 train_mse: 0.53748566Epoch: 1 train_mse: 0.53624344Epoch: 1 train_mse: 0.5348866Epoch: 1 train_mse: 0.53347176Epoch: 1 train_mse: 0.53275865Epoch: 1 train_mse: 0.5317252Epoch: 1 train_mse: 0.5314122Epoch: 1 train_mse: 0.53117585Epoch: 1 train_mse: 0.5301928Epoch: 1 train_mse: 0.52882165Epoch: 1 train_mse: 0.52834314Epoch: 1 train_mse: 0.52666926Epoch: 1 train_mse: 0.52575624Epoch: 1 train_mse: 0.5276926Epoch: 1 train_mse: 0.52722913Epoch: 1 train_mse: 0.5265821Epoch: 1 train_mse: 0.5278366Epoch: 1 train_mse: 0.52658933Epoch: 1 train_mse: 0.52575326Epoch: 1 train_mse: 0.5245719Epoch: 1 train_mse: 0.52550566Epoch: 1 train_mse: 0.5268495Epoch: 1 train_mse: 0.527398Epoch: 1 train_mse: 0.52760893Epoch: 1 train_mse: 0.52656806Epoch: 1 train_mse: 0.525323Epoch: 1 train_mse: 0.52841705Epoch: 1 train_mse: 0.527693Epoch: 1 train_mse: 0.5272601Epoch: 1 train_mse: 0.5273087Epoch: 1 train_mse: 0.52726483Epoch: 1 train_mse: 0.5261259Epoch: 1 train_mse: 0.5286726Epoch: 1 train_mse: 0.5283346Epoch: 1 train_mse: 0.5279721Epoch: 1 train_mse: 0.527134Epoch: 1 train_mse: 0.52598166Epoch: 1 train_mse: 0.5256152Epoch: 1 train_mse: 0.524647Epoch: 1 train_mse: 0.5237974Epoch: 1 train_mse: 0.5227217Epoch: 1 train_mse: 0.52210855Epoch: 1 train_mse: 0.52127385Epoch: 1 train_mse: 0.52109873Epoch: 1 train_mse: 0.5210673Epoch: 1 train_mse: 0.52021486Epoch: 1 train_mse: 0.52204347Epoch: 1 train_mse: 0.52175474Epoch: 1 train_mse: 0.5207605Epoch: 1 train_mse: 0.5209257Epoch: 1 train_mse: 0.52210647Epoch: 1 train_mse: 0.5223577Epoch: 1 train_mse: 0.52247816Epoch: 1 train_mse: 0.5219917Epoch: 1 train_mse: 0.5215858Epoch: 1 train_mse: 0.52098143Epoch: 1 train_mse: 0.52010036Epoch: 1 train_mse: 0.5199154Epoch: 1 train_mse: 0.5188799Epoch: 1 train_mse: 0.51795906Epoch: 1 train_mse: 0.51810604Epoch: 1 train_mse: 0.5182979Epoch: 1 train_mse: 0.5185896Epoch: 1 train_mse: 0.5183812Epoch: 1 train_mse: 0.51914394Epoch: 1 train_mse: 0.5194338Epoch: 1 train_mse: 0.519716Epoch: 1 train_mse: 0.5190933Epoch: 1 train_mse: 0.5190129Epoch: 1 train_mse: 0.5197901Epoch: 1 train_mse: 0.5207349Epoch: 1 train_mse: 0.5202886Epoch: 1 train_mse: 0.5190075Epoch: 1 train_mse: 0.51801914Epoch: 1 train_mse: 0.51697177Epoch: 1 train_mse: 0.5161294Epoch: 1 train_mse: 0.51554924Epoch: 1 train_mse: 0.5157048Epoch: 1 train_mse: 0.51472276Epoch: 1 train_mse: 0.51494324Epoch: 1 train_mse: 0.51401794Epoch: 1 train_mse: 0.5135224Epoch: 1 train_mse: 0.51316744Epoch: 1 train_mse: 0.5139277Epoch: 1 train_mse: 0.5133764"
     ]
    },
    {
     "name": "stdout",
     "output_type": "stream",
     "text": [
      "Epoch: 1 train_mse: 0.5132169Epoch: 1 train_mse: 0.5125605Epoch: 1 train_mse: 0.51205397Epoch: 1 train_mse: 0.5118519Epoch: 1 train_mse: 0.51235473Epoch: 1 train_mse: 0.5116296Epoch: 1 train_mse: 0.5113017Epoch: 1 train_mse: 0.5106837Epoch: 1 train_mse: 0.5097941Epoch: 1 train_mse: 0.5103666Epoch: 1 train_mse: 0.51118004Epoch: 1 train_mse: 0.5116758Epoch: 1 train_mse: 0.5120379Epoch: 1 train_mse: 0.5121344Epoch: 1 train_mse: 0.5115875Epoch: 1 train_mse: 0.5109927Epoch: 1 train_mse: 0.5104956Epoch: 1 train_mse: 0.510147Epoch: 1 train_mse: 0.51071066Epoch: 1 train_mse: 0.5112236Epoch: 1 train_mse: 0.5104872Epoch: 1 train_mse: 0.5103181Epoch: 1 train_mse: 0.5096996Epoch: 1 train_mse: 0.5090138Epoch: 1 train_mse: 0.5086183Epoch: 1 train_mse: 0.50818545Epoch: 1 train_mse: 0.50761175Epoch: 1 train_mse: 0.50721484Epoch: 1 train_mse: 0.5061481Epoch: 1 train_mse: 0.5061848Epoch: 1 train_mse: 0.505838Epoch: 1 train_mse: 0.50571686Epoch: 1 train_mse: 0.50514597Epoch: 1 train_mse: 0.5051351Epoch: 1 train_mse: 0.50627464Epoch: 1 train_mse: 0.506465Epoch: 1 train_mse: 0.506937Epoch: 1 train_mse: 0.50626475Epoch: 1 train_mse: 0.50553644Epoch: 1 train_mse: 0.50638664Epoch: 1 train_mse: 0.5059542Epoch: 1 train_mse: 0.5050677Epoch: 1 train_mse: 0.50715464Epoch: 1 train_mse: 0.5064809Epoch: 1 train_mse: 0.5058555Epoch: 1 train_mse: 0.50576895Epoch: 1 train_mse: 0.50507987Epoch: 1 train_mse: 0.5062378Epoch: 1 train_mse: 0.5061914Epoch: 1 train_mse: 0.506675Epoch: 1 train_mse: 0.50606555Epoch: 1 train_mse: 0.50607425Epoch: 1 train_mse: 0.50678277Epoch: 1 train_mse: 0.5058693Epoch: 1 train_mse: 0.5050476Epoch: 1 train_mse: 0.50467926Epoch: 1 train_mse: 0.50484604Epoch: 1 train_mse: 0.5043257Epoch: 1 train_mse: 0.50442106Epoch: 1 train_mse: 0.5044024Epoch: 1 train_mse: 0.5048849Epoch: 1 train_mse: 0.50529474Epoch: 1 train_mse: 0.5051952Epoch: 1 train_mse: 0.5048036Epoch: 1 train_mse: 0.5045828Epoch: 1 train_mse: 0.50374985\t valid mse: 0.488202\n"
     ]
    },
    {
     "name": "stdout",
     "output_type": "stream",
     "text": [
      "Epoch: 2 train_mse: 0.48069435Epoch: 2 train_mse: 0.41597253Epoch: 2 train_mse: 0.39807907Epoch: 2 train_mse: 0.42250443Epoch: 2 train_mse: 0.3798671Epoch: 2 train_mse: 0.47219408Epoch: 2 train_mse: 0.47754207Epoch: 2 train_mse: 0.48779285Epoch: 2 train_mse: 0.4621836Epoch: 2 train_mse: 0.44751325Epoch: 2 train_mse: 0.45730934Epoch: 2 train_mse: 0.43776825Epoch: 2 train_mse: 0.43373287Epoch: 2 train_mse: 0.42712045Epoch: 2 train_mse: 0.4145078Epoch: 2 train_mse: 0.40234333Epoch: 2 train_mse: 0.40184456Epoch: 2 train_mse: 0.3942428Epoch: 2 train_mse: 0.38547537Epoch: 2 train_mse: 0.3756934Epoch: 2 train_mse: 0.37306577Epoch: 2 train_mse: 0.3649536Epoch: 2 train_mse: 0.35981542Epoch: 2 train_mse: 0.36005175Epoch: 2 train_mse: 0.37367526Epoch: 2 train_mse: 0.3763841Epoch: 2 train_mse: 0.3814549Epoch: 2 train_mse: 0.37690976Epoch: 2 train_mse: 0.37387607Epoch: 2 train_mse: 0.3724231Epoch: 2 train_mse: 0.38293844Epoch: 2 train_mse: 0.37707046Epoch: 2 train_mse: 0.37947536Epoch: 2 train_mse: 0.37453634Epoch: 2 train_mse: 0.3693935Epoch: 2 train_mse: 0.36848062Epoch: 2 train_mse: 0.3726245Epoch: 2 train_mse: 0.3789715Epoch: 2 train_mse: 0.37748936Epoch: 2 train_mse: 0.3756474Epoch: 2 train_mse: 0.37402722Epoch: 2 train_mse: 0.37174407Epoch: 2 train_mse: 0.3796738Epoch: 2 train_mse: 0.38048536Epoch: 2 train_mse: 0.38080698Epoch: 2 train_mse: 0.3846388Epoch: 2 train_mse: 0.39037347Epoch: 2 train_mse: 0.38719487Epoch: 2 train_mse: 0.39303017Epoch: 2 train_mse: 0.39269036Epoch: 2 train_mse: 0.38821054Epoch: 2 train_mse: 0.38973576Epoch: 2 train_mse: 0.39470997Epoch: 2 train_mse: 0.39694932Epoch: 2 train_mse: 0.39709428Epoch: 2 train_mse: 0.3967313Epoch: 2 train_mse: 0.39348963Epoch: 2 train_mse: 0.39091048Epoch: 2 train_mse: 0.38918716Epoch: 2 train_mse: 0.39000517Epoch: 2 train_mse: 0.38830644Epoch: 2 train_mse: 0.3871914Epoch: 2 train_mse: 0.38961035Epoch: 2 train_mse: 0.39915028Epoch: 2 train_mse: 0.3969224Epoch: 2 train_mse: 0.39501002Epoch: 2 train_mse: 0.39439562Epoch: 2 train_mse: 0.39211282Epoch: 2 train_mse: 0.3926648Epoch: 2 train_mse: 0.39640835Epoch: 2 train_mse: 0.3965494Epoch: 2 train_mse: 0.3999387Epoch: 2 train_mse: 0.4017871Epoch: 2 train_mse: 0.40151125Epoch: 2 train_mse: 0.40092063Epoch: 2 train_mse: 0.40205392Epoch: 2 train_mse: 0.4004791Epoch: 2 train_mse: 0.40157124Epoch: 2 train_mse: 0.4013829Epoch: 2 train_mse: 0.4011065Epoch: 2 train_mse: 0.40254396Epoch: 2 train_mse: 0.40370014Epoch: 2 train_mse: 0.40289292Epoch: 2 train_mse: 0.40596545Epoch: 2 train_mse: 0.4033614Epoch: 2 train_mse: 0.4022363Epoch: 2 train_mse: 0.4015237Epoch: 2 train_mse: 0.40258077Epoch: 2 train_mse: 0.4017955Epoch: 2 train_mse: 0.40009606Epoch: 2 train_mse: 0.40174073Epoch: 2 train_mse: 0.40067503Epoch: 2 train_mse: 0.39970198Epoch: 2 train_mse: 0.4001813Epoch: 2 train_mse: 0.3986695Epoch: 2 train_mse: 0.39783967Epoch: 2 train_mse: 0.69648194Epoch: 2 train_mse: 0.69506425Epoch: 2 train_mse: 0.69193643Epoch: 2 train_mse: 0.6911913Epoch: 2 train_mse: 0.6916973Epoch: 2 train_mse: 0.6905101Epoch: 2 train_mse: 0.69003564Epoch: 2 train_mse: 0.6925233Epoch: 2 train_mse: 0.68851626Epoch: 2 train_mse: 0.6839305Epoch: 2 train_mse: 0.67989844Epoch: 2 train_mse: 0.6771506Epoch: 2 train_mse: 0.6757242Epoch: 2 train_mse: 0.67603636Epoch: 2 train_mse: 0.67380536Epoch: 2 train_mse: 0.67049074Epoch: 2 train_mse: 0.6682915Epoch: 2 train_mse: 0.6697513Epoch: 2 train_mse: 0.6669542Epoch: 2 train_mse: 0.6670265Epoch: 2 train_mse: 0.6637622Epoch: 2 train_mse: 0.6608268Epoch: 2 train_mse: 0.66136265Epoch: 2 train_mse: 0.65967685Epoch: 2 train_mse: 0.656628Epoch: 2 train_mse: 0.6530216Epoch: 2 train_mse: 0.65328246Epoch: 2 train_mse: 0.6527676Epoch: 2 train_mse: 0.65108013Epoch: 2 train_mse: 0.6497344Epoch: 2 train_mse: 0.64684737Epoch: 2 train_mse: 0.64496183Epoch: 2 train_mse: 0.6453438Epoch: 2 train_mse: 0.64361566Epoch: 2 train_mse: 0.6405301Epoch: 2 train_mse: 0.6389734Epoch: 2 train_mse: 0.6361266Epoch: 2 train_mse: 0.63445103Epoch: 2 train_mse: 0.63321704Epoch: 2 train_mse: 0.63102823Epoch: 2 train_mse: 0.6300673Epoch: 2 train_mse: 0.62766564Epoch: 2 train_mse: 0.6261065Epoch: 2 train_mse: 0.6241248Epoch: 2 train_mse: 0.62216395Epoch: 2 train_mse: 0.62063086Epoch: 2 train_mse: 0.6193027Epoch: 2 train_mse: 0.61959124Epoch: 2 train_mse: 0.6171469Epoch: 2 train_mse: 0.6152482Epoch: 2 train_mse: 0.6135968Epoch: 2 train_mse: 0.6121324Epoch: 2 train_mse: 0.6097107Epoch: 2 train_mse: 0.60667366Epoch: 2 train_mse: 0.60379595Epoch: 2 train_mse: 0.6020932Epoch: 2 train_mse: 0.5992735Epoch: 2 train_mse: 0.59641206Epoch: 2 train_mse: 0.59465873Epoch: 2 train_mse: 0.5920368Epoch: 2 train_mse: 0.5910498Epoch: 2 train_mse: 0.58894914Epoch: 2 train_mse: 0.5883086Epoch: 2 train_mse: 0.5863768Epoch: 2 train_mse: 0.5853056Epoch: 2 train_mse: 0.58361256Epoch: 2 train_mse: 0.58131933Epoch: 2 train_mse: 0.57965076Epoch: 2 train_mse: 0.5776097Epoch: 2 train_mse: 0.57612395Epoch: 2 train_mse: 0.575423Epoch: 2 train_mse: 0.57449466Epoch: 2 train_mse: 0.5743038Epoch: 2 train_mse: 0.5728297Epoch: 2 train_mse: 0.57184386Epoch: 2 train_mse: 0.57118624Epoch: 2 train_mse: 0.56960714Epoch: 2 train_mse: 0.5689945Epoch: 2 train_mse: 0.5669172Epoch: 2 train_mse: 0.5673201Epoch: 2 train_mse: 0.5659169Epoch: 2 train_mse: 0.56472635Epoch: 2 train_mse: 0.5635981Epoch: 2 train_mse: 0.56425256Epoch: 2 train_mse: 0.5642017Epoch: 2 train_mse: 0.56276363Epoch: 2 train_mse: 0.5609657Epoch: 2 train_mse: 0.5599911Epoch: 2 train_mse: 0.5598056Epoch: 2 train_mse: 0.5594306Epoch: 2 train_mse: 0.5580159Epoch: 2 train_mse: 0.55715823Epoch: 2 train_mse: 0.5568501Epoch: 2 train_mse: 0.5561916Epoch: 2 train_mse: 0.5548002Epoch: 2 train_mse: 0.5528769Epoch: 2 train_mse: 0.55079466Epoch: 2 train_mse: 0.5488122Epoch: 2 train_mse: 0.54819876Epoch: 2 train_mse: 0.54819095Epoch: 2 train_mse: 0.54684496Epoch: 2 train_mse: 0.5465474Epoch: 2 train_mse: 0.54657286Epoch: 2 train_mse: 0.5451206Epoch: 2 train_mse: 0.54389834Epoch: 2 train_mse: 0.5434472Epoch: 2 train_mse: 0.54173505Epoch: 2 train_mse: 0.5404195Epoch: 2 train_mse: 0.5395371Epoch: 2 train_mse: 0.53975284Epoch: 2 train_mse: 0.5389904Epoch: 2 train_mse: 0.53851736Epoch: 2 train_mse: 0.5378267Epoch: 2 train_mse: 0.5361627Epoch: 2 train_mse: 0.5357248Epoch: 2 train_mse: 0.53495544Epoch: 2 train_mse: 0.53352004Epoch: 2 train_mse: 0.53538126Epoch: 2 train_mse: 0.53399086Epoch: 2 train_mse: 0.5326751Epoch: 2 train_mse: 0.5319921Epoch: 2 train_mse: 0.5314046Epoch: 2 train_mse: 0.5312968Epoch: 2 train_mse: 0.5303173Epoch: 2 train_mse: 0.5294493Epoch: 2 train_mse: 0.5302351Epoch: 2 train_mse: 0.5307949Epoch: 2 train_mse: 0.5298092Epoch: 2 train_mse: 0.52893513Epoch: 2 train_mse: 0.52758515Epoch: 2 train_mse: 0.52857316Epoch: 2 train_mse: 0.52793807Epoch: 2 train_mse: 0.52678216Epoch: 2 train_mse: 0.5252092Epoch: 2 train_mse: 0.52479076Epoch: 2 train_mse: 0.5237739Epoch: 2 train_mse: 0.5226752Epoch: 2 train_mse: 0.52154994Epoch: 2 train_mse: 0.5203251Epoch: 2 train_mse: 0.51986986Epoch: 2 train_mse: 0.52070415Epoch: 2 train_mse: 0.5196935Epoch: 2 train_mse: 0.51897436Epoch: 2 train_mse: 0.51911426Epoch: 2 train_mse: 0.51791394Epoch: 2 train_mse: 0.51706326Epoch: 2 train_mse: 0.5155785Epoch: 2 train_mse: 0.515767Epoch: 2 train_mse: 0.51443124Epoch: 2 train_mse: 0.51342815Epoch: 2 train_mse: 0.5125684Epoch: 2 train_mse: 0.51158327Epoch: 2 train_mse: 0.5111154Epoch: 2 train_mse: 0.5103478Epoch: 2 train_mse: 0.50995076Epoch: 2 train_mse: 0.50916374Epoch: 2 train_mse: 0.50790924Epoch: 2 train_mse: 0.5073991Epoch: 2 train_mse: 0.5079962Epoch: 2 train_mse: 0.50752693Epoch: 2 train_mse: 0.5067179Epoch: 2 train_mse: 0.5060124Epoch: 2 train_mse: 0.5053456Epoch: 2 train_mse: 0.5042789Epoch: 2 train_mse: 0.5041742Epoch: 2 train_mse: 0.50389796Epoch: 2 train_mse: 0.50536245Epoch: 2 train_mse: 0.50530195Epoch: 2 train_mse: 0.50526667Epoch: 2 train_mse: 0.5044321Epoch: 2 train_mse: 0.5045838Epoch: 2 train_mse: 0.50434726Epoch: 2 train_mse: 0.50339466Epoch: 2 train_mse: 0.50286275Epoch: 2 train_mse: 0.5022033Epoch: 2 train_mse: 0.5012399Epoch: 2 train_mse: 0.5004759Epoch: 2 train_mse: 0.49989074Epoch: 2 train_mse: 0.49918124Epoch: 2 train_mse: 0.4983984Epoch: 2 train_mse: 0.49880728Epoch: 2 train_mse: 0.4980157Epoch: 2 train_mse: 0.4988191Epoch: 2 train_mse: 0.49793822Epoch: 2 train_mse: 0.49722093Epoch: 2 train_mse: 0.4967189Epoch: 2 train_mse: 0.49590766Epoch: 2 train_mse: 0.4953503Epoch: 2 train_mse: 0.4956506Epoch: 2 train_mse: 0.49469352Epoch: 2 train_mse: 0.49487317Epoch: 2 train_mse: 0.49521112Epoch: 2 train_mse: 0.49463978Epoch: 2 train_mse: 0.49486685Epoch: 2 train_mse: 0.49453872Epoch: 2 train_mse: 0.4934232Epoch: 2 train_mse: 0.49340227Epoch: 2 train_mse: 0.49330217Epoch: 2 train_mse: 0.49379206Epoch: 2 train_mse: 0.49332738Epoch: 2 train_mse: 0.49309465Epoch: 2 train_mse: 0.49274558Epoch: 2 train_mse: 0.49215963Epoch: 2 train_mse: 0.49131525Epoch: 2 train_mse: 0.49151075Epoch: 2 train_mse: 0.49302158Epoch: 2 train_mse: 0.49265105Epoch: 2 train_mse: 0.49318108Epoch: 2 train_mse: 0.49352393Epoch: 2 train_mse: 0.49258202Epoch: 2 train_mse: 0.49216196Epoch: 2 train_mse: 0.49124387Epoch: 2 train_mse: 0.4901717Epoch: 2 train_mse: 0.48945382Epoch: 2 train_mse: 0.49005288Epoch: 2 train_mse: 0.48984674Epoch: 2 train_mse: 0.48959512Epoch: 2 train_mse: 0.48947558Epoch: 2 train_mse: 0.4898784Epoch: 2 train_mse: 0.4896752Epoch: 2 train_mse: 0.4891334"
     ]
    },
    {
     "name": "stdout",
     "output_type": "stream",
     "text": [
      "Epoch: 2 train_mse: 0.48909461Epoch: 2 train_mse: 0.48852992Epoch: 2 train_mse: 0.48853117Epoch: 2 train_mse: 0.4880371Epoch: 2 train_mse: 0.4881729Epoch: 2 train_mse: 0.48751888Epoch: 2 train_mse: 0.4881875Epoch: 2 train_mse: 0.48754445Epoch: 2 train_mse: 0.48705503Epoch: 2 train_mse: 0.4870494Epoch: 2 train_mse: 0.48709813Epoch: 2 train_mse: 0.48623458Epoch: 2 train_mse: 0.4857906Epoch: 2 train_mse: 0.4860216Epoch: 2 train_mse: 0.48654726Epoch: 2 train_mse: 0.48600754Epoch: 2 train_mse: 0.48573092Epoch: 2 train_mse: 0.48496312Epoch: 2 train_mse: 0.48463702Epoch: 2 train_mse: 0.48430192Epoch: 2 train_mse: 0.48371753Epoch: 2 train_mse: 0.48344287Epoch: 2 train_mse: 0.48274878Epoch: 2 train_mse: 0.48236144Epoch: 2 train_mse: 0.48152903Epoch: 2 train_mse: 0.4809118Epoch: 2 train_mse: 0.48046187Epoch: 2 train_mse: 0.47997716Epoch: 2 train_mse: 0.47959173Epoch: 2 train_mse: 0.48025918Epoch: 2 train_mse: 0.48008218Epoch: 2 train_mse: 0.47945178Epoch: 2 train_mse: 0.4791059Epoch: 2 train_mse: 0.4788276Epoch: 2 train_mse: 0.47957468Epoch: 2 train_mse: 0.47947815Epoch: 2 train_mse: 0.47935322Epoch: 2 train_mse: 0.4788456Epoch: 2 train_mse: 0.4787089Epoch: 2 train_mse: 0.47819018Epoch: 2 train_mse: 0.47782654Epoch: 2 train_mse: 0.47719488Epoch: 2 train_mse: 0.4765113Epoch: 2 train_mse: 0.47699553Epoch: 2 train_mse: 0.47614726\t valid mse: 0.4351834\n"
     ]
    },
    {
     "name": "stdout",
     "output_type": "stream",
     "text": [
      "Epoch: 3 train_mse: 0.26038986Epoch: 3 train_mse: 0.36678255Epoch: 3 train_mse: 0.2935048Epoch: 3 train_mse: 0.2893334Epoch: 3 train_mse: 0.3098609Epoch: 3 train_mse: 0.31680042Epoch: 3 train_mse: 0.3063049Epoch: 3 train_mse: 0.3042782Epoch: 3 train_mse: 0.33364233Epoch: 3 train_mse: 0.37143224Epoch: 3 train_mse: 0.37312087Epoch: 3 train_mse: 0.35926545Epoch: 3 train_mse: 0.3630911Epoch: 3 train_mse: 0.37628293Epoch: 3 train_mse: 0.36821425Epoch: 3 train_mse: 0.37023786Epoch: 3 train_mse: 0.38000304Epoch: 3 train_mse: 0.38497514Epoch: 3 train_mse: 0.38452274Epoch: 3 train_mse: 0.38789573Epoch: 3 train_mse: 0.37989965Epoch: 3 train_mse: 0.38029572Epoch: 3 train_mse: 0.37588355Epoch: 3 train_mse: 0.37235928Epoch: 3 train_mse: 0.37567598Epoch: 3 train_mse: 0.3800102Epoch: 3 train_mse: 0.3903896Epoch: 3 train_mse: 0.39231333Epoch: 3 train_mse: 0.38827914Epoch: 3 train_mse: 0.38629577Epoch: 3 train_mse: 0.379816Epoch: 3 train_mse: 0.38126564Epoch: 3 train_mse: 0.4187796Epoch: 3 train_mse: 0.41661796Epoch: 3 train_mse: 0.41492212Epoch: 3 train_mse: 0.4121643Epoch: 3 train_mse: 0.40956706Epoch: 3 train_mse: 0.40837732Epoch: 3 train_mse: 0.40506288Epoch: 3 train_mse: 0.40184385Epoch: 3 train_mse: 0.39647627Epoch: 3 train_mse: 0.39817265Epoch: 3 train_mse: 0.39421326Epoch: 3 train_mse: 0.39744815Epoch: 3 train_mse: 0.3966274Epoch: 3 train_mse: 0.39748976Epoch: 3 train_mse: 0.4045296Epoch: 3 train_mse: 0.40798318Epoch: 3 train_mse: 0.40259516Epoch: 3 train_mse: 0.40186578Epoch: 3 train_mse: 0.40342322Epoch: 3 train_mse: 0.40499976Epoch: 3 train_mse: 0.4015755Epoch: 3 train_mse: 0.40552384Epoch: 3 train_mse: 0.40717745Epoch: 3 train_mse: 0.40597877Epoch: 3 train_mse: 0.40413633Epoch: 3 train_mse: 0.40478712Epoch: 3 train_mse: 0.40239918Epoch: 3 train_mse: 0.4084651Epoch: 3 train_mse: 0.40443444Epoch: 3 train_mse: 0.4056632Epoch: 3 train_mse: 0.40479133Epoch: 3 train_mse: 0.40395686Epoch: 3 train_mse: 0.4019704Epoch: 3 train_mse: 0.4045358Epoch: 3 train_mse: 0.40260783Epoch: 3 train_mse: 0.4009931Epoch: 3 train_mse: 0.4105854Epoch: 3 train_mse: 0.4130593Epoch: 3 train_mse: 0.4145827Epoch: 3 train_mse: 0.4139312Epoch: 3 train_mse: 0.4130416Epoch: 3 train_mse: 0.41297978Epoch: 3 train_mse: 0.41221857Epoch: 3 train_mse: 0.41072583Epoch: 3 train_mse: 0.4097473Epoch: 3 train_mse: 0.4084059Epoch: 3 train_mse: 0.4060545Epoch: 3 train_mse: 0.40781283Epoch: 3 train_mse: 0.40872395Epoch: 3 train_mse: 0.4063734Epoch: 3 train_mse: 0.40489656Epoch: 3 train_mse: 0.40265992Epoch: 3 train_mse: 0.39996034Epoch: 3 train_mse: 0.40008566Epoch: 3 train_mse: 0.39910796Epoch: 3 train_mse: 0.39733222Epoch: 3 train_mse: 0.39724973Epoch: 3 train_mse: 0.399398Epoch: 3 train_mse: 0.39846605Epoch: 3 train_mse: 0.39801627Epoch: 3 train_mse: 0.3965441Epoch: 3 train_mse: 0.39555708Epoch: 3 train_mse: 0.39765576Epoch: 3 train_mse: 0.39563712Epoch: 3 train_mse: 0.39585352Epoch: 3 train_mse: 0.39528355Epoch: 3 train_mse: 0.39481607Epoch: 3 train_mse: 0.39596063Epoch: 3 train_mse: 0.583026Epoch: 3 train_mse: 0.57906026Epoch: 3 train_mse: 0.5776293Epoch: 3 train_mse: 0.5751931Epoch: 3 train_mse: 0.57140595Epoch: 3 train_mse: 0.5682557Epoch: 3 train_mse: 0.5659704Epoch: 3 train_mse: 0.5662806Epoch: 3 train_mse: 0.56294286Epoch: 3 train_mse: 0.5595019Epoch: 3 train_mse: 0.5617316Epoch: 3 train_mse: 0.5586384Epoch: 3 train_mse: 0.5569038Epoch: 3 train_mse: 0.55552167Epoch: 3 train_mse: 0.55258054Epoch: 3 train_mse: 0.5534585Epoch: 3 train_mse: 0.55021244Epoch: 3 train_mse: 0.54818743Epoch: 3 train_mse: 0.54857236Epoch: 3 train_mse: 0.5466163Epoch: 3 train_mse: 0.5445261Epoch: 3 train_mse: 0.5449879Epoch: 3 train_mse: 0.54281974Epoch: 3 train_mse: 0.54296637Epoch: 3 train_mse: 0.54302675Epoch: 3 train_mse: 0.5403489Epoch: 3 train_mse: 0.53790206Epoch: 3 train_mse: 0.53698385Epoch: 3 train_mse: 0.5345906Epoch: 3 train_mse: 0.53293645Epoch: 3 train_mse: 0.5324697Epoch: 3 train_mse: 0.5318737Epoch: 3 train_mse: 0.5290816Epoch: 3 train_mse: 0.5270361Epoch: 3 train_mse: 0.52574694Epoch: 3 train_mse: 0.52395064Epoch: 3 train_mse: 0.5215037Epoch: 3 train_mse: 0.52267456Epoch: 3 train_mse: 0.5201381Epoch: 3 train_mse: 0.51933277Epoch: 3 train_mse: 0.5189658Epoch: 3 train_mse: 0.519054Epoch: 3 train_mse: 0.5173268Epoch: 3 train_mse: 0.516075Epoch: 3 train_mse: 0.5170775Epoch: 3 train_mse: 0.5154409Epoch: 3 train_mse: 0.5134306Epoch: 3 train_mse: 0.51278245Epoch: 3 train_mse: 0.51063234Epoch: 3 train_mse: 0.5132255Epoch: 3 train_mse: 0.5114439Epoch: 3 train_mse: 0.5101594Epoch: 3 train_mse: 0.5096551Epoch: 3 train_mse: 0.5093685Epoch: 3 train_mse: 0.5077441Epoch: 3 train_mse: 0.5085562Epoch: 3 train_mse: 0.508968Epoch: 3 train_mse: 0.5074284Epoch: 3 train_mse: 0.506196Epoch: 3 train_mse: 0.5056933Epoch: 3 train_mse: 0.50500965Epoch: 3 train_mse: 0.5043925Epoch: 3 train_mse: 0.5026167Epoch: 3 train_mse: 0.5027352Epoch: 3 train_mse: 0.5010255Epoch: 3 train_mse: 0.49965134Epoch: 3 train_mse: 0.49876583Epoch: 3 train_mse: 0.4970634Epoch: 3 train_mse: 0.49749187Epoch: 3 train_mse: 0.49743748Epoch: 3 train_mse: 0.4970704Epoch: 3 train_mse: 0.49655545Epoch: 3 train_mse: 0.49622324Epoch: 3 train_mse: 0.49727345Epoch: 3 train_mse: 0.49904746Epoch: 3 train_mse: 0.49905774Epoch: 3 train_mse: 0.49784347Epoch: 3 train_mse: 0.4959357Epoch: 3 train_mse: 0.4948006Epoch: 3 train_mse: 0.49433786Epoch: 3 train_mse: 0.4923222Epoch: 3 train_mse: 0.49090576Epoch: 3 train_mse: 0.49150997Epoch: 3 train_mse: 0.4907635Epoch: 3 train_mse: 0.48946336Epoch: 3 train_mse: 0.48876473Epoch: 3 train_mse: 0.4872707Epoch: 3 train_mse: 0.48628008Epoch: 3 train_mse: 0.48571113Epoch: 3 train_mse: 0.48771632Epoch: 3 train_mse: 0.4867751Epoch: 3 train_mse: 0.48737147Epoch: 3 train_mse: 0.48974133Epoch: 3 train_mse: 0.49036804Epoch: 3 train_mse: 0.49059382Epoch: 3 train_mse: 0.4889412Epoch: 3 train_mse: 0.48782638Epoch: 3 train_mse: 0.48822096Epoch: 3 train_mse: 0.48708957Epoch: 3 train_mse: 0.48647344Epoch: 3 train_mse: 0.48484403Epoch: 3 train_mse: 0.48547164Epoch: 3 train_mse: 0.48442644Epoch: 3 train_mse: 0.48408818Epoch: 3 train_mse: 0.48312512Epoch: 3 train_mse: 0.48183614Epoch: 3 train_mse: 0.48164403Epoch: 3 train_mse: 0.48154023Epoch: 3 train_mse: 0.4809811Epoch: 3 train_mse: 0.47959253Epoch: 3 train_mse: 0.47904947Epoch: 3 train_mse: 0.47945803Epoch: 3 train_mse: 0.47909987Epoch: 3 train_mse: 0.47985005Epoch: 3 train_mse: 0.47852182Epoch: 3 train_mse: 0.4779644Epoch: 3 train_mse: 0.4786272Epoch: 3 train_mse: 0.4784481Epoch: 3 train_mse: 0.47703993Epoch: 3 train_mse: 0.47576156Epoch: 3 train_mse: 0.47621873Epoch: 3 train_mse: 0.47630554Epoch: 3 train_mse: 0.47644112Epoch: 3 train_mse: 0.47603455Epoch: 3 train_mse: 0.47779885Epoch: 3 train_mse: 0.47768164Epoch: 3 train_mse: 0.47634852Epoch: 3 train_mse: 0.47562385Epoch: 3 train_mse: 0.47527137Epoch: 3 train_mse: 0.4759155Epoch: 3 train_mse: 0.47477898Epoch: 3 train_mse: 0.47389337Epoch: 3 train_mse: 0.4729755Epoch: 3 train_mse: 0.47168884Epoch: 3 train_mse: 0.4705651Epoch: 3 train_mse: 0.47064453Epoch: 3 train_mse: 0.47023222Epoch: 3 train_mse: 0.46885663Epoch: 3 train_mse: 0.46825597Epoch: 3 train_mse: 0.46678066Epoch: 3 train_mse: 0.46567804Epoch: 3 train_mse: 0.46458465Epoch: 3 train_mse: 0.46358928Epoch: 3 train_mse: 0.46245426Epoch: 3 train_mse: 0.4618609Epoch: 3 train_mse: 0.46215802Epoch: 3 train_mse: 0.4626089Epoch: 3 train_mse: 0.46172142Epoch: 3 train_mse: 0.46118504Epoch: 3 train_mse: 0.46112108Epoch: 3 train_mse: 0.46293175Epoch: 3 train_mse: 0.4629438Epoch: 3 train_mse: 0.46187994Epoch: 3 train_mse: 0.46145597Epoch: 3 train_mse: 0.46054873Epoch: 3 train_mse: 0.45998204Epoch: 3 train_mse: 0.46126536Epoch: 3 train_mse: 0.46017423Epoch: 3 train_mse: 0.4619197Epoch: 3 train_mse: 0.46177268Epoch: 3 train_mse: 0.46187752Epoch: 3 train_mse: 0.46279103Epoch: 3 train_mse: 0.4622824Epoch: 3 train_mse: 0.46156523Epoch: 3 train_mse: 0.46094635Epoch: 3 train_mse: 0.46025318Epoch: 3 train_mse: 0.4595887Epoch: 3 train_mse: 0.45915264Epoch: 3 train_mse: 0.45848018Epoch: 3 train_mse: 0.45758963Epoch: 3 train_mse: 0.4570548Epoch: 3 train_mse: 0.45652145Epoch: 3 train_mse: 0.4561922Epoch: 3 train_mse: 0.45735076Epoch: 3 train_mse: 0.45679083Epoch: 3 train_mse: 0.45717663Epoch: 3 train_mse: 0.4567972Epoch: 3 train_mse: 0.45658404Epoch: 3 train_mse: 0.45639417Epoch: 3 train_mse: 0.45703104Epoch: 3 train_mse: 0.45660868Epoch: 3 train_mse: 0.4579136Epoch: 3 train_mse: 0.45680717Epoch: 3 train_mse: 0.45732704Epoch: 3 train_mse: 0.45624277Epoch: 3 train_mse: 0.4553339Epoch: 3 train_mse: 0.4553163Epoch: 3 train_mse: 0.4551531Epoch: 3 train_mse: 0.45413592"
     ]
    },
    {
     "name": "stdout",
     "output_type": "stream",
     "text": [
      "Epoch: 3 train_mse: 0.45471585Epoch: 3 train_mse: 0.45414963Epoch: 3 train_mse: 0.45361558Epoch: 3 train_mse: 0.45345813Epoch: 3 train_mse: 0.45286146Epoch: 3 train_mse: 0.45221582Epoch: 3 train_mse: 0.45196873Epoch: 3 train_mse: 0.45120507Epoch: 3 train_mse: 0.45127183Epoch: 3 train_mse: 0.45122474Epoch: 3 train_mse: 0.45090342Epoch: 3 train_mse: 0.45056Epoch: 3 train_mse: 0.44999534Epoch: 3 train_mse: 0.45040068Epoch: 3 train_mse: 0.45036888Epoch: 3 train_mse: 0.45022282Epoch: 3 train_mse: 0.45042285Epoch: 3 train_mse: 0.4502631Epoch: 3 train_mse: 0.44949317Epoch: 3 train_mse: 0.44948244Epoch: 3 train_mse: 0.4485674Epoch: 3 train_mse: 0.44801673Epoch: 3 train_mse: 0.44771615Epoch: 3 train_mse: 0.44729507Epoch: 3 train_mse: 0.44682714Epoch: 3 train_mse: 0.44661888Epoch: 3 train_mse: 0.44628268Epoch: 3 train_mse: 0.44597864Epoch: 3 train_mse: 0.4455269Epoch: 3 train_mse: 0.44618785Epoch: 3 train_mse: 0.44649243Epoch: 3 train_mse: 0.44606778Epoch: 3 train_mse: 0.4459819Epoch: 3 train_mse: 0.44716525Epoch: 3 train_mse: 0.44658262Epoch: 3 train_mse: 0.4459416Epoch: 3 train_mse: 0.44604486Epoch: 3 train_mse: 0.44615182Epoch: 3 train_mse: 0.4458623Epoch: 3 train_mse: 0.4456884Epoch: 3 train_mse: 0.44575652Epoch: 3 train_mse: 0.4456825Epoch: 3 train_mse: 0.44510514Epoch: 3 train_mse: 0.44427505Epoch: 3 train_mse: 0.44336125Epoch: 3 train_mse: 0.44297633Epoch: 3 train_mse: 0.44234815Epoch: 3 train_mse: 0.44199997Epoch: 3 train_mse: 0.44236165Epoch: 3 train_mse: 0.44179028Epoch: 3 train_mse: 0.4423232Epoch: 3 train_mse: 0.44175175Epoch: 3 train_mse: 0.44189903Epoch: 3 train_mse: 0.44130412Epoch: 3 train_mse: 0.4412382Epoch: 3 train_mse: 0.44055477Epoch: 3 train_mse: 0.44106466Epoch: 3 train_mse: 0.44066033Epoch: 3 train_mse: 0.44002348Epoch: 3 train_mse: 0.43937582Epoch: 3 train_mse: 0.43926618Epoch: 3 train_mse: 0.44032356Epoch: 3 train_mse: 0.4397072Epoch: 3 train_mse: 0.4391513Epoch: 3 train_mse: 0.44034937Epoch: 3 train_mse: 0.43988118Epoch: 3 train_mse: 0.43965638Epoch: 3 train_mse: 0.4395407Epoch: 3 train_mse: 0.43932772Epoch: 3 train_mse: 0.43973723Epoch: 3 train_mse: 0.44055808Epoch: 3 train_mse: 0.4402246Epoch: 3 train_mse: 0.4400185\t valid mse: 0.3829121\n"
     ]
    },
    {
     "name": "stdout",
     "output_type": "stream",
     "text": [
      "Epoch: 4 train_mse: 0.5511302Epoch: 4 train_mse: 0.52613044Epoch: 4 train_mse: 0.44947305Epoch: 4 train_mse: 0.551286Epoch: 4 train_mse: 0.54688555Epoch: 4 train_mse: 0.52391356Epoch: 4 train_mse: 0.5700391Epoch: 4 train_mse: 0.53710467Epoch: 4 train_mse: 0.50417227Epoch: 4 train_mse: 0.49736995Epoch: 4 train_mse: 0.47100708Epoch: 4 train_mse: 0.44637564Epoch: 4 train_mse: 0.43228877Epoch: 4 train_mse: 0.42364106Epoch: 4 train_mse: 0.40986547Epoch: 4 train_mse: 0.41048387Epoch: 4 train_mse: 0.40024924Epoch: 4 train_mse: 0.39786568Epoch: 4 train_mse: 0.39066118Epoch: 4 train_mse: 0.3826874Epoch: 4 train_mse: 0.38393515Epoch: 4 train_mse: 0.3785152Epoch: 4 train_mse: 0.37958995Epoch: 4 train_mse: 0.37502018Epoch: 4 train_mse: 0.3676081Epoch: 4 train_mse: 0.36911714Epoch: 4 train_mse: 0.36770794Epoch: 4 train_mse: 0.3652105Epoch: 4 train_mse: 0.37065992Epoch: 4 train_mse: 0.37351376Epoch: 4 train_mse: 0.37741274Epoch: 4 train_mse: 0.3743674Epoch: 4 train_mse: 0.37435263Epoch: 4 train_mse: 0.3749323Epoch: 4 train_mse: 0.37723166Epoch: 4 train_mse: 0.38410598Epoch: 4 train_mse: 0.38862383Epoch: 4 train_mse: 0.39119777Epoch: 4 train_mse: 0.39473924Epoch: 4 train_mse: 0.39531273Epoch: 4 train_mse: 0.40164036Epoch: 4 train_mse: 0.4047205Epoch: 4 train_mse: 0.40682265Epoch: 4 train_mse: 0.40043294Epoch: 4 train_mse: 0.3983842Epoch: 4 train_mse: 0.39480504Epoch: 4 train_mse: 0.39308634Epoch: 4 train_mse: 0.39698383Epoch: 4 train_mse: 0.3953526Epoch: 4 train_mse: 0.3953728Epoch: 4 train_mse: 0.3947197Epoch: 4 train_mse: 0.4021403Epoch: 4 train_mse: 0.3979314Epoch: 4 train_mse: 0.39608246Epoch: 4 train_mse: 0.39457145Epoch: 4 train_mse: 0.399268Epoch: 4 train_mse: 0.39615336Epoch: 4 train_mse: 0.39410317Epoch: 4 train_mse: 0.39383864Epoch: 4 train_mse: 0.3913884Epoch: 4 train_mse: 0.38976586Epoch: 4 train_mse: 0.38996223Epoch: 4 train_mse: 0.38854083Epoch: 4 train_mse: 0.3864974Epoch: 4 train_mse: 0.38774064Epoch: 4 train_mse: 0.3882739Epoch: 4 train_mse: 0.38893396Epoch: 4 train_mse: 0.3863356Epoch: 4 train_mse: 0.38569784Epoch: 4 train_mse: 0.38367778Epoch: 4 train_mse: 0.38308507Epoch: 4 train_mse: 0.38695127Epoch: 4 train_mse: 0.38801724Epoch: 4 train_mse: 0.3863564Epoch: 4 train_mse: 0.38607436Epoch: 4 train_mse: 0.38989443Epoch: 4 train_mse: 0.38799918Epoch: 4 train_mse: 0.38804206Epoch: 4 train_mse: 0.389801Epoch: 4 train_mse: 0.38779446Epoch: 4 train_mse: 0.38887367Epoch: 4 train_mse: 0.39339107Epoch: 4 train_mse: 0.39417732Epoch: 4 train_mse: 0.39736176Epoch: 4 train_mse: 0.39607567Epoch: 4 train_mse: 0.39691287Epoch: 4 train_mse: 0.396483Epoch: 4 train_mse: 0.39872408Epoch: 4 train_mse: 0.39988756Epoch: 4 train_mse: 0.4024672Epoch: 4 train_mse: 0.40278533Epoch: 4 train_mse: 0.40144053Epoch: 4 train_mse: 0.3999573Epoch: 4 train_mse: 0.40164322Epoch: 4 train_mse: 0.40340355Epoch: 4 train_mse: 0.40273502Epoch: 4 train_mse: 0.40148917Epoch: 4 train_mse: 0.40294075Epoch: 4 train_mse: 0.40221897Epoch: 4 train_mse: 0.40151832Epoch: 4 train_mse: 0.40162268Epoch: 4 train_mse: 0.4010724Epoch: 4 train_mse: 0.40219012Epoch: 4 train_mse: 0.40145123Epoch: 4 train_mse: 0.4008676Epoch: 4 train_mse: 0.401782Epoch: 4 train_mse: 0.40138978Epoch: 4 train_mse: 0.40079543Epoch: 4 train_mse: 0.4013352Epoch: 4 train_mse: 0.40046117Epoch: 4 train_mse: 0.40030086Epoch: 4 train_mse: 0.40008107Epoch: 4 train_mse: 0.39924705Epoch: 4 train_mse: 0.39785334Epoch: 4 train_mse: 0.39714113Epoch: 4 train_mse: 0.39526826Epoch: 4 train_mse: 0.3958551Epoch: 4 train_mse: 0.39372247Epoch: 4 train_mse: 0.39398795Epoch: 4 train_mse: 0.39222744Epoch: 4 train_mse: 0.39180586Epoch: 4 train_mse: 0.39009565Epoch: 4 train_mse: 0.39035034Epoch: 4 train_mse: 0.38888767Epoch: 4 train_mse: 0.3873626Epoch: 4 train_mse: 0.38751858Epoch: 4 train_mse: 0.3862458Epoch: 4 train_mse: 0.38525814Epoch: 4 train_mse: 0.38507304Epoch: 4 train_mse: 0.38874143Epoch: 4 train_mse: 0.389497Epoch: 4 train_mse: 0.38849628Epoch: 4 train_mse: 0.38978538Epoch: 4 train_mse: 0.38752508Epoch: 4 train_mse: 0.38781217Epoch: 4 train_mse: 0.38863048Epoch: 4 train_mse: 0.38950834Epoch: 4 train_mse: 0.3891048Epoch: 4 train_mse: 0.39016077Epoch: 4 train_mse: 0.3893326Epoch: 4 train_mse: 0.3879778Epoch: 4 train_mse: 0.38785613Epoch: 4 train_mse: 0.38670057Epoch: 4 train_mse: 0.3855801Epoch: 4 train_mse: 0.38680407Epoch: 4 train_mse: 0.38653022Epoch: 4 train_mse: 0.38520378Epoch: 4 train_mse: 0.38532433Epoch: 4 train_mse: 0.3844413Epoch: 4 train_mse: 0.38454673Epoch: 4 train_mse: 0.38373992Epoch: 4 train_mse: 0.38394666Epoch: 4 train_mse: 0.3845905Epoch: 4 train_mse: 0.38293824Epoch: 4 train_mse: 0.38495374Epoch: 4 train_mse: 0.3845941Epoch: 4 train_mse: 0.38391373Epoch: 4 train_mse: 0.38404283Epoch: 4 train_mse: 0.3839952Epoch: 4 train_mse: 0.38276058Epoch: 4 train_mse: 0.38216513Epoch: 4 train_mse: 0.3823033Epoch: 4 train_mse: 0.3805135Epoch: 4 train_mse: 0.38109338Epoch: 4 train_mse: 0.38101304Epoch: 4 train_mse: 0.3814814Epoch: 4 train_mse: 0.38169488Epoch: 4 train_mse: 0.38072816Epoch: 4 train_mse: 0.38054186Epoch: 4 train_mse: 0.38088048Epoch: 4 train_mse: 0.38022956Epoch: 4 train_mse: 0.3793038Epoch: 4 train_mse: 0.3787496Epoch: 4 train_mse: 0.38007364Epoch: 4 train_mse: 0.38033134Epoch: 4 train_mse: 0.37951747Epoch: 4 train_mse: 0.37842378Epoch: 4 train_mse: 0.37859073Epoch: 4 train_mse: 0.37740418Epoch: 4 train_mse: 0.378452Epoch: 4 train_mse: 0.37844777Epoch: 4 train_mse: 0.37862507Epoch: 4 train_mse: 0.37849638Epoch: 4 train_mse: 0.37906304Epoch: 4 train_mse: 0.3826282Epoch: 4 train_mse: 0.38173106Epoch: 4 train_mse: 0.3822034Epoch: 4 train_mse: 0.382534Epoch: 4 train_mse: 0.38511047Epoch: 4 train_mse: 0.38506922Epoch: 4 train_mse: 0.38365287Epoch: 4 train_mse: 0.38328466Epoch: 4 train_mse: 0.3828001Epoch: 4 train_mse: 0.38403922Epoch: 4 train_mse: 0.38408083Epoch: 4 train_mse: 0.3836107Epoch: 4 train_mse: 0.3842287Epoch: 4 train_mse: 0.3835608Epoch: 4 train_mse: 0.38235286Epoch: 4 train_mse: 0.3819091Epoch: 4 train_mse: 0.3812285Epoch: 4 train_mse: 0.38124385Epoch: 4 train_mse: 0.380659Epoch: 4 train_mse: 0.38008517Epoch: 4 train_mse: 0.37935746Epoch: 4 train_mse: 0.38007993Epoch: 4 train_mse: 0.37997192Epoch: 4 train_mse: 0.37976885Epoch: 4 train_mse: 0.37866685Epoch: 4 train_mse: 0.37875685Epoch: 4 train_mse: 0.38024053Epoch: 4 train_mse: 0.37951744Epoch: 4 train_mse: 0.37912205Epoch: 4 train_mse: 0.37842032Epoch: 4 train_mse: 0.37860548Epoch: 4 train_mse: 0.37761423Epoch: 4 train_mse: 0.37693688Epoch: 4 train_mse: 0.37760237Epoch: 4 train_mse: 0.38087007Epoch: 4 train_mse: 0.3806444Epoch: 4 train_mse: 0.38153118Epoch: 4 train_mse: 0.38169226Epoch: 4 train_mse: 0.38220847Epoch: 4 train_mse: 0.38251376Epoch: 4 train_mse: 0.38240856Epoch: 4 train_mse: 0.38240713Epoch: 4 train_mse: 0.38221195Epoch: 4 train_mse: 0.38209406Epoch: 4 train_mse: 0.3809954Epoch: 4 train_mse: 0.38049078Epoch: 4 train_mse: 0.38069084Epoch: 4 train_mse: 0.37999403Epoch: 4 train_mse: 0.37945786Epoch: 4 train_mse: 0.3796005Epoch: 4 train_mse: 0.38160864Epoch: 4 train_mse: 0.38153118Epoch: 4 train_mse: 0.38105944Epoch: 4 train_mse: 0.38077158Epoch: 4 train_mse: 0.3819003Epoch: 4 train_mse: 0.3815506Epoch: 4 train_mse: 0.3808395Epoch: 4 train_mse: 0.38080034Epoch: 4 train_mse: 0.38053152Epoch: 4 train_mse: 0.380138Epoch: 4 train_mse: 0.37962064Epoch: 4 train_mse: 0.3786249Epoch: 4 train_mse: 0.37868255Epoch: 4 train_mse: 0.3784404Epoch: 4 train_mse: 0.378447Epoch: 4 train_mse: 0.37763783Epoch: 4 train_mse: 0.3776435Epoch: 4 train_mse: 0.3785965Epoch: 4 train_mse: 0.37850115Epoch: 4 train_mse: 0.37794662Epoch: 4 train_mse: 0.3792337Epoch: 4 train_mse: 0.37860554Epoch: 4 train_mse: 0.37840882Epoch: 4 train_mse: 0.3785343Epoch: 4 train_mse: 0.3779519Epoch: 4 train_mse: 0.3787394Epoch: 4 train_mse: 0.37959826Epoch: 4 train_mse: 0.37973052Epoch: 4 train_mse: 0.37923056Epoch: 4 train_mse: 0.37936497Epoch: 4 train_mse: 0.3804733Epoch: 4 train_mse: 0.38125706Epoch: 4 train_mse: 0.38099024Epoch: 4 train_mse: 0.38102064Epoch: 4 train_mse: 0.38085252Epoch: 4 train_mse: 0.38035843Epoch: 4 train_mse: 0.37968013Epoch: 4 train_mse: 0.3827659Epoch: 4 train_mse: 0.38277632Epoch: 4 train_mse: 0.38212013Epoch: 4 train_mse: 0.38291487Epoch: 4 train_mse: 0.38259897Epoch: 4 train_mse: 0.38236183Epoch: 4 train_mse: 0.38184074Epoch: 4 train_mse: 0.38196653Epoch: 4 train_mse: 0.38208202"
     ]
    },
    {
     "name": "stdout",
     "output_type": "stream",
     "text": [
      "Epoch: 4 train_mse: 0.38318732Epoch: 4 train_mse: 0.38229987Epoch: 4 train_mse: 0.38213393Epoch: 4 train_mse: 0.38159993Epoch: 4 train_mse: 0.38102117Epoch: 4 train_mse: 0.38089925Epoch: 4 train_mse: 0.38128793Epoch: 4 train_mse: 0.38109344Epoch: 4 train_mse: 0.38159403Epoch: 4 train_mse: 0.3812872Epoch: 4 train_mse: 0.38092327Epoch: 4 train_mse: 0.3810145Epoch: 4 train_mse: 0.38112423Epoch: 4 train_mse: 0.3806731Epoch: 4 train_mse: 0.3802097Epoch: 4 train_mse: 0.38086024Epoch: 4 train_mse: 0.37991846Epoch: 4 train_mse: 0.37905565Epoch: 4 train_mse: 0.37835863Epoch: 4 train_mse: 0.37801504Epoch: 4 train_mse: 0.37745866Epoch: 4 train_mse: 0.37740615Epoch: 4 train_mse: 0.37675992Epoch: 4 train_mse: 0.37673375Epoch: 4 train_mse: 0.37686622Epoch: 4 train_mse: 0.37717146Epoch: 4 train_mse: 0.37675592Epoch: 4 train_mse: 0.37656656Epoch: 4 train_mse: 0.377002Epoch: 4 train_mse: 0.3767297Epoch: 4 train_mse: 0.37713355Epoch: 4 train_mse: 0.37697893Epoch: 4 train_mse: 0.37728488Epoch: 4 train_mse: 0.37723008Epoch: 4 train_mse: 0.37685505Epoch: 4 train_mse: 0.37713915Epoch: 4 train_mse: 0.37756866Epoch: 4 train_mse: 0.3789144Epoch: 4 train_mse: 0.37903422Epoch: 4 train_mse: 0.37906414Epoch: 4 train_mse: 0.37887755Epoch: 4 train_mse: 0.3803496Epoch: 4 train_mse: 0.38032132Epoch: 4 train_mse: 0.38059303Epoch: 4 train_mse: 0.3806379Epoch: 4 train_mse: 0.38088125Epoch: 4 train_mse: 0.38151532Epoch: 4 train_mse: 0.3840509Epoch: 4 train_mse: 0.38355774Epoch: 4 train_mse: 0.38329336Epoch: 4 train_mse: 0.38303Epoch: 4 train_mse: 0.38287616Epoch: 4 train_mse: 0.383409Epoch: 4 train_mse: 0.38416025Epoch: 4 train_mse: 0.38397372Epoch: 4 train_mse: 0.38349673Epoch: 4 train_mse: 0.38373825Epoch: 4 train_mse: 0.3853508Epoch: 4 train_mse: 0.38530165Epoch: 4 train_mse: 0.38543025Epoch: 4 train_mse: 0.38551316Epoch: 4 train_mse: 0.38567865Epoch: 4 train_mse: 0.38624826Epoch: 4 train_mse: 0.38640946Epoch: 4 train_mse: 0.38651666Epoch: 4 train_mse: 0.38616678Epoch: 4 train_mse: 0.3859006Epoch: 4 train_mse: 0.38570228Epoch: 4 train_mse: 0.386131Epoch: 4 train_mse: 0.38538015Epoch: 4 train_mse: 0.3849686Epoch: 4 train_mse: 0.38510877Epoch: 4 train_mse: 0.3845543Epoch: 4 train_mse: 0.38492605Epoch: 4 train_mse: 0.38455364Epoch: 4 train_mse: 0.38440606Epoch: 4 train_mse: 0.38481653Epoch: 4 train_mse: 0.38451844Epoch: 4 train_mse: 0.38532144Epoch: 4 train_mse: 0.38538694Epoch: 4 train_mse: 0.3853949Epoch: 4 train_mse: 0.38551125\t valid mse: 0.37814113\n"
     ]
    },
    {
     "name": "stdout",
     "output_type": "stream",
     "text": [
      "Epoch: 5 train_mse: 0.35445452Epoch: 5 train_mse: 0.38923752Epoch: 5 train_mse: 0.42511758Epoch: 5 train_mse: 0.40187302Epoch: 5 train_mse: 0.39456213Epoch: 5 train_mse: 0.3917134Epoch: 5 train_mse: 0.39613953Epoch: 5 train_mse: 0.38884458Epoch: 5 train_mse: 0.37572306Epoch: 5 train_mse: 0.3669178Epoch: 5 train_mse: 0.35074496Epoch: 5 train_mse: 0.33964825Epoch: 5 train_mse: 0.3301919Epoch: 5 train_mse: 0.34269115Epoch: 5 train_mse: 0.33479896Epoch: 5 train_mse: 0.33042133Epoch: 5 train_mse: 0.32553387Epoch: 5 train_mse: 0.3418053Epoch: 5 train_mse: 0.33879727Epoch: 5 train_mse: 0.34184602Epoch: 5 train_mse: 0.34197757Epoch: 5 train_mse: 0.3517266Epoch: 5 train_mse: 0.3543909Epoch: 5 train_mse: 0.3696907Epoch: 5 train_mse: 0.36851817Epoch: 5 train_mse: 0.37665373Epoch: 5 train_mse: 0.39527667Epoch: 5 train_mse: 0.41069016Epoch: 5 train_mse: 0.4026854Epoch: 5 train_mse: 0.3996288Epoch: 5 train_mse: 0.40892792Epoch: 5 train_mse: 0.41494745Epoch: 5 train_mse: 0.41009355Epoch: 5 train_mse: 0.40712473Epoch: 5 train_mse: 0.40223897Epoch: 5 train_mse: 0.39790618Epoch: 5 train_mse: 0.3934002Epoch: 5 train_mse: 0.3883487Epoch: 5 train_mse: 0.3881387Epoch: 5 train_mse: 0.38883546Epoch: 5 train_mse: 0.38661063Epoch: 5 train_mse: 0.38252553Epoch: 5 train_mse: 0.37784174Epoch: 5 train_mse: 0.37731126Epoch: 5 train_mse: 0.37853664Epoch: 5 train_mse: 0.3752594Epoch: 5 train_mse: 0.38208267Epoch: 5 train_mse: 0.3874356Epoch: 5 train_mse: 0.3826921Epoch: 5 train_mse: 0.38013875Epoch: 5 train_mse: 0.3829183Epoch: 5 train_mse: 0.38480356Epoch: 5 train_mse: 0.38788143Epoch: 5 train_mse: 0.38697392Epoch: 5 train_mse: 0.38566068Epoch: 5 train_mse: 0.38723034Epoch: 5 train_mse: 0.38991368Epoch: 5 train_mse: 0.38809222Epoch: 5 train_mse: 0.3960468Epoch: 5 train_mse: 0.39428356Epoch: 5 train_mse: 0.39264032Epoch: 5 train_mse: 0.39428428Epoch: 5 train_mse: 0.39143765Epoch: 5 train_mse: 0.3909172Epoch: 5 train_mse: 0.38866857Epoch: 5 train_mse: 0.39043474Epoch: 5 train_mse: 0.39007363Epoch: 5 train_mse: 0.3899925Epoch: 5 train_mse: 0.38812464Epoch: 5 train_mse: 0.386247Epoch: 5 train_mse: 0.38451484Epoch: 5 train_mse: 0.38371474Epoch: 5 train_mse: 0.38079587Epoch: 5 train_mse: 0.3807174Epoch: 5 train_mse: 0.37993336Epoch: 5 train_mse: 0.3823325Epoch: 5 train_mse: 0.38146156Epoch: 5 train_mse: 0.37976524Epoch: 5 train_mse: 0.3807795Epoch: 5 train_mse: 0.37868208Epoch: 5 train_mse: 0.37937298Epoch: 5 train_mse: 0.3787082Epoch: 5 train_mse: 0.38019544Epoch: 5 train_mse: 0.37878126Epoch: 5 train_mse: 0.37738967Epoch: 5 train_mse: 0.38219127Epoch: 5 train_mse: 0.37994638Epoch: 5 train_mse: 0.37925273Epoch: 5 train_mse: 0.3784451Epoch: 5 train_mse: 0.37737387Epoch: 5 train_mse: 0.37637857Epoch: 5 train_mse: 0.37434524Epoch: 5 train_mse: 0.37259296Epoch: 5 train_mse: 0.3704055Epoch: 5 train_mse: 0.36992827Epoch: 5 train_mse: 0.36899033Epoch: 5 train_mse: 0.3675116Epoch: 5 train_mse: 0.36612254Epoch: 5 train_mse: 0.3637027Epoch: 5 train_mse: 0.3625073Epoch: 5 train_mse: 0.36077812Epoch: 5 train_mse: 0.3618366Epoch: 5 train_mse: 0.36077195Epoch: 5 train_mse: 0.36358163Epoch: 5 train_mse: 0.36492932Epoch: 5 train_mse: 0.36393818Epoch: 5 train_mse: 0.36281502Epoch: 5 train_mse: 0.3680137Epoch: 5 train_mse: 0.3689444Epoch: 5 train_mse: 0.36750352Epoch: 5 train_mse: 0.36826217Epoch: 5 train_mse: 0.36707446Epoch: 5 train_mse: 0.3660265Epoch: 5 train_mse: 0.3675526Epoch: 5 train_mse: 0.36740035Epoch: 5 train_mse: 0.36720926Epoch: 5 train_mse: 0.36647543Epoch: 5 train_mse: 0.36548123Epoch: 5 train_mse: 0.36469886Epoch: 5 train_mse: 0.3662549Epoch: 5 train_mse: 0.36794904Epoch: 5 train_mse: 0.36892852Epoch: 5 train_mse: 0.36725637Epoch: 5 train_mse: 0.3673498Epoch: 5 train_mse: 0.36623386Epoch: 5 train_mse: 0.3649885Epoch: 5 train_mse: 0.36309335Epoch: 5 train_mse: 0.36181384Epoch: 5 train_mse: 0.36087185Epoch: 5 train_mse: 0.35934085Epoch: 5 train_mse: 0.35778886Epoch: 5 train_mse: 0.35781506Epoch: 5 train_mse: 0.3601256Epoch: 5 train_mse: 0.3605576Epoch: 5 train_mse: 0.36010453Epoch: 5 train_mse: 0.3591702Epoch: 5 train_mse: 0.3609619Epoch: 5 train_mse: 0.3607242Epoch: 5 train_mse: 0.360315Epoch: 5 train_mse: 0.358981Epoch: 5 train_mse: 0.36208624Epoch: 5 train_mse: 0.36155996Epoch: 5 train_mse: 0.36020193Epoch: 5 train_mse: 0.36026093Epoch: 5 train_mse: 0.36240205Epoch: 5 train_mse: 0.36236852Epoch: 5 train_mse: 0.36193526Epoch: 5 train_mse: 0.36198398Epoch: 5 train_mse: 0.36270854Epoch: 5 train_mse: 0.3631107Epoch: 5 train_mse: 0.36590216Epoch: 5 train_mse: 0.36536506Epoch: 5 train_mse: 0.36519685Epoch: 5 train_mse: 0.3647797Epoch: 5 train_mse: 0.36630443Epoch: 5 train_mse: 0.36818662Epoch: 5 train_mse: 0.36859375Epoch: 5 train_mse: 0.36820048Epoch: 5 train_mse: 0.36750036Epoch: 5 train_mse: 0.3683812Epoch: 5 train_mse: 0.36825046Epoch: 5 train_mse: 0.3674855Epoch: 5 train_mse: 0.36915824Epoch: 5 train_mse: 0.36923677Epoch: 5 train_mse: 0.3702202Epoch: 5 train_mse: 0.37001282Epoch: 5 train_mse: 0.3724035Epoch: 5 train_mse: 0.37144575Epoch: 5 train_mse: 0.37124172Epoch: 5 train_mse: 0.37065697Epoch: 5 train_mse: 0.37084025Epoch: 5 train_mse: 0.369829Epoch: 5 train_mse: 0.36938244Epoch: 5 train_mse: 0.36868498Epoch: 5 train_mse: 0.36819422Epoch: 5 train_mse: 0.36741742Epoch: 5 train_mse: 0.36700404Epoch: 5 train_mse: 0.36652225Epoch: 5 train_mse: 0.36795443Epoch: 5 train_mse: 0.36913192Epoch: 5 train_mse: 0.37034675Epoch: 5 train_mse: 0.36980146Epoch: 5 train_mse: 0.3723441Epoch: 5 train_mse: 0.37146607Epoch: 5 train_mse: 0.37078956Epoch: 5 train_mse: 0.3699141Epoch: 5 train_mse: 0.36997867Epoch: 5 train_mse: 0.3694445Epoch: 5 train_mse: 0.3684656Epoch: 5 train_mse: 0.36753437Epoch: 5 train_mse: 0.36795357Epoch: 5 train_mse: 0.3695986Epoch: 5 train_mse: 0.36865526Epoch: 5 train_mse: 0.36995602Epoch: 5 train_mse: 0.3697121Epoch: 5 train_mse: 0.37105513Epoch: 5 train_mse: 0.37200174Epoch: 5 train_mse: 0.37115335Epoch: 5 train_mse: 0.3710203Epoch: 5 train_mse: 0.37034047Epoch: 5 train_mse: 0.36990595Epoch: 5 train_mse: 0.37076542Epoch: 5 train_mse: 0.3700426Epoch: 5 train_mse: 0.37004015Epoch: 5 train_mse: 0.37066385Epoch: 5 train_mse: 0.37157583Epoch: 5 train_mse: 0.37084776Epoch: 5 train_mse: 0.37065426Epoch: 5 train_mse: 0.36957303Epoch: 5 train_mse: 0.36912882Epoch: 5 train_mse: 0.36844885Epoch: 5 train_mse: 0.3674405Epoch: 5 train_mse: 0.36989716Epoch: 5 train_mse: 0.36901912Epoch: 5 train_mse: 0.3691503Epoch: 5 train_mse: 0.36858565Epoch: 5 train_mse: 0.3681625Epoch: 5 train_mse: 0.36739552Epoch: 5 train_mse: 0.36733267Epoch: 5 train_mse: 0.36649045Epoch: 5 train_mse: 0.37159863Epoch: 5 train_mse: 0.37279737Epoch: 5 train_mse: 0.37206814Epoch: 5 train_mse: 0.3722082Epoch: 5 train_mse: 0.37215793Epoch: 5 train_mse: 0.37211263Epoch: 5 train_mse: 0.37284988Epoch: 5 train_mse: 0.3724256Epoch: 5 train_mse: 0.37146738Epoch: 5 train_mse: 0.3736487Epoch: 5 train_mse: 0.37321174Epoch: 5 train_mse: 0.3732903Epoch: 5 train_mse: 0.37398136Epoch: 5 train_mse: 0.373529Epoch: 5 train_mse: 0.37414506Epoch: 5 train_mse: 0.3757505Epoch: 5 train_mse: 0.3754804Epoch: 5 train_mse: 0.37502295Epoch: 5 train_mse: 0.37441462Epoch: 5 train_mse: 0.3741168Epoch: 5 train_mse: 0.3751312Epoch: 5 train_mse: 0.37476432Epoch: 5 train_mse: 0.3741068Epoch: 5 train_mse: 0.37366754Epoch: 5 train_mse: 0.37362272Epoch: 5 train_mse: 0.37320313Epoch: 5 train_mse: 0.37294418Epoch: 5 train_mse: 0.3723994Epoch: 5 train_mse: 0.3722092Epoch: 5 train_mse: 0.37214863Epoch: 5 train_mse: 0.37277377Epoch: 5 train_mse: 0.37553817Epoch: 5 train_mse: 0.37509564Epoch: 5 train_mse: 0.37509102Epoch: 5 train_mse: 0.37443158Epoch: 5 train_mse: 0.37379575Epoch: 5 train_mse: 0.37354288Epoch: 5 train_mse: 0.37364033Epoch: 5 train_mse: 0.37346014Epoch: 5 train_mse: 0.37316084Epoch: 5 train_mse: 0.37220287Epoch: 5 train_mse: 0.37188658Epoch: 5 train_mse: 0.37180576Epoch: 5 train_mse: 0.3717074Epoch: 5 train_mse: 0.3713487Epoch: 5 train_mse: 0.37168866Epoch: 5 train_mse: 0.37099048Epoch: 5 train_mse: 0.37172952Epoch: 5 train_mse: 0.37159368Epoch: 5 train_mse: 0.37151212Epoch: 5 train_mse: 0.37101156Epoch: 5 train_mse: 0.37014446Epoch: 5 train_mse: 0.37125623Epoch: 5 train_mse: 0.37111303Epoch: 5 train_mse: 0.37055647Epoch: 5 train_mse: 0.37046856Epoch: 5 train_mse: 0.36998588Epoch: 5 train_mse: 0.37066436Epoch: 5 train_mse: 0.37003434Epoch: 5 train_mse: 0.3707311"
     ]
    },
    {
     "name": "stdout",
     "output_type": "stream",
     "text": [
      "Epoch: 5 train_mse: 0.3703804Epoch: 5 train_mse: 0.37086943Epoch: 5 train_mse: 0.37099302Epoch: 5 train_mse: 0.37072524Epoch: 5 train_mse: 0.37135705Epoch: 5 train_mse: 0.37169546Epoch: 5 train_mse: 0.37145892Epoch: 5 train_mse: 0.3708545Epoch: 5 train_mse: 0.37106574Epoch: 5 train_mse: 0.37016267Epoch: 5 train_mse: 0.36962143Epoch: 5 train_mse: 0.37085566Epoch: 5 train_mse: 0.37021527Epoch: 5 train_mse: 0.36999074Epoch: 5 train_mse: 0.37035894Epoch: 5 train_mse: 0.37030786Epoch: 5 train_mse: 0.3703232Epoch: 5 train_mse: 0.37068924Epoch: 5 train_mse: 0.37042165Epoch: 5 train_mse: 0.37028435Epoch: 5 train_mse: 0.3699666Epoch: 5 train_mse: 0.3698703Epoch: 5 train_mse: 0.36993688Epoch: 5 train_mse: 0.37050542Epoch: 5 train_mse: 0.3708215Epoch: 5 train_mse: 0.3716279Epoch: 5 train_mse: 0.37080705Epoch: 5 train_mse: 0.37095055Epoch: 5 train_mse: 0.3705165Epoch: 5 train_mse: 0.36983484Epoch: 5 train_mse: 0.37000996Epoch: 5 train_mse: 0.3697339Epoch: 5 train_mse: 0.36996952Epoch: 5 train_mse: 0.37015152Epoch: 5 train_mse: 0.36999184Epoch: 5 train_mse: 0.37037054Epoch: 5 train_mse: 0.36976564Epoch: 5 train_mse: 0.37057674Epoch: 5 train_mse: 0.37051708Epoch: 5 train_mse: 0.37016952Epoch: 5 train_mse: 0.37113678Epoch: 5 train_mse: 0.37129983Epoch: 5 train_mse: 0.37153155Epoch: 5 train_mse: 0.37200186Epoch: 5 train_mse: 0.37246707Epoch: 5 train_mse: 0.37216878Epoch: 5 train_mse: 0.37194526Epoch: 5 train_mse: 0.3717033Epoch: 5 train_mse: 0.3725151Epoch: 5 train_mse: 0.3722884Epoch: 5 train_mse: 0.37183687Epoch: 5 train_mse: 0.37162754Epoch: 5 train_mse: 0.37132418Epoch: 5 train_mse: 0.37206912Epoch: 5 train_mse: 0.3718339Epoch: 5 train_mse: 0.37192398Epoch: 5 train_mse: 0.3715282Epoch: 5 train_mse: 0.37138307Epoch: 5 train_mse: 0.3710097Epoch: 5 train_mse: 0.37096265Epoch: 5 train_mse: 0.37084112Epoch: 5 train_mse: 0.37043208Epoch: 5 train_mse: 0.3699164Epoch: 5 train_mse: 0.3696618Epoch: 5 train_mse: 0.36912665Epoch: 5 train_mse: 0.36922553Epoch: 5 train_mse: 0.36929485Epoch: 5 train_mse: 0.36895606Epoch: 5 train_mse: 0.3691924Epoch: 5 train_mse: 0.37007564Epoch: 5 train_mse: 0.3702292Epoch: 5 train_mse: 0.36972094Epoch: 5 train_mse: 0.36996335Epoch: 5 train_mse: 0.36971506Epoch: 5 train_mse: 0.36971667Epoch: 5 train_mse: 0.37005985Epoch: 5 train_mse: 0.36980048Epoch: 5 train_mse: 0.36975962Epoch: 5 train_mse: 0.36972404Epoch: 5 train_mse: 0.3690335Epoch: 5 train_mse: 0.36870176Epoch: 5 train_mse: 0.36825857\t valid mse: 0.37187666\n"
     ]
    },
    {
     "name": "stdout",
     "output_type": "stream",
     "text": [
      "Epoch: 6 train_mse: 0.80485076Epoch: 6 train_mse: 0.57822144Epoch: 6 train_mse: 0.45356396Epoch: 6 train_mse: 0.44100574Epoch: 6 train_mse: 0.4590555Epoch: 6 train_mse: 0.45665157Epoch: 6 train_mse: 0.43166703Epoch: 6 train_mse: 0.39305878Epoch: 6 train_mse: 0.39336848Epoch: 6 train_mse: 0.38415796Epoch: 6 train_mse: 0.3829994Epoch: 6 train_mse: 0.37651077Epoch: 6 train_mse: 0.3795071Epoch: 6 train_mse: 0.3642509Epoch: 6 train_mse: 0.3599044Epoch: 6 train_mse: 0.34904972Epoch: 6 train_mse: 0.3613115Epoch: 6 train_mse: 0.3628958Epoch: 6 train_mse: 0.3635935Epoch: 6 train_mse: 0.35330838Epoch: 6 train_mse: 0.35614496Epoch: 6 train_mse: 0.35447186Epoch: 6 train_mse: 0.35438293Epoch: 6 train_mse: 0.3548764Epoch: 6 train_mse: 0.34845066Epoch: 6 train_mse: 0.3461496Epoch: 6 train_mse: 0.3471288Epoch: 6 train_mse: 0.34733963Epoch: 6 train_mse: 0.34600163Epoch: 6 train_mse: 0.35035115Epoch: 6 train_mse: 0.35331124Epoch: 6 train_mse: 0.34803134Epoch: 6 train_mse: 0.34677118Epoch: 6 train_mse: 0.35029992Epoch: 6 train_mse: 0.3486355Epoch: 6 train_mse: 0.34768716Epoch: 6 train_mse: 0.3564248Epoch: 6 train_mse: 0.36101732Epoch: 6 train_mse: 0.36233637Epoch: 6 train_mse: 0.36612847Epoch: 6 train_mse: 0.37069252Epoch: 6 train_mse: 0.3691553Epoch: 6 train_mse: 0.3647632Epoch: 6 train_mse: 0.366173Epoch: 6 train_mse: 0.3726906Epoch: 6 train_mse: 0.37364432Epoch: 6 train_mse: 0.37180308Epoch: 6 train_mse: 0.38372493Epoch: 6 train_mse: 0.38110805Epoch: 6 train_mse: 0.37926242Epoch: 6 train_mse: 0.3778349Epoch: 6 train_mse: 0.37670866Epoch: 6 train_mse: 0.37481833Epoch: 6 train_mse: 0.37142155Epoch: 6 train_mse: 0.37250188Epoch: 6 train_mse: 0.37209275Epoch: 6 train_mse: 0.3715528Epoch: 6 train_mse: 0.3689562Epoch: 6 train_mse: 0.36635223Epoch: 6 train_mse: 0.36316967Epoch: 6 train_mse: 0.36067173Epoch: 6 train_mse: 0.36451522Epoch: 6 train_mse: 0.36201882Epoch: 6 train_mse: 0.35955635Epoch: 6 train_mse: 0.3599964Epoch: 6 train_mse: 0.35832852Epoch: 6 train_mse: 0.35728917Epoch: 6 train_mse: 0.35853532Epoch: 6 train_mse: 0.35706872Epoch: 6 train_mse: 0.35741442Epoch: 6 train_mse: 0.357283Epoch: 6 train_mse: 0.35781175Epoch: 6 train_mse: 0.35623902Epoch: 6 train_mse: 0.35589606Epoch: 6 train_mse: 0.3533652Epoch: 6 train_mse: 0.3503941Epoch: 6 train_mse: 0.3496931Epoch: 6 train_mse: 0.35405073Epoch: 6 train_mse: 0.35120842Epoch: 6 train_mse: 0.34923252Epoch: 6 train_mse: 0.35031286Epoch: 6 train_mse: 0.35389203Epoch: 6 train_mse: 0.35249496Epoch: 6 train_mse: 0.35312653Epoch: 6 train_mse: 0.35137025Epoch: 6 train_mse: 0.35394427Epoch: 6 train_mse: 0.35209227Epoch: 6 train_mse: 0.3506694Epoch: 6 train_mse: 0.3526263Epoch: 6 train_mse: 0.35202757Epoch: 6 train_mse: 0.35102308Epoch: 6 train_mse: 0.35062057Epoch: 6 train_mse: 0.35347125Epoch: 6 train_mse: 0.35375273Epoch: 6 train_mse: 0.354877Epoch: 6 train_mse: 0.35300478Epoch: 6 train_mse: 0.35310182Epoch: 6 train_mse: 0.351768Epoch: 6 train_mse: 0.35124367Epoch: 6 train_mse: 0.35194585Epoch: 6 train_mse: 0.35228136Epoch: 6 train_mse: 0.3525665Epoch: 6 train_mse: 0.35132262Epoch: 6 train_mse: 0.35057133Epoch: 6 train_mse: 0.35114524Epoch: 6 train_mse: 0.34997404Epoch: 6 train_mse: 0.3498096Epoch: 6 train_mse: 0.3489509Epoch: 6 train_mse: 0.34892058Epoch: 6 train_mse: 0.34786713Epoch: 6 train_mse: 0.34969065Epoch: 6 train_mse: 0.34791872Epoch: 6 train_mse: 0.34760284Epoch: 6 train_mse: 0.34664154Epoch: 6 train_mse: 0.34759453Epoch: 6 train_mse: 0.34639654Epoch: 6 train_mse: 0.3466392Epoch: 6 train_mse: 0.34782752Epoch: 6 train_mse: 0.34783047Epoch: 6 train_mse: 0.35192105Epoch: 6 train_mse: 0.35034594Epoch: 6 train_mse: 0.34926322Epoch: 6 train_mse: 0.35065404Epoch: 6 train_mse: 0.35013974Epoch: 6 train_mse: 0.35059112Epoch: 6 train_mse: 0.34897423Epoch: 6 train_mse: 0.35053903Epoch: 6 train_mse: 0.3502944Epoch: 6 train_mse: 0.34974056Epoch: 6 train_mse: 0.3497284Epoch: 6 train_mse: 0.34879297Epoch: 6 train_mse: 0.3491465Epoch: 6 train_mse: 0.34773475Epoch: 6 train_mse: 0.34779903Epoch: 6 train_mse: 0.34698477Epoch: 6 train_mse: 0.34618655Epoch: 6 train_mse: 0.34663647Epoch: 6 train_mse: 0.3469701Epoch: 6 train_mse: 0.34657547Epoch: 6 train_mse: 0.34655693Epoch: 6 train_mse: 0.34507352Epoch: 6 train_mse: 0.34478197Epoch: 6 train_mse: 0.3443002Epoch: 6 train_mse: 0.34419617Epoch: 6 train_mse: 0.34325466Epoch: 6 train_mse: 0.34322283Epoch: 6 train_mse: 0.34295923Epoch: 6 train_mse: 0.34221667Epoch: 6 train_mse: 0.34083915Epoch: 6 train_mse: 0.34144917Epoch: 6 train_mse: 0.34408414Epoch: 6 train_mse: 0.3450447Epoch: 6 train_mse: 0.34588572Epoch: 6 train_mse: 0.34688953Epoch: 6 train_mse: 0.34708384Epoch: 6 train_mse: 0.34997496Epoch: 6 train_mse: 0.34959814Epoch: 6 train_mse: 0.34972075Epoch: 6 train_mse: 0.3517614Epoch: 6 train_mse: 0.35127702Epoch: 6 train_mse: 0.35041928Epoch: 6 train_mse: 0.34949937Epoch: 6 train_mse: 0.34893313Epoch: 6 train_mse: 0.3504134Epoch: 6 train_mse: 0.34936595Epoch: 6 train_mse: 0.35009262Epoch: 6 train_mse: 0.35062703Epoch: 6 train_mse: 0.34950712Epoch: 6 train_mse: 0.34878966Epoch: 6 train_mse: 0.34754375Epoch: 6 train_mse: 0.3473029Epoch: 6 train_mse: 0.34823716Epoch: 6 train_mse: 0.34816474Epoch: 6 train_mse: 0.34935543Epoch: 6 train_mse: 0.34832475Epoch: 6 train_mse: 0.34825253Epoch: 6 train_mse: 0.3482974Epoch: 6 train_mse: 0.34853762Epoch: 6 train_mse: 0.34824687Epoch: 6 train_mse: 0.3479356Epoch: 6 train_mse: 0.34767932Epoch: 6 train_mse: 0.34769797Epoch: 6 train_mse: 0.34686595Epoch: 6 train_mse: 0.34554744Epoch: 6 train_mse: 0.34444538Epoch: 6 train_mse: 0.34411874Epoch: 6 train_mse: 0.3446683Epoch: 6 train_mse: 0.3444923Epoch: 6 train_mse: 0.34453833Epoch: 6 train_mse: 0.34684202Epoch: 6 train_mse: 0.34617528Epoch: 6 train_mse: 0.3458719Epoch: 6 train_mse: 0.34517246Epoch: 6 train_mse: 0.34451908Epoch: 6 train_mse: 0.34475017Epoch: 6 train_mse: 0.34500018Epoch: 6 train_mse: 0.34485924Epoch: 6 train_mse: 0.3455995Epoch: 6 train_mse: 0.34460327Epoch: 6 train_mse: 0.34523964Epoch: 6 train_mse: 0.34579512Epoch: 6 train_mse: 0.3460852Epoch: 6 train_mse: 0.34733096Epoch: 6 train_mse: 0.34700164Epoch: 6 train_mse: 0.34696785Epoch: 6 train_mse: 0.34706646Epoch: 6 train_mse: 0.346595Epoch: 6 train_mse: 0.3465937Epoch: 6 train_mse: 0.34560132Epoch: 6 train_mse: 0.34530357Epoch: 6 train_mse: 0.34611717Epoch: 6 train_mse: 0.34561214Epoch: 6 train_mse: 0.34570554Epoch: 6 train_mse: 0.34613624Epoch: 6 train_mse: 0.34635344Epoch: 6 train_mse: 0.34539908Epoch: 6 train_mse: 0.34741795Epoch: 6 train_mse: 0.3472621Epoch: 6 train_mse: 0.34755278Epoch: 6 train_mse: 0.34702104Epoch: 6 train_mse: 0.34646624Epoch: 6 train_mse: 0.34589633Epoch: 6 train_mse: 0.34695312Epoch: 6 train_mse: 0.34677008Epoch: 6 train_mse: 0.34683502Epoch: 6 train_mse: 0.34614325Epoch: 6 train_mse: 0.34674463Epoch: 6 train_mse: 0.3463841Epoch: 6 train_mse: 0.34641436Epoch: 6 train_mse: 0.34687513Epoch: 6 train_mse: 0.34674802Epoch: 6 train_mse: 0.34602597Epoch: 6 train_mse: 0.34610447Epoch: 6 train_mse: 0.3456968Epoch: 6 train_mse: 0.34505576Epoch: 6 train_mse: 0.3443329Epoch: 6 train_mse: 0.3444125Epoch: 6 train_mse: 0.34429336Epoch: 6 train_mse: 0.34365332Epoch: 6 train_mse: 0.3438302Epoch: 6 train_mse: 0.34343675Epoch: 6 train_mse: 0.34482923Epoch: 6 train_mse: 0.3445982Epoch: 6 train_mse: 0.34440717Epoch: 6 train_mse: 0.3438169Epoch: 6 train_mse: 0.34320706Epoch: 6 train_mse: 0.3441863Epoch: 6 train_mse: 0.34330964Epoch: 6 train_mse: 0.34322104Epoch: 6 train_mse: 0.34286368Epoch: 6 train_mse: 0.34256873Epoch: 6 train_mse: 0.34280312Epoch: 6 train_mse: 0.3427083Epoch: 6 train_mse: 0.34246033Epoch: 6 train_mse: 0.34304687Epoch: 6 train_mse: 0.34286797Epoch: 6 train_mse: 0.34249067Epoch: 6 train_mse: 0.34337756Epoch: 6 train_mse: 0.3425352Epoch: 6 train_mse: 0.34292004Epoch: 6 train_mse: 0.34211627Epoch: 6 train_mse: 0.34260598Epoch: 6 train_mse: 0.34269965Epoch: 6 train_mse: 0.34249228Epoch: 6 train_mse: 0.34255156Epoch: 6 train_mse: 0.34222332Epoch: 6 train_mse: 0.34167218Epoch: 6 train_mse: 0.34114042Epoch: 6 train_mse: 0.34090745Epoch: 6 train_mse: 0.34021583Epoch: 6 train_mse: 0.33955738Epoch: 6 train_mse: 0.34003484Epoch: 6 train_mse: 0.33972538Epoch: 6 train_mse: 0.33939672Epoch: 6 train_mse: 0.34003124Epoch: 6 train_mse: 0.3396752Epoch: 6 train_mse: 0.3402337"
     ]
    },
    {
     "name": "stdout",
     "output_type": "stream",
     "text": [
      "Epoch: 6 train_mse: 0.34011036Epoch: 6 train_mse: 0.3393223Epoch: 6 train_mse: 0.34016445Epoch: 6 train_mse: 0.33967778Epoch: 6 train_mse: 0.33950022Epoch: 6 train_mse: 0.33898422Epoch: 6 train_mse: 0.33922198Epoch: 6 train_mse: 0.33901298Epoch: 6 train_mse: 0.3390003Epoch: 6 train_mse: 0.33929235Epoch: 6 train_mse: 0.3387383Epoch: 6 train_mse: 0.33826816Epoch: 6 train_mse: 0.33790174Epoch: 6 train_mse: 0.33755648Epoch: 6 train_mse: 0.3379335Epoch: 6 train_mse: 0.33980826Epoch: 6 train_mse: 0.33985636Epoch: 6 train_mse: 0.33976525Epoch: 6 train_mse: 0.34039187Epoch: 6 train_mse: 0.33973727Epoch: 6 train_mse: 0.34093598Epoch: 6 train_mse: 0.34079787Epoch: 6 train_mse: 0.34126Epoch: 6 train_mse: 0.34156355Epoch: 6 train_mse: 0.34164754Epoch: 6 train_mse: 0.34189087Epoch: 6 train_mse: 0.34217426Epoch: 6 train_mse: 0.3422023Epoch: 6 train_mse: 0.34369376Epoch: 6 train_mse: 0.34350264Epoch: 6 train_mse: 0.34351406Epoch: 6 train_mse: 0.34358168Epoch: 6 train_mse: 0.3433649Epoch: 6 train_mse: 0.34408978Epoch: 6 train_mse: 0.3436148Epoch: 6 train_mse: 0.34317705Epoch: 6 train_mse: 0.34311554Epoch: 6 train_mse: 0.3431389Epoch: 6 train_mse: 0.3434292Epoch: 6 train_mse: 0.3430629Epoch: 6 train_mse: 0.34263566Epoch: 6 train_mse: 0.34263724Epoch: 6 train_mse: 0.342548Epoch: 6 train_mse: 0.34294075Epoch: 6 train_mse: 0.34299833Epoch: 6 train_mse: 0.3431946Epoch: 6 train_mse: 0.3429327Epoch: 6 train_mse: 0.3429407Epoch: 6 train_mse: 0.342604Epoch: 6 train_mse: 0.343192Epoch: 6 train_mse: 0.34310943Epoch: 6 train_mse: 0.34320378Epoch: 6 train_mse: 0.34396285Epoch: 6 train_mse: 0.34368947Epoch: 6 train_mse: 0.34359878Epoch: 6 train_mse: 0.34405363Epoch: 6 train_mse: 0.3440471Epoch: 6 train_mse: 0.3440804Epoch: 6 train_mse: 0.34369436Epoch: 6 train_mse: 0.34349743Epoch: 6 train_mse: 0.3431545Epoch: 6 train_mse: 0.3432421Epoch: 6 train_mse: 0.3435695Epoch: 6 train_mse: 0.34313053Epoch: 6 train_mse: 0.34300983Epoch: 6 train_mse: 0.343023Epoch: 6 train_mse: 0.34362063Epoch: 6 train_mse: 0.34386253Epoch: 6 train_mse: 0.34390953Epoch: 6 train_mse: 0.34424618Epoch: 6 train_mse: 0.34397307Epoch: 6 train_mse: 0.3436373Epoch: 6 train_mse: 0.34297654Epoch: 6 train_mse: 0.34335372Epoch: 6 train_mse: 0.34441656Epoch: 6 train_mse: 0.3440799Epoch: 6 train_mse: 0.34377643Epoch: 6 train_mse: 0.34349632Epoch: 6 train_mse: 0.3429301Epoch: 6 train_mse: 0.34331298Epoch: 6 train_mse: 0.3431149Epoch: 6 train_mse: 0.34339476Epoch: 6 train_mse: 0.343057Epoch: 6 train_mse: 0.34319428Epoch: 6 train_mse: 0.34290683\t valid mse: 0.37447518\n"
     ]
    },
    {
     "name": "stdout",
     "output_type": "stream",
     "text": [
      "Epoch: 7 train_mse: 0.21150532Epoch: 7 train_mse: 0.26454884Epoch: 7 train_mse: 0.3361325Epoch: 7 train_mse: 0.34397072Epoch: 7 train_mse: 0.30318484Epoch: 7 train_mse: 0.27603185Epoch: 7 train_mse: 0.3749865Epoch: 7 train_mse: 0.3868769Epoch: 7 train_mse: 0.38194826Epoch: 7 train_mse: 0.36172992Epoch: 7 train_mse: 0.3522663Epoch: 7 train_mse: 0.35257876Epoch: 7 train_mse: 0.34689906Epoch: 7 train_mse: 0.36146164Epoch: 7 train_mse: 0.3657826Epoch: 7 train_mse: 0.35543528Epoch: 7 train_mse: 0.3592955Epoch: 7 train_mse: 0.35665002Epoch: 7 train_mse: 0.35174733Epoch: 7 train_mse: 0.3596014Epoch: 7 train_mse: 0.35463902Epoch: 7 train_mse: 0.3545543Epoch: 7 train_mse: 0.3622255Epoch: 7 train_mse: 0.36323854Epoch: 7 train_mse: 0.3584701Epoch: 7 train_mse: 0.3725786Epoch: 7 train_mse: 0.37685722Epoch: 7 train_mse: 0.37682512Epoch: 7 train_mse: 0.36887172Epoch: 7 train_mse: 0.37683943Epoch: 7 train_mse: 0.37574026Epoch: 7 train_mse: 0.37112445Epoch: 7 train_mse: 0.3660032Epoch: 7 train_mse: 0.3600794Epoch: 7 train_mse: 0.3638637Epoch: 7 train_mse: 0.36257875Epoch: 7 train_mse: 0.3590582Epoch: 7 train_mse: 0.36085638Epoch: 7 train_mse: 0.35590675Epoch: 7 train_mse: 0.35247916Epoch: 7 train_mse: 0.34837177Epoch: 7 train_mse: 0.34929192Epoch: 7 train_mse: 0.3471492Epoch: 7 train_mse: 0.35145128Epoch: 7 train_mse: 0.352745Epoch: 7 train_mse: 0.35044193Epoch: 7 train_mse: 0.3550884Epoch: 7 train_mse: 0.35654274Epoch: 7 train_mse: 0.3559363Epoch: 7 train_mse: 0.36362633Epoch: 7 train_mse: 0.36514753Epoch: 7 train_mse: 0.36455747Epoch: 7 train_mse: 0.36790603Epoch: 7 train_mse: 0.36604446Epoch: 7 train_mse: 0.36435276Epoch: 7 train_mse: 0.36464074Epoch: 7 train_mse: 0.36666152Epoch: 7 train_mse: 0.36675397Epoch: 7 train_mse: 0.37293392Epoch: 7 train_mse: 0.37087712Epoch: 7 train_mse: 0.37074772Epoch: 7 train_mse: 0.36963806Epoch: 7 train_mse: 0.36948666Epoch: 7 train_mse: 0.3708297Epoch: 7 train_mse: 0.36942893Epoch: 7 train_mse: 0.36797476Epoch: 7 train_mse: 0.36833432Epoch: 7 train_mse: 0.3713425Epoch: 7 train_mse: 0.37246206Epoch: 7 train_mse: 0.37097058Epoch: 7 train_mse: 0.37057033Epoch: 7 train_mse: 0.37003416Epoch: 7 train_mse: 0.37053403Epoch: 7 train_mse: 0.36896235Epoch: 7 train_mse: 0.36889598Epoch: 7 train_mse: 0.3762613Epoch: 7 train_mse: 0.37464157Epoch: 7 train_mse: 0.3740846Epoch: 7 train_mse: 0.37208754Epoch: 7 train_mse: 0.3704962Epoch: 7 train_mse: 0.36731663Epoch: 7 train_mse: 0.37592745Epoch: 7 train_mse: 0.37493965Epoch: 7 train_mse: 0.377004Epoch: 7 train_mse: 0.37495226Epoch: 7 train_mse: 0.37435415Epoch: 7 train_mse: 0.37233418Epoch: 7 train_mse: 0.37286904Epoch: 7 train_mse: 0.37056515Epoch: 7 train_mse: 0.37039825Epoch: 7 train_mse: 0.37105656Epoch: 7 train_mse: 0.37167034Epoch: 7 train_mse: 0.37022018Epoch: 7 train_mse: 0.3710153Epoch: 7 train_mse: 0.37031138Epoch: 7 train_mse: 0.3745426Epoch: 7 train_mse: 0.3781071Epoch: 7 train_mse: 0.38041446Epoch: 7 train_mse: 0.38041222Epoch: 7 train_mse: 0.37931606Epoch: 7 train_mse: 0.37927955Epoch: 7 train_mse: 0.38138318Epoch: 7 train_mse: 0.3804373Epoch: 7 train_mse: 0.37972352Epoch: 7 train_mse: 0.37842184Epoch: 7 train_mse: 0.38074353Epoch: 7 train_mse: 0.3898524Epoch: 7 train_mse: 0.38978228Epoch: 7 train_mse: 0.38940096Epoch: 7 train_mse: 0.39044297Epoch: 7 train_mse: 0.38863796Epoch: 7 train_mse: 0.3876047Epoch: 7 train_mse: 0.38554662Epoch: 7 train_mse: 0.38470304Epoch: 7 train_mse: 0.38401622Epoch: 7 train_mse: 0.38319588Epoch: 7 train_mse: 0.38305837Epoch: 7 train_mse: 0.38394323Epoch: 7 train_mse: 0.38649446Epoch: 7 train_mse: 0.38592294Epoch: 7 train_mse: 0.3853842Epoch: 7 train_mse: 0.38514346Epoch: 7 train_mse: 0.38441703Epoch: 7 train_mse: 0.38380426Epoch: 7 train_mse: 0.38346842Epoch: 7 train_mse: 0.3848699Epoch: 7 train_mse: 0.3854678Epoch: 7 train_mse: 0.3839294Epoch: 7 train_mse: 0.38443923Epoch: 7 train_mse: 0.38814208Epoch: 7 train_mse: 0.3862767Epoch: 7 train_mse: 0.38681394Epoch: 7 train_mse: 0.38517803Epoch: 7 train_mse: 0.3856117Epoch: 7 train_mse: 0.3847299Epoch: 7 train_mse: 0.384989Epoch: 7 train_mse: 0.38440686Epoch: 7 train_mse: 0.38396037Epoch: 7 train_mse: 0.3840294Epoch: 7 train_mse: 0.38306478Epoch: 7 train_mse: 0.38138705Epoch: 7 train_mse: 0.38131848Epoch: 7 train_mse: 0.37966564Epoch: 7 train_mse: 0.3798923Epoch: 7 train_mse: 0.38125348Epoch: 7 train_mse: 0.38197517Epoch: 7 train_mse: 0.38178545Epoch: 7 train_mse: 0.3805433Epoch: 7 train_mse: 0.3800588Epoch: 7 train_mse: 0.37974435Epoch: 7 train_mse: 0.37975958Epoch: 7 train_mse: 0.3781909Epoch: 7 train_mse: 0.37812096Epoch: 7 train_mse: 0.38008365Epoch: 7 train_mse: 0.38024595Epoch: 7 train_mse: 0.37898186Epoch: 7 train_mse: 0.3782488Epoch: 7 train_mse: 0.3796076Epoch: 7 train_mse: 0.37971142Epoch: 7 train_mse: 0.37942514Epoch: 7 train_mse: 0.37826997Epoch: 7 train_mse: 0.37789983Epoch: 7 train_mse: 0.3771044Epoch: 7 train_mse: 0.37879443Epoch: 7 train_mse: 0.3777484Epoch: 7 train_mse: 0.3791441Epoch: 7 train_mse: 0.37903923Epoch: 7 train_mse: 0.38123634Epoch: 7 train_mse: 0.3814884Epoch: 7 train_mse: 0.3834018Epoch: 7 train_mse: 0.38237646Epoch: 7 train_mse: 0.3825514Epoch: 7 train_mse: 0.3826362Epoch: 7 train_mse: 0.3831624Epoch: 7 train_mse: 0.38171732Epoch: 7 train_mse: 0.38263944Epoch: 7 train_mse: 0.38264406Epoch: 7 train_mse: 0.3821866Epoch: 7 train_mse: 0.38098174Epoch: 7 train_mse: 0.37969518Epoch: 7 train_mse: 0.3802478Epoch: 7 train_mse: 0.37999025Epoch: 7 train_mse: 0.37845945Epoch: 7 train_mse: 0.37789974Epoch: 7 train_mse: 0.37736052Epoch: 7 train_mse: 0.3770495Epoch: 7 train_mse: 0.37647027Epoch: 7 train_mse: 0.37977433Epoch: 7 train_mse: 0.37918684Epoch: 7 train_mse: 0.37794912Epoch: 7 train_mse: 0.3786593Epoch: 7 train_mse: 0.3789328Epoch: 7 train_mse: 0.37978196Epoch: 7 train_mse: 0.37996858Epoch: 7 train_mse: 0.37938407Epoch: 7 train_mse: 0.37836152Epoch: 7 train_mse: 0.37733212Epoch: 7 train_mse: 0.37633187Epoch: 7 train_mse: 0.37545297Epoch: 7 train_mse: 0.37506208Epoch: 7 train_mse: 0.37484688Epoch: 7 train_mse: 0.37500992Epoch: 7 train_mse: 0.37455264Epoch: 7 train_mse: 0.37475964Epoch: 7 train_mse: 0.3741329Epoch: 7 train_mse: 0.37396106Epoch: 7 train_mse: 0.37436086Epoch: 7 train_mse: 0.3740509Epoch: 7 train_mse: 0.37358284Epoch: 7 train_mse: 0.37385753Epoch: 7 train_mse: 0.37379104Epoch: 7 train_mse: 0.37348866Epoch: 7 train_mse: 0.37277487Epoch: 7 train_mse: 0.3723619Epoch: 7 train_mse: 0.37167373Epoch: 7 train_mse: 0.37296313Epoch: 7 train_mse: 0.37208962Epoch: 7 train_mse: 0.37175274Epoch: 7 train_mse: 0.3716716Epoch: 7 train_mse: 0.37179676Epoch: 7 train_mse: 0.3709631Epoch: 7 train_mse: 0.37037823Epoch: 7 train_mse: 0.3702654Epoch: 7 train_mse: 0.36978224Epoch: 7 train_mse: 0.36887553Epoch: 7 train_mse: 0.37017477Epoch: 7 train_mse: 0.36962476Epoch: 7 train_mse: 0.3699877Epoch: 7 train_mse: 0.36891502Epoch: 7 train_mse: 0.3688909Epoch: 7 train_mse: 0.36894736Epoch: 7 train_mse: 0.3684668Epoch: 7 train_mse: 0.36922392Epoch: 7 train_mse: 0.36884555Epoch: 7 train_mse: 0.3689475Epoch: 7 train_mse: 0.3686145Epoch: 7 train_mse: 0.36825445Epoch: 7 train_mse: 0.3681439Epoch: 7 train_mse: 0.36863476Epoch: 7 train_mse: 0.36845875Epoch: 7 train_mse: 0.36789325Epoch: 7 train_mse: 0.3674974Epoch: 7 train_mse: 0.3672466Epoch: 7 train_mse: 0.36736658Epoch: 7 train_mse: 0.3670717Epoch: 7 train_mse: 0.36863434Epoch: 7 train_mse: 0.36903206Epoch: 7 train_mse: 0.36944738Epoch: 7 train_mse: 0.36935064Epoch: 7 train_mse: 0.36879736Epoch: 7 train_mse: 0.37048957Epoch: 7 train_mse: 0.37234563Epoch: 7 train_mse: 0.37320042Epoch: 7 train_mse: 0.37287453Epoch: 7 train_mse: 0.37282947Epoch: 7 train_mse: 0.37268025Epoch: 7 train_mse: 0.3724974Epoch: 7 train_mse: 0.37414533Epoch: 7 train_mse: 0.37374207Epoch: 7 train_mse: 0.37294567Epoch: 7 train_mse: 0.37308007Epoch: 7 train_mse: 0.37244987Epoch: 7 train_mse: 0.371772Epoch: 7 train_mse: 0.37081558Epoch: 7 train_mse: 0.3710368Epoch: 7 train_mse: 0.37114528Epoch: 7 train_mse: 0.37209922Epoch: 7 train_mse: 0.3718807Epoch: 7 train_mse: 0.37253985Epoch: 7 train_mse: 0.3723922Epoch: 7 train_mse: 0.3726079Epoch: 7 train_mse: 0.37207484Epoch: 7 train_mse: 0.37199128Epoch: 7 train_mse: 0.37147447Epoch: 7 train_mse: 0.37089294Epoch: 7 train_mse: 0.37071255Epoch: 7 train_mse: 0.3705973Epoch: 7 train_mse: 0.3699247Epoch: 7 train_mse: 0.3703678Epoch: 7 train_mse: 0.3708132Epoch: 7 train_mse: 0.37162143Epoch: 7 train_mse: 0.37176895Epoch: 7 train_mse: 0.3716513Epoch: 7 train_mse: 0.37094736Epoch: 7 train_mse: 0.37140134Epoch: 7 train_mse: 0.37191498Epoch: 7 train_mse: 0.3718102Epoch: 7 train_mse: 0.37274733Epoch: 7 train_mse: 0.37293047Epoch: 7 train_mse: 0.3734035Epoch: 7 train_mse: 0.37287274Epoch: 7 train_mse: 0.3725428Epoch: 7 train_mse: 0.37217185Epoch: 7 train_mse: 0.3716082Epoch: 7 train_mse: 0.37115806Epoch: 7 train_mse: 0.37065884Epoch: 7 train_mse: 0.3707744Epoch: 7 train_mse: 0.37018466Epoch: 7 train_mse: 0.36991283Epoch: 7 train_mse: 0.37032223Epoch: 7 train_mse: 0.37056473Epoch: 7 train_mse: 0.37002972Epoch: 7 train_mse: 0.36955288Epoch: 7 train_mse: 0.36964372Epoch: 7 train_mse: 0.3694795Epoch: 7 train_mse: 0.36894536Epoch: 7 train_mse: 0.3683285"
     ]
    },
    {
     "name": "stdout",
     "output_type": "stream",
     "text": [
      "Epoch: 7 train_mse: 0.3699761Epoch: 7 train_mse: 0.37003982Epoch: 7 train_mse: 0.36968458Epoch: 7 train_mse: 0.3695444Epoch: 7 train_mse: 0.37017998Epoch: 7 train_mse: 0.37009302Epoch: 7 train_mse: 0.3701603Epoch: 7 train_mse: 0.37023017Epoch: 7 train_mse: 0.3704086Epoch: 7 train_mse: 0.3706136Epoch: 7 train_mse: 0.36989143Epoch: 7 train_mse: 0.3692962Epoch: 7 train_mse: 0.3703919Epoch: 7 train_mse: 0.3710076Epoch: 7 train_mse: 0.37060213Epoch: 7 train_mse: 0.36995715Epoch: 7 train_mse: 0.369819Epoch: 7 train_mse: 0.3696986Epoch: 7 train_mse: 0.3700031Epoch: 7 train_mse: 0.3706023Epoch: 7 train_mse: 0.37123463Epoch: 7 train_mse: 0.37075695Epoch: 7 train_mse: 0.37073836Epoch: 7 train_mse: 0.37016788Epoch: 7 train_mse: 0.37129995Epoch: 7 train_mse: 0.37103775Epoch: 7 train_mse: 0.37127584Epoch: 7 train_mse: 0.37104493Epoch: 7 train_mse: 0.37070268Epoch: 7 train_mse: 0.3733799Epoch: 7 train_mse: 0.37296402Epoch: 7 train_mse: 0.3731566Epoch: 7 train_mse: 0.37427083Epoch: 7 train_mse: 0.3743448Epoch: 7 train_mse: 0.374102Epoch: 7 train_mse: 0.37464234Epoch: 7 train_mse: 0.37442967Epoch: 7 train_mse: 0.3741604Epoch: 7 train_mse: 0.37373316Epoch: 7 train_mse: 0.37312022Epoch: 7 train_mse: 0.37318456Epoch: 7 train_mse: 0.37285647Epoch: 7 train_mse: 0.37235492Epoch: 7 train_mse: 0.37187672Epoch: 7 train_mse: 0.37199393Epoch: 7 train_mse: 0.37203047Epoch: 7 train_mse: 0.37254208Epoch: 7 train_mse: 0.372169Epoch: 7 train_mse: 0.37198463Epoch: 7 train_mse: 0.37187776Epoch: 7 train_mse: 0.37241375Epoch: 7 train_mse: 0.3724897Epoch: 7 train_mse: 0.37217703Epoch: 7 train_mse: 0.37256867Epoch: 7 train_mse: 0.37230682\t valid mse: 0.3606347\n"
     ]
    },
    {
     "name": "stdout",
     "output_type": "stream",
     "text": [
      "Epoch: 8 train_mse: 0.18306804Epoch: 8 train_mse: 0.23052692Epoch: 8 train_mse: 0.20806201Epoch: 8 train_mse: 0.23535855Epoch: 8 train_mse: 0.2537071Epoch: 8 train_mse: 0.25895932Epoch: 8 train_mse: 0.3173931Epoch: 8 train_mse: 0.30727428Epoch: 8 train_mse: 0.3300707Epoch: 8 train_mse: 0.31334487Epoch: 8 train_mse: 0.30275762Epoch: 8 train_mse: 0.31205454Epoch: 8 train_mse: 0.30241087Epoch: 8 train_mse: 0.30926853Epoch: 8 train_mse: 0.30526507Epoch: 8 train_mse: 0.30109Epoch: 8 train_mse: 0.32077956Epoch: 8 train_mse: 0.3473078Epoch: 8 train_mse: 0.34012288Epoch: 8 train_mse: 0.34057614Epoch: 8 train_mse: 0.3385201Epoch: 8 train_mse: 0.33912763Epoch: 8 train_mse: 0.3355117Epoch: 8 train_mse: 0.33794427Epoch: 8 train_mse: 0.3433045Epoch: 8 train_mse: 0.34697407Epoch: 8 train_mse: 0.3476497Epoch: 8 train_mse: 0.35668865Epoch: 8 train_mse: 0.35942343Epoch: 8 train_mse: 0.35663804Epoch: 8 train_mse: 0.35746905Epoch: 8 train_mse: 0.35780352Epoch: 8 train_mse: 0.35530865Epoch: 8 train_mse: 0.3569568Epoch: 8 train_mse: 0.36435124Epoch: 8 train_mse: 0.37164676Epoch: 8 train_mse: 0.36785167Epoch: 8 train_mse: 0.37753478Epoch: 8 train_mse: 0.37430656Epoch: 8 train_mse: 0.36942217Epoch: 8 train_mse: 0.3666796Epoch: 8 train_mse: 0.3677992Epoch: 8 train_mse: 0.36635414Epoch: 8 train_mse: 0.36577523Epoch: 8 train_mse: 0.37045562Epoch: 8 train_mse: 0.3698133Epoch: 8 train_mse: 0.3725304Epoch: 8 train_mse: 0.368397Epoch: 8 train_mse: 0.36502185Epoch: 8 train_mse: 0.36268562Epoch: 8 train_mse: 0.36923528Epoch: 8 train_mse: 0.36504138Epoch: 8 train_mse: 0.36606863Epoch: 8 train_mse: 0.362236Epoch: 8 train_mse: 0.36525962Epoch: 8 train_mse: 0.3614368Epoch: 8 train_mse: 0.36186883Epoch: 8 train_mse: 0.3601949Epoch: 8 train_mse: 0.36792082Epoch: 8 train_mse: 0.3730075Epoch: 8 train_mse: 0.3763847Epoch: 8 train_mse: 0.3734997Epoch: 8 train_mse: 0.37028077Epoch: 8 train_mse: 0.37368163Epoch: 8 train_mse: 0.37173244Epoch: 8 train_mse: 0.37616396Epoch: 8 train_mse: 0.37293687Epoch: 8 train_mse: 0.3758154Epoch: 8 train_mse: 0.37527803Epoch: 8 train_mse: 0.37351784Epoch: 8 train_mse: 0.37142473Epoch: 8 train_mse: 0.37579978Epoch: 8 train_mse: 0.37347773Epoch: 8 train_mse: 0.3745173Epoch: 8 train_mse: 0.37296537Epoch: 8 train_mse: 0.3703328Epoch: 8 train_mse: 0.36793146Epoch: 8 train_mse: 0.3670544Epoch: 8 train_mse: 0.3639906Epoch: 8 train_mse: 0.3628843Epoch: 8 train_mse: 0.36389333Epoch: 8 train_mse: 0.36450422Epoch: 8 train_mse: 0.36335093Epoch: 8 train_mse: 0.36504847Epoch: 8 train_mse: 0.36332694Epoch: 8 train_mse: 0.36230475Epoch: 8 train_mse: 0.362319Epoch: 8 train_mse: 0.36085042Epoch: 8 train_mse: 0.3624388Epoch: 8 train_mse: 0.36521393Epoch: 8 train_mse: 0.3648701Epoch: 8 train_mse: 0.3627274Epoch: 8 train_mse: 0.36057732Epoch: 8 train_mse: 0.3628441Epoch: 8 train_mse: 0.36281058Epoch: 8 train_mse: 0.3625851Epoch: 8 train_mse: 0.3603567Epoch: 8 train_mse: 0.3582872Epoch: 8 train_mse: 0.3572023Epoch: 8 train_mse: 0.3568715Epoch: 8 train_mse: 0.35570383Epoch: 8 train_mse: 0.35412848Epoch: 8 train_mse: 0.3527514Epoch: 8 train_mse: 0.35742056Epoch: 8 train_mse: 0.35810855Epoch: 8 train_mse: 0.3601553Epoch: 8 train_mse: 0.3624714Epoch: 8 train_mse: 0.36170596Epoch: 8 train_mse: 0.36051035Epoch: 8 train_mse: 0.35937Epoch: 8 train_mse: 0.3597839Epoch: 8 train_mse: 0.35828045Epoch: 8 train_mse: 0.35786855Epoch: 8 train_mse: 0.35850644Epoch: 8 train_mse: 0.35840565Epoch: 8 train_mse: 0.35850424Epoch: 8 train_mse: 0.35872692Epoch: 8 train_mse: 0.35923132Epoch: 8 train_mse: 0.3584366Epoch: 8 train_mse: 0.35916054Epoch: 8 train_mse: 0.35983688Epoch: 8 train_mse: 0.3626671Epoch: 8 train_mse: 0.3614039Epoch: 8 train_mse: 0.36066648Epoch: 8 train_mse: 0.36176857Epoch: 8 train_mse: 0.36164126Epoch: 8 train_mse: 0.36321902Epoch: 8 train_mse: 0.3633183Epoch: 8 train_mse: 0.3625147Epoch: 8 train_mse: 0.36253095Epoch: 8 train_mse: 0.36255202Epoch: 8 train_mse: 0.36469057Epoch: 8 train_mse: 0.3638039Epoch: 8 train_mse: 0.3637752Epoch: 8 train_mse: 0.36269528Epoch: 8 train_mse: 0.36313882Epoch: 8 train_mse: 0.36211416Epoch: 8 train_mse: 0.36245388Epoch: 8 train_mse: 0.3608914Epoch: 8 train_mse: 0.36081293Epoch: 8 train_mse: 0.35990122Epoch: 8 train_mse: 0.35888714Epoch: 8 train_mse: 0.3586245Epoch: 8 train_mse: 0.35793707Epoch: 8 train_mse: 0.35860193Epoch: 8 train_mse: 0.3582962Epoch: 8 train_mse: 0.35808748Epoch: 8 train_mse: 0.35818455Epoch: 8 train_mse: 0.35767886Epoch: 8 train_mse: 0.35694447Epoch: 8 train_mse: 0.35636428Epoch: 8 train_mse: 0.3558278Epoch: 8 train_mse: 0.3564511Epoch: 8 train_mse: 0.3580443Epoch: 8 train_mse: 0.35687798Epoch: 8 train_mse: 0.35589796Epoch: 8 train_mse: 0.35605007Epoch: 8 train_mse: 0.35506928Epoch: 8 train_mse: 0.35407853Epoch: 8 train_mse: 0.35364145Epoch: 8 train_mse: 0.3525502Epoch: 8 train_mse: 0.3519808Epoch: 8 train_mse: 0.35126647Epoch: 8 train_mse: 0.3507723Epoch: 8 train_mse: 0.35044503Epoch: 8 train_mse: 0.3503864Epoch: 8 train_mse: 0.35072896Epoch: 8 train_mse: 0.3517547Epoch: 8 train_mse: 0.351061Epoch: 8 train_mse: 0.35107026Epoch: 8 train_mse: 0.35095653Epoch: 8 train_mse: 0.35008034Epoch: 8 train_mse: 0.35008305Epoch: 8 train_mse: 0.34973964Epoch: 8 train_mse: 0.3498801Epoch: 8 train_mse: 0.3498058Epoch: 8 train_mse: 0.34940678Epoch: 8 train_mse: 0.34858024Epoch: 8 train_mse: 0.34879538Epoch: 8 train_mse: 0.34805477Epoch: 8 train_mse: 0.34753284Epoch: 8 train_mse: 0.34675482Epoch: 8 train_mse: 0.34650928Epoch: 8 train_mse: 0.34582162Epoch: 8 train_mse: 0.34526908Epoch: 8 train_mse: 0.3452098Epoch: 8 train_mse: 0.3446195Epoch: 8 train_mse: 0.3464047Epoch: 8 train_mse: 0.3456118Epoch: 8 train_mse: 0.3460853Epoch: 8 train_mse: 0.34597486Epoch: 8 train_mse: 0.34622845Epoch: 8 train_mse: 0.3454376Epoch: 8 train_mse: 0.34685194Epoch: 8 train_mse: 0.34649646Epoch: 8 train_mse: 0.3453828Epoch: 8 train_mse: 0.34531122Epoch: 8 train_mse: 0.3458854Epoch: 8 train_mse: 0.34536853Epoch: 8 train_mse: 0.3453696Epoch: 8 train_mse: 0.34485844Epoch: 8 train_mse: 0.34453648Epoch: 8 train_mse: 0.34444773Epoch: 8 train_mse: 0.34636953Epoch: 8 train_mse: 0.34640306Epoch: 8 train_mse: 0.34649718Epoch: 8 train_mse: 0.34718597Epoch: 8 train_mse: 0.34961045Epoch: 8 train_mse: 0.34889704Epoch: 8 train_mse: 0.3490931Epoch: 8 train_mse: 0.34908295Epoch: 8 train_mse: 0.34864512Epoch: 8 train_mse: 0.34925476Epoch: 8 train_mse: 0.3496246Epoch: 8 train_mse: 0.34937137Epoch: 8 train_mse: 0.34860402Epoch: 8 train_mse: 0.34793288Epoch: 8 train_mse: 0.34839186Epoch: 8 train_mse: 0.34799984Epoch: 8 train_mse: 0.3482009Epoch: 8 train_mse: 0.34866464Epoch: 8 train_mse: 0.3485542Epoch: 8 train_mse: 0.35013282Epoch: 8 train_mse: 0.34999937Epoch: 8 train_mse: 0.34994644Epoch: 8 train_mse: 0.3498378Epoch: 8 train_mse: 0.34979695Epoch: 8 train_mse: 0.34972823Epoch: 8 train_mse: 0.3493037Epoch: 8 train_mse: 0.34878322Epoch: 8 train_mse: 0.3482458Epoch: 8 train_mse: 0.34771436Epoch: 8 train_mse: 0.3489434Epoch: 8 train_mse: 0.3483275Epoch: 8 train_mse: 0.34799492Epoch: 8 train_mse: 0.3474359Epoch: 8 train_mse: 0.34740523Epoch: 8 train_mse: 0.3481143Epoch: 8 train_mse: 0.34785196Epoch: 8 train_mse: 0.34790114Epoch: 8 train_mse: 0.3476347Epoch: 8 train_mse: 0.3477182Epoch: 8 train_mse: 0.34886473Epoch: 8 train_mse: 0.3487127Epoch: 8 train_mse: 0.34890726Epoch: 8 train_mse: 0.3490658Epoch: 8 train_mse: 0.34825402Epoch: 8 train_mse: 0.34884614Epoch: 8 train_mse: 0.34912053Epoch: 8 train_mse: 0.34971067Epoch: 8 train_mse: 0.35090512Epoch: 8 train_mse: 0.35068876Epoch: 8 train_mse: 0.3501795Epoch: 8 train_mse: 0.3503308Epoch: 8 train_mse: 0.3498311Epoch: 8 train_mse: 0.34952933Epoch: 8 train_mse: 0.34905088Epoch: 8 train_mse: 0.34851202Epoch: 8 train_mse: 0.34835815Epoch: 8 train_mse: 0.34796995Epoch: 8 train_mse: 0.34768578Epoch: 8 train_mse: 0.34753993Epoch: 8 train_mse: 0.3475404Epoch: 8 train_mse: 0.34704202Epoch: 8 train_mse: 0.3466065Epoch: 8 train_mse: 0.34589672Epoch: 8 train_mse: 0.34526044Epoch: 8 train_mse: 0.34508097Epoch: 8 train_mse: 0.34464982Epoch: 8 train_mse: 0.34591588Epoch: 8 train_mse: 0.3453431Epoch: 8 train_mse: 0.34597978Epoch: 8 train_mse: 0.3463892Epoch: 8 train_mse: 0.3463936Epoch: 8 train_mse: 0.3460496Epoch: 8 train_mse: 0.34587204Epoch: 8 train_mse: 0.3468836"
     ]
    },
    {
     "name": "stdout",
     "output_type": "stream",
     "text": [
      "Epoch: 8 train_mse: 0.34651828Epoch: 8 train_mse: 0.34639955Epoch: 8 train_mse: 0.3459984Epoch: 8 train_mse: 0.34617537Epoch: 8 train_mse: 0.34618115Epoch: 8 train_mse: 0.345694Epoch: 8 train_mse: 0.3456074Epoch: 8 train_mse: 0.34539866Epoch: 8 train_mse: 0.34562966Epoch: 8 train_mse: 0.34499174Epoch: 8 train_mse: 0.34431532Epoch: 8 train_mse: 0.34374675Epoch: 8 train_mse: 0.34368333Epoch: 8 train_mse: 0.34345323Epoch: 8 train_mse: 0.3432549Epoch: 8 train_mse: 0.34303665Epoch: 8 train_mse: 0.34375557Epoch: 8 train_mse: 0.3433584Epoch: 8 train_mse: 0.34317502Epoch: 8 train_mse: 0.3427874Epoch: 8 train_mse: 0.34299615Epoch: 8 train_mse: 0.3429504Epoch: 8 train_mse: 0.343413Epoch: 8 train_mse: 0.34378824Epoch: 8 train_mse: 0.34336773Epoch: 8 train_mse: 0.34386864Epoch: 8 train_mse: 0.34330064Epoch: 8 train_mse: 0.3436743Epoch: 8 train_mse: 0.34296933Epoch: 8 train_mse: 0.34407988Epoch: 8 train_mse: 0.34410617Epoch: 8 train_mse: 0.34374952Epoch: 8 train_mse: 0.34396803Epoch: 8 train_mse: 0.34350386Epoch: 8 train_mse: 0.34318092Epoch: 8 train_mse: 0.34381106Epoch: 8 train_mse: 0.34358582Epoch: 8 train_mse: 0.3448233Epoch: 8 train_mse: 0.3443184Epoch: 8 train_mse: 0.34407136Epoch: 8 train_mse: 0.34374714Epoch: 8 train_mse: 0.34370056Epoch: 8 train_mse: 0.34379175Epoch: 8 train_mse: 0.3435618Epoch: 8 train_mse: 0.34347072Epoch: 8 train_mse: 0.3434106Epoch: 8 train_mse: 0.34302515Epoch: 8 train_mse: 0.3428963Epoch: 8 train_mse: 0.34285867Epoch: 8 train_mse: 0.34293163Epoch: 8 train_mse: 0.34265313Epoch: 8 train_mse: 0.34276047Epoch: 8 train_mse: 0.34239203Epoch: 8 train_mse: 0.3423065Epoch: 8 train_mse: 0.3419249Epoch: 8 train_mse: 0.34149924Epoch: 8 train_mse: 0.34106424Epoch: 8 train_mse: 0.34120542Epoch: 8 train_mse: 0.3409453Epoch: 8 train_mse: 0.34087828Epoch: 8 train_mse: 0.342543Epoch: 8 train_mse: 0.34252402Epoch: 8 train_mse: 0.34217095Epoch: 8 train_mse: 0.3429237Epoch: 8 train_mse: 0.34256652Epoch: 8 train_mse: 0.34262574Epoch: 8 train_mse: 0.3427682Epoch: 8 train_mse: 0.34264603Epoch: 8 train_mse: 0.3433786Epoch: 8 train_mse: 0.34304124Epoch: 8 train_mse: 0.34262025Epoch: 8 train_mse: 0.34239802Epoch: 8 train_mse: 0.34354225Epoch: 8 train_mse: 0.34356564Epoch: 8 train_mse: 0.34327185Epoch: 8 train_mse: 0.34310144Epoch: 8 train_mse: 0.34310144Epoch: 8 train_mse: 0.3430507Epoch: 8 train_mse: 0.3429141Epoch: 8 train_mse: 0.34302408Epoch: 8 train_mse: 0.34290624Epoch: 8 train_mse: 0.34250256Epoch: 8 train_mse: 0.34232846Epoch: 8 train_mse: 0.34236628Epoch: 8 train_mse: 0.34202355\t valid mse: 0.36984283\n"
     ]
    },
    {
     "name": "stdout",
     "output_type": "stream",
     "text": [
      "Epoch: 9 train_mse: 0.4394755Epoch: 9 train_mse: 0.3856957Epoch: 9 train_mse: 0.34378847Epoch: 9 train_mse: 0.3358356Epoch: 9 train_mse: 0.3083815Epoch: 9 train_mse: 0.3223994Epoch: 9 train_mse: 0.33880395Epoch: 9 train_mse: 0.325205Epoch: 9 train_mse: 0.32133973Epoch: 9 train_mse: 0.33182883Epoch: 9 train_mse: 0.34504536Epoch: 9 train_mse: 0.33723024Epoch: 9 train_mse: 0.3305182Epoch: 9 train_mse: 0.32042798Epoch: 9 train_mse: 0.31842235Epoch: 9 train_mse: 0.3218271Epoch: 9 train_mse: 0.32821453Epoch: 9 train_mse: 0.32093427Epoch: 9 train_mse: 0.32278755Epoch: 9 train_mse: 0.31228143Epoch: 9 train_mse: 0.30623364Epoch: 9 train_mse: 0.3046668Epoch: 9 train_mse: 0.32157373Epoch: 9 train_mse: 0.32055327Epoch: 9 train_mse: 0.31620076Epoch: 9 train_mse: 0.31914997Epoch: 9 train_mse: 0.31466222Epoch: 9 train_mse: 0.31248954Epoch: 9 train_mse: 0.31201404Epoch: 9 train_mse: 0.30599803Epoch: 9 train_mse: 0.31075642Epoch: 9 train_mse: 0.30903578Epoch: 9 train_mse: 0.30680382Epoch: 9 train_mse: 0.31282693Epoch: 9 train_mse: 0.31240496Epoch: 9 train_mse: 0.30978462Epoch: 9 train_mse: 0.31116742Epoch: 9 train_mse: 0.32281342Epoch: 9 train_mse: 0.32605973Epoch: 9 train_mse: 0.32154408Epoch: 9 train_mse: 0.31938082Epoch: 9 train_mse: 0.32004684Epoch: 9 train_mse: 0.3192514Epoch: 9 train_mse: 0.34423763Epoch: 9 train_mse: 0.3412168Epoch: 9 train_mse: 0.34497434Epoch: 9 train_mse: 0.34126705Epoch: 9 train_mse: 0.34139776Epoch: 9 train_mse: 0.34549844Epoch: 9 train_mse: 0.34702998Epoch: 9 train_mse: 0.34586877Epoch: 9 train_mse: 0.34953812Epoch: 9 train_mse: 0.35200125Epoch: 9 train_mse: 0.3555783Epoch: 9 train_mse: 0.3543992Epoch: 9 train_mse: 0.35194448Epoch: 9 train_mse: 0.35455474Epoch: 9 train_mse: 0.35407048Epoch: 9 train_mse: 0.35148865Epoch: 9 train_mse: 0.3513022Epoch: 9 train_mse: 0.35081Epoch: 9 train_mse: 0.34844336Epoch: 9 train_mse: 0.35125235Epoch: 9 train_mse: 0.35166383Epoch: 9 train_mse: 0.349415Epoch: 9 train_mse: 0.34826514Epoch: 9 train_mse: 0.34782004Epoch: 9 train_mse: 0.348271Epoch: 9 train_mse: 0.34773114Epoch: 9 train_mse: 0.35095116Epoch: 9 train_mse: 0.3519637Epoch: 9 train_mse: 0.34951314Epoch: 9 train_mse: 0.35094714Epoch: 9 train_mse: 0.3490187Epoch: 9 train_mse: 0.35327557Epoch: 9 train_mse: 0.3513289Epoch: 9 train_mse: 0.34950835Epoch: 9 train_mse: 0.34952635Epoch: 9 train_mse: 0.3508803Epoch: 9 train_mse: 0.34986427Epoch: 9 train_mse: 0.35197192Epoch: 9 train_mse: 0.35385954Epoch: 9 train_mse: 0.35535413Epoch: 9 train_mse: 0.36831188Epoch: 9 train_mse: 0.36750388Epoch: 9 train_mse: 0.36725762Epoch: 9 train_mse: 0.36613944Epoch: 9 train_mse: 0.36629304Epoch: 9 train_mse: 0.3650197Epoch: 9 train_mse: 0.36436605Epoch: 9 train_mse: 0.36358356Epoch: 9 train_mse: 0.36224976Epoch: 9 train_mse: 0.36061186Epoch: 9 train_mse: 0.3590862Epoch: 9 train_mse: 0.35848305Epoch: 9 train_mse: 0.35743514Epoch: 9 train_mse: 0.35788655Epoch: 9 train_mse: 0.35750464Epoch: 9 train_mse: 0.3579457Epoch: 9 train_mse: 0.35747632Epoch: 9 train_mse: 0.3569995Epoch: 9 train_mse: 0.35670564Epoch: 9 train_mse: 0.35749018Epoch: 9 train_mse: 0.3626637Epoch: 9 train_mse: 0.3660514Epoch: 9 train_mse: 0.36605924Epoch: 9 train_mse: 0.36694542Epoch: 9 train_mse: 0.36498433Epoch: 9 train_mse: 0.36401308Epoch: 9 train_mse: 0.3641157Epoch: 9 train_mse: 0.36452287Epoch: 9 train_mse: 0.36374712Epoch: 9 train_mse: 0.36266014Epoch: 9 train_mse: 0.36148888Epoch: 9 train_mse: 0.3600363Epoch: 9 train_mse: 0.362829Epoch: 9 train_mse: 0.36323568Epoch: 9 train_mse: 0.36162227Epoch: 9 train_mse: 0.36372292Epoch: 9 train_mse: 0.3620663Epoch: 9 train_mse: 0.3624778Epoch: 9 train_mse: 0.36138695Epoch: 9 train_mse: 0.36063868Epoch: 9 train_mse: 0.36014548Epoch: 9 train_mse: 0.36043495Epoch: 9 train_mse: 0.35921267Epoch: 9 train_mse: 0.3595703Epoch: 9 train_mse: 0.36066195Epoch: 9 train_mse: 0.3593888Epoch: 9 train_mse: 0.3588931Epoch: 9 train_mse: 0.35744426Epoch: 9 train_mse: 0.35730433Epoch: 9 train_mse: 0.35744992Epoch: 9 train_mse: 0.35685816Epoch: 9 train_mse: 0.35616806Epoch: 9 train_mse: 0.35654533Epoch: 9 train_mse: 0.35590193Epoch: 9 train_mse: 0.3550304Epoch: 9 train_mse: 0.35443658Epoch: 9 train_mse: 0.35543996Epoch: 9 train_mse: 0.35563505Epoch: 9 train_mse: 0.3563181Epoch: 9 train_mse: 0.35589397Epoch: 9 train_mse: 0.35577384Epoch: 9 train_mse: 0.3562013Epoch: 9 train_mse: 0.35617882Epoch: 9 train_mse: 0.354538Epoch: 9 train_mse: 0.3555998Epoch: 9 train_mse: 0.35441992Epoch: 9 train_mse: 0.35368013Epoch: 9 train_mse: 0.35452986Epoch: 9 train_mse: 0.35531992Epoch: 9 train_mse: 0.35571587Epoch: 9 train_mse: 0.35487944Epoch: 9 train_mse: 0.35427427Epoch: 9 train_mse: 0.3536109Epoch: 9 train_mse: 0.353765Epoch: 9 train_mse: 0.35255313Epoch: 9 train_mse: 0.35339752Epoch: 9 train_mse: 0.35237372Epoch: 9 train_mse: 0.35083267Epoch: 9 train_mse: 0.35124356Epoch: 9 train_mse: 0.35128888Epoch: 9 train_mse: 0.35029888Epoch: 9 train_mse: 0.35045886Epoch: 9 train_mse: 0.3500714Epoch: 9 train_mse: 0.35057434Epoch: 9 train_mse: 0.34982324Epoch: 9 train_mse: 0.34929842Epoch: 9 train_mse: 0.34871793Epoch: 9 train_mse: 0.34831864Epoch: 9 train_mse: 0.34706414Epoch: 9 train_mse: 0.34773695Epoch: 9 train_mse: 0.3491112Epoch: 9 train_mse: 0.34940606Epoch: 9 train_mse: 0.34914348Epoch: 9 train_mse: 0.34846696Epoch: 9 train_mse: 0.3479748Epoch: 9 train_mse: 0.3487465Epoch: 9 train_mse: 0.3497238Epoch: 9 train_mse: 0.35009015Epoch: 9 train_mse: 0.3500275Epoch: 9 train_mse: 0.34902874Epoch: 9 train_mse: 0.34925002Epoch: 9 train_mse: 0.3489495Epoch: 9 train_mse: 0.34776077Epoch: 9 train_mse: 0.34814662Epoch: 9 train_mse: 0.34876636Epoch: 9 train_mse: 0.35360685Epoch: 9 train_mse: 0.35279328Epoch: 9 train_mse: 0.35213667Epoch: 9 train_mse: 0.35131085Epoch: 9 train_mse: 0.3515285Epoch: 9 train_mse: 0.35066187Epoch: 9 train_mse: 0.35041162Epoch: 9 train_mse: 0.35046935Epoch: 9 train_mse: 0.35126638Epoch: 9 train_mse: 0.3531044Epoch: 9 train_mse: 0.35230485Epoch: 9 train_mse: 0.35268092Epoch: 9 train_mse: 0.3526324Epoch: 9 train_mse: 0.35227093Epoch: 9 train_mse: 0.35178447Epoch: 9 train_mse: 0.3512796Epoch: 9 train_mse: 0.35069862Epoch: 9 train_mse: 0.35053515Epoch: 9 train_mse: 0.35010403Epoch: 9 train_mse: 0.34937042Epoch: 9 train_mse: 0.349216Epoch: 9 train_mse: 0.34908184Epoch: 9 train_mse: 0.34880424Epoch: 9 train_mse: 0.34831694Epoch: 9 train_mse: 0.34768936Epoch: 9 train_mse: 0.34716046Epoch: 9 train_mse: 0.34760422Epoch: 9 train_mse: 0.34743214Epoch: 9 train_mse: 0.34655935Epoch: 9 train_mse: 0.3458953Epoch: 9 train_mse: 0.34540612Epoch: 9 train_mse: 0.34522116Epoch: 9 train_mse: 0.34486496Epoch: 9 train_mse: 0.34453535Epoch: 9 train_mse: 0.3440706Epoch: 9 train_mse: 0.34416762Epoch: 9 train_mse: 0.34501195Epoch: 9 train_mse: 0.34505686Epoch: 9 train_mse: 0.3474299Epoch: 9 train_mse: 0.34757987Epoch: 9 train_mse: 0.34776962Epoch: 9 train_mse: 0.34801078Epoch: 9 train_mse: 0.34885976Epoch: 9 train_mse: 0.34842032Epoch: 9 train_mse: 0.34815946Epoch: 9 train_mse: 0.34781268Epoch: 9 train_mse: 0.3474757Epoch: 9 train_mse: 0.34841564Epoch: 9 train_mse: 0.34842736Epoch: 9 train_mse: 0.34846523Epoch: 9 train_mse: 0.34881625Epoch: 9 train_mse: 0.3493509Epoch: 9 train_mse: 0.34909087Epoch: 9 train_mse: 0.34876043Epoch: 9 train_mse: 0.34790164Epoch: 9 train_mse: 0.3480904Epoch: 9 train_mse: 0.34794775Epoch: 9 train_mse: 0.34917834Epoch: 9 train_mse: 0.34868342Epoch: 9 train_mse: 0.3488357Epoch: 9 train_mse: 0.34879267Epoch: 9 train_mse: 0.34953827Epoch: 9 train_mse: 0.3497156Epoch: 9 train_mse: 0.34988979Epoch: 9 train_mse: 0.34962556Epoch: 9 train_mse: 0.34976256Epoch: 9 train_mse: 0.35003856Epoch: 9 train_mse: 0.3502117Epoch: 9 train_mse: 0.34966257Epoch: 9 train_mse: 0.34908563Epoch: 9 train_mse: 0.34842587Epoch: 9 train_mse: 0.34805214Epoch: 9 train_mse: 0.34792522Epoch: 9 train_mse: 0.34759063Epoch: 9 train_mse: 0.34760344Epoch: 9 train_mse: 0.34836578Epoch: 9 train_mse: 0.3485546Epoch: 9 train_mse: 0.34857517Epoch: 9 train_mse: 0.34982327Epoch: 9 train_mse: 0.35155225Epoch: 9 train_mse: 0.35249025Epoch: 9 train_mse: 0.3521917Epoch: 9 train_mse: 0.35158625Epoch: 9 train_mse: 0.3510921Epoch: 9 train_mse: 0.35188866Epoch: 9 train_mse: 0.35147712Epoch: 9 train_mse: 0.3510654Epoch: 9 train_mse: 0.35060057Epoch: 9 train_mse: 0.35090458Epoch: 9 train_mse: 0.35075963Epoch: 9 train_mse: 0.35064143Epoch: 9 train_mse: 0.350312Epoch: 9 train_mse: 0.34973222Epoch: 9 train_mse: 0.35034826Epoch: 9 train_mse: 0.35021526Epoch: 9 train_mse: 0.3501323Epoch: 9 train_mse: 0.3505048Epoch: 9 train_mse: 0.3498184Epoch: 9 train_mse: 0.35032347Epoch: 9 train_mse: 0.35042816Epoch: 9 train_mse: 0.3507089Epoch: 9 train_mse: 0.35060856Epoch: 9 train_mse: 0.35114032Epoch: 9 train_mse: 0.35058993Epoch: 9 train_mse: 0.3502053Epoch: 9 train_mse: 0.35076803"
     ]
    },
    {
     "name": "stdout",
     "output_type": "stream",
     "text": [
      "Epoch: 9 train_mse: 0.35059777Epoch: 9 train_mse: 0.35053357Epoch: 9 train_mse: 0.35074297Epoch: 9 train_mse: 0.35051394Epoch: 9 train_mse: 0.35019538Epoch: 9 train_mse: 0.35031313Epoch: 9 train_mse: 0.35104722Epoch: 9 train_mse: 0.3509333Epoch: 9 train_mse: 0.35120848Epoch: 9 train_mse: 0.35137534Epoch: 9 train_mse: 0.35093167Epoch: 9 train_mse: 0.35093987Epoch: 9 train_mse: 0.35017955Epoch: 9 train_mse: 0.35067216Epoch: 9 train_mse: 0.35165593Epoch: 9 train_mse: 0.3515517Epoch: 9 train_mse: 0.35142982Epoch: 9 train_mse: 0.35149753Epoch: 9 train_mse: 0.35131726Epoch: 9 train_mse: 0.35181955Epoch: 9 train_mse: 0.35145453Epoch: 9 train_mse: 0.3511725Epoch: 9 train_mse: 0.35114217Epoch: 9 train_mse: 0.35101667Epoch: 9 train_mse: 0.351575Epoch: 9 train_mse: 0.35111892Epoch: 9 train_mse: 0.3515347Epoch: 9 train_mse: 0.35163337Epoch: 9 train_mse: 0.35131535Epoch: 9 train_mse: 0.35116032Epoch: 9 train_mse: 0.3512157Epoch: 9 train_mse: 0.35069606Epoch: 9 train_mse: 0.35137746Epoch: 9 train_mse: 0.35265815Epoch: 9 train_mse: 0.35261077Epoch: 9 train_mse: 0.35244858Epoch: 9 train_mse: 0.35221258Epoch: 9 train_mse: 0.3520343Epoch: 9 train_mse: 0.35180673Epoch: 9 train_mse: 0.35151386Epoch: 9 train_mse: 0.35316142Epoch: 9 train_mse: 0.35288215Epoch: 9 train_mse: 0.3527571Epoch: 9 train_mse: 0.35254526Epoch: 9 train_mse: 0.35258204Epoch: 9 train_mse: 0.35236108Epoch: 9 train_mse: 0.35228002Epoch: 9 train_mse: 0.3522114Epoch: 9 train_mse: 0.35180068Epoch: 9 train_mse: 0.35190943Epoch: 9 train_mse: 0.35233384Epoch: 9 train_mse: 0.35284913Epoch: 9 train_mse: 0.352441Epoch: 9 train_mse: 0.35186756Epoch: 9 train_mse: 0.35164633Epoch: 9 train_mse: 0.35244152Epoch: 9 train_mse: 0.35235363Epoch: 9 train_mse: 0.35179007Epoch: 9 train_mse: 0.35203755Epoch: 9 train_mse: 0.35298535Epoch: 9 train_mse: 0.35261297Epoch: 9 train_mse: 0.35246035Epoch: 9 train_mse: 0.35237238Epoch: 9 train_mse: 0.35234234Epoch: 9 train_mse: 0.35214955Epoch: 9 train_mse: 0.3526355Epoch: 9 train_mse: 0.35254565Epoch: 9 train_mse: 0.35213065\t valid mse: 0.3615527\n"
     ]
    },
    {
     "name": "stdout",
     "output_type": "stream",
     "text": [
      "Epoch: 10 train_mse: 0.33154544Epoch: 10 train_mse: 0.4318238Epoch: 10 train_mse: 0.40789065Epoch: 10 train_mse: 0.4972454Epoch: 10 train_mse: 0.48311138Epoch: 10 train_mse: 0.4436511Epoch: 10 train_mse: 0.43584538Epoch: 10 train_mse: 0.4102747Epoch: 10 train_mse: 0.44455257Epoch: 10 train_mse: 0.41293222Epoch: 10 train_mse: 0.40848744Epoch: 10 train_mse: 0.3974791Epoch: 10 train_mse: 0.37957048Epoch: 10 train_mse: 0.37268606Epoch: 10 train_mse: 0.37151718Epoch: 10 train_mse: 0.37100157Epoch: 10 train_mse: 0.35719547Epoch: 10 train_mse: 0.35253802Epoch: 10 train_mse: 0.34548676Epoch: 10 train_mse: 0.34816557Epoch: 10 train_mse: 0.35093698Epoch: 10 train_mse: 0.3454095Epoch: 10 train_mse: 0.34494954Epoch: 10 train_mse: 0.34351078Epoch: 10 train_mse: 0.34877908Epoch: 10 train_mse: 0.34584886Epoch: 10 train_mse: 0.33880737Epoch: 10 train_mse: 0.33512068Epoch: 10 train_mse: 0.33162493Epoch: 10 train_mse: 0.32593888Epoch: 10 train_mse: 0.3278761Epoch: 10 train_mse: 0.32926485Epoch: 10 train_mse: 0.32785687Epoch: 10 train_mse: 0.3265011Epoch: 10 train_mse: 0.33605376Epoch: 10 train_mse: 0.33609724Epoch: 10 train_mse: 0.33997318Epoch: 10 train_mse: 0.33539027Epoch: 10 train_mse: 0.33965868Epoch: 10 train_mse: 0.33912522Epoch: 10 train_mse: 0.3374098Epoch: 10 train_mse: 0.33478507Epoch: 10 train_mse: 0.34085235Epoch: 10 train_mse: 0.3415135Epoch: 10 train_mse: 0.34237632Epoch: 10 train_mse: 0.34337878Epoch: 10 train_mse: 0.3431713Epoch: 10 train_mse: 0.34325314Epoch: 10 train_mse: 0.34521168Epoch: 10 train_mse: 0.34139794Epoch: 10 train_mse: 0.3374575Epoch: 10 train_mse: 0.33869156Epoch: 10 train_mse: 0.34203368Epoch: 10 train_mse: 0.3379784Epoch: 10 train_mse: 0.33907613Epoch: 10 train_mse: 0.33743697Epoch: 10 train_mse: 0.3379832Epoch: 10 train_mse: 0.33569053Epoch: 10 train_mse: 0.33377936Epoch: 10 train_mse: 0.33223242Epoch: 10 train_mse: 0.3324572Epoch: 10 train_mse: 0.33166274Epoch: 10 train_mse: 0.33001602Epoch: 10 train_mse: 0.32824752Epoch: 10 train_mse: 0.3341642Epoch: 10 train_mse: 0.34311995Epoch: 10 train_mse: 0.3422379Epoch: 10 train_mse: 0.3435042Epoch: 10 train_mse: 0.34615928Epoch: 10 train_mse: 0.34707588Epoch: 10 train_mse: 0.34665036Epoch: 10 train_mse: 0.3448696Epoch: 10 train_mse: 0.34253076Epoch: 10 train_mse: 0.3417293Epoch: 10 train_mse: 0.33986703Epoch: 10 train_mse: 0.33935478Epoch: 10 train_mse: 0.3409123Epoch: 10 train_mse: 0.34211117Epoch: 10 train_mse: 0.3457927Epoch: 10 train_mse: 0.34530285Epoch: 10 train_mse: 0.35105655Epoch: 10 train_mse: 0.34920812Epoch: 10 train_mse: 0.34909028Epoch: 10 train_mse: 0.3496444Epoch: 10 train_mse: 0.34845138Epoch: 10 train_mse: 0.34886777Epoch: 10 train_mse: 0.34942555Epoch: 10 train_mse: 0.35199913Epoch: 10 train_mse: 0.35281152Epoch: 10 train_mse: 0.35449558Epoch: 10 train_mse: 0.35662895Epoch: 10 train_mse: 0.35711065Epoch: 10 train_mse: 0.35604435Epoch: 10 train_mse: 0.35808575Epoch: 10 train_mse: 0.3581608Epoch: 10 train_mse: 0.35855946Epoch: 10 train_mse: 0.35777232Epoch: 10 train_mse: 0.3557781Epoch: 10 train_mse: 0.35395244Epoch: 10 train_mse: 0.35202423Epoch: 10 train_mse: 0.35032892Epoch: 10 train_mse: 0.349968Epoch: 10 train_mse: 0.35276034Epoch: 10 train_mse: 0.3522382Epoch: 10 train_mse: 0.35441136Epoch: 10 train_mse: 0.36011663Epoch: 10 train_mse: 0.3593454Epoch: 10 train_mse: 0.357922Epoch: 10 train_mse: 0.35618925Epoch: 10 train_mse: 0.35509747Epoch: 10 train_mse: 0.35439137Epoch: 10 train_mse: 0.35280028Epoch: 10 train_mse: 0.3518352Epoch: 10 train_mse: 0.35134202Epoch: 10 train_mse: 0.3502555Epoch: 10 train_mse: 0.34825528Epoch: 10 train_mse: 0.34911042Epoch: 10 train_mse: 0.34846Epoch: 10 train_mse: 0.3494072Epoch: 10 train_mse: 0.35064954Epoch: 10 train_mse: 0.3505359Epoch: 10 train_mse: 0.3495232Epoch: 10 train_mse: 0.35162732Epoch: 10 train_mse: 0.35065487Epoch: 10 train_mse: 0.34989777Epoch: 10 train_mse: 0.3523259Epoch: 10 train_mse: 0.3513487Epoch: 10 train_mse: 0.35031566Epoch: 10 train_mse: 0.34929198Epoch: 10 train_mse: 0.34800205Epoch: 10 train_mse: 0.34827462Epoch: 10 train_mse: 0.34962696Epoch: 10 train_mse: 0.34927633Epoch: 10 train_mse: 0.34963888Epoch: 10 train_mse: 0.3487034Epoch: 10 train_mse: 0.34848166Epoch: 10 train_mse: 0.34770042Epoch: 10 train_mse: 0.34738043Epoch: 10 train_mse: 0.34899837Epoch: 10 train_mse: 0.3504016Epoch: 10 train_mse: 0.351881Epoch: 10 train_mse: 0.35069254Epoch: 10 train_mse: 0.3506363Epoch: 10 train_mse: 0.3506785Epoch: 10 train_mse: 0.35229915Epoch: 10 train_mse: 0.35264322Epoch: 10 train_mse: 0.35521087Epoch: 10 train_mse: 0.35506225Epoch: 10 train_mse: 0.35504666Epoch: 10 train_mse: 0.35658225Epoch: 10 train_mse: 0.35527813Epoch: 10 train_mse: 0.35424516Epoch: 10 train_mse: 0.35344177Epoch: 10 train_mse: 0.3520001Epoch: 10 train_mse: 0.35186622Epoch: 10 train_mse: 0.35189438Epoch: 10 train_mse: 0.353375Epoch: 10 train_mse: 0.35305244Epoch: 10 train_mse: 0.35221484Epoch: 10 train_mse: 0.3534239Epoch: 10 train_mse: 0.3544941Epoch: 10 train_mse: 0.35492933Epoch: 10 train_mse: 0.3547478Epoch: 10 train_mse: 0.3542259Epoch: 10 train_mse: 0.35334083Epoch: 10 train_mse: 0.35240477Epoch: 10 train_mse: 0.35290366Epoch: 10 train_mse: 0.35272682Epoch: 10 train_mse: 0.35233852Epoch: 10 train_mse: 0.3522451Epoch: 10 train_mse: 0.3524232Epoch: 10 train_mse: 0.35424003Epoch: 10 train_mse: 0.35405418Epoch: 10 train_mse: 0.3548368Epoch: 10 train_mse: 0.35478264Epoch: 10 train_mse: 0.35561845Epoch: 10 train_mse: 0.35682908Epoch: 10 train_mse: 0.35775357Epoch: 10 train_mse: 0.356434Epoch: 10 train_mse: 0.35702562Epoch: 10 train_mse: 0.3581964Epoch: 10 train_mse: 0.35725218Epoch: 10 train_mse: 0.35786858Epoch: 10 train_mse: 0.35677007Epoch: 10 train_mse: 0.35617885Epoch: 10 train_mse: 0.358364Epoch: 10 train_mse: 0.35716683Epoch: 10 train_mse: 0.35868275Epoch: 10 train_mse: 0.35903585Epoch: 10 train_mse: 0.35824704Epoch: 10 train_mse: 0.35933772Epoch: 10 train_mse: 0.3591942Epoch: 10 train_mse: 0.3589269Epoch: 10 train_mse: 0.35834765Epoch: 10 train_mse: 0.3580666Epoch: 10 train_mse: 0.3591695Epoch: 10 train_mse: 0.36125258Epoch: 10 train_mse: 0.36043066Epoch: 10 train_mse: 0.3601244Epoch: 10 train_mse: 0.3596525Epoch: 10 train_mse: 0.3605018Epoch: 10 train_mse: 0.35994428Epoch: 10 train_mse: 0.35951215Epoch: 10 train_mse: 0.35916668Epoch: 10 train_mse: 0.35858762Epoch: 10 train_mse: 0.36093858Epoch: 10 train_mse: 0.3607067Epoch: 10 train_mse: 0.3607972Epoch: 10 train_mse: 0.35998076Epoch: 10 train_mse: 0.3600983Epoch: 10 train_mse: 0.35975057Epoch: 10 train_mse: 0.35898983Epoch: 10 train_mse: 0.3597952Epoch: 10 train_mse: 0.3602199Epoch: 10 train_mse: 0.359807Epoch: 10 train_mse: 0.35971698Epoch: 10 train_mse: 0.35988513Epoch: 10 train_mse: 0.35983974Epoch: 10 train_mse: 0.35906303Epoch: 10 train_mse: 0.3597777Epoch: 10 train_mse: 0.35978857Epoch: 10 train_mse: 0.35935742Epoch: 10 train_mse: 0.35860652Epoch: 10 train_mse: 0.35746893Epoch: 10 train_mse: 0.357423Epoch: 10 train_mse: 0.35677183Epoch: 10 train_mse: 0.35625067Epoch: 10 train_mse: 0.35603696Epoch: 10 train_mse: 0.3564029Epoch: 10 train_mse: 0.3559325Epoch: 10 train_mse: 0.355582Epoch: 10 train_mse: 0.35708788Epoch: 10 train_mse: 0.3566076Epoch: 10 train_mse: 0.35670492Epoch: 10 train_mse: 0.35658133Epoch: 10 train_mse: 0.3558323Epoch: 10 train_mse: 0.35516542Epoch: 10 train_mse: 0.35490543Epoch: 10 train_mse: 0.3550282Epoch: 10 train_mse: 0.35512772Epoch: 10 train_mse: 0.35457596Epoch: 10 train_mse: 0.3536684Epoch: 10 train_mse: 0.35423937Epoch: 10 train_mse: 0.35476083Epoch: 10 train_mse: 0.3578353Epoch: 10 train_mse: 0.3580198Epoch: 10 train_mse: 0.35726458Epoch: 10 train_mse: 0.35735554Epoch: 10 train_mse: 0.3569943Epoch: 10 train_mse: 0.35643274Epoch: 10 train_mse: 0.35662746Epoch: 10 train_mse: 0.35668352Epoch: 10 train_mse: 0.35671458Epoch: 10 train_mse: 0.35586843Epoch: 10 train_mse: 0.3561193Epoch: 10 train_mse: 0.3569202Epoch: 10 train_mse: 0.3569336Epoch: 10 train_mse: 0.35681403Epoch: 10 train_mse: 0.3572236Epoch: 10 train_mse: 0.35777247Epoch: 10 train_mse: 0.35809416Epoch: 10 train_mse: 0.35840747Epoch: 10 train_mse: 0.35882667Epoch: 10 train_mse: 0.35811907Epoch: 10 train_mse: 0.3583096Epoch: 10 train_mse: 0.35824442Epoch: 10 train_mse: 0.3577388Epoch: 10 train_mse: 0.3585146Epoch: 10 train_mse: 0.35854366Epoch: 10 train_mse: 0.35858953Epoch: 10 train_mse: 0.35876885Epoch: 10 train_mse: 0.3586539"
     ]
    },
    {
     "name": "stdout",
     "output_type": "stream",
     "text": [
      "Epoch: 10 train_mse: 0.35896692Epoch: 10 train_mse: 0.35875034Epoch: 10 train_mse: 0.35913047Epoch: 10 train_mse: 0.35892963Epoch: 10 train_mse: 0.35961092Epoch: 10 train_mse: 0.36259803Epoch: 10 train_mse: 0.3636882Epoch: 10 train_mse: 0.3633092Epoch: 10 train_mse: 0.3639723Epoch: 10 train_mse: 0.3636303Epoch: 10 train_mse: 0.36375156Epoch: 10 train_mse: 0.36374563Epoch: 10 train_mse: 0.363231Epoch: 10 train_mse: 0.36527923Epoch: 10 train_mse: 0.36539492Epoch: 10 train_mse: 0.36505258Epoch: 10 train_mse: 0.36529207Epoch: 10 train_mse: 0.36594862Epoch: 10 train_mse: 0.36565268Epoch: 10 train_mse: 0.36557928Epoch: 10 train_mse: 0.36546388Epoch: 10 train_mse: 0.36518213Epoch: 10 train_mse: 0.36498564Epoch: 10 train_mse: 0.36527622Epoch: 10 train_mse: 0.36474985Epoch: 10 train_mse: 0.36507887Epoch: 10 train_mse: 0.36489967Epoch: 10 train_mse: 0.36448804Epoch: 10 train_mse: 0.36472818Epoch: 10 train_mse: 0.3649404Epoch: 10 train_mse: 0.36504844Epoch: 10 train_mse: 0.3647849Epoch: 10 train_mse: 0.3643601Epoch: 10 train_mse: 0.3637165Epoch: 10 train_mse: 0.3631703Epoch: 10 train_mse: 0.36342436Epoch: 10 train_mse: 0.3637743Epoch: 10 train_mse: 0.36421356Epoch: 10 train_mse: 0.3639855Epoch: 10 train_mse: 0.36373723Epoch: 10 train_mse: 0.36319372Epoch: 10 train_mse: 0.3634322Epoch: 10 train_mse: 0.3629849Epoch: 10 train_mse: 0.3636754Epoch: 10 train_mse: 0.36369506Epoch: 10 train_mse: 0.36327773Epoch: 10 train_mse: 0.3636563Epoch: 10 train_mse: 0.36392027Epoch: 10 train_mse: 0.36374348Epoch: 10 train_mse: 0.36334744Epoch: 10 train_mse: 0.36331287Epoch: 10 train_mse: 0.36394593Epoch: 10 train_mse: 0.3651607Epoch: 10 train_mse: 0.3653093Epoch: 10 train_mse: 0.36557198Epoch: 10 train_mse: 0.3650775Epoch: 10 train_mse: 0.36479706Epoch: 10 train_mse: 0.36397487Epoch: 10 train_mse: 0.36355433Epoch: 10 train_mse: 0.36304575Epoch: 10 train_mse: 0.36302575Epoch: 10 train_mse: 0.36278355Epoch: 10 train_mse: 0.3626528Epoch: 10 train_mse: 0.36269015Epoch: 10 train_mse: 0.3623331Epoch: 10 train_mse: 0.36215872Epoch: 10 train_mse: 0.3621362Epoch: 10 train_mse: 0.3619924Epoch: 10 train_mse: 0.3624687Epoch: 10 train_mse: 0.3622083Epoch: 10 train_mse: 0.3625141Epoch: 10 train_mse: 0.36239436Epoch: 10 train_mse: 0.3625345Epoch: 10 train_mse: 0.3630177Epoch: 10 train_mse: 0.3625206Epoch: 10 train_mse: 0.36254343Epoch: 10 train_mse: 0.36271936Epoch: 10 train_mse: 0.3626477Epoch: 10 train_mse: 0.3624791Epoch: 10 train_mse: 0.36287588Epoch: 10 train_mse: 0.36252Epoch: 10 train_mse: 0.3624348Epoch: 10 train_mse: 0.36207885Epoch: 10 train_mse: 0.36173904Epoch: 10 train_mse: 0.36152124Epoch: 10 train_mse: 0.36112815Epoch: 10 train_mse: 0.36083755Epoch: 10 train_mse: 0.36060986Epoch: 10 train_mse: 0.36022606Epoch: 10 train_mse: 0.36072874\t valid mse: 0.37128615\n"
     ]
    },
    {
     "name": "stdout",
     "output_type": "stream",
     "text": [
      "Epoch: 11 train_mse: 0.23383345Epoch: 11 train_mse: 0.30313748Epoch: 11 train_mse: 0.25866148Epoch: 11 train_mse: 0.3320524Epoch: 11 train_mse: 0.3771435Epoch: 11 train_mse: 0.36625877Epoch: 11 train_mse: 0.3554977Epoch: 11 train_mse: 0.38094795Epoch: 11 train_mse: 0.37130728Epoch: 11 train_mse: 0.37354022Epoch: 11 train_mse: 0.38644493Epoch: 11 train_mse: 0.37493452Epoch: 11 train_mse: 0.37947708Epoch: 11 train_mse: 0.38345692Epoch: 11 train_mse: 0.38908115Epoch: 11 train_mse: 0.4020319Epoch: 11 train_mse: 0.39138055Epoch: 11 train_mse: 0.39842188Epoch: 11 train_mse: 0.39018688Epoch: 11 train_mse: 0.3835296Epoch: 11 train_mse: 0.37305903Epoch: 11 train_mse: 0.36692724Epoch: 11 train_mse: 0.35935244Epoch: 11 train_mse: 0.35157618Epoch: 11 train_mse: 0.34704223Epoch: 11 train_mse: 0.34459192Epoch: 11 train_mse: 0.3486478Epoch: 11 train_mse: 0.34674424Epoch: 11 train_mse: 0.35215273Epoch: 11 train_mse: 0.35211235Epoch: 11 train_mse: 0.3619149Epoch: 11 train_mse: 0.36599046Epoch: 11 train_mse: 0.37572262Epoch: 11 train_mse: 0.37065563Epoch: 11 train_mse: 0.36670458Epoch: 11 train_mse: 0.37214124Epoch: 11 train_mse: 0.3645195Epoch: 11 train_mse: 0.3639349Epoch: 11 train_mse: 0.3605264Epoch: 11 train_mse: 0.36722767Epoch: 11 train_mse: 0.36321148Epoch: 11 train_mse: 0.36327878Epoch: 11 train_mse: 0.360576Epoch: 11 train_mse: 0.35958815Epoch: 11 train_mse: 0.35727632Epoch: 11 train_mse: 0.35929108Epoch: 11 train_mse: 0.35827073Epoch: 11 train_mse: 0.3626804Epoch: 11 train_mse: 0.36359867Epoch: 11 train_mse: 0.36194825Epoch: 11 train_mse: 0.3591718Epoch: 11 train_mse: 0.35911098Epoch: 11 train_mse: 0.3582402Epoch: 11 train_mse: 0.36785585Epoch: 11 train_mse: 0.36855218Epoch: 11 train_mse: 0.37043974Epoch: 11 train_mse: 0.3693074Epoch: 11 train_mse: 0.37012988Epoch: 11 train_mse: 0.36966094Epoch: 11 train_mse: 0.366353Epoch: 11 train_mse: 0.3633221Epoch: 11 train_mse: 0.36324126Epoch: 11 train_mse: 0.36357316Epoch: 11 train_mse: 0.36484405Epoch: 11 train_mse: 0.3684518Epoch: 11 train_mse: 0.36638013Epoch: 11 train_mse: 0.3650439Epoch: 11 train_mse: 0.3680348Epoch: 11 train_mse: 0.36867878Epoch: 11 train_mse: 0.37437248Epoch: 11 train_mse: 0.37470517Epoch: 11 train_mse: 0.37531602Epoch: 11 train_mse: 0.374424Epoch: 11 train_mse: 0.3726661Epoch: 11 train_mse: 0.37380004Epoch: 11 train_mse: 0.3743237Epoch: 11 train_mse: 0.37296128Epoch: 11 train_mse: 0.37236485Epoch: 11 train_mse: 0.37210283Epoch: 11 train_mse: 0.37048095Epoch: 11 train_mse: 0.37122238Epoch: 11 train_mse: 0.3709244Epoch: 11 train_mse: 0.3691841Epoch: 11 train_mse: 0.36914316Epoch: 11 train_mse: 0.36722904Epoch: 11 train_mse: 0.36621287Epoch: 11 train_mse: 0.3635895Epoch: 11 train_mse: 0.363574Epoch: 11 train_mse: 0.36492413Epoch: 11 train_mse: 0.36640772Epoch: 11 train_mse: 0.36508325Epoch: 11 train_mse: 0.36400476Epoch: 11 train_mse: 0.3643937Epoch: 11 train_mse: 0.36479712Epoch: 11 train_mse: 0.3644084Epoch: 11 train_mse: 0.36539206Epoch: 11 train_mse: 0.36476386Epoch: 11 train_mse: 0.36550677Epoch: 11 train_mse: 0.36469322Epoch: 11 train_mse: 0.36324406Epoch: 11 train_mse: 0.36585137Epoch: 11 train_mse: 0.3658867Epoch: 11 train_mse: 0.36333102Epoch: 11 train_mse: 0.36353227Epoch: 11 train_mse: 0.3634036Epoch: 11 train_mse: 0.36221206Epoch: 11 train_mse: 0.3597946Epoch: 11 train_mse: 0.3579028Epoch: 11 train_mse: 0.35705784Epoch: 11 train_mse: 0.35662505Epoch: 11 train_mse: 0.35779417Epoch: 11 train_mse: 0.35983258Epoch: 11 train_mse: 0.3579946Epoch: 11 train_mse: 0.35716978Epoch: 11 train_mse: 0.35589072Epoch: 11 train_mse: 0.35588437Epoch: 11 train_mse: 0.35517564Epoch: 11 train_mse: 0.35603064Epoch: 11 train_mse: 0.35408857Epoch: 11 train_mse: 0.35304403Epoch: 11 train_mse: 0.35620955Epoch: 11 train_mse: 0.35614458Epoch: 11 train_mse: 0.3575162Epoch: 11 train_mse: 0.35811636Epoch: 11 train_mse: 0.35763708Epoch: 11 train_mse: 0.35943916Epoch: 11 train_mse: 0.35954806Epoch: 11 train_mse: 0.3609502Epoch: 11 train_mse: 0.3652194Epoch: 11 train_mse: 0.3646862Epoch: 11 train_mse: 0.36590695Epoch: 11 train_mse: 0.36433464Epoch: 11 train_mse: 0.36435315Epoch: 11 train_mse: 0.3635253Epoch: 11 train_mse: 0.36382532Epoch: 11 train_mse: 0.36309886Epoch: 11 train_mse: 0.36265865Epoch: 11 train_mse: 0.36613926Epoch: 11 train_mse: 0.36467794Epoch: 11 train_mse: 0.3629497Epoch: 11 train_mse: 0.3628034Epoch: 11 train_mse: 0.36251763Epoch: 11 train_mse: 0.36123282Epoch: 11 train_mse: 0.36122802Epoch: 11 train_mse: 0.36145702Epoch: 11 train_mse: 0.36139426Epoch: 11 train_mse: 0.360545Epoch: 11 train_mse: 0.3614433Epoch: 11 train_mse: 0.3601749Epoch: 11 train_mse: 0.35963622Epoch: 11 train_mse: 0.35948303Epoch: 11 train_mse: 0.36007744Epoch: 11 train_mse: 0.35939497Epoch: 11 train_mse: 0.3595457Epoch: 11 train_mse: 0.35938823Epoch: 11 train_mse: 0.35883716Epoch: 11 train_mse: 0.35875937Epoch: 11 train_mse: 0.35863698Epoch: 11 train_mse: 0.35791698Epoch: 11 train_mse: 0.3573531Epoch: 11 train_mse: 0.3566458Epoch: 11 train_mse: 0.35728487Epoch: 11 train_mse: 0.3574953Epoch: 11 train_mse: 0.35819995Epoch: 11 train_mse: 0.3579535Epoch: 11 train_mse: 0.3577795Epoch: 11 train_mse: 0.3572846Epoch: 11 train_mse: 0.3565207Epoch: 11 train_mse: 0.35634518Epoch: 11 train_mse: 0.35712057Epoch: 11 train_mse: 0.35630408Epoch: 11 train_mse: 0.35588497Epoch: 11 train_mse: 0.35505456Epoch: 11 train_mse: 0.35436186Epoch: 11 train_mse: 0.3551137Epoch: 11 train_mse: 0.35430443Epoch: 11 train_mse: 0.35431147Epoch: 11 train_mse: 0.35326347Epoch: 11 train_mse: 0.35333952Epoch: 11 train_mse: 0.3531058Epoch: 11 train_mse: 0.35415894Epoch: 11 train_mse: 0.35472685Epoch: 11 train_mse: 0.35479715Epoch: 11 train_mse: 0.3557896Epoch: 11 train_mse: 0.35593835Epoch: 11 train_mse: 0.35500857Epoch: 11 train_mse: 0.35415927Epoch: 11 train_mse: 0.35323605Epoch: 11 train_mse: 0.35347205Epoch: 11 train_mse: 0.35317242Epoch: 11 train_mse: 0.35212696Epoch: 11 train_mse: 0.3524625Epoch: 11 train_mse: 0.3542321Epoch: 11 train_mse: 0.3535246Epoch: 11 train_mse: 0.35332093Epoch: 11 train_mse: 0.35348248Epoch: 11 train_mse: 0.3534149Epoch: 11 train_mse: 0.35284993Epoch: 11 train_mse: 0.3524553Epoch: 11 train_mse: 0.35157466Epoch: 11 train_mse: 0.3509351Epoch: 11 train_mse: 0.35084096Epoch: 11 train_mse: 0.3504446Epoch: 11 train_mse: 0.35009047Epoch: 11 train_mse: 0.34967148Epoch: 11 train_mse: 0.34934345Epoch: 11 train_mse: 0.34891433Epoch: 11 train_mse: 0.34884065Epoch: 11 train_mse: 0.34803596Epoch: 11 train_mse: 0.34762436Epoch: 11 train_mse: 0.34804937Epoch: 11 train_mse: 0.34814042Epoch: 11 train_mse: 0.34753987Epoch: 11 train_mse: 0.34666663Epoch: 11 train_mse: 0.34681433Epoch: 11 train_mse: 0.34688962Epoch: 11 train_mse: 0.34629682Epoch: 11 train_mse: 0.34724852Epoch: 11 train_mse: 0.34681413Epoch: 11 train_mse: 0.34635818Epoch: 11 train_mse: 0.34635082Epoch: 11 train_mse: 0.35000095Epoch: 11 train_mse: 0.3491261Epoch: 11 train_mse: 0.3483445Epoch: 11 train_mse: 0.34919262Epoch: 11 train_mse: 0.34900072Epoch: 11 train_mse: 0.3492503Epoch: 11 train_mse: 0.34890726Epoch: 11 train_mse: 0.35027182Epoch: 11 train_mse: 0.34957603Epoch: 11 train_mse: 0.34908023Epoch: 11 train_mse: 0.3488423Epoch: 11 train_mse: 0.34837586Epoch: 11 train_mse: 0.3477688Epoch: 11 train_mse: 0.34757182Epoch: 11 train_mse: 0.34770927Epoch: 11 train_mse: 0.3482238Epoch: 11 train_mse: 0.3488782Epoch: 11 train_mse: 0.34893292Epoch: 11 train_mse: 0.34905767Epoch: 11 train_mse: 0.34858647Epoch: 11 train_mse: 0.34874418Epoch: 11 train_mse: 0.348053Epoch: 11 train_mse: 0.3485858Epoch: 11 train_mse: 0.34898853Epoch: 11 train_mse: 0.34816158Epoch: 11 train_mse: 0.34769502Epoch: 11 train_mse: 0.34887967Epoch: 11 train_mse: 0.3491253Epoch: 11 train_mse: 0.34989232Epoch: 11 train_mse: 0.3494662Epoch: 11 train_mse: 0.349505Epoch: 11 train_mse: 0.34883663Epoch: 11 train_mse: 0.34942394Epoch: 11 train_mse: 0.34889922Epoch: 11 train_mse: 0.34867766Epoch: 11 train_mse: 0.34807035Epoch: 11 train_mse: 0.3503003Epoch: 11 train_mse: 0.35092035Epoch: 11 train_mse: 0.35124803Epoch: 11 train_mse: 0.35111785Epoch: 11 train_mse: 0.35074407Epoch: 11 train_mse: 0.3500362Epoch: 11 train_mse: 0.34995443Epoch: 11 train_mse: 0.3507188Epoch: 11 train_mse: 0.35088584Epoch: 11 train_mse: 0.35036108Epoch: 11 train_mse: 0.34990266Epoch: 11 train_mse: 0.3503156Epoch: 11 train_mse: 0.35046232Epoch: 11 train_mse: 0.35004404Epoch: 11 train_mse: 0.35023072Epoch: 11 train_mse: 0.3506381Epoch: 11 train_mse: 0.3502307Epoch: 11 train_mse: 0.34992665Epoch: 11 train_mse: 0.35018337Epoch: 11 train_mse: 0.3510159"
     ]
    },
    {
     "name": "stdout",
     "output_type": "stream",
     "text": [
      "Epoch: 11 train_mse: 0.35106677Epoch: 11 train_mse: 0.35052148Epoch: 11 train_mse: 0.3498159Epoch: 11 train_mse: 0.34925124Epoch: 11 train_mse: 0.34906983Epoch: 11 train_mse: 0.34910792Epoch: 11 train_mse: 0.34889138Epoch: 11 train_mse: 0.34839666Epoch: 11 train_mse: 0.34823722Epoch: 11 train_mse: 0.34843Epoch: 11 train_mse: 0.34892496Epoch: 11 train_mse: 0.34853846Epoch: 11 train_mse: 0.3482659Epoch: 11 train_mse: 0.3484527Epoch: 11 train_mse: 0.3486151Epoch: 11 train_mse: 0.34827307Epoch: 11 train_mse: 0.34796822Epoch: 11 train_mse: 0.348994Epoch: 11 train_mse: 0.34916136Epoch: 11 train_mse: 0.34928122Epoch: 11 train_mse: 0.34861654Epoch: 11 train_mse: 0.34846526Epoch: 11 train_mse: 0.34806937Epoch: 11 train_mse: 0.34796914Epoch: 11 train_mse: 0.34751427Epoch: 11 train_mse: 0.3506374Epoch: 11 train_mse: 0.35058954Epoch: 11 train_mse: 0.3515109Epoch: 11 train_mse: 0.35127193Epoch: 11 train_mse: 0.3512527Epoch: 11 train_mse: 0.35126224Epoch: 11 train_mse: 0.35079274Epoch: 11 train_mse: 0.35033298Epoch: 11 train_mse: 0.35027656Epoch: 11 train_mse: 0.35022306Epoch: 11 train_mse: 0.35074592Epoch: 11 train_mse: 0.3507536Epoch: 11 train_mse: 0.3505265Epoch: 11 train_mse: 0.3508815Epoch: 11 train_mse: 0.35036656Epoch: 11 train_mse: 0.3498131Epoch: 11 train_mse: 0.34941366Epoch: 11 train_mse: 0.3492976Epoch: 11 train_mse: 0.3498664Epoch: 11 train_mse: 0.34947765Epoch: 11 train_mse: 0.34929216Epoch: 11 train_mse: 0.34873194Epoch: 11 train_mse: 0.34813955Epoch: 11 train_mse: 0.3479131Epoch: 11 train_mse: 0.3498165Epoch: 11 train_mse: 0.34992775Epoch: 11 train_mse: 0.35046506Epoch: 11 train_mse: 0.34971038Epoch: 11 train_mse: 0.34999424Epoch: 11 train_mse: 0.3499122Epoch: 11 train_mse: 0.349896Epoch: 11 train_mse: 0.34954527Epoch: 11 train_mse: 0.349135Epoch: 11 train_mse: 0.3505929Epoch: 11 train_mse: 0.35060582Epoch: 11 train_mse: 0.3510696Epoch: 11 train_mse: 0.3509625Epoch: 11 train_mse: 0.35050216Epoch: 11 train_mse: 0.35037446Epoch: 11 train_mse: 0.3498274Epoch: 11 train_mse: 0.34991762Epoch: 11 train_mse: 0.3497858Epoch: 11 train_mse: 0.34976807Epoch: 11 train_mse: 0.35007006Epoch: 11 train_mse: 0.3499451Epoch: 11 train_mse: 0.35028914Epoch: 11 train_mse: 0.35142323Epoch: 11 train_mse: 0.3507751Epoch: 11 train_mse: 0.35040215Epoch: 11 train_mse: 0.35053512Epoch: 11 train_mse: 0.35044163Epoch: 11 train_mse: 0.35055965Epoch: 11 train_mse: 0.35043594Epoch: 11 train_mse: 0.35037258Epoch: 11 train_mse: 0.35048506Epoch: 11 train_mse: 0.35012275Epoch: 11 train_mse: 0.34951836Epoch: 11 train_mse: 0.34941405Epoch: 11 train_mse: 0.3494233Epoch: 11 train_mse: 0.34931684\t valid mse: 0.3618951\n"
     ]
    },
    {
     "name": "stdout",
     "output_type": "stream",
     "text": [
      "Epoch: 12 train_mse: 0.53948975Epoch: 12 train_mse: 0.42407346Epoch: 12 train_mse: 0.4323988Epoch: 12 train_mse: 0.42893112Epoch: 12 train_mse: 0.44834965Epoch: 12 train_mse: 0.42178604Epoch: 12 train_mse: 0.38728347Epoch: 12 train_mse: 0.38740605Epoch: 12 train_mse: 0.3628934Epoch: 12 train_mse: 0.38335997Epoch: 12 train_mse: 0.37823066Epoch: 12 train_mse: 0.38013926Epoch: 12 train_mse: 0.36010134Epoch: 12 train_mse: 0.35474667Epoch: 12 train_mse: 0.3467577Epoch: 12 train_mse: 0.33819318Epoch: 12 train_mse: 0.34000784Epoch: 12 train_mse: 0.33851773Epoch: 12 train_mse: 0.33448067Epoch: 12 train_mse: 0.34139687Epoch: 12 train_mse: 0.3426057Epoch: 12 train_mse: 0.34004295Epoch: 12 train_mse: 0.33900103Epoch: 12 train_mse: 0.34348598Epoch: 12 train_mse: 0.34306213Epoch: 12 train_mse: 0.349065Epoch: 12 train_mse: 0.3495264Epoch: 12 train_mse: 0.34403247Epoch: 12 train_mse: 0.33851966Epoch: 12 train_mse: 0.3344995Epoch: 12 train_mse: 0.3364491Epoch: 12 train_mse: 0.32940948Epoch: 12 train_mse: 0.33028597Epoch: 12 train_mse: 0.3337208Epoch: 12 train_mse: 0.32803014Epoch: 12 train_mse: 0.32518065Epoch: 12 train_mse: 0.32307538Epoch: 12 train_mse: 0.32074317Epoch: 12 train_mse: 0.32096133Epoch: 12 train_mse: 0.32246706Epoch: 12 train_mse: 0.31831175Epoch: 12 train_mse: 0.32516035Epoch: 12 train_mse: 0.32429174Epoch: 12 train_mse: 0.32339823Epoch: 12 train_mse: 0.32186982Epoch: 12 train_mse: 0.3241997Epoch: 12 train_mse: 0.3221088Epoch: 12 train_mse: 0.31991753Epoch: 12 train_mse: 0.3216128Epoch: 12 train_mse: 0.32191825Epoch: 12 train_mse: 0.31945667Epoch: 12 train_mse: 0.3194054Epoch: 12 train_mse: 0.31719014Epoch: 12 train_mse: 0.31577173Epoch: 12 train_mse: 0.31782848Epoch: 12 train_mse: 0.3169078Epoch: 12 train_mse: 0.32097062Epoch: 12 train_mse: 0.3214829Epoch: 12 train_mse: 0.32544023Epoch: 12 train_mse: 0.32475358Epoch: 12 train_mse: 0.32226688Epoch: 12 train_mse: 0.32115084Epoch: 12 train_mse: 0.32810456Epoch: 12 train_mse: 0.32822108Epoch: 12 train_mse: 0.3271475Epoch: 12 train_mse: 0.3240035Epoch: 12 train_mse: 0.32299635Epoch: 12 train_mse: 0.32425493Epoch: 12 train_mse: 0.32263178Epoch: 12 train_mse: 0.3230461Epoch: 12 train_mse: 0.32308203Epoch: 12 train_mse: 0.32551646Epoch: 12 train_mse: 0.3237264Epoch: 12 train_mse: 0.32394817Epoch: 12 train_mse: 0.3215246Epoch: 12 train_mse: 0.32619244Epoch: 12 train_mse: 0.32933545Epoch: 12 train_mse: 0.32795084Epoch: 12 train_mse: 0.330325Epoch: 12 train_mse: 0.33083063Epoch: 12 train_mse: 0.32877132Epoch: 12 train_mse: 0.32734117Epoch: 12 train_mse: 0.32674003Epoch: 12 train_mse: 0.32878917Epoch: 12 train_mse: 0.32892087Epoch: 12 train_mse: 0.32826903Epoch: 12 train_mse: 0.32868448Epoch: 12 train_mse: 0.32780674Epoch: 12 train_mse: 0.32666978Epoch: 12 train_mse: 0.32538384Epoch: 12 train_mse: 0.3249768Epoch: 12 train_mse: 0.32344Epoch: 12 train_mse: 0.3232381Epoch: 12 train_mse: 0.32538617Epoch: 12 train_mse: 0.3246213Epoch: 12 train_mse: 0.32528043Epoch: 12 train_mse: 0.32509562Epoch: 12 train_mse: 0.32415956Epoch: 12 train_mse: 0.32460105Epoch: 12 train_mse: 0.32511017Epoch: 12 train_mse: 0.32863754Epoch: 12 train_mse: 0.3276875Epoch: 12 train_mse: 0.32733077Epoch: 12 train_mse: 0.32835972Epoch: 12 train_mse: 0.32751143Epoch: 12 train_mse: 0.3278871Epoch: 12 train_mse: 0.32765546Epoch: 12 train_mse: 0.32885855Epoch: 12 train_mse: 0.32729Epoch: 12 train_mse: 0.32855177Epoch: 12 train_mse: 0.32813144Epoch: 12 train_mse: 0.32706258Epoch: 12 train_mse: 0.32690358Epoch: 12 train_mse: 0.32572874Epoch: 12 train_mse: 0.32691312Epoch: 12 train_mse: 0.32734087Epoch: 12 train_mse: 0.32791695Epoch: 12 train_mse: 0.3263366Epoch: 12 train_mse: 0.33096188Epoch: 12 train_mse: 0.33109108Epoch: 12 train_mse: 0.33214915Epoch: 12 train_mse: 0.33107612Epoch: 12 train_mse: 0.32947758Epoch: 12 train_mse: 0.32825974Epoch: 12 train_mse: 0.32933742Epoch: 12 train_mse: 0.32858998Epoch: 12 train_mse: 0.330157Epoch: 12 train_mse: 0.32911944Epoch: 12 train_mse: 0.33089882Epoch: 12 train_mse: 0.3311332Epoch: 12 train_mse: 0.33017835Epoch: 12 train_mse: 0.33291098Epoch: 12 train_mse: 0.3321003Epoch: 12 train_mse: 0.33270955Epoch: 12 train_mse: 0.33199883Epoch: 12 train_mse: 0.33103254Epoch: 12 train_mse: 0.32967538Epoch: 12 train_mse: 0.32931113Epoch: 12 train_mse: 0.32840896Epoch: 12 train_mse: 0.32762966Epoch: 12 train_mse: 0.32799613Epoch: 12 train_mse: 0.32691306Epoch: 12 train_mse: 0.32725415Epoch: 12 train_mse: 0.3283057Epoch: 12 train_mse: 0.32704532Epoch: 12 train_mse: 0.32722953Epoch: 12 train_mse: 0.32949358Epoch: 12 train_mse: 0.330264Epoch: 12 train_mse: 0.3308505Epoch: 12 train_mse: 0.3302618Epoch: 12 train_mse: 0.33176276Epoch: 12 train_mse: 0.33165503Epoch: 12 train_mse: 0.33375388Epoch: 12 train_mse: 0.33312923Epoch: 12 train_mse: 0.33244896Epoch: 12 train_mse: 0.33215365Epoch: 12 train_mse: 0.33091676Epoch: 12 train_mse: 0.33047596Epoch: 12 train_mse: 0.32937825Epoch: 12 train_mse: 0.3288102Epoch: 12 train_mse: 0.32757655Epoch: 12 train_mse: 0.3269819Epoch: 12 train_mse: 0.3271933Epoch: 12 train_mse: 0.32685736Epoch: 12 train_mse: 0.3272508Epoch: 12 train_mse: 0.3265479Epoch: 12 train_mse: 0.32554674Epoch: 12 train_mse: 0.32602352Epoch: 12 train_mse: 0.32612872Epoch: 12 train_mse: 0.32856065Epoch: 12 train_mse: 0.3285782Epoch: 12 train_mse: 0.32823598Epoch: 12 train_mse: 0.32909495Epoch: 12 train_mse: 0.3291136Epoch: 12 train_mse: 0.33010885Epoch: 12 train_mse: 0.3295779Epoch: 12 train_mse: 0.32886556Epoch: 12 train_mse: 0.33009312Epoch: 12 train_mse: 0.3317208Epoch: 12 train_mse: 0.33123413Epoch: 12 train_mse: 0.33106926Epoch: 12 train_mse: 0.33109906Epoch: 12 train_mse: 0.3306065Epoch: 12 train_mse: 0.33006668Epoch: 12 train_mse: 0.32945496Epoch: 12 train_mse: 0.32997528Epoch: 12 train_mse: 0.33095217Epoch: 12 train_mse: 0.33271572Epoch: 12 train_mse: 0.33256328Epoch: 12 train_mse: 0.332413Epoch: 12 train_mse: 0.33289838Epoch: 12 train_mse: 0.33328533Epoch: 12 train_mse: 0.33325392Epoch: 12 train_mse: 0.3330367Epoch: 12 train_mse: 0.3327757Epoch: 12 train_mse: 0.3324541Epoch: 12 train_mse: 0.3320655Epoch: 12 train_mse: 0.33131328Epoch: 12 train_mse: 0.33187214Epoch: 12 train_mse: 0.3314097Epoch: 12 train_mse: 0.33240426Epoch: 12 train_mse: 0.33402178Epoch: 12 train_mse: 0.33534992Epoch: 12 train_mse: 0.33571616Epoch: 12 train_mse: 0.33657852Epoch: 12 train_mse: 0.33637998Epoch: 12 train_mse: 0.3354427Epoch: 12 train_mse: 0.33634454Epoch: 12 train_mse: 0.33774912Epoch: 12 train_mse: 0.33675098Epoch: 12 train_mse: 0.3364243Epoch: 12 train_mse: 0.33619618Epoch: 12 train_mse: 0.33694425Epoch: 12 train_mse: 0.33617514Epoch: 12 train_mse: 0.3372578Epoch: 12 train_mse: 0.3376824Epoch: 12 train_mse: 0.33752912Epoch: 12 train_mse: 0.33805406Epoch: 12 train_mse: 0.3377885Epoch: 12 train_mse: 0.3377191Epoch: 12 train_mse: 0.33776763Epoch: 12 train_mse: 0.337741Epoch: 12 train_mse: 0.3374925Epoch: 12 train_mse: 0.33997458Epoch: 12 train_mse: 0.34071222Epoch: 12 train_mse: 0.3403275Epoch: 12 train_mse: 0.3406146Epoch: 12 train_mse: 0.34044546Epoch: 12 train_mse: 0.34059504Epoch: 12 train_mse: 0.34173375Epoch: 12 train_mse: 0.341393Epoch: 12 train_mse: 0.3410377Epoch: 12 train_mse: 0.34197372Epoch: 12 train_mse: 0.34134558Epoch: 12 train_mse: 0.34094864Epoch: 12 train_mse: 0.3402213Epoch: 12 train_mse: 0.34041354Epoch: 12 train_mse: 0.3409758Epoch: 12 train_mse: 0.34032202Epoch: 12 train_mse: 0.34011418Epoch: 12 train_mse: 0.33966458Epoch: 12 train_mse: 0.33945283Epoch: 12 train_mse: 0.339669Epoch: 12 train_mse: 0.34067538Epoch: 12 train_mse: 0.34086102Epoch: 12 train_mse: 0.34067205Epoch: 12 train_mse: 0.3399383Epoch: 12 train_mse: 0.3400526Epoch: 12 train_mse: 0.34194973Epoch: 12 train_mse: 0.3419209Epoch: 12 train_mse: 0.34434214Epoch: 12 train_mse: 0.34460792Epoch: 12 train_mse: 0.34400848Epoch: 12 train_mse: 0.34383294Epoch: 12 train_mse: 0.34313846Epoch: 12 train_mse: 0.34334838Epoch: 12 train_mse: 0.34301767Epoch: 12 train_mse: 0.3430475Epoch: 12 train_mse: 0.34269452Epoch: 12 train_mse: 0.34204167Epoch: 12 train_mse: 0.3419919Epoch: 12 train_mse: 0.34167063Epoch: 12 train_mse: 0.3428693Epoch: 12 train_mse: 0.34314826Epoch: 12 train_mse: 0.34342343Epoch: 12 train_mse: 0.3431822Epoch: 12 train_mse: 0.3433334Epoch: 12 train_mse: 0.34289646Epoch: 12 train_mse: 0.34320435Epoch: 12 train_mse: 0.34287617Epoch: 12 train_mse: 0.34308943Epoch: 12 train_mse: 0.34244078Epoch: 12 train_mse: 0.34317103Epoch: 12 train_mse: 0.34608057Epoch: 12 train_mse: 0.3461472Epoch: 12 train_mse: 0.34561697Epoch: 12 train_mse: 0.34492376Epoch: 12 train_mse: 0.3455085Epoch: 12 train_mse: 0.34553537"
     ]
    },
    {
     "name": "stdout",
     "output_type": "stream",
     "text": [
      "Epoch: 12 train_mse: 0.34578016Epoch: 12 train_mse: 0.34565622Epoch: 12 train_mse: 0.3454713Epoch: 12 train_mse: 0.34619313Epoch: 12 train_mse: 0.34594515Epoch: 12 train_mse: 0.34589437Epoch: 12 train_mse: 0.34747705Epoch: 12 train_mse: 0.34751293Epoch: 12 train_mse: 0.34698093Epoch: 12 train_mse: 0.34682488Epoch: 12 train_mse: 0.34628195Epoch: 12 train_mse: 0.345846Epoch: 12 train_mse: 0.34649208Epoch: 12 train_mse: 0.34645528Epoch: 12 train_mse: 0.34654447Epoch: 12 train_mse: 0.34638682Epoch: 12 train_mse: 0.34668598Epoch: 12 train_mse: 0.34636995Epoch: 12 train_mse: 0.3461267Epoch: 12 train_mse: 0.34643865Epoch: 12 train_mse: 0.3460585Epoch: 12 train_mse: 0.34678128Epoch: 12 train_mse: 0.34637228Epoch: 12 train_mse: 0.34604377Epoch: 12 train_mse: 0.34601107Epoch: 12 train_mse: 0.3456743Epoch: 12 train_mse: 0.34530485Epoch: 12 train_mse: 0.34468585Epoch: 12 train_mse: 0.34455642Epoch: 12 train_mse: 0.34437233Epoch: 12 train_mse: 0.34471992Epoch: 12 train_mse: 0.34446827Epoch: 12 train_mse: 0.34382874Epoch: 12 train_mse: 0.34305677Epoch: 12 train_mse: 0.34301037Epoch: 12 train_mse: 0.34277207Epoch: 12 train_mse: 0.34351516Epoch: 12 train_mse: 0.34338656Epoch: 12 train_mse: 0.34305456Epoch: 12 train_mse: 0.34260607Epoch: 12 train_mse: 0.34241635Epoch: 12 train_mse: 0.34203506Epoch: 12 train_mse: 0.34244445Epoch: 12 train_mse: 0.34192297Epoch: 12 train_mse: 0.3416304Epoch: 12 train_mse: 0.34116527Epoch: 12 train_mse: 0.34107637Epoch: 12 train_mse: 0.34052947Epoch: 12 train_mse: 0.34013924Epoch: 12 train_mse: 0.34055674Epoch: 12 train_mse: 0.3405913Epoch: 12 train_mse: 0.3403423Epoch: 12 train_mse: 0.34054115Epoch: 12 train_mse: 0.34022895Epoch: 12 train_mse: 0.33985075Epoch: 12 train_mse: 0.33975857Epoch: 12 train_mse: 0.3399093Epoch: 12 train_mse: 0.33991566Epoch: 12 train_mse: 0.34021854Epoch: 12 train_mse: 0.3398359Epoch: 12 train_mse: 0.33973902Epoch: 12 train_mse: 0.33924407Epoch: 12 train_mse: 0.33923215Epoch: 12 train_mse: 0.33993858Epoch: 12 train_mse: 0.34164655Epoch: 12 train_mse: 0.34256306Epoch: 12 train_mse: 0.34286147Epoch: 12 train_mse: 0.34305587Epoch: 12 train_mse: 0.3426421Epoch: 12 train_mse: 0.3424268Epoch: 12 train_mse: 0.34238172Epoch: 12 train_mse: 0.3419525Epoch: 12 train_mse: 0.34161142Epoch: 12 train_mse: 0.3416353Epoch: 12 train_mse: 0.3410609Epoch: 12 train_mse: 0.34040442Epoch: 12 train_mse: 0.3399046Epoch: 12 train_mse: 0.33992955Epoch: 12 train_mse: 0.3398405Epoch: 12 train_mse: 0.33936092Epoch: 12 train_mse: 0.33887997Epoch: 12 train_mse: 0.33956796Epoch: 12 train_mse: 0.33989584\t valid mse: 0.36350816\n"
     ]
    },
    {
     "name": "stdout",
     "output_type": "stream",
     "text": [
      "Epoch: 13 train_mse: 0.19321868Epoch: 13 train_mse: 0.28371873Epoch: 13 train_mse: 0.28301206Epoch: 13 train_mse: 0.33356366Epoch: 13 train_mse: 0.34926432Epoch: 13 train_mse: 0.3664588Epoch: 13 train_mse: 0.34572023Epoch: 13 train_mse: 0.334527Epoch: 13 train_mse: 0.35070115Epoch: 13 train_mse: 0.37071222Epoch: 13 train_mse: 0.37030354Epoch: 13 train_mse: 0.37908897Epoch: 13 train_mse: 0.38051626Epoch: 13 train_mse: 0.3907186Epoch: 13 train_mse: 0.388694Epoch: 13 train_mse: 0.3940917Epoch: 13 train_mse: 0.40585303Epoch: 13 train_mse: 0.38951102Epoch: 13 train_mse: 0.3890665Epoch: 13 train_mse: 0.38254768Epoch: 13 train_mse: 0.38051435Epoch: 13 train_mse: 0.39103583Epoch: 13 train_mse: 0.38767412Epoch: 13 train_mse: 0.38043725Epoch: 13 train_mse: 0.38130578Epoch: 13 train_mse: 0.37558684Epoch: 13 train_mse: 0.36954713Epoch: 13 train_mse: 0.36189297Epoch: 13 train_mse: 0.3621843Epoch: 13 train_mse: 0.35969648Epoch: 13 train_mse: 0.37413278Epoch: 13 train_mse: 0.38332373Epoch: 13 train_mse: 0.3833275Epoch: 13 train_mse: 0.37657347Epoch: 13 train_mse: 0.37019968Epoch: 13 train_mse: 0.37258315Epoch: 13 train_mse: 0.37457165Epoch: 13 train_mse: 0.3700057Epoch: 13 train_mse: 0.36562094Epoch: 13 train_mse: 0.36730117Epoch: 13 train_mse: 0.3693913Epoch: 13 train_mse: 0.37426153Epoch: 13 train_mse: 0.37348127Epoch: 13 train_mse: 0.3720024Epoch: 13 train_mse: 0.36986142Epoch: 13 train_mse: 0.3671711Epoch: 13 train_mse: 0.36786798Epoch: 13 train_mse: 0.36822948Epoch: 13 train_mse: 0.36732003Epoch: 13 train_mse: 0.36696547Epoch: 13 train_mse: 0.36412984Epoch: 13 train_mse: 0.360588Epoch: 13 train_mse: 0.36650276Epoch: 13 train_mse: 0.3676286Epoch: 13 train_mse: 0.37042186Epoch: 13 train_mse: 0.371447Epoch: 13 train_mse: 0.36754116Epoch: 13 train_mse: 0.36384133Epoch: 13 train_mse: 0.36069906Epoch: 13 train_mse: 0.36051455Epoch: 13 train_mse: 0.35938716Epoch: 13 train_mse: 0.3573628Epoch: 13 train_mse: 0.35549793Epoch: 13 train_mse: 0.3513035Epoch: 13 train_mse: 0.34965035Epoch: 13 train_mse: 0.35320503Epoch: 13 train_mse: 0.35085422Epoch: 13 train_mse: 0.35648254Epoch: 13 train_mse: 0.35479075Epoch: 13 train_mse: 0.3559962Epoch: 13 train_mse: 0.35306498Epoch: 13 train_mse: 0.3517302Epoch: 13 train_mse: 0.34997553Epoch: 13 train_mse: 0.34966972Epoch: 13 train_mse: 0.34937477Epoch: 13 train_mse: 0.34804243Epoch: 13 train_mse: 0.3470253Epoch: 13 train_mse: 0.3459454Epoch: 13 train_mse: 0.35235947Epoch: 13 train_mse: 0.35158288Epoch: 13 train_mse: 0.3508114Epoch: 13 train_mse: 0.3485626Epoch: 13 train_mse: 0.34738615Epoch: 13 train_mse: 0.35306573Epoch: 13 train_mse: 0.35379168Epoch: 13 train_mse: 0.35332888Epoch: 13 train_mse: 0.3518513Epoch: 13 train_mse: 0.35124636Epoch: 13 train_mse: 0.35078222Epoch: 13 train_mse: 0.3484616Epoch: 13 train_mse: 0.34680837Epoch: 13 train_mse: 0.34581327Epoch: 13 train_mse: 0.3450542Epoch: 13 train_mse: 0.3441549Epoch: 13 train_mse: 0.34416234Epoch: 13 train_mse: 0.34263587Epoch: 13 train_mse: 0.3414031Epoch: 13 train_mse: 0.3414127Epoch: 13 train_mse: 0.3414938Epoch: 13 train_mse: 0.34108192Epoch: 13 train_mse: 0.34183937Epoch: 13 train_mse: 0.3400049Epoch: 13 train_mse: 0.3394519Epoch: 13 train_mse: 0.33936775Epoch: 13 train_mse: 0.33949962Epoch: 13 train_mse: 0.33862248Epoch: 13 train_mse: 0.34076175Epoch: 13 train_mse: 0.33949777Epoch: 13 train_mse: 0.33825842Epoch: 13 train_mse: 0.33731583Epoch: 13 train_mse: 0.33682096Epoch: 13 train_mse: 0.3343467Epoch: 13 train_mse: 0.33401424Epoch: 13 train_mse: 0.33464992Epoch: 13 train_mse: 0.3368041Epoch: 13 train_mse: 0.3401989Epoch: 13 train_mse: 0.33954927Epoch: 13 train_mse: 0.33908364Epoch: 13 train_mse: 0.33723095Epoch: 13 train_mse: 0.3374636Epoch: 13 train_mse: 0.33882225Epoch: 13 train_mse: 0.34039307Epoch: 13 train_mse: 0.34026024Epoch: 13 train_mse: 0.34057143Epoch: 13 train_mse: 0.3387705Epoch: 13 train_mse: 0.33817673Epoch: 13 train_mse: 0.3375245Epoch: 13 train_mse: 0.33623487Epoch: 13 train_mse: 0.3360662Epoch: 13 train_mse: 0.33506367Epoch: 13 train_mse: 0.33499226Epoch: 13 train_mse: 0.3349667Epoch: 13 train_mse: 0.33367765Epoch: 13 train_mse: 0.33239138Epoch: 13 train_mse: 0.3319971Epoch: 13 train_mse: 0.33160916Epoch: 13 train_mse: 0.3322202Epoch: 13 train_mse: 0.3336242Epoch: 13 train_mse: 0.33305505Epoch: 13 train_mse: 0.33746603Epoch: 13 train_mse: 0.33689117Epoch: 13 train_mse: 0.33609515Epoch: 13 train_mse: 0.3350973Epoch: 13 train_mse: 0.33593208Epoch: 13 train_mse: 0.33524737Epoch: 13 train_mse: 0.33410817Epoch: 13 train_mse: 0.33465272Epoch: 13 train_mse: 0.33393714Epoch: 13 train_mse: 0.3336596Epoch: 13 train_mse: 0.33390835Epoch: 13 train_mse: 0.3345779Epoch: 13 train_mse: 0.33955073Epoch: 13 train_mse: 0.34108484Epoch: 13 train_mse: 0.34372526Epoch: 13 train_mse: 0.34399083Epoch: 13 train_mse: 0.34297836Epoch: 13 train_mse: 0.34439164Epoch: 13 train_mse: 0.343263Epoch: 13 train_mse: 0.34282345Epoch: 13 train_mse: 0.3413663Epoch: 13 train_mse: 0.3432653Epoch: 13 train_mse: 0.34258845Epoch: 13 train_mse: 0.34250113Epoch: 13 train_mse: 0.3434987Epoch: 13 train_mse: 0.3438773Epoch: 13 train_mse: 0.3456351Epoch: 13 train_mse: 0.34760088Epoch: 13 train_mse: 0.3475759Epoch: 13 train_mse: 0.34983078Epoch: 13 train_mse: 0.34965026Epoch: 13 train_mse: 0.3500157Epoch: 13 train_mse: 0.3502282Epoch: 13 train_mse: 0.35042688Epoch: 13 train_mse: 0.3503494Epoch: 13 train_mse: 0.35049203Epoch: 13 train_mse: 0.34980032Epoch: 13 train_mse: 0.34917563Epoch: 13 train_mse: 0.34885338Epoch: 13 train_mse: 0.34809652Epoch: 13 train_mse: 0.348956Epoch: 13 train_mse: 0.34845355Epoch: 13 train_mse: 0.3486311Epoch: 13 train_mse: 0.34940368Epoch: 13 train_mse: 0.34990957Epoch: 13 train_mse: 0.3504556Epoch: 13 train_mse: 0.34980664Epoch: 13 train_mse: 0.34976462Epoch: 13 train_mse: 0.3498939Epoch: 13 train_mse: 0.34951615Epoch: 13 train_mse: 0.34889743Epoch: 13 train_mse: 0.34952566Epoch: 13 train_mse: 0.3502725Epoch: 13 train_mse: 0.3503493Epoch: 13 train_mse: 0.34980118Epoch: 13 train_mse: 0.3501482Epoch: 13 train_mse: 0.35097843Epoch: 13 train_mse: 0.35065135Epoch: 13 train_mse: 0.35013425Epoch: 13 train_mse: 0.34994522Epoch: 13 train_mse: 0.3520621Epoch: 13 train_mse: 0.35099506Epoch: 13 train_mse: 0.35049072Epoch: 13 train_mse: 0.35061488Epoch: 13 train_mse: 0.35072106Epoch: 13 train_mse: 0.35068274Epoch: 13 train_mse: 0.34961572Epoch: 13 train_mse: 0.35311955Epoch: 13 train_mse: 0.35322952Epoch: 13 train_mse: 0.35230196Epoch: 13 train_mse: 0.3526349Epoch: 13 train_mse: 0.35181865Epoch: 13 train_mse: 0.35395947Epoch: 13 train_mse: 0.35339034Epoch: 13 train_mse: 0.35291278Epoch: 13 train_mse: 0.35266873Epoch: 13 train_mse: 0.35220453Epoch: 13 train_mse: 0.35416764Epoch: 13 train_mse: 0.35396007Epoch: 13 train_mse: 0.3532935Epoch: 13 train_mse: 0.35243133Epoch: 13 train_mse: 0.35242376Epoch: 13 train_mse: 0.35294887Epoch: 13 train_mse: 0.35232Epoch: 13 train_mse: 0.3514008Epoch: 13 train_mse: 0.35259756Epoch: 13 train_mse: 0.3532185Epoch: 13 train_mse: 0.35256726Epoch: 13 train_mse: 0.35212982Epoch: 13 train_mse: 0.35257503Epoch: 13 train_mse: 0.35241637Epoch: 13 train_mse: 0.35314855Epoch: 13 train_mse: 0.35318342Epoch: 13 train_mse: 0.35239813Epoch: 13 train_mse: 0.35237122Epoch: 13 train_mse: 0.35276568Epoch: 13 train_mse: 0.35271877Epoch: 13 train_mse: 0.35232106Epoch: 13 train_mse: 0.35211384Epoch: 13 train_mse: 0.35145625Epoch: 13 train_mse: 0.35102284Epoch: 13 train_mse: 0.3509144Epoch: 13 train_mse: 0.3517086Epoch: 13 train_mse: 0.35525498Epoch: 13 train_mse: 0.3546253Epoch: 13 train_mse: 0.35431513Epoch: 13 train_mse: 0.35350326Epoch: 13 train_mse: 0.35403883Epoch: 13 train_mse: 0.3550986Epoch: 13 train_mse: 0.35516882Epoch: 13 train_mse: 0.35463703Epoch: 13 train_mse: 0.3547101Epoch: 13 train_mse: 0.35471007Epoch: 13 train_mse: 0.3541696Epoch: 13 train_mse: 0.35368443Epoch: 13 train_mse: 0.35338104Epoch: 13 train_mse: 0.35570085Epoch: 13 train_mse: 0.3558314Epoch: 13 train_mse: 0.3555131Epoch: 13 train_mse: 0.35538623Epoch: 13 train_mse: 0.35504106Epoch: 13 train_mse: 0.35532758Epoch: 13 train_mse: 0.35468718Epoch: 13 train_mse: 0.35408315Epoch: 13 train_mse: 0.3538879Epoch: 13 train_mse: 0.35381275Epoch: 13 train_mse: 0.35358125Epoch: 13 train_mse: 0.35334834Epoch: 13 train_mse: 0.3540464Epoch: 13 train_mse: 0.3543122Epoch: 13 train_mse: 0.3539431Epoch: 13 train_mse: 0.35401523Epoch: 13 train_mse: 0.35421062Epoch: 13 train_mse: 0.3547012Epoch: 13 train_mse: 0.35396537Epoch: 13 train_mse: 0.3536681Epoch: 13 train_mse: 0.3543596Epoch: 13 train_mse: 0.3538261Epoch: 13 train_mse: 0.35420588Epoch: 13 train_mse: 0.35419127Epoch: 13 train_mse: 0.3541999Epoch: 13 train_mse: 0.35375607Epoch: 13 train_mse: 0.3537612"
     ]
    },
    {
     "name": "stdout",
     "output_type": "stream",
     "text": [
      "Epoch: 13 train_mse: 0.35678723Epoch: 13 train_mse: 0.35608613Epoch: 13 train_mse: 0.35687295Epoch: 13 train_mse: 0.35671863Epoch: 13 train_mse: 0.35633639Epoch: 13 train_mse: 0.3560482Epoch: 13 train_mse: 0.35520548Epoch: 13 train_mse: 0.35436156Epoch: 13 train_mse: 0.3543015Epoch: 13 train_mse: 0.35414922Epoch: 13 train_mse: 0.35415658Epoch: 13 train_mse: 0.35533112Epoch: 13 train_mse: 0.35496867Epoch: 13 train_mse: 0.35503733Epoch: 13 train_mse: 0.35451752Epoch: 13 train_mse: 0.35427824Epoch: 13 train_mse: 0.35441333Epoch: 13 train_mse: 0.35425764Epoch: 13 train_mse: 0.35384855Epoch: 13 train_mse: 0.35322627Epoch: 13 train_mse: 0.3533391Epoch: 13 train_mse: 0.35339108Epoch: 13 train_mse: 0.35331634Epoch: 13 train_mse: 0.35272017Epoch: 13 train_mse: 0.35238814Epoch: 13 train_mse: 0.3525754Epoch: 13 train_mse: 0.35366502Epoch: 13 train_mse: 0.35320985Epoch: 13 train_mse: 0.3537175Epoch: 13 train_mse: 0.35365358Epoch: 13 train_mse: 0.3532371Epoch: 13 train_mse: 0.35331088Epoch: 13 train_mse: 0.35325196Epoch: 13 train_mse: 0.35259953Epoch: 13 train_mse: 0.35281044Epoch: 13 train_mse: 0.35227838Epoch: 13 train_mse: 0.352033Epoch: 13 train_mse: 0.35212144Epoch: 13 train_mse: 0.35202354Epoch: 13 train_mse: 0.35171297Epoch: 13 train_mse: 0.35157436Epoch: 13 train_mse: 0.35106397Epoch: 13 train_mse: 0.3507583Epoch: 13 train_mse: 0.35018095Epoch: 13 train_mse: 0.34983286Epoch: 13 train_mse: 0.34948486Epoch: 13 train_mse: 0.34920037Epoch: 13 train_mse: 0.3488467Epoch: 13 train_mse: 0.3488133Epoch: 13 train_mse: 0.34871858Epoch: 13 train_mse: 0.34851316Epoch: 13 train_mse: 0.34844008Epoch: 13 train_mse: 0.34810942Epoch: 13 train_mse: 0.34782365Epoch: 13 train_mse: 0.34780133Epoch: 13 train_mse: 0.34776497Epoch: 13 train_mse: 0.34716898Epoch: 13 train_mse: 0.34785137Epoch: 13 train_mse: 0.3475437Epoch: 13 train_mse: 0.3474357Epoch: 13 train_mse: 0.3479854Epoch: 13 train_mse: 0.3480133Epoch: 13 train_mse: 0.3476524Epoch: 13 train_mse: 0.34735298Epoch: 13 train_mse: 0.34729862Epoch: 13 train_mse: 0.34671775Epoch: 13 train_mse: 0.3466183Epoch: 13 train_mse: 0.34722954Epoch: 13 train_mse: 0.3478329Epoch: 13 train_mse: 0.3476193Epoch: 13 train_mse: 0.35095632Epoch: 13 train_mse: 0.35097042Epoch: 13 train_mse: 0.35071546Epoch: 13 train_mse: 0.3505034Epoch: 13 train_mse: 0.35041928Epoch: 13 train_mse: 0.34991905Epoch: 13 train_mse: 0.35076925Epoch: 13 train_mse: 0.35094243Epoch: 13 train_mse: 0.35063338Epoch: 13 train_mse: 0.35079083\t valid mse: 0.35612056\n"
     ]
    },
    {
     "name": "stdout",
     "output_type": "stream",
     "text": [
      "Epoch: 14 train_mse: 0.24482298Epoch: 14 train_mse: 0.20951499Epoch: 14 train_mse: 0.18695931Epoch: 14 train_mse: 0.23873194Epoch: 14 train_mse: 0.23527896Epoch: 14 train_mse: 0.28794008Epoch: 14 train_mse: 0.27469596Epoch: 14 train_mse: 0.27664754Epoch: 14 train_mse: 0.31532255Epoch: 14 train_mse: 0.3209816Epoch: 14 train_mse: 0.32108122Epoch: 14 train_mse: 0.3254203Epoch: 14 train_mse: 0.3596724Epoch: 14 train_mse: 0.35030097Epoch: 14 train_mse: 0.36502025Epoch: 14 train_mse: 0.35673115Epoch: 14 train_mse: 0.34766823Epoch: 14 train_mse: 0.34090286Epoch: 14 train_mse: 0.33254075Epoch: 14 train_mse: 0.33093816Epoch: 14 train_mse: 0.32500887Epoch: 14 train_mse: 0.3231771Epoch: 14 train_mse: 0.31696936Epoch: 14 train_mse: 0.3194327Epoch: 14 train_mse: 0.31560498Epoch: 14 train_mse: 0.31644928Epoch: 14 train_mse: 0.31252116Epoch: 14 train_mse: 0.31609195Epoch: 14 train_mse: 0.3279346Epoch: 14 train_mse: 0.32981202Epoch: 14 train_mse: 0.32942235Epoch: 14 train_mse: 0.32749665Epoch: 14 train_mse: 0.32546318Epoch: 14 train_mse: 0.32276416Epoch: 14 train_mse: 0.32160082Epoch: 14 train_mse: 0.31952143Epoch: 14 train_mse: 0.31765756Epoch: 14 train_mse: 0.3142459Epoch: 14 train_mse: 0.3166748Epoch: 14 train_mse: 0.31945068Epoch: 14 train_mse: 0.31833628Epoch: 14 train_mse: 0.31651434Epoch: 14 train_mse: 0.31915954Epoch: 14 train_mse: 0.31869444Epoch: 14 train_mse: 0.3229884Epoch: 14 train_mse: 0.33431983Epoch: 14 train_mse: 0.33858284Epoch: 14 train_mse: 0.3394233Epoch: 14 train_mse: 0.33885616Epoch: 14 train_mse: 0.3372417Epoch: 14 train_mse: 0.33695197Epoch: 14 train_mse: 0.3388456Epoch: 14 train_mse: 0.33995682Epoch: 14 train_mse: 0.3383636Epoch: 14 train_mse: 0.3365814Epoch: 14 train_mse: 0.333951Epoch: 14 train_mse: 0.33400205Epoch: 14 train_mse: 0.33557355Epoch: 14 train_mse: 0.332959Epoch: 14 train_mse: 0.33254662Epoch: 14 train_mse: 0.34062788Epoch: 14 train_mse: 0.3400573Epoch: 14 train_mse: 0.33635852Epoch: 14 train_mse: 0.33627623Epoch: 14 train_mse: 0.33705956Epoch: 14 train_mse: 0.335235Epoch: 14 train_mse: 0.33578333Epoch: 14 train_mse: 0.33481318Epoch: 14 train_mse: 0.33322278Epoch: 14 train_mse: 0.33631802Epoch: 14 train_mse: 0.33835322Epoch: 14 train_mse: 0.33684808Epoch: 14 train_mse: 0.33667952Epoch: 14 train_mse: 0.3353139Epoch: 14 train_mse: 0.335309Epoch: 14 train_mse: 0.3357575Epoch: 14 train_mse: 0.33548757Epoch: 14 train_mse: 0.33445582Epoch: 14 train_mse: 0.33854258Epoch: 14 train_mse: 0.3409323Epoch: 14 train_mse: 0.34035328Epoch: 14 train_mse: 0.3381465Epoch: 14 train_mse: 0.33898428Epoch: 14 train_mse: 0.3442413Epoch: 14 train_mse: 0.34278792Epoch: 14 train_mse: 0.3416413Epoch: 14 train_mse: 0.3411199Epoch: 14 train_mse: 0.34105542Epoch: 14 train_mse: 0.3418278Epoch: 14 train_mse: 0.34290728Epoch: 14 train_mse: 0.34161457Epoch: 14 train_mse: 0.3413687Epoch: 14 train_mse: 0.34111422Epoch: 14 train_mse: 0.3405252Epoch: 14 train_mse: 0.3400471Epoch: 14 train_mse: 0.34139302Epoch: 14 train_mse: 0.34004334Epoch: 14 train_mse: 0.3411378Epoch: 14 train_mse: 0.34180874Epoch: 14 train_mse: 0.34171408Epoch: 14 train_mse: 0.34473833Epoch: 14 train_mse: 0.3429137Epoch: 14 train_mse: 0.34387943Epoch: 14 train_mse: 0.3418302Epoch: 14 train_mse: 0.34225237Epoch: 14 train_mse: 0.34065577Epoch: 14 train_mse: 0.34031516Epoch: 14 train_mse: 0.34041524Epoch: 14 train_mse: 0.33865207Epoch: 14 train_mse: 0.34144595Epoch: 14 train_mse: 0.34165728Epoch: 14 train_mse: 0.33998355Epoch: 14 train_mse: 0.33924684Epoch: 14 train_mse: 0.33937258Epoch: 14 train_mse: 0.33900598Epoch: 14 train_mse: 0.3377383Epoch: 14 train_mse: 0.3389443Epoch: 14 train_mse: 0.33674613Epoch: 14 train_mse: 0.33668733Epoch: 14 train_mse: 0.33712798Epoch: 14 train_mse: 0.33586493Epoch: 14 train_mse: 0.33479252Epoch: 14 train_mse: 0.3347812Epoch: 14 train_mse: 0.3350596Epoch: 14 train_mse: 0.3369836Epoch: 14 train_mse: 0.3353501Epoch: 14 train_mse: 0.3339933Epoch: 14 train_mse: 0.33620834Epoch: 14 train_mse: 0.33724025Epoch: 14 train_mse: 0.3369654Epoch: 14 train_mse: 0.33693883Epoch: 14 train_mse: 0.33627963Epoch: 14 train_mse: 0.33641592Epoch: 14 train_mse: 0.33920413Epoch: 14 train_mse: 0.34037688Epoch: 14 train_mse: 0.34068516Epoch: 14 train_mse: 0.34175977Epoch: 14 train_mse: 0.34369564Epoch: 14 train_mse: 0.342098Epoch: 14 train_mse: 0.34143028Epoch: 14 train_mse: 0.34172106Epoch: 14 train_mse: 0.3409801Epoch: 14 train_mse: 0.34136385Epoch: 14 train_mse: 0.34015855Epoch: 14 train_mse: 0.33981714Epoch: 14 train_mse: 0.33861744Epoch: 14 train_mse: 0.33912215Epoch: 14 train_mse: 0.33866358Epoch: 14 train_mse: 0.3386088Epoch: 14 train_mse: 0.33830377Epoch: 14 train_mse: 0.33723542Epoch: 14 train_mse: 0.33655316Epoch: 14 train_mse: 0.33648363Epoch: 14 train_mse: 0.33920062Epoch: 14 train_mse: 0.33972812Epoch: 14 train_mse: 0.34004864Epoch: 14 train_mse: 0.33965743Epoch: 14 train_mse: 0.34018657Epoch: 14 train_mse: 0.3402607Epoch: 14 train_mse: 0.34020346Epoch: 14 train_mse: 0.33951783Epoch: 14 train_mse: 0.34059796Epoch: 14 train_mse: 0.3422713Epoch: 14 train_mse: 0.34122354Epoch: 14 train_mse: 0.34064883Epoch: 14 train_mse: 0.33999458Epoch: 14 train_mse: 0.34348348Epoch: 14 train_mse: 0.3438012Epoch: 14 train_mse: 0.34275705Epoch: 14 train_mse: 0.34260035Epoch: 14 train_mse: 0.34174883Epoch: 14 train_mse: 0.34058994Epoch: 14 train_mse: 0.3411019Epoch: 14 train_mse: 0.34072176Epoch: 14 train_mse: 0.34072483Epoch: 14 train_mse: 0.34061906Epoch: 14 train_mse: 0.3408835Epoch: 14 train_mse: 0.33945617Epoch: 14 train_mse: 0.33823115Epoch: 14 train_mse: 0.33888677Epoch: 14 train_mse: 0.338323Epoch: 14 train_mse: 0.33905026Epoch: 14 train_mse: 0.33792543Epoch: 14 train_mse: 0.33804846Epoch: 14 train_mse: 0.33690825Epoch: 14 train_mse: 0.3372179Epoch: 14 train_mse: 0.3366411Epoch: 14 train_mse: 0.3360877Epoch: 14 train_mse: 0.33648255Epoch: 14 train_mse: 0.33596966Epoch: 14 train_mse: 0.33546966Epoch: 14 train_mse: 0.3352604Epoch: 14 train_mse: 0.33494705Epoch: 14 train_mse: 0.3344082Epoch: 14 train_mse: 0.3340136Epoch: 14 train_mse: 0.3337889Epoch: 14 train_mse: 0.333273Epoch: 14 train_mse: 0.3333043Epoch: 14 train_mse: 0.3330243Epoch: 14 train_mse: 0.33475268Epoch: 14 train_mse: 0.334304Epoch: 14 train_mse: 0.33462384Epoch: 14 train_mse: 0.3339547Epoch: 14 train_mse: 0.33339575Epoch: 14 train_mse: 0.3334763Epoch: 14 train_mse: 0.33309984Epoch: 14 train_mse: 0.3331265Epoch: 14 train_mse: 0.33200133Epoch: 14 train_mse: 0.33337906Epoch: 14 train_mse: 0.33300385Epoch: 14 train_mse: 0.33256873Epoch: 14 train_mse: 0.33233786Epoch: 14 train_mse: 0.33181447Epoch: 14 train_mse: 0.33119813Epoch: 14 train_mse: 0.33115608Epoch: 14 train_mse: 0.3314514Epoch: 14 train_mse: 0.33127287Epoch: 14 train_mse: 0.3314387Epoch: 14 train_mse: 0.3319909Epoch: 14 train_mse: 0.33305532Epoch: 14 train_mse: 0.3345753Epoch: 14 train_mse: 0.33434126Epoch: 14 train_mse: 0.33457214Epoch: 14 train_mse: 0.33476275Epoch: 14 train_mse: 0.3347052Epoch: 14 train_mse: 0.33422998Epoch: 14 train_mse: 0.3335197Epoch: 14 train_mse: 0.33277157Epoch: 14 train_mse: 0.33224496Epoch: 14 train_mse: 0.33373278Epoch: 14 train_mse: 0.33409366Epoch: 14 train_mse: 0.33494046Epoch: 14 train_mse: 0.3347974Epoch: 14 train_mse: 0.334229Epoch: 14 train_mse: 0.33470947Epoch: 14 train_mse: 0.3344583Epoch: 14 train_mse: 0.33715567Epoch: 14 train_mse: 0.33690426Epoch: 14 train_mse: 0.33751592Epoch: 14 train_mse: 0.33663878Epoch: 14 train_mse: 0.33616382Epoch: 14 train_mse: 0.33698043Epoch: 14 train_mse: 0.33860135Epoch: 14 train_mse: 0.33980066Epoch: 14 train_mse: 0.33965686Epoch: 14 train_mse: 0.33938769Epoch: 14 train_mse: 0.33895236Epoch: 14 train_mse: 0.33890802Epoch: 14 train_mse: 0.3389387Epoch: 14 train_mse: 0.33897772Epoch: 14 train_mse: 0.3394422Epoch: 14 train_mse: 0.33879325Epoch: 14 train_mse: 0.33812287Epoch: 14 train_mse: 0.3371823Epoch: 14 train_mse: 0.33703429Epoch: 14 train_mse: 0.33755285Epoch: 14 train_mse: 0.33713213Epoch: 14 train_mse: 0.33641866Epoch: 14 train_mse: 0.33672616Epoch: 14 train_mse: 0.33679524Epoch: 14 train_mse: 0.33620533Epoch: 14 train_mse: 0.3369708Epoch: 14 train_mse: 0.33634067Epoch: 14 train_mse: 0.33551455Epoch: 14 train_mse: 0.33529857Epoch: 14 train_mse: 0.33522335Epoch: 14 train_mse: 0.33449385Epoch: 14 train_mse: 0.3355671Epoch: 14 train_mse: 0.33542317Epoch: 14 train_mse: 0.3349763Epoch: 14 train_mse: 0.33438855Epoch: 14 train_mse: 0.33400682Epoch: 14 train_mse: 0.3339683Epoch: 14 train_mse: 0.33352187Epoch: 14 train_mse: 0.33399203Epoch: 14 train_mse: 0.3333551Epoch: 14 train_mse: 0.33327323Epoch: 14 train_mse: 0.33339694Epoch: 14 train_mse: 0.3332178Epoch: 14 train_mse: 0.33313736Epoch: 14 train_mse: 0.3330315Epoch: 14 train_mse: 0.3331824Epoch: 14 train_mse: 0.33295393Epoch: 14 train_mse: 0.3338303Epoch: 14 train_mse: 0.33337566Epoch: 14 train_mse: 0.33303615Epoch: 14 train_mse: 0.33297694Epoch: 14 train_mse: 0.33329913Epoch: 14 train_mse: 0.33306578Epoch: 14 train_mse: 0.33400205Epoch: 14 train_mse: 0.33462593Epoch: 14 train_mse: 0.33547148Epoch: 14 train_mse: 0.33542004Epoch: 14 train_mse: 0.33534515Epoch: 14 train_mse: 0.33692482Epoch: 14 train_mse: 0.33633068Epoch: 14 train_mse: 0.33577883Epoch: 14 train_mse: 0.33530483Epoch: 14 train_mse: 0.33556816Epoch: 14 train_mse: 0.33560225Epoch: 14 train_mse: 0.3361313Epoch: 14 train_mse: 0.33671382"
     ]
    },
    {
     "name": "stdout",
     "output_type": "stream",
     "text": [
      "Epoch: 14 train_mse: 0.33629146Epoch: 14 train_mse: 0.3369794Epoch: 14 train_mse: 0.3368365Epoch: 14 train_mse: 0.33675042Epoch: 14 train_mse: 0.33651796Epoch: 14 train_mse: 0.3361085Epoch: 14 train_mse: 0.33642212Epoch: 14 train_mse: 0.33596566Epoch: 14 train_mse: 0.33561498Epoch: 14 train_mse: 0.33632883Epoch: 14 train_mse: 0.3366501Epoch: 14 train_mse: 0.33606637Epoch: 14 train_mse: 0.3359651Epoch: 14 train_mse: 0.33560213Epoch: 14 train_mse: 0.33507627Epoch: 14 train_mse: 0.3345756Epoch: 14 train_mse: 0.33479634Epoch: 14 train_mse: 0.33446962Epoch: 14 train_mse: 0.33506396Epoch: 14 train_mse: 0.33460587Epoch: 14 train_mse: 0.33481544Epoch: 14 train_mse: 0.33482423Epoch: 14 train_mse: 0.33475Epoch: 14 train_mse: 0.33595198Epoch: 14 train_mse: 0.3360375Epoch: 14 train_mse: 0.33620828Epoch: 14 train_mse: 0.33590832Epoch: 14 train_mse: 0.33576518Epoch: 14 train_mse: 0.33721694Epoch: 14 train_mse: 0.33707607Epoch: 14 train_mse: 0.33735418Epoch: 14 train_mse: 0.33771428Epoch: 14 train_mse: 0.3373842Epoch: 14 train_mse: 0.3369944Epoch: 14 train_mse: 0.3370749Epoch: 14 train_mse: 0.3365535Epoch: 14 train_mse: 0.3362681Epoch: 14 train_mse: 0.33600596Epoch: 14 train_mse: 0.33621645Epoch: 14 train_mse: 0.33679476Epoch: 14 train_mse: 0.33709362Epoch: 14 train_mse: 0.33689246Epoch: 14 train_mse: 0.33684894Epoch: 14 train_mse: 0.33728245Epoch: 14 train_mse: 0.33702904Epoch: 14 train_mse: 0.33717084Epoch: 14 train_mse: 0.33853647Epoch: 14 train_mse: 0.33867115Epoch: 14 train_mse: 0.33841208Epoch: 14 train_mse: 0.338496Epoch: 14 train_mse: 0.3382409Epoch: 14 train_mse: 0.33800548Epoch: 14 train_mse: 0.33801866Epoch: 14 train_mse: 0.33750537Epoch: 14 train_mse: 0.33798358Epoch: 14 train_mse: 0.33768272Epoch: 14 train_mse: 0.33802953Epoch: 14 train_mse: 0.33838084Epoch: 14 train_mse: 0.3379584Epoch: 14 train_mse: 0.33841875\t valid mse: 0.36124012\n"
     ]
    },
    {
     "name": "stdout",
     "output_type": "stream",
     "text": [
      "Epoch: 15 train_mse: 0.30015987Epoch: 15 train_mse: 0.2501833Epoch: 15 train_mse: 0.3022689Epoch: 15 train_mse: 0.26467675Epoch: 15 train_mse: 0.26539695Epoch: 15 train_mse: 0.24583626Epoch: 15 train_mse: 0.30833456Epoch: 15 train_mse: 0.31693044Epoch: 15 train_mse: 0.3094749Epoch: 15 train_mse: 0.30747604Epoch: 15 train_mse: 0.29549387Epoch: 15 train_mse: 0.29973605Epoch: 15 train_mse: 0.29481313Epoch: 15 train_mse: 0.2976695Epoch: 15 train_mse: 0.28905663Epoch: 15 train_mse: 0.29110414Epoch: 15 train_mse: 0.28283098Epoch: 15 train_mse: 0.27410644Epoch: 15 train_mse: 0.27590427Epoch: 15 train_mse: 0.296622Epoch: 15 train_mse: 0.29817617Epoch: 15 train_mse: 0.29153278Epoch: 15 train_mse: 0.28925872Epoch: 15 train_mse: 0.2893918Epoch: 15 train_mse: 0.28729016Epoch: 15 train_mse: 0.28737643Epoch: 15 train_mse: 0.2835052Epoch: 15 train_mse: 0.27973732Epoch: 15 train_mse: 0.29645234Epoch: 15 train_mse: 0.30251738Epoch: 15 train_mse: 0.30421108Epoch: 15 train_mse: 0.31321153Epoch: 15 train_mse: 0.30724627Epoch: 15 train_mse: 0.3059931Epoch: 15 train_mse: 0.30806044Epoch: 15 train_mse: 0.31525147Epoch: 15 train_mse: 0.32211542Epoch: 15 train_mse: 0.31571728Epoch: 15 train_mse: 0.31389108Epoch: 15 train_mse: 0.30946118Epoch: 15 train_mse: 0.30696958Epoch: 15 train_mse: 0.30860308Epoch: 15 train_mse: 0.31309673Epoch: 15 train_mse: 0.31417707Epoch: 15 train_mse: 0.31223375Epoch: 15 train_mse: 0.31380233Epoch: 15 train_mse: 0.31107172Epoch: 15 train_mse: 0.3120606Epoch: 15 train_mse: 0.31015998Epoch: 15 train_mse: 0.31587508Epoch: 15 train_mse: 0.31409928Epoch: 15 train_mse: 0.3144561Epoch: 15 train_mse: 0.31667784Epoch: 15 train_mse: 0.3181736Epoch: 15 train_mse: 0.3157107Epoch: 15 train_mse: 0.31557053Epoch: 15 train_mse: 0.31433812Epoch: 15 train_mse: 0.3112256Epoch: 15 train_mse: 0.3111769Epoch: 15 train_mse: 0.31124607Epoch: 15 train_mse: 0.3109924Epoch: 15 train_mse: 0.30808908Epoch: 15 train_mse: 0.3098909Epoch: 15 train_mse: 0.31028748Epoch: 15 train_mse: 0.3115553Epoch: 15 train_mse: 0.3098455Epoch: 15 train_mse: 0.31436893Epoch: 15 train_mse: 0.31984434Epoch: 15 train_mse: 0.32428637Epoch: 15 train_mse: 0.32406747Epoch: 15 train_mse: 0.32378882Epoch: 15 train_mse: 0.3226298Epoch: 15 train_mse: 0.3222541Epoch: 15 train_mse: 0.32552364Epoch: 15 train_mse: 0.32571536Epoch: 15 train_mse: 0.32526007Epoch: 15 train_mse: 0.32511094Epoch: 15 train_mse: 0.32386026Epoch: 15 train_mse: 0.3267359Epoch: 15 train_mse: 0.32404444Epoch: 15 train_mse: 0.32384664Epoch: 15 train_mse: 0.32152924Epoch: 15 train_mse: 0.32232085Epoch: 15 train_mse: 0.3281407Epoch: 15 train_mse: 0.3270576Epoch: 15 train_mse: 0.3266502Epoch: 15 train_mse: 0.32531124Epoch: 15 train_mse: 0.32493755Epoch: 15 train_mse: 0.32509327Epoch: 15 train_mse: 0.32278916Epoch: 15 train_mse: 0.32329485Epoch: 15 train_mse: 0.3240899Epoch: 15 train_mse: 0.32232678Epoch: 15 train_mse: 0.3220388Epoch: 15 train_mse: 0.32268545Epoch: 15 train_mse: 0.32225212Epoch: 15 train_mse: 0.32088587Epoch: 15 train_mse: 0.32133323Epoch: 15 train_mse: 0.32134876Epoch: 15 train_mse: 0.3206609Epoch: 15 train_mse: 0.32026845Epoch: 15 train_mse: 0.3188832Epoch: 15 train_mse: 0.31792197Epoch: 15 train_mse: 0.31819358Epoch: 15 train_mse: 0.31637302Epoch: 15 train_mse: 0.31567562Epoch: 15 train_mse: 0.31943333Epoch: 15 train_mse: 0.31946525Epoch: 15 train_mse: 0.31927708Epoch: 15 train_mse: 0.31920925Epoch: 15 train_mse: 0.31850725Epoch: 15 train_mse: 0.31684327Epoch: 15 train_mse: 0.31856802Epoch: 15 train_mse: 0.31813478Epoch: 15 train_mse: 0.3166618Epoch: 15 train_mse: 0.31776989Epoch: 15 train_mse: 0.3160417Epoch: 15 train_mse: 0.31476852Epoch: 15 train_mse: 0.31468788Epoch: 15 train_mse: 0.3139319Epoch: 15 train_mse: 0.31318736Epoch: 15 train_mse: 0.3152591Epoch: 15 train_mse: 0.31379724Epoch: 15 train_mse: 0.31355888Epoch: 15 train_mse: 0.3130869Epoch: 15 train_mse: 0.31183565Epoch: 15 train_mse: 0.31449547Epoch: 15 train_mse: 0.3146536Epoch: 15 train_mse: 0.31326497Epoch: 15 train_mse: 0.3145865Epoch: 15 train_mse: 0.31546074Epoch: 15 train_mse: 0.31619918Epoch: 15 train_mse: 0.31645745Epoch: 15 train_mse: 0.31857637Epoch: 15 train_mse: 0.32089868Epoch: 15 train_mse: 0.3197414Epoch: 15 train_mse: 0.3196214Epoch: 15 train_mse: 0.31975317Epoch: 15 train_mse: 0.31952354Epoch: 15 train_mse: 0.32027087Epoch: 15 train_mse: 0.32050523Epoch: 15 train_mse: 0.32095656Epoch: 15 train_mse: 0.31968334Epoch: 15 train_mse: 0.31975764Epoch: 15 train_mse: 0.31851748Epoch: 15 train_mse: 0.32406846Epoch: 15 train_mse: 0.32271025Epoch: 15 train_mse: 0.32224485Epoch: 15 train_mse: 0.3236876Epoch: 15 train_mse: 0.3249381Epoch: 15 train_mse: 0.3265419Epoch: 15 train_mse: 0.32701123Epoch: 15 train_mse: 0.32657Epoch: 15 train_mse: 0.32671323Epoch: 15 train_mse: 0.33029935Epoch: 15 train_mse: 0.32989627Epoch: 15 train_mse: 0.3304719Epoch: 15 train_mse: 0.33236367Epoch: 15 train_mse: 0.33136398Epoch: 15 train_mse: 0.33242136Epoch: 15 train_mse: 0.33235192Epoch: 15 train_mse: 0.33086342Epoch: 15 train_mse: 0.33078903Epoch: 15 train_mse: 0.33024403Epoch: 15 train_mse: 0.33218834Epoch: 15 train_mse: 0.33226284Epoch: 15 train_mse: 0.33271104Epoch: 15 train_mse: 0.33212632Epoch: 15 train_mse: 0.33197737Epoch: 15 train_mse: 0.33241493Epoch: 15 train_mse: 0.33221743Epoch: 15 train_mse: 0.33148542Epoch: 15 train_mse: 0.33114827Epoch: 15 train_mse: 0.3299571Epoch: 15 train_mse: 0.33031812Epoch: 15 train_mse: 0.33008745Epoch: 15 train_mse: 0.33019403Epoch: 15 train_mse: 0.32952654Epoch: 15 train_mse: 0.32949728Epoch: 15 train_mse: 0.33021608Epoch: 15 train_mse: 0.32938576Epoch: 15 train_mse: 0.32910404Epoch: 15 train_mse: 0.3284506Epoch: 15 train_mse: 0.32758194Epoch: 15 train_mse: 0.32766464Epoch: 15 train_mse: 0.32720783Epoch: 15 train_mse: 0.32697544Epoch: 15 train_mse: 0.32640067Epoch: 15 train_mse: 0.32673165Epoch: 15 train_mse: 0.32605758Epoch: 15 train_mse: 0.32556593Epoch: 15 train_mse: 0.32730028Epoch: 15 train_mse: 0.32709655Epoch: 15 train_mse: 0.32633582Epoch: 15 train_mse: 0.3255361Epoch: 15 train_mse: 0.325222Epoch: 15 train_mse: 0.3251824Epoch: 15 train_mse: 0.3247902Epoch: 15 train_mse: 0.32580963Epoch: 15 train_mse: 0.3279482Epoch: 15 train_mse: 0.3274864Epoch: 15 train_mse: 0.32753685Epoch: 15 train_mse: 0.32683104Epoch: 15 train_mse: 0.32765654Epoch: 15 train_mse: 0.32843688Epoch: 15 train_mse: 0.3279298Epoch: 15 train_mse: 0.32790068Epoch: 15 train_mse: 0.32816014Epoch: 15 train_mse: 0.3283399Epoch: 15 train_mse: 0.32762012Epoch: 15 train_mse: 0.32752702Epoch: 15 train_mse: 0.3289582Epoch: 15 train_mse: 0.32855016Epoch: 15 train_mse: 0.32843456Epoch: 15 train_mse: 0.3280125Epoch: 15 train_mse: 0.3280167Epoch: 15 train_mse: 0.3278149Epoch: 15 train_mse: 0.32735568Epoch: 15 train_mse: 0.32762003Epoch: 15 train_mse: 0.32789224Epoch: 15 train_mse: 0.32795098Epoch: 15 train_mse: 0.32789856Epoch: 15 train_mse: 0.32799163Epoch: 15 train_mse: 0.3283861Epoch: 15 train_mse: 0.32870302Epoch: 15 train_mse: 0.32828066Epoch: 15 train_mse: 0.32777888Epoch: 15 train_mse: 0.32996836Epoch: 15 train_mse: 0.32985407Epoch: 15 train_mse: 0.3301375Epoch: 15 train_mse: 0.32986936Epoch: 15 train_mse: 0.33079618Epoch: 15 train_mse: 0.3304224Epoch: 15 train_mse: 0.3321891Epoch: 15 train_mse: 0.3322023Epoch: 15 train_mse: 0.33257586Epoch: 15 train_mse: 0.33446142Epoch: 15 train_mse: 0.33426496Epoch: 15 train_mse: 0.33477116Epoch: 15 train_mse: 0.33617976Epoch: 15 train_mse: 0.33574554Epoch: 15 train_mse: 0.33559275Epoch: 15 train_mse: 0.33604756Epoch: 15 train_mse: 0.3356326Epoch: 15 train_mse: 0.33638537Epoch: 15 train_mse: 0.3366168Epoch: 15 train_mse: 0.33817947Epoch: 15 train_mse: 0.3376847Epoch: 15 train_mse: 0.3378556Epoch: 15 train_mse: 0.33747476Epoch: 15 train_mse: 0.33724403Epoch: 15 train_mse: 0.3372689Epoch: 15 train_mse: 0.3370982Epoch: 15 train_mse: 0.33775195Epoch: 15 train_mse: 0.3376198Epoch: 15 train_mse: 0.3380731Epoch: 15 train_mse: 0.3376365Epoch: 15 train_mse: 0.3385388Epoch: 15 train_mse: 0.3377822Epoch: 15 train_mse: 0.3375614Epoch: 15 train_mse: 0.3373445Epoch: 15 train_mse: 0.33650562Epoch: 15 train_mse: 0.33582407Epoch: 15 train_mse: 0.33558398Epoch: 15 train_mse: 0.33543596Epoch: 15 train_mse: 0.33568904Epoch: 15 train_mse: 0.33552057Epoch: 15 train_mse: 0.33569992Epoch: 15 train_mse: 0.33552867Epoch: 15 train_mse: 0.33500493Epoch: 15 train_mse: 0.33465704Epoch: 15 train_mse: 0.33535948Epoch: 15 train_mse: 0.33558238Epoch: 15 train_mse: 0.33825925Epoch: 15 train_mse: 0.33925903Epoch: 15 train_mse: 0.33882168Epoch: 15 train_mse: 0.33855522Epoch: 15 train_mse: 0.3394494Epoch: 15 train_mse: 0.33909112Epoch: 15 train_mse: 0.33914277Epoch: 15 train_mse: 0.3399199Epoch: 15 train_mse: 0.33997154Epoch: 15 train_mse: 0.3396544Epoch: 15 train_mse: 0.33977178Epoch: 15 train_mse: 0.33988294Epoch: 15 train_mse: 0.33941606Epoch: 15 train_mse: 0.3391904Epoch: 15 train_mse: 0.33895063Epoch: 15 train_mse: 0.33849713Epoch: 15 train_mse: 0.33909625"
     ]
    },
    {
     "name": "stdout",
     "output_type": "stream",
     "text": [
      "Epoch: 15 train_mse: 0.33904746Epoch: 15 train_mse: 0.33972827Epoch: 15 train_mse: 0.33960128Epoch: 15 train_mse: 0.33984384Epoch: 15 train_mse: 0.3397666Epoch: 15 train_mse: 0.34163553Epoch: 15 train_mse: 0.34259382Epoch: 15 train_mse: 0.34268397Epoch: 15 train_mse: 0.34230635Epoch: 15 train_mse: 0.34267625Epoch: 15 train_mse: 0.3424521Epoch: 15 train_mse: 0.34213212Epoch: 15 train_mse: 0.341986Epoch: 15 train_mse: 0.34185725Epoch: 15 train_mse: 0.34203467Epoch: 15 train_mse: 0.34186167Epoch: 15 train_mse: 0.34193125Epoch: 15 train_mse: 0.3422877Epoch: 15 train_mse: 0.3423448Epoch: 15 train_mse: 0.34154728Epoch: 15 train_mse: 0.3425179Epoch: 15 train_mse: 0.34229764Epoch: 15 train_mse: 0.3416777Epoch: 15 train_mse: 0.34151256Epoch: 15 train_mse: 0.34106955Epoch: 15 train_mse: 0.34077382Epoch: 15 train_mse: 0.34099728Epoch: 15 train_mse: 0.3414147Epoch: 15 train_mse: 0.34171394Epoch: 15 train_mse: 0.3432104Epoch: 15 train_mse: 0.34293994Epoch: 15 train_mse: 0.34281343Epoch: 15 train_mse: 0.34394798Epoch: 15 train_mse: 0.34479117Epoch: 15 train_mse: 0.34437007Epoch: 15 train_mse: 0.34471488Epoch: 15 train_mse: 0.34602216Epoch: 15 train_mse: 0.34570095Epoch: 15 train_mse: 0.34538025Epoch: 15 train_mse: 0.345369Epoch: 15 train_mse: 0.34495714Epoch: 15 train_mse: 0.34561226Epoch: 15 train_mse: 0.3452946Epoch: 15 train_mse: 0.34476075Epoch: 15 train_mse: 0.34470218Epoch: 15 train_mse: 0.34463814Epoch: 15 train_mse: 0.34536362Epoch: 15 train_mse: 0.34508574Epoch: 15 train_mse: 0.34488544Epoch: 15 train_mse: 0.3445298Epoch: 15 train_mse: 0.3441636Epoch: 15 train_mse: 0.34470266Epoch: 15 train_mse: 0.3450043Epoch: 15 train_mse: 0.34516615Epoch: 15 train_mse: 0.34509444Epoch: 15 train_mse: 0.34504017Epoch: 15 train_mse: 0.3453618Epoch: 15 train_mse: 0.34546834Epoch: 15 train_mse: 0.3463926Epoch: 15 train_mse: 0.34646797Epoch: 15 train_mse: 0.3464625Epoch: 15 train_mse: 0.3461854Epoch: 15 train_mse: 0.34791392Epoch: 15 train_mse: 0.34776482Epoch: 15 train_mse: 0.3487774Epoch: 15 train_mse: 0.34900975Epoch: 15 train_mse: 0.35049427Epoch: 15 train_mse: 0.35119954Epoch: 15 train_mse: 0.35201755Epoch: 15 train_mse: 0.35176894Epoch: 15 train_mse: 0.35145915Epoch: 15 train_mse: 0.35094032\t valid mse: 0.35675493\n"
     ]
    },
    {
     "name": "stdout",
     "output_type": "stream",
     "text": [
      "Epoch: 16 train_mse: 0.30579293Epoch: 16 train_mse: 0.3530232Epoch: 16 train_mse: 0.3030578Epoch: 16 train_mse: 0.3708428Epoch: 16 train_mse: 0.353205Epoch: 16 train_mse: 0.3902813Epoch: 16 train_mse: 0.38565904Epoch: 16 train_mse: 0.38548473Epoch: 16 train_mse: 0.38020986Epoch: 16 train_mse: 0.384515Epoch: 16 train_mse: 0.37261248Epoch: 16 train_mse: 0.37612545Epoch: 16 train_mse: 0.37365347Epoch: 16 train_mse: 0.38320965Epoch: 16 train_mse: 0.37754562Epoch: 16 train_mse: 0.39379513Epoch: 16 train_mse: 0.40628767Epoch: 16 train_mse: 0.3973614Epoch: 16 train_mse: 0.38891888Epoch: 16 train_mse: 0.38163915Epoch: 16 train_mse: 0.3847638Epoch: 16 train_mse: 0.38425472Epoch: 16 train_mse: 0.38123637Epoch: 16 train_mse: 0.39027587Epoch: 16 train_mse: 0.39165825Epoch: 16 train_mse: 0.38369676Epoch: 16 train_mse: 0.39367047Epoch: 16 train_mse: 0.39286545Epoch: 16 train_mse: 0.38851535Epoch: 16 train_mse: 0.380783Epoch: 16 train_mse: 0.37519705Epoch: 16 train_mse: 0.37836674Epoch: 16 train_mse: 0.37530813Epoch: 16 train_mse: 0.37371147Epoch: 16 train_mse: 0.3736037Epoch: 16 train_mse: 0.366932Epoch: 16 train_mse: 0.36040163Epoch: 16 train_mse: 0.36950326Epoch: 16 train_mse: 0.3665584Epoch: 16 train_mse: 0.36306053Epoch: 16 train_mse: 0.3588997Epoch: 16 train_mse: 0.35528558Epoch: 16 train_mse: 0.35054293Epoch: 16 train_mse: 0.3495022Epoch: 16 train_mse: 0.34627125Epoch: 16 train_mse: 0.35065463Epoch: 16 train_mse: 0.35271376Epoch: 16 train_mse: 0.3501649Epoch: 16 train_mse: 0.34820744Epoch: 16 train_mse: 0.34681356Epoch: 16 train_mse: 0.34542304Epoch: 16 train_mse: 0.3414348Epoch: 16 train_mse: 0.3395483Epoch: 16 train_mse: 0.34051776Epoch: 16 train_mse: 0.3409936Epoch: 16 train_mse: 0.34304044Epoch: 16 train_mse: 0.3436925Epoch: 16 train_mse: 0.3453992Epoch: 16 train_mse: 0.34646958Epoch: 16 train_mse: 0.34935915Epoch: 16 train_mse: 0.3469378Epoch: 16 train_mse: 0.34606385Epoch: 16 train_mse: 0.34608358Epoch: 16 train_mse: 0.34804103Epoch: 16 train_mse: 0.34796834Epoch: 16 train_mse: 0.3479743Epoch: 16 train_mse: 0.34550065Epoch: 16 train_mse: 0.34634617Epoch: 16 train_mse: 0.34511012Epoch: 16 train_mse: 0.3457062Epoch: 16 train_mse: 0.3446603Epoch: 16 train_mse: 0.34584367Epoch: 16 train_mse: 0.3485463Epoch: 16 train_mse: 0.35007322Epoch: 16 train_mse: 0.35156855Epoch: 16 train_mse: 0.35029006Epoch: 16 train_mse: 0.34918448Epoch: 16 train_mse: 0.34864405Epoch: 16 train_mse: 0.34725907Epoch: 16 train_mse: 0.34934142Epoch: 16 train_mse: 0.349178Epoch: 16 train_mse: 0.34864676Epoch: 16 train_mse: 0.34880674Epoch: 16 train_mse: 0.34703413Epoch: 16 train_mse: 0.34473613Epoch: 16 train_mse: 0.34550887Epoch: 16 train_mse: 0.34429967Epoch: 16 train_mse: 0.34330037Epoch: 16 train_mse: 0.34510022Epoch: 16 train_mse: 0.34547558Epoch: 16 train_mse: 0.34543818Epoch: 16 train_mse: 0.34749368Epoch: 16 train_mse: 0.3465079Epoch: 16 train_mse: 0.34690195Epoch: 16 train_mse: 0.34658098Epoch: 16 train_mse: 0.34531462Epoch: 16 train_mse: 0.34368744Epoch: 16 train_mse: 0.34617504Epoch: 16 train_mse: 0.34668326Epoch: 16 train_mse: 0.34551904Epoch: 16 train_mse: 0.34407794Epoch: 16 train_mse: 0.34400958Epoch: 16 train_mse: 0.34240037Epoch: 16 train_mse: 0.34177643Epoch: 16 train_mse: 0.33945733Epoch: 16 train_mse: 0.34174317Epoch: 16 train_mse: 0.34083635Epoch: 16 train_mse: 0.34384862Epoch: 16 train_mse: 0.34509882Epoch: 16 train_mse: 0.34392586Epoch: 16 train_mse: 0.34743553Epoch: 16 train_mse: 0.34714866Epoch: 16 train_mse: 0.34614608Epoch: 16 train_mse: 0.34500623Epoch: 16 train_mse: 0.34454438Epoch: 16 train_mse: 0.34799534Epoch: 16 train_mse: 0.34784752Epoch: 16 train_mse: 0.34777835Epoch: 16 train_mse: 0.34586298Epoch: 16 train_mse: 0.34640238Epoch: 16 train_mse: 0.3480737Epoch: 16 train_mse: 0.34889588Epoch: 16 train_mse: 0.3513071Epoch: 16 train_mse: 0.351984Epoch: 16 train_mse: 0.35059083Epoch: 16 train_mse: 0.349544Epoch: 16 train_mse: 0.34892806Epoch: 16 train_mse: 0.34987038Epoch: 16 train_mse: 0.34946012Epoch: 16 train_mse: 0.34936756Epoch: 16 train_mse: 0.34865263Epoch: 16 train_mse: 0.35129857Epoch: 16 train_mse: 0.35249153Epoch: 16 train_mse: 0.3519975Epoch: 16 train_mse: 0.35405236Epoch: 16 train_mse: 0.35338542Epoch: 16 train_mse: 0.35395783Epoch: 16 train_mse: 0.35334212Epoch: 16 train_mse: 0.35255823Epoch: 16 train_mse: 0.35207126Epoch: 16 train_mse: 0.3510952Epoch: 16 train_mse: 0.35051528Epoch: 16 train_mse: 0.34945747Epoch: 16 train_mse: 0.34940994Epoch: 16 train_mse: 0.34848854Epoch: 16 train_mse: 0.34992844Epoch: 16 train_mse: 0.34894106Epoch: 16 train_mse: 0.3482672Epoch: 16 train_mse: 0.35052213Epoch: 16 train_mse: 0.35169867Epoch: 16 train_mse: 0.35371128Epoch: 16 train_mse: 0.35388604Epoch: 16 train_mse: 0.3538257Epoch: 16 train_mse: 0.35349324Epoch: 16 train_mse: 0.35187936Epoch: 16 train_mse: 0.35103697Epoch: 16 train_mse: 0.3518221Epoch: 16 train_mse: 0.3525848Epoch: 16 train_mse: 0.3527464Epoch: 16 train_mse: 0.35275126Epoch: 16 train_mse: 0.35157683Epoch: 16 train_mse: 0.35216203Epoch: 16 train_mse: 0.35215417Epoch: 16 train_mse: 0.3551439Epoch: 16 train_mse: 0.35466287Epoch: 16 train_mse: 0.35390276Epoch: 16 train_mse: 0.3551075Epoch: 16 train_mse: 0.35487646Epoch: 16 train_mse: 0.35419795Epoch: 16 train_mse: 0.35681558Epoch: 16 train_mse: 0.35557282Epoch: 16 train_mse: 0.35465038Epoch: 16 train_mse: 0.3534692Epoch: 16 train_mse: 0.35271707Epoch: 16 train_mse: 0.35155728Epoch: 16 train_mse: 0.35244837Epoch: 16 train_mse: 0.3516582Epoch: 16 train_mse: 0.35249698Epoch: 16 train_mse: 0.35307157Epoch: 16 train_mse: 0.3524334Epoch: 16 train_mse: 0.35185507Epoch: 16 train_mse: 0.35086164Epoch: 16 train_mse: 0.35008502Epoch: 16 train_mse: 0.34933257Epoch: 16 train_mse: 0.3488965Epoch: 16 train_mse: 0.34894314Epoch: 16 train_mse: 0.34814718Epoch: 16 train_mse: 0.34746966Epoch: 16 train_mse: 0.34627455Epoch: 16 train_mse: 0.3466148Epoch: 16 train_mse: 0.3472437Epoch: 16 train_mse: 0.34940758Epoch: 16 train_mse: 0.34883276Epoch: 16 train_mse: 0.3480356Epoch: 16 train_mse: 0.34738958Epoch: 16 train_mse: 0.3479752Epoch: 16 train_mse: 0.3479795Epoch: 16 train_mse: 0.3474468Epoch: 16 train_mse: 0.347749Epoch: 16 train_mse: 0.3495143Epoch: 16 train_mse: 0.34913743Epoch: 16 train_mse: 0.34980166Epoch: 16 train_mse: 0.35004762Epoch: 16 train_mse: 0.34906504Epoch: 16 train_mse: 0.34884694Epoch: 16 train_mse: 0.34819287Epoch: 16 train_mse: 0.3477263Epoch: 16 train_mse: 0.34790817Epoch: 16 train_mse: 0.3472574Epoch: 16 train_mse: 0.34729713Epoch: 16 train_mse: 0.34731507Epoch: 16 train_mse: 0.3479377Epoch: 16 train_mse: 0.3495608Epoch: 16 train_mse: 0.34947893Epoch: 16 train_mse: 0.34842983Epoch: 16 train_mse: 0.34799728Epoch: 16 train_mse: 0.3471277Epoch: 16 train_mse: 0.34727335Epoch: 16 train_mse: 0.34670052Epoch: 16 train_mse: 0.3467634Epoch: 16 train_mse: 0.34854296Epoch: 16 train_mse: 0.34802854Epoch: 16 train_mse: 0.34786892Epoch: 16 train_mse: 0.346993Epoch: 16 train_mse: 0.3468067Epoch: 16 train_mse: 0.34638774Epoch: 16 train_mse: 0.3455726Epoch: 16 train_mse: 0.34509456Epoch: 16 train_mse: 0.34524983Epoch: 16 train_mse: 0.34515896Epoch: 16 train_mse: 0.34463874Epoch: 16 train_mse: 0.34394574Epoch: 16 train_mse: 0.34538728Epoch: 16 train_mse: 0.34504944Epoch: 16 train_mse: 0.34449157Epoch: 16 train_mse: 0.34361014Epoch: 16 train_mse: 0.34422758Epoch: 16 train_mse: 0.34399632Epoch: 16 train_mse: 0.34392822Epoch: 16 train_mse: 0.34365684Epoch: 16 train_mse: 0.34353384Epoch: 16 train_mse: 0.34271196Epoch: 16 train_mse: 0.34228703Epoch: 16 train_mse: 0.3419484Epoch: 16 train_mse: 0.34242582Epoch: 16 train_mse: 0.34178114Epoch: 16 train_mse: 0.34143463Epoch: 16 train_mse: 0.34141725Epoch: 16 train_mse: 0.3409621Epoch: 16 train_mse: 0.34069836Epoch: 16 train_mse: 0.34089166Epoch: 16 train_mse: 0.3412638Epoch: 16 train_mse: 0.34068555Epoch: 16 train_mse: 0.34129253Epoch: 16 train_mse: 0.34169436Epoch: 16 train_mse: 0.34239703Epoch: 16 train_mse: 0.34293362Epoch: 16 train_mse: 0.34248543Epoch: 16 train_mse: 0.3424793Epoch: 16 train_mse: 0.34179124Epoch: 16 train_mse: 0.34163222Epoch: 16 train_mse: 0.34161088Epoch: 16 train_mse: 0.34269324Epoch: 16 train_mse: 0.34176004Epoch: 16 train_mse: 0.34128648Epoch: 16 train_mse: 0.3419584Epoch: 16 train_mse: 0.34197015Epoch: 16 train_mse: 0.34110376Epoch: 16 train_mse: 0.3410758Epoch: 16 train_mse: 0.3414903Epoch: 16 train_mse: 0.3409941Epoch: 16 train_mse: 0.34070134Epoch: 16 train_mse: 0.34083268Epoch: 16 train_mse: 0.34067497Epoch: 16 train_mse: 0.34128857Epoch: 16 train_mse: 0.34140489Epoch: 16 train_mse: 0.34099665Epoch: 16 train_mse: 0.34244856Epoch: 16 train_mse: 0.34185156Epoch: 16 train_mse: 0.34156182Epoch: 16 train_mse: 0.34226298Epoch: 16 train_mse: 0.3424542Epoch: 16 train_mse: 0.3420913Epoch: 16 train_mse: 0.34292972Epoch: 16 train_mse: 0.34293017Epoch: 16 train_mse: 0.34252617Epoch: 16 train_mse: 0.34324586Epoch: 16 train_mse: 0.34352398Epoch: 16 train_mse: 0.34580272Epoch: 16 train_mse: 0.34551796Epoch: 16 train_mse: 0.34542516Epoch: 16 train_mse: 0.34551993Epoch: 16 train_mse: 0.34634727Epoch: 16 train_mse: 0.34635398Epoch: 16 train_mse: 0.34620324Epoch: 16 train_mse: 0.34659606Epoch: 16 train_mse: 0.34616876Epoch: 16 train_mse: 0.34660217Epoch: 16 train_mse: 0.34641904Epoch: 16 train_mse: 0.34683308Epoch: 16 train_mse: 0.34683344Epoch: 16 train_mse: 0.3463111Epoch: 16 train_mse: 0.34597534Epoch: 16 train_mse: 0.34593278Epoch: 16 train_mse: 0.34636745Epoch: 16 train_mse: 0.34590432Epoch: 16 train_mse: 0.34595197Epoch: 16 train_mse: 0.34544864Epoch: 16 train_mse: 0.3471555Epoch: 16 train_mse: 0.3468752Epoch: 16 train_mse: 0.34668317Epoch: 16 train_mse: 0.34660006"
     ]
    },
    {
     "name": "stdout",
     "output_type": "stream",
     "text": [
      "Epoch: 16 train_mse: 0.3468019Epoch: 16 train_mse: 0.34684995Epoch: 16 train_mse: 0.34705552Epoch: 16 train_mse: 0.3468213Epoch: 16 train_mse: 0.34654078Epoch: 16 train_mse: 0.34712353Epoch: 16 train_mse: 0.34722328Epoch: 16 train_mse: 0.34691843Epoch: 16 train_mse: 0.34665617Epoch: 16 train_mse: 0.34624937Epoch: 16 train_mse: 0.3460575Epoch: 16 train_mse: 0.34620702Epoch: 16 train_mse: 0.34575593Epoch: 16 train_mse: 0.3454985Epoch: 16 train_mse: 0.3458431Epoch: 16 train_mse: 0.34592494Epoch: 16 train_mse: 0.34575403Epoch: 16 train_mse: 0.34527245Epoch: 16 train_mse: 0.34687626Epoch: 16 train_mse: 0.34639555Epoch: 16 train_mse: 0.3458583Epoch: 16 train_mse: 0.34584078Epoch: 16 train_mse: 0.34660402Epoch: 16 train_mse: 0.346567Epoch: 16 train_mse: 0.34630263Epoch: 16 train_mse: 0.34579003Epoch: 16 train_mse: 0.34637177Epoch: 16 train_mse: 0.34613204Epoch: 16 train_mse: 0.3460545Epoch: 16 train_mse: 0.3460431Epoch: 16 train_mse: 0.34597898Epoch: 16 train_mse: 0.34694064Epoch: 16 train_mse: 0.34685177Epoch: 16 train_mse: 0.3463817Epoch: 16 train_mse: 0.34674746Epoch: 16 train_mse: 0.34717914Epoch: 16 train_mse: 0.3476584Epoch: 16 train_mse: 0.34750623Epoch: 16 train_mse: 0.34732574Epoch: 16 train_mse: 0.34756163Epoch: 16 train_mse: 0.34706104Epoch: 16 train_mse: 0.349587Epoch: 16 train_mse: 0.34912297Epoch: 16 train_mse: 0.34861454Epoch: 16 train_mse: 0.34911945Epoch: 16 train_mse: 0.34868258Epoch: 16 train_mse: 0.34869227Epoch: 16 train_mse: 0.34906787Epoch: 16 train_mse: 0.34915572Epoch: 16 train_mse: 0.3489903\t valid mse: 0.3578731\n"
     ]
    },
    {
     "name": "stdout",
     "output_type": "stream",
     "text": [
      "Epoch: 17 train_mse: 0.15112767Epoch: 17 train_mse: 0.20532021Epoch: 17 train_mse: 0.24708265Epoch: 17 train_mse: 0.2306196Epoch: 17 train_mse: 0.3237841Epoch: 17 train_mse: 0.30690244Epoch: 17 train_mse: 0.29096794Epoch: 17 train_mse: 0.31475776Epoch: 17 train_mse: 0.32978126Epoch: 17 train_mse: 0.3283271Epoch: 17 train_mse: 0.35215127Epoch: 17 train_mse: 0.34993526Epoch: 17 train_mse: 0.34874493Epoch: 17 train_mse: 0.34355912Epoch: 17 train_mse: 0.34329808Epoch: 17 train_mse: 0.3412359Epoch: 17 train_mse: 0.35291842Epoch: 17 train_mse: 0.34384543Epoch: 17 train_mse: 0.35581952Epoch: 17 train_mse: 0.36113352Epoch: 17 train_mse: 0.36140263Epoch: 17 train_mse: 0.36093947Epoch: 17 train_mse: 0.35272697Epoch: 17 train_mse: 0.3452835Epoch: 17 train_mse: 0.33875886Epoch: 17 train_mse: 0.35079333Epoch: 17 train_mse: 0.35045564Epoch: 17 train_mse: 0.34533936Epoch: 17 train_mse: 0.34341854Epoch: 17 train_mse: 0.3461002Epoch: 17 train_mse: 0.3492893Epoch: 17 train_mse: 0.3484402Epoch: 17 train_mse: 0.34620413Epoch: 17 train_mse: 0.34229478Epoch: 17 train_mse: 0.34874746Epoch: 17 train_mse: 0.3502242Epoch: 17 train_mse: 0.34450817Epoch: 17 train_mse: 0.34772748Epoch: 17 train_mse: 0.34689182Epoch: 17 train_mse: 0.3531043Epoch: 17 train_mse: 0.36098084Epoch: 17 train_mse: 0.36015016Epoch: 17 train_mse: 0.35410616Epoch: 17 train_mse: 0.3520071Epoch: 17 train_mse: 0.3559271Epoch: 17 train_mse: 0.3579393Epoch: 17 train_mse: 0.35613203Epoch: 17 train_mse: 0.35280648Epoch: 17 train_mse: 0.35080087Epoch: 17 train_mse: 0.34946713Epoch: 17 train_mse: 0.34740666Epoch: 17 train_mse: 0.34613463Epoch: 17 train_mse: 0.34470233Epoch: 17 train_mse: 0.3445531Epoch: 17 train_mse: 0.34261286Epoch: 17 train_mse: 0.33920458Epoch: 17 train_mse: 0.3389534Epoch: 17 train_mse: 0.33576137Epoch: 17 train_mse: 0.33285996Epoch: 17 train_mse: 0.33300397Epoch: 17 train_mse: 0.32984164Epoch: 17 train_mse: 0.3289913Epoch: 17 train_mse: 0.33253795Epoch: 17 train_mse: 0.33060133Epoch: 17 train_mse: 0.33151132Epoch: 17 train_mse: 0.33440602Epoch: 17 train_mse: 0.33402047Epoch: 17 train_mse: 0.34021595Epoch: 17 train_mse: 0.3399674Epoch: 17 train_mse: 0.33880147Epoch: 17 train_mse: 0.3385787Epoch: 17 train_mse: 0.33647233Epoch: 17 train_mse: 0.3397771Epoch: 17 train_mse: 0.34160542Epoch: 17 train_mse: 0.33951455Epoch: 17 train_mse: 0.33683896Epoch: 17 train_mse: 0.3376065Epoch: 17 train_mse: 0.33665863Epoch: 17 train_mse: 0.33410853Epoch: 17 train_mse: 0.3317954Epoch: 17 train_mse: 0.33263054Epoch: 17 train_mse: 0.33186182Epoch: 17 train_mse: 0.3318401Epoch: 17 train_mse: 0.33102354Epoch: 17 train_mse: 0.328683Epoch: 17 train_mse: 0.3280093Epoch: 17 train_mse: 0.3282719Epoch: 17 train_mse: 0.3297803Epoch: 17 train_mse: 0.32784086Epoch: 17 train_mse: 0.32867062Epoch: 17 train_mse: 0.32992658Epoch: 17 train_mse: 0.3337707Epoch: 17 train_mse: 0.3326852Epoch: 17 train_mse: 0.3327382Epoch: 17 train_mse: 0.33178008Epoch: 17 train_mse: 0.33182892Epoch: 17 train_mse: 0.33615664Epoch: 17 train_mse: 0.33769748Epoch: 17 train_mse: 0.33625764Epoch: 17 train_mse: 0.3383616Epoch: 17 train_mse: 0.33745265Epoch: 17 train_mse: 0.33828512Epoch: 17 train_mse: 0.33806467Epoch: 17 train_mse: 0.33676115Epoch: 17 train_mse: 0.33663738Epoch: 17 train_mse: 0.33633533Epoch: 17 train_mse: 0.33604428Epoch: 17 train_mse: 0.33641294Epoch: 17 train_mse: 0.33767584Epoch: 17 train_mse: 0.3376116Epoch: 17 train_mse: 0.33861247Epoch: 17 train_mse: 0.33695412Epoch: 17 train_mse: 0.3371679Epoch: 17 train_mse: 0.3373275Epoch: 17 train_mse: 0.33938542Epoch: 17 train_mse: 0.3440533Epoch: 17 train_mse: 0.34275573Epoch: 17 train_mse: 0.34269103Epoch: 17 train_mse: 0.34178653Epoch: 17 train_mse: 0.34220985Epoch: 17 train_mse: 0.34123978Epoch: 17 train_mse: 0.34370095Epoch: 17 train_mse: 0.34341353Epoch: 17 train_mse: 0.34294188Epoch: 17 train_mse: 0.34313378Epoch: 17 train_mse: 0.34203148Epoch: 17 train_mse: 0.34119424Epoch: 17 train_mse: 0.34010676Epoch: 17 train_mse: 0.33913112Epoch: 17 train_mse: 0.3382031Epoch: 17 train_mse: 0.33751222Epoch: 17 train_mse: 0.34043488Epoch: 17 train_mse: 0.34000954Epoch: 17 train_mse: 0.33963913Epoch: 17 train_mse: 0.34097484Epoch: 17 train_mse: 0.3398793Epoch: 17 train_mse: 0.33921504Epoch: 17 train_mse: 0.33931303Epoch: 17 train_mse: 0.33806783Epoch: 17 train_mse: 0.3376797Epoch: 17 train_mse: 0.33687836Epoch: 17 train_mse: 0.3361661Epoch: 17 train_mse: 0.33757758Epoch: 17 train_mse: 0.3365164Epoch: 17 train_mse: 0.3378263Epoch: 17 train_mse: 0.3364106Epoch: 17 train_mse: 0.33528596Epoch: 17 train_mse: 0.33601314Epoch: 17 train_mse: 0.33558968Epoch: 17 train_mse: 0.33641875Epoch: 17 train_mse: 0.33529946Epoch: 17 train_mse: 0.33446887Epoch: 17 train_mse: 0.334887Epoch: 17 train_mse: 0.33378795Epoch: 17 train_mse: 0.3337101Epoch: 17 train_mse: 0.33295316Epoch: 17 train_mse: 0.33205548Epoch: 17 train_mse: 0.3319594Epoch: 17 train_mse: 0.33240783Epoch: 17 train_mse: 0.33356225Epoch: 17 train_mse: 0.33314562Epoch: 17 train_mse: 0.33342245Epoch: 17 train_mse: 0.3321489Epoch: 17 train_mse: 0.33155945Epoch: 17 train_mse: 0.3307217Epoch: 17 train_mse: 0.33126846Epoch: 17 train_mse: 0.3315646Epoch: 17 train_mse: 0.33098817Epoch: 17 train_mse: 0.33342615Epoch: 17 train_mse: 0.3325114Epoch: 17 train_mse: 0.33281994Epoch: 17 train_mse: 0.33336276Epoch: 17 train_mse: 0.3331664Epoch: 17 train_mse: 0.33287337Epoch: 17 train_mse: 0.3328461Epoch: 17 train_mse: 0.33292332Epoch: 17 train_mse: 0.33192474Epoch: 17 train_mse: 0.33189428Epoch: 17 train_mse: 0.3323405Epoch: 17 train_mse: 0.33181322Epoch: 17 train_mse: 0.3334585Epoch: 17 train_mse: 0.33334845Epoch: 17 train_mse: 0.3327694Epoch: 17 train_mse: 0.33226785Epoch: 17 train_mse: 0.33207604Epoch: 17 train_mse: 0.33217147Epoch: 17 train_mse: 0.33157912Epoch: 17 train_mse: 0.33127218Epoch: 17 train_mse: 0.33065805Epoch: 17 train_mse: 0.33081618Epoch: 17 train_mse: 0.33096692Epoch: 17 train_mse: 0.3308955Epoch: 17 train_mse: 0.3299774Epoch: 17 train_mse: 0.32948157Epoch: 17 train_mse: 0.32921088Epoch: 17 train_mse: 0.329531Epoch: 17 train_mse: 0.32958522Epoch: 17 train_mse: 0.3294327Epoch: 17 train_mse: 0.32944608Epoch: 17 train_mse: 0.33031383Epoch: 17 train_mse: 0.3304373Epoch: 17 train_mse: 0.33049008Epoch: 17 train_mse: 0.33005825Epoch: 17 train_mse: 0.32971993Epoch: 17 train_mse: 0.33028522Epoch: 17 train_mse: 0.32940534Epoch: 17 train_mse: 0.32891905Epoch: 17 train_mse: 0.3297222Epoch: 17 train_mse: 0.32884154Epoch: 17 train_mse: 0.32932234Epoch: 17 train_mse: 0.3289453Epoch: 17 train_mse: 0.3297762Epoch: 17 train_mse: 0.329015Epoch: 17 train_mse: 0.32829282Epoch: 17 train_mse: 0.32813728Epoch: 17 train_mse: 0.32781062Epoch: 17 train_mse: 0.32871208Epoch: 17 train_mse: 0.3286099Epoch: 17 train_mse: 0.32845163Epoch: 17 train_mse: 0.32990396Epoch: 17 train_mse: 0.33079132Epoch: 17 train_mse: 0.332474Epoch: 17 train_mse: 0.33218917Epoch: 17 train_mse: 0.33133277Epoch: 17 train_mse: 0.3307139Epoch: 17 train_mse: 0.33029914Epoch: 17 train_mse: 0.33096197Epoch: 17 train_mse: 0.33081293Epoch: 17 train_mse: 0.33014584Epoch: 17 train_mse: 0.33011225Epoch: 17 train_mse: 0.3297935Epoch: 17 train_mse: 0.32924694Epoch: 17 train_mse: 0.32907045Epoch: 17 train_mse: 0.3283785Epoch: 17 train_mse: 0.32946303Epoch: 17 train_mse: 0.32895148Epoch: 17 train_mse: 0.32885778Epoch: 17 train_mse: 0.32839116Epoch: 17 train_mse: 0.33039027Epoch: 17 train_mse: 0.331142Epoch: 17 train_mse: 0.33127433Epoch: 17 train_mse: 0.33134395Epoch: 17 train_mse: 0.33120632Epoch: 17 train_mse: 0.33118513Epoch: 17 train_mse: 0.33136314Epoch: 17 train_mse: 0.33218732Epoch: 17 train_mse: 0.33173683Epoch: 17 train_mse: 0.33140257Epoch: 17 train_mse: 0.3322967Epoch: 17 train_mse: 0.33243755Epoch: 17 train_mse: 0.3331113Epoch: 17 train_mse: 0.3341063Epoch: 17 train_mse: 0.3333808Epoch: 17 train_mse: 0.33396292Epoch: 17 train_mse: 0.3358755Epoch: 17 train_mse: 0.3355619Epoch: 17 train_mse: 0.3351385Epoch: 17 train_mse: 0.33467504Epoch: 17 train_mse: 0.3344504Epoch: 17 train_mse: 0.33471462Epoch: 17 train_mse: 0.33549693Epoch: 17 train_mse: 0.33617923Epoch: 17 train_mse: 0.33647388Epoch: 17 train_mse: 0.3367199Epoch: 17 train_mse: 0.33617932Epoch: 17 train_mse: 0.3357885Epoch: 17 train_mse: 0.33539805Epoch: 17 train_mse: 0.334631Epoch: 17 train_mse: 0.3347865Epoch: 17 train_mse: 0.33433822Epoch: 17 train_mse: 0.3346469Epoch: 17 train_mse: 0.334196Epoch: 17 train_mse: 0.33391303Epoch: 17 train_mse: 0.3350698Epoch: 17 train_mse: 0.33557558Epoch: 17 train_mse: 0.33521736Epoch: 17 train_mse: 0.3358564Epoch: 17 train_mse: 0.3357281Epoch: 17 train_mse: 0.3355384Epoch: 17 train_mse: 0.33566707Epoch: 17 train_mse: 0.33523995Epoch: 17 train_mse: 0.3358493Epoch: 17 train_mse: 0.3368136Epoch: 17 train_mse: 0.33848888Epoch: 17 train_mse: 0.33797467Epoch: 17 train_mse: 0.33771193Epoch: 17 train_mse: 0.33793625Epoch: 17 train_mse: 0.33875299"
     ]
    },
    {
     "name": "stdout",
     "output_type": "stream",
     "text": [
      "Epoch: 17 train_mse: 0.33888614Epoch: 17 train_mse: 0.33856663Epoch: 17 train_mse: 0.33918843Epoch: 17 train_mse: 0.3386925Epoch: 17 train_mse: 0.3381761Epoch: 17 train_mse: 0.33750018Epoch: 17 train_mse: 0.33723626Epoch: 17 train_mse: 0.33736682Epoch: 17 train_mse: 0.33766505Epoch: 17 train_mse: 0.3371829Epoch: 17 train_mse: 0.33703426Epoch: 17 train_mse: 0.33687514Epoch: 17 train_mse: 0.33651978Epoch: 17 train_mse: 0.3362062Epoch: 17 train_mse: 0.33645535Epoch: 17 train_mse: 0.3365819Epoch: 17 train_mse: 0.33679742Epoch: 17 train_mse: 0.33751544Epoch: 17 train_mse: 0.33756208Epoch: 17 train_mse: 0.33735466Epoch: 17 train_mse: 0.33741355Epoch: 17 train_mse: 0.3381023Epoch: 17 train_mse: 0.3380269Epoch: 17 train_mse: 0.33915854Epoch: 17 train_mse: 0.33858678Epoch: 17 train_mse: 0.33858034Epoch: 17 train_mse: 0.33855572Epoch: 17 train_mse: 0.3382707Epoch: 17 train_mse: 0.33837426Epoch: 17 train_mse: 0.33864394Epoch: 17 train_mse: 0.33975372Epoch: 17 train_mse: 0.34046942Epoch: 17 train_mse: 0.3408429Epoch: 17 train_mse: 0.3404197Epoch: 17 train_mse: 0.34031525Epoch: 17 train_mse: 0.33975777Epoch: 17 train_mse: 0.3399588Epoch: 17 train_mse: 0.33984983Epoch: 17 train_mse: 0.33953142Epoch: 17 train_mse: 0.33919308Epoch: 17 train_mse: 0.33861327Epoch: 17 train_mse: 0.33840236Epoch: 17 train_mse: 0.33954212Epoch: 17 train_mse: 0.33912253Epoch: 17 train_mse: 0.33910605Epoch: 17 train_mse: 0.33894426Epoch: 17 train_mse: 0.33864513Epoch: 17 train_mse: 0.33821663Epoch: 17 train_mse: 0.33817744Epoch: 17 train_mse: 0.3379714Epoch: 17 train_mse: 0.33805496Epoch: 17 train_mse: 0.33759916Epoch: 17 train_mse: 0.33743092Epoch: 17 train_mse: 0.33706146Epoch: 17 train_mse: 0.3369961Epoch: 17 train_mse: 0.33752316Epoch: 17 train_mse: 0.33734468Epoch: 17 train_mse: 0.33709896Epoch: 17 train_mse: 0.33753726Epoch: 17 train_mse: 0.33786774Epoch: 17 train_mse: 0.33813006Epoch: 17 train_mse: 0.33850768Epoch: 17 train_mse: 0.3393754Epoch: 17 train_mse: 0.33889934Epoch: 17 train_mse: 0.33907235Epoch: 17 train_mse: 0.33936536Epoch: 17 train_mse: 0.33885506Epoch: 17 train_mse: 0.3388455Epoch: 17 train_mse: 0.33831593Epoch: 17 train_mse: 0.3386119Epoch: 17 train_mse: 0.33902183Epoch: 17 train_mse: 0.33936Epoch: 17 train_mse: 0.33905345Epoch: 17 train_mse: 0.3394424\t valid mse: 0.3574309\n"
     ]
    },
    {
     "name": "stdout",
     "output_type": "stream",
     "text": [
      "Epoch: 18 train_mse: 0.35017478Epoch: 18 train_mse: 0.35720548Epoch: 18 train_mse: 0.3185902Epoch: 18 train_mse: 0.32800403Epoch: 18 train_mse: 0.30832133Epoch: 18 train_mse: 0.32547113Epoch: 18 train_mse: 0.34863067Epoch: 18 train_mse: 0.33984417Epoch: 18 train_mse: 0.33248803Epoch: 18 train_mse: 0.31940866Epoch: 18 train_mse: 0.30731818Epoch: 18 train_mse: 0.30384198Epoch: 18 train_mse: 0.30115026Epoch: 18 train_mse: 0.31612024Epoch: 18 train_mse: 0.31012347Epoch: 18 train_mse: 0.3119721Epoch: 18 train_mse: 0.31118208Epoch: 18 train_mse: 0.30020437Epoch: 18 train_mse: 0.31225085Epoch: 18 train_mse: 0.3131013Epoch: 18 train_mse: 0.32013297Epoch: 18 train_mse: 0.31241757Epoch: 18 train_mse: 0.31206447Epoch: 18 train_mse: 0.30769372Epoch: 18 train_mse: 0.3039913Epoch: 18 train_mse: 0.30294332Epoch: 18 train_mse: 0.29793027Epoch: 18 train_mse: 0.2977379Epoch: 18 train_mse: 0.2952173Epoch: 18 train_mse: 0.2970881Epoch: 18 train_mse: 0.29735357Epoch: 18 train_mse: 0.29525393Epoch: 18 train_mse: 0.29839072Epoch: 18 train_mse: 0.3019073Epoch: 18 train_mse: 0.2987304Epoch: 18 train_mse: 0.30061597Epoch: 18 train_mse: 0.30274495Epoch: 18 train_mse: 0.30106997Epoch: 18 train_mse: 0.30024707Epoch: 18 train_mse: 0.3056764Epoch: 18 train_mse: 0.30699235Epoch: 18 train_mse: 0.30876467Epoch: 18 train_mse: 0.30779535Epoch: 18 train_mse: 0.31285584Epoch: 18 train_mse: 0.31642726Epoch: 18 train_mse: 0.31325528Epoch: 18 train_mse: 0.3112761Epoch: 18 train_mse: 0.3112553Epoch: 18 train_mse: 0.31181836Epoch: 18 train_mse: 0.31396917Epoch: 18 train_mse: 0.31314656Epoch: 18 train_mse: 0.3146757Epoch: 18 train_mse: 0.31306732Epoch: 18 train_mse: 0.31362984Epoch: 18 train_mse: 0.312819Epoch: 18 train_mse: 0.30966923Epoch: 18 train_mse: 0.31141695Epoch: 18 train_mse: 0.31220394Epoch: 18 train_mse: 0.31047815Epoch: 18 train_mse: 0.31083366Epoch: 18 train_mse: 0.31108168Epoch: 18 train_mse: 0.30982894Epoch: 18 train_mse: 0.31241786Epoch: 18 train_mse: 0.31064618Epoch: 18 train_mse: 0.31416312Epoch: 18 train_mse: 0.31305897Epoch: 18 train_mse: 0.3112875Epoch: 18 train_mse: 0.30974665Epoch: 18 train_mse: 0.3080556Epoch: 18 train_mse: 0.3079477Epoch: 18 train_mse: 0.30983362Epoch: 18 train_mse: 0.3139839Epoch: 18 train_mse: 0.3140472Epoch: 18 train_mse: 0.31163263Epoch: 18 train_mse: 0.3094783Epoch: 18 train_mse: 0.30860177Epoch: 18 train_mse: 0.30902314Epoch: 18 train_mse: 0.31457376Epoch: 18 train_mse: 0.3143461Epoch: 18 train_mse: 0.31336275Epoch: 18 train_mse: 0.3111049Epoch: 18 train_mse: 0.31437922Epoch: 18 train_mse: 0.31578603Epoch: 18 train_mse: 0.31912094Epoch: 18 train_mse: 0.31777045Epoch: 18 train_mse: 0.3167186Epoch: 18 train_mse: 0.31429535Epoch: 18 train_mse: 0.31499904Epoch: 18 train_mse: 0.31496984Epoch: 18 train_mse: 0.3155215Epoch: 18 train_mse: 0.31818524Epoch: 18 train_mse: 0.32329637Epoch: 18 train_mse: 0.32482898Epoch: 18 train_mse: 0.32510704Epoch: 18 train_mse: 0.32749623Epoch: 18 train_mse: 0.33017293Epoch: 18 train_mse: 0.33238184Epoch: 18 train_mse: 0.3318045Epoch: 18 train_mse: 0.33053297Epoch: 18 train_mse: 0.3301548Epoch: 18 train_mse: 0.3281247Epoch: 18 train_mse: 0.32749194Epoch: 18 train_mse: 0.3277742Epoch: 18 train_mse: 0.32666343Epoch: 18 train_mse: 0.32666507Epoch: 18 train_mse: 0.32583493Epoch: 18 train_mse: 0.3269081Epoch: 18 train_mse: 0.32995752Epoch: 18 train_mse: 0.3301883Epoch: 18 train_mse: 0.3319368Epoch: 18 train_mse: 0.3318742Epoch: 18 train_mse: 0.33224514Epoch: 18 train_mse: 0.332625Epoch: 18 train_mse: 0.3314645Epoch: 18 train_mse: 0.3328445Epoch: 18 train_mse: 0.335252Epoch: 18 train_mse: 0.33436772Epoch: 18 train_mse: 0.3342014Epoch: 18 train_mse: 0.33320504Epoch: 18 train_mse: 0.33353737Epoch: 18 train_mse: 0.33229318Epoch: 18 train_mse: 0.33084786Epoch: 18 train_mse: 0.32925063Epoch: 18 train_mse: 0.32974684Epoch: 18 train_mse: 0.32986796Epoch: 18 train_mse: 0.3288666Epoch: 18 train_mse: 0.3288656Epoch: 18 train_mse: 0.32857597Epoch: 18 train_mse: 0.32935342Epoch: 18 train_mse: 0.32764912Epoch: 18 train_mse: 0.32664984Epoch: 18 train_mse: 0.32721174Epoch: 18 train_mse: 0.32691267Epoch: 18 train_mse: 0.32700646Epoch: 18 train_mse: 0.32717365Epoch: 18 train_mse: 0.3260564Epoch: 18 train_mse: 0.32579756Epoch: 18 train_mse: 0.32555866Epoch: 18 train_mse: 0.32508218Epoch: 18 train_mse: 0.32618365Epoch: 18 train_mse: 0.3261867Epoch: 18 train_mse: 0.32612997Epoch: 18 train_mse: 0.32629102Epoch: 18 train_mse: 0.32613003Epoch: 18 train_mse: 0.32569447Epoch: 18 train_mse: 0.32664713Epoch: 18 train_mse: 0.32890198Epoch: 18 train_mse: 0.32842678Epoch: 18 train_mse: 0.32774732Epoch: 18 train_mse: 0.3279592Epoch: 18 train_mse: 0.32776752Epoch: 18 train_mse: 0.32669076Epoch: 18 train_mse: 0.32655188Epoch: 18 train_mse: 0.32807022Epoch: 18 train_mse: 0.32769188Epoch: 18 train_mse: 0.32693523Epoch: 18 train_mse: 0.32649517Epoch: 18 train_mse: 0.3254801Epoch: 18 train_mse: 0.32463595Epoch: 18 train_mse: 0.32422167Epoch: 18 train_mse: 0.32410213Epoch: 18 train_mse: 0.32344195Epoch: 18 train_mse: 0.32357097Epoch: 18 train_mse: 0.3232114Epoch: 18 train_mse: 0.32270864Epoch: 18 train_mse: 0.3221905Epoch: 18 train_mse: 0.3220171Epoch: 18 train_mse: 0.32397407Epoch: 18 train_mse: 0.32370844Epoch: 18 train_mse: 0.32363117Epoch: 18 train_mse: 0.3248482Epoch: 18 train_mse: 0.32440042Epoch: 18 train_mse: 0.3251252Epoch: 18 train_mse: 0.3254392Epoch: 18 train_mse: 0.325601Epoch: 18 train_mse: 0.3258006Epoch: 18 train_mse: 0.32591945Epoch: 18 train_mse: 0.3270395Epoch: 18 train_mse: 0.3268409Epoch: 18 train_mse: 0.32771176Epoch: 18 train_mse: 0.32857293Epoch: 18 train_mse: 0.3281468Epoch: 18 train_mse: 0.32787076Epoch: 18 train_mse: 0.32754812Epoch: 18 train_mse: 0.32734168Epoch: 18 train_mse: 0.32709512Epoch: 18 train_mse: 0.32597154Epoch: 18 train_mse: 0.32597852Epoch: 18 train_mse: 0.32570085Epoch: 18 train_mse: 0.32535276Epoch: 18 train_mse: 0.3259089Epoch: 18 train_mse: 0.32570624Epoch: 18 train_mse: 0.32492524Epoch: 18 train_mse: 0.32485288Epoch: 18 train_mse: 0.32380354Epoch: 18 train_mse: 0.32313547Epoch: 18 train_mse: 0.32385403Epoch: 18 train_mse: 0.32347387Epoch: 18 train_mse: 0.32268095Epoch: 18 train_mse: 0.32280883Epoch: 18 train_mse: 0.32381842Epoch: 18 train_mse: 0.32737246Epoch: 18 train_mse: 0.32802206Epoch: 18 train_mse: 0.32794654Epoch: 18 train_mse: 0.32798228Epoch: 18 train_mse: 0.32726532Epoch: 18 train_mse: 0.32745305Epoch: 18 train_mse: 0.32773513Epoch: 18 train_mse: 0.32875794Epoch: 18 train_mse: 0.32827616Epoch: 18 train_mse: 0.32953447Epoch: 18 train_mse: 0.32951993Epoch: 18 train_mse: 0.32907778Epoch: 18 train_mse: 0.32910606Epoch: 18 train_mse: 0.32969403Epoch: 18 train_mse: 0.32966113Epoch: 18 train_mse: 0.3308656Epoch: 18 train_mse: 0.33161023Epoch: 18 train_mse: 0.33167654Epoch: 18 train_mse: 0.3315212Epoch: 18 train_mse: 0.33110675Epoch: 18 train_mse: 0.33278763Epoch: 18 train_mse: 0.33404586Epoch: 18 train_mse: 0.33560637Epoch: 18 train_mse: 0.33586Epoch: 18 train_mse: 0.33499503Epoch: 18 train_mse: 0.33410627Epoch: 18 train_mse: 0.33357698Epoch: 18 train_mse: 0.334015Epoch: 18 train_mse: 0.33349016Epoch: 18 train_mse: 0.33328885Epoch: 18 train_mse: 0.3325225Epoch: 18 train_mse: 0.33415952Epoch: 18 train_mse: 0.3338144Epoch: 18 train_mse: 0.3340718Epoch: 18 train_mse: 0.3336469Epoch: 18 train_mse: 0.3329891Epoch: 18 train_mse: 0.33351365Epoch: 18 train_mse: 0.33345225Epoch: 18 train_mse: 0.3330948Epoch: 18 train_mse: 0.3324541Epoch: 18 train_mse: 0.3318778Epoch: 18 train_mse: 0.3316582Epoch: 18 train_mse: 0.33394697Epoch: 18 train_mse: 0.33380228Epoch: 18 train_mse: 0.3333606Epoch: 18 train_mse: 0.3331967Epoch: 18 train_mse: 0.33356053Epoch: 18 train_mse: 0.3336473Epoch: 18 train_mse: 0.33317125Epoch: 18 train_mse: 0.33371758Epoch: 18 train_mse: 0.33321938Epoch: 18 train_mse: 0.33366925Epoch: 18 train_mse: 0.3339992Epoch: 18 train_mse: 0.33651647Epoch: 18 train_mse: 0.33765036Epoch: 18 train_mse: 0.33792648Epoch: 18 train_mse: 0.34080178Epoch: 18 train_mse: 0.33999428Epoch: 18 train_mse: 0.3391616Epoch: 18 train_mse: 0.3390344Epoch: 18 train_mse: 0.33868405Epoch: 18 train_mse: 0.33849007Epoch: 18 train_mse: 0.3381409Epoch: 18 train_mse: 0.3378973Epoch: 18 train_mse: 0.3388478Epoch: 18 train_mse: 0.33856022Epoch: 18 train_mse: 0.33812526Epoch: 18 train_mse: 0.33824468Epoch: 18 train_mse: 0.33742228Epoch: 18 train_mse: 0.3371849Epoch: 18 train_mse: 0.33709177Epoch: 18 train_mse: 0.3367469Epoch: 18 train_mse: 0.33731952"
     ]
    },
    {
     "name": "stdout",
     "output_type": "stream",
     "text": [
      "Epoch: 18 train_mse: 0.3376327Epoch: 18 train_mse: 0.33813304Epoch: 18 train_mse: 0.33782303Epoch: 18 train_mse: 0.3371101Epoch: 18 train_mse: 0.33657977Epoch: 18 train_mse: 0.33704138Epoch: 18 train_mse: 0.33678484Epoch: 18 train_mse: 0.33705336Epoch: 18 train_mse: 0.33689213Epoch: 18 train_mse: 0.3361694Epoch: 18 train_mse: 0.33595777Epoch: 18 train_mse: 0.33605495Epoch: 18 train_mse: 0.33568797Epoch: 18 train_mse: 0.33535662Epoch: 18 train_mse: 0.3347983Epoch: 18 train_mse: 0.3346569Epoch: 18 train_mse: 0.33476764Epoch: 18 train_mse: 0.33511958Epoch: 18 train_mse: 0.33471134Epoch: 18 train_mse: 0.33531943Epoch: 18 train_mse: 0.33556312Epoch: 18 train_mse: 0.33610457Epoch: 18 train_mse: 0.3362467Epoch: 18 train_mse: 0.33594823Epoch: 18 train_mse: 0.3352622Epoch: 18 train_mse: 0.33472785Epoch: 18 train_mse: 0.33580062Epoch: 18 train_mse: 0.33515942Epoch: 18 train_mse: 0.33506343Epoch: 18 train_mse: 0.3346845Epoch: 18 train_mse: 0.33574623Epoch: 18 train_mse: 0.33558738Epoch: 18 train_mse: 0.3357091Epoch: 18 train_mse: 0.33561754Epoch: 18 train_mse: 0.33514428Epoch: 18 train_mse: 0.3346472Epoch: 18 train_mse: 0.33444306Epoch: 18 train_mse: 0.33443096Epoch: 18 train_mse: 0.33425608Epoch: 18 train_mse: 0.33474305Epoch: 18 train_mse: 0.33471704Epoch: 18 train_mse: 0.33488354Epoch: 18 train_mse: 0.3345431Epoch: 18 train_mse: 0.33400586Epoch: 18 train_mse: 0.33486655Epoch: 18 train_mse: 0.33465022Epoch: 18 train_mse: 0.33468607Epoch: 18 train_mse: 0.3344238Epoch: 18 train_mse: 0.33494988Epoch: 18 train_mse: 0.33684307Epoch: 18 train_mse: 0.33677357Epoch: 18 train_mse: 0.33652675Epoch: 18 train_mse: 0.33701065Epoch: 18 train_mse: 0.33666626Epoch: 18 train_mse: 0.33640093Epoch: 18 train_mse: 0.33615002Epoch: 18 train_mse: 0.33571702Epoch: 18 train_mse: 0.3356248Epoch: 18 train_mse: 0.33501816Epoch: 18 train_mse: 0.3353264Epoch: 18 train_mse: 0.33498356Epoch: 18 train_mse: 0.3343663Epoch: 18 train_mse: 0.3343704Epoch: 18 train_mse: 0.33458787Epoch: 18 train_mse: 0.33452547Epoch: 18 train_mse: 0.33427525Epoch: 18 train_mse: 0.33380538Epoch: 18 train_mse: 0.33351272Epoch: 18 train_mse: 0.33303943Epoch: 18 train_mse: 0.3324898Epoch: 18 train_mse: 0.33274823Epoch: 18 train_mse: 0.3327182Epoch: 18 train_mse: 0.33297506Epoch: 18 train_mse: 0.33260688Epoch: 18 train_mse: 0.3322969Epoch: 18 train_mse: 0.3326057Epoch: 18 train_mse: 0.33238855Epoch: 18 train_mse: 0.33195594Epoch: 18 train_mse: 0.3317243Epoch: 18 train_mse: 0.33151373Epoch: 18 train_mse: 0.33175Epoch: 18 train_mse: 0.33150506Epoch: 18 train_mse: 0.33141467Epoch: 18 train_mse: 0.3310675Epoch: 18 train_mse: 0.33084345Epoch: 18 train_mse: 0.33066332Epoch: 18 train_mse: 0.3320384Epoch: 18 train_mse: 0.33219984\t valid mse: 0.3631707\n"
     ]
    },
    {
     "name": "stdout",
     "output_type": "stream",
     "text": [
      "Epoch: 19 train_mse: 0.25937235Epoch: 19 train_mse: 0.3531949Epoch: 19 train_mse: 0.42934287Epoch: 19 train_mse: 0.38016313Epoch: 19 train_mse: 0.3494371Epoch: 19 train_mse: 0.35443473Epoch: 19 train_mse: 0.3399363Epoch: 19 train_mse: 0.36262482Epoch: 19 train_mse: 0.34322077Epoch: 19 train_mse: 0.34657985Epoch: 19 train_mse: 0.32927918Epoch: 19 train_mse: 0.33092713Epoch: 19 train_mse: 0.32361156Epoch: 19 train_mse: 0.31812254Epoch: 19 train_mse: 0.34135863Epoch: 19 train_mse: 0.33153915Epoch: 19 train_mse: 0.34227893Epoch: 19 train_mse: 0.36656356Epoch: 19 train_mse: 0.3683347Epoch: 19 train_mse: 0.36224374Epoch: 19 train_mse: 0.3515062Epoch: 19 train_mse: 0.34131563Epoch: 19 train_mse: 0.3345629Epoch: 19 train_mse: 0.3400283Epoch: 19 train_mse: 0.34413815Epoch: 19 train_mse: 0.33817086Epoch: 19 train_mse: 0.34013382Epoch: 19 train_mse: 0.33621892Epoch: 19 train_mse: 0.3411091Epoch: 19 train_mse: 0.3482253Epoch: 19 train_mse: 0.3413427Epoch: 19 train_mse: 0.34127843Epoch: 19 train_mse: 0.33848998Epoch: 19 train_mse: 0.34364873Epoch: 19 train_mse: 0.34615695Epoch: 19 train_mse: 0.3420788Epoch: 19 train_mse: 0.34158158Epoch: 19 train_mse: 0.3390326Epoch: 19 train_mse: 0.34019846Epoch: 19 train_mse: 0.33766717Epoch: 19 train_mse: 0.33597836Epoch: 19 train_mse: 0.33716518Epoch: 19 train_mse: 0.33538517Epoch: 19 train_mse: 0.33346292Epoch: 19 train_mse: 0.3335755Epoch: 19 train_mse: 0.3298018Epoch: 19 train_mse: 0.32916236Epoch: 19 train_mse: 0.33689806Epoch: 19 train_mse: 0.33734524Epoch: 19 train_mse: 0.34253407Epoch: 19 train_mse: 0.33873734Epoch: 19 train_mse: 0.33767736Epoch: 19 train_mse: 0.33609378Epoch: 19 train_mse: 0.3368441Epoch: 19 train_mse: 0.33298835Epoch: 19 train_mse: 0.3318812Epoch: 19 train_mse: 0.33323735Epoch: 19 train_mse: 0.3413462Epoch: 19 train_mse: 0.35541156Epoch: 19 train_mse: 0.35981858Epoch: 19 train_mse: 0.3584437Epoch: 19 train_mse: 0.35771456Epoch: 19 train_mse: 0.35853466Epoch: 19 train_mse: 0.3584306Epoch: 19 train_mse: 0.3619597Epoch: 19 train_mse: 0.35911897Epoch: 19 train_mse: 0.3631027Epoch: 19 train_mse: 0.3624294Epoch: 19 train_mse: 0.36280286Epoch: 19 train_mse: 0.36442757Epoch: 19 train_mse: 0.36874023Epoch: 19 train_mse: 0.36875474Epoch: 19 train_mse: 0.36806837Epoch: 19 train_mse: 0.36858052Epoch: 19 train_mse: 0.36793444Epoch: 19 train_mse: 0.36864972Epoch: 19 train_mse: 0.36588654Epoch: 19 train_mse: 0.36321154Epoch: 19 train_mse: 0.36589238Epoch: 19 train_mse: 0.3655053Epoch: 19 train_mse: 0.36612853Epoch: 19 train_mse: 0.36436796Epoch: 19 train_mse: 0.36435845Epoch: 19 train_mse: 0.3702352Epoch: 19 train_mse: 0.36945212Epoch: 19 train_mse: 0.36948252Epoch: 19 train_mse: 0.37131977Epoch: 19 train_mse: 0.37138423Epoch: 19 train_mse: 0.37098393Epoch: 19 train_mse: 0.37032157Epoch: 19 train_mse: 0.3733543Epoch: 19 train_mse: 0.3741343Epoch: 19 train_mse: 0.37430668Epoch: 19 train_mse: 0.37437055Epoch: 19 train_mse: 0.37428698Epoch: 19 train_mse: 0.37209618Epoch: 19 train_mse: 0.37351426Epoch: 19 train_mse: 0.37247863Epoch: 19 train_mse: 0.37086952Epoch: 19 train_mse: 0.37358055Epoch: 19 train_mse: 0.3731506Epoch: 19 train_mse: 0.37072346Epoch: 19 train_mse: 0.36955357Epoch: 19 train_mse: 0.3696968Epoch: 19 train_mse: 0.36839354Epoch: 19 train_mse: 0.36624372Epoch: 19 train_mse: 0.3676185Epoch: 19 train_mse: 0.3672195Epoch: 19 train_mse: 0.36730814Epoch: 19 train_mse: 0.36715335Epoch: 19 train_mse: 0.36560553Epoch: 19 train_mse: 0.36451477Epoch: 19 train_mse: 0.36510253Epoch: 19 train_mse: 0.3659423Epoch: 19 train_mse: 0.3668966Epoch: 19 train_mse: 0.3675978Epoch: 19 train_mse: 0.36625838Epoch: 19 train_mse: 0.36464712Epoch: 19 train_mse: 0.3624735Epoch: 19 train_mse: 0.36467323Epoch: 19 train_mse: 0.36300802Epoch: 19 train_mse: 0.36195502Epoch: 19 train_mse: 0.36224627Epoch: 19 train_mse: 0.3609887Epoch: 19 train_mse: 0.3617264Epoch: 19 train_mse: 0.3615247Epoch: 19 train_mse: 0.36053354Epoch: 19 train_mse: 0.3618499Epoch: 19 train_mse: 0.36150476Epoch: 19 train_mse: 0.36124587Epoch: 19 train_mse: 0.3610157Epoch: 19 train_mse: 0.35985106Epoch: 19 train_mse: 0.36156794Epoch: 19 train_mse: 0.36064962Epoch: 19 train_mse: 0.36134627Epoch: 19 train_mse: 0.36264336Epoch: 19 train_mse: 0.3624405Epoch: 19 train_mse: 0.36154956Epoch: 19 train_mse: 0.35998076Epoch: 19 train_mse: 0.36372533Epoch: 19 train_mse: 0.3629431Epoch: 19 train_mse: 0.3622365Epoch: 19 train_mse: 0.36363354Epoch: 19 train_mse: 0.36248305Epoch: 19 train_mse: 0.36199662Epoch: 19 train_mse: 0.3617445Epoch: 19 train_mse: 0.36191633Epoch: 19 train_mse: 0.36254638Epoch: 19 train_mse: 0.3620133Epoch: 19 train_mse: 0.3608639Epoch: 19 train_mse: 0.36090478Epoch: 19 train_mse: 0.3613866Epoch: 19 train_mse: 0.36098015Epoch: 19 train_mse: 0.3597819Epoch: 19 train_mse: 0.3583935Epoch: 19 train_mse: 0.3583302Epoch: 19 train_mse: 0.35808092Epoch: 19 train_mse: 0.3579907Epoch: 19 train_mse: 0.358702Epoch: 19 train_mse: 0.3578699Epoch: 19 train_mse: 0.35740173Epoch: 19 train_mse: 0.35882887Epoch: 19 train_mse: 0.3589121Epoch: 19 train_mse: 0.35825753Epoch: 19 train_mse: 0.3573409Epoch: 19 train_mse: 0.35790068Epoch: 19 train_mse: 0.35667092Epoch: 19 train_mse: 0.35716835Epoch: 19 train_mse: 0.35668808Epoch: 19 train_mse: 0.35602665Epoch: 19 train_mse: 0.35528067Epoch: 19 train_mse: 0.35415047Epoch: 19 train_mse: 0.3527294Epoch: 19 train_mse: 0.35329086Epoch: 19 train_mse: 0.35384095Epoch: 19 train_mse: 0.35387444Epoch: 19 train_mse: 0.3525803Epoch: 19 train_mse: 0.3524149Epoch: 19 train_mse: 0.35262915Epoch: 19 train_mse: 0.35208845Epoch: 19 train_mse: 0.35087794Epoch: 19 train_mse: 0.3503462Epoch: 19 train_mse: 0.35038736Epoch: 19 train_mse: 0.35021213Epoch: 19 train_mse: 0.34955007Epoch: 19 train_mse: 0.35006312Epoch: 19 train_mse: 0.3499085Epoch: 19 train_mse: 0.34952268Epoch: 19 train_mse: 0.34873006Epoch: 19 train_mse: 0.34842104Epoch: 19 train_mse: 0.34869903Epoch: 19 train_mse: 0.3479977Epoch: 19 train_mse: 0.34820753Epoch: 19 train_mse: 0.34801838Epoch: 19 train_mse: 0.34762022Epoch: 19 train_mse: 0.34741506Epoch: 19 train_mse: 0.3470504Epoch: 19 train_mse: 0.3467576Epoch: 19 train_mse: 0.34693775Epoch: 19 train_mse: 0.34657794Epoch: 19 train_mse: 0.3460886Epoch: 19 train_mse: 0.3468641Epoch: 19 train_mse: 0.34785664Epoch: 19 train_mse: 0.34823576Epoch: 19 train_mse: 0.34750888Epoch: 19 train_mse: 0.34699756Epoch: 19 train_mse: 0.34670237Epoch: 19 train_mse: 0.3471732Epoch: 19 train_mse: 0.3477013Epoch: 19 train_mse: 0.34832767Epoch: 19 train_mse: 0.34764373Epoch: 19 train_mse: 0.34790745Epoch: 19 train_mse: 0.34956786Epoch: 19 train_mse: 0.34951103Epoch: 19 train_mse: 0.34868717Epoch: 19 train_mse: 0.34817746Epoch: 19 train_mse: 0.347258Epoch: 19 train_mse: 0.34676415Epoch: 19 train_mse: 0.34589386Epoch: 19 train_mse: 0.34532005Epoch: 19 train_mse: 0.34460947Epoch: 19 train_mse: 0.34498364Epoch: 19 train_mse: 0.3446754Epoch: 19 train_mse: 0.34689602Epoch: 19 train_mse: 0.34658122Epoch: 19 train_mse: 0.34610248Epoch: 19 train_mse: 0.34624168Epoch: 19 train_mse: 0.3457759Epoch: 19 train_mse: 0.34612238Epoch: 19 train_mse: 0.34695485Epoch: 19 train_mse: 0.34723592Epoch: 19 train_mse: 0.34783375Epoch: 19 train_mse: 0.34750763Epoch: 19 train_mse: 0.34785727Epoch: 19 train_mse: 0.3488003Epoch: 19 train_mse: 0.34813598Epoch: 19 train_mse: 0.3475061Epoch: 19 train_mse: 0.3476036Epoch: 19 train_mse: 0.34800422Epoch: 19 train_mse: 0.34802815Epoch: 19 train_mse: 0.34796876Epoch: 19 train_mse: 0.34768122Epoch: 19 train_mse: 0.34723514Epoch: 19 train_mse: 0.34813973Epoch: 19 train_mse: 0.34897807Epoch: 19 train_mse: 0.34880427Epoch: 19 train_mse: 0.3481174Epoch: 19 train_mse: 0.3481255Epoch: 19 train_mse: 0.34776852Epoch: 19 train_mse: 0.34714186Epoch: 19 train_mse: 0.34700772Epoch: 19 train_mse: 0.34698123Epoch: 19 train_mse: 0.34613222Epoch: 19 train_mse: 0.34543732Epoch: 19 train_mse: 0.3454576Epoch: 19 train_mse: 0.3451828Epoch: 19 train_mse: 0.34557205Epoch: 19 train_mse: 0.3452888Epoch: 19 train_mse: 0.3446689Epoch: 19 train_mse: 0.34554106Epoch: 19 train_mse: 0.34549925Epoch: 19 train_mse: 0.34555978Epoch: 19 train_mse: 0.34498543Epoch: 19 train_mse: 0.3445611Epoch: 19 train_mse: 0.34417048Epoch: 19 train_mse: 0.34383446Epoch: 19 train_mse: 0.34325582Epoch: 19 train_mse: 0.34329802Epoch: 19 train_mse: 0.34288707Epoch: 19 train_mse: 0.34236935Epoch: 19 train_mse: 0.34204513Epoch: 19 train_mse: 0.34219956Epoch: 19 train_mse: 0.34282836Epoch: 19 train_mse: 0.34278506Epoch: 19 train_mse: 0.34282023Epoch: 19 train_mse: 0.3424735Epoch: 19 train_mse: 0.34199882Epoch: 19 train_mse: 0.3415418Epoch: 19 train_mse: 0.34181455Epoch: 19 train_mse: 0.3415722Epoch: 19 train_mse: 0.34135106"
     ]
    },
    {
     "name": "stdout",
     "output_type": "stream",
     "text": [
      "Epoch: 19 train_mse: 0.34090158Epoch: 19 train_mse: 0.34139252Epoch: 19 train_mse: 0.3416607Epoch: 19 train_mse: 0.34117404Epoch: 19 train_mse: 0.34133577Epoch: 19 train_mse: 0.34080708Epoch: 19 train_mse: 0.34318367Epoch: 19 train_mse: 0.34383252Epoch: 19 train_mse: 0.34337956Epoch: 19 train_mse: 0.3450002Epoch: 19 train_mse: 0.34451187Epoch: 19 train_mse: 0.34419158Epoch: 19 train_mse: 0.34372893Epoch: 19 train_mse: 0.3431581Epoch: 19 train_mse: 0.3425059Epoch: 19 train_mse: 0.34270605Epoch: 19 train_mse: 0.3427197Epoch: 19 train_mse: 0.34246573Epoch: 19 train_mse: 0.34279588Epoch: 19 train_mse: 0.34281963Epoch: 19 train_mse: 0.34423956Epoch: 19 train_mse: 0.34393057Epoch: 19 train_mse: 0.34448084Epoch: 19 train_mse: 0.3441776Epoch: 19 train_mse: 0.344213Epoch: 19 train_mse: 0.34457406Epoch: 19 train_mse: 0.34453744Epoch: 19 train_mse: 0.34471223Epoch: 19 train_mse: 0.3454771Epoch: 19 train_mse: 0.3453015Epoch: 19 train_mse: 0.3453091Epoch: 19 train_mse: 0.34501868Epoch: 19 train_mse: 0.3445901Epoch: 19 train_mse: 0.34546578Epoch: 19 train_mse: 0.34490785Epoch: 19 train_mse: 0.3445891Epoch: 19 train_mse: 0.3451205Epoch: 19 train_mse: 0.3448132Epoch: 19 train_mse: 0.3440166Epoch: 19 train_mse: 0.34361097Epoch: 19 train_mse: 0.34337085Epoch: 19 train_mse: 0.34342417Epoch: 19 train_mse: 0.34328404Epoch: 19 train_mse: 0.34368306Epoch: 19 train_mse: 0.34408855Epoch: 19 train_mse: 0.3443764Epoch: 19 train_mse: 0.34433398Epoch: 19 train_mse: 0.34448084Epoch: 19 train_mse: 0.3454456Epoch: 19 train_mse: 0.34525597Epoch: 19 train_mse: 0.34478003Epoch: 19 train_mse: 0.34537363Epoch: 19 train_mse: 0.34533262Epoch: 19 train_mse: 0.34479338Epoch: 19 train_mse: 0.344292Epoch: 19 train_mse: 0.34388062Epoch: 19 train_mse: 0.34569982Epoch: 19 train_mse: 0.34556773Epoch: 19 train_mse: 0.3456854Epoch: 19 train_mse: 0.34722868Epoch: 19 train_mse: 0.34729272Epoch: 19 train_mse: 0.347617Epoch: 19 train_mse: 0.3470501Epoch: 19 train_mse: 0.34713736Epoch: 19 train_mse: 0.34702805Epoch: 19 train_mse: 0.3476604Epoch: 19 train_mse: 0.34773144Epoch: 19 train_mse: 0.3484012Epoch: 19 train_mse: 0.34817487Epoch: 19 train_mse: 0.34808746Epoch: 19 train_mse: 0.3481117Epoch: 19 train_mse: 0.3473976Epoch: 19 train_mse: 0.34812844Epoch: 19 train_mse: 0.3481137Epoch: 19 train_mse: 0.3488873Epoch: 19 train_mse: 0.34845567Epoch: 19 train_mse: 0.34829882Epoch: 19 train_mse: 0.34829345Epoch: 19 train_mse: 0.34805375Epoch: 19 train_mse: 0.3478277Epoch: 19 train_mse: 0.3475566\t valid mse: 0.35533243\n"
     ]
    }
   ],
   "source": [
    "# 1. 遍历数据集\n",
    "    # 自动求导\n",
    "# 2. epoch, 验证集\n",
    "\n",
    "epochs = 20\n",
    "batch_size = 32\n",
    "steps_per_epoch = len(x_train_scaled) // batch_size\n",
    "optimizer = keras.optimizers.SGD()\n",
    "metric = keras.metrics.MeanSquaredError()\n",
    "\n",
    "def random_batch(x, y, batch_size=32):\n",
    "    idx = np.random.randint(0, len(x), size=batch_size)\n",
    "    return x[idx], y[idx]\n",
    "\n",
    "model = keras.models.Sequential([\n",
    "    # input_dim, input_shape一定要是元组\n",
    "    keras.layers.Dense(32, activation='relu', input_shape=x_train.shape[1:]),\n",
    "    keras.layers.Dense(1)\n",
    "])\n",
    "\n",
    "for epoch in range(epochs):\n",
    "    # 每次epoch需要重置评估指标\n",
    "    metric.reset_states()\n",
    "    for step in range(steps_per_epoch):\n",
    "        x_batch, y_batch = random_batch(x_train_scaled, y_train, batch_size)\n",
    "        \n",
    "        with tf.GradientTape() as tape:\n",
    "            y_pred = model(x_batch)\n",
    "            y_pred = tf.squeeze(y_pred, 1)\n",
    "            # 计算损失\n",
    "            loss = keras.losses.mean_squared_error(y_batch, y_pred)\n",
    "            metric(y_batch, y_pred)\n",
    "            \n",
    "        # 计算损失函数中参数的梯度\n",
    "        grads = tape.gradient(loss, model.variables)\n",
    "        # 更新\n",
    "        grads_and_vars = zip(grads, model.variables)\n",
    "        optimizer.apply_gradients(grads_and_vars)\n",
    "        print('Epoch:', epoch, 'train_mse:', metric.result().numpy(), end='')\n",
    "        \n",
    "    # 每个epoch去计算一下校验集的效果\n",
    "    y_valid_pred = model(x_valid_scaled)\n",
    "    y_valid_pred = tf.squeeze(y_valid_pred, 1)\n",
    "    valid_loss = keras.losses.mean_squared_error(y_valid, y_valid_pred)\n",
    "    print('\\t', 'valid mse:', valid_loss.numpy())"
   ]
  },
  {
   "cell_type": "markdown",
   "id": "205f20a2",
   "metadata": {},
   "source": [
    "我们会发现自定义的fit过程效果不如keras封装的好.\n",
    "keras的封装的是做了优化的, 做了微调的, fine tuning"
   ]
  },
  {
   "cell_type": "code",
   "execution_count": null,
   "id": "ee577712",
   "metadata": {},
   "outputs": [],
   "source": []
  }
 ],
 "metadata": {
  "hide_input": false,
  "kernelspec": {
   "display_name": "Python 3 (ipykernel)",
   "language": "python",
   "name": "python3"
  },
  "language_info": {
   "codemirror_mode": {
    "name": "ipython",
    "version": 3
   },
   "file_extension": ".py",
   "mimetype": "text/x-python",
   "name": "python",
   "nbconvert_exporter": "python",
   "pygments_lexer": "ipython3",
   "version": "3.9.7"
  },
  "latex_envs": {
   "LaTeX_envs_menu_present": true,
   "autoclose": false,
   "autocomplete": true,
   "bibliofile": "biblio.bib",
   "cite_by": "apalike",
   "current_citInitial": 1,
   "eqLabelWithNumbers": true,
   "eqNumInitial": 1,
   "hotkeys": {
    "equation": "Ctrl-E",
    "itemize": "Ctrl-I"
   },
   "labels_anchors": false,
   "latex_user_defs": false,
   "report_style_numbering": false,
   "user_envs_cfg": false
  },
  "nbTranslate": {
   "displayLangs": [
    "*"
   ],
   "hotkey": "alt-t",
   "langInMainMenu": true,
   "sourceLang": "en",
   "targetLang": "fr",
   "useGoogleTranslate": true
  },
  "toc": {
   "base_numbering": 1,
   "nav_menu": {},
   "number_sections": true,
   "sideBar": true,
   "skip_h1_title": false,
   "title_cell": "Table of Contents",
   "title_sidebar": "Contents",
   "toc_cell": false,
   "toc_position": {},
   "toc_section_display": true,
   "toc_window_display": false
  },
  "varInspector": {
   "cols": {
    "lenName": 16,
    "lenType": 16,
    "lenVar": 40
   },
   "kernels_config": {
    "python": {
     "delete_cmd_postfix": "",
     "delete_cmd_prefix": "del ",
     "library": "var_list.py",
     "varRefreshCmd": "print(var_dic_list())"
    },
    "r": {
     "delete_cmd_postfix": ") ",
     "delete_cmd_prefix": "rm(",
     "library": "var_list.r",
     "varRefreshCmd": "cat(var_dic_list()) "
    }
   },
   "position": {
    "height": "229.85px",
    "left": "403.2px",
    "right": "20px",
    "top": "-39px",
    "width": "350px"
   },
   "types_to_exclude": [
    "module",
    "function",
    "builtin_function_or_method",
    "instance",
    "_Feature"
   ],
   "window_display": true
  }
 },
 "nbformat": 4,
 "nbformat_minor": 5
}
