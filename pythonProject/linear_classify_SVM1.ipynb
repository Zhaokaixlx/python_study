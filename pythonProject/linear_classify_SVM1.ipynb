{
 "cells": [
  {
   "cell_type": "markdown",
   "id": "d4d2e240",
   "metadata": {},
   "source": [
    "# SVM 的理解"
   ]
  },
  {
   "cell_type": "markdown",
   "id": "ba2739e3",
   "metadata": {},
   "source": [
    "## 导入包"
   ]
  },
  {
   "cell_type": "code",
   "execution_count": 1,
   "id": "80a9535d",
   "metadata": {
    "ExecuteTime": {
     "end_time": "2022-04-22T10:49:56.132921Z",
     "start_time": "2022-04-22T10:49:55.811261Z"
    }
   },
   "outputs": [],
   "source": [
    "import numpy as np\n",
    "import matplotlib.pyplot as plt\n",
    "\n",
    "from sklearn.svm import SVC # 分类算法\n",
    "from sklearn import datasets"
   ]
  },
  {
   "cell_type": "markdown",
   "id": "02fa6830",
   "metadata": {},
   "source": [
    "## 创造数据"
   ]
  },
  {
   "cell_type": "code",
   "execution_count": 2,
   "id": "4a3916c6",
   "metadata": {
    "ExecuteTime": {
     "end_time": "2022-04-22T10:51:22.803518Z",
     "start_time": "2022-04-22T10:51:22.701624Z"
    }
   },
   "outputs": [
    {
     "data": {
      "text/plain": [
       "(100, 2)"
      ]
     },
     "metadata": {},
     "output_type": "display_data"
    },
    {
     "data": {
      "text/plain": [
       "(100,)"
      ]
     },
     "metadata": {},
     "output_type": "display_data"
    },
    {
     "data": {
      "text/plain": [
       "array([0, 1])"
      ]
     },
     "metadata": {},
     "output_type": "display_data"
    },
    {
     "data": {
      "text/plain": [
       "<matplotlib.collections.PathCollection at 0x7fa3403189a0>"
      ]
     },
     "execution_count": 2,
     "metadata": {},
     "output_type": "execute_result"
    },
    {
     "data": {
      "image/png": "[encoded data removed]",
      "text/plain": [
       "<Figure size 432x288 with 1 Axes>"
      ]
     },
     "metadata": {
      "needs_background": "light"
     },
     "output_type": "display_data"
    }
   ],
   "source": [
    "X,y = datasets.make_blobs(n_samples=100,# 样本量\n",
    "                    n_features=2,# 二维数据，便于画图展示\n",
    "                    centers=2,# 两类\n",
    "                    random_state=3)# 随机数状态，固定了\n",
    "display(X.shape,y.shape,np.unique(y))\n",
    "\n",
    "plt.scatter(X[:,0],X[:,1],c=y)"
   ]
  },
  {
   "cell_type": "markdown",
   "id": "0116968e",
   "metadata": {},
   "source": [
    "## 算法建模"
   ]
  },
  {
   "cell_type": "code",
   "execution_count": 3,
   "id": "b79db4db",
   "metadata": {
    "ExecuteTime": {
     "end_time": "2022-04-22T10:52:52.331322Z",
     "start_time": "2022-04-22T10:52:52.313030Z"
    }
   },
   "outputs": [
    {
     "data": {
      "text/plain": [
       "SVC(kernel='linear')"
      ]
     },
     "execution_count": 3,
     "metadata": {},
     "output_type": "execute_result"
    }
   ],
   "source": [
    "svc = SVC(kernel = 'linear') # kernel 表示核函数：linear，线性\n",
    "\n",
    "svc.fit(X,y)"
   ]
  },
  {
   "cell_type": "code",
   "execution_count": 4,
   "id": "2275fd5f",
   "metadata": {
    "ExecuteTime": {
     "end_time": "2022-04-22T10:53:16.967539Z",
     "start_time": "2022-04-22T10:53:16.951958Z"
    }
   },
   "outputs": [
    {
     "data": {
      "text/plain": [
       "1.0"
      ]
     },
     "execution_count": 4,
     "metadata": {},
     "output_type": "execute_result"
    }
   ],
   "source": [
    "svc.score(X,y)"
   ]
  },
  {
   "cell_type": "markdown",
   "id": "cdc992ae",
   "metadata": {},
   "source": [
    "## 绘制分割线"
   ]
  },
  {
   "cell_type": "code",
   "execution_count": 5,
   "id": "ca4b8e9a",
   "metadata": {
    "ExecuteTime": {
     "end_time": "2022-04-22T10:54:12.400455Z",
     "start_time": "2022-04-22T10:54:12.387407Z"
    }
   },
   "outputs": [
    {
     "data": {
      "text/plain": [
       "array([[-0.69194716, -1.00958201]])"
      ]
     },
     "execution_count": 5,
     "metadata": {},
     "output_type": "execute_result"
    }
   ],
   "source": [
    "w_ = svc.coef_# 特征两个\n",
    "w_"
   ]
  },
  {
   "cell_type": "code",
   "execution_count": 6,
   "id": "796e5dd8",
   "metadata": {
    "ExecuteTime": {
     "end_time": "2022-04-22T10:54:29.252355Z",
     "start_time": "2022-04-22T10:54:29.238525Z"
    }
   },
   "outputs": [
    {
     "data": {
      "text/plain": [
       "array([0.90732128])"
      ]
     },
     "execution_count": 6,
     "metadata": {},
     "output_type": "execute_result"
    }
   ],
   "source": [
    "b_ = svc.intercept_\n",
    "b_"
   ]
  },
  {
   "cell_type": "markdown",
   "id": "6218a6c2",
   "metadata": {},
   "source": [
    "𝑦=−𝑤1𝑤2𝑥−𝑏𝑤2"
   ]
  },
  {
   "cell_type": "code",
   "execution_count": 7,
   "id": "7ca0d5c7",
   "metadata": {
    "ExecuteTime": {
     "end_time": "2022-04-22T10:56:25.111370Z",
     "start_time": "2022-04-22T10:56:25.098946Z"
    }
   },
   "outputs": [
    {
     "data": {
      "text/plain": [
       "-0.6853798435538032"
      ]
     },
     "execution_count": 7,
     "metadata": {},
     "output_type": "execute_result"
    }
   ],
   "source": [
    "w = - w_[0,0]/w_[0,1]\n",
    "w"
   ]
  },
  {
   "cell_type": "code",
   "execution_count": 8,
   "id": "bd353233",
   "metadata": {
    "ExecuteTime": {
     "end_time": "2022-04-22T10:56:40.707347Z",
     "start_time": "2022-04-22T10:56:40.694449Z"
    }
   },
   "outputs": [
    {
     "data": {
      "text/plain": [
       "0.8987098253546204"
      ]
     },
     "execution_count": 8,
     "metadata": {},
     "output_type": "execute_result"
    }
   ],
   "source": [
    "b, = - b_/w_[0,1]\n",
    "b"
   ]
  },
  {
   "cell_type": "code",
   "execution_count": 10,
   "id": "eaa5fdfc",
   "metadata": {
    "ExecuteTime": {
     "end_time": "2022-04-22T10:57:56.580607Z",
     "start_time": "2022-04-22T10:57:56.569718Z"
    }
   },
   "outputs": [
    {
     "data": {
      "text/plain": [
       "array([[ 0.21219196,  1.74387328],\n",
       "       [-1.8997797 ,  3.19111595],\n",
       "       [-2.19341554,  1.41161044]])"
      ]
     },
     "execution_count": 10,
     "metadata": {},
     "output_type": "execute_result"
    }
   ],
   "source": [
    "sv = svc.support_vectors_\n",
    "sv"
   ]
  },
  {
   "cell_type": "markdown",
   "id": "cfce6bbd",
   "metadata": {},
   "source": [
    "𝑦=𝑤𝑥+𝑏\n",
    " \n",
    "𝑏=𝑦−𝑤𝑥"
   ]
  },
  {
   "cell_type": "code",
   "execution_count": 11,
   "id": "99d204ab",
   "metadata": {
    "ExecuteTime": {
     "end_time": "2022-04-22T11:02:17.625193Z",
     "start_time": "2022-04-22T11:02:17.529620Z"
    }
   },
   "outputs": [
    {
     "data": {
      "text/plain": [
       "[<matplotlib.lines.Line2D at 0x7fa3717657c0>]"
      ]
     },
     "execution_count": 11,
     "metadata": {},
     "output_type": "execute_result"
    },
    {
     "data": {
      "image/png": "[encoded data removed]",
      "text/plain": [
       "<Figure size 432x288 with 1 Axes>"
      ]
     },
     "metadata": {
      "needs_background": "light"
     },
     "output_type": "display_data"
    }
   ],
   "source": [
    "x = np.linspace(-5,1,100)\n",
    "\n",
    "y_result = w * x + b\n",
    "\n",
    "plt.scatter(X[:,0],X[:,1],c = y)\n",
    "\n",
    "plt.plot(x,y_result,color = 'red')\n",
    "\n",
    "# 上边界和下边界\n",
    "b1 = sv[0][1] - w * sv[0][0]\n",
    "plt.plot(x, w * x + b1 ,color = 'blue',ls = '--')\n",
    "\n",
    "b2 = sv[-1][1] - w * sv[-1][0]\n",
    "plt.plot(x, w * x + b2, color = 'blue', ls = '--')"
   ]
  },
  {
   "cell_type": "markdown",
   "id": "39993ce1",
   "metadata": {},
   "source": [
    "# 使用 SVM 对数字1-9进行分类"
   ]
  },
  {
   "cell_type": "markdown",
   "id": "613c4a3b",
   "metadata": {},
   "source": [
    "## 导包"
   ]
  },
  {
   "cell_type": "code",
   "execution_count": 12,
   "id": "f5098775",
   "metadata": {
    "ExecuteTime": {
     "end_time": "2022-04-22T11:06:21.652579Z",
     "start_time": "2022-04-22T11:06:21.368544Z"
    }
   },
   "outputs": [],
   "source": [
    "import pandas as pd\n",
    "import numpy as np\n",
    "from sklearn.svm import SVC\n",
    "from sklearn.linear_model import LogisticRegression\n",
    "from sklearn import datasets\n",
    "from sklearn.model_selection import train_test_split\n",
    "from sklearn.decomposition import PCA # 降维，减少数据的维度，特征（784像素，784个特征）"
   ]
  },
  {
   "cell_type": "markdown",
   "id": "8cc4fe95",
   "metadata": {},
   "source": [
    "## 加载拆分数据"
   ]
  },
  {
   "cell_type": "code",
   "execution_count": 13,
   "id": "0ce2562d",
   "metadata": {
    "ExecuteTime": {
     "end_time": "2022-04-22T11:08:42.381127Z",
     "start_time": "2022-04-22T11:08:40.843344Z"
    }
   },
   "outputs": [
    {
     "data": {
      "text/plain": [
       "(5000, 784)"
      ]
     },
     "metadata": {},
     "output_type": "display_data"
    },
    {
     "data": {
      "text/plain": [
       "(5000,)"
      ]
     },
     "metadata": {},
     "output_type": "display_data"
    },
    {
     "data": {
      "text/html": [
       "<div>\n",
       "<style scoped>\n",
       "    .dataframe tbody tr th:only-of-type {\n",
       "        vertical-align: middle;\n",
       "    }\n",
       "\n",
       "    .dataframe tbody tr th {\n",
       "        vertical-align: top;\n",
       "    }\n",
       "\n",
       "    .dataframe thead th {\n",
       "        text-align: right;\n",
       "    }\n",
       "</style>\n",
       "<table border=\"1\" class=\"dataframe\">\n",
       "  <thead>\n",
       "    <tr style=\"text-align: right;\">\n",
       "      <th></th>\n",
       "      <th>pixel0</th>\n",
       "      <th>pixel1</th>\n",
       "      <th>pixel2</th>\n",
       "      <th>pixel3</th>\n",
       "      <th>pixel4</th>\n",
       "      <th>pixel5</th>\n",
       "      <th>pixel6</th>\n",
       "      <th>pixel7</th>\n",
       "      <th>pixel8</th>\n",
       "      <th>pixel9</th>\n",
       "      <th>...</th>\n",
       "      <th>pixel774</th>\n",
       "      <th>pixel775</th>\n",
       "      <th>pixel776</th>\n",
       "      <th>pixel777</th>\n",
       "      <th>pixel778</th>\n",
       "      <th>pixel779</th>\n",
       "      <th>pixel780</th>\n",
       "      <th>pixel781</th>\n",
       "      <th>pixel782</th>\n",
       "      <th>pixel783</th>\n",
       "    </tr>\n",
       "  </thead>\n",
       "  <tbody>\n",
       "    <tr>\n",
       "      <th>25658</th>\n",
       "      <td>0</td>\n",
       "      <td>0</td>\n",
       "      <td>0</td>\n",
       "      <td>0</td>\n",
       "      <td>0</td>\n",
       "      <td>0</td>\n",
       "      <td>0</td>\n",
       "      <td>0</td>\n",
       "      <td>0</td>\n",
       "      <td>0</td>\n",
       "      <td>...</td>\n",
       "      <td>0</td>\n",
       "      <td>0</td>\n",
       "      <td>0</td>\n",
       "      <td>0</td>\n",
       "      <td>0</td>\n",
       "      <td>0</td>\n",
       "      <td>0</td>\n",
       "      <td>0</td>\n",
       "      <td>0</td>\n",
       "      <td>0</td>\n",
       "    </tr>\n",
       "    <tr>\n",
       "      <th>37679</th>\n",
       "      <td>0</td>\n",
       "      <td>0</td>\n",
       "      <td>0</td>\n",
       "      <td>0</td>\n",
       "      <td>0</td>\n",
       "      <td>0</td>\n",
       "      <td>0</td>\n",
       "      <td>0</td>\n",
       "      <td>0</td>\n",
       "      <td>0</td>\n",
       "      <td>...</td>\n",
       "      <td>0</td>\n",
       "      <td>0</td>\n",
       "      <td>0</td>\n",
       "      <td>0</td>\n",
       "      <td>0</td>\n",
       "      <td>0</td>\n",
       "      <td>0</td>\n",
       "      <td>0</td>\n",
       "      <td>0</td>\n",
       "      <td>0</td>\n",
       "    </tr>\n",
       "    <tr>\n",
       "      <th>26459</th>\n",
       "      <td>0</td>\n",
       "      <td>0</td>\n",
       "      <td>0</td>\n",
       "      <td>0</td>\n",
       "      <td>0</td>\n",
       "      <td>0</td>\n",
       "      <td>0</td>\n",
       "      <td>0</td>\n",
       "      <td>0</td>\n",
       "      <td>0</td>\n",
       "      <td>...</td>\n",
       "      <td>0</td>\n",
       "      <td>0</td>\n",
       "      <td>0</td>\n",
       "      <td>0</td>\n",
       "      <td>0</td>\n",
       "      <td>0</td>\n",
       "      <td>0</td>\n",
       "      <td>0</td>\n",
       "      <td>0</td>\n",
       "      <td>0</td>\n",
       "    </tr>\n",
       "    <tr>\n",
       "      <th>24783</th>\n",
       "      <td>0</td>\n",
       "      <td>0</td>\n",
       "      <td>0</td>\n",
       "      <td>0</td>\n",
       "      <td>0</td>\n",
       "      <td>0</td>\n",
       "      <td>0</td>\n",
       "      <td>0</td>\n",
       "      <td>0</td>\n",
       "      <td>0</td>\n",
       "      <td>...</td>\n",
       "      <td>0</td>\n",
       "      <td>0</td>\n",
       "      <td>0</td>\n",
       "      <td>0</td>\n",
       "      <td>0</td>\n",
       "      <td>0</td>\n",
       "      <td>0</td>\n",
       "      <td>0</td>\n",
       "      <td>0</td>\n",
       "      <td>0</td>\n",
       "    </tr>\n",
       "    <tr>\n",
       "      <th>10059</th>\n",
       "      <td>0</td>\n",
       "      <td>0</td>\n",
       "      <td>0</td>\n",
       "      <td>0</td>\n",
       "      <td>0</td>\n",
       "      <td>0</td>\n",
       "      <td>0</td>\n",
       "      <td>0</td>\n",
       "      <td>0</td>\n",
       "      <td>0</td>\n",
       "      <td>...</td>\n",
       "      <td>0</td>\n",
       "      <td>0</td>\n",
       "      <td>0</td>\n",
       "      <td>0</td>\n",
       "      <td>0</td>\n",
       "      <td>0</td>\n",
       "      <td>0</td>\n",
       "      <td>0</td>\n",
       "      <td>0</td>\n",
       "      <td>0</td>\n",
       "    </tr>\n",
       "  </tbody>\n",
       "</table>\n",
       "<p>5 rows × 784 columns</p>\n",
       "</div>"
      ],
      "text/plain": [
       "       pixel0  pixel1  pixel2  pixel3  pixel4  pixel5  pixel6  pixel7  pixel8  \\\n",
       "25658       0       0       0       0       0       0       0       0       0   \n",
       "37679       0       0       0       0       0       0       0       0       0   \n",
       "26459       0       0       0       0       0       0       0       0       0   \n",
       "24783       0       0       0       0       0       0       0       0       0   \n",
       "10059       0       0       0       0       0       0       0       0       0   \n",
       "\n",
       "       pixel9  ...  pixel774  pixel775  pixel776  pixel777  pixel778  \\\n",
       "25658       0  ...         0         0         0         0         0   \n",
       "37679       0  ...         0         0         0         0         0   \n",
       "26459       0  ...         0         0         0         0         0   \n",
       "24783       0  ...         0         0         0         0         0   \n",
       "10059       0  ...         0         0         0         0         0   \n",
       "\n",
       "       pixel779  pixel780  pixel781  pixel782  pixel783  \n",
       "25658         0         0         0         0         0  \n",
       "37679         0         0         0         0         0  \n",
       "26459         0         0         0         0         0  \n",
       "24783         0         0         0         0         0  \n",
       "10059         0         0         0         0         0  \n",
       "\n",
       "[5 rows x 784 columns]"
      ]
     },
     "metadata": {},
     "output_type": "display_data"
    },
    {
     "data": {
      "text/plain": [
       "(4500, 784)"
      ]
     },
     "metadata": {},
     "output_type": "display_data"
    },
    {
     "data": {
      "text/plain": [
       "(4500,)"
      ]
     },
     "metadata": {},
     "output_type": "display_data"
    },
    {
     "data": {
      "text/plain": [
       "(4500,)"
      ]
     },
     "metadata": {},
     "output_type": "display_data"
    },
    {
     "data": {
      "text/plain": [
       "(500,)"
      ]
     },
     "metadata": {},
     "output_type": "display_data"
    }
   ],
   "source": [
    "digits = pd.read_csv('./digits.csv')\n",
    "\n",
    "index = np.random.randint(0,42000,size = 5000)\n",
    "\n",
    "data = digits.take(index)\n",
    "\n",
    "X = data.iloc[:,1:]\n",
    "y = data['label']\n",
    "display(X.shape,y.shape)\n",
    "\n",
    "X_train,X_test,y_train,y_test = train_test_split(X,y,test_size=0.1)\n",
    "\n",
    "display(X_train.head(),X_train.shape,y_train.shape,y_train.shape,y_test.shape)"
   ]
  },
  {
   "cell_type": "markdown",
   "id": "f26d777c",
   "metadata": {},
   "source": [
    "## 建模对比"
   ]
  },
  {
   "cell_type": "markdown",
   "id": "f3ecf314",
   "metadata": {},
   "source": [
    "### 逻辑回归"
   ]
  },
  {
   "cell_type": "code",
   "execution_count": 14,
   "id": "d6feb1c0",
   "metadata": {
    "ExecuteTime": {
     "end_time": "2022-04-22T11:09:51.293550Z",
     "start_time": "2022-04-22T11:09:51.283936Z"
    }
   },
   "outputs": [],
   "source": [
    "import warnings\n",
    "warnings.filterwarnings('ignore')"
   ]
  },
  {
   "cell_type": "code",
   "execution_count": 15,
   "id": "e88e558a",
   "metadata": {
    "ExecuteTime": {
     "end_time": "2022-04-22T11:11:04.560878Z",
     "start_time": "2022-04-22T11:11:03.685041Z"
    }
   },
   "outputs": [
    {
     "name": "stdout",
     "output_type": "stream",
     "text": [
      "CPU times: user 4.71 s, sys: 1.04 s, total: 5.75 s\n",
      "Wall time: 869 ms\n"
     ]
    },
    {
     "data": {
      "text/plain": [
       "0.88"
      ]
     },
     "execution_count": 15,
     "metadata": {},
     "output_type": "execute_result"
    }
   ],
   "source": [
    "%%time\n",
    "model = LogisticRegression(max_iter=100)\n",
    "model.fit(X_train,y_train)\n",
    "model.score(X_test,y_test)"
   ]
  },
  {
   "cell_type": "markdown",
   "id": "6821b84f",
   "metadata": {},
   "source": [
    "### SVM支持向量机"
   ]
  },
  {
   "cell_type": "code",
   "execution_count": 16,
   "id": "5b86ce57",
   "metadata": {
    "ExecuteTime": {
     "end_time": "2022-04-22T11:12:27.150444Z",
     "start_time": "2022-04-22T11:12:25.191323Z"
    }
   },
   "outputs": [
    {
     "name": "stdout",
     "output_type": "stream",
     "text": [
      "CPU times: user 1.93 s, sys: 23.4 ms, total: 1.95 s\n",
      "Wall time: 1.95 s\n"
     ]
    },
    {
     "data": {
      "text/plain": [
       "0.96"
      ]
     },
     "execution_count": 16,
     "metadata": {},
     "output_type": "execute_result"
    }
   ],
   "source": [
    "%%time\n",
    "model = SVC()\n",
    "model.fit(X_train,y_train)\n",
    "model.score(X_test,y_test)"
   ]
  },
  {
   "cell_type": "markdown",
   "id": "56ba8fbf",
   "metadata": {},
   "source": [
    "## 100次运算平均分"
   ]
  },
  {
   "cell_type": "markdown",
   "id": "323e28a1",
   "metadata": {},
   "source": [
    "### 数据预处理"
   ]
  },
  {
   "cell_type": "code",
   "execution_count": 17,
   "id": "f8013a2c",
   "metadata": {
    "ExecuteTime": {
     "end_time": "2022-04-22T11:13:36.637736Z",
     "start_time": "2022-04-22T11:13:36.625042Z"
    }
   },
   "outputs": [
    {
     "data": {
      "text/plain": [
       "(5000, 784)"
      ]
     },
     "execution_count": 17,
     "metadata": {},
     "output_type": "execute_result"
    }
   ],
   "source": [
    "X.shape"
   ]
  },
  {
   "cell_type": "code",
   "execution_count": 18,
   "id": "5d887423",
   "metadata": {
    "ExecuteTime": {
     "end_time": "2022-04-22T11:13:42.215992Z",
     "start_time": "2022-04-22T11:13:42.187954Z"
    }
   },
   "outputs": [
    {
     "data": {
      "text/html": [
       "<div>\n",
       "<style scoped>\n",
       "    .dataframe tbody tr th:only-of-type {\n",
       "        vertical-align: middle;\n",
       "    }\n",
       "\n",
       "    .dataframe tbody tr th {\n",
       "        vertical-align: top;\n",
       "    }\n",
       "\n",
       "    .dataframe thead th {\n",
       "        text-align: right;\n",
       "    }\n",
       "</style>\n",
       "<table border=\"1\" class=\"dataframe\">\n",
       "  <thead>\n",
       "    <tr style=\"text-align: right;\">\n",
       "      <th></th>\n",
       "      <th>pixel0</th>\n",
       "      <th>pixel1</th>\n",
       "      <th>pixel2</th>\n",
       "      <th>pixel3</th>\n",
       "      <th>pixel4</th>\n",
       "      <th>pixel5</th>\n",
       "      <th>pixel6</th>\n",
       "      <th>pixel7</th>\n",
       "      <th>pixel8</th>\n",
       "      <th>pixel9</th>\n",
       "      <th>...</th>\n",
       "      <th>pixel774</th>\n",
       "      <th>pixel775</th>\n",
       "      <th>pixel776</th>\n",
       "      <th>pixel777</th>\n",
       "      <th>pixel778</th>\n",
       "      <th>pixel779</th>\n",
       "      <th>pixel780</th>\n",
       "      <th>pixel781</th>\n",
       "      <th>pixel782</th>\n",
       "      <th>pixel783</th>\n",
       "    </tr>\n",
       "  </thead>\n",
       "  <tbody>\n",
       "    <tr>\n",
       "      <th>5349</th>\n",
       "      <td>0</td>\n",
       "      <td>0</td>\n",
       "      <td>0</td>\n",
       "      <td>0</td>\n",
       "      <td>0</td>\n",
       "      <td>0</td>\n",
       "      <td>0</td>\n",
       "      <td>0</td>\n",
       "      <td>0</td>\n",
       "      <td>0</td>\n",
       "      <td>...</td>\n",
       "      <td>0</td>\n",
       "      <td>0</td>\n",
       "      <td>0</td>\n",
       "      <td>0</td>\n",
       "      <td>0</td>\n",
       "      <td>0</td>\n",
       "      <td>0</td>\n",
       "      <td>0</td>\n",
       "      <td>0</td>\n",
       "      <td>0</td>\n",
       "    </tr>\n",
       "    <tr>\n",
       "      <th>28509</th>\n",
       "      <td>0</td>\n",
       "      <td>0</td>\n",
       "      <td>0</td>\n",
       "      <td>0</td>\n",
       "      <td>0</td>\n",
       "      <td>0</td>\n",
       "      <td>0</td>\n",
       "      <td>0</td>\n",
       "      <td>0</td>\n",
       "      <td>0</td>\n",
       "      <td>...</td>\n",
       "      <td>0</td>\n",
       "      <td>0</td>\n",
       "      <td>0</td>\n",
       "      <td>0</td>\n",
       "      <td>0</td>\n",
       "      <td>0</td>\n",
       "      <td>0</td>\n",
       "      <td>0</td>\n",
       "      <td>0</td>\n",
       "      <td>0</td>\n",
       "    </tr>\n",
       "    <tr>\n",
       "      <th>7175</th>\n",
       "      <td>0</td>\n",
       "      <td>0</td>\n",
       "      <td>0</td>\n",
       "      <td>0</td>\n",
       "      <td>0</td>\n",
       "      <td>0</td>\n",
       "      <td>0</td>\n",
       "      <td>0</td>\n",
       "      <td>0</td>\n",
       "      <td>0</td>\n",
       "      <td>...</td>\n",
       "      <td>0</td>\n",
       "      <td>0</td>\n",
       "      <td>0</td>\n",
       "      <td>0</td>\n",
       "      <td>0</td>\n",
       "      <td>0</td>\n",
       "      <td>0</td>\n",
       "      <td>0</td>\n",
       "      <td>0</td>\n",
       "      <td>0</td>\n",
       "    </tr>\n",
       "    <tr>\n",
       "      <th>15798</th>\n",
       "      <td>0</td>\n",
       "      <td>0</td>\n",
       "      <td>0</td>\n",
       "      <td>0</td>\n",
       "      <td>0</td>\n",
       "      <td>0</td>\n",
       "      <td>0</td>\n",
       "      <td>0</td>\n",
       "      <td>0</td>\n",
       "      <td>0</td>\n",
       "      <td>...</td>\n",
       "      <td>0</td>\n",
       "      <td>0</td>\n",
       "      <td>0</td>\n",
       "      <td>0</td>\n",
       "      <td>0</td>\n",
       "      <td>0</td>\n",
       "      <td>0</td>\n",
       "      <td>0</td>\n",
       "      <td>0</td>\n",
       "      <td>0</td>\n",
       "    </tr>\n",
       "    <tr>\n",
       "      <th>11161</th>\n",
       "      <td>0</td>\n",
       "      <td>0</td>\n",
       "      <td>0</td>\n",
       "      <td>0</td>\n",
       "      <td>0</td>\n",
       "      <td>0</td>\n",
       "      <td>0</td>\n",
       "      <td>0</td>\n",
       "      <td>0</td>\n",
       "      <td>0</td>\n",
       "      <td>...</td>\n",
       "      <td>0</td>\n",
       "      <td>0</td>\n",
       "      <td>0</td>\n",
       "      <td>0</td>\n",
       "      <td>0</td>\n",
       "      <td>0</td>\n",
       "      <td>0</td>\n",
       "      <td>0</td>\n",
       "      <td>0</td>\n",
       "      <td>0</td>\n",
       "    </tr>\n",
       "    <tr>\n",
       "      <th>...</th>\n",
       "      <td>...</td>\n",
       "      <td>...</td>\n",
       "      <td>...</td>\n",
       "      <td>...</td>\n",
       "      <td>...</td>\n",
       "      <td>...</td>\n",
       "      <td>...</td>\n",
       "      <td>...</td>\n",
       "      <td>...</td>\n",
       "      <td>...</td>\n",
       "      <td>...</td>\n",
       "      <td>...</td>\n",
       "      <td>...</td>\n",
       "      <td>...</td>\n",
       "      <td>...</td>\n",
       "      <td>...</td>\n",
       "      <td>...</td>\n",
       "      <td>...</td>\n",
       "      <td>...</td>\n",
       "      <td>...</td>\n",
       "      <td>...</td>\n",
       "    </tr>\n",
       "    <tr>\n",
       "      <th>26276</th>\n",
       "      <td>0</td>\n",
       "      <td>0</td>\n",
       "      <td>0</td>\n",
       "      <td>0</td>\n",
       "      <td>0</td>\n",
       "      <td>0</td>\n",
       "      <td>0</td>\n",
       "      <td>0</td>\n",
       "      <td>0</td>\n",
       "      <td>0</td>\n",
       "      <td>...</td>\n",
       "      <td>0</td>\n",
       "      <td>0</td>\n",
       "      <td>0</td>\n",
       "      <td>0</td>\n",
       "      <td>0</td>\n",
       "      <td>0</td>\n",
       "      <td>0</td>\n",
       "      <td>0</td>\n",
       "      <td>0</td>\n",
       "      <td>0</td>\n",
       "    </tr>\n",
       "    <tr>\n",
       "      <th>22813</th>\n",
       "      <td>0</td>\n",
       "      <td>0</td>\n",
       "      <td>0</td>\n",
       "      <td>0</td>\n",
       "      <td>0</td>\n",
       "      <td>0</td>\n",
       "      <td>0</td>\n",
       "      <td>0</td>\n",
       "      <td>0</td>\n",
       "      <td>0</td>\n",
       "      <td>...</td>\n",
       "      <td>0</td>\n",
       "      <td>0</td>\n",
       "      <td>0</td>\n",
       "      <td>0</td>\n",
       "      <td>0</td>\n",
       "      <td>0</td>\n",
       "      <td>0</td>\n",
       "      <td>0</td>\n",
       "      <td>0</td>\n",
       "      <td>0</td>\n",
       "    </tr>\n",
       "    <tr>\n",
       "      <th>40180</th>\n",
       "      <td>0</td>\n",
       "      <td>0</td>\n",
       "      <td>0</td>\n",
       "      <td>0</td>\n",
       "      <td>0</td>\n",
       "      <td>0</td>\n",
       "      <td>0</td>\n",
       "      <td>0</td>\n",
       "      <td>0</td>\n",
       "      <td>0</td>\n",
       "      <td>...</td>\n",
       "      <td>0</td>\n",
       "      <td>0</td>\n",
       "      <td>0</td>\n",
       "      <td>0</td>\n",
       "      <td>0</td>\n",
       "      <td>0</td>\n",
       "      <td>0</td>\n",
       "      <td>0</td>\n",
       "      <td>0</td>\n",
       "      <td>0</td>\n",
       "    </tr>\n",
       "    <tr>\n",
       "      <th>7549</th>\n",
       "      <td>0</td>\n",
       "      <td>0</td>\n",
       "      <td>0</td>\n",
       "      <td>0</td>\n",
       "      <td>0</td>\n",
       "      <td>0</td>\n",
       "      <td>0</td>\n",
       "      <td>0</td>\n",
       "      <td>0</td>\n",
       "      <td>0</td>\n",
       "      <td>...</td>\n",
       "      <td>0</td>\n",
       "      <td>0</td>\n",
       "      <td>0</td>\n",
       "      <td>0</td>\n",
       "      <td>0</td>\n",
       "      <td>0</td>\n",
       "      <td>0</td>\n",
       "      <td>0</td>\n",
       "      <td>0</td>\n",
       "      <td>0</td>\n",
       "    </tr>\n",
       "    <tr>\n",
       "      <th>30187</th>\n",
       "      <td>0</td>\n",
       "      <td>0</td>\n",
       "      <td>0</td>\n",
       "      <td>0</td>\n",
       "      <td>0</td>\n",
       "      <td>0</td>\n",
       "      <td>0</td>\n",
       "      <td>0</td>\n",
       "      <td>0</td>\n",
       "      <td>0</td>\n",
       "      <td>...</td>\n",
       "      <td>0</td>\n",
       "      <td>0</td>\n",
       "      <td>0</td>\n",
       "      <td>0</td>\n",
       "      <td>0</td>\n",
       "      <td>0</td>\n",
       "      <td>0</td>\n",
       "      <td>0</td>\n",
       "      <td>0</td>\n",
       "      <td>0</td>\n",
       "    </tr>\n",
       "  </tbody>\n",
       "</table>\n",
       "<p>5000 rows × 784 columns</p>\n",
       "</div>"
      ],
      "text/plain": [
       "       pixel0  pixel1  pixel2  pixel3  pixel4  pixel5  pixel6  pixel7  pixel8  \\\n",
       "5349        0       0       0       0       0       0       0       0       0   \n",
       "28509       0       0       0       0       0       0       0       0       0   \n",
       "7175        0       0       0       0       0       0       0       0       0   \n",
       "15798       0       0       0       0       0       0       0       0       0   \n",
       "11161       0       0       0       0       0       0       0       0       0   \n",
       "...       ...     ...     ...     ...     ...     ...     ...     ...     ...   \n",
       "26276       0       0       0       0       0       0       0       0       0   \n",
       "22813       0       0       0       0       0       0       0       0       0   \n",
       "40180       0       0       0       0       0       0       0       0       0   \n",
       "7549        0       0       0       0       0       0       0       0       0   \n",
       "30187       0       0       0       0       0       0       0       0       0   \n",
       "\n",
       "       pixel9  ...  pixel774  pixel775  pixel776  pixel777  pixel778  \\\n",
       "5349        0  ...         0         0         0         0         0   \n",
       "28509       0  ...         0         0         0         0         0   \n",
       "7175        0  ...         0         0         0         0         0   \n",
       "15798       0  ...         0         0         0         0         0   \n",
       "11161       0  ...         0         0         0         0         0   \n",
       "...       ...  ...       ...       ...       ...       ...       ...   \n",
       "26276       0  ...         0         0         0         0         0   \n",
       "22813       0  ...         0         0         0         0         0   \n",
       "40180       0  ...         0         0         0         0         0   \n",
       "7549        0  ...         0         0         0         0         0   \n",
       "30187       0  ...         0         0         0         0         0   \n",
       "\n",
       "       pixel779  pixel780  pixel781  pixel782  pixel783  \n",
       "5349          0         0         0         0         0  \n",
       "28509         0         0         0         0         0  \n",
       "7175          0         0         0         0         0  \n",
       "15798         0         0         0         0         0  \n",
       "11161         0         0         0         0         0  \n",
       "...         ...       ...       ...       ...       ...  \n",
       "26276         0         0         0         0         0  \n",
       "22813         0         0         0         0         0  \n",
       "40180         0         0         0         0         0  \n",
       "7549          0         0         0         0         0  \n",
       "30187         0         0         0         0         0  \n",
       "\n",
       "[5000 rows x 784 columns]"
      ]
     },
     "execution_count": 18,
     "metadata": {},
     "output_type": "execute_result"
    }
   ],
   "source": [
    "X"
   ]
  },
  {
   "cell_type": "code",
   "execution_count": 19,
   "id": "6b9116a7",
   "metadata": {
    "ExecuteTime": {
     "end_time": "2022-04-22T11:14:25.399282Z",
     "start_time": "2022-04-22T11:14:25.389937Z"
    }
   },
   "outputs": [],
   "source": [
    "import matplotlib.pyplot as plt"
   ]
  },
  {
   "cell_type": "code",
   "execution_count": 26,
   "id": "085a3c88",
   "metadata": {
    "ExecuteTime": {
     "end_time": "2022-04-22T11:18:51.175210Z",
     "start_time": "2022-04-22T11:18:51.089095Z"
    }
   },
   "outputs": [
    {
     "name": "stdout",
     "output_type": "stream",
     "text": [
      "(784,)\n"
     ]
    },
    {
     "data": {
      "text/plain": [
       "<matplotlib.image.AxesImage at 0x7fa300a15fa0>"
      ]
     },
     "execution_count": 26,
     "metadata": {},
     "output_type": "execute_result"
    },
    {
     "data": {
      "image/png": "[encoded data removed]",
      "text/plain": [
       "<Figure size 432x288 with 1 Axes>"
      ]
     },
     "metadata": {
      "needs_background": "light"
     },
     "output_type": "display_data"
    }
   ],
   "source": [
    "index = np.random.randint(0,5000,size = 1)[0]\n",
    "index\n",
    "num = X.iloc[index].values\n",
    "print(num.shape)\n",
    "plt.imshow(num.reshape(28,28),cmap='gray')"
   ]
  },
  {
   "cell_type": "markdown",
   "id": "bfeef20e",
   "metadata": {},
   "source": [
    "### PCA 降维"
   ]
  },
  {
   "cell_type": "code",
   "execution_count": 27,
   "id": "c8529f3c",
   "metadata": {
    "ExecuteTime": {
     "end_time": "2022-04-22T11:20:49.679496Z",
     "start_time": "2022-04-22T11:20:48.979229Z"
    }
   },
   "outputs": [
    {
     "data": {
      "text/plain": [
       "(5000, 148)"
      ]
     },
     "execution_count": 27,
     "metadata": {},
     "output_type": "execute_result"
    }
   ],
   "source": [
    "pca = PCA(n_components=0.95) # 降维算法，n_components = 0.95保留95%重要的信息\n",
    "\n",
    "# 依然代表原来的数据\n",
    "X_pca = pca.fit_transform(X)\n",
    "\n",
    "X_pca.shape"
   ]
  },
  {
   "cell_type": "markdown",
   "id": "07be8073",
   "metadata": {},
   "source": [
    "### 逻辑斯蒂100次运算平均分"
   ]
  },
  {
   "cell_type": "code",
   "execution_count": 28,
   "id": "971aacf7",
   "metadata": {
    "ExecuteTime": {
     "end_time": "2022-04-22T11:23:37.895639Z",
     "start_time": "2022-04-22T11:22:58.789825Z"
    }
   },
   "outputs": [
    {
     "name": "stdout",
     "output_type": "stream",
     "text": [
      "逻辑回归100次平均得分： 0.8548000000000002\n",
      "CPU times: user 3min 9s, sys: 43.4 s, total: 3min 52s\n",
      "Wall time: 39.1 s\n"
     ]
    }
   ],
   "source": [
    "%%time\n",
    "score = 0\n",
    "for i in range(100):\n",
    "    # 随机拆分\n",
    "    X_train,X_test,y_train,y_test = train_test_split(X_pca,y,test_size=0.1)\n",
    "    \n",
    "    model = LogisticRegression()\n",
    "    \n",
    "    model.fit(X_train,y_train)\n",
    "    \n",
    "    score += model.score(X_test,y_test)/100\n",
    "    \n",
    "print('逻辑回归100次平均得分：',score)"
   ]
  },
  {
   "cell_type": "markdown",
   "id": "499fa94f",
   "metadata": {},
   "source": [
    "### 支持向量机100次运算平均分"
   ]
  },
  {
   "cell_type": "code",
   "execution_count": 29,
   "id": "6fba0f6c",
   "metadata": {
    "ExecuteTime": {
     "end_time": "2022-04-22T11:25:38.954422Z",
     "start_time": "2022-04-22T11:24:09.883109Z"
    }
   },
   "outputs": [
    {
     "name": "stdout",
     "output_type": "stream",
     "text": [
      "支持向量机100次平均得分： 0.9601199999999999\n",
      "CPU times: user 1min 28s, sys: 440 ms, total: 1min 29s\n",
      "Wall time: 1min 29s\n"
     ]
    }
   ],
   "source": [
    "%%time\n",
    "score = 0\n",
    "for i in range(100):\n",
    "    \n",
    "    X_train,X_test,y_train,y_test = train_test_split(X_pca,y,test_size=0.1)\n",
    "    \n",
    "    model = SVC()\n",
    "    \n",
    "    model.fit(X_train,y_train)\n",
    "    \n",
    "    score += model.score(X_test,y_test)/100\n",
    "    \n",
    "print('支持向量机100次平均得分：',score)"
   ]
  },
  {
   "cell_type": "code",
   "execution_count": 30,
   "id": "22d3c4ad",
   "metadata": {
    "ExecuteTime": {
     "end_time": "2022-04-22T11:25:39.017845Z",
     "start_time": "2022-04-22T11:25:39.015750Z"
    }
   },
   "outputs": [
    {
     "name": "stdout",
     "output_type": "stream",
     "text": [
      "division by zero\n"
     ]
    }
   ],
   "source": [
    "try:\n",
    "    print(10/0)\n",
    "except Exception as e:\n",
    "    print(e)"
   ]
  },
  {
   "cell_type": "markdown",
   "id": "2019732f",
   "metadata": {},
   "source": [
    "# SVC核函数"
   ]
  },
  {
   "cell_type": "markdown",
   "id": "f7e68d9a",
   "metadata": {},
   "source": [
    "## 导包"
   ]
  },
  {
   "cell_type": "code",
   "execution_count": 31,
   "id": "1cdb51d0",
   "metadata": {
    "ExecuteTime": {
     "end_time": "2022-04-22T11:30:05.467811Z",
     "start_time": "2022-04-22T11:30:05.456543Z"
    }
   },
   "outputs": [],
   "source": [
    "import numpy as np\n",
    "from sklearn import datasets\n",
    "from sklearn.svm import SVC\n",
    "from sklearn.model_selection import train_test_split\n",
    "from sklearn.metrics import accuracy_score"
   ]
  },
  {
   "cell_type": "markdown",
   "id": "4def60cf",
   "metadata": {},
   "source": [
    "## 加载拆分数据"
   ]
  },
  {
   "cell_type": "code",
   "execution_count": 38,
   "id": "9144c373",
   "metadata": {
    "ExecuteTime": {
     "end_time": "2022-04-22T11:36:53.392732Z",
     "start_time": "2022-04-22T11:36:53.373178Z"
    }
   },
   "outputs": [
    {
     "data": {
      "text/plain": [
       "(178, 13)"
      ]
     },
     "metadata": {},
     "output_type": "display_data"
    },
    {
     "data": {
      "text/plain": [
       "(178,)"
      ]
     },
     "metadata": {},
     "output_type": "display_data"
    },
    {
     "data": {
      "text/plain": [
       "array([0, 1, 2])"
      ]
     },
     "execution_count": 38,
     "metadata": {},
     "output_type": "execute_result"
    }
   ],
   "source": [
    "X,y = datasets.load_wine(return_X_y=True)\n",
    "display(X.shape,y.shape)\n",
    "np.unique(y)"
   ]
  },
  {
   "cell_type": "code",
   "execution_count": 33,
   "id": "52febf29",
   "metadata": {
    "ExecuteTime": {
     "end_time": "2022-04-22T11:31:12.668628Z",
     "start_time": "2022-04-22T11:31:12.652850Z"
    }
   },
   "outputs": [
    {
     "data": {
      "text/plain": [
       "(142, 13)"
      ]
     },
     "execution_count": 33,
     "metadata": {},
     "output_type": "execute_result"
    }
   ],
   "source": [
    "X_train,X_test,y_train,y_test = train_test_split(X,y,test_size=0.2)\n",
    "X_train.shape"
   ]
  },
  {
   "cell_type": "markdown",
   "id": "6b846d0e",
   "metadata": {},
   "source": [
    "## 建模"
   ]
  },
  {
   "cell_type": "markdown",
   "id": "897c3a58",
   "metadata": {},
   "source": [
    "### 线性:linear"
   ]
  },
  {
   "cell_type": "code",
   "execution_count": 34,
   "id": "de74f6bc",
   "metadata": {
    "ExecuteTime": {
     "end_time": "2022-04-22T11:33:55.289322Z",
     "start_time": "2022-04-22T11:33:55.239448Z"
    }
   },
   "outputs": [
    {
     "name": "stdout",
     "output_type": "stream",
     "text": [
      "使用核函数为linear，得分是： 0.9722222222222222\n"
     ]
    },
    {
     "data": {
      "text/plain": [
       "array([[ 6.73164690e-01,  4.31113873e-01,  1.00829272e+00,\n",
       "        -1.96935864e-01, -1.17047802e-02, -6.34658004e-02,\n",
       "         1.50784829e-01,  2.27049049e-01, -1.16823925e-01,\n",
       "         1.66262734e-01, -1.56872949e-01,  4.33543895e-01,\n",
       "         8.58825478e-03],\n",
       "       [-3.75414424e-03,  7.14230155e-03,  1.40663650e-01,\n",
       "        -4.69969733e-02,  2.20766498e-03,  2.35410245e-01,\n",
       "         4.28130355e-01, -1.79127258e-02,  1.73152768e-01,\n",
       "        -8.74885021e-02,  1.02205705e-01,  4.15043584e-01,\n",
       "         1.41912705e-03],\n",
       "       [-5.09207976e-01, -3.13797928e-01, -4.57716391e-01,\n",
       "         6.48781832e-02, -4.19821629e-02,  1.77254162e-01,\n",
       "         1.51949229e+00,  1.82693557e-01,  1.47820493e-01,\n",
       "        -9.54157338e-01,  4.29007172e-01,  5.92349012e-01,\n",
       "        -2.15869317e-03]])"
      ]
     },
     "execution_count": 34,
     "metadata": {},
     "output_type": "execute_result"
    }
   ],
   "source": [
    "svc = SVC(kernel = 'linear')\n",
    "\n",
    "svc.fit(X_train,y_train)\n",
    "\n",
    "y_pred = svc.predict(X_test)\n",
    "\n",
    "score = accuracy_score(y_test, y_pred)\n",
    "print('使用核函数为linear，得分是：',score)\n",
    "\n",
    "svc.coef_"
   ]
  },
  {
   "cell_type": "code",
   "execution_count": 39,
   "id": "9aed1706",
   "metadata": {
    "ExecuteTime": {
     "end_time": "2022-04-22T11:37:31.122329Z",
     "start_time": "2022-04-22T11:37:31.104225Z"
    }
   },
   "outputs": [
    {
     "data": {
      "text/plain": [
       "array([-15.89829165,  -2.90927906,  13.10976344])"
      ]
     },
     "execution_count": 39,
     "metadata": {},
     "output_type": "execute_result"
    }
   ],
   "source": [
    "# 二维：shape = (3,13)\n",
    "# 三分类问题--->三个方程\n",
    "# 13个特征、属性，所以系数：13个\n",
    "svc.coef_\n",
    "svc.intercept_"
   ]
  },
  {
   "cell_type": "markdown",
   "id": "8d9bd388",
   "metadata": {},
   "source": [
    "### poly多项式（方程幂次大于1的~）"
   ]
  },
  {
   "cell_type": "code",
   "execution_count": 41,
   "id": "572eb17a",
   "metadata": {
    "ExecuteTime": {
     "end_time": "2022-04-22T11:39:01.671736Z",
     "start_time": "2022-04-22T11:39:01.655269Z"
    }
   },
   "outputs": [
    {
     "name": "stdout",
     "output_type": "stream",
     "text": [
      "使用核函数为poly，得分是： 0.7222222222222222\n"
     ]
    }
   ],
   "source": [
    "svc = SVC(kernel = 'poly',degree=2) # 升维，将数据由少变多\n",
    "\n",
    "svc.fit(X_train,y_train)\n",
    "\n",
    "y_pred = svc.predict(X_test)\n",
    "\n",
    "score = accuracy_score(y_test, y_pred)\n",
    "print('使用核函数为poly，得分是：',score)"
   ]
  },
  {
   "cell_type": "markdown",
   "id": "f524e484",
   "metadata": {},
   "source": [
    "### rbf高斯分布"
   ]
  },
  {
   "cell_type": "code",
   "execution_count": 42,
   "id": "cbf617fb",
   "metadata": {
    "ExecuteTime": {
     "end_time": "2022-04-22T11:39:58.076025Z",
     "start_time": "2022-04-22T11:39:58.058994Z"
    }
   },
   "outputs": [
    {
     "name": "stdout",
     "output_type": "stream",
     "text": [
      "使用核函数为rbf，得分是： 0.6944444444444444\n"
     ]
    }
   ],
   "source": [
    "svc = SVC(kernel = 'rbf') # 默认，一般这种核函数效果好，很多特征，属于正态分布\n",
    "\n",
    "svc.fit(X_train,y_train)\n",
    "\n",
    "y_pred = svc.predict(X_test)\n",
    "\n",
    "# 模型评估\n",
    "score = accuracy_score(y_test, y_pred)\n",
    "print('使用核函数为rbf，得分是：',score)"
   ]
  },
  {
   "cell_type": "markdown",
   "id": "efb2ab9f",
   "metadata": {},
   "source": [
    "### sigmoid核函数"
   ]
  },
  {
   "cell_type": "code",
   "execution_count": 43,
   "id": "069174af",
   "metadata": {
    "ExecuteTime": {
     "end_time": "2022-04-22T11:41:10.914504Z",
     "start_time": "2022-04-22T11:41:10.896564Z"
    }
   },
   "outputs": [
    {
     "name": "stdout",
     "output_type": "stream",
     "text": [
      "使用核函数为sigmod，得分是： 0.1111111111111111\n"
     ]
    }
   ],
   "source": [
    "svc = SVC(kernel = 'sigmoid') \n",
    "\n",
    "svc.fit(X_train,y_train)\n",
    "\n",
    "y_pred = svc.predict(X_test)\n",
    "\n",
    "# 模型评估\n",
    "score = accuracy_score(y_test, y_pred)\n",
    "print('使用核函数为sigmod，得分是：',score)"
   ]
  },
  {
   "cell_type": "markdown",
   "id": "968dce70",
   "metadata": {},
   "source": [
    "## 非线性核函数"
   ]
  },
  {
   "cell_type": "code",
   "execution_count": 44,
   "id": "4f4a2507",
   "metadata": {
    "ExecuteTime": {
     "end_time": "2022-04-22T11:42:35.193410Z",
     "start_time": "2022-04-22T11:42:35.183911Z"
    }
   },
   "outputs": [],
   "source": [
    "import matplotlib.pyplot as plt\n",
    "from matplotlib.colors import ListedColormap"
   ]
  },
  {
   "cell_type": "markdown",
   "id": "37964d59",
   "metadata": {},
   "source": [
    "### 创造数据"
   ]
  },
  {
   "cell_type": "code",
   "execution_count": 46,
   "id": "a3aa1684",
   "metadata": {
    "ExecuteTime": {
     "end_time": "2022-04-22T11:43:13.299775Z",
     "start_time": "2022-04-22T11:43:13.204450Z"
    }
   },
   "outputs": [
    {
     "data": {
      "text/plain": [
       "(100, 2)"
      ]
     },
     "metadata": {},
     "output_type": "display_data"
    },
    {
     "data": {
      "text/plain": [
       "(100,)"
      ]
     },
     "metadata": {},
     "output_type": "display_data"
    },
    {
     "data": {
      "text/plain": [
       "<matplotlib.collections.PathCollection at 0x7fa32056d5b0>"
      ]
     },
     "execution_count": 46,
     "metadata": {},
     "output_type": "execute_result"
    },
    {
     "data": {
      "image/png": "[encoded data removed]",
      "text/plain": [
       "<Figure size 360x360 with 1 Axes>"
      ]
     },
     "metadata": {
      "needs_background": "light"
     },
     "output_type": "display_data"
    }
   ],
   "source": [
    "X,y = datasets.make_circles(n_samples=100,factor=0.7)\n",
    "\n",
    "X += np.random.randn(100,2)*0.04\n",
    "\n",
    "display(X.shape,y.shape)\n",
    "plt.figure(figsize=(5,5))\n",
    "cmap = ListedColormap(colors = ['blue','red'])\n",
    "plt.scatter(X[:,0],X[:,1],c = y,cmap = cmap)"
   ]
  },
  {
   "cell_type": "markdown",
   "id": "9e229508",
   "metadata": {},
   "source": [
    "### 线性核函数¶"
   ]
  },
  {
   "cell_type": "code",
   "execution_count": 47,
   "id": "e39c074d",
   "metadata": {
    "ExecuteTime": {
     "end_time": "2022-04-22T11:44:33.837593Z",
     "start_time": "2022-04-22T11:44:33.821009Z"
    }
   },
   "outputs": [
    {
     "data": {
      "text/plain": [
       "0.52"
      ]
     },
     "execution_count": 47,
     "metadata": {},
     "output_type": "execute_result"
    }
   ],
   "source": [
    "svc = SVC(kernel='linear')\n",
    "svc.fit(X,y)\n",
    "svc.score(X,y)"
   ]
  },
  {
   "cell_type": "markdown",
   "id": "42cc5a9a",
   "metadata": {},
   "source": [
    "### 多项式poly（升维)"
   ]
  },
  {
   "cell_type": "code",
   "execution_count": 48,
   "id": "717e126d",
   "metadata": {
    "ExecuteTime": {
     "end_time": "2022-04-22T11:45:16.968235Z",
     "start_time": "2022-04-22T11:45:16.953505Z"
    }
   },
   "outputs": [
    {
     "data": {
      "text/plain": [
       "1.0"
      ]
     },
     "execution_count": 48,
     "metadata": {},
     "output_type": "execute_result"
    }
   ],
   "source": [
    "svc = SVC(kernel='poly',degree = 2)\n",
    "svc.fit(X,y)\n",
    "svc.score(X,y)"
   ]
  },
  {
   "cell_type": "markdown",
   "id": "15dbaa80",
   "metadata": {},
   "source": [
    "### rbf高斯核函数"
   ]
  },
  {
   "cell_type": "code",
   "execution_count": 49,
   "id": "9b9697fc",
   "metadata": {
    "ExecuteTime": {
     "end_time": "2022-04-22T11:45:48.650507Z",
     "start_time": "2022-04-22T11:45:48.632339Z"
    }
   },
   "outputs": [
    {
     "data": {
      "text/plain": [
       "1.0"
      ]
     },
     "execution_count": 49,
     "metadata": {},
     "output_type": "execute_result"
    }
   ],
   "source": [
    "svc = SVC(kernel='rbf')\n",
    "svc.fit(X,y)\n",
    "svc.score(X,y)"
   ]
  },
  {
   "cell_type": "markdown",
   "id": "6b30fbd1",
   "metadata": {},
   "source": [
    "# 天猫双十一销量数据预测"
   ]
  },
  {
   "cell_type": "markdown",
   "id": "edb5a9b0",
   "metadata": {},
   "source": [
    "## 导入包"
   ]
  },
  {
   "cell_type": "code",
   "execution_count": 2,
   "id": "d7424086",
   "metadata": {
    "ExecuteTime": {
     "end_time": "2022-04-23T03:15:21.025714Z",
     "start_time": "2022-04-23T03:15:20.479860Z"
    }
   },
   "outputs": [],
   "source": [
    "import numpy as np\n",
    "from sklearn.svm import SVR\n",
    "import matplotlib.pyplot as plt"
   ]
  },
  {
   "cell_type": "markdown",
   "id": "64941c3d",
   "metadata": {},
   "source": [
    "## 支持向量机回归问题"
   ]
  },
  {
   "cell_type": "markdown",
   "id": "4b7faa0c",
   "metadata": {},
   "source": [
    "### 创建数据"
   ]
  },
  {
   "cell_type": "code",
   "execution_count": 5,
   "id": "250a3133",
   "metadata": {
    "ExecuteTime": {
     "end_time": "2022-04-23T03:17:36.957432Z",
     "start_time": "2022-04-23T03:17:36.802449Z"
    }
   },
   "outputs": [
    {
     "data": {
      "text/plain": [
       "<matplotlib.collections.PathCollection at 0x7fde49668370>"
      ]
     },
     "execution_count": 5,
     "metadata": {},
     "output_type": "execute_result"
    },
    {
     "data": {
      "image/png": "[encoded data removed]",
      "text/plain": [
       "<Figure size 432x288 with 1 Axes>"
      ]
     },
     "metadata": {
      "needs_background": "light"
     },
     "output_type": "display_data"
    }
   ],
   "source": [
    "X = np.linspace(0,2*np.pi*2,100).reshape(-1,1)\n",
    "\n",
    "y = np.sin(X)\n",
    "\n",
    "plt.scatter(X,y,color =\"r\")"
   ]
  },
  {
   "cell_type": "markdown",
   "id": "c50eb32c",
   "metadata": {},
   "source": [
    "### 建模"
   ]
  },
  {
   "cell_type": "markdown",
   "id": "76166aa4",
   "metadata": {},
   "source": [
    "#### 线性核函数"
   ]
  },
  {
   "cell_type": "code",
   "execution_count": 7,
   "id": "fa2d272c",
   "metadata": {
    "ExecuteTime": {
     "end_time": "2022-04-23T03:19:39.210968Z",
     "start_time": "2022-04-23T03:19:39.118415Z"
    }
   },
   "outputs": [
    {
     "data": {
      "text/plain": [
       "[<matplotlib.lines.Line2D at 0x7fde49854e20>]"
      ]
     },
     "execution_count": 7,
     "metadata": {},
     "output_type": "execute_result"
    },
    {
     "data": {
      "image/png": "[encoded data removed]",
      "text/plain": [
       "<Figure size 432x288 with 1 Axes>"
      ]
     },
     "metadata": {
      "needs_background": "light"
     },
     "output_type": "display_data"
    }
   ],
   "source": [
    "svr = SVR(kernel='linear')\n",
    "svr.fit(X,y.ravel())\n",
    "\n",
    "y_ = svr.predict(X)\n",
    "plt.scatter(X,y)\n",
    "\n",
    "# 绘制预测结果\n",
    "plt.plot(X,y_,color = 'r')"
   ]
  },
  {
   "cell_type": "markdown",
   "id": "3a056a61",
   "metadata": {},
   "source": [
    "#### poly多项式核函数"
   ]
  },
  {
   "cell_type": "code",
   "execution_count": 10,
   "id": "17f4b640",
   "metadata": {
    "ExecuteTime": {
     "end_time": "2022-04-23T03:21:26.663409Z",
     "start_time": "2022-04-23T03:21:26.546878Z"
    }
   },
   "outputs": [
    {
     "data": {
      "text/plain": [
       "[<matplotlib.lines.Line2D at 0x7fde521d2250>]"
      ]
     },
     "execution_count": 10,
     "metadata": {},
     "output_type": "execute_result"
    },
    {
     "data": {
      "image/png": "[encoded data removed]",
      "text/plain": [
       "<Figure size 432x288 with 1 Axes>"
      ]
     },
     "metadata": {
      "needs_background": "light"
     },
     "output_type": "display_data"
    }
   ],
   "source": [
    "svr = SVR(kernel='poly',degree=4)\n",
    "svr.fit(X,y.ravel())\n",
    "\n",
    "y_ = svr.predict(X)\n",
    "plt.scatter(X,y)\n",
    "\n",
    "# 绘制预测结果\n",
    "plt.plot(X,y_,color = 'red')"
   ]
  },
  {
   "cell_type": "markdown",
   "id": "1e831b40",
   "metadata": {},
   "source": [
    "#### rbf径向基（高斯核函数）"
   ]
  },
  {
   "cell_type": "code",
   "execution_count": 11,
   "id": "660b1803",
   "metadata": {
    "ExecuteTime": {
     "end_time": "2022-04-23T03:22:32.485730Z",
     "start_time": "2022-04-23T03:22:32.393239Z"
    }
   },
   "outputs": [
    {
     "data": {
      "text/plain": [
       "[<matplotlib.lines.Line2D at 0x7fde522963d0>]"
      ]
     },
     "execution_count": 11,
     "metadata": {},
     "output_type": "execute_result"
    },
    {
     "data": {
      "image/png": "[encoded data removed]",
      "text/plain": [
       "<Figure size 432x288 with 1 Axes>"
      ]
     },
     "metadata": {
      "needs_background": "light"
     },
     "output_type": "display_data"
    }
   ],
   "source": [
    "svr = SVR(kernel='rbf')\n",
    "svr.fit(X,y.ravel())\n",
    "\n",
    "y_ = svr.predict(X)\n",
    "plt.scatter(X,y)\n",
    "\n",
    "# 绘制预测结果\n",
    "plt.plot(X,y_,color = 'red')"
   ]
  },
  {
   "cell_type": "code",
   "execution_count": 13,
   "id": "cf34b5ba",
   "metadata": {
    "ExecuteTime": {
     "end_time": "2022-04-23T03:23:13.630938Z",
     "start_time": "2022-04-23T03:23:13.536066Z"
    }
   },
   "outputs": [
    {
     "data": {
      "text/plain": [
       "[<matplotlib.lines.Line2D at 0x7fde52570070>]"
      ]
     },
     "execution_count": 13,
     "metadata": {},
     "output_type": "execute_result"
    },
    {
     "data": {
      "image/png": "[encoded data removed]",
      "text/plain": [
       "<Figure size 432x288 with 1 Axes>"
      ]
     },
     "metadata": {
      "needs_background": "light"
     },
     "output_type": "display_data"
    }
   ],
   "source": [
    "svr = SVR(kernel='rbf',coef0=2000,)\n",
    "svr.fit(X,y.ravel())\n",
    "\n",
    "y_ = svr.predict(X)\n",
    "plt.scatter(X,y)\n",
    "\n",
    "# 绘制预测结果\n",
    "plt.plot(X,y_,color = 'red')"
   ]
  },
  {
   "cell_type": "markdown",
   "id": "f6c1dc14",
   "metadata": {},
   "source": [
    "## 天猫双十一销量数据预测作业"
   ]
  },
  {
   "cell_type": "markdown",
   "id": "a54f7c93",
   "metadata": {},
   "source": [
    "### 数据创建"
   ]
  },
  {
   "cell_type": "code",
   "execution_count": 14,
   "id": "2904880a",
   "metadata": {
    "ExecuteTime": {
     "end_time": "2022-04-23T03:26:23.653767Z",
     "start_time": "2022-04-23T03:26:23.572346Z"
    }
   },
   "outputs": [
    {
     "data": {
      "text/plain": [
       "<matplotlib.collections.PathCollection at 0x7fde49a03b50>"
      ]
     },
     "execution_count": 14,
     "metadata": {},
     "output_type": "execute_result"
    },
    {
     "data": {
      "image/png": "[encoded data removed]",
      "text/plain": [
       "<Figure size 432x288 with 1 Axes>"
      ]
     },
     "metadata": {
      "needs_background": "light"
     },
     "output_type": "display_data"
    }
   ],
   "source": [
    "X = np.arange(2009,2020) - 2008\n",
    "\n",
    "y = np.array([0.5,9.36,52,191,350,571,912,1207,1682,2135,2684])\n",
    "\n",
    "plt.scatter(X,y,color = 'red')"
   ]
  },
  {
   "cell_type": "code",
   "execution_count": 15,
   "id": "90809ba2",
   "metadata": {
    "ExecuteTime": {
     "end_time": "2022-04-23T03:26:49.814633Z",
     "start_time": "2022-04-23T03:26:49.793997Z"
    }
   },
   "outputs": [],
   "source": [
    "# 划分份数多，画图，曲线平滑\n",
    "X_test = np.linspace(2009,2019,100).reshape(-1,1) - 2008"
   ]
  },
  {
   "cell_type": "markdown",
   "id": "74b1aa3e",
   "metadata": {},
   "source": [
    "### 线性核函数"
   ]
  },
  {
   "cell_type": "code",
   "execution_count": 20,
   "id": "2e4819ea",
   "metadata": {
    "ExecuteTime": {
     "end_time": "2022-04-23T03:38:56.287032Z",
     "start_time": "2022-04-23T03:38:56.202498Z"
    }
   },
   "outputs": [
    {
     "data": {
      "text/plain": [
       "array([[30.]])"
      ]
     },
     "execution_count": 20,
     "metadata": {},
     "output_type": "execute_result"
    },
    {
     "data": {
      "image/png": "[encoded data removed]",
      "text/plain": [
       "<Figure size 432x288 with 1 Axes>"
      ]
     },
     "metadata": {
      "needs_background": "light"
     },
     "output_type": "display_data"
    }
   ],
   "source": [
    "svr = SVR(kernel='linear')\n",
    "svr.fit(X.reshape(-1,1),y)\n",
    "\n",
    "y_ = svr.predict(X_test)\n",
    "plt.scatter(X,y)\n",
    "\n",
    "# 绘制预测结果\n",
    "plt.plot(X_test,y_,color = \"r\")\n",
    "\n",
    "svr.coef_"
   ]
  },
  {
   "cell_type": "markdown",
   "id": "afa18645",
   "metadata": {},
   "source": [
    "### rbf核函数"
   ]
  },
  {
   "cell_type": "code",
   "execution_count": 21,
   "id": "306906b5",
   "metadata": {
    "ExecuteTime": {
     "end_time": "2022-04-23T03:40:19.415266Z",
     "start_time": "2022-04-23T03:40:19.333793Z"
    }
   },
   "outputs": [
    {
     "data": {
      "text/plain": [
       "[<matplotlib.lines.Line2D at 0x7fde4a049ee0>]"
      ]
     },
     "execution_count": 21,
     "metadata": {},
     "output_type": "execute_result"
    },
    {
     "data": {
      "image/png": "[encoded data removed]",
      "text/plain": [
       "<Figure size 432x288 with 1 Axes>"
      ]
     },
     "metadata": {
      "needs_background": "light"
     },
     "output_type": "display_data"
    }
   ],
   "source": [
    "svr = SVR(kernel = 'rbf')\n",
    "svr.fit(X.reshape(-1,1),y)\n",
    "\n",
    "y_ = svr.predict(X_test)\n",
    "\n",
    "plt.scatter(X,y,color = 'red')\n",
    "\n",
    "plt.plot(X_test.ravel(),y_,color = 'green')\n",
    "\n",
    "# svr.coef_  没有这个参数"
   ]
  },
  {
   "cell_type": "markdown",
   "id": "a8509fa9",
   "metadata": {},
   "source": [
    "### 多项式poly"
   ]
  },
  {
   "cell_type": "code",
   "execution_count": 22,
   "id": "159092a8",
   "metadata": {
    "ExecuteTime": {
     "end_time": "2022-04-23T03:41:18.072018Z",
     "start_time": "2022-04-23T03:41:17.986408Z"
    }
   },
   "outputs": [
    {
     "data": {
      "text/plain": [
       "[<matplotlib.lines.Line2D at 0x7fde49eb03d0>]"
      ]
     },
     "execution_count": 22,
     "metadata": {},
     "output_type": "execute_result"
    },
    {
     "data": {
      "image/png": "[encoded data removed]",
      "text/plain": [
       "<Figure size 432x288 with 1 Axes>"
      ]
     },
     "metadata": {
      "needs_background": "light"
     },
     "output_type": "display_data"
    }
   ],
   "source": [
    "# coef --->coefficient 系数\n",
    "# coef0 ---> bias，截距,w0\n",
    "# w1，w2,w3,wn\n",
    "svr = SVR(kernel = 'poly',coef0=200)\n",
    "svr.fit(X.reshape(-1,1),y)\n",
    "\n",
    "y_ = svr.predict(X_test)\n",
    "\n",
    "plt.scatter(X,y,color = 'red')\n",
    "\n",
    "plt.plot(X_test.ravel(),y_,color = 'green')\n",
    "# svr.coef_  没有此参数"
   ]
  }
 ],
 "metadata": {
  "hide_input": false,
  "kernelspec": {
   "display_name": "Python 3 (ipykernel)",
   "language": "python",
   "name": "python3"
  },
  "language_info": {
   "codemirror_mode": {
    "name": "ipython",
    "version": 3
   },
   "file_extension": ".py",
   "mimetype": "text/x-python",
   "name": "python",
   "nbconvert_exporter": "python",
   "pygments_lexer": "ipython3",
   "version": "3.9.7"
  },
  "nbTranslate": {
   "displayLangs": [
    "*"
   ],
   "hotkey": "alt-t",
   "langInMainMenu": true,
   "sourceLang": "en",
   "targetLang": "fr",
   "useGoogleTranslate": true
  },
  "toc": {
   "base_numbering": 1,
   "nav_menu": {},
   "number_sections": true,
   "sideBar": true,
   "skip_h1_title": false,
   "title_cell": "Table of Contents",
   "title_sidebar": "Contents",
   "toc_cell": false,
   "toc_position": {
    "height": "calc(100% - 180px)",
    "left": "10px",
    "top": "150px",
    "width": "278.59375px"
   },
   "toc_section_display": true,
   "toc_window_display": true
  },
  "varInspector": {
   "cols": {
    "lenName": 16,
    "lenType": 16,
    "lenVar": 40
   },
   "kernels_config": {
    "python": {
     "delete_cmd_postfix": "",
     "delete_cmd_prefix": "del ",
     "library": "var_list.py",
     "varRefreshCmd": "print(var_dic_list())"
    },
    "r": {
     "delete_cmd_postfix": ") ",
     "delete_cmd_prefix": "rm(",
     "library": "var_list.r",
     "varRefreshCmd": "cat(var_dic_list()) "
    }
   },
   "types_to_exclude": [
    "module",
    "function",
    "builtin_function_or_method",
    "instance",
    "_Feature"
   ],
   "window_display": false
  }
 },
 "nbformat": 4,
 "nbformat_minor": 5
}
